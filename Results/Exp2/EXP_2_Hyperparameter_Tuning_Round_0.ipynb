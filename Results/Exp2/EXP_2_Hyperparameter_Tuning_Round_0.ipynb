{
 "cells": [
  {
   "cell_type": "code",
   "execution_count": 1,
   "metadata": {},
   "outputs": [
    {
     "name": "stderr",
     "output_type": "stream",
     "text": [
      "2024-03-28 18:47:23.897316: I tensorflow/core/util/port.cc:113] oneDNN custom operations are on. You may see slightly different numerical results due to floating-point round-off errors from different computation orders. To turn them off, set the environment variable `TF_ENABLE_ONEDNN_OPTS=0`.\n",
      "2024-03-28 18:47:23.974317: I external/local_tsl/tsl/cuda/cudart_stub.cc:31] Could not find cuda drivers on your machine, GPU will not be used.\n",
      "2024-03-28 18:47:24.354085: E external/local_xla/xla/stream_executor/cuda/cuda_dnn.cc:9261] Unable to register cuDNN factory: Attempting to register factory for plugin cuDNN when one has already been registered\n",
      "2024-03-28 18:47:24.354203: E external/local_xla/xla/stream_executor/cuda/cuda_fft.cc:607] Unable to register cuFFT factory: Attempting to register factory for plugin cuFFT when one has already been registered\n",
      "2024-03-28 18:47:24.419479: E external/local_xla/xla/stream_executor/cuda/cuda_blas.cc:1515] Unable to register cuBLAS factory: Attempting to register factory for plugin cuBLAS when one has already been registered\n",
      "2024-03-28 18:47:24.564543: I tensorflow/core/platform/cpu_feature_guard.cc:182] This TensorFlow binary is optimized to use available CPU instructions in performance-critical operations.\n",
      "To enable the following instructions: AVX2 AVX_VNNI FMA, in other operations, rebuild TensorFlow with the appropriate compiler flags.\n",
      "2024-03-28 18:47:25.706571: W tensorflow/compiler/tf2tensorrt/utils/py_utils.cc:38] TF-TRT Warning: Could not find TensorRT\n",
      "Global seed set to 0\n"
     ]
    },
    {
     "data": {
      "text/plain": [
       "0"
      ]
     },
     "execution_count": 1,
     "metadata": {},
     "output_type": "execute_result"
    }
   ],
   "source": [
    "import os\n",
    "import sys\n",
    "\n",
    "\"\"\"Linux\"\"\"\n",
    "os.chdir(\"/home/optimusprime/Desktop/peeterson/github/DeepAR_demand_prediction/Rental_Fleet_Demand_Forecast\")\n",
    "sys.path.append(os.path.abspath(os.path.join(\"/home/optimusprime/Desktop/peeterson/github/DeepAR_demand_prediction/Rental_Fleet_Demand_Forecast\")))\n",
    "\n",
    "os.chdir(\"/home/optimusprime/Desktop/peeterson/github/DeepAR_demand_prediction/Rental_Fleet_Demand_Forecast/libs/linux-gpu\")\n",
    "\n",
    "\n",
    "#from ctypes import FormatError\n",
    "import numpy as np\n",
    "\n",
    "import warnings\n",
    "warnings.filterwarnings(\"ignore\")\n",
    "\n",
    "import os,sys\n",
    "\n",
    "import torch\n",
    "torch.use_deterministic_algorithms(True)\n",
    "import pytorch_lightning as pl\n",
    "from pytorch_forecasting.data.encoders import TorchNormalizer\n",
    "from pytorch_forecasting.metrics import SMAPE, RMSE\n",
    "from torchmetrics import R2Score, SymmetricMeanAbsolutePercentageError, MeanSquaredError\n",
    "\n",
    "import matplotlib.pyplot as plt\n",
    "import pandas as pd\n",
    "from pytorch_forecasting.data import TimeSeriesDataSet\n",
    "from pytorch_forecasting.data.encoders import NaNLabelEncoder\n",
    "from pytorch_lightning.callbacks import EarlyStopping, LearningRateMonitor\n",
    "import torch\n",
    "from pytorch_forecasting.data.encoders import TorchNormalizer\n",
    "import os,sys\n",
    "import numpy as np\n",
    "from statsmodels.tsa.stattools import adfuller\n",
    "from statsmodels.tsa.seasonal import seasonal_decompose\n",
    "from statsmodels.graphics.tsaplots import plot_acf\n",
    "from statsmodels.graphics.tsaplots import plot_pacf\n",
    "from statsmodels.tsa.stattools import acf,pacf\n",
    "from scipy.signal import find_peaks\n",
    "import operator\n",
    "import statsmodels.api as sm\n",
    "from itertools import combinations\n",
    "import pickle\n",
    "from pytorch_forecasting import Baseline\n",
    "import random\n",
    "from pytorch_forecasting import DeepAR,NegativeBinomialDistributionLoss\n",
    "from itertools import product\n",
    "from sklearn.metrics import mean_absolute_error, mean_squared_error\n",
    "import optuna\n",
    "from optuna.trial import TrialState\n",
    "import plotly\n",
    "#from deepar_RegionWise_LinuxGpu_prediction_dev import train_and_forecast\n",
    "from sklearn.metrics import classification_report\n",
    "\n",
    "\"\"\"\n",
    "Set Random seed\n",
    "\"\"\"\n",
    "\n",
    "random.seed(0)\n",
    "torch.manual_seed(0)\n",
    "np.random.seed(0)\n",
    "## additional seeding to ensure reproduciblility.\n",
    "pl.seed_everything(0)"
   ]
  },
  {
   "cell_type": "code",
   "execution_count": null,
   "metadata": {},
   "outputs": [],
   "source": []
  },
  {
   "cell_type": "markdown",
   "metadata": {},
   "source": [
    "Now for the round 0, we reduce dataset even more from 20% to 5%. num-epochs to a first value of 50. number of trials to a fixed number of 30."
   ]
  },
  {
   "cell_type": "code",
   "execution_count": 2,
   "metadata": {},
   "outputs": [],
   "source": [
    "dataset_size = 0.05\n",
    "num_epochs = 30\n",
    "num_trials = 30\n",
    "logs_directory = \"/home/optimusprime/Desktop/Timothy_EXP_2/Round_0_logs\""
   ]
  },
  {
   "cell_type": "code",
   "execution_count": 3,
   "metadata": {},
   "outputs": [
    {
     "data": {
      "text/html": [
       "<div>\n",
       "<style scoped>\n",
       "    .dataframe tbody tr th:only-of-type {\n",
       "        vertical-align: middle;\n",
       "    }\n",
       "\n",
       "    .dataframe tbody tr th {\n",
       "        vertical-align: top;\n",
       "    }\n",
       "\n",
       "    .dataframe thead th {\n",
       "        text-align: right;\n",
       "    }\n",
       "</style>\n",
       "<table border=\"1\" class=\"dataframe\">\n",
       "  <thead>\n",
       "    <tr style=\"text-align: right;\">\n",
       "      <th></th>\n",
       "      <th>time_idx</th>\n",
       "      <th>datetime</th>\n",
       "      <th>group</th>\n",
       "      <th>target</th>\n",
       "      <th>inflow_lag_0</th>\n",
       "      <th>inflow_lag_1</th>\n",
       "      <th>inflow_lag_2</th>\n",
       "      <th>inflow_lag_3</th>\n",
       "      <th>outflow_lag_0</th>\n",
       "      <th>outflow_lag_1</th>\n",
       "      <th>...</th>\n",
       "      <th>inflow_diff2_per1__count_above_mean</th>\n",
       "      <th>inflow_diff2_per1__autocorrelation__lag_1</th>\n",
       "      <th>inflow_diff2_per1__autocorrelation__lag_2</th>\n",
       "      <th>inflow_diff2_per1__partial_autocorrelation__lag_1</th>\n",
       "      <th>inflow_diff2_per1__partial_autocorrelation__lag_2</th>\n",
       "      <th>inflow_diff2_per1__partial_autocorrelation__lag_3</th>\n",
       "      <th>inflow_diff2_per1__fft_coefficient__attr_\"real\"__coeff_0</th>\n",
       "      <th>inflow_diff2_per1__autocorrelation__lag_3</th>\n",
       "      <th>inflow_diff2_per1__count_below_mean</th>\n",
       "      <th>inflow_diff2_per1__kurtosis</th>\n",
       "    </tr>\n",
       "  </thead>\n",
       "  <tbody>\n",
       "    <tr>\n",
       "      <th>0</th>\n",
       "      <td>167</td>\n",
       "      <td>2021-01-07 23:00:00</td>\n",
       "      <td>4</td>\n",
       "      <td>0.0</td>\n",
       "      <td>10.0</td>\n",
       "      <td>8.0</td>\n",
       "      <td>1.0</td>\n",
       "      <td>1.0</td>\n",
       "      <td>5.0</td>\n",
       "      <td>3.0</td>\n",
       "      <td>...</td>\n",
       "      <td>0.0</td>\n",
       "      <td>-0.517121</td>\n",
       "      <td>0.028399</td>\n",
       "      <td>-0.517109</td>\n",
       "      <td>-0.362827</td>\n",
       "      <td>-0.207694</td>\n",
       "      <td>-6.0</td>\n",
       "      <td>-0.000421</td>\n",
       "      <td>0.0</td>\n",
       "      <td>0.574259</td>\n",
       "    </tr>\n",
       "    <tr>\n",
       "      <th>1</th>\n",
       "      <td>168</td>\n",
       "      <td>2021-01-08 00:00:00</td>\n",
       "      <td>4</td>\n",
       "      <td>1.0</td>\n",
       "      <td>4.0</td>\n",
       "      <td>13.0</td>\n",
       "      <td>0.0</td>\n",
       "      <td>2.0</td>\n",
       "      <td>0.0</td>\n",
       "      <td>1.0</td>\n",
       "      <td>...</td>\n",
       "      <td>1.0</td>\n",
       "      <td>-1.000000</td>\n",
       "      <td>0.028399</td>\n",
       "      <td>-0.517109</td>\n",
       "      <td>-0.362827</td>\n",
       "      <td>-0.207694</td>\n",
       "      <td>-3.0</td>\n",
       "      <td>-0.000421</td>\n",
       "      <td>1.0</td>\n",
       "      <td>0.574259</td>\n",
       "    </tr>\n",
       "    <tr>\n",
       "      <th>2</th>\n",
       "      <td>169</td>\n",
       "      <td>2021-01-08 01:00:00</td>\n",
       "      <td>4</td>\n",
       "      <td>2.0</td>\n",
       "      <td>1.0</td>\n",
       "      <td>9.0</td>\n",
       "      <td>0.0</td>\n",
       "      <td>0.0</td>\n",
       "      <td>1.0</td>\n",
       "      <td>2.0</td>\n",
       "      <td>...</td>\n",
       "      <td>2.0</td>\n",
       "      <td>-0.250000</td>\n",
       "      <td>-1.000000</td>\n",
       "      <td>-0.517109</td>\n",
       "      <td>-0.362827</td>\n",
       "      <td>-0.207694</td>\n",
       "      <td>0.0</td>\n",
       "      <td>-0.000421</td>\n",
       "      <td>1.0</td>\n",
       "      <td>0.574259</td>\n",
       "    </tr>\n",
       "    <tr>\n",
       "      <th>3</th>\n",
       "      <td>170</td>\n",
       "      <td>2021-01-08 02:00:00</td>\n",
       "      <td>4</td>\n",
       "      <td>0.0</td>\n",
       "      <td>1.0</td>\n",
       "      <td>5.0</td>\n",
       "      <td>0.0</td>\n",
       "      <td>1.0</td>\n",
       "      <td>2.0</td>\n",
       "      <td>3.0</td>\n",
       "      <td>...</td>\n",
       "      <td>3.0</td>\n",
       "      <td>-0.146199</td>\n",
       "      <td>-0.438596</td>\n",
       "      <td>-0.146199</td>\n",
       "      <td>-0.362827</td>\n",
       "      <td>-0.207694</td>\n",
       "      <td>2.0</td>\n",
       "      <td>-0.684211</td>\n",
       "      <td>1.0</td>\n",
       "      <td>3.750693</td>\n",
       "    </tr>\n",
       "    <tr>\n",
       "      <th>4</th>\n",
       "      <td>171</td>\n",
       "      <td>2021-01-08 03:00:00</td>\n",
       "      <td>4</td>\n",
       "      <td>0.0</td>\n",
       "      <td>3.0</td>\n",
       "      <td>2.0</td>\n",
       "      <td>1.0</td>\n",
       "      <td>1.0</td>\n",
       "      <td>0.0</td>\n",
       "      <td>0.0</td>\n",
       "      <td>...</td>\n",
       "      <td>3.0</td>\n",
       "      <td>-0.131773</td>\n",
       "      <td>-0.532020</td>\n",
       "      <td>-0.131773</td>\n",
       "      <td>-0.362827</td>\n",
       "      <td>-0.207694</td>\n",
       "      <td>-3.0</td>\n",
       "      <td>-0.919951</td>\n",
       "      <td>2.0</td>\n",
       "      <td>-3.126259</td>\n",
       "    </tr>\n",
       "    <tr>\n",
       "      <th>...</th>\n",
       "      <td>...</td>\n",
       "      <td>...</td>\n",
       "      <td>...</td>\n",
       "      <td>...</td>\n",
       "      <td>...</td>\n",
       "      <td>...</td>\n",
       "      <td>...</td>\n",
       "      <td>...</td>\n",
       "      <td>...</td>\n",
       "      <td>...</td>\n",
       "      <td>...</td>\n",
       "      <td>...</td>\n",
       "      <td>...</td>\n",
       "      <td>...</td>\n",
       "      <td>...</td>\n",
       "      <td>...</td>\n",
       "      <td>...</td>\n",
       "      <td>...</td>\n",
       "      <td>...</td>\n",
       "      <td>...</td>\n",
       "      <td>...</td>\n",
       "    </tr>\n",
       "    <tr>\n",
       "      <th>1631191</th>\n",
       "      <td>24808</td>\n",
       "      <td>2023-10-31 16:00:00</td>\n",
       "      <td>263</td>\n",
       "      <td>126.0</td>\n",
       "      <td>176.0</td>\n",
       "      <td>136.0</td>\n",
       "      <td>23.0</td>\n",
       "      <td>226.0</td>\n",
       "      <td>142.0</td>\n",
       "      <td>113.0</td>\n",
       "      <td>...</td>\n",
       "      <td>14.0</td>\n",
       "      <td>-0.421845</td>\n",
       "      <td>-0.103924</td>\n",
       "      <td>-0.421845</td>\n",
       "      <td>-0.342896</td>\n",
       "      <td>0.203789</td>\n",
       "      <td>-64.0</td>\n",
       "      <td>0.351349</td>\n",
       "      <td>11.0</td>\n",
       "      <td>0.235154</td>\n",
       "    </tr>\n",
       "    <tr>\n",
       "      <th>1631192</th>\n",
       "      <td>24809</td>\n",
       "      <td>2023-10-31 17:00:00</td>\n",
       "      <td>263</td>\n",
       "      <td>112.0</td>\n",
       "      <td>153.0</td>\n",
       "      <td>144.0</td>\n",
       "      <td>9.0</td>\n",
       "      <td>185.0</td>\n",
       "      <td>126.0</td>\n",
       "      <td>82.0</td>\n",
       "      <td>...</td>\n",
       "      <td>13.0</td>\n",
       "      <td>-0.546637</td>\n",
       "      <td>0.012524</td>\n",
       "      <td>-0.546637</td>\n",
       "      <td>-0.408289</td>\n",
       "      <td>-0.018269</td>\n",
       "      <td>10.0</td>\n",
       "      <td>0.202870</td>\n",
       "      <td>12.0</td>\n",
       "      <td>0.405906</td>\n",
       "    </tr>\n",
       "    <tr>\n",
       "      <th>1631193</th>\n",
       "      <td>24810</td>\n",
       "      <td>2023-10-31 18:00:00</td>\n",
       "      <td>263</td>\n",
       "      <td>99.0</td>\n",
       "      <td>135.0</td>\n",
       "      <td>94.0</td>\n",
       "      <td>7.0</td>\n",
       "      <td>136.0</td>\n",
       "      <td>112.0</td>\n",
       "      <td>77.0</td>\n",
       "      <td>...</td>\n",
       "      <td>14.0</td>\n",
       "      <td>-0.540946</td>\n",
       "      <td>0.001364</td>\n",
       "      <td>-0.540946</td>\n",
       "      <td>-0.411744</td>\n",
       "      <td>-0.030810</td>\n",
       "      <td>14.0</td>\n",
       "      <td>0.203590</td>\n",
       "      <td>11.0</td>\n",
       "      <td>0.406788</td>\n",
       "    </tr>\n",
       "    <tr>\n",
       "      <th>1631194</th>\n",
       "      <td>24811</td>\n",
       "      <td>2023-10-31 19:00:00</td>\n",
       "      <td>263</td>\n",
       "      <td>60.0</td>\n",
       "      <td>119.0</td>\n",
       "      <td>62.0</td>\n",
       "      <td>4.0</td>\n",
       "      <td>85.0</td>\n",
       "      <td>99.0</td>\n",
       "      <td>30.0</td>\n",
       "      <td>...</td>\n",
       "      <td>14.0</td>\n",
       "      <td>-0.443736</td>\n",
       "      <td>-0.035146</td>\n",
       "      <td>-0.443736</td>\n",
       "      <td>-0.288941</td>\n",
       "      <td>0.078741</td>\n",
       "      <td>-8.0</td>\n",
       "      <td>0.206272</td>\n",
       "      <td>11.0</td>\n",
       "      <td>0.743705</td>\n",
       "    </tr>\n",
       "    <tr>\n",
       "      <th>1631195</th>\n",
       "      <td>24812</td>\n",
       "      <td>2023-10-31 20:00:00</td>\n",
       "      <td>263</td>\n",
       "      <td>50.0</td>\n",
       "      <td>119.0</td>\n",
       "      <td>23.0</td>\n",
       "      <td>4.0</td>\n",
       "      <td>42.0</td>\n",
       "      <td>60.0</td>\n",
       "      <td>10.0</td>\n",
       "      <td>...</td>\n",
       "      <td>14.0</td>\n",
       "      <td>-0.483413</td>\n",
       "      <td>-0.077545</td>\n",
       "      <td>-0.483413</td>\n",
       "      <td>-0.406145</td>\n",
       "      <td>0.149938</td>\n",
       "      <td>23.0</td>\n",
       "      <td>0.344993</td>\n",
       "      <td>11.0</td>\n",
       "      <td>0.766188</td>\n",
       "    </tr>\n",
       "  </tbody>\n",
       "</table>\n",
       "<p>1631196 rows × 159 columns</p>\n",
       "</div>"
      ],
      "text/plain": [
       "         time_idx            datetime  group  target  inflow_lag_0  \\\n",
       "0             167 2021-01-07 23:00:00      4     0.0          10.0   \n",
       "1             168 2021-01-08 00:00:00      4     1.0           4.0   \n",
       "2             169 2021-01-08 01:00:00      4     2.0           1.0   \n",
       "3             170 2021-01-08 02:00:00      4     0.0           1.0   \n",
       "4             171 2021-01-08 03:00:00      4     0.0           3.0   \n",
       "...           ...                 ...    ...     ...           ...   \n",
       "1631191     24808 2023-10-31 16:00:00    263   126.0         176.0   \n",
       "1631192     24809 2023-10-31 17:00:00    263   112.0         153.0   \n",
       "1631193     24810 2023-10-31 18:00:00    263    99.0         135.0   \n",
       "1631194     24811 2023-10-31 19:00:00    263    60.0         119.0   \n",
       "1631195     24812 2023-10-31 20:00:00    263    50.0         119.0   \n",
       "\n",
       "         inflow_lag_1  inflow_lag_2  inflow_lag_3  outflow_lag_0  \\\n",
       "0                 8.0           1.0           1.0            5.0   \n",
       "1                13.0           0.0           2.0            0.0   \n",
       "2                 9.0           0.0           0.0            1.0   \n",
       "3                 5.0           0.0           1.0            2.0   \n",
       "4                 2.0           1.0           1.0            0.0   \n",
       "...               ...           ...           ...            ...   \n",
       "1631191         136.0          23.0         226.0          142.0   \n",
       "1631192         144.0           9.0         185.0          126.0   \n",
       "1631193          94.0           7.0         136.0          112.0   \n",
       "1631194          62.0           4.0          85.0           99.0   \n",
       "1631195          23.0           4.0          42.0           60.0   \n",
       "\n",
       "         outflow_lag_1  ...  inflow_diff2_per1__count_above_mean  \\\n",
       "0                  3.0  ...                                  0.0   \n",
       "1                  1.0  ...                                  1.0   \n",
       "2                  2.0  ...                                  2.0   \n",
       "3                  3.0  ...                                  3.0   \n",
       "4                  0.0  ...                                  3.0   \n",
       "...                ...  ...                                  ...   \n",
       "1631191          113.0  ...                                 14.0   \n",
       "1631192           82.0  ...                                 13.0   \n",
       "1631193           77.0  ...                                 14.0   \n",
       "1631194           30.0  ...                                 14.0   \n",
       "1631195           10.0  ...                                 14.0   \n",
       "\n",
       "         inflow_diff2_per1__autocorrelation__lag_1  \\\n",
       "0                                        -0.517121   \n",
       "1                                        -1.000000   \n",
       "2                                        -0.250000   \n",
       "3                                        -0.146199   \n",
       "4                                        -0.131773   \n",
       "...                                            ...   \n",
       "1631191                                  -0.421845   \n",
       "1631192                                  -0.546637   \n",
       "1631193                                  -0.540946   \n",
       "1631194                                  -0.443736   \n",
       "1631195                                  -0.483413   \n",
       "\n",
       "         inflow_diff2_per1__autocorrelation__lag_2  \\\n",
       "0                                         0.028399   \n",
       "1                                         0.028399   \n",
       "2                                        -1.000000   \n",
       "3                                        -0.438596   \n",
       "4                                        -0.532020   \n",
       "...                                            ...   \n",
       "1631191                                  -0.103924   \n",
       "1631192                                   0.012524   \n",
       "1631193                                   0.001364   \n",
       "1631194                                  -0.035146   \n",
       "1631195                                  -0.077545   \n",
       "\n",
       "         inflow_diff2_per1__partial_autocorrelation__lag_1  \\\n",
       "0                                                -0.517109   \n",
       "1                                                -0.517109   \n",
       "2                                                -0.517109   \n",
       "3                                                -0.146199   \n",
       "4                                                -0.131773   \n",
       "...                                                    ...   \n",
       "1631191                                          -0.421845   \n",
       "1631192                                          -0.546637   \n",
       "1631193                                          -0.540946   \n",
       "1631194                                          -0.443736   \n",
       "1631195                                          -0.483413   \n",
       "\n",
       "         inflow_diff2_per1__partial_autocorrelation__lag_2  \\\n",
       "0                                                -0.362827   \n",
       "1                                                -0.362827   \n",
       "2                                                -0.362827   \n",
       "3                                                -0.362827   \n",
       "4                                                -0.362827   \n",
       "...                                                    ...   \n",
       "1631191                                          -0.342896   \n",
       "1631192                                          -0.408289   \n",
       "1631193                                          -0.411744   \n",
       "1631194                                          -0.288941   \n",
       "1631195                                          -0.406145   \n",
       "\n",
       "         inflow_diff2_per1__partial_autocorrelation__lag_3  \\\n",
       "0                                                -0.207694   \n",
       "1                                                -0.207694   \n",
       "2                                                -0.207694   \n",
       "3                                                -0.207694   \n",
       "4                                                -0.207694   \n",
       "...                                                    ...   \n",
       "1631191                                           0.203789   \n",
       "1631192                                          -0.018269   \n",
       "1631193                                          -0.030810   \n",
       "1631194                                           0.078741   \n",
       "1631195                                           0.149938   \n",
       "\n",
       "         inflow_diff2_per1__fft_coefficient__attr_\"real\"__coeff_0  \\\n",
       "0                                                     -6.0          \n",
       "1                                                     -3.0          \n",
       "2                                                      0.0          \n",
       "3                                                      2.0          \n",
       "4                                                     -3.0          \n",
       "...                                                    ...          \n",
       "1631191                                              -64.0          \n",
       "1631192                                               10.0          \n",
       "1631193                                               14.0          \n",
       "1631194                                               -8.0          \n",
       "1631195                                               23.0          \n",
       "\n",
       "         inflow_diff2_per1__autocorrelation__lag_3  \\\n",
       "0                                        -0.000421   \n",
       "1                                        -0.000421   \n",
       "2                                        -0.000421   \n",
       "3                                        -0.684211   \n",
       "4                                        -0.919951   \n",
       "...                                            ...   \n",
       "1631191                                   0.351349   \n",
       "1631192                                   0.202870   \n",
       "1631193                                   0.203590   \n",
       "1631194                                   0.206272   \n",
       "1631195                                   0.344993   \n",
       "\n",
       "         inflow_diff2_per1__count_below_mean  inflow_diff2_per1__kurtosis  \n",
       "0                                        0.0                     0.574259  \n",
       "1                                        1.0                     0.574259  \n",
       "2                                        1.0                     0.574259  \n",
       "3                                        1.0                     3.750693  \n",
       "4                                        2.0                    -3.126259  \n",
       "...                                      ...                          ...  \n",
       "1631191                                 11.0                     0.235154  \n",
       "1631192                                 12.0                     0.405906  \n",
       "1631193                                 11.0                     0.406788  \n",
       "1631194                                 11.0                     0.743705  \n",
       "1631195                                 11.0                     0.766188  \n",
       "\n",
       "[1631196 rows x 159 columns]"
      ]
     },
     "execution_count": 3,
     "metadata": {},
     "output_type": "execute_result"
    }
   ],
   "source": [
    "\"\"\"\n",
    "Import pre-processed Data (tsfresh features)\n",
    "\n",
    "response and target are the same thing\n",
    "\"\"\"\n",
    "\n",
    "### Your code\n",
    "os.chdir('/home/optimusprime/Desktop/Data_Timothy')\n",
    "############ Basically df = raw_feat_df <-------------------------\n",
    "df = pd.read_parquet('EXP_2_combined_dd_ss_raw_feat_data_indiv_zones_significant_lags_pruned.parquet', engine='pyarrow')\n",
    "df"
   ]
  },
  {
   "cell_type": "code",
   "execution_count": 4,
   "metadata": {},
   "outputs": [],
   "source": [
    "working_directory = '/home/optimusprime/Desktop/Timothy_EXP_2'\n",
    "os.chdir(working_directory)"
   ]
  },
  {
   "cell_type": "code",
   "execution_count": 5,
   "metadata": {},
   "outputs": [],
   "source": [
    "first_idx = df.loc[df['group'] == 13, 'time_idx'].iloc[0]\n",
    "total_time_idx = df[df.group == 13].shape[0]\n",
    "reduced_df_time_idx = [*range(first_idx, int(dataset_size*total_time_idx)+1, 1)]\n",
    "df = df[df['time_idx'].isin(reduced_df_time_idx)]"
   ]
  },
  {
   "cell_type": "code",
   "execution_count": 6,
   "metadata": {},
   "outputs": [
    {
     "name": "stdout",
     "output_type": "stream",
     "text": [
      "['inflow_lag_0', 'inflow_lag_1', 'inflow_lag_2', 'inflow_lag_3', 'outflow_lag_0', 'outflow_lag_1', 'outflow_lag_2', 'outflow_lag_3', 'inflow', 'inflow_diff1_per1', 'inflow_diff1_per2', 'inflow_diff2_per1', 'inflow_lag_0__fft_coefficient__attr_\"real\"__coeff_0', 'inflow_lag_0__fft_coefficient__attr_\"real\"__coeff_1', 'inflow_lag_0__skewness', 'inflow_lag_0__kurtosis', 'inflow_lag_0__count_above_mean', 'inflow_lag_0__count_below_mean', 'inflow_lag_0__autocorrelation__lag_1', 'inflow_lag_0__autocorrelation__lag_2', 'inflow_lag_0__autocorrelation__lag_3', 'inflow_lag_0__partial_autocorrelation__lag_1', 'inflow_lag_0__partial_autocorrelation__lag_2', 'inflow_lag_0__partial_autocorrelation__lag_3', 'inflow_lag_1__fft_coefficient__attr_\"real\"__coeff_0', 'inflow_lag_1__fft_coefficient__attr_\"real\"__coeff_1', 'inflow_lag_1__skewness', 'inflow_lag_1__kurtosis', 'inflow_lag_1__count_above_mean', 'inflow_lag_1__count_below_mean', 'inflow_lag_1__autocorrelation__lag_1', 'inflow_lag_1__autocorrelation__lag_2', 'inflow_lag_1__autocorrelation__lag_3', 'inflow_lag_1__partial_autocorrelation__lag_1', 'inflow_lag_1__partial_autocorrelation__lag_2', 'inflow_lag_1__partial_autocorrelation__lag_3', 'inflow_lag_2__fft_coefficient__attr_\"real\"__coeff_0', 'inflow_lag_2__fft_coefficient__attr_\"real\"__coeff_1', 'inflow_lag_2__skewness', 'inflow_lag_2__kurtosis', 'inflow_lag_2__count_above_mean', 'inflow_lag_2__count_below_mean', 'inflow_lag_2__autocorrelation__lag_1', 'inflow_lag_2__autocorrelation__lag_2', 'inflow_lag_2__autocorrelation__lag_3', 'inflow_lag_2__partial_autocorrelation__lag_1', 'inflow_lag_2__partial_autocorrelation__lag_2', 'inflow_lag_2__partial_autocorrelation__lag_3', 'inflow_lag_3__fft_coefficient__attr_\"real\"__coeff_0', 'inflow_lag_3__fft_coefficient__attr_\"real\"__coeff_1', 'inflow_lag_3__skewness', 'inflow_lag_3__kurtosis', 'inflow_lag_3__count_above_mean', 'inflow_lag_3__count_below_mean', 'inflow_lag_3__autocorrelation__lag_1', 'inflow_lag_3__autocorrelation__lag_2', 'inflow_lag_3__autocorrelation__lag_3', 'inflow_lag_3__partial_autocorrelation__lag_1', 'inflow_lag_3__partial_autocorrelation__lag_2', 'inflow_lag_3__partial_autocorrelation__lag_3', 'outflow_lag_0__fft_coefficient__attr_\"real\"__coeff_0', 'outflow_lag_0__fft_coefficient__attr_\"real\"__coeff_1', 'outflow_lag_0__skewness', 'outflow_lag_0__kurtosis', 'outflow_lag_0__count_above_mean', 'outflow_lag_0__count_below_mean', 'outflow_lag_0__autocorrelation__lag_1', 'outflow_lag_0__autocorrelation__lag_2', 'outflow_lag_0__autocorrelation__lag_3', 'outflow_lag_0__partial_autocorrelation__lag_1', 'outflow_lag_0__partial_autocorrelation__lag_2', 'outflow_lag_0__partial_autocorrelation__lag_3', 'outflow_lag_1__fft_coefficient__attr_\"real\"__coeff_0', 'outflow_lag_1__fft_coefficient__attr_\"real\"__coeff_1', 'outflow_lag_1__skewness', 'outflow_lag_1__kurtosis', 'outflow_lag_1__count_above_mean', 'outflow_lag_1__count_below_mean', 'outflow_lag_1__autocorrelation__lag_1', 'outflow_lag_1__autocorrelation__lag_2', 'outflow_lag_1__autocorrelation__lag_3', 'outflow_lag_1__partial_autocorrelation__lag_1', 'outflow_lag_1__partial_autocorrelation__lag_2', 'outflow_lag_1__partial_autocorrelation__lag_3', 'outflow_lag_2__fft_coefficient__attr_\"real\"__coeff_0', 'outflow_lag_2__fft_coefficient__attr_\"real\"__coeff_1', 'outflow_lag_2__skewness', 'outflow_lag_2__kurtosis', 'outflow_lag_2__count_above_mean', 'outflow_lag_2__count_below_mean', 'outflow_lag_2__autocorrelation__lag_1', 'outflow_lag_2__autocorrelation__lag_2', 'outflow_lag_2__autocorrelation__lag_3', 'outflow_lag_2__partial_autocorrelation__lag_1', 'outflow_lag_2__partial_autocorrelation__lag_2', 'outflow_lag_2__partial_autocorrelation__lag_3', 'outflow_lag_3__fft_coefficient__attr_\"real\"__coeff_0', 'outflow_lag_3__fft_coefficient__attr_\"real\"__coeff_1', 'outflow_lag_3__skewness', 'outflow_lag_3__kurtosis', 'outflow_lag_3__count_above_mean', 'outflow_lag_3__count_below_mean', 'outflow_lag_3__autocorrelation__lag_1', 'outflow_lag_3__autocorrelation__lag_2', 'outflow_lag_3__autocorrelation__lag_3', 'outflow_lag_3__partial_autocorrelation__lag_1', 'outflow_lag_3__partial_autocorrelation__lag_2', 'outflow_lag_3__partial_autocorrelation__lag_3', 'inflow__fft_coefficient__attr_\"real\"__coeff_0', 'inflow__fft_coefficient__attr_\"real\"__coeff_1', 'inflow__skewness', 'inflow__kurtosis', 'inflow__count_above_mean', 'inflow__count_below_mean', 'inflow__autocorrelation__lag_1', 'inflow__autocorrelation__lag_2', 'inflow__autocorrelation__lag_3', 'inflow__partial_autocorrelation__lag_1', 'inflow__partial_autocorrelation__lag_2', 'inflow__partial_autocorrelation__lag_3', 'inflow_diff1_per1__fft_coefficient__attr_\"real\"__coeff_0', 'inflow_diff1_per1__fft_coefficient__attr_\"real\"__coeff_1', 'inflow_diff1_per1__kurtosis', 'inflow_diff1_per1__count_above_mean', 'inflow_diff1_per1__count_below_mean', 'inflow_diff1_per1__autocorrelation__lag_1', 'inflow_diff1_per1__autocorrelation__lag_2', 'inflow_diff1_per1__autocorrelation__lag_3', 'inflow_diff1_per1__partial_autocorrelation__lag_1', 'inflow_diff1_per1__partial_autocorrelation__lag_2', 'inflow_diff1_per1__partial_autocorrelation__lag_3', 'inflow_diff1_per1__skewness', 'inflow_diff1_per2__fft_coefficient__attr_\"real\"__coeff_0', 'inflow_diff1_per2__fft_coefficient__attr_\"real\"__coeff_1', 'inflow_diff1_per2__skewness', 'inflow_diff1_per2__kurtosis', 'inflow_diff1_per2__count_above_mean', 'inflow_diff1_per2__count_below_mean', 'inflow_diff1_per2__autocorrelation__lag_1', 'inflow_diff1_per2__autocorrelation__lag_2', 'inflow_diff1_per2__autocorrelation__lag_3', 'inflow_diff1_per2__partial_autocorrelation__lag_1', 'inflow_diff1_per2__partial_autocorrelation__lag_2', 'inflow_diff1_per2__partial_autocorrelation__lag_3', 'inflow_diff2_per1__fft_coefficient__attr_\"real\"__coeff_1', 'inflow_diff2_per1__count_above_mean', 'inflow_diff2_per1__autocorrelation__lag_1', 'inflow_diff2_per1__autocorrelation__lag_2', 'inflow_diff2_per1__partial_autocorrelation__lag_1', 'inflow_diff2_per1__partial_autocorrelation__lag_2', 'inflow_diff2_per1__partial_autocorrelation__lag_3', 'inflow_diff2_per1__fft_coefficient__attr_\"real\"__coeff_0', 'inflow_diff2_per1__autocorrelation__lag_3', 'inflow_diff2_per1__count_below_mean', 'inflow_diff2_per1__kurtosis']\n"
     ]
    }
   ],
   "source": [
    "numeric_cols = list(df.columns)\n",
    "numeric_cols = [e for e in numeric_cols if e not in ('time_idx', 'datetime', 'group', 'target')]\n",
    "print(numeric_cols)"
   ]
  },
  {
   "cell_type": "code",
   "execution_count": 7,
   "metadata": {},
   "outputs": [],
   "source": [
    "#################### add date information ts ####################\n",
    "\n",
    "# create datetime features from datetime column in raw_feat_df\n",
    "df['_hour_of_day'] = df[\"datetime\"].dt.hour.astype(str)\n",
    "df['_day_of_week'] = df[\"datetime\"].dt.dayofweek.astype(str)\n",
    "df['_day_of_month'] = df[\"datetime\"].dt.day.astype(str)\n",
    "df['_day_of_year'] = df[\"datetime\"].dt.dayofyear.astype(str)\n",
    "df['_week_of_year'] = df[\"datetime\"].dt.weekofyear.astype(str)\n",
    "df['_month_of_year'] = df[\"datetime\"].dt.month.astype(str)\n",
    "df['_year'] = df[\"datetime\"].dt.year.astype(str)\n",
    "#################### add date information ts ####################\n",
    "\n",
    "hour_of_day_nunique = df['_hour_of_day'].nunique()\n",
    "day_of_week_nunique = df['_day_of_week'].nunique()\n",
    "day_of_month_nunique = df['_day_of_month'].nunique()\n",
    "day_of_year_nunique = df['_day_of_year'].nunique()\n",
    "week_of_year_nunique = df['_week_of_year'].nunique()\n",
    "month_of_year_nunique = df['_month_of_year'].nunique()\n",
    "year_nunique = df['_year'].nunique()"
   ]
  },
  {
   "cell_type": "code",
   "execution_count": 8,
   "metadata": {},
   "outputs": [
    {
     "data": {
      "text/html": [
       "<div>\n",
       "<style scoped>\n",
       "    .dataframe tbody tr th:only-of-type {\n",
       "        vertical-align: middle;\n",
       "    }\n",
       "\n",
       "    .dataframe tbody tr th {\n",
       "        vertical-align: top;\n",
       "    }\n",
       "\n",
       "    .dataframe thead th {\n",
       "        text-align: right;\n",
       "    }\n",
       "</style>\n",
       "<table border=\"1\" class=\"dataframe\">\n",
       "  <thead>\n",
       "    <tr style=\"text-align: right;\">\n",
       "      <th></th>\n",
       "      <th>time_idx</th>\n",
       "      <th>datetime</th>\n",
       "      <th>group</th>\n",
       "      <th>target</th>\n",
       "      <th>inflow_lag_0</th>\n",
       "      <th>inflow_lag_1</th>\n",
       "      <th>inflow_lag_2</th>\n",
       "      <th>inflow_lag_3</th>\n",
       "      <th>outflow_lag_0</th>\n",
       "      <th>outflow_lag_1</th>\n",
       "      <th>...</th>\n",
       "      <th>inflow_diff2_per1__autocorrelation__lag_3</th>\n",
       "      <th>inflow_diff2_per1__count_below_mean</th>\n",
       "      <th>inflow_diff2_per1__kurtosis</th>\n",
       "      <th>_hour_of_day</th>\n",
       "      <th>_day_of_week</th>\n",
       "      <th>_day_of_month</th>\n",
       "      <th>_day_of_year</th>\n",
       "      <th>_week_of_year</th>\n",
       "      <th>_month_of_year</th>\n",
       "      <th>_year</th>\n",
       "    </tr>\n",
       "  </thead>\n",
       "  <tbody>\n",
       "    <tr>\n",
       "      <th>0</th>\n",
       "      <td>167</td>\n",
       "      <td>2021-01-07 23:00:00</td>\n",
       "      <td>4</td>\n",
       "      <td>0.0</td>\n",
       "      <td>10.0</td>\n",
       "      <td>8.0</td>\n",
       "      <td>1.0</td>\n",
       "      <td>1.0</td>\n",
       "      <td>5.0</td>\n",
       "      <td>3.0</td>\n",
       "      <td>...</td>\n",
       "      <td>-0.000421</td>\n",
       "      <td>0.0</td>\n",
       "      <td>0.574259</td>\n",
       "      <td>23</td>\n",
       "      <td>3</td>\n",
       "      <td>7</td>\n",
       "      <td>7</td>\n",
       "      <td>1</td>\n",
       "      <td>1</td>\n",
       "      <td>2021</td>\n",
       "    </tr>\n",
       "    <tr>\n",
       "      <th>1</th>\n",
       "      <td>168</td>\n",
       "      <td>2021-01-08 00:00:00</td>\n",
       "      <td>4</td>\n",
       "      <td>1.0</td>\n",
       "      <td>4.0</td>\n",
       "      <td>13.0</td>\n",
       "      <td>0.0</td>\n",
       "      <td>2.0</td>\n",
       "      <td>0.0</td>\n",
       "      <td>1.0</td>\n",
       "      <td>...</td>\n",
       "      <td>-0.000421</td>\n",
       "      <td>1.0</td>\n",
       "      <td>0.574259</td>\n",
       "      <td>0</td>\n",
       "      <td>4</td>\n",
       "      <td>8</td>\n",
       "      <td>8</td>\n",
       "      <td>1</td>\n",
       "      <td>1</td>\n",
       "      <td>2021</td>\n",
       "    </tr>\n",
       "    <tr>\n",
       "      <th>2</th>\n",
       "      <td>169</td>\n",
       "      <td>2021-01-08 01:00:00</td>\n",
       "      <td>4</td>\n",
       "      <td>2.0</td>\n",
       "      <td>1.0</td>\n",
       "      <td>9.0</td>\n",
       "      <td>0.0</td>\n",
       "      <td>0.0</td>\n",
       "      <td>1.0</td>\n",
       "      <td>2.0</td>\n",
       "      <td>...</td>\n",
       "      <td>-0.000421</td>\n",
       "      <td>1.0</td>\n",
       "      <td>0.574259</td>\n",
       "      <td>1</td>\n",
       "      <td>4</td>\n",
       "      <td>8</td>\n",
       "      <td>8</td>\n",
       "      <td>1</td>\n",
       "      <td>1</td>\n",
       "      <td>2021</td>\n",
       "    </tr>\n",
       "    <tr>\n",
       "      <th>3</th>\n",
       "      <td>170</td>\n",
       "      <td>2021-01-08 02:00:00</td>\n",
       "      <td>4</td>\n",
       "      <td>0.0</td>\n",
       "      <td>1.0</td>\n",
       "      <td>5.0</td>\n",
       "      <td>0.0</td>\n",
       "      <td>1.0</td>\n",
       "      <td>2.0</td>\n",
       "      <td>3.0</td>\n",
       "      <td>...</td>\n",
       "      <td>-0.684211</td>\n",
       "      <td>1.0</td>\n",
       "      <td>3.750693</td>\n",
       "      <td>2</td>\n",
       "      <td>4</td>\n",
       "      <td>8</td>\n",
       "      <td>8</td>\n",
       "      <td>1</td>\n",
       "      <td>1</td>\n",
       "      <td>2021</td>\n",
       "    </tr>\n",
       "    <tr>\n",
       "      <th>4</th>\n",
       "      <td>171</td>\n",
       "      <td>2021-01-08 03:00:00</td>\n",
       "      <td>4</td>\n",
       "      <td>0.0</td>\n",
       "      <td>3.0</td>\n",
       "      <td>2.0</td>\n",
       "      <td>1.0</td>\n",
       "      <td>1.0</td>\n",
       "      <td>0.0</td>\n",
       "      <td>0.0</td>\n",
       "      <td>...</td>\n",
       "      <td>-0.919951</td>\n",
       "      <td>2.0</td>\n",
       "      <td>-3.126259</td>\n",
       "      <td>3</td>\n",
       "      <td>4</td>\n",
       "      <td>8</td>\n",
       "      <td>8</td>\n",
       "      <td>1</td>\n",
       "      <td>1</td>\n",
       "      <td>2021</td>\n",
       "    </tr>\n",
       "    <tr>\n",
       "      <th>...</th>\n",
       "      <td>...</td>\n",
       "      <td>...</td>\n",
       "      <td>...</td>\n",
       "      <td>...</td>\n",
       "      <td>...</td>\n",
       "      <td>...</td>\n",
       "      <td>...</td>\n",
       "      <td>...</td>\n",
       "      <td>...</td>\n",
       "      <td>...</td>\n",
       "      <td>...</td>\n",
       "      <td>...</td>\n",
       "      <td>...</td>\n",
       "      <td>...</td>\n",
       "      <td>...</td>\n",
       "      <td>...</td>\n",
       "      <td>...</td>\n",
       "      <td>...</td>\n",
       "      <td>...</td>\n",
       "      <td>...</td>\n",
       "      <td>...</td>\n",
       "    </tr>\n",
       "    <tr>\n",
       "      <th>1607618</th>\n",
       "      <td>1235</td>\n",
       "      <td>2021-02-21 11:00:00</td>\n",
       "      <td>263</td>\n",
       "      <td>73.0</td>\n",
       "      <td>57.0</td>\n",
       "      <td>88.0</td>\n",
       "      <td>90.0</td>\n",
       "      <td>83.0</td>\n",
       "      <td>72.0</td>\n",
       "      <td>111.0</td>\n",
       "      <td>...</td>\n",
       "      <td>-0.441381</td>\n",
       "      <td>10.0</td>\n",
       "      <td>0.512082</td>\n",
       "      <td>11</td>\n",
       "      <td>6</td>\n",
       "      <td>21</td>\n",
       "      <td>52</td>\n",
       "      <td>7</td>\n",
       "      <td>2</td>\n",
       "      <td>2021</td>\n",
       "    </tr>\n",
       "    <tr>\n",
       "      <th>1607619</th>\n",
       "      <td>1236</td>\n",
       "      <td>2021-02-21 12:00:00</td>\n",
       "      <td>263</td>\n",
       "      <td>102.0</td>\n",
       "      <td>60.0</td>\n",
       "      <td>96.0</td>\n",
       "      <td>121.0</td>\n",
       "      <td>81.0</td>\n",
       "      <td>73.0</td>\n",
       "      <td>113.0</td>\n",
       "      <td>...</td>\n",
       "      <td>-0.396334</td>\n",
       "      <td>10.0</td>\n",
       "      <td>0.421288</td>\n",
       "      <td>12</td>\n",
       "      <td>6</td>\n",
       "      <td>21</td>\n",
       "      <td>52</td>\n",
       "      <td>7</td>\n",
       "      <td>2</td>\n",
       "      <td>2021</td>\n",
       "    </tr>\n",
       "    <tr>\n",
       "      <th>1607620</th>\n",
       "      <td>1237</td>\n",
       "      <td>2021-02-21 13:00:00</td>\n",
       "      <td>263</td>\n",
       "      <td>89.0</td>\n",
       "      <td>83.0</td>\n",
       "      <td>104.0</td>\n",
       "      <td>103.0</td>\n",
       "      <td>72.0</td>\n",
       "      <td>102.0</td>\n",
       "      <td>103.0</td>\n",
       "      <td>...</td>\n",
       "      <td>-0.392331</td>\n",
       "      <td>10.0</td>\n",
       "      <td>0.370033</td>\n",
       "      <td>13</td>\n",
       "      <td>6</td>\n",
       "      <td>21</td>\n",
       "      <td>52</td>\n",
       "      <td>7</td>\n",
       "      <td>2</td>\n",
       "      <td>2021</td>\n",
       "    </tr>\n",
       "    <tr>\n",
       "      <th>1607621</th>\n",
       "      <td>1238</td>\n",
       "      <td>2021-02-21 14:00:00</td>\n",
       "      <td>263</td>\n",
       "      <td>72.0</td>\n",
       "      <td>72.0</td>\n",
       "      <td>114.0</td>\n",
       "      <td>100.0</td>\n",
       "      <td>82.0</td>\n",
       "      <td>89.0</td>\n",
       "      <td>98.0</td>\n",
       "      <td>...</td>\n",
       "      <td>-0.386670</td>\n",
       "      <td>11.0</td>\n",
       "      <td>0.182565</td>\n",
       "      <td>14</td>\n",
       "      <td>6</td>\n",
       "      <td>21</td>\n",
       "      <td>52</td>\n",
       "      <td>7</td>\n",
       "      <td>2</td>\n",
       "      <td>2021</td>\n",
       "    </tr>\n",
       "    <tr>\n",
       "      <th>1607622</th>\n",
       "      <td>1239</td>\n",
       "      <td>2021-02-21 15:00:00</td>\n",
       "      <td>263</td>\n",
       "      <td>65.0</td>\n",
       "      <td>84.0</td>\n",
       "      <td>90.0</td>\n",
       "      <td>65.0</td>\n",
       "      <td>105.0</td>\n",
       "      <td>72.0</td>\n",
       "      <td>90.0</td>\n",
       "      <td>...</td>\n",
       "      <td>-0.406534</td>\n",
       "      <td>11.0</td>\n",
       "      <td>0.063527</td>\n",
       "      <td>15</td>\n",
       "      <td>6</td>\n",
       "      <td>21</td>\n",
       "      <td>52</td>\n",
       "      <td>7</td>\n",
       "      <td>2</td>\n",
       "      <td>2021</td>\n",
       "    </tr>\n",
       "  </tbody>\n",
       "</table>\n",
       "<p>75378 rows × 166 columns</p>\n",
       "</div>"
      ],
      "text/plain": [
       "         time_idx            datetime  group  target  inflow_lag_0  \\\n",
       "0             167 2021-01-07 23:00:00      4     0.0          10.0   \n",
       "1             168 2021-01-08 00:00:00      4     1.0           4.0   \n",
       "2             169 2021-01-08 01:00:00      4     2.0           1.0   \n",
       "3             170 2021-01-08 02:00:00      4     0.0           1.0   \n",
       "4             171 2021-01-08 03:00:00      4     0.0           3.0   \n",
       "...           ...                 ...    ...     ...           ...   \n",
       "1607618      1235 2021-02-21 11:00:00    263    73.0          57.0   \n",
       "1607619      1236 2021-02-21 12:00:00    263   102.0          60.0   \n",
       "1607620      1237 2021-02-21 13:00:00    263    89.0          83.0   \n",
       "1607621      1238 2021-02-21 14:00:00    263    72.0          72.0   \n",
       "1607622      1239 2021-02-21 15:00:00    263    65.0          84.0   \n",
       "\n",
       "         inflow_lag_1  inflow_lag_2  inflow_lag_3  outflow_lag_0  \\\n",
       "0                 8.0           1.0           1.0            5.0   \n",
       "1                13.0           0.0           2.0            0.0   \n",
       "2                 9.0           0.0           0.0            1.0   \n",
       "3                 5.0           0.0           1.0            2.0   \n",
       "4                 2.0           1.0           1.0            0.0   \n",
       "...               ...           ...           ...            ...   \n",
       "1607618          88.0          90.0          83.0           72.0   \n",
       "1607619          96.0         121.0          81.0           73.0   \n",
       "1607620         104.0         103.0          72.0          102.0   \n",
       "1607621         114.0         100.0          82.0           89.0   \n",
       "1607622          90.0          65.0         105.0           72.0   \n",
       "\n",
       "         outflow_lag_1  ...  inflow_diff2_per1__autocorrelation__lag_3  \\\n",
       "0                  3.0  ...                                  -0.000421   \n",
       "1                  1.0  ...                                  -0.000421   \n",
       "2                  2.0  ...                                  -0.000421   \n",
       "3                  3.0  ...                                  -0.684211   \n",
       "4                  0.0  ...                                  -0.919951   \n",
       "...                ...  ...                                        ...   \n",
       "1607618          111.0  ...                                  -0.441381   \n",
       "1607619          113.0  ...                                  -0.396334   \n",
       "1607620          103.0  ...                                  -0.392331   \n",
       "1607621           98.0  ...                                  -0.386670   \n",
       "1607622           90.0  ...                                  -0.406534   \n",
       "\n",
       "         inflow_diff2_per1__count_below_mean  inflow_diff2_per1__kurtosis  \\\n",
       "0                                        0.0                     0.574259   \n",
       "1                                        1.0                     0.574259   \n",
       "2                                        1.0                     0.574259   \n",
       "3                                        1.0                     3.750693   \n",
       "4                                        2.0                    -3.126259   \n",
       "...                                      ...                          ...   \n",
       "1607618                                 10.0                     0.512082   \n",
       "1607619                                 10.0                     0.421288   \n",
       "1607620                                 10.0                     0.370033   \n",
       "1607621                                 11.0                     0.182565   \n",
       "1607622                                 11.0                     0.063527   \n",
       "\n",
       "         _hour_of_day  _day_of_week  _day_of_month  _day_of_year  \\\n",
       "0                  23             3              7             7   \n",
       "1                   0             4              8             8   \n",
       "2                   1             4              8             8   \n",
       "3                   2             4              8             8   \n",
       "4                   3             4              8             8   \n",
       "...               ...           ...            ...           ...   \n",
       "1607618            11             6             21            52   \n",
       "1607619            12             6             21            52   \n",
       "1607620            13             6             21            52   \n",
       "1607621            14             6             21            52   \n",
       "1607622            15             6             21            52   \n",
       "\n",
       "         _week_of_year  _month_of_year  _year  \n",
       "0                    1               1   2021  \n",
       "1                    1               1   2021  \n",
       "2                    1               1   2021  \n",
       "3                    1               1   2021  \n",
       "4                    1               1   2021  \n",
       "...                ...             ...    ...  \n",
       "1607618              7               2   2021  \n",
       "1607619              7               2   2021  \n",
       "1607620              7               2   2021  \n",
       "1607621              7               2   2021  \n",
       "1607622              7               2   2021  \n",
       "\n",
       "[75378 rows x 166 columns]"
      ]
     },
     "execution_count": 8,
     "metadata": {},
     "output_type": "execute_result"
    }
   ],
   "source": [
    "df"
   ]
  },
  {
   "cell_type": "code",
   "execution_count": 9,
   "metadata": {},
   "outputs": [
    {
     "name": "stdout",
     "output_type": "stream",
     "text": [
      "24\n",
      "7\n",
      "31\n",
      "52\n",
      "8\n",
      "2\n",
      "1\n"
     ]
    }
   ],
   "source": [
    "print(hour_of_day_nunique)\n",
    "print(day_of_week_nunique)\n",
    "print(day_of_month_nunique)\n",
    "print(day_of_year_nunique)\n",
    "print(week_of_year_nunique)\n",
    "print(month_of_year_nunique)\n",
    "print(year_nunique)"
   ]
  },
  {
   "cell_type": "code",
   "execution_count": 10,
   "metadata": {},
   "outputs": [
    {
     "name": "stdout",
     "output_type": "stream",
     "text": [
      "66 \n",
      "\n",
      "[4, 12, 13, 24, 41, 42, 43, 45, 48, 50, 68, 74, 75, 79, 87, 88, 90, 100, 107, 113, 114, 116, 120, 125, 127, 128, 137, 140, 141, 142, 143, 144, 148, 151, 152, 153, 158, 161, 162, 163, 164, 166, 170, 186, 194, 202, 209, 211, 224, 229, 230, 231, 232, 233, 234, 236, 237, 238, 239, 243, 244, 246, 249, 261, 262, 263]\n"
     ]
    }
   ],
   "source": [
    "unique_values_group_no_ts_fresh = list(df['group'].unique())\n",
    "print(len(unique_values_group_no_ts_fresh), \"\\n\")\n",
    "print(unique_values_group_no_ts_fresh)"
   ]
  },
  {
   "cell_type": "code",
   "execution_count": 11,
   "metadata": {},
   "outputs": [
    {
     "name": "stdout",
     "output_type": "stream",
     "text": [
      "Group  4  has  1073  number of rows in df_ts_fresh \n",
      "\n",
      "First idx:  167 ; Last idx:  1239 \n",
      "\n",
      "Group  12  has  1216  number of rows in df_ts_fresh \n",
      "\n",
      "First idx:  24 ; Last idx:  1239 \n",
      "\n",
      "Group  13  has  1217  number of rows in df_ts_fresh \n",
      "\n",
      "First idx:  23 ; Last idx:  1239 \n",
      "\n",
      "Group  24  has  1072  number of rows in df_ts_fresh \n",
      "\n",
      "First idx:  168 ; Last idx:  1239 \n",
      "\n",
      "Group  41  has  1072  number of rows in df_ts_fresh \n",
      "\n",
      "First idx:  168 ; Last idx:  1239 \n",
      "\n",
      "Group  42  has  1072  number of rows in df_ts_fresh \n",
      "\n",
      "First idx:  168 ; Last idx:  1239 \n",
      "\n",
      "Group  43  has  1215  number of rows in df_ts_fresh \n",
      "\n",
      "First idx:  25 ; Last idx:  1239 \n",
      "\n",
      "Group  45  has  1073  number of rows in df_ts_fresh \n",
      "\n",
      "First idx:  167 ; Last idx:  1239 \n",
      "\n",
      "Group  48  has  1215  number of rows in df_ts_fresh \n",
      "\n",
      "First idx:  25 ; Last idx:  1239 \n",
      "\n",
      "Group  50  has  1073  number of rows in df_ts_fresh \n",
      "\n",
      "First idx:  167 ; Last idx:  1239 \n",
      "\n",
      "Group  68  has  1217  number of rows in df_ts_fresh \n",
      "\n",
      "First idx:  23 ; Last idx:  1239 \n",
      "\n",
      "Group  74  has  1072  number of rows in df_ts_fresh \n",
      "\n",
      "First idx:  168 ; Last idx:  1239 \n",
      "\n",
      "Group  75  has  1217  number of rows in df_ts_fresh \n",
      "\n",
      "First idx:  23 ; Last idx:  1239 \n",
      "\n",
      "Group  79  has  1074  number of rows in df_ts_fresh \n",
      "\n",
      "First idx:  166 ; Last idx:  1239 \n",
      "\n",
      "Group  87  has  1217  number of rows in df_ts_fresh \n",
      "\n",
      "First idx:  23 ; Last idx:  1239 \n",
      "\n",
      "Group  88  has  1217  number of rows in df_ts_fresh \n",
      "\n",
      "First idx:  23 ; Last idx:  1239 \n",
      "\n",
      "Group  90  has  1215  number of rows in df_ts_fresh \n",
      "\n",
      "First idx:  25 ; Last idx:  1239 \n",
      "\n",
      "Group  100  has  1073  number of rows in df_ts_fresh \n",
      "\n",
      "First idx:  167 ; Last idx:  1239 \n",
      "\n",
      "Group  107  has  1215  number of rows in df_ts_fresh \n",
      "\n",
      "First idx:  25 ; Last idx:  1239 \n",
      "\n",
      "Group  113  has  1217  number of rows in df_ts_fresh \n",
      "\n",
      "First idx:  23 ; Last idx:  1239 \n",
      "\n",
      "Group  114  has  1073  number of rows in df_ts_fresh \n",
      "\n",
      "First idx:  167 ; Last idx:  1239 \n",
      "\n",
      "Group  116  has  1072  number of rows in df_ts_fresh \n",
      "\n",
      "First idx:  168 ; Last idx:  1239 \n",
      "\n",
      "Group  120  has  1142  number of rows in df_ts_fresh \n",
      "\n",
      "First idx:  98 ; Last idx:  1239 \n",
      "\n",
      "Group  125  has  1097  number of rows in df_ts_fresh \n",
      "\n",
      "First idx:  143 ; Last idx:  1239 \n",
      "\n",
      "Group  127  has  1072  number of rows in df_ts_fresh \n",
      "\n",
      "First idx:  168 ; Last idx:  1239 \n",
      "\n",
      "Group  128  has  1096  number of rows in df_ts_fresh \n",
      "\n",
      "First idx:  144 ; Last idx:  1239 \n",
      "\n",
      "Group  137  has  1214  number of rows in df_ts_fresh \n",
      "\n",
      "First idx:  26 ; Last idx:  1239 \n",
      "\n",
      "Group  140  has  1215  number of rows in df_ts_fresh \n",
      "\n",
      "First idx:  25 ; Last idx:  1239 \n",
      "\n",
      "Group  141  has  1217  number of rows in df_ts_fresh \n",
      "\n",
      "First idx:  23 ; Last idx:  1239 \n",
      "\n",
      "Group  142  has  1217  number of rows in df_ts_fresh \n",
      "\n",
      "First idx:  23 ; Last idx:  1239 \n",
      "\n",
      "Group  143  has  1073  number of rows in df_ts_fresh \n",
      "\n",
      "First idx:  167 ; Last idx:  1239 \n",
      "\n",
      "Group  144  has  1073  number of rows in df_ts_fresh \n",
      "\n",
      "First idx:  167 ; Last idx:  1239 \n",
      "\n",
      "Group  148  has  1074  number of rows in df_ts_fresh \n",
      "\n",
      "First idx:  166 ; Last idx:  1239 \n",
      "\n",
      "Group  151  has  1072  number of rows in df_ts_fresh \n",
      "\n",
      "First idx:  168 ; Last idx:  1239 \n",
      "\n",
      "Group  152  has  1072  number of rows in df_ts_fresh \n",
      "\n",
      "First idx:  168 ; Last idx:  1239 \n",
      "\n",
      "Group  153  has  1072  number of rows in df_ts_fresh \n",
      "\n",
      "First idx:  168 ; Last idx:  1239 \n",
      "\n",
      "Group  158  has  1073  number of rows in df_ts_fresh \n",
      "\n",
      "First idx:  167 ; Last idx:  1239 \n",
      "\n",
      "Group  161  has  1071  number of rows in df_ts_fresh \n",
      "\n",
      "First idx:  169 ; Last idx:  1239 \n",
      "\n",
      "Group  162  has  1215  number of rows in df_ts_fresh \n",
      "\n",
      "First idx:  25 ; Last idx:  1239 \n",
      "\n",
      "Group  163  has  1215  number of rows in df_ts_fresh \n",
      "\n",
      "First idx:  25 ; Last idx:  1239 \n",
      "\n",
      "Group  164  has  1217  number of rows in df_ts_fresh \n",
      "\n",
      "First idx:  23 ; Last idx:  1239 \n",
      "\n",
      "Group  166  has  1217  number of rows in df_ts_fresh \n",
      "\n",
      "First idx:  23 ; Last idx:  1239 \n",
      "\n",
      "Group  170  has  1215  number of rows in df_ts_fresh \n",
      "\n",
      "First idx:  25 ; Last idx:  1239 \n",
      "\n",
      "Group  186  has  1072  number of rows in df_ts_fresh \n",
      "\n",
      "First idx:  168 ; Last idx:  1239 \n",
      "\n",
      "Group  194  has  1216  number of rows in df_ts_fresh \n",
      "\n",
      "First idx:  24 ; Last idx:  1239 \n",
      "\n",
      "Group  202  has  1072  number of rows in df_ts_fresh \n",
      "\n",
      "First idx:  168 ; Last idx:  1239 \n",
      "\n",
      "Group  209  has  1073  number of rows in df_ts_fresh \n",
      "\n",
      "First idx:  167 ; Last idx:  1239 \n",
      "\n",
      "Group  211  has  1073  number of rows in df_ts_fresh \n",
      "\n",
      "First idx:  167 ; Last idx:  1239 \n",
      "\n",
      "Group  224  has  1072  number of rows in df_ts_fresh \n",
      "\n",
      "First idx:  168 ; Last idx:  1239 \n",
      "\n",
      "Group  229  has  1217  number of rows in df_ts_fresh \n",
      "\n",
      "First idx:  23 ; Last idx:  1239 \n",
      "\n",
      "Group  230  has  1071  number of rows in df_ts_fresh \n",
      "\n",
      "First idx:  169 ; Last idx:  1239 \n",
      "\n",
      "Group  231  has  1217  number of rows in df_ts_fresh \n",
      "\n",
      "First idx:  23 ; Last idx:  1239 \n",
      "\n",
      "Group  232  has  1073  number of rows in df_ts_fresh \n",
      "\n",
      "First idx:  167 ; Last idx:  1239 \n",
      "\n",
      "Group  233  has  1217  number of rows in df_ts_fresh \n",
      "\n",
      "First idx:  23 ; Last idx:  1239 \n",
      "\n",
      "Group  234  has  1215  number of rows in df_ts_fresh \n",
      "\n",
      "First idx:  25 ; Last idx:  1239 \n",
      "\n",
      "Group  236  has  1215  number of rows in df_ts_fresh \n",
      "\n",
      "First idx:  25 ; Last idx:  1239 \n",
      "\n",
      "Group  237  has  1215  number of rows in df_ts_fresh \n",
      "\n",
      "First idx:  25 ; Last idx:  1239 \n",
      "\n",
      "Group  238  has  1217  number of rows in df_ts_fresh \n",
      "\n",
      "First idx:  23 ; Last idx:  1239 \n",
      "\n",
      "Group  239  has  1217  number of rows in df_ts_fresh \n",
      "\n",
      "First idx:  23 ; Last idx:  1239 \n",
      "\n",
      "Group  243  has  1072  number of rows in df_ts_fresh \n",
      "\n",
      "First idx:  168 ; Last idx:  1239 \n",
      "\n",
      "Group  244  has  1072  number of rows in df_ts_fresh \n",
      "\n",
      "First idx:  168 ; Last idx:  1239 \n",
      "\n",
      "Group  246  has  1215  number of rows in df_ts_fresh \n",
      "\n",
      "First idx:  25 ; Last idx:  1239 \n",
      "\n",
      "Group  249  has  1098  number of rows in df_ts_fresh \n",
      "\n",
      "First idx:  142 ; Last idx:  1239 \n",
      "\n",
      "Group  261  has  1217  number of rows in df_ts_fresh \n",
      "\n",
      "First idx:  23 ; Last idx:  1239 \n",
      "\n",
      "Group  262  has  1073  number of rows in df_ts_fresh \n",
      "\n",
      "First idx:  167 ; Last idx:  1239 \n",
      "\n",
      "Group  263  has  1073  number of rows in df_ts_fresh \n",
      "\n",
      "First idx:  167 ; Last idx:  1239 \n",
      "\n"
     ]
    }
   ],
   "source": [
    "zones_time_idx_no_ts_fresh = {}\n",
    "for i in unique_values_group_no_ts_fresh:\n",
    "    df1 = df[df['group'] == i]\n",
    "    time_idx_list = df1['time_idx'].tolist()\n",
    "    first_idx = time_idx_list[0]\n",
    "    last_idx = time_idx_list[-1]\n",
    "    zones_time_idx_no_ts_fresh[i] = [first_idx, last_idx]\n",
    "    print(\"Group \", i, \" has \", df1.shape[0], \" number of rows in df_ts_fresh \\n\")\n",
    "    print(\"First idx: \", first_idx, \"; Last idx: \", last_idx, \"\\n\")"
   ]
  },
  {
   "cell_type": "code",
   "execution_count": 12,
   "metadata": {},
   "outputs": [
    {
     "name": "stdout",
     "output_type": "stream",
     "text": [
      "851\n",
      "843\n",
      "1216\n"
     ]
    }
   ],
   "source": [
    "encoder_len = 8 # looks back 8 hours in the past for prediction\n",
    "pred_len = 1 # 1, 6, 12 # how many timeseteps you want to predict in the future (forecasting), 1 means present (nowcasting)\n",
    "#cov_lag_len= pred_len\n",
    "\n",
    "# not using covariates yet, so put as 0\n",
    "cov_lag_len= 0 #we can use forecasted values, even for inflow\n",
    "\n",
    "####### train val test split of tsfresh dataframe #########\n",
    "\n",
    "### you want a the idx for each train, validation and test\n",
    "\n",
    "### train = 0.7 of each zone (eg. time idx 167 to roughly 20000) eg train = 0.7 * (24812-167)\n",
    "### validation = 0.2 of each zone (eg. time idx 20000 to 22000)\n",
    "### test = 0.1 of each zone (eg. time idx 22000 to 24000)\n",
    "\n",
    "Target = 'target'\n",
    "\n",
    "total_time_idx = df[df.group == 13].shape[0]\n",
    "\n",
    "first_idx = df.loc[df['group'] == 13, 'time_idx'].iloc[0]\n",
    "\n",
    "tr_stop_idx = int(0.7*total_time_idx)\n",
    "val_start_idx = tr_stop_idx - encoder_len\n",
    "val_stop_idx = total_time_idx-1\n",
    "# val_stop_idx = val_start_idx + int(0.2*total_time_idx) # use (tr_stop_idx - encoder_len) as encoder from train set for validatoin\n",
    "# tes_start_idx = val_stop_idx - encoder_len\n",
    "# tes_stop_idx = total_time_idx-1\n",
    "\n",
    "print(tr_stop_idx)\n",
    "print(val_start_idx)\n",
    "print(val_stop_idx)\n",
    "# print(tes_start_idx)\n",
    "# print(tes_stop_idx)"
   ]
  },
  {
   "cell_type": "code",
   "execution_count": 13,
   "metadata": {},
   "outputs": [
    {
     "name": "stdout",
     "output_type": "stream",
     "text": [
      "23 874\n",
      "866 1239\n"
     ]
    }
   ],
   "source": [
    "train_time_idx = [*range(first_idx, first_idx+tr_stop_idx+1, 1)]\n",
    "print(train_time_idx[0], train_time_idx[-1])\n",
    "val_time_idx = [*range(first_idx+val_start_idx, first_idx+val_stop_idx+1, 1)]\n",
    "print(val_time_idx[0], val_time_idx[-1])\n",
    "# test_time_idx = [*range(first_idx+tes_start_idx, first_idx+tes_stop_idx+1, 1)]\n",
    "# print(test_time_idx[0], test_time_idx[-1])"
   ]
  },
  {
   "cell_type": "code",
   "execution_count": 14,
   "metadata": {},
   "outputs": [],
   "source": [
    "# unique_zones = list(df['group'].unique())"
   ]
  },
  {
   "cell_type": "code",
   "execution_count": 15,
   "metadata": {},
   "outputs": [],
   "source": [
    "\"\"\"\n",
    "set inputs here\n",
    "(hyperparameters grid search)\n",
    "\n",
    "\"\"\"\n",
    "######### Network Architecture ###################\n",
    "# p = 10 # patience no. of epochs\n",
    "\n",
    "Loss=NegativeBinomialDistributionLoss() # because we assume that the demand follows a negative bionmial distribution\n",
    "\n",
    "######### Network Architecture ###################\n",
    "\n",
    "\n",
    "######### Training Routine ###################\n",
    "fdv_steps = 10 # fast_dev_run -> small set of training to see if training is happening correctly (one of the params in deepar model)\n",
    "######### Training Routine ###################\n",
    "\n",
    "\n",
    "# this is for naive forecast, getting past week's demand and predicting purely based on that\n",
    "############## Inputs for 2) Persistance model ( seasonal naive forecast ) #######################\n",
    "season_len = 168 # length of season ()\n",
    "num_past_seas = 6 # number of past seasons to use in averaging (look at 6 week's back, getting average of these 6 values)\n",
    "#seas_pred_strt_idx = 2035 # seasonal naive forecast start index, in hours use the df dataframe\n",
    "############## Inputs for 2) Persistance model ( seasonal naive forecast ) #######################\n"
   ]
  },
  {
   "cell_type": "code",
   "execution_count": 16,
   "metadata": {},
   "outputs": [
    {
     "name": "stderr",
     "output_type": "stream",
     "text": [
      "\u001b[32m[I 2024-03-28 18:47:55,331]\u001b[0m A new study created in memory with name: no-name-139b184a-dd70-4685-91ea-fda84490279d\u001b[0m\n"
     ]
    },
    {
     "name": "stderr",
     "output_type": "stream",
     "text": [
      "GPU available: True (cuda), used: True\n",
      "TPU available: False, using: 0 TPU cores\n",
      "IPU available: False, using: 0 IPUs\n",
      "HPU available: False, using: 0 HPUs\n",
      "`Trainer(limit_train_batches=1.0)` was configured so 100% of the batches per epoch will be used..\n",
      "`Trainer(limit_val_batches=1.0)` was configured so 100% of the batches will be used..\n",
      "Missing logger folder: /home/optimusprime/Desktop/Timothy_EXP_2/Round_0_logs/lightning_logs\n",
      "LOCAL_RANK: 0 - CUDA_VISIBLE_DEVICES: [0]\n",
      "\n",
      "  | Name                   | Type                             | Params\n",
      "----------------------------------------------------------------------------\n",
      "0 | loss                   | NegativeBinomialDistributionLoss | 0     \n",
      "1 | logging_metrics        | ModuleList                       | 0     \n",
      "2 | embeddings             | MultiEmbedding                   | 787   \n",
      "3 | rnn                    | LSTM                             | 11.4 K\n",
      "4 | distribution_projector | Linear                           | 22    \n",
      "----------------------------------------------------------------------------\n",
      "12.2 K    Trainable params\n",
      "0         Non-trainable params\n",
      "12.2 K    Total params\n",
      "0.049     Total estimated model params size (MB)\n"
     ]
    },
    {
     "name": "stdout",
     "output_type": "stream",
     "text": [
      "Epoch 0: 100%|██████████| 86/86 [00:26<00:00,  3.31it/s, loss=30, v_num=0, train_loss_step=26.70, val_loss=31.00]"
     ]
    },
    {
     "name": "stderr",
     "output_type": "stream",
     "text": [
      "Metric val_loss improved. New best score: 30.957\n"
     ]
    },
    {
     "name": "stdout",
     "output_type": "stream",
     "text": [
      "Epoch 1: 100%|██████████| 86/86 [00:25<00:00,  3.42it/s, loss=19.9, v_num=0, train_loss_step=19.30, val_loss=18.00, train_loss_epoch=31.50]"
     ]
    },
    {
     "name": "stderr",
     "output_type": "stream",
     "text": [
      "Metric val_loss improved by 12.942 >= min_delta = 0. New best score: 18.015\n"
     ]
    },
    {
     "name": "stdout",
     "output_type": "stream",
     "text": [
      "Epoch 2: 100%|██████████| 86/86 [00:24<00:00,  3.46it/s, loss=8.21, v_num=0, train_loss_step=7.010, val_loss=7.670, train_loss_epoch=23.60]"
     ]
    },
    {
     "name": "stderr",
     "output_type": "stream",
     "text": [
      "Metric val_loss improved by 10.341 >= min_delta = 0. New best score: 7.674\n"
     ]
    },
    {
     "name": "stdout",
     "output_type": "stream",
     "text": [
      "Epoch 3: 100%|██████████| 86/86 [00:24<00:00,  3.46it/s, loss=5.41, v_num=0, train_loss_step=5.260, val_loss=5.430, train_loss_epoch=11.40]"
     ]
    },
    {
     "name": "stderr",
     "output_type": "stream",
     "text": [
      "Metric val_loss improved by 2.246 >= min_delta = 0. New best score: 5.427\n"
     ]
    },
    {
     "name": "stdout",
     "output_type": "stream",
     "text": [
      "Epoch 4: 100%|██████████| 86/86 [00:24<00:00,  3.47it/s, loss=4.65, v_num=0, train_loss_step=4.620, val_loss=4.760, train_loss_epoch=6.060]"
     ]
    },
    {
     "name": "stderr",
     "output_type": "stream",
     "text": [
      "Metric val_loss improved by 0.672 >= min_delta = 0. New best score: 4.756\n"
     ]
    },
    {
     "name": "stdout",
     "output_type": "stream",
     "text": [
      "Epoch 5: 100%|██████████| 86/86 [00:24<00:00,  3.46it/s, loss=4.38, v_num=0, train_loss_step=4.480, val_loss=4.530, train_loss_epoch=4.850]"
     ]
    },
    {
     "name": "stderr",
     "output_type": "stream",
     "text": [
      "Metric val_loss improved by 0.224 >= min_delta = 0. New best score: 4.532\n"
     ]
    },
    {
     "name": "stdout",
     "output_type": "stream",
     "text": [
      "Epoch 6: 100%|██████████| 86/86 [00:25<00:00,  3.43it/s, loss=4.25, v_num=0, train_loss_step=4.290, val_loss=4.410, train_loss_epoch=4.450]"
     ]
    },
    {
     "name": "stderr",
     "output_type": "stream",
     "text": [
      "Metric val_loss improved by 0.120 >= min_delta = 0. New best score: 4.412\n"
     ]
    },
    {
     "name": "stdout",
     "output_type": "stream",
     "text": [
      "Epoch 7: 100%|██████████| 86/86 [00:25<00:00,  3.43it/s, loss=4.19, v_num=0, train_loss_step=4.210, val_loss=4.330, train_loss_epoch=4.310]"
     ]
    },
    {
     "name": "stderr",
     "output_type": "stream",
     "text": [
      "Metric val_loss improved by 0.081 >= min_delta = 0. New best score: 4.330\n"
     ]
    },
    {
     "name": "stdout",
     "output_type": "stream",
     "text": [
      "Epoch 8: 100%|██████████| 86/86 [00:25<00:00,  3.43it/s, loss=4.14, v_num=0, train_loss_step=4.210, val_loss=4.270, train_loss_epoch=4.220]"
     ]
    },
    {
     "name": "stderr",
     "output_type": "stream",
     "text": [
      "Metric val_loss improved by 0.062 >= min_delta = 0. New best score: 4.268\n"
     ]
    },
    {
     "name": "stdout",
     "output_type": "stream",
     "text": [
      "Epoch 9: 100%|██████████| 86/86 [00:24<00:00,  3.45it/s, loss=4.08, v_num=0, train_loss_step=4.040, val_loss=4.220, train_loss_epoch=4.150]"
     ]
    },
    {
     "name": "stderr",
     "output_type": "stream",
     "text": [
      "Metric val_loss improved by 0.049 >= min_delta = 0. New best score: 4.219\n"
     ]
    },
    {
     "name": "stdout",
     "output_type": "stream",
     "text": [
      "Epoch 10: 100%|██████████| 86/86 [00:25<00:00,  3.44it/s, loss=4.07, v_num=0, train_loss_step=4.070, val_loss=4.190, train_loss_epoch=4.100]"
     ]
    },
    {
     "name": "stderr",
     "output_type": "stream",
     "text": [
      "Metric val_loss improved by 0.029 >= min_delta = 0. New best score: 4.190\n"
     ]
    },
    {
     "name": "stdout",
     "output_type": "stream",
     "text": [
      "Epoch 11: 100%|██████████| 86/86 [00:25<00:00,  3.44it/s, loss=4.06, v_num=0, train_loss_step=4.000, val_loss=4.170, train_loss_epoch=4.070]"
     ]
    },
    {
     "name": "stderr",
     "output_type": "stream",
     "text": [
      "Metric val_loss improved by 0.020 >= min_delta = 0. New best score: 4.170\n"
     ]
    },
    {
     "name": "stdout",
     "output_type": "stream",
     "text": [
      "Epoch 12: 100%|██████████| 86/86 [00:24<00:00,  3.45it/s, loss=4.02, v_num=0, train_loss_step=4.000, val_loss=4.150, train_loss_epoch=4.050]"
     ]
    },
    {
     "name": "stderr",
     "output_type": "stream",
     "text": [
      "Metric val_loss improved by 0.016 >= min_delta = 0. New best score: 4.153\n"
     ]
    },
    {
     "name": "stdout",
     "output_type": "stream",
     "text": [
      "Epoch 13: 100%|██████████| 86/86 [00:25<00:00,  3.40it/s, loss=4.03, v_num=0, train_loss_step=3.990, val_loss=4.140, train_loss_epoch=4.030]"
     ]
    },
    {
     "name": "stderr",
     "output_type": "stream",
     "text": [
      "Metric val_loss improved by 0.011 >= min_delta = 0. New best score: 4.142\n"
     ]
    },
    {
     "name": "stdout",
     "output_type": "stream",
     "text": [
      "Epoch 14: 100%|██████████| 86/86 [00:25<00:00,  3.43it/s, loss=4, v_num=0, train_loss_step=4.010, val_loss=4.130, train_loss_epoch=4.020]   "
     ]
    },
    {
     "name": "stderr",
     "output_type": "stream",
     "text": [
      "Metric val_loss improved by 0.009 >= min_delta = 0. New best score: 4.134\n"
     ]
    },
    {
     "name": "stdout",
     "output_type": "stream",
     "text": [
      "Epoch 15: 100%|██████████| 86/86 [00:24<00:00,  3.48it/s, loss=4.02, v_num=0, train_loss_step=4.000, val_loss=4.130, train_loss_epoch=4.010]"
     ]
    },
    {
     "name": "stderr",
     "output_type": "stream",
     "text": [
      "Metric val_loss improved by 0.008 >= min_delta = 0. New best score: 4.126\n"
     ]
    },
    {
     "name": "stdout",
     "output_type": "stream",
     "text": [
      "Epoch 16: 100%|██████████| 86/86 [00:25<00:00,  3.43it/s, loss=4.02, v_num=0, train_loss_step=3.980, val_loss=4.120, train_loss_epoch=4.010]"
     ]
    },
    {
     "name": "stderr",
     "output_type": "stream",
     "text": [
      "Metric val_loss improved by 0.005 >= min_delta = 0. New best score: 4.120\n"
     ]
    },
    {
     "name": "stdout",
     "output_type": "stream",
     "text": [
      "Epoch 17: 100%|██████████| 86/86 [00:25<00:00,  3.43it/s, loss=4, v_num=0, train_loss_step=4.080, val_loss=4.120, train_loss_epoch=4.000]   "
     ]
    },
    {
     "name": "stderr",
     "output_type": "stream",
     "text": [
      "Metric val_loss improved by 0.004 >= min_delta = 0. New best score: 4.116\n"
     ]
    },
    {
     "name": "stdout",
     "output_type": "stream",
     "text": [
      "Epoch 18: 100%|██████████| 86/86 [00:25<00:00,  3.44it/s, loss=4, v_num=0, train_loss_step=4.000, val_loss=4.110, train_loss_epoch=4.000]   "
     ]
    },
    {
     "name": "stderr",
     "output_type": "stream",
     "text": [
      "Metric val_loss improved by 0.004 >= min_delta = 0. New best score: 4.112\n"
     ]
    },
    {
     "name": "stdout",
     "output_type": "stream",
     "text": [
      "Epoch 19: 100%|██████████| 86/86 [00:24<00:00,  3.44it/s, loss=4, v_num=0, train_loss_step=3.850, val_loss=4.110, train_loss_epoch=4.000]   "
     ]
    },
    {
     "name": "stderr",
     "output_type": "stream",
     "text": [
      "Metric val_loss improved by 0.003 >= min_delta = 0. New best score: 4.109\n"
     ]
    },
    {
     "name": "stdout",
     "output_type": "stream",
     "text": [
      "Epoch 20: 100%|██████████| 86/86 [00:25<00:00,  3.40it/s, loss=3.99, v_num=0, train_loss_step=3.990, val_loss=4.110, train_loss_epoch=3.990]"
     ]
    },
    {
     "name": "stderr",
     "output_type": "stream",
     "text": [
      "Metric val_loss improved by 0.002 >= min_delta = 0. New best score: 4.106\n"
     ]
    },
    {
     "name": "stdout",
     "output_type": "stream",
     "text": [
      "Epoch 21: 100%|██████████| 86/86 [00:25<00:00,  3.41it/s, loss=4.01, v_num=0, train_loss_step=4.000, val_loss=4.100, train_loss_epoch=3.990]"
     ]
    },
    {
     "name": "stderr",
     "output_type": "stream",
     "text": [
      "Metric val_loss improved by 0.002 >= min_delta = 0. New best score: 4.104\n"
     ]
    },
    {
     "name": "stdout",
     "output_type": "stream",
     "text": [
      "Epoch 22: 100%|██████████| 86/86 [00:25<00:00,  3.41it/s, loss=3.99, v_num=0, train_loss_step=3.980, val_loss=4.100, train_loss_epoch=3.990]"
     ]
    },
    {
     "name": "stderr",
     "output_type": "stream",
     "text": [
      "Metric val_loss improved by 0.002 >= min_delta = 0. New best score: 4.102\n"
     ]
    },
    {
     "name": "stdout",
     "output_type": "stream",
     "text": [
      "Epoch 23: 100%|██████████| 86/86 [00:24<00:00,  3.45it/s, loss=4, v_num=0, train_loss_step=3.970, val_loss=4.100, train_loss_epoch=3.990]   "
     ]
    },
    {
     "name": "stderr",
     "output_type": "stream",
     "text": [
      "Metric val_loss improved by 0.001 >= min_delta = 0. New best score: 4.101\n"
     ]
    },
    {
     "name": "stdout",
     "output_type": "stream",
     "text": [
      "Epoch 24: 100%|██████████| 86/86 [00:25<00:00,  3.43it/s, loss=3.98, v_num=0, train_loss_step=3.990, val_loss=4.100, train_loss_epoch=3.990]"
     ]
    },
    {
     "name": "stderr",
     "output_type": "stream",
     "text": [
      "Metric val_loss improved by 0.001 >= min_delta = 0. New best score: 4.100\n"
     ]
    },
    {
     "name": "stdout",
     "output_type": "stream",
     "text": [
      "Epoch 25: 100%|██████████| 86/86 [00:25<00:00,  3.43it/s, loss=3.99, v_num=0, train_loss_step=4.000, val_loss=4.100, train_loss_epoch=3.990]"
     ]
    },
    {
     "name": "stderr",
     "output_type": "stream",
     "text": [
      "Metric val_loss improved by 0.002 >= min_delta = 0. New best score: 4.098\n"
     ]
    },
    {
     "name": "stdout",
     "output_type": "stream",
     "text": [
      "Epoch 26: 100%|██████████| 86/86 [00:24<00:00,  3.45it/s, loss=3.98, v_num=0, train_loss_step=3.860, val_loss=4.100, train_loss_epoch=3.990]"
     ]
    },
    {
     "name": "stderr",
     "output_type": "stream",
     "text": [
      "Metric val_loss improved by 0.001 >= min_delta = 0. New best score: 4.098\n"
     ]
    },
    {
     "name": "stdout",
     "output_type": "stream",
     "text": [
      "Epoch 27: 100%|██████████| 86/86 [00:25<00:00,  3.43it/s, loss=3.99, v_num=0, train_loss_step=4.010, val_loss=4.100, train_loss_epoch=3.990]"
     ]
    },
    {
     "name": "stderr",
     "output_type": "stream",
     "text": [
      "Metric val_loss improved by 0.000 >= min_delta = 0. New best score: 4.097\n"
     ]
    },
    {
     "name": "stdout",
     "output_type": "stream",
     "text": [
      "Epoch 28: 100%|██████████| 86/86 [00:25<00:00,  3.42it/s, loss=3.98, v_num=0, train_loss_step=3.950, val_loss=4.100, train_loss_epoch=3.990]"
     ]
    },
    {
     "name": "stderr",
     "output_type": "stream",
     "text": [
      "Metric val_loss improved by 0.001 >= min_delta = 0. New best score: 4.096\n"
     ]
    },
    {
     "name": "stdout",
     "output_type": "stream",
     "text": [
      "Epoch 29: 100%|██████████| 86/86 [00:24<00:00,  3.45it/s, loss=3.98, v_num=0, train_loss_step=3.960, val_loss=4.100, train_loss_epoch=3.990]"
     ]
    },
    {
     "name": "stderr",
     "output_type": "stream",
     "text": [
      "`Trainer.fit` stopped: `max_epochs=30` reached.\n"
     ]
    },
    {
     "name": "stdout",
     "output_type": "stream",
     "text": [
      "Epoch 29: 100%|██████████| 86/86 [00:24<00:00,  3.45it/s, loss=3.98, v_num=0, train_loss_step=3.960, val_loss=4.100, train_loss_epoch=3.990]"
     ]
    },
    {
     "name": "stderr",
     "output_type": "stream",
     "text": [
      "\u001b[32m[I 2024-03-28 19:00:33,325]\u001b[0m Trial 0 finished with value: 59.702266693115234 and parameters: {'neu': 10, 'lay': 5, 'bat': 864, 'lr': 0.00929303880031486, 'dropout': 0.8}. Best is trial 0 with value: 59.702266693115234.\u001b[0m\n"
     ]
    },
    {
     "name": "stdout",
     "output_type": "stream",
     "text": [
      "\n"
     ]
    },
    {
     "name": "stderr",
     "output_type": "stream",
     "text": [
      "GPU available: True (cuda), used: True\n",
      "TPU available: False, using: 0 TPU cores\n",
      "IPU available: False, using: 0 IPUs\n",
      "HPU available: False, using: 0 HPUs\n",
      "`Trainer(limit_train_batches=1.0)` was configured so 100% of the batches per epoch will be used..\n",
      "`Trainer(limit_val_batches=1.0)` was configured so 100% of the batches will be used..\n",
      "LOCAL_RANK: 0 - CUDA_VISIBLE_DEVICES: [0]\n",
      "\n",
      "  | Name                   | Type                             | Params\n",
      "----------------------------------------------------------------------------\n",
      "0 | loss                   | NegativeBinomialDistributionLoss | 0     \n",
      "1 | logging_metrics        | ModuleList                       | 0     \n",
      "2 | embeddings             | MultiEmbedding                   | 787   \n",
      "3 | rnn                    | LSTM                             | 9.8 M \n",
      "4 | distribution_projector | Linear                           | 1.0 K \n",
      "----------------------------------------------------------------------------\n",
      "9.8 M     Trainable params\n",
      "0         Non-trainable params\n",
      "9.8 M     Total params\n",
      "39.061    Total estimated model params size (MB)\n"
     ]
    },
    {
     "name": "stdout",
     "output_type": "stream",
     "text": [
      "Epoch 0: 100%|██████████| 98/98 [00:26<00:00,  3.74it/s, loss=27.8, v_num=1, train_loss_step=28.40, val_loss=30.70]"
     ]
    },
    {
     "name": "stderr",
     "output_type": "stream",
     "text": [
      "Metric val_loss improved. New best score: 30.693\n"
     ]
    },
    {
     "name": "stdout",
     "output_type": "stream",
     "text": [
      "Epoch 1: 100%|██████████| 98/98 [00:26<00:00,  3.72it/s, loss=27.7, v_num=1, train_loss_step=30.20, val_loss=30.20, train_loss_epoch=28.30]"
     ]
    },
    {
     "name": "stderr",
     "output_type": "stream",
     "text": [
      "Metric val_loss improved by 0.463 >= min_delta = 0. New best score: 30.231\n"
     ]
    },
    {
     "name": "stdout",
     "output_type": "stream",
     "text": [
      "Epoch 2: 100%|██████████| 98/98 [00:26<00:00,  3.75it/s, loss=27.1, v_num=1, train_loss_step=27.80, val_loss=29.50, train_loss_epoch=28.00]"
     ]
    },
    {
     "name": "stderr",
     "output_type": "stream",
     "text": [
      "Metric val_loss improved by 0.706 >= min_delta = 0. New best score: 29.524\n"
     ]
    },
    {
     "name": "stdout",
     "output_type": "stream",
     "text": [
      "Epoch 3: 100%|██████████| 98/98 [00:26<00:00,  3.74it/s, loss=26.2, v_num=1, train_loss_step=24.70, val_loss=28.50, train_loss_epoch=27.50]"
     ]
    },
    {
     "name": "stderr",
     "output_type": "stream",
     "text": [
      "Metric val_loss improved by 1.068 >= min_delta = 0. New best score: 28.456\n"
     ]
    },
    {
     "name": "stdout",
     "output_type": "stream",
     "text": [
      "Epoch 4: 100%|██████████| 98/98 [00:26<00:00,  3.75it/s, loss=24.7, v_num=1, train_loss_step=25.50, val_loss=26.60, train_loss_epoch=26.60]"
     ]
    },
    {
     "name": "stderr",
     "output_type": "stream",
     "text": [
      "Metric val_loss improved by 1.844 >= min_delta = 0. New best score: 26.612\n"
     ]
    },
    {
     "name": "stdout",
     "output_type": "stream",
     "text": [
      "Epoch 5: 100%|██████████| 98/98 [00:26<00:00,  3.71it/s, loss=21.7, v_num=1, train_loss_step=21.10, val_loss=22.70, train_loss_epoch=25.40]"
     ]
    },
    {
     "name": "stderr",
     "output_type": "stream",
     "text": [
      "Metric val_loss improved by 3.874 >= min_delta = 0. New best score: 22.738\n"
     ]
    },
    {
     "name": "stdout",
     "output_type": "stream",
     "text": [
      "Epoch 6: 100%|██████████| 98/98 [00:26<00:00,  3.77it/s, loss=15.1, v_num=1, train_loss_step=12.60, val_loss=14.90, train_loss_epoch=22.90]"
     ]
    },
    {
     "name": "stderr",
     "output_type": "stream",
     "text": [
      "Metric val_loss improved by 7.806 >= min_delta = 0. New best score: 14.932\n"
     ]
    },
    {
     "name": "stdout",
     "output_type": "stream",
     "text": [
      "Epoch 7: 100%|██████████| 98/98 [00:26<00:00,  3.74it/s, loss=7.75, v_num=1, train_loss_step=6.890, val_loss=7.570, train_loss_epoch=17.60]"
     ]
    },
    {
     "name": "stderr",
     "output_type": "stream",
     "text": [
      "Metric val_loss improved by 7.361 >= min_delta = 0. New best score: 7.571\n"
     ]
    },
    {
     "name": "stdout",
     "output_type": "stream",
     "text": [
      "Epoch 8: 100%|██████████| 98/98 [00:26<00:00,  3.74it/s, loss=4.97, v_num=1, train_loss_step=4.750, val_loss=5.040, train_loss_epoch=10.10]"
     ]
    },
    {
     "name": "stderr",
     "output_type": "stream",
     "text": [
      "Metric val_loss improved by 2.529 >= min_delta = 0. New best score: 5.043\n"
     ]
    },
    {
     "name": "stdout",
     "output_type": "stream",
     "text": [
      "Epoch 9: 100%|██████████| 98/98 [00:26<00:00,  3.73it/s, loss=4.35, v_num=1, train_loss_step=4.310, val_loss=4.460, train_loss_epoch=5.690]"
     ]
    },
    {
     "name": "stderr",
     "output_type": "stream",
     "text": [
      "Metric val_loss improved by 0.580 >= min_delta = 0. New best score: 4.462\n"
     ]
    },
    {
     "name": "stdout",
     "output_type": "stream",
     "text": [
      "Epoch 10: 100%|██████████| 98/98 [00:26<00:00,  3.73it/s, loss=4.14, v_num=1, train_loss_step=4.180, val_loss=4.310, train_loss_epoch=4.500]"
     ]
    },
    {
     "name": "stderr",
     "output_type": "stream",
     "text": [
      "Metric val_loss improved by 0.150 >= min_delta = 0. New best score: 4.312\n"
     ]
    },
    {
     "name": "stdout",
     "output_type": "stream",
     "text": [
      "Epoch 11: 100%|██████████| 98/98 [00:25<00:00,  3.78it/s, loss=4.07, v_num=1, train_loss_step=3.870, val_loss=4.220, train_loss_epoch=4.220]"
     ]
    },
    {
     "name": "stderr",
     "output_type": "stream",
     "text": [
      "Metric val_loss improved by 0.092 >= min_delta = 0. New best score: 4.220\n"
     ]
    },
    {
     "name": "stdout",
     "output_type": "stream",
     "text": [
      "Epoch 12: 100%|██████████| 98/98 [00:26<00:00,  3.71it/s, loss=4, v_num=1, train_loss_step=4.120, val_loss=4.150, train_loss_epoch=4.120]   "
     ]
    },
    {
     "name": "stderr",
     "output_type": "stream",
     "text": [
      "Metric val_loss improved by 0.075 >= min_delta = 0. New best score: 4.146\n"
     ]
    },
    {
     "name": "stdout",
     "output_type": "stream",
     "text": [
      "Epoch 13: 100%|██████████| 98/98 [00:26<00:00,  3.75it/s, loss=3.94, v_num=1, train_loss_step=4.040, val_loss=4.080, train_loss_epoch=4.030]"
     ]
    },
    {
     "name": "stderr",
     "output_type": "stream",
     "text": [
      "Metric val_loss improved by 0.062 >= min_delta = 0. New best score: 4.084\n"
     ]
    },
    {
     "name": "stdout",
     "output_type": "stream",
     "text": [
      "Epoch 14: 100%|██████████| 98/98 [00:26<00:00,  3.74it/s, loss=3.92, v_num=1, train_loss_step=3.800, val_loss=4.040, train_loss_epoch=3.970]"
     ]
    },
    {
     "name": "stderr",
     "output_type": "stream",
     "text": [
      "Metric val_loss improved by 0.048 >= min_delta = 0. New best score: 4.036\n"
     ]
    },
    {
     "name": "stdout",
     "output_type": "stream",
     "text": [
      "Epoch 15: 100%|██████████| 98/98 [00:25<00:00,  3.77it/s, loss=3.86, v_num=1, train_loss_step=3.950, val_loss=3.990, train_loss_epoch=3.920]"
     ]
    },
    {
     "name": "stderr",
     "output_type": "stream",
     "text": [
      "Metric val_loss improved by 0.041 >= min_delta = 0. New best score: 3.995\n"
     ]
    },
    {
     "name": "stdout",
     "output_type": "stream",
     "text": [
      "Epoch 16: 100%|██████████| 98/98 [00:26<00:00,  3.76it/s, loss=3.81, v_num=1, train_loss_step=3.790, val_loss=3.960, train_loss_epoch=3.870]"
     ]
    },
    {
     "name": "stderr",
     "output_type": "stream",
     "text": [
      "Metric val_loss improved by 0.037 >= min_delta = 0. New best score: 3.957\n"
     ]
    },
    {
     "name": "stdout",
     "output_type": "stream",
     "text": [
      "Epoch 17: 100%|██████████| 98/98 [00:26<00:00,  3.74it/s, loss=3.81, v_num=1, train_loss_step=3.820, val_loss=3.920, train_loss_epoch=3.840]"
     ]
    },
    {
     "name": "stderr",
     "output_type": "stream",
     "text": [
      "Metric val_loss improved by 0.037 >= min_delta = 0. New best score: 3.921\n"
     ]
    },
    {
     "name": "stdout",
     "output_type": "stream",
     "text": [
      "Epoch 18: 100%|██████████| 98/98 [00:25<00:00,  3.78it/s, loss=3.75, v_num=1, train_loss_step=3.780, val_loss=3.880, train_loss_epoch=3.800]"
     ]
    },
    {
     "name": "stderr",
     "output_type": "stream",
     "text": [
      "Metric val_loss improved by 0.038 >= min_delta = 0. New best score: 3.883\n"
     ]
    },
    {
     "name": "stdout",
     "output_type": "stream",
     "text": [
      "Epoch 19: 100%|██████████| 98/98 [00:26<00:00,  3.75it/s, loss=3.71, v_num=1, train_loss_step=3.620, val_loss=3.840, train_loss_epoch=3.760]"
     ]
    },
    {
     "name": "stderr",
     "output_type": "stream",
     "text": [
      "Metric val_loss improved by 0.043 >= min_delta = 0. New best score: 3.839\n"
     ]
    },
    {
     "name": "stdout",
     "output_type": "stream",
     "text": [
      "Epoch 20: 100%|██████████| 98/98 [00:26<00:00,  3.75it/s, loss=3.65, v_num=1, train_loss_step=3.770, val_loss=3.790, train_loss_epoch=3.710]"
     ]
    },
    {
     "name": "stderr",
     "output_type": "stream",
     "text": [
      "Metric val_loss improved by 0.046 >= min_delta = 0. New best score: 3.793\n"
     ]
    },
    {
     "name": "stdout",
     "output_type": "stream",
     "text": [
      "Epoch 21: 100%|██████████| 98/98 [00:25<00:00,  3.83it/s, loss=3.62, v_num=1, train_loss_step=3.710, val_loss=3.750, train_loss_epoch=3.660]"
     ]
    },
    {
     "name": "stderr",
     "output_type": "stream",
     "text": [
      "Metric val_loss improved by 0.041 >= min_delta = 0. New best score: 3.752\n"
     ]
    },
    {
     "name": "stdout",
     "output_type": "stream",
     "text": [
      "Epoch 22: 100%|██████████| 98/98 [00:26<00:00,  3.74it/s, loss=3.56, v_num=1, train_loss_step=3.560, val_loss=3.700, train_loss_epoch=3.620]"
     ]
    },
    {
     "name": "stderr",
     "output_type": "stream",
     "text": [
      "Metric val_loss improved by 0.056 >= min_delta = 0. New best score: 3.696\n"
     ]
    },
    {
     "name": "stdout",
     "output_type": "stream",
     "text": [
      "Epoch 23: 100%|██████████| 98/98 [00:26<00:00,  3.75it/s, loss=3.5, v_num=1, train_loss_step=3.390, val_loss=3.660, train_loss_epoch=3.560] "
     ]
    },
    {
     "name": "stderr",
     "output_type": "stream",
     "text": [
      "Metric val_loss improved by 0.040 >= min_delta = 0. New best score: 3.656\n"
     ]
    },
    {
     "name": "stdout",
     "output_type": "stream",
     "text": [
      "Epoch 24: 100%|██████████| 98/98 [00:26<00:00,  3.73it/s, loss=3.49, v_num=1, train_loss_step=3.640, val_loss=3.640, train_loss_epoch=3.510]"
     ]
    },
    {
     "name": "stderr",
     "output_type": "stream",
     "text": [
      "Metric val_loss improved by 0.021 >= min_delta = 0. New best score: 3.635\n"
     ]
    },
    {
     "name": "stdout",
     "output_type": "stream",
     "text": [
      "Epoch 25: 100%|██████████| 98/98 [00:26<00:00,  3.75it/s, loss=3.45, v_num=1, train_loss_step=3.470, val_loss=3.610, train_loss_epoch=3.480]"
     ]
    },
    {
     "name": "stderr",
     "output_type": "stream",
     "text": [
      "Metric val_loss improved by 0.023 >= min_delta = 0. New best score: 3.612\n"
     ]
    },
    {
     "name": "stdout",
     "output_type": "stream",
     "text": [
      "Epoch 26: 100%|██████████| 98/98 [00:25<00:00,  3.77it/s, loss=3.44, v_num=1, train_loss_step=3.410, val_loss=3.590, train_loss_epoch=3.450]"
     ]
    },
    {
     "name": "stderr",
     "output_type": "stream",
     "text": [
      "Metric val_loss improved by 0.018 >= min_delta = 0. New best score: 3.594\n"
     ]
    },
    {
     "name": "stdout",
     "output_type": "stream",
     "text": [
      "Epoch 27: 100%|██████████| 98/98 [00:26<00:00,  3.74it/s, loss=3.43, v_num=1, train_loss_step=3.300, val_loss=3.570, train_loss_epoch=3.430]"
     ]
    },
    {
     "name": "stderr",
     "output_type": "stream",
     "text": [
      "Metric val_loss improved by 0.021 >= min_delta = 0. New best score: 3.573\n"
     ]
    },
    {
     "name": "stdout",
     "output_type": "stream",
     "text": [
      "Epoch 28: 100%|██████████| 98/98 [00:26<00:00,  3.71it/s, loss=3.39, v_num=1, train_loss_step=3.340, val_loss=3.560, train_loss_epoch=3.410]"
     ]
    },
    {
     "name": "stderr",
     "output_type": "stream",
     "text": [
      "Metric val_loss improved by 0.014 >= min_delta = 0. New best score: 3.559\n"
     ]
    },
    {
     "name": "stdout",
     "output_type": "stream",
     "text": [
      "Epoch 29: 100%|██████████| 98/98 [00:26<00:00,  3.71it/s, loss=3.35, v_num=1, train_loss_step=3.380, val_loss=3.550, train_loss_epoch=3.390]"
     ]
    },
    {
     "name": "stderr",
     "output_type": "stream",
     "text": [
      "Metric val_loss improved by 0.011 >= min_delta = 0. New best score: 3.547\n"
     ]
    },
    {
     "name": "stdout",
     "output_type": "stream",
     "text": [
      "Epoch 29: 100%|██████████| 98/98 [00:26<00:00,  3.71it/s, loss=3.35, v_num=1, train_loss_step=3.380, val_loss=3.550, train_loss_epoch=3.370]"
     ]
    },
    {
     "name": "stderr",
     "output_type": "stream",
     "text": [
      "`Trainer.fit` stopped: `max_epochs=30` reached.\n"
     ]
    },
    {
     "name": "stdout",
     "output_type": "stream",
     "text": [
      "Epoch 29: 100%|██████████| 98/98 [00:26<00:00,  3.69it/s, loss=3.35, v_num=1, train_loss_step=3.380, val_loss=3.550, train_loss_epoch=3.370]\n"
     ]
    },
    {
     "name": "stderr",
     "output_type": "stream",
     "text": [
      "\u001b[32m[I 2024-03-28 19:13:46,118]\u001b[0m Trial 1 finished with value: 47.52569580078125 and parameters: {'neu': 510, 'lay': 5, 'bat': 768, 'lr': 4.811063895881909e-05, 'dropout': 0.2}. Best is trial 1 with value: 47.52569580078125.\u001b[0m\n",
      "GPU available: True (cuda), used: True\n",
      "TPU available: False, using: 0 TPU cores\n",
      "IPU available: False, using: 0 IPUs\n",
      "HPU available: False, using: 0 HPUs\n",
      "`Trainer(limit_train_batches=1.0)` was configured so 100% of the batches per epoch will be used..\n",
      "`Trainer(limit_val_batches=1.0)` was configured so 100% of the batches will be used..\n",
      "LOCAL_RANK: 0 - CUDA_VISIBLE_DEVICES: [0]\n",
      "\n",
      "  | Name                   | Type                             | Params\n",
      "----------------------------------------------------------------------------\n",
      "0 | loss                   | NegativeBinomialDistributionLoss | 0     \n",
      "1 | logging_metrics        | ModuleList                       | 0     \n",
      "2 | embeddings             | MultiEmbedding                   | 787   \n",
      "3 | rnn                    | LSTM                             | 131 K \n",
      "4 | distribution_projector | Linear                           | 222   \n",
      "----------------------------------------------------------------------------\n",
      "132 K     Trainable params\n",
      "0         Non-trainable params\n",
      "132 K     Total params\n",
      "0.529     Total estimated model params size (MB)\n"
     ]
    },
    {
     "name": "stdout",
     "output_type": "stream",
     "text": [
      "Epoch 0: 100%|██████████| 181/181 [00:26<00:00,  6.91it/s, loss=3.66, v_num=2, train_loss_step=3.420, val_loss=3.660]"
     ]
    },
    {
     "name": "stderr",
     "output_type": "stream",
     "text": [
      "Metric val_loss improved. New best score: 3.663\n"
     ]
    },
    {
     "name": "stdout",
     "output_type": "stream",
     "text": [
      "Epoch 1: 100%|██████████| 181/181 [00:26<00:00,  6.90it/s, loss=2.99, v_num=2, train_loss_step=3.060, val_loss=3.110, train_loss_epoch=9.410]"
     ]
    },
    {
     "name": "stderr",
     "output_type": "stream",
     "text": [
      "Metric val_loss improved by 0.553 >= min_delta = 0. New best score: 3.110\n"
     ]
    },
    {
     "name": "stdout",
     "output_type": "stream",
     "text": [
      "Epoch 2: 100%|██████████| 181/181 [00:26<00:00,  6.94it/s, loss=2.8, v_num=2, train_loss_step=2.780, val_loss=2.940, train_loss_epoch=3.140] "
     ]
    },
    {
     "name": "stderr",
     "output_type": "stream",
     "text": [
      "Metric val_loss improved by 0.173 >= min_delta = 0. New best score: 2.937\n"
     ]
    },
    {
     "name": "stdout",
     "output_type": "stream",
     "text": [
      "Epoch 3: 100%|██████████| 181/181 [00:26<00:00,  6.80it/s, loss=2.74, v_num=2, train_loss_step=2.820, val_loss=2.860, train_loss_epoch=2.860]"
     ]
    },
    {
     "name": "stderr",
     "output_type": "stream",
     "text": [
      "Metric val_loss improved by 0.079 >= min_delta = 0. New best score: 2.858\n"
     ]
    },
    {
     "name": "stdout",
     "output_type": "stream",
     "text": [
      "Epoch 4: 100%|██████████| 181/181 [00:26<00:00,  6.84it/s, loss=2.62, v_num=2, train_loss_step=2.560, val_loss=2.830, train_loss_epoch=2.740]"
     ]
    },
    {
     "name": "stderr",
     "output_type": "stream",
     "text": [
      "Metric val_loss improved by 0.032 >= min_delta = 0. New best score: 2.825\n"
     ]
    },
    {
     "name": "stdout",
     "output_type": "stream",
     "text": [
      "Epoch 5: 100%|██████████| 181/181 [00:26<00:00,  6.88it/s, loss=2.59, v_num=2, train_loss_step=2.580, val_loss=2.780, train_loss_epoch=2.660]"
     ]
    },
    {
     "name": "stderr",
     "output_type": "stream",
     "text": [
      "Metric val_loss improved by 0.041 >= min_delta = 0. New best score: 2.784\n"
     ]
    },
    {
     "name": "stdout",
     "output_type": "stream",
     "text": [
      "Epoch 6: 100%|██████████| 181/181 [00:26<00:00,  6.80it/s, loss=2.54, v_num=2, train_loss_step=2.510, val_loss=2.780, train_loss_epoch=2.600]"
     ]
    },
    {
     "name": "stderr",
     "output_type": "stream",
     "text": [
      "Metric val_loss improved by 0.005 >= min_delta = 0. New best score: 2.779\n"
     ]
    },
    {
     "name": "stdout",
     "output_type": "stream",
     "text": [
      "Epoch 7: 100%|██████████| 181/181 [00:26<00:00,  6.92it/s, loss=2.52, v_num=2, train_loss_step=2.470, val_loss=2.760, train_loss_epoch=2.560]"
     ]
    },
    {
     "name": "stderr",
     "output_type": "stream",
     "text": [
      "Metric val_loss improved by 0.020 >= min_delta = 0. New best score: 2.759\n"
     ]
    },
    {
     "name": "stdout",
     "output_type": "stream",
     "text": [
      "Epoch 8: 100%|██████████| 181/181 [00:25<00:00,  6.97it/s, loss=2.54, v_num=2, train_loss_step=2.480, val_loss=2.750, train_loss_epoch=2.530]"
     ]
    },
    {
     "name": "stderr",
     "output_type": "stream",
     "text": [
      "Metric val_loss improved by 0.009 >= min_delta = 0. New best score: 2.750\n"
     ]
    },
    {
     "name": "stdout",
     "output_type": "stream",
     "text": [
      "Epoch 13: 100%|██████████| 181/181 [00:26<00:00,  6.79it/s, loss=2.41, v_num=2, train_loss_step=2.500, val_loss=2.810, train_loss_epoch=2.400]"
     ]
    },
    {
     "name": "stderr",
     "output_type": "stream",
     "text": [
      "Monitored metric val_loss did not improve in the last 5 records. Best score: 2.750. Signaling Trainer to stop.\n"
     ]
    },
    {
     "name": "stdout",
     "output_type": "stream",
     "text": [
      "Epoch 13: 100%|██████████| 181/181 [00:26<00:00,  6.79it/s, loss=2.41, v_num=2, train_loss_step=2.500, val_loss=2.810, train_loss_epoch=2.380]"
     ]
    },
    {
     "name": "stderr",
     "output_type": "stream",
     "text": [
      "\u001b[32m[I 2024-03-28 19:19:57,221]\u001b[0m Trial 2 finished with value: 33.46284484863281 and parameters: {'neu': 110, 'lay': 1, 'bat': 416, 'lr': 0.012317578448369847, 'dropout': 0.4}. Best is trial 2 with value: 33.46284484863281.\u001b[0m\n"
     ]
    },
    {
     "name": "stdout",
     "output_type": "stream",
     "text": [
      "\n"
     ]
    },
    {
     "name": "stderr",
     "output_type": "stream",
     "text": [
      "GPU available: True (cuda), used: True\n",
      "TPU available: False, using: 0 TPU cores\n",
      "IPU available: False, using: 0 IPUs\n",
      "HPU available: False, using: 0 HPUs\n",
      "`Trainer(limit_train_batches=1.0)` was configured so 100% of the batches per epoch will be used..\n",
      "`Trainer(limit_val_batches=1.0)` was configured so 100% of the batches will be used..\n",
      "LOCAL_RANK: 0 - CUDA_VISIBLE_DEVICES: [0]\n",
      "\n",
      "  | Name                   | Type                             | Params\n",
      "----------------------------------------------------------------------------\n",
      "0 | loss                   | NegativeBinomialDistributionLoss | 0     \n",
      "1 | logging_metrics        | ModuleList                       | 0     \n",
      "2 | embeddings             | MultiEmbedding                   | 787   \n",
      "3 | rnn                    | LSTM                             | 131 K \n",
      "4 | distribution_projector | Linear                           | 222   \n",
      "----------------------------------------------------------------------------\n",
      "132 K     Trainable params\n",
      "0         Non-trainable params\n",
      "132 K     Total params\n",
      "0.529     Total estimated model params size (MB)\n"
     ]
    },
    {
     "name": "stdout",
     "output_type": "stream",
     "text": [
      "Epoch 0: 100%|██████████| 1171/1171 [00:34<00:00, 33.46it/s, loss=24.6, v_num=3, train_loss_step=26.50, val_loss=25.80]"
     ]
    },
    {
     "name": "stderr",
     "output_type": "stream",
     "text": [
      "Metric val_loss improved. New best score: 25.842\n"
     ]
    },
    {
     "name": "stdout",
     "output_type": "stream",
     "text": [
      "Epoch 1: 100%|██████████| 1171/1171 [00:36<00:00, 31.96it/s, loss=18.9, v_num=3, train_loss_step=15.40, val_loss=20.10, train_loss_epoch=26.20]"
     ]
    },
    {
     "name": "stderr",
     "output_type": "stream",
     "text": [
      "Metric val_loss improved by 5.732 >= min_delta = 0. New best score: 20.110\n"
     ]
    },
    {
     "name": "stdout",
     "output_type": "stream",
     "text": [
      "Epoch 2: 100%|██████████| 1171/1171 [00:37<00:00, 31.28it/s, loss=14.3, v_num=3, train_loss_step=11.30, val_loss=14.80, train_loss_epoch=21.40]"
     ]
    },
    {
     "name": "stderr",
     "output_type": "stream",
     "text": [
      "Metric val_loss improved by 5.315 >= min_delta = 0. New best score: 14.795\n"
     ]
    },
    {
     "name": "stdout",
     "output_type": "stream",
     "text": [
      "Epoch 3: 100%|██████████| 1171/1171 [00:35<00:00, 32.54it/s, loss=9.47, v_num=3, train_loss_step=10.00, val_loss=10.80, train_loss_epoch=16.20]"
     ]
    },
    {
     "name": "stderr",
     "output_type": "stream",
     "text": [
      "Metric val_loss improved by 4.045 >= min_delta = 0. New best score: 10.750\n"
     ]
    },
    {
     "name": "stdout",
     "output_type": "stream",
     "text": [
      "Epoch 4: 100%|██████████| 1171/1171 [00:39<00:00, 29.74it/s, loss=7.37, v_num=3, train_loss_step=8.550, val_loss=8.230, train_loss_epoch=11.70]"
     ]
    },
    {
     "name": "stderr",
     "output_type": "stream",
     "text": [
      "Metric val_loss improved by 2.522 >= min_delta = 0. New best score: 8.229\n"
     ]
    },
    {
     "name": "stdout",
     "output_type": "stream",
     "text": [
      "Epoch 5: 100%|██████████| 1171/1171 [00:36<00:00, 32.51it/s, loss=6.31, v_num=3, train_loss_step=5.040, val_loss=6.640, train_loss_epoch=8.710]"
     ]
    },
    {
     "name": "stderr",
     "output_type": "stream",
     "text": [
      "Metric val_loss improved by 1.584 >= min_delta = 0. New best score: 6.644\n"
     ]
    },
    {
     "name": "stdout",
     "output_type": "stream",
     "text": [
      "Epoch 6: 100%|██████████| 1171/1171 [00:37<00:00, 31.60it/s, loss=5.28, v_num=3, train_loss_step=5.300, val_loss=5.670, train_loss_epoch=6.840]"
     ]
    },
    {
     "name": "stderr",
     "output_type": "stream",
     "text": [
      "Metric val_loss improved by 0.972 >= min_delta = 0. New best score: 5.673\n"
     ]
    },
    {
     "name": "stdout",
     "output_type": "stream",
     "text": [
      "Epoch 7: 100%|██████████| 1171/1171 [00:37<00:00, 31.25it/s, loss=4.66, v_num=3, train_loss_step=3.610, val_loss=5.100, train_loss_epoch=5.710]"
     ]
    },
    {
     "name": "stderr",
     "output_type": "stream",
     "text": [
      "Metric val_loss improved by 0.571 >= min_delta = 0. New best score: 5.102\n"
     ]
    },
    {
     "name": "stdout",
     "output_type": "stream",
     "text": [
      "Epoch 8: 100%|██████████| 1171/1171 [00:35<00:00, 33.44it/s, loss=4.34, v_num=3, train_loss_step=4.910, val_loss=4.770, train_loss_epoch=5.050]"
     ]
    },
    {
     "name": "stderr",
     "output_type": "stream",
     "text": [
      "Metric val_loss improved by 0.334 >= min_delta = 0. New best score: 4.768\n"
     ]
    },
    {
     "name": "stdout",
     "output_type": "stream",
     "text": [
      "Epoch 9: 100%|██████████| 1171/1171 [00:37<00:00, 31.41it/s, loss=4.21, v_num=3, train_loss_step=4.280, val_loss=4.550, train_loss_epoch=4.670]"
     ]
    },
    {
     "name": "stderr",
     "output_type": "stream",
     "text": [
      "Metric val_loss improved by 0.216 >= min_delta = 0. New best score: 4.552\n"
     ]
    },
    {
     "name": "stdout",
     "output_type": "stream",
     "text": [
      "Epoch 10: 100%|██████████| 1171/1171 [00:38<00:00, 30.60it/s, loss=4.14, v_num=3, train_loss_step=3.960, val_loss=4.400, train_loss_epoch=4.440]"
     ]
    },
    {
     "name": "stderr",
     "output_type": "stream",
     "text": [
      "Metric val_loss improved by 0.151 >= min_delta = 0. New best score: 4.401\n"
     ]
    },
    {
     "name": "stdout",
     "output_type": "stream",
     "text": [
      "Epoch 11: 100%|██████████| 1171/1171 [00:37<00:00, 31.54it/s, loss=4.11, v_num=3, train_loss_step=4.470, val_loss=4.280, train_loss_epoch=4.270]"
     ]
    },
    {
     "name": "stderr",
     "output_type": "stream",
     "text": [
      "Metric val_loss improved by 0.117 >= min_delta = 0. New best score: 4.284\n"
     ]
    },
    {
     "name": "stdout",
     "output_type": "stream",
     "text": [
      "Epoch 12: 100%|██████████| 1171/1171 [00:37<00:00, 30.84it/s, loss=4.09, v_num=3, train_loss_step=4.500, val_loss=4.190, train_loss_epoch=4.150]"
     ]
    },
    {
     "name": "stderr",
     "output_type": "stream",
     "text": [
      "Metric val_loss improved by 0.094 >= min_delta = 0. New best score: 4.190\n"
     ]
    },
    {
     "name": "stdout",
     "output_type": "stream",
     "text": [
      "Epoch 13: 100%|██████████| 1171/1171 [00:35<00:00, 32.62it/s, loss=3.98, v_num=3, train_loss_step=4.600, val_loss=4.110, train_loss_epoch=4.050]"
     ]
    },
    {
     "name": "stderr",
     "output_type": "stream",
     "text": [
      "Metric val_loss improved by 0.075 >= min_delta = 0. New best score: 4.115\n"
     ]
    },
    {
     "name": "stdout",
     "output_type": "stream",
     "text": [
      "Epoch 14: 100%|██████████| 1171/1171 [00:38<00:00, 30.10it/s, loss=3.92, v_num=3, train_loss_step=3.710, val_loss=4.050, train_loss_epoch=3.970]"
     ]
    },
    {
     "name": "stderr",
     "output_type": "stream",
     "text": [
      "Metric val_loss improved by 0.064 >= min_delta = 0. New best score: 4.051\n"
     ]
    },
    {
     "name": "stdout",
     "output_type": "stream",
     "text": [
      "Epoch 15: 100%|██████████| 1171/1171 [00:36<00:00, 32.16it/s, loss=3.87, v_num=3, train_loss_step=3.540, val_loss=3.990, train_loss_epoch=3.900]"
     ]
    },
    {
     "name": "stderr",
     "output_type": "stream",
     "text": [
      "Metric val_loss improved by 0.058 >= min_delta = 0. New best score: 3.993\n"
     ]
    },
    {
     "name": "stdout",
     "output_type": "stream",
     "text": [
      "Epoch 16: 100%|██████████| 1171/1171 [00:37<00:00, 30.83it/s, loss=3.74, v_num=3, train_loss_step=3.330, val_loss=3.940, train_loss_epoch=3.840]"
     ]
    },
    {
     "name": "stderr",
     "output_type": "stream",
     "text": [
      "Metric val_loss improved by 0.053 >= min_delta = 0. New best score: 3.940\n"
     ]
    },
    {
     "name": "stdout",
     "output_type": "stream",
     "text": [
      "Epoch 17: 100%|██████████| 1171/1171 [00:37<00:00, 31.46it/s, loss=3.67, v_num=3, train_loss_step=3.520, val_loss=3.890, train_loss_epoch=3.780]"
     ]
    },
    {
     "name": "stderr",
     "output_type": "stream",
     "text": [
      "Metric val_loss improved by 0.047 >= min_delta = 0. New best score: 3.894\n"
     ]
    },
    {
     "name": "stdout",
     "output_type": "stream",
     "text": [
      "Epoch 18: 100%|██████████| 1171/1171 [00:36<00:00, 31.79it/s, loss=3.82, v_num=3, train_loss_step=3.710, val_loss=3.850, train_loss_epoch=3.730]"
     ]
    },
    {
     "name": "stderr",
     "output_type": "stream",
     "text": [
      "Metric val_loss improved by 0.041 >= min_delta = 0. New best score: 3.852\n"
     ]
    },
    {
     "name": "stdout",
     "output_type": "stream",
     "text": [
      "Epoch 19: 100%|██████████| 1171/1171 [00:38<00:00, 30.59it/s, loss=3.7, v_num=3, train_loss_step=3.280, val_loss=3.820, train_loss_epoch=3.680] "
     ]
    },
    {
     "name": "stderr",
     "output_type": "stream",
     "text": [
      "Metric val_loss improved by 0.037 >= min_delta = 0. New best score: 3.816\n"
     ]
    },
    {
     "name": "stdout",
     "output_type": "stream",
     "text": [
      "Epoch 20: 100%|██████████| 1171/1171 [00:37<00:00, 31.23it/s, loss=3.61, v_num=3, train_loss_step=3.170, val_loss=3.780, train_loss_epoch=3.640]"
     ]
    },
    {
     "name": "stderr",
     "output_type": "stream",
     "text": [
      "Metric val_loss improved by 0.031 >= min_delta = 0. New best score: 3.784\n"
     ]
    },
    {
     "name": "stdout",
     "output_type": "stream",
     "text": [
      "Epoch 21: 100%|██████████| 1171/1171 [00:38<00:00, 30.61it/s, loss=3.52, v_num=3, train_loss_step=3.980, val_loss=3.760, train_loss_epoch=3.610]"
     ]
    },
    {
     "name": "stderr",
     "output_type": "stream",
     "text": [
      "Metric val_loss improved by 0.028 >= min_delta = 0. New best score: 3.756\n"
     ]
    },
    {
     "name": "stdout",
     "output_type": "stream",
     "text": [
      "Epoch 22: 100%|██████████| 1171/1171 [00:36<00:00, 31.73it/s, loss=3.61, v_num=3, train_loss_step=3.880, val_loss=3.730, train_loss_epoch=3.580]"
     ]
    },
    {
     "name": "stderr",
     "output_type": "stream",
     "text": [
      "Metric val_loss improved by 0.027 >= min_delta = 0. New best score: 3.729\n"
     ]
    },
    {
     "name": "stdout",
     "output_type": "stream",
     "text": [
      "Epoch 23: 100%|██████████| 1171/1171 [00:36<00:00, 32.04it/s, loss=3.55, v_num=3, train_loss_step=3.340, val_loss=3.710, train_loss_epoch=3.550]"
     ]
    },
    {
     "name": "stderr",
     "output_type": "stream",
     "text": [
      "Metric val_loss improved by 0.024 >= min_delta = 0. New best score: 3.706\n"
     ]
    },
    {
     "name": "stdout",
     "output_type": "stream",
     "text": [
      "Epoch 24: 100%|██████████| 1171/1171 [00:37<00:00, 31.29it/s, loss=3.52, v_num=3, train_loss_step=3.880, val_loss=3.680, train_loss_epoch=3.530]"
     ]
    },
    {
     "name": "stderr",
     "output_type": "stream",
     "text": [
      "Metric val_loss improved by 0.023 >= min_delta = 0. New best score: 3.683\n"
     ]
    },
    {
     "name": "stdout",
     "output_type": "stream",
     "text": [
      "Epoch 25: 100%|██████████| 1171/1171 [00:35<00:00, 32.70it/s, loss=3.56, v_num=3, train_loss_step=3.630, val_loss=3.660, train_loss_epoch=3.510]"
     ]
    },
    {
     "name": "stderr",
     "output_type": "stream",
     "text": [
      "Metric val_loss improved by 0.021 >= min_delta = 0. New best score: 3.662\n"
     ]
    },
    {
     "name": "stdout",
     "output_type": "stream",
     "text": [
      "Epoch 26: 100%|██████████| 1171/1171 [00:35<00:00, 32.91it/s, loss=3.33, v_num=3, train_loss_step=3.640, val_loss=3.640, train_loss_epoch=3.490]"
     ]
    },
    {
     "name": "stderr",
     "output_type": "stream",
     "text": [
      "Metric val_loss improved by 0.020 >= min_delta = 0. New best score: 3.642\n"
     ]
    },
    {
     "name": "stdout",
     "output_type": "stream",
     "text": [
      "Epoch 27: 100%|██████████| 1171/1171 [00:37<00:00, 31.09it/s, loss=3.44, v_num=3, train_loss_step=3.950, val_loss=3.620, train_loss_epoch=3.470]"
     ]
    },
    {
     "name": "stderr",
     "output_type": "stream",
     "text": [
      "Metric val_loss improved by 0.019 >= min_delta = 0. New best score: 3.623\n"
     ]
    },
    {
     "name": "stdout",
     "output_type": "stream",
     "text": [
      "Epoch 28: 100%|██████████| 1171/1171 [00:38<00:00, 30.70it/s, loss=3.48, v_num=3, train_loss_step=3.690, val_loss=3.600, train_loss_epoch=3.450]"
     ]
    },
    {
     "name": "stderr",
     "output_type": "stream",
     "text": [
      "Metric val_loss improved by 0.019 >= min_delta = 0. New best score: 3.604\n"
     ]
    },
    {
     "name": "stdout",
     "output_type": "stream",
     "text": [
      "Epoch 29: 100%|██████████| 1171/1171 [00:38<00:00, 30.50it/s, loss=3.48, v_num=3, train_loss_step=3.120, val_loss=3.590, train_loss_epoch=3.430]"
     ]
    },
    {
     "name": "stderr",
     "output_type": "stream",
     "text": [
      "Metric val_loss improved by 0.017 >= min_delta = 0. New best score: 3.587\n"
     ]
    },
    {
     "name": "stdout",
     "output_type": "stream",
     "text": [
      "Epoch 29: 100%|██████████| 1171/1171 [00:38<00:00, 30.50it/s, loss=3.48, v_num=3, train_loss_step=3.120, val_loss=3.590, train_loss_epoch=3.410]"
     ]
    },
    {
     "name": "stderr",
     "output_type": "stream",
     "text": [
      "`Trainer.fit` stopped: `max_epochs=30` reached.\n"
     ]
    },
    {
     "name": "stdout",
     "output_type": "stream",
     "text": [
      "Epoch 29: 100%|██████████| 1171/1171 [00:38<00:00, 30.48it/s, loss=3.48, v_num=3, train_loss_step=3.120, val_loss=3.590, train_loss_epoch=3.410]"
     ]
    },
    {
     "name": "stderr",
     "output_type": "stream",
     "text": [
      "\u001b[32m[I 2024-03-28 19:38:35,502]\u001b[0m Trial 3 finished with value: 49.83232498168945 and parameters: {'neu': 110, 'lay': 1, 'bat': 64, 'lr': 1.1520252307850812e-05, 'dropout': 0.4}. Best is trial 2 with value: 33.46284484863281.\u001b[0m\n"
     ]
    },
    {
     "name": "stdout",
     "output_type": "stream",
     "text": [
      "\n"
     ]
    },
    {
     "name": "stderr",
     "output_type": "stream",
     "text": [
      "GPU available: True (cuda), used: True\n",
      "TPU available: False, using: 0 TPU cores\n",
      "IPU available: False, using: 0 IPUs\n",
      "HPU available: False, using: 0 HPUs\n",
      "`Trainer(limit_train_batches=1.0)` was configured so 100% of the batches per epoch will be used..\n",
      "`Trainer(limit_val_batches=1.0)` was configured so 100% of the batches will be used..\n",
      "LOCAL_RANK: 0 - CUDA_VISIBLE_DEVICES: [0]\n",
      "\n",
      "  | Name                   | Type                             | Params\n",
      "----------------------------------------------------------------------------\n",
      "0 | loss                   | NegativeBinomialDistributionLoss | 0     \n",
      "1 | logging_metrics        | ModuleList                       | 0     \n",
      "2 | embeddings             | MultiEmbedding                   | 787   \n",
      "3 | rnn                    | LSTM                             | 13.9 M\n",
      "4 | distribution_projector | Linear                           | 1.2 K \n",
      "----------------------------------------------------------------------------\n",
      "13.9 M    Trainable params\n",
      "0         Non-trainable params\n",
      "13.9 M    Total params\n",
      "55.503    Total estimated model params size (MB)\n"
     ]
    },
    {
     "name": "stdout",
     "output_type": "stream",
     "text": [
      "Epoch 0: 100%|██████████| 76/76 [00:29<00:00,  2.60it/s, loss=25.8, v_num=4, train_loss_step=24.30, val_loss=25.30]"
     ]
    },
    {
     "name": "stderr",
     "output_type": "stream",
     "text": [
      "Metric val_loss improved. New best score: 25.284\n"
     ]
    },
    {
     "name": "stdout",
     "output_type": "stream",
     "text": [
      "Epoch 1: 100%|██████████| 76/76 [00:25<00:00,  2.95it/s, loss=4.93, v_num=4, train_loss_step=4.290, val_loss=4.500, train_loss_epoch=27.00]"
     ]
    },
    {
     "name": "stderr",
     "output_type": "stream",
     "text": [
      "Metric val_loss improved by 20.779 >= min_delta = 0. New best score: 4.505\n"
     ]
    },
    {
     "name": "stdout",
     "output_type": "stream",
     "text": [
      "Epoch 2: 100%|██████████| 76/76 [00:25<00:00,  2.97it/s, loss=3.92, v_num=4, train_loss_step=3.800, val_loss=3.990, train_loss_epoch=11.60]"
     ]
    },
    {
     "name": "stderr",
     "output_type": "stream",
     "text": [
      "Metric val_loss improved by 0.517 >= min_delta = 0. New best score: 3.988\n"
     ]
    },
    {
     "name": "stdout",
     "output_type": "stream",
     "text": [
      "Epoch 3: 100%|██████████| 76/76 [00:29<00:00,  2.61it/s, loss=3.66, v_num=4, train_loss_step=3.510, val_loss=3.740, train_loss_epoch=4.070]"
     ]
    },
    {
     "name": "stderr",
     "output_type": "stream",
     "text": [
      "Metric val_loss improved by 0.252 >= min_delta = 0. New best score: 3.736\n"
     ]
    },
    {
     "name": "stdout",
     "output_type": "stream",
     "text": [
      "Epoch 4: 100%|██████████| 76/76 [00:25<00:00,  2.97it/s, loss=3.3, v_num=4, train_loss_step=3.210, val_loss=3.390, train_loss_epoch=3.740] "
     ]
    },
    {
     "name": "stderr",
     "output_type": "stream",
     "text": [
      "Metric val_loss improved by 0.350 >= min_delta = 0. New best score: 3.385\n"
     ]
    },
    {
     "name": "stdout",
     "output_type": "stream",
     "text": [
      "Epoch 5: 100%|██████████| 76/76 [00:25<00:00,  2.97it/s, loss=3.16, v_num=4, train_loss_step=3.150, val_loss=3.280, train_loss_epoch=3.410]"
     ]
    },
    {
     "name": "stderr",
     "output_type": "stream",
     "text": [
      "Metric val_loss improved by 0.107 >= min_delta = 0. New best score: 3.278\n"
     ]
    },
    {
     "name": "stdout",
     "output_type": "stream",
     "text": [
      "Epoch 6: 100%|██████████| 76/76 [00:29<00:00,  2.59it/s, loss=3.07, v_num=4, train_loss_step=3.090, val_loss=3.210, train_loss_epoch=3.190]"
     ]
    },
    {
     "name": "stderr",
     "output_type": "stream",
     "text": [
      "Metric val_loss improved by 0.072 >= min_delta = 0. New best score: 3.206\n"
     ]
    },
    {
     "name": "stdout",
     "output_type": "stream",
     "text": [
      "Epoch 7: 100%|██████████| 76/76 [00:25<00:00,  3.00it/s, loss=3, v_num=4, train_loss_step=3.070, val_loss=3.150, train_loss_epoch=3.090]   "
     ]
    },
    {
     "name": "stderr",
     "output_type": "stream",
     "text": [
      "Metric val_loss improved by 0.053 >= min_delta = 0. New best score: 3.153\n"
     ]
    },
    {
     "name": "stdout",
     "output_type": "stream",
     "text": [
      "Epoch 8: 100%|██████████| 76/76 [00:25<00:00,  3.00it/s, loss=2.96, v_num=4, train_loss_step=3.040, val_loss=3.100, train_loss_epoch=3.020]"
     ]
    },
    {
     "name": "stderr",
     "output_type": "stream",
     "text": [
      "Metric val_loss improved by 0.050 >= min_delta = 0. New best score: 3.103\n"
     ]
    },
    {
     "name": "stdout",
     "output_type": "stream",
     "text": [
      "Epoch 9: 100%|██████████| 76/76 [00:29<00:00,  2.61it/s, loss=2.92, v_num=4, train_loss_step=2.930, val_loss=3.070, train_loss_epoch=2.960]"
     ]
    },
    {
     "name": "stderr",
     "output_type": "stream",
     "text": [
      "Metric val_loss improved by 0.038 >= min_delta = 0. New best score: 3.065\n"
     ]
    },
    {
     "name": "stdout",
     "output_type": "stream",
     "text": [
      "Epoch 10: 100%|██████████| 76/76 [00:25<00:00,  2.97it/s, loss=2.87, v_num=4, train_loss_step=2.950, val_loss=3.030, train_loss_epoch=2.910]"
     ]
    },
    {
     "name": "stderr",
     "output_type": "stream",
     "text": [
      "Metric val_loss improved by 0.036 >= min_delta = 0. New best score: 3.029\n"
     ]
    },
    {
     "name": "stdout",
     "output_type": "stream",
     "text": [
      "Epoch 11: 100%|██████████| 76/76 [00:25<00:00,  2.98it/s, loss=2.88, v_num=4, train_loss_step=2.870, val_loss=3.010, train_loss_epoch=2.880]"
     ]
    },
    {
     "name": "stderr",
     "output_type": "stream",
     "text": [
      "Metric val_loss improved by 0.017 >= min_delta = 0. New best score: 3.012\n"
     ]
    },
    {
     "name": "stdout",
     "output_type": "stream",
     "text": [
      "Epoch 12: 100%|██████████| 76/76 [00:25<00:00,  2.97it/s, loss=2.82, v_num=4, train_loss_step=2.870, val_loss=3.000, train_loss_epoch=2.850]"
     ]
    },
    {
     "name": "stderr",
     "output_type": "stream",
     "text": [
      "Metric val_loss improved by 0.011 >= min_delta = 0. New best score: 3.001\n"
     ]
    },
    {
     "name": "stdout",
     "output_type": "stream",
     "text": [
      "Epoch 13: 100%|██████████| 76/76 [00:28<00:00,  2.62it/s, loss=2.79, v_num=4, train_loss_step=2.780, val_loss=2.960, train_loss_epoch=2.820]"
     ]
    },
    {
     "name": "stderr",
     "output_type": "stream",
     "text": [
      "Metric val_loss improved by 0.041 >= min_delta = 0. New best score: 2.960\n"
     ]
    },
    {
     "name": "stdout",
     "output_type": "stream",
     "text": [
      "Epoch 15: 100%|██████████| 76/76 [00:25<00:00,  2.96it/s, loss=2.74, v_num=4, train_loss_step=2.730, val_loss=2.930, train_loss_epoch=2.770]"
     ]
    },
    {
     "name": "stderr",
     "output_type": "stream",
     "text": [
      "Metric val_loss improved by 0.033 >= min_delta = 0. New best score: 2.926\n"
     ]
    },
    {
     "name": "stdout",
     "output_type": "stream",
     "text": [
      "Epoch 16: 100%|██████████| 76/76 [00:29<00:00,  2.60it/s, loss=2.72, v_num=4, train_loss_step=2.700, val_loss=2.890, train_loss_epoch=2.750]"
     ]
    },
    {
     "name": "stderr",
     "output_type": "stream",
     "text": [
      "Metric val_loss improved by 0.032 >= min_delta = 0. New best score: 2.895\n"
     ]
    },
    {
     "name": "stdout",
     "output_type": "stream",
     "text": [
      "Epoch 17: 100%|██████████| 76/76 [00:25<00:00,  2.97it/s, loss=2.69, v_num=4, train_loss_step=2.670, val_loss=2.890, train_loss_epoch=2.720]"
     ]
    },
    {
     "name": "stderr",
     "output_type": "stream",
     "text": [
      "Metric val_loss improved by 0.007 >= min_delta = 0. New best score: 2.887\n"
     ]
    },
    {
     "name": "stdout",
     "output_type": "stream",
     "text": [
      "Epoch 19: 100%|██████████| 76/76 [00:29<00:00,  2.60it/s, loss=2.67, v_num=4, train_loss_step=2.710, val_loss=2.870, train_loss_epoch=2.690]"
     ]
    },
    {
     "name": "stderr",
     "output_type": "stream",
     "text": [
      "Metric val_loss improved by 0.017 >= min_delta = 0. New best score: 2.870\n"
     ]
    },
    {
     "name": "stdout",
     "output_type": "stream",
     "text": [
      "Epoch 21: 100%|██████████| 76/76 [00:25<00:00,  2.96it/s, loss=2.63, v_num=4, train_loss_step=2.650, val_loss=2.850, train_loss_epoch=2.670]"
     ]
    },
    {
     "name": "stderr",
     "output_type": "stream",
     "text": [
      "Metric val_loss improved by 0.024 >= min_delta = 0. New best score: 2.846\n"
     ]
    },
    {
     "name": "stdout",
     "output_type": "stream",
     "text": [
      "Epoch 25: 100%|██████████| 76/76 [00:25<00:00,  2.97it/s, loss=2.59, v_num=4, train_loss_step=2.500, val_loss=2.840, train_loss_epoch=2.620]"
     ]
    },
    {
     "name": "stderr",
     "output_type": "stream",
     "text": [
      "Metric val_loss improved by 0.009 >= min_delta = 0. New best score: 2.837\n"
     ]
    },
    {
     "name": "stdout",
     "output_type": "stream",
     "text": [
      "Epoch 26: 100%|██████████| 76/76 [00:29<00:00,  2.58it/s, loss=2.62, v_num=4, train_loss_step=2.620, val_loss=2.820, train_loss_epoch=2.610]"
     ]
    },
    {
     "name": "stderr",
     "output_type": "stream",
     "text": [
      "Metric val_loss improved by 0.018 >= min_delta = 0. New best score: 2.819\n"
     ]
    },
    {
     "name": "stdout",
     "output_type": "stream",
     "text": [
      "Epoch 29: 100%|██████████| 76/76 [00:29<00:00,  2.61it/s, loss=2.59, v_num=4, train_loss_step=2.660, val_loss=2.820, train_loss_epoch=2.580]"
     ]
    },
    {
     "name": "stderr",
     "output_type": "stream",
     "text": [
      "Metric val_loss improved by 0.001 >= min_delta = 0. New best score: 2.818\n"
     ]
    },
    {
     "name": "stdout",
     "output_type": "stream",
     "text": [
      "Epoch 29: 100%|██████████| 76/76 [00:29<00:00,  2.61it/s, loss=2.59, v_num=4, train_loss_step=2.660, val_loss=2.820, train_loss_epoch=2.580]"
     ]
    },
    {
     "name": "stderr",
     "output_type": "stream",
     "text": [
      "`Trainer.fit` stopped: `max_epochs=30` reached.\n"
     ]
    },
    {
     "name": "stdout",
     "output_type": "stream",
     "text": [
      "Epoch 29: 100%|██████████| 76/76 [00:29<00:00,  2.59it/s, loss=2.59, v_num=4, train_loss_step=2.660, val_loss=2.820, train_loss_epoch=2.580]"
     ]
    },
    {
     "name": "stderr",
     "output_type": "stream",
     "text": [
      "\u001b[32m[I 2024-03-28 19:52:10,592]\u001b[0m Trial 4 finished with value: 33.8636589050293 and parameters: {'neu': 610, 'lay': 5, 'bat': 992, 'lr': 0.0016043410336142696, 'dropout': 0.6000000000000001}. Best is trial 2 with value: 33.46284484863281.\u001b[0m\n"
     ]
    },
    {
     "name": "stdout",
     "output_type": "stream",
     "text": [
      "\n"
     ]
    },
    {
     "name": "stderr",
     "output_type": "stream",
     "text": [
      "GPU available: True (cuda), used: True\n",
      "TPU available: False, using: 0 TPU cores\n",
      "IPU available: False, using: 0 IPUs\n",
      "HPU available: False, using: 0 HPUs\n",
      "`Trainer(limit_train_batches=1.0)` was configured so 100% of the batches per epoch will be used..\n",
      "`Trainer(limit_val_batches=1.0)` was configured so 100% of the batches will be used..\n",
      "LOCAL_RANK: 0 - CUDA_VISIBLE_DEVICES: [0]\n",
      "\n",
      "  | Name                   | Type                             | Params\n",
      "----------------------------------------------------------------------------\n",
      "0 | loss                   | NegativeBinomialDistributionLoss | 0     \n",
      "1 | logging_metrics        | ModuleList                       | 0     \n",
      "2 | embeddings             | MultiEmbedding                   | 787   \n",
      "3 | rnn                    | LSTM                             | 6.8 M \n",
      "4 | distribution_projector | Linear                           | 622   \n",
      "----------------------------------------------------------------------------\n",
      "6.8 M     Trainable params\n",
      "0         Non-trainable params\n",
      "6.8 M     Total params\n",
      "27.157    Total estimated model params size (MB)\n"
     ]
    },
    {
     "name": "stdout",
     "output_type": "stream",
     "text": [
      "Epoch 0: 100%|██████████| 167/167 [00:26<00:00,  6.35it/s, loss=27.6, v_num=5, train_loss_step=28.00, val_loss=30.50]"
     ]
    },
    {
     "name": "stderr",
     "output_type": "stream",
     "text": [
      "Metric val_loss improved. New best score: 30.539\n"
     ]
    },
    {
     "name": "stdout",
     "output_type": "stream",
     "text": [
      "Epoch 1: 100%|██████████| 167/167 [00:26<00:00,  6.36it/s, loss=24.5, v_num=5, train_loss_step=24.80, val_loss=25.80, train_loss_epoch=28.90]"
     ]
    },
    {
     "name": "stderr",
     "output_type": "stream",
     "text": [
      "Metric val_loss improved by 4.703 >= min_delta = 0. New best score: 25.836\n"
     ]
    },
    {
     "name": "stdout",
     "output_type": "stream",
     "text": [
      "Epoch 2: 100%|██████████| 167/167 [00:26<00:00,  6.35it/s, loss=9.05, v_num=5, train_loss_step=7.710, val_loss=8.010, train_loss_epoch=26.40]"
     ]
    },
    {
     "name": "stderr",
     "output_type": "stream",
     "text": [
      "Metric val_loss improved by 17.830 >= min_delta = 0. New best score: 8.005\n"
     ]
    },
    {
     "name": "stdout",
     "output_type": "stream",
     "text": [
      "Epoch 3: 100%|██████████| 167/167 [00:30<00:00,  5.56it/s, loss=4.32, v_num=5, train_loss_step=4.230, val_loss=4.470, train_loss_epoch=16.60]"
     ]
    },
    {
     "name": "stderr",
     "output_type": "stream",
     "text": [
      "Metric val_loss improved by 3.535 >= min_delta = 0. New best score: 4.470\n"
     ]
    },
    {
     "name": "stdout",
     "output_type": "stream",
     "text": [
      "Epoch 4: 100%|██████████| 167/167 [00:26<00:00,  6.30it/s, loss=4.13, v_num=5, train_loss_step=4.090, val_loss=4.290, train_loss_epoch=5.040]"
     ]
    },
    {
     "name": "stderr",
     "output_type": "stream",
     "text": [
      "Metric val_loss improved by 0.184 >= min_delta = 0. New best score: 4.287\n"
     ]
    },
    {
     "name": "stdout",
     "output_type": "stream",
     "text": [
      "Epoch 5: 100%|██████████| 167/167 [00:26<00:00,  6.34it/s, loss=4.07, v_num=5, train_loss_step=3.940, val_loss=4.200, train_loss_epoch=4.220]"
     ]
    },
    {
     "name": "stderr",
     "output_type": "stream",
     "text": [
      "Metric val_loss improved by 0.083 >= min_delta = 0. New best score: 4.204\n"
     ]
    },
    {
     "name": "stdout",
     "output_type": "stream",
     "text": [
      "Epoch 6: 100%|██████████| 167/167 [00:26<00:00,  6.28it/s, loss=4.06, v_num=5, train_loss_step=4.100, val_loss=4.160, train_loss_epoch=4.100]"
     ]
    },
    {
     "name": "stderr",
     "output_type": "stream",
     "text": [
      "Metric val_loss improved by 0.045 >= min_delta = 0. New best score: 4.159\n"
     ]
    },
    {
     "name": "stdout",
     "output_type": "stream",
     "text": [
      "Epoch 7: 100%|██████████| 167/167 [00:26<00:00,  6.36it/s, loss=4.02, v_num=5, train_loss_step=4.060, val_loss=4.130, train_loss_epoch=4.050]"
     ]
    },
    {
     "name": "stderr",
     "output_type": "stream",
     "text": [
      "Metric val_loss improved by 0.026 >= min_delta = 0. New best score: 4.133\n"
     ]
    },
    {
     "name": "stdout",
     "output_type": "stream",
     "text": [
      "Epoch 8: 100%|██████████| 167/167 [00:30<00:00,  5.57it/s, loss=3.99, v_num=5, train_loss_step=4.080, val_loss=4.120, train_loss_epoch=4.020]"
     ]
    },
    {
     "name": "stderr",
     "output_type": "stream",
     "text": [
      "Metric val_loss improved by 0.016 >= min_delta = 0. New best score: 4.117\n"
     ]
    },
    {
     "name": "stdout",
     "output_type": "stream",
     "text": [
      "Epoch 9: 100%|██████████| 167/167 [00:26<00:00,  6.37it/s, loss=4.01, v_num=5, train_loss_step=3.890, val_loss=4.110, train_loss_epoch=4.000]"
     ]
    },
    {
     "name": "stderr",
     "output_type": "stream",
     "text": [
      "Metric val_loss improved by 0.010 >= min_delta = 0. New best score: 4.108\n"
     ]
    },
    {
     "name": "stdout",
     "output_type": "stream",
     "text": [
      "Epoch 10: 100%|██████████| 167/167 [00:26<00:00,  6.36it/s, loss=4, v_num=5, train_loss_step=3.900, val_loss=4.100, train_loss_epoch=3.990]   "
     ]
    },
    {
     "name": "stderr",
     "output_type": "stream",
     "text": [
      "Metric val_loss improved by 0.006 >= min_delta = 0. New best score: 4.102\n"
     ]
    },
    {
     "name": "stdout",
     "output_type": "stream",
     "text": [
      "Epoch 11: 100%|██████████| 167/167 [00:26<00:00,  6.36it/s, loss=3.97, v_num=5, train_loss_step=4.000, val_loss=4.100, train_loss_epoch=3.990]"
     ]
    },
    {
     "name": "stderr",
     "output_type": "stream",
     "text": [
      "Metric val_loss improved by 0.003 >= min_delta = 0. New best score: 4.099\n"
     ]
    },
    {
     "name": "stdout",
     "output_type": "stream",
     "text": [
      "Epoch 12: 100%|██████████| 167/167 [00:26<00:00,  6.30it/s, loss=3.99, v_num=5, train_loss_step=3.980, val_loss=4.100, train_loss_epoch=3.990]"
     ]
    },
    {
     "name": "stderr",
     "output_type": "stream",
     "text": [
      "Metric val_loss improved by 0.002 >= min_delta = 0. New best score: 4.097\n"
     ]
    },
    {
     "name": "stdout",
     "output_type": "stream",
     "text": [
      "Epoch 13: 100%|██████████| 167/167 [00:26<00:00,  6.32it/s, loss=3.97, v_num=5, train_loss_step=4.030, val_loss=4.100, train_loss_epoch=3.990]"
     ]
    },
    {
     "name": "stderr",
     "output_type": "stream",
     "text": [
      "Metric val_loss improved by 0.001 >= min_delta = 0. New best score: 4.095\n"
     ]
    },
    {
     "name": "stdout",
     "output_type": "stream",
     "text": [
      "Epoch 14: 100%|██████████| 167/167 [00:30<00:00,  5.54it/s, loss=3.99, v_num=5, train_loss_step=4.170, val_loss=4.090, train_loss_epoch=3.990]"
     ]
    },
    {
     "name": "stderr",
     "output_type": "stream",
     "text": [
      "Metric val_loss improved by 0.001 >= min_delta = 0. New best score: 4.095\n"
     ]
    },
    {
     "name": "stdout",
     "output_type": "stream",
     "text": [
      "Epoch 15: 100%|██████████| 167/167 [00:26<00:00,  6.35it/s, loss=4.01, v_num=5, train_loss_step=4.020, val_loss=4.090, train_loss_epoch=3.980]"
     ]
    },
    {
     "name": "stderr",
     "output_type": "stream",
     "text": [
      "Metric val_loss improved by 0.001 >= min_delta = 0. New best score: 4.094\n"
     ]
    },
    {
     "name": "stdout",
     "output_type": "stream",
     "text": [
      "Epoch 17: 100%|██████████| 167/167 [00:26<00:00,  6.36it/s, loss=3.97, v_num=5, train_loss_step=3.960, val_loss=4.090, train_loss_epoch=3.980]"
     ]
    },
    {
     "name": "stderr",
     "output_type": "stream",
     "text": [
      "Metric val_loss improved by 0.000 >= min_delta = 0. New best score: 4.093\n"
     ]
    },
    {
     "name": "stdout",
     "output_type": "stream",
     "text": [
      "Epoch 18: 100%|██████████| 167/167 [00:26<00:00,  6.33it/s, loss=4, v_num=5, train_loss_step=3.940, val_loss=4.090, train_loss_epoch=3.980]   "
     ]
    },
    {
     "name": "stderr",
     "output_type": "stream",
     "text": [
      "Metric val_loss improved by 0.000 >= min_delta = 0. New best score: 4.093\n"
     ]
    },
    {
     "name": "stdout",
     "output_type": "stream",
     "text": [
      "Epoch 19: 100%|██████████| 167/167 [00:30<00:00,  5.50it/s, loss=3.97, v_num=5, train_loss_step=3.890, val_loss=4.090, train_loss_epoch=3.980]"
     ]
    },
    {
     "name": "stderr",
     "output_type": "stream",
     "text": [
      "Metric val_loss improved by 0.000 >= min_delta = 0. New best score: 4.093\n"
     ]
    },
    {
     "name": "stdout",
     "output_type": "stream",
     "text": [
      "Epoch 21: 100%|██████████| 167/167 [00:26<00:00,  6.36it/s, loss=3.99, v_num=5, train_loss_step=3.990, val_loss=4.090, train_loss_epoch=3.980]"
     ]
    },
    {
     "name": "stderr",
     "output_type": "stream",
     "text": [
      "Metric val_loss improved by 0.000 >= min_delta = 0. New best score: 4.093\n"
     ]
    },
    {
     "name": "stdout",
     "output_type": "stream",
     "text": [
      "Epoch 22: 100%|██████████| 167/167 [00:26<00:00,  6.35it/s, loss=3.97, v_num=5, train_loss_step=3.940, val_loss=4.090, train_loss_epoch=3.990]"
     ]
    },
    {
     "name": "stderr",
     "output_type": "stream",
     "text": [
      "Metric val_loss improved by 0.000 >= min_delta = 0. New best score: 4.093\n"
     ]
    },
    {
     "name": "stdout",
     "output_type": "stream",
     "text": [
      "Epoch 26: 100%|██████████| 167/167 [00:26<00:00,  6.35it/s, loss=3.99, v_num=5, train_loss_step=4.230, val_loss=4.090, train_loss_epoch=3.980]"
     ]
    },
    {
     "name": "stderr",
     "output_type": "stream",
     "text": [
      "Metric val_loss improved by 0.000 >= min_delta = 0. New best score: 4.092\n"
     ]
    },
    {
     "name": "stdout",
     "output_type": "stream",
     "text": [
      "Epoch 29: 100%|██████████| 167/167 [00:30<00:00,  5.49it/s, loss=3.99, v_num=5, train_loss_step=3.990, val_loss=4.090, train_loss_epoch=3.980]"
     ]
    },
    {
     "name": "stderr",
     "output_type": "stream",
     "text": [
      "`Trainer.fit` stopped: `max_epochs=30` reached.\n"
     ]
    },
    {
     "name": "stdout",
     "output_type": "stream",
     "text": [
      "Epoch 29: 100%|██████████| 167/167 [00:30<00:00,  5.47it/s, loss=3.99, v_num=5, train_loss_step=3.990, val_loss=4.090, train_loss_epoch=3.980]"
     ]
    },
    {
     "name": "stderr",
     "output_type": "stream",
     "text": [
      "\u001b[32m[I 2024-03-28 20:05:52,307]\u001b[0m Trial 5 pruned. \u001b[0m\n"
     ]
    },
    {
     "name": "stdout",
     "output_type": "stream",
     "text": [
      "\n"
     ]
    },
    {
     "name": "stderr",
     "output_type": "stream",
     "text": [
      "GPU available: True (cuda), used: True\n",
      "TPU available: False, using: 0 TPU cores\n",
      "IPU available: False, using: 0 IPUs\n",
      "HPU available: False, using: 0 HPUs\n",
      "`Trainer(limit_train_batches=1.0)` was configured so 100% of the batches per epoch will be used..\n",
      "`Trainer(limit_val_batches=1.0)` was configured so 100% of the batches will be used..\n",
      "LOCAL_RANK: 0 - CUDA_VISIBLE_DEVICES: [0]\n",
      "\n",
      "  | Name                   | Type                             | Params\n",
      "----------------------------------------------------------------------------\n",
      "0 | loss                   | NegativeBinomialDistributionLoss | 0     \n",
      "1 | logging_metrics        | ModuleList                       | 0     \n",
      "2 | embeddings             | MultiEmbedding                   | 787   \n",
      "3 | rnn                    | LSTM                             | 11.8 M\n",
      "4 | distribution_projector | Linear                           | 822   \n",
      "----------------------------------------------------------------------------\n",
      "11.8 M    Trainable params\n",
      "0         Non-trainable params\n",
      "11.8 M    Total params\n",
      "47.068    Total estimated model params size (MB)\n"
     ]
    },
    {
     "name": "stdout",
     "output_type": "stream",
     "text": [
      "Epoch 0: 100%|██████████| 130/130 [00:26<00:00,  4.92it/s, loss=25.7, v_num=6, train_loss_step=24.50, val_loss=26.90]"
     ]
    },
    {
     "name": "stderr",
     "output_type": "stream",
     "text": [
      "Metric val_loss improved. New best score: 26.864\n"
     ]
    },
    {
     "name": "stdout",
     "output_type": "stream",
     "text": [
      "Epoch 1: 100%|██████████| 130/130 [00:26<00:00,  4.91it/s, loss=6.23, v_num=6, train_loss_step=5.460, val_loss=5.160, train_loss_epoch=27.40]"
     ]
    },
    {
     "name": "stderr",
     "output_type": "stream",
     "text": [
      "Metric val_loss improved by 21.700 >= min_delta = 0. New best score: 5.164\n"
     ]
    },
    {
     "name": "stdout",
     "output_type": "stream",
     "text": [
      "Epoch 2: 100%|██████████| 130/130 [00:26<00:00,  4.91it/s, loss=4.12, v_num=6, train_loss_step=4.090, val_loss=4.230, train_loss_epoch=15.40]"
     ]
    },
    {
     "name": "stderr",
     "output_type": "stream",
     "text": [
      "Metric val_loss improved by 0.935 >= min_delta = 0. New best score: 4.229\n"
     ]
    },
    {
     "name": "stdout",
     "output_type": "stream",
     "text": [
      "Epoch 3: 100%|██████████| 130/130 [00:30<00:00,  4.27it/s, loss=4.03, v_num=6, train_loss_step=4.000, val_loss=4.120, train_loss_epoch=4.290]"
     ]
    },
    {
     "name": "stderr",
     "output_type": "stream",
     "text": [
      "Metric val_loss improved by 0.113 >= min_delta = 0. New best score: 4.116\n"
     ]
    },
    {
     "name": "stdout",
     "output_type": "stream",
     "text": [
      "Epoch 4: 100%|██████████| 130/130 [00:26<00:00,  4.89it/s, loss=3.98, v_num=6, train_loss_step=3.840, val_loss=4.100, train_loss_epoch=4.030]"
     ]
    },
    {
     "name": "stderr",
     "output_type": "stream",
     "text": [
      "Metric val_loss improved by 0.018 >= min_delta = 0. New best score: 4.098\n"
     ]
    },
    {
     "name": "stdout",
     "output_type": "stream",
     "text": [
      "Epoch 5: 100%|██████████| 130/130 [00:26<00:00,  4.89it/s, loss=3.96, v_num=6, train_loss_step=3.970, val_loss=4.090, train_loss_epoch=3.990]"
     ]
    },
    {
     "name": "stderr",
     "output_type": "stream",
     "text": [
      "Metric val_loss improved by 0.003 >= min_delta = 0. New best score: 4.095\n"
     ]
    },
    {
     "name": "stdout",
     "output_type": "stream",
     "text": [
      "Epoch 6: 100%|██████████| 130/130 [00:26<00:00,  4.90it/s, loss=4, v_num=6, train_loss_step=3.940, val_loss=4.090, train_loss_epoch=3.990]   "
     ]
    },
    {
     "name": "stderr",
     "output_type": "stream",
     "text": [
      "Metric val_loss improved by 0.001 >= min_delta = 0. New best score: 4.094\n"
     ]
    },
    {
     "name": "stdout",
     "output_type": "stream",
     "text": [
      "Epoch 7: 100%|██████████| 130/130 [00:26<00:00,  4.91it/s, loss=3.99, v_num=6, train_loss_step=4.050, val_loss=4.090, train_loss_epoch=3.980]"
     ]
    },
    {
     "name": "stderr",
     "output_type": "stream",
     "text": [
      "Metric val_loss improved by 0.001 >= min_delta = 0. New best score: 4.093\n"
     ]
    },
    {
     "name": "stdout",
     "output_type": "stream",
     "text": [
      "Epoch 8: 100%|██████████| 130/130 [00:30<00:00,  4.27it/s, loss=3.97, v_num=6, train_loss_step=3.920, val_loss=4.090, train_loss_epoch=3.980]"
     ]
    },
    {
     "name": "stderr",
     "output_type": "stream",
     "text": [
      "Metric val_loss improved by 0.000 >= min_delta = 0. New best score: 4.093\n"
     ]
    },
    {
     "name": "stdout",
     "output_type": "stream",
     "text": [
      "Epoch 10: 100%|██████████| 130/130 [00:26<00:00,  4.90it/s, loss=3.99, v_num=6, train_loss_step=3.920, val_loss=4.090, train_loss_epoch=3.980]"
     ]
    },
    {
     "name": "stderr",
     "output_type": "stream",
     "text": [
      "Metric val_loss improved by 0.000 >= min_delta = 0. New best score: 4.093\n"
     ]
    },
    {
     "name": "stdout",
     "output_type": "stream",
     "text": [
      "Epoch 11: 100%|██████████| 130/130 [00:26<00:00,  4.90it/s, loss=4, v_num=6, train_loss_step=4.120, val_loss=4.090, train_loss_epoch=3.980]   "
     ]
    },
    {
     "name": "stderr",
     "output_type": "stream",
     "text": [
      "Metric val_loss improved by 0.000 >= min_delta = 0. New best score: 4.092\n"
     ]
    },
    {
     "name": "stdout",
     "output_type": "stream",
     "text": [
      "Epoch 12: 100%|██████████| 130/130 [00:30<00:00,  4.26it/s, loss=4.01, v_num=6, train_loss_step=4.110, val_loss=4.090, train_loss_epoch=3.980]"
     ]
    },
    {
     "name": "stderr",
     "output_type": "stream",
     "text": [
      "Metric val_loss improved by 0.000 >= min_delta = 0. New best score: 4.092\n"
     ]
    },
    {
     "name": "stdout",
     "output_type": "stream",
     "text": [
      "Epoch 16: 100%|██████████| 130/130 [00:30<00:00,  4.25it/s, loss=4, v_num=6, train_loss_step=3.970, val_loss=4.090, train_loss_epoch=3.980]   "
     ]
    },
    {
     "name": "stderr",
     "output_type": "stream",
     "text": [
      "Metric val_loss improved by 0.000 >= min_delta = 0. New best score: 4.092\n"
     ]
    },
    {
     "name": "stdout",
     "output_type": "stream",
     "text": [
      "Epoch 21: 100%|██████████| 130/130 [00:30<00:00,  4.25it/s, loss=3.97, v_num=6, train_loss_step=3.880, val_loss=4.090, train_loss_epoch=3.980]"
     ]
    },
    {
     "name": "stderr",
     "output_type": "stream",
     "text": [
      "Monitored metric val_loss did not improve in the last 5 records. Best score: 4.092. Signaling Trainer to stop.\n"
     ]
    },
    {
     "name": "stdout",
     "output_type": "stream",
     "text": [
      "Epoch 21: 100%|██████████| 130/130 [00:30<00:00,  4.22it/s, loss=3.97, v_num=6, train_loss_step=3.880, val_loss=4.090, train_loss_epoch=3.980]\n"
     ]
    },
    {
     "name": "stderr",
     "output_type": "stream",
     "text": [
      "\u001b[32m[I 2024-03-28 20:16:09,285]\u001b[0m Trial 6 pruned. \u001b[0m\n",
      "GPU available: True (cuda), used: True\n",
      "TPU available: False, using: 0 TPU cores\n",
      "IPU available: False, using: 0 IPUs\n",
      "HPU available: False, using: 0 HPUs\n",
      "`Trainer(limit_train_batches=1.0)` was configured so 100% of the batches per epoch will be used..\n",
      "`Trainer(limit_val_batches=1.0)` was configured so 100% of the batches will be used..\n",
      "LOCAL_RANK: 0 - CUDA_VISIBLE_DEVICES: [0]\n",
      "\n",
      "  | Name                   | Type                             | Params\n",
      "----------------------------------------------------------------------------\n",
      "0 | loss                   | NegativeBinomialDistributionLoss | 0     \n",
      "1 | logging_metrics        | ModuleList                       | 0     \n",
      "2 | embeddings             | MultiEmbedding                   | 787   \n",
      "3 | rnn                    | LSTM                             | 717 K \n",
      "4 | distribution_projector | Linear                           | 222   \n",
      "----------------------------------------------------------------------------\n",
      "718 K     Trainable params\n",
      "0         Non-trainable params\n",
      "718 K     Total params\n",
      "2.873     Total estimated model params size (MB)\n"
     ]
    },
    {
     "name": "stdout",
     "output_type": "stream",
     "text": [
      "Epoch 0: 100%|██████████| 195/195 [00:26<00:00,  7.39it/s, loss=25.8, v_num=7, train_loss_step=24.90, val_loss=27.40]"
     ]
    },
    {
     "name": "stderr",
     "output_type": "stream",
     "text": [
      "Metric val_loss improved. New best score: 27.361\n"
     ]
    },
    {
     "name": "stdout",
     "output_type": "stream",
     "text": [
      "Epoch 1: 100%|██████████| 195/195 [00:26<00:00,  7.50it/s, loss=5.22, v_num=7, train_loss_step=4.720, val_loss=5.160, train_loss_epoch=27.80]"
     ]
    },
    {
     "name": "stderr",
     "output_type": "stream",
     "text": [
      "Metric val_loss improved by 22.197 >= min_delta = 0. New best score: 5.164\n"
     ]
    },
    {
     "name": "stdout",
     "output_type": "stream",
     "text": [
      "Epoch 2: 100%|██████████| 195/195 [00:26<00:00,  7.46it/s, loss=4.29, v_num=7, train_loss_step=4.340, val_loss=4.410, train_loss_epoch=14.20]"
     ]
    },
    {
     "name": "stderr",
     "output_type": "stream",
     "text": [
      "Metric val_loss improved by 0.750 >= min_delta = 0. New best score: 4.414\n"
     ]
    },
    {
     "name": "stdout",
     "output_type": "stream",
     "text": [
      "Epoch 3: 100%|██████████| 195/195 [00:26<00:00,  7.47it/s, loss=4.2, v_num=7, train_loss_step=4.070, val_loss=4.280, train_loss_epoch=4.410] "
     ]
    },
    {
     "name": "stderr",
     "output_type": "stream",
     "text": [
      "Metric val_loss improved by 0.132 >= min_delta = 0. New best score: 4.282\n"
     ]
    },
    {
     "name": "stdout",
     "output_type": "stream",
     "text": [
      "Epoch 4: 100%|██████████| 195/195 [00:30<00:00,  6.38it/s, loss=4.06, v_num=7, train_loss_step=4.070, val_loss=4.200, train_loss_epoch=4.190]"
     ]
    },
    {
     "name": "stderr",
     "output_type": "stream",
     "text": [
      "Metric val_loss improved by 0.079 >= min_delta = 0. New best score: 4.203\n"
     ]
    },
    {
     "name": "stdout",
     "output_type": "stream",
     "text": [
      "Epoch 5: 100%|██████████| 195/195 [00:26<00:00,  7.40it/s, loss=4.08, v_num=7, train_loss_step=4.140, val_loss=4.160, train_loss_epoch=4.100]"
     ]
    },
    {
     "name": "stderr",
     "output_type": "stream",
     "text": [
      "Metric val_loss improved by 0.047 >= min_delta = 0. New best score: 4.156\n"
     ]
    },
    {
     "name": "stdout",
     "output_type": "stream",
     "text": [
      "Epoch 6: 100%|██████████| 195/195 [00:26<00:00,  7.38it/s, loss=4, v_num=7, train_loss_step=3.910, val_loss=4.130, train_loss_epoch=4.050]   "
     ]
    },
    {
     "name": "stderr",
     "output_type": "stream",
     "text": [
      "Metric val_loss improved by 0.028 >= min_delta = 0. New best score: 4.128\n"
     ]
    },
    {
     "name": "stdout",
     "output_type": "stream",
     "text": [
      "Epoch 7: 100%|██████████| 195/195 [00:26<00:00,  7.47it/s, loss=3.98, v_num=7, train_loss_step=3.990, val_loss=4.110, train_loss_epoch=4.020]"
     ]
    },
    {
     "name": "stderr",
     "output_type": "stream",
     "text": [
      "Metric val_loss improved by 0.015 >= min_delta = 0. New best score: 4.113\n"
     ]
    },
    {
     "name": "stdout",
     "output_type": "stream",
     "text": [
      "Epoch 8: 100%|██████████| 195/195 [00:26<00:00,  7.37it/s, loss=3.97, v_num=7, train_loss_step=4.010, val_loss=4.110, train_loss_epoch=4.000]"
     ]
    },
    {
     "name": "stderr",
     "output_type": "stream",
     "text": [
      "Metric val_loss improved by 0.008 >= min_delta = 0. New best score: 4.105\n"
     ]
    },
    {
     "name": "stdout",
     "output_type": "stream",
     "text": [
      "Epoch 9: 100%|██████████| 195/195 [00:26<00:00,  7.43it/s, loss=3.98, v_num=7, train_loss_step=3.950, val_loss=4.100, train_loss_epoch=3.990]"
     ]
    },
    {
     "name": "stderr",
     "output_type": "stream",
     "text": [
      "Metric val_loss improved by 0.004 >= min_delta = 0. New best score: 4.101\n"
     ]
    },
    {
     "name": "stdout",
     "output_type": "stream",
     "text": [
      "Epoch 10: 100%|██████████| 195/195 [00:26<00:00,  7.45it/s, loss=3.99, v_num=7, train_loss_step=3.910, val_loss=4.100, train_loss_epoch=3.990]"
     ]
    },
    {
     "name": "stderr",
     "output_type": "stream",
     "text": [
      "Metric val_loss improved by 0.003 >= min_delta = 0. New best score: 4.097\n"
     ]
    },
    {
     "name": "stdout",
     "output_type": "stream",
     "text": [
      "Epoch 11: 100%|██████████| 195/195 [00:30<00:00,  6.43it/s, loss=3.98, v_num=7, train_loss_step=4.030, val_loss=4.100, train_loss_epoch=3.990]"
     ]
    },
    {
     "name": "stderr",
     "output_type": "stream",
     "text": [
      "Metric val_loss improved by 0.002 >= min_delta = 0. New best score: 4.096\n"
     ]
    },
    {
     "name": "stdout",
     "output_type": "stream",
     "text": [
      "Epoch 12: 100%|██████████| 195/195 [00:26<00:00,  7.44it/s, loss=3.96, v_num=7, train_loss_step=3.930, val_loss=4.090, train_loss_epoch=3.990]"
     ]
    },
    {
     "name": "stderr",
     "output_type": "stream",
     "text": [
      "Metric val_loss improved by 0.001 >= min_delta = 0. New best score: 4.095\n"
     ]
    },
    {
     "name": "stdout",
     "output_type": "stream",
     "text": [
      "Epoch 13: 100%|██████████| 195/195 [00:26<00:00,  7.41it/s, loss=4, v_num=7, train_loss_step=4.040, val_loss=4.090, train_loss_epoch=3.990]   "
     ]
    },
    {
     "name": "stderr",
     "output_type": "stream",
     "text": [
      "Metric val_loss improved by 0.001 >= min_delta = 0. New best score: 4.094\n"
     ]
    },
    {
     "name": "stdout",
     "output_type": "stream",
     "text": [
      "Epoch 14: 100%|██████████| 195/195 [00:26<00:00,  7.42it/s, loss=4, v_num=7, train_loss_step=3.950, val_loss=4.090, train_loss_epoch=3.990]   "
     ]
    },
    {
     "name": "stderr",
     "output_type": "stream",
     "text": [
      "Metric val_loss improved by 0.001 >= min_delta = 0. New best score: 4.093\n"
     ]
    },
    {
     "name": "stdout",
     "output_type": "stream",
     "text": [
      "Epoch 15: 100%|██████████| 195/195 [00:26<00:00,  7.39it/s, loss=3.97, v_num=7, train_loss_step=3.970, val_loss=4.090, train_loss_epoch=3.980]"
     ]
    },
    {
     "name": "stderr",
     "output_type": "stream",
     "text": [
      "Metric val_loss improved by 0.000 >= min_delta = 0. New best score: 4.093\n"
     ]
    },
    {
     "name": "stdout",
     "output_type": "stream",
     "text": [
      "Epoch 16: 100%|██████████| 195/195 [00:26<00:00,  7.42it/s, loss=4.01, v_num=7, train_loss_step=3.900, val_loss=4.090, train_loss_epoch=3.980]"
     ]
    },
    {
     "name": "stderr",
     "output_type": "stream",
     "text": [
      "Metric val_loss improved by 0.000 >= min_delta = 0. New best score: 4.093\n"
     ]
    },
    {
     "name": "stdout",
     "output_type": "stream",
     "text": [
      "Epoch 17: 100%|██████████| 195/195 [00:30<00:00,  6.41it/s, loss=3.97, v_num=7, train_loss_step=3.890, val_loss=4.090, train_loss_epoch=3.980]"
     ]
    },
    {
     "name": "stderr",
     "output_type": "stream",
     "text": [
      "Metric val_loss improved by 0.000 >= min_delta = 0. New best score: 4.093\n"
     ]
    },
    {
     "name": "stdout",
     "output_type": "stream",
     "text": [
      "Epoch 20: 100%|██████████| 195/195 [00:26<00:00,  7.41it/s, loss=3.99, v_num=7, train_loss_step=4.010, val_loss=4.090, train_loss_epoch=3.980]"
     ]
    },
    {
     "name": "stderr",
     "output_type": "stream",
     "text": [
      "Metric val_loss improved by 0.000 >= min_delta = 0. New best score: 4.093\n"
     ]
    },
    {
     "name": "stdout",
     "output_type": "stream",
     "text": [
      "Epoch 21: 100%|██████████| 195/195 [00:26<00:00,  7.42it/s, loss=3.94, v_num=7, train_loss_step=4.020, val_loss=4.010, train_loss_epoch=3.980]"
     ]
    },
    {
     "name": "stderr",
     "output_type": "stream",
     "text": [
      "Metric val_loss improved by 0.084 >= min_delta = 0. New best score: 4.009\n"
     ]
    },
    {
     "name": "stdout",
     "output_type": "stream",
     "text": [
      "Epoch 22: 100%|██████████| 195/195 [00:26<00:00,  7.43it/s, loss=3.45, v_num=7, train_loss_step=3.260, val_loss=3.590, train_loss_epoch=3.970]"
     ]
    },
    {
     "name": "stderr",
     "output_type": "stream",
     "text": [
      "Metric val_loss improved by 0.420 >= min_delta = 0. New best score: 3.588\n"
     ]
    },
    {
     "name": "stdout",
     "output_type": "stream",
     "text": [
      "Epoch 23: 100%|██████████| 195/195 [00:26<00:00,  7.40it/s, loss=3.22, v_num=7, train_loss_step=3.060, val_loss=3.390, train_loss_epoch=3.640]"
     ]
    },
    {
     "name": "stderr",
     "output_type": "stream",
     "text": [
      "Metric val_loss improved by 0.203 >= min_delta = 0. New best score: 3.386\n"
     ]
    },
    {
     "name": "stdout",
     "output_type": "stream",
     "text": [
      "Epoch 24: 100%|██████████| 195/195 [00:30<00:00,  6.33it/s, loss=3.11, v_num=7, train_loss_step=3.010, val_loss=3.320, train_loss_epoch=3.310]"
     ]
    },
    {
     "name": "stderr",
     "output_type": "stream",
     "text": [
      "Metric val_loss improved by 0.067 >= min_delta = 0. New best score: 3.319\n"
     ]
    },
    {
     "name": "stdout",
     "output_type": "stream",
     "text": [
      "Epoch 25: 100%|██████████| 195/195 [00:26<00:00,  7.33it/s, loss=3.07, v_num=7, train_loss_step=3.070, val_loss=3.290, train_loss_epoch=3.160]"
     ]
    },
    {
     "name": "stderr",
     "output_type": "stream",
     "text": [
      "Metric val_loss improved by 0.032 >= min_delta = 0. New best score: 3.287\n"
     ]
    },
    {
     "name": "stdout",
     "output_type": "stream",
     "text": [
      "Epoch 26: 100%|██████████| 195/195 [00:26<00:00,  7.37it/s, loss=3.04, v_num=7, train_loss_step=2.990, val_loss=3.260, train_loss_epoch=3.080]"
     ]
    },
    {
     "name": "stderr",
     "output_type": "stream",
     "text": [
      "Metric val_loss improved by 0.031 >= min_delta = 0. New best score: 3.256\n"
     ]
    },
    {
     "name": "stdout",
     "output_type": "stream",
     "text": [
      "Epoch 27: 100%|██████████| 195/195 [00:26<00:00,  7.45it/s, loss=2.98, v_num=7, train_loss_step=3.000, val_loss=3.240, train_loss_epoch=3.030]"
     ]
    },
    {
     "name": "stderr",
     "output_type": "stream",
     "text": [
      "Metric val_loss improved by 0.013 >= min_delta = 0. New best score: 3.243\n"
     ]
    },
    {
     "name": "stdout",
     "output_type": "stream",
     "text": [
      "Epoch 28: 100%|██████████| 195/195 [00:26<00:00,  7.40it/s, loss=2.94, v_num=7, train_loss_step=2.860, val_loss=3.230, train_loss_epoch=2.990]"
     ]
    },
    {
     "name": "stderr",
     "output_type": "stream",
     "text": [
      "Metric val_loss improved by 0.017 >= min_delta = 0. New best score: 3.225\n"
     ]
    },
    {
     "name": "stdout",
     "output_type": "stream",
     "text": [
      "Epoch 29: 100%|██████████| 195/195 [00:26<00:00,  7.37it/s, loss=2.93, v_num=7, train_loss_step=2.960, val_loss=3.200, train_loss_epoch=2.950]"
     ]
    },
    {
     "name": "stderr",
     "output_type": "stream",
     "text": [
      "Metric val_loss improved by 0.022 >= min_delta = 0. New best score: 3.203\n"
     ]
    },
    {
     "name": "stdout",
     "output_type": "stream",
     "text": [
      "Epoch 29: 100%|██████████| 195/195 [00:26<00:00,  7.37it/s, loss=2.93, v_num=7, train_loss_step=2.960, val_loss=3.200, train_loss_epoch=2.930]"
     ]
    },
    {
     "name": "stderr",
     "output_type": "stream",
     "text": [
      "`Trainer.fit` stopped: `max_epochs=30` reached.\n"
     ]
    },
    {
     "name": "stdout",
     "output_type": "stream",
     "text": [
      "Epoch 29: 100%|██████████| 195/195 [00:26<00:00,  7.36it/s, loss=2.93, v_num=7, train_loss_step=2.960, val_loss=3.200, train_loss_epoch=2.930]"
     ]
    },
    {
     "name": "stderr",
     "output_type": "stream",
     "text": [
      "\u001b[32m[I 2024-03-28 20:29:41,099]\u001b[0m Trial 7 finished with value: 39.43895721435547 and parameters: {'neu': 110, 'lay': 7, 'bat': 384, 'lr': 0.0006136854347943513, 'dropout': 0.2}. Best is trial 2 with value: 33.46284484863281.\u001b[0m\n"
     ]
    },
    {
     "name": "stdout",
     "output_type": "stream",
     "text": [
      "\n"
     ]
    },
    {
     "name": "stderr",
     "output_type": "stream",
     "text": [
      "GPU available: True (cuda), used: True\n",
      "TPU available: False, using: 0 TPU cores\n",
      "IPU available: False, using: 0 IPUs\n",
      "HPU available: False, using: 0 HPUs\n",
      "`Trainer(limit_train_batches=1.0)` was configured so 100% of the batches per epoch will be used..\n",
      "`Trainer(limit_val_batches=1.0)` was configured so 100% of the batches will be used..\n",
      "LOCAL_RANK: 0 - CUDA_VISIBLE_DEVICES: [0]\n",
      "\n",
      "  | Name                   | Type                             | Params\n",
      "----------------------------------------------------------------------------\n",
      "0 | loss                   | NegativeBinomialDistributionLoss | 0     \n",
      "1 | logging_metrics        | ModuleList                       | 0     \n",
      "2 | embeddings             | MultiEmbedding                   | 787   \n",
      "3 | rnn                    | LSTM                             | 5.6 M \n",
      "4 | distribution_projector | Linear                           | 1.0 K \n",
      "----------------------------------------------------------------------------\n",
      "5.6 M     Trainable params\n",
      "0         Non-trainable params\n",
      "5.6 M     Total params\n",
      "22.382    Total estimated model params size (MB)\n"
     ]
    },
    {
     "name": "stdout",
     "output_type": "stream",
     "text": [
      "Epoch 0: 100%|██████████| 156/156 [00:25<00:00,  6.00it/s, loss=5.17, v_num=8, train_loss_step=4.390, val_loss=4.580]"
     ]
    },
    {
     "name": "stderr",
     "output_type": "stream",
     "text": [
      "Metric val_loss improved. New best score: 4.580\n"
     ]
    },
    {
     "name": "stdout",
     "output_type": "stream",
     "text": [
      "Epoch 1: 100%|██████████| 156/156 [00:30<00:00,  5.10it/s, loss=3.77, v_num=8, train_loss_step=3.720, val_loss=3.870, train_loss_epoch=17.30]"
     ]
    },
    {
     "name": "stderr",
     "output_type": "stream",
     "text": [
      "Metric val_loss improved by 0.706 >= min_delta = 0. New best score: 3.874\n"
     ]
    },
    {
     "name": "stdout",
     "output_type": "stream",
     "text": [
      "Epoch 2: 100%|██████████| 156/156 [00:25<00:00,  6.01it/s, loss=3.23, v_num=8, train_loss_step=3.230, val_loss=3.400, train_loss_epoch=3.970]"
     ]
    },
    {
     "name": "stderr",
     "output_type": "stream",
     "text": [
      "Metric val_loss improved by 0.477 >= min_delta = 0. New best score: 3.397\n"
     ]
    },
    {
     "name": "stdout",
     "output_type": "stream",
     "text": [
      "Epoch 3: 100%|██████████| 156/156 [00:25<00:00,  6.03it/s, loss=3.07, v_num=8, train_loss_step=3.010, val_loss=3.220, train_loss_epoch=3.480]"
     ]
    },
    {
     "name": "stderr",
     "output_type": "stream",
     "text": [
      "Metric val_loss improved by 0.174 >= min_delta = 0. New best score: 3.223\n"
     ]
    },
    {
     "name": "stdout",
     "output_type": "stream",
     "text": [
      "Epoch 4: 100%|██████████| 156/156 [00:25<00:00,  6.04it/s, loss=2.94, v_num=8, train_loss_step=2.850, val_loss=3.160, train_loss_epoch=3.120]"
     ]
    },
    {
     "name": "stderr",
     "output_type": "stream",
     "text": [
      "Metric val_loss improved by 0.061 >= min_delta = 0. New best score: 3.161\n"
     ]
    },
    {
     "name": "stdout",
     "output_type": "stream",
     "text": [
      "Epoch 5: 100%|██████████| 156/156 [00:25<00:00,  6.04it/s, loss=2.93, v_num=8, train_loss_step=2.760, val_loss=3.060, train_loss_epoch=2.990]"
     ]
    },
    {
     "name": "stderr",
     "output_type": "stream",
     "text": [
      "Metric val_loss improved by 0.101 >= min_delta = 0. New best score: 3.060\n"
     ]
    },
    {
     "name": "stdout",
     "output_type": "stream",
     "text": [
      "Epoch 6: 100%|██████████| 156/156 [00:25<00:00,  6.05it/s, loss=2.85, v_num=8, train_loss_step=2.950, val_loss=3.010, train_loss_epoch=2.910]"
     ]
    },
    {
     "name": "stderr",
     "output_type": "stream",
     "text": [
      "Metric val_loss improved by 0.050 >= min_delta = 0. New best score: 3.010\n"
     ]
    },
    {
     "name": "stdout",
     "output_type": "stream",
     "text": [
      "Epoch 7: 100%|██████████| 156/156 [00:25<00:00,  6.03it/s, loss=2.76, v_num=8, train_loss_step=2.690, val_loss=2.960, train_loss_epoch=2.850]"
     ]
    },
    {
     "name": "stderr",
     "output_type": "stream",
     "text": [
      "Metric val_loss improved by 0.050 >= min_delta = 0. New best score: 2.960\n"
     ]
    },
    {
     "name": "stdout",
     "output_type": "stream",
     "text": [
      "Epoch 9: 100%|██████████| 156/156 [00:25<00:00,  6.02it/s, loss=2.72, v_num=8, train_loss_step=2.800, val_loss=2.910, train_loss_epoch=2.760]"
     ]
    },
    {
     "name": "stderr",
     "output_type": "stream",
     "text": [
      "Metric val_loss improved by 0.046 >= min_delta = 0. New best score: 2.914\n"
     ]
    },
    {
     "name": "stdout",
     "output_type": "stream",
     "text": [
      "Epoch 10: 100%|██████████| 156/156 [00:25<00:00,  6.04it/s, loss=2.69, v_num=8, train_loss_step=2.740, val_loss=2.910, train_loss_epoch=2.730]"
     ]
    },
    {
     "name": "stderr",
     "output_type": "stream",
     "text": [
      "Metric val_loss improved by 0.002 >= min_delta = 0. New best score: 2.912\n"
     ]
    },
    {
     "name": "stdout",
     "output_type": "stream",
     "text": [
      "Epoch 11: 100%|██████████| 156/156 [00:25<00:00,  6.03it/s, loss=2.68, v_num=8, train_loss_step=2.720, val_loss=2.860, train_loss_epoch=2.710]"
     ]
    },
    {
     "name": "stderr",
     "output_type": "stream",
     "text": [
      "Metric val_loss improved by 0.049 >= min_delta = 0. New best score: 2.863\n"
     ]
    },
    {
     "name": "stdout",
     "output_type": "stream",
     "text": [
      "Epoch 13: 100%|██████████| 156/156 [00:25<00:00,  6.04it/s, loss=2.61, v_num=8, train_loss_step=2.570, val_loss=2.850, train_loss_epoch=2.660]"
     ]
    },
    {
     "name": "stderr",
     "output_type": "stream",
     "text": [
      "Metric val_loss improved by 0.015 >= min_delta = 0. New best score: 2.848\n"
     ]
    },
    {
     "name": "stdout",
     "output_type": "stream",
     "text": [
      "Epoch 15: 100%|██████████| 156/156 [00:30<00:00,  5.12it/s, loss=2.59, v_num=8, train_loss_step=2.590, val_loss=2.840, train_loss_epoch=2.620]"
     ]
    },
    {
     "name": "stderr",
     "output_type": "stream",
     "text": [
      "Metric val_loss improved by 0.006 >= min_delta = 0. New best score: 2.842\n"
     ]
    },
    {
     "name": "stdout",
     "output_type": "stream",
     "text": [
      "Epoch 16: 100%|██████████| 156/156 [00:25<00:00,  6.02it/s, loss=2.6, v_num=8, train_loss_step=2.600, val_loss=2.840, train_loss_epoch=2.600] "
     ]
    },
    {
     "name": "stderr",
     "output_type": "stream",
     "text": [
      "Metric val_loss improved by 0.000 >= min_delta = 0. New best score: 2.842\n"
     ]
    },
    {
     "name": "stdout",
     "output_type": "stream",
     "text": [
      "Epoch 17: 100%|██████████| 156/156 [00:25<00:00,  6.05it/s, loss=2.55, v_num=8, train_loss_step=2.420, val_loss=2.810, train_loss_epoch=2.590]"
     ]
    },
    {
     "name": "stderr",
     "output_type": "stream",
     "text": [
      "Metric val_loss improved by 0.033 >= min_delta = 0. New best score: 2.809\n"
     ]
    },
    {
     "name": "stdout",
     "output_type": "stream",
     "text": [
      "Epoch 22: 100%|██████████| 156/156 [00:30<00:00,  5.10it/s, loss=2.51, v_num=8, train_loss_step=2.420, val_loss=2.860, train_loss_epoch=2.510]"
     ]
    },
    {
     "name": "stderr",
     "output_type": "stream",
     "text": [
      "Monitored metric val_loss did not improve in the last 5 records. Best score: 2.809. Signaling Trainer to stop.\n"
     ]
    },
    {
     "name": "stdout",
     "output_type": "stream",
     "text": [
      "Epoch 22: 100%|██████████| 156/156 [00:30<00:00,  5.08it/s, loss=2.51, v_num=8, train_loss_step=2.420, val_loss=2.860, train_loss_epoch=2.500]"
     ]
    },
    {
     "name": "stderr",
     "output_type": "stream",
     "text": [
      "\u001b[32m[I 2024-03-28 20:40:01,776]\u001b[0m Trial 8 finished with value: 34.07133102416992 and parameters: {'neu': 510, 'lay': 3, 'bat': 480, 'lr': 0.0009384088250726794, 'dropout': 0.0}. Best is trial 2 with value: 33.46284484863281.\u001b[0m\n"
     ]
    },
    {
     "name": "stdout",
     "output_type": "stream",
     "text": [
      "\n"
     ]
    },
    {
     "name": "stderr",
     "output_type": "stream",
     "text": [
      "GPU available: True (cuda), used: True\n",
      "TPU available: False, using: 0 TPU cores\n",
      "IPU available: False, using: 0 IPUs\n",
      "HPU available: False, using: 0 HPUs\n",
      "`Trainer(limit_train_batches=1.0)` was configured so 100% of the batches per epoch will be used..\n",
      "`Trainer(limit_val_batches=1.0)` was configured so 100% of the batches will be used..\n",
      "LOCAL_RANK: 0 - CUDA_VISIBLE_DEVICES: [0]\n",
      "\n",
      "  | Name                   | Type                             | Params\n",
      "----------------------------------------------------------------------------\n",
      "0 | loss                   | NegativeBinomialDistributionLoss | 0     \n",
      "1 | logging_metrics        | ModuleList                       | 0     \n",
      "2 | embeddings             | MultiEmbedding                   | 787   \n",
      "3 | rnn                    | LSTM                             | 13.2 K\n",
      "4 | distribution_projector | Linear                           | 22    \n",
      "----------------------------------------------------------------------------\n",
      "14.0 K    Trainable params\n",
      "0         Non-trainable params\n",
      "14.0 K    Total params\n",
      "0.056     Total estimated model params size (MB)\n"
     ]
    },
    {
     "name": "stdout",
     "output_type": "stream",
     "text": [
      "Epoch 0: 100%|██████████| 234/234 [00:26<00:00,  8.80it/s, loss=28.6, v_num=9, train_loss_step=28.90, val_loss=30.90]"
     ]
    },
    {
     "name": "stderr",
     "output_type": "stream",
     "text": [
      "Metric val_loss improved. New best score: 30.852\n"
     ]
    },
    {
     "name": "stdout",
     "output_type": "stream",
     "text": [
      "Epoch 1: 100%|██████████| 234/234 [00:26<00:00,  8.78it/s, loss=28, v_num=9, train_loss_step=24.90, val_loss=30.30, train_loss_epoch=28.50]  "
     ]
    },
    {
     "name": "stderr",
     "output_type": "stream",
     "text": [
      "Metric val_loss improved by 0.540 >= min_delta = 0. New best score: 30.312\n"
     ]
    },
    {
     "name": "stdout",
     "output_type": "stream",
     "text": [
      "Epoch 2: 100%|██████████| 234/234 [00:26<00:00,  8.80it/s, loss=27.1, v_num=9, train_loss_step=27.80, val_loss=29.60, train_loss_epoch=28.10]"
     ]
    },
    {
     "name": "stderr",
     "output_type": "stream",
     "text": [
      "Metric val_loss improved by 0.755 >= min_delta = 0. New best score: 29.557\n"
     ]
    },
    {
     "name": "stdout",
     "output_type": "stream",
     "text": [
      "Epoch 3: 100%|██████████| 234/234 [00:26<00:00,  8.80it/s, loss=27.1, v_num=9, train_loss_step=30.00, val_loss=28.50, train_loss_epoch=27.50]"
     ]
    },
    {
     "name": "stderr",
     "output_type": "stream",
     "text": [
      "Metric val_loss improved by 1.103 >= min_delta = 0. New best score: 28.454\n"
     ]
    },
    {
     "name": "stdout",
     "output_type": "stream",
     "text": [
      "Epoch 4: 100%|██████████| 234/234 [00:26<00:00,  8.88it/s, loss=24.1, v_num=9, train_loss_step=23.60, val_loss=26.90, train_loss_epoch=26.70]"
     ]
    },
    {
     "name": "stderr",
     "output_type": "stream",
     "text": [
      "Metric val_loss improved by 1.578 >= min_delta = 0. New best score: 26.876\n"
     ]
    },
    {
     "name": "stdout",
     "output_type": "stream",
     "text": [
      "Epoch 5: 100%|██████████| 234/234 [00:27<00:00,  8.67it/s, loss=23.1, v_num=9, train_loss_step=26.20, val_loss=24.70, train_loss_epoch=25.50]"
     ]
    },
    {
     "name": "stderr",
     "output_type": "stream",
     "text": [
      "Metric val_loss improved by 2.152 >= min_delta = 0. New best score: 24.724\n"
     ]
    },
    {
     "name": "stdout",
     "output_type": "stream",
     "text": [
      "Epoch 6: 100%|██████████| 234/234 [00:26<00:00,  8.73it/s, loss=19.9, v_num=9, train_loss_step=21.20, val_loss=21.60, train_loss_epoch=23.80]"
     ]
    },
    {
     "name": "stderr",
     "output_type": "stream",
     "text": [
      "Metric val_loss improved by 3.112 >= min_delta = 0. New best score: 21.612\n"
     ]
    },
    {
     "name": "stdout",
     "output_type": "stream",
     "text": [
      "Epoch 7: 100%|██████████| 234/234 [00:26<00:00,  8.71it/s, loss=16.4, v_num=9, train_loss_step=15.90, val_loss=17.50, train_loss_epoch=21.40]"
     ]
    },
    {
     "name": "stderr",
     "output_type": "stream",
     "text": [
      "Metric val_loss improved by 4.100 >= min_delta = 0. New best score: 17.513\n"
     ]
    },
    {
     "name": "stdout",
     "output_type": "stream",
     "text": [
      "Epoch 8: 100%|██████████| 234/234 [00:27<00:00,  8.62it/s, loss=12.9, v_num=9, train_loss_step=14.90, val_loss=13.70, train_loss_epoch=18.10]"
     ]
    },
    {
     "name": "stderr",
     "output_type": "stream",
     "text": [
      "Metric val_loss improved by 3.855 >= min_delta = 0. New best score: 13.657\n"
     ]
    },
    {
     "name": "stdout",
     "output_type": "stream",
     "text": [
      "Epoch 9: 100%|██████████| 234/234 [00:27<00:00,  8.59it/s, loss=10.4, v_num=9, train_loss_step=10.50, val_loss=11.10, train_loss_epoch=14.30]"
     ]
    },
    {
     "name": "stderr",
     "output_type": "stream",
     "text": [
      "Metric val_loss improved by 2.515 >= min_delta = 0. New best score: 11.142\n"
     ]
    },
    {
     "name": "stdout",
     "output_type": "stream",
     "text": [
      "Epoch 10: 100%|██████████| 234/234 [00:27<00:00,  8.56it/s, loss=9.07, v_num=9, train_loss_step=8.320, val_loss=9.640, train_loss_epoch=11.40]"
     ]
    },
    {
     "name": "stderr",
     "output_type": "stream",
     "text": [
      "Metric val_loss improved by 1.502 >= min_delta = 0. New best score: 9.640\n"
     ]
    },
    {
     "name": "stdout",
     "output_type": "stream",
     "text": [
      "Epoch 11: 100%|██████████| 234/234 [00:26<00:00,  8.77it/s, loss=8.24, v_num=9, train_loss_step=7.440, val_loss=8.630, train_loss_epoch=9.620]"
     ]
    },
    {
     "name": "stderr",
     "output_type": "stream",
     "text": [
      "Metric val_loss improved by 1.014 >= min_delta = 0. New best score: 8.626\n"
     ]
    },
    {
     "name": "stdout",
     "output_type": "stream",
     "text": [
      "Epoch 12: 100%|██████████| 234/234 [00:27<00:00,  8.66it/s, loss=7.3, v_num=9, train_loss_step=8.060, val_loss=7.870, train_loss_epoch=8.480] "
     ]
    },
    {
     "name": "stderr",
     "output_type": "stream",
     "text": [
      "Metric val_loss improved by 0.757 >= min_delta = 0. New best score: 7.869\n"
     ]
    },
    {
     "name": "stdout",
     "output_type": "stream",
     "text": [
      "Epoch 13: 100%|██████████| 234/234 [00:26<00:00,  8.74it/s, loss=6.98, v_num=9, train_loss_step=7.940, val_loss=7.320, train_loss_epoch=7.680]"
     ]
    },
    {
     "name": "stderr",
     "output_type": "stream",
     "text": [
      "Metric val_loss improved by 0.547 >= min_delta = 0. New best score: 7.322\n"
     ]
    },
    {
     "name": "stdout",
     "output_type": "stream",
     "text": [
      "Epoch 14: 100%|██████████| 234/234 [00:31<00:00,  7.36it/s, loss=6.52, v_num=9, train_loss_step=6.360, val_loss=6.920, train_loss_epoch=7.110]"
     ]
    },
    {
     "name": "stderr",
     "output_type": "stream",
     "text": [
      "Metric val_loss improved by 0.406 >= min_delta = 0. New best score: 6.915\n"
     ]
    },
    {
     "name": "stdout",
     "output_type": "stream",
     "text": [
      "Epoch 15: 100%|██████████| 234/234 [00:26<00:00,  8.75it/s, loss=6.24, v_num=9, train_loss_step=6.280, val_loss=6.570, train_loss_epoch=6.680]"
     ]
    },
    {
     "name": "stderr",
     "output_type": "stream",
     "text": [
      "Metric val_loss improved by 0.341 >= min_delta = 0. New best score: 6.575\n"
     ]
    },
    {
     "name": "stdout",
     "output_type": "stream",
     "text": [
      "Epoch 16: 100%|██████████| 234/234 [00:27<00:00,  8.61it/s, loss=5.91, v_num=9, train_loss_step=6.030, val_loss=6.290, train_loss_epoch=6.340]"
     ]
    },
    {
     "name": "stderr",
     "output_type": "stream",
     "text": [
      "Metric val_loss improved by 0.282 >= min_delta = 0. New best score: 6.293\n"
     ]
    },
    {
     "name": "stdout",
     "output_type": "stream",
     "text": [
      "Epoch 17: 100%|██████████| 234/234 [00:26<00:00,  8.71it/s, loss=5.67, v_num=9, train_loss_step=5.910, val_loss=6.060, train_loss_epoch=6.070]"
     ]
    },
    {
     "name": "stderr",
     "output_type": "stream",
     "text": [
      "Metric val_loss improved by 0.229 >= min_delta = 0. New best score: 6.064\n"
     ]
    },
    {
     "name": "stdout",
     "output_type": "stream",
     "text": [
      "Epoch 18: 100%|██████████| 234/234 [00:26<00:00,  8.69it/s, loss=5.56, v_num=9, train_loss_step=5.360, val_loss=5.860, train_loss_epoch=5.830]"
     ]
    },
    {
     "name": "stderr",
     "output_type": "stream",
     "text": [
      "Metric val_loss improved by 0.203 >= min_delta = 0. New best score: 5.861\n"
     ]
    },
    {
     "name": "stdout",
     "output_type": "stream",
     "text": [
      "Epoch 19: 100%|██████████| 234/234 [00:27<00:00,  8.61it/s, loss=5.41, v_num=9, train_loss_step=5.670, val_loss=5.690, train_loss_epoch=5.640]"
     ]
    },
    {
     "name": "stderr",
     "output_type": "stream",
     "text": [
      "Metric val_loss improved by 0.174 >= min_delta = 0. New best score: 5.687\n"
     ]
    },
    {
     "name": "stdout",
     "output_type": "stream",
     "text": [
      "Epoch 20: 100%|██████████| 234/234 [00:26<00:00,  8.81it/s, loss=5.25, v_num=9, train_loss_step=4.880, val_loss=5.540, train_loss_epoch=5.470]"
     ]
    },
    {
     "name": "stderr",
     "output_type": "stream",
     "text": [
      "Metric val_loss improved by 0.145 >= min_delta = 0. New best score: 5.542\n"
     ]
    },
    {
     "name": "stdout",
     "output_type": "stream",
     "text": [
      "Epoch 21: 100%|██████████| 234/234 [00:26<00:00,  8.76it/s, loss=5.16, v_num=9, train_loss_step=5.020, val_loss=5.410, train_loss_epoch=5.330]"
     ]
    },
    {
     "name": "stderr",
     "output_type": "stream",
     "text": [
      "Metric val_loss improved by 0.131 >= min_delta = 0. New best score: 5.410\n"
     ]
    },
    {
     "name": "stdout",
     "output_type": "stream",
     "text": [
      "Epoch 22: 100%|██████████| 234/234 [00:26<00:00,  8.81it/s, loss=5.04, v_num=9, train_loss_step=4.910, val_loss=5.300, train_loss_epoch=5.200]"
     ]
    },
    {
     "name": "stderr",
     "output_type": "stream",
     "text": [
      "Metric val_loss improved by 0.115 >= min_delta = 0. New best score: 5.296\n"
     ]
    },
    {
     "name": "stdout",
     "output_type": "stream",
     "text": [
      "Epoch 23: 100%|██████████| 234/234 [00:26<00:00,  8.81it/s, loss=4.99, v_num=9, train_loss_step=5.130, val_loss=5.200, train_loss_epoch=5.090]"
     ]
    },
    {
     "name": "stderr",
     "output_type": "stream",
     "text": [
      "Metric val_loss improved by 0.097 >= min_delta = 0. New best score: 5.199\n"
     ]
    },
    {
     "name": "stdout",
     "output_type": "stream",
     "text": [
      "Epoch 24: 100%|██████████| 234/234 [00:26<00:00,  8.75it/s, loss=4.86, v_num=9, train_loss_step=4.750, val_loss=5.110, train_loss_epoch=5.000]"
     ]
    },
    {
     "name": "stderr",
     "output_type": "stream",
     "text": [
      "Metric val_loss improved by 0.088 >= min_delta = 0. New best score: 5.111\n"
     ]
    },
    {
     "name": "stdout",
     "output_type": "stream",
     "text": [
      "Epoch 25: 100%|██████████| 234/234 [00:26<00:00,  8.90it/s, loss=4.8, v_num=9, train_loss_step=4.810, val_loss=5.030, train_loss_epoch=4.920] "
     ]
    },
    {
     "name": "stderr",
     "output_type": "stream",
     "text": [
      "Metric val_loss improved by 0.077 >= min_delta = 0. New best score: 5.033\n"
     ]
    },
    {
     "name": "stdout",
     "output_type": "stream",
     "text": [
      "Epoch 26: 100%|██████████| 234/234 [00:26<00:00,  8.86it/s, loss=4.72, v_num=9, train_loss_step=4.950, val_loss=4.970, train_loss_epoch=4.840]"
     ]
    },
    {
     "name": "stderr",
     "output_type": "stream",
     "text": [
      "Metric val_loss improved by 0.066 >= min_delta = 0. New best score: 4.967\n"
     ]
    },
    {
     "name": "stdout",
     "output_type": "stream",
     "text": [
      "Epoch 27: 100%|██████████| 234/234 [00:26<00:00,  8.70it/s, loss=4.66, v_num=9, train_loss_step=4.440, val_loss=4.910, train_loss_epoch=4.780]"
     ]
    },
    {
     "name": "stderr",
     "output_type": "stream",
     "text": [
      "Metric val_loss improved by 0.060 >= min_delta = 0. New best score: 4.907\n"
     ]
    },
    {
     "name": "stdout",
     "output_type": "stream",
     "text": [
      "Epoch 28: 100%|██████████| 234/234 [00:26<00:00,  8.76it/s, loss=4.68, v_num=9, train_loss_step=4.780, val_loss=4.850, train_loss_epoch=4.720]"
     ]
    },
    {
     "name": "stderr",
     "output_type": "stream",
     "text": [
      "Metric val_loss improved by 0.053 >= min_delta = 0. New best score: 4.854\n"
     ]
    },
    {
     "name": "stdout",
     "output_type": "stream",
     "text": [
      "Epoch 29: 100%|██████████| 234/234 [00:32<00:00,  7.23it/s, loss=4.63, v_num=9, train_loss_step=4.470, val_loss=4.810, train_loss_epoch=4.670]"
     ]
    },
    {
     "name": "stderr",
     "output_type": "stream",
     "text": [
      "Metric val_loss improved by 0.045 >= min_delta = 0. New best score: 4.808\n"
     ]
    },
    {
     "name": "stdout",
     "output_type": "stream",
     "text": [
      "Epoch 29: 100%|██████████| 234/234 [00:32<00:00,  7.23it/s, loss=4.63, v_num=9, train_loss_step=4.470, val_loss=4.810, train_loss_epoch=4.630]"
     ]
    },
    {
     "name": "stderr",
     "output_type": "stream",
     "text": [
      "`Trainer.fit` stopped: `max_epochs=30` reached.\n"
     ]
    },
    {
     "name": "stdout",
     "output_type": "stream",
     "text": [
      "Epoch 29: 100%|██████████| 234/234 [00:32<00:00,  7.22it/s, loss=4.63, v_num=9, train_loss_step=4.470, val_loss=4.810, train_loss_epoch=4.630]"
     ]
    },
    {
     "name": "stderr",
     "output_type": "stream",
     "text": [
      "\u001b[32m[I 2024-03-28 20:53:42,142]\u001b[0m Trial 9 pruned. \u001b[0m\n"
     ]
    },
    {
     "name": "stdout",
     "output_type": "stream",
     "text": [
      "\n"
     ]
    },
    {
     "name": "stderr",
     "output_type": "stream",
     "text": [
      "GPU available: True (cuda), used: True\n",
      "TPU available: False, using: 0 TPU cores\n",
      "IPU available: False, using: 0 IPUs\n",
      "HPU available: False, using: 0 HPUs\n",
      "`Trainer(limit_train_batches=1.0)` was configured so 100% of the batches per epoch will be used..\n",
      "`Trainer(limit_val_batches=1.0)` was configured so 100% of the batches will be used..\n",
      "LOCAL_RANK: 0 - CUDA_VISIBLE_DEVICES: [0]\n",
      "\n",
      "  | Name                   | Type                             | Params\n",
      "----------------------------------------------------------------------------\n",
      "0 | loss                   | NegativeBinomialDistributionLoss | 0     \n",
      "1 | logging_metrics        | ModuleList                       | 0     \n",
      "2 | embeddings             | MultiEmbedding                   | 787   \n",
      "3 | rnn                    | LSTM                             | 4.0 M \n",
      "4 | distribution_projector | Linear                           | 1.8 K \n",
      "----------------------------------------------------------------------------\n",
      "4.0 M     Trainable params\n",
      "0         Non-trainable params\n",
      "4.0 M     Total params\n",
      "15.997    Total estimated model params size (MB)\n"
     ]
    },
    {
     "name": "stdout",
     "output_type": "stream",
     "text": [
      "Epoch 0: 100%|██████████| 468/468 [00:28<00:00, 16.33it/s, loss=2.66, v_num=10, train_loss_step=2.430, val_loss=2.720]"
     ]
    },
    {
     "name": "stderr",
     "output_type": "stream",
     "text": [
      "Metric val_loss improved. New best score: 2.722\n"
     ]
    },
    {
     "name": "stdout",
     "output_type": "stream",
     "text": [
      "Epoch 1: 100%|██████████| 468/468 [00:29<00:00, 16.13it/s, loss=2.57, v_num=10, train_loss_step=2.670, val_loss=2.710, train_loss_epoch=3.460]"
     ]
    },
    {
     "name": "stderr",
     "output_type": "stream",
     "text": [
      "Metric val_loss improved by 0.007 >= min_delta = 0. New best score: 2.715\n"
     ]
    },
    {
     "name": "stdout",
     "output_type": "stream",
     "text": [
      "Epoch 6: 100%|██████████| 468/468 [00:29<00:00, 15.91it/s, loss=2.56, v_num=10, train_loss_step=2.650, val_loss=2.750, train_loss_epoch=2.540]"
     ]
    },
    {
     "name": "stderr",
     "output_type": "stream",
     "text": [
      "Monitored metric val_loss did not improve in the last 5 records. Best score: 2.715. Signaling Trainer to stop.\n"
     ]
    },
    {
     "name": "stdout",
     "output_type": "stream",
     "text": [
      "Epoch 6: 100%|██████████| 468/468 [00:29<00:00, 15.87it/s, loss=2.56, v_num=10, train_loss_step=2.650, val_loss=2.750, train_loss_epoch=2.520]"
     ]
    },
    {
     "name": "stderr",
     "output_type": "stream",
     "text": [
      "\u001b[32m[I 2024-03-28 20:57:08,997]\u001b[0m Trial 10 finished with value: 33.40884780883789 and parameters: {'neu': 910, 'lay': 1, 'bat': 160, 'lr': 0.027102743332939667, 'dropout': 0.4}. Best is trial 10 with value: 33.40884780883789.\u001b[0m\n"
     ]
    },
    {
     "name": "stdout",
     "output_type": "stream",
     "text": [
      "\n"
     ]
    },
    {
     "name": "stderr",
     "output_type": "stream",
     "text": [
      "GPU available: True (cuda), used: True\n",
      "TPU available: False, using: 0 TPU cores\n",
      "IPU available: False, using: 0 IPUs\n",
      "HPU available: False, using: 0 HPUs\n",
      "`Trainer(limit_train_batches=1.0)` was configured so 100% of the batches per epoch will be used..\n",
      "`Trainer(limit_val_batches=1.0)` was configured so 100% of the batches will be used..\n",
      "LOCAL_RANK: 0 - CUDA_VISIBLE_DEVICES: [0]\n",
      "\n",
      "  | Name                   | Type                             | Params\n",
      "----------------------------------------------------------------------------\n",
      "0 | loss                   | NegativeBinomialDistributionLoss | 0     \n",
      "1 | logging_metrics        | ModuleList                       | 0     \n",
      "2 | embeddings             | MultiEmbedding                   | 787   \n",
      "3 | rnn                    | LSTM                             | 4.0 M \n",
      "4 | distribution_projector | Linear                           | 1.8 K \n",
      "----------------------------------------------------------------------------\n",
      "4.0 M     Trainable params\n",
      "0         Non-trainable params\n",
      "4.0 M     Total params\n",
      "15.997    Total estimated model params size (MB)\n"
     ]
    },
    {
     "name": "stdout",
     "output_type": "stream",
     "text": [
      "Epoch 0: 100%|██████████| 585/585 [00:29<00:00, 19.54it/s, loss=2.63, v_num=11, train_loss_step=2.600, val_loss=2.720]"
     ]
    },
    {
     "name": "stderr",
     "output_type": "stream",
     "text": [
      "Metric val_loss improved. New best score: 2.723\n"
     ]
    },
    {
     "name": "stdout",
     "output_type": "stream",
     "text": [
      "Epoch 5: 100%|██████████| 585/585 [00:30<00:00, 19.45it/s, loss=2.66, v_num=11, train_loss_step=2.780, val_loss=2.810, train_loss_epoch=2.670]"
     ]
    },
    {
     "name": "stderr",
     "output_type": "stream",
     "text": [
      "Monitored metric val_loss did not improve in the last 5 records. Best score: 2.723. Signaling Trainer to stop.\n"
     ]
    },
    {
     "name": "stdout",
     "output_type": "stream",
     "text": [
      "Epoch 5: 100%|██████████| 585/585 [00:30<00:00, 19.40it/s, loss=2.66, v_num=11, train_loss_step=2.780, val_loss=2.810, train_loss_epoch=2.660]"
     ]
    },
    {
     "name": "stderr",
     "output_type": "stream",
     "text": [
      "\u001b[32m[I 2024-03-28 21:00:16,886]\u001b[0m Trial 11 finished with value: 32.86659240722656 and parameters: {'neu': 910, 'lay': 1, 'bat': 128, 'lr': 0.09318220861215898, 'dropout': 0.4}. Best is trial 11 with value: 32.86659240722656.\u001b[0m\n"
     ]
    },
    {
     "name": "stdout",
     "output_type": "stream",
     "text": [
      "\n"
     ]
    },
    {
     "name": "stderr",
     "output_type": "stream",
     "text": [
      "GPU available: True (cuda), used: True\n",
      "TPU available: False, using: 0 TPU cores\n",
      "IPU available: False, using: 0 IPUs\n",
      "HPU available: False, using: 0 HPUs\n",
      "`Trainer(limit_train_batches=1.0)` was configured so 100% of the batches per epoch will be used..\n",
      "`Trainer(limit_val_batches=1.0)` was configured so 100% of the batches will be used..\n",
      "LOCAL_RANK: 0 - CUDA_VISIBLE_DEVICES: [0]\n",
      "\n",
      "  | Name                   | Type                             | Params\n",
      "----------------------------------------------------------------------------\n",
      "0 | loss                   | NegativeBinomialDistributionLoss | 0     \n",
      "1 | logging_metrics        | ModuleList                       | 0     \n",
      "2 | embeddings             | MultiEmbedding                   | 787   \n",
      "3 | rnn                    | LSTM                             | 4.0 M \n",
      "4 | distribution_projector | Linear                           | 1.8 K \n",
      "----------------------------------------------------------------------------\n",
      "4.0 M     Trainable params\n",
      "0         Non-trainable params\n",
      "4.0 M     Total params\n",
      "15.997    Total estimated model params size (MB)\n"
     ]
    },
    {
     "name": "stdout",
     "output_type": "stream",
     "text": [
      "Epoch 0: 100%|██████████| 1171/1171 [00:36<00:00, 32.34it/s, loss=2.8, v_num=12, train_loss_step=2.490, val_loss=2.850]"
     ]
    },
    {
     "name": "stderr",
     "output_type": "stream",
     "text": [
      "Metric val_loss improved. New best score: 2.850\n"
     ]
    },
    {
     "name": "stdout",
     "output_type": "stream",
     "text": [
      "Epoch 1: 100%|██████████| 1171/1171 [00:42<00:00, 27.61it/s, loss=2.7, v_num=12, train_loss_step=2.490, val_loss=2.770, train_loss_epoch=3.030]"
     ]
    },
    {
     "name": "stderr",
     "output_type": "stream",
     "text": [
      "Metric val_loss improved by 0.084 >= min_delta = 0. New best score: 2.766\n"
     ]
    },
    {
     "name": "stdout",
     "output_type": "stream",
     "text": [
      "Epoch 6: 100%|██████████| 1171/1171 [00:36<00:00, 32.00it/s, loss=2.69, v_num=12, train_loss_step=2.570, val_loss=2.760, train_loss_epoch=2.670]"
     ]
    },
    {
     "name": "stderr",
     "output_type": "stream",
     "text": [
      "Metric val_loss improved by 0.004 >= min_delta = 0. New best score: 2.762\n"
     ]
    },
    {
     "name": "stdout",
     "output_type": "stream",
     "text": [
      "Epoch 11: 100%|██████████| 1171/1171 [00:35<00:00, 33.36it/s, loss=2.6, v_num=12, train_loss_step=2.580, val_loss=2.770, train_loss_epoch=2.640] "
     ]
    },
    {
     "name": "stderr",
     "output_type": "stream",
     "text": [
      "Monitored metric val_loss did not improve in the last 5 records. Best score: 2.762. Signaling Trainer to stop.\n"
     ]
    },
    {
     "name": "stdout",
     "output_type": "stream",
     "text": [
      "Epoch 11: 100%|██████████| 1171/1171 [00:35<00:00, 33.27it/s, loss=2.6, v_num=12, train_loss_step=2.580, val_loss=2.770, train_loss_epoch=2.640]\n"
     ]
    },
    {
     "name": "stderr",
     "output_type": "stream",
     "text": [
      "\u001b[32m[I 2024-03-28 21:07:52,412]\u001b[0m Trial 12 finished with value: 32.79008865356445 and parameters: {'neu': 910, 'lay': 1, 'bat': 64, 'lr': 0.059017257096117846, 'dropout': 0.6000000000000001}. Best is trial 12 with value: 32.79008865356445.\u001b[0m\n",
      "GPU available: True (cuda), used: True\n",
      "TPU available: False, using: 0 TPU cores\n",
      "IPU available: False, using: 0 IPUs\n",
      "HPU available: False, using: 0 HPUs\n",
      "`Trainer(limit_train_batches=1.0)` was configured so 100% of the batches per epoch will be used..\n",
      "`Trainer(limit_val_batches=1.0)` was configured so 100% of the batches will be used..\n",
      "LOCAL_RANK: 0 - CUDA_VISIBLE_DEVICES: [0]\n",
      "\n",
      "  | Name                   | Type                             | Params\n",
      "----------------------------------------------------------------------------\n",
      "0 | loss                   | NegativeBinomialDistributionLoss | 0     \n",
      "1 | logging_metrics        | ModuleList                       | 0     \n",
      "2 | embeddings             | MultiEmbedding                   | 787   \n",
      "3 | rnn                    | LSTM                             | 17.3 M\n",
      "4 | distribution_projector | Linear                           | 1.8 K \n",
      "----------------------------------------------------------------------------\n",
      "17.3 M    Trainable params\n",
      "0         Non-trainable params\n",
      "17.3 M    Total params\n",
      "69.054    Total estimated model params size (MB)\n"
     ]
    },
    {
     "name": "stdout",
     "output_type": "stream",
     "text": [
      "Epoch 0: 100%|██████████| 2341/2341 [00:50<00:00, 46.14it/s, loss=4.39, v_num=13, train_loss_step=3.320, val_loss=3.260]"
     ]
    },
    {
     "name": "stderr",
     "output_type": "stream",
     "text": [
      "Metric val_loss improved. New best score: 3.259\n"
     ]
    },
    {
     "name": "stdout",
     "output_type": "stream",
     "text": [
      "Epoch 5: 100%|██████████| 2341/2341 [00:52<00:00, 44.32it/s, loss=5.1, v_num=13, train_loss_step=6.020, val_loss=4.390, train_loss_epoch=3.550] "
     ]
    },
    {
     "name": "stderr",
     "output_type": "stream",
     "text": [
      "Monitored metric val_loss did not improve in the last 5 records. Best score: 3.259. Signaling Trainer to stop.\n"
     ]
    },
    {
     "name": "stdout",
     "output_type": "stream",
     "text": [
      "Epoch 5: 100%|██████████| 2341/2341 [00:53<00:00, 44.07it/s, loss=5.1, v_num=13, train_loss_step=6.020, val_loss=4.390, train_loss_epoch=3.630]"
     ]
    },
    {
     "name": "stderr",
     "output_type": "stream",
     "text": [
      "\u001b[32m[I 2024-03-28 21:13:21,317]\u001b[0m Trial 13 pruned. \u001b[0m\n"
     ]
    },
    {
     "name": "stdout",
     "output_type": "stream",
     "text": [
      "\n"
     ]
    },
    {
     "name": "stderr",
     "output_type": "stream",
     "text": [
      "GPU available: True (cuda), used: True\n",
      "TPU available: False, using: 0 TPU cores\n",
      "IPU available: False, using: 0 IPUs\n",
      "HPU available: False, using: 0 HPUs\n",
      "`Trainer(limit_train_batches=1.0)` was configured so 100% of the batches per epoch will be used..\n",
      "`Trainer(limit_val_batches=1.0)` was configured so 100% of the batches will be used..\n",
      "LOCAL_RANK: 0 - CUDA_VISIBLE_DEVICES: [0]\n",
      "\n",
      "  | Name                   | Type                             | Params\n",
      "----------------------------------------------------------------------------\n",
      "0 | loss                   | NegativeBinomialDistributionLoss | 0     \n",
      "1 | logging_metrics        | ModuleList                       | 0     \n",
      "2 | embeddings             | MultiEmbedding                   | 787   \n",
      "3 | rnn                    | LSTM                             | 10.6 M\n",
      "4 | distribution_projector | Linear                           | 1.4 K \n",
      "----------------------------------------------------------------------------\n",
      "10.6 M    Trainable params\n",
      "0         Non-trainable params\n",
      "10.6 M    Total params\n",
      "42.518    Total estimated model params size (MB)\n"
     ]
    },
    {
     "name": "stdout",
     "output_type": "stream",
     "text": [
      "Epoch 0: 100%|██████████| 390/390 [00:29<00:00, 13.35it/s, loss=2.79, v_num=14, train_loss_step=2.780, val_loss=2.820]"
     ]
    },
    {
     "name": "stderr",
     "output_type": "stream",
     "text": [
      "Metric val_loss improved. New best score: 2.818\n"
     ]
    },
    {
     "name": "stdout",
     "output_type": "stream",
     "text": [
      "Epoch 1: 100%|██████████| 390/390 [00:28<00:00, 13.51it/s, loss=2.73, v_num=14, train_loss_step=2.640, val_loss=2.760, train_loss_epoch=3.980]"
     ]
    },
    {
     "name": "stderr",
     "output_type": "stream",
     "text": [
      "Metric val_loss improved by 0.062 >= min_delta = 0. New best score: 2.756\n"
     ]
    },
    {
     "name": "stdout",
     "output_type": "stream",
     "text": [
      "Epoch 6: 100%|██████████| 390/390 [00:28<00:00, 13.66it/s, loss=2.88, v_num=14, train_loss_step=2.840, val_loss=2.850, train_loss_epoch=2.760]"
     ]
    },
    {
     "name": "stderr",
     "output_type": "stream",
     "text": [
      "Monitored metric val_loss did not improve in the last 5 records. Best score: 2.756. Signaling Trainer to stop.\n"
     ]
    },
    {
     "name": "stdout",
     "output_type": "stream",
     "text": [
      "Epoch 6: 100%|██████████| 390/390 [00:28<00:00, 13.57it/s, loss=2.88, v_num=14, train_loss_step=2.840, val_loss=2.850, train_loss_epoch=2.790]\n"
     ]
    },
    {
     "name": "stderr",
     "output_type": "stream",
     "text": [
      "\u001b[32m[I 2024-03-28 21:16:48,631]\u001b[0m Trial 14 finished with value: 33.90142822265625 and parameters: {'neu': 710, 'lay': 3, 'bat': 192, 'lr': 0.07009459763263086, 'dropout': 0.6000000000000001}. Best is trial 12 with value: 32.79008865356445.\u001b[0m\n",
      "GPU available: True (cuda), used: True\n",
      "TPU available: False, using: 0 TPU cores\n",
      "IPU available: False, using: 0 IPUs\n",
      "HPU available: False, using: 0 HPUs\n",
      "`Trainer(limit_train_batches=1.0)` was configured so 100% of the batches per epoch will be used..\n",
      "`Trainer(limit_val_batches=1.0)` was configured so 100% of the batches will be used..\n",
      "LOCAL_RANK: 0 - CUDA_VISIBLE_DEVICES: [0]\n",
      "\n",
      "  | Name                   | Type                             | Params\n",
      "----------------------------------------------------------------------------\n",
      "0 | loss                   | NegativeBinomialDistributionLoss | 0     \n",
      "1 | logging_metrics        | ModuleList                       | 0     \n",
      "2 | embeddings             | MultiEmbedding                   | 787   \n",
      "3 | rnn                    | LSTM                             | 3.2 M \n",
      "4 | distribution_projector | Linear                           | 1.6 K \n",
      "----------------------------------------------------------------------------\n",
      "3.2 M     Trainable params\n",
      "0         Non-trainable params\n",
      "3.2 M     Total params\n",
      "12.944    Total estimated model params size (MB)\n"
     ]
    },
    {
     "name": "stdout",
     "output_type": "stream",
     "text": [
      "Epoch 0: 100%|██████████| 334/334 [00:27<00:00, 12.00it/s, loss=2.66, v_num=15, train_loss_step=2.770, val_loss=2.740]"
     ]
    },
    {
     "name": "stderr",
     "output_type": "stream",
     "text": [
      "Metric val_loss improved. New best score: 2.744\n"
     ]
    },
    {
     "name": "stdout",
     "output_type": "stream",
     "text": [
      "Epoch 1: 100%|██████████| 334/334 [00:28<00:00, 11.90it/s, loss=2.58, v_num=15, train_loss_step=2.550, val_loss=2.740, train_loss_epoch=3.960]"
     ]
    },
    {
     "name": "stderr",
     "output_type": "stream",
     "text": [
      "Metric val_loss improved by 0.005 >= min_delta = 0. New best score: 2.739\n"
     ]
    },
    {
     "name": "stdout",
     "output_type": "stream",
     "text": [
      "Epoch 2: 100%|██████████| 334/334 [00:28<00:00, 11.89it/s, loss=2.54, v_num=15, train_loss_step=2.660, val_loss=2.690, train_loss_epoch=2.600]"
     ]
    },
    {
     "name": "stderr",
     "output_type": "stream",
     "text": [
      "Metric val_loss improved by 0.053 >= min_delta = 0. New best score: 2.686\n"
     ]
    },
    {
     "name": "stdout",
     "output_type": "stream",
     "text": [
      "Epoch 4: 100%|██████████| 334/334 [00:27<00:00, 12.27it/s, loss=2.57, v_num=15, train_loss_step=2.630, val_loss=2.680, train_loss_epoch=2.540]"
     ]
    },
    {
     "name": "stderr",
     "output_type": "stream",
     "text": [
      "Metric val_loss improved by 0.007 >= min_delta = 0. New best score: 2.679\n"
     ]
    },
    {
     "name": "stdout",
     "output_type": "stream",
     "text": [
      "Epoch 5: 100%|██████████| 334/334 [00:27<00:00, 11.97it/s, loss=2.51, v_num=15, train_loss_step=2.510, val_loss=2.670, train_loss_epoch=2.520]"
     ]
    },
    {
     "name": "stderr",
     "output_type": "stream",
     "text": [
      "Metric val_loss improved by 0.012 >= min_delta = 0. New best score: 2.668\n"
     ]
    },
    {
     "name": "stdout",
     "output_type": "stream",
     "text": [
      "Epoch 10: 100%|██████████| 334/334 [00:28<00:00, 11.90it/s, loss=2.52, v_num=15, train_loss_step=2.540, val_loss=2.760, train_loss_epoch=2.460]"
     ]
    },
    {
     "name": "stderr",
     "output_type": "stream",
     "text": [
      "Monitored metric val_loss did not improve in the last 5 records. Best score: 2.668. Signaling Trainer to stop.\n"
     ]
    },
    {
     "name": "stdout",
     "output_type": "stream",
     "text": [
      "Epoch 10: 100%|██████████| 334/334 [00:28<00:00, 11.87it/s, loss=2.52, v_num=15, train_loss_step=2.540, val_loss=2.760, train_loss_epoch=2.450]"
     ]
    },
    {
     "name": "stderr",
     "output_type": "stream",
     "text": [
      "\u001b[32m[I 2024-03-28 21:22:14,700]\u001b[0m Trial 15 finished with value: 32.296142578125 and parameters: {'neu': 810, 'lay': 1, 'bat': 224, 'lr': 0.027539637893782255, 'dropout': 0.6000000000000001}. Best is trial 15 with value: 32.296142578125.\u001b[0m\n"
     ]
    },
    {
     "name": "stdout",
     "output_type": "stream",
     "text": [
      "\n"
     ]
    },
    {
     "name": "stderr",
     "output_type": "stream",
     "text": [
      "GPU available: True (cuda), used: True\n",
      "TPU available: False, using: 0 TPU cores\n",
      "IPU available: False, using: 0 IPUs\n",
      "HPU available: False, using: 0 HPUs\n",
      "`Trainer(limit_train_batches=1.0)` was configured so 100% of the batches per epoch will be used..\n",
      "`Trainer(limit_val_batches=1.0)` was configured so 100% of the batches will be used..\n",
      "LOCAL_RANK: 0 - CUDA_VISIBLE_DEVICES: [0]\n",
      "\n",
      "  | Name                   | Type                             | Params\n",
      "----------------------------------------------------------------------------\n",
      "0 | loss                   | NegativeBinomialDistributionLoss | 0     \n",
      "1 | logging_metrics        | ModuleList                       | 0     \n",
      "2 | embeddings             | MultiEmbedding                   | 787   \n",
      "3 | rnn                    | LSTM                             | 10.6 M\n",
      "4 | distribution_projector | Linear                           | 1.4 K \n",
      "----------------------------------------------------------------------------\n",
      "10.6 M    Trainable params\n",
      "0         Non-trainable params\n",
      "10.6 M    Total params\n",
      "42.518    Total estimated model params size (MB)\n"
     ]
    },
    {
     "name": "stdout",
     "output_type": "stream",
     "text": [
      "Epoch 0: 100%|██████████| 293/293 [00:27<00:00, 10.50it/s, loss=3.03, v_num=16, train_loss_step=2.970, val_loss=3.050]"
     ]
    },
    {
     "name": "stderr",
     "output_type": "stream",
     "text": [
      "Metric val_loss improved. New best score: 3.049\n"
     ]
    },
    {
     "name": "stdout",
     "output_type": "stream",
     "text": [
      "Epoch 1: 100%|██████████| 293/293 [00:27<00:00, 10.50it/s, loss=2.72, v_num=16, train_loss_step=2.870, val_loss=2.830, train_loss_epoch=6.480]"
     ]
    },
    {
     "name": "stderr",
     "output_type": "stream",
     "text": [
      "Metric val_loss improved by 0.214 >= min_delta = 0. New best score: 2.835\n"
     ]
    },
    {
     "name": "stdout",
     "output_type": "stream",
     "text": [
      "Epoch 2: 100%|██████████| 293/293 [00:27<00:00, 10.53it/s, loss=2.67, v_num=16, train_loss_step=2.720, val_loss=2.750, train_loss_epoch=2.800]"
     ]
    },
    {
     "name": "stderr",
     "output_type": "stream",
     "text": [
      "Metric val_loss improved by 0.085 >= min_delta = 0. New best score: 2.750\n"
     ]
    },
    {
     "name": "stdout",
     "output_type": "stream",
     "text": [
      "Epoch 3: 100%|██████████| 293/293 [00:27<00:00, 10.54it/s, loss=2.6, v_num=16, train_loss_step=2.600, val_loss=2.700, train_loss_epoch=2.690] "
     ]
    },
    {
     "name": "stderr",
     "output_type": "stream",
     "text": [
      "Metric val_loss improved by 0.048 >= min_delta = 0. New best score: 2.702\n"
     ]
    },
    {
     "name": "stdout",
     "output_type": "stream",
     "text": [
      "Epoch 4: 100%|██████████| 293/293 [00:27<00:00, 10.58it/s, loss=2.56, v_num=16, train_loss_step=2.650, val_loss=2.690, train_loss_epoch=2.620]"
     ]
    },
    {
     "name": "stderr",
     "output_type": "stream",
     "text": [
      "Metric val_loss improved by 0.011 >= min_delta = 0. New best score: 2.691\n"
     ]
    },
    {
     "name": "stdout",
     "output_type": "stream",
     "text": [
      "Epoch 5: 100%|██████████| 293/293 [00:27<00:00, 10.51it/s, loss=2.54, v_num=16, train_loss_step=2.410, val_loss=2.680, train_loss_epoch=2.600]"
     ]
    },
    {
     "name": "stderr",
     "output_type": "stream",
     "text": [
      "Metric val_loss improved by 0.016 >= min_delta = 0. New best score: 2.676\n"
     ]
    },
    {
     "name": "stdout",
     "output_type": "stream",
     "text": [
      "Epoch 7: 100%|██████████| 293/293 [00:28<00:00, 10.46it/s, loss=2.58, v_num=16, train_loss_step=2.660, val_loss=2.650, train_loss_epoch=2.540]"
     ]
    },
    {
     "name": "stderr",
     "output_type": "stream",
     "text": [
      "Metric val_loss improved by 0.023 >= min_delta = 0. New best score: 2.652\n"
     ]
    },
    {
     "name": "stdout",
     "output_type": "stream",
     "text": [
      "Epoch 12: 100%|██████████| 293/293 [00:27<00:00, 10.57it/s, loss=2.46, v_num=16, train_loss_step=2.530, val_loss=2.700, train_loss_epoch=2.470]"
     ]
    },
    {
     "name": "stderr",
     "output_type": "stream",
     "text": [
      "Monitored metric val_loss did not improve in the last 5 records. Best score: 2.652. Signaling Trainer to stop.\n"
     ]
    },
    {
     "name": "stdout",
     "output_type": "stream",
     "text": [
      "Epoch 12: 100%|██████████| 293/293 [00:27<00:00, 10.49it/s, loss=2.46, v_num=16, train_loss_step=2.530, val_loss=2.700, train_loss_epoch=2.460]\n"
     ]
    },
    {
     "name": "stderr",
     "output_type": "stream",
     "text": [
      "\u001b[32m[I 2024-03-28 21:28:24,536]\u001b[0m Trial 16 finished with value: 32.272254943847656 and parameters: {'neu': 710, 'lay': 3, 'bat': 256, 'lr': 0.004355518761987499, 'dropout': 0.6000000000000001}. Best is trial 16 with value: 32.272254943847656.\u001b[0m\n",
      "GPU available: True (cuda), used: True\n",
      "TPU available: False, using: 0 TPU cores\n",
      "IPU available: False, using: 0 IPUs\n",
      "HPU available: False, using: 0 HPUs\n",
      "`Trainer(limit_train_batches=1.0)` was configured so 100% of the batches per epoch will be used..\n",
      "`Trainer(limit_val_batches=1.0)` was configured so 100% of the batches will be used..\n",
      "LOCAL_RANK: 0 - CUDA_VISIBLE_DEVICES: [0]\n",
      "\n",
      "  | Name                   | Type                             | Params\n",
      "----------------------------------------------------------------------------\n",
      "0 | loss                   | NegativeBinomialDistributionLoss | 0     \n",
      "1 | logging_metrics        | ModuleList                       | 0     \n",
      "2 | embeddings             | MultiEmbedding                   | 787   \n",
      "3 | rnn                    | LSTM                             | 10.6 M\n",
      "4 | distribution_projector | Linear                           | 1.4 K \n",
      "----------------------------------------------------------------------------\n",
      "10.6 M    Trainable params\n",
      "0         Non-trainable params\n",
      "10.6 M    Total params\n",
      "42.518    Total estimated model params size (MB)\n"
     ]
    },
    {
     "name": "stdout",
     "output_type": "stream",
     "text": [
      "Epoch 0: 100%|██████████| 293/293 [00:27<00:00, 10.56it/s, loss=3.02, v_num=17, train_loss_step=2.960, val_loss=3.130]"
     ]
    },
    {
     "name": "stderr",
     "output_type": "stream",
     "text": [
      "Metric val_loss improved. New best score: 3.129\n"
     ]
    },
    {
     "name": "stdout",
     "output_type": "stream",
     "text": [
      "Epoch 1: 100%|██████████| 293/293 [00:27<00:00, 10.52it/s, loss=2.81, v_num=17, train_loss_step=2.840, val_loss=2.860, train_loss_epoch=6.960]"
     ]
    },
    {
     "name": "stderr",
     "output_type": "stream",
     "text": [
      "Metric val_loss improved by 0.272 >= min_delta = 0. New best score: 2.858\n"
     ]
    },
    {
     "name": "stdout",
     "output_type": "stream",
     "text": [
      "Epoch 2: 100%|██████████| 293/293 [00:27<00:00, 10.55it/s, loss=2.68, v_num=17, train_loss_step=2.640, val_loss=2.790, train_loss_epoch=2.860]"
     ]
    },
    {
     "name": "stderr",
     "output_type": "stream",
     "text": [
      "Metric val_loss improved by 0.069 >= min_delta = 0. New best score: 2.788\n"
     ]
    },
    {
     "name": "stdout",
     "output_type": "stream",
     "text": [
      "Epoch 3: 100%|██████████| 293/293 [00:36<00:00,  8.02it/s, loss=2.63, v_num=17, train_loss_step=2.470, val_loss=2.740, train_loss_epoch=2.730]"
     ]
    },
    {
     "name": "stderr",
     "output_type": "stream",
     "text": [
      "Metric val_loss improved by 0.046 >= min_delta = 0. New best score: 2.743\n"
     ]
    },
    {
     "name": "stdout",
     "output_type": "stream",
     "text": [
      "Epoch 4: 100%|██████████| 293/293 [00:28<00:00, 10.36it/s, loss=2.62, v_num=17, train_loss_step=2.670, val_loss=2.720, train_loss_epoch=2.670]"
     ]
    },
    {
     "name": "stderr",
     "output_type": "stream",
     "text": [
      "Metric val_loss improved by 0.026 >= min_delta = 0. New best score: 2.716\n"
     ]
    },
    {
     "name": "stdout",
     "output_type": "stream",
     "text": [
      "Epoch 6: 100%|██████████| 293/293 [00:28<00:00, 10.36it/s, loss=2.53, v_num=17, train_loss_step=2.650, val_loss=2.680, train_loss_epoch=2.610]"
     ]
    },
    {
     "name": "stderr",
     "output_type": "stream",
     "text": [
      "Metric val_loss improved by 0.038 >= min_delta = 0. New best score: 2.678\n"
     ]
    },
    {
     "name": "stdout",
     "output_type": "stream",
     "text": [
      "Epoch 9: 100%|██████████| 293/293 [00:27<00:00, 10.54it/s, loss=2.56, v_num=17, train_loss_step=2.430, val_loss=2.660, train_loss_epoch=2.560]"
     ]
    },
    {
     "name": "stderr",
     "output_type": "stream",
     "text": [
      "Metric val_loss improved by 0.015 >= min_delta = 0. New best score: 2.664\n"
     ]
    },
    {
     "name": "stdout",
     "output_type": "stream",
     "text": [
      "Epoch 14: 100%|██████████| 293/293 [00:28<00:00, 10.37it/s, loss=2.49, v_num=17, train_loss_step=2.490, val_loss=2.710, train_loss_epoch=2.480]"
     ]
    },
    {
     "name": "stderr",
     "output_type": "stream",
     "text": [
      "Monitored metric val_loss did not improve in the last 5 records. Best score: 2.664. Signaling Trainer to stop.\n"
     ]
    },
    {
     "name": "stdout",
     "output_type": "stream",
     "text": [
      "Epoch 14: 100%|██████████| 293/293 [00:28<00:00, 10.30it/s, loss=2.49, v_num=17, train_loss_step=2.490, val_loss=2.710, train_loss_epoch=2.470]\n"
     ]
    },
    {
     "name": "stderr",
     "output_type": "stream",
     "text": [
      "\u001b[32m[I 2024-03-28 21:35:41,004]\u001b[0m Trial 17 finished with value: 32.554534912109375 and parameters: {'neu': 710, 'lay': 3, 'bat': 256, 'lr': 0.004143231002366502, 'dropout': 0.8}. Best is trial 16 with value: 32.272254943847656.\u001b[0m\n",
      "GPU available: True (cuda), used: True\n",
      "TPU available: False, using: 0 TPU cores\n",
      "IPU available: False, using: 0 IPUs\n",
      "HPU available: False, using: 0 HPUs\n",
      "`Trainer(limit_train_batches=1.0)` was configured so 100% of the batches per epoch will be used..\n",
      "`Trainer(limit_val_batches=1.0)` was configured so 100% of the batches will be used..\n",
      "LOCAL_RANK: 0 - CUDA_VISIBLE_DEVICES: [0]\n",
      "\n",
      "  | Name                   | Type                             | Params\n",
      "----------------------------------------------------------------------------\n",
      "0 | loss                   | NegativeBinomialDistributionLoss | 0     \n",
      "1 | logging_metrics        | ModuleList                       | 0     \n",
      "2 | embeddings             | MultiEmbedding                   | 787   \n",
      "3 | rnn                    | LSTM                             | 10.6 M\n",
      "4 | distribution_projector | Linear                           | 1.4 K \n",
      "----------------------------------------------------------------------------\n",
      "10.6 M    Trainable params\n",
      "0         Non-trainable params\n",
      "10.6 M    Total params\n",
      "42.518    Total estimated model params size (MB)\n"
     ]
    },
    {
     "name": "stdout",
     "output_type": "stream",
     "text": [
      "Epoch 0: 100%|██████████| 130/130 [00:25<00:00,  5.04it/s, loss=3.83, v_num=18, train_loss_step=3.720, val_loss=3.900]"
     ]
    },
    {
     "name": "stderr",
     "output_type": "stream",
     "text": [
      "Metric val_loss improved. New best score: 3.902\n"
     ]
    },
    {
     "name": "stdout",
     "output_type": "stream",
     "text": [
      "Epoch 1: 100%|██████████| 130/130 [00:26<00:00,  4.99it/s, loss=2.99, v_num=18, train_loss_step=2.950, val_loss=3.070, train_loss_epoch=10.40]"
     ]
    },
    {
     "name": "stderr",
     "output_type": "stream",
     "text": [
      "Metric val_loss improved by 0.828 >= min_delta = 0. New best score: 3.074\n"
     ]
    },
    {
     "name": "stdout",
     "output_type": "stream",
     "text": [
      "Epoch 2: 100%|██████████| 130/130 [00:25<00:00,  5.02it/s, loss=2.78, v_num=18, train_loss_step=2.770, val_loss=2.880, train_loss_epoch=3.280]"
     ]
    },
    {
     "name": "stderr",
     "output_type": "stream",
     "text": [
      "Metric val_loss improved by 0.198 >= min_delta = 0. New best score: 2.876\n"
     ]
    },
    {
     "name": "stdout",
     "output_type": "stream",
     "text": [
      "Epoch 3: 100%|██████████| 130/130 [00:34<00:00,  3.73it/s, loss=2.71, v_num=18, train_loss_step=2.650, val_loss=2.840, train_loss_epoch=2.840]"
     ]
    },
    {
     "name": "stderr",
     "output_type": "stream",
     "text": [
      "Metric val_loss improved by 0.037 >= min_delta = 0. New best score: 2.839\n"
     ]
    },
    {
     "name": "stdout",
     "output_type": "stream",
     "text": [
      "Epoch 4: 100%|██████████| 130/130 [00:25<00:00,  5.01it/s, loss=2.66, v_num=18, train_loss_step=2.580, val_loss=2.800, train_loss_epoch=2.730]"
     ]
    },
    {
     "name": "stderr",
     "output_type": "stream",
     "text": [
      "Metric val_loss improved by 0.041 >= min_delta = 0. New best score: 2.798\n"
     ]
    },
    {
     "name": "stdout",
     "output_type": "stream",
     "text": [
      "Epoch 5: 100%|██████████| 130/130 [00:25<00:00,  5.02it/s, loss=2.63, v_num=18, train_loss_step=2.570, val_loss=2.750, train_loss_epoch=2.680]"
     ]
    },
    {
     "name": "stderr",
     "output_type": "stream",
     "text": [
      "Metric val_loss improved by 0.044 >= min_delta = 0. New best score: 2.754\n"
     ]
    },
    {
     "name": "stdout",
     "output_type": "stream",
     "text": [
      "Epoch 8: 100%|██████████| 130/130 [00:25<00:00,  5.03it/s, loss=2.56, v_num=18, train_loss_step=2.620, val_loss=2.700, train_loss_epoch=2.590]"
     ]
    },
    {
     "name": "stderr",
     "output_type": "stream",
     "text": [
      "Metric val_loss improved by 0.057 >= min_delta = 0. New best score: 2.697\n"
     ]
    },
    {
     "name": "stdout",
     "output_type": "stream",
     "text": [
      "Epoch 13: 100%|██████████| 130/130 [00:34<00:00,  3.77it/s, loss=2.49, v_num=18, train_loss_step=2.400, val_loss=2.750, train_loss_epoch=2.510]"
     ]
    },
    {
     "name": "stderr",
     "output_type": "stream",
     "text": [
      "Monitored metric val_loss did not improve in the last 5 records. Best score: 2.697. Signaling Trainer to stop.\n"
     ]
    },
    {
     "name": "stdout",
     "output_type": "stream",
     "text": [
      "Epoch 13: 100%|██████████| 130/130 [00:34<00:00,  3.75it/s, loss=2.49, v_num=18, train_loss_step=2.400, val_loss=2.750, train_loss_epoch=2.490]\n"
     ]
    },
    {
     "name": "stderr",
     "output_type": "stream",
     "text": [
      "\u001b[32m[I 2024-03-28 21:42:08,875]\u001b[0m Trial 18 finished with value: 31.875782012939453 and parameters: {'neu': 710, 'lay': 3, 'bat': 576, 'lr': 0.0048235795468910695, 'dropout': 0.6000000000000001}. Best is trial 18 with value: 31.875782012939453.\u001b[0m\n",
      "GPU available: True (cuda), used: True\n",
      "TPU available: False, using: 0 TPU cores\n",
      "IPU available: False, using: 0 IPUs\n",
      "HPU available: False, using: 0 HPUs\n",
      "`Trainer(limit_train_batches=1.0)` was configured so 100% of the batches per epoch will be used..\n",
      "`Trainer(limit_val_batches=1.0)` was configured so 100% of the batches will be used..\n",
      "LOCAL_RANK: 0 - CUDA_VISIBLE_DEVICES: [0]\n",
      "\n",
      "  | Name                   | Type                             | Params\n",
      "----------------------------------------------------------------------------\n",
      "0 | loss                   | NegativeBinomialDistributionLoss | 0     \n",
      "1 | logging_metrics        | ModuleList                       | 0     \n",
      "2 | embeddings             | MultiEmbedding                   | 787   \n",
      "3 | rnn                    | LSTM                             | 10.6 M\n",
      "4 | distribution_projector | Linear                           | 1.4 K \n",
      "----------------------------------------------------------------------------\n",
      "10.6 M    Trainable params\n",
      "0         Non-trainable params\n",
      "10.6 M    Total params\n",
      "42.518    Total estimated model params size (MB)\n"
     ]
    },
    {
     "name": "stdout",
     "output_type": "stream",
     "text": [
      "Epoch 0: 100%|██████████| 123/123 [00:25<00:00,  4.73it/s, loss=4.24, v_num=19, train_loss_step=4.250, val_loss=4.260]"
     ]
    },
    {
     "name": "stderr",
     "output_type": "stream",
     "text": [
      "Metric val_loss improved. New best score: 4.261\n"
     ]
    },
    {
     "name": "stdout",
     "output_type": "stream",
     "text": [
      "Epoch 1: 100%|██████████| 123/123 [00:26<00:00,  4.72it/s, loss=3.54, v_num=19, train_loss_step=3.440, val_loss=3.530, train_loss_epoch=14.50]"
     ]
    },
    {
     "name": "stderr",
     "output_type": "stream",
     "text": [
      "Metric val_loss improved by 0.727 >= min_delta = 0. New best score: 3.534\n"
     ]
    },
    {
     "name": "stdout",
     "output_type": "stream",
     "text": [
      "Epoch 2: 100%|██████████| 123/123 [00:26<00:00,  4.72it/s, loss=3, v_num=19, train_loss_step=3.000, val_loss=3.140, train_loss_epoch=3.780]   "
     ]
    },
    {
     "name": "stderr",
     "output_type": "stream",
     "text": [
      "Metric val_loss improved by 0.391 >= min_delta = 0. New best score: 3.143\n"
     ]
    },
    {
     "name": "stdout",
     "output_type": "stream",
     "text": [
      "Epoch 3: 100%|██████████| 123/123 [00:25<00:00,  4.74it/s, loss=2.88, v_num=19, train_loss_step=2.850, val_loss=3.040, train_loss_epoch=3.150]"
     ]
    },
    {
     "name": "stderr",
     "output_type": "stream",
     "text": [
      "Metric val_loss improved by 0.101 >= min_delta = 0. New best score: 3.042\n"
     ]
    },
    {
     "name": "stdout",
     "output_type": "stream",
     "text": [
      "Epoch 4: 100%|██████████| 123/123 [00:25<00:00,  4.74it/s, loss=2.85, v_num=19, train_loss_step=2.700, val_loss=2.970, train_loss_epoch=2.930]"
     ]
    },
    {
     "name": "stderr",
     "output_type": "stream",
     "text": [
      "Metric val_loss improved by 0.077 >= min_delta = 0. New best score: 2.966\n"
     ]
    },
    {
     "name": "stdout",
     "output_type": "stream",
     "text": [
      "Epoch 5: 100%|██████████| 123/123 [00:25<00:00,  4.75it/s, loss=2.75, v_num=19, train_loss_step=2.740, val_loss=2.900, train_loss_epoch=2.840]"
     ]
    },
    {
     "name": "stderr",
     "output_type": "stream",
     "text": [
      "Metric val_loss improved by 0.068 >= min_delta = 0. New best score: 2.897\n"
     ]
    },
    {
     "name": "stdout",
     "output_type": "stream",
     "text": [
      "Epoch 6: 100%|██████████| 123/123 [00:25<00:00,  4.74it/s, loss=2.74, v_num=19, train_loss_step=2.720, val_loss=2.870, train_loss_epoch=2.780]"
     ]
    },
    {
     "name": "stderr",
     "output_type": "stream",
     "text": [
      "Metric val_loss improved by 0.026 >= min_delta = 0. New best score: 2.871\n"
     ]
    },
    {
     "name": "stdout",
     "output_type": "stream",
     "text": [
      "Epoch 8: 100%|██████████| 123/123 [00:25<00:00,  4.74it/s, loss=2.69, v_num=19, train_loss_step=2.830, val_loss=2.850, train_loss_epoch=2.710]"
     ]
    },
    {
     "name": "stderr",
     "output_type": "stream",
     "text": [
      "Metric val_loss improved by 0.021 >= min_delta = 0. New best score: 2.850\n"
     ]
    },
    {
     "name": "stdout",
     "output_type": "stream",
     "text": [
      "Epoch 9: 100%|██████████| 123/123 [00:35<00:00,  3.51it/s, loss=2.65, v_num=19, train_loss_step=2.610, val_loss=2.800, train_loss_epoch=2.680]"
     ]
    },
    {
     "name": "stderr",
     "output_type": "stream",
     "text": [
      "Metric val_loss improved by 0.051 >= min_delta = 0. New best score: 2.799\n"
     ]
    },
    {
     "name": "stdout",
     "output_type": "stream",
     "text": [
      "Epoch 10: 100%|██████████| 123/123 [00:26<00:00,  4.70it/s, loss=2.63, v_num=19, train_loss_step=2.600, val_loss=2.790, train_loss_epoch=2.660]"
     ]
    },
    {
     "name": "stderr",
     "output_type": "stream",
     "text": [
      "Metric val_loss improved by 0.011 >= min_delta = 0. New best score: 2.789\n"
     ]
    },
    {
     "name": "stdout",
     "output_type": "stream",
     "text": [
      "Epoch 11: 100%|██████████| 123/123 [00:25<00:00,  4.74it/s, loss=2.62, v_num=19, train_loss_step=2.520, val_loss=2.770, train_loss_epoch=2.640]"
     ]
    },
    {
     "name": "stderr",
     "output_type": "stream",
     "text": [
      "Metric val_loss improved by 0.016 >= min_delta = 0. New best score: 2.772\n"
     ]
    },
    {
     "name": "stdout",
     "output_type": "stream",
     "text": [
      "Epoch 13: 100%|██████████| 123/123 [00:25<00:00,  4.76it/s, loss=2.58, v_num=19, train_loss_step=2.590, val_loss=2.760, train_loss_epoch=2.610]"
     ]
    },
    {
     "name": "stderr",
     "output_type": "stream",
     "text": [
      "Metric val_loss improved by 0.013 >= min_delta = 0. New best score: 2.759\n"
     ]
    },
    {
     "name": "stdout",
     "output_type": "stream",
     "text": [
      "Epoch 14: 100%|██████████| 123/123 [00:25<00:00,  4.74it/s, loss=2.57, v_num=19, train_loss_step=2.480, val_loss=2.760, train_loss_epoch=2.590]"
     ]
    },
    {
     "name": "stderr",
     "output_type": "stream",
     "text": [
      "Metric val_loss improved by 0.004 >= min_delta = 0. New best score: 2.755\n"
     ]
    },
    {
     "name": "stdout",
     "output_type": "stream",
     "text": [
      "Epoch 15: 100%|██████████| 123/123 [00:25<00:00,  4.73it/s, loss=2.56, v_num=19, train_loss_step=2.600, val_loss=2.740, train_loss_epoch=2.580]"
     ]
    },
    {
     "name": "stderr",
     "output_type": "stream",
     "text": [
      "Metric val_loss improved by 0.013 >= min_delta = 0. New best score: 2.742\n"
     ]
    },
    {
     "name": "stdout",
     "output_type": "stream",
     "text": [
      "Epoch 17: 100%|██████████| 123/123 [00:26<00:00,  4.73it/s, loss=2.53, v_num=19, train_loss_step=2.580, val_loss=2.710, train_loss_epoch=2.560]"
     ]
    },
    {
     "name": "stderr",
     "output_type": "stream",
     "text": [
      "Metric val_loss improved by 0.034 >= min_delta = 0. New best score: 2.708\n"
     ]
    },
    {
     "name": "stdout",
     "output_type": "stream",
     "text": [
      "Epoch 22: 100%|██████████| 123/123 [00:25<00:00,  4.75it/s, loss=2.5, v_num=19, train_loss_step=2.370, val_loss=2.790, train_loss_epoch=2.510] "
     ]
    },
    {
     "name": "stderr",
     "output_type": "stream",
     "text": [
      "Monitored metric val_loss did not improve in the last 5 records. Best score: 2.708. Signaling Trainer to stop.\n"
     ]
    },
    {
     "name": "stdout",
     "output_type": "stream",
     "text": [
      "Epoch 22: 100%|██████████| 123/123 [00:26<00:00,  4.71it/s, loss=2.5, v_num=19, train_loss_step=2.370, val_loss=2.790, train_loss_epoch=2.500]\n"
     ]
    },
    {
     "name": "stderr",
     "output_type": "stream",
     "text": [
      "\u001b[32m[I 2024-03-28 21:52:32,859]\u001b[0m Trial 19 pruned. \u001b[0m\n",
      "GPU available: True (cuda), used: True\n",
      "TPU available: False, using: 0 TPU cores\n",
      "IPU available: False, using: 0 IPUs\n",
      "HPU available: False, using: 0 HPUs\n",
      "`Trainer(limit_train_batches=1.0)` was configured so 100% of the batches per epoch will be used..\n",
      "`Trainer(limit_val_batches=1.0)` was configured so 100% of the batches will be used..\n",
      "LOCAL_RANK: 0 - CUDA_VISIBLE_DEVICES: [0]\n",
      "\n",
      "  | Name                   | Type                             | Params\n",
      "----------------------------------------------------------------------------\n",
      "0 | loss                   | NegativeBinomialDistributionLoss | 0     \n",
      "1 | logging_metrics        | ModuleList                       | 0     \n",
      "2 | embeddings             | MultiEmbedding                   | 787   \n",
      "3 | rnn                    | LSTM                             | 13.9 M\n",
      "4 | distribution_projector | Linear                           | 1.2 K \n",
      "----------------------------------------------------------------------------\n",
      "13.9 M    Trainable params\n",
      "0         Non-trainable params\n",
      "13.9 M    Total params\n",
      "55.503    Total estimated model params size (MB)\n"
     ]
    },
    {
     "name": "stdout",
     "output_type": "stream",
     "text": [
      "Epoch 0: 100%|██████████| 98/98 [00:25<00:00,  3.78it/s, loss=5.07, v_num=20, train_loss_step=4.290, val_loss=4.400]"
     ]
    },
    {
     "name": "stderr",
     "output_type": "stream",
     "text": [
      "Metric val_loss improved. New best score: 4.404\n"
     ]
    },
    {
     "name": "stdout",
     "output_type": "stream",
     "text": [
      "Epoch 1: 100%|██████████| 98/98 [00:25<00:00,  3.78it/s, loss=3.76, v_num=20, train_loss_step=3.660, val_loss=3.810, train_loss_epoch=18.40]"
     ]
    },
    {
     "name": "stderr",
     "output_type": "stream",
     "text": [
      "Metric val_loss improved by 0.595 >= min_delta = 0. New best score: 3.809\n"
     ]
    },
    {
     "name": "stdout",
     "output_type": "stream",
     "text": [
      "Epoch 2: 100%|██████████| 98/98 [00:25<00:00,  3.79it/s, loss=3.14, v_num=20, train_loss_step=3.090, val_loss=3.260, train_loss_epoch=3.920]"
     ]
    },
    {
     "name": "stderr",
     "output_type": "stream",
     "text": [
      "Metric val_loss improved by 0.551 >= min_delta = 0. New best score: 3.259\n"
     ]
    },
    {
     "name": "stdout",
     "output_type": "stream",
     "text": [
      "Epoch 3: 100%|██████████| 98/98 [00:25<00:00,  3.78it/s, loss=2.94, v_num=20, train_loss_step=2.980, val_loss=3.150, train_loss_epoch=3.370]"
     ]
    },
    {
     "name": "stderr",
     "output_type": "stream",
     "text": [
      "Metric val_loss improved by 0.109 >= min_delta = 0. New best score: 3.150\n"
     ]
    },
    {
     "name": "stdout",
     "output_type": "stream",
     "text": [
      "Epoch 4: 100%|██████████| 98/98 [00:25<00:00,  3.79it/s, loss=2.86, v_num=20, train_loss_step=2.650, val_loss=2.990, train_loss_epoch=2.990]"
     ]
    },
    {
     "name": "stderr",
     "output_type": "stream",
     "text": [
      "Metric val_loss improved by 0.163 >= min_delta = 0. New best score: 2.987\n"
     ]
    },
    {
     "name": "stdout",
     "output_type": "stream",
     "text": [
      "Epoch 5: 100%|██████████| 98/98 [00:34<00:00,  2.81it/s, loss=2.76, v_num=20, train_loss_step=2.670, val_loss=2.920, train_loss_epoch=2.870]"
     ]
    },
    {
     "name": "stderr",
     "output_type": "stream",
     "text": [
      "Metric val_loss improved by 0.069 >= min_delta = 0. New best score: 2.918\n"
     ]
    },
    {
     "name": "stdout",
     "output_type": "stream",
     "text": [
      "Epoch 6: 100%|██████████| 98/98 [00:25<00:00,  3.77it/s, loss=2.7, v_num=20, train_loss_step=2.680, val_loss=2.860, train_loss_epoch=2.780] "
     ]
    },
    {
     "name": "stderr",
     "output_type": "stream",
     "text": [
      "Metric val_loss improved by 0.054 >= min_delta = 0. New best score: 2.864\n"
     ]
    },
    {
     "name": "stdout",
     "output_type": "stream",
     "text": [
      "Epoch 7: 100%|██████████| 98/98 [00:25<00:00,  3.80it/s, loss=2.72, v_num=20, train_loss_step=3.010, val_loss=2.850, train_loss_epoch=2.720]"
     ]
    },
    {
     "name": "stderr",
     "output_type": "stream",
     "text": [
      "Metric val_loss improved by 0.018 >= min_delta = 0. New best score: 2.846\n"
     ]
    },
    {
     "name": "stdout",
     "output_type": "stream",
     "text": [
      "Epoch 8: 100%|██████████| 98/98 [00:25<00:00,  3.79it/s, loss=2.68, v_num=20, train_loss_step=2.870, val_loss=2.800, train_loss_epoch=2.700]"
     ]
    },
    {
     "name": "stderr",
     "output_type": "stream",
     "text": [
      "Metric val_loss improved by 0.043 >= min_delta = 0. New best score: 2.803\n"
     ]
    },
    {
     "name": "stdout",
     "output_type": "stream",
     "text": [
      "Epoch 9: 100%|██████████| 98/98 [00:25<00:00,  3.79it/s, loss=2.66, v_num=20, train_loss_step=2.680, val_loss=2.800, train_loss_epoch=2.680]"
     ]
    },
    {
     "name": "stderr",
     "output_type": "stream",
     "text": [
      "Metric val_loss improved by 0.003 >= min_delta = 0. New best score: 2.801\n"
     ]
    },
    {
     "name": "stdout",
     "output_type": "stream",
     "text": [
      "Epoch 10: 100%|██████████| 98/98 [00:25<00:00,  3.79it/s, loss=2.58, v_num=20, train_loss_step=2.620, val_loss=2.790, train_loss_epoch=2.640]"
     ]
    },
    {
     "name": "stderr",
     "output_type": "stream",
     "text": [
      "Metric val_loss improved by 0.015 >= min_delta = 0. New best score: 2.785\n"
     ]
    },
    {
     "name": "stdout",
     "output_type": "stream",
     "text": [
      "Epoch 11: 100%|██████████| 98/98 [00:25<00:00,  3.78it/s, loss=2.59, v_num=20, train_loss_step=2.660, val_loss=2.750, train_loss_epoch=2.600]"
     ]
    },
    {
     "name": "stderr",
     "output_type": "stream",
     "text": [
      "Metric val_loss improved by 0.039 >= min_delta = 0. New best score: 2.746\n"
     ]
    },
    {
     "name": "stdout",
     "output_type": "stream",
     "text": [
      "Epoch 15: 100%|██████████| 98/98 [00:25<00:00,  3.78it/s, loss=2.52, v_num=20, train_loss_step=2.630, val_loss=2.730, train_loss_epoch=2.580]"
     ]
    },
    {
     "name": "stderr",
     "output_type": "stream",
     "text": [
      "Metric val_loss improved by 0.019 >= min_delta = 0. New best score: 2.727\n"
     ]
    },
    {
     "name": "stdout",
     "output_type": "stream",
     "text": [
      "Epoch 17: 100%|██████████| 98/98 [00:25<00:00,  3.81it/s, loss=2.6, v_num=20, train_loss_step=2.490, val_loss=2.720, train_loss_epoch=2.530] "
     ]
    },
    {
     "name": "stderr",
     "output_type": "stream",
     "text": [
      "Metric val_loss improved by 0.005 >= min_delta = 0. New best score: 2.723\n"
     ]
    },
    {
     "name": "stdout",
     "output_type": "stream",
     "text": [
      "Epoch 19: 100%|██████████| 98/98 [00:26<00:00,  3.77it/s, loss=2.52, v_num=20, train_loss_step=2.470, val_loss=2.720, train_loss_epoch=2.490]"
     ]
    },
    {
     "name": "stderr",
     "output_type": "stream",
     "text": [
      "Metric val_loss improved by 0.004 >= min_delta = 0. New best score: 2.719\n"
     ]
    },
    {
     "name": "stdout",
     "output_type": "stream",
     "text": [
      "Epoch 24: 100%|██████████| 98/98 [00:25<00:00,  3.79it/s, loss=2.45, v_num=20, train_loss_step=2.480, val_loss=2.750, train_loss_epoch=2.460]"
     ]
    },
    {
     "name": "stderr",
     "output_type": "stream",
     "text": [
      "Monitored metric val_loss did not improve in the last 5 records. Best score: 2.719. Signaling Trainer to stop.\n"
     ]
    },
    {
     "name": "stdout",
     "output_type": "stream",
     "text": [
      "Epoch 24: 100%|██████████| 98/98 [00:26<00:00,  3.76it/s, loss=2.45, v_num=20, train_loss_step=2.480, val_loss=2.750, train_loss_epoch=2.430]"
     ]
    },
    {
     "name": "stderr",
     "output_type": "stream",
     "text": [
      "\u001b[32m[I 2024-03-28 22:03:58,881]\u001b[0m Trial 20 finished with value: 31.989503860473633 and parameters: {'neu': 610, 'lay': 5, 'bat': 768, 'lr': 0.004519249993001676, 'dropout': 0.2}. Best is trial 18 with value: 31.875782012939453.\u001b[0m\n"
     ]
    },
    {
     "name": "stdout",
     "output_type": "stream",
     "text": [
      "\n"
     ]
    },
    {
     "name": "stderr",
     "output_type": "stream",
     "text": [
      "GPU available: True (cuda), used: True\n",
      "TPU available: False, using: 0 TPU cores\n",
      "IPU available: False, using: 0 IPUs\n",
      "HPU available: False, using: 0 HPUs\n",
      "`Trainer(limit_train_batches=1.0)` was configured so 100% of the batches per epoch will be used..\n",
      "`Trainer(limit_val_batches=1.0)` was configured so 100% of the batches will be used..\n",
      "LOCAL_RANK: 0 - CUDA_VISIBLE_DEVICES: [0]\n",
      "\n",
      "  | Name                   | Type                             | Params\n",
      "----------------------------------------------------------------------------\n",
      "0 | loss                   | NegativeBinomialDistributionLoss | 0     \n",
      "1 | logging_metrics        | ModuleList                       | 0     \n",
      "2 | embeddings             | MultiEmbedding                   | 787   \n",
      "3 | rnn                    | LSTM                             | 13.9 M\n",
      "4 | distribution_projector | Linear                           | 1.2 K \n",
      "----------------------------------------------------------------------------\n",
      "13.9 M    Trainable params\n",
      "0         Non-trainable params\n",
      "13.9 M    Total params\n",
      "55.503    Total estimated model params size (MB)\n"
     ]
    },
    {
     "name": "stdout",
     "output_type": "stream",
     "text": [
      "Epoch 0: 100%|██████████| 107/107 [00:26<00:00,  4.11it/s, loss=4.57, v_num=21, train_loss_step=4.440, val_loss=4.370]"
     ]
    },
    {
     "name": "stderr",
     "output_type": "stream",
     "text": [
      "Metric val_loss improved. New best score: 4.370\n"
     ]
    },
    {
     "name": "stdout",
     "output_type": "stream",
     "text": [
      "Epoch 1: 100%|██████████| 107/107 [00:26<00:00,  4.11it/s, loss=3.68, v_num=21, train_loss_step=3.550, val_loss=3.770, train_loss_epoch=17.70]"
     ]
    },
    {
     "name": "stderr",
     "output_type": "stream",
     "text": [
      "Metric val_loss improved by 0.600 >= min_delta = 0. New best score: 3.770\n"
     ]
    },
    {
     "name": "stdout",
     "output_type": "stream",
     "text": [
      "Epoch 2: 100%|██████████| 107/107 [00:25<00:00,  4.12it/s, loss=3.12, v_num=21, train_loss_step=3.200, val_loss=3.260, train_loss_epoch=3.860]"
     ]
    },
    {
     "name": "stderr",
     "output_type": "stream",
     "text": [
      "Metric val_loss improved by 0.514 >= min_delta = 0. New best score: 3.256\n"
     ]
    },
    {
     "name": "stdout",
     "output_type": "stream",
     "text": [
      "Epoch 3: 100%|██████████| 107/107 [00:26<00:00,  4.10it/s, loss=2.92, v_num=21, train_loss_step=2.880, val_loss=3.090, train_loss_epoch=3.280]"
     ]
    },
    {
     "name": "stderr",
     "output_type": "stream",
     "text": [
      "Metric val_loss improved by 0.162 >= min_delta = 0. New best score: 3.094\n"
     ]
    },
    {
     "name": "stdout",
     "output_type": "stream",
     "text": [
      "Epoch 4: 100%|██████████| 107/107 [00:26<00:00,  4.12it/s, loss=2.83, v_num=21, train_loss_step=2.810, val_loss=2.990, train_loss_epoch=2.990]"
     ]
    },
    {
     "name": "stderr",
     "output_type": "stream",
     "text": [
      "Metric val_loss improved by 0.102 >= min_delta = 0. New best score: 2.992\n"
     ]
    },
    {
     "name": "stdout",
     "output_type": "stream",
     "text": [
      "Epoch 5: 100%|██████████| 107/107 [00:26<00:00,  4.11it/s, loss=2.78, v_num=21, train_loss_step=2.740, val_loss=2.910, train_loss_epoch=2.860]"
     ]
    },
    {
     "name": "stderr",
     "output_type": "stream",
     "text": [
      "Metric val_loss improved by 0.079 >= min_delta = 0. New best score: 2.913\n"
     ]
    },
    {
     "name": "stdout",
     "output_type": "stream",
     "text": [
      "Epoch 6: 100%|██████████| 107/107 [00:26<00:00,  4.11it/s, loss=2.74, v_num=21, train_loss_step=2.660, val_loss=2.900, train_loss_epoch=2.780]"
     ]
    },
    {
     "name": "stderr",
     "output_type": "stream",
     "text": [
      "Metric val_loss improved by 0.011 >= min_delta = 0. New best score: 2.902\n"
     ]
    },
    {
     "name": "stdout",
     "output_type": "stream",
     "text": [
      "Epoch 7: 100%|██████████| 107/107 [00:35<00:00,  3.04it/s, loss=2.71, v_num=21, train_loss_step=2.830, val_loss=2.840, train_loss_epoch=2.720]"
     ]
    },
    {
     "name": "stderr",
     "output_type": "stream",
     "text": [
      "Metric val_loss improved by 0.061 >= min_delta = 0. New best score: 2.841\n"
     ]
    },
    {
     "name": "stdout",
     "output_type": "stream",
     "text": [
      "Epoch 8: 100%|██████████| 107/107 [00:25<00:00,  4.12it/s, loss=2.66, v_num=21, train_loss_step=2.610, val_loss=2.820, train_loss_epoch=2.690]"
     ]
    },
    {
     "name": "stderr",
     "output_type": "stream",
     "text": [
      "Metric val_loss improved by 0.025 >= min_delta = 0. New best score: 2.816\n"
     ]
    },
    {
     "name": "stdout",
     "output_type": "stream",
     "text": [
      "Epoch 9: 100%|██████████| 107/107 [00:26<00:00,  4.10it/s, loss=2.66, v_num=21, train_loss_step=2.720, val_loss=2.790, train_loss_epoch=2.660]"
     ]
    },
    {
     "name": "stderr",
     "output_type": "stream",
     "text": [
      "Metric val_loss improved by 0.029 >= min_delta = 0. New best score: 2.787\n"
     ]
    },
    {
     "name": "stdout",
     "output_type": "stream",
     "text": [
      "Epoch 12: 100%|██████████| 107/107 [00:25<00:00,  4.13it/s, loss=2.55, v_num=21, train_loss_step=2.540, val_loss=2.750, train_loss_epoch=2.590]"
     ]
    },
    {
     "name": "stderr",
     "output_type": "stream",
     "text": [
      "Metric val_loss improved by 0.034 >= min_delta = 0. New best score: 2.753\n"
     ]
    },
    {
     "name": "stdout",
     "output_type": "stream",
     "text": [
      "Epoch 14: 100%|██████████| 107/107 [00:25<00:00,  4.12it/s, loss=2.6, v_num=21, train_loss_step=2.620, val_loss=2.750, train_loss_epoch=2.560] "
     ]
    },
    {
     "name": "stderr",
     "output_type": "stream",
     "text": [
      "Metric val_loss improved by 0.004 >= min_delta = 0. New best score: 2.748\n"
     ]
    },
    {
     "name": "stdout",
     "output_type": "stream",
     "text": [
      "Epoch 17: 100%|██████████| 107/107 [00:26<00:00,  4.10it/s, loss=2.51, v_num=21, train_loss_step=2.480, val_loss=2.720, train_loss_epoch=2.510]"
     ]
    },
    {
     "name": "stderr",
     "output_type": "stream",
     "text": [
      "Metric val_loss improved by 0.033 >= min_delta = 0. New best score: 2.715\n"
     ]
    },
    {
     "name": "stdout",
     "output_type": "stream",
     "text": [
      "Epoch 22: 100%|██████████| 107/107 [00:26<00:00,  4.10it/s, loss=2.5, v_num=21, train_loss_step=2.470, val_loss=2.810, train_loss_epoch=2.470] "
     ]
    },
    {
     "name": "stderr",
     "output_type": "stream",
     "text": [
      "Monitored metric val_loss did not improve in the last 5 records. Best score: 2.715. Signaling Trainer to stop.\n"
     ]
    },
    {
     "name": "stdout",
     "output_type": "stream",
     "text": [
      "Epoch 22: 100%|██████████| 107/107 [00:26<00:00,  4.06it/s, loss=2.5, v_num=21, train_loss_step=2.470, val_loss=2.810, train_loss_epoch=2.460]"
     ]
    },
    {
     "name": "stderr",
     "output_type": "stream",
     "text": [
      "\u001b[32m[I 2024-03-28 22:14:27,848]\u001b[0m Trial 21 finished with value: 33.11580276489258 and parameters: {'neu': 610, 'lay': 5, 'bat': 704, 'lr': 0.0042080474555241595, 'dropout': 0.2}. Best is trial 18 with value: 31.875782012939453.\u001b[0m\n"
     ]
    },
    {
     "name": "stdout",
     "output_type": "stream",
     "text": [
      "\n"
     ]
    },
    {
     "name": "stderr",
     "output_type": "stream",
     "text": [
      "GPU available: True (cuda), used: True\n",
      "TPU available: False, using: 0 TPU cores\n",
      "IPU available: False, using: 0 IPUs\n",
      "HPU available: False, using: 0 HPUs\n",
      "`Trainer(limit_train_batches=1.0)` was configured so 100% of the batches per epoch will be used..\n",
      "`Trainer(limit_val_batches=1.0)` was configured so 100% of the batches will be used..\n",
      "LOCAL_RANK: 0 - CUDA_VISIBLE_DEVICES: [0]\n",
      "\n",
      "  | Name                   | Type                             | Params\n",
      "----------------------------------------------------------------------------\n",
      "0 | loss                   | NegativeBinomialDistributionLoss | 0     \n",
      "1 | logging_metrics        | ModuleList                       | 0     \n",
      "2 | embeddings             | MultiEmbedding                   | 787   \n",
      "3 | rnn                    | LSTM                             | 19.8 M\n",
      "4 | distribution_projector | Linear                           | 1.2 K \n",
      "----------------------------------------------------------------------------\n",
      "19.8 M    Trainable params\n",
      "0         Non-trainable params\n",
      "19.8 M    Total params\n",
      "79.357    Total estimated model params size (MB)\n"
     ]
    },
    {
     "name": "stdout",
     "output_type": "stream",
     "text": [
      "Epoch 0: 100%|██████████| 111/111 [00:26<00:00,  4.23it/s, loss=4.3, v_num=22, train_loss_step=4.180, val_loss=4.230]"
     ]
    },
    {
     "name": "stderr",
     "output_type": "stream",
     "text": [
      "Metric val_loss improved. New best score: 4.225\n"
     ]
    },
    {
     "name": "stdout",
     "output_type": "stream",
     "text": [
      "Epoch 1: 100%|██████████| 111/111 [00:25<00:00,  4.28it/s, loss=3.99, v_num=22, train_loss_step=3.900, val_loss=4.090, train_loss_epoch=16.30]"
     ]
    },
    {
     "name": "stderr",
     "output_type": "stream",
     "text": [
      "Metric val_loss improved by 0.133 >= min_delta = 0. New best score: 4.092\n"
     ]
    },
    {
     "name": "stdout",
     "output_type": "stream",
     "text": [
      "Epoch 2: 100%|██████████| 111/111 [00:25<00:00,  4.27it/s, loss=3.95, v_num=22, train_loss_step=4.080, val_loss=4.000, train_loss_epoch=4.000]"
     ]
    },
    {
     "name": "stderr",
     "output_type": "stream",
     "text": [
      "Metric val_loss improved by 0.092 >= min_delta = 0. New best score: 4.000\n"
     ]
    },
    {
     "name": "stdout",
     "output_type": "stream",
     "text": [
      "Epoch 3: 100%|██████████| 111/111 [00:35<00:00,  3.15it/s, loss=3.62, v_num=22, train_loss_step=3.580, val_loss=3.720, train_loss_epoch=3.970]"
     ]
    },
    {
     "name": "stderr",
     "output_type": "stream",
     "text": [
      "Metric val_loss improved by 0.275 >= min_delta = 0. New best score: 3.724\n"
     ]
    },
    {
     "name": "stdout",
     "output_type": "stream",
     "text": [
      "Epoch 4: 100%|██████████| 111/111 [00:26<00:00,  4.24it/s, loss=3.31, v_num=22, train_loss_step=3.250, val_loss=3.620, train_loss_epoch=3.750]"
     ]
    },
    {
     "name": "stderr",
     "output_type": "stream",
     "text": [
      "Metric val_loss improved by 0.100 >= min_delta = 0. New best score: 3.624\n"
     ]
    },
    {
     "name": "stdout",
     "output_type": "stream",
     "text": [
      "Epoch 5: 100%|██████████| 111/111 [00:26<00:00,  4.25it/s, loss=2.93, v_num=22, train_loss_step=2.770, val_loss=2.970, train_loss_epoch=3.500]"
     ]
    },
    {
     "name": "stderr",
     "output_type": "stream",
     "text": [
      "Metric val_loss improved by 0.656 >= min_delta = 0. New best score: 2.968\n"
     ]
    },
    {
     "name": "stdout",
     "output_type": "stream",
     "text": [
      "Epoch 6: 100%|██████████| 111/111 [00:26<00:00,  4.24it/s, loss=2.77, v_num=22, train_loss_step=2.630, val_loss=2.860, train_loss_epoch=3.030]"
     ]
    },
    {
     "name": "stderr",
     "output_type": "stream",
     "text": [
      "Metric val_loss improved by 0.112 >= min_delta = 0. New best score: 2.856\n"
     ]
    },
    {
     "name": "stdout",
     "output_type": "stream",
     "text": [
      "Epoch 8: 100%|██████████| 111/111 [00:26<00:00,  4.25it/s, loss=2.64, v_num=22, train_loss_step=2.640, val_loss=2.770, train_loss_epoch=2.730]"
     ]
    },
    {
     "name": "stderr",
     "output_type": "stream",
     "text": [
      "Metric val_loss improved by 0.091 >= min_delta = 0. New best score: 2.765\n"
     ]
    },
    {
     "name": "stdout",
     "output_type": "stream",
     "text": [
      "Epoch 10: 100%|██████████| 111/111 [00:26<00:00,  4.24it/s, loss=2.6, v_num=22, train_loss_step=2.490, val_loss=2.730, train_loss_epoch=2.650]"
     ]
    },
    {
     "name": "stderr",
     "output_type": "stream",
     "text": [
      "Metric val_loss improved by 0.032 >= min_delta = 0. New best score: 2.733\n"
     ]
    },
    {
     "name": "stdout",
     "output_type": "stream",
     "text": [
      "Epoch 11: 100%|██████████| 111/111 [00:26<00:00,  4.23it/s, loss=2.58, v_num=22, train_loss_step=2.590, val_loss=2.720, train_loss_epoch=2.600]"
     ]
    },
    {
     "name": "stderr",
     "output_type": "stream",
     "text": [
      "Metric val_loss improved by 0.014 >= min_delta = 0. New best score: 2.719\n"
     ]
    },
    {
     "name": "stdout",
     "output_type": "stream",
     "text": [
      "Epoch 16: 100%|██████████| 111/111 [00:26<00:00,  4.24it/s, loss=2.5, v_num=22, train_loss_step=2.440, val_loss=2.750, train_loss_epoch=2.500] "
     ]
    },
    {
     "name": "stderr",
     "output_type": "stream",
     "text": [
      "Monitored metric val_loss did not improve in the last 5 records. Best score: 2.719. Signaling Trainer to stop.\n"
     ]
    },
    {
     "name": "stdout",
     "output_type": "stream",
     "text": [
      "Epoch 16: 100%|██████████| 111/111 [00:26<00:00,  4.19it/s, loss=2.5, v_num=22, train_loss_step=2.440, val_loss=2.750, train_loss_epoch=2.500]"
     ]
    },
    {
     "name": "stderr",
     "output_type": "stream",
     "text": [
      "\u001b[32m[I 2024-03-28 22:22:21,450]\u001b[0m Trial 22 finished with value: 32.65456008911133 and parameters: {'neu': 610, 'lay': 7, 'bat': 672, 'lr': 0.006301497387171433, 'dropout': 0.2}. Best is trial 18 with value: 31.875782012939453.\u001b[0m\n"
     ]
    },
    {
     "name": "stdout",
     "output_type": "stream",
     "text": [
      "\n"
     ]
    },
    {
     "name": "stderr",
     "output_type": "stream",
     "text": [
      "GPU available: True (cuda), used: True\n",
      "TPU available: False, using: 0 TPU cores\n",
      "IPU available: False, using: 0 IPUs\n",
      "HPU available: False, using: 0 HPUs\n",
      "`Trainer(limit_train_batches=1.0)` was configured so 100% of the batches per epoch will be used..\n",
      "`Trainer(limit_val_batches=1.0)` was configured so 100% of the batches will be used..\n",
      "LOCAL_RANK: 0 - CUDA_VISIBLE_DEVICES: [0]\n",
      "\n",
      "  | Name                   | Type                             | Params\n",
      "----------------------------------------------------------------------------\n",
      "0 | loss                   | NegativeBinomialDistributionLoss | 0     \n",
      "1 | logging_metrics        | ModuleList                       | 0     \n",
      "2 | embeddings             | MultiEmbedding                   | 787   \n",
      "3 | rnn                    | LSTM                             | 13.7 M\n",
      "4 | distribution_projector | Linear                           | 1.6 K \n",
      "----------------------------------------------------------------------------\n",
      "13.7 M    Trainable params\n",
      "0         Non-trainable params\n",
      "13.7 M    Total params\n",
      "54.986    Total estimated model params size (MB)\n"
     ]
    },
    {
     "name": "stdout",
     "output_type": "stream",
     "text": [
      "Epoch 0: 100%|██████████| 91/91 [00:25<00:00,  3.54it/s, loss=4.89, v_num=23, train_loss_step=4.100, val_loss=4.320]"
     ]
    },
    {
     "name": "stderr",
     "output_type": "stream",
     "text": [
      "Metric val_loss improved. New best score: 4.323\n"
     ]
    },
    {
     "name": "stdout",
     "output_type": "stream",
     "text": [
      "Epoch 1: 100%|██████████| 91/91 [00:25<00:00,  3.56it/s, loss=3.73, v_num=23, train_loss_step=3.530, val_loss=3.730, train_loss_epoch=15.10]"
     ]
    },
    {
     "name": "stderr",
     "output_type": "stream",
     "text": [
      "Metric val_loss improved by 0.588 >= min_delta = 0. New best score: 3.735\n"
     ]
    },
    {
     "name": "stdout",
     "output_type": "stream",
     "text": [
      "Epoch 2: 100%|██████████| 91/91 [00:25<00:00,  3.53it/s, loss=3.03, v_num=23, train_loss_step=3.050, val_loss=3.100, train_loss_epoch=3.860]"
     ]
    },
    {
     "name": "stderr",
     "output_type": "stream",
     "text": [
      "Metric val_loss improved by 0.634 >= min_delta = 0. New best score: 3.101\n"
     ]
    },
    {
     "name": "stdout",
     "output_type": "stream",
     "text": [
      "Epoch 3: 100%|██████████| 91/91 [00:25<00:00,  3.54it/s, loss=2.85, v_num=23, train_loss_step=2.910, val_loss=2.960, train_loss_epoch=3.260]"
     ]
    },
    {
     "name": "stderr",
     "output_type": "stream",
     "text": [
      "Metric val_loss improved by 0.141 >= min_delta = 0. New best score: 2.959\n"
     ]
    },
    {
     "name": "stdout",
     "output_type": "stream",
     "text": [
      "Epoch 4: 100%|██████████| 91/91 [00:25<00:00,  3.55it/s, loss=2.78, v_num=23, train_loss_step=2.770, val_loss=2.890, train_loss_epoch=2.890]"
     ]
    },
    {
     "name": "stderr",
     "output_type": "stream",
     "text": [
      "Metric val_loss improved by 0.073 >= min_delta = 0. New best score: 2.887\n"
     ]
    },
    {
     "name": "stdout",
     "output_type": "stream",
     "text": [
      "Epoch 5: 100%|██████████| 91/91 [00:25<00:00,  3.51it/s, loss=2.73, v_num=23, train_loss_step=2.730, val_loss=2.850, train_loss_epoch=2.790]"
     ]
    },
    {
     "name": "stderr",
     "output_type": "stream",
     "text": [
      "Metric val_loss improved by 0.039 >= min_delta = 0. New best score: 2.848\n"
     ]
    },
    {
     "name": "stdout",
     "output_type": "stream",
     "text": [
      "Epoch 6: 100%|██████████| 91/91 [00:25<00:00,  3.54it/s, loss=2.69, v_num=23, train_loss_step=2.640, val_loss=2.820, train_loss_epoch=2.730]"
     ]
    },
    {
     "name": "stderr",
     "output_type": "stream",
     "text": [
      "Metric val_loss improved by 0.030 >= min_delta = 0. New best score: 2.817\n"
     ]
    },
    {
     "name": "stdout",
     "output_type": "stream",
     "text": [
      "Epoch 7: 100%|██████████| 91/91 [00:35<00:00,  2.59it/s, loss=2.67, v_num=23, train_loss_step=2.750, val_loss=2.810, train_loss_epoch=2.690]"
     ]
    },
    {
     "name": "stderr",
     "output_type": "stream",
     "text": [
      "Metric val_loss improved by 0.009 >= min_delta = 0. New best score: 2.809\n"
     ]
    },
    {
     "name": "stdout",
     "output_type": "stream",
     "text": [
      "Epoch 8: 100%|██████████| 91/91 [00:25<00:00,  3.54it/s, loss=2.63, v_num=23, train_loss_step=2.670, val_loss=2.790, train_loss_epoch=2.690]"
     ]
    },
    {
     "name": "stderr",
     "output_type": "stream",
     "text": [
      "Metric val_loss improved by 0.022 >= min_delta = 0. New best score: 2.786\n"
     ]
    },
    {
     "name": "stdout",
     "output_type": "stream",
     "text": [
      "Epoch 9: 100%|██████████| 91/91 [00:25<00:00,  3.55it/s, loss=2.62, v_num=23, train_loss_step=2.550, val_loss=2.760, train_loss_epoch=2.640]"
     ]
    },
    {
     "name": "stderr",
     "output_type": "stream",
     "text": [
      "Metric val_loss improved by 0.028 >= min_delta = 0. New best score: 2.759\n"
     ]
    },
    {
     "name": "stdout",
     "output_type": "stream",
     "text": [
      "Epoch 11: 100%|██████████| 91/91 [00:25<00:00,  3.54it/s, loss=2.6, v_num=23, train_loss_step=2.580, val_loss=2.740, train_loss_epoch=2.600] "
     ]
    },
    {
     "name": "stderr",
     "output_type": "stream",
     "text": [
      "Metric val_loss improved by 0.018 >= min_delta = 0. New best score: 2.740\n"
     ]
    },
    {
     "name": "stdout",
     "output_type": "stream",
     "text": [
      "Epoch 12: 100%|██████████| 91/91 [00:25<00:00,  3.54it/s, loss=2.57, v_num=23, train_loss_step=2.560, val_loss=2.730, train_loss_epoch=2.590]"
     ]
    },
    {
     "name": "stderr",
     "output_type": "stream",
     "text": [
      "Metric val_loss improved by 0.013 >= min_delta = 0. New best score: 2.727\n"
     ]
    },
    {
     "name": "stdout",
     "output_type": "stream",
     "text": [
      "Epoch 17: 100%|██████████| 91/91 [00:25<00:00,  3.55it/s, loss=2.5, v_num=23, train_loss_step=2.560, val_loss=2.700, train_loss_epoch=2.520] "
     ]
    },
    {
     "name": "stderr",
     "output_type": "stream",
     "text": [
      "Metric val_loss improved by 0.028 >= min_delta = 0. New best score: 2.699\n"
     ]
    },
    {
     "name": "stdout",
     "output_type": "stream",
     "text": [
      "Epoch 21: 100%|██████████| 91/91 [00:25<00:00,  3.54it/s, loss=2.48, v_num=23, train_loss_step=2.470, val_loss=2.690, train_loss_epoch=2.490]"
     ]
    },
    {
     "name": "stderr",
     "output_type": "stream",
     "text": [
      "Metric val_loss improved by 0.010 >= min_delta = 0. New best score: 2.689\n"
     ]
    },
    {
     "name": "stdout",
     "output_type": "stream",
     "text": [
      "Epoch 26: 100%|██████████| 91/91 [00:25<00:00,  3.55it/s, loss=2.43, v_num=23, train_loss_step=2.520, val_loss=2.770, train_loss_epoch=2.440]"
     ]
    },
    {
     "name": "stderr",
     "output_type": "stream",
     "text": [
      "Monitored metric val_loss did not improve in the last 5 records. Best score: 2.689. Signaling Trainer to stop.\n"
     ]
    },
    {
     "name": "stdout",
     "output_type": "stream",
     "text": [
      "Epoch 26: 100%|██████████| 91/91 [00:25<00:00,  3.52it/s, loss=2.43, v_num=23, train_loss_step=2.520, val_loss=2.770, train_loss_epoch=2.430]"
     ]
    },
    {
     "name": "stderr",
     "output_type": "stream",
     "text": [
      "\u001b[32m[I 2024-03-28 22:34:35,892]\u001b[0m Trial 23 finished with value: 32.688255310058594 and parameters: {'neu': 810, 'lay': 3, 'bat': 832, 'lr': 0.0027849481974955314, 'dropout': 0.4}. Best is trial 18 with value: 31.875782012939453.\u001b[0m\n"
     ]
    },
    {
     "name": "stdout",
     "output_type": "stream",
     "text": [
      "\n"
     ]
    },
    {
     "name": "stderr",
     "output_type": "stream",
     "text": [
      "GPU available: True (cuda), used: True\n",
      "TPU available: False, using: 0 TPU cores\n",
      "IPU available: False, using: 0 IPUs\n",
      "HPU available: False, using: 0 HPUs\n",
      "`Trainer(limit_train_batches=1.0)` was configured so 100% of the batches per epoch will be used..\n",
      "`Trainer(limit_val_batches=1.0)` was configured so 100% of the batches will be used..\n",
      "LOCAL_RANK: 0 - CUDA_VISIBLE_DEVICES: [0]\n",
      "\n",
      "  | Name                   | Type                             | Params\n",
      "----------------------------------------------------------------------------\n",
      "0 | loss                   | NegativeBinomialDistributionLoss | 0     \n",
      "1 | logging_metrics        | ModuleList                       | 0     \n",
      "2 | embeddings             | MultiEmbedding                   | 787   \n",
      "3 | rnn                    | LSTM                             | 6.4 M \n",
      "4 | distribution_projector | Linear                           | 822   \n",
      "----------------------------------------------------------------------------\n",
      "6.4 M     Trainable params\n",
      "0         Non-trainable params\n",
      "6.4 M     Total params\n",
      "25.499    Total estimated model params size (MB)\n"
     ]
    },
    {
     "name": "stdout",
     "output_type": "stream",
     "text": [
      "Epoch 0: 100%|██████████| 138/138 [00:25<00:00,  5.31it/s, loss=3.92, v_num=24, train_loss_step=3.970, val_loss=3.950]"
     ]
    },
    {
     "name": "stderr",
     "output_type": "stream",
     "text": [
      "Metric val_loss improved. New best score: 3.952\n"
     ]
    },
    {
     "name": "stdout",
     "output_type": "stream",
     "text": [
      "Epoch 1: 100%|██████████| 138/138 [00:26<00:00,  5.28it/s, loss=3.26, v_num=24, train_loss_step=3.280, val_loss=3.300, train_loss_epoch=11.60]"
     ]
    },
    {
     "name": "stderr",
     "output_type": "stream",
     "text": [
      "Metric val_loss improved by 0.651 >= min_delta = 0. New best score: 3.300\n"
     ]
    },
    {
     "name": "stdout",
     "output_type": "stream",
     "text": [
      "Epoch 2: 100%|██████████| 138/138 [00:26<00:00,  5.30it/s, loss=2.85, v_num=24, train_loss_step=2.780, val_loss=2.970, train_loss_epoch=3.630]"
     ]
    },
    {
     "name": "stderr",
     "output_type": "stream",
     "text": [
      "Metric val_loss improved by 0.326 >= min_delta = 0. New best score: 2.974\n"
     ]
    },
    {
     "name": "stdout",
     "output_type": "stream",
     "text": [
      "Epoch 3: 100%|██████████| 138/138 [00:25<00:00,  5.34it/s, loss=2.75, v_num=24, train_loss_step=2.810, val_loss=2.860, train_loss_epoch=2.980]"
     ]
    },
    {
     "name": "stderr",
     "output_type": "stream",
     "text": [
      "Metric val_loss improved by 0.115 >= min_delta = 0. New best score: 2.859\n"
     ]
    },
    {
     "name": "stdout",
     "output_type": "stream",
     "text": [
      "Epoch 4: 100%|██████████| 138/138 [00:25<00:00,  5.32it/s, loss=2.67, v_num=24, train_loss_step=2.740, val_loss=2.830, train_loss_epoch=2.790]"
     ]
    },
    {
     "name": "stderr",
     "output_type": "stream",
     "text": [
      "Metric val_loss improved by 0.024 >= min_delta = 0. New best score: 2.835\n"
     ]
    },
    {
     "name": "stdout",
     "output_type": "stream",
     "text": [
      "Epoch 5: 100%|██████████| 138/138 [00:26<00:00,  5.29it/s, loss=2.66, v_num=24, train_loss_step=2.600, val_loss=2.800, train_loss_epoch=2.710]"
     ]
    },
    {
     "name": "stderr",
     "output_type": "stream",
     "text": [
      "Metric val_loss improved by 0.030 >= min_delta = 0. New best score: 2.805\n"
     ]
    },
    {
     "name": "stdout",
     "output_type": "stream",
     "text": [
      "Epoch 6: 100%|██████████| 138/138 [00:26<00:00,  5.30it/s, loss=2.66, v_num=24, train_loss_step=2.700, val_loss=2.760, train_loss_epoch=2.670]"
     ]
    },
    {
     "name": "stderr",
     "output_type": "stream",
     "text": [
      "Metric val_loss improved by 0.045 >= min_delta = 0. New best score: 2.760\n"
     ]
    },
    {
     "name": "stdout",
     "output_type": "stream",
     "text": [
      "Epoch 7: 100%|██████████| 138/138 [00:35<00:00,  3.89it/s, loss=2.59, v_num=24, train_loss_step=2.590, val_loss=2.740, train_loss_epoch=2.640]"
     ]
    },
    {
     "name": "stderr",
     "output_type": "stream",
     "text": [
      "Metric val_loss improved by 0.023 >= min_delta = 0. New best score: 2.737\n"
     ]
    },
    {
     "name": "stdout",
     "output_type": "stream",
     "text": [
      "Epoch 10: 100%|██████████| 138/138 [00:25<00:00,  5.36it/s, loss=2.57, v_num=24, train_loss_step=2.570, val_loss=2.710, train_loss_epoch=2.570]"
     ]
    },
    {
     "name": "stderr",
     "output_type": "stream",
     "text": [
      "Metric val_loss improved by 0.024 >= min_delta = 0. New best score: 2.713\n"
     ]
    },
    {
     "name": "stdout",
     "output_type": "stream",
     "text": [
      "Epoch 15: 100%|██████████| 138/138 [00:25<00:00,  5.32it/s, loss=2.5, v_num=24, train_loss_step=2.460, val_loss=2.720, train_loss_epoch=2.500] "
     ]
    },
    {
     "name": "stderr",
     "output_type": "stream",
     "text": [
      "Monitored metric val_loss did not improve in the last 5 records. Best score: 2.713. Signaling Trainer to stop.\n"
     ]
    },
    {
     "name": "stdout",
     "output_type": "stream",
     "text": [
      "Epoch 15: 100%|██████████| 138/138 [00:26<00:00,  5.29it/s, loss=2.5, v_num=24, train_loss_step=2.460, val_loss=2.720, train_loss_epoch=2.490]\n"
     ]
    },
    {
     "name": "stderr",
     "output_type": "stream",
     "text": [
      "\u001b[32m[I 2024-03-28 22:41:48,423]\u001b[0m Trial 24 finished with value: 32.433040618896484 and parameters: {'neu': 410, 'lay': 5, 'bat': 544, 'lr': 0.010420050268145126, 'dropout': 0.6000000000000001}. Best is trial 18 with value: 31.875782012939453.\u001b[0m\n",
      "GPU available: True (cuda), used: True\n",
      "TPU available: False, using: 0 TPU cores\n",
      "IPU available: False, using: 0 IPUs\n",
      "HPU available: False, using: 0 HPUs\n",
      "`Trainer(limit_train_batches=1.0)` was configured so 100% of the batches per epoch will be used..\n",
      "`Trainer(limit_val_batches=1.0)` was configured so 100% of the batches will be used..\n",
      "LOCAL_RANK: 0 - CUDA_VISIBLE_DEVICES: [0]\n",
      "\n",
      "  | Name                   | Type                             | Params\n",
      "----------------------------------------------------------------------------\n",
      "0 | loss                   | NegativeBinomialDistributionLoss | 0     \n",
      "1 | logging_metrics        | ModuleList                       | 0     \n",
      "2 | embeddings             | MultiEmbedding                   | 787   \n",
      "3 | rnn                    | LSTM                             | 13.7 M\n",
      "4 | distribution_projector | Linear                           | 1.6 K \n",
      "----------------------------------------------------------------------------\n",
      "13.7 M    Trainable params\n",
      "0         Non-trainable params\n",
      "13.7 M    Total params\n",
      "54.986    Total estimated model params size (MB)\n"
     ]
    },
    {
     "name": "stdout",
     "output_type": "stream",
     "text": [
      "Epoch 0: 100%|██████████| 78/78 [00:25<00:00,  3.06it/s, loss=12.3, v_num=25, train_loss_step=6.700, val_loss=6.680]"
     ]
    },
    {
     "name": "stderr",
     "output_type": "stream",
     "text": [
      "Metric val_loss improved. New best score: 6.684\n"
     ]
    },
    {
     "name": "stdout",
     "output_type": "stream",
     "text": [
      "Epoch 1: 100%|██████████| 78/78 [00:35<00:00,  2.22it/s, loss=4.03, v_num=25, train_loss_step=4.010, val_loss=4.060, train_loss_epoch=20.40]"
     ]
    },
    {
     "name": "stderr",
     "output_type": "stream",
     "text": [
      "Metric val_loss improved by 2.620 >= min_delta = 0. New best score: 4.064\n"
     ]
    },
    {
     "name": "stdout",
     "output_type": "stream",
     "text": [
      "Epoch 2: 100%|██████████| 78/78 [00:25<00:00,  3.07it/s, loss=3.66, v_num=25, train_loss_step=3.540, val_loss=3.730, train_loss_epoch=4.540]"
     ]
    },
    {
     "name": "stderr",
     "output_type": "stream",
     "text": [
      "Metric val_loss improved by 0.336 >= min_delta = 0. New best score: 3.727\n"
     ]
    },
    {
     "name": "stdout",
     "output_type": "stream",
     "text": [
      "Epoch 3: 100%|██████████| 78/78 [00:25<00:00,  3.07it/s, loss=3.18, v_num=25, train_loss_step=3.150, val_loss=3.240, train_loss_epoch=3.750]"
     ]
    },
    {
     "name": "stderr",
     "output_type": "stream",
     "text": [
      "Metric val_loss improved by 0.485 >= min_delta = 0. New best score: 3.242\n"
     ]
    },
    {
     "name": "stdout",
     "output_type": "stream",
     "text": [
      "Epoch 4: 100%|██████████| 78/78 [00:25<00:00,  3.08it/s, loss=2.95, v_num=25, train_loss_step=2.940, val_loss=3.090, train_loss_epoch=3.340]"
     ]
    },
    {
     "name": "stderr",
     "output_type": "stream",
     "text": [
      "Metric val_loss improved by 0.152 >= min_delta = 0. New best score: 3.090\n"
     ]
    },
    {
     "name": "stdout",
     "output_type": "stream",
     "text": [
      "Epoch 5: 100%|██████████| 78/78 [00:25<00:00,  3.06it/s, loss=2.87, v_num=25, train_loss_step=2.910, val_loss=3.010, train_loss_epoch=3.020]"
     ]
    },
    {
     "name": "stderr",
     "output_type": "stream",
     "text": [
      "Metric val_loss improved by 0.081 >= min_delta = 0. New best score: 3.009\n"
     ]
    },
    {
     "name": "stdout",
     "output_type": "stream",
     "text": [
      "Epoch 6: 100%|██████████| 78/78 [00:25<00:00,  3.06it/s, loss=2.83, v_num=25, train_loss_step=2.820, val_loss=2.970, train_loss_epoch=2.900]"
     ]
    },
    {
     "name": "stderr",
     "output_type": "stream",
     "text": [
      "Metric val_loss improved by 0.036 >= min_delta = 0. New best score: 2.973\n"
     ]
    },
    {
     "name": "stdout",
     "output_type": "stream",
     "text": [
      "Epoch 7: 100%|██████████| 78/78 [00:25<00:00,  3.07it/s, loss=2.77, v_num=25, train_loss_step=2.770, val_loss=2.940, train_loss_epoch=2.830]"
     ]
    },
    {
     "name": "stderr",
     "output_type": "stream",
     "text": [
      "Metric val_loss improved by 0.031 >= min_delta = 0. New best score: 2.942\n"
     ]
    },
    {
     "name": "stdout",
     "output_type": "stream",
     "text": [
      "Epoch 8: 100%|██████████| 78/78 [00:25<00:00,  3.06it/s, loss=2.79, v_num=25, train_loss_step=2.900, val_loss=2.900, train_loss_epoch=2.780]"
     ]
    },
    {
     "name": "stderr",
     "output_type": "stream",
     "text": [
      "Metric val_loss improved by 0.047 >= min_delta = 0. New best score: 2.896\n"
     ]
    },
    {
     "name": "stdout",
     "output_type": "stream",
     "text": [
      "Epoch 9: 100%|██████████| 78/78 [00:25<00:00,  3.05it/s, loss=2.73, v_num=25, train_loss_step=2.640, val_loss=2.880, train_loss_epoch=2.770]"
     ]
    },
    {
     "name": "stderr",
     "output_type": "stream",
     "text": [
      "Metric val_loss improved by 0.012 >= min_delta = 0. New best score: 2.884\n"
     ]
    },
    {
     "name": "stdout",
     "output_type": "stream",
     "text": [
      "Epoch 10: 100%|██████████| 78/78 [00:25<00:00,  3.07it/s, loss=2.7, v_num=25, train_loss_step=2.600, val_loss=2.850, train_loss_epoch=2.770] "
     ]
    },
    {
     "name": "stderr",
     "output_type": "stream",
     "text": [
      "Metric val_loss improved by 0.032 >= min_delta = 0. New best score: 2.852\n"
     ]
    },
    {
     "name": "stdout",
     "output_type": "stream",
     "text": [
      "Epoch 11: 100%|██████████| 78/78 [00:34<00:00,  2.24it/s, loss=2.69, v_num=25, train_loss_step=2.740, val_loss=2.830, train_loss_epoch=2.710]"
     ]
    },
    {
     "name": "stderr",
     "output_type": "stream",
     "text": [
      "Metric val_loss improved by 0.017 >= min_delta = 0. New best score: 2.834\n"
     ]
    },
    {
     "name": "stdout",
     "output_type": "stream",
     "text": [
      "Epoch 12: 100%|██████████| 78/78 [00:25<00:00,  3.05it/s, loss=2.67, v_num=25, train_loss_step=2.590, val_loss=2.810, train_loss_epoch=2.690]"
     ]
    },
    {
     "name": "stderr",
     "output_type": "stream",
     "text": [
      "Metric val_loss improved by 0.021 >= min_delta = 0. New best score: 2.813\n"
     ]
    },
    {
     "name": "stdout",
     "output_type": "stream",
     "text": [
      "Epoch 13: 100%|██████████| 78/78 [00:25<00:00,  3.06it/s, loss=2.62, v_num=25, train_loss_step=2.660, val_loss=2.800, train_loss_epoch=2.670]"
     ]
    },
    {
     "name": "stderr",
     "output_type": "stream",
     "text": [
      "Metric val_loss improved by 0.013 >= min_delta = 0. New best score: 2.799\n"
     ]
    },
    {
     "name": "stdout",
     "output_type": "stream",
     "text": [
      "Epoch 14: 100%|██████████| 78/78 [00:25<00:00,  3.06it/s, loss=2.64, v_num=25, train_loss_step=2.630, val_loss=2.790, train_loss_epoch=2.660]"
     ]
    },
    {
     "name": "stderr",
     "output_type": "stream",
     "text": [
      "Metric val_loss improved by 0.006 >= min_delta = 0. New best score: 2.793\n"
     ]
    },
    {
     "name": "stdout",
     "output_type": "stream",
     "text": [
      "Epoch 16: 100%|██████████| 78/78 [00:25<00:00,  3.05it/s, loss=2.6, v_num=25, train_loss_step=2.650, val_loss=2.780, train_loss_epoch=2.620] "
     ]
    },
    {
     "name": "stderr",
     "output_type": "stream",
     "text": [
      "Metric val_loss improved by 0.017 >= min_delta = 0. New best score: 2.777\n"
     ]
    },
    {
     "name": "stdout",
     "output_type": "stream",
     "text": [
      "Epoch 17: 100%|██████████| 78/78 [00:25<00:00,  3.06it/s, loss=2.59, v_num=25, train_loss_step=2.580, val_loss=2.770, train_loss_epoch=2.610]"
     ]
    },
    {
     "name": "stderr",
     "output_type": "stream",
     "text": [
      "Metric val_loss improved by 0.002 >= min_delta = 0. New best score: 2.775\n"
     ]
    },
    {
     "name": "stdout",
     "output_type": "stream",
     "text": [
      "Epoch 19: 100%|██████████| 78/78 [00:25<00:00,  3.06it/s, loss=2.56, v_num=25, train_loss_step=2.540, val_loss=2.760, train_loss_epoch=2.590]"
     ]
    },
    {
     "name": "stderr",
     "output_type": "stream",
     "text": [
      "Metric val_loss improved by 0.017 >= min_delta = 0. New best score: 2.758\n"
     ]
    },
    {
     "name": "stdout",
     "output_type": "stream",
     "text": [
      "Epoch 20: 100%|██████████| 78/78 [00:25<00:00,  3.06it/s, loss=2.58, v_num=25, train_loss_step=2.560, val_loss=2.750, train_loss_epoch=2.580]"
     ]
    },
    {
     "name": "stderr",
     "output_type": "stream",
     "text": [
      "Metric val_loss improved by 0.009 >= min_delta = 0. New best score: 2.748\n"
     ]
    },
    {
     "name": "stdout",
     "output_type": "stream",
     "text": [
      "Epoch 25: 100%|██████████| 78/78 [00:25<00:00,  3.05it/s, loss=2.52, v_num=25, train_loss_step=2.530, val_loss=2.800, train_loss_epoch=2.530]"
     ]
    },
    {
     "name": "stderr",
     "output_type": "stream",
     "text": [
      "Monitored metric val_loss did not improve in the last 5 records. Best score: 2.748. Signaling Trainer to stop.\n"
     ]
    },
    {
     "name": "stdout",
     "output_type": "stream",
     "text": [
      "Epoch 25: 100%|██████████| 78/78 [00:25<00:00,  3.03it/s, loss=2.52, v_num=25, train_loss_step=2.530, val_loss=2.800, train_loss_epoch=2.530]"
     ]
    },
    {
     "name": "stderr",
     "output_type": "stream",
     "text": [
      "\u001b[32m[I 2024-03-28 22:53:31,864]\u001b[0m Trial 25 pruned. \u001b[0m\n"
     ]
    },
    {
     "name": "stdout",
     "output_type": "stream",
     "text": [
      "\n"
     ]
    },
    {
     "name": "stderr",
     "output_type": "stream",
     "text": [
      "GPU available: True (cuda), used: True\n",
      "TPU available: False, using: 0 TPU cores\n",
      "IPU available: False, using: 0 IPUs\n",
      "HPU available: False, using: 0 HPUs\n",
      "`Trainer(limit_train_batches=1.0)` was configured so 100% of the batches per epoch will be used..\n",
      "`Trainer(limit_val_batches=1.0)` was configured so 100% of the batches will be used..\n",
      "LOCAL_RANK: 0 - CUDA_VISIBLE_DEVICES: [0]\n",
      "\n",
      "  | Name                   | Type                             | Params\n",
      "----------------------------------------------------------------------------\n",
      "0 | loss                   | NegativeBinomialDistributionLoss | 0     \n",
      "1 | logging_metrics        | ModuleList                       | 0     \n",
      "2 | embeddings             | MultiEmbedding                   | 787   \n",
      "3 | rnn                    | LSTM                             | 19.8 M\n",
      "4 | distribution_projector | Linear                           | 1.2 K \n",
      "----------------------------------------------------------------------------\n",
      "19.8 M    Trainable params\n",
      "0         Non-trainable params\n",
      "19.8 M    Total params\n",
      "79.357    Total estimated model params size (MB)\n"
     ]
    },
    {
     "name": "stdout",
     "output_type": "stream",
     "text": [
      "Epoch 0: 100%|██████████| 111/111 [00:26<00:00,  4.23it/s, loss=4.01, v_num=26, train_loss_step=3.900, val_loss=4.090]"
     ]
    },
    {
     "name": "stderr",
     "output_type": "stream",
     "text": [
      "Metric val_loss improved. New best score: 4.092\n"
     ]
    },
    {
     "name": "stdout",
     "output_type": "stream",
     "text": [
      "Epoch 3: 100%|██████████| 111/111 [00:26<00:00,  4.24it/s, loss=3.72, v_num=26, train_loss_step=3.730, val_loss=3.750, train_loss_epoch=3.990]"
     ]
    },
    {
     "name": "stderr",
     "output_type": "stream",
     "text": [
      "Metric val_loss improved by 0.344 >= min_delta = 0. New best score: 3.747\n"
     ]
    },
    {
     "name": "stdout",
     "output_type": "stream",
     "text": [
      "Epoch 4: 100%|██████████| 111/111 [00:26<00:00,  4.23it/s, loss=3.38, v_num=26, train_loss_step=3.110, val_loss=3.350, train_loss_epoch=3.860]"
     ]
    },
    {
     "name": "stderr",
     "output_type": "stream",
     "text": [
      "Metric val_loss improved by 0.395 >= min_delta = 0. New best score: 3.353\n"
     ]
    },
    {
     "name": "stdout",
     "output_type": "stream",
     "text": [
      "Epoch 5: 100%|██████████| 111/111 [00:26<00:00,  4.22it/s, loss=2.81, v_num=26, train_loss_step=2.760, val_loss=2.840, train_loss_epoch=3.520]"
     ]
    },
    {
     "name": "stderr",
     "output_type": "stream",
     "text": [
      "Metric val_loss improved by 0.513 >= min_delta = 0. New best score: 2.840\n"
     ]
    },
    {
     "name": "stdout",
     "output_type": "stream",
     "text": [
      "Epoch 7: 100%|██████████| 111/111 [00:26<00:00,  4.23it/s, loss=2.62, v_num=26, train_loss_step=2.570, val_loss=2.760, train_loss_epoch=2.740]"
     ]
    },
    {
     "name": "stderr",
     "output_type": "stream",
     "text": [
      "Metric val_loss improved by 0.081 >= min_delta = 0. New best score: 2.758\n"
     ]
    },
    {
     "name": "stdout",
     "output_type": "stream",
     "text": [
      "Epoch 9: 100%|██████████| 111/111 [00:26<00:00,  4.23it/s, loss=2.58, v_num=26, train_loss_step=2.600, val_loss=2.730, train_loss_epoch=2.630]"
     ]
    },
    {
     "name": "stderr",
     "output_type": "stream",
     "text": [
      "Metric val_loss improved by 0.029 >= min_delta = 0. New best score: 2.729\n"
     ]
    },
    {
     "name": "stdout",
     "output_type": "stream",
     "text": [
      "Epoch 10: 100%|██████████| 111/111 [00:26<00:00,  4.24it/s, loss=2.56, v_num=26, train_loss_step=2.580, val_loss=2.730, train_loss_epoch=2.590]"
     ]
    },
    {
     "name": "stderr",
     "output_type": "stream",
     "text": [
      "Metric val_loss improved by 0.004 >= min_delta = 0. New best score: 2.726\n"
     ]
    },
    {
     "name": "stdout",
     "output_type": "stream",
     "text": [
      "Epoch 11: 100%|██████████| 111/111 [00:26<00:00,  4.23it/s, loss=2.52, v_num=26, train_loss_step=2.480, val_loss=2.710, train_loss_epoch=2.550]"
     ]
    },
    {
     "name": "stderr",
     "output_type": "stream",
     "text": [
      "Metric val_loss improved by 0.017 >= min_delta = 0. New best score: 2.709\n"
     ]
    },
    {
     "name": "stdout",
     "output_type": "stream",
     "text": [
      "Epoch 16: 100%|██████████| 111/111 [00:26<00:00,  4.22it/s, loss=2.49, v_num=26, train_loss_step=2.480, val_loss=2.830, train_loss_epoch=2.490]"
     ]
    },
    {
     "name": "stderr",
     "output_type": "stream",
     "text": [
      "Monitored metric val_loss did not improve in the last 5 records. Best score: 2.709. Signaling Trainer to stop.\n"
     ]
    },
    {
     "name": "stdout",
     "output_type": "stream",
     "text": [
      "Epoch 16: 100%|██████████| 111/111 [00:26<00:00,  4.17it/s, loss=2.49, v_num=26, train_loss_step=2.480, val_loss=2.830, train_loss_epoch=2.480]"
     ]
    },
    {
     "name": "stderr",
     "output_type": "stream",
     "text": [
      "\u001b[32m[I 2024-03-28 23:01:20,168]\u001b[0m Trial 26 pruned. \u001b[0m\n"
     ]
    },
    {
     "name": "stdout",
     "output_type": "stream",
     "text": [
      "\n"
     ]
    },
    {
     "name": "stderr",
     "output_type": "stream",
     "text": [
      "GPU available: True (cuda), used: True\n",
      "TPU available: False, using: 0 TPU cores\n",
      "IPU available: False, using: 0 IPUs\n",
      "HPU available: False, using: 0 HPUs\n",
      "`Trainer(limit_train_batches=1.0)` was configured so 100% of the batches per epoch will be used..\n",
      "`Trainer(limit_val_batches=1.0)` was configured so 100% of the batches will be used..\n",
      "LOCAL_RANK: 0 - CUDA_VISIBLE_DEVICES: [0]\n",
      "\n",
      "  | Name                   | Type                             | Params\n",
      "----------------------------------------------------------------------------\n",
      "0 | loss                   | NegativeBinomialDistributionLoss | 0     \n",
      "1 | logging_metrics        | ModuleList                       | 0     \n",
      "2 | embeddings             | MultiEmbedding                   | 787   \n",
      "3 | rnn                    | LSTM                             | 3.7 M \n",
      "4 | distribution_projector | Linear                           | 622   \n",
      "----------------------------------------------------------------------------\n",
      "3.7 M     Trainable params\n",
      "0         Non-trainable params\n",
      "3.7 M     Total params\n",
      "14.816    Total estimated model params size (MB)\n"
     ]
    },
    {
     "name": "stdout",
     "output_type": "stream",
     "text": [
      "Epoch 0: 100%|██████████| 234/234 [00:27<00:00,  8.59it/s, loss=3.87, v_num=27, train_loss_step=3.700, val_loss=3.930]"
     ]
    },
    {
     "name": "stderr",
     "output_type": "stream",
     "text": [
      "Metric val_loss improved. New best score: 3.934\n"
     ]
    },
    {
     "name": "stdout",
     "output_type": "stream",
     "text": [
      "Epoch 1: 100%|██████████| 234/234 [00:26<00:00,  8.70it/s, loss=3.09, v_num=27, train_loss_step=3.190, val_loss=3.250, train_loss_epoch=11.00]"
     ]
    },
    {
     "name": "stderr",
     "output_type": "stream",
     "text": [
      "Metric val_loss improved by 0.682 >= min_delta = 0. New best score: 3.252\n"
     ]
    },
    {
     "name": "stdout",
     "output_type": "stream",
     "text": [
      "Epoch 2: 100%|██████████| 234/234 [00:26<00:00,  8.75it/s, loss=2.91, v_num=27, train_loss_step=3.130, val_loss=3.090, train_loss_epoch=3.420]"
     ]
    },
    {
     "name": "stderr",
     "output_type": "stream",
     "text": [
      "Metric val_loss improved by 0.165 >= min_delta = 0. New best score: 3.087\n"
     ]
    },
    {
     "name": "stdout",
     "output_type": "stream",
     "text": [
      "Epoch 3: 100%|██████████| 234/234 [00:26<00:00,  8.73it/s, loss=2.77, v_num=27, train_loss_step=2.790, val_loss=2.920, train_loss_epoch=2.980]"
     ]
    },
    {
     "name": "stderr",
     "output_type": "stream",
     "text": [
      "Metric val_loss improved by 0.165 >= min_delta = 0. New best score: 2.922\n"
     ]
    },
    {
     "name": "stdout",
     "output_type": "stream",
     "text": [
      "Epoch 4: 100%|██████████| 234/234 [00:37<00:00,  6.30it/s, loss=2.71, v_num=27, train_loss_step=2.600, val_loss=2.910, train_loss_epoch=2.840]"
     ]
    },
    {
     "name": "stderr",
     "output_type": "stream",
     "text": [
      "Metric val_loss improved by 0.015 >= min_delta = 0. New best score: 2.908\n"
     ]
    },
    {
     "name": "stdout",
     "output_type": "stream",
     "text": [
      "Epoch 5: 100%|██████████| 234/234 [00:26<00:00,  8.70it/s, loss=2.71, v_num=27, train_loss_step=2.680, val_loss=2.800, train_loss_epoch=2.750]"
     ]
    },
    {
     "name": "stderr",
     "output_type": "stream",
     "text": [
      "Metric val_loss improved by 0.103 >= min_delta = 0. New best score: 2.804\n"
     ]
    },
    {
     "name": "stdout",
     "output_type": "stream",
     "text": [
      "Epoch 6: 100%|██████████| 234/234 [00:27<00:00,  8.63it/s, loss=2.67, v_num=27, train_loss_step=2.680, val_loss=2.800, train_loss_epoch=2.700]"
     ]
    },
    {
     "name": "stderr",
     "output_type": "stream",
     "text": [
      "Metric val_loss improved by 0.004 >= min_delta = 0. New best score: 2.800\n"
     ]
    },
    {
     "name": "stdout",
     "output_type": "stream",
     "text": [
      "Epoch 7: 100%|██████████| 234/234 [00:26<00:00,  8.75it/s, loss=2.62, v_num=27, train_loss_step=2.610, val_loss=2.780, train_loss_epoch=2.660]"
     ]
    },
    {
     "name": "stderr",
     "output_type": "stream",
     "text": [
      "Metric val_loss improved by 0.020 >= min_delta = 0. New best score: 2.779\n"
     ]
    },
    {
     "name": "stdout",
     "output_type": "stream",
     "text": [
      "Epoch 8: 100%|██████████| 234/234 [00:26<00:00,  8.69it/s, loss=2.59, v_num=27, train_loss_step=2.780, val_loss=2.750, train_loss_epoch=2.630]"
     ]
    },
    {
     "name": "stderr",
     "output_type": "stream",
     "text": [
      "Metric val_loss improved by 0.028 >= min_delta = 0. New best score: 2.751\n"
     ]
    },
    {
     "name": "stdout",
     "output_type": "stream",
     "text": [
      "Epoch 11: 100%|██████████| 234/234 [00:26<00:00,  8.76it/s, loss=2.51, v_num=27, train_loss_step=2.500, val_loss=2.740, train_loss_epoch=2.560]"
     ]
    },
    {
     "name": "stderr",
     "output_type": "stream",
     "text": [
      "Metric val_loss improved by 0.015 >= min_delta = 0. New best score: 2.737\n"
     ]
    },
    {
     "name": "stdout",
     "output_type": "stream",
     "text": [
      "Epoch 16: 100%|██████████| 234/234 [00:26<00:00,  8.77it/s, loss=2.49, v_num=27, train_loss_step=2.450, val_loss=2.750, train_loss_epoch=2.490]"
     ]
    },
    {
     "name": "stderr",
     "output_type": "stream",
     "text": [
      "Monitored metric val_loss did not improve in the last 5 records. Best score: 2.737. Signaling Trainer to stop.\n"
     ]
    },
    {
     "name": "stdout",
     "output_type": "stream",
     "text": [
      "Epoch 16: 100%|██████████| 234/234 [00:26<00:00,  8.74it/s, loss=2.49, v_num=27, train_loss_step=2.450, val_loss=2.750, train_loss_epoch=2.480]"
     ]
    },
    {
     "name": "stderr",
     "output_type": "stream",
     "text": [
      "\u001b[32m[I 2024-03-28 23:09:15,339]\u001b[0m Trial 27 finished with value: 32.41511154174805 and parameters: {'neu': 310, 'lay': 5, 'bat': 320, 'lr': 0.004258031507202763, 'dropout': 0.6000000000000001}. Best is trial 18 with value: 31.875782012939453.\u001b[0m\n"
     ]
    },
    {
     "name": "stdout",
     "output_type": "stream",
     "text": [
      "\n"
     ]
    },
    {
     "name": "stderr",
     "output_type": "stream",
     "text": [
      "GPU available: True (cuda), used: True\n",
      "TPU available: False, using: 0 TPU cores\n",
      "IPU available: False, using: 0 IPUs\n",
      "HPU available: False, using: 0 HPUs\n",
      "`Trainer(limit_train_batches=1.0)` was configured so 100% of the batches per epoch will be used..\n",
      "`Trainer(limit_val_batches=1.0)` was configured so 100% of the batches will be used..\n",
      "LOCAL_RANK: 0 - CUDA_VISIBLE_DEVICES: [0]\n",
      "\n",
      "  | Name                   | Type                             | Params\n",
      "----------------------------------------------------------------------------\n",
      "0 | loss                   | NegativeBinomialDistributionLoss | 0     \n",
      "1 | logging_metrics        | ModuleList                       | 0     \n",
      "2 | embeddings             | MultiEmbedding                   | 787   \n",
      "3 | rnn                    | LSTM                             | 10.6 M\n",
      "4 | distribution_projector | Linear                           | 1.4 K \n",
      "----------------------------------------------------------------------------\n",
      "10.6 M    Trainable params\n",
      "0         Non-trainable params\n",
      "10.6 M    Total params\n",
      "42.518    Total estimated model params size (MB)\n"
     ]
    },
    {
     "name": "stdout",
     "output_type": "stream",
     "text": [
      "Epoch 0: 100%|██████████| 86/86 [00:25<00:00,  3.43it/s, loss=4.21, v_num=28, train_loss_step=4.140, val_loss=4.100]"
     ]
    },
    {
     "name": "stderr",
     "output_type": "stream",
     "text": [
      "Metric val_loss improved. New best score: 4.097\n"
     ]
    },
    {
     "name": "stdout",
     "output_type": "stream",
     "text": [
      "Epoch 1: 100%|██████████| 86/86 [00:25<00:00,  3.42it/s, loss=3.46, v_num=28, train_loss_step=3.350, val_loss=3.360, train_loss_epoch=12.50]"
     ]
    },
    {
     "name": "stderr",
     "output_type": "stream",
     "text": [
      "Metric val_loss improved by 0.736 >= min_delta = 0. New best score: 3.360\n"
     ]
    },
    {
     "name": "stdout",
     "output_type": "stream",
     "text": [
      "Epoch 2: 100%|██████████| 86/86 [00:25<00:00,  3.41it/s, loss=2.89, v_num=28, train_loss_step=2.870, val_loss=3.000, train_loss_epoch=3.690]"
     ]
    },
    {
     "name": "stderr",
     "output_type": "stream",
     "text": [
      "Metric val_loss improved by 0.363 >= min_delta = 0. New best score: 2.997\n"
     ]
    },
    {
     "name": "stdout",
     "output_type": "stream",
     "text": [
      "Epoch 3: 100%|██████████| 86/86 [00:25<00:00,  3.40it/s, loss=2.8, v_num=28, train_loss_step=2.830, val_loss=2.860, train_loss_epoch=3.010] "
     ]
    },
    {
     "name": "stderr",
     "output_type": "stream",
     "text": [
      "Metric val_loss improved by 0.140 >= min_delta = 0. New best score: 2.857\n"
     ]
    },
    {
     "name": "stdout",
     "output_type": "stream",
     "text": [
      "Epoch 5: 100%|██████████| 86/86 [00:25<00:00,  3.40it/s, loss=2.68, v_num=28, train_loss_step=2.690, val_loss=2.850, train_loss_epoch=2.740]"
     ]
    },
    {
     "name": "stderr",
     "output_type": "stream",
     "text": [
      "Metric val_loss improved by 0.006 >= min_delta = 0. New best score: 2.851\n"
     ]
    },
    {
     "name": "stdout",
     "output_type": "stream",
     "text": [
      "Epoch 6: 100%|██████████| 86/86 [00:36<00:00,  2.39it/s, loss=2.68, v_num=28, train_loss_step=2.640, val_loss=2.810, train_loss_epoch=2.710]"
     ]
    },
    {
     "name": "stderr",
     "output_type": "stream",
     "text": [
      "Metric val_loss improved by 0.044 >= min_delta = 0. New best score: 2.807\n"
     ]
    },
    {
     "name": "stdout",
     "output_type": "stream",
     "text": [
      "Epoch 7: 100%|██████████| 86/86 [00:25<00:00,  3.42it/s, loss=2.63, v_num=28, train_loss_step=2.640, val_loss=2.760, train_loss_epoch=2.680]"
     ]
    },
    {
     "name": "stderr",
     "output_type": "stream",
     "text": [
      "Metric val_loss improved by 0.044 >= min_delta = 0. New best score: 2.763\n"
     ]
    },
    {
     "name": "stdout",
     "output_type": "stream",
     "text": [
      "Epoch 8: 100%|██████████| 86/86 [00:25<00:00,  3.43it/s, loss=2.63, v_num=28, train_loss_step=2.580, val_loss=2.710, train_loss_epoch=2.650]"
     ]
    },
    {
     "name": "stderr",
     "output_type": "stream",
     "text": [
      "Metric val_loss improved by 0.051 >= min_delta = 0. New best score: 2.713\n"
     ]
    },
    {
     "name": "stdout",
     "output_type": "stream",
     "text": [
      "Epoch 12: 100%|██████████| 86/86 [00:25<00:00,  3.40it/s, loss=2.57, v_num=28, train_loss_step=2.620, val_loss=2.710, train_loss_epoch=2.580]"
     ]
    },
    {
     "name": "stderr",
     "output_type": "stream",
     "text": [
      "Metric val_loss improved by 0.005 >= min_delta = 0. New best score: 2.708\n"
     ]
    },
    {
     "name": "stdout",
     "output_type": "stream",
     "text": [
      "Epoch 14: 100%|██████████| 86/86 [00:25<00:00,  3.42it/s, loss=2.54, v_num=28, train_loss_step=2.560, val_loss=2.700, train_loss_epoch=2.560]"
     ]
    },
    {
     "name": "stderr",
     "output_type": "stream",
     "text": [
      "Metric val_loss improved by 0.013 >= min_delta = 0. New best score: 2.695\n"
     ]
    },
    {
     "name": "stdout",
     "output_type": "stream",
     "text": [
      "Epoch 16: 100%|██████████| 86/86 [00:35<00:00,  2.44it/s, loss=2.51, v_num=28, train_loss_step=2.480, val_loss=2.680, train_loss_epoch=2.530]"
     ]
    },
    {
     "name": "stderr",
     "output_type": "stream",
     "text": [
      "Metric val_loss improved by 0.012 >= min_delta = 0. New best score: 2.683\n"
     ]
    },
    {
     "name": "stdout",
     "output_type": "stream",
     "text": [
      "Epoch 21: 100%|██████████| 86/86 [00:25<00:00,  3.40it/s, loss=2.49, v_num=28, train_loss_step=2.460, val_loss=2.720, train_loss_epoch=2.490]"
     ]
    },
    {
     "name": "stderr",
     "output_type": "stream",
     "text": [
      "Monitored metric val_loss did not improve in the last 5 records. Best score: 2.683. Signaling Trainer to stop.\n"
     ]
    },
    {
     "name": "stdout",
     "output_type": "stream",
     "text": [
      "Epoch 21: 100%|██████████| 86/86 [00:25<00:00,  3.38it/s, loss=2.49, v_num=28, train_loss_step=2.460, val_loss=2.720, train_loss_epoch=2.490]\n"
     ]
    },
    {
     "name": "stderr",
     "output_type": "stream",
     "text": [
      "\u001b[32m[I 2024-03-28 23:19:04,576]\u001b[0m Trial 28 finished with value: 32.49507522583008 and parameters: {'neu': 710, 'lay': 3, 'bat': 864, 'lr': 0.006401623998361705, 'dropout': 0.8}. Best is trial 18 with value: 31.875782012939453.\u001b[0m\n",
      "GPU available: True (cuda), used: True\n",
      "TPU available: False, using: 0 TPU cores\n",
      "IPU available: False, using: 0 IPUs\n",
      "HPU available: False, using: 0 HPUs\n",
      "`Trainer(limit_train_batches=1.0)` was configured so 100% of the batches per epoch will be used..\n",
      "`Trainer(limit_val_batches=1.0)` was configured so 100% of the batches will be used..\n",
      "LOCAL_RANK: 0 - CUDA_VISIBLE_DEVICES: [0]\n",
      "\n",
      "  | Name                   | Type                             | Params\n",
      "----------------------------------------------------------------------------\n",
      "0 | loss                   | NegativeBinomialDistributionLoss | 0     \n",
      "1 | logging_metrics        | ModuleList                       | 0     \n",
      "2 | embeddings             | MultiEmbedding                   | 787   \n",
      "3 | rnn                    | LSTM                             | 9.8 M \n",
      "4 | distribution_projector | Linear                           | 1.0 K \n",
      "----------------------------------------------------------------------------\n",
      "9.8 M     Trainable params\n",
      "0         Non-trainable params\n",
      "9.8 M     Total params\n",
      "39.061    Total estimated model params size (MB)\n"
     ]
    },
    {
     "name": "stdout",
     "output_type": "stream",
     "text": [
      "Epoch 0: 100%|██████████| 98/98 [00:25<00:00,  3.84it/s, loss=4.16, v_num=29, train_loss_step=3.940, val_loss=3.990]"
     ]
    },
    {
     "name": "stderr",
     "output_type": "stream",
     "text": [
      "Metric val_loss improved. New best score: 3.985\n"
     ]
    },
    {
     "name": "stdout",
     "output_type": "stream",
     "text": [
      "Epoch 1: 100%|██████████| 98/98 [00:25<00:00,  3.83it/s, loss=3.77, v_num=29, train_loss_step=3.660, val_loss=3.790, train_loss_epoch=12.00]"
     ]
    },
    {
     "name": "stderr",
     "output_type": "stream",
     "text": [
      "Metric val_loss improved by 0.196 >= min_delta = 0. New best score: 3.789\n"
     ]
    },
    {
     "name": "stdout",
     "output_type": "stream",
     "text": [
      "Epoch 2: 100%|██████████| 98/98 [00:25<00:00,  3.84it/s, loss=3.58, v_num=29, train_loss_step=3.430, val_loss=3.560, train_loss_epoch=3.860]"
     ]
    },
    {
     "name": "stderr",
     "output_type": "stream",
     "text": [
      "Metric val_loss improved by 0.233 >= min_delta = 0. New best score: 3.556\n"
     ]
    },
    {
     "name": "stdout",
     "output_type": "stream",
     "text": [
      "Epoch 3: 100%|██████████| 98/98 [00:25<00:00,  3.82it/s, loss=3.04, v_num=29, train_loss_step=3.000, val_loss=3.060, train_loss_epoch=3.640]"
     ]
    },
    {
     "name": "stderr",
     "output_type": "stream",
     "text": [
      "Metric val_loss improved by 0.492 >= min_delta = 0. New best score: 3.064\n"
     ]
    },
    {
     "name": "stdout",
     "output_type": "stream",
     "text": [
      "Epoch 4: 100%|██████████| 98/98 [00:35<00:00,  2.73it/s, loss=2.83, v_num=29, train_loss_step=2.730, val_loss=2.900, train_loss_epoch=3.150]"
     ]
    },
    {
     "name": "stderr",
     "output_type": "stream",
     "text": [
      "Metric val_loss improved by 0.167 >= min_delta = 0. New best score: 2.896\n"
     ]
    },
    {
     "name": "stdout",
     "output_type": "stream",
     "text": [
      "Epoch 5: 100%|██████████| 98/98 [00:25<00:00,  3.83it/s, loss=2.74, v_num=29, train_loss_step=2.830, val_loss=2.780, train_loss_epoch=2.870]"
     ]
    },
    {
     "name": "stderr",
     "output_type": "stream",
     "text": [
      "Metric val_loss improved by 0.114 >= min_delta = 0. New best score: 2.782\n"
     ]
    },
    {
     "name": "stdout",
     "output_type": "stream",
     "text": [
      "Epoch 6: 100%|██████████| 98/98 [00:25<00:00,  3.84it/s, loss=2.69, v_num=29, train_loss_step=2.750, val_loss=2.750, train_loss_epoch=2.770]"
     ]
    },
    {
     "name": "stderr",
     "output_type": "stream",
     "text": [
      "Metric val_loss improved by 0.033 >= min_delta = 0. New best score: 2.750\n"
     ]
    },
    {
     "name": "stdout",
     "output_type": "stream",
     "text": [
      "Epoch 9: 100%|██████████| 98/98 [00:25<00:00,  3.81it/s, loss=2.63, v_num=29, train_loss_step=2.660, val_loss=2.730, train_loss_epoch=2.650]"
     ]
    },
    {
     "name": "stderr",
     "output_type": "stream",
     "text": [
      "Metric val_loss improved by 0.021 >= min_delta = 0. New best score: 2.729\n"
     ]
    },
    {
     "name": "stdout",
     "output_type": "stream",
     "text": [
      "Epoch 14: 100%|██████████| 98/98 [00:35<00:00,  2.76it/s, loss=2.6, v_num=29, train_loss_step=2.580, val_loss=2.750, train_loss_epoch=2.590] "
     ]
    },
    {
     "name": "stderr",
     "output_type": "stream",
     "text": [
      "Monitored metric val_loss did not improve in the last 5 records. Best score: 2.729. Signaling Trainer to stop.\n"
     ]
    },
    {
     "name": "stdout",
     "output_type": "stream",
     "text": [
      "Epoch 14: 100%|██████████| 98/98 [00:35<00:00,  2.74it/s, loss=2.6, v_num=29, train_loss_step=2.580, val_loss=2.750, train_loss_epoch=2.570]"
     ]
    },
    {
     "name": "stderr",
     "output_type": "stream",
     "text": [
      "\u001b[32m[I 2024-03-28 23:25:57,169]\u001b[0m Trial 29 pruned. \u001b[0m\n"
     ]
    },
    {
     "name": "stdout",
     "output_type": "stream",
     "text": [
      "\n",
      "Study statistics: \n",
      "  Number of finished trials:  30\n",
      "  Number of pruned trials:  8\n",
      "  Number of complete trials:  22\n",
      "Best trial:\n",
      "  Value:  31.875782012939453\n",
      "  Params: \n",
      "    neu: 710\n",
      "    lay: 3\n",
      "    bat: 576\n",
      "    lr: 0.0048235795468910695\n",
      "    dropout: 0.6000000000000001\n"
     ]
    }
   ],
   "source": [
    "\"\"\"\n",
    "Full Training Routine\n",
    "with hyperparmeter grid search\n",
    "\n",
    "Load data into TimeSeriesDataSet object\n",
    "\n",
    "for fast development run\n",
    "uncomment fast_dev_run = fdv_steps\n",
    "\n",
    "\"\"\"\n",
    "\n",
    "# early_stop_callback = EarlyStopping(monitor=\"val_loss\", min_delta=1e-4, patience=p, verbose=False, mode=\"min\")\n",
    "lr_logger = LearningRateMonitor()\n",
    "\n",
    "# param_comb_cnt=-1\n",
    "#for neu,lay,bat,lr,enc_len,pred_len,drop,cov_pair,num_ep in product(*[x for x in hparams_grid.values()]):\n",
    "\n",
    "\n",
    "file_path = \"trial_parameters.json\"\n",
    "# Check if the file exists before attempting to delete it\n",
    "if os.path.exists(file_path):\n",
    "    # Delete the file\n",
    "    os.remove(file_path)\n",
    "\n",
    "import json\n",
    "def save_trial_parameters(study, trial):\n",
    "    trial_params = {'trial_num':trial.number ,'trial_params' :trial.params}\n",
    "    with open(\"trial_parameters.json\", \"a\") as f:\n",
    "        json.dump(trial_params, f)\n",
    "        f.write('\\n')\n",
    "\n",
    "\n",
    "def objective(trial): #optuna objective function to find best hyperparameters\n",
    "# minimize the average validation loss\n",
    "\n",
    "  # optuna tries to find best combination given this hyperparameter searchspace\n",
    "\n",
    "  # first start broad\n",
    "  neu = trial.suggest_int(name=\"neu\",low=10,high=1000,step=100,log=False) # number of neurons in lstm cell\n",
    "  lay = trial.suggest_int(name=\"lay\",low=1,high=10,step=2,log=False) # number of lstm layers\n",
    "  bat = trial.suggest_int(name=\"bat\",low=32,high=1024,step=32,log=False) # batch size\n",
    "  lr = trial.suggest_float(name=\"lr\",low=0.00001,high=0.1,log=True) #learning rate, log does not have step\n",
    "  drop = trial.suggest_float(name=\"dropout\",low=0,high=0.8,step=0.2,log=False) # dont use some of the cells to distribute learning across the cells\n",
    "\n",
    "  num_cols_list = numeric_cols\n",
    "  cat_dict = {\"_hour_of_day\": NaNLabelEncoder(add_nan=True).fit(df._hour_of_day),\n",
    "          \"_day_of_week\": NaNLabelEncoder(add_nan=True).fit(df._day_of_week), \"_day_of_month\" : NaNLabelEncoder(add_nan=True).fit(df._day_of_month), \"_day_of_year\" : NaNLabelEncoder(add_nan=True).fit(df._day_of_year),\n",
    "              \"_week_of_year\": NaNLabelEncoder(add_nan=True).fit(df._week_of_year), \"_month_of_year\": NaNLabelEncoder(add_nan=True).fit(df._month_of_year) ,\"_year\": NaNLabelEncoder(add_nan=True).fit(df._year)}\n",
    "  cat_list = [\"_hour_of_day\",\"_day_of_week\",\"_day_of_month\",\"_day_of_year\",\"_week_of_year\",\"_month_of_year\",\"_year\"]\n",
    "  embed_size_dict = {'_hour_of_day':(hour_of_day_nunique+1,5),'_day_of_week':(day_of_week_nunique+1,5),'_day_of_month':(day_of_month_nunique+1,5), '_day_of_year':(day_of_year_nunique+1,8), '_week_of_year':(week_of_year_nunique+1,3), '_month_of_year':(month_of_year_nunique+1,3),'_year':(year_nunique+1,1)}\n",
    "  # ^ converting hour into a 5 dimensional vector, etc etc, day of year = number of unique values in this column + 1, same for week of year, month of year and year\n",
    "\n",
    "  train_dataset = TimeSeriesDataSet(\n",
    "      df[(df['time_idx'].isin(train_time_idx))],\n",
    "      time_idx=\"time_idx\",\n",
    "      target=Target,\n",
    "      categorical_encoders=cat_dict,\n",
    "      group_ids=[\"group\"],\n",
    "      min_encoder_length=encoder_len,\n",
    "      max_encoder_length=encoder_len,\n",
    "      min_prediction_length=pred_len,\n",
    "      max_prediction_length=pred_len,\n",
    "      time_varying_unknown_reals=[Target],\n",
    "      time_varying_known_reals=num_cols_list,\n",
    "      time_varying_known_categoricals=cat_list,\n",
    "      add_relative_time_idx=False,\n",
    "      randomize_length=False,\n",
    "      scalers={},\n",
    "      target_normalizer=TorchNormalizer(method=\"identity\",center=False,transformation=None)\n",
    "    )\n",
    "\n",
    "  val_dataset = TimeSeriesDataSet.from_dataset(train_dataset,df[(df['time_idx'].isin(val_time_idx))], stop_randomization=True, predict=False)\n",
    "  # test_dataset = TimeSeriesDataSet.from_dataset(train_dataset,df[df['time_idx'].isin(test_time_idx)], stop_randomization=True)\n",
    "\n",
    "  train_dataloader = train_dataset.to_dataloader(train=True, batch_size=bat)\n",
    "  val_dataloader = val_dataset.to_dataloader(train=False, batch_size=bat)\n",
    "  # test_dataloader = test_dataset.to_dataloader(train=False, batch_size=bat)\n",
    "\n",
    "  \n",
    "  # trial.set_user_attr(\"num_ep\", num_ep)\n",
    "\n",
    "  early_stop_callback = EarlyStopping(\n",
    "    monitor='val_loss',\n",
    "    min_delta=0,\n",
    "    patience=5,\n",
    "    verbose=True,\n",
    "    mode='min'\n",
    "  )\n",
    "\n",
    "  \n",
    "  \"\"\"\n",
    "  Machine Learning predictions START\n",
    "  1) DeepAR\n",
    "\n",
    "  \"\"\"\n",
    "  trainer = pl.Trainer(\n",
    "      max_epochs=num_epochs,\n",
    "      accelerator='gpu',\n",
    "      devices=[0],\n",
    "      gradient_clip_val=0.1,\n",
    "      limit_train_batches=1.0,\n",
    "      limit_val_batches=1.0,\n",
    "      # fast_dev_run=fdv_steps,\n",
    "      logger=True,\n",
    "      callbacks=[lr_logger, early_stop_callback],    #, early_stop_callback]\n",
    "      default_root_dir=logs_directory,\n",
    "  )\n",
    "\n",
    "\n",
    "  #print(f\"training routing:\\n \\n {trainer}\")\n",
    "  deepar = DeepAR.from_dataset(\n",
    "      train_dataset,\n",
    "      learning_rate=lr,\n",
    "      hidden_size=neu,\n",
    "      rnn_layers=lay,\n",
    "      dropout=drop,\n",
    "      loss=Loss,\n",
    "      log_interval=20,\n",
    "      log_val_interval=6,\n",
    "      log_gradient_flow=False,\n",
    "      embedding_sizes=embed_size_dict\n",
    "      # reduce_on_plateau_patience=3,\n",
    "  )\n",
    "\n",
    "  #print(f\"Number of parameters in network: {deepar.size()/1e3:.1f}k\")\n",
    "  # print(f\"Model :\\n \\n {deepar}\")\n",
    "  torch.set_num_threads(10)\n",
    "  trainer.fit(\n",
    "      deepar,\n",
    "      train_dataloaders=train_dataloader,\n",
    "      val_dataloaders=val_dataloader,\n",
    "  )\n",
    "\n",
    "  val_wmape = trainer.callback_metrics['val_WMAPE'].item()\n",
    "  # val_wmape = trainer.callback_metrics['val_WMAPE'].item()\n",
    "  trial.report(val_wmape, num_epochs)\n",
    "  # trial.report(val_wmape, num_ep)\n",
    "\n",
    "  # Handle pruning based on the intermediate value.\n",
    "  if trial.should_prune():\n",
    "      raise optuna.exceptions.TrialPruned()\n",
    "\n",
    "  return val_wmape #optuna is trying to minimise this <---\n",
    "\n",
    "\n",
    "######### optuna results #####################\n",
    "if __name__ == \"__main__\":\n",
    "\n",
    "  study = optuna.create_study(direction=\"minimize\")\n",
    "  study.optimize(objective, n_trials=num_trials,callbacks=[save_trial_parameters]) # can specify the number of trials to a number less than 960 for example, eg can set n_trials = 100\n",
    "\n",
    "  pruned_trials = study.get_trials(deepcopy=False, states=[TrialState.PRUNED])\n",
    "  complete_trials = study.get_trials(deepcopy=False, states=[TrialState.COMPLETE])\n",
    "\n",
    "  print(\"Study statistics: \")\n",
    "  print(\"  Number of finished trials: \", len(study.trials))\n",
    "  print(\"  Number of pruned trials: \", len(pruned_trials))\n",
    "  print(\"  Number of complete trials: \", len(complete_trials))\n",
    "\n",
    "  print(\"Best trial:\")\n",
    "  trial = study.best_trial\n",
    "  # best_num_ep = study.trials[trial.number].user_attrs['num_ep']\n",
    "\n",
    "  print(\"  Value: \", trial.value)\n",
    "\n",
    "  print(\"  Params: \")\n",
    "  for key, value in trial.params.items():\n",
    "      print(\"    {}: {}\".format(key, value))\n",
    "########## optuna results #####################"
   ]
  },
  {
   "cell_type": "code",
   "execution_count": 17,
   "metadata": {},
   "outputs": [
    {
     "name": "stdout",
     "output_type": "stream",
     "text": [
      "Study statistics: \n",
      "  Number of finished trials:  30\n",
      "  Number of pruned trials:  8\n",
      "  Number of complete trials:  22\n",
      "  Best trial: \n",
      "  Value:  31.875782012939453\n",
      "  Params: \n",
      "    neu: 710\n",
      "    lay: 3\n",
      "    bat: 576\n",
      "    lr: 0.0048235795468910695\n",
      "    dropout: 0.6000000000000001\n"
     ]
    }
   ],
   "source": [
    "print(\"Study statistics: \")\n",
    "print(\"  Number of finished trials: \", len(study.trials))\n",
    "print(\"  Number of pruned trials: \", len(pruned_trials))\n",
    "print(\"  Number of complete trials: \", len(complete_trials))\n",
    "\n",
    "print(\"  Best trial: \")\n",
    "print(\"  Value: \", trial.value)\n",
    "\n",
    "print(\"  Params: \")\n",
    "for key, value in trial.params.items():\n",
    "    print(\"    {}: {}\".format(key, value))\n",
    "\n",
    "# print(\"Best number of epochs: \", best_num_ep)"
   ]
  },
  {
   "cell_type": "code",
   "execution_count": 18,
   "metadata": {},
   "outputs": [
    {
     "data": {
      "application/vnd.plotly.v1+json": {
       "config": {
        "plotlyServerURL": "https://plot.ly"
       },
       "data": [
        {
         "dimensions": [
          {
           "label": "Objective Value",
           "range": [
            31.875782012939453,
            59.702266693115234
           ],
           "values": [
            59.702266693115234,
            47.52569580078125,
            33.46284484863281,
            49.83232498168945,
            33.8636589050293,
            39.43895721435547,
            34.07133102416992,
            33.40884780883789,
            32.86659240722656,
            32.79008865356445,
            33.90142822265625,
            32.296142578125,
            32.272254943847656,
            32.554534912109375,
            31.875782012939453,
            31.989503860473633,
            33.11580276489258,
            32.65456008911133,
            32.688255310058594,
            32.433040618896484,
            32.41511154174805,
            32.49507522583008
           ]
          },
          {
           "label": "bat",
           "range": [
            64,
            992
           ],
           "values": [
            864,
            768,
            416,
            64,
            992,
            384,
            480,
            160,
            128,
            64,
            192,
            224,
            256,
            256,
            576,
            768,
            704,
            672,
            832,
            544,
            320,
            864
           ]
          },
          {
           "label": "dropout",
           "range": [
            0,
            0.8
           ],
           "values": [
            0.8,
            0.2,
            0.4,
            0.4,
            0.6000000000000001,
            0.2,
            0,
            0.4,
            0.4,
            0.6000000000000001,
            0.6000000000000001,
            0.6000000000000001,
            0.6000000000000001,
            0.8,
            0.6000000000000001,
            0.2,
            0.2,
            0.2,
            0.4,
            0.6000000000000001,
            0.6000000000000001,
            0.8
           ]
          },
          {
           "label": "lay",
           "range": [
            1,
            7
           ],
           "values": [
            5,
            5,
            1,
            1,
            5,
            7,
            3,
            1,
            1,
            1,
            3,
            1,
            3,
            3,
            3,
            5,
            5,
            7,
            3,
            5,
            5,
            3
           ]
          },
          {
           "label": "lr",
           "range": [
            -4.938538009219455,
            -1.0306670000832707
           ],
           "ticktext": [
            "1.15e-05",
            "0.0001",
            "0.001",
            "0.01",
            "0.0932"
           ],
           "tickvals": [
            -4.938538009219455,
            -4,
            -3,
            -2,
            -1.0306670000832707
           ],
           "values": [
            -2.0318422495790234,
            -4.317758875181274,
            -1.9094746631033357,
            -4.938538009219455,
            -2.794703308574304,
            -3.212054184135827,
            -3.027607916640241,
            -1.566986747721227,
            -1.0306670000832707,
            -1.229020978768657,
            -1.1543154529142228,
            -1.5600417743828752,
            -2.3609601111382457,
            -2.3826608523024033,
            -2.3166305550186452,
            -2.3449336339779,
            -2.3759193711461264,
            -2.200556239480478,
            -2.555182878677353,
            -1.9821301859188951,
            -2.3707911293341275,
            -2.1937098378820163
           ]
          },
          {
           "label": "neu",
           "range": [
            10,
            910
           ],
           "values": [
            10,
            510,
            110,
            110,
            610,
            110,
            510,
            910,
            910,
            910,
            710,
            810,
            710,
            710,
            710,
            610,
            610,
            610,
            810,
            410,
            310,
            710
           ]
          }
         ],
         "labelangle": 30,
         "labelside": "bottom",
         "line": {
          "color": [
           59.702266693115234,
           47.52569580078125,
           33.46284484863281,
           49.83232498168945,
           33.8636589050293,
           39.43895721435547,
           34.07133102416992,
           33.40884780883789,
           32.86659240722656,
           32.79008865356445,
           33.90142822265625,
           32.296142578125,
           32.272254943847656,
           32.554534912109375,
           31.875782012939453,
           31.989503860473633,
           33.11580276489258,
           32.65456008911133,
           32.688255310058594,
           32.433040618896484,
           32.41511154174805,
           32.49507522583008
          ],
          "colorbar": {
           "title": {
            "text": "Objective Value"
           }
          },
          "colorscale": [
           [
            0,
            "rgb(247,251,255)"
           ],
           [
            0.125,
            "rgb(222,235,247)"
           ],
           [
            0.25,
            "rgb(198,219,239)"
           ],
           [
            0.375,
            "rgb(158,202,225)"
           ],
           [
            0.5,
            "rgb(107,174,214)"
           ],
           [
            0.625,
            "rgb(66,146,198)"
           ],
           [
            0.75,
            "rgb(33,113,181)"
           ],
           [
            0.875,
            "rgb(8,81,156)"
           ],
           [
            1,
            "rgb(8,48,107)"
           ]
          ],
          "reversescale": true,
          "showscale": true
         },
         "type": "parcoords"
        }
       ],
       "layout": {
        "template": {
         "data": {
          "bar": [
           {
            "error_x": {
             "color": "#2a3f5f"
            },
            "error_y": {
             "color": "#2a3f5f"
            },
            "marker": {
             "line": {
              "color": "#E5ECF6",
              "width": 0.5
             },
             "pattern": {
              "fillmode": "overlay",
              "size": 10,
              "solidity": 0.2
             }
            },
            "type": "bar"
           }
          ],
          "barpolar": [
           {
            "marker": {
             "line": {
              "color": "#E5ECF6",
              "width": 0.5
             },
             "pattern": {
              "fillmode": "overlay",
              "size": 10,
              "solidity": 0.2
             }
            },
            "type": "barpolar"
           }
          ],
          "carpet": [
           {
            "aaxis": {
             "endlinecolor": "#2a3f5f",
             "gridcolor": "white",
             "linecolor": "white",
             "minorgridcolor": "white",
             "startlinecolor": "#2a3f5f"
            },
            "baxis": {
             "endlinecolor": "#2a3f5f",
             "gridcolor": "white",
             "linecolor": "white",
             "minorgridcolor": "white",
             "startlinecolor": "#2a3f5f"
            },
            "type": "carpet"
           }
          ],
          "choropleth": [
           {
            "colorbar": {
             "outlinewidth": 0,
             "ticks": ""
            },
            "type": "choropleth"
           }
          ],
          "contour": [
           {
            "colorbar": {
             "outlinewidth": 0,
             "ticks": ""
            },
            "colorscale": [
             [
              0,
              "#0d0887"
             ],
             [
              0.1111111111111111,
              "#46039f"
             ],
             [
              0.2222222222222222,
              "#7201a8"
             ],
             [
              0.3333333333333333,
              "#9c179e"
             ],
             [
              0.4444444444444444,
              "#bd3786"
             ],
             [
              0.5555555555555556,
              "#d8576b"
             ],
             [
              0.6666666666666666,
              "#ed7953"
             ],
             [
              0.7777777777777778,
              "#fb9f3a"
             ],
             [
              0.8888888888888888,
              "#fdca26"
             ],
             [
              1,
              "#f0f921"
             ]
            ],
            "type": "contour"
           }
          ],
          "contourcarpet": [
           {
            "colorbar": {
             "outlinewidth": 0,
             "ticks": ""
            },
            "type": "contourcarpet"
           }
          ],
          "heatmap": [
           {
            "colorbar": {
             "outlinewidth": 0,
             "ticks": ""
            },
            "colorscale": [
             [
              0,
              "#0d0887"
             ],
             [
              0.1111111111111111,
              "#46039f"
             ],
             [
              0.2222222222222222,
              "#7201a8"
             ],
             [
              0.3333333333333333,
              "#9c179e"
             ],
             [
              0.4444444444444444,
              "#bd3786"
             ],
             [
              0.5555555555555556,
              "#d8576b"
             ],
             [
              0.6666666666666666,
              "#ed7953"
             ],
             [
              0.7777777777777778,
              "#fb9f3a"
             ],
             [
              0.8888888888888888,
              "#fdca26"
             ],
             [
              1,
              "#f0f921"
             ]
            ],
            "type": "heatmap"
           }
          ],
          "heatmapgl": [
           {
            "colorbar": {
             "outlinewidth": 0,
             "ticks": ""
            },
            "colorscale": [
             [
              0,
              "#0d0887"
             ],
             [
              0.1111111111111111,
              "#46039f"
             ],
             [
              0.2222222222222222,
              "#7201a8"
             ],
             [
              0.3333333333333333,
              "#9c179e"
             ],
             [
              0.4444444444444444,
              "#bd3786"
             ],
             [
              0.5555555555555556,
              "#d8576b"
             ],
             [
              0.6666666666666666,
              "#ed7953"
             ],
             [
              0.7777777777777778,
              "#fb9f3a"
             ],
             [
              0.8888888888888888,
              "#fdca26"
             ],
             [
              1,
              "#f0f921"
             ]
            ],
            "type": "heatmapgl"
           }
          ],
          "histogram": [
           {
            "marker": {
             "pattern": {
              "fillmode": "overlay",
              "size": 10,
              "solidity": 0.2
             }
            },
            "type": "histogram"
           }
          ],
          "histogram2d": [
           {
            "colorbar": {
             "outlinewidth": 0,
             "ticks": ""
            },
            "colorscale": [
             [
              0,
              "#0d0887"
             ],
             [
              0.1111111111111111,
              "#46039f"
             ],
             [
              0.2222222222222222,
              "#7201a8"
             ],
             [
              0.3333333333333333,
              "#9c179e"
             ],
             [
              0.4444444444444444,
              "#bd3786"
             ],
             [
              0.5555555555555556,
              "#d8576b"
             ],
             [
              0.6666666666666666,
              "#ed7953"
             ],
             [
              0.7777777777777778,
              "#fb9f3a"
             ],
             [
              0.8888888888888888,
              "#fdca26"
             ],
             [
              1,
              "#f0f921"
             ]
            ],
            "type": "histogram2d"
           }
          ],
          "histogram2dcontour": [
           {
            "colorbar": {
             "outlinewidth": 0,
             "ticks": ""
            },
            "colorscale": [
             [
              0,
              "#0d0887"
             ],
             [
              0.1111111111111111,
              "#46039f"
             ],
             [
              0.2222222222222222,
              "#7201a8"
             ],
             [
              0.3333333333333333,
              "#9c179e"
             ],
             [
              0.4444444444444444,
              "#bd3786"
             ],
             [
              0.5555555555555556,
              "#d8576b"
             ],
             [
              0.6666666666666666,
              "#ed7953"
             ],
             [
              0.7777777777777778,
              "#fb9f3a"
             ],
             [
              0.8888888888888888,
              "#fdca26"
             ],
             [
              1,
              "#f0f921"
             ]
            ],
            "type": "histogram2dcontour"
           }
          ],
          "mesh3d": [
           {
            "colorbar": {
             "outlinewidth": 0,
             "ticks": ""
            },
            "type": "mesh3d"
           }
          ],
          "parcoords": [
           {
            "line": {
             "colorbar": {
              "outlinewidth": 0,
              "ticks": ""
             }
            },
            "type": "parcoords"
           }
          ],
          "pie": [
           {
            "automargin": true,
            "type": "pie"
           }
          ],
          "scatter": [
           {
            "fillpattern": {
             "fillmode": "overlay",
             "size": 10,
             "solidity": 0.2
            },
            "type": "scatter"
           }
          ],
          "scatter3d": [
           {
            "line": {
             "colorbar": {
              "outlinewidth": 0,
              "ticks": ""
             }
            },
            "marker": {
             "colorbar": {
              "outlinewidth": 0,
              "ticks": ""
             }
            },
            "type": "scatter3d"
           }
          ],
          "scattercarpet": [
           {
            "marker": {
             "colorbar": {
              "outlinewidth": 0,
              "ticks": ""
             }
            },
            "type": "scattercarpet"
           }
          ],
          "scattergeo": [
           {
            "marker": {
             "colorbar": {
              "outlinewidth": 0,
              "ticks": ""
             }
            },
            "type": "scattergeo"
           }
          ],
          "scattergl": [
           {
            "marker": {
             "colorbar": {
              "outlinewidth": 0,
              "ticks": ""
             }
            },
            "type": "scattergl"
           }
          ],
          "scattermapbox": [
           {
            "marker": {
             "colorbar": {
              "outlinewidth": 0,
              "ticks": ""
             }
            },
            "type": "scattermapbox"
           }
          ],
          "scatterpolar": [
           {
            "marker": {
             "colorbar": {
              "outlinewidth": 0,
              "ticks": ""
             }
            },
            "type": "scatterpolar"
           }
          ],
          "scatterpolargl": [
           {
            "marker": {
             "colorbar": {
              "outlinewidth": 0,
              "ticks": ""
             }
            },
            "type": "scatterpolargl"
           }
          ],
          "scatterternary": [
           {
            "marker": {
             "colorbar": {
              "outlinewidth": 0,
              "ticks": ""
             }
            },
            "type": "scatterternary"
           }
          ],
          "surface": [
           {
            "colorbar": {
             "outlinewidth": 0,
             "ticks": ""
            },
            "colorscale": [
             [
              0,
              "#0d0887"
             ],
             [
              0.1111111111111111,
              "#46039f"
             ],
             [
              0.2222222222222222,
              "#7201a8"
             ],
             [
              0.3333333333333333,
              "#9c179e"
             ],
             [
              0.4444444444444444,
              "#bd3786"
             ],
             [
              0.5555555555555556,
              "#d8576b"
             ],
             [
              0.6666666666666666,
              "#ed7953"
             ],
             [
              0.7777777777777778,
              "#fb9f3a"
             ],
             [
              0.8888888888888888,
              "#fdca26"
             ],
             [
              1,
              "#f0f921"
             ]
            ],
            "type": "surface"
           }
          ],
          "table": [
           {
            "cells": {
             "fill": {
              "color": "#EBF0F8"
             },
             "line": {
              "color": "white"
             }
            },
            "header": {
             "fill": {
              "color": "#C8D4E3"
             },
             "line": {
              "color": "white"
             }
            },
            "type": "table"
           }
          ]
         },
         "layout": {
          "annotationdefaults": {
           "arrowcolor": "#2a3f5f",
           "arrowhead": 0,
           "arrowwidth": 1
          },
          "autotypenumbers": "strict",
          "coloraxis": {
           "colorbar": {
            "outlinewidth": 0,
            "ticks": ""
           }
          },
          "colorscale": {
           "diverging": [
            [
             0,
             "#8e0152"
            ],
            [
             0.1,
             "#c51b7d"
            ],
            [
             0.2,
             "#de77ae"
            ],
            [
             0.3,
             "#f1b6da"
            ],
            [
             0.4,
             "#fde0ef"
            ],
            [
             0.5,
             "#f7f7f7"
            ],
            [
             0.6,
             "#e6f5d0"
            ],
            [
             0.7,
             "#b8e186"
            ],
            [
             0.8,
             "#7fbc41"
            ],
            [
             0.9,
             "#4d9221"
            ],
            [
             1,
             "#276419"
            ]
           ],
           "sequential": [
            [
             0,
             "#0d0887"
            ],
            [
             0.1111111111111111,
             "#46039f"
            ],
            [
             0.2222222222222222,
             "#7201a8"
            ],
            [
             0.3333333333333333,
             "#9c179e"
            ],
            [
             0.4444444444444444,
             "#bd3786"
            ],
            [
             0.5555555555555556,
             "#d8576b"
            ],
            [
             0.6666666666666666,
             "#ed7953"
            ],
            [
             0.7777777777777778,
             "#fb9f3a"
            ],
            [
             0.8888888888888888,
             "#fdca26"
            ],
            [
             1,
             "#f0f921"
            ]
           ],
           "sequentialminus": [
            [
             0,
             "#0d0887"
            ],
            [
             0.1111111111111111,
             "#46039f"
            ],
            [
             0.2222222222222222,
             "#7201a8"
            ],
            [
             0.3333333333333333,
             "#9c179e"
            ],
            [
             0.4444444444444444,
             "#bd3786"
            ],
            [
             0.5555555555555556,
             "#d8576b"
            ],
            [
             0.6666666666666666,
             "#ed7953"
            ],
            [
             0.7777777777777778,
             "#fb9f3a"
            ],
            [
             0.8888888888888888,
             "#fdca26"
            ],
            [
             1,
             "#f0f921"
            ]
           ]
          },
          "colorway": [
           "#636efa",
           "#EF553B",
           "#00cc96",
           "#ab63fa",
           "#FFA15A",
           "#19d3f3",
           "#FF6692",
           "#B6E880",
           "#FF97FF",
           "#FECB52"
          ],
          "font": {
           "color": "#2a3f5f"
          },
          "geo": {
           "bgcolor": "white",
           "lakecolor": "white",
           "landcolor": "#E5ECF6",
           "showlakes": true,
           "showland": true,
           "subunitcolor": "white"
          },
          "hoverlabel": {
           "align": "left"
          },
          "hovermode": "closest",
          "mapbox": {
           "style": "light"
          },
          "paper_bgcolor": "white",
          "plot_bgcolor": "#E5ECF6",
          "polar": {
           "angularaxis": {
            "gridcolor": "white",
            "linecolor": "white",
            "ticks": ""
           },
           "bgcolor": "#E5ECF6",
           "radialaxis": {
            "gridcolor": "white",
            "linecolor": "white",
            "ticks": ""
           }
          },
          "scene": {
           "xaxis": {
            "backgroundcolor": "#E5ECF6",
            "gridcolor": "white",
            "gridwidth": 2,
            "linecolor": "white",
            "showbackground": true,
            "ticks": "",
            "zerolinecolor": "white"
           },
           "yaxis": {
            "backgroundcolor": "#E5ECF6",
            "gridcolor": "white",
            "gridwidth": 2,
            "linecolor": "white",
            "showbackground": true,
            "ticks": "",
            "zerolinecolor": "white"
           },
           "zaxis": {
            "backgroundcolor": "#E5ECF6",
            "gridcolor": "white",
            "gridwidth": 2,
            "linecolor": "white",
            "showbackground": true,
            "ticks": "",
            "zerolinecolor": "white"
           }
          },
          "shapedefaults": {
           "line": {
            "color": "#2a3f5f"
           }
          },
          "ternary": {
           "aaxis": {
            "gridcolor": "white",
            "linecolor": "white",
            "ticks": ""
           },
           "baxis": {
            "gridcolor": "white",
            "linecolor": "white",
            "ticks": ""
           },
           "bgcolor": "#E5ECF6",
           "caxis": {
            "gridcolor": "white",
            "linecolor": "white",
            "ticks": ""
           }
          },
          "title": {
           "x": 0.05
          },
          "xaxis": {
           "automargin": true,
           "gridcolor": "white",
           "linecolor": "white",
           "ticks": "",
           "title": {
            "standoff": 15
           },
           "zerolinecolor": "white",
           "zerolinewidth": 2
          },
          "yaxis": {
           "automargin": true,
           "gridcolor": "white",
           "linecolor": "white",
           "ticks": "",
           "title": {
            "standoff": 15
           },
           "zerolinecolor": "white",
           "zerolinewidth": 2
          }
         }
        },
        "title": {
         "text": "Parallel Coordinate Plot"
        }
       }
      }
     },
     "metadata": {},
     "output_type": "display_data"
    },
    {
     "data": {
      "application/vnd.plotly.v1+json": {
       "config": {
        "plotlyServerURL": "https://plot.ly"
       },
       "data": [
        {
         "mode": "markers",
         "name": "Objective Value",
         "type": "scatter",
         "x": [
          0,
          1,
          2,
          3,
          4,
          7,
          8,
          10,
          11,
          12,
          14,
          15,
          16,
          17,
          18,
          20,
          21,
          22,
          23,
          24,
          27,
          28
         ],
         "y": [
          59.702266693115234,
          47.52569580078125,
          33.46284484863281,
          49.83232498168945,
          33.8636589050293,
          39.43895721435547,
          34.07133102416992,
          33.40884780883789,
          32.86659240722656,
          32.79008865356445,
          33.90142822265625,
          32.296142578125,
          32.272254943847656,
          32.554534912109375,
          31.875782012939453,
          31.989503860473633,
          33.11580276489258,
          32.65456008911133,
          32.688255310058594,
          32.433040618896484,
          32.41511154174805,
          32.49507522583008
         ]
        },
        {
         "name": "Best Value",
         "type": "scatter",
         "x": [
          0,
          1,
          2,
          3,
          4,
          7,
          8,
          10,
          11,
          12,
          14,
          15,
          16,
          17,
          18,
          20,
          21,
          22,
          23,
          24,
          27,
          28
         ],
         "y": [
          59.702266693115234,
          47.52569580078125,
          33.46284484863281,
          33.46284484863281,
          33.46284484863281,
          33.46284484863281,
          33.46284484863281,
          33.40884780883789,
          32.86659240722656,
          32.79008865356445,
          32.79008865356445,
          32.296142578125,
          32.272254943847656,
          32.272254943847656,
          31.875782012939453,
          31.875782012939453,
          31.875782012939453,
          31.875782012939453,
          31.875782012939453,
          31.875782012939453,
          31.875782012939453,
          31.875782012939453
         ]
        }
       ],
       "layout": {
        "template": {
         "data": {
          "bar": [
           {
            "error_x": {
             "color": "#2a3f5f"
            },
            "error_y": {
             "color": "#2a3f5f"
            },
            "marker": {
             "line": {
              "color": "#E5ECF6",
              "width": 0.5
             },
             "pattern": {
              "fillmode": "overlay",
              "size": 10,
              "solidity": 0.2
             }
            },
            "type": "bar"
           }
          ],
          "barpolar": [
           {
            "marker": {
             "line": {
              "color": "#E5ECF6",
              "width": 0.5
             },
             "pattern": {
              "fillmode": "overlay",
              "size": 10,
              "solidity": 0.2
             }
            },
            "type": "barpolar"
           }
          ],
          "carpet": [
           {
            "aaxis": {
             "endlinecolor": "#2a3f5f",
             "gridcolor": "white",
             "linecolor": "white",
             "minorgridcolor": "white",
             "startlinecolor": "#2a3f5f"
            },
            "baxis": {
             "endlinecolor": "#2a3f5f",
             "gridcolor": "white",
             "linecolor": "white",
             "minorgridcolor": "white",
             "startlinecolor": "#2a3f5f"
            },
            "type": "carpet"
           }
          ],
          "choropleth": [
           {
            "colorbar": {
             "outlinewidth": 0,
             "ticks": ""
            },
            "type": "choropleth"
           }
          ],
          "contour": [
           {
            "colorbar": {
             "outlinewidth": 0,
             "ticks": ""
            },
            "colorscale": [
             [
              0,
              "#0d0887"
             ],
             [
              0.1111111111111111,
              "#46039f"
             ],
             [
              0.2222222222222222,
              "#7201a8"
             ],
             [
              0.3333333333333333,
              "#9c179e"
             ],
             [
              0.4444444444444444,
              "#bd3786"
             ],
             [
              0.5555555555555556,
              "#d8576b"
             ],
             [
              0.6666666666666666,
              "#ed7953"
             ],
             [
              0.7777777777777778,
              "#fb9f3a"
             ],
             [
              0.8888888888888888,
              "#fdca26"
             ],
             [
              1,
              "#f0f921"
             ]
            ],
            "type": "contour"
           }
          ],
          "contourcarpet": [
           {
            "colorbar": {
             "outlinewidth": 0,
             "ticks": ""
            },
            "type": "contourcarpet"
           }
          ],
          "heatmap": [
           {
            "colorbar": {
             "outlinewidth": 0,
             "ticks": ""
            },
            "colorscale": [
             [
              0,
              "#0d0887"
             ],
             [
              0.1111111111111111,
              "#46039f"
             ],
             [
              0.2222222222222222,
              "#7201a8"
             ],
             [
              0.3333333333333333,
              "#9c179e"
             ],
             [
              0.4444444444444444,
              "#bd3786"
             ],
             [
              0.5555555555555556,
              "#d8576b"
             ],
             [
              0.6666666666666666,
              "#ed7953"
             ],
             [
              0.7777777777777778,
              "#fb9f3a"
             ],
             [
              0.8888888888888888,
              "#fdca26"
             ],
             [
              1,
              "#f0f921"
             ]
            ],
            "type": "heatmap"
           }
          ],
          "heatmapgl": [
           {
            "colorbar": {
             "outlinewidth": 0,
             "ticks": ""
            },
            "colorscale": [
             [
              0,
              "#0d0887"
             ],
             [
              0.1111111111111111,
              "#46039f"
             ],
             [
              0.2222222222222222,
              "#7201a8"
             ],
             [
              0.3333333333333333,
              "#9c179e"
             ],
             [
              0.4444444444444444,
              "#bd3786"
             ],
             [
              0.5555555555555556,
              "#d8576b"
             ],
             [
              0.6666666666666666,
              "#ed7953"
             ],
             [
              0.7777777777777778,
              "#fb9f3a"
             ],
             [
              0.8888888888888888,
              "#fdca26"
             ],
             [
              1,
              "#f0f921"
             ]
            ],
            "type": "heatmapgl"
           }
          ],
          "histogram": [
           {
            "marker": {
             "pattern": {
              "fillmode": "overlay",
              "size": 10,
              "solidity": 0.2
             }
            },
            "type": "histogram"
           }
          ],
          "histogram2d": [
           {
            "colorbar": {
             "outlinewidth": 0,
             "ticks": ""
            },
            "colorscale": [
             [
              0,
              "#0d0887"
             ],
             [
              0.1111111111111111,
              "#46039f"
             ],
             [
              0.2222222222222222,
              "#7201a8"
             ],
             [
              0.3333333333333333,
              "#9c179e"
             ],
             [
              0.4444444444444444,
              "#bd3786"
             ],
             [
              0.5555555555555556,
              "#d8576b"
             ],
             [
              0.6666666666666666,
              "#ed7953"
             ],
             [
              0.7777777777777778,
              "#fb9f3a"
             ],
             [
              0.8888888888888888,
              "#fdca26"
             ],
             [
              1,
              "#f0f921"
             ]
            ],
            "type": "histogram2d"
           }
          ],
          "histogram2dcontour": [
           {
            "colorbar": {
             "outlinewidth": 0,
             "ticks": ""
            },
            "colorscale": [
             [
              0,
              "#0d0887"
             ],
             [
              0.1111111111111111,
              "#46039f"
             ],
             [
              0.2222222222222222,
              "#7201a8"
             ],
             [
              0.3333333333333333,
              "#9c179e"
             ],
             [
              0.4444444444444444,
              "#bd3786"
             ],
             [
              0.5555555555555556,
              "#d8576b"
             ],
             [
              0.6666666666666666,
              "#ed7953"
             ],
             [
              0.7777777777777778,
              "#fb9f3a"
             ],
             [
              0.8888888888888888,
              "#fdca26"
             ],
             [
              1,
              "#f0f921"
             ]
            ],
            "type": "histogram2dcontour"
           }
          ],
          "mesh3d": [
           {
            "colorbar": {
             "outlinewidth": 0,
             "ticks": ""
            },
            "type": "mesh3d"
           }
          ],
          "parcoords": [
           {
            "line": {
             "colorbar": {
              "outlinewidth": 0,
              "ticks": ""
             }
            },
            "type": "parcoords"
           }
          ],
          "pie": [
           {
            "automargin": true,
            "type": "pie"
           }
          ],
          "scatter": [
           {
            "fillpattern": {
             "fillmode": "overlay",
             "size": 10,
             "solidity": 0.2
            },
            "type": "scatter"
           }
          ],
          "scatter3d": [
           {
            "line": {
             "colorbar": {
              "outlinewidth": 0,
              "ticks": ""
             }
            },
            "marker": {
             "colorbar": {
              "outlinewidth": 0,
              "ticks": ""
             }
            },
            "type": "scatter3d"
           }
          ],
          "scattercarpet": [
           {
            "marker": {
             "colorbar": {
              "outlinewidth": 0,
              "ticks": ""
             }
            },
            "type": "scattercarpet"
           }
          ],
          "scattergeo": [
           {
            "marker": {
             "colorbar": {
              "outlinewidth": 0,
              "ticks": ""
             }
            },
            "type": "scattergeo"
           }
          ],
          "scattergl": [
           {
            "marker": {
             "colorbar": {
              "outlinewidth": 0,
              "ticks": ""
             }
            },
            "type": "scattergl"
           }
          ],
          "scattermapbox": [
           {
            "marker": {
             "colorbar": {
              "outlinewidth": 0,
              "ticks": ""
             }
            },
            "type": "scattermapbox"
           }
          ],
          "scatterpolar": [
           {
            "marker": {
             "colorbar": {
              "outlinewidth": 0,
              "ticks": ""
             }
            },
            "type": "scatterpolar"
           }
          ],
          "scatterpolargl": [
           {
            "marker": {
             "colorbar": {
              "outlinewidth": 0,
              "ticks": ""
             }
            },
            "type": "scatterpolargl"
           }
          ],
          "scatterternary": [
           {
            "marker": {
             "colorbar": {
              "outlinewidth": 0,
              "ticks": ""
             }
            },
            "type": "scatterternary"
           }
          ],
          "surface": [
           {
            "colorbar": {
             "outlinewidth": 0,
             "ticks": ""
            },
            "colorscale": [
             [
              0,
              "#0d0887"
             ],
             [
              0.1111111111111111,
              "#46039f"
             ],
             [
              0.2222222222222222,
              "#7201a8"
             ],
             [
              0.3333333333333333,
              "#9c179e"
             ],
             [
              0.4444444444444444,
              "#bd3786"
             ],
             [
              0.5555555555555556,
              "#d8576b"
             ],
             [
              0.6666666666666666,
              "#ed7953"
             ],
             [
              0.7777777777777778,
              "#fb9f3a"
             ],
             [
              0.8888888888888888,
              "#fdca26"
             ],
             [
              1,
              "#f0f921"
             ]
            ],
            "type": "surface"
           }
          ],
          "table": [
           {
            "cells": {
             "fill": {
              "color": "#EBF0F8"
             },
             "line": {
              "color": "white"
             }
            },
            "header": {
             "fill": {
              "color": "#C8D4E3"
             },
             "line": {
              "color": "white"
             }
            },
            "type": "table"
           }
          ]
         },
         "layout": {
          "annotationdefaults": {
           "arrowcolor": "#2a3f5f",
           "arrowhead": 0,
           "arrowwidth": 1
          },
          "autotypenumbers": "strict",
          "coloraxis": {
           "colorbar": {
            "outlinewidth": 0,
            "ticks": ""
           }
          },
          "colorscale": {
           "diverging": [
            [
             0,
             "#8e0152"
            ],
            [
             0.1,
             "#c51b7d"
            ],
            [
             0.2,
             "#de77ae"
            ],
            [
             0.3,
             "#f1b6da"
            ],
            [
             0.4,
             "#fde0ef"
            ],
            [
             0.5,
             "#f7f7f7"
            ],
            [
             0.6,
             "#e6f5d0"
            ],
            [
             0.7,
             "#b8e186"
            ],
            [
             0.8,
             "#7fbc41"
            ],
            [
             0.9,
             "#4d9221"
            ],
            [
             1,
             "#276419"
            ]
           ],
           "sequential": [
            [
             0,
             "#0d0887"
            ],
            [
             0.1111111111111111,
             "#46039f"
            ],
            [
             0.2222222222222222,
             "#7201a8"
            ],
            [
             0.3333333333333333,
             "#9c179e"
            ],
            [
             0.4444444444444444,
             "#bd3786"
            ],
            [
             0.5555555555555556,
             "#d8576b"
            ],
            [
             0.6666666666666666,
             "#ed7953"
            ],
            [
             0.7777777777777778,
             "#fb9f3a"
            ],
            [
             0.8888888888888888,
             "#fdca26"
            ],
            [
             1,
             "#f0f921"
            ]
           ],
           "sequentialminus": [
            [
             0,
             "#0d0887"
            ],
            [
             0.1111111111111111,
             "#46039f"
            ],
            [
             0.2222222222222222,
             "#7201a8"
            ],
            [
             0.3333333333333333,
             "#9c179e"
            ],
            [
             0.4444444444444444,
             "#bd3786"
            ],
            [
             0.5555555555555556,
             "#d8576b"
            ],
            [
             0.6666666666666666,
             "#ed7953"
            ],
            [
             0.7777777777777778,
             "#fb9f3a"
            ],
            [
             0.8888888888888888,
             "#fdca26"
            ],
            [
             1,
             "#f0f921"
            ]
           ]
          },
          "colorway": [
           "#636efa",
           "#EF553B",
           "#00cc96",
           "#ab63fa",
           "#FFA15A",
           "#19d3f3",
           "#FF6692",
           "#B6E880",
           "#FF97FF",
           "#FECB52"
          ],
          "font": {
           "color": "#2a3f5f"
          },
          "geo": {
           "bgcolor": "white",
           "lakecolor": "white",
           "landcolor": "#E5ECF6",
           "showlakes": true,
           "showland": true,
           "subunitcolor": "white"
          },
          "hoverlabel": {
           "align": "left"
          },
          "hovermode": "closest",
          "mapbox": {
           "style": "light"
          },
          "paper_bgcolor": "white",
          "plot_bgcolor": "#E5ECF6",
          "polar": {
           "angularaxis": {
            "gridcolor": "white",
            "linecolor": "white",
            "ticks": ""
           },
           "bgcolor": "#E5ECF6",
           "radialaxis": {
            "gridcolor": "white",
            "linecolor": "white",
            "ticks": ""
           }
          },
          "scene": {
           "xaxis": {
            "backgroundcolor": "#E5ECF6",
            "gridcolor": "white",
            "gridwidth": 2,
            "linecolor": "white",
            "showbackground": true,
            "ticks": "",
            "zerolinecolor": "white"
           },
           "yaxis": {
            "backgroundcolor": "#E5ECF6",
            "gridcolor": "white",
            "gridwidth": 2,
            "linecolor": "white",
            "showbackground": true,
            "ticks": "",
            "zerolinecolor": "white"
           },
           "zaxis": {
            "backgroundcolor": "#E5ECF6",
            "gridcolor": "white",
            "gridwidth": 2,
            "linecolor": "white",
            "showbackground": true,
            "ticks": "",
            "zerolinecolor": "white"
           }
          },
          "shapedefaults": {
           "line": {
            "color": "#2a3f5f"
           }
          },
          "ternary": {
           "aaxis": {
            "gridcolor": "white",
            "linecolor": "white",
            "ticks": ""
           },
           "baxis": {
            "gridcolor": "white",
            "linecolor": "white",
            "ticks": ""
           },
           "bgcolor": "#E5ECF6",
           "caxis": {
            "gridcolor": "white",
            "linecolor": "white",
            "ticks": ""
           }
          },
          "title": {
           "x": 0.05
          },
          "xaxis": {
           "automargin": true,
           "gridcolor": "white",
           "linecolor": "white",
           "ticks": "",
           "title": {
            "standoff": 15
           },
           "zerolinecolor": "white",
           "zerolinewidth": 2
          },
          "yaxis": {
           "automargin": true,
           "gridcolor": "white",
           "linecolor": "white",
           "ticks": "",
           "title": {
            "standoff": 15
           },
           "zerolinecolor": "white",
           "zerolinewidth": 2
          }
         }
        },
        "title": {
         "text": "Optimization History Plot"
        },
        "xaxis": {
         "title": {
          "text": "Trial"
         }
        },
        "yaxis": {
         "title": {
          "text": "Objective Value"
         }
        }
       }
      }
     },
     "metadata": {},
     "output_type": "display_data"
    },
    {
     "data": {
      "application/vnd.plotly.v1+json": {
       "config": {
        "plotlyServerURL": "https://plot.ly"
       },
       "data": [
        {
         "marker": {
          "color": [
           0,
           1,
           2,
           3,
           4,
           7,
           8,
           10,
           11,
           12,
           14,
           15,
           16,
           17,
           18,
           20,
           21,
           22,
           23,
           24,
           27,
           28
          ],
          "colorbar": {
           "title": {
            "text": "Trial"
           },
           "x": 1,
           "xpad": 40
          },
          "colorscale": [
           [
            0,
            "rgb(247,251,255)"
           ],
           [
            0.125,
            "rgb(222,235,247)"
           ],
           [
            0.25,
            "rgb(198,219,239)"
           ],
           [
            0.375,
            "rgb(158,202,225)"
           ],
           [
            0.5,
            "rgb(107,174,214)"
           ],
           [
            0.625,
            "rgb(66,146,198)"
           ],
           [
            0.75,
            "rgb(33,113,181)"
           ],
           [
            0.875,
            "rgb(8,81,156)"
           ],
           [
            1,
            "rgb(8,48,107)"
           ]
          ],
          "line": {
           "color": "Grey",
           "width": 0.5
          },
          "showscale": true
         },
         "mode": "markers",
         "showlegend": false,
         "type": "scatter",
         "x": [
          864,
          768,
          416,
          64,
          992,
          384,
          480,
          160,
          128,
          64,
          192,
          224,
          256,
          256,
          576,
          768,
          704,
          672,
          832,
          544,
          320,
          864
         ],
         "xaxis": "x",
         "y": [
          59.702266693115234,
          47.52569580078125,
          33.46284484863281,
          49.83232498168945,
          33.8636589050293,
          39.43895721435547,
          34.07133102416992,
          33.40884780883789,
          32.86659240722656,
          32.79008865356445,
          33.90142822265625,
          32.296142578125,
          32.272254943847656,
          32.554534912109375,
          31.875782012939453,
          31.989503860473633,
          33.11580276489258,
          32.65456008911133,
          32.688255310058594,
          32.433040618896484,
          32.41511154174805,
          32.49507522583008
         ],
         "yaxis": "y"
        },
        {
         "marker": {
          "color": [
           0,
           1,
           2,
           3,
           4,
           7,
           8,
           10,
           11,
           12,
           14,
           15,
           16,
           17,
           18,
           20,
           21,
           22,
           23,
           24,
           27,
           28
          ],
          "colorbar": {
           "title": {
            "text": "Trial"
           },
           "x": 1,
           "xpad": 40
          },
          "colorscale": [
           [
            0,
            "rgb(247,251,255)"
           ],
           [
            0.125,
            "rgb(222,235,247)"
           ],
           [
            0.25,
            "rgb(198,219,239)"
           ],
           [
            0.375,
            "rgb(158,202,225)"
           ],
           [
            0.5,
            "rgb(107,174,214)"
           ],
           [
            0.625,
            "rgb(66,146,198)"
           ],
           [
            0.75,
            "rgb(33,113,181)"
           ],
           [
            0.875,
            "rgb(8,81,156)"
           ],
           [
            1,
            "rgb(8,48,107)"
           ]
          ],
          "line": {
           "color": "Grey",
           "width": 0.5
          },
          "showscale": false
         },
         "mode": "markers",
         "showlegend": false,
         "type": "scatter",
         "x": [
          0.8,
          0.2,
          0.4,
          0.4,
          0.6000000000000001,
          0.2,
          0,
          0.4,
          0.4,
          0.6000000000000001,
          0.6000000000000001,
          0.6000000000000001,
          0.6000000000000001,
          0.8,
          0.6000000000000001,
          0.2,
          0.2,
          0.2,
          0.4,
          0.6000000000000001,
          0.6000000000000001,
          0.8
         ],
         "xaxis": "x2",
         "y": [
          59.702266693115234,
          47.52569580078125,
          33.46284484863281,
          49.83232498168945,
          33.8636589050293,
          39.43895721435547,
          34.07133102416992,
          33.40884780883789,
          32.86659240722656,
          32.79008865356445,
          33.90142822265625,
          32.296142578125,
          32.272254943847656,
          32.554534912109375,
          31.875782012939453,
          31.989503860473633,
          33.11580276489258,
          32.65456008911133,
          32.688255310058594,
          32.433040618896484,
          32.41511154174805,
          32.49507522583008
         ],
         "yaxis": "y2"
        },
        {
         "marker": {
          "color": [
           0,
           1,
           2,
           3,
           4,
           7,
           8,
           10,
           11,
           12,
           14,
           15,
           16,
           17,
           18,
           20,
           21,
           22,
           23,
           24,
           27,
           28
          ],
          "colorbar": {
           "title": {
            "text": "Trial"
           },
           "x": 1,
           "xpad": 40
          },
          "colorscale": [
           [
            0,
            "rgb(247,251,255)"
           ],
           [
            0.125,
            "rgb(222,235,247)"
           ],
           [
            0.25,
            "rgb(198,219,239)"
           ],
           [
            0.375,
            "rgb(158,202,225)"
           ],
           [
            0.5,
            "rgb(107,174,214)"
           ],
           [
            0.625,
            "rgb(66,146,198)"
           ],
           [
            0.75,
            "rgb(33,113,181)"
           ],
           [
            0.875,
            "rgb(8,81,156)"
           ],
           [
            1,
            "rgb(8,48,107)"
           ]
          ],
          "line": {
           "color": "Grey",
           "width": 0.5
          },
          "showscale": false
         },
         "mode": "markers",
         "showlegend": false,
         "type": "scatter",
         "x": [
          5,
          5,
          1,
          1,
          5,
          7,
          3,
          1,
          1,
          1,
          3,
          1,
          3,
          3,
          3,
          5,
          5,
          7,
          3,
          5,
          5,
          3
         ],
         "xaxis": "x3",
         "y": [
          59.702266693115234,
          47.52569580078125,
          33.46284484863281,
          49.83232498168945,
          33.8636589050293,
          39.43895721435547,
          34.07133102416992,
          33.40884780883789,
          32.86659240722656,
          32.79008865356445,
          33.90142822265625,
          32.296142578125,
          32.272254943847656,
          32.554534912109375,
          31.875782012939453,
          31.989503860473633,
          33.11580276489258,
          32.65456008911133,
          32.688255310058594,
          32.433040618896484,
          32.41511154174805,
          32.49507522583008
         ],
         "yaxis": "y3"
        },
        {
         "marker": {
          "color": [
           0,
           1,
           2,
           3,
           4,
           7,
           8,
           10,
           11,
           12,
           14,
           15,
           16,
           17,
           18,
           20,
           21,
           22,
           23,
           24,
           27,
           28
          ],
          "colorbar": {
           "title": {
            "text": "Trial"
           },
           "x": 1,
           "xpad": 40
          },
          "colorscale": [
           [
            0,
            "rgb(247,251,255)"
           ],
           [
            0.125,
            "rgb(222,235,247)"
           ],
           [
            0.25,
            "rgb(198,219,239)"
           ],
           [
            0.375,
            "rgb(158,202,225)"
           ],
           [
            0.5,
            "rgb(107,174,214)"
           ],
           [
            0.625,
            "rgb(66,146,198)"
           ],
           [
            0.75,
            "rgb(33,113,181)"
           ],
           [
            0.875,
            "rgb(8,81,156)"
           ],
           [
            1,
            "rgb(8,48,107)"
           ]
          ],
          "line": {
           "color": "Grey",
           "width": 0.5
          },
          "showscale": false
         },
         "mode": "markers",
         "showlegend": false,
         "type": "scatter",
         "x": [
          0.00929303880031486,
          0.00004811063895881909,
          0.012317578448369847,
          0.000011520252307850812,
          0.0016043410336142696,
          0.0006136854347943513,
          0.0009384088250726794,
          0.027102743332939667,
          0.09318220861215898,
          0.059017257096117846,
          0.07009459763263086,
          0.027539637893782255,
          0.004355518761987499,
          0.004143231002366502,
          0.0048235795468910695,
          0.004519249993001676,
          0.0042080474555241595,
          0.006301497387171433,
          0.0027849481974955314,
          0.010420050268145126,
          0.004258031507202763,
          0.006401623998361705
         ],
         "xaxis": "x4",
         "y": [
          59.702266693115234,
          47.52569580078125,
          33.46284484863281,
          49.83232498168945,
          33.8636589050293,
          39.43895721435547,
          34.07133102416992,
          33.40884780883789,
          32.86659240722656,
          32.79008865356445,
          33.90142822265625,
          32.296142578125,
          32.272254943847656,
          32.554534912109375,
          31.875782012939453,
          31.989503860473633,
          33.11580276489258,
          32.65456008911133,
          32.688255310058594,
          32.433040618896484,
          32.41511154174805,
          32.49507522583008
         ],
         "yaxis": "y4"
        },
        {
         "marker": {
          "color": [
           0,
           1,
           2,
           3,
           4,
           7,
           8,
           10,
           11,
           12,
           14,
           15,
           16,
           17,
           18,
           20,
           21,
           22,
           23,
           24,
           27,
           28
          ],
          "colorbar": {
           "title": {
            "text": "Trial"
           },
           "x": 1,
           "xpad": 40
          },
          "colorscale": [
           [
            0,
            "rgb(247,251,255)"
           ],
           [
            0.125,
            "rgb(222,235,247)"
           ],
           [
            0.25,
            "rgb(198,219,239)"
           ],
           [
            0.375,
            "rgb(158,202,225)"
           ],
           [
            0.5,
            "rgb(107,174,214)"
           ],
           [
            0.625,
            "rgb(66,146,198)"
           ],
           [
            0.75,
            "rgb(33,113,181)"
           ],
           [
            0.875,
            "rgb(8,81,156)"
           ],
           [
            1,
            "rgb(8,48,107)"
           ]
          ],
          "line": {
           "color": "Grey",
           "width": 0.5
          },
          "showscale": false
         },
         "mode": "markers",
         "showlegend": false,
         "type": "scatter",
         "x": [
          10,
          510,
          110,
          110,
          610,
          110,
          510,
          910,
          910,
          910,
          710,
          810,
          710,
          710,
          710,
          610,
          610,
          610,
          810,
          410,
          310,
          710
         ],
         "xaxis": "x5",
         "y": [
          59.702266693115234,
          47.52569580078125,
          33.46284484863281,
          49.83232498168945,
          33.8636589050293,
          39.43895721435547,
          34.07133102416992,
          33.40884780883789,
          32.86659240722656,
          32.79008865356445,
          33.90142822265625,
          32.296142578125,
          32.272254943847656,
          32.554534912109375,
          31.875782012939453,
          31.989503860473633,
          33.11580276489258,
          32.65456008911133,
          32.688255310058594,
          32.433040618896484,
          32.41511154174805,
          32.49507522583008
         ],
         "yaxis": "y5"
        }
       ],
       "layout": {
        "template": {
         "data": {
          "bar": [
           {
            "error_x": {
             "color": "#2a3f5f"
            },
            "error_y": {
             "color": "#2a3f5f"
            },
            "marker": {
             "line": {
              "color": "#E5ECF6",
              "width": 0.5
             },
             "pattern": {
              "fillmode": "overlay",
              "size": 10,
              "solidity": 0.2
             }
            },
            "type": "bar"
           }
          ],
          "barpolar": [
           {
            "marker": {
             "line": {
              "color": "#E5ECF6",
              "width": 0.5
             },
             "pattern": {
              "fillmode": "overlay",
              "size": 10,
              "solidity": 0.2
             }
            },
            "type": "barpolar"
           }
          ],
          "carpet": [
           {
            "aaxis": {
             "endlinecolor": "#2a3f5f",
             "gridcolor": "white",
             "linecolor": "white",
             "minorgridcolor": "white",
             "startlinecolor": "#2a3f5f"
            },
            "baxis": {
             "endlinecolor": "#2a3f5f",
             "gridcolor": "white",
             "linecolor": "white",
             "minorgridcolor": "white",
             "startlinecolor": "#2a3f5f"
            },
            "type": "carpet"
           }
          ],
          "choropleth": [
           {
            "colorbar": {
             "outlinewidth": 0,
             "ticks": ""
            },
            "type": "choropleth"
           }
          ],
          "contour": [
           {
            "colorbar": {
             "outlinewidth": 0,
             "ticks": ""
            },
            "colorscale": [
             [
              0,
              "#0d0887"
             ],
             [
              0.1111111111111111,
              "#46039f"
             ],
             [
              0.2222222222222222,
              "#7201a8"
             ],
             [
              0.3333333333333333,
              "#9c179e"
             ],
             [
              0.4444444444444444,
              "#bd3786"
             ],
             [
              0.5555555555555556,
              "#d8576b"
             ],
             [
              0.6666666666666666,
              "#ed7953"
             ],
             [
              0.7777777777777778,
              "#fb9f3a"
             ],
             [
              0.8888888888888888,
              "#fdca26"
             ],
             [
              1,
              "#f0f921"
             ]
            ],
            "type": "contour"
           }
          ],
          "contourcarpet": [
           {
            "colorbar": {
             "outlinewidth": 0,
             "ticks": ""
            },
            "type": "contourcarpet"
           }
          ],
          "heatmap": [
           {
            "colorbar": {
             "outlinewidth": 0,
             "ticks": ""
            },
            "colorscale": [
             [
              0,
              "#0d0887"
             ],
             [
              0.1111111111111111,
              "#46039f"
             ],
             [
              0.2222222222222222,
              "#7201a8"
             ],
             [
              0.3333333333333333,
              "#9c179e"
             ],
             [
              0.4444444444444444,
              "#bd3786"
             ],
             [
              0.5555555555555556,
              "#d8576b"
             ],
             [
              0.6666666666666666,
              "#ed7953"
             ],
             [
              0.7777777777777778,
              "#fb9f3a"
             ],
             [
              0.8888888888888888,
              "#fdca26"
             ],
             [
              1,
              "#f0f921"
             ]
            ],
            "type": "heatmap"
           }
          ],
          "heatmapgl": [
           {
            "colorbar": {
             "outlinewidth": 0,
             "ticks": ""
            },
            "colorscale": [
             [
              0,
              "#0d0887"
             ],
             [
              0.1111111111111111,
              "#46039f"
             ],
             [
              0.2222222222222222,
              "#7201a8"
             ],
             [
              0.3333333333333333,
              "#9c179e"
             ],
             [
              0.4444444444444444,
              "#bd3786"
             ],
             [
              0.5555555555555556,
              "#d8576b"
             ],
             [
              0.6666666666666666,
              "#ed7953"
             ],
             [
              0.7777777777777778,
              "#fb9f3a"
             ],
             [
              0.8888888888888888,
              "#fdca26"
             ],
             [
              1,
              "#f0f921"
             ]
            ],
            "type": "heatmapgl"
           }
          ],
          "histogram": [
           {
            "marker": {
             "pattern": {
              "fillmode": "overlay",
              "size": 10,
              "solidity": 0.2
             }
            },
            "type": "histogram"
           }
          ],
          "histogram2d": [
           {
            "colorbar": {
             "outlinewidth": 0,
             "ticks": ""
            },
            "colorscale": [
             [
              0,
              "#0d0887"
             ],
             [
              0.1111111111111111,
              "#46039f"
             ],
             [
              0.2222222222222222,
              "#7201a8"
             ],
             [
              0.3333333333333333,
              "#9c179e"
             ],
             [
              0.4444444444444444,
              "#bd3786"
             ],
             [
              0.5555555555555556,
              "#d8576b"
             ],
             [
              0.6666666666666666,
              "#ed7953"
             ],
             [
              0.7777777777777778,
              "#fb9f3a"
             ],
             [
              0.8888888888888888,
              "#fdca26"
             ],
             [
              1,
              "#f0f921"
             ]
            ],
            "type": "histogram2d"
           }
          ],
          "histogram2dcontour": [
           {
            "colorbar": {
             "outlinewidth": 0,
             "ticks": ""
            },
            "colorscale": [
             [
              0,
              "#0d0887"
             ],
             [
              0.1111111111111111,
              "#46039f"
             ],
             [
              0.2222222222222222,
              "#7201a8"
             ],
             [
              0.3333333333333333,
              "#9c179e"
             ],
             [
              0.4444444444444444,
              "#bd3786"
             ],
             [
              0.5555555555555556,
              "#d8576b"
             ],
             [
              0.6666666666666666,
              "#ed7953"
             ],
             [
              0.7777777777777778,
              "#fb9f3a"
             ],
             [
              0.8888888888888888,
              "#fdca26"
             ],
             [
              1,
              "#f0f921"
             ]
            ],
            "type": "histogram2dcontour"
           }
          ],
          "mesh3d": [
           {
            "colorbar": {
             "outlinewidth": 0,
             "ticks": ""
            },
            "type": "mesh3d"
           }
          ],
          "parcoords": [
           {
            "line": {
             "colorbar": {
              "outlinewidth": 0,
              "ticks": ""
             }
            },
            "type": "parcoords"
           }
          ],
          "pie": [
           {
            "automargin": true,
            "type": "pie"
           }
          ],
          "scatter": [
           {
            "fillpattern": {
             "fillmode": "overlay",
             "size": 10,
             "solidity": 0.2
            },
            "type": "scatter"
           }
          ],
          "scatter3d": [
           {
            "line": {
             "colorbar": {
              "outlinewidth": 0,
              "ticks": ""
             }
            },
            "marker": {
             "colorbar": {
              "outlinewidth": 0,
              "ticks": ""
             }
            },
            "type": "scatter3d"
           }
          ],
          "scattercarpet": [
           {
            "marker": {
             "colorbar": {
              "outlinewidth": 0,
              "ticks": ""
             }
            },
            "type": "scattercarpet"
           }
          ],
          "scattergeo": [
           {
            "marker": {
             "colorbar": {
              "outlinewidth": 0,
              "ticks": ""
             }
            },
            "type": "scattergeo"
           }
          ],
          "scattergl": [
           {
            "marker": {
             "colorbar": {
              "outlinewidth": 0,
              "ticks": ""
             }
            },
            "type": "scattergl"
           }
          ],
          "scattermapbox": [
           {
            "marker": {
             "colorbar": {
              "outlinewidth": 0,
              "ticks": ""
             }
            },
            "type": "scattermapbox"
           }
          ],
          "scatterpolar": [
           {
            "marker": {
             "colorbar": {
              "outlinewidth": 0,
              "ticks": ""
             }
            },
            "type": "scatterpolar"
           }
          ],
          "scatterpolargl": [
           {
            "marker": {
             "colorbar": {
              "outlinewidth": 0,
              "ticks": ""
             }
            },
            "type": "scatterpolargl"
           }
          ],
          "scatterternary": [
           {
            "marker": {
             "colorbar": {
              "outlinewidth": 0,
              "ticks": ""
             }
            },
            "type": "scatterternary"
           }
          ],
          "surface": [
           {
            "colorbar": {
             "outlinewidth": 0,
             "ticks": ""
            },
            "colorscale": [
             [
              0,
              "#0d0887"
             ],
             [
              0.1111111111111111,
              "#46039f"
             ],
             [
              0.2222222222222222,
              "#7201a8"
             ],
             [
              0.3333333333333333,
              "#9c179e"
             ],
             [
              0.4444444444444444,
              "#bd3786"
             ],
             [
              0.5555555555555556,
              "#d8576b"
             ],
             [
              0.6666666666666666,
              "#ed7953"
             ],
             [
              0.7777777777777778,
              "#fb9f3a"
             ],
             [
              0.8888888888888888,
              "#fdca26"
             ],
             [
              1,
              "#f0f921"
             ]
            ],
            "type": "surface"
           }
          ],
          "table": [
           {
            "cells": {
             "fill": {
              "color": "#EBF0F8"
             },
             "line": {
              "color": "white"
             }
            },
            "header": {
             "fill": {
              "color": "#C8D4E3"
             },
             "line": {
              "color": "white"
             }
            },
            "type": "table"
           }
          ]
         },
         "layout": {
          "annotationdefaults": {
           "arrowcolor": "#2a3f5f",
           "arrowhead": 0,
           "arrowwidth": 1
          },
          "autotypenumbers": "strict",
          "coloraxis": {
           "colorbar": {
            "outlinewidth": 0,
            "ticks": ""
           }
          },
          "colorscale": {
           "diverging": [
            [
             0,
             "#8e0152"
            ],
            [
             0.1,
             "#c51b7d"
            ],
            [
             0.2,
             "#de77ae"
            ],
            [
             0.3,
             "#f1b6da"
            ],
            [
             0.4,
             "#fde0ef"
            ],
            [
             0.5,
             "#f7f7f7"
            ],
            [
             0.6,
             "#e6f5d0"
            ],
            [
             0.7,
             "#b8e186"
            ],
            [
             0.8,
             "#7fbc41"
            ],
            [
             0.9,
             "#4d9221"
            ],
            [
             1,
             "#276419"
            ]
           ],
           "sequential": [
            [
             0,
             "#0d0887"
            ],
            [
             0.1111111111111111,
             "#46039f"
            ],
            [
             0.2222222222222222,
             "#7201a8"
            ],
            [
             0.3333333333333333,
             "#9c179e"
            ],
            [
             0.4444444444444444,
             "#bd3786"
            ],
            [
             0.5555555555555556,
             "#d8576b"
            ],
            [
             0.6666666666666666,
             "#ed7953"
            ],
            [
             0.7777777777777778,
             "#fb9f3a"
            ],
            [
             0.8888888888888888,
             "#fdca26"
            ],
            [
             1,
             "#f0f921"
            ]
           ],
           "sequentialminus": [
            [
             0,
             "#0d0887"
            ],
            [
             0.1111111111111111,
             "#46039f"
            ],
            [
             0.2222222222222222,
             "#7201a8"
            ],
            [
             0.3333333333333333,
             "#9c179e"
            ],
            [
             0.4444444444444444,
             "#bd3786"
            ],
            [
             0.5555555555555556,
             "#d8576b"
            ],
            [
             0.6666666666666666,
             "#ed7953"
            ],
            [
             0.7777777777777778,
             "#fb9f3a"
            ],
            [
             0.8888888888888888,
             "#fdca26"
            ],
            [
             1,
             "#f0f921"
            ]
           ]
          },
          "colorway": [
           "#636efa",
           "#EF553B",
           "#00cc96",
           "#ab63fa",
           "#FFA15A",
           "#19d3f3",
           "#FF6692",
           "#B6E880",
           "#FF97FF",
           "#FECB52"
          ],
          "font": {
           "color": "#2a3f5f"
          },
          "geo": {
           "bgcolor": "white",
           "lakecolor": "white",
           "landcolor": "#E5ECF6",
           "showlakes": true,
           "showland": true,
           "subunitcolor": "white"
          },
          "hoverlabel": {
           "align": "left"
          },
          "hovermode": "closest",
          "mapbox": {
           "style": "light"
          },
          "paper_bgcolor": "white",
          "plot_bgcolor": "#E5ECF6",
          "polar": {
           "angularaxis": {
            "gridcolor": "white",
            "linecolor": "white",
            "ticks": ""
           },
           "bgcolor": "#E5ECF6",
           "radialaxis": {
            "gridcolor": "white",
            "linecolor": "white",
            "ticks": ""
           }
          },
          "scene": {
           "xaxis": {
            "backgroundcolor": "#E5ECF6",
            "gridcolor": "white",
            "gridwidth": 2,
            "linecolor": "white",
            "showbackground": true,
            "ticks": "",
            "zerolinecolor": "white"
           },
           "yaxis": {
            "backgroundcolor": "#E5ECF6",
            "gridcolor": "white",
            "gridwidth": 2,
            "linecolor": "white",
            "showbackground": true,
            "ticks": "",
            "zerolinecolor": "white"
           },
           "zaxis": {
            "backgroundcolor": "#E5ECF6",
            "gridcolor": "white",
            "gridwidth": 2,
            "linecolor": "white",
            "showbackground": true,
            "ticks": "",
            "zerolinecolor": "white"
           }
          },
          "shapedefaults": {
           "line": {
            "color": "#2a3f5f"
           }
          },
          "ternary": {
           "aaxis": {
            "gridcolor": "white",
            "linecolor": "white",
            "ticks": ""
           },
           "baxis": {
            "gridcolor": "white",
            "linecolor": "white",
            "ticks": ""
           },
           "bgcolor": "#E5ECF6",
           "caxis": {
            "gridcolor": "white",
            "linecolor": "white",
            "ticks": ""
           }
          },
          "title": {
           "x": 0.05
          },
          "xaxis": {
           "automargin": true,
           "gridcolor": "white",
           "linecolor": "white",
           "ticks": "",
           "title": {
            "standoff": 15
           },
           "zerolinecolor": "white",
           "zerolinewidth": 2
          },
          "yaxis": {
           "automargin": true,
           "gridcolor": "white",
           "linecolor": "white",
           "ticks": "",
           "title": {
            "standoff": 15
           },
           "zerolinecolor": "white",
           "zerolinewidth": 2
          }
         }
        },
        "title": {
         "text": "Slice Plot"
        },
        "width": 1500,
        "xaxis": {
         "anchor": "y",
         "domain": [
          0,
          0.16799999999999998
         ],
         "title": {
          "text": "bat"
         }
        },
        "xaxis2": {
         "anchor": "y2",
         "domain": [
          0.208,
          0.376
         ],
         "title": {
          "text": "dropout"
         }
        },
        "xaxis3": {
         "anchor": "y3",
         "domain": [
          0.416,
          0.584
         ],
         "title": {
          "text": "lay"
         }
        },
        "xaxis4": {
         "anchor": "y4",
         "domain": [
          0.624,
          0.792
         ],
         "title": {
          "text": "lr"
         },
         "type": "log"
        },
        "xaxis5": {
         "anchor": "y5",
         "domain": [
          0.832,
          1
         ],
         "title": {
          "text": "neu"
         }
        },
        "yaxis": {
         "anchor": "x",
         "domain": [
          0,
          1
         ],
         "title": {
          "text": "Objective Value"
         }
        },
        "yaxis2": {
         "anchor": "x2",
         "domain": [
          0,
          1
         ],
         "matches": "y",
         "showticklabels": false
        },
        "yaxis3": {
         "anchor": "x3",
         "domain": [
          0,
          1
         ],
         "matches": "y",
         "showticklabels": false
        },
        "yaxis4": {
         "anchor": "x4",
         "domain": [
          0,
          1
         ],
         "matches": "y",
         "showticklabels": false
        },
        "yaxis5": {
         "anchor": "x5",
         "domain": [
          0,
          1
         ],
         "matches": "y",
         "showticklabels": false
        }
       }
      }
     },
     "metadata": {},
     "output_type": "display_data"
    },
    {
     "data": {
      "application/vnd.plotly.v1+json": {
       "config": {
        "plotlyServerURL": "https://plot.ly"
       },
       "data": [
        {
         "cliponaxis": false,
         "hovertemplate": [
          "lay (IntDistribution): 0.02051974805556705<extra></extra>",
          "bat (IntDistribution): 0.05551331174396427<extra></extra>",
          "dropout (FloatDistribution): 0.06400817397352151<extra></extra>",
          "lr (FloatDistribution): 0.294798995411409<extra></extra>",
          "neu (IntDistribution): 0.5651597708155381<extra></extra>"
         ],
         "marker": {
          "color": "rgb(66,146,198)"
         },
         "orientation": "h",
         "text": [
          "0.02",
          "0.06",
          "0.06",
          "0.29",
          "0.57"
         ],
         "textposition": "outside",
         "type": "bar",
         "x": [
          0.02051974805556705,
          0.05551331174396427,
          0.06400817397352151,
          0.294798995411409,
          0.5651597708155381
         ],
         "y": [
          "lay",
          "bat",
          "dropout",
          "lr",
          "neu"
         ]
        }
       ],
       "layout": {
        "showlegend": false,
        "template": {
         "data": {
          "bar": [
           {
            "error_x": {
             "color": "#2a3f5f"
            },
            "error_y": {
             "color": "#2a3f5f"
            },
            "marker": {
             "line": {
              "color": "#E5ECF6",
              "width": 0.5
             },
             "pattern": {
              "fillmode": "overlay",
              "size": 10,
              "solidity": 0.2
             }
            },
            "type": "bar"
           }
          ],
          "barpolar": [
           {
            "marker": {
             "line": {
              "color": "#E5ECF6",
              "width": 0.5
             },
             "pattern": {
              "fillmode": "overlay",
              "size": 10,
              "solidity": 0.2
             }
            },
            "type": "barpolar"
           }
          ],
          "carpet": [
           {
            "aaxis": {
             "endlinecolor": "#2a3f5f",
             "gridcolor": "white",
             "linecolor": "white",
             "minorgridcolor": "white",
             "startlinecolor": "#2a3f5f"
            },
            "baxis": {
             "endlinecolor": "#2a3f5f",
             "gridcolor": "white",
             "linecolor": "white",
             "minorgridcolor": "white",
             "startlinecolor": "#2a3f5f"
            },
            "type": "carpet"
           }
          ],
          "choropleth": [
           {
            "colorbar": {
             "outlinewidth": 0,
             "ticks": ""
            },
            "type": "choropleth"
           }
          ],
          "contour": [
           {
            "colorbar": {
             "outlinewidth": 0,
             "ticks": ""
            },
            "colorscale": [
             [
              0,
              "#0d0887"
             ],
             [
              0.1111111111111111,
              "#46039f"
             ],
             [
              0.2222222222222222,
              "#7201a8"
             ],
             [
              0.3333333333333333,
              "#9c179e"
             ],
             [
              0.4444444444444444,
              "#bd3786"
             ],
             [
              0.5555555555555556,
              "#d8576b"
             ],
             [
              0.6666666666666666,
              "#ed7953"
             ],
             [
              0.7777777777777778,
              "#fb9f3a"
             ],
             [
              0.8888888888888888,
              "#fdca26"
             ],
             [
              1,
              "#f0f921"
             ]
            ],
            "type": "contour"
           }
          ],
          "contourcarpet": [
           {
            "colorbar": {
             "outlinewidth": 0,
             "ticks": ""
            },
            "type": "contourcarpet"
           }
          ],
          "heatmap": [
           {
            "colorbar": {
             "outlinewidth": 0,
             "ticks": ""
            },
            "colorscale": [
             [
              0,
              "#0d0887"
             ],
             [
              0.1111111111111111,
              "#46039f"
             ],
             [
              0.2222222222222222,
              "#7201a8"
             ],
             [
              0.3333333333333333,
              "#9c179e"
             ],
             [
              0.4444444444444444,
              "#bd3786"
             ],
             [
              0.5555555555555556,
              "#d8576b"
             ],
             [
              0.6666666666666666,
              "#ed7953"
             ],
             [
              0.7777777777777778,
              "#fb9f3a"
             ],
             [
              0.8888888888888888,
              "#fdca26"
             ],
             [
              1,
              "#f0f921"
             ]
            ],
            "type": "heatmap"
           }
          ],
          "heatmapgl": [
           {
            "colorbar": {
             "outlinewidth": 0,
             "ticks": ""
            },
            "colorscale": [
             [
              0,
              "#0d0887"
             ],
             [
              0.1111111111111111,
              "#46039f"
             ],
             [
              0.2222222222222222,
              "#7201a8"
             ],
             [
              0.3333333333333333,
              "#9c179e"
             ],
             [
              0.4444444444444444,
              "#bd3786"
             ],
             [
              0.5555555555555556,
              "#d8576b"
             ],
             [
              0.6666666666666666,
              "#ed7953"
             ],
             [
              0.7777777777777778,
              "#fb9f3a"
             ],
             [
              0.8888888888888888,
              "#fdca26"
             ],
             [
              1,
              "#f0f921"
             ]
            ],
            "type": "heatmapgl"
           }
          ],
          "histogram": [
           {
            "marker": {
             "pattern": {
              "fillmode": "overlay",
              "size": 10,
              "solidity": 0.2
             }
            },
            "type": "histogram"
           }
          ],
          "histogram2d": [
           {
            "colorbar": {
             "outlinewidth": 0,
             "ticks": ""
            },
            "colorscale": [
             [
              0,
              "#0d0887"
             ],
             [
              0.1111111111111111,
              "#46039f"
             ],
             [
              0.2222222222222222,
              "#7201a8"
             ],
             [
              0.3333333333333333,
              "#9c179e"
             ],
             [
              0.4444444444444444,
              "#bd3786"
             ],
             [
              0.5555555555555556,
              "#d8576b"
             ],
             [
              0.6666666666666666,
              "#ed7953"
             ],
             [
              0.7777777777777778,
              "#fb9f3a"
             ],
             [
              0.8888888888888888,
              "#fdca26"
             ],
             [
              1,
              "#f0f921"
             ]
            ],
            "type": "histogram2d"
           }
          ],
          "histogram2dcontour": [
           {
            "colorbar": {
             "outlinewidth": 0,
             "ticks": ""
            },
            "colorscale": [
             [
              0,
              "#0d0887"
             ],
             [
              0.1111111111111111,
              "#46039f"
             ],
             [
              0.2222222222222222,
              "#7201a8"
             ],
             [
              0.3333333333333333,
              "#9c179e"
             ],
             [
              0.4444444444444444,
              "#bd3786"
             ],
             [
              0.5555555555555556,
              "#d8576b"
             ],
             [
              0.6666666666666666,
              "#ed7953"
             ],
             [
              0.7777777777777778,
              "#fb9f3a"
             ],
             [
              0.8888888888888888,
              "#fdca26"
             ],
             [
              1,
              "#f0f921"
             ]
            ],
            "type": "histogram2dcontour"
           }
          ],
          "mesh3d": [
           {
            "colorbar": {
             "outlinewidth": 0,
             "ticks": ""
            },
            "type": "mesh3d"
           }
          ],
          "parcoords": [
           {
            "line": {
             "colorbar": {
              "outlinewidth": 0,
              "ticks": ""
             }
            },
            "type": "parcoords"
           }
          ],
          "pie": [
           {
            "automargin": true,
            "type": "pie"
           }
          ],
          "scatter": [
           {
            "fillpattern": {
             "fillmode": "overlay",
             "size": 10,
             "solidity": 0.2
            },
            "type": "scatter"
           }
          ],
          "scatter3d": [
           {
            "line": {
             "colorbar": {
              "outlinewidth": 0,
              "ticks": ""
             }
            },
            "marker": {
             "colorbar": {
              "outlinewidth": 0,
              "ticks": ""
             }
            },
            "type": "scatter3d"
           }
          ],
          "scattercarpet": [
           {
            "marker": {
             "colorbar": {
              "outlinewidth": 0,
              "ticks": ""
             }
            },
            "type": "scattercarpet"
           }
          ],
          "scattergeo": [
           {
            "marker": {
             "colorbar": {
              "outlinewidth": 0,
              "ticks": ""
             }
            },
            "type": "scattergeo"
           }
          ],
          "scattergl": [
           {
            "marker": {
             "colorbar": {
              "outlinewidth": 0,
              "ticks": ""
             }
            },
            "type": "scattergl"
           }
          ],
          "scattermapbox": [
           {
            "marker": {
             "colorbar": {
              "outlinewidth": 0,
              "ticks": ""
             }
            },
            "type": "scattermapbox"
           }
          ],
          "scatterpolar": [
           {
            "marker": {
             "colorbar": {
              "outlinewidth": 0,
              "ticks": ""
             }
            },
            "type": "scatterpolar"
           }
          ],
          "scatterpolargl": [
           {
            "marker": {
             "colorbar": {
              "outlinewidth": 0,
              "ticks": ""
             }
            },
            "type": "scatterpolargl"
           }
          ],
          "scatterternary": [
           {
            "marker": {
             "colorbar": {
              "outlinewidth": 0,
              "ticks": ""
             }
            },
            "type": "scatterternary"
           }
          ],
          "surface": [
           {
            "colorbar": {
             "outlinewidth": 0,
             "ticks": ""
            },
            "colorscale": [
             [
              0,
              "#0d0887"
             ],
             [
              0.1111111111111111,
              "#46039f"
             ],
             [
              0.2222222222222222,
              "#7201a8"
             ],
             [
              0.3333333333333333,
              "#9c179e"
             ],
             [
              0.4444444444444444,
              "#bd3786"
             ],
             [
              0.5555555555555556,
              "#d8576b"
             ],
             [
              0.6666666666666666,
              "#ed7953"
             ],
             [
              0.7777777777777778,
              "#fb9f3a"
             ],
             [
              0.8888888888888888,
              "#fdca26"
             ],
             [
              1,
              "#f0f921"
             ]
            ],
            "type": "surface"
           }
          ],
          "table": [
           {
            "cells": {
             "fill": {
              "color": "#EBF0F8"
             },
             "line": {
              "color": "white"
             }
            },
            "header": {
             "fill": {
              "color": "#C8D4E3"
             },
             "line": {
              "color": "white"
             }
            },
            "type": "table"
           }
          ]
         },
         "layout": {
          "annotationdefaults": {
           "arrowcolor": "#2a3f5f",
           "arrowhead": 0,
           "arrowwidth": 1
          },
          "autotypenumbers": "strict",
          "coloraxis": {
           "colorbar": {
            "outlinewidth": 0,
            "ticks": ""
           }
          },
          "colorscale": {
           "diverging": [
            [
             0,
             "#8e0152"
            ],
            [
             0.1,
             "#c51b7d"
            ],
            [
             0.2,
             "#de77ae"
            ],
            [
             0.3,
             "#f1b6da"
            ],
            [
             0.4,
             "#fde0ef"
            ],
            [
             0.5,
             "#f7f7f7"
            ],
            [
             0.6,
             "#e6f5d0"
            ],
            [
             0.7,
             "#b8e186"
            ],
            [
             0.8,
             "#7fbc41"
            ],
            [
             0.9,
             "#4d9221"
            ],
            [
             1,
             "#276419"
            ]
           ],
           "sequential": [
            [
             0,
             "#0d0887"
            ],
            [
             0.1111111111111111,
             "#46039f"
            ],
            [
             0.2222222222222222,
             "#7201a8"
            ],
            [
             0.3333333333333333,
             "#9c179e"
            ],
            [
             0.4444444444444444,
             "#bd3786"
            ],
            [
             0.5555555555555556,
             "#d8576b"
            ],
            [
             0.6666666666666666,
             "#ed7953"
            ],
            [
             0.7777777777777778,
             "#fb9f3a"
            ],
            [
             0.8888888888888888,
             "#fdca26"
            ],
            [
             1,
             "#f0f921"
            ]
           ],
           "sequentialminus": [
            [
             0,
             "#0d0887"
            ],
            [
             0.1111111111111111,
             "#46039f"
            ],
            [
             0.2222222222222222,
             "#7201a8"
            ],
            [
             0.3333333333333333,
             "#9c179e"
            ],
            [
             0.4444444444444444,
             "#bd3786"
            ],
            [
             0.5555555555555556,
             "#d8576b"
            ],
            [
             0.6666666666666666,
             "#ed7953"
            ],
            [
             0.7777777777777778,
             "#fb9f3a"
            ],
            [
             0.8888888888888888,
             "#fdca26"
            ],
            [
             1,
             "#f0f921"
            ]
           ]
          },
          "colorway": [
           "#636efa",
           "#EF553B",
           "#00cc96",
           "#ab63fa",
           "#FFA15A",
           "#19d3f3",
           "#FF6692",
           "#B6E880",
           "#FF97FF",
           "#FECB52"
          ],
          "font": {
           "color": "#2a3f5f"
          },
          "geo": {
           "bgcolor": "white",
           "lakecolor": "white",
           "landcolor": "#E5ECF6",
           "showlakes": true,
           "showland": true,
           "subunitcolor": "white"
          },
          "hoverlabel": {
           "align": "left"
          },
          "hovermode": "closest",
          "mapbox": {
           "style": "light"
          },
          "paper_bgcolor": "white",
          "plot_bgcolor": "#E5ECF6",
          "polar": {
           "angularaxis": {
            "gridcolor": "white",
            "linecolor": "white",
            "ticks": ""
           },
           "bgcolor": "#E5ECF6",
           "radialaxis": {
            "gridcolor": "white",
            "linecolor": "white",
            "ticks": ""
           }
          },
          "scene": {
           "xaxis": {
            "backgroundcolor": "#E5ECF6",
            "gridcolor": "white",
            "gridwidth": 2,
            "linecolor": "white",
            "showbackground": true,
            "ticks": "",
            "zerolinecolor": "white"
           },
           "yaxis": {
            "backgroundcolor": "#E5ECF6",
            "gridcolor": "white",
            "gridwidth": 2,
            "linecolor": "white",
            "showbackground": true,
            "ticks": "",
            "zerolinecolor": "white"
           },
           "zaxis": {
            "backgroundcolor": "#E5ECF6",
            "gridcolor": "white",
            "gridwidth": 2,
            "linecolor": "white",
            "showbackground": true,
            "ticks": "",
            "zerolinecolor": "white"
           }
          },
          "shapedefaults": {
           "line": {
            "color": "#2a3f5f"
           }
          },
          "ternary": {
           "aaxis": {
            "gridcolor": "white",
            "linecolor": "white",
            "ticks": ""
           },
           "baxis": {
            "gridcolor": "white",
            "linecolor": "white",
            "ticks": ""
           },
           "bgcolor": "#E5ECF6",
           "caxis": {
            "gridcolor": "white",
            "linecolor": "white",
            "ticks": ""
           }
          },
          "title": {
           "x": 0.05
          },
          "xaxis": {
           "automargin": true,
           "gridcolor": "white",
           "linecolor": "white",
           "ticks": "",
           "title": {
            "standoff": 15
           },
           "zerolinecolor": "white",
           "zerolinewidth": 2
          },
          "yaxis": {
           "automargin": true,
           "gridcolor": "white",
           "linecolor": "white",
           "ticks": "",
           "title": {
            "standoff": 15
           },
           "zerolinecolor": "white",
           "zerolinewidth": 2
          }
         }
        },
        "title": {
         "text": "Hyperparameter Importances"
        },
        "xaxis": {
         "title": {
          "text": "Importance for Objective Value"
         }
        },
        "yaxis": {
         "title": {
          "text": "Hyperparameter"
         }
        }
       }
      }
     },
     "metadata": {},
     "output_type": "display_data"
    }
   ],
   "source": [
    "from IPython.display import display\n",
    "fig = optuna.visualization.plot_parallel_coordinate(study)\n",
    "display(fig)\n",
    "fig = optuna.visualization.plot_optimization_history(study)\n",
    "display(fig)\n",
    "fig = optuna.visualization.plot_slice(study)\n",
    "display(fig)\n",
    "fig = optuna.visualization.plot_param_importances(study)\n",
    "display(fig)"
   ]
  },
  {
   "cell_type": "code",
   "execution_count": 19,
   "metadata": {},
   "outputs": [
    {
     "name": "stdout",
     "output_type": "stream",
     "text": [
      "  Best trial:  FrozenTrial(number=18, state=TrialState.COMPLETE, values=[31.875782012939453], datetime_start=datetime.datetime(2024, 3, 28, 21, 35, 41, 4906), datetime_complete=datetime.datetime(2024, 3, 28, 21, 42, 8, 875850), params={'neu': 710, 'lay': 3, 'bat': 576, 'lr': 0.0048235795468910695, 'dropout': 0.6000000000000001}, user_attrs={}, system_attrs={}, intermediate_values={30: 31.875782012939453}, distributions={'neu': IntDistribution(high=910, log=False, low=10, step=100), 'lay': IntDistribution(high=9, log=False, low=1, step=2), 'bat': IntDistribution(high=1024, log=False, low=32, step=32), 'lr': FloatDistribution(high=0.1, log=True, low=1e-05, step=None), 'dropout': FloatDistribution(high=0.8, log=False, low=0.0, step=0.2)}, trial_id=18, value=None)\n"
     ]
    }
   ],
   "source": [
    "print(\"  Best trial: \", trial)"
   ]
  }
 ],
 "metadata": {
  "kernelspec": {
   "display_name": "deepar-gpu",
   "language": "python",
   "name": "python3"
  },
  "language_info": {
   "codemirror_mode": {
    "name": "ipython",
    "version": 3
   },
   "file_extension": ".py",
   "mimetype": "text/x-python",
   "name": "python",
   "nbconvert_exporter": "python",
   "pygments_lexer": "ipython3",
   "version": "3.10.9"
  }
 },
 "nbformat": 4,
 "nbformat_minor": 2
}

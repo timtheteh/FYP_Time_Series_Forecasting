{
 "cells": [
  {
   "cell_type": "code",
   "execution_count": 199,
   "metadata": {},
   "outputs": [
    {
     "name": "stderr",
     "output_type": "stream",
     "text": [
      "Global seed set to 0\n"
     ]
    },
    {
     "data": {
      "text/plain": [
       "0"
      ]
     },
     "execution_count": 199,
     "metadata": {},
     "output_type": "execute_result"
    }
   ],
   "source": [
    "import os\n",
    "import sys\n",
    "\n",
    "\"\"\"Linux\"\"\"\n",
    "os.chdir(\"/home/optimusprime/Desktop/peeterson/github/DeepAR_demand_prediction/Rental_Fleet_Demand_Forecast\")\n",
    "sys.path.append(os.path.abspath(os.path.join(\"/home/optimusprime/Desktop/peeterson/github/DeepAR_demand_prediction/Rental_Fleet_Demand_Forecast\")))\n",
    "\n",
    "os.chdir(\"/home/optimusprime/Desktop/peeterson/github/DeepAR_demand_prediction/Rental_Fleet_Demand_Forecast/libs/linux-gpu\")\n",
    "\n",
    "\n",
    "#from ctypes import FormatError\n",
    "import numpy as np\n",
    "\n",
    "import warnings\n",
    "warnings.filterwarnings(\"ignore\")\n",
    "\n",
    "import os,sys\n",
    "\n",
    "import torch\n",
    "torch.use_deterministic_algorithms(True)\n",
    "import pytorch_lightning as pl\n",
    "from pytorch_forecasting.data.encoders import TorchNormalizer\n",
    "from pytorch_forecasting.metrics import SMAPE, RMSE\n",
    "from torchmetrics import R2Score, SymmetricMeanAbsolutePercentageError, MeanSquaredError\n",
    "\n",
    "import matplotlib.pyplot as plt\n",
    "import pandas as pd\n",
    "from pytorch_forecasting.data import TimeSeriesDataSet\n",
    "from pytorch_forecasting.data.encoders import NaNLabelEncoder\n",
    "from pytorch_lightning.callbacks import EarlyStopping, LearningRateMonitor\n",
    "import torch\n",
    "from pytorch_forecasting.data.encoders import TorchNormalizer\n",
    "import os,sys\n",
    "import numpy as np\n",
    "from statsmodels.tsa.stattools import adfuller\n",
    "from statsmodels.tsa.seasonal import seasonal_decompose\n",
    "from statsmodels.graphics.tsaplots import plot_acf\n",
    "from statsmodels.graphics.tsaplots import plot_pacf\n",
    "from statsmodels.tsa.stattools import acf,pacf\n",
    "from scipy.signal import find_peaks\n",
    "import operator\n",
    "import statsmodels.api as sm\n",
    "from itertools import combinations\n",
    "import pickle\n",
    "from pytorch_forecasting import Baseline\n",
    "import random\n",
    "from pytorch_forecasting import DeepAR,NegativeBinomialDistributionLoss\n",
    "from itertools import product\n",
    "from sklearn.metrics import mean_absolute_error, mean_squared_error\n",
    "import optuna\n",
    "from optuna.trial import TrialState\n",
    "import plotly\n",
    "#from deepar_RegionWise_LinuxGpu_prediction_dev import train_and_forecast\n",
    "from sklearn.metrics import classification_report\n",
    "\n",
    "\"\"\"\n",
    "Set Random seed\n",
    "\"\"\"\n",
    "\n",
    "random.seed(0)\n",
    "torch.manual_seed(0)\n",
    "np.random.seed(0)\n",
    "## additional seeding to ensure reproduciblility.\n",
    "pl.seed_everything(0)"
   ]
  },
  {
   "cell_type": "markdown",
   "metadata": {},
   "source": [
    "Now for the round 0, we reduce dataset even more from 20% to 5%. num-epochs to a first value of 50. number of trials to a fixed number of 30."
   ]
  },
  {
   "cell_type": "code",
   "execution_count": 200,
   "metadata": {},
   "outputs": [],
   "source": [
    "dataset_size = 0.05\n",
    "num_epochs = 30\n",
    "num_trials = 30\n",
    "logs_directory = \"/home/optimusprime/Desktop/Timothy_EXP_1/Round_0_logs\""
   ]
  },
  {
   "cell_type": "code",
   "execution_count": 201,
   "metadata": {},
   "outputs": [
    {
     "data": {
      "text/html": [
       "<div>\n",
       "<style scoped>\n",
       "    .dataframe tbody tr th:only-of-type {\n",
       "        vertical-align: middle;\n",
       "    }\n",
       "\n",
       "    .dataframe tbody tr th {\n",
       "        vertical-align: top;\n",
       "    }\n",
       "\n",
       "    .dataframe thead th {\n",
       "        text-align: right;\n",
       "    }\n",
       "</style>\n",
       "<table border=\"1\" class=\"dataframe\">\n",
       "  <thead>\n",
       "    <tr style=\"text-align: right;\">\n",
       "      <th></th>\n",
       "      <th>time_idx</th>\n",
       "      <th>datetime</th>\n",
       "      <th>group</th>\n",
       "      <th>target</th>\n",
       "      <th>inflow</th>\n",
       "    </tr>\n",
       "  </thead>\n",
       "  <tbody>\n",
       "    <tr>\n",
       "      <th>0</th>\n",
       "      <td>0</td>\n",
       "      <td>2021-01-01 00:00:00</td>\n",
       "      <td>4</td>\n",
       "      <td>3.0</td>\n",
       "      <td>8.0</td>\n",
       "    </tr>\n",
       "    <tr>\n",
       "      <th>1</th>\n",
       "      <td>1</td>\n",
       "      <td>2021-01-01 01:00:00</td>\n",
       "      <td>4</td>\n",
       "      <td>1.0</td>\n",
       "      <td>13.0</td>\n",
       "    </tr>\n",
       "    <tr>\n",
       "      <th>2</th>\n",
       "      <td>2</td>\n",
       "      <td>2021-01-01 02:00:00</td>\n",
       "      <td>4</td>\n",
       "      <td>2.0</td>\n",
       "      <td>9.0</td>\n",
       "    </tr>\n",
       "    <tr>\n",
       "      <th>3</th>\n",
       "      <td>3</td>\n",
       "      <td>2021-01-01 03:00:00</td>\n",
       "      <td>4</td>\n",
       "      <td>3.0</td>\n",
       "      <td>5.0</td>\n",
       "    </tr>\n",
       "    <tr>\n",
       "      <th>4</th>\n",
       "      <td>4</td>\n",
       "      <td>2021-01-01 04:00:00</td>\n",
       "      <td>4</td>\n",
       "      <td>0.0</td>\n",
       "      <td>2.0</td>\n",
       "    </tr>\n",
       "    <tr>\n",
       "      <th>...</th>\n",
       "      <td>...</td>\n",
       "      <td>...</td>\n",
       "      <td>...</td>\n",
       "      <td>...</td>\n",
       "      <td>...</td>\n",
       "    </tr>\n",
       "    <tr>\n",
       "      <th>1637653</th>\n",
       "      <td>24808</td>\n",
       "      <td>2023-10-31 16:00:00</td>\n",
       "      <td>263</td>\n",
       "      <td>126.0</td>\n",
       "      <td>153.0</td>\n",
       "    </tr>\n",
       "    <tr>\n",
       "      <th>1637654</th>\n",
       "      <td>24809</td>\n",
       "      <td>2023-10-31 17:00:00</td>\n",
       "      <td>263</td>\n",
       "      <td>112.0</td>\n",
       "      <td>135.0</td>\n",
       "    </tr>\n",
       "    <tr>\n",
       "      <th>1637655</th>\n",
       "      <td>24810</td>\n",
       "      <td>2023-10-31 18:00:00</td>\n",
       "      <td>263</td>\n",
       "      <td>99.0</td>\n",
       "      <td>119.0</td>\n",
       "    </tr>\n",
       "    <tr>\n",
       "      <th>1637656</th>\n",
       "      <td>24811</td>\n",
       "      <td>2023-10-31 19:00:00</td>\n",
       "      <td>263</td>\n",
       "      <td>60.0</td>\n",
       "      <td>119.0</td>\n",
       "    </tr>\n",
       "    <tr>\n",
       "      <th>1637657</th>\n",
       "      <td>24812</td>\n",
       "      <td>2023-10-31 20:00:00</td>\n",
       "      <td>263</td>\n",
       "      <td>50.0</td>\n",
       "      <td>92.0</td>\n",
       "    </tr>\n",
       "  </tbody>\n",
       "</table>\n",
       "<p>1637658 rows × 5 columns</p>\n",
       "</div>"
      ],
      "text/plain": [
       "         time_idx            datetime  group  target  inflow\n",
       "0               0 2021-01-01 00:00:00      4     3.0     8.0\n",
       "1               1 2021-01-01 01:00:00      4     1.0    13.0\n",
       "2               2 2021-01-01 02:00:00      4     2.0     9.0\n",
       "3               3 2021-01-01 03:00:00      4     3.0     5.0\n",
       "4               4 2021-01-01 04:00:00      4     0.0     2.0\n",
       "...           ...                 ...    ...     ...     ...\n",
       "1637653     24808 2023-10-31 16:00:00    263   126.0   153.0\n",
       "1637654     24809 2023-10-31 17:00:00    263   112.0   135.0\n",
       "1637655     24810 2023-10-31 18:00:00    263    99.0   119.0\n",
       "1637656     24811 2023-10-31 19:00:00    263    60.0   119.0\n",
       "1637657     24812 2023-10-31 20:00:00    263    50.0    92.0\n",
       "\n",
       "[1637658 rows x 5 columns]"
      ]
     },
     "execution_count": 201,
     "metadata": {},
     "output_type": "execute_result"
    }
   ],
   "source": [
    "\"\"\"\n",
    "Import pre-processed Data (tsfresh features)\n",
    "\n",
    "response and target are the same thing\n",
    "\"\"\"\n",
    "\n",
    "### Your code\n",
    "os.chdir('/home/optimusprime/Desktop/Data_Timothy')\n",
    "############ Basically df = raw_feat_df <-------------------------\n",
    "df = pd.read_parquet('EXP_1_combined_dd_ss_raw_feat_data_no_tsfresh.parquet', engine='pyarrow')\n",
    "df"
   ]
  },
  {
   "cell_type": "code",
   "execution_count": 202,
   "metadata": {},
   "outputs": [],
   "source": [
    "working_directory = '/home/optimusprime/Desktop/Timothy_EXP_1'\n",
    "os.chdir(working_directory)"
   ]
  },
  {
   "cell_type": "code",
   "execution_count": 203,
   "metadata": {},
   "outputs": [],
   "source": [
    "first_idx = df['time_idx'][0]\n",
    "total_time_idx = df[df.group == 4].shape[0]\n",
    "reduced_df_time_idx = [*range(first_idx, int(dataset_size*total_time_idx)+1, 1)]\n",
    "df = df[df['time_idx'].isin(reduced_df_time_idx)]"
   ]
  },
  {
   "cell_type": "code",
   "execution_count": 204,
   "metadata": {},
   "outputs": [
    {
     "name": "stdout",
     "output_type": "stream",
     "text": [
      "['inflow']\n"
     ]
    }
   ],
   "source": [
    "numeric_cols = list(df.columns)\n",
    "numeric_cols = [e for e in numeric_cols if e not in ('time_idx', 'datetime', 'group', 'target')]\n",
    "print(numeric_cols)"
   ]
  },
  {
   "cell_type": "code",
   "execution_count": 205,
   "metadata": {},
   "outputs": [],
   "source": [
    "#################### add date information ts ####################\n",
    "\n",
    "# create datetime features from datetime column in raw_feat_df\n",
    "df['_hour_of_day'] = df[\"datetime\"].dt.hour.astype(str)\n",
    "df['_day_of_week'] = df[\"datetime\"].dt.dayofweek.astype(str)\n",
    "df['_day_of_month'] = df[\"datetime\"].dt.day.astype(str)\n",
    "df['_day_of_year'] = df[\"datetime\"].dt.dayofyear.astype(str)\n",
    "df['_week_of_year'] = df[\"datetime\"].dt.weekofyear.astype(str)\n",
    "df['_month_of_year'] = df[\"datetime\"].dt.month.astype(str)\n",
    "df['_year'] = df[\"datetime\"].dt.year.astype(str)\n",
    "#################### add date information ts ####################\n",
    "\n",
    "hour_of_day_nunique = df['_hour_of_day'].nunique()\n",
    "day_of_week_nunique = df['_day_of_week'].nunique()\n",
    "day_of_month_nunique = df['_day_of_month'].nunique()\n",
    "day_of_year_nunique = df['_day_of_year'].nunique()\n",
    "week_of_year_nunique = df['_week_of_year'].nunique()\n",
    "month_of_year_nunique = df['_month_of_year'].nunique()\n",
    "year_nunique = df['_year'].nunique()"
   ]
  },
  {
   "cell_type": "code",
   "execution_count": 206,
   "metadata": {},
   "outputs": [
    {
     "data": {
      "text/html": [
       "<div>\n",
       "<style scoped>\n",
       "    .dataframe tbody tr th:only-of-type {\n",
       "        vertical-align: middle;\n",
       "    }\n",
       "\n",
       "    .dataframe tbody tr th {\n",
       "        vertical-align: top;\n",
       "    }\n",
       "\n",
       "    .dataframe thead th {\n",
       "        text-align: right;\n",
       "    }\n",
       "</style>\n",
       "<table border=\"1\" class=\"dataframe\">\n",
       "  <thead>\n",
       "    <tr style=\"text-align: right;\">\n",
       "      <th></th>\n",
       "      <th>time_idx</th>\n",
       "      <th>datetime</th>\n",
       "      <th>group</th>\n",
       "      <th>target</th>\n",
       "      <th>inflow</th>\n",
       "      <th>_hour_of_day</th>\n",
       "      <th>_day_of_week</th>\n",
       "      <th>_day_of_month</th>\n",
       "      <th>_day_of_year</th>\n",
       "      <th>_week_of_year</th>\n",
       "      <th>_month_of_year</th>\n",
       "      <th>_year</th>\n",
       "    </tr>\n",
       "  </thead>\n",
       "  <tbody>\n",
       "    <tr>\n",
       "      <th>0</th>\n",
       "      <td>0</td>\n",
       "      <td>2021-01-01 00:00:00</td>\n",
       "      <td>4</td>\n",
       "      <td>3.0</td>\n",
       "      <td>8.0</td>\n",
       "      <td>0</td>\n",
       "      <td>4</td>\n",
       "      <td>1</td>\n",
       "      <td>1</td>\n",
       "      <td>53</td>\n",
       "      <td>1</td>\n",
       "      <td>2021</td>\n",
       "    </tr>\n",
       "    <tr>\n",
       "      <th>1</th>\n",
       "      <td>1</td>\n",
       "      <td>2021-01-01 01:00:00</td>\n",
       "      <td>4</td>\n",
       "      <td>1.0</td>\n",
       "      <td>13.0</td>\n",
       "      <td>1</td>\n",
       "      <td>4</td>\n",
       "      <td>1</td>\n",
       "      <td>1</td>\n",
       "      <td>53</td>\n",
       "      <td>1</td>\n",
       "      <td>2021</td>\n",
       "    </tr>\n",
       "    <tr>\n",
       "      <th>2</th>\n",
       "      <td>2</td>\n",
       "      <td>2021-01-01 02:00:00</td>\n",
       "      <td>4</td>\n",
       "      <td>2.0</td>\n",
       "      <td>9.0</td>\n",
       "      <td>2</td>\n",
       "      <td>4</td>\n",
       "      <td>1</td>\n",
       "      <td>1</td>\n",
       "      <td>53</td>\n",
       "      <td>1</td>\n",
       "      <td>2021</td>\n",
       "    </tr>\n",
       "    <tr>\n",
       "      <th>3</th>\n",
       "      <td>3</td>\n",
       "      <td>2021-01-01 03:00:00</td>\n",
       "      <td>4</td>\n",
       "      <td>3.0</td>\n",
       "      <td>5.0</td>\n",
       "      <td>3</td>\n",
       "      <td>4</td>\n",
       "      <td>1</td>\n",
       "      <td>1</td>\n",
       "      <td>53</td>\n",
       "      <td>1</td>\n",
       "      <td>2021</td>\n",
       "    </tr>\n",
       "    <tr>\n",
       "      <th>4</th>\n",
       "      <td>4</td>\n",
       "      <td>2021-01-01 04:00:00</td>\n",
       "      <td>4</td>\n",
       "      <td>0.0</td>\n",
       "      <td>2.0</td>\n",
       "      <td>4</td>\n",
       "      <td>4</td>\n",
       "      <td>1</td>\n",
       "      <td>1</td>\n",
       "      <td>53</td>\n",
       "      <td>1</td>\n",
       "      <td>2021</td>\n",
       "    </tr>\n",
       "    <tr>\n",
       "      <th>...</th>\n",
       "      <td>...</td>\n",
       "      <td>...</td>\n",
       "      <td>...</td>\n",
       "      <td>...</td>\n",
       "      <td>...</td>\n",
       "      <td>...</td>\n",
       "      <td>...</td>\n",
       "      <td>...</td>\n",
       "      <td>...</td>\n",
       "      <td>...</td>\n",
       "      <td>...</td>\n",
       "      <td>...</td>\n",
       "    </tr>\n",
       "    <tr>\n",
       "      <th>1614081</th>\n",
       "      <td>1236</td>\n",
       "      <td>2021-02-21 12:00:00</td>\n",
       "      <td>263</td>\n",
       "      <td>102.0</td>\n",
       "      <td>83.0</td>\n",
       "      <td>12</td>\n",
       "      <td>6</td>\n",
       "      <td>21</td>\n",
       "      <td>52</td>\n",
       "      <td>7</td>\n",
       "      <td>2</td>\n",
       "      <td>2021</td>\n",
       "    </tr>\n",
       "    <tr>\n",
       "      <th>1614082</th>\n",
       "      <td>1237</td>\n",
       "      <td>2021-02-21 13:00:00</td>\n",
       "      <td>263</td>\n",
       "      <td>89.0</td>\n",
       "      <td>72.0</td>\n",
       "      <td>13</td>\n",
       "      <td>6</td>\n",
       "      <td>21</td>\n",
       "      <td>52</td>\n",
       "      <td>7</td>\n",
       "      <td>2</td>\n",
       "      <td>2021</td>\n",
       "    </tr>\n",
       "    <tr>\n",
       "      <th>1614083</th>\n",
       "      <td>1238</td>\n",
       "      <td>2021-02-21 14:00:00</td>\n",
       "      <td>263</td>\n",
       "      <td>72.0</td>\n",
       "      <td>84.0</td>\n",
       "      <td>14</td>\n",
       "      <td>6</td>\n",
       "      <td>21</td>\n",
       "      <td>52</td>\n",
       "      <td>7</td>\n",
       "      <td>2</td>\n",
       "      <td>2021</td>\n",
       "    </tr>\n",
       "    <tr>\n",
       "      <th>1614084</th>\n",
       "      <td>1239</td>\n",
       "      <td>2021-02-21 15:00:00</td>\n",
       "      <td>263</td>\n",
       "      <td>65.0</td>\n",
       "      <td>78.0</td>\n",
       "      <td>15</td>\n",
       "      <td>6</td>\n",
       "      <td>21</td>\n",
       "      <td>52</td>\n",
       "      <td>7</td>\n",
       "      <td>2</td>\n",
       "      <td>2021</td>\n",
       "    </tr>\n",
       "    <tr>\n",
       "      <th>1614085</th>\n",
       "      <td>1240</td>\n",
       "      <td>2021-02-21 16:00:00</td>\n",
       "      <td>263</td>\n",
       "      <td>71.0</td>\n",
       "      <td>93.0</td>\n",
       "      <td>16</td>\n",
       "      <td>6</td>\n",
       "      <td>21</td>\n",
       "      <td>52</td>\n",
       "      <td>7</td>\n",
       "      <td>2</td>\n",
       "      <td>2021</td>\n",
       "    </tr>\n",
       "  </tbody>\n",
       "</table>\n",
       "<p>81906 rows × 12 columns</p>\n",
       "</div>"
      ],
      "text/plain": [
       "         time_idx            datetime  group  target  inflow _hour_of_day  \\\n",
       "0               0 2021-01-01 00:00:00      4     3.0     8.0            0   \n",
       "1               1 2021-01-01 01:00:00      4     1.0    13.0            1   \n",
       "2               2 2021-01-01 02:00:00      4     2.0     9.0            2   \n",
       "3               3 2021-01-01 03:00:00      4     3.0     5.0            3   \n",
       "4               4 2021-01-01 04:00:00      4     0.0     2.0            4   \n",
       "...           ...                 ...    ...     ...     ...          ...   \n",
       "1614081      1236 2021-02-21 12:00:00    263   102.0    83.0           12   \n",
       "1614082      1237 2021-02-21 13:00:00    263    89.0    72.0           13   \n",
       "1614083      1238 2021-02-21 14:00:00    263    72.0    84.0           14   \n",
       "1614084      1239 2021-02-21 15:00:00    263    65.0    78.0           15   \n",
       "1614085      1240 2021-02-21 16:00:00    263    71.0    93.0           16   \n",
       "\n",
       "        _day_of_week _day_of_month _day_of_year _week_of_year _month_of_year  \\\n",
       "0                  4             1            1            53              1   \n",
       "1                  4             1            1            53              1   \n",
       "2                  4             1            1            53              1   \n",
       "3                  4             1            1            53              1   \n",
       "4                  4             1            1            53              1   \n",
       "...              ...           ...          ...           ...            ...   \n",
       "1614081            6            21           52             7              2   \n",
       "1614082            6            21           52             7              2   \n",
       "1614083            6            21           52             7              2   \n",
       "1614084            6            21           52             7              2   \n",
       "1614085            6            21           52             7              2   \n",
       "\n",
       "        _year  \n",
       "0        2021  \n",
       "1        2021  \n",
       "2        2021  \n",
       "3        2021  \n",
       "4        2021  \n",
       "...       ...  \n",
       "1614081  2021  \n",
       "1614082  2021  \n",
       "1614083  2021  \n",
       "1614084  2021  \n",
       "1614085  2021  \n",
       "\n",
       "[81906 rows x 12 columns]"
      ]
     },
     "execution_count": 206,
     "metadata": {},
     "output_type": "execute_result"
    }
   ],
   "source": [
    "df"
   ]
  },
  {
   "cell_type": "code",
   "execution_count": 207,
   "metadata": {},
   "outputs": [
    {
     "name": "stdout",
     "output_type": "stream",
     "text": [
      "24\n",
      "7\n",
      "31\n",
      "52\n",
      "8\n",
      "2\n",
      "1\n"
     ]
    }
   ],
   "source": [
    "print(hour_of_day_nunique)\n",
    "print(day_of_week_nunique)\n",
    "print(day_of_month_nunique)\n",
    "print(day_of_year_nunique)\n",
    "print(week_of_year_nunique)\n",
    "print(month_of_year_nunique)\n",
    "print(year_nunique)"
   ]
  },
  {
   "cell_type": "code",
   "execution_count": 208,
   "metadata": {},
   "outputs": [
    {
     "name": "stdout",
     "output_type": "stream",
     "text": [
      "66 \n",
      "\n",
      "[4, 12, 13, 24, 41, 42, 43, 45, 48, 50, 68, 74, 75, 79, 87, 88, 90, 100, 107, 113, 114, 116, 120, 125, 127, 128, 137, 140, 141, 142, 143, 144, 148, 151, 152, 153, 158, 161, 162, 163, 164, 166, 170, 186, 194, 202, 209, 211, 224, 229, 230, 231, 232, 233, 234, 236, 237, 238, 239, 243, 244, 246, 249, 261, 262, 263]\n"
     ]
    }
   ],
   "source": [
    "unique_values_group_no_ts_fresh = list(df['group'].unique())\n",
    "print(len(unique_values_group_no_ts_fresh), \"\\n\")\n",
    "print(unique_values_group_no_ts_fresh)"
   ]
  },
  {
   "cell_type": "code",
   "execution_count": 209,
   "metadata": {},
   "outputs": [
    {
     "name": "stdout",
     "output_type": "stream",
     "text": [
      "Group  4  has  1241  number of rows in df_ts_fresh \n",
      "\n",
      "First idx:  0 ; Last idx:  1240 \n",
      "\n",
      "Group  12  has  1241  number of rows in df_ts_fresh \n",
      "\n",
      "First idx:  0 ; Last idx:  1240 \n",
      "\n",
      "Group  13  has  1241  number of rows in df_ts_fresh \n",
      "\n",
      "First idx:  0 ; Last idx:  1240 \n",
      "\n",
      "Group  24  has  1241  number of rows in df_ts_fresh \n",
      "\n",
      "First idx:  0 ; Last idx:  1240 \n",
      "\n",
      "Group  41  has  1241  number of rows in df_ts_fresh \n",
      "\n",
      "First idx:  0 ; Last idx:  1240 \n",
      "\n",
      "Group  42  has  1241  number of rows in df_ts_fresh \n",
      "\n",
      "First idx:  0 ; Last idx:  1240 \n",
      "\n",
      "Group  43  has  1241  number of rows in df_ts_fresh \n",
      "\n",
      "First idx:  0 ; Last idx:  1240 \n",
      "\n",
      "Group  45  has  1241  number of rows in df_ts_fresh \n",
      "\n",
      "First idx:  0 ; Last idx:  1240 \n",
      "\n",
      "Group  48  has  1241  number of rows in df_ts_fresh \n",
      "\n",
      "First idx:  0 ; Last idx:  1240 \n",
      "\n",
      "Group  50  has  1241  number of rows in df_ts_fresh \n",
      "\n",
      "First idx:  0 ; Last idx:  1240 \n",
      "\n",
      "Group  68  has  1241  number of rows in df_ts_fresh \n",
      "\n",
      "First idx:  0 ; Last idx:  1240 \n",
      "\n",
      "Group  74  has  1241  number of rows in df_ts_fresh \n",
      "\n",
      "First idx:  0 ; Last idx:  1240 \n",
      "\n",
      "Group  75  has  1241  number of rows in df_ts_fresh \n",
      "\n",
      "First idx:  0 ; Last idx:  1240 \n",
      "\n",
      "Group  79  has  1241  number of rows in df_ts_fresh \n",
      "\n",
      "First idx:  0 ; Last idx:  1240 \n",
      "\n",
      "Group  87  has  1241  number of rows in df_ts_fresh \n",
      "\n",
      "First idx:  0 ; Last idx:  1240 \n",
      "\n",
      "Group  88  has  1241  number of rows in df_ts_fresh \n",
      "\n",
      "First idx:  0 ; Last idx:  1240 \n",
      "\n",
      "Group  90  has  1241  number of rows in df_ts_fresh \n",
      "\n",
      "First idx:  0 ; Last idx:  1240 \n",
      "\n",
      "Group  100  has  1241  number of rows in df_ts_fresh \n",
      "\n",
      "First idx:  0 ; Last idx:  1240 \n",
      "\n",
      "Group  107  has  1241  number of rows in df_ts_fresh \n",
      "\n",
      "First idx:  0 ; Last idx:  1240 \n",
      "\n",
      "Group  113  has  1241  number of rows in df_ts_fresh \n",
      "\n",
      "First idx:  0 ; Last idx:  1240 \n",
      "\n",
      "Group  114  has  1241  number of rows in df_ts_fresh \n",
      "\n",
      "First idx:  0 ; Last idx:  1240 \n",
      "\n",
      "Group  116  has  1241  number of rows in df_ts_fresh \n",
      "\n",
      "First idx:  0 ; Last idx:  1240 \n",
      "\n",
      "Group  120  has  1241  number of rows in df_ts_fresh \n",
      "\n",
      "First idx:  0 ; Last idx:  1240 \n",
      "\n",
      "Group  125  has  1241  number of rows in df_ts_fresh \n",
      "\n",
      "First idx:  0 ; Last idx:  1240 \n",
      "\n",
      "Group  127  has  1241  number of rows in df_ts_fresh \n",
      "\n",
      "First idx:  0 ; Last idx:  1240 \n",
      "\n",
      "Group  128  has  1241  number of rows in df_ts_fresh \n",
      "\n",
      "First idx:  0 ; Last idx:  1240 \n",
      "\n",
      "Group  137  has  1241  number of rows in df_ts_fresh \n",
      "\n",
      "First idx:  0 ; Last idx:  1240 \n",
      "\n",
      "Group  140  has  1241  number of rows in df_ts_fresh \n",
      "\n",
      "First idx:  0 ; Last idx:  1240 \n",
      "\n",
      "Group  141  has  1241  number of rows in df_ts_fresh \n",
      "\n",
      "First idx:  0 ; Last idx:  1240 \n",
      "\n",
      "Group  142  has  1241  number of rows in df_ts_fresh \n",
      "\n",
      "First idx:  0 ; Last idx:  1240 \n",
      "\n",
      "Group  143  has  1241  number of rows in df_ts_fresh \n",
      "\n",
      "First idx:  0 ; Last idx:  1240 \n",
      "\n",
      "Group  144  has  1241  number of rows in df_ts_fresh \n",
      "\n",
      "First idx:  0 ; Last idx:  1240 \n",
      "\n",
      "Group  148  has  1241  number of rows in df_ts_fresh \n",
      "\n",
      "First idx:  0 ; Last idx:  1240 \n",
      "\n",
      "Group  151  has  1241  number of rows in df_ts_fresh \n",
      "\n",
      "First idx:  0 ; Last idx:  1240 \n",
      "\n",
      "Group  152  has  1241  number of rows in df_ts_fresh \n",
      "\n",
      "First idx:  0 ; Last idx:  1240 \n",
      "\n",
      "Group  153  has  1241  number of rows in df_ts_fresh \n",
      "\n",
      "First idx:  0 ; Last idx:  1240 \n",
      "\n",
      "Group  158  has  1241  number of rows in df_ts_fresh \n",
      "\n",
      "First idx:  0 ; Last idx:  1240 \n",
      "\n",
      "Group  161  has  1241  number of rows in df_ts_fresh \n",
      "\n",
      "First idx:  0 ; Last idx:  1240 \n",
      "\n",
      "Group  162  has  1241  number of rows in df_ts_fresh \n",
      "\n",
      "First idx:  0 ; Last idx:  1240 \n",
      "\n",
      "Group  163  has  1241  number of rows in df_ts_fresh \n",
      "\n",
      "First idx:  0 ; Last idx:  1240 \n",
      "\n",
      "Group  164  has  1241  number of rows in df_ts_fresh \n",
      "\n",
      "First idx:  0 ; Last idx:  1240 \n",
      "\n",
      "Group  166  has  1241  number of rows in df_ts_fresh \n",
      "\n",
      "First idx:  0 ; Last idx:  1240 \n",
      "\n",
      "Group  170  has  1241  number of rows in df_ts_fresh \n",
      "\n",
      "First idx:  0 ; Last idx:  1240 \n",
      "\n",
      "Group  186  has  1241  number of rows in df_ts_fresh \n",
      "\n",
      "First idx:  0 ; Last idx:  1240 \n",
      "\n",
      "Group  194  has  1241  number of rows in df_ts_fresh \n",
      "\n",
      "First idx:  0 ; Last idx:  1240 \n",
      "\n",
      "Group  202  has  1241  number of rows in df_ts_fresh \n",
      "\n",
      "First idx:  0 ; Last idx:  1240 \n",
      "\n",
      "Group  209  has  1241  number of rows in df_ts_fresh \n",
      "\n",
      "First idx:  0 ; Last idx:  1240 \n",
      "\n",
      "Group  211  has  1241  number of rows in df_ts_fresh \n",
      "\n",
      "First idx:  0 ; Last idx:  1240 \n",
      "\n",
      "Group  224  has  1241  number of rows in df_ts_fresh \n",
      "\n",
      "First idx:  0 ; Last idx:  1240 \n",
      "\n",
      "Group  229  has  1241  number of rows in df_ts_fresh \n",
      "\n",
      "First idx:  0 ; Last idx:  1240 \n",
      "\n",
      "Group  230  has  1241  number of rows in df_ts_fresh \n",
      "\n",
      "First idx:  0 ; Last idx:  1240 \n",
      "\n",
      "Group  231  has  1241  number of rows in df_ts_fresh \n",
      "\n",
      "First idx:  0 ; Last idx:  1240 \n",
      "\n",
      "Group  232  has  1241  number of rows in df_ts_fresh \n",
      "\n",
      "First idx:  0 ; Last idx:  1240 \n",
      "\n",
      "Group  233  has  1241  number of rows in df_ts_fresh \n",
      "\n",
      "First idx:  0 ; Last idx:  1240 \n",
      "\n",
      "Group  234  has  1241  number of rows in df_ts_fresh \n",
      "\n",
      "First idx:  0 ; Last idx:  1240 \n",
      "\n",
      "Group  236  has  1241  number of rows in df_ts_fresh \n",
      "\n",
      "First idx:  0 ; Last idx:  1240 \n",
      "\n",
      "Group  237  has  1241  number of rows in df_ts_fresh \n",
      "\n",
      "First idx:  0 ; Last idx:  1240 \n",
      "\n",
      "Group  238  has  1241  number of rows in df_ts_fresh \n",
      "\n",
      "First idx:  0 ; Last idx:  1240 \n",
      "\n",
      "Group  239  has  1241  number of rows in df_ts_fresh \n",
      "\n",
      "First idx:  0 ; Last idx:  1240 \n",
      "\n",
      "Group  243  has  1241  number of rows in df_ts_fresh \n",
      "\n",
      "First idx:  0 ; Last idx:  1240 \n",
      "\n",
      "Group  244  has  1241  number of rows in df_ts_fresh \n",
      "\n",
      "First idx:  0 ; Last idx:  1240 \n",
      "\n",
      "Group  246  has  1241  number of rows in df_ts_fresh \n",
      "\n",
      "First idx:  0 ; Last idx:  1240 \n",
      "\n",
      "Group  249  has  1241  number of rows in df_ts_fresh \n",
      "\n",
      "First idx:  0 ; Last idx:  1240 \n",
      "\n",
      "Group  261  has  1241  number of rows in df_ts_fresh \n",
      "\n",
      "First idx:  0 ; Last idx:  1240 \n",
      "\n",
      "Group  262  has  1241  number of rows in df_ts_fresh \n",
      "\n",
      "First idx:  0 ; Last idx:  1240 \n",
      "\n",
      "Group  263  has  1241  number of rows in df_ts_fresh \n",
      "\n",
      "First idx:  0 ; Last idx:  1240 \n",
      "\n"
     ]
    }
   ],
   "source": [
    "zones_time_idx_no_ts_fresh = {}\n",
    "for i in unique_values_group_no_ts_fresh:\n",
    "    df1 = df[df['group'] == i]\n",
    "    time_idx_list = df1['time_idx'].tolist()\n",
    "    first_idx = time_idx_list[0]\n",
    "    last_idx = time_idx_list[-1]\n",
    "    zones_time_idx_no_ts_fresh[i] = [first_idx, last_idx]\n",
    "    print(\"Group \", i, \" has \", df1.shape[0], \" number of rows in df_ts_fresh \\n\")\n",
    "    print(\"First idx: \", first_idx, \"; Last idx: \", last_idx, \"\\n\")"
   ]
  },
  {
   "cell_type": "code",
   "execution_count": 210,
   "metadata": {},
   "outputs": [
    {
     "name": "stdout",
     "output_type": "stream",
     "text": [
      "868\n",
      "860\n",
      "1240\n"
     ]
    }
   ],
   "source": [
    "encoder_len = 8 # looks back 8 hours in the past for prediction\n",
    "pred_len = 1 # 1, 6, 12 # how many timeseteps you want to predict in the future (forecasting), 1 means present (nowcasting)\n",
    "#cov_lag_len= pred_len\n",
    "\n",
    "# not using covariates yet, so put as 0\n",
    "cov_lag_len= 0 #we can use forecasted values, even for inflow\n",
    "\n",
    "####### train val test split of tsfresh dataframe #########\n",
    "\n",
    "### you want a the idx for each train, validation and test\n",
    "\n",
    "### train = 0.7 of each zone (eg. time idx 167 to roughly 20000) eg train = 0.7 * (24812-167)\n",
    "### validation = 0.2 of each zone (eg. time idx 20000 to 22000)\n",
    "### test = 0.1 of each zone (eg. time idx 22000 to 24000)\n",
    "\n",
    "Target = 'target'\n",
    "\n",
    "total_time_idx = df[df.group == 4].shape[0]\n",
    "\n",
    "first_idx = df.loc[df['group'] == 4, 'time_idx'].iloc[0]\n",
    "\n",
    "tr_stop_idx = int(0.7*total_time_idx)\n",
    "val_start_idx = tr_stop_idx - encoder_len\n",
    "val_stop_idx = total_time_idx-1\n",
    "# val_stop_idx = val_start_idx + int(0.2*total_time_idx) # use (tr_stop_idx - encoder_len) as encoder from train set for validatoin\n",
    "# tes_start_idx = val_stop_idx - encoder_len\n",
    "# tes_stop_idx = total_time_idx-1\n",
    "\n",
    "print(tr_stop_idx)\n",
    "print(val_start_idx)\n",
    "print(val_stop_idx)\n",
    "# print(tes_start_idx)\n",
    "# print(tes_stop_idx)"
   ]
  },
  {
   "cell_type": "code",
   "execution_count": 211,
   "metadata": {},
   "outputs": [
    {
     "name": "stdout",
     "output_type": "stream",
     "text": [
      "0 868\n",
      "860 1240\n"
     ]
    }
   ],
   "source": [
    "train_time_idx = [*range(first_idx, first_idx+tr_stop_idx+1, 1)]\n",
    "print(train_time_idx[0], train_time_idx[-1])\n",
    "val_time_idx = [*range(first_idx+val_start_idx, first_idx+val_stop_idx+1, 1)]\n",
    "print(val_time_idx[0], val_time_idx[-1])\n",
    "# test_time_idx = [*range(first_idx+tes_start_idx, first_idx+tes_stop_idx+1, 1)]\n",
    "# print(test_time_idx[0], test_time_idx[-1])"
   ]
  },
  {
   "cell_type": "code",
   "execution_count": 212,
   "metadata": {},
   "outputs": [],
   "source": [
    "# unique_zones = list(df['group'].unique())"
   ]
  },
  {
   "cell_type": "code",
   "execution_count": 213,
   "metadata": {},
   "outputs": [],
   "source": [
    "\"\"\"\n",
    "set inputs here\n",
    "(hyperparameters grid search)\n",
    "\n",
    "\"\"\"\n",
    "######### Network Architecture ###################\n",
    "# p = 10 # patience no. of epochs\n",
    "\n",
    "Loss=NegativeBinomialDistributionLoss() # because we assume that the demand follows a negative bionmial distribution\n",
    "\n",
    "######### Network Architecture ###################\n",
    "\n",
    "\n",
    "######### Training Routine ###################\n",
    "fdv_steps = 10 # fast_dev_run -> small set of training to see if training is happening correctly (one of the params in deepar model)\n",
    "######### Training Routine ###################\n",
    "\n",
    "\n",
    "# this is for naive forecast, getting past week's demand and predicting purely based on that\n",
    "############## Inputs for 2) Persistance model ( seasonal naive forecast ) #######################\n",
    "season_len = 168 # length of season ()\n",
    "num_past_seas = 6 # number of past seasons to use in averaging (look at 6 week's back, getting average of these 6 values)\n",
    "#seas_pred_strt_idx = 2035 # seasonal naive forecast start index, in hours use the df dataframe\n",
    "############## Inputs for 2) Persistance model ( seasonal naive forecast ) #######################\n"
   ]
  },
  {
   "cell_type": "code",
   "execution_count": 214,
   "metadata": {},
   "outputs": [
    {
     "name": "stderr",
     "output_type": "stream",
     "text": [
      "\u001b[32m[I 2024-03-28 12:57:47,409]\u001b[0m A new study created in memory with name: no-name-24d3f66d-9a74-4d23-830c-8d1ff17a140c\u001b[0m\n",
      "GPU available: True (cuda), used: True\n",
      "TPU available: False, using: 0 TPU cores\n",
      "IPU available: False, using: 0 IPUs\n",
      "HPU available: False, using: 0 HPUs\n",
      "`Trainer(limit_train_batches=1.0)` was configured so 100% of the batches per epoch will be used..\n",
      "`Trainer(limit_val_batches=1.0)` was configured so 100% of the batches will be used..\n",
      "Missing logger folder: /home/optimusprime/Desktop/Timothy_EXP_1/Round_0_logs/lightning_logs\n",
      "LOCAL_RANK: 0 - CUDA_VISIBLE_DEVICES: [0]\n",
      "\n",
      "  | Name                   | Type                             | Params\n",
      "----------------------------------------------------------------------------\n",
      "0 | loss                   | NegativeBinomialDistributionLoss | 0     \n",
      "1 | logging_metrics        | ModuleList                       | 0     \n",
      "2 | embeddings             | MultiEmbedding                   | 787   \n",
      "3 | rnn                    | LSTM                             | 44.8 M\n",
      "4 | distribution_projector | Linear                           | 1.6 K \n",
      "----------------------------------------------------------------------------\n",
      "44.8 M    Trainable params\n",
      "0         Non-trainable params\n",
      "44.8 M    Total params\n",
      "179.117   Total estimated model params size (MB)\n"
     ]
    },
    {
     "name": "stdout",
     "output_type": "stream",
     "text": [
      "Epoch 0: 100%|██████████| 848/848 [00:22<00:00, 37.35it/s, loss=4.35, v_num=0, train_loss_step=4.350, val_loss=4.490]"
     ]
    },
    {
     "name": "stderr",
     "output_type": "stream",
     "text": [
      "Metric val_loss improved. New best score: 4.486\n"
     ]
    },
    {
     "name": "stdout",
     "output_type": "stream",
     "text": [
      "Epoch 1: 100%|██████████| 848/848 [00:23<00:00, 36.82it/s, loss=3.92, v_num=0, train_loss_step=3.990, val_loss=4.100, train_loss_epoch=19.30]"
     ]
    },
    {
     "name": "stderr",
     "output_type": "stream",
     "text": [
      "Metric val_loss improved by 0.390 >= min_delta = 0. New best score: 4.096\n"
     ]
    },
    {
     "name": "stdout",
     "output_type": "stream",
     "text": [
      "Epoch 2: 100%|██████████| 848/848 [00:23<00:00, 36.68it/s, loss=3.93, v_num=0, train_loss_step=4.170, val_loss=4.090, train_loss_epoch=4.000]"
     ]
    },
    {
     "name": "stderr",
     "output_type": "stream",
     "text": [
      "Metric val_loss improved by 0.010 >= min_delta = 0. New best score: 4.086\n"
     ]
    },
    {
     "name": "stdout",
     "output_type": "stream",
     "text": [
      "Epoch 3: 100%|██████████| 848/848 [00:23<00:00, 36.54it/s, loss=3.93, v_num=0, train_loss_step=3.930, val_loss=4.080, train_loss_epoch=3.930]"
     ]
    },
    {
     "name": "stderr",
     "output_type": "stream",
     "text": [
      "Metric val_loss improved by 0.001 >= min_delta = 0. New best score: 4.085\n"
     ]
    },
    {
     "name": "stdout",
     "output_type": "stream",
     "text": [
      "Epoch 4: 100%|██████████| 848/848 [00:22<00:00, 36.94it/s, loss=3.93, v_num=0, train_loss_step=3.760, val_loss=4.080, train_loss_epoch=3.920]"
     ]
    },
    {
     "name": "stderr",
     "output_type": "stream",
     "text": [
      "Metric val_loss improved by 0.000 >= min_delta = 0. New best score: 4.084\n"
     ]
    },
    {
     "name": "stdout",
     "output_type": "stream",
     "text": [
      "Epoch 6: 100%|██████████| 848/848 [00:22<00:00, 38.40it/s, loss=3.93, v_num=0, train_loss_step=3.890, val_loss=4.080, train_loss_epoch=3.920]"
     ]
    },
    {
     "name": "stderr",
     "output_type": "stream",
     "text": [
      "Metric val_loss improved by 0.000 >= min_delta = 0. New best score: 4.084\n"
     ]
    },
    {
     "name": "stdout",
     "output_type": "stream",
     "text": [
      "Epoch 7: 100%|██████████| 848/848 [00:21<00:00, 39.10it/s, loss=3.97, v_num=0, train_loss_step=3.790, val_loss=4.080, train_loss_epoch=3.920]"
     ]
    },
    {
     "name": "stderr",
     "output_type": "stream",
     "text": [
      "Metric val_loss improved by 0.000 >= min_delta = 0. New best score: 4.084\n"
     ]
    },
    {
     "name": "stdout",
     "output_type": "stream",
     "text": [
      "Epoch 12: 100%|██████████| 848/848 [00:21<00:00, 38.93it/s, loss=3.93, v_num=0, train_loss_step=4.040, val_loss=4.080, train_loss_epoch=3.920]"
     ]
    },
    {
     "name": "stderr",
     "output_type": "stream",
     "text": [
      "Monitored metric val_loss did not improve in the last 5 records. Best score: 4.084. Signaling Trainer to stop.\n"
     ]
    },
    {
     "name": "stdout",
     "output_type": "stream",
     "text": [
      "Epoch 12: 100%|██████████| 848/848 [00:22<00:00, 37.66it/s, loss=3.93, v_num=0, train_loss_step=4.040, val_loss=4.080, train_loss_epoch=3.920]"
     ]
    },
    {
     "name": "stderr",
     "output_type": "stream",
     "text": [
      "\u001b[32m[I 2024-03-28 13:02:55,393]\u001b[0m Trial 0 finished with value: 59.78081130981445 and parameters: {'neu': 810, 'lay': 9, 'bat': 96, 'lr': 5.898426794263749e-05, 'dropout': 0.6000000000000001}. Best is trial 0 with value: 59.78081130981445.\u001b[0m\n"
     ]
    },
    {
     "name": "stdout",
     "output_type": "stream",
     "text": [
      "\n"
     ]
    },
    {
     "name": "stderr",
     "output_type": "stream",
     "text": [
      "GPU available: True (cuda), used: True\n",
      "TPU available: False, using: 0 TPU cores\n",
      "IPU available: False, using: 0 IPUs\n",
      "HPU available: False, using: 0 HPUs\n",
      "`Trainer(limit_train_batches=1.0)` was configured so 100% of the batches per epoch will be used..\n",
      "`Trainer(limit_val_batches=1.0)` was configured so 100% of the batches will be used..\n",
      "LOCAL_RANK: 0 - CUDA_VISIBLE_DEVICES: [0]\n",
      "\n",
      "  | Name                   | Type                             | Params\n",
      "----------------------------------------------------------------------------\n",
      "0 | loss                   | NegativeBinomialDistributionLoss | 0     \n",
      "1 | logging_metrics        | ModuleList                       | 0     \n",
      "2 | embeddings             | MultiEmbedding                   | 787   \n",
      "3 | rnn                    | LSTM                             | 63.4 K\n",
      "4 | distribution_projector | Linear                           | 222   \n",
      "----------------------------------------------------------------------------\n",
      "64.4 K    Trainable params\n",
      "0         Non-trainable params\n",
      "64.4 K    Total params\n",
      "0.257     Total estimated model params size (MB)\n"
     ]
    },
    {
     "name": "stdout",
     "output_type": "stream",
     "text": [
      "Epoch 0: 100%|██████████| 150/150 [00:10<00:00, 13.67it/s, loss=4.37, v_num=1, train_loss_step=4.050, val_loss=4.370]"
     ]
    },
    {
     "name": "stderr",
     "output_type": "stream",
     "text": [
      "Metric val_loss improved. New best score: 4.368\n"
     ]
    },
    {
     "name": "stdout",
     "output_type": "stream",
     "text": [
      "Epoch 1: 100%|██████████| 150/150 [00:09<00:00, 15.14it/s, loss=3.19, v_num=1, train_loss_step=3.260, val_loss=3.380, train_loss_epoch=12.40]"
     ]
    },
    {
     "name": "stderr",
     "output_type": "stream",
     "text": [
      "Metric val_loss improved by 0.992 >= min_delta = 0. New best score: 3.376\n"
     ]
    },
    {
     "name": "stdout",
     "output_type": "stream",
     "text": [
      "Epoch 2: 100%|██████████| 150/150 [00:09<00:00, 15.04it/s, loss=2.96, v_num=1, train_loss_step=2.940, val_loss=3.180, train_loss_epoch=3.490]"
     ]
    },
    {
     "name": "stderr",
     "output_type": "stream",
     "text": [
      "Metric val_loss improved by 0.194 >= min_delta = 0. New best score: 3.182\n"
     ]
    },
    {
     "name": "stdout",
     "output_type": "stream",
     "text": [
      "Epoch 3: 100%|██████████| 150/150 [00:09<00:00, 15.26it/s, loss=2.84, v_num=1, train_loss_step=2.890, val_loss=3.080, train_loss_epoch=3.030]"
     ]
    },
    {
     "name": "stderr",
     "output_type": "stream",
     "text": [
      "Metric val_loss improved by 0.105 >= min_delta = 0. New best score: 3.078\n"
     ]
    },
    {
     "name": "stdout",
     "output_type": "stream",
     "text": [
      "Epoch 4: 100%|██████████| 150/150 [00:10<00:00, 13.83it/s, loss=2.79, v_num=1, train_loss_step=2.810, val_loss=3.010, train_loss_epoch=2.900]"
     ]
    },
    {
     "name": "stderr",
     "output_type": "stream",
     "text": [
      "Metric val_loss improved by 0.063 >= min_delta = 0. New best score: 3.014\n"
     ]
    },
    {
     "name": "stdout",
     "output_type": "stream",
     "text": [
      "Epoch 5: 100%|██████████| 150/150 [00:09<00:00, 15.22it/s, loss=2.74, v_num=1, train_loss_step=2.640, val_loss=2.960, train_loss_epoch=2.820]"
     ]
    },
    {
     "name": "stderr",
     "output_type": "stream",
     "text": [
      "Metric val_loss improved by 0.054 >= min_delta = 0. New best score: 2.960\n"
     ]
    },
    {
     "name": "stdout",
     "output_type": "stream",
     "text": [
      "Epoch 6: 100%|██████████| 150/150 [00:09<00:00, 15.23it/s, loss=2.72, v_num=1, train_loss_step=2.600, val_loss=2.920, train_loss_epoch=2.770]"
     ]
    },
    {
     "name": "stderr",
     "output_type": "stream",
     "text": [
      "Metric val_loss improved by 0.037 >= min_delta = 0. New best score: 2.923\n"
     ]
    },
    {
     "name": "stdout",
     "output_type": "stream",
     "text": [
      "Epoch 7: 100%|██████████| 150/150 [00:09<00:00, 15.24it/s, loss=2.68, v_num=1, train_loss_step=2.660, val_loss=2.890, train_loss_epoch=2.730]"
     ]
    },
    {
     "name": "stderr",
     "output_type": "stream",
     "text": [
      "Metric val_loss improved by 0.037 >= min_delta = 0. New best score: 2.885\n"
     ]
    },
    {
     "name": "stdout",
     "output_type": "stream",
     "text": [
      "Epoch 8: 100%|██████████| 150/150 [00:10<00:00, 13.92it/s, loss=2.68, v_num=1, train_loss_step=2.610, val_loss=2.860, train_loss_epoch=2.700]"
     ]
    },
    {
     "name": "stderr",
     "output_type": "stream",
     "text": [
      "Metric val_loss improved by 0.021 >= min_delta = 0. New best score: 2.864\n"
     ]
    },
    {
     "name": "stdout",
     "output_type": "stream",
     "text": [
      "Epoch 9: 100%|██████████| 150/150 [00:09<00:00, 15.16it/s, loss=2.64, v_num=1, train_loss_step=2.610, val_loss=2.840, train_loss_epoch=2.680]"
     ]
    },
    {
     "name": "stderr",
     "output_type": "stream",
     "text": [
      "Metric val_loss improved by 0.020 >= min_delta = 0. New best score: 2.844\n"
     ]
    },
    {
     "name": "stdout",
     "output_type": "stream",
     "text": [
      "Epoch 10: 100%|██████████| 150/150 [00:09<00:00, 15.19it/s, loss=2.64, v_num=1, train_loss_step=2.720, val_loss=2.830, train_loss_epoch=2.650]"
     ]
    },
    {
     "name": "stderr",
     "output_type": "stream",
     "text": [
      "Metric val_loss improved by 0.013 >= min_delta = 0. New best score: 2.832\n"
     ]
    },
    {
     "name": "stdout",
     "output_type": "stream",
     "text": [
      "Epoch 11: 100%|██████████| 150/150 [00:09<00:00, 15.14it/s, loss=2.6, v_num=1, train_loss_step=2.570, val_loss=2.810, train_loss_epoch=2.640] "
     ]
    },
    {
     "name": "stderr",
     "output_type": "stream",
     "text": [
      "Metric val_loss improved by 0.017 >= min_delta = 0. New best score: 2.815\n"
     ]
    },
    {
     "name": "stdout",
     "output_type": "stream",
     "text": [
      "Epoch 12: 100%|██████████| 150/150 [00:09<00:00, 15.12it/s, loss=2.6, v_num=1, train_loss_step=2.540, val_loss=2.800, train_loss_epoch=2.620] "
     ]
    },
    {
     "name": "stderr",
     "output_type": "stream",
     "text": [
      "Metric val_loss improved by 0.011 >= min_delta = 0. New best score: 2.804\n"
     ]
    },
    {
     "name": "stdout",
     "output_type": "stream",
     "text": [
      "Epoch 14: 100%|██████████| 150/150 [00:09<00:00, 15.16it/s, loss=2.58, v_num=1, train_loss_step=2.530, val_loss=2.780, train_loss_epoch=2.590]"
     ]
    },
    {
     "name": "stderr",
     "output_type": "stream",
     "text": [
      "Metric val_loss improved by 0.020 >= min_delta = 0. New best score: 2.784\n"
     ]
    },
    {
     "name": "stdout",
     "output_type": "stream",
     "text": [
      "Epoch 15: 100%|██████████| 150/150 [00:10<00:00, 13.79it/s, loss=2.56, v_num=1, train_loss_step=2.600, val_loss=2.780, train_loss_epoch=2.580]"
     ]
    },
    {
     "name": "stderr",
     "output_type": "stream",
     "text": [
      "Metric val_loss improved by 0.002 >= min_delta = 0. New best score: 2.783\n"
     ]
    },
    {
     "name": "stdout",
     "output_type": "stream",
     "text": [
      "Epoch 17: 100%|██████████| 150/150 [00:09<00:00, 15.08it/s, loss=2.55, v_num=1, train_loss_step=2.640, val_loss=2.780, train_loss_epoch=2.560]"
     ]
    },
    {
     "name": "stderr",
     "output_type": "stream",
     "text": [
      "Metric val_loss improved by 0.005 >= min_delta = 0. New best score: 2.778\n"
     ]
    },
    {
     "name": "stdout",
     "output_type": "stream",
     "text": [
      "Epoch 18: 100%|██████████| 150/150 [00:09<00:00, 15.09it/s, loss=2.54, v_num=1, train_loss_step=2.490, val_loss=2.780, train_loss_epoch=2.550]"
     ]
    },
    {
     "name": "stderr",
     "output_type": "stream",
     "text": [
      "Metric val_loss improved by 0.001 >= min_delta = 0. New best score: 2.777\n"
     ]
    },
    {
     "name": "stdout",
     "output_type": "stream",
     "text": [
      "Epoch 19: 100%|██████████| 150/150 [00:09<00:00, 15.01it/s, loss=2.53, v_num=1, train_loss_step=2.500, val_loss=2.770, train_loss_epoch=2.550]"
     ]
    },
    {
     "name": "stderr",
     "output_type": "stream",
     "text": [
      "Metric val_loss improved by 0.005 >= min_delta = 0. New best score: 2.773\n"
     ]
    },
    {
     "name": "stdout",
     "output_type": "stream",
     "text": [
      "Epoch 20: 100%|██████████| 150/150 [00:09<00:00, 15.03it/s, loss=2.54, v_num=1, train_loss_step=2.480, val_loss=2.760, train_loss_epoch=2.540]"
     ]
    },
    {
     "name": "stderr",
     "output_type": "stream",
     "text": [
      "Metric val_loss improved by 0.013 >= min_delta = 0. New best score: 2.760\n"
     ]
    },
    {
     "name": "stdout",
     "output_type": "stream",
     "text": [
      "Epoch 23: 100%|██████████| 150/150 [00:09<00:00, 15.02it/s, loss=2.52, v_num=1, train_loss_step=2.370, val_loss=2.760, train_loss_epoch=2.510]"
     ]
    },
    {
     "name": "stderr",
     "output_type": "stream",
     "text": [
      "Metric val_loss improved by 0.003 >= min_delta = 0. New best score: 2.757\n"
     ]
    },
    {
     "name": "stdout",
     "output_type": "stream",
     "text": [
      "Epoch 28: 100%|██████████| 150/150 [00:09<00:00, 15.00it/s, loss=2.49, v_num=1, train_loss_step=2.460, val_loss=2.790, train_loss_epoch=2.480]"
     ]
    },
    {
     "name": "stderr",
     "output_type": "stream",
     "text": [
      "Monitored metric val_loss did not improve in the last 5 records. Best score: 2.757. Signaling Trainer to stop.\n"
     ]
    },
    {
     "name": "stdout",
     "output_type": "stream",
     "text": [
      "Epoch 28: 100%|██████████| 150/150 [00:10<00:00, 14.99it/s, loss=2.49, v_num=1, train_loss_step=2.460, val_loss=2.790, train_loss_epoch=2.470]"
     ]
    },
    {
     "name": "stderr",
     "output_type": "stream",
     "text": [
      "\u001b[32m[I 2024-03-28 13:07:48,783]\u001b[0m Trial 1 finished with value: 33.655277252197266 and parameters: {'neu': 110, 'lay': 1, 'bat': 544, 'lr': 0.009728867115126908, 'dropout': 0.8}. Best is trial 1 with value: 33.655277252197266.\u001b[0m\n"
     ]
    },
    {
     "name": "stdout",
     "output_type": "stream",
     "text": [
      "\n"
     ]
    },
    {
     "name": "stderr",
     "output_type": "stream",
     "text": [
      "GPU available: True (cuda), used: True\n",
      "TPU available: False, using: 0 TPU cores\n",
      "IPU available: False, using: 0 IPUs\n",
      "HPU available: False, using: 0 HPUs\n",
      "`Trainer(limit_train_batches=1.0)` was configured so 100% of the batches per epoch will be used..\n",
      "`Trainer(limit_val_batches=1.0)` was configured so 100% of the batches will be used..\n",
      "LOCAL_RANK: 0 - CUDA_VISIBLE_DEVICES: [0]\n",
      "\n",
      "  | Name                   | Type                             | Params\n",
      "----------------------------------------------------------------------------\n",
      "0 | loss                   | NegativeBinomialDistributionLoss | 0     \n",
      "1 | logging_metrics        | ModuleList                       | 0     \n",
      "2 | embeddings             | MultiEmbedding                   | 787   \n",
      "3 | rnn                    | LSTM                             | 426 K \n",
      "4 | distribution_projector | Linear                           | 622   \n",
      "----------------------------------------------------------------------------\n",
      "427 K     Trainable params\n",
      "0         Non-trainable params\n",
      "427 K     Total params\n",
      "1.712     Total estimated model params size (MB)\n"
     ]
    },
    {
     "name": "stdout",
     "output_type": "stream",
     "text": [
      "Epoch 0: 100%|██████████| 2545/2545 [00:26<00:00, 95.06it/s, loss=2.67, v_num=2, train_loss_step=2.750, val_loss=2.910]"
     ]
    },
    {
     "name": "stderr",
     "output_type": "stream",
     "text": [
      "Metric val_loss improved. New best score: 2.913\n"
     ]
    },
    {
     "name": "stdout",
     "output_type": "stream",
     "text": [
      "Epoch 1: 100%|██████████| 2545/2545 [00:25<00:00, 98.30it/s, loss=2.71, v_num=2, train_loss_step=2.750, val_loss=2.800, train_loss_epoch=3.810] "
     ]
    },
    {
     "name": "stderr",
     "output_type": "stream",
     "text": [
      "Metric val_loss improved by 0.112 >= min_delta = 0. New best score: 2.802\n"
     ]
    },
    {
     "name": "stdout",
     "output_type": "stream",
     "text": [
      "Epoch 2: 100%|██████████| 2545/2545 [00:27<00:00, 92.88it/s, loss=2.53, v_num=2, train_loss_step=2.900, val_loss=2.760, train_loss_epoch=2.670] "
     ]
    },
    {
     "name": "stderr",
     "output_type": "stream",
     "text": [
      "Metric val_loss improved by 0.039 >= min_delta = 0. New best score: 2.763\n"
     ]
    },
    {
     "name": "stdout",
     "output_type": "stream",
     "text": [
      "Epoch 3: 100%|██████████| 2545/2545 [00:26<00:00, 97.07it/s, loss=2.61, v_num=2, train_loss_step=2.410, val_loss=2.730, train_loss_epoch=2.610] "
     ]
    },
    {
     "name": "stderr",
     "output_type": "stream",
     "text": [
      "Metric val_loss improved by 0.037 >= min_delta = 0. New best score: 2.726\n"
     ]
    },
    {
     "name": "stdout",
     "output_type": "stream",
     "text": [
      "Epoch 4: 100%|██████████| 2545/2545 [00:27<00:00, 91.57it/s, loss=2.61, v_num=2, train_loss_step=2.330, val_loss=2.710, train_loss_epoch=2.580] "
     ]
    },
    {
     "name": "stderr",
     "output_type": "stream",
     "text": [
      "Metric val_loss improved by 0.015 >= min_delta = 0. New best score: 2.712\n"
     ]
    },
    {
     "name": "stdout",
     "output_type": "stream",
     "text": [
      "Epoch 5: 100%|██████████| 2545/2545 [00:26<00:00, 97.03it/s, loss=2.56, v_num=2, train_loss_step=2.490, val_loss=2.710, train_loss_epoch=2.560] "
     ]
    },
    {
     "name": "stderr",
     "output_type": "stream",
     "text": [
      "Metric val_loss improved by 0.006 >= min_delta = 0. New best score: 2.705\n"
     ]
    },
    {
     "name": "stdout",
     "output_type": "stream",
     "text": [
      "Epoch 7: 100%|██████████| 2545/2545 [00:28<00:00, 89.70it/s, loss=2.55, v_num=2, train_loss_step=2.550, val_loss=2.700, train_loss_epoch=2.540] "
     ]
    },
    {
     "name": "stderr",
     "output_type": "stream",
     "text": [
      "Metric val_loss improved by 0.001 >= min_delta = 0. New best score: 2.705\n"
     ]
    },
    {
     "name": "stdout",
     "output_type": "stream",
     "text": [
      "Epoch 8: 100%|██████████| 2545/2545 [00:26<00:00, 94.63it/s, loss=2.42, v_num=2, train_loss_step=2.910, val_loss=2.700, train_loss_epoch=2.530] "
     ]
    },
    {
     "name": "stderr",
     "output_type": "stream",
     "text": [
      "Metric val_loss improved by 0.009 >= min_delta = 0. New best score: 2.696\n"
     ]
    },
    {
     "name": "stdout",
     "output_type": "stream",
     "text": [
      "Epoch 10: 100%|██████████| 2545/2545 [00:28<00:00, 89.38it/s, loss=2.38, v_num=2, train_loss_step=2.200, val_loss=2.680, train_loss_epoch=2.510] "
     ]
    },
    {
     "name": "stderr",
     "output_type": "stream",
     "text": [
      "Metric val_loss improved by 0.011 >= min_delta = 0. New best score: 2.685\n"
     ]
    },
    {
     "name": "stdout",
     "output_type": "stream",
     "text": [
      "Epoch 12: 100%|██████████| 2545/2545 [00:26<00:00, 96.46it/s, loss=2.66, v_num=2, train_loss_step=2.850, val_loss=2.680, train_loss_epoch=2.500] "
     ]
    },
    {
     "name": "stderr",
     "output_type": "stream",
     "text": [
      "Metric val_loss improved by 0.000 >= min_delta = 0. New best score: 2.685\n"
     ]
    },
    {
     "name": "stdout",
     "output_type": "stream",
     "text": [
      "Epoch 13: 100%|██████████| 2545/2545 [00:26<00:00, 96.22it/s, loss=2.5, v_num=2, train_loss_step=2.700, val_loss=2.680, train_loss_epoch=2.490]  "
     ]
    },
    {
     "name": "stderr",
     "output_type": "stream",
     "text": [
      "Metric val_loss improved by 0.002 >= min_delta = 0. New best score: 2.683\n"
     ]
    },
    {
     "name": "stdout",
     "output_type": "stream",
     "text": [
      "Epoch 18: 100%|██████████| 2545/2545 [00:26<00:00, 96.92it/s, loss=2.45, v_num=2, train_loss_step=2.810, val_loss=2.720, train_loss_epoch=2.450] "
     ]
    },
    {
     "name": "stderr",
     "output_type": "stream",
     "text": [
      "Monitored metric val_loss did not improve in the last 5 records. Best score: 2.683. Signaling Trainer to stop.\n"
     ]
    },
    {
     "name": "stdout",
     "output_type": "stream",
     "text": [
      "Epoch 18: 100%|██████████| 2545/2545 [00:26<00:00, 96.84it/s, loss=2.45, v_num=2, train_loss_step=2.810, val_loss=2.720, train_loss_epoch=2.440]\n"
     ]
    },
    {
     "name": "stderr",
     "output_type": "stream",
     "text": [
      "\u001b[32m[I 2024-03-28 13:16:20,909]\u001b[0m Trial 2 finished with value: 32.41532897949219 and parameters: {'neu': 310, 'lay': 1, 'bat': 32, 'lr': 0.0016158694487489154, 'dropout': 0.2}. Best is trial 2 with value: 32.41532897949219.\u001b[0m\n",
      "GPU available: True (cuda), used: True\n",
      "TPU available: False, using: 0 TPU cores\n",
      "IPU available: False, using: 0 IPUs\n",
      "HPU available: False, using: 0 HPUs\n",
      "`Trainer(limit_train_batches=1.0)` was configured so 100% of the batches per epoch will be used..\n",
      "`Trainer(limit_val_batches=1.0)` was configured so 100% of the batches will be used..\n",
      "LOCAL_RANK: 0 - CUDA_VISIBLE_DEVICES: [0]\n",
      "\n",
      "  | Name                   | Type                             | Params\n",
      "----------------------------------------------------------------------------\n",
      "0 | loss                   | NegativeBinomialDistributionLoss | 0     \n",
      "1 | logging_metrics        | ModuleList                       | 0     \n",
      "2 | embeddings             | MultiEmbedding                   | 787   \n",
      "3 | rnn                    | LSTM                             | 913 K \n",
      "4 | distribution_projector | Linear                           | 422   \n",
      "----------------------------------------------------------------------------\n",
      "915 K     Trainable params\n",
      "0         Non-trainable params\n",
      "915 K     Total params\n",
      "3.661     Total estimated model params size (MB)\n"
     ]
    },
    {
     "name": "stdout",
     "output_type": "stream",
     "text": [
      "Epoch 0: 100%|██████████| 134/134 [00:12<00:00, 10.94it/s, loss=26.5, v_num=3, train_loss_step=24.80, val_loss=30.10]"
     ]
    },
    {
     "name": "stderr",
     "output_type": "stream",
     "text": [
      "Metric val_loss improved. New best score: 30.147\n"
     ]
    },
    {
     "name": "stdout",
     "output_type": "stream",
     "text": [
      "Epoch 1: 100%|██████████| 134/134 [00:09<00:00, 14.68it/s, loss=25.9, v_num=3, train_loss_step=25.10, val_loss=29.40, train_loss_epoch=26.70]"
     ]
    },
    {
     "name": "stderr",
     "output_type": "stream",
     "text": [
      "Metric val_loss improved by 0.763 >= min_delta = 0. New best score: 29.383\n"
     ]
    },
    {
     "name": "stdout",
     "output_type": "stream",
     "text": [
      "Epoch 2: 100%|██████████| 134/134 [00:09<00:00, 14.67it/s, loss=25, v_num=3, train_loss_step=26.70, val_loss=28.20, train_loss_epoch=26.20]  "
     ]
    },
    {
     "name": "stderr",
     "output_type": "stream",
     "text": [
      "Metric val_loss improved by 1.166 >= min_delta = 0. New best score: 28.218\n"
     ]
    },
    {
     "name": "stdout",
     "output_type": "stream",
     "text": [
      "Epoch 3: 100%|██████████| 134/134 [00:09<00:00, 14.80it/s, loss=24, v_num=3, train_loss_step=23.20, val_loss=26.70, train_loss_epoch=25.50] "
     ]
    },
    {
     "name": "stderr",
     "output_type": "stream",
     "text": [
      "Metric val_loss improved by 1.489 >= min_delta = 0. New best score: 26.729\n"
     ]
    },
    {
     "name": "stdout",
     "output_type": "stream",
     "text": [
      "Epoch 4: 100%|██████████| 134/134 [00:09<00:00, 14.71it/s, loss=22.3, v_num=3, train_loss_step=23.20, val_loss=24.60, train_loss_epoch=24.50]"
     ]
    },
    {
     "name": "stderr",
     "output_type": "stream",
     "text": [
      "Metric val_loss improved by 2.172 >= min_delta = 0. New best score: 24.556\n"
     ]
    },
    {
     "name": "stdout",
     "output_type": "stream",
     "text": [
      "Epoch 5: 100%|██████████| 134/134 [00:11<00:00, 11.30it/s, loss=20.5, v_num=3, train_loss_step=21.10, val_loss=21.80, train_loss_epoch=23.00]"
     ]
    },
    {
     "name": "stderr",
     "output_type": "stream",
     "text": [
      "Metric val_loss improved by 2.791 >= min_delta = 0. New best score: 21.766\n"
     ]
    },
    {
     "name": "stdout",
     "output_type": "stream",
     "text": [
      "Epoch 6: 100%|██████████| 134/134 [00:08<00:00, 15.05it/s, loss=17.8, v_num=3, train_loss_step=16.60, val_loss=17.90, train_loss_epoch=21.10]"
     ]
    },
    {
     "name": "stderr",
     "output_type": "stream",
     "text": [
      "Metric val_loss improved by 3.837 >= min_delta = 0. New best score: 17.928\n"
     ]
    },
    {
     "name": "stdout",
     "output_type": "stream",
     "text": [
      "Epoch 7: 100%|██████████| 134/134 [00:08<00:00, 15.01it/s, loss=13.6, v_num=3, train_loss_step=13.10, val_loss=13.90, train_loss_epoch=18.40]"
     ]
    },
    {
     "name": "stderr",
     "output_type": "stream",
     "text": [
      "Metric val_loss improved by 4.014 >= min_delta = 0. New best score: 13.914\n"
     ]
    },
    {
     "name": "stdout",
     "output_type": "stream",
     "text": [
      "Epoch 8: 100%|██████████| 134/134 [00:08<00:00, 15.07it/s, loss=10.1, v_num=3, train_loss_step=9.740, val_loss=10.10, train_loss_epoch=15.10]"
     ]
    },
    {
     "name": "stderr",
     "output_type": "stream",
     "text": [
      "Metric val_loss improved by 3.829 >= min_delta = 0. New best score: 10.086\n"
     ]
    },
    {
     "name": "stdout",
     "output_type": "stream",
     "text": [
      "Epoch 9: 100%|██████████| 134/134 [00:09<00:00, 14.87it/s, loss=7.44, v_num=3, train_loss_step=7.030, val_loss=7.510, train_loss_epoch=11.60]"
     ]
    },
    {
     "name": "stderr",
     "output_type": "stream",
     "text": [
      "Metric val_loss improved by 2.573 >= min_delta = 0. New best score: 7.513\n"
     ]
    },
    {
     "name": "stdout",
     "output_type": "stream",
     "text": [
      "Epoch 10: 100%|██████████| 134/134 [00:11<00:00, 11.21it/s, loss=5.87, v_num=3, train_loss_step=5.960, val_loss=5.890, train_loss_epoch=8.550]"
     ]
    },
    {
     "name": "stderr",
     "output_type": "stream",
     "text": [
      "Metric val_loss improved by 1.620 >= min_delta = 0. New best score: 5.893\n"
     ]
    },
    {
     "name": "stdout",
     "output_type": "stream",
     "text": [
      "Epoch 11: 100%|██████████| 134/134 [00:09<00:00, 14.87it/s, loss=4.96, v_num=3, train_loss_step=4.860, val_loss=5.140, train_loss_epoch=6.430]"
     ]
    },
    {
     "name": "stderr",
     "output_type": "stream",
     "text": [
      "Metric val_loss improved by 0.755 >= min_delta = 0. New best score: 5.138\n"
     ]
    },
    {
     "name": "stdout",
     "output_type": "stream",
     "text": [
      "Epoch 12: 100%|██████████| 134/134 [00:08<00:00, 15.00it/s, loss=4.58, v_num=3, train_loss_step=4.520, val_loss=4.770, train_loss_epoch=5.250]"
     ]
    },
    {
     "name": "stderr",
     "output_type": "stream",
     "text": [
      "Metric val_loss improved by 0.366 >= min_delta = 0. New best score: 4.772\n"
     ]
    },
    {
     "name": "stdout",
     "output_type": "stream",
     "text": [
      "Epoch 13: 100%|██████████| 134/134 [00:08<00:00, 14.91it/s, loss=4.37, v_num=3, train_loss_step=4.390, val_loss=4.610, train_loss_epoch=4.690]"
     ]
    },
    {
     "name": "stderr",
     "output_type": "stream",
     "text": [
      "Metric val_loss improved by 0.159 >= min_delta = 0. New best score: 4.613\n"
     ]
    },
    {
     "name": "stdout",
     "output_type": "stream",
     "text": [
      "Epoch 14: 100%|██████████| 134/134 [00:11<00:00, 11.31it/s, loss=4.31, v_num=3, train_loss_step=4.450, val_loss=4.530, train_loss_epoch=4.440]"
     ]
    },
    {
     "name": "stderr",
     "output_type": "stream",
     "text": [
      "Metric val_loss improved by 0.088 >= min_delta = 0. New best score: 4.525\n"
     ]
    },
    {
     "name": "stdout",
     "output_type": "stream",
     "text": [
      "Epoch 15: 100%|██████████| 134/134 [00:09<00:00, 14.89it/s, loss=4.22, v_num=3, train_loss_step=4.220, val_loss=4.480, train_loss_epoch=4.330]"
     ]
    },
    {
     "name": "stderr",
     "output_type": "stream",
     "text": [
      "Metric val_loss improved by 0.049 >= min_delta = 0. New best score: 4.476\n"
     ]
    },
    {
     "name": "stdout",
     "output_type": "stream",
     "text": [
      "Epoch 16: 100%|██████████| 134/134 [00:09<00:00, 14.86it/s, loss=4.17, v_num=3, train_loss_step=4.260, val_loss=4.440, train_loss_epoch=4.270]"
     ]
    },
    {
     "name": "stderr",
     "output_type": "stream",
     "text": [
      "Metric val_loss improved by 0.037 >= min_delta = 0. New best score: 4.440\n"
     ]
    },
    {
     "name": "stdout",
     "output_type": "stream",
     "text": [
      "Epoch 17: 100%|██████████| 134/134 [00:08<00:00, 15.05it/s, loss=4.2, v_num=3, train_loss_step=4.200, val_loss=4.410, train_loss_epoch=4.230] "
     ]
    },
    {
     "name": "stderr",
     "output_type": "stream",
     "text": [
      "Metric val_loss improved by 0.027 >= min_delta = 0. New best score: 4.413\n"
     ]
    },
    {
     "name": "stdout",
     "output_type": "stream",
     "text": [
      "Epoch 18: 100%|██████████| 134/134 [00:08<00:00, 15.02it/s, loss=4.13, v_num=3, train_loss_step=4.330, val_loss=4.390, train_loss_epoch=4.200]"
     ]
    },
    {
     "name": "stderr",
     "output_type": "stream",
     "text": [
      "Metric val_loss improved by 0.024 >= min_delta = 0. New best score: 4.389\n"
     ]
    },
    {
     "name": "stdout",
     "output_type": "stream",
     "text": [
      "Epoch 19: 100%|██████████| 134/134 [00:11<00:00, 11.29it/s, loss=4.13, v_num=3, train_loss_step=4.170, val_loss=4.370, train_loss_epoch=4.180]"
     ]
    },
    {
     "name": "stderr",
     "output_type": "stream",
     "text": [
      "Metric val_loss improved by 0.020 >= min_delta = 0. New best score: 4.369\n"
     ]
    },
    {
     "name": "stdout",
     "output_type": "stream",
     "text": [
      "Epoch 20: 100%|██████████| 134/134 [00:08<00:00, 14.99it/s, loss=4.12, v_num=3, train_loss_step=4.130, val_loss=4.350, train_loss_epoch=4.150]"
     ]
    },
    {
     "name": "stderr",
     "output_type": "stream",
     "text": [
      "Metric val_loss improved by 0.019 >= min_delta = 0. New best score: 4.350\n"
     ]
    },
    {
     "name": "stdout",
     "output_type": "stream",
     "text": [
      "Epoch 21: 100%|██████████| 134/134 [00:08<00:00, 15.17it/s, loss=4.15, v_num=3, train_loss_step=4.200, val_loss=4.330, train_loss_epoch=4.140]"
     ]
    },
    {
     "name": "stderr",
     "output_type": "stream",
     "text": [
      "Metric val_loss improved by 0.017 >= min_delta = 0. New best score: 4.333\n"
     ]
    },
    {
     "name": "stdout",
     "output_type": "stream",
     "text": [
      "Epoch 22: 100%|██████████| 134/134 [00:08<00:00, 15.04it/s, loss=4.09, v_num=3, train_loss_step=4.180, val_loss=4.320, train_loss_epoch=4.120]"
     ]
    },
    {
     "name": "stderr",
     "output_type": "stream",
     "text": [
      "Metric val_loss improved by 0.017 >= min_delta = 0. New best score: 4.316\n"
     ]
    },
    {
     "name": "stdout",
     "output_type": "stream",
     "text": [
      "Epoch 23: 100%|██████████| 134/134 [00:08<00:00, 14.91it/s, loss=4.06, v_num=3, train_loss_step=4.170, val_loss=4.300, train_loss_epoch=4.100]"
     ]
    },
    {
     "name": "stderr",
     "output_type": "stream",
     "text": [
      "Metric val_loss improved by 0.015 >= min_delta = 0. New best score: 4.301\n"
     ]
    },
    {
     "name": "stdout",
     "output_type": "stream",
     "text": [
      "Epoch 24: 100%|██████████| 134/134 [00:12<00:00, 11.04it/s, loss=4.04, v_num=3, train_loss_step=3.960, val_loss=4.280, train_loss_epoch=4.080]"
     ]
    },
    {
     "name": "stderr",
     "output_type": "stream",
     "text": [
      "Metric val_loss improved by 0.017 >= min_delta = 0. New best score: 4.284\n"
     ]
    },
    {
     "name": "stdout",
     "output_type": "stream",
     "text": [
      "Epoch 25: 100%|██████████| 134/134 [00:09<00:00, 14.78it/s, loss=4.04, v_num=3, train_loss_step=4.100, val_loss=4.260, train_loss_epoch=4.060]"
     ]
    },
    {
     "name": "stderr",
     "output_type": "stream",
     "text": [
      "Metric val_loss improved by 0.020 >= min_delta = 0. New best score: 4.264\n"
     ]
    },
    {
     "name": "stdout",
     "output_type": "stream",
     "text": [
      "Epoch 26: 100%|██████████| 134/134 [00:08<00:00, 15.05it/s, loss=4.01, v_num=3, train_loss_step=4.070, val_loss=4.240, train_loss_epoch=4.050]"
     ]
    },
    {
     "name": "stderr",
     "output_type": "stream",
     "text": [
      "Metric val_loss improved by 0.024 >= min_delta = 0. New best score: 4.240\n"
     ]
    },
    {
     "name": "stdout",
     "output_type": "stream",
     "text": [
      "Epoch 27: 100%|██████████| 134/134 [00:08<00:00, 14.94it/s, loss=3.98, v_num=3, train_loss_step=4.080, val_loss=4.220, train_loss_epoch=4.030]"
     ]
    },
    {
     "name": "stderr",
     "output_type": "stream",
     "text": [
      "Metric val_loss improved by 0.023 >= min_delta = 0. New best score: 4.218\n"
     ]
    },
    {
     "name": "stdout",
     "output_type": "stream",
     "text": [
      "Epoch 28: 100%|██████████| 134/134 [00:08<00:00, 15.09it/s, loss=3.98, v_num=3, train_loss_step=4.060, val_loss=4.190, train_loss_epoch=4.000]"
     ]
    },
    {
     "name": "stderr",
     "output_type": "stream",
     "text": [
      "Metric val_loss improved by 0.023 >= min_delta = 0. New best score: 4.195\n"
     ]
    },
    {
     "name": "stdout",
     "output_type": "stream",
     "text": [
      "Epoch 29: 100%|██████████| 134/134 [00:11<00:00, 11.18it/s, loss=3.95, v_num=3, train_loss_step=3.990, val_loss=4.180, train_loss_epoch=3.980]"
     ]
    },
    {
     "name": "stderr",
     "output_type": "stream",
     "text": [
      "Metric val_loss improved by 0.019 >= min_delta = 0. New best score: 4.176\n"
     ]
    },
    {
     "name": "stdout",
     "output_type": "stream",
     "text": [
      "Epoch 29: 100%|██████████| 134/134 [00:11<00:00, 11.17it/s, loss=3.95, v_num=3, train_loss_step=3.990, val_loss=4.180, train_loss_epoch=3.960]"
     ]
    },
    {
     "name": "stderr",
     "output_type": "stream",
     "text": [
      "`Trainer.fit` stopped: `max_epochs=30` reached.\n"
     ]
    },
    {
     "name": "stdout",
     "output_type": "stream",
     "text": [
      "Epoch 29: 100%|██████████| 134/134 [00:12<00:00, 11.15it/s, loss=3.95, v_num=3, train_loss_step=3.990, val_loss=4.180, train_loss_epoch=3.960]"
     ]
    },
    {
     "name": "stderr",
     "output_type": "stream",
     "text": [
      "\u001b[32m[I 2024-03-28 13:21:13,986]\u001b[0m Trial 3 finished with value: 58.733097076416016 and parameters: {'neu': 210, 'lay': 3, 'bat': 608, 'lr': 2.6438574993023172e-05, 'dropout': 0.6000000000000001}. Best is trial 2 with value: 32.41532897949219.\u001b[0m\n"
     ]
    },
    {
     "name": "stdout",
     "output_type": "stream",
     "text": [
      "\n"
     ]
    },
    {
     "name": "stderr",
     "output_type": "stream",
     "text": [
      "GPU available: True (cuda), used: True\n",
      "TPU available: False, using: 0 TPU cores\n",
      "IPU available: False, using: 0 IPUs\n",
      "HPU available: False, using: 0 HPUs\n",
      "`Trainer(limit_train_batches=1.0)` was configured so 100% of the batches per epoch will be used..\n",
      "`Trainer(limit_val_batches=1.0)` was configured so 100% of the batches will be used..\n",
      "LOCAL_RANK: 0 - CUDA_VISIBLE_DEVICES: [0]\n",
      "\n",
      "  | Name                   | Type                             | Params\n",
      "----------------------------------------------------------------------------\n",
      "0 | loss                   | NegativeBinomialDistributionLoss | 0     \n",
      "1 | logging_metrics        | ModuleList                       | 0     \n",
      "2 | embeddings             | MultiEmbedding                   | 787   \n",
      "3 | rnn                    | LSTM                             | 34.4 M\n",
      "4 | distribution_projector | Linear                           | 1.4 K \n",
      "----------------------------------------------------------------------------\n",
      "34.4 M    Trainable params\n",
      "0         Non-trainable params\n",
      "34.4 M    Total params\n",
      "137.692   Total estimated model params size (MB)\n"
     ]
    },
    {
     "name": "stdout",
     "output_type": "stream",
     "text": [
      "Epoch 0: 100%|██████████| 636/636 [00:16<00:00, 37.64it/s, loss=4.02, v_num=4, train_loss_step=3.990, val_loss=4.190]"
     ]
    },
    {
     "name": "stderr",
     "output_type": "stream",
     "text": [
      "Metric val_loss improved. New best score: 4.188\n"
     ]
    },
    {
     "name": "stdout",
     "output_type": "stream",
     "text": [
      "Epoch 1: 100%|██████████| 636/636 [00:17<00:00, 37.36it/s, loss=3.96, v_num=4, train_loss_step=3.810, val_loss=4.090, train_loss_epoch=15.80]"
     ]
    },
    {
     "name": "stderr",
     "output_type": "stream",
     "text": [
      "Metric val_loss improved by 0.102 >= min_delta = 0. New best score: 4.086\n"
     ]
    },
    {
     "name": "stdout",
     "output_type": "stream",
     "text": [
      "Epoch 2: 100%|██████████| 636/636 [00:17<00:00, 37.28it/s, loss=3.91, v_num=4, train_loss_step=4.000, val_loss=4.080, train_loss_epoch=3.930]"
     ]
    },
    {
     "name": "stderr",
     "output_type": "stream",
     "text": [
      "Metric val_loss improved by 0.002 >= min_delta = 0. New best score: 4.084\n"
     ]
    },
    {
     "name": "stdout",
     "output_type": "stream",
     "text": [
      "Epoch 7: 100%|██████████| 636/636 [00:17<00:00, 37.05it/s, loss=3.87, v_num=4, train_loss_step=3.770, val_loss=4.090, train_loss_epoch=3.920]"
     ]
    },
    {
     "name": "stderr",
     "output_type": "stream",
     "text": [
      "Monitored metric val_loss did not improve in the last 5 records. Best score: 4.084. Signaling Trainer to stop.\n"
     ]
    },
    {
     "name": "stdout",
     "output_type": "stream",
     "text": [
      "Epoch 7: 100%|██████████| 636/636 [00:19<00:00, 33.14it/s, loss=3.87, v_num=4, train_loss_step=3.770, val_loss=4.090, train_loss_epoch=3.920]"
     ]
    },
    {
     "name": "stderr",
     "output_type": "stream",
     "text": [
      "\u001b[32m[I 2024-03-28 13:23:51,453]\u001b[0m Trial 4 finished with value: 59.782073974609375 and parameters: {'neu': 710, 'lay': 9, 'bat': 128, 'lr': 0.00016485753442646095, 'dropout': 0.2}. Best is trial 2 with value: 32.41532897949219.\u001b[0m\n"
     ]
    },
    {
     "name": "stdout",
     "output_type": "stream",
     "text": [
      "\n"
     ]
    },
    {
     "name": "stderr",
     "output_type": "stream",
     "text": [
      "GPU available: True (cuda), used: True\n",
      "TPU available: False, using: 0 TPU cores\n",
      "IPU available: False, using: 0 IPUs\n",
      "HPU available: False, using: 0 HPUs\n",
      "`Trainer(limit_train_batches=1.0)` was configured so 100% of the batches per epoch will be used..\n",
      "`Trainer(limit_val_batches=1.0)` was configured so 100% of the batches will be used..\n",
      "LOCAL_RANK: 0 - CUDA_VISIBLE_DEVICES: [0]\n",
      "\n",
      "  | Name                   | Type                             | Params\n",
      "----------------------------------------------------------------------------\n",
      "0 | loss                   | NegativeBinomialDistributionLoss | 0     \n",
      "1 | logging_metrics        | ModuleList                       | 0     \n",
      "2 | embeddings             | MultiEmbedding                   | 787   \n",
      "3 | rnn                    | LSTM                             | 17.8 M\n",
      "4 | distribution_projector | Linear                           | 1.0 K \n",
      "----------------------------------------------------------------------------\n",
      "17.8 M    Trainable params\n",
      "0         Non-trainable params\n",
      "17.8 M    Total params\n",
      "71.162    Total estimated model params size (MB)\n"
     ]
    },
    {
     "name": "stdout",
     "output_type": "stream",
     "text": [
      "Epoch 0: 100%|██████████| 121/121 [00:10<00:00, 11.73it/s, loss=4.35, v_num=5, train_loss_step=4.110, val_loss=4.410]"
     ]
    },
    {
     "name": "stderr",
     "output_type": "stream",
     "text": [
      "Metric val_loss improved. New best score: 4.406\n"
     ]
    },
    {
     "name": "stdout",
     "output_type": "stream",
     "text": [
      "Epoch 1: 100%|██████████| 121/121 [00:13<00:00,  8.93it/s, loss=3.92, v_num=5, train_loss_step=3.900, val_loss=4.080, train_loss_epoch=16.30]"
     ]
    },
    {
     "name": "stderr",
     "output_type": "stream",
     "text": [
      "Metric val_loss improved by 0.323 >= min_delta = 0. New best score: 4.083\n"
     ]
    },
    {
     "name": "stdout",
     "output_type": "stream",
     "text": [
      "Epoch 6: 100%|██████████| 121/121 [00:10<00:00, 11.97it/s, loss=3.92, v_num=5, train_loss_step=3.990, val_loss=4.090, train_loss_epoch=3.920]"
     ]
    },
    {
     "name": "stderr",
     "output_type": "stream",
     "text": [
      "Monitored metric val_loss did not improve in the last 5 records. Best score: 4.083. Signaling Trainer to stop.\n"
     ]
    },
    {
     "name": "stdout",
     "output_type": "stream",
     "text": [
      "Epoch 6: 100%|██████████| 121/121 [00:10<00:00, 11.57it/s, loss=3.92, v_num=5, train_loss_step=3.990, val_loss=4.090, train_loss_epoch=3.920]"
     ]
    },
    {
     "name": "stderr",
     "output_type": "stream",
     "text": [
      "\u001b[32m[I 2024-03-28 13:25:12,534]\u001b[0m Trial 5 pruned. \u001b[0m\n"
     ]
    },
    {
     "name": "stdout",
     "output_type": "stream",
     "text": [
      "\n"
     ]
    },
    {
     "name": "stderr",
     "output_type": "stream",
     "text": [
      "GPU available: True (cuda), used: True\n",
      "TPU available: False, using: 0 TPU cores\n",
      "IPU available: False, using: 0 IPUs\n",
      "HPU available: False, using: 0 HPUs\n",
      "`Trainer(limit_train_batches=1.0)` was configured so 100% of the batches per epoch will be used..\n",
      "`Trainer(limit_val_batches=1.0)` was configured so 100% of the batches will be used..\n",
      "LOCAL_RANK: 0 - CUDA_VISIBLE_DEVICES: [0]\n",
      "\n",
      "  | Name                   | Type                             | Params\n",
      "----------------------------------------------------------------------------\n",
      "0 | loss                   | NegativeBinomialDistributionLoss | 0     \n",
      "1 | logging_metrics        | ModuleList                       | 0     \n",
      "2 | embeddings             | MultiEmbedding                   | 787   \n",
      "3 | rnn                    | LSTM                             | 5.1 M \n",
      "4 | distribution_projector | Linear                           | 622   \n",
      "----------------------------------------------------------------------------\n",
      "5.1 M     Trainable params\n",
      "0         Non-trainable params\n",
      "5.1 M     Total params\n",
      "20.223    Total estimated model params size (MB)\n"
     ]
    },
    {
     "name": "stdout",
     "output_type": "stream",
     "text": [
      "Epoch 0: 100%|██████████| 150/150 [00:13<00:00, 11.33it/s, loss=28.3, v_num=6, train_loss_step=28.30, val_loss=32.20]"
     ]
    },
    {
     "name": "stderr",
     "output_type": "stream",
     "text": [
      "Metric val_loss improved. New best score: 32.163\n"
     ]
    },
    {
     "name": "stdout",
     "output_type": "stream",
     "text": [
      "Epoch 1: 100%|██████████| 150/150 [00:09<00:00, 15.41it/s, loss=28, v_num=6, train_loss_step=28.60, val_loss=31.70, train_loss_epoch=28.30]  "
     ]
    },
    {
     "name": "stderr",
     "output_type": "stream",
     "text": [
      "Metric val_loss improved by 0.507 >= min_delta = 0. New best score: 31.656\n"
     ]
    },
    {
     "name": "stdout",
     "output_type": "stream",
     "text": [
      "Epoch 2: 100%|██████████| 150/150 [00:09<00:00, 15.44it/s, loss=26.7, v_num=6, train_loss_step=26.90, val_loss=31.00, train_loss_epoch=28.00]"
     ]
    },
    {
     "name": "stderr",
     "output_type": "stream",
     "text": [
      "Metric val_loss improved by 0.680 >= min_delta = 0. New best score: 30.976\n"
     ]
    },
    {
     "name": "stdout",
     "output_type": "stream",
     "text": [
      "Epoch 3: 100%|██████████| 150/150 [00:09<00:00, 15.44it/s, loss=26.8, v_num=6, train_loss_step=24.50, val_loss=30.00, train_loss_epoch=27.50]"
     ]
    },
    {
     "name": "stderr",
     "output_type": "stream",
     "text": [
      "Metric val_loss improved by 1.007 >= min_delta = 0. New best score: 29.969\n"
     ]
    },
    {
     "name": "stdout",
     "output_type": "stream",
     "text": [
      "Epoch 4: 100%|██████████| 150/150 [00:13<00:00, 11.46it/s, loss=25.7, v_num=6, train_loss_step=25.70, val_loss=28.40, train_loss_epoch=26.80]"
     ]
    },
    {
     "name": "stderr",
     "output_type": "stream",
     "text": [
      "Metric val_loss improved by 1.551 >= min_delta = 0. New best score: 28.418\n"
     ]
    },
    {
     "name": "stdout",
     "output_type": "stream",
     "text": [
      "Epoch 5: 100%|██████████| 150/150 [00:09<00:00, 15.49it/s, loss=22.9, v_num=6, train_loss_step=21.90, val_loss=25.90, train_loss_epoch=25.70]"
     ]
    },
    {
     "name": "stderr",
     "output_type": "stream",
     "text": [
      "Metric val_loss improved by 2.529 >= min_delta = 0. New best score: 25.889\n"
     ]
    },
    {
     "name": "stdout",
     "output_type": "stream",
     "text": [
      "Epoch 6: 100%|██████████| 150/150 [00:09<00:00, 15.45it/s, loss=19.2, v_num=6, train_loss_step=17.00, val_loss=20.80, train_loss_epoch=24.00]"
     ]
    },
    {
     "name": "stderr",
     "output_type": "stream",
     "text": [
      "Metric val_loss improved by 5.076 >= min_delta = 0. New best score: 20.813\n"
     ]
    },
    {
     "name": "stdout",
     "output_type": "stream",
     "text": [
      "Epoch 7: 100%|██████████| 150/150 [00:09<00:00, 15.41it/s, loss=12.3, v_num=6, train_loss_step=12.60, val_loss=12.70, train_loss_epoch=20.80]"
     ]
    },
    {
     "name": "stderr",
     "output_type": "stream",
     "text": [
      "Metric val_loss improved by 8.128 >= min_delta = 0. New best score: 12.686\n"
     ]
    },
    {
     "name": "stdout",
     "output_type": "stream",
     "text": [
      "Epoch 8: 100%|██████████| 150/150 [00:13<00:00, 11.45it/s, loss=6.86, v_num=6, train_loss_step=6.870, val_loss=6.840, train_loss_epoch=15.20]"
     ]
    },
    {
     "name": "stderr",
     "output_type": "stream",
     "text": [
      "Metric val_loss improved by 5.846 >= min_delta = 0. New best score: 6.840\n"
     ]
    },
    {
     "name": "stdout",
     "output_type": "stream",
     "text": [
      "Epoch 9: 100%|██████████| 150/150 [00:09<00:00, 15.49it/s, loss=4.76, v_num=6, train_loss_step=4.640, val_loss=4.920, train_loss_epoch=8.650]"
     ]
    },
    {
     "name": "stderr",
     "output_type": "stream",
     "text": [
      "Metric val_loss improved by 1.919 >= min_delta = 0. New best score: 4.921\n"
     ]
    },
    {
     "name": "stdout",
     "output_type": "stream",
     "text": [
      "Epoch 10: 100%|██████████| 150/150 [00:09<00:00, 15.43it/s, loss=4.28, v_num=6, train_loss_step=4.020, val_loss=4.510, train_loss_epoch=5.330]"
     ]
    },
    {
     "name": "stderr",
     "output_type": "stream",
     "text": [
      "Metric val_loss improved by 0.411 >= min_delta = 0. New best score: 4.510\n"
     ]
    },
    {
     "name": "stdout",
     "output_type": "stream",
     "text": [
      "Epoch 11: 100%|██████████| 150/150 [00:09<00:00, 15.47it/s, loss=4.22, v_num=6, train_loss_step=4.290, val_loss=4.410, train_loss_epoch=4.430]"
     ]
    },
    {
     "name": "stderr",
     "output_type": "stream",
     "text": [
      "Metric val_loss improved by 0.104 >= min_delta = 0. New best score: 4.406\n"
     ]
    },
    {
     "name": "stdout",
     "output_type": "stream",
     "text": [
      "Epoch 12: 100%|██████████| 150/150 [00:13<00:00, 11.45it/s, loss=4.12, v_num=6, train_loss_step=4.290, val_loss=4.340, train_loss_epoch=4.230]"
     ]
    },
    {
     "name": "stderr",
     "output_type": "stream",
     "text": [
      "Metric val_loss improved by 0.061 >= min_delta = 0. New best score: 4.345\n"
     ]
    },
    {
     "name": "stdout",
     "output_type": "stream",
     "text": [
      "Epoch 13: 100%|██████████| 150/150 [00:09<00:00, 15.47it/s, loss=4.09, v_num=6, train_loss_step=4.050, val_loss=4.300, train_loss_epoch=4.160]"
     ]
    },
    {
     "name": "stderr",
     "output_type": "stream",
     "text": [
      "Metric val_loss improved by 0.044 >= min_delta = 0. New best score: 4.301\n"
     ]
    },
    {
     "name": "stdout",
     "output_type": "stream",
     "text": [
      "Epoch 14: 100%|██████████| 150/150 [00:09<00:00, 15.47it/s, loss=4.06, v_num=6, train_loss_step=4.060, val_loss=4.270, train_loss_epoch=4.110]"
     ]
    },
    {
     "name": "stderr",
     "output_type": "stream",
     "text": [
      "Metric val_loss improved by 0.031 >= min_delta = 0. New best score: 4.270\n"
     ]
    },
    {
     "name": "stdout",
     "output_type": "stream",
     "text": [
      "Epoch 15: 100%|██████████| 150/150 [00:09<00:00, 15.46it/s, loss=4.04, v_num=6, train_loss_step=3.930, val_loss=4.240, train_loss_epoch=4.080]"
     ]
    },
    {
     "name": "stderr",
     "output_type": "stream",
     "text": [
      "Metric val_loss improved by 0.026 >= min_delta = 0. New best score: 4.244\n"
     ]
    },
    {
     "name": "stdout",
     "output_type": "stream",
     "text": [
      "Epoch 16: 100%|██████████| 150/150 [00:09<00:00, 15.40it/s, loss=4.02, v_num=6, train_loss_step=4.060, val_loss=4.220, train_loss_epoch=4.050]"
     ]
    },
    {
     "name": "stderr",
     "output_type": "stream",
     "text": [
      "Metric val_loss improved by 0.020 >= min_delta = 0. New best score: 4.224\n"
     ]
    },
    {
     "name": "stdout",
     "output_type": "stream",
     "text": [
      "Epoch 17: 100%|██████████| 150/150 [00:13<00:00, 11.38it/s, loss=4.02, v_num=6, train_loss_step=4.040, val_loss=4.210, train_loss_epoch=4.030]"
     ]
    },
    {
     "name": "stderr",
     "output_type": "stream",
     "text": [
      "Metric val_loss improved by 0.016 >= min_delta = 0. New best score: 4.208\n"
     ]
    },
    {
     "name": "stdout",
     "output_type": "stream",
     "text": [
      "Epoch 18: 100%|██████████| 150/150 [00:09<00:00, 15.51it/s, loss=3.99, v_num=6, train_loss_step=3.810, val_loss=4.190, train_loss_epoch=4.020]"
     ]
    },
    {
     "name": "stderr",
     "output_type": "stream",
     "text": [
      "Metric val_loss improved by 0.014 >= min_delta = 0. New best score: 4.194\n"
     ]
    },
    {
     "name": "stdout",
     "output_type": "stream",
     "text": [
      "Epoch 19: 100%|██████████| 150/150 [00:09<00:00, 15.52it/s, loss=4, v_num=6, train_loss_step=4.030, val_loss=4.180, train_loss_epoch=4.000]   "
     ]
    },
    {
     "name": "stderr",
     "output_type": "stream",
     "text": [
      "Metric val_loss improved by 0.012 >= min_delta = 0. New best score: 4.182\n"
     ]
    },
    {
     "name": "stdout",
     "output_type": "stream",
     "text": [
      "Epoch 20: 100%|██████████| 150/150 [00:09<00:00, 15.46it/s, loss=3.98, v_num=6, train_loss_step=3.910, val_loss=4.170, train_loss_epoch=3.990]"
     ]
    },
    {
     "name": "stderr",
     "output_type": "stream",
     "text": [
      "Metric val_loss improved by 0.010 >= min_delta = 0. New best score: 4.172\n"
     ]
    },
    {
     "name": "stdout",
     "output_type": "stream",
     "text": [
      "Epoch 21: 100%|██████████| 150/150 [00:13<00:00, 11.39it/s, loss=3.99, v_num=6, train_loss_step=3.980, val_loss=4.160, train_loss_epoch=3.980]"
     ]
    },
    {
     "name": "stderr",
     "output_type": "stream",
     "text": [
      "Metric val_loss improved by 0.009 >= min_delta = 0. New best score: 4.162\n"
     ]
    },
    {
     "name": "stdout",
     "output_type": "stream",
     "text": [
      "Epoch 22: 100%|██████████| 150/150 [00:09<00:00, 15.48it/s, loss=3.97, v_num=6, train_loss_step=4.010, val_loss=4.150, train_loss_epoch=3.980]"
     ]
    },
    {
     "name": "stderr",
     "output_type": "stream",
     "text": [
      "Metric val_loss improved by 0.008 >= min_delta = 0. New best score: 4.154\n"
     ]
    },
    {
     "name": "stdout",
     "output_type": "stream",
     "text": [
      "Epoch 23: 100%|██████████| 150/150 [00:09<00:00, 15.54it/s, loss=3.96, v_num=6, train_loss_step=3.950, val_loss=4.150, train_loss_epoch=3.970]"
     ]
    },
    {
     "name": "stderr",
     "output_type": "stream",
     "text": [
      "Metric val_loss improved by 0.007 >= min_delta = 0. New best score: 4.147\n"
     ]
    },
    {
     "name": "stdout",
     "output_type": "stream",
     "text": [
      "Epoch 24: 100%|██████████| 150/150 [00:09<00:00, 15.48it/s, loss=3.96, v_num=6, train_loss_step=4.060, val_loss=4.140, train_loss_epoch=3.960]"
     ]
    },
    {
     "name": "stderr",
     "output_type": "stream",
     "text": [
      "Metric val_loss improved by 0.007 >= min_delta = 0. New best score: 4.140\n"
     ]
    },
    {
     "name": "stdout",
     "output_type": "stream",
     "text": [
      "Epoch 25: 100%|██████████| 150/150 [00:13<00:00, 11.37it/s, loss=3.94, v_num=6, train_loss_step=3.840, val_loss=4.130, train_loss_epoch=3.960]"
     ]
    },
    {
     "name": "stderr",
     "output_type": "stream",
     "text": [
      "Metric val_loss improved by 0.006 >= min_delta = 0. New best score: 4.134\n"
     ]
    },
    {
     "name": "stdout",
     "output_type": "stream",
     "text": [
      "Epoch 26: 100%|██████████| 150/150 [00:09<00:00, 15.44it/s, loss=3.94, v_num=6, train_loss_step=3.920, val_loss=4.130, train_loss_epoch=3.950]"
     ]
    },
    {
     "name": "stderr",
     "output_type": "stream",
     "text": [
      "Metric val_loss improved by 0.005 >= min_delta = 0. New best score: 4.129\n"
     ]
    },
    {
     "name": "stdout",
     "output_type": "stream",
     "text": [
      "Epoch 27: 100%|██████████| 150/150 [00:09<00:00, 15.51it/s, loss=3.98, v_num=6, train_loss_step=3.820, val_loss=4.120, train_loss_epoch=3.950]"
     ]
    },
    {
     "name": "stderr",
     "output_type": "stream",
     "text": [
      "Metric val_loss improved by 0.005 >= min_delta = 0. New best score: 4.124\n"
     ]
    },
    {
     "name": "stdout",
     "output_type": "stream",
     "text": [
      "Epoch 28: 100%|██████████| 150/150 [00:09<00:00, 15.39it/s, loss=3.94, v_num=6, train_loss_step=4.100, val_loss=4.120, train_loss_epoch=3.950]"
     ]
    },
    {
     "name": "stderr",
     "output_type": "stream",
     "text": [
      "Metric val_loss improved by 0.005 >= min_delta = 0. New best score: 4.119\n"
     ]
    },
    {
     "name": "stdout",
     "output_type": "stream",
     "text": [
      "Epoch 29: 100%|██████████| 150/150 [00:09<00:00, 15.46it/s, loss=3.94, v_num=6, train_loss_step=3.900, val_loss=4.120, train_loss_epoch=3.940]"
     ]
    },
    {
     "name": "stderr",
     "output_type": "stream",
     "text": [
      "Metric val_loss improved by 0.004 >= min_delta = 0. New best score: 4.116\n"
     ]
    },
    {
     "name": "stdout",
     "output_type": "stream",
     "text": [
      "Epoch 29: 100%|██████████| 150/150 [00:09<00:00, 15.45it/s, loss=3.94, v_num=6, train_loss_step=3.900, val_loss=4.120, train_loss_epoch=3.940]"
     ]
    },
    {
     "name": "stderr",
     "output_type": "stream",
     "text": [
      "`Trainer.fit` stopped: `max_epochs=30` reached.\n"
     ]
    },
    {
     "name": "stdout",
     "output_type": "stream",
     "text": [
      "Epoch 29: 100%|██████████| 150/150 [00:10<00:00, 14.92it/s, loss=3.94, v_num=6, train_loss_step=3.900, val_loss=4.120, train_loss_epoch=3.940]"
     ]
    },
    {
     "name": "stderr",
     "output_type": "stream",
     "text": [
      "\u001b[32m[I 2024-03-28 13:30:33,061]\u001b[0m Trial 6 pruned. \u001b[0m\n"
     ]
    },
    {
     "name": "stdout",
     "output_type": "stream",
     "text": [
      "\n"
     ]
    },
    {
     "name": "stderr",
     "output_type": "stream",
     "text": [
      "GPU available: True (cuda), used: True\n",
      "TPU available: False, using: 0 TPU cores\n",
      "IPU available: False, using: 0 IPUs\n",
      "HPU available: False, using: 0 HPUs\n",
      "`Trainer(limit_train_batches=1.0)` was configured so 100% of the batches per epoch will be used..\n",
      "`Trainer(limit_val_batches=1.0)` was configured so 100% of the batches will be used..\n",
      "LOCAL_RANK: 0 - CUDA_VISIBLE_DEVICES: [0]\n",
      "\n",
      "  | Name                   | Type                             | Params\n",
      "----------------------------------------------------------------------------\n",
      "0 | loss                   | NegativeBinomialDistributionLoss | 0     \n",
      "1 | logging_metrics        | ModuleList                       | 0     \n",
      "2 | embeddings             | MultiEmbedding                   | 787   \n",
      "3 | rnn                    | LSTM                             | 3.4 M \n",
      "4 | distribution_projector | Linear                           | 1.8 K \n",
      "----------------------------------------------------------------------------\n",
      "3.4 M     Trainable params\n",
      "0         Non-trainable params\n",
      "3.4 M     Total params\n",
      "13.755    Total estimated model params size (MB)\n"
     ]
    },
    {
     "name": "stdout",
     "output_type": "stream",
     "text": [
      "Epoch 0: 100%|██████████| 91/91 [00:12<00:00,  7.35it/s, loss=16, v_num=7, train_loss_step=14.10, val_loss=15.00]"
     ]
    },
    {
     "name": "stderr",
     "output_type": "stream",
     "text": [
      "Metric val_loss improved. New best score: 14.960\n"
     ]
    },
    {
     "name": "stdout",
     "output_type": "stream",
     "text": [
      "Epoch 1: 100%|██████████| 91/91 [00:08<00:00, 10.63it/s, loss=6.3, v_num=7, train_loss_step=5.650, val_loss=6.210, train_loss_epoch=21.20] "
     ]
    },
    {
     "name": "stderr",
     "output_type": "stream",
     "text": [
      "Metric val_loss improved by 8.749 >= min_delta = 0. New best score: 6.212\n"
     ]
    },
    {
     "name": "stdout",
     "output_type": "stream",
     "text": [
      "Epoch 2: 100%|██████████| 91/91 [00:08<00:00, 10.62it/s, loss=4.13, v_num=7, train_loss_step=4.040, val_loss=4.280, train_loss_epoch=8.730]"
     ]
    },
    {
     "name": "stderr",
     "output_type": "stream",
     "text": [
      "Metric val_loss improved by 1.931 >= min_delta = 0. New best score: 4.281\n"
     ]
    },
    {
     "name": "stdout",
     "output_type": "stream",
     "text": [
      "Epoch 3: 100%|██████████| 91/91 [00:08<00:00, 10.55it/s, loss=3.71, v_num=7, train_loss_step=3.600, val_loss=3.890, train_loss_epoch=4.600]"
     ]
    },
    {
     "name": "stderr",
     "output_type": "stream",
     "text": [
      "Metric val_loss improved by 0.394 >= min_delta = 0. New best score: 3.886\n"
     ]
    },
    {
     "name": "stdout",
     "output_type": "stream",
     "text": [
      "Epoch 4: 100%|██████████| 91/91 [00:08<00:00, 10.62it/s, loss=3.35, v_num=7, train_loss_step=3.320, val_loss=3.550, train_loss_epoch=3.860]"
     ]
    },
    {
     "name": "stderr",
     "output_type": "stream",
     "text": [
      "Metric val_loss improved by 0.335 >= min_delta = 0. New best score: 3.551\n"
     ]
    },
    {
     "name": "stdout",
     "output_type": "stream",
     "text": [
      "Epoch 5: 100%|██████████| 91/91 [00:12<00:00,  7.52it/s, loss=3.12, v_num=7, train_loss_step=3.090, val_loss=3.330, train_loss_epoch=3.480]"
     ]
    },
    {
     "name": "stderr",
     "output_type": "stream",
     "text": [
      "Metric val_loss improved by 0.220 >= min_delta = 0. New best score: 3.331\n"
     ]
    },
    {
     "name": "stdout",
     "output_type": "stream",
     "text": [
      "Epoch 6: 100%|██████████| 91/91 [00:08<00:00, 10.64it/s, loss=3, v_num=7, train_loss_step=3.040, val_loss=3.190, train_loss_epoch=3.200]   "
     ]
    },
    {
     "name": "stderr",
     "output_type": "stream",
     "text": [
      "Metric val_loss improved by 0.137 >= min_delta = 0. New best score: 3.194\n"
     ]
    },
    {
     "name": "stdout",
     "output_type": "stream",
     "text": [
      "Epoch 7: 100%|██████████| 91/91 [00:08<00:00, 10.58it/s, loss=2.93, v_num=7, train_loss_step=3.000, val_loss=3.120, train_loss_epoch=3.040]"
     ]
    },
    {
     "name": "stderr",
     "output_type": "stream",
     "text": [
      "Metric val_loss improved by 0.072 >= min_delta = 0. New best score: 3.123\n"
     ]
    },
    {
     "name": "stdout",
     "output_type": "stream",
     "text": [
      "Epoch 8: 100%|██████████| 91/91 [00:08<00:00, 10.56it/s, loss=2.91, v_num=7, train_loss_step=2.940, val_loss=3.080, train_loss_epoch=2.950]"
     ]
    },
    {
     "name": "stderr",
     "output_type": "stream",
     "text": [
      "Metric val_loss improved by 0.041 >= min_delta = 0. New best score: 3.081\n"
     ]
    },
    {
     "name": "stdout",
     "output_type": "stream",
     "text": [
      "Epoch 9: 100%|██████████| 91/91 [00:12<00:00,  7.44it/s, loss=2.83, v_num=7, train_loss_step=2.880, val_loss=3.040, train_loss_epoch=2.900]"
     ]
    },
    {
     "name": "stderr",
     "output_type": "stream",
     "text": [
      "Metric val_loss improved by 0.037 >= min_delta = 0. New best score: 3.044\n"
     ]
    },
    {
     "name": "stdout",
     "output_type": "stream",
     "text": [
      "Epoch 10: 100%|██████████| 91/91 [00:08<00:00, 10.58it/s, loss=2.83, v_num=7, train_loss_step=2.790, val_loss=3.020, train_loss_epoch=2.870]"
     ]
    },
    {
     "name": "stderr",
     "output_type": "stream",
     "text": [
      "Metric val_loss improved by 0.019 >= min_delta = 0. New best score: 3.025\n"
     ]
    },
    {
     "name": "stdout",
     "output_type": "stream",
     "text": [
      "Epoch 11: 100%|██████████| 91/91 [00:08<00:00, 10.55it/s, loss=2.81, v_num=7, train_loss_step=2.760, val_loss=2.990, train_loss_epoch=2.840]"
     ]
    },
    {
     "name": "stderr",
     "output_type": "stream",
     "text": [
      "Metric val_loss improved by 0.035 >= min_delta = 0. New best score: 2.990\n"
     ]
    },
    {
     "name": "stdout",
     "output_type": "stream",
     "text": [
      "Epoch 12: 100%|██████████| 91/91 [00:08<00:00, 10.61it/s, loss=2.79, v_num=7, train_loss_step=2.780, val_loss=2.970, train_loss_epoch=2.810]"
     ]
    },
    {
     "name": "stderr",
     "output_type": "stream",
     "text": [
      "Metric val_loss improved by 0.015 >= min_delta = 0. New best score: 2.974\n"
     ]
    },
    {
     "name": "stdout",
     "output_type": "stream",
     "text": [
      "Epoch 13: 100%|██████████| 91/91 [00:08<00:00, 10.55it/s, loss=2.76, v_num=7, train_loss_step=2.760, val_loss=2.960, train_loss_epoch=2.790]"
     ]
    },
    {
     "name": "stderr",
     "output_type": "stream",
     "text": [
      "Metric val_loss improved by 0.019 >= min_delta = 0. New best score: 2.955\n"
     ]
    },
    {
     "name": "stdout",
     "output_type": "stream",
     "text": [
      "Epoch 14: 100%|██████████| 91/91 [00:12<00:00,  7.48it/s, loss=2.74, v_num=7, train_loss_step=2.720, val_loss=2.950, train_loss_epoch=2.770]"
     ]
    },
    {
     "name": "stderr",
     "output_type": "stream",
     "text": [
      "Metric val_loss improved by 0.005 >= min_delta = 0. New best score: 2.951\n"
     ]
    },
    {
     "name": "stdout",
     "output_type": "stream",
     "text": [
      "Epoch 15: 100%|██████████| 91/91 [00:08<00:00, 10.53it/s, loss=2.73, v_num=7, train_loss_step=2.760, val_loss=2.930, train_loss_epoch=2.750]"
     ]
    },
    {
     "name": "stderr",
     "output_type": "stream",
     "text": [
      "Metric val_loss improved by 0.023 >= min_delta = 0. New best score: 2.928\n"
     ]
    },
    {
     "name": "stdout",
     "output_type": "stream",
     "text": [
      "Epoch 16: 100%|██████████| 91/91 [00:08<00:00, 10.59it/s, loss=2.75, v_num=7, train_loss_step=2.870, val_loss=2.920, train_loss_epoch=2.740]"
     ]
    },
    {
     "name": "stderr",
     "output_type": "stream",
     "text": [
      "Metric val_loss improved by 0.004 >= min_delta = 0. New best score: 2.924\n"
     ]
    },
    {
     "name": "stdout",
     "output_type": "stream",
     "text": [
      "Epoch 17: 100%|██████████| 91/91 [00:08<00:00, 10.55it/s, loss=2.7, v_num=7, train_loss_step=2.630, val_loss=2.910, train_loss_epoch=2.730] "
     ]
    },
    {
     "name": "stderr",
     "output_type": "stream",
     "text": [
      "Metric val_loss improved by 0.016 >= min_delta = 0. New best score: 2.909\n"
     ]
    },
    {
     "name": "stdout",
     "output_type": "stream",
     "text": [
      "Epoch 19: 100%|██████████| 91/91 [00:12<00:00,  7.42it/s, loss=2.7, v_num=7, train_loss_step=2.780, val_loss=2.890, train_loss_epoch=2.720] "
     ]
    },
    {
     "name": "stderr",
     "output_type": "stream",
     "text": [
      "Metric val_loss improved by 0.020 >= min_delta = 0. New best score: 2.888\n"
     ]
    },
    {
     "name": "stdout",
     "output_type": "stream",
     "text": [
      "Epoch 21: 100%|██████████| 91/91 [00:08<00:00, 10.64it/s, loss=2.69, v_num=7, train_loss_step=2.690, val_loss=2.880, train_loss_epoch=2.690]"
     ]
    },
    {
     "name": "stderr",
     "output_type": "stream",
     "text": [
      "Metric val_loss improved by 0.011 >= min_delta = 0. New best score: 2.878\n"
     ]
    },
    {
     "name": "stdout",
     "output_type": "stream",
     "text": [
      "Epoch 22: 100%|██████████| 91/91 [00:08<00:00, 10.57it/s, loss=2.67, v_num=7, train_loss_step=2.870, val_loss=2.870, train_loss_epoch=2.680]"
     ]
    },
    {
     "name": "stderr",
     "output_type": "stream",
     "text": [
      "Metric val_loss improved by 0.010 >= min_delta = 0. New best score: 2.868\n"
     ]
    },
    {
     "name": "stdout",
     "output_type": "stream",
     "text": [
      "Epoch 23: 100%|██████████| 91/91 [00:08<00:00, 10.59it/s, loss=2.67, v_num=7, train_loss_step=2.640, val_loss=2.860, train_loss_epoch=2.670]"
     ]
    },
    {
     "name": "stderr",
     "output_type": "stream",
     "text": [
      "Metric val_loss improved by 0.012 >= min_delta = 0. New best score: 2.856\n"
     ]
    },
    {
     "name": "stdout",
     "output_type": "stream",
     "text": [
      "Epoch 24: 100%|██████████| 91/91 [00:12<00:00,  7.44it/s, loss=2.64, v_num=7, train_loss_step=2.530, val_loss=2.850, train_loss_epoch=2.660]"
     ]
    },
    {
     "name": "stderr",
     "output_type": "stream",
     "text": [
      "Metric val_loss improved by 0.010 >= min_delta = 0. New best score: 2.847\n"
     ]
    },
    {
     "name": "stdout",
     "output_type": "stream",
     "text": [
      "Epoch 25: 100%|██████████| 91/91 [00:08<00:00, 10.53it/s, loss=2.65, v_num=7, train_loss_step=2.670, val_loss=2.840, train_loss_epoch=2.650]"
     ]
    },
    {
     "name": "stderr",
     "output_type": "stream",
     "text": [
      "Metric val_loss improved by 0.003 >= min_delta = 0. New best score: 2.843\n"
     ]
    },
    {
     "name": "stdout",
     "output_type": "stream",
     "text": [
      "Epoch 26: 100%|██████████| 91/91 [00:08<00:00, 10.48it/s, loss=2.64, v_num=7, train_loss_step=2.630, val_loss=2.840, train_loss_epoch=2.650]"
     ]
    },
    {
     "name": "stderr",
     "output_type": "stream",
     "text": [
      "Metric val_loss improved by 0.002 >= min_delta = 0. New best score: 2.842\n"
     ]
    },
    {
     "name": "stdout",
     "output_type": "stream",
     "text": [
      "Epoch 28: 100%|██████████| 91/91 [00:08<00:00, 10.67it/s, loss=2.64, v_num=7, train_loss_step=2.570, val_loss=2.830, train_loss_epoch=2.640]"
     ]
    },
    {
     "name": "stderr",
     "output_type": "stream",
     "text": [
      "Metric val_loss improved by 0.010 >= min_delta = 0. New best score: 2.832\n"
     ]
    },
    {
     "name": "stdout",
     "output_type": "stream",
     "text": [
      "Epoch 29: 100%|██████████| 91/91 [00:12<00:00,  7.39it/s, loss=2.64, v_num=7, train_loss_step=2.690, val_loss=2.830, train_loss_epoch=2.630]"
     ]
    },
    {
     "name": "stderr",
     "output_type": "stream",
     "text": [
      "Metric val_loss improved by 0.006 >= min_delta = 0. New best score: 2.826\n"
     ]
    },
    {
     "name": "stdout",
     "output_type": "stream",
     "text": [
      "Epoch 29: 100%|██████████| 91/91 [00:12<00:00,  7.39it/s, loss=2.64, v_num=7, train_loss_step=2.690, val_loss=2.830, train_loss_epoch=2.630]"
     ]
    },
    {
     "name": "stderr",
     "output_type": "stream",
     "text": [
      "`Trainer.fit` stopped: `max_epochs=30` reached.\n"
     ]
    },
    {
     "name": "stdout",
     "output_type": "stream",
     "text": [
      "Epoch 29: 100%|██████████| 91/91 [00:12<00:00,  7.35it/s, loss=2.64, v_num=7, train_loss_step=2.690, val_loss=2.830, train_loss_epoch=2.630]"
     ]
    },
    {
     "name": "stderr",
     "output_type": "stream",
     "text": [
      "\u001b[32m[I 2024-03-28 13:35:20,805]\u001b[0m Trial 7 finished with value: 33.907859802246094 and parameters: {'neu': 910, 'lay': 1, 'bat': 896, 'lr': 0.0005339015392237202, 'dropout': 0.2}. Best is trial 2 with value: 32.41532897949219.\u001b[0m\n"
     ]
    },
    {
     "name": "stdout",
     "output_type": "stream",
     "text": [
      "\n"
     ]
    },
    {
     "name": "stderr",
     "output_type": "stream",
     "text": [
      "GPU available: True (cuda), used: True\n",
      "TPU available: False, using: 0 TPU cores\n",
      "IPU available: False, using: 0 IPUs\n",
      "HPU available: False, using: 0 HPUs\n",
      "`Trainer(limit_train_batches=1.0)` was configured so 100% of the batches per epoch will be used..\n",
      "`Trainer(limit_val_batches=1.0)` was configured so 100% of the batches will be used..\n",
      "LOCAL_RANK: 0 - CUDA_VISIBLE_DEVICES: [0]\n",
      "\n",
      "  | Name                   | Type                             | Params\n",
      "----------------------------------------------------------------------------\n",
      "0 | loss                   | NegativeBinomialDistributionLoss | 0     \n",
      "1 | logging_metrics        | ModuleList                       | 0     \n",
      "2 | embeddings             | MultiEmbedding                   | 787   \n",
      "3 | rnn                    | LSTM                             | 3.5 M \n",
      "4 | distribution_projector | Linear                           | 622   \n",
      "----------------------------------------------------------------------------\n",
      "3.5 M     Trainable params\n",
      "0         Non-trainable params\n",
      "3.5 M     Total params\n",
      "14.052    Total estimated model params size (MB)\n"
     ]
    },
    {
     "name": "stdout",
     "output_type": "stream",
     "text": [
      "Epoch 0: 100%|██████████| 85/85 [00:08<00:00,  9.70it/s, loss=4.18, v_num=8, train_loss_step=4.040, val_loss=4.210]"
     ]
    },
    {
     "name": "stderr",
     "output_type": "stream",
     "text": [
      "Metric val_loss improved. New best score: 4.206\n"
     ]
    },
    {
     "name": "stdout",
     "output_type": "stream",
     "text": [
      "Epoch 1: 100%|██████████| 85/85 [00:08<00:00,  9.62it/s, loss=3.93, v_num=8, train_loss_step=3.870, val_loss=4.080, train_loss_epoch=14.00]"
     ]
    },
    {
     "name": "stderr",
     "output_type": "stream",
     "text": [
      "Metric val_loss improved by 0.124 >= min_delta = 0. New best score: 4.082\n"
     ]
    },
    {
     "name": "stdout",
     "output_type": "stream",
     "text": [
      "Epoch 2: 100%|██████████| 85/85 [00:08<00:00,  9.69it/s, loss=3.74, v_num=8, train_loss_step=3.700, val_loss=3.820, train_loss_epoch=3.940]"
     ]
    },
    {
     "name": "stderr",
     "output_type": "stream",
     "text": [
      "Metric val_loss improved by 0.263 >= min_delta = 0. New best score: 3.818\n"
     ]
    },
    {
     "name": "stdout",
     "output_type": "stream",
     "text": [
      "Epoch 3: 100%|██████████| 85/85 [00:08<00:00,  9.63it/s, loss=3.52, v_num=8, train_loss_step=3.530, val_loss=3.620, train_loss_epoch=3.830]"
     ]
    },
    {
     "name": "stderr",
     "output_type": "stream",
     "text": [
      "Metric val_loss improved by 0.195 >= min_delta = 0. New best score: 3.624\n"
     ]
    },
    {
     "name": "stdout",
     "output_type": "stream",
     "text": [
      "Epoch 4: 100%|██████████| 85/85 [00:12<00:00,  6.76it/s, loss=3.16, v_num=8, train_loss_step=3.040, val_loss=3.210, train_loss_epoch=3.560]"
     ]
    },
    {
     "name": "stderr",
     "output_type": "stream",
     "text": [
      "Metric val_loss improved by 0.414 >= min_delta = 0. New best score: 3.210\n"
     ]
    },
    {
     "name": "stdout",
     "output_type": "stream",
     "text": [
      "Epoch 5: 100%|██████████| 85/85 [00:08<00:00,  9.63it/s, loss=2.83, v_num=8, train_loss_step=2.800, val_loss=2.970, train_loss_epoch=3.320]"
     ]
    },
    {
     "name": "stderr",
     "output_type": "stream",
     "text": [
      "Metric val_loss improved by 0.236 >= min_delta = 0. New best score: 2.974\n"
     ]
    },
    {
     "name": "stdout",
     "output_type": "stream",
     "text": [
      "Epoch 6: 100%|██████████| 85/85 [00:08<00:00,  9.66it/s, loss=2.75, v_num=8, train_loss_step=2.690, val_loss=2.970, train_loss_epoch=2.900]"
     ]
    },
    {
     "name": "stderr",
     "output_type": "stream",
     "text": [
      "Metric val_loss improved by 0.009 >= min_delta = 0. New best score: 2.965\n"
     ]
    },
    {
     "name": "stdout",
     "output_type": "stream",
     "text": [
      "Epoch 7: 100%|██████████| 85/85 [00:08<00:00,  9.65it/s, loss=2.69, v_num=8, train_loss_step=2.700, val_loss=2.870, train_loss_epoch=2.760]"
     ]
    },
    {
     "name": "stderr",
     "output_type": "stream",
     "text": [
      "Metric val_loss improved by 0.096 >= min_delta = 0. New best score: 2.869\n"
     ]
    },
    {
     "name": "stdout",
     "output_type": "stream",
     "text": [
      "Epoch 8: 100%|██████████| 85/85 [00:08<00:00,  9.69it/s, loss=2.62, v_num=8, train_loss_step=2.610, val_loss=2.810, train_loss_epoch=2.690]"
     ]
    },
    {
     "name": "stderr",
     "output_type": "stream",
     "text": [
      "Metric val_loss improved by 0.058 >= min_delta = 0. New best score: 2.811\n"
     ]
    },
    {
     "name": "stdout",
     "output_type": "stream",
     "text": [
      "Epoch 9: 100%|██████████| 85/85 [00:08<00:00,  9.69it/s, loss=2.63, v_num=8, train_loss_step=2.670, val_loss=2.800, train_loss_epoch=2.650]"
     ]
    },
    {
     "name": "stderr",
     "output_type": "stream",
     "text": [
      "Metric val_loss improved by 0.014 >= min_delta = 0. New best score: 2.796\n"
     ]
    },
    {
     "name": "stdout",
     "output_type": "stream",
     "text": [
      "Epoch 10: 100%|██████████| 85/85 [00:12<00:00,  6.78it/s, loss=2.59, v_num=8, train_loss_step=2.500, val_loss=2.770, train_loss_epoch=2.620]"
     ]
    },
    {
     "name": "stderr",
     "output_type": "stream",
     "text": [
      "Metric val_loss improved by 0.028 >= min_delta = 0. New best score: 2.769\n"
     ]
    },
    {
     "name": "stdout",
     "output_type": "stream",
     "text": [
      "Epoch 11: 100%|██████████| 85/85 [00:08<00:00,  9.69it/s, loss=2.63, v_num=8, train_loss_step=2.640, val_loss=2.770, train_loss_epoch=2.620]"
     ]
    },
    {
     "name": "stderr",
     "output_type": "stream",
     "text": [
      "Metric val_loss improved by 0.002 >= min_delta = 0. New best score: 2.766\n"
     ]
    },
    {
     "name": "stdout",
     "output_type": "stream",
     "text": [
      "Epoch 15: 100%|██████████| 85/85 [00:12<00:00,  6.78it/s, loss=2.55, v_num=8, train_loss_step=2.490, val_loss=2.750, train_loss_epoch=2.570]"
     ]
    },
    {
     "name": "stderr",
     "output_type": "stream",
     "text": [
      "Metric val_loss improved by 0.017 >= min_delta = 0. New best score: 2.749\n"
     ]
    },
    {
     "name": "stdout",
     "output_type": "stream",
     "text": [
      "Epoch 16: 100%|██████████| 85/85 [00:08<00:00,  9.71it/s, loss=2.56, v_num=8, train_loss_step=2.490, val_loss=2.740, train_loss_epoch=2.560]"
     ]
    },
    {
     "name": "stderr",
     "output_type": "stream",
     "text": [
      "Metric val_loss improved by 0.009 >= min_delta = 0. New best score: 2.740\n"
     ]
    },
    {
     "name": "stdout",
     "output_type": "stream",
     "text": [
      "Epoch 17: 100%|██████████| 85/85 [00:08<00:00,  9.71it/s, loss=2.54, v_num=8, train_loss_step=2.570, val_loss=2.740, train_loss_epoch=2.550]"
     ]
    },
    {
     "name": "stderr",
     "output_type": "stream",
     "text": [
      "Metric val_loss improved by 0.004 >= min_delta = 0. New best score: 2.736\n"
     ]
    },
    {
     "name": "stdout",
     "output_type": "stream",
     "text": [
      "Epoch 22: 100%|██████████| 85/85 [00:08<00:00,  9.66it/s, loss=2.54, v_num=8, train_loss_step=2.600, val_loss=2.750, train_loss_epoch=2.520]"
     ]
    },
    {
     "name": "stderr",
     "output_type": "stream",
     "text": [
      "Monitored metric val_loss did not improve in the last 5 records. Best score: 2.736. Signaling Trainer to stop.\n"
     ]
    },
    {
     "name": "stdout",
     "output_type": "stream",
     "text": [
      "Epoch 22: 100%|██████████| 85/85 [00:08<00:00,  9.59it/s, loss=2.54, v_num=8, train_loss_step=2.600, val_loss=2.750, train_loss_epoch=2.510]"
     ]
    },
    {
     "name": "stderr",
     "output_type": "stream",
     "text": [
      "\u001b[32m[I 2024-03-28 13:39:01,682]\u001b[0m Trial 8 finished with value: 32.443546295166016 and parameters: {'neu': 310, 'lay': 5, 'bat': 960, 'lr': 0.013225566396027491, 'dropout': 0.0}. Best is trial 2 with value: 32.41532897949219.\u001b[0m\n"
     ]
    },
    {
     "name": "stdout",
     "output_type": "stream",
     "text": [
      "\n"
     ]
    },
    {
     "name": "stderr",
     "output_type": "stream",
     "text": [
      "GPU available: True (cuda), used: True\n",
      "TPU available: False, using: 0 TPU cores\n",
      "IPU available: False, using: 0 IPUs\n",
      "HPU available: False, using: 0 HPUs\n",
      "`Trainer(limit_train_batches=1.0)` was configured so 100% of the batches per epoch will be used..\n",
      "`Trainer(limit_val_batches=1.0)` was configured so 100% of the batches will be used..\n",
      "LOCAL_RANK: 0 - CUDA_VISIBLE_DEVICES: [0]\n",
      "\n",
      "  | Name                   | Type                             | Params\n",
      "----------------------------------------------------------------------------\n",
      "0 | loss                   | NegativeBinomialDistributionLoss | 0     \n",
      "1 | logging_metrics        | ModuleList                       | 0     \n",
      "2 | embeddings             | MultiEmbedding                   | 787   \n",
      "3 | rnn                    | LSTM                             | 426 K \n",
      "4 | distribution_projector | Linear                           | 622   \n",
      "----------------------------------------------------------------------------\n",
      "427 K     Trainable params\n",
      "0         Non-trainable params\n",
      "427 K     Total params\n",
      "1.712     Total estimated model params size (MB)\n"
     ]
    },
    {
     "name": "stdout",
     "output_type": "stream",
     "text": [
      "Epoch 0: 100%|██████████| 848/848 [00:14<00:00, 60.04it/s, loss=8.62, v_num=9, train_loss_step=7.750, val_loss=9.480]"
     ]
    },
    {
     "name": "stderr",
     "output_type": "stream",
     "text": [
      "Metric val_loss improved. New best score: 9.476\n"
     ]
    },
    {
     "name": "stdout",
     "output_type": "stream",
     "text": [
      "Epoch 1: 100%|██████████| 848/848 [00:14<00:00, 59.64it/s, loss=3.97, v_num=9, train_loss_step=4.300, val_loss=4.240, train_loss_epoch=17.20]"
     ]
    },
    {
     "name": "stderr",
     "output_type": "stream",
     "text": [
      "Metric val_loss improved by 5.235 >= min_delta = 0. New best score: 4.241\n"
     ]
    },
    {
     "name": "stdout",
     "output_type": "stream",
     "text": [
      "Epoch 2: 100%|██████████| 848/848 [00:14<00:00, 59.36it/s, loss=3.47, v_num=9, train_loss_step=3.260, val_loss=3.750, train_loss_epoch=5.110]"
     ]
    },
    {
     "name": "stderr",
     "output_type": "stream",
     "text": [
      "Metric val_loss improved by 0.493 >= min_delta = 0. New best score: 3.748\n"
     ]
    },
    {
     "name": "stdout",
     "output_type": "stream",
     "text": [
      "Epoch 3: 100%|██████████| 848/848 [00:14<00:00, 58.95it/s, loss=3.32, v_num=9, train_loss_step=3.330, val_loss=3.550, train_loss_epoch=3.700]"
     ]
    },
    {
     "name": "stderr",
     "output_type": "stream",
     "text": [
      "Metric val_loss improved by 0.203 >= min_delta = 0. New best score: 3.545\n"
     ]
    },
    {
     "name": "stdout",
     "output_type": "stream",
     "text": [
      "Epoch 4: 100%|██████████| 848/848 [00:14<00:00, 58.67it/s, loss=3.14, v_num=9, train_loss_step=3.220, val_loss=3.430, train_loss_epoch=3.380]"
     ]
    },
    {
     "name": "stderr",
     "output_type": "stream",
     "text": [
      "Metric val_loss improved by 0.112 >= min_delta = 0. New best score: 3.433\n"
     ]
    },
    {
     "name": "stdout",
     "output_type": "stream",
     "text": [
      "Epoch 5: 100%|██████████| 848/848 [00:14<00:00, 58.67it/s, loss=3.15, v_num=9, train_loss_step=3.360, val_loss=3.360, train_loss_epoch=3.240]"
     ]
    },
    {
     "name": "stderr",
     "output_type": "stream",
     "text": [
      "Metric val_loss improved by 0.070 >= min_delta = 0. New best score: 3.363\n"
     ]
    },
    {
     "name": "stdout",
     "output_type": "stream",
     "text": [
      "Epoch 6: 100%|██████████| 848/848 [00:14<00:00, 58.50it/s, loss=3.04, v_num=9, train_loss_step=2.910, val_loss=3.310, train_loss_epoch=3.160]"
     ]
    },
    {
     "name": "stderr",
     "output_type": "stream",
     "text": [
      "Metric val_loss improved by 0.053 >= min_delta = 0. New best score: 3.310\n"
     ]
    },
    {
     "name": "stdout",
     "output_type": "stream",
     "text": [
      "Epoch 7: 100%|██████████| 848/848 [00:14<00:00, 58.29it/s, loss=3.01, v_num=9, train_loss_step=2.970, val_loss=3.260, train_loss_epoch=3.100]"
     ]
    },
    {
     "name": "stderr",
     "output_type": "stream",
     "text": [
      "Metric val_loss improved by 0.047 >= min_delta = 0. New best score: 3.263\n"
     ]
    },
    {
     "name": "stdout",
     "output_type": "stream",
     "text": [
      "Epoch 8: 100%|██████████| 848/848 [00:14<00:00, 58.50it/s, loss=2.96, v_num=9, train_loss_step=3.210, val_loss=3.220, train_loss_epoch=3.050]"
     ]
    },
    {
     "name": "stderr",
     "output_type": "stream",
     "text": [
      "Metric val_loss improved by 0.042 >= min_delta = 0. New best score: 3.221\n"
     ]
    },
    {
     "name": "stdout",
     "output_type": "stream",
     "text": [
      "Epoch 9: 100%|██████████| 848/848 [00:19<00:00, 44.57it/s, loss=2.88, v_num=9, train_loss_step=3.010, val_loss=3.180, train_loss_epoch=3.010]"
     ]
    },
    {
     "name": "stderr",
     "output_type": "stream",
     "text": [
      "Metric val_loss improved by 0.039 >= min_delta = 0. New best score: 3.182\n"
     ]
    },
    {
     "name": "stdout",
     "output_type": "stream",
     "text": [
      "Epoch 10: 100%|██████████| 848/848 [00:14<00:00, 58.36it/s, loss=2.92, v_num=9, train_loss_step=3.050, val_loss=3.150, train_loss_epoch=2.970]"
     ]
    },
    {
     "name": "stderr",
     "output_type": "stream",
     "text": [
      "Metric val_loss improved by 0.033 >= min_delta = 0. New best score: 3.149\n"
     ]
    },
    {
     "name": "stdout",
     "output_type": "stream",
     "text": [
      "Epoch 11: 100%|██████████| 848/848 [00:14<00:00, 58.89it/s, loss=2.88, v_num=9, train_loss_step=2.880, val_loss=3.120, train_loss_epoch=2.940]"
     ]
    },
    {
     "name": "stderr",
     "output_type": "stream",
     "text": [
      "Metric val_loss improved by 0.032 >= min_delta = 0. New best score: 3.117\n"
     ]
    },
    {
     "name": "stdout",
     "output_type": "stream",
     "text": [
      "Epoch 12: 100%|██████████| 848/848 [00:14<00:00, 58.74it/s, loss=2.85, v_num=9, train_loss_step=2.920, val_loss=3.090, train_loss_epoch=2.910]"
     ]
    },
    {
     "name": "stderr",
     "output_type": "stream",
     "text": [
      "Metric val_loss improved by 0.025 >= min_delta = 0. New best score: 3.091\n"
     ]
    },
    {
     "name": "stdout",
     "output_type": "stream",
     "text": [
      "Epoch 13: 100%|██████████| 848/848 [00:14<00:00, 58.63it/s, loss=2.82, v_num=9, train_loss_step=2.910, val_loss=3.060, train_loss_epoch=2.880]"
     ]
    },
    {
     "name": "stderr",
     "output_type": "stream",
     "text": [
      "Metric val_loss improved by 0.027 >= min_delta = 0. New best score: 3.064\n"
     ]
    },
    {
     "name": "stdout",
     "output_type": "stream",
     "text": [
      "Epoch 14: 100%|██████████| 848/848 [00:14<00:00, 58.14it/s, loss=2.85, v_num=9, train_loss_step=2.930, val_loss=3.040, train_loss_epoch=2.860]"
     ]
    },
    {
     "name": "stderr",
     "output_type": "stream",
     "text": [
      "Metric val_loss improved by 0.022 >= min_delta = 0. New best score: 3.042\n"
     ]
    },
    {
     "name": "stdout",
     "output_type": "stream",
     "text": [
      "Epoch 15: 100%|██████████| 848/848 [00:14<00:00, 58.42it/s, loss=2.75, v_num=9, train_loss_step=2.870, val_loss=3.020, train_loss_epoch=2.830]"
     ]
    },
    {
     "name": "stderr",
     "output_type": "stream",
     "text": [
      "Metric val_loss improved by 0.022 >= min_delta = 0. New best score: 3.020\n"
     ]
    },
    {
     "name": "stdout",
     "output_type": "stream",
     "text": [
      "Epoch 16: 100%|██████████| 848/848 [00:14<00:00, 58.27it/s, loss=2.79, v_num=9, train_loss_step=2.650, val_loss=3.010, train_loss_epoch=2.810]"
     ]
    },
    {
     "name": "stderr",
     "output_type": "stream",
     "text": [
      "Metric val_loss improved by 0.013 >= min_delta = 0. New best score: 3.007\n"
     ]
    },
    {
     "name": "stdout",
     "output_type": "stream",
     "text": [
      "Epoch 17: 100%|██████████| 848/848 [00:14<00:00, 58.34it/s, loss=2.79, v_num=9, train_loss_step=2.990, val_loss=2.990, train_loss_epoch=2.800]"
     ]
    },
    {
     "name": "stderr",
     "output_type": "stream",
     "text": [
      "Metric val_loss improved by 0.016 >= min_delta = 0. New best score: 2.990\n"
     ]
    },
    {
     "name": "stdout",
     "output_type": "stream",
     "text": [
      "Epoch 18: 100%|██████████| 848/848 [00:14<00:00, 58.10it/s, loss=2.7, v_num=9, train_loss_step=2.560, val_loss=2.970, train_loss_epoch=2.780] "
     ]
    },
    {
     "name": "stderr",
     "output_type": "stream",
     "text": [
      "Metric val_loss improved by 0.017 >= min_delta = 0. New best score: 2.974\n"
     ]
    },
    {
     "name": "stdout",
     "output_type": "stream",
     "text": [
      "Epoch 19: 100%|██████████| 848/848 [00:14<00:00, 58.41it/s, loss=2.76, v_num=9, train_loss_step=2.850, val_loss=2.960, train_loss_epoch=2.760]"
     ]
    },
    {
     "name": "stderr",
     "output_type": "stream",
     "text": [
      "Metric val_loss improved by 0.016 >= min_delta = 0. New best score: 2.957\n"
     ]
    },
    {
     "name": "stdout",
     "output_type": "stream",
     "text": [
      "Epoch 20: 100%|██████████| 848/848 [00:14<00:00, 58.56it/s, loss=2.74, v_num=9, train_loss_step=2.700, val_loss=2.950, train_loss_epoch=2.750]"
     ]
    },
    {
     "name": "stderr",
     "output_type": "stream",
     "text": [
      "Metric val_loss improved by 0.010 >= min_delta = 0. New best score: 2.948\n"
     ]
    },
    {
     "name": "stdout",
     "output_type": "stream",
     "text": [
      "Epoch 21: 100%|██████████| 848/848 [00:14<00:00, 58.72it/s, loss=2.65, v_num=9, train_loss_step=2.620, val_loss=2.940, train_loss_epoch=2.740]"
     ]
    },
    {
     "name": "stderr",
     "output_type": "stream",
     "text": [
      "Metric val_loss improved by 0.012 >= min_delta = 0. New best score: 2.935\n"
     ]
    },
    {
     "name": "stdout",
     "output_type": "stream",
     "text": [
      "Epoch 22: 100%|██████████| 848/848 [00:14<00:00, 58.32it/s, loss=2.7, v_num=9, train_loss_step=2.690, val_loss=2.930, train_loss_epoch=2.730] "
     ]
    },
    {
     "name": "stderr",
     "output_type": "stream",
     "text": [
      "Metric val_loss improved by 0.010 >= min_delta = 0. New best score: 2.926\n"
     ]
    },
    {
     "name": "stdout",
     "output_type": "stream",
     "text": [
      "Epoch 23: 100%|██████████| 848/848 [00:14<00:00, 58.55it/s, loss=2.76, v_num=9, train_loss_step=3.050, val_loss=2.920, train_loss_epoch=2.720]"
     ]
    },
    {
     "name": "stderr",
     "output_type": "stream",
     "text": [
      "Metric val_loss improved by 0.007 >= min_delta = 0. New best score: 2.919\n"
     ]
    },
    {
     "name": "stdout",
     "output_type": "stream",
     "text": [
      "Epoch 24: 100%|██████████| 848/848 [00:14<00:00, 58.92it/s, loss=2.65, v_num=9, train_loss_step=2.730, val_loss=2.910, train_loss_epoch=2.710]"
     ]
    },
    {
     "name": "stderr",
     "output_type": "stream",
     "text": [
      "Metric val_loss improved by 0.009 >= min_delta = 0. New best score: 2.910\n"
     ]
    },
    {
     "name": "stdout",
     "output_type": "stream",
     "text": [
      "Epoch 25: 100%|██████████| 848/848 [00:14<00:00, 58.71it/s, loss=2.63, v_num=9, train_loss_step=2.730, val_loss=2.900, train_loss_epoch=2.700]"
     ]
    },
    {
     "name": "stderr",
     "output_type": "stream",
     "text": [
      "Metric val_loss improved by 0.006 >= min_delta = 0. New best score: 2.903\n"
     ]
    },
    {
     "name": "stdout",
     "output_type": "stream",
     "text": [
      "Epoch 26: 100%|██████████| 848/848 [00:14<00:00, 58.65it/s, loss=2.68, v_num=9, train_loss_step=2.720, val_loss=2.900, train_loss_epoch=2.690]"
     ]
    },
    {
     "name": "stderr",
     "output_type": "stream",
     "text": [
      "Metric val_loss improved by 0.005 >= min_delta = 0. New best score: 2.898\n"
     ]
    },
    {
     "name": "stdout",
     "output_type": "stream",
     "text": [
      "Epoch 27: 100%|██████████| 848/848 [00:14<00:00, 58.27it/s, loss=2.7, v_num=9, train_loss_step=2.960, val_loss=2.890, train_loss_epoch=2.680] "
     ]
    },
    {
     "name": "stderr",
     "output_type": "stream",
     "text": [
      "Metric val_loss improved by 0.012 >= min_delta = 0. New best score: 2.887\n"
     ]
    },
    {
     "name": "stdout",
     "output_type": "stream",
     "text": [
      "Epoch 28: 100%|██████████| 848/848 [00:14<00:00, 58.78it/s, loss=2.61, v_num=9, train_loss_step=2.730, val_loss=2.880, train_loss_epoch=2.680]"
     ]
    },
    {
     "name": "stderr",
     "output_type": "stream",
     "text": [
      "Metric val_loss improved by 0.003 >= min_delta = 0. New best score: 2.884\n"
     ]
    },
    {
     "name": "stdout",
     "output_type": "stream",
     "text": [
      "Epoch 29: 100%|██████████| 848/848 [00:14<00:00, 58.30it/s, loss=2.67, v_num=9, train_loss_step=2.490, val_loss=2.870, train_loss_epoch=2.670]"
     ]
    },
    {
     "name": "stderr",
     "output_type": "stream",
     "text": [
      "Metric val_loss improved by 0.011 >= min_delta = 0. New best score: 2.873\n"
     ]
    },
    {
     "name": "stdout",
     "output_type": "stream",
     "text": [
      "Epoch 29: 100%|██████████| 848/848 [00:14<00:00, 58.28it/s, loss=2.67, v_num=9, train_loss_step=2.490, val_loss=2.870, train_loss_epoch=2.660]"
     ]
    },
    {
     "name": "stderr",
     "output_type": "stream",
     "text": [
      "`Trainer.fit` stopped: `max_epochs=30` reached.\n"
     ]
    },
    {
     "name": "stdout",
     "output_type": "stream",
     "text": [
      "Epoch 29: 100%|██████████| 848/848 [00:14<00:00, 58.21it/s, loss=2.67, v_num=9, train_loss_step=2.490, val_loss=2.870, train_loss_epoch=2.660]"
     ]
    },
    {
     "name": "stderr",
     "output_type": "stream",
     "text": [
      "\u001b[32m[I 2024-03-28 13:46:22,526]\u001b[0m Trial 9 pruned. \u001b[0m\n"
     ]
    },
    {
     "name": "stdout",
     "output_type": "stream",
     "text": [
      "\n"
     ]
    },
    {
     "name": "stderr",
     "output_type": "stream",
     "text": [
      "GPU available: True (cuda), used: True\n",
      "TPU available: False, using: 0 TPU cores\n",
      "IPU available: False, using: 0 IPUs\n",
      "HPU available: False, using: 0 HPUs\n",
      "`Trainer(limit_train_batches=1.0)` was configured so 100% of the batches per epoch will be used..\n",
      "`Trainer(limit_val_batches=1.0)` was configured so 100% of the batches will be used..\n",
      "LOCAL_RANK: 0 - CUDA_VISIBLE_DEVICES: [0]\n",
      "\n",
      "  | Name                   | Type                             | Params\n",
      "----------------------------------------------------------------------------\n",
      "0 | loss                   | NegativeBinomialDistributionLoss | 0     \n",
      "1 | logging_metrics        | ModuleList                       | 0     \n",
      "2 | embeddings             | MultiEmbedding                   | 787   \n",
      "3 | rnn                    | LSTM                             | 5.3 K \n",
      "4 | distribution_projector | Linear                           | 22    \n",
      "----------------------------------------------------------------------------\n",
      "6.1 K     Trainable params\n",
      "0         Non-trainable params\n",
      "6.1 K     Total params\n",
      "0.024     Total estimated model params size (MB)\n"
     ]
    },
    {
     "name": "stdout",
     "output_type": "stream",
     "text": [
      "Epoch 0: 100%|██████████| 254/254 [00:16<00:00, 15.64it/s, loss=3.95, v_num=10, train_loss_step=3.960, val_loss=4.150]"
     ]
    },
    {
     "name": "stderr",
     "output_type": "stream",
     "text": [
      "Metric val_loss improved. New best score: 4.147\n"
     ]
    },
    {
     "name": "stdout",
     "output_type": "stream",
     "text": [
      "Epoch 1: 100%|██████████| 254/254 [00:10<00:00, 25.38it/s, loss=3.94, v_num=10, train_loss_step=3.840, val_loss=4.090, train_loss_epoch=7.920]"
     ]
    },
    {
     "name": "stderr",
     "output_type": "stream",
     "text": [
      "Metric val_loss improved by 0.058 >= min_delta = 0. New best score: 4.089\n"
     ]
    },
    {
     "name": "stdout",
     "output_type": "stream",
     "text": [
      "Epoch 2: 100%|██████████| 254/254 [00:09<00:00, 25.48it/s, loss=3.93, v_num=10, train_loss_step=3.950, val_loss=4.090, train_loss_epoch=3.930]"
     ]
    },
    {
     "name": "stderr",
     "output_type": "stream",
     "text": [
      "Metric val_loss improved by 0.003 >= min_delta = 0. New best score: 4.086\n"
     ]
    },
    {
     "name": "stdout",
     "output_type": "stream",
     "text": [
      "Epoch 3: 100%|██████████| 254/254 [00:09<00:00, 25.53it/s, loss=3.92, v_num=10, train_loss_step=3.830, val_loss=4.080, train_loss_epoch=3.920]"
     ]
    },
    {
     "name": "stderr",
     "output_type": "stream",
     "text": [
      "Metric val_loss improved by 0.002 >= min_delta = 0. New best score: 4.085\n"
     ]
    },
    {
     "name": "stdout",
     "output_type": "stream",
     "text": [
      "Epoch 5: 100%|██████████| 254/254 [00:09<00:00, 25.49it/s, loss=3.93, v_num=10, train_loss_step=3.970, val_loss=4.080, train_loss_epoch=3.920]"
     ]
    },
    {
     "name": "stderr",
     "output_type": "stream",
     "text": [
      "Metric val_loss improved by 0.001 >= min_delta = 0. New best score: 4.084\n"
     ]
    },
    {
     "name": "stdout",
     "output_type": "stream",
     "text": [
      "Epoch 10: 100%|██████████| 254/254 [00:09<00:00, 25.50it/s, loss=3.96, v_num=10, train_loss_step=4.000, val_loss=4.080, train_loss_epoch=3.920]"
     ]
    },
    {
     "name": "stderr",
     "output_type": "stream",
     "text": [
      "Monitored metric val_loss did not improve in the last 5 records. Best score: 4.084. Signaling Trainer to stop.\n"
     ]
    },
    {
     "name": "stdout",
     "output_type": "stream",
     "text": [
      "Epoch 10: 100%|██████████| 254/254 [00:09<00:00, 25.48it/s, loss=3.96, v_num=10, train_loss_step=4.000, val_loss=4.080, train_loss_epoch=3.920]"
     ]
    },
    {
     "name": "stderr",
     "output_type": "stream",
     "text": [
      "\u001b[32m[I 2024-03-28 13:48:22,000]\u001b[0m Trial 10 pruned. \u001b[0m\n"
     ]
    },
    {
     "name": "stdout",
     "output_type": "stream",
     "text": [
      "\n"
     ]
    },
    {
     "name": "stderr",
     "output_type": "stream",
     "text": [
      "GPU available: True (cuda), used: True\n",
      "TPU available: False, using: 0 TPU cores\n",
      "IPU available: False, using: 0 IPUs\n",
      "HPU available: False, using: 0 HPUs\n",
      "`Trainer(limit_train_batches=1.0)` was configured so 100% of the batches per epoch will be used..\n",
      "`Trainer(limit_val_batches=1.0)` was configured so 100% of the batches will be used..\n",
      "LOCAL_RANK: 0 - CUDA_VISIBLE_DEVICES: [0]\n",
      "\n",
      "  | Name                   | Type                             | Params\n",
      "----------------------------------------------------------------------------\n",
      "0 | loss                   | NegativeBinomialDistributionLoss | 0     \n",
      "1 | logging_metrics        | ModuleList                       | 0     \n",
      "2 | embeddings             | MultiEmbedding                   | 787   \n",
      "3 | rnn                    | LSTM                             | 9.4 M \n",
      "4 | distribution_projector | Linear                           | 1.0 K \n",
      "----------------------------------------------------------------------------\n",
      "9.5 M     Trainable params\n",
      "0         Non-trainable params\n",
      "9.5 M     Total params\n",
      "37.804    Total estimated model params size (MB)\n"
     ]
    },
    {
     "name": "stdout",
     "output_type": "stream",
     "text": [
      "Epoch 0: 100%|██████████| 85/85 [00:08<00:00,  9.47it/s, loss=20.8, v_num=11, train_loss_step=14.60, val_loss=14.80]"
     ]
    },
    {
     "name": "stderr",
     "output_type": "stream",
     "text": [
      "Metric val_loss improved. New best score: 14.826\n"
     ]
    },
    {
     "name": "stdout",
     "output_type": "stream",
     "text": [
      "Epoch 1: 100%|██████████| 85/85 [00:08<00:00,  9.46it/s, loss=4.11, v_num=11, train_loss_step=4.040, val_loss=4.210, train_loss_epoch=24.50]"
     ]
    },
    {
     "name": "stderr",
     "output_type": "stream",
     "text": [
      "Metric val_loss improved by 10.615 >= min_delta = 0. New best score: 4.211\n"
     ]
    },
    {
     "name": "stdout",
     "output_type": "stream",
     "text": [
      "Epoch 2: 100%|██████████| 85/85 [00:09<00:00,  9.43it/s, loss=3.91, v_num=11, train_loss_step=3.920, val_loss=4.060, train_loss_epoch=5.740]"
     ]
    },
    {
     "name": "stderr",
     "output_type": "stream",
     "text": [
      "Metric val_loss improved by 0.154 >= min_delta = 0. New best score: 4.057\n"
     ]
    },
    {
     "name": "stdout",
     "output_type": "stream",
     "text": [
      "Epoch 3: 100%|██████████| 85/85 [00:15<00:00,  5.36it/s, loss=3.71, v_num=11, train_loss_step=3.630, val_loss=3.860, train_loss_epoch=3.950]"
     ]
    },
    {
     "name": "stderr",
     "output_type": "stream",
     "text": [
      "Metric val_loss improved by 0.201 >= min_delta = 0. New best score: 3.856\n"
     ]
    },
    {
     "name": "stdout",
     "output_type": "stream",
     "text": [
      "Epoch 4: 100%|██████████| 85/85 [00:09<00:00,  9.37it/s, loss=3.25, v_num=11, train_loss_step=3.210, val_loss=3.420, train_loss_epoch=3.790]"
     ]
    },
    {
     "name": "stderr",
     "output_type": "stream",
     "text": [
      "Metric val_loss improved by 0.438 >= min_delta = 0. New best score: 3.418\n"
     ]
    },
    {
     "name": "stdout",
     "output_type": "stream",
     "text": [
      "Epoch 5: 100%|██████████| 85/85 [00:09<00:00,  9.39it/s, loss=2.99, v_num=11, train_loss_step=3.020, val_loss=3.230, train_loss_epoch=3.460]"
     ]
    },
    {
     "name": "stderr",
     "output_type": "stream",
     "text": [
      "Metric val_loss improved by 0.190 >= min_delta = 0. New best score: 3.229\n"
     ]
    },
    {
     "name": "stdout",
     "output_type": "stream",
     "text": [
      "Epoch 6: 100%|██████████| 85/85 [00:09<00:00,  9.40it/s, loss=2.9, v_num=11, train_loss_step=2.810, val_loss=3.150, train_loss_epoch=3.050] "
     ]
    },
    {
     "name": "stderr",
     "output_type": "stream",
     "text": [
      "Metric val_loss improved by 0.075 >= min_delta = 0. New best score: 3.154\n"
     ]
    },
    {
     "name": "stdout",
     "output_type": "stream",
     "text": [
      "Epoch 7: 100%|██████████| 85/85 [00:09<00:00,  9.41it/s, loss=2.86, v_num=11, train_loss_step=2.830, val_loss=3.070, train_loss_epoch=2.940]"
     ]
    },
    {
     "name": "stderr",
     "output_type": "stream",
     "text": [
      "Metric val_loss improved by 0.081 >= min_delta = 0. New best score: 3.073\n"
     ]
    },
    {
     "name": "stdout",
     "output_type": "stream",
     "text": [
      "Epoch 8: 100%|██████████| 85/85 [00:09<00:00,  9.41it/s, loss=2.82, v_num=11, train_loss_step=2.810, val_loss=3.060, train_loss_epoch=2.870]"
     ]
    },
    {
     "name": "stderr",
     "output_type": "stream",
     "text": [
      "Metric val_loss improved by 0.008 >= min_delta = 0. New best score: 3.065\n"
     ]
    },
    {
     "name": "stdout",
     "output_type": "stream",
     "text": [
      "Epoch 9: 100%|██████████| 85/85 [00:15<00:00,  5.52it/s, loss=2.8, v_num=11, train_loss_step=2.690, val_loss=3.050, train_loss_epoch=2.830] "
     ]
    },
    {
     "name": "stderr",
     "output_type": "stream",
     "text": [
      "Metric val_loss improved by 0.016 >= min_delta = 0. New best score: 3.049\n"
     ]
    },
    {
     "name": "stdout",
     "output_type": "stream",
     "text": [
      "Epoch 10: 100%|██████████| 85/85 [00:09<00:00,  9.41it/s, loss=2.77, v_num=11, train_loss_step=2.780, val_loss=2.980, train_loss_epoch=2.810]"
     ]
    },
    {
     "name": "stderr",
     "output_type": "stream",
     "text": [
      "Metric val_loss improved by 0.064 >= min_delta = 0. New best score: 2.984\n"
     ]
    },
    {
     "name": "stdout",
     "output_type": "stream",
     "text": [
      "Epoch 12: 100%|██████████| 85/85 [00:09<00:00,  9.35it/s, loss=2.73, v_num=11, train_loss_step=2.660, val_loss=2.970, train_loss_epoch=2.800]"
     ]
    },
    {
     "name": "stderr",
     "output_type": "stream",
     "text": [
      "Metric val_loss improved by 0.016 >= min_delta = 0. New best score: 2.968\n"
     ]
    },
    {
     "name": "stdout",
     "output_type": "stream",
     "text": [
      "Epoch 13: 100%|██████████| 85/85 [00:09<00:00,  9.42it/s, loss=2.71, v_num=11, train_loss_step=2.730, val_loss=2.960, train_loss_epoch=2.740]"
     ]
    },
    {
     "name": "stderr",
     "output_type": "stream",
     "text": [
      "Metric val_loss improved by 0.004 >= min_delta = 0. New best score: 2.964\n"
     ]
    },
    {
     "name": "stdout",
     "output_type": "stream",
     "text": [
      "Epoch 14: 100%|██████████| 85/85 [00:09<00:00,  9.43it/s, loss=2.72, v_num=11, train_loss_step=2.750, val_loss=2.950, train_loss_epoch=2.720]"
     ]
    },
    {
     "name": "stderr",
     "output_type": "stream",
     "text": [
      "Metric val_loss improved by 0.014 >= min_delta = 0. New best score: 2.950\n"
     ]
    },
    {
     "name": "stdout",
     "output_type": "stream",
     "text": [
      "Epoch 15: 100%|██████████| 85/85 [00:09<00:00,  9.41it/s, loss=2.69, v_num=11, train_loss_step=2.760, val_loss=2.910, train_loss_epoch=2.710]"
     ]
    },
    {
     "name": "stderr",
     "output_type": "stream",
     "text": [
      "Metric val_loss improved by 0.040 >= min_delta = 0. New best score: 2.910\n"
     ]
    },
    {
     "name": "stdout",
     "output_type": "stream",
     "text": [
      "Epoch 18: 100%|██████████| 85/85 [00:09<00:00,  9.39it/s, loss=2.67, v_num=11, train_loss_step=2.610, val_loss=2.870, train_loss_epoch=2.670]"
     ]
    },
    {
     "name": "stderr",
     "output_type": "stream",
     "text": [
      "Metric val_loss improved by 0.035 >= min_delta = 0. New best score: 2.875\n"
     ]
    },
    {
     "name": "stdout",
     "output_type": "stream",
     "text": [
      "Epoch 21: 100%|██████████| 85/85 [00:09<00:00,  9.41it/s, loss=2.61, v_num=11, train_loss_step=2.600, val_loss=2.870, train_loss_epoch=2.640]"
     ]
    },
    {
     "name": "stderr",
     "output_type": "stream",
     "text": [
      "Metric val_loss improved by 0.008 >= min_delta = 0. New best score: 2.867\n"
     ]
    },
    {
     "name": "stdout",
     "output_type": "stream",
     "text": [
      "Epoch 22: 100%|██████████| 85/85 [00:09<00:00,  9.40it/s, loss=2.61, v_num=11, train_loss_step=2.640, val_loss=2.850, train_loss_epoch=2.630]"
     ]
    },
    {
     "name": "stderr",
     "output_type": "stream",
     "text": [
      "Metric val_loss improved by 0.019 >= min_delta = 0. New best score: 2.849\n"
     ]
    },
    {
     "name": "stdout",
     "output_type": "stream",
     "text": [
      "Epoch 23: 100%|██████████| 85/85 [00:15<00:00,  5.46it/s, loss=2.61, v_num=11, train_loss_step=2.650, val_loss=2.850, train_loss_epoch=2.620]"
     ]
    },
    {
     "name": "stderr",
     "output_type": "stream",
     "text": [
      "Metric val_loss improved by 0.001 >= min_delta = 0. New best score: 2.848\n"
     ]
    },
    {
     "name": "stdout",
     "output_type": "stream",
     "text": [
      "Epoch 25: 100%|██████████| 85/85 [00:09<00:00,  9.43it/s, loss=2.6, v_num=11, train_loss_step=2.440, val_loss=2.840, train_loss_epoch=2.610] "
     ]
    },
    {
     "name": "stderr",
     "output_type": "stream",
     "text": [
      "Metric val_loss improved by 0.005 >= min_delta = 0. New best score: 2.843\n"
     ]
    },
    {
     "name": "stdout",
     "output_type": "stream",
     "text": [
      "Epoch 29: 100%|██████████| 85/85 [00:09<00:00,  9.39it/s, loss=2.58, v_num=11, train_loss_step=2.580, val_loss=2.840, train_loss_epoch=2.580]"
     ]
    },
    {
     "name": "stderr",
     "output_type": "stream",
     "text": [
      "Metric val_loss improved by 0.006 >= min_delta = 0. New best score: 2.836\n"
     ]
    },
    {
     "name": "stdout",
     "output_type": "stream",
     "text": [
      "Epoch 29: 100%|██████████| 85/85 [00:09<00:00,  9.38it/s, loss=2.58, v_num=11, train_loss_step=2.580, val_loss=2.840, train_loss_epoch=2.580]"
     ]
    },
    {
     "name": "stderr",
     "output_type": "stream",
     "text": [
      "`Trainer.fit` stopped: `max_epochs=30` reached.\n"
     ]
    },
    {
     "name": "stdout",
     "output_type": "stream",
     "text": [
      "Epoch 29: 100%|██████████| 85/85 [00:09<00:00,  8.93it/s, loss=2.58, v_num=11, train_loss_step=2.580, val_loss=2.840, train_loss_epoch=2.580]"
     ]
    },
    {
     "name": "stderr",
     "output_type": "stream",
     "text": [
      "\u001b[32m[I 2024-03-28 13:53:30,674]\u001b[0m Trial 11 finished with value: 33.713401794433594 and parameters: {'neu': 510, 'lay': 5, 'bat': 960, 'lr': 0.0021068062802785956, 'dropout': 0.0}. Best is trial 2 with value: 32.41532897949219.\u001b[0m\n"
     ]
    },
    {
     "name": "stdout",
     "output_type": "stream",
     "text": [
      "\n"
     ]
    },
    {
     "name": "stderr",
     "output_type": "stream",
     "text": [
      "GPU available: True (cuda), used: True\n",
      "TPU available: False, using: 0 TPU cores\n",
      "IPU available: False, using: 0 IPUs\n",
      "HPU available: False, using: 0 HPUs\n",
      "`Trainer(limit_train_batches=1.0)` was configured so 100% of the batches per epoch will be used..\n",
      "`Trainer(limit_val_batches=1.0)` was configured so 100% of the batches will be used..\n",
      "LOCAL_RANK: 0 - CUDA_VISIBLE_DEVICES: [0]\n",
      "\n",
      "  | Name                   | Type                             | Params\n",
      "----------------------------------------------------------------------------\n",
      "0 | loss                   | NegativeBinomialDistributionLoss | 0     \n",
      "1 | logging_metrics        | ModuleList                       | 0     \n",
      "2 | embeddings             | MultiEmbedding                   | 787   \n",
      "3 | rnn                    | LSTM                             | 3.4 M \n",
      "4 | distribution_projector | Linear                           | 822   \n",
      "----------------------------------------------------------------------------\n",
      "3.4 M     Trainable params\n",
      "0         Non-trainable params\n",
      "3.4 M     Total params\n",
      "13.704    Total estimated model params size (MB)\n"
     ]
    },
    {
     "name": "stdout",
     "output_type": "stream",
     "text": [
      "Epoch 0: 100%|██████████| 254/254 [00:10<00:00, 25.02it/s, loss=3.08, v_num=12, train_loss_step=3.090, val_loss=3.260]"
     ]
    },
    {
     "name": "stderr",
     "output_type": "stream",
     "text": [
      "Metric val_loss improved. New best score: 3.255\n"
     ]
    },
    {
     "name": "stdout",
     "output_type": "stream",
     "text": [
      "Epoch 1: 100%|██████████| 254/254 [00:10<00:00, 24.88it/s, loss=2.76, v_num=12, train_loss_step=2.930, val_loss=2.910, train_loss_epoch=6.400]"
     ]
    },
    {
     "name": "stderr",
     "output_type": "stream",
     "text": [
      "Metric val_loss improved by 0.342 >= min_delta = 0. New best score: 2.913\n"
     ]
    },
    {
     "name": "stdout",
     "output_type": "stream",
     "text": [
      "Epoch 2: 100%|██████████| 254/254 [00:17<00:00, 14.89it/s, loss=2.68, v_num=12, train_loss_step=2.670, val_loss=2.840, train_loss_epoch=2.850]"
     ]
    },
    {
     "name": "stderr",
     "output_type": "stream",
     "text": [
      "Metric val_loss improved by 0.073 >= min_delta = 0. New best score: 2.841\n"
     ]
    },
    {
     "name": "stdout",
     "output_type": "stream",
     "text": [
      "Epoch 3: 100%|██████████| 254/254 [00:10<00:00, 24.92it/s, loss=2.59, v_num=12, train_loss_step=2.750, val_loss=2.800, train_loss_epoch=2.710]"
     ]
    },
    {
     "name": "stderr",
     "output_type": "stream",
     "text": [
      "Metric val_loss improved by 0.046 >= min_delta = 0. New best score: 2.795\n"
     ]
    },
    {
     "name": "stdout",
     "output_type": "stream",
     "text": [
      "Epoch 5: 100%|██████████| 254/254 [00:10<00:00, 24.99it/s, loss=2.59, v_num=12, train_loss_step=2.610, val_loss=2.740, train_loss_epoch=2.620]"
     ]
    },
    {
     "name": "stderr",
     "output_type": "stream",
     "text": [
      "Metric val_loss improved by 0.059 >= min_delta = 0. New best score: 2.736\n"
     ]
    },
    {
     "name": "stdout",
     "output_type": "stream",
     "text": [
      "Epoch 6: 100%|██████████| 254/254 [00:10<00:00, 24.81it/s, loss=2.59, v_num=12, train_loss_step=2.510, val_loss=2.730, train_loss_epoch=2.600]"
     ]
    },
    {
     "name": "stderr",
     "output_type": "stream",
     "text": [
      "Metric val_loss improved by 0.003 >= min_delta = 0. New best score: 2.734\n"
     ]
    },
    {
     "name": "stdout",
     "output_type": "stream",
     "text": [
      "Epoch 7: 100%|██████████| 254/254 [00:10<00:00, 25.01it/s, loss=2.53, v_num=12, train_loss_step=2.620, val_loss=2.720, train_loss_epoch=2.580]"
     ]
    },
    {
     "name": "stderr",
     "output_type": "stream",
     "text": [
      "Metric val_loss improved by 0.010 >= min_delta = 0. New best score: 2.724\n"
     ]
    },
    {
     "name": "stdout",
     "output_type": "stream",
     "text": [
      "Epoch 9: 100%|██████████| 254/254 [00:10<00:00, 24.86it/s, loss=2.53, v_num=12, train_loss_step=2.720, val_loss=2.700, train_loss_epoch=2.560]"
     ]
    },
    {
     "name": "stderr",
     "output_type": "stream",
     "text": [
      "Metric val_loss improved by 0.021 >= min_delta = 0. New best score: 2.702\n"
     ]
    },
    {
     "name": "stdout",
     "output_type": "stream",
     "text": [
      "Epoch 13: 100%|██████████| 254/254 [00:10<00:00, 24.73it/s, loss=2.53, v_num=12, train_loss_step=2.580, val_loss=2.700, train_loss_epoch=2.530]"
     ]
    },
    {
     "name": "stderr",
     "output_type": "stream",
     "text": [
      "Metric val_loss improved by 0.005 >= min_delta = 0. New best score: 2.697\n"
     ]
    },
    {
     "name": "stdout",
     "output_type": "stream",
     "text": [
      "Epoch 18: 100%|██████████| 254/254 [00:10<00:00, 25.00it/s, loss=2.47, v_num=12, train_loss_step=2.400, val_loss=2.720, train_loss_epoch=2.480]"
     ]
    },
    {
     "name": "stderr",
     "output_type": "stream",
     "text": [
      "Monitored metric val_loss did not improve in the last 5 records. Best score: 2.697. Signaling Trainer to stop.\n"
     ]
    },
    {
     "name": "stdout",
     "output_type": "stream",
     "text": [
      "Epoch 18: 100%|██████████| 254/254 [00:10<00:00, 24.85it/s, loss=2.47, v_num=12, train_loss_step=2.400, val_loss=2.720, train_loss_epoch=2.470]"
     ]
    },
    {
     "name": "stderr",
     "output_type": "stream",
     "text": [
      "\u001b[32m[I 2024-03-28 13:56:55,097]\u001b[0m Trial 12 finished with value: 32.70790481567383 and parameters: {'neu': 410, 'lay': 3, 'bat': 320, 'lr': 0.00815546268179949, 'dropout': 0.0}. Best is trial 2 with value: 32.41532897949219.\u001b[0m\n"
     ]
    },
    {
     "name": "stdout",
     "output_type": "stream",
     "text": [
      "\n"
     ]
    },
    {
     "name": "stderr",
     "output_type": "stream",
     "text": [
      "GPU available: True (cuda), used: True\n",
      "TPU available: False, using: 0 TPU cores\n",
      "IPU available: False, using: 0 IPUs\n",
      "HPU available: False, using: 0 HPUs\n",
      "`Trainer(limit_train_batches=1.0)` was configured so 100% of the batches per epoch will be used..\n",
      "`Trainer(limit_val_batches=1.0)` was configured so 100% of the batches will be used..\n",
      "LOCAL_RANK: 0 - CUDA_VISIBLE_DEVICES: [0]\n",
      "\n",
      "  | Name                   | Type                             | Params\n",
      "----------------------------------------------------------------------------\n",
      "0 | loss                   | NegativeBinomialDistributionLoss | 0     \n",
      "1 | logging_metrics        | ModuleList                       | 0     \n",
      "2 | embeddings             | MultiEmbedding                   | 787   \n",
      "3 | rnn                    | LSTM                             | 7.5 M \n",
      "4 | distribution_projector | Linear                           | 1.2 K \n",
      "----------------------------------------------------------------------------\n",
      "7.5 M     Trainable params\n",
      "0         Non-trainable params\n",
      "7.5 M     Total params\n",
      "30.147    Total estimated model params size (MB)\n"
     ]
    },
    {
     "name": "stdout",
     "output_type": "stream",
     "text": [
      "Epoch 0: 100%|██████████| 106/106 [00:09<00:00, 11.70it/s, loss=3.75, v_num=13, train_loss_step=3.710, val_loss=3.800]"
     ]
    },
    {
     "name": "stderr",
     "output_type": "stream",
     "text": [
      "Metric val_loss improved. New best score: 3.803\n"
     ]
    },
    {
     "name": "stdout",
     "output_type": "stream",
     "text": [
      "Epoch 1: 100%|██████████| 106/106 [00:16<00:00,  6.56it/s, loss=2.85, v_num=13, train_loss_step=2.810, val_loss=3.050, train_loss_epoch=7.430]"
     ]
    },
    {
     "name": "stderr",
     "output_type": "stream",
     "text": [
      "Metric val_loss improved by 0.748 >= min_delta = 0. New best score: 3.055\n"
     ]
    },
    {
     "name": "stdout",
     "output_type": "stream",
     "text": [
      "Epoch 2: 100%|██████████| 106/106 [00:09<00:00, 11.63it/s, loss=2.68, v_num=13, train_loss_step=2.610, val_loss=2.850, train_loss_epoch=3.180]"
     ]
    },
    {
     "name": "stderr",
     "output_type": "stream",
     "text": [
      "Metric val_loss improved by 0.209 >= min_delta = 0. New best score: 2.846\n"
     ]
    },
    {
     "name": "stdout",
     "output_type": "stream",
     "text": [
      "Epoch 3: 100%|██████████| 106/106 [00:09<00:00, 11.70it/s, loss=2.62, v_num=13, train_loss_step=2.670, val_loss=2.830, train_loss_epoch=2.770]"
     ]
    },
    {
     "name": "stderr",
     "output_type": "stream",
     "text": [
      "Metric val_loss improved by 0.018 >= min_delta = 0. New best score: 2.828\n"
     ]
    },
    {
     "name": "stdout",
     "output_type": "stream",
     "text": [
      "Epoch 4: 100%|██████████| 106/106 [00:09<00:00, 11.72it/s, loss=2.65, v_num=13, train_loss_step=2.670, val_loss=2.760, train_loss_epoch=2.660]"
     ]
    },
    {
     "name": "stderr",
     "output_type": "stream",
     "text": [
      "Metric val_loss improved by 0.070 >= min_delta = 0. New best score: 2.757\n"
     ]
    },
    {
     "name": "stdout",
     "output_type": "stream",
     "text": [
      "Epoch 5: 100%|██████████| 106/106 [00:09<00:00, 11.73it/s, loss=2.59, v_num=13, train_loss_step=2.520, val_loss=2.740, train_loss_epoch=2.640]"
     ]
    },
    {
     "name": "stderr",
     "output_type": "stream",
     "text": [
      "Metric val_loss improved by 0.014 >= min_delta = 0. New best score: 2.743\n"
     ]
    },
    {
     "name": "stdout",
     "output_type": "stream",
     "text": [
      "Epoch 10: 100%|██████████| 106/106 [00:09<00:00, 11.74it/s, loss=2.56, v_num=13, train_loss_step=2.530, val_loss=2.750, train_loss_epoch=2.570]"
     ]
    },
    {
     "name": "stderr",
     "output_type": "stream",
     "text": [
      "Monitored metric val_loss did not improve in the last 5 records. Best score: 2.743. Signaling Trainer to stop.\n"
     ]
    },
    {
     "name": "stdout",
     "output_type": "stream",
     "text": [
      "Epoch 10: 100%|██████████| 106/106 [00:09<00:00, 11.31it/s, loss=2.56, v_num=13, train_loss_step=2.530, val_loss=2.750, train_loss_epoch=2.560]"
     ]
    },
    {
     "name": "stderr",
     "output_type": "stream",
     "text": [
      "\u001b[32m[I 2024-03-28 13:58:54,866]\u001b[0m Trial 13 finished with value: 33.01899337768555 and parameters: {'neu': 610, 'lay': 3, 'bat': 768, 'lr': 0.0270108255135229, 'dropout': 0.2}. Best is trial 2 with value: 32.41532897949219.\u001b[0m\n"
     ]
    },
    {
     "name": "stdout",
     "output_type": "stream",
     "text": [
      "\n"
     ]
    },
    {
     "name": "stderr",
     "output_type": "stream",
     "text": [
      "GPU available: True (cuda), used: True\n",
      "TPU available: False, using: 0 TPU cores\n",
      "IPU available: False, using: 0 IPUs\n",
      "HPU available: False, using: 0 HPUs\n",
      "`Trainer(limit_train_batches=1.0)` was configured so 100% of the batches per epoch will be used..\n",
      "`Trainer(limit_val_batches=1.0)` was configured so 100% of the batches will be used..\n",
      "LOCAL_RANK: 0 - CUDA_VISIBLE_DEVICES: [0]\n",
      "\n",
      "  | Name                   | Type                             | Params\n",
      "----------------------------------------------------------------------------\n",
      "0 | loss                   | NegativeBinomialDistributionLoss | 0     \n",
      "1 | logging_metrics        | ModuleList                       | 0     \n",
      "2 | embeddings             | MultiEmbedding                   | 787   \n",
      "3 | rnn                    | LSTM                             | 2.3 M \n",
      "4 | distribution_projector | Linear                           | 422   \n",
      "----------------------------------------------------------------------------\n",
      "2.3 M     Trainable params\n",
      "0         Non-trainable params\n",
      "2.3 M     Total params\n",
      "9.332     Total estimated model params size (MB)\n"
     ]
    },
    {
     "name": "stdout",
     "output_type": "stream",
     "text": [
      "Epoch 0: 100%|██████████| 231/231 [00:10<00:00, 23.04it/s, loss=12.3, v_num=14, train_loss_step=8.510, val_loss=9.350]"
     ]
    },
    {
     "name": "stderr",
     "output_type": "stream",
     "text": [
      "Metric val_loss improved. New best score: 9.348\n"
     ]
    },
    {
     "name": "stdout",
     "output_type": "stream",
     "text": [
      "Epoch 1: 100%|██████████| 231/231 [00:10<00:00, 22.87it/s, loss=4.03, v_num=14, train_loss_step=4.150, val_loss=4.240, train_loss_epoch=23.20]"
     ]
    },
    {
     "name": "stderr",
     "output_type": "stream",
     "text": [
      "Metric val_loss improved by 5.111 >= min_delta = 0. New best score: 4.236\n"
     ]
    },
    {
     "name": "stdout",
     "output_type": "stream",
     "text": [
      "Epoch 2: 100%|██████████| 231/231 [00:10<00:00, 22.93it/s, loss=3.97, v_num=14, train_loss_step=3.860, val_loss=4.120, train_loss_epoch=4.610]"
     ]
    },
    {
     "name": "stderr",
     "output_type": "stream",
     "text": [
      "Metric val_loss improved by 0.119 >= min_delta = 0. New best score: 4.117\n"
     ]
    },
    {
     "name": "stdout",
     "output_type": "stream",
     "text": [
      "Epoch 3: 100%|██████████| 231/231 [00:10<00:00, 22.80it/s, loss=3.94, v_num=14, train_loss_step=3.940, val_loss=4.090, train_loss_epoch=3.970]"
     ]
    },
    {
     "name": "stderr",
     "output_type": "stream",
     "text": [
      "Metric val_loss improved by 0.024 >= min_delta = 0. New best score: 4.093\n"
     ]
    },
    {
     "name": "stdout",
     "output_type": "stream",
     "text": [
      "Epoch 4: 100%|██████████| 231/231 [00:10<00:00, 22.80it/s, loss=3.9, v_num=14, train_loss_step=4.000, val_loss=4.090, train_loss_epoch=3.930] "
     ]
    },
    {
     "name": "stderr",
     "output_type": "stream",
     "text": [
      "Metric val_loss improved by 0.005 >= min_delta = 0. New best score: 4.088\n"
     ]
    },
    {
     "name": "stdout",
     "output_type": "stream",
     "text": [
      "Epoch 5: 100%|██████████| 231/231 [00:10<00:00, 22.76it/s, loss=3.92, v_num=14, train_loss_step=3.880, val_loss=4.090, train_loss_epoch=3.930]"
     ]
    },
    {
     "name": "stderr",
     "output_type": "stream",
     "text": [
      "Metric val_loss improved by 0.002 >= min_delta = 0. New best score: 4.086\n"
     ]
    },
    {
     "name": "stdout",
     "output_type": "stream",
     "text": [
      "Epoch 6: 100%|██████████| 231/231 [00:10<00:00, 22.87it/s, loss=3.91, v_num=14, train_loss_step=4.040, val_loss=4.080, train_loss_epoch=3.920]"
     ]
    },
    {
     "name": "stderr",
     "output_type": "stream",
     "text": [
      "Metric val_loss improved by 0.001 >= min_delta = 0. New best score: 4.085\n"
     ]
    },
    {
     "name": "stdout",
     "output_type": "stream",
     "text": [
      "Epoch 7: 100%|██████████| 231/231 [00:17<00:00, 13.19it/s, loss=3.92, v_num=14, train_loss_step=3.880, val_loss=4.080, train_loss_epoch=3.920]"
     ]
    },
    {
     "name": "stderr",
     "output_type": "stream",
     "text": [
      "Metric val_loss improved by 0.002 >= min_delta = 0. New best score: 4.083\n"
     ]
    },
    {
     "name": "stdout",
     "output_type": "stream",
     "text": [
      "Epoch 8: 100%|██████████| 231/231 [00:10<00:00, 22.85it/s, loss=3.63, v_num=14, train_loss_step=3.540, val_loss=3.790, train_loss_epoch=3.920]"
     ]
    },
    {
     "name": "stderr",
     "output_type": "stream",
     "text": [
      "Metric val_loss improved by 0.294 >= min_delta = 0. New best score: 3.789\n"
     ]
    },
    {
     "name": "stdout",
     "output_type": "stream",
     "text": [
      "Epoch 9: 100%|██████████| 231/231 [00:10<00:00, 22.73it/s, loss=3.14, v_num=14, train_loss_step=3.210, val_loss=3.340, train_loss_epoch=3.820]"
     ]
    },
    {
     "name": "stderr",
     "output_type": "stream",
     "text": [
      "Metric val_loss improved by 0.453 >= min_delta = 0. New best score: 3.336\n"
     ]
    },
    {
     "name": "stdout",
     "output_type": "stream",
     "text": [
      "Epoch 10: 100%|██████████| 231/231 [00:10<00:00, 22.74it/s, loss=3.02, v_num=14, train_loss_step=3.030, val_loss=3.240, train_loss_epoch=3.300]"
     ]
    },
    {
     "name": "stderr",
     "output_type": "stream",
     "text": [
      "Metric val_loss improved by 0.093 >= min_delta = 0. New best score: 3.243\n"
     ]
    },
    {
     "name": "stdout",
     "output_type": "stream",
     "text": [
      "Epoch 11: 100%|██████████| 231/231 [00:10<00:00, 22.86it/s, loss=3.01, v_num=14, train_loss_step=3.110, val_loss=3.190, train_loss_epoch=3.080]"
     ]
    },
    {
     "name": "stderr",
     "output_type": "stream",
     "text": [
      "Metric val_loss improved by 0.055 >= min_delta = 0. New best score: 3.188\n"
     ]
    },
    {
     "name": "stdout",
     "output_type": "stream",
     "text": [
      "Epoch 12: 100%|██████████| 231/231 [00:10<00:00, 22.63it/s, loss=2.98, v_num=14, train_loss_step=3.060, val_loss=3.150, train_loss_epoch=3.010]"
     ]
    },
    {
     "name": "stderr",
     "output_type": "stream",
     "text": [
      "Metric val_loss improved by 0.037 >= min_delta = 0. New best score: 3.151\n"
     ]
    },
    {
     "name": "stdout",
     "output_type": "stream",
     "text": [
      "Epoch 13: 100%|██████████| 231/231 [00:10<00:00, 22.77it/s, loss=2.93, v_num=14, train_loss_step=3.030, val_loss=3.110, train_loss_epoch=2.970]"
     ]
    },
    {
     "name": "stderr",
     "output_type": "stream",
     "text": [
      "Metric val_loss improved by 0.036 >= min_delta = 0. New best score: 3.115\n"
     ]
    },
    {
     "name": "stdout",
     "output_type": "stream",
     "text": [
      "Epoch 14: 100%|██████████| 231/231 [00:10<00:00, 22.81it/s, loss=2.86, v_num=14, train_loss_step=2.940, val_loss=3.090, train_loss_epoch=2.940]"
     ]
    },
    {
     "name": "stderr",
     "output_type": "stream",
     "text": [
      "Metric val_loss improved by 0.027 >= min_delta = 0. New best score: 3.088\n"
     ]
    },
    {
     "name": "stdout",
     "output_type": "stream",
     "text": [
      "Epoch 15: 100%|██████████| 231/231 [00:10<00:00, 22.76it/s, loss=2.86, v_num=14, train_loss_step=2.900, val_loss=3.050, train_loss_epoch=2.910]"
     ]
    },
    {
     "name": "stderr",
     "output_type": "stream",
     "text": [
      "Metric val_loss improved by 0.035 >= min_delta = 0. New best score: 3.053\n"
     ]
    },
    {
     "name": "stdout",
     "output_type": "stream",
     "text": [
      "Epoch 16: 100%|██████████| 231/231 [00:10<00:00, 22.82it/s, loss=2.85, v_num=14, train_loss_step=2.850, val_loss=3.040, train_loss_epoch=2.880]"
     ]
    },
    {
     "name": "stderr",
     "output_type": "stream",
     "text": [
      "Metric val_loss improved by 0.017 >= min_delta = 0. New best score: 3.036\n"
     ]
    },
    {
     "name": "stdout",
     "output_type": "stream",
     "text": [
      "Epoch 17: 100%|██████████| 231/231 [00:10<00:00, 22.74it/s, loss=2.79, v_num=14, train_loss_step=2.750, val_loss=3.000, train_loss_epoch=2.860]"
     ]
    },
    {
     "name": "stderr",
     "output_type": "stream",
     "text": [
      "Metric val_loss improved by 0.032 >= min_delta = 0. New best score: 3.004\n"
     ]
    },
    {
     "name": "stdout",
     "output_type": "stream",
     "text": [
      "Epoch 18: 100%|██████████| 231/231 [00:17<00:00, 13.25it/s, loss=2.79, v_num=14, train_loss_step=2.870, val_loss=2.990, train_loss_epoch=2.840]"
     ]
    },
    {
     "name": "stderr",
     "output_type": "stream",
     "text": [
      "Metric val_loss improved by 0.016 >= min_delta = 0. New best score: 2.988\n"
     ]
    },
    {
     "name": "stdout",
     "output_type": "stream",
     "text": [
      "Epoch 20: 100%|██████████| 231/231 [00:10<00:00, 22.82it/s, loss=2.76, v_num=14, train_loss_step=2.700, val_loss=2.970, train_loss_epoch=2.800]"
     ]
    },
    {
     "name": "stderr",
     "output_type": "stream",
     "text": [
      "Metric val_loss improved by 0.023 >= min_delta = 0. New best score: 2.965\n"
     ]
    },
    {
     "name": "stdout",
     "output_type": "stream",
     "text": [
      "Epoch 21: 100%|██████████| 231/231 [00:10<00:00, 22.76it/s, loss=2.77, v_num=14, train_loss_step=2.780, val_loss=2.940, train_loss_epoch=2.790]"
     ]
    },
    {
     "name": "stderr",
     "output_type": "stream",
     "text": [
      "Metric val_loss improved by 0.021 >= min_delta = 0. New best score: 2.944\n"
     ]
    },
    {
     "name": "stdout",
     "output_type": "stream",
     "text": [
      "Epoch 22: 100%|██████████| 231/231 [00:10<00:00, 22.87it/s, loss=2.78, v_num=14, train_loss_step=2.760, val_loss=2.940, train_loss_epoch=2.770]"
     ]
    },
    {
     "name": "stderr",
     "output_type": "stream",
     "text": [
      "Metric val_loss improved by 0.001 >= min_delta = 0. New best score: 2.943\n"
     ]
    },
    {
     "name": "stdout",
     "output_type": "stream",
     "text": [
      "Epoch 23: 100%|██████████| 231/231 [00:10<00:00, 22.75it/s, loss=2.73, v_num=14, train_loss_step=2.740, val_loss=2.920, train_loss_epoch=2.760]"
     ]
    },
    {
     "name": "stderr",
     "output_type": "stream",
     "text": [
      "Metric val_loss improved by 0.026 >= min_delta = 0. New best score: 2.917\n"
     ]
    },
    {
     "name": "stdout",
     "output_type": "stream",
     "text": [
      "Epoch 24: 100%|██████████| 231/231 [00:10<00:00, 22.83it/s, loss=2.71, v_num=14, train_loss_step=2.780, val_loss=2.910, train_loss_epoch=2.740]"
     ]
    },
    {
     "name": "stderr",
     "output_type": "stream",
     "text": [
      "Metric val_loss improved by 0.003 >= min_delta = 0. New best score: 2.914\n"
     ]
    },
    {
     "name": "stdout",
     "output_type": "stream",
     "text": [
      "Epoch 25: 100%|██████████| 231/231 [00:10<00:00, 22.85it/s, loss=2.73, v_num=14, train_loss_step=2.710, val_loss=2.890, train_loss_epoch=2.730]"
     ]
    },
    {
     "name": "stderr",
     "output_type": "stream",
     "text": [
      "Metric val_loss improved by 0.023 >= min_delta = 0. New best score: 2.891\n"
     ]
    },
    {
     "name": "stdout",
     "output_type": "stream",
     "text": [
      "Epoch 28: 100%|██████████| 231/231 [00:10<00:00, 22.72it/s, loss=2.69, v_num=14, train_loss_step=2.640, val_loss=2.870, train_loss_epoch=2.700]"
     ]
    },
    {
     "name": "stderr",
     "output_type": "stream",
     "text": [
      "Metric val_loss improved by 0.018 >= min_delta = 0. New best score: 2.873\n"
     ]
    },
    {
     "name": "stdout",
     "output_type": "stream",
     "text": [
      "Epoch 29: 100%|██████████| 231/231 [00:17<00:00, 13.07it/s, loss=2.69, v_num=14, train_loss_step=2.660, val_loss=2.840, train_loss_epoch=2.690]"
     ]
    },
    {
     "name": "stderr",
     "output_type": "stream",
     "text": [
      "Metric val_loss improved by 0.030 >= min_delta = 0. New best score: 2.843\n"
     ]
    },
    {
     "name": "stdout",
     "output_type": "stream",
     "text": [
      "Epoch 29: 100%|██████████| 231/231 [00:17<00:00, 13.07it/s, loss=2.69, v_num=14, train_loss_step=2.660, val_loss=2.840, train_loss_epoch=2.680]"
     ]
    },
    {
     "name": "stderr",
     "output_type": "stream",
     "text": [
      "`Trainer.fit` stopped: `max_epochs=30` reached.\n"
     ]
    },
    {
     "name": "stdout",
     "output_type": "stream",
     "text": [
      "Epoch 29: 100%|██████████| 231/231 [00:17<00:00, 13.04it/s, loss=2.69, v_num=14, train_loss_step=2.660, val_loss=2.840, train_loss_epoch=2.680]"
     ]
    },
    {
     "name": "stderr",
     "output_type": "stream",
     "text": [
      "\u001b[32m[I 2024-03-28 14:04:24,994]\u001b[0m Trial 14 pruned. \u001b[0m\n"
     ]
    },
    {
     "name": "stdout",
     "output_type": "stream",
     "text": [
      "\n"
     ]
    },
    {
     "name": "stderr",
     "output_type": "stream",
     "text": [
      "GPU available: True (cuda), used: True\n",
      "TPU available: False, using: 0 TPU cores\n",
      "IPU available: False, using: 0 IPUs\n",
      "HPU available: False, using: 0 HPUs\n",
      "`Trainer(limit_train_batches=1.0)` was configured so 100% of the batches per epoch will be used..\n",
      "`Trainer(limit_val_batches=1.0)` was configured so 100% of the batches will be used..\n",
      "LOCAL_RANK: 0 - CUDA_VISIBLE_DEVICES: [0]\n",
      "\n",
      "  | Name                   | Type                             | Params\n",
      "----------------------------------------------------------------------------\n",
      "0 | loss                   | NegativeBinomialDistributionLoss | 0     \n",
      "1 | logging_metrics        | ModuleList                       | 0     \n",
      "2 | embeddings             | MultiEmbedding                   | 787   \n",
      "3 | rnn                    | LSTM                             | 8.8 M \n",
      "4 | distribution_projector | Linear                           | 822   \n",
      "----------------------------------------------------------------------------\n",
      "8.8 M     Trainable params\n",
      "0         Non-trainable params\n",
      "8.8 M     Total params\n",
      "35.273    Total estimated model params size (MB)\n"
     ]
    },
    {
     "name": "stdout",
     "output_type": "stream",
     "text": [
      "Epoch 0: 100%|██████████| 80/80 [00:08<00:00,  8.89it/s, loss=25.7, v_num=15, train_loss_step=24.40, val_loss=27.80]"
     ]
    },
    {
     "name": "stderr",
     "output_type": "stream",
     "text": [
      "Metric val_loss improved. New best score: 27.799\n"
     ]
    },
    {
     "name": "stdout",
     "output_type": "stream",
     "text": [
      "Epoch 1: 100%|██████████| 80/80 [00:09<00:00,  8.70it/s, loss=7.01, v_num=15, train_loss_step=4.850, val_loss=5.080, train_loss_epoch=26.90]"
     ]
    },
    {
     "name": "stderr",
     "output_type": "stream",
     "text": [
      "Metric val_loss improved by 22.723 >= min_delta = 0. New best score: 5.076\n"
     ]
    },
    {
     "name": "stdout",
     "output_type": "stream",
     "text": [
      "Epoch 2: 100%|██████████| 80/80 [00:08<00:00,  8.94it/s, loss=4.08, v_num=15, train_loss_step=4.010, val_loss=4.220, train_loss_epoch=14.70]"
     ]
    },
    {
     "name": "stderr",
     "output_type": "stream",
     "text": [
      "Metric val_loss improved by 0.853 >= min_delta = 0. New best score: 4.223\n"
     ]
    },
    {
     "name": "stdout",
     "output_type": "stream",
     "text": [
      "Epoch 3: 100%|██████████| 80/80 [00:08<00:00,  8.89it/s, loss=3.96, v_num=15, train_loss_step=3.980, val_loss=4.100, train_loss_epoch=4.230]"
     ]
    },
    {
     "name": "stderr",
     "output_type": "stream",
     "text": [
      "Metric val_loss improved by 0.124 >= min_delta = 0. New best score: 4.100\n"
     ]
    },
    {
     "name": "stdout",
     "output_type": "stream",
     "text": [
      "Epoch 4: 100%|██████████| 80/80 [00:09<00:00,  8.82it/s, loss=3.91, v_num=15, train_loss_step=3.960, val_loss=4.080, train_loss_epoch=3.960]"
     ]
    },
    {
     "name": "stderr",
     "output_type": "stream",
     "text": [
      "Metric val_loss improved by 0.015 >= min_delta = 0. New best score: 4.085\n"
     ]
    },
    {
     "name": "stdout",
     "output_type": "stream",
     "text": [
      "Epoch 5: 100%|██████████| 80/80 [00:08<00:00,  8.90it/s, loss=3.92, v_num=15, train_loss_step=3.900, val_loss=4.080, train_loss_epoch=3.930]"
     ]
    },
    {
     "name": "stderr",
     "output_type": "stream",
     "text": [
      "Metric val_loss improved by 0.001 >= min_delta = 0. New best score: 4.084\n"
     ]
    },
    {
     "name": "stdout",
     "output_type": "stream",
     "text": [
      "Epoch 7: 100%|██████████| 80/80 [00:16<00:00,  4.78it/s, loss=3.93, v_num=15, train_loss_step=3.860, val_loss=4.080, train_loss_epoch=3.920]"
     ]
    },
    {
     "name": "stderr",
     "output_type": "stream",
     "text": [
      "Metric val_loss improved by 0.001 >= min_delta = 0. New best score: 4.083\n"
     ]
    },
    {
     "name": "stdout",
     "output_type": "stream",
     "text": [
      "Epoch 8: 100%|██████████| 80/80 [00:08<00:00,  8.89it/s, loss=3.85, v_num=15, train_loss_step=3.750, val_loss=3.990, train_loss_epoch=3.920]"
     ]
    },
    {
     "name": "stderr",
     "output_type": "stream",
     "text": [
      "Metric val_loss improved by 0.095 >= min_delta = 0. New best score: 3.988\n"
     ]
    },
    {
     "name": "stdout",
     "output_type": "stream",
     "text": [
      "Epoch 9: 100%|██████████| 80/80 [00:09<00:00,  8.85it/s, loss=3.65, v_num=15, train_loss_step=3.710, val_loss=3.810, train_loss_epoch=3.890]"
     ]
    },
    {
     "name": "stderr",
     "output_type": "stream",
     "text": [
      "Metric val_loss improved by 0.182 >= min_delta = 0. New best score: 3.807\n"
     ]
    },
    {
     "name": "stdout",
     "output_type": "stream",
     "text": [
      "Epoch 10: 100%|██████████| 80/80 [00:09<00:00,  8.79it/s, loss=3.52, v_num=15, train_loss_step=3.450, val_loss=3.640, train_loss_epoch=3.730]"
     ]
    },
    {
     "name": "stderr",
     "output_type": "stream",
     "text": [
      "Metric val_loss improved by 0.169 >= min_delta = 0. New best score: 3.638\n"
     ]
    },
    {
     "name": "stdout",
     "output_type": "stream",
     "text": [
      "Epoch 11: 100%|██████████| 80/80 [00:09<00:00,  8.80it/s, loss=3.07, v_num=15, train_loss_step=3.080, val_loss=3.250, train_loss_epoch=3.570]"
     ]
    },
    {
     "name": "stderr",
     "output_type": "stream",
     "text": [
      "Metric val_loss improved by 0.384 >= min_delta = 0. New best score: 3.253\n"
     ]
    },
    {
     "name": "stdout",
     "output_type": "stream",
     "text": [
      "Epoch 12: 100%|██████████| 80/80 [00:09<00:00,  8.82it/s, loss=2.97, v_num=15, train_loss_step=2.970, val_loss=3.170, train_loss_epoch=3.200]"
     ]
    },
    {
     "name": "stderr",
     "output_type": "stream",
     "text": [
      "Metric val_loss improved by 0.082 >= min_delta = 0. New best score: 3.172\n"
     ]
    },
    {
     "name": "stdout",
     "output_type": "stream",
     "text": [
      "Epoch 13: 100%|██████████| 80/80 [00:08<00:00,  8.92it/s, loss=2.92, v_num=15, train_loss_step=2.920, val_loss=3.110, train_loss_epoch=2.990]"
     ]
    },
    {
     "name": "stderr",
     "output_type": "stream",
     "text": [
      "Metric val_loss improved by 0.063 >= min_delta = 0. New best score: 3.109\n"
     ]
    },
    {
     "name": "stdout",
     "output_type": "stream",
     "text": [
      "Epoch 14: 100%|██████████| 80/80 [00:08<00:00,  8.91it/s, loss=2.89, v_num=15, train_loss_step=2.900, val_loss=3.080, train_loss_epoch=2.920]"
     ]
    },
    {
     "name": "stderr",
     "output_type": "stream",
     "text": [
      "Metric val_loss improved by 0.026 >= min_delta = 0. New best score: 3.083\n"
     ]
    },
    {
     "name": "stdout",
     "output_type": "stream",
     "text": [
      "Epoch 16: 100%|██████████| 80/80 [00:09<00:00,  8.87it/s, loss=2.79, v_num=15, train_loss_step=2.760, val_loss=3.070, train_loss_epoch=2.850]"
     ]
    },
    {
     "name": "stderr",
     "output_type": "stream",
     "text": [
      "Metric val_loss improved by 0.014 >= min_delta = 0. New best score: 3.069\n"
     ]
    },
    {
     "name": "stdout",
     "output_type": "stream",
     "text": [
      "Epoch 17: 100%|██████████| 80/80 [00:08<00:00,  8.90it/s, loss=2.84, v_num=15, train_loss_step=2.790, val_loss=3.030, train_loss_epoch=2.820]"
     ]
    },
    {
     "name": "stderr",
     "output_type": "stream",
     "text": [
      "Metric val_loss improved by 0.041 >= min_delta = 0. New best score: 3.028\n"
     ]
    },
    {
     "name": "stdout",
     "output_type": "stream",
     "text": [
      "Epoch 19: 100%|██████████| 80/80 [00:09<00:00,  8.81it/s, loss=2.78, v_num=15, train_loss_step=2.710, val_loss=3.010, train_loss_epoch=2.790]"
     ]
    },
    {
     "name": "stderr",
     "output_type": "stream",
     "text": [
      "Metric val_loss improved by 0.017 >= min_delta = 0. New best score: 3.011\n"
     ]
    },
    {
     "name": "stdout",
     "output_type": "stream",
     "text": [
      "Epoch 20: 100%|██████████| 80/80 [00:09<00:00,  8.78it/s, loss=2.76, v_num=15, train_loss_step=2.700, val_loss=3.000, train_loss_epoch=2.780]"
     ]
    },
    {
     "name": "stderr",
     "output_type": "stream",
     "text": [
      "Metric val_loss improved by 0.013 >= min_delta = 0. New best score: 2.998\n"
     ]
    },
    {
     "name": "stdout",
     "output_type": "stream",
     "text": [
      "Epoch 21: 100%|██████████| 80/80 [00:09<00:00,  8.84it/s, loss=2.73, v_num=15, train_loss_step=2.850, val_loss=2.990, train_loss_epoch=2.770]"
     ]
    },
    {
     "name": "stderr",
     "output_type": "stream",
     "text": [
      "Metric val_loss improved by 0.005 >= min_delta = 0. New best score: 2.993\n"
     ]
    },
    {
     "name": "stdout",
     "output_type": "stream",
     "text": [
      "Epoch 22: 100%|██████████| 80/80 [00:09<00:00,  8.88it/s, loss=2.8, v_num=15, train_loss_step=2.770, val_loss=2.970, train_loss_epoch=2.770] "
     ]
    },
    {
     "name": "stderr",
     "output_type": "stream",
     "text": [
      "Metric val_loss improved by 0.020 >= min_delta = 0. New best score: 2.973\n"
     ]
    },
    {
     "name": "stdout",
     "output_type": "stream",
     "text": [
      "Epoch 23: 100%|██████████| 80/80 [00:16<00:00,  4.81it/s, loss=2.7, v_num=15, train_loss_step=2.650, val_loss=2.970, train_loss_epoch=2.750] "
     ]
    },
    {
     "name": "stderr",
     "output_type": "stream",
     "text": [
      "Metric val_loss improved by 0.004 >= min_delta = 0. New best score: 2.969\n"
     ]
    },
    {
     "name": "stdout",
     "output_type": "stream",
     "text": [
      "Epoch 24: 100%|██████████| 80/80 [00:09<00:00,  8.83it/s, loss=2.7, v_num=15, train_loss_step=2.660, val_loss=2.950, train_loss_epoch=2.720] "
     ]
    },
    {
     "name": "stderr",
     "output_type": "stream",
     "text": [
      "Metric val_loss improved by 0.024 >= min_delta = 0. New best score: 2.945\n"
     ]
    },
    {
     "name": "stdout",
     "output_type": "stream",
     "text": [
      "Epoch 27: 100%|██████████| 80/80 [00:08<00:00,  8.91it/s, loss=2.66, v_num=15, train_loss_step=2.720, val_loss=2.930, train_loss_epoch=2.700]"
     ]
    },
    {
     "name": "stderr",
     "output_type": "stream",
     "text": [
      "Metric val_loss improved by 0.013 >= min_delta = 0. New best score: 2.932\n"
     ]
    },
    {
     "name": "stdout",
     "output_type": "stream",
     "text": [
      "Epoch 28: 100%|██████████| 80/80 [00:09<00:00,  8.87it/s, loss=2.66, v_num=15, train_loss_step=2.610, val_loss=2.920, train_loss_epoch=2.690]"
     ]
    },
    {
     "name": "stderr",
     "output_type": "stream",
     "text": [
      "Metric val_loss improved by 0.014 >= min_delta = 0. New best score: 2.918\n"
     ]
    },
    {
     "name": "stdout",
     "output_type": "stream",
     "text": [
      "Epoch 29: 100%|██████████| 80/80 [00:08<00:00,  8.92it/s, loss=2.68, v_num=15, train_loss_step=2.550, val_loss=2.910, train_loss_epoch=2.680]"
     ]
    },
    {
     "name": "stderr",
     "output_type": "stream",
     "text": [
      "Metric val_loss improved by 0.009 >= min_delta = 0. New best score: 2.909\n"
     ]
    },
    {
     "name": "stdout",
     "output_type": "stream",
     "text": [
      "Epoch 29: 100%|██████████| 80/80 [00:08<00:00,  8.92it/s, loss=2.68, v_num=15, train_loss_step=2.550, val_loss=2.910, train_loss_epoch=2.670]"
     ]
    },
    {
     "name": "stderr",
     "output_type": "stream",
     "text": [
      "`Trainer.fit` stopped: `max_epochs=30` reached.\n"
     ]
    },
    {
     "name": "stdout",
     "output_type": "stream",
     "text": [
      "Epoch 29: 100%|██████████| 80/80 [00:09<00:00,  8.34it/s, loss=2.68, v_num=15, train_loss_step=2.550, val_loss=2.910, train_loss_epoch=2.670]"
     ]
    },
    {
     "name": "stderr",
     "output_type": "stream",
     "text": [
      "\u001b[32m[I 2024-03-28 14:09:31,152]\u001b[0m Trial 15 pruned. \u001b[0m\n"
     ]
    },
    {
     "name": "stdout",
     "output_type": "stream",
     "text": [
      "\n"
     ]
    },
    {
     "name": "stderr",
     "output_type": "stream",
     "text": [
      "GPU available: True (cuda), used: True\n",
      "TPU available: False, using: 0 TPU cores\n",
      "IPU available: False, using: 0 IPUs\n",
      "HPU available: False, using: 0 HPUs\n",
      "`Trainer(limit_train_batches=1.0)` was configured so 100% of the batches per epoch will be used..\n",
      "`Trainer(limit_val_batches=1.0)` was configured so 100% of the batches will be used..\n",
      "LOCAL_RANK: 0 - CUDA_VISIBLE_DEVICES: [0]\n",
      "\n",
      "  | Name                   | Type                             | Params\n",
      "----------------------------------------------------------------------------\n",
      "0 | loss                   | NegativeBinomialDistributionLoss | 0     \n",
      "1 | logging_metrics        | ModuleList                       | 0     \n",
      "2 | embeddings             | MultiEmbedding                   | 787   \n",
      "3 | rnn                    | LSTM                             | 3.5 K \n",
      "4 | distribution_projector | Linear                           | 22    \n",
      "----------------------------------------------------------------------------\n",
      "4.3 K     Trainable params\n",
      "0         Non-trainable params\n",
      "4.3 K     Total params\n",
      "0.017     Total estimated model params size (MB)\n"
     ]
    },
    {
     "name": "stdout",
     "output_type": "stream",
     "text": [
      "Epoch 0: 100%|██████████| 98/98 [00:08<00:00, 11.54it/s, loss=24.8, v_num=16, train_loss_step=25.40, val_loss=28.40]"
     ]
    },
    {
     "name": "stderr",
     "output_type": "stream",
     "text": [
      "Metric val_loss improved. New best score: 28.388\n"
     ]
    },
    {
     "name": "stdout",
     "output_type": "stream",
     "text": [
      "Epoch 1: 100%|██████████| 98/98 [00:16<00:00,  5.91it/s, loss=24.6, v_num=16, train_loss_step=23.70, val_loss=27.90, train_loss_epoch=25.00]"
     ]
    },
    {
     "name": "stderr",
     "output_type": "stream",
     "text": [
      "Metric val_loss improved by 0.536 >= min_delta = 0. New best score: 27.852\n"
     ]
    },
    {
     "name": "stdout",
     "output_type": "stream",
     "text": [
      "Epoch 2: 100%|██████████| 98/98 [00:08<00:00, 11.53it/s, loss=23.8, v_num=16, train_loss_step=24.30, val_loss=27.20, train_loss_epoch=24.60]"
     ]
    },
    {
     "name": "stderr",
     "output_type": "stream",
     "text": [
      "Metric val_loss improved by 0.621 >= min_delta = 0. New best score: 27.232\n"
     ]
    },
    {
     "name": "stdout",
     "output_type": "stream",
     "text": [
      "Epoch 3: 100%|██████████| 98/98 [00:08<00:00, 11.57it/s, loss=23.2, v_num=16, train_loss_step=21.20, val_loss=26.40, train_loss_epoch=24.10]"
     ]
    },
    {
     "name": "stderr",
     "output_type": "stream",
     "text": [
      "Metric val_loss improved by 0.816 >= min_delta = 0. New best score: 26.416\n"
     ]
    },
    {
     "name": "stdout",
     "output_type": "stream",
     "text": [
      "Epoch 4: 100%|██████████| 98/98 [00:08<00:00, 11.62it/s, loss=22.5, v_num=16, train_loss_step=23.60, val_loss=25.20, train_loss_epoch=23.40]"
     ]
    },
    {
     "name": "stderr",
     "output_type": "stream",
     "text": [
      "Metric val_loss improved by 1.207 >= min_delta = 0. New best score: 25.209\n"
     ]
    },
    {
     "name": "stdout",
     "output_type": "stream",
     "text": [
      "Epoch 5: 100%|██████████| 98/98 [00:08<00:00, 11.52it/s, loss=20.9, v_num=16, train_loss_step=20.20, val_loss=23.70, train_loss_epoch=22.50]"
     ]
    },
    {
     "name": "stderr",
     "output_type": "stream",
     "text": [
      "Metric val_loss improved by 1.513 >= min_delta = 0. New best score: 23.696\n"
     ]
    },
    {
     "name": "stdout",
     "output_type": "stream",
     "text": [
      "Epoch 6: 100%|██████████| 98/98 [00:08<00:00, 11.65it/s, loss=19.3, v_num=16, train_loss_step=19.80, val_loss=21.60, train_loss_epoch=21.40]"
     ]
    },
    {
     "name": "stderr",
     "output_type": "stream",
     "text": [
      "Metric val_loss improved by 2.073 >= min_delta = 0. New best score: 21.623\n"
     ]
    },
    {
     "name": "stdout",
     "output_type": "stream",
     "text": [
      "Epoch 7: 100%|██████████| 98/98 [00:08<00:00, 11.58it/s, loss=17.2, v_num=16, train_loss_step=16.80, val_loss=19.10, train_loss_epoch=19.90]"
     ]
    },
    {
     "name": "stderr",
     "output_type": "stream",
     "text": [
      "Metric val_loss improved by 2.513 >= min_delta = 0. New best score: 19.111\n"
     ]
    },
    {
     "name": "stdout",
     "output_type": "stream",
     "text": [
      "Epoch 8: 100%|██████████| 98/98 [00:16<00:00,  6.05it/s, loss=15, v_num=16, train_loss_step=13.80, val_loss=16.60, train_loss_epoch=18.00]  "
     ]
    },
    {
     "name": "stderr",
     "output_type": "stream",
     "text": [
      "Metric val_loss improved by 2.518 >= min_delta = 0. New best score: 16.593\n"
     ]
    },
    {
     "name": "stdout",
     "output_type": "stream",
     "text": [
      "Epoch 9: 100%|██████████| 98/98 [00:08<00:00, 11.56it/s, loss=12.7, v_num=16, train_loss_step=12.70, val_loss=13.90, train_loss_epoch=15.70]"
     ]
    },
    {
     "name": "stderr",
     "output_type": "stream",
     "text": [
      "Metric val_loss improved by 2.645 >= min_delta = 0. New best score: 13.947\n"
     ]
    },
    {
     "name": "stdout",
     "output_type": "stream",
     "text": [
      "Epoch 10: 100%|██████████| 98/98 [00:08<00:00, 11.65it/s, loss=10.5, v_num=16, train_loss_step=9.880, val_loss=11.60, train_loss_epoch=13.50]"
     ]
    },
    {
     "name": "stderr",
     "output_type": "stream",
     "text": [
      "Metric val_loss improved by 2.299 >= min_delta = 0. New best score: 11.648\n"
     ]
    },
    {
     "name": "stdout",
     "output_type": "stream",
     "text": [
      "Epoch 11: 100%|██████████| 98/98 [00:08<00:00, 11.60it/s, loss=8.94, v_num=16, train_loss_step=8.590, val_loss=9.980, train_loss_epoch=11.40]"
     ]
    },
    {
     "name": "stderr",
     "output_type": "stream",
     "text": [
      "Metric val_loss improved by 1.666 >= min_delta = 0. New best score: 9.982\n"
     ]
    },
    {
     "name": "stdout",
     "output_type": "stream",
     "text": [
      "Epoch 12: 100%|██████████| 98/98 [00:08<00:00, 11.56it/s, loss=7.91, v_num=16, train_loss_step=8.020, val_loss=8.660, train_loss_epoch=9.650]"
     ]
    },
    {
     "name": "stderr",
     "output_type": "stream",
     "text": [
      "Metric val_loss improved by 1.318 >= min_delta = 0. New best score: 8.664\n"
     ]
    },
    {
     "name": "stdout",
     "output_type": "stream",
     "text": [
      "Epoch 13: 100%|██████████| 98/98 [00:08<00:00, 11.47it/s, loss=7.16, v_num=16, train_loss_step=7.110, val_loss=7.790, train_loss_epoch=8.320]"
     ]
    },
    {
     "name": "stderr",
     "output_type": "stream",
     "text": [
      "Metric val_loss improved by 0.877 >= min_delta = 0. New best score: 7.787\n"
     ]
    },
    {
     "name": "stdout",
     "output_type": "stream",
     "text": [
      "Epoch 14: 100%|██████████| 98/98 [00:08<00:00, 11.31it/s, loss=6.69, v_num=16, train_loss_step=6.220, val_loss=7.240, train_loss_epoch=7.420]"
     ]
    },
    {
     "name": "stderr",
     "output_type": "stream",
     "text": [
      "Metric val_loss improved by 0.551 >= min_delta = 0. New best score: 7.236\n"
     ]
    },
    {
     "name": "stdout",
     "output_type": "stream",
     "text": [
      "Epoch 15: 100%|██████████| 98/98 [00:08<00:00, 11.50it/s, loss=6.19, v_num=16, train_loss_step=5.980, val_loss=6.790, train_loss_epoch=6.810]"
     ]
    },
    {
     "name": "stderr",
     "output_type": "stream",
     "text": [
      "Metric val_loss improved by 0.448 >= min_delta = 0. New best score: 6.788\n"
     ]
    },
    {
     "name": "stdout",
     "output_type": "stream",
     "text": [
      "Epoch 16: 100%|██████████| 98/98 [00:16<00:00,  6.05it/s, loss=5.96, v_num=16, train_loss_step=5.970, val_loss=6.440, train_loss_epoch=6.380]"
     ]
    },
    {
     "name": "stderr",
     "output_type": "stream",
     "text": [
      "Metric val_loss improved by 0.344 >= min_delta = 0. New best score: 6.444\n"
     ]
    },
    {
     "name": "stdout",
     "output_type": "stream",
     "text": [
      "Epoch 17: 100%|██████████| 98/98 [00:08<00:00, 11.63it/s, loss=5.71, v_num=16, train_loss_step=5.500, val_loss=6.190, train_loss_epoch=6.040]"
     ]
    },
    {
     "name": "stderr",
     "output_type": "stream",
     "text": [
      "Metric val_loss improved by 0.252 >= min_delta = 0. New best score: 6.192\n"
     ]
    },
    {
     "name": "stdout",
     "output_type": "stream",
     "text": [
      "Epoch 18: 100%|██████████| 98/98 [00:08<00:00, 11.48it/s, loss=5.51, v_num=16, train_loss_step=5.430, val_loss=5.960, train_loss_epoch=5.790]"
     ]
    },
    {
     "name": "stderr",
     "output_type": "stream",
     "text": [
      "Metric val_loss improved by 0.230 >= min_delta = 0. New best score: 5.962\n"
     ]
    },
    {
     "name": "stdout",
     "output_type": "stream",
     "text": [
      "Epoch 19: 100%|██████████| 98/98 [00:08<00:00, 11.65it/s, loss=5.41, v_num=16, train_loss_step=5.300, val_loss=5.770, train_loss_epoch=5.580]"
     ]
    },
    {
     "name": "stderr",
     "output_type": "stream",
     "text": [
      "Metric val_loss improved by 0.194 >= min_delta = 0. New best score: 5.768\n"
     ]
    },
    {
     "name": "stdout",
     "output_type": "stream",
     "text": [
      "Epoch 20: 100%|██████████| 98/98 [00:08<00:00, 11.61it/s, loss=5.18, v_num=16, train_loss_step=5.480, val_loss=5.620, train_loss_epoch=5.400]"
     ]
    },
    {
     "name": "stderr",
     "output_type": "stream",
     "text": [
      "Metric val_loss improved by 0.152 >= min_delta = 0. New best score: 5.616\n"
     ]
    },
    {
     "name": "stdout",
     "output_type": "stream",
     "text": [
      "Epoch 21: 100%|██████████| 98/98 [00:08<00:00, 11.61it/s, loss=5.06, v_num=16, train_loss_step=4.850, val_loss=5.470, train_loss_epoch=5.260]"
     ]
    },
    {
     "name": "stderr",
     "output_type": "stream",
     "text": [
      "Metric val_loss improved by 0.144 >= min_delta = 0. New best score: 5.472\n"
     ]
    },
    {
     "name": "stdout",
     "output_type": "stream",
     "text": [
      "Epoch 22: 100%|██████████| 98/98 [00:08<00:00, 11.56it/s, loss=5.02, v_num=16, train_loss_step=5.160, val_loss=5.350, train_loss_epoch=5.130]"
     ]
    },
    {
     "name": "stderr",
     "output_type": "stream",
     "text": [
      "Metric val_loss improved by 0.125 >= min_delta = 0. New best score: 5.347\n"
     ]
    },
    {
     "name": "stdout",
     "output_type": "stream",
     "text": [
      "Epoch 23: 100%|██████████| 98/98 [00:16<00:00,  6.01it/s, loss=4.87, v_num=16, train_loss_step=4.790, val_loss=5.250, train_loss_epoch=5.010]"
     ]
    },
    {
     "name": "stderr",
     "output_type": "stream",
     "text": [
      "Metric val_loss improved by 0.101 >= min_delta = 0. New best score: 5.246\n"
     ]
    },
    {
     "name": "stdout",
     "output_type": "stream",
     "text": [
      "Epoch 24: 100%|██████████| 98/98 [00:08<00:00, 11.60it/s, loss=4.81, v_num=16, train_loss_step=4.760, val_loss=5.150, train_loss_epoch=4.920]"
     ]
    },
    {
     "name": "stderr",
     "output_type": "stream",
     "text": [
      "Metric val_loss improved by 0.097 >= min_delta = 0. New best score: 5.150\n"
     ]
    },
    {
     "name": "stdout",
     "output_type": "stream",
     "text": [
      "Epoch 25: 100%|██████████| 98/98 [00:08<00:00, 11.62it/s, loss=4.73, v_num=16, train_loss_step=4.630, val_loss=5.060, train_loss_epoch=4.830]"
     ]
    },
    {
     "name": "stderr",
     "output_type": "stream",
     "text": [
      "Metric val_loss improved by 0.085 >= min_delta = 0. New best score: 5.065\n"
     ]
    },
    {
     "name": "stdout",
     "output_type": "stream",
     "text": [
      "Epoch 26: 100%|██████████| 98/98 [00:08<00:00, 11.58it/s, loss=4.67, v_num=16, train_loss_step=4.650, val_loss=5.000, train_loss_epoch=4.760]"
     ]
    },
    {
     "name": "stderr",
     "output_type": "stream",
     "text": [
      "Metric val_loss improved by 0.069 >= min_delta = 0. New best score: 4.996\n"
     ]
    },
    {
     "name": "stdout",
     "output_type": "stream",
     "text": [
      "Epoch 27: 100%|██████████| 98/98 [00:08<00:00, 11.61it/s, loss=4.61, v_num=16, train_loss_step=4.640, val_loss=4.930, train_loss_epoch=4.690]"
     ]
    },
    {
     "name": "stderr",
     "output_type": "stream",
     "text": [
      "Metric val_loss improved by 0.067 >= min_delta = 0. New best score: 4.929\n"
     ]
    },
    {
     "name": "stdout",
     "output_type": "stream",
     "text": [
      "Epoch 28: 100%|██████████| 98/98 [00:08<00:00, 11.58it/s, loss=4.58, v_num=16, train_loss_step=4.610, val_loss=4.870, train_loss_epoch=4.640]"
     ]
    },
    {
     "name": "stderr",
     "output_type": "stream",
     "text": [
      "Metric val_loss improved by 0.059 >= min_delta = 0. New best score: 4.869\n"
     ]
    },
    {
     "name": "stdout",
     "output_type": "stream",
     "text": [
      "Epoch 29: 100%|██████████| 98/98 [00:08<00:00, 11.56it/s, loss=4.51, v_num=16, train_loss_step=4.660, val_loss=4.820, train_loss_epoch=4.580]"
     ]
    },
    {
     "name": "stderr",
     "output_type": "stream",
     "text": [
      "Metric val_loss improved by 0.048 >= min_delta = 0. New best score: 4.821\n"
     ]
    },
    {
     "name": "stdout",
     "output_type": "stream",
     "text": [
      "Epoch 29: 100%|██████████| 98/98 [00:08<00:00, 11.56it/s, loss=4.51, v_num=16, train_loss_step=4.660, val_loss=4.820, train_loss_epoch=4.540]"
     ]
    },
    {
     "name": "stderr",
     "output_type": "stream",
     "text": [
      "`Trainer.fit` stopped: `max_epochs=30` reached.\n"
     ]
    },
    {
     "name": "stdout",
     "output_type": "stream",
     "text": [
      "Epoch 29: 100%|██████████| 98/98 [00:08<00:00, 11.55it/s, loss=4.51, v_num=16, train_loss_step=4.660, val_loss=4.820, train_loss_epoch=4.540]"
     ]
    },
    {
     "name": "stderr",
     "output_type": "stream",
     "text": [
      "\u001b[32m[I 2024-03-28 14:14:19,614]\u001b[0m Trial 16 pruned. \u001b[0m\n"
     ]
    },
    {
     "name": "stdout",
     "output_type": "stream",
     "text": [
      "\n"
     ]
    },
    {
     "name": "stderr",
     "output_type": "stream",
     "text": [
      "GPU available: True (cuda), used: True\n",
      "TPU available: False, using: 0 TPU cores\n",
      "IPU available: False, using: 0 IPUs\n",
      "HPU available: False, using: 0 HPUs\n",
      "`Trainer(limit_train_batches=1.0)` was configured so 100% of the batches per epoch will be used..\n",
      "`Trainer(limit_val_batches=1.0)` was configured so 100% of the batches will be used..\n",
      "LOCAL_RANK: 0 - CUDA_VISIBLE_DEVICES: [0]\n",
      "\n",
      "  | Name                   | Type                             | Params\n",
      "----------------------------------------------------------------------------\n",
      "0 | loss                   | NegativeBinomialDistributionLoss | 0     \n",
      "1 | logging_metrics        | ModuleList                       | 0     \n",
      "2 | embeddings             | MultiEmbedding                   | 787   \n",
      "3 | rnn                    | LSTM                             | 1.6 M \n",
      "4 | distribution_projector | Linear                           | 422   \n",
      "----------------------------------------------------------------------------\n",
      "1.6 M     Trainable params\n",
      "0         Non-trainable params\n",
      "1.6 M     Total params\n",
      "6.496     Total estimated model params size (MB)\n"
     ]
    },
    {
     "name": "stdout",
     "output_type": "stream",
     "text": [
      "Epoch 0: 100%|██████████| 196/196 [00:09<00:00, 20.52it/s, loss=4.03, v_num=17, train_loss_step=4.050, val_loss=4.170]"
     ]
    },
    {
     "name": "stderr",
     "output_type": "stream",
     "text": [
      "Metric val_loss improved. New best score: 4.168\n"
     ]
    },
    {
     "name": "stdout",
     "output_type": "stream",
     "text": [
      "Epoch 1: 100%|██████████| 196/196 [00:09<00:00, 20.55it/s, loss=3.86, v_num=17, train_loss_step=3.890, val_loss=4.000, train_loss_epoch=12.60]"
     ]
    },
    {
     "name": "stderr",
     "output_type": "stream",
     "text": [
      "Metric val_loss improved by 0.165 >= min_delta = 0. New best score: 4.003\n"
     ]
    },
    {
     "name": "stdout",
     "output_type": "stream",
     "text": [
      "Epoch 2: 100%|██████████| 196/196 [00:17<00:00, 11.03it/s, loss=3.05, v_num=17, train_loss_step=3.120, val_loss=3.270, train_loss_epoch=3.920]"
     ]
    },
    {
     "name": "stderr",
     "output_type": "stream",
     "text": [
      "Metric val_loss improved by 0.731 >= min_delta = 0. New best score: 3.272\n"
     ]
    },
    {
     "name": "stdout",
     "output_type": "stream",
     "text": [
      "Epoch 3: 100%|██████████| 196/196 [00:09<00:00, 20.45it/s, loss=2.92, v_num=17, train_loss_step=2.930, val_loss=3.120, train_loss_epoch=3.420]"
     ]
    },
    {
     "name": "stderr",
     "output_type": "stream",
     "text": [
      "Metric val_loss improved by 0.154 >= min_delta = 0. New best score: 3.118\n"
     ]
    },
    {
     "name": "stdout",
     "output_type": "stream",
     "text": [
      "Epoch 4: 100%|██████████| 196/196 [00:09<00:00, 20.48it/s, loss=2.84, v_num=17, train_loss_step=2.800, val_loss=3.060, train_loss_epoch=2.980]"
     ]
    },
    {
     "name": "stderr",
     "output_type": "stream",
     "text": [
      "Metric val_loss improved by 0.062 >= min_delta = 0. New best score: 3.056\n"
     ]
    },
    {
     "name": "stdout",
     "output_type": "stream",
     "text": [
      "Epoch 5: 100%|██████████| 196/196 [00:09<00:00, 20.38it/s, loss=2.8, v_num=17, train_loss_step=2.760, val_loss=2.990, train_loss_epoch=2.870] "
     ]
    },
    {
     "name": "stderr",
     "output_type": "stream",
     "text": [
      "Metric val_loss improved by 0.070 >= min_delta = 0. New best score: 2.986\n"
     ]
    },
    {
     "name": "stdout",
     "output_type": "stream",
     "text": [
      "Epoch 6: 100%|██████████| 196/196 [00:09<00:00, 20.51it/s, loss=2.77, v_num=17, train_loss_step=2.780, val_loss=2.940, train_loss_epoch=2.820]"
     ]
    },
    {
     "name": "stderr",
     "output_type": "stream",
     "text": [
      "Metric val_loss improved by 0.044 >= min_delta = 0. New best score: 2.942\n"
     ]
    },
    {
     "name": "stdout",
     "output_type": "stream",
     "text": [
      "Epoch 7: 100%|██████████| 196/196 [00:09<00:00, 20.40it/s, loss=2.74, v_num=17, train_loss_step=2.860, val_loss=2.900, train_loss_epoch=2.780]"
     ]
    },
    {
     "name": "stderr",
     "output_type": "stream",
     "text": [
      "Metric val_loss improved by 0.038 >= min_delta = 0. New best score: 2.904\n"
     ]
    },
    {
     "name": "stdout",
     "output_type": "stream",
     "text": [
      "Epoch 8: 100%|██████████| 196/196 [00:09<00:00, 20.43it/s, loss=2.71, v_num=17, train_loss_step=2.740, val_loss=2.860, train_loss_epoch=2.740]"
     ]
    },
    {
     "name": "stderr",
     "output_type": "stream",
     "text": [
      "Metric val_loss improved by 0.041 >= min_delta = 0. New best score: 2.862\n"
     ]
    },
    {
     "name": "stdout",
     "output_type": "stream",
     "text": [
      "Epoch 10: 100%|██████████| 196/196 [00:09<00:00, 20.45it/s, loss=2.63, v_num=17, train_loss_step=2.680, val_loss=2.830, train_loss_epoch=2.680]"
     ]
    },
    {
     "name": "stderr",
     "output_type": "stream",
     "text": [
      "Metric val_loss improved by 0.036 >= min_delta = 0. New best score: 2.826\n"
     ]
    },
    {
     "name": "stdout",
     "output_type": "stream",
     "text": [
      "Epoch 11: 100%|██████████| 196/196 [00:09<00:00, 20.49it/s, loss=2.65, v_num=17, train_loss_step=2.470, val_loss=2.810, train_loss_epoch=2.660]"
     ]
    },
    {
     "name": "stderr",
     "output_type": "stream",
     "text": [
      "Metric val_loss improved by 0.013 >= min_delta = 0. New best score: 2.813\n"
     ]
    },
    {
     "name": "stdout",
     "output_type": "stream",
     "text": [
      "Epoch 13: 100%|██████████| 196/196 [00:17<00:00, 11.20it/s, loss=2.6, v_num=17, train_loss_step=2.630, val_loss=2.790, train_loss_epoch=2.630] "
     ]
    },
    {
     "name": "stderr",
     "output_type": "stream",
     "text": [
      "Metric val_loss improved by 0.021 >= min_delta = 0. New best score: 2.792\n"
     ]
    },
    {
     "name": "stdout",
     "output_type": "stream",
     "text": [
      "Epoch 14: 100%|██████████| 196/196 [00:09<00:00, 20.41it/s, loss=2.58, v_num=17, train_loss_step=2.590, val_loss=2.760, train_loss_epoch=2.610]"
     ]
    },
    {
     "name": "stderr",
     "output_type": "stream",
     "text": [
      "Metric val_loss improved by 0.031 >= min_delta = 0. New best score: 2.761\n"
     ]
    },
    {
     "name": "stdout",
     "output_type": "stream",
     "text": [
      "Epoch 16: 100%|██████████| 196/196 [00:09<00:00, 20.50it/s, loss=2.58, v_num=17, train_loss_step=2.610, val_loss=2.750, train_loss_epoch=2.580]"
     ]
    },
    {
     "name": "stderr",
     "output_type": "stream",
     "text": [
      "Metric val_loss improved by 0.014 >= min_delta = 0. New best score: 2.747\n"
     ]
    },
    {
     "name": "stdout",
     "output_type": "stream",
     "text": [
      "Epoch 19: 100%|██████████| 196/196 [00:09<00:00, 20.43it/s, loss=2.56, v_num=17, train_loss_step=2.570, val_loss=2.740, train_loss_epoch=2.560]"
     ]
    },
    {
     "name": "stderr",
     "output_type": "stream",
     "text": [
      "Metric val_loss improved by 0.003 >= min_delta = 0. New best score: 2.744\n"
     ]
    },
    {
     "name": "stdout",
     "output_type": "stream",
     "text": [
      "Epoch 20: 100%|██████████| 196/196 [00:09<00:00, 20.41it/s, loss=2.53, v_num=17, train_loss_step=2.550, val_loss=2.720, train_loss_epoch=2.550]"
     ]
    },
    {
     "name": "stderr",
     "output_type": "stream",
     "text": [
      "Metric val_loss improved by 0.021 >= min_delta = 0. New best score: 2.723\n"
     ]
    },
    {
     "name": "stdout",
     "output_type": "stream",
     "text": [
      "Epoch 23: 100%|██████████| 196/196 [00:09<00:00, 20.42it/s, loss=2.54, v_num=17, train_loss_step=2.420, val_loss=2.710, train_loss_epoch=2.520]"
     ]
    },
    {
     "name": "stderr",
     "output_type": "stream",
     "text": [
      "Metric val_loss improved by 0.010 >= min_delta = 0. New best score: 2.713\n"
     ]
    },
    {
     "name": "stdout",
     "output_type": "stream",
     "text": [
      "Epoch 26: 100%|██████████| 196/196 [00:09<00:00, 20.47it/s, loss=2.51, v_num=17, train_loss_step=2.560, val_loss=2.710, train_loss_epoch=2.500]"
     ]
    },
    {
     "name": "stderr",
     "output_type": "stream",
     "text": [
      "Metric val_loss improved by 0.000 >= min_delta = 0. New best score: 2.712\n"
     ]
    },
    {
     "name": "stdout",
     "output_type": "stream",
     "text": [
      "Epoch 29: 100%|██████████| 196/196 [00:09<00:00, 20.43it/s, loss=2.49, v_num=17, train_loss_step=2.430, val_loss=2.720, train_loss_epoch=2.480]"
     ]
    },
    {
     "name": "stderr",
     "output_type": "stream",
     "text": [
      "`Trainer.fit` stopped: `max_epochs=30` reached.\n"
     ]
    },
    {
     "name": "stdout",
     "output_type": "stream",
     "text": [
      "Epoch 29: 100%|██████████| 196/196 [00:09<00:00, 20.33it/s, loss=2.49, v_num=17, train_loss_step=2.430, val_loss=2.720, train_loss_epoch=2.480]\n"
     ]
    },
    {
     "name": "stderr",
     "output_type": "stream",
     "text": [
      "\u001b[32m[I 2024-03-28 14:19:34,616]\u001b[0m Trial 17 finished with value: 32.78509521484375 and parameters: {'neu': 210, 'lay': 5, 'bat': 416, 'lr': 0.00441613499229396, 'dropout': 0.0}. Best is trial 2 with value: 32.41532897949219.\u001b[0m\n",
      "GPU available: True (cuda), used: True\n",
      "TPU available: False, using: 0 TPU cores\n",
      "IPU available: False, using: 0 IPUs\n",
      "HPU available: False, using: 0 HPUs\n",
      "`Trainer(limit_train_batches=1.0)` was configured so 100% of the batches per epoch will be used..\n",
      "`Trainer(limit_val_batches=1.0)` was configured so 100% of the batches will be used..\n",
      "LOCAL_RANK: 0 - CUDA_VISIBLE_DEVICES: [0]\n",
      "\n",
      "  | Name                   | Type                             | Params\n",
      "----------------------------------------------------------------------------\n",
      "0 | loss                   | NegativeBinomialDistributionLoss | 0     \n",
      "1 | logging_metrics        | ModuleList                       | 0     \n",
      "2 | embeddings             | MultiEmbedding                   | 787   \n",
      "3 | rnn                    | LSTM                             | 3.5 M \n",
      "4 | distribution_projector | Linear                           | 622   \n",
      "----------------------------------------------------------------------------\n",
      "3.5 M     Trainable params\n",
      "0         Non-trainable params\n",
      "3.5 M     Total params\n",
      "14.052    Total estimated model params size (MB)\n"
     ]
    },
    {
     "name": "stdout",
     "output_type": "stream",
     "text": [
      "Epoch 0: 100%|██████████| 363/363 [00:10<00:00, 33.12it/s, loss=27.9, v_num=18, train_loss_step=27.40, val_loss=31.70]"
     ]
    },
    {
     "name": "stderr",
     "output_type": "stream",
     "text": [
      "Metric val_loss improved. New best score: 31.690\n"
     ]
    },
    {
     "name": "stdout",
     "output_type": "stream",
     "text": [
      "Epoch 1: 100%|██████████| 363/363 [00:11<00:00, 32.82it/s, loss=27.3, v_num=18, train_loss_step=25.90, val_loss=30.80, train_loss_epoch=28.00]"
     ]
    },
    {
     "name": "stderr",
     "output_type": "stream",
     "text": [
      "Metric val_loss improved by 0.888 >= min_delta = 0. New best score: 30.802\n"
     ]
    },
    {
     "name": "stdout",
     "output_type": "stream",
     "text": [
      "Epoch 2: 100%|██████████| 363/363 [00:11<00:00, 32.45it/s, loss=26.4, v_num=18, train_loss_step=28.70, val_loss=29.20, train_loss_epoch=27.40]"
     ]
    },
    {
     "name": "stderr",
     "output_type": "stream",
     "text": [
      "Metric val_loss improved by 1.569 >= min_delta = 0. New best score: 29.233\n"
     ]
    },
    {
     "name": "stdout",
     "output_type": "stream",
     "text": [
      "Epoch 3: 100%|██████████| 363/363 [00:11<00:00, 32.33it/s, loss=22.1, v_num=18, train_loss_step=25.00, val_loss=25.40, train_loss_epoch=26.40]"
     ]
    },
    {
     "name": "stderr",
     "output_type": "stream",
     "text": [
      "Metric val_loss improved by 3.817 >= min_delta = 0. New best score: 25.416\n"
     ]
    },
    {
     "name": "stdout",
     "output_type": "stream",
     "text": [
      "Epoch 4: 100%|██████████| 363/363 [00:11<00:00, 32.72it/s, loss=14.3, v_num=18, train_loss_step=15.30, val_loss=15.30, train_loss_epoch=24.40]"
     ]
    },
    {
     "name": "stderr",
     "output_type": "stream",
     "text": [
      "Metric val_loss improved by 10.118 >= min_delta = 0. New best score: 15.298\n"
     ]
    },
    {
     "name": "stdout",
     "output_type": "stream",
     "text": [
      "Epoch 5: 100%|██████████| 363/363 [00:11<00:00, 32.78it/s, loss=6.46, v_num=18, train_loss_step=6.300, val_loss=6.900, train_loss_epoch=18.70]"
     ]
    },
    {
     "name": "stderr",
     "output_type": "stream",
     "text": [
      "Metric val_loss improved by 8.400 >= min_delta = 0. New best score: 6.898\n"
     ]
    },
    {
     "name": "stdout",
     "output_type": "stream",
     "text": [
      "Epoch 6: 100%|██████████| 363/363 [00:11<00:00, 32.51it/s, loss=4.54, v_num=18, train_loss_step=4.660, val_loss=4.830, train_loss_epoch=9.550]"
     ]
    },
    {
     "name": "stderr",
     "output_type": "stream",
     "text": [
      "Metric val_loss improved by 2.067 >= min_delta = 0. New best score: 4.831\n"
     ]
    },
    {
     "name": "stdout",
     "output_type": "stream",
     "text": [
      "Epoch 7: 100%|██████████| 363/363 [00:11<00:00, 32.68it/s, loss=4.23, v_num=18, train_loss_step=4.450, val_loss=4.490, train_loss_epoch=5.180]"
     ]
    },
    {
     "name": "stderr",
     "output_type": "stream",
     "text": [
      "Metric val_loss improved by 0.342 >= min_delta = 0. New best score: 4.490\n"
     ]
    },
    {
     "name": "stdout",
     "output_type": "stream",
     "text": [
      "Epoch 8: 100%|██████████| 363/363 [00:11<00:00, 32.61it/s, loss=4.18, v_num=18, train_loss_step=3.960, val_loss=4.390, train_loss_epoch=4.360]"
     ]
    },
    {
     "name": "stderr",
     "output_type": "stream",
     "text": [
      "Metric val_loss improved by 0.095 >= min_delta = 0. New best score: 4.394\n"
     ]
    },
    {
     "name": "stdout",
     "output_type": "stream",
     "text": [
      "Epoch 9: 100%|██████████| 363/363 [00:11<00:00, 32.64it/s, loss=4.11, v_num=18, train_loss_step=4.180, val_loss=4.340, train_loss_epoch=4.210]"
     ]
    },
    {
     "name": "stderr",
     "output_type": "stream",
     "text": [
      "Metric val_loss improved by 0.053 >= min_delta = 0. New best score: 4.341\n"
     ]
    },
    {
     "name": "stdout",
     "output_type": "stream",
     "text": [
      "Epoch 10: 100%|██████████| 363/363 [00:11<00:00, 32.60it/s, loss=4.14, v_num=18, train_loss_step=4.130, val_loss=4.300, train_loss_epoch=4.140]"
     ]
    },
    {
     "name": "stderr",
     "output_type": "stream",
     "text": [
      "Metric val_loss improved by 0.038 >= min_delta = 0. New best score: 4.304\n"
     ]
    },
    {
     "name": "stdout",
     "output_type": "stream",
     "text": [
      "Epoch 11: 100%|██████████| 363/363 [00:11<00:00, 32.42it/s, loss=4.07, v_num=18, train_loss_step=4.050, val_loss=4.280, train_loss_epoch=4.100]"
     ]
    },
    {
     "name": "stderr",
     "output_type": "stream",
     "text": [
      "Metric val_loss improved by 0.027 >= min_delta = 0. New best score: 4.277\n"
     ]
    },
    {
     "name": "stdout",
     "output_type": "stream",
     "text": [
      "Epoch 12: 100%|██████████| 363/363 [00:11<00:00, 32.66it/s, loss=4.06, v_num=18, train_loss_step=3.830, val_loss=4.260, train_loss_epoch=4.070]"
     ]
    },
    {
     "name": "stderr",
     "output_type": "stream",
     "text": [
      "Metric val_loss improved by 0.022 >= min_delta = 0. New best score: 4.255\n"
     ]
    },
    {
     "name": "stdout",
     "output_type": "stream",
     "text": [
      "Epoch 13: 100%|██████████| 363/363 [00:11<00:00, 32.64it/s, loss=4.04, v_num=18, train_loss_step=4.260, val_loss=4.240, train_loss_epoch=4.050]"
     ]
    },
    {
     "name": "stderr",
     "output_type": "stream",
     "text": [
      "Metric val_loss improved by 0.018 >= min_delta = 0. New best score: 4.237\n"
     ]
    },
    {
     "name": "stdout",
     "output_type": "stream",
     "text": [
      "Epoch 14: 100%|██████████| 363/363 [00:11<00:00, 32.50it/s, loss=4.08, v_num=18, train_loss_step=3.970, val_loss=4.220, train_loss_epoch=4.040]"
     ]
    },
    {
     "name": "stderr",
     "output_type": "stream",
     "text": [
      "Metric val_loss improved by 0.016 >= min_delta = 0. New best score: 4.221\n"
     ]
    },
    {
     "name": "stdout",
     "output_type": "stream",
     "text": [
      "Epoch 15: 100%|██████████| 363/363 [00:11<00:00, 32.66it/s, loss=4.03, v_num=18, train_loss_step=4.090, val_loss=4.210, train_loss_epoch=4.020]"
     ]
    },
    {
     "name": "stderr",
     "output_type": "stream",
     "text": [
      "Metric val_loss improved by 0.015 >= min_delta = 0. New best score: 4.206\n"
     ]
    },
    {
     "name": "stdout",
     "output_type": "stream",
     "text": [
      "Epoch 16: 100%|██████████| 363/363 [00:11<00:00, 32.25it/s, loss=3.95, v_num=18, train_loss_step=3.950, val_loss=4.190, train_loss_epoch=4.010]"
     ]
    },
    {
     "name": "stderr",
     "output_type": "stream",
     "text": [
      "Metric val_loss improved by 0.014 >= min_delta = 0. New best score: 4.192\n"
     ]
    },
    {
     "name": "stdout",
     "output_type": "stream",
     "text": [
      "Epoch 17: 100%|██████████| 363/363 [00:11<00:00, 32.56it/s, loss=3.91, v_num=18, train_loss_step=3.770, val_loss=4.180, train_loss_epoch=4.000]"
     ]
    },
    {
     "name": "stderr",
     "output_type": "stream",
     "text": [
      "Metric val_loss improved by 0.015 >= min_delta = 0. New best score: 4.177\n"
     ]
    },
    {
     "name": "stdout",
     "output_type": "stream",
     "text": [
      "Epoch 18: 100%|██████████| 363/363 [00:11<00:00, 32.60it/s, loss=3.93, v_num=18, train_loss_step=3.790, val_loss=4.160, train_loss_epoch=3.990]"
     ]
    },
    {
     "name": "stderr",
     "output_type": "stream",
     "text": [
      "Metric val_loss improved by 0.017 >= min_delta = 0. New best score: 4.160\n"
     ]
    },
    {
     "name": "stdout",
     "output_type": "stream",
     "text": [
      "Epoch 19: 100%|██████████| 363/363 [00:20<00:00, 18.03it/s, loss=3.89, v_num=18, train_loss_step=3.960, val_loss=4.140, train_loss_epoch=3.970]"
     ]
    },
    {
     "name": "stderr",
     "output_type": "stream",
     "text": [
      "Metric val_loss improved by 0.017 >= min_delta = 0. New best score: 4.143\n"
     ]
    },
    {
     "name": "stdout",
     "output_type": "stream",
     "text": [
      "Epoch 20: 100%|██████████| 363/363 [00:11<00:00, 32.65it/s, loss=3.9, v_num=18, train_loss_step=4.040, val_loss=4.130, train_loss_epoch=3.960] "
     ]
    },
    {
     "name": "stderr",
     "output_type": "stream",
     "text": [
      "Metric val_loss improved by 0.017 >= min_delta = 0. New best score: 4.126\n"
     ]
    },
    {
     "name": "stdout",
     "output_type": "stream",
     "text": [
      "Epoch 21: 100%|██████████| 363/363 [00:11<00:00, 32.54it/s, loss=3.91, v_num=18, train_loss_step=4.060, val_loss=4.110, train_loss_epoch=3.940]"
     ]
    },
    {
     "name": "stderr",
     "output_type": "stream",
     "text": [
      "Metric val_loss improved by 0.017 >= min_delta = 0. New best score: 4.109\n"
     ]
    },
    {
     "name": "stdout",
     "output_type": "stream",
     "text": [
      "Epoch 22: 100%|██████████| 363/363 [00:11<00:00, 32.75it/s, loss=3.94, v_num=18, train_loss_step=3.790, val_loss=4.090, train_loss_epoch=3.920]"
     ]
    },
    {
     "name": "stderr",
     "output_type": "stream",
     "text": [
      "Metric val_loss improved by 0.016 >= min_delta = 0. New best score: 4.092\n"
     ]
    },
    {
     "name": "stdout",
     "output_type": "stream",
     "text": [
      "Epoch 23: 100%|██████████| 363/363 [00:11<00:00, 32.62it/s, loss=3.88, v_num=18, train_loss_step=3.650, val_loss=4.080, train_loss_epoch=3.910]"
     ]
    },
    {
     "name": "stderr",
     "output_type": "stream",
     "text": [
      "Metric val_loss improved by 0.015 >= min_delta = 0. New best score: 4.077\n"
     ]
    },
    {
     "name": "stdout",
     "output_type": "stream",
     "text": [
      "Epoch 24: 100%|██████████| 363/363 [00:11<00:00, 32.71it/s, loss=3.81, v_num=18, train_loss_step=3.740, val_loss=4.060, train_loss_epoch=3.890]"
     ]
    },
    {
     "name": "stderr",
     "output_type": "stream",
     "text": [
      "Metric val_loss improved by 0.014 >= min_delta = 0. New best score: 4.063\n"
     ]
    },
    {
     "name": "stdout",
     "output_type": "stream",
     "text": [
      "Epoch 25: 100%|██████████| 363/363 [00:11<00:00, 32.63it/s, loss=3.85, v_num=18, train_loss_step=4.060, val_loss=4.050, train_loss_epoch=3.880]"
     ]
    },
    {
     "name": "stderr",
     "output_type": "stream",
     "text": [
      "Metric val_loss improved by 0.014 >= min_delta = 0. New best score: 4.049\n"
     ]
    },
    {
     "name": "stdout",
     "output_type": "stream",
     "text": [
      "Epoch 26: 100%|██████████| 363/363 [00:11<00:00, 32.66it/s, loss=3.84, v_num=18, train_loss_step=3.840, val_loss=4.030, train_loss_epoch=3.860]"
     ]
    },
    {
     "name": "stderr",
     "output_type": "stream",
     "text": [
      "Metric val_loss improved by 0.015 >= min_delta = 0. New best score: 4.034\n"
     ]
    },
    {
     "name": "stdout",
     "output_type": "stream",
     "text": [
      "Epoch 27: 100%|██████████| 363/363 [00:11<00:00, 32.62it/s, loss=3.86, v_num=18, train_loss_step=4.010, val_loss=4.020, train_loss_epoch=3.850]"
     ]
    },
    {
     "name": "stderr",
     "output_type": "stream",
     "text": [
      "Metric val_loss improved by 0.017 >= min_delta = 0. New best score: 4.017\n"
     ]
    },
    {
     "name": "stdout",
     "output_type": "stream",
     "text": [
      "Epoch 28: 100%|██████████| 363/363 [00:11<00:00, 32.40it/s, loss=3.76, v_num=18, train_loss_step=3.650, val_loss=3.980, train_loss_epoch=3.830]"
     ]
    },
    {
     "name": "stderr",
     "output_type": "stream",
     "text": [
      "Metric val_loss improved by 0.036 >= min_delta = 0. New best score: 3.982\n"
     ]
    },
    {
     "name": "stdout",
     "output_type": "stream",
     "text": [
      "Epoch 29: 100%|██████████| 363/363 [00:11<00:00, 32.54it/s, loss=3.77, v_num=18, train_loss_step=3.600, val_loss=3.960, train_loss_epoch=3.810]"
     ]
    },
    {
     "name": "stderr",
     "output_type": "stream",
     "text": [
      "Metric val_loss improved by 0.023 >= min_delta = 0. New best score: 3.958\n"
     ]
    },
    {
     "name": "stdout",
     "output_type": "stream",
     "text": [
      "Epoch 29: 100%|██████████| 363/363 [00:11<00:00, 32.53it/s, loss=3.77, v_num=18, train_loss_step=3.600, val_loss=3.960, train_loss_epoch=3.770]"
     ]
    },
    {
     "name": "stderr",
     "output_type": "stream",
     "text": [
      "`Trainer.fit` stopped: `max_epochs=30` reached.\n"
     ]
    },
    {
     "name": "stdout",
     "output_type": "stream",
     "text": [
      "Epoch 29: 100%|██████████| 363/363 [00:11<00:00, 32.27it/s, loss=3.77, v_num=18, train_loss_step=3.600, val_loss=3.960, train_loss_epoch=3.770]"
     ]
    },
    {
     "name": "stderr",
     "output_type": "stream",
     "text": [
      "\u001b[32m[I 2024-03-28 14:25:22,337]\u001b[0m Trial 18 pruned. \u001b[0m\n"
     ]
    },
    {
     "name": "stdout",
     "output_type": "stream",
     "text": [
      "\n"
     ]
    },
    {
     "name": "stderr",
     "output_type": "stream",
     "text": [
      "GPU available: True (cuda), used: True\n",
      "TPU available: False, using: 0 TPU cores\n",
      "IPU available: False, using: 0 IPUs\n",
      "HPU available: False, using: 0 HPUs\n",
      "`Trainer(limit_train_batches=1.0)` was configured so 100% of the batches per epoch will be used..\n",
      "`Trainer(limit_val_batches=1.0)` was configured so 100% of the batches will be used..\n",
      "LOCAL_RANK: 0 - CUDA_VISIBLE_DEVICES: [0]\n",
      "\n",
      "  | Name                   | Type                             | Params\n",
      "----------------------------------------------------------------------------\n",
      "0 | loss                   | NegativeBinomialDistributionLoss | 0     \n",
      "1 | logging_metrics        | ModuleList                       | 0     \n",
      "2 | embeddings             | MultiEmbedding                   | 787   \n",
      "3 | rnn                    | LSTM                             | 1.6 M \n",
      "4 | distribution_projector | Linear                           | 1.2 K \n",
      "----------------------------------------------------------------------------\n",
      "1.6 M     Trainable params\n",
      "0         Non-trainable params\n",
      "1.6 M     Total params\n",
      "6.293     Total estimated model params size (MB)\n"
     ]
    },
    {
     "name": "stdout",
     "output_type": "stream",
     "text": [
      "Epoch 0: 100%|██████████| 111/111 [00:08<00:00, 12.98it/s, loss=3.23, v_num=19, train_loss_step=3.130, val_loss=3.260]"
     ]
    },
    {
     "name": "stderr",
     "output_type": "stream",
     "text": [
      "Metric val_loss improved. New best score: 3.255\n"
     ]
    },
    {
     "name": "stdout",
     "output_type": "stream",
     "text": [
      "Epoch 1: 100%|██████████| 111/111 [00:08<00:00, 12.65it/s, loss=2.77, v_num=19, train_loss_step=2.760, val_loss=2.940, train_loss_epoch=7.430]"
     ]
    },
    {
     "name": "stderr",
     "output_type": "stream",
     "text": [
      "Metric val_loss improved by 0.319 >= min_delta = 0. New best score: 2.936\n"
     ]
    },
    {
     "name": "stdout",
     "output_type": "stream",
     "text": [
      "Epoch 2: 100%|██████████| 111/111 [00:08<00:00, 12.63it/s, loss=2.68, v_num=19, train_loss_step=2.720, val_loss=2.850, train_loss_epoch=2.870]"
     ]
    },
    {
     "name": "stderr",
     "output_type": "stream",
     "text": [
      "Metric val_loss improved by 0.086 >= min_delta = 0. New best score: 2.851\n"
     ]
    },
    {
     "name": "stdout",
     "output_type": "stream",
     "text": [
      "Epoch 3: 100%|██████████| 111/111 [00:08<00:00, 12.83it/s, loss=2.64, v_num=19, train_loss_step=2.670, val_loss=2.820, train_loss_epoch=2.710]"
     ]
    },
    {
     "name": "stderr",
     "output_type": "stream",
     "text": [
      "Metric val_loss improved by 0.028 >= min_delta = 0. New best score: 2.823\n"
     ]
    },
    {
     "name": "stdout",
     "output_type": "stream",
     "text": [
      "Epoch 4: 100%|██████████| 111/111 [00:08<00:00, 12.81it/s, loss=2.61, v_num=19, train_loss_step=2.600, val_loss=2.790, train_loss_epoch=2.650]"
     ]
    },
    {
     "name": "stderr",
     "output_type": "stream",
     "text": [
      "Metric val_loss improved by 0.037 >= min_delta = 0. New best score: 2.786\n"
     ]
    },
    {
     "name": "stdout",
     "output_type": "stream",
     "text": [
      "Epoch 5: 100%|██████████| 111/111 [00:08<00:00, 12.66it/s, loss=2.57, v_num=19, train_loss_step=2.560, val_loss=2.750, train_loss_epoch=2.610]"
     ]
    },
    {
     "name": "stderr",
     "output_type": "stream",
     "text": [
      "Metric val_loss improved by 0.031 >= min_delta = 0. New best score: 2.755\n"
     ]
    },
    {
     "name": "stdout",
     "output_type": "stream",
     "text": [
      "Epoch 7: 100%|██████████| 111/111 [00:08<00:00, 12.79it/s, loss=2.57, v_num=19, train_loss_step=2.540, val_loss=2.740, train_loss_epoch=2.570]"
     ]
    },
    {
     "name": "stderr",
     "output_type": "stream",
     "text": [
      "Metric val_loss improved by 0.018 >= min_delta = 0. New best score: 2.736\n"
     ]
    },
    {
     "name": "stdout",
     "output_type": "stream",
     "text": [
      "Epoch 9: 100%|██████████| 111/111 [00:08<00:00, 12.77it/s, loss=2.53, v_num=19, train_loss_step=2.550, val_loss=2.740, train_loss_epoch=2.550]"
     ]
    },
    {
     "name": "stderr",
     "output_type": "stream",
     "text": [
      "Metric val_loss improved by 0.001 >= min_delta = 0. New best score: 2.735\n"
     ]
    },
    {
     "name": "stdout",
     "output_type": "stream",
     "text": [
      "Epoch 10: 100%|██████████| 111/111 [00:08<00:00, 12.82it/s, loss=2.55, v_num=19, train_loss_step=2.560, val_loss=2.720, train_loss_epoch=2.540]"
     ]
    },
    {
     "name": "stderr",
     "output_type": "stream",
     "text": [
      "Metric val_loss improved by 0.014 >= min_delta = 0. New best score: 2.722\n"
     ]
    },
    {
     "name": "stdout",
     "output_type": "stream",
     "text": [
      "Epoch 11: 100%|██████████| 111/111 [00:08<00:00, 12.75it/s, loss=2.54, v_num=19, train_loss_step=2.520, val_loss=2.710, train_loss_epoch=2.540]"
     ]
    },
    {
     "name": "stderr",
     "output_type": "stream",
     "text": [
      "Metric val_loss improved by 0.012 >= min_delta = 0. New best score: 2.709\n"
     ]
    },
    {
     "name": "stdout",
     "output_type": "stream",
     "text": [
      "Epoch 16: 100%|██████████| 111/111 [00:08<00:00, 12.65it/s, loss=2.49, v_num=19, train_loss_step=2.540, val_loss=2.710, train_loss_epoch=2.500]"
     ]
    },
    {
     "name": "stderr",
     "output_type": "stream",
     "text": [
      "Metric val_loss improved by 0.000 >= min_delta = 0. New best score: 2.709\n"
     ]
    },
    {
     "name": "stdout",
     "output_type": "stream",
     "text": [
      "Epoch 21: 100%|██████████| 111/111 [00:08<00:00, 12.52it/s, loss=2.46, v_num=19, train_loss_step=2.430, val_loss=2.760, train_loss_epoch=2.470]"
     ]
    },
    {
     "name": "stderr",
     "output_type": "stream",
     "text": [
      "Monitored metric val_loss did not improve in the last 5 records. Best score: 2.709. Signaling Trainer to stop.\n"
     ]
    },
    {
     "name": "stdout",
     "output_type": "stream",
     "text": [
      "Epoch 21: 100%|██████████| 111/111 [00:08<00:00, 12.48it/s, loss=2.46, v_num=19, train_loss_step=2.430, val_loss=2.760, train_loss_epoch=2.450]"
     ]
    },
    {
     "name": "stderr",
     "output_type": "stream",
     "text": [
      "\u001b[32m[I 2024-03-28 14:28:56,049]\u001b[0m Trial 19 finished with value: 33.104942321777344 and parameters: {'neu': 610, 'lay': 1, 'bat': 736, 'lr': 0.016928806433010476, 'dropout': 0.4}. Best is trial 2 with value: 32.41532897949219.\u001b[0m\n"
     ]
    },
    {
     "name": "stdout",
     "output_type": "stream",
     "text": [
      "\n"
     ]
    },
    {
     "name": "stderr",
     "output_type": "stream",
     "text": [
      "GPU available: True (cuda), used: True\n",
      "TPU available: False, using: 0 TPU cores\n",
      "IPU available: False, using: 0 IPUs\n",
      "HPU available: False, using: 0 HPUs\n",
      "`Trainer(limit_train_batches=1.0)` was configured so 100% of the batches per epoch will be used..\n",
      "`Trainer(limit_val_batches=1.0)` was configured so 100% of the batches will be used..\n",
      "LOCAL_RANK: 0 - CUDA_VISIBLE_DEVICES: [0]\n",
      "\n",
      "  | Name                   | Type                             | Params\n",
      "----------------------------------------------------------------------------\n",
      "0 | loss                   | NegativeBinomialDistributionLoss | 0     \n",
      "1 | logging_metrics        | ModuleList                       | 0     \n",
      "2 | embeddings             | MultiEmbedding                   | 787   \n",
      "3 | rnn                    | LSTM                             | 258 K \n",
      "4 | distribution_projector | Linear                           | 222   \n",
      "----------------------------------------------------------------------------\n",
      "259 K     Trainable params\n",
      "0         Non-trainable params\n",
      "259 K     Total params\n",
      "1.039     Total estimated model params size (MB)\n"
     ]
    },
    {
     "name": "stdout",
     "output_type": "stream",
     "text": [
      "Epoch 0: 100%|██████████| 196/196 [00:09<00:00, 21.07it/s, loss=4.91, v_num=20, train_loss_step=4.600, val_loss=4.850]"
     ]
    },
    {
     "name": "stderr",
     "output_type": "stream",
     "text": [
      "Metric val_loss improved. New best score: 4.848\n"
     ]
    },
    {
     "name": "stdout",
     "output_type": "stream",
     "text": [
      "Epoch 1: 100%|██████████| 196/196 [00:09<00:00, 21.00it/s, loss=4.08, v_num=20, train_loss_step=4.220, val_loss=4.250, train_loss_epoch=16.90]"
     ]
    },
    {
     "name": "stderr",
     "output_type": "stream",
     "text": [
      "Metric val_loss improved by 0.597 >= min_delta = 0. New best score: 4.251\n"
     ]
    },
    {
     "name": "stdout",
     "output_type": "stream",
     "text": [
      "Epoch 2: 100%|██████████| 196/196 [00:18<00:00, 10.40it/s, loss=3.85, v_num=20, train_loss_step=3.760, val_loss=4.050, train_loss_epoch=4.180]"
     ]
    },
    {
     "name": "stderr",
     "output_type": "stream",
     "text": [
      "Metric val_loss improved by 0.200 >= min_delta = 0. New best score: 4.051\n"
     ]
    },
    {
     "name": "stdout",
     "output_type": "stream",
     "text": [
      "Epoch 3: 100%|██████████| 196/196 [00:09<00:00, 20.99it/s, loss=3.32, v_num=20, train_loss_step=3.060, val_loss=3.570, train_loss_epoch=3.950]"
     ]
    },
    {
     "name": "stderr",
     "output_type": "stream",
     "text": [
      "Metric val_loss improved by 0.483 >= min_delta = 0. New best score: 3.568\n"
     ]
    },
    {
     "name": "stdout",
     "output_type": "stream",
     "text": [
      "Epoch 4: 100%|██████████| 196/196 [00:09<00:00, 20.82it/s, loss=3.18, v_num=20, train_loss_step=2.970, val_loss=3.420, train_loss_epoch=3.640]"
     ]
    },
    {
     "name": "stderr",
     "output_type": "stream",
     "text": [
      "Metric val_loss improved by 0.151 >= min_delta = 0. New best score: 3.417\n"
     ]
    },
    {
     "name": "stdout",
     "output_type": "stream",
     "text": [
      "Epoch 5: 100%|██████████| 196/196 [00:09<00:00, 20.91it/s, loss=3.11, v_num=20, train_loss_step=3.060, val_loss=3.350, train_loss_epoch=3.220]"
     ]
    },
    {
     "name": "stderr",
     "output_type": "stream",
     "text": [
      "Metric val_loss improved by 0.067 >= min_delta = 0. New best score: 3.350\n"
     ]
    },
    {
     "name": "stdout",
     "output_type": "stream",
     "text": [
      "Epoch 6: 100%|██████████| 196/196 [00:09<00:00, 20.91it/s, loss=3.03, v_num=20, train_loss_step=2.990, val_loss=3.310, train_loss_epoch=3.130]"
     ]
    },
    {
     "name": "stderr",
     "output_type": "stream",
     "text": [
      "Metric val_loss improved by 0.039 >= min_delta = 0. New best score: 3.311\n"
     ]
    },
    {
     "name": "stdout",
     "output_type": "stream",
     "text": [
      "Epoch 7: 100%|██████████| 196/196 [00:09<00:00, 20.81it/s, loss=2.98, v_num=20, train_loss_step=3.030, val_loss=3.250, train_loss_epoch=3.070]"
     ]
    },
    {
     "name": "stderr",
     "output_type": "stream",
     "text": [
      "Metric val_loss improved by 0.061 >= min_delta = 0. New best score: 3.251\n"
     ]
    },
    {
     "name": "stdout",
     "output_type": "stream",
     "text": [
      "Epoch 8: 100%|██████████| 196/196 [00:09<00:00, 20.86it/s, loss=2.98, v_num=20, train_loss_step=2.870, val_loss=3.220, train_loss_epoch=3.020]"
     ]
    },
    {
     "name": "stderr",
     "output_type": "stream",
     "text": [
      "Metric val_loss improved by 0.030 >= min_delta = 0. New best score: 3.221\n"
     ]
    },
    {
     "name": "stdout",
     "output_type": "stream",
     "text": [
      "Epoch 9: 100%|██████████| 196/196 [00:09<00:00, 20.86it/s, loss=2.94, v_num=20, train_loss_step=3.010, val_loss=3.190, train_loss_epoch=2.980]"
     ]
    },
    {
     "name": "stderr",
     "output_type": "stream",
     "text": [
      "Metric val_loss improved by 0.030 >= min_delta = 0. New best score: 3.191\n"
     ]
    },
    {
     "name": "stdout",
     "output_type": "stream",
     "text": [
      "Epoch 10: 100%|██████████| 196/196 [00:09<00:00, 20.94it/s, loss=2.91, v_num=20, train_loss_step=2.930, val_loss=3.160, train_loss_epoch=2.950]"
     ]
    },
    {
     "name": "stderr",
     "output_type": "stream",
     "text": [
      "Metric val_loss improved by 0.035 >= min_delta = 0. New best score: 3.156\n"
     ]
    },
    {
     "name": "stdout",
     "output_type": "stream",
     "text": [
      "Epoch 11: 100%|██████████| 196/196 [00:09<00:00, 20.95it/s, loss=2.91, v_num=20, train_loss_step=2.960, val_loss=3.120, train_loss_epoch=2.920]"
     ]
    },
    {
     "name": "stderr",
     "output_type": "stream",
     "text": [
      "Metric val_loss improved by 0.036 >= min_delta = 0. New best score: 3.120\n"
     ]
    },
    {
     "name": "stdout",
     "output_type": "stream",
     "text": [
      "Epoch 12: 100%|██████████| 196/196 [00:09<00:00, 20.88it/s, loss=2.86, v_num=20, train_loss_step=2.710, val_loss=3.090, train_loss_epoch=2.890]"
     ]
    },
    {
     "name": "stderr",
     "output_type": "stream",
     "text": [
      "Metric val_loss improved by 0.025 >= min_delta = 0. New best score: 3.095\n"
     ]
    },
    {
     "name": "stdout",
     "output_type": "stream",
     "text": [
      "Epoch 13: 100%|██████████| 196/196 [00:09<00:00, 20.92it/s, loss=2.84, v_num=20, train_loss_step=2.860, val_loss=3.070, train_loss_epoch=2.870]"
     ]
    },
    {
     "name": "stderr",
     "output_type": "stream",
     "text": [
      "Metric val_loss improved by 0.025 >= min_delta = 0. New best score: 3.070\n"
     ]
    },
    {
     "name": "stdout",
     "output_type": "stream",
     "text": [
      "Epoch 14: 100%|██████████| 196/196 [00:09<00:00, 20.92it/s, loss=2.8, v_num=20, train_loss_step=2.710, val_loss=3.050, train_loss_epoch=2.840] "
     ]
    },
    {
     "name": "stderr",
     "output_type": "stream",
     "text": [
      "Metric val_loss improved by 0.018 >= min_delta = 0. New best score: 3.052\n"
     ]
    },
    {
     "name": "stdout",
     "output_type": "stream",
     "text": [
      "Epoch 15: 100%|██████████| 196/196 [00:18<00:00, 10.51it/s, loss=2.81, v_num=20, train_loss_step=2.890, val_loss=3.020, train_loss_epoch=2.820]"
     ]
    },
    {
     "name": "stderr",
     "output_type": "stream",
     "text": [
      "Metric val_loss improved by 0.031 >= min_delta = 0. New best score: 3.021\n"
     ]
    },
    {
     "name": "stdout",
     "output_type": "stream",
     "text": [
      "Epoch 16: 100%|██████████| 196/196 [00:09<00:00, 20.86it/s, loss=2.77, v_num=20, train_loss_step=2.720, val_loss=3.000, train_loss_epoch=2.810]"
     ]
    },
    {
     "name": "stderr",
     "output_type": "stream",
     "text": [
      "Metric val_loss improved by 0.018 >= min_delta = 0. New best score: 3.003\n"
     ]
    },
    {
     "name": "stdout",
     "output_type": "stream",
     "text": [
      "Epoch 17: 100%|██████████| 196/196 [00:09<00:00, 20.93it/s, loss=2.75, v_num=20, train_loss_step=2.770, val_loss=2.990, train_loss_epoch=2.780]"
     ]
    },
    {
     "name": "stderr",
     "output_type": "stream",
     "text": [
      "Metric val_loss improved by 0.014 >= min_delta = 0. New best score: 2.989\n"
     ]
    },
    {
     "name": "stdout",
     "output_type": "stream",
     "text": [
      "Epoch 18: 100%|██████████| 196/196 [00:09<00:00, 20.79it/s, loss=2.74, v_num=20, train_loss_step=2.800, val_loss=2.960, train_loss_epoch=2.770]"
     ]
    },
    {
     "name": "stderr",
     "output_type": "stream",
     "text": [
      "Metric val_loss improved by 0.024 >= min_delta = 0. New best score: 2.965\n"
     ]
    },
    {
     "name": "stdout",
     "output_type": "stream",
     "text": [
      "Epoch 19: 100%|██████████| 196/196 [00:09<00:00, 21.04it/s, loss=2.74, v_num=20, train_loss_step=2.740, val_loss=2.960, train_loss_epoch=2.750]"
     ]
    },
    {
     "name": "stderr",
     "output_type": "stream",
     "text": [
      "Metric val_loss improved by 0.004 >= min_delta = 0. New best score: 2.961\n"
     ]
    },
    {
     "name": "stdout",
     "output_type": "stream",
     "text": [
      "Epoch 20: 100%|██████████| 196/196 [00:09<00:00, 20.90it/s, loss=2.72, v_num=20, train_loss_step=2.600, val_loss=2.950, train_loss_epoch=2.730]"
     ]
    },
    {
     "name": "stderr",
     "output_type": "stream",
     "text": [
      "Metric val_loss improved by 0.015 >= min_delta = 0. New best score: 2.947\n"
     ]
    },
    {
     "name": "stdout",
     "output_type": "stream",
     "text": [
      "Epoch 21: 100%|██████████| 196/196 [00:09<00:00, 20.88it/s, loss=2.73, v_num=20, train_loss_step=2.810, val_loss=2.930, train_loss_epoch=2.720]"
     ]
    },
    {
     "name": "stderr",
     "output_type": "stream",
     "text": [
      "Metric val_loss improved by 0.015 >= min_delta = 0. New best score: 2.932\n"
     ]
    },
    {
     "name": "stdout",
     "output_type": "stream",
     "text": [
      "Epoch 22: 100%|██████████| 196/196 [00:09<00:00, 20.86it/s, loss=2.69, v_num=20, train_loss_step=2.540, val_loss=2.920, train_loss_epoch=2.710]"
     ]
    },
    {
     "name": "stderr",
     "output_type": "stream",
     "text": [
      "Metric val_loss improved by 0.011 >= min_delta = 0. New best score: 2.921\n"
     ]
    },
    {
     "name": "stdout",
     "output_type": "stream",
     "text": [
      "Epoch 23: 100%|██████████| 196/196 [00:09<00:00, 20.91it/s, loss=2.69, v_num=20, train_loss_step=2.590, val_loss=2.900, train_loss_epoch=2.700]"
     ]
    },
    {
     "name": "stderr",
     "output_type": "stream",
     "text": [
      "Metric val_loss improved by 0.022 >= min_delta = 0. New best score: 2.899\n"
     ]
    },
    {
     "name": "stdout",
     "output_type": "stream",
     "text": [
      "Epoch 25: 100%|██████████| 196/196 [00:09<00:00, 20.85it/s, loss=2.64, v_num=20, train_loss_step=2.560, val_loss=2.890, train_loss_epoch=2.670]"
     ]
    },
    {
     "name": "stderr",
     "output_type": "stream",
     "text": [
      "Metric val_loss improved by 0.005 >= min_delta = 0. New best score: 2.894\n"
     ]
    },
    {
     "name": "stdout",
     "output_type": "stream",
     "text": [
      "Epoch 26: 100%|██████████| 196/196 [00:09<00:00, 20.87it/s, loss=2.67, v_num=20, train_loss_step=2.740, val_loss=2.870, train_loss_epoch=2.660]"
     ]
    },
    {
     "name": "stderr",
     "output_type": "stream",
     "text": [
      "Metric val_loss improved by 0.022 >= min_delta = 0. New best score: 2.872\n"
     ]
    },
    {
     "name": "stdout",
     "output_type": "stream",
     "text": [
      "Epoch 27: 100%|██████████| 196/196 [00:18<00:00, 10.46it/s, loss=2.67, v_num=20, train_loss_step=2.710, val_loss=2.870, train_loss_epoch=2.650]"
     ]
    },
    {
     "name": "stderr",
     "output_type": "stream",
     "text": [
      "Metric val_loss improved by 0.001 >= min_delta = 0. New best score: 2.871\n"
     ]
    },
    {
     "name": "stdout",
     "output_type": "stream",
     "text": [
      "Epoch 29: 100%|██████████| 196/196 [00:09<00:00, 21.06it/s, loss=2.6, v_num=20, train_loss_step=2.600, val_loss=2.850, train_loss_epoch=2.630] "
     ]
    },
    {
     "name": "stderr",
     "output_type": "stream",
     "text": [
      "Metric val_loss improved by 0.024 >= min_delta = 0. New best score: 2.847\n"
     ]
    },
    {
     "name": "stdout",
     "output_type": "stream",
     "text": [
      "Epoch 29: 100%|██████████| 196/196 [00:09<00:00, 21.06it/s, loss=2.6, v_num=20, train_loss_step=2.600, val_loss=2.850, train_loss_epoch=2.630]"
     ]
    },
    {
     "name": "stderr",
     "output_type": "stream",
     "text": [
      "`Trainer.fit` stopped: `max_epochs=30` reached.\n"
     ]
    },
    {
     "name": "stdout",
     "output_type": "stream",
     "text": [
      "Epoch 29: 100%|██████████| 196/196 [00:09<00:00, 21.03it/s, loss=2.6, v_num=20, train_loss_step=2.600, val_loss=2.850, train_loss_epoch=2.630]"
     ]
    },
    {
     "name": "stderr",
     "output_type": "stream",
     "text": [
      "\u001b[32m[I 2024-03-28 14:34:08,550]\u001b[0m Trial 20 pruned. \u001b[0m\n"
     ]
    },
    {
     "name": "stdout",
     "output_type": "stream",
     "text": [
      "\n"
     ]
    },
    {
     "name": "stderr",
     "output_type": "stream",
     "text": [
      "GPU available: True (cuda), used: True\n",
      "TPU available: False, using: 0 TPU cores\n",
      "IPU available: False, using: 0 IPUs\n",
      "HPU available: False, using: 0 HPUs\n",
      "`Trainer(limit_train_batches=1.0)` was configured so 100% of the batches per epoch will be used..\n",
      "`Trainer(limit_val_batches=1.0)` was configured so 100% of the batches will be used..\n",
      "LOCAL_RANK: 0 - CUDA_VISIBLE_DEVICES: [0]\n",
      "\n",
      "  | Name                   | Type                             | Params\n",
      "----------------------------------------------------------------------------\n",
      "0 | loss                   | NegativeBinomialDistributionLoss | 0     \n",
      "1 | logging_metrics        | ModuleList                       | 0     \n",
      "2 | embeddings             | MultiEmbedding                   | 787   \n",
      "3 | rnn                    | LSTM                             | 3.4 M \n",
      "4 | distribution_projector | Linear                           | 822   \n",
      "----------------------------------------------------------------------------\n",
      "3.4 M     Trainable params\n",
      "0         Non-trainable params\n",
      "3.4 M     Total params\n",
      "13.704    Total estimated model params size (MB)\n"
     ]
    },
    {
     "name": "stdout",
     "output_type": "stream",
     "text": [
      "Epoch 0: 100%|██████████| 2545/2545 [00:26<00:00, 95.86it/s, loss=2.7, v_num=21, train_loss_step=3.290, val_loss=2.820]"
     ]
    },
    {
     "name": "stderr",
     "output_type": "stream",
     "text": [
      "Metric val_loss improved. New best score: 2.821\n"
     ]
    },
    {
     "name": "stdout",
     "output_type": "stream",
     "text": [
      "Epoch 2: 100%|██████████| 2545/2545 [00:27<00:00, 94.02it/s, loss=2.54, v_num=21, train_loss_step=2.350, val_loss=2.750, train_loss_epoch=2.650] "
     ]
    },
    {
     "name": "stderr",
     "output_type": "stream",
     "text": [
      "Metric val_loss improved by 0.070 >= min_delta = 0. New best score: 2.751\n"
     ]
    },
    {
     "name": "stdout",
     "output_type": "stream",
     "text": [
      "Epoch 3: 100%|██████████| 2545/2545 [00:27<00:00, 93.19it/s, loss=2.47, v_num=21, train_loss_step=2.040, val_loss=2.710, train_loss_epoch=2.610] "
     ]
    },
    {
     "name": "stderr",
     "output_type": "stream",
     "text": [
      "Metric val_loss improved by 0.039 >= min_delta = 0. New best score: 2.712\n"
     ]
    },
    {
     "name": "stdout",
     "output_type": "stream",
     "text": [
      "Epoch 8: 100%|██████████| 2545/2545 [00:27<00:00, 93.38it/s, loss=2.47, v_num=21, train_loss_step=1.870, val_loss=2.750, train_loss_epoch=2.530] "
     ]
    },
    {
     "name": "stderr",
     "output_type": "stream",
     "text": [
      "Monitored metric val_loss did not improve in the last 5 records. Best score: 2.712. Signaling Trainer to stop.\n"
     ]
    },
    {
     "name": "stdout",
     "output_type": "stream",
     "text": [
      "Epoch 8: 100%|██████████| 2545/2545 [00:27<00:00, 93.03it/s, loss=2.47, v_num=21, train_loss_step=1.870, val_loss=2.750, train_loss_epoch=2.520]\n"
     ]
    },
    {
     "name": "stderr",
     "output_type": "stream",
     "text": [
      "\u001b[32m[I 2024-03-28 14:38:20,030]\u001b[0m Trial 21 finished with value: 32.662418365478516 and parameters: {'neu': 410, 'lay': 3, 'bat': 32, 'lr': 0.008653912491859062, 'dropout': 0.0}. Best is trial 2 with value: 32.41532897949219.\u001b[0m\n",
      "GPU available: True (cuda), used: True\n",
      "TPU available: False, using: 0 TPU cores\n",
      "IPU available: False, using: 0 IPUs\n",
      "HPU available: False, using: 0 HPUs\n",
      "`Trainer(limit_train_batches=1.0)` was configured so 100% of the batches per epoch will be used..\n",
      "`Trainer(limit_val_batches=1.0)` was configured so 100% of the batches will be used..\n",
      "LOCAL_RANK: 0 - CUDA_VISIBLE_DEVICES: [0]\n",
      "\n",
      "  | Name                   | Type                             | Params\n",
      "----------------------------------------------------------------------------\n",
      "0 | loss                   | NegativeBinomialDistributionLoss | 0     \n",
      "1 | logging_metrics        | ModuleList                       | 0     \n",
      "2 | embeddings             | MultiEmbedding                   | 787   \n",
      "3 | rnn                    | LSTM                             | 3.4 M \n",
      "4 | distribution_projector | Linear                           | 822   \n",
      "----------------------------------------------------------------------------\n",
      "3.4 M     Trainable params\n",
      "0         Non-trainable params\n",
      "3.4 M     Total params\n",
      "13.704    Total estimated model params size (MB)\n"
     ]
    },
    {
     "name": "stdout",
     "output_type": "stream",
     "text": [
      "Epoch 0: 100%|██████████| 2545/2545 [00:27<00:00, 93.13it/s, loss=2.83, v_num=22, train_loss_step=3.020, val_loss=2.950]"
     ]
    },
    {
     "name": "stderr",
     "output_type": "stream",
     "text": [
      "Metric val_loss improved. New best score: 2.948\n"
     ]
    },
    {
     "name": "stdout",
     "output_type": "stream",
     "text": [
      "Epoch 1: 100%|██████████| 2545/2545 [00:27<00:00, 93.58it/s, loss=2.71, v_num=22, train_loss_step=2.720, val_loss=2.830, train_loss_epoch=3.060] "
     ]
    },
    {
     "name": "stderr",
     "output_type": "stream",
     "text": [
      "Metric val_loss improved by 0.114 >= min_delta = 0. New best score: 2.835\n"
     ]
    },
    {
     "name": "stdout",
     "output_type": "stream",
     "text": [
      "Epoch 4: 100%|██████████| 2545/2545 [00:27<00:00, 92.82it/s, loss=2.74, v_num=22, train_loss_step=3.080, val_loss=2.800, train_loss_epoch=2.690] "
     ]
    },
    {
     "name": "stderr",
     "output_type": "stream",
     "text": [
      "Metric val_loss improved by 0.037 >= min_delta = 0. New best score: 2.798\n"
     ]
    },
    {
     "name": "stdout",
     "output_type": "stream",
     "text": [
      "Epoch 9: 100%|██████████| 2545/2545 [00:27<00:00, 91.84it/s, loss=2.68, v_num=22, train_loss_step=2.620, val_loss=2.840, train_loss_epoch=2.670] "
     ]
    },
    {
     "name": "stderr",
     "output_type": "stream",
     "text": [
      "Monitored metric val_loss did not improve in the last 5 records. Best score: 2.798. Signaling Trainer to stop.\n"
     ]
    },
    {
     "name": "stdout",
     "output_type": "stream",
     "text": [
      "Epoch 9: 100%|██████████| 2545/2545 [00:28<00:00, 89.61it/s, loss=2.68, v_num=22, train_loss_step=2.620, val_loss=2.840, train_loss_epoch=2.670]"
     ]
    },
    {
     "name": "stderr",
     "output_type": "stream",
     "text": [
      "\u001b[32m[I 2024-03-28 14:43:13,019]\u001b[0m Trial 22 pruned. \u001b[0m\n"
     ]
    },
    {
     "name": "stdout",
     "output_type": "stream",
     "text": [
      "\n"
     ]
    },
    {
     "name": "stderr",
     "output_type": "stream",
     "text": [
      "GPU available: True (cuda), used: True\n",
      "TPU available: False, using: 0 TPU cores\n",
      "IPU available: False, using: 0 IPUs\n",
      "HPU available: False, using: 0 HPUs\n",
      "`Trainer(limit_train_batches=1.0)` was configured so 100% of the batches per epoch will be used..\n",
      "`Trainer(limit_val_batches=1.0)` was configured so 100% of the batches will be used..\n",
      "LOCAL_RANK: 0 - CUDA_VISIBLE_DEVICES: [0]\n",
      "\n",
      "  | Name                   | Type                             | Params\n",
      "----------------------------------------------------------------------------\n",
      "0 | loss                   | NegativeBinomialDistributionLoss | 0     \n",
      "1 | logging_metrics        | ModuleList                       | 0     \n",
      "2 | embeddings             | MultiEmbedding                   | 787   \n",
      "3 | rnn                    | LSTM                             | 426 K \n",
      "4 | distribution_projector | Linear                           | 622   \n",
      "----------------------------------------------------------------------------\n",
      "427 K     Trainable params\n",
      "0         Non-trainable params\n",
      "427 K     Total params\n",
      "1.712     Total estimated model params size (MB)\n"
     ]
    },
    {
     "name": "stdout",
     "output_type": "stream",
     "text": [
      "Epoch 0: 100%|██████████| 424/424 [00:11<00:00, 36.83it/s, loss=2.92, v_num=23, train_loss_step=2.700, val_loss=3.130]"
     ]
    },
    {
     "name": "stderr",
     "output_type": "stream",
     "text": [
      "Metric val_loss improved. New best score: 3.126\n"
     ]
    },
    {
     "name": "stdout",
     "output_type": "stream",
     "text": [
      "Epoch 1: 100%|██████████| 424/424 [00:11<00:00, 38.45it/s, loss=2.76, v_num=23, train_loss_step=2.670, val_loss=2.920, train_loss_epoch=6.070]"
     ]
    },
    {
     "name": "stderr",
     "output_type": "stream",
     "text": [
      "Metric val_loss improved by 0.207 >= min_delta = 0. New best score: 2.919\n"
     ]
    },
    {
     "name": "stdout",
     "output_type": "stream",
     "text": [
      "Epoch 2: 100%|██████████| 424/424 [00:10<00:00, 39.03it/s, loss=2.69, v_num=23, train_loss_step=2.860, val_loss=2.830, train_loss_epoch=2.800]"
     ]
    },
    {
     "name": "stderr",
     "output_type": "stream",
     "text": [
      "Metric val_loss improved by 0.092 >= min_delta = 0. New best score: 2.827\n"
     ]
    },
    {
     "name": "stdout",
     "output_type": "stream",
     "text": [
      "Epoch 3: 100%|██████████| 424/424 [00:10<00:00, 38.98it/s, loss=2.61, v_num=23, train_loss_step=2.630, val_loss=2.800, train_loss_epoch=2.690]"
     ]
    },
    {
     "name": "stderr",
     "output_type": "stream",
     "text": [
      "Metric val_loss improved by 0.026 >= min_delta = 0. New best score: 2.801\n"
     ]
    },
    {
     "name": "stdout",
     "output_type": "stream",
     "text": [
      "Epoch 4: 100%|██████████| 424/424 [00:10<00:00, 39.15it/s, loss=2.56, v_num=23, train_loss_step=2.490, val_loss=2.780, train_loss_epoch=2.640]"
     ]
    },
    {
     "name": "stderr",
     "output_type": "stream",
     "text": [
      "Metric val_loss improved by 0.023 >= min_delta = 0. New best score: 2.778\n"
     ]
    },
    {
     "name": "stdout",
     "output_type": "stream",
     "text": [
      "Epoch 5: 100%|██████████| 424/424 [00:10<00:00, 38.92it/s, loss=2.58, v_num=23, train_loss_step=2.550, val_loss=2.740, train_loss_epoch=2.610]"
     ]
    },
    {
     "name": "stderr",
     "output_type": "stream",
     "text": [
      "Metric val_loss improved by 0.037 >= min_delta = 0. New best score: 2.741\n"
     ]
    },
    {
     "name": "stdout",
     "output_type": "stream",
     "text": [
      "Epoch 6: 100%|██████████| 424/424 [00:10<00:00, 38.96it/s, loss=2.55, v_num=23, train_loss_step=2.470, val_loss=2.730, train_loss_epoch=2.580]"
     ]
    },
    {
     "name": "stderr",
     "output_type": "stream",
     "text": [
      "Metric val_loss improved by 0.012 >= min_delta = 0. New best score: 2.729\n"
     ]
    },
    {
     "name": "stdout",
     "output_type": "stream",
     "text": [
      "Epoch 7: 100%|██████████| 424/424 [00:10<00:00, 38.94it/s, loss=2.55, v_num=23, train_loss_step=2.420, val_loss=2.720, train_loss_epoch=2.570]"
     ]
    },
    {
     "name": "stderr",
     "output_type": "stream",
     "text": [
      "Metric val_loss improved by 0.006 >= min_delta = 0. New best score: 2.723\n"
     ]
    },
    {
     "name": "stdout",
     "output_type": "stream",
     "text": [
      "Epoch 9: 100%|██████████| 424/424 [00:10<00:00, 39.26it/s, loss=2.54, v_num=23, train_loss_step=2.530, val_loss=2.720, train_loss_epoch=2.550]"
     ]
    },
    {
     "name": "stderr",
     "output_type": "stream",
     "text": [
      "Metric val_loss improved by 0.005 >= min_delta = 0. New best score: 2.717\n"
     ]
    },
    {
     "name": "stdout",
     "output_type": "stream",
     "text": [
      "Epoch 10: 100%|██████████| 424/424 [00:10<00:00, 38.73it/s, loss=2.55, v_num=23, train_loss_step=2.830, val_loss=2.710, train_loss_epoch=2.540]"
     ]
    },
    {
     "name": "stderr",
     "output_type": "stream",
     "text": [
      "Metric val_loss improved by 0.004 >= min_delta = 0. New best score: 2.713\n"
     ]
    },
    {
     "name": "stdout",
     "output_type": "stream",
     "text": [
      "Epoch 12: 100%|██████████| 424/424 [00:10<00:00, 38.83it/s, loss=2.51, v_num=23, train_loss_step=2.390, val_loss=2.710, train_loss_epoch=2.520]"
     ]
    },
    {
     "name": "stderr",
     "output_type": "stream",
     "text": [
      "Metric val_loss improved by 0.004 >= min_delta = 0. New best score: 2.709\n"
     ]
    },
    {
     "name": "stdout",
     "output_type": "stream",
     "text": [
      "Epoch 13: 100%|██████████| 424/424 [00:10<00:00, 39.03it/s, loss=2.54, v_num=23, train_loss_step=2.560, val_loss=2.710, train_loss_epoch=2.520]"
     ]
    },
    {
     "name": "stderr",
     "output_type": "stream",
     "text": [
      "Metric val_loss improved by 0.003 >= min_delta = 0. New best score: 2.706\n"
     ]
    },
    {
     "name": "stdout",
     "output_type": "stream",
     "text": [
      "Epoch 18: 100%|██████████| 424/424 [00:10<00:00, 38.74it/s, loss=2.46, v_num=23, train_loss_step=2.350, val_loss=2.700, train_loss_epoch=2.480]"
     ]
    },
    {
     "name": "stderr",
     "output_type": "stream",
     "text": [
      "Metric val_loss improved by 0.002 >= min_delta = 0. New best score: 2.704\n"
     ]
    },
    {
     "name": "stdout",
     "output_type": "stream",
     "text": [
      "Epoch 23: 100%|██████████| 424/424 [00:10<00:00, 38.95it/s, loss=2.45, v_num=23, train_loss_step=2.440, val_loss=2.750, train_loss_epoch=2.440]"
     ]
    },
    {
     "name": "stderr",
     "output_type": "stream",
     "text": [
      "Monitored metric val_loss did not improve in the last 5 records. Best score: 2.704. Signaling Trainer to stop.\n"
     ]
    },
    {
     "name": "stdout",
     "output_type": "stream",
     "text": [
      "Epoch 23: 100%|██████████| 424/424 [00:10<00:00, 38.88it/s, loss=2.45, v_num=23, train_loss_step=2.440, val_loss=2.750, train_loss_epoch=2.430]"
     ]
    },
    {
     "name": "stderr",
     "output_type": "stream",
     "text": [
      "\u001b[32m[I 2024-03-28 14:47:40,314]\u001b[0m Trial 23 pruned. \u001b[0m\n"
     ]
    },
    {
     "name": "stdout",
     "output_type": "stream",
     "text": [
      "\n"
     ]
    },
    {
     "name": "stderr",
     "output_type": "stream",
     "text": [
      "GPU available: True (cuda), used: True\n",
      "TPU available: False, using: 0 TPU cores\n",
      "IPU available: False, using: 0 IPUs\n",
      "HPU available: False, using: 0 HPUs\n",
      "`Trainer(limit_train_batches=1.0)` was configured so 100% of the batches per epoch will be used..\n",
      "`Trainer(limit_val_batches=1.0)` was configured so 100% of the batches will be used..\n",
      "LOCAL_RANK: 0 - CUDA_VISIBLE_DEVICES: [0]\n",
      "\n",
      "  | Name                   | Type                             | Params\n",
      "----------------------------------------------------------------------------\n",
      "0 | loss                   | NegativeBinomialDistributionLoss | 0     \n",
      "1 | logging_metrics        | ModuleList                       | 0     \n",
      "2 | embeddings             | MultiEmbedding                   | 787   \n",
      "3 | rnn                    | LSTM                             | 9.4 M \n",
      "4 | distribution_projector | Linear                           | 1.0 K \n",
      "----------------------------------------------------------------------------\n",
      "9.5 M     Trainable params\n",
      "0         Non-trainable params\n",
      "9.5 M     Total params\n",
      "37.804    Total estimated model params size (MB)\n"
     ]
    },
    {
     "name": "stdout",
     "output_type": "stream",
     "text": [
      "Epoch 0: 100%|██████████| 2545/2545 [00:41<00:00, 60.86it/s, loss=2.64, v_num=24, train_loss_step=3.530, val_loss=3.180]"
     ]
    },
    {
     "name": "stderr",
     "output_type": "stream",
     "text": [
      "Metric val_loss improved. New best score: 3.185\n"
     ]
    },
    {
     "name": "stdout",
     "output_type": "stream",
     "text": [
      "Epoch 1: 100%|██████████| 2545/2545 [00:29<00:00, 86.15it/s, loss=2.67, v_num=24, train_loss_step=2.120, val_loss=2.840, train_loss_epoch=3.340]"
     ]
    },
    {
     "name": "stderr",
     "output_type": "stream",
     "text": [
      "Metric val_loss improved by 0.341 >= min_delta = 0. New best score: 2.843\n"
     ]
    },
    {
     "name": "stdout",
     "output_type": "stream",
     "text": [
      "Epoch 2: 100%|██████████| 2545/2545 [00:29<00:00, 85.73it/s, loss=2.68, v_num=24, train_loss_step=2.890, val_loss=2.800, train_loss_epoch=2.720]"
     ]
    },
    {
     "name": "stderr",
     "output_type": "stream",
     "text": [
      "Metric val_loss improved by 0.044 >= min_delta = 0. New best score: 2.799\n"
     ]
    },
    {
     "name": "stdout",
     "output_type": "stream",
     "text": [
      "Epoch 5: 100%|██████████| 2545/2545 [00:29<00:00, 85.18it/s, loss=2.7, v_num=24, train_loss_step=2.590, val_loss=2.770, train_loss_epoch=2.640] "
     ]
    },
    {
     "name": "stderr",
     "output_type": "stream",
     "text": [
      "Metric val_loss improved by 0.032 >= min_delta = 0. New best score: 2.767\n"
     ]
    },
    {
     "name": "stdout",
     "output_type": "stream",
     "text": [
      "Epoch 10: 100%|██████████| 2545/2545 [00:29<00:00, 85.08it/s, loss=2.64, v_num=24, train_loss_step=2.500, val_loss=2.770, train_loss_epoch=2.610]"
     ]
    },
    {
     "name": "stderr",
     "output_type": "stream",
     "text": [
      "Monitored metric val_loss did not improve in the last 5 records. Best score: 2.767. Signaling Trainer to stop.\n"
     ]
    },
    {
     "name": "stdout",
     "output_type": "stream",
     "text": [
      "Epoch 10: 100%|██████████| 2545/2545 [00:31<00:00, 81.80it/s, loss=2.64, v_num=24, train_loss_step=2.500, val_loss=2.770, train_loss_epoch=2.610]"
     ]
    },
    {
     "name": "stderr",
     "output_type": "stream",
     "text": [
      "\u001b[32m[I 2024-03-28 14:53:42,879]\u001b[0m Trial 24 pruned. \u001b[0m\n"
     ]
    },
    {
     "name": "stdout",
     "output_type": "stream",
     "text": [
      "\n"
     ]
    },
    {
     "name": "stderr",
     "output_type": "stream",
     "text": [
      "GPU available: True (cuda), used: True\n",
      "TPU available: False, using: 0 TPU cores\n",
      "IPU available: False, using: 0 IPUs\n",
      "HPU available: False, using: 0 HPUs\n",
      "`Trainer(limit_train_batches=1.0)` was configured so 100% of the batches per epoch will be used..\n",
      "`Trainer(limit_val_batches=1.0)` was configured so 100% of the batches will be used..\n",
      "LOCAL_RANK: 0 - CUDA_VISIBLE_DEVICES: [0]\n",
      "\n",
      "  | Name                   | Type                             | Params\n",
      "----------------------------------------------------------------------------\n",
      "0 | loss                   | NegativeBinomialDistributionLoss | 0     \n",
      "1 | logging_metrics        | ModuleList                       | 0     \n",
      "2 | embeddings             | MultiEmbedding                   | 787   \n",
      "3 | rnn                    | LSTM                             | 7.5 M \n",
      "4 | distribution_projector | Linear                           | 1.2 K \n",
      "----------------------------------------------------------------------------\n",
      "7.5 M     Trainable params\n",
      "0         Non-trainable params\n",
      "7.5 M     Total params\n",
      "30.147    Total estimated model params size (MB)\n"
     ]
    },
    {
     "name": "stdout",
     "output_type": "stream",
     "text": [
      "Epoch 0: 100%|██████████| 363/363 [00:11<00:00, 30.77it/s, loss=2.93, v_num=25, train_loss_step=2.810, val_loss=3.030]"
     ]
    },
    {
     "name": "stderr",
     "output_type": "stream",
     "text": [
      "Metric val_loss improved. New best score: 3.032\n"
     ]
    },
    {
     "name": "stdout",
     "output_type": "stream",
     "text": [
      "Epoch 1: 100%|██████████| 363/363 [00:11<00:00, 31.86it/s, loss=2.69, v_num=25, train_loss_step=2.680, val_loss=2.890, train_loss_epoch=4.340]"
     ]
    },
    {
     "name": "stderr",
     "output_type": "stream",
     "text": [
      "Metric val_loss improved by 0.139 >= min_delta = 0. New best score: 2.893\n"
     ]
    },
    {
     "name": "stdout",
     "output_type": "stream",
     "text": [
      "Epoch 2: 100%|██████████| 363/363 [00:11<00:00, 32.18it/s, loss=2.66, v_num=25, train_loss_step=2.770, val_loss=2.830, train_loss_epoch=2.730]"
     ]
    },
    {
     "name": "stderr",
     "output_type": "stream",
     "text": [
      "Metric val_loss improved by 0.063 >= min_delta = 0. New best score: 2.830\n"
     ]
    },
    {
     "name": "stdout",
     "output_type": "stream",
     "text": [
      "Epoch 5: 100%|██████████| 363/363 [00:11<00:00, 32.32it/s, loss=2.67, v_num=25, train_loss_step=2.610, val_loss=2.790, train_loss_epoch=2.660]"
     ]
    },
    {
     "name": "stderr",
     "output_type": "stream",
     "text": [
      "Metric val_loss improved by 0.038 >= min_delta = 0. New best score: 2.792\n"
     ]
    },
    {
     "name": "stdout",
     "output_type": "stream",
     "text": [
      "Epoch 10: 100%|██████████| 363/363 [00:11<00:00, 32.37it/s, loss=2.74, v_num=25, train_loss_step=2.730, val_loss=2.860, train_loss_epoch=2.690]"
     ]
    },
    {
     "name": "stderr",
     "output_type": "stream",
     "text": [
      "Monitored metric val_loss did not improve in the last 5 records. Best score: 2.792. Signaling Trainer to stop.\n"
     ]
    },
    {
     "name": "stdout",
     "output_type": "stream",
     "text": [
      "Epoch 10: 100%|██████████| 363/363 [00:11<00:00, 30.93it/s, loss=2.74, v_num=25, train_loss_step=2.730, val_loss=2.860, train_loss_epoch=2.710]"
     ]
    },
    {
     "name": "stderr",
     "output_type": "stream",
     "text": [
      "\u001b[32m[I 2024-03-28 14:55:55,890]\u001b[0m Trial 25 pruned. \u001b[0m\n"
     ]
    },
    {
     "name": "stdout",
     "output_type": "stream",
     "text": [
      "\n"
     ]
    },
    {
     "name": "stderr",
     "output_type": "stream",
     "text": [
      "GPU available: True (cuda), used: True\n",
      "TPU available: False, using: 0 TPU cores\n",
      "IPU available: False, using: 0 IPUs\n",
      "HPU available: False, using: 0 HPUs\n",
      "`Trainer(limit_train_batches=1.0)` was configured so 100% of the batches per epoch will be used..\n",
      "`Trainer(limit_val_batches=1.0)` was configured so 100% of the batches will be used..\n",
      "LOCAL_RANK: 0 - CUDA_VISIBLE_DEVICES: [0]\n",
      "\n",
      "  | Name                   | Type                             | Params\n",
      "----------------------------------------------------------------------------\n",
      "0 | loss                   | NegativeBinomialDistributionLoss | 0     \n",
      "1 | logging_metrics        | ModuleList                       | 0     \n",
      "2 | embeddings             | MultiEmbedding                   | 787   \n",
      "3 | rnn                    | LSTM                             | 63.4 K\n",
      "4 | distribution_projector | Linear                           | 222   \n",
      "----------------------------------------------------------------------------\n",
      "64.4 K    Trainable params\n",
      "0         Non-trainable params\n",
      "64.4 K    Total params\n",
      "0.257     Total estimated model params size (MB)\n"
     ]
    },
    {
     "name": "stdout",
     "output_type": "stream",
     "text": [
      "Epoch 0: 100%|██████████| 509/509 [00:11<00:00, 45.24it/s, loss=4.21, v_num=26, train_loss_step=4.490, val_loss=4.370]"
     ]
    },
    {
     "name": "stderr",
     "output_type": "stream",
     "text": [
      "Metric val_loss improved. New best score: 4.367\n"
     ]
    },
    {
     "name": "stdout",
     "output_type": "stream",
     "text": [
      "Epoch 1: 100%|██████████| 509/509 [00:11<00:00, 44.66it/s, loss=3.26, v_num=26, train_loss_step=3.160, val_loss=3.510, train_loss_epoch=14.00]"
     ]
    },
    {
     "name": "stderr",
     "output_type": "stream",
     "text": [
      "Metric val_loss improved by 0.857 >= min_delta = 0. New best score: 3.510\n"
     ]
    },
    {
     "name": "stdout",
     "output_type": "stream",
     "text": [
      "Epoch 2: 100%|██████████| 509/509 [00:11<00:00, 44.35it/s, loss=3.11, v_num=26, train_loss_step=3.320, val_loss=3.320, train_loss_epoch=3.530]"
     ]
    },
    {
     "name": "stderr",
     "output_type": "stream",
     "text": [
      "Metric val_loss improved by 0.189 >= min_delta = 0. New best score: 3.321\n"
     ]
    },
    {
     "name": "stdout",
     "output_type": "stream",
     "text": [
      "Epoch 3: 100%|██████████| 509/509 [00:11<00:00, 44.20it/s, loss=2.99, v_num=26, train_loss_step=2.960, val_loss=3.220, train_loss_epoch=3.160]"
     ]
    },
    {
     "name": "stderr",
     "output_type": "stream",
     "text": [
      "Metric val_loss improved by 0.103 >= min_delta = 0. New best score: 3.218\n"
     ]
    },
    {
     "name": "stdout",
     "output_type": "stream",
     "text": [
      "Epoch 4: 100%|██████████| 509/509 [00:11<00:00, 44.22it/s, loss=2.91, v_num=26, train_loss_step=2.990, val_loss=3.140, train_loss_epoch=3.030]"
     ]
    },
    {
     "name": "stderr",
     "output_type": "stream",
     "text": [
      "Metric val_loss improved by 0.074 >= min_delta = 0. New best score: 3.144\n"
     ]
    },
    {
     "name": "stdout",
     "output_type": "stream",
     "text": [
      "Epoch 5: 100%|██████████| 509/509 [00:11<00:00, 44.06it/s, loss=2.82, v_num=26, train_loss_step=2.800, val_loss=3.090, train_loss_epoch=2.950]"
     ]
    },
    {
     "name": "stderr",
     "output_type": "stream",
     "text": [
      "Metric val_loss improved by 0.058 >= min_delta = 0. New best score: 3.085\n"
     ]
    },
    {
     "name": "stdout",
     "output_type": "stream",
     "text": [
      "Epoch 6: 100%|██████████| 509/509 [00:11<00:00, 44.29it/s, loss=2.8, v_num=26, train_loss_step=3.070, val_loss=3.040, train_loss_epoch=2.890] "
     ]
    },
    {
     "name": "stderr",
     "output_type": "stream",
     "text": [
      "Metric val_loss improved by 0.043 >= min_delta = 0. New best score: 3.042\n"
     ]
    },
    {
     "name": "stdout",
     "output_type": "stream",
     "text": [
      "Epoch 7: 100%|██████████| 509/509 [00:11<00:00, 44.51it/s, loss=2.78, v_num=26, train_loss_step=2.690, val_loss=3.000, train_loss_epoch=2.840]"
     ]
    },
    {
     "name": "stderr",
     "output_type": "stream",
     "text": [
      "Metric val_loss improved by 0.046 >= min_delta = 0. New best score: 2.996\n"
     ]
    },
    {
     "name": "stdout",
     "output_type": "stream",
     "text": [
      "Epoch 8: 100%|██████████| 509/509 [00:11<00:00, 44.46it/s, loss=2.72, v_num=26, train_loss_step=2.790, val_loss=2.970, train_loss_epoch=2.800]"
     ]
    },
    {
     "name": "stderr",
     "output_type": "stream",
     "text": [
      "Metric val_loss improved by 0.024 >= min_delta = 0. New best score: 2.972\n"
     ]
    },
    {
     "name": "stdout",
     "output_type": "stream",
     "text": [
      "Epoch 9: 100%|██████████| 509/509 [00:11<00:00, 44.24it/s, loss=2.7, v_num=26, train_loss_step=2.910, val_loss=2.930, train_loss_epoch=2.770] "
     ]
    },
    {
     "name": "stderr",
     "output_type": "stream",
     "text": [
      "Metric val_loss improved by 0.037 >= min_delta = 0. New best score: 2.935\n"
     ]
    },
    {
     "name": "stdout",
     "output_type": "stream",
     "text": [
      "Epoch 10: 100%|██████████| 509/509 [00:11<00:00, 44.19it/s, loss=2.65, v_num=26, train_loss_step=2.640, val_loss=2.900, train_loss_epoch=2.740]"
     ]
    },
    {
     "name": "stderr",
     "output_type": "stream",
     "text": [
      "Metric val_loss improved by 0.033 >= min_delta = 0. New best score: 2.901\n"
     ]
    },
    {
     "name": "stdout",
     "output_type": "stream",
     "text": [
      "Epoch 11: 100%|██████████| 509/509 [00:11<00:00, 44.30it/s, loss=2.71, v_num=26, train_loss_step=2.880, val_loss=2.890, train_loss_epoch=2.710]"
     ]
    },
    {
     "name": "stderr",
     "output_type": "stream",
     "text": [
      "Metric val_loss improved by 0.011 >= min_delta = 0. New best score: 2.890\n"
     ]
    },
    {
     "name": "stdout",
     "output_type": "stream",
     "text": [
      "Epoch 12: 100%|██████████| 509/509 [00:11<00:00, 44.56it/s, loss=2.64, v_num=26, train_loss_step=2.660, val_loss=2.860, train_loss_epoch=2.690]"
     ]
    },
    {
     "name": "stderr",
     "output_type": "stream",
     "text": [
      "Metric val_loss improved by 0.030 >= min_delta = 0. New best score: 2.860\n"
     ]
    },
    {
     "name": "stdout",
     "output_type": "stream",
     "text": [
      "Epoch 13: 100%|██████████| 509/509 [00:30<00:00, 16.94it/s, loss=2.65, v_num=26, train_loss_step=2.580, val_loss=2.850, train_loss_epoch=2.670]"
     ]
    },
    {
     "name": "stderr",
     "output_type": "stream",
     "text": [
      "Metric val_loss improved by 0.011 >= min_delta = 0. New best score: 2.848\n"
     ]
    },
    {
     "name": "stdout",
     "output_type": "stream",
     "text": [
      "Epoch 14: 100%|██████████| 509/509 [00:11<00:00, 43.72it/s, loss=2.65, v_num=26, train_loss_step=2.690, val_loss=2.840, train_loss_epoch=2.650]"
     ]
    },
    {
     "name": "stderr",
     "output_type": "stream",
     "text": [
      "Metric val_loss improved by 0.008 >= min_delta = 0. New best score: 2.840\n"
     ]
    },
    {
     "name": "stdout",
     "output_type": "stream",
     "text": [
      "Epoch 15: 100%|██████████| 509/509 [00:11<00:00, 43.75it/s, loss=2.64, v_num=26, train_loss_step=2.460, val_loss=2.820, train_loss_epoch=2.630]"
     ]
    },
    {
     "name": "stderr",
     "output_type": "stream",
     "text": [
      "Metric val_loss improved by 0.016 >= min_delta = 0. New best score: 2.824\n"
     ]
    },
    {
     "name": "stdout",
     "output_type": "stream",
     "text": [
      "Epoch 16: 100%|██████████| 509/509 [00:11<00:00, 43.87it/s, loss=2.59, v_num=26, train_loss_step=2.550, val_loss=2.820, train_loss_epoch=2.620]"
     ]
    },
    {
     "name": "stderr",
     "output_type": "stream",
     "text": [
      "Metric val_loss improved by 0.009 >= min_delta = 0. New best score: 2.815\n"
     ]
    },
    {
     "name": "stdout",
     "output_type": "stream",
     "text": [
      "Epoch 17: 100%|██████████| 509/509 [00:11<00:00, 43.89it/s, loss=2.64, v_num=26, train_loss_step=2.640, val_loss=2.810, train_loss_epoch=2.610]"
     ]
    },
    {
     "name": "stderr",
     "output_type": "stream",
     "text": [
      "Metric val_loss improved by 0.009 >= min_delta = 0. New best score: 2.806\n"
     ]
    },
    {
     "name": "stdout",
     "output_type": "stream",
     "text": [
      "Epoch 18: 100%|██████████| 509/509 [00:11<00:00, 44.09it/s, loss=2.59, v_num=26, train_loss_step=2.550, val_loss=2.780, train_loss_epoch=2.600]"
     ]
    },
    {
     "name": "stderr",
     "output_type": "stream",
     "text": [
      "Metric val_loss improved by 0.022 >= min_delta = 0. New best score: 2.784\n"
     ]
    },
    {
     "name": "stdout",
     "output_type": "stream",
     "text": [
      "Epoch 19: 100%|██████████| 509/509 [00:11<00:00, 44.33it/s, loss=2.61, v_num=26, train_loss_step=2.640, val_loss=2.780, train_loss_epoch=2.590]"
     ]
    },
    {
     "name": "stderr",
     "output_type": "stream",
     "text": [
      "Metric val_loss improved by 0.003 >= min_delta = 0. New best score: 2.782\n"
     ]
    },
    {
     "name": "stdout",
     "output_type": "stream",
     "text": [
      "Epoch 20: 100%|██████████| 509/509 [00:11<00:00, 44.16it/s, loss=2.55, v_num=26, train_loss_step=2.540, val_loss=2.770, train_loss_epoch=2.580]"
     ]
    },
    {
     "name": "stderr",
     "output_type": "stream",
     "text": [
      "Metric val_loss improved by 0.009 >= min_delta = 0. New best score: 2.773\n"
     ]
    },
    {
     "name": "stdout",
     "output_type": "stream",
     "text": [
      "Epoch 23: 100%|██████████| 509/509 [00:11<00:00, 44.30it/s, loss=2.58, v_num=26, train_loss_step=2.410, val_loss=2.770, train_loss_epoch=2.560]"
     ]
    },
    {
     "name": "stderr",
     "output_type": "stream",
     "text": [
      "Metric val_loss improved by 0.004 >= min_delta = 0. New best score: 2.769\n"
     ]
    },
    {
     "name": "stdout",
     "output_type": "stream",
     "text": [
      "Epoch 24: 100%|██████████| 509/509 [00:11<00:00, 44.19it/s, loss=2.57, v_num=26, train_loss_step=2.430, val_loss=2.770, train_loss_epoch=2.550]"
     ]
    },
    {
     "name": "stderr",
     "output_type": "stream",
     "text": [
      "Metric val_loss improved by 0.002 >= min_delta = 0. New best score: 2.766\n"
     ]
    },
    {
     "name": "stdout",
     "output_type": "stream",
     "text": [
      "Epoch 25: 100%|██████████| 509/509 [00:11<00:00, 44.12it/s, loss=2.56, v_num=26, train_loss_step=2.510, val_loss=2.760, train_loss_epoch=2.550]"
     ]
    },
    {
     "name": "stderr",
     "output_type": "stream",
     "text": [
      "Metric val_loss improved by 0.009 >= min_delta = 0. New best score: 2.758\n"
     ]
    },
    {
     "name": "stdout",
     "output_type": "stream",
     "text": [
      "Epoch 28: 100%|██████████| 509/509 [00:11<00:00, 43.95it/s, loss=2.55, v_num=26, train_loss_step=2.550, val_loss=2.750, train_loss_epoch=2.530]"
     ]
    },
    {
     "name": "stderr",
     "output_type": "stream",
     "text": [
      "Metric val_loss improved by 0.008 >= min_delta = 0. New best score: 2.750\n"
     ]
    },
    {
     "name": "stdout",
     "output_type": "stream",
     "text": [
      "Epoch 29: 100%|██████████| 509/509 [00:11<00:00, 43.76it/s, loss=2.51, v_num=26, train_loss_step=2.490, val_loss=2.760, train_loss_epoch=2.520]"
     ]
    },
    {
     "name": "stderr",
     "output_type": "stream",
     "text": [
      "`Trainer.fit` stopped: `max_epochs=30` reached.\n"
     ]
    },
    {
     "name": "stdout",
     "output_type": "stream",
     "text": [
      "Epoch 29: 100%|██████████| 509/509 [00:11<00:00, 43.74it/s, loss=2.51, v_num=26, train_loss_step=2.490, val_loss=2.760, train_loss_epoch=2.520]"
     ]
    },
    {
     "name": "stderr",
     "output_type": "stream",
     "text": [
      "\u001b[32m[I 2024-03-28 15:02:05,072]\u001b[0m Trial 26 finished with value: 33.0241584777832 and parameters: {'neu': 110, 'lay': 1, 'bat': 160, 'lr': 0.0010942206861161389, 'dropout': 0.2}. Best is trial 2 with value: 32.41532897949219.\u001b[0m\n"
     ]
    },
    {
     "name": "stdout",
     "output_type": "stream",
     "text": [
      "\n"
     ]
    },
    {
     "name": "stderr",
     "output_type": "stream",
     "text": [
      "GPU available: True (cuda), used: True\n",
      "TPU available: False, using: 0 TPU cores\n",
      "IPU available: False, using: 0 IPUs\n",
      "HPU available: False, using: 0 HPUs\n",
      "`Trainer(limit_train_batches=1.0)` was configured so 100% of the batches per epoch will be used..\n",
      "`Trainer(limit_val_batches=1.0)` was configured so 100% of the batches will be used..\n",
      "LOCAL_RANK: 0 - CUDA_VISIBLE_DEVICES: [0]\n",
      "\n",
      "  | Name                   | Type                             | Params\n",
      "----------------------------------------------------------------------------\n",
      "0 | loss                   | NegativeBinomialDistributionLoss | 0     \n",
      "1 | logging_metrics        | ModuleList                       | 0     \n",
      "2 | embeddings             | MultiEmbedding                   | 787   \n",
      "3 | rnn                    | LSTM                             | 6.1 M \n",
      "4 | distribution_projector | Linear                           | 822   \n",
      "----------------------------------------------------------------------------\n",
      "6.1 M     Trainable params\n",
      "0         Non-trainable params\n",
      "6.1 M     Total params\n",
      "24.488    Total estimated model params size (MB)\n"
     ]
    },
    {
     "name": "stdout",
     "output_type": "stream",
     "text": [
      "Epoch 0: 100%|██████████| 170/170 [00:09<00:00, 17.60it/s, loss=3.96, v_num=27, train_loss_step=3.970, val_loss=4.110]"
     ]
    },
    {
     "name": "stderr",
     "output_type": "stream",
     "text": [
      "Metric val_loss improved. New best score: 4.111\n"
     ]
    },
    {
     "name": "stdout",
     "output_type": "stream",
     "text": [
      "Epoch 1: 100%|██████████| 170/170 [00:09<00:00, 17.59it/s, loss=3.58, v_num=27, train_loss_step=3.480, val_loss=3.750, train_loss_epoch=12.50]"
     ]
    },
    {
     "name": "stderr",
     "output_type": "stream",
     "text": [
      "Metric val_loss improved by 0.365 >= min_delta = 0. New best score: 3.746\n"
     ]
    },
    {
     "name": "stdout",
     "output_type": "stream",
     "text": [
      "Epoch 2: 100%|██████████| 170/170 [00:09<00:00, 17.60it/s, loss=2.89, v_num=27, train_loss_step=2.830, val_loss=3.110, train_loss_epoch=3.800]"
     ]
    },
    {
     "name": "stderr",
     "output_type": "stream",
     "text": [
      "Metric val_loss improved by 0.641 >= min_delta = 0. New best score: 3.105\n"
     ]
    },
    {
     "name": "stdout",
     "output_type": "stream",
     "text": [
      "Epoch 3: 100%|██████████| 170/170 [00:09<00:00, 17.54it/s, loss=2.83, v_num=27, train_loss_step=2.900, val_loss=3.000, train_loss_epoch=3.110]"
     ]
    },
    {
     "name": "stderr",
     "output_type": "stream",
     "text": [
      "Metric val_loss improved by 0.107 >= min_delta = 0. New best score: 2.998\n"
     ]
    },
    {
     "name": "stdout",
     "output_type": "stream",
     "text": [
      "Epoch 5: 100%|██████████| 170/170 [00:09<00:00, 17.56it/s, loss=2.72, v_num=27, train_loss_step=2.790, val_loss=2.910, train_loss_epoch=2.790]"
     ]
    },
    {
     "name": "stderr",
     "output_type": "stream",
     "text": [
      "Metric val_loss improved by 0.092 >= min_delta = 0. New best score: 2.906\n"
     ]
    },
    {
     "name": "stdout",
     "output_type": "stream",
     "text": [
      "Epoch 6: 100%|██████████| 170/170 [00:09<00:00, 17.54it/s, loss=2.67, v_num=27, train_loss_step=2.870, val_loss=2.900, train_loss_epoch=2.740]"
     ]
    },
    {
     "name": "stderr",
     "output_type": "stream",
     "text": [
      "Metric val_loss improved by 0.007 >= min_delta = 0. New best score: 2.900\n"
     ]
    },
    {
     "name": "stdout",
     "output_type": "stream",
     "text": [
      "Epoch 7: 100%|██████████| 170/170 [00:09<00:00, 17.62it/s, loss=2.66, v_num=27, train_loss_step=2.750, val_loss=2.870, train_loss_epoch=2.700]"
     ]
    },
    {
     "name": "stderr",
     "output_type": "stream",
     "text": [
      "Metric val_loss improved by 0.029 >= min_delta = 0. New best score: 2.871\n"
     ]
    },
    {
     "name": "stdout",
     "output_type": "stream",
     "text": [
      "Epoch 8: 100%|██████████| 170/170 [00:09<00:00, 17.60it/s, loss=2.67, v_num=27, train_loss_step=2.660, val_loss=2.820, train_loss_epoch=2.670]"
     ]
    },
    {
     "name": "stderr",
     "output_type": "stream",
     "text": [
      "Metric val_loss improved by 0.052 >= min_delta = 0. New best score: 2.819\n"
     ]
    },
    {
     "name": "stdout",
     "output_type": "stream",
     "text": [
      "Epoch 9: 100%|██████████| 170/170 [00:09<00:00, 17.58it/s, loss=2.64, v_num=27, train_loss_step=2.690, val_loss=2.820, train_loss_epoch=2.660]"
     ]
    },
    {
     "name": "stderr",
     "output_type": "stream",
     "text": [
      "Metric val_loss improved by 0.003 >= min_delta = 0. New best score: 2.816\n"
     ]
    },
    {
     "name": "stdout",
     "output_type": "stream",
     "text": [
      "Epoch 10: 100%|██████████| 170/170 [00:09<00:00, 17.54it/s, loss=2.62, v_num=27, train_loss_step=2.580, val_loss=2.810, train_loss_epoch=2.640]"
     ]
    },
    {
     "name": "stderr",
     "output_type": "stream",
     "text": [
      "Metric val_loss improved by 0.008 >= min_delta = 0. New best score: 2.807\n"
     ]
    },
    {
     "name": "stdout",
     "output_type": "stream",
     "text": [
      "Epoch 11: 100%|██████████| 170/170 [00:09<00:00, 17.57it/s, loss=2.61, v_num=27, train_loss_step=2.580, val_loss=2.780, train_loss_epoch=2.620]"
     ]
    },
    {
     "name": "stderr",
     "output_type": "stream",
     "text": [
      "Metric val_loss improved by 0.026 >= min_delta = 0. New best score: 2.781\n"
     ]
    },
    {
     "name": "stdout",
     "output_type": "stream",
     "text": [
      "Epoch 12: 100%|██████████| 170/170 [00:09<00:00, 17.58it/s, loss=2.6, v_num=27, train_loss_step=2.560, val_loss=2.780, train_loss_epoch=2.600] "
     ]
    },
    {
     "name": "stderr",
     "output_type": "stream",
     "text": [
      "Metric val_loss improved by 0.001 >= min_delta = 0. New best score: 2.781\n"
     ]
    },
    {
     "name": "stdout",
     "output_type": "stream",
     "text": [
      "Epoch 14: 100%|██████████| 170/170 [00:09<00:00, 17.63it/s, loss=2.56, v_num=27, train_loss_step=2.700, val_loss=2.750, train_loss_epoch=2.580]"
     ]
    },
    {
     "name": "stderr",
     "output_type": "stream",
     "text": [
      "Metric val_loss improved by 0.026 >= min_delta = 0. New best score: 2.754\n"
     ]
    },
    {
     "name": "stdout",
     "output_type": "stream",
     "text": [
      "Epoch 16: 100%|██████████| 170/170 [00:09<00:00, 17.55it/s, loss=2.55, v_num=27, train_loss_step=2.590, val_loss=2.750, train_loss_epoch=2.570]"
     ]
    },
    {
     "name": "stderr",
     "output_type": "stream",
     "text": [
      "Metric val_loss improved by 0.007 >= min_delta = 0. New best score: 2.747\n"
     ]
    },
    {
     "name": "stdout",
     "output_type": "stream",
     "text": [
      "Epoch 17: 100%|██████████| 170/170 [00:24<00:00,  6.92it/s, loss=2.56, v_num=27, train_loss_step=2.550, val_loss=2.740, train_loss_epoch=2.560]"
     ]
    },
    {
     "name": "stderr",
     "output_type": "stream",
     "text": [
      "Metric val_loss improved by 0.012 >= min_delta = 0. New best score: 2.735\n"
     ]
    },
    {
     "name": "stdout",
     "output_type": "stream",
     "text": [
      "Epoch 22: 100%|██████████| 170/170 [00:09<00:00, 17.53it/s, loss=2.51, v_num=27, train_loss_step=2.500, val_loss=2.760, train_loss_epoch=2.530]"
     ]
    },
    {
     "name": "stderr",
     "output_type": "stream",
     "text": [
      "Monitored metric val_loss did not improve in the last 5 records. Best score: 2.735. Signaling Trainer to stop.\n"
     ]
    },
    {
     "name": "stdout",
     "output_type": "stream",
     "text": [
      "Epoch 22: 100%|██████████| 170/170 [00:09<00:00, 17.31it/s, loss=2.51, v_num=27, train_loss_step=2.500, val_loss=2.760, train_loss_epoch=2.520]\n"
     ]
    },
    {
     "name": "stderr",
     "output_type": "stream",
     "text": [
      "\u001b[32m[I 2024-03-28 15:06:09,142]\u001b[0m Trial 27 finished with value: 32.705772399902344 and parameters: {'neu': 410, 'lay': 5, 'bat': 480, 'lr': 0.00409213222310924, 'dropout': 0.0}. Best is trial 2 with value: 32.41532897949219.\u001b[0m\n",
      "GPU available: True (cuda), used: True\n",
      "TPU available: False, using: 0 TPU cores\n",
      "IPU available: False, using: 0 IPUs\n",
      "HPU available: False, using: 0 HPUs\n",
      "`Trainer(limit_train_batches=1.0)` was configured so 100% of the batches per epoch will be used..\n",
      "`Trainer(limit_val_batches=1.0)` was configured so 100% of the batches will be used..\n",
      "LOCAL_RANK: 0 - CUDA_VISIBLE_DEVICES: [0]\n",
      "\n",
      "  | Name                   | Type                             | Params\n",
      "----------------------------------------------------------------------------\n",
      "0 | loss                   | NegativeBinomialDistributionLoss | 0     \n",
      "1 | logging_metrics        | ModuleList                       | 0     \n",
      "2 | embeddings             | MultiEmbedding                   | 787   \n",
      "3 | rnn                    | LSTM                             | 2.3 M \n",
      "4 | distribution_projector | Linear                           | 422   \n",
      "----------------------------------------------------------------------------\n",
      "2.3 M     Trainable params\n",
      "0         Non-trainable params\n",
      "2.3 M     Total params\n",
      "9.332     Total estimated model params size (MB)\n"
     ]
    },
    {
     "name": "stdout",
     "output_type": "stream",
     "text": [
      "Epoch 0: 100%|██████████| 318/318 [00:10<00:00, 30.07it/s, loss=3.91, v_num=28, train_loss_step=4.060, val_loss=4.090]"
     ]
    },
    {
     "name": "stderr",
     "output_type": "stream",
     "text": [
      "Metric val_loss improved. New best score: 4.089\n"
     ]
    },
    {
     "name": "stdout",
     "output_type": "stream",
     "text": [
      "Epoch 2: 100%|██████████| 318/318 [00:10<00:00, 29.89it/s, loss=3.92, v_num=28, train_loss_step=3.950, val_loss=4.090, train_loss_epoch=3.930]"
     ]
    },
    {
     "name": "stderr",
     "output_type": "stream",
     "text": [
      "Metric val_loss improved by 0.000 >= min_delta = 0. New best score: 4.089\n"
     ]
    },
    {
     "name": "stdout",
     "output_type": "stream",
     "text": [
      "Epoch 4: 100%|██████████| 318/318 [00:10<00:00, 29.89it/s, loss=3.67, v_num=28, train_loss_step=3.690, val_loss=3.700, train_loss_epoch=3.930]"
     ]
    },
    {
     "name": "stderr",
     "output_type": "stream",
     "text": [
      "Metric val_loss improved by 0.393 >= min_delta = 0. New best score: 3.697\n"
     ]
    },
    {
     "name": "stdout",
     "output_type": "stream",
     "text": [
      "Epoch 5: 100%|██████████| 318/318 [00:10<00:00, 29.68it/s, loss=2.88, v_num=28, train_loss_step=2.640, val_loss=2.970, train_loss_epoch=3.880]"
     ]
    },
    {
     "name": "stderr",
     "output_type": "stream",
     "text": [
      "Metric val_loss improved by 0.728 >= min_delta = 0. New best score: 2.968\n"
     ]
    },
    {
     "name": "stdout",
     "output_type": "stream",
     "text": [
      "Epoch 6: 100%|██████████| 318/318 [00:10<00:00, 29.80it/s, loss=2.76, v_num=28, train_loss_step=2.750, val_loss=2.910, train_loss_epoch=3.070]"
     ]
    },
    {
     "name": "stderr",
     "output_type": "stream",
     "text": [
      "Metric val_loss improved by 0.060 >= min_delta = 0. New best score: 2.908\n"
     ]
    },
    {
     "name": "stdout",
     "output_type": "stream",
     "text": [
      "Epoch 7: 100%|██████████| 318/318 [00:10<00:00, 29.62it/s, loss=2.65, v_num=28, train_loss_step=2.640, val_loss=2.890, train_loss_epoch=2.740]"
     ]
    },
    {
     "name": "stderr",
     "output_type": "stream",
     "text": [
      "Metric val_loss improved by 0.017 >= min_delta = 0. New best score: 2.891\n"
     ]
    },
    {
     "name": "stdout",
     "output_type": "stream",
     "text": [
      "Epoch 8: 100%|██████████| 318/318 [00:10<00:00, 29.72it/s, loss=2.68, v_num=28, train_loss_step=2.660, val_loss=2.780, train_loss_epoch=2.680]"
     ]
    },
    {
     "name": "stderr",
     "output_type": "stream",
     "text": [
      "Metric val_loss improved by 0.113 >= min_delta = 0. New best score: 2.778\n"
     ]
    },
    {
     "name": "stdout",
     "output_type": "stream",
     "text": [
      "Epoch 13: 100%|██████████| 318/318 [00:10<00:00, 29.82it/s, loss=2.63, v_num=28, train_loss_step=2.590, val_loss=2.770, train_loss_epoch=2.610]"
     ]
    },
    {
     "name": "stderr",
     "output_type": "stream",
     "text": [
      "Metric val_loss improved by 0.008 >= min_delta = 0. New best score: 2.769\n"
     ]
    },
    {
     "name": "stdout",
     "output_type": "stream",
     "text": [
      "Epoch 16: 100%|██████████| 318/318 [00:10<00:00, 29.38it/s, loss=2.61, v_num=28, train_loss_step=2.610, val_loss=2.740, train_loss_epoch=2.600]"
     ]
    },
    {
     "name": "stderr",
     "output_type": "stream",
     "text": [
      "Metric val_loss improved by 0.025 >= min_delta = 0. New best score: 2.744\n"
     ]
    },
    {
     "name": "stdout",
     "output_type": "stream",
     "text": [
      "Epoch 17: 100%|██████████| 318/318 [00:11<00:00, 27.94it/s, loss=2.56, v_num=28, train_loss_step=2.770, val_loss=2.740, train_loss_epoch=2.590]"
     ]
    },
    {
     "name": "stderr",
     "output_type": "stream",
     "text": [
      "Metric val_loss improved by 0.000 >= min_delta = 0. New best score: 2.744\n"
     ]
    },
    {
     "name": "stdout",
     "output_type": "stream",
     "text": [
      "Epoch 22: 100%|██████████| 318/318 [00:16<00:00, 19.40it/s, loss=2.59, v_num=28, train_loss_step=2.570, val_loss=2.750, train_loss_epoch=2.580]"
     ]
    },
    {
     "name": "stderr",
     "output_type": "stream",
     "text": [
      "Monitored metric val_loss did not improve in the last 5 records. Best score: 2.744. Signaling Trainer to stop.\n"
     ]
    },
    {
     "name": "stdout",
     "output_type": "stream",
     "text": [
      "Epoch 22: 100%|██████████| 318/318 [00:16<00:00, 18.88it/s, loss=2.59, v_num=28, train_loss_step=2.570, val_loss=2.750, train_loss_epoch=2.580]"
     ]
    },
    {
     "name": "stderr",
     "output_type": "stream",
     "text": [
      "\u001b[32m[I 2024-03-28 15:18:34,083]\u001b[0m Trial 28 finished with value: 33.01414108276367 and parameters: {'neu': 210, 'lay': 7, 'bat': 256, 'lr': 0.028873485190812002, 'dropout': 0.0}. Best is trial 2 with value: 32.41532897949219.\u001b[0m\n"
     ]
    },
    {
     "name": "stdout",
     "output_type": "stream",
     "text": [
      "\n"
     ]
    },
    {
     "name": "stderr",
     "output_type": "stream",
     "text": [
      "GPU available: True (cuda), used: True\n",
      "TPU available: False, using: 0 TPU cores\n",
      "IPU available: False, using: 0 IPUs\n",
      "HPU available: False, using: 0 HPUs\n",
      "`Trainer(limit_train_batches=1.0)` was configured so 100% of the batches per epoch will be used..\n",
      "`Trainer(limit_val_batches=1.0)` was configured so 100% of the batches will be used..\n",
      "LOCAL_RANK: 0 - CUDA_VISIBLE_DEVICES: [0]\n",
      "\n",
      "  | Name                   | Type                             | Params\n",
      "----------------------------------------------------------------------------\n",
      "0 | loss                   | NegativeBinomialDistributionLoss | 0     \n",
      "1 | logging_metrics        | ModuleList                       | 0     \n",
      "2 | embeddings             | MultiEmbedding                   | 787   \n",
      "3 | rnn                    | LSTM                             | 10.2 M\n",
      "4 | distribution_projector | Linear                           | 1.4 K \n",
      "----------------------------------------------------------------------------\n",
      "10.2 M    Trainable params\n",
      "0         Non-trainable params\n",
      "10.2 M    Total params\n",
      "40.769    Total estimated model params size (MB)\n"
     ]
    },
    {
     "name": "stdout",
     "output_type": "stream",
     "text": [
      "Epoch 0:  42%|████▏     | 1066/2545 [00:24<00:33, 44.42it/s, loss=2.82, v_num=29, train_loss_step=2.830]"
     ]
    }
   ],
   "source": [
    "\"\"\"\n",
    "Full Training Routine\n",
    "with hyperparmeter grid search\n",
    "\n",
    "Load data into TimeSeriesDataSet object\n",
    "\n",
    "for fast development run\n",
    "uncomment fast_dev_run = fdv_steps\n",
    "\n",
    "\"\"\"\n",
    "\n",
    "# early_stop_callback = EarlyStopping(monitor=\"val_loss\", min_delta=1e-4, patience=p, verbose=False, mode=\"min\")\n",
    "lr_logger = LearningRateMonitor()\n",
    "\n",
    "# param_comb_cnt=-1\n",
    "#for neu,lay,bat,lr,enc_len,pred_len,drop,cov_pair,num_ep in product(*[x for x in hparams_grid.values()]):\n",
    "\n",
    "\n",
    "file_path = \"trial_parameters.json\"\n",
    "# Check if the file exists before attempting to delete it\n",
    "if os.path.exists(file_path):\n",
    "    # Delete the file\n",
    "    os.remove(file_path)\n",
    "\n",
    "import json\n",
    "def save_trial_parameters(study, trial):\n",
    "    trial_params = {'trial_num':trial.number ,'trial_params' :trial.params}\n",
    "    with open(\"trial_parameters.json\", \"a\") as f:\n",
    "        json.dump(trial_params, f)\n",
    "        f.write('\\n')\n",
    "\n",
    "\n",
    "def objective(trial): #optuna objective function to find best hyperparameters\n",
    "# minimize the average validation loss\n",
    "\n",
    "  # optuna tries to find best combination given this hyperparameter searchspace\n",
    "\n",
    "  # first start broad\n",
    "  neu = trial.suggest_int(name=\"neu\",low=10,high=1000,step=100,log=False) # number of neurons in lstm cell\n",
    "  lay = trial.suggest_int(name=\"lay\",low=1,high=10,step=2,log=False) # number of lstm layers\n",
    "  bat = trial.suggest_int(name=\"bat\",low=32,high=1024,step=32,log=False) # batch size\n",
    "  lr = trial.suggest_float(name=\"lr\",low=0.00001,high=0.1,log=True) #learning rate, log does not have step\n",
    "  drop = trial.suggest_float(name=\"dropout\",low=0,high=0.8,step=0.2,log=False) # dont use some of the cells to distribute learning across the cells\n",
    "\n",
    "\n",
    "  num_cols_list = numeric_cols\n",
    "  cat_dict = {\"_hour_of_day\": NaNLabelEncoder(add_nan=True).fit(df._hour_of_day),\n",
    "          \"_day_of_week\": NaNLabelEncoder(add_nan=True).fit(df._day_of_week), \"_day_of_month\" : NaNLabelEncoder(add_nan=True).fit(df._day_of_month), \"_day_of_year\" : NaNLabelEncoder(add_nan=True).fit(df._day_of_year),\n",
    "              \"_week_of_year\": NaNLabelEncoder(add_nan=True).fit(df._week_of_year), \"_month_of_year\": NaNLabelEncoder(add_nan=True).fit(df._month_of_year) ,\"_year\": NaNLabelEncoder(add_nan=True).fit(df._year)}\n",
    "  cat_list = [\"_hour_of_day\",\"_day_of_week\",\"_day_of_month\",\"_day_of_year\",\"_week_of_year\",\"_month_of_year\",\"_year\"]\n",
    "  embed_size_dict = {'_hour_of_day':(hour_of_day_nunique+1,5),'_day_of_week':(day_of_week_nunique+1,5),'_day_of_month':(day_of_month_nunique+1,5), '_day_of_year':(day_of_year_nunique+1,8), '_week_of_year':(week_of_year_nunique+1,3), '_month_of_year':(month_of_year_nunique+1,3),'_year':(year_nunique+1,1)}\n",
    "  # ^ converting hour into a 5 dimensional vector, etc etc, day of year = number of unique values in this column + 1, same for week of year, month of year and year\n",
    "\n",
    "  train_dataset = TimeSeriesDataSet(\n",
    "      df[(df['time_idx'].isin(train_time_idx))],\n",
    "      time_idx=\"time_idx\",\n",
    "      target=Target,\n",
    "      categorical_encoders=cat_dict,\n",
    "      group_ids=[\"group\"],\n",
    "      min_encoder_length=encoder_len,\n",
    "      max_encoder_length=encoder_len,\n",
    "      min_prediction_length=pred_len,\n",
    "      max_prediction_length=pred_len,\n",
    "      time_varying_unknown_reals=[Target],\n",
    "      time_varying_known_reals=num_cols_list,\n",
    "      time_varying_known_categoricals=cat_list,\n",
    "      add_relative_time_idx=False,\n",
    "      randomize_length=False,\n",
    "      scalers={},\n",
    "      target_normalizer=TorchNormalizer(method=\"identity\",center=False,transformation=None)\n",
    "    )\n",
    "\n",
    "  val_dataset = TimeSeriesDataSet.from_dataset(train_dataset,df[(df['time_idx'].isin(val_time_idx))], stop_randomization=True, predict=False)\n",
    "  # test_dataset = TimeSeriesDataSet.from_dataset(train_dataset,df[df['time_idx'].isin(test_time_idx)], stop_randomization=True)\n",
    "\n",
    "  train_dataloader = train_dataset.to_dataloader(train=True, batch_size=bat)\n",
    "  val_dataloader = val_dataset.to_dataloader(train=False, batch_size=bat)\n",
    "  # test_dataloader = test_dataset.to_dataloader(train=False, batch_size=bat)\n",
    "\n",
    "  \n",
    "  # trial.set_user_attr(\"num_ep\", num_ep)\n",
    "\n",
    "  early_stop_callback = EarlyStopping(\n",
    "    monitor='val_loss',\n",
    "    min_delta=0,\n",
    "    patience=5,\n",
    "    verbose=True,\n",
    "    mode='min'\n",
    "  )\n",
    "\n",
    "  \n",
    "  \"\"\"\n",
    "  Machine Learning predictions START\n",
    "  1) DeepAR\n",
    "\n",
    "  \"\"\"\n",
    "  trainer = pl.Trainer(\n",
    "      max_epochs=num_epochs,\n",
    "      # accelerator=\"auto\",\n",
    "      #gpus=[0],\n",
    "      accelerator='gpu',\n",
    "      devices=[0],\n",
    "      gradient_clip_val=0.1,\n",
    "      limit_train_batches=1.0,\n",
    "      limit_val_batches=1.0,\n",
    "      # fast_dev_run=fdv_steps,\n",
    "      logger=True,\n",
    "      callbacks=[lr_logger, early_stop_callback],    #, early_stop_callback]\n",
    "      default_root_dir=logs_directory\n",
    "  )\n",
    "\n",
    "\n",
    "  #print(f\"training routing:\\n \\n {trainer}\")\n",
    "  deepar = DeepAR.from_dataset(\n",
    "      train_dataset,\n",
    "      learning_rate=lr,\n",
    "      hidden_size=neu,\n",
    "      rnn_layers=lay,\n",
    "      dropout=drop,\n",
    "      loss=Loss,\n",
    "      log_interval=20,\n",
    "      log_val_interval=6,\n",
    "      log_gradient_flow=False,\n",
    "      embedding_sizes=embed_size_dict\n",
    "      # reduce_on_plateau_patience=3,\n",
    "  )\n",
    "\n",
    "  #print(f\"Number of parameters in network: {deepar.size()/1e3:.1f}k\")\n",
    "  # print(f\"Model :\\n \\n {deepar}\")\n",
    "  torch.set_num_threads(10)\n",
    "  trainer.fit(\n",
    "      deepar,\n",
    "      train_dataloaders=train_dataloader,\n",
    "      val_dataloaders=val_dataloader,\n",
    "  )\n",
    "\n",
    "  val_wmape = trainer.callback_metrics['val_WMAPE'].item()\n",
    "  # val_wmape = trainer.callback_metrics['val_WMAPE'].item()\n",
    "  trial.report(val_wmape, num_epochs)\n",
    "  # trial.report(val_wmape, num_ep)\n",
    "\n",
    "  # Handle pruning based on the intermediate value.\n",
    "  if trial.should_prune():\n",
    "      raise optuna.exceptions.TrialPruned()\n",
    "\n",
    "  return val_wmape #optuna is trying to minimise this <---\n",
    "\n",
    "\n",
    "######### optuna results #####################\n",
    "if __name__ == \"__main__\":\n",
    "\n",
    "  study = optuna.create_study(direction=\"minimize\")\n",
    "  study.optimize(objective, n_trials=num_trials,callbacks=[save_trial_parameters]) # can specify the number of trials to a number less than 960 for example, eg can set n_trials = 100\n",
    "\n",
    "  pruned_trials = study.get_trials(deepcopy=False, states=[TrialState.PRUNED])\n",
    "  complete_trials = study.get_trials(deepcopy=False, states=[TrialState.COMPLETE])\n",
    "\n",
    "  print(\"Study statistics: \")\n",
    "  print(\"  Number of finished trials: \", len(study.trials))\n",
    "  print(\"  Number of pruned trials: \", len(pruned_trials))\n",
    "  print(\"  Number of complete trials: \", len(complete_trials))\n",
    "\n",
    "  print(\"Best trial:\")\n",
    "  trial = study.best_trial\n",
    "  # best_num_ep = study.trials[trial.number].user_attrs['num_ep']\n",
    "\n",
    "  print(\"  Value: \", trial.value)\n",
    "\n",
    "  print(\"  Params: \")\n",
    "  for key, value in trial.params.items():\n",
    "      print(\"    {}: {}\".format(key, value))\n",
    "########## optuna results #####################"
   ]
  },
  {
   "cell_type": "code",
   "execution_count": null,
   "metadata": {},
   "outputs": [
    {
     "name": "stdout",
     "output_type": "stream",
     "text": [
      "Study statistics: \n",
      "  Number of finished trials:  3\n",
      "  Number of pruned trials:  0\n",
      "  Number of complete trials:  3\n",
      "  Best trial: \n",
      "  Value:  59.743770599365234\n",
      "  Params: \n",
      "    neu: 610\n",
      "    lay: 5\n",
      "    bat: 320\n",
      "    lr: 0.001488627874304404\n",
      "    dropout: 0.6000000000000001\n"
     ]
    }
   ],
   "source": [
    "print(\"Study statistics: \")\n",
    "print(\"  Number of finished trials: \", len(study.trials))\n",
    "print(\"  Number of pruned trials: \", len(pruned_trials))\n",
    "print(\"  Number of complete trials: \", len(complete_trials))\n",
    "\n",
    "print(\"  Best trial: \")\n",
    "print(\"  Value: \", trial.value)\n",
    "\n",
    "print(\"  Params: \")\n",
    "for key, value in trial.params.items():\n",
    "    print(\"    {}: {}\".format(key, value))\n",
    "\n",
    "# print(\"Best number of epochs: \", best_num_ep)"
   ]
  },
  {
   "cell_type": "code",
   "execution_count": null,
   "metadata": {},
   "outputs": [
    {
     "data": {
      "application/vnd.plotly.v1+json": {
       "config": {
        "plotlyServerURL": "https://plot.ly"
       },
       "data": [
        {
         "dimensions": [
          {
           "label": "Objective Value",
           "range": [
            59.743770599365234,
            85.4263916015625
           ],
           "values": [
            83.14408874511719,
            85.4263916015625,
            59.743770599365234
           ]
          },
          {
           "label": "bat",
           "range": [
            320,
            704
           ],
           "values": [
            704,
            512,
            320
           ]
          },
          {
           "label": "dropout",
           "range": [
            0.6000000000000001,
            0.6000000000000001
           ],
           "values": [
            0.6000000000000001,
            0.6000000000000001,
            0.6000000000000001
           ]
          },
          {
           "label": "lay",
           "range": [
            3,
            7
           ],
           "values": [
            7,
            3,
            5
           ]
          },
          {
           "label": "lr",
           "range": [
            -3.9143085132509654,
            -2.827213853177514
           ],
           "ticktext": [
            "0.000122",
            "0.001",
            "0.00149"
           ],
           "tickvals": [
            -3.9143085132509654,
            -3,
            -2.827213853177514
           ],
           "values": [
            -3.9143085132509654,
            -3.3061673241695644,
            -2.827213853177514
           ]
          },
          {
           "label": "neu",
           "range": [
            10,
            710
           ],
           "values": [
            710,
            10,
            610
           ]
          }
         ],
         "labelangle": 30,
         "labelside": "bottom",
         "line": {
          "color": [
           83.14408874511719,
           85.4263916015625,
           59.743770599365234
          ],
          "colorbar": {
           "title": {
            "text": "Objective Value"
           }
          },
          "colorscale": [
           [
            0,
            "rgb(247,251,255)"
           ],
           [
            0.125,
            "rgb(222,235,247)"
           ],
           [
            0.25,
            "rgb(198,219,239)"
           ],
           [
            0.375,
            "rgb(158,202,225)"
           ],
           [
            0.5,
            "rgb(107,174,214)"
           ],
           [
            0.625,
            "rgb(66,146,198)"
           ],
           [
            0.75,
            "rgb(33,113,181)"
           ],
           [
            0.875,
            "rgb(8,81,156)"
           ],
           [
            1,
            "rgb(8,48,107)"
           ]
          ],
          "reversescale": true,
          "showscale": true
         },
         "type": "parcoords"
        }
       ],
       "layout": {
        "template": {
         "data": {
          "bar": [
           {
            "error_x": {
             "color": "#2a3f5f"
            },
            "error_y": {
             "color": "#2a3f5f"
            },
            "marker": {
             "line": {
              "color": "#E5ECF6",
              "width": 0.5
             },
             "pattern": {
              "fillmode": "overlay",
              "size": 10,
              "solidity": 0.2
             }
            },
            "type": "bar"
           }
          ],
          "barpolar": [
           {
            "marker": {
             "line": {
              "color": "#E5ECF6",
              "width": 0.5
             },
             "pattern": {
              "fillmode": "overlay",
              "size": 10,
              "solidity": 0.2
             }
            },
            "type": "barpolar"
           }
          ],
          "carpet": [
           {
            "aaxis": {
             "endlinecolor": "#2a3f5f",
             "gridcolor": "white",
             "linecolor": "white",
             "minorgridcolor": "white",
             "startlinecolor": "#2a3f5f"
            },
            "baxis": {
             "endlinecolor": "#2a3f5f",
             "gridcolor": "white",
             "linecolor": "white",
             "minorgridcolor": "white",
             "startlinecolor": "#2a3f5f"
            },
            "type": "carpet"
           }
          ],
          "choropleth": [
           {
            "colorbar": {
             "outlinewidth": 0,
             "ticks": ""
            },
            "type": "choropleth"
           }
          ],
          "contour": [
           {
            "colorbar": {
             "outlinewidth": 0,
             "ticks": ""
            },
            "colorscale": [
             [
              0,
              "#0d0887"
             ],
             [
              0.1111111111111111,
              "#46039f"
             ],
             [
              0.2222222222222222,
              "#7201a8"
             ],
             [
              0.3333333333333333,
              "#9c179e"
             ],
             [
              0.4444444444444444,
              "#bd3786"
             ],
             [
              0.5555555555555556,
              "#d8576b"
             ],
             [
              0.6666666666666666,
              "#ed7953"
             ],
             [
              0.7777777777777778,
              "#fb9f3a"
             ],
             [
              0.8888888888888888,
              "#fdca26"
             ],
             [
              1,
              "#f0f921"
             ]
            ],
            "type": "contour"
           }
          ],
          "contourcarpet": [
           {
            "colorbar": {
             "outlinewidth": 0,
             "ticks": ""
            },
            "type": "contourcarpet"
           }
          ],
          "heatmap": [
           {
            "colorbar": {
             "outlinewidth": 0,
             "ticks": ""
            },
            "colorscale": [
             [
              0,
              "#0d0887"
             ],
             [
              0.1111111111111111,
              "#46039f"
             ],
             [
              0.2222222222222222,
              "#7201a8"
             ],
             [
              0.3333333333333333,
              "#9c179e"
             ],
             [
              0.4444444444444444,
              "#bd3786"
             ],
             [
              0.5555555555555556,
              "#d8576b"
             ],
             [
              0.6666666666666666,
              "#ed7953"
             ],
             [
              0.7777777777777778,
              "#fb9f3a"
             ],
             [
              0.8888888888888888,
              "#fdca26"
             ],
             [
              1,
              "#f0f921"
             ]
            ],
            "type": "heatmap"
           }
          ],
          "heatmapgl": [
           {
            "colorbar": {
             "outlinewidth": 0,
             "ticks": ""
            },
            "colorscale": [
             [
              0,
              "#0d0887"
             ],
             [
              0.1111111111111111,
              "#46039f"
             ],
             [
              0.2222222222222222,
              "#7201a8"
             ],
             [
              0.3333333333333333,
              "#9c179e"
             ],
             [
              0.4444444444444444,
              "#bd3786"
             ],
             [
              0.5555555555555556,
              "#d8576b"
             ],
             [
              0.6666666666666666,
              "#ed7953"
             ],
             [
              0.7777777777777778,
              "#fb9f3a"
             ],
             [
              0.8888888888888888,
              "#fdca26"
             ],
             [
              1,
              "#f0f921"
             ]
            ],
            "type": "heatmapgl"
           }
          ],
          "histogram": [
           {
            "marker": {
             "pattern": {
              "fillmode": "overlay",
              "size": 10,
              "solidity": 0.2
             }
            },
            "type": "histogram"
           }
          ],
          "histogram2d": [
           {
            "colorbar": {
             "outlinewidth": 0,
             "ticks": ""
            },
            "colorscale": [
             [
              0,
              "#0d0887"
             ],
             [
              0.1111111111111111,
              "#46039f"
             ],
             [
              0.2222222222222222,
              "#7201a8"
             ],
             [
              0.3333333333333333,
              "#9c179e"
             ],
             [
              0.4444444444444444,
              "#bd3786"
             ],
             [
              0.5555555555555556,
              "#d8576b"
             ],
             [
              0.6666666666666666,
              "#ed7953"
             ],
             [
              0.7777777777777778,
              "#fb9f3a"
             ],
             [
              0.8888888888888888,
              "#fdca26"
             ],
             [
              1,
              "#f0f921"
             ]
            ],
            "type": "histogram2d"
           }
          ],
          "histogram2dcontour": [
           {
            "colorbar": {
             "outlinewidth": 0,
             "ticks": ""
            },
            "colorscale": [
             [
              0,
              "#0d0887"
             ],
             [
              0.1111111111111111,
              "#46039f"
             ],
             [
              0.2222222222222222,
              "#7201a8"
             ],
             [
              0.3333333333333333,
              "#9c179e"
             ],
             [
              0.4444444444444444,
              "#bd3786"
             ],
             [
              0.5555555555555556,
              "#d8576b"
             ],
             [
              0.6666666666666666,
              "#ed7953"
             ],
             [
              0.7777777777777778,
              "#fb9f3a"
             ],
             [
              0.8888888888888888,
              "#fdca26"
             ],
             [
              1,
              "#f0f921"
             ]
            ],
            "type": "histogram2dcontour"
           }
          ],
          "mesh3d": [
           {
            "colorbar": {
             "outlinewidth": 0,
             "ticks": ""
            },
            "type": "mesh3d"
           }
          ],
          "parcoords": [
           {
            "line": {
             "colorbar": {
              "outlinewidth": 0,
              "ticks": ""
             }
            },
            "type": "parcoords"
           }
          ],
          "pie": [
           {
            "automargin": true,
            "type": "pie"
           }
          ],
          "scatter": [
           {
            "fillpattern": {
             "fillmode": "overlay",
             "size": 10,
             "solidity": 0.2
            },
            "type": "scatter"
           }
          ],
          "scatter3d": [
           {
            "line": {
             "colorbar": {
              "outlinewidth": 0,
              "ticks": ""
             }
            },
            "marker": {
             "colorbar": {
              "outlinewidth": 0,
              "ticks": ""
             }
            },
            "type": "scatter3d"
           }
          ],
          "scattercarpet": [
           {
            "marker": {
             "colorbar": {
              "outlinewidth": 0,
              "ticks": ""
             }
            },
            "type": "scattercarpet"
           }
          ],
          "scattergeo": [
           {
            "marker": {
             "colorbar": {
              "outlinewidth": 0,
              "ticks": ""
             }
            },
            "type": "scattergeo"
           }
          ],
          "scattergl": [
           {
            "marker": {
             "colorbar": {
              "outlinewidth": 0,
              "ticks": ""
             }
            },
            "type": "scattergl"
           }
          ],
          "scattermapbox": [
           {
            "marker": {
             "colorbar": {
              "outlinewidth": 0,
              "ticks": ""
             }
            },
            "type": "scattermapbox"
           }
          ],
          "scatterpolar": [
           {
            "marker": {
             "colorbar": {
              "outlinewidth": 0,
              "ticks": ""
             }
            },
            "type": "scatterpolar"
           }
          ],
          "scatterpolargl": [
           {
            "marker": {
             "colorbar": {
              "outlinewidth": 0,
              "ticks": ""
             }
            },
            "type": "scatterpolargl"
           }
          ],
          "scatterternary": [
           {
            "marker": {
             "colorbar": {
              "outlinewidth": 0,
              "ticks": ""
             }
            },
            "type": "scatterternary"
           }
          ],
          "surface": [
           {
            "colorbar": {
             "outlinewidth": 0,
             "ticks": ""
            },
            "colorscale": [
             [
              0,
              "#0d0887"
             ],
             [
              0.1111111111111111,
              "#46039f"
             ],
             [
              0.2222222222222222,
              "#7201a8"
             ],
             [
              0.3333333333333333,
              "#9c179e"
             ],
             [
              0.4444444444444444,
              "#bd3786"
             ],
             [
              0.5555555555555556,
              "#d8576b"
             ],
             [
              0.6666666666666666,
              "#ed7953"
             ],
             [
              0.7777777777777778,
              "#fb9f3a"
             ],
             [
              0.8888888888888888,
              "#fdca26"
             ],
             [
              1,
              "#f0f921"
             ]
            ],
            "type": "surface"
           }
          ],
          "table": [
           {
            "cells": {
             "fill": {
              "color": "#EBF0F8"
             },
             "line": {
              "color": "white"
             }
            },
            "header": {
             "fill": {
              "color": "#C8D4E3"
             },
             "line": {
              "color": "white"
             }
            },
            "type": "table"
           }
          ]
         },
         "layout": {
          "annotationdefaults": {
           "arrowcolor": "#2a3f5f",
           "arrowhead": 0,
           "arrowwidth": 1
          },
          "autotypenumbers": "strict",
          "coloraxis": {
           "colorbar": {
            "outlinewidth": 0,
            "ticks": ""
           }
          },
          "colorscale": {
           "diverging": [
            [
             0,
             "#8e0152"
            ],
            [
             0.1,
             "#c51b7d"
            ],
            [
             0.2,
             "#de77ae"
            ],
            [
             0.3,
             "#f1b6da"
            ],
            [
             0.4,
             "#fde0ef"
            ],
            [
             0.5,
             "#f7f7f7"
            ],
            [
             0.6,
             "#e6f5d0"
            ],
            [
             0.7,
             "#b8e186"
            ],
            [
             0.8,
             "#7fbc41"
            ],
            [
             0.9,
             "#4d9221"
            ],
            [
             1,
             "#276419"
            ]
           ],
           "sequential": [
            [
             0,
             "#0d0887"
            ],
            [
             0.1111111111111111,
             "#46039f"
            ],
            [
             0.2222222222222222,
             "#7201a8"
            ],
            [
             0.3333333333333333,
             "#9c179e"
            ],
            [
             0.4444444444444444,
             "#bd3786"
            ],
            [
             0.5555555555555556,
             "#d8576b"
            ],
            [
             0.6666666666666666,
             "#ed7953"
            ],
            [
             0.7777777777777778,
             "#fb9f3a"
            ],
            [
             0.8888888888888888,
             "#fdca26"
            ],
            [
             1,
             "#f0f921"
            ]
           ],
           "sequentialminus": [
            [
             0,
             "#0d0887"
            ],
            [
             0.1111111111111111,
             "#46039f"
            ],
            [
             0.2222222222222222,
             "#7201a8"
            ],
            [
             0.3333333333333333,
             "#9c179e"
            ],
            [
             0.4444444444444444,
             "#bd3786"
            ],
            [
             0.5555555555555556,
             "#d8576b"
            ],
            [
             0.6666666666666666,
             "#ed7953"
            ],
            [
             0.7777777777777778,
             "#fb9f3a"
            ],
            [
             0.8888888888888888,
             "#fdca26"
            ],
            [
             1,
             "#f0f921"
            ]
           ]
          },
          "colorway": [
           "#636efa",
           "#EF553B",
           "#00cc96",
           "#ab63fa",
           "#FFA15A",
           "#19d3f3",
           "#FF6692",
           "#B6E880",
           "#FF97FF",
           "#FECB52"
          ],
          "font": {
           "color": "#2a3f5f"
          },
          "geo": {
           "bgcolor": "white",
           "lakecolor": "white",
           "landcolor": "#E5ECF6",
           "showlakes": true,
           "showland": true,
           "subunitcolor": "white"
          },
          "hoverlabel": {
           "align": "left"
          },
          "hovermode": "closest",
          "mapbox": {
           "style": "light"
          },
          "paper_bgcolor": "white",
          "plot_bgcolor": "#E5ECF6",
          "polar": {
           "angularaxis": {
            "gridcolor": "white",
            "linecolor": "white",
            "ticks": ""
           },
           "bgcolor": "#E5ECF6",
           "radialaxis": {
            "gridcolor": "white",
            "linecolor": "white",
            "ticks": ""
           }
          },
          "scene": {
           "xaxis": {
            "backgroundcolor": "#E5ECF6",
            "gridcolor": "white",
            "gridwidth": 2,
            "linecolor": "white",
            "showbackground": true,
            "ticks": "",
            "zerolinecolor": "white"
           },
           "yaxis": {
            "backgroundcolor": "#E5ECF6",
            "gridcolor": "white",
            "gridwidth": 2,
            "linecolor": "white",
            "showbackground": true,
            "ticks": "",
            "zerolinecolor": "white"
           },
           "zaxis": {
            "backgroundcolor": "#E5ECF6",
            "gridcolor": "white",
            "gridwidth": 2,
            "linecolor": "white",
            "showbackground": true,
            "ticks": "",
            "zerolinecolor": "white"
           }
          },
          "shapedefaults": {
           "line": {
            "color": "#2a3f5f"
           }
          },
          "ternary": {
           "aaxis": {
            "gridcolor": "white",
            "linecolor": "white",
            "ticks": ""
           },
           "baxis": {
            "gridcolor": "white",
            "linecolor": "white",
            "ticks": ""
           },
           "bgcolor": "#E5ECF6",
           "caxis": {
            "gridcolor": "white",
            "linecolor": "white",
            "ticks": ""
           }
          },
          "title": {
           "x": 0.05
          },
          "xaxis": {
           "automargin": true,
           "gridcolor": "white",
           "linecolor": "white",
           "ticks": "",
           "title": {
            "standoff": 15
           },
           "zerolinecolor": "white",
           "zerolinewidth": 2
          },
          "yaxis": {
           "automargin": true,
           "gridcolor": "white",
           "linecolor": "white",
           "ticks": "",
           "title": {
            "standoff": 15
           },
           "zerolinecolor": "white",
           "zerolinewidth": 2
          }
         }
        },
        "title": {
         "text": "Parallel Coordinate Plot"
        }
       }
      }
     },
     "metadata": {},
     "output_type": "display_data"
    },
    {
     "data": {
      "application/vnd.plotly.v1+json": {
       "config": {
        "plotlyServerURL": "https://plot.ly"
       },
       "data": [
        {
         "mode": "markers",
         "name": "Objective Value",
         "type": "scatter",
         "x": [
          0,
          1,
          2
         ],
         "y": [
          83.14408874511719,
          85.4263916015625,
          59.743770599365234
         ]
        },
        {
         "name": "Best Value",
         "type": "scatter",
         "x": [
          0,
          1,
          2
         ],
         "y": [
          83.14408874511719,
          83.14408874511719,
          59.743770599365234
         ]
        }
       ],
       "layout": {
        "template": {
         "data": {
          "bar": [
           {
            "error_x": {
             "color": "#2a3f5f"
            },
            "error_y": {
             "color": "#2a3f5f"
            },
            "marker": {
             "line": {
              "color": "#E5ECF6",
              "width": 0.5
             },
             "pattern": {
              "fillmode": "overlay",
              "size": 10,
              "solidity": 0.2
             }
            },
            "type": "bar"
           }
          ],
          "barpolar": [
           {
            "marker": {
             "line": {
              "color": "#E5ECF6",
              "width": 0.5
             },
             "pattern": {
              "fillmode": "overlay",
              "size": 10,
              "solidity": 0.2
             }
            },
            "type": "barpolar"
           }
          ],
          "carpet": [
           {
            "aaxis": {
             "endlinecolor": "#2a3f5f",
             "gridcolor": "white",
             "linecolor": "white",
             "minorgridcolor": "white",
             "startlinecolor": "#2a3f5f"
            },
            "baxis": {
             "endlinecolor": "#2a3f5f",
             "gridcolor": "white",
             "linecolor": "white",
             "minorgridcolor": "white",
             "startlinecolor": "#2a3f5f"
            },
            "type": "carpet"
           }
          ],
          "choropleth": [
           {
            "colorbar": {
             "outlinewidth": 0,
             "ticks": ""
            },
            "type": "choropleth"
           }
          ],
          "contour": [
           {
            "colorbar": {
             "outlinewidth": 0,
             "ticks": ""
            },
            "colorscale": [
             [
              0,
              "#0d0887"
             ],
             [
              0.1111111111111111,
              "#46039f"
             ],
             [
              0.2222222222222222,
              "#7201a8"
             ],
             [
              0.3333333333333333,
              "#9c179e"
             ],
             [
              0.4444444444444444,
              "#bd3786"
             ],
             [
              0.5555555555555556,
              "#d8576b"
             ],
             [
              0.6666666666666666,
              "#ed7953"
             ],
             [
              0.7777777777777778,
              "#fb9f3a"
             ],
             [
              0.8888888888888888,
              "#fdca26"
             ],
             [
              1,
              "#f0f921"
             ]
            ],
            "type": "contour"
           }
          ],
          "contourcarpet": [
           {
            "colorbar": {
             "outlinewidth": 0,
             "ticks": ""
            },
            "type": "contourcarpet"
           }
          ],
          "heatmap": [
           {
            "colorbar": {
             "outlinewidth": 0,
             "ticks": ""
            },
            "colorscale": [
             [
              0,
              "#0d0887"
             ],
             [
              0.1111111111111111,
              "#46039f"
             ],
             [
              0.2222222222222222,
              "#7201a8"
             ],
             [
              0.3333333333333333,
              "#9c179e"
             ],
             [
              0.4444444444444444,
              "#bd3786"
             ],
             [
              0.5555555555555556,
              "#d8576b"
             ],
             [
              0.6666666666666666,
              "#ed7953"
             ],
             [
              0.7777777777777778,
              "#fb9f3a"
             ],
             [
              0.8888888888888888,
              "#fdca26"
             ],
             [
              1,
              "#f0f921"
             ]
            ],
            "type": "heatmap"
           }
          ],
          "heatmapgl": [
           {
            "colorbar": {
             "outlinewidth": 0,
             "ticks": ""
            },
            "colorscale": [
             [
              0,
              "#0d0887"
             ],
             [
              0.1111111111111111,
              "#46039f"
             ],
             [
              0.2222222222222222,
              "#7201a8"
             ],
             [
              0.3333333333333333,
              "#9c179e"
             ],
             [
              0.4444444444444444,
              "#bd3786"
             ],
             [
              0.5555555555555556,
              "#d8576b"
             ],
             [
              0.6666666666666666,
              "#ed7953"
             ],
             [
              0.7777777777777778,
              "#fb9f3a"
             ],
             [
              0.8888888888888888,
              "#fdca26"
             ],
             [
              1,
              "#f0f921"
             ]
            ],
            "type": "heatmapgl"
           }
          ],
          "histogram": [
           {
            "marker": {
             "pattern": {
              "fillmode": "overlay",
              "size": 10,
              "solidity": 0.2
             }
            },
            "type": "histogram"
           }
          ],
          "histogram2d": [
           {
            "colorbar": {
             "outlinewidth": 0,
             "ticks": ""
            },
            "colorscale": [
             [
              0,
              "#0d0887"
             ],
             [
              0.1111111111111111,
              "#46039f"
             ],
             [
              0.2222222222222222,
              "#7201a8"
             ],
             [
              0.3333333333333333,
              "#9c179e"
             ],
             [
              0.4444444444444444,
              "#bd3786"
             ],
             [
              0.5555555555555556,
              "#d8576b"
             ],
             [
              0.6666666666666666,
              "#ed7953"
             ],
             [
              0.7777777777777778,
              "#fb9f3a"
             ],
             [
              0.8888888888888888,
              "#fdca26"
             ],
             [
              1,
              "#f0f921"
             ]
            ],
            "type": "histogram2d"
           }
          ],
          "histogram2dcontour": [
           {
            "colorbar": {
             "outlinewidth": 0,
             "ticks": ""
            },
            "colorscale": [
             [
              0,
              "#0d0887"
             ],
             [
              0.1111111111111111,
              "#46039f"
             ],
             [
              0.2222222222222222,
              "#7201a8"
             ],
             [
              0.3333333333333333,
              "#9c179e"
             ],
             [
              0.4444444444444444,
              "#bd3786"
             ],
             [
              0.5555555555555556,
              "#d8576b"
             ],
             [
              0.6666666666666666,
              "#ed7953"
             ],
             [
              0.7777777777777778,
              "#fb9f3a"
             ],
             [
              0.8888888888888888,
              "#fdca26"
             ],
             [
              1,
              "#f0f921"
             ]
            ],
            "type": "histogram2dcontour"
           }
          ],
          "mesh3d": [
           {
            "colorbar": {
             "outlinewidth": 0,
             "ticks": ""
            },
            "type": "mesh3d"
           }
          ],
          "parcoords": [
           {
            "line": {
             "colorbar": {
              "outlinewidth": 0,
              "ticks": ""
             }
            },
            "type": "parcoords"
           }
          ],
          "pie": [
           {
            "automargin": true,
            "type": "pie"
           }
          ],
          "scatter": [
           {
            "fillpattern": {
             "fillmode": "overlay",
             "size": 10,
             "solidity": 0.2
            },
            "type": "scatter"
           }
          ],
          "scatter3d": [
           {
            "line": {
             "colorbar": {
              "outlinewidth": 0,
              "ticks": ""
             }
            },
            "marker": {
             "colorbar": {
              "outlinewidth": 0,
              "ticks": ""
             }
            },
            "type": "scatter3d"
           }
          ],
          "scattercarpet": [
           {
            "marker": {
             "colorbar": {
              "outlinewidth": 0,
              "ticks": ""
             }
            },
            "type": "scattercarpet"
           }
          ],
          "scattergeo": [
           {
            "marker": {
             "colorbar": {
              "outlinewidth": 0,
              "ticks": ""
             }
            },
            "type": "scattergeo"
           }
          ],
          "scattergl": [
           {
            "marker": {
             "colorbar": {
              "outlinewidth": 0,
              "ticks": ""
             }
            },
            "type": "scattergl"
           }
          ],
          "scattermapbox": [
           {
            "marker": {
             "colorbar": {
              "outlinewidth": 0,
              "ticks": ""
             }
            },
            "type": "scattermapbox"
           }
          ],
          "scatterpolar": [
           {
            "marker": {
             "colorbar": {
              "outlinewidth": 0,
              "ticks": ""
             }
            },
            "type": "scatterpolar"
           }
          ],
          "scatterpolargl": [
           {
            "marker": {
             "colorbar": {
              "outlinewidth": 0,
              "ticks": ""
             }
            },
            "type": "scatterpolargl"
           }
          ],
          "scatterternary": [
           {
            "marker": {
             "colorbar": {
              "outlinewidth": 0,
              "ticks": ""
             }
            },
            "type": "scatterternary"
           }
          ],
          "surface": [
           {
            "colorbar": {
             "outlinewidth": 0,
             "ticks": ""
            },
            "colorscale": [
             [
              0,
              "#0d0887"
             ],
             [
              0.1111111111111111,
              "#46039f"
             ],
             [
              0.2222222222222222,
              "#7201a8"
             ],
             [
              0.3333333333333333,
              "#9c179e"
             ],
             [
              0.4444444444444444,
              "#bd3786"
             ],
             [
              0.5555555555555556,
              "#d8576b"
             ],
             [
              0.6666666666666666,
              "#ed7953"
             ],
             [
              0.7777777777777778,
              "#fb9f3a"
             ],
             [
              0.8888888888888888,
              "#fdca26"
             ],
             [
              1,
              "#f0f921"
             ]
            ],
            "type": "surface"
           }
          ],
          "table": [
           {
            "cells": {
             "fill": {
              "color": "#EBF0F8"
             },
             "line": {
              "color": "white"
             }
            },
            "header": {
             "fill": {
              "color": "#C8D4E3"
             },
             "line": {
              "color": "white"
             }
            },
            "type": "table"
           }
          ]
         },
         "layout": {
          "annotationdefaults": {
           "arrowcolor": "#2a3f5f",
           "arrowhead": 0,
           "arrowwidth": 1
          },
          "autotypenumbers": "strict",
          "coloraxis": {
           "colorbar": {
            "outlinewidth": 0,
            "ticks": ""
           }
          },
          "colorscale": {
           "diverging": [
            [
             0,
             "#8e0152"
            ],
            [
             0.1,
             "#c51b7d"
            ],
            [
             0.2,
             "#de77ae"
            ],
            [
             0.3,
             "#f1b6da"
            ],
            [
             0.4,
             "#fde0ef"
            ],
            [
             0.5,
             "#f7f7f7"
            ],
            [
             0.6,
             "#e6f5d0"
            ],
            [
             0.7,
             "#b8e186"
            ],
            [
             0.8,
             "#7fbc41"
            ],
            [
             0.9,
             "#4d9221"
            ],
            [
             1,
             "#276419"
            ]
           ],
           "sequential": [
            [
             0,
             "#0d0887"
            ],
            [
             0.1111111111111111,
             "#46039f"
            ],
            [
             0.2222222222222222,
             "#7201a8"
            ],
            [
             0.3333333333333333,
             "#9c179e"
            ],
            [
             0.4444444444444444,
             "#bd3786"
            ],
            [
             0.5555555555555556,
             "#d8576b"
            ],
            [
             0.6666666666666666,
             "#ed7953"
            ],
            [
             0.7777777777777778,
             "#fb9f3a"
            ],
            [
             0.8888888888888888,
             "#fdca26"
            ],
            [
             1,
             "#f0f921"
            ]
           ],
           "sequentialminus": [
            [
             0,
             "#0d0887"
            ],
            [
             0.1111111111111111,
             "#46039f"
            ],
            [
             0.2222222222222222,
             "#7201a8"
            ],
            [
             0.3333333333333333,
             "#9c179e"
            ],
            [
             0.4444444444444444,
             "#bd3786"
            ],
            [
             0.5555555555555556,
             "#d8576b"
            ],
            [
             0.6666666666666666,
             "#ed7953"
            ],
            [
             0.7777777777777778,
             "#fb9f3a"
            ],
            [
             0.8888888888888888,
             "#fdca26"
            ],
            [
             1,
             "#f0f921"
            ]
           ]
          },
          "colorway": [
           "#636efa",
           "#EF553B",
           "#00cc96",
           "#ab63fa",
           "#FFA15A",
           "#19d3f3",
           "#FF6692",
           "#B6E880",
           "#FF97FF",
           "#FECB52"
          ],
          "font": {
           "color": "#2a3f5f"
          },
          "geo": {
           "bgcolor": "white",
           "lakecolor": "white",
           "landcolor": "#E5ECF6",
           "showlakes": true,
           "showland": true,
           "subunitcolor": "white"
          },
          "hoverlabel": {
           "align": "left"
          },
          "hovermode": "closest",
          "mapbox": {
           "style": "light"
          },
          "paper_bgcolor": "white",
          "plot_bgcolor": "#E5ECF6",
          "polar": {
           "angularaxis": {
            "gridcolor": "white",
            "linecolor": "white",
            "ticks": ""
           },
           "bgcolor": "#E5ECF6",
           "radialaxis": {
            "gridcolor": "white",
            "linecolor": "white",
            "ticks": ""
           }
          },
          "scene": {
           "xaxis": {
            "backgroundcolor": "#E5ECF6",
            "gridcolor": "white",
            "gridwidth": 2,
            "linecolor": "white",
            "showbackground": true,
            "ticks": "",
            "zerolinecolor": "white"
           },
           "yaxis": {
            "backgroundcolor": "#E5ECF6",
            "gridcolor": "white",
            "gridwidth": 2,
            "linecolor": "white",
            "showbackground": true,
            "ticks": "",
            "zerolinecolor": "white"
           },
           "zaxis": {
            "backgroundcolor": "#E5ECF6",
            "gridcolor": "white",
            "gridwidth": 2,
            "linecolor": "white",
            "showbackground": true,
            "ticks": "",
            "zerolinecolor": "white"
           }
          },
          "shapedefaults": {
           "line": {
            "color": "#2a3f5f"
           }
          },
          "ternary": {
           "aaxis": {
            "gridcolor": "white",
            "linecolor": "white",
            "ticks": ""
           },
           "baxis": {
            "gridcolor": "white",
            "linecolor": "white",
            "ticks": ""
           },
           "bgcolor": "#E5ECF6",
           "caxis": {
            "gridcolor": "white",
            "linecolor": "white",
            "ticks": ""
           }
          },
          "title": {
           "x": 0.05
          },
          "xaxis": {
           "automargin": true,
           "gridcolor": "white",
           "linecolor": "white",
           "ticks": "",
           "title": {
            "standoff": 15
           },
           "zerolinecolor": "white",
           "zerolinewidth": 2
          },
          "yaxis": {
           "automargin": true,
           "gridcolor": "white",
           "linecolor": "white",
           "ticks": "",
           "title": {
            "standoff": 15
           },
           "zerolinecolor": "white",
           "zerolinewidth": 2
          }
         }
        },
        "title": {
         "text": "Optimization History Plot"
        },
        "xaxis": {
         "title": {
          "text": "Trial"
         }
        },
        "yaxis": {
         "title": {
          "text": "Objective Value"
         }
        }
       }
      }
     },
     "metadata": {},
     "output_type": "display_data"
    },
    {
     "data": {
      "application/vnd.plotly.v1+json": {
       "config": {
        "plotlyServerURL": "https://plot.ly"
       },
       "data": [
        {
         "marker": {
          "color": [
           0,
           1,
           2
          ],
          "colorbar": {
           "title": {
            "text": "Trial"
           },
           "x": 1,
           "xpad": 40
          },
          "colorscale": [
           [
            0,
            "rgb(247,251,255)"
           ],
           [
            0.125,
            "rgb(222,235,247)"
           ],
           [
            0.25,
            "rgb(198,219,239)"
           ],
           [
            0.375,
            "rgb(158,202,225)"
           ],
           [
            0.5,
            "rgb(107,174,214)"
           ],
           [
            0.625,
            "rgb(66,146,198)"
           ],
           [
            0.75,
            "rgb(33,113,181)"
           ],
           [
            0.875,
            "rgb(8,81,156)"
           ],
           [
            1,
            "rgb(8,48,107)"
           ]
          ],
          "line": {
           "color": "Grey",
           "width": 0.5
          },
          "showscale": true
         },
         "mode": "markers",
         "showlegend": false,
         "type": "scatter",
         "x": [
          704,
          512,
          320
         ],
         "xaxis": "x",
         "y": [
          83.14408874511719,
          85.4263916015625,
          59.743770599365234
         ],
         "yaxis": "y"
        },
        {
         "marker": {
          "color": [
           0,
           1,
           2
          ],
          "colorbar": {
           "title": {
            "text": "Trial"
           },
           "x": 1,
           "xpad": 40
          },
          "colorscale": [
           [
            0,
            "rgb(247,251,255)"
           ],
           [
            0.125,
            "rgb(222,235,247)"
           ],
           [
            0.25,
            "rgb(198,219,239)"
           ],
           [
            0.375,
            "rgb(158,202,225)"
           ],
           [
            0.5,
            "rgb(107,174,214)"
           ],
           [
            0.625,
            "rgb(66,146,198)"
           ],
           [
            0.75,
            "rgb(33,113,181)"
           ],
           [
            0.875,
            "rgb(8,81,156)"
           ],
           [
            1,
            "rgb(8,48,107)"
           ]
          ],
          "line": {
           "color": "Grey",
           "width": 0.5
          },
          "showscale": false
         },
         "mode": "markers",
         "showlegend": false,
         "type": "scatter",
         "x": [
          0.6000000000000001,
          0.6000000000000001,
          0.6000000000000001
         ],
         "xaxis": "x2",
         "y": [
          83.14408874511719,
          85.4263916015625,
          59.743770599365234
         ],
         "yaxis": "y2"
        },
        {
         "marker": {
          "color": [
           0,
           1,
           2
          ],
          "colorbar": {
           "title": {
            "text": "Trial"
           },
           "x": 1,
           "xpad": 40
          },
          "colorscale": [
           [
            0,
            "rgb(247,251,255)"
           ],
           [
            0.125,
            "rgb(222,235,247)"
           ],
           [
            0.25,
            "rgb(198,219,239)"
           ],
           [
            0.375,
            "rgb(158,202,225)"
           ],
           [
            0.5,
            "rgb(107,174,214)"
           ],
           [
            0.625,
            "rgb(66,146,198)"
           ],
           [
            0.75,
            "rgb(33,113,181)"
           ],
           [
            0.875,
            "rgb(8,81,156)"
           ],
           [
            1,
            "rgb(8,48,107)"
           ]
          ],
          "line": {
           "color": "Grey",
           "width": 0.5
          },
          "showscale": false
         },
         "mode": "markers",
         "showlegend": false,
         "type": "scatter",
         "x": [
          7,
          3,
          5
         ],
         "xaxis": "x3",
         "y": [
          83.14408874511719,
          85.4263916015625,
          59.743770599365234
         ],
         "yaxis": "y3"
        },
        {
         "marker": {
          "color": [
           0,
           1,
           2
          ],
          "colorbar": {
           "title": {
            "text": "Trial"
           },
           "x": 1,
           "xpad": 40
          },
          "colorscale": [
           [
            0,
            "rgb(247,251,255)"
           ],
           [
            0.125,
            "rgb(222,235,247)"
           ],
           [
            0.25,
            "rgb(198,219,239)"
           ],
           [
            0.375,
            "rgb(158,202,225)"
           ],
           [
            0.5,
            "rgb(107,174,214)"
           ],
           [
            0.625,
            "rgb(66,146,198)"
           ],
           [
            0.75,
            "rgb(33,113,181)"
           ],
           [
            0.875,
            "rgb(8,81,156)"
           ],
           [
            1,
            "rgb(8,48,107)"
           ]
          ],
          "line": {
           "color": "Grey",
           "width": 0.5
          },
          "showscale": false
         },
         "mode": "markers",
         "showlegend": false,
         "type": "scatter",
         "x": [
          0.00012181239630168852,
          0.0004941202765683354,
          0.001488627874304404
         ],
         "xaxis": "x4",
         "y": [
          83.14408874511719,
          85.4263916015625,
          59.743770599365234
         ],
         "yaxis": "y4"
        },
        {
         "marker": {
          "color": [
           0,
           1,
           2
          ],
          "colorbar": {
           "title": {
            "text": "Trial"
           },
           "x": 1,
           "xpad": 40
          },
          "colorscale": [
           [
            0,
            "rgb(247,251,255)"
           ],
           [
            0.125,
            "rgb(222,235,247)"
           ],
           [
            0.25,
            "rgb(198,219,239)"
           ],
           [
            0.375,
            "rgb(158,202,225)"
           ],
           [
            0.5,
            "rgb(107,174,214)"
           ],
           [
            0.625,
            "rgb(66,146,198)"
           ],
           [
            0.75,
            "rgb(33,113,181)"
           ],
           [
            0.875,
            "rgb(8,81,156)"
           ],
           [
            1,
            "rgb(8,48,107)"
           ]
          ],
          "line": {
           "color": "Grey",
           "width": 0.5
          },
          "showscale": false
         },
         "mode": "markers",
         "showlegend": false,
         "type": "scatter",
         "x": [
          710,
          10,
          610
         ],
         "xaxis": "x5",
         "y": [
          83.14408874511719,
          85.4263916015625,
          59.743770599365234
         ],
         "yaxis": "y5"
        }
       ],
       "layout": {
        "template": {
         "data": {
          "bar": [
           {
            "error_x": {
             "color": "#2a3f5f"
            },
            "error_y": {
             "color": "#2a3f5f"
            },
            "marker": {
             "line": {
              "color": "#E5ECF6",
              "width": 0.5
             },
             "pattern": {
              "fillmode": "overlay",
              "size": 10,
              "solidity": 0.2
             }
            },
            "type": "bar"
           }
          ],
          "barpolar": [
           {
            "marker": {
             "line": {
              "color": "#E5ECF6",
              "width": 0.5
             },
             "pattern": {
              "fillmode": "overlay",
              "size": 10,
              "solidity": 0.2
             }
            },
            "type": "barpolar"
           }
          ],
          "carpet": [
           {
            "aaxis": {
             "endlinecolor": "#2a3f5f",
             "gridcolor": "white",
             "linecolor": "white",
             "minorgridcolor": "white",
             "startlinecolor": "#2a3f5f"
            },
            "baxis": {
             "endlinecolor": "#2a3f5f",
             "gridcolor": "white",
             "linecolor": "white",
             "minorgridcolor": "white",
             "startlinecolor": "#2a3f5f"
            },
            "type": "carpet"
           }
          ],
          "choropleth": [
           {
            "colorbar": {
             "outlinewidth": 0,
             "ticks": ""
            },
            "type": "choropleth"
           }
          ],
          "contour": [
           {
            "colorbar": {
             "outlinewidth": 0,
             "ticks": ""
            },
            "colorscale": [
             [
              0,
              "#0d0887"
             ],
             [
              0.1111111111111111,
              "#46039f"
             ],
             [
              0.2222222222222222,
              "#7201a8"
             ],
             [
              0.3333333333333333,
              "#9c179e"
             ],
             [
              0.4444444444444444,
              "#bd3786"
             ],
             [
              0.5555555555555556,
              "#d8576b"
             ],
             [
              0.6666666666666666,
              "#ed7953"
             ],
             [
              0.7777777777777778,
              "#fb9f3a"
             ],
             [
              0.8888888888888888,
              "#fdca26"
             ],
             [
              1,
              "#f0f921"
             ]
            ],
            "type": "contour"
           }
          ],
          "contourcarpet": [
           {
            "colorbar": {
             "outlinewidth": 0,
             "ticks": ""
            },
            "type": "contourcarpet"
           }
          ],
          "heatmap": [
           {
            "colorbar": {
             "outlinewidth": 0,
             "ticks": ""
            },
            "colorscale": [
             [
              0,
              "#0d0887"
             ],
             [
              0.1111111111111111,
              "#46039f"
             ],
             [
              0.2222222222222222,
              "#7201a8"
             ],
             [
              0.3333333333333333,
              "#9c179e"
             ],
             [
              0.4444444444444444,
              "#bd3786"
             ],
             [
              0.5555555555555556,
              "#d8576b"
             ],
             [
              0.6666666666666666,
              "#ed7953"
             ],
             [
              0.7777777777777778,
              "#fb9f3a"
             ],
             [
              0.8888888888888888,
              "#fdca26"
             ],
             [
              1,
              "#f0f921"
             ]
            ],
            "type": "heatmap"
           }
          ],
          "heatmapgl": [
           {
            "colorbar": {
             "outlinewidth": 0,
             "ticks": ""
            },
            "colorscale": [
             [
              0,
              "#0d0887"
             ],
             [
              0.1111111111111111,
              "#46039f"
             ],
             [
              0.2222222222222222,
              "#7201a8"
             ],
             [
              0.3333333333333333,
              "#9c179e"
             ],
             [
              0.4444444444444444,
              "#bd3786"
             ],
             [
              0.5555555555555556,
              "#d8576b"
             ],
             [
              0.6666666666666666,
              "#ed7953"
             ],
             [
              0.7777777777777778,
              "#fb9f3a"
             ],
             [
              0.8888888888888888,
              "#fdca26"
             ],
             [
              1,
              "#f0f921"
             ]
            ],
            "type": "heatmapgl"
           }
          ],
          "histogram": [
           {
            "marker": {
             "pattern": {
              "fillmode": "overlay",
              "size": 10,
              "solidity": 0.2
             }
            },
            "type": "histogram"
           }
          ],
          "histogram2d": [
           {
            "colorbar": {
             "outlinewidth": 0,
             "ticks": ""
            },
            "colorscale": [
             [
              0,
              "#0d0887"
             ],
             [
              0.1111111111111111,
              "#46039f"
             ],
             [
              0.2222222222222222,
              "#7201a8"
             ],
             [
              0.3333333333333333,
              "#9c179e"
             ],
             [
              0.4444444444444444,
              "#bd3786"
             ],
             [
              0.5555555555555556,
              "#d8576b"
             ],
             [
              0.6666666666666666,
              "#ed7953"
             ],
             [
              0.7777777777777778,
              "#fb9f3a"
             ],
             [
              0.8888888888888888,
              "#fdca26"
             ],
             [
              1,
              "#f0f921"
             ]
            ],
            "type": "histogram2d"
           }
          ],
          "histogram2dcontour": [
           {
            "colorbar": {
             "outlinewidth": 0,
             "ticks": ""
            },
            "colorscale": [
             [
              0,
              "#0d0887"
             ],
             [
              0.1111111111111111,
              "#46039f"
             ],
             [
              0.2222222222222222,
              "#7201a8"
             ],
             [
              0.3333333333333333,
              "#9c179e"
             ],
             [
              0.4444444444444444,
              "#bd3786"
             ],
             [
              0.5555555555555556,
              "#d8576b"
             ],
             [
              0.6666666666666666,
              "#ed7953"
             ],
             [
              0.7777777777777778,
              "#fb9f3a"
             ],
             [
              0.8888888888888888,
              "#fdca26"
             ],
             [
              1,
              "#f0f921"
             ]
            ],
            "type": "histogram2dcontour"
           }
          ],
          "mesh3d": [
           {
            "colorbar": {
             "outlinewidth": 0,
             "ticks": ""
            },
            "type": "mesh3d"
           }
          ],
          "parcoords": [
           {
            "line": {
             "colorbar": {
              "outlinewidth": 0,
              "ticks": ""
             }
            },
            "type": "parcoords"
           }
          ],
          "pie": [
           {
            "automargin": true,
            "type": "pie"
           }
          ],
          "scatter": [
           {
            "fillpattern": {
             "fillmode": "overlay",
             "size": 10,
             "solidity": 0.2
            },
            "type": "scatter"
           }
          ],
          "scatter3d": [
           {
            "line": {
             "colorbar": {
              "outlinewidth": 0,
              "ticks": ""
             }
            },
            "marker": {
             "colorbar": {
              "outlinewidth": 0,
              "ticks": ""
             }
            },
            "type": "scatter3d"
           }
          ],
          "scattercarpet": [
           {
            "marker": {
             "colorbar": {
              "outlinewidth": 0,
              "ticks": ""
             }
            },
            "type": "scattercarpet"
           }
          ],
          "scattergeo": [
           {
            "marker": {
             "colorbar": {
              "outlinewidth": 0,
              "ticks": ""
             }
            },
            "type": "scattergeo"
           }
          ],
          "scattergl": [
           {
            "marker": {
             "colorbar": {
              "outlinewidth": 0,
              "ticks": ""
             }
            },
            "type": "scattergl"
           }
          ],
          "scattermapbox": [
           {
            "marker": {
             "colorbar": {
              "outlinewidth": 0,
              "ticks": ""
             }
            },
            "type": "scattermapbox"
           }
          ],
          "scatterpolar": [
           {
            "marker": {
             "colorbar": {
              "outlinewidth": 0,
              "ticks": ""
             }
            },
            "type": "scatterpolar"
           }
          ],
          "scatterpolargl": [
           {
            "marker": {
             "colorbar": {
              "outlinewidth": 0,
              "ticks": ""
             }
            },
            "type": "scatterpolargl"
           }
          ],
          "scatterternary": [
           {
            "marker": {
             "colorbar": {
              "outlinewidth": 0,
              "ticks": ""
             }
            },
            "type": "scatterternary"
           }
          ],
          "surface": [
           {
            "colorbar": {
             "outlinewidth": 0,
             "ticks": ""
            },
            "colorscale": [
             [
              0,
              "#0d0887"
             ],
             [
              0.1111111111111111,
              "#46039f"
             ],
             [
              0.2222222222222222,
              "#7201a8"
             ],
             [
              0.3333333333333333,
              "#9c179e"
             ],
             [
              0.4444444444444444,
              "#bd3786"
             ],
             [
              0.5555555555555556,
              "#d8576b"
             ],
             [
              0.6666666666666666,
              "#ed7953"
             ],
             [
              0.7777777777777778,
              "#fb9f3a"
             ],
             [
              0.8888888888888888,
              "#fdca26"
             ],
             [
              1,
              "#f0f921"
             ]
            ],
            "type": "surface"
           }
          ],
          "table": [
           {
            "cells": {
             "fill": {
              "color": "#EBF0F8"
             },
             "line": {
              "color": "white"
             }
            },
            "header": {
             "fill": {
              "color": "#C8D4E3"
             },
             "line": {
              "color": "white"
             }
            },
            "type": "table"
           }
          ]
         },
         "layout": {
          "annotationdefaults": {
           "arrowcolor": "#2a3f5f",
           "arrowhead": 0,
           "arrowwidth": 1
          },
          "autotypenumbers": "strict",
          "coloraxis": {
           "colorbar": {
            "outlinewidth": 0,
            "ticks": ""
           }
          },
          "colorscale": {
           "diverging": [
            [
             0,
             "#8e0152"
            ],
            [
             0.1,
             "#c51b7d"
            ],
            [
             0.2,
             "#de77ae"
            ],
            [
             0.3,
             "#f1b6da"
            ],
            [
             0.4,
             "#fde0ef"
            ],
            [
             0.5,
             "#f7f7f7"
            ],
            [
             0.6,
             "#e6f5d0"
            ],
            [
             0.7,
             "#b8e186"
            ],
            [
             0.8,
             "#7fbc41"
            ],
            [
             0.9,
             "#4d9221"
            ],
            [
             1,
             "#276419"
            ]
           ],
           "sequential": [
            [
             0,
             "#0d0887"
            ],
            [
             0.1111111111111111,
             "#46039f"
            ],
            [
             0.2222222222222222,
             "#7201a8"
            ],
            [
             0.3333333333333333,
             "#9c179e"
            ],
            [
             0.4444444444444444,
             "#bd3786"
            ],
            [
             0.5555555555555556,
             "#d8576b"
            ],
            [
             0.6666666666666666,
             "#ed7953"
            ],
            [
             0.7777777777777778,
             "#fb9f3a"
            ],
            [
             0.8888888888888888,
             "#fdca26"
            ],
            [
             1,
             "#f0f921"
            ]
           ],
           "sequentialminus": [
            [
             0,
             "#0d0887"
            ],
            [
             0.1111111111111111,
             "#46039f"
            ],
            [
             0.2222222222222222,
             "#7201a8"
            ],
            [
             0.3333333333333333,
             "#9c179e"
            ],
            [
             0.4444444444444444,
             "#bd3786"
            ],
            [
             0.5555555555555556,
             "#d8576b"
            ],
            [
             0.6666666666666666,
             "#ed7953"
            ],
            [
             0.7777777777777778,
             "#fb9f3a"
            ],
            [
             0.8888888888888888,
             "#fdca26"
            ],
            [
             1,
             "#f0f921"
            ]
           ]
          },
          "colorway": [
           "#636efa",
           "#EF553B",
           "#00cc96",
           "#ab63fa",
           "#FFA15A",
           "#19d3f3",
           "#FF6692",
           "#B6E880",
           "#FF97FF",
           "#FECB52"
          ],
          "font": {
           "color": "#2a3f5f"
          },
          "geo": {
           "bgcolor": "white",
           "lakecolor": "white",
           "landcolor": "#E5ECF6",
           "showlakes": true,
           "showland": true,
           "subunitcolor": "white"
          },
          "hoverlabel": {
           "align": "left"
          },
          "hovermode": "closest",
          "mapbox": {
           "style": "light"
          },
          "paper_bgcolor": "white",
          "plot_bgcolor": "#E5ECF6",
          "polar": {
           "angularaxis": {
            "gridcolor": "white",
            "linecolor": "white",
            "ticks": ""
           },
           "bgcolor": "#E5ECF6",
           "radialaxis": {
            "gridcolor": "white",
            "linecolor": "white",
            "ticks": ""
           }
          },
          "scene": {
           "xaxis": {
            "backgroundcolor": "#E5ECF6",
            "gridcolor": "white",
            "gridwidth": 2,
            "linecolor": "white",
            "showbackground": true,
            "ticks": "",
            "zerolinecolor": "white"
           },
           "yaxis": {
            "backgroundcolor": "#E5ECF6",
            "gridcolor": "white",
            "gridwidth": 2,
            "linecolor": "white",
            "showbackground": true,
            "ticks": "",
            "zerolinecolor": "white"
           },
           "zaxis": {
            "backgroundcolor": "#E5ECF6",
            "gridcolor": "white",
            "gridwidth": 2,
            "linecolor": "white",
            "showbackground": true,
            "ticks": "",
            "zerolinecolor": "white"
           }
          },
          "shapedefaults": {
           "line": {
            "color": "#2a3f5f"
           }
          },
          "ternary": {
           "aaxis": {
            "gridcolor": "white",
            "linecolor": "white",
            "ticks": ""
           },
           "baxis": {
            "gridcolor": "white",
            "linecolor": "white",
            "ticks": ""
           },
           "bgcolor": "#E5ECF6",
           "caxis": {
            "gridcolor": "white",
            "linecolor": "white",
            "ticks": ""
           }
          },
          "title": {
           "x": 0.05
          },
          "xaxis": {
           "automargin": true,
           "gridcolor": "white",
           "linecolor": "white",
           "ticks": "",
           "title": {
            "standoff": 15
           },
           "zerolinecolor": "white",
           "zerolinewidth": 2
          },
          "yaxis": {
           "automargin": true,
           "gridcolor": "white",
           "linecolor": "white",
           "ticks": "",
           "title": {
            "standoff": 15
           },
           "zerolinecolor": "white",
           "zerolinewidth": 2
          }
         }
        },
        "title": {
         "text": "Slice Plot"
        },
        "width": 1500,
        "xaxis": {
         "anchor": "y",
         "domain": [
          0,
          0.16799999999999998
         ],
         "title": {
          "text": "bat"
         }
        },
        "xaxis2": {
         "anchor": "y2",
         "domain": [
          0.208,
          0.376
         ],
         "title": {
          "text": "dropout"
         }
        },
        "xaxis3": {
         "anchor": "y3",
         "domain": [
          0.416,
          0.584
         ],
         "title": {
          "text": "lay"
         }
        },
        "xaxis4": {
         "anchor": "y4",
         "domain": [
          0.624,
          0.792
         ],
         "title": {
          "text": "lr"
         },
         "type": "log"
        },
        "xaxis5": {
         "anchor": "y5",
         "domain": [
          0.832,
          1
         ],
         "title": {
          "text": "neu"
         }
        },
        "yaxis": {
         "anchor": "x",
         "domain": [
          0,
          1
         ],
         "title": {
          "text": "Objective Value"
         }
        },
        "yaxis2": {
         "anchor": "x2",
         "domain": [
          0,
          1
         ],
         "matches": "y",
         "showticklabels": false
        },
        "yaxis3": {
         "anchor": "x3",
         "domain": [
          0,
          1
         ],
         "matches": "y",
         "showticklabels": false
        },
        "yaxis4": {
         "anchor": "x4",
         "domain": [
          0,
          1
         ],
         "matches": "y",
         "showticklabels": false
        },
        "yaxis5": {
         "anchor": "x5",
         "domain": [
          0,
          1
         ],
         "matches": "y",
         "showticklabels": false
        }
       }
      }
     },
     "metadata": {},
     "output_type": "display_data"
    },
    {
     "data": {
      "application/vnd.plotly.v1+json": {
       "config": {
        "plotlyServerURL": "https://plot.ly"
       },
       "data": [
        {
         "cliponaxis": false,
         "hovertemplate": [
          "dropout (FloatDistribution): 0.0<extra></extra>",
          "neu (IntDistribution): 0.20011974719376763<extra></extra>",
          "lay (IntDistribution): 0.23357893830860318<extra></extra>",
          "bat (IntDistribution): 0.2663815442233468<extra></extra>",
          "lr (FloatDistribution): 0.29991977027428257<extra></extra>"
         ],
         "marker": {
          "color": "rgb(66,146,198)"
         },
         "orientation": "h",
         "text": [
          "<0.01",
          "0.20",
          "0.23",
          "0.27",
          "0.30"
         ],
         "textposition": "outside",
         "type": "bar",
         "x": [
          0,
          0.20011974719376763,
          0.23357893830860318,
          0.2663815442233468,
          0.29991977027428257
         ],
         "y": [
          "dropout",
          "neu",
          "lay",
          "bat",
          "lr"
         ]
        }
       ],
       "layout": {
        "showlegend": false,
        "template": {
         "data": {
          "bar": [
           {
            "error_x": {
             "color": "#2a3f5f"
            },
            "error_y": {
             "color": "#2a3f5f"
            },
            "marker": {
             "line": {
              "color": "#E5ECF6",
              "width": 0.5
             },
             "pattern": {
              "fillmode": "overlay",
              "size": 10,
              "solidity": 0.2
             }
            },
            "type": "bar"
           }
          ],
          "barpolar": [
           {
            "marker": {
             "line": {
              "color": "#E5ECF6",
              "width": 0.5
             },
             "pattern": {
              "fillmode": "overlay",
              "size": 10,
              "solidity": 0.2
             }
            },
            "type": "barpolar"
           }
          ],
          "carpet": [
           {
            "aaxis": {
             "endlinecolor": "#2a3f5f",
             "gridcolor": "white",
             "linecolor": "white",
             "minorgridcolor": "white",
             "startlinecolor": "#2a3f5f"
            },
            "baxis": {
             "endlinecolor": "#2a3f5f",
             "gridcolor": "white",
             "linecolor": "white",
             "minorgridcolor": "white",
             "startlinecolor": "#2a3f5f"
            },
            "type": "carpet"
           }
          ],
          "choropleth": [
           {
            "colorbar": {
             "outlinewidth": 0,
             "ticks": ""
            },
            "type": "choropleth"
           }
          ],
          "contour": [
           {
            "colorbar": {
             "outlinewidth": 0,
             "ticks": ""
            },
            "colorscale": [
             [
              0,
              "#0d0887"
             ],
             [
              0.1111111111111111,
              "#46039f"
             ],
             [
              0.2222222222222222,
              "#7201a8"
             ],
             [
              0.3333333333333333,
              "#9c179e"
             ],
             [
              0.4444444444444444,
              "#bd3786"
             ],
             [
              0.5555555555555556,
              "#d8576b"
             ],
             [
              0.6666666666666666,
              "#ed7953"
             ],
             [
              0.7777777777777778,
              "#fb9f3a"
             ],
             [
              0.8888888888888888,
              "#fdca26"
             ],
             [
              1,
              "#f0f921"
             ]
            ],
            "type": "contour"
           }
          ],
          "contourcarpet": [
           {
            "colorbar": {
             "outlinewidth": 0,
             "ticks": ""
            },
            "type": "contourcarpet"
           }
          ],
          "heatmap": [
           {
            "colorbar": {
             "outlinewidth": 0,
             "ticks": ""
            },
            "colorscale": [
             [
              0,
              "#0d0887"
             ],
             [
              0.1111111111111111,
              "#46039f"
             ],
             [
              0.2222222222222222,
              "#7201a8"
             ],
             [
              0.3333333333333333,
              "#9c179e"
             ],
             [
              0.4444444444444444,
              "#bd3786"
             ],
             [
              0.5555555555555556,
              "#d8576b"
             ],
             [
              0.6666666666666666,
              "#ed7953"
             ],
             [
              0.7777777777777778,
              "#fb9f3a"
             ],
             [
              0.8888888888888888,
              "#fdca26"
             ],
             [
              1,
              "#f0f921"
             ]
            ],
            "type": "heatmap"
           }
          ],
          "heatmapgl": [
           {
            "colorbar": {
             "outlinewidth": 0,
             "ticks": ""
            },
            "colorscale": [
             [
              0,
              "#0d0887"
             ],
             [
              0.1111111111111111,
              "#46039f"
             ],
             [
              0.2222222222222222,
              "#7201a8"
             ],
             [
              0.3333333333333333,
              "#9c179e"
             ],
             [
              0.4444444444444444,
              "#bd3786"
             ],
             [
              0.5555555555555556,
              "#d8576b"
             ],
             [
              0.6666666666666666,
              "#ed7953"
             ],
             [
              0.7777777777777778,
              "#fb9f3a"
             ],
             [
              0.8888888888888888,
              "#fdca26"
             ],
             [
              1,
              "#f0f921"
             ]
            ],
            "type": "heatmapgl"
           }
          ],
          "histogram": [
           {
            "marker": {
             "pattern": {
              "fillmode": "overlay",
              "size": 10,
              "solidity": 0.2
             }
            },
            "type": "histogram"
           }
          ],
          "histogram2d": [
           {
            "colorbar": {
             "outlinewidth": 0,
             "ticks": ""
            },
            "colorscale": [
             [
              0,
              "#0d0887"
             ],
             [
              0.1111111111111111,
              "#46039f"
             ],
             [
              0.2222222222222222,
              "#7201a8"
             ],
             [
              0.3333333333333333,
              "#9c179e"
             ],
             [
              0.4444444444444444,
              "#bd3786"
             ],
             [
              0.5555555555555556,
              "#d8576b"
             ],
             [
              0.6666666666666666,
              "#ed7953"
             ],
             [
              0.7777777777777778,
              "#fb9f3a"
             ],
             [
              0.8888888888888888,
              "#fdca26"
             ],
             [
              1,
              "#f0f921"
             ]
            ],
            "type": "histogram2d"
           }
          ],
          "histogram2dcontour": [
           {
            "colorbar": {
             "outlinewidth": 0,
             "ticks": ""
            },
            "colorscale": [
             [
              0,
              "#0d0887"
             ],
             [
              0.1111111111111111,
              "#46039f"
             ],
             [
              0.2222222222222222,
              "#7201a8"
             ],
             [
              0.3333333333333333,
              "#9c179e"
             ],
             [
              0.4444444444444444,
              "#bd3786"
             ],
             [
              0.5555555555555556,
              "#d8576b"
             ],
             [
              0.6666666666666666,
              "#ed7953"
             ],
             [
              0.7777777777777778,
              "#fb9f3a"
             ],
             [
              0.8888888888888888,
              "#fdca26"
             ],
             [
              1,
              "#f0f921"
             ]
            ],
            "type": "histogram2dcontour"
           }
          ],
          "mesh3d": [
           {
            "colorbar": {
             "outlinewidth": 0,
             "ticks": ""
            },
            "type": "mesh3d"
           }
          ],
          "parcoords": [
           {
            "line": {
             "colorbar": {
              "outlinewidth": 0,
              "ticks": ""
             }
            },
            "type": "parcoords"
           }
          ],
          "pie": [
           {
            "automargin": true,
            "type": "pie"
           }
          ],
          "scatter": [
           {
            "fillpattern": {
             "fillmode": "overlay",
             "size": 10,
             "solidity": 0.2
            },
            "type": "scatter"
           }
          ],
          "scatter3d": [
           {
            "line": {
             "colorbar": {
              "outlinewidth": 0,
              "ticks": ""
             }
            },
            "marker": {
             "colorbar": {
              "outlinewidth": 0,
              "ticks": ""
             }
            },
            "type": "scatter3d"
           }
          ],
          "scattercarpet": [
           {
            "marker": {
             "colorbar": {
              "outlinewidth": 0,
              "ticks": ""
             }
            },
            "type": "scattercarpet"
           }
          ],
          "scattergeo": [
           {
            "marker": {
             "colorbar": {
              "outlinewidth": 0,
              "ticks": ""
             }
            },
            "type": "scattergeo"
           }
          ],
          "scattergl": [
           {
            "marker": {
             "colorbar": {
              "outlinewidth": 0,
              "ticks": ""
             }
            },
            "type": "scattergl"
           }
          ],
          "scattermapbox": [
           {
            "marker": {
             "colorbar": {
              "outlinewidth": 0,
              "ticks": ""
             }
            },
            "type": "scattermapbox"
           }
          ],
          "scatterpolar": [
           {
            "marker": {
             "colorbar": {
              "outlinewidth": 0,
              "ticks": ""
             }
            },
            "type": "scatterpolar"
           }
          ],
          "scatterpolargl": [
           {
            "marker": {
             "colorbar": {
              "outlinewidth": 0,
              "ticks": ""
             }
            },
            "type": "scatterpolargl"
           }
          ],
          "scatterternary": [
           {
            "marker": {
             "colorbar": {
              "outlinewidth": 0,
              "ticks": ""
             }
            },
            "type": "scatterternary"
           }
          ],
          "surface": [
           {
            "colorbar": {
             "outlinewidth": 0,
             "ticks": ""
            },
            "colorscale": [
             [
              0,
              "#0d0887"
             ],
             [
              0.1111111111111111,
              "#46039f"
             ],
             [
              0.2222222222222222,
              "#7201a8"
             ],
             [
              0.3333333333333333,
              "#9c179e"
             ],
             [
              0.4444444444444444,
              "#bd3786"
             ],
             [
              0.5555555555555556,
              "#d8576b"
             ],
             [
              0.6666666666666666,
              "#ed7953"
             ],
             [
              0.7777777777777778,
              "#fb9f3a"
             ],
             [
              0.8888888888888888,
              "#fdca26"
             ],
             [
              1,
              "#f0f921"
             ]
            ],
            "type": "surface"
           }
          ],
          "table": [
           {
            "cells": {
             "fill": {
              "color": "#EBF0F8"
             },
             "line": {
              "color": "white"
             }
            },
            "header": {
             "fill": {
              "color": "#C8D4E3"
             },
             "line": {
              "color": "white"
             }
            },
            "type": "table"
           }
          ]
         },
         "layout": {
          "annotationdefaults": {
           "arrowcolor": "#2a3f5f",
           "arrowhead": 0,
           "arrowwidth": 1
          },
          "autotypenumbers": "strict",
          "coloraxis": {
           "colorbar": {
            "outlinewidth": 0,
            "ticks": ""
           }
          },
          "colorscale": {
           "diverging": [
            [
             0,
             "#8e0152"
            ],
            [
             0.1,
             "#c51b7d"
            ],
            [
             0.2,
             "#de77ae"
            ],
            [
             0.3,
             "#f1b6da"
            ],
            [
             0.4,
             "#fde0ef"
            ],
            [
             0.5,
             "#f7f7f7"
            ],
            [
             0.6,
             "#e6f5d0"
            ],
            [
             0.7,
             "#b8e186"
            ],
            [
             0.8,
             "#7fbc41"
            ],
            [
             0.9,
             "#4d9221"
            ],
            [
             1,
             "#276419"
            ]
           ],
           "sequential": [
            [
             0,
             "#0d0887"
            ],
            [
             0.1111111111111111,
             "#46039f"
            ],
            [
             0.2222222222222222,
             "#7201a8"
            ],
            [
             0.3333333333333333,
             "#9c179e"
            ],
            [
             0.4444444444444444,
             "#bd3786"
            ],
            [
             0.5555555555555556,
             "#d8576b"
            ],
            [
             0.6666666666666666,
             "#ed7953"
            ],
            [
             0.7777777777777778,
             "#fb9f3a"
            ],
            [
             0.8888888888888888,
             "#fdca26"
            ],
            [
             1,
             "#f0f921"
            ]
           ],
           "sequentialminus": [
            [
             0,
             "#0d0887"
            ],
            [
             0.1111111111111111,
             "#46039f"
            ],
            [
             0.2222222222222222,
             "#7201a8"
            ],
            [
             0.3333333333333333,
             "#9c179e"
            ],
            [
             0.4444444444444444,
             "#bd3786"
            ],
            [
             0.5555555555555556,
             "#d8576b"
            ],
            [
             0.6666666666666666,
             "#ed7953"
            ],
            [
             0.7777777777777778,
             "#fb9f3a"
            ],
            [
             0.8888888888888888,
             "#fdca26"
            ],
            [
             1,
             "#f0f921"
            ]
           ]
          },
          "colorway": [
           "#636efa",
           "#EF553B",
           "#00cc96",
           "#ab63fa",
           "#FFA15A",
           "#19d3f3",
           "#FF6692",
           "#B6E880",
           "#FF97FF",
           "#FECB52"
          ],
          "font": {
           "color": "#2a3f5f"
          },
          "geo": {
           "bgcolor": "white",
           "lakecolor": "white",
           "landcolor": "#E5ECF6",
           "showlakes": true,
           "showland": true,
           "subunitcolor": "white"
          },
          "hoverlabel": {
           "align": "left"
          },
          "hovermode": "closest",
          "mapbox": {
           "style": "light"
          },
          "paper_bgcolor": "white",
          "plot_bgcolor": "#E5ECF6",
          "polar": {
           "angularaxis": {
            "gridcolor": "white",
            "linecolor": "white",
            "ticks": ""
           },
           "bgcolor": "#E5ECF6",
           "radialaxis": {
            "gridcolor": "white",
            "linecolor": "white",
            "ticks": ""
           }
          },
          "scene": {
           "xaxis": {
            "backgroundcolor": "#E5ECF6",
            "gridcolor": "white",
            "gridwidth": 2,
            "linecolor": "white",
            "showbackground": true,
            "ticks": "",
            "zerolinecolor": "white"
           },
           "yaxis": {
            "backgroundcolor": "#E5ECF6",
            "gridcolor": "white",
            "gridwidth": 2,
            "linecolor": "white",
            "showbackground": true,
            "ticks": "",
            "zerolinecolor": "white"
           },
           "zaxis": {
            "backgroundcolor": "#E5ECF6",
            "gridcolor": "white",
            "gridwidth": 2,
            "linecolor": "white",
            "showbackground": true,
            "ticks": "",
            "zerolinecolor": "white"
           }
          },
          "shapedefaults": {
           "line": {
            "color": "#2a3f5f"
           }
          },
          "ternary": {
           "aaxis": {
            "gridcolor": "white",
            "linecolor": "white",
            "ticks": ""
           },
           "baxis": {
            "gridcolor": "white",
            "linecolor": "white",
            "ticks": ""
           },
           "bgcolor": "#E5ECF6",
           "caxis": {
            "gridcolor": "white",
            "linecolor": "white",
            "ticks": ""
           }
          },
          "title": {
           "x": 0.05
          },
          "xaxis": {
           "automargin": true,
           "gridcolor": "white",
           "linecolor": "white",
           "ticks": "",
           "title": {
            "standoff": 15
           },
           "zerolinecolor": "white",
           "zerolinewidth": 2
          },
          "yaxis": {
           "automargin": true,
           "gridcolor": "white",
           "linecolor": "white",
           "ticks": "",
           "title": {
            "standoff": 15
           },
           "zerolinecolor": "white",
           "zerolinewidth": 2
          }
         }
        },
        "title": {
         "text": "Hyperparameter Importances"
        },
        "xaxis": {
         "title": {
          "text": "Importance for Objective Value"
         }
        },
        "yaxis": {
         "title": {
          "text": "Hyperparameter"
         }
        }
       }
      }
     },
     "metadata": {},
     "output_type": "display_data"
    }
   ],
   "source": [
    "from IPython.display import display\n",
    "fig = optuna.visualization.plot_parallel_coordinate(study)\n",
    "display(fig)\n",
    "fig = optuna.visualization.plot_optimization_history(study)\n",
    "display(fig)\n",
    "fig = optuna.visualization.plot_slice(study)\n",
    "display(fig)\n",
    "fig = optuna.visualization.plot_param_importances(study)\n",
    "display(fig)"
   ]
  },
  {
   "cell_type": "code",
   "execution_count": null,
   "metadata": {},
   "outputs": [
    {
     "name": "stdout",
     "output_type": "stream",
     "text": [
      "  Best trial:  FrozenTrial(number=2, state=TrialState.COMPLETE, values=[59.743770599365234], datetime_start=datetime.datetime(2024, 3, 28, 12, 45, 28, 902208), datetime_complete=datetime.datetime(2024, 3, 28, 12, 45, 43, 645232), params={'neu': 610, 'lay': 5, 'bat': 320, 'lr': 0.001488627874304404, 'dropout': 0.6000000000000001}, user_attrs={}, system_attrs={}, intermediate_values={1: 59.743770599365234}, distributions={'neu': IntDistribution(high=910, log=False, low=10, step=100), 'lay': IntDistribution(high=9, log=False, low=1, step=2), 'bat': IntDistribution(high=1024, log=False, low=32, step=32), 'lr': FloatDistribution(high=0.1, log=True, low=1e-05, step=None), 'dropout': FloatDistribution(high=0.8, log=False, low=0.0, step=0.2)}, trial_id=2, value=None)\n"
     ]
    }
   ],
   "source": [
    "print(\"  Best trial: \", trial)"
   ]
  }
 ],
 "metadata": {
  "kernelspec": {
   "display_name": "deepar-gpu",
   "language": "python",
   "name": "python3"
  },
  "language_info": {
   "codemirror_mode": {
    "name": "ipython",
    "version": 3
   },
   "file_extension": ".py",
   "mimetype": "text/x-python",
   "name": "python",
   "nbconvert_exporter": "python",
   "pygments_lexer": "ipython3",
   "version": "3.10.9"
  }
 },
 "nbformat": 4,
 "nbformat_minor": 2
}

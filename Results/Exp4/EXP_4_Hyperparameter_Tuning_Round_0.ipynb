{
 "cells": [
  {
   "cell_type": "code",
   "execution_count": 1,
   "metadata": {},
   "outputs": [
    {
     "name": "stderr",
     "output_type": "stream",
     "text": [
      "2024-04-02 18:12:43.455168: I tensorflow/core/util/port.cc:113] oneDNN custom operations are on. You may see slightly different numerical results due to floating-point round-off errors from different computation orders. To turn them off, set the environment variable `TF_ENABLE_ONEDNN_OPTS=0`.\n",
      "2024-04-02 18:12:43.456317: I external/local_tsl/tsl/cuda/cudart_stub.cc:31] Could not find cuda drivers on your machine, GPU will not be used.\n",
      "2024-04-02 18:12:43.475257: E external/local_xla/xla/stream_executor/cuda/cuda_dnn.cc:9261] Unable to register cuDNN factory: Attempting to register factory for plugin cuDNN when one has already been registered\n",
      "2024-04-02 18:12:43.475275: E external/local_xla/xla/stream_executor/cuda/cuda_fft.cc:607] Unable to register cuFFT factory: Attempting to register factory for plugin cuFFT when one has already been registered\n",
      "2024-04-02 18:12:43.475756: E external/local_xla/xla/stream_executor/cuda/cuda_blas.cc:1515] Unable to register cuBLAS factory: Attempting to register factory for plugin cuBLAS when one has already been registered\n",
      "2024-04-02 18:12:43.479296: I tensorflow/core/platform/cpu_feature_guard.cc:182] This TensorFlow binary is optimized to use available CPU instructions in performance-critical operations.\n",
      "To enable the following instructions: AVX2 AVX_VNNI FMA, in other operations, rebuild TensorFlow with the appropriate compiler flags.\n",
      "2024-04-02 18:12:43.865436: W tensorflow/compiler/tf2tensorrt/utils/py_utils.cc:38] TF-TRT Warning: Could not find TensorRT\n",
      "Global seed set to 0\n"
     ]
    },
    {
     "data": {
      "text/plain": [
       "0"
      ]
     },
     "execution_count": 1,
     "metadata": {},
     "output_type": "execute_result"
    }
   ],
   "source": [
    "import os\n",
    "import sys\n",
    "\n",
    "\"\"\"Linux\"\"\"\n",
    "os.chdir(\"/home/optimusprime/Desktop/peeterson/github/DeepAR_demand_prediction/Rental_Fleet_Demand_Forecast\")\n",
    "sys.path.append(os.path.abspath(os.path.join(\"/home/optimusprime/Desktop/peeterson/github/DeepAR_demand_prediction/Rental_Fleet_Demand_Forecast\")))\n",
    "\n",
    "os.chdir(\"/home/optimusprime/Desktop/peeterson/github/DeepAR_demand_prediction/Rental_Fleet_Demand_Forecast/libs/linux-gpu\")\n",
    "\n",
    "\n",
    "#from ctypes import FormatError\n",
    "import numpy as np\n",
    "\n",
    "import warnings\n",
    "warnings.filterwarnings(\"ignore\")\n",
    "\n",
    "import os,sys\n",
    "\n",
    "import torch\n",
    "torch.use_deterministic_algorithms(True)\n",
    "import pytorch_lightning as pl\n",
    "from pytorch_forecasting.data.encoders import TorchNormalizer\n",
    "from pytorch_forecasting.metrics import SMAPE, RMSE\n",
    "from torchmetrics import R2Score, SymmetricMeanAbsolutePercentageError, MeanSquaredError\n",
    "\n",
    "import matplotlib.pyplot as plt\n",
    "import pandas as pd\n",
    "from pytorch_forecasting.data import TimeSeriesDataSet\n",
    "from pytorch_forecasting.data.encoders import NaNLabelEncoder\n",
    "from pytorch_lightning.callbacks import EarlyStopping, LearningRateMonitor\n",
    "import torch\n",
    "from pytorch_forecasting.data.encoders import TorchNormalizer\n",
    "import os,sys\n",
    "import numpy as np\n",
    "from statsmodels.tsa.stattools import adfuller\n",
    "from statsmodels.tsa.seasonal import seasonal_decompose\n",
    "from statsmodels.graphics.tsaplots import plot_acf\n",
    "from statsmodels.graphics.tsaplots import plot_pacf\n",
    "from statsmodels.tsa.stattools import acf,pacf\n",
    "from scipy.signal import find_peaks\n",
    "import operator\n",
    "import statsmodels.api as sm\n",
    "from itertools import combinations\n",
    "import pickle\n",
    "from pytorch_forecasting import Baseline\n",
    "import random\n",
    "from pytorch_forecasting import DeepAR,NegativeBinomialDistributionLoss\n",
    "from itertools import product\n",
    "from sklearn.metrics import mean_absolute_error, mean_squared_error\n",
    "import optuna\n",
    "from optuna.trial import TrialState\n",
    "import plotly\n",
    "#from deepar_RegionWise_LinuxGpu_prediction_dev import train_and_forecast\n",
    "from sklearn.metrics import classification_report\n",
    "\n",
    "\"\"\"\n",
    "Set Random seed\n",
    "\"\"\"\n",
    "\n",
    "random.seed(0)\n",
    "torch.manual_seed(0)\n",
    "np.random.seed(0)\n",
    "## additional seeding to ensure reproduciblility.\n",
    "pl.seed_everything(0)"
   ]
  },
  {
   "cell_type": "markdown",
   "metadata": {},
   "source": [
    "Now for the round 0, we reduce dataset even more from 20% to 5%. num-epochs to a first value of 50. number of trials to a fixed number of 30."
   ]
  },
  {
   "cell_type": "code",
   "execution_count": 2,
   "metadata": {},
   "outputs": [],
   "source": [
    "dataset_size = 0.05\n",
    "num_epochs = 30\n",
    "num_trials = 30\n",
    "logs_directory = \"/home/optimusprime/Desktop/Timothy_EXP_4/Round_0_logs\""
   ]
  },
  {
   "cell_type": "code",
   "execution_count": 3,
   "metadata": {},
   "outputs": [
    {
     "data": {
      "text/html": [
       "<div>\n",
       "<style scoped>\n",
       "    .dataframe tbody tr th:only-of-type {\n",
       "        vertical-align: middle;\n",
       "    }\n",
       "\n",
       "    .dataframe tbody tr th {\n",
       "        vertical-align: top;\n",
       "    }\n",
       "\n",
       "    .dataframe thead th {\n",
       "        text-align: right;\n",
       "    }\n",
       "</style>\n",
       "<table border=\"1\" class=\"dataframe\">\n",
       "  <thead>\n",
       "    <tr style=\"text-align: right;\">\n",
       "      <th></th>\n",
       "      <th>time_idx</th>\n",
       "      <th>datetime</th>\n",
       "      <th>group</th>\n",
       "      <th>target</th>\n",
       "      <th>inflow_lag_0</th>\n",
       "      <th>inflow_lag_1</th>\n",
       "      <th>inflow_lag_2</th>\n",
       "      <th>inflow_lag_3</th>\n",
       "      <th>outflow_lag_0</th>\n",
       "      <th>outflow_lag_1</th>\n",
       "      <th>...</th>\n",
       "      <th>wind_speed</th>\n",
       "      <th>rain_1h</th>\n",
       "      <th>temp</th>\n",
       "      <th>clouds_all</th>\n",
       "      <th>snow_3h</th>\n",
       "      <th>rain_3h</th>\n",
       "      <th>humidity</th>\n",
       "      <th>snow_1h</th>\n",
       "      <th>weather_description</th>\n",
       "      <th>weather_main</th>\n",
       "    </tr>\n",
       "  </thead>\n",
       "  <tbody>\n",
       "    <tr>\n",
       "      <th>0</th>\n",
       "      <td>167</td>\n",
       "      <td>2021-01-07 23:00:00</td>\n",
       "      <td>4</td>\n",
       "      <td>0.0</td>\n",
       "      <td>10.0</td>\n",
       "      <td>8.0</td>\n",
       "      <td>1.0</td>\n",
       "      <td>1.0</td>\n",
       "      <td>5.0</td>\n",
       "      <td>3.0</td>\n",
       "      <td>...</td>\n",
       "      <td>7.70</td>\n",
       "      <td>0.0</td>\n",
       "      <td>276.41</td>\n",
       "      <td>0</td>\n",
       "      <td>0.0</td>\n",
       "      <td>0.0</td>\n",
       "      <td>53</td>\n",
       "      <td>0.0</td>\n",
       "      <td>16</td>\n",
       "      <td>0</td>\n",
       "    </tr>\n",
       "    <tr>\n",
       "      <th>1</th>\n",
       "      <td>168</td>\n",
       "      <td>2021-01-08 00:00:00</td>\n",
       "      <td>4</td>\n",
       "      <td>1.0</td>\n",
       "      <td>4.0</td>\n",
       "      <td>13.0</td>\n",
       "      <td>0.0</td>\n",
       "      <td>2.0</td>\n",
       "      <td>0.0</td>\n",
       "      <td>1.0</td>\n",
       "      <td>...</td>\n",
       "      <td>8.23</td>\n",
       "      <td>0.0</td>\n",
       "      <td>275.35</td>\n",
       "      <td>0</td>\n",
       "      <td>0.0</td>\n",
       "      <td>0.0</td>\n",
       "      <td>56</td>\n",
       "      <td>0.0</td>\n",
       "      <td>16</td>\n",
       "      <td>0</td>\n",
       "    </tr>\n",
       "    <tr>\n",
       "      <th>2</th>\n",
       "      <td>169</td>\n",
       "      <td>2021-01-08 01:00:00</td>\n",
       "      <td>4</td>\n",
       "      <td>2.0</td>\n",
       "      <td>1.0</td>\n",
       "      <td>9.0</td>\n",
       "      <td>0.0</td>\n",
       "      <td>0.0</td>\n",
       "      <td>1.0</td>\n",
       "      <td>2.0</td>\n",
       "      <td>...</td>\n",
       "      <td>6.70</td>\n",
       "      <td>0.0</td>\n",
       "      <td>274.53</td>\n",
       "      <td>0</td>\n",
       "      <td>0.0</td>\n",
       "      <td>0.0</td>\n",
       "      <td>61</td>\n",
       "      <td>0.0</td>\n",
       "      <td>16</td>\n",
       "      <td>0</td>\n",
       "    </tr>\n",
       "    <tr>\n",
       "      <th>3</th>\n",
       "      <td>170</td>\n",
       "      <td>2021-01-08 02:00:00</td>\n",
       "      <td>4</td>\n",
       "      <td>0.0</td>\n",
       "      <td>1.0</td>\n",
       "      <td>5.0</td>\n",
       "      <td>0.0</td>\n",
       "      <td>1.0</td>\n",
       "      <td>2.0</td>\n",
       "      <td>3.0</td>\n",
       "      <td>...</td>\n",
       "      <td>6.20</td>\n",
       "      <td>0.0</td>\n",
       "      <td>274.13</td>\n",
       "      <td>0</td>\n",
       "      <td>0.0</td>\n",
       "      <td>0.0</td>\n",
       "      <td>63</td>\n",
       "      <td>0.0</td>\n",
       "      <td>16</td>\n",
       "      <td>0</td>\n",
       "    </tr>\n",
       "    <tr>\n",
       "      <th>4</th>\n",
       "      <td>171</td>\n",
       "      <td>2021-01-08 03:00:00</td>\n",
       "      <td>4</td>\n",
       "      <td>0.0</td>\n",
       "      <td>3.0</td>\n",
       "      <td>2.0</td>\n",
       "      <td>1.0</td>\n",
       "      <td>1.0</td>\n",
       "      <td>0.0</td>\n",
       "      <td>0.0</td>\n",
       "      <td>...</td>\n",
       "      <td>4.63</td>\n",
       "      <td>0.0</td>\n",
       "      <td>273.48</td>\n",
       "      <td>0</td>\n",
       "      <td>0.0</td>\n",
       "      <td>0.0</td>\n",
       "      <td>64</td>\n",
       "      <td>0.0</td>\n",
       "      <td>16</td>\n",
       "      <td>0</td>\n",
       "    </tr>\n",
       "    <tr>\n",
       "      <th>...</th>\n",
       "      <td>...</td>\n",
       "      <td>...</td>\n",
       "      <td>...</td>\n",
       "      <td>...</td>\n",
       "      <td>...</td>\n",
       "      <td>...</td>\n",
       "      <td>...</td>\n",
       "      <td>...</td>\n",
       "      <td>...</td>\n",
       "      <td>...</td>\n",
       "      <td>...</td>\n",
       "      <td>...</td>\n",
       "      <td>...</td>\n",
       "      <td>...</td>\n",
       "      <td>...</td>\n",
       "      <td>...</td>\n",
       "      <td>...</td>\n",
       "      <td>...</td>\n",
       "      <td>...</td>\n",
       "      <td>...</td>\n",
       "      <td>...</td>\n",
       "    </tr>\n",
       "    <tr>\n",
       "      <th>1631191</th>\n",
       "      <td>24808</td>\n",
       "      <td>2023-10-31 16:00:00</td>\n",
       "      <td>263</td>\n",
       "      <td>126.0</td>\n",
       "      <td>176.0</td>\n",
       "      <td>136.0</td>\n",
       "      <td>23.0</td>\n",
       "      <td>226.0</td>\n",
       "      <td>142.0</td>\n",
       "      <td>113.0</td>\n",
       "      <td>...</td>\n",
       "      <td>4.63</td>\n",
       "      <td>0.0</td>\n",
       "      <td>282.29</td>\n",
       "      <td>20</td>\n",
       "      <td>0.0</td>\n",
       "      <td>0.0</td>\n",
       "      <td>50</td>\n",
       "      <td>0.0</td>\n",
       "      <td>2</td>\n",
       "      <td>1</td>\n",
       "    </tr>\n",
       "    <tr>\n",
       "      <th>1631192</th>\n",
       "      <td>24809</td>\n",
       "      <td>2023-10-31 17:00:00</td>\n",
       "      <td>263</td>\n",
       "      <td>112.0</td>\n",
       "      <td>153.0</td>\n",
       "      <td>144.0</td>\n",
       "      <td>9.0</td>\n",
       "      <td>185.0</td>\n",
       "      <td>126.0</td>\n",
       "      <td>82.0</td>\n",
       "      <td>...</td>\n",
       "      <td>4.12</td>\n",
       "      <td>0.0</td>\n",
       "      <td>283.77</td>\n",
       "      <td>20</td>\n",
       "      <td>0.0</td>\n",
       "      <td>0.0</td>\n",
       "      <td>47</td>\n",
       "      <td>0.0</td>\n",
       "      <td>2</td>\n",
       "      <td>1</td>\n",
       "    </tr>\n",
       "    <tr>\n",
       "      <th>1631193</th>\n",
       "      <td>24810</td>\n",
       "      <td>2023-10-31 18:00:00</td>\n",
       "      <td>263</td>\n",
       "      <td>99.0</td>\n",
       "      <td>135.0</td>\n",
       "      <td>94.0</td>\n",
       "      <td>7.0</td>\n",
       "      <td>136.0</td>\n",
       "      <td>112.0</td>\n",
       "      <td>77.0</td>\n",
       "      <td>...</td>\n",
       "      <td>3.60</td>\n",
       "      <td>0.0</td>\n",
       "      <td>283.52</td>\n",
       "      <td>75</td>\n",
       "      <td>0.0</td>\n",
       "      <td>0.0</td>\n",
       "      <td>50</td>\n",
       "      <td>0.0</td>\n",
       "      <td>0</td>\n",
       "      <td>1</td>\n",
       "    </tr>\n",
       "    <tr>\n",
       "      <th>1631194</th>\n",
       "      <td>24811</td>\n",
       "      <td>2023-10-31 19:00:00</td>\n",
       "      <td>263</td>\n",
       "      <td>60.0</td>\n",
       "      <td>119.0</td>\n",
       "      <td>62.0</td>\n",
       "      <td>4.0</td>\n",
       "      <td>85.0</td>\n",
       "      <td>99.0</td>\n",
       "      <td>30.0</td>\n",
       "      <td>...</td>\n",
       "      <td>4.12</td>\n",
       "      <td>0.0</td>\n",
       "      <td>283.69</td>\n",
       "      <td>100</td>\n",
       "      <td>0.0</td>\n",
       "      <td>0.0</td>\n",
       "      <td>48</td>\n",
       "      <td>0.0</td>\n",
       "      <td>14</td>\n",
       "      <td>1</td>\n",
       "    </tr>\n",
       "    <tr>\n",
       "      <th>1631195</th>\n",
       "      <td>24812</td>\n",
       "      <td>2023-10-31 20:00:00</td>\n",
       "      <td>263</td>\n",
       "      <td>50.0</td>\n",
       "      <td>119.0</td>\n",
       "      <td>23.0</td>\n",
       "      <td>4.0</td>\n",
       "      <td>42.0</td>\n",
       "      <td>60.0</td>\n",
       "      <td>10.0</td>\n",
       "      <td>...</td>\n",
       "      <td>3.60</td>\n",
       "      <td>0.0</td>\n",
       "      <td>283.62</td>\n",
       "      <td>100</td>\n",
       "      <td>0.0</td>\n",
       "      <td>0.0</td>\n",
       "      <td>49</td>\n",
       "      <td>0.0</td>\n",
       "      <td>14</td>\n",
       "      <td>1</td>\n",
       "    </tr>\n",
       "  </tbody>\n",
       "</table>\n",
       "<p>1631196 rows × 171 columns</p>\n",
       "</div>"
      ],
      "text/plain": [
       "         time_idx            datetime  group  target  inflow_lag_0  \\\n",
       "0             167 2021-01-07 23:00:00      4     0.0          10.0   \n",
       "1             168 2021-01-08 00:00:00      4     1.0           4.0   \n",
       "2             169 2021-01-08 01:00:00      4     2.0           1.0   \n",
       "3             170 2021-01-08 02:00:00      4     0.0           1.0   \n",
       "4             171 2021-01-08 03:00:00      4     0.0           3.0   \n",
       "...           ...                 ...    ...     ...           ...   \n",
       "1631191     24808 2023-10-31 16:00:00    263   126.0         176.0   \n",
       "1631192     24809 2023-10-31 17:00:00    263   112.0         153.0   \n",
       "1631193     24810 2023-10-31 18:00:00    263    99.0         135.0   \n",
       "1631194     24811 2023-10-31 19:00:00    263    60.0         119.0   \n",
       "1631195     24812 2023-10-31 20:00:00    263    50.0         119.0   \n",
       "\n",
       "         inflow_lag_1  inflow_lag_2  inflow_lag_3  outflow_lag_0  \\\n",
       "0                 8.0           1.0           1.0            5.0   \n",
       "1                13.0           0.0           2.0            0.0   \n",
       "2                 9.0           0.0           0.0            1.0   \n",
       "3                 5.0           0.0           1.0            2.0   \n",
       "4                 2.0           1.0           1.0            0.0   \n",
       "...               ...           ...           ...            ...   \n",
       "1631191         136.0          23.0         226.0          142.0   \n",
       "1631192         144.0           9.0         185.0          126.0   \n",
       "1631193          94.0           7.0         136.0          112.0   \n",
       "1631194          62.0           4.0          85.0           99.0   \n",
       "1631195          23.0           4.0          42.0           60.0   \n",
       "\n",
       "         outflow_lag_1  ...  wind_speed  rain_1h    temp  clouds_all  snow_3h  \\\n",
       "0                  3.0  ...        7.70      0.0  276.41           0      0.0   \n",
       "1                  1.0  ...        8.23      0.0  275.35           0      0.0   \n",
       "2                  2.0  ...        6.70      0.0  274.53           0      0.0   \n",
       "3                  3.0  ...        6.20      0.0  274.13           0      0.0   \n",
       "4                  0.0  ...        4.63      0.0  273.48           0      0.0   \n",
       "...                ...  ...         ...      ...     ...         ...      ...   \n",
       "1631191          113.0  ...        4.63      0.0  282.29          20      0.0   \n",
       "1631192           82.0  ...        4.12      0.0  283.77          20      0.0   \n",
       "1631193           77.0  ...        3.60      0.0  283.52          75      0.0   \n",
       "1631194           30.0  ...        4.12      0.0  283.69         100      0.0   \n",
       "1631195           10.0  ...        3.60      0.0  283.62         100      0.0   \n",
       "\n",
       "         rain_3h  humidity  snow_1h  weather_description  weather_main  \n",
       "0            0.0        53      0.0                   16             0  \n",
       "1            0.0        56      0.0                   16             0  \n",
       "2            0.0        61      0.0                   16             0  \n",
       "3            0.0        63      0.0                   16             0  \n",
       "4            0.0        64      0.0                   16             0  \n",
       "...          ...       ...      ...                  ...           ...  \n",
       "1631191      0.0        50      0.0                    2             1  \n",
       "1631192      0.0        47      0.0                    2             1  \n",
       "1631193      0.0        50      0.0                    0             1  \n",
       "1631194      0.0        48      0.0                   14             1  \n",
       "1631195      0.0        49      0.0                   14             1  \n",
       "\n",
       "[1631196 rows x 171 columns]"
      ]
     },
     "execution_count": 3,
     "metadata": {},
     "output_type": "execute_result"
    }
   ],
   "source": [
    "\"\"\"\n",
    "Import pre-processed Data (tsfresh features)\n",
    "\n",
    "response and target are the same thing\n",
    "\"\"\"\n",
    "\n",
    "### Your code\n",
    "os.chdir('/home/optimusprime/Desktop/Data_Timothy')\n",
    "############ Basically df = raw_feat_df <-------------------------\n",
    "df = pd.read_parquet('EXP_4_combined_dd_ss_all_covariates_encoded_further_preprocessed.parquet', engine='pyarrow')\n",
    "df"
   ]
  },
  {
   "cell_type": "code",
   "execution_count": 4,
   "metadata": {},
   "outputs": [],
   "source": [
    "working_directory = '/home/optimusprime/Desktop/Timothy_EXP_4'\n",
    "os.chdir(working_directory)"
   ]
  },
  {
   "cell_type": "code",
   "execution_count": 5,
   "metadata": {},
   "outputs": [
    {
     "name": "stdout",
     "output_type": "stream",
     "text": [
      "66 \n",
      "\n",
      "[4, 12, 13, 24, 41, 42, 43, 45, 48, 50, 68, 74, 75, 79, 87, 88, 90, 100, 107, 113, 114, 116, 120, 125, 127, 128, 137, 140, 141, 142, 143, 144, 148, 151, 152, 153, 158, 161, 162, 163, 164, 166, 170, 186, 194, 202, 209, 211, 224, 229, 230, 231, 232, 233, 234, 236, 237, 238, 239, 243, 244, 246, 249, 261, 262, 263]\n"
     ]
    }
   ],
   "source": [
    "unique_values_group_no_ts_fresh = list(df['group'].unique())\n",
    "print(len(unique_values_group_no_ts_fresh), \"\\n\")\n",
    "print(unique_values_group_no_ts_fresh)"
   ]
  },
  {
   "cell_type": "code",
   "execution_count": 6,
   "metadata": {},
   "outputs": [
    {
     "name": "stdout",
     "output_type": "stream",
     "text": [
      "Group  4  has  24646  number of rows in df_ts_fresh \n",
      "\n",
      "First idx:  167 ; Last idx:  24812 \n",
      "\n",
      "Group  12  has  24789  number of rows in df_ts_fresh \n",
      "\n",
      "First idx:  24 ; Last idx:  24812 \n",
      "\n",
      "Group  13  has  24790  number of rows in df_ts_fresh \n",
      "\n",
      "First idx:  23 ; Last idx:  24812 \n",
      "\n",
      "Group  24  has  24645  number of rows in df_ts_fresh \n",
      "\n",
      "First idx:  168 ; Last idx:  24812 \n",
      "\n",
      "Group  41  has  24645  number of rows in df_ts_fresh \n",
      "\n",
      "First idx:  168 ; Last idx:  24812 \n",
      "\n",
      "Group  42  has  24645  number of rows in df_ts_fresh \n",
      "\n",
      "First idx:  168 ; Last idx:  24812 \n",
      "\n",
      "Group  43  has  24788  number of rows in df_ts_fresh \n",
      "\n",
      "First idx:  25 ; Last idx:  24812 \n",
      "\n",
      "Group  45  has  24646  number of rows in df_ts_fresh \n",
      "\n",
      "First idx:  167 ; Last idx:  24812 \n",
      "\n",
      "Group  48  has  24788  number of rows in df_ts_fresh \n",
      "\n",
      "First idx:  25 ; Last idx:  24812 \n",
      "\n",
      "Group  50  has  24646  number of rows in df_ts_fresh \n",
      "\n",
      "First idx:  167 ; Last idx:  24812 \n",
      "\n",
      "Group  68  has  24790  number of rows in df_ts_fresh \n",
      "\n",
      "First idx:  23 ; Last idx:  24812 \n",
      "\n",
      "Group  74  has  24645  number of rows in df_ts_fresh \n",
      "\n",
      "First idx:  168 ; Last idx:  24812 \n",
      "\n",
      "Group  75  has  24790  number of rows in df_ts_fresh \n",
      "\n",
      "First idx:  23 ; Last idx:  24812 \n",
      "\n",
      "Group  79  has  24647  number of rows in df_ts_fresh \n",
      "\n",
      "First idx:  166 ; Last idx:  24812 \n",
      "\n",
      "Group  87  has  24790  number of rows in df_ts_fresh \n",
      "\n",
      "First idx:  23 ; Last idx:  24812 \n",
      "\n",
      "Group  88  has  24790  number of rows in df_ts_fresh \n",
      "\n",
      "First idx:  23 ; Last idx:  24812 \n",
      "\n",
      "Group  90  has  24788  number of rows in df_ts_fresh \n",
      "\n",
      "First idx:  25 ; Last idx:  24812 \n",
      "\n",
      "Group  100  has  24646  number of rows in df_ts_fresh \n",
      "\n",
      "First idx:  167 ; Last idx:  24812 \n",
      "\n",
      "Group  107  has  24788  number of rows in df_ts_fresh \n",
      "\n",
      "First idx:  25 ; Last idx:  24812 \n",
      "\n",
      "Group  113  has  24790  number of rows in df_ts_fresh \n",
      "\n",
      "First idx:  23 ; Last idx:  24812 \n",
      "\n",
      "Group  114  has  24646  number of rows in df_ts_fresh \n",
      "\n",
      "First idx:  167 ; Last idx:  24812 \n",
      "\n",
      "Group  116  has  24645  number of rows in df_ts_fresh \n",
      "\n",
      "First idx:  168 ; Last idx:  24812 \n",
      "\n",
      "Group  120  has  24715  number of rows in df_ts_fresh \n",
      "\n",
      "First idx:  98 ; Last idx:  24812 \n",
      "\n",
      "Group  125  has  24670  number of rows in df_ts_fresh \n",
      "\n",
      "First idx:  143 ; Last idx:  24812 \n",
      "\n",
      "Group  127  has  24645  number of rows in df_ts_fresh \n",
      "\n",
      "First idx:  168 ; Last idx:  24812 \n",
      "\n",
      "Group  128  has  24669  number of rows in df_ts_fresh \n",
      "\n",
      "First idx:  144 ; Last idx:  24812 \n",
      "\n",
      "Group  137  has  24787  number of rows in df_ts_fresh \n",
      "\n",
      "First idx:  26 ; Last idx:  24812 \n",
      "\n",
      "Group  140  has  24788  number of rows in df_ts_fresh \n",
      "\n",
      "First idx:  25 ; Last idx:  24812 \n",
      "\n",
      "Group  141  has  24790  number of rows in df_ts_fresh \n",
      "\n",
      "First idx:  23 ; Last idx:  24812 \n",
      "\n",
      "Group  142  has  24790  number of rows in df_ts_fresh \n",
      "\n",
      "First idx:  23 ; Last idx:  24812 \n",
      "\n",
      "Group  143  has  24646  number of rows in df_ts_fresh \n",
      "\n",
      "First idx:  167 ; Last idx:  24812 \n",
      "\n",
      "Group  144  has  24646  number of rows in df_ts_fresh \n",
      "\n",
      "First idx:  167 ; Last idx:  24812 \n",
      "\n",
      "Group  148  has  24647  number of rows in df_ts_fresh \n",
      "\n",
      "First idx:  166 ; Last idx:  24812 \n",
      "\n",
      "Group  151  has  24645  number of rows in df_ts_fresh \n",
      "\n",
      "First idx:  168 ; Last idx:  24812 \n",
      "\n",
      "Group  152  has  24645  number of rows in df_ts_fresh \n",
      "\n",
      "First idx:  168 ; Last idx:  24812 \n",
      "\n",
      "Group  153  has  24645  number of rows in df_ts_fresh \n",
      "\n",
      "First idx:  168 ; Last idx:  24812 \n",
      "\n",
      "Group  158  has  24646  number of rows in df_ts_fresh \n",
      "\n",
      "First idx:  167 ; Last idx:  24812 \n",
      "\n",
      "Group  161  has  24644  number of rows in df_ts_fresh \n",
      "\n",
      "First idx:  169 ; Last idx:  24812 \n",
      "\n",
      "Group  162  has  24788  number of rows in df_ts_fresh \n",
      "\n",
      "First idx:  25 ; Last idx:  24812 \n",
      "\n",
      "Group  163  has  24788  number of rows in df_ts_fresh \n",
      "\n",
      "First idx:  25 ; Last idx:  24812 \n",
      "\n",
      "Group  164  has  24790  number of rows in df_ts_fresh \n",
      "\n",
      "First idx:  23 ; Last idx:  24812 \n",
      "\n",
      "Group  166  has  24790  number of rows in df_ts_fresh \n",
      "\n",
      "First idx:  23 ; Last idx:  24812 \n",
      "\n",
      "Group  170  has  24788  number of rows in df_ts_fresh \n",
      "\n",
      "First idx:  25 ; Last idx:  24812 \n",
      "\n",
      "Group  186  has  24645  number of rows in df_ts_fresh \n",
      "\n",
      "First idx:  168 ; Last idx:  24812 \n",
      "\n",
      "Group  194  has  24789  number of rows in df_ts_fresh \n",
      "\n",
      "First idx:  24 ; Last idx:  24812 \n",
      "\n",
      "Group  202  has  24645  number of rows in df_ts_fresh \n",
      "\n",
      "First idx:  168 ; Last idx:  24812 \n",
      "\n",
      "Group  209  has  24646  number of rows in df_ts_fresh \n",
      "\n",
      "First idx:  167 ; Last idx:  24812 \n",
      "\n",
      "Group  211  has  24646  number of rows in df_ts_fresh \n",
      "\n",
      "First idx:  167 ; Last idx:  24812 \n",
      "\n",
      "Group  224  has  24645  number of rows in df_ts_fresh \n",
      "\n",
      "First idx:  168 ; Last idx:  24812 \n",
      "\n",
      "Group  229  has  24790  number of rows in df_ts_fresh \n",
      "\n",
      "First idx:  23 ; Last idx:  24812 \n",
      "\n",
      "Group  230  has  24644  number of rows in df_ts_fresh \n",
      "\n",
      "First idx:  169 ; Last idx:  24812 \n",
      "\n",
      "Group  231  has  24790  number of rows in df_ts_fresh \n",
      "\n",
      "First idx:  23 ; Last idx:  24812 \n",
      "\n",
      "Group  232  has  24646  number of rows in df_ts_fresh \n",
      "\n",
      "First idx:  167 ; Last idx:  24812 \n",
      "\n",
      "Group  233  has  24790  number of rows in df_ts_fresh \n",
      "\n",
      "First idx:  23 ; Last idx:  24812 \n",
      "\n",
      "Group  234  has  24788  number of rows in df_ts_fresh \n",
      "\n",
      "First idx:  25 ; Last idx:  24812 \n",
      "\n",
      "Group  236  has  24788  number of rows in df_ts_fresh \n",
      "\n",
      "First idx:  25 ; Last idx:  24812 \n",
      "\n",
      "Group  237  has  24788  number of rows in df_ts_fresh \n",
      "\n",
      "First idx:  25 ; Last idx:  24812 \n",
      "\n",
      "Group  238  has  24790  number of rows in df_ts_fresh \n",
      "\n",
      "First idx:  23 ; Last idx:  24812 \n",
      "\n",
      "Group  239  has  24790  number of rows in df_ts_fresh \n",
      "\n",
      "First idx:  23 ; Last idx:  24812 \n",
      "\n",
      "Group  243  has  24645  number of rows in df_ts_fresh \n",
      "\n",
      "First idx:  168 ; Last idx:  24812 \n",
      "\n",
      "Group  244  has  24645  number of rows in df_ts_fresh \n",
      "\n",
      "First idx:  168 ; Last idx:  24812 \n",
      "\n",
      "Group  246  has  24788  number of rows in df_ts_fresh \n",
      "\n",
      "First idx:  25 ; Last idx:  24812 \n",
      "\n",
      "Group  249  has  24671  number of rows in df_ts_fresh \n",
      "\n",
      "First idx:  142 ; Last idx:  24812 \n",
      "\n",
      "Group  261  has  24790  number of rows in df_ts_fresh \n",
      "\n",
      "First idx:  23 ; Last idx:  24812 \n",
      "\n",
      "Group  262  has  24646  number of rows in df_ts_fresh \n",
      "\n",
      "First idx:  167 ; Last idx:  24812 \n",
      "\n",
      "Group  263  has  24646  number of rows in df_ts_fresh \n",
      "\n",
      "First idx:  167 ; Last idx:  24812 \n",
      "\n"
     ]
    }
   ],
   "source": [
    "zones_time_idx_no_ts_fresh = {}\n",
    "for i in unique_values_group_no_ts_fresh:\n",
    "    df1 = df[df['group'] == i]\n",
    "    time_idx_list = df1['time_idx'].tolist()\n",
    "    first_idx = time_idx_list[0]\n",
    "    last_idx = time_idx_list[-1]\n",
    "    zones_time_idx_no_ts_fresh[i] = [first_idx, last_idx]\n",
    "    print(\"Group \", i, \" has \", df1.shape[0], \" number of rows in df_ts_fresh \\n\")\n",
    "    print(\"First idx: \", first_idx, \"; Last idx: \", last_idx, \"\\n\")"
   ]
  },
  {
   "cell_type": "code",
   "execution_count": 7,
   "metadata": {},
   "outputs": [],
   "source": [
    "first_idx = df.loc[df['group'] == 13, 'time_idx'].iloc[0]\n",
    "total_time_idx = df[df.group == 13].shape[0]\n",
    "reduced_df_time_idx = [*range(first_idx, int(dataset_size*total_time_idx)+1, 1)]\n",
    "df = df[df['time_idx'].isin(reduced_df_time_idx)]"
   ]
  },
  {
   "cell_type": "code",
   "execution_count": 8,
   "metadata": {},
   "outputs": [
    {
     "name": "stdout",
     "output_type": "stream",
     "text": [
      "['inflow_lag_0', 'inflow_lag_1', 'inflow_lag_2', 'inflow_lag_3', 'outflow_lag_0', 'outflow_lag_1', 'outflow_lag_2', 'outflow_lag_3', 'inflow', 'inflow_diff1_per1', 'inflow_diff1_per2', 'inflow_diff2_per1', 'inflow_lag_0__fft_coefficient__attr_\"real\"__coeff_0', 'inflow_lag_0__fft_coefficient__attr_\"real\"__coeff_1', 'inflow_lag_0__skewness', 'inflow_lag_0__kurtosis', 'inflow_lag_0__count_above_mean', 'inflow_lag_0__count_below_mean', 'inflow_lag_0__autocorrelation__lag_1', 'inflow_lag_0__autocorrelation__lag_2', 'inflow_lag_0__autocorrelation__lag_3', 'inflow_lag_0__partial_autocorrelation__lag_1', 'inflow_lag_0__partial_autocorrelation__lag_2', 'inflow_lag_0__partial_autocorrelation__lag_3', 'inflow_lag_1__fft_coefficient__attr_\"real\"__coeff_0', 'inflow_lag_1__fft_coefficient__attr_\"real\"__coeff_1', 'inflow_lag_1__skewness', 'inflow_lag_1__kurtosis', 'inflow_lag_1__count_above_mean', 'inflow_lag_1__count_below_mean', 'inflow_lag_1__autocorrelation__lag_1', 'inflow_lag_1__autocorrelation__lag_2', 'inflow_lag_1__autocorrelation__lag_3', 'inflow_lag_1__partial_autocorrelation__lag_1', 'inflow_lag_1__partial_autocorrelation__lag_2', 'inflow_lag_1__partial_autocorrelation__lag_3', 'inflow_lag_2__fft_coefficient__attr_\"real\"__coeff_0', 'inflow_lag_2__fft_coefficient__attr_\"real\"__coeff_1', 'inflow_lag_2__skewness', 'inflow_lag_2__kurtosis', 'inflow_lag_2__count_above_mean', 'inflow_lag_2__count_below_mean', 'inflow_lag_2__autocorrelation__lag_1', 'inflow_lag_2__autocorrelation__lag_2', 'inflow_lag_2__autocorrelation__lag_3', 'inflow_lag_2__partial_autocorrelation__lag_1', 'inflow_lag_2__partial_autocorrelation__lag_2', 'inflow_lag_2__partial_autocorrelation__lag_3', 'inflow_lag_3__fft_coefficient__attr_\"real\"__coeff_0', 'inflow_lag_3__fft_coefficient__attr_\"real\"__coeff_1', 'inflow_lag_3__skewness', 'inflow_lag_3__kurtosis', 'inflow_lag_3__count_above_mean', 'inflow_lag_3__count_below_mean', 'inflow_lag_3__autocorrelation__lag_1', 'inflow_lag_3__autocorrelation__lag_2', 'inflow_lag_3__autocorrelation__lag_3', 'inflow_lag_3__partial_autocorrelation__lag_1', 'inflow_lag_3__partial_autocorrelation__lag_2', 'inflow_lag_3__partial_autocorrelation__lag_3', 'outflow_lag_0__fft_coefficient__attr_\"real\"__coeff_0', 'outflow_lag_0__fft_coefficient__attr_\"real\"__coeff_1', 'outflow_lag_0__skewness', 'outflow_lag_0__kurtosis', 'outflow_lag_0__count_above_mean', 'outflow_lag_0__count_below_mean', 'outflow_lag_0__autocorrelation__lag_1', 'outflow_lag_0__autocorrelation__lag_2', 'outflow_lag_0__autocorrelation__lag_3', 'outflow_lag_0__partial_autocorrelation__lag_1', 'outflow_lag_0__partial_autocorrelation__lag_2', 'outflow_lag_0__partial_autocorrelation__lag_3', 'outflow_lag_1__fft_coefficient__attr_\"real\"__coeff_0', 'outflow_lag_1__fft_coefficient__attr_\"real\"__coeff_1', 'outflow_lag_1__skewness', 'outflow_lag_1__kurtosis', 'outflow_lag_1__count_above_mean', 'outflow_lag_1__count_below_mean', 'outflow_lag_1__autocorrelation__lag_1', 'outflow_lag_1__autocorrelation__lag_2', 'outflow_lag_1__autocorrelation__lag_3', 'outflow_lag_1__partial_autocorrelation__lag_1', 'outflow_lag_1__partial_autocorrelation__lag_2', 'outflow_lag_1__partial_autocorrelation__lag_3', 'outflow_lag_2__fft_coefficient__attr_\"real\"__coeff_0', 'outflow_lag_2__fft_coefficient__attr_\"real\"__coeff_1', 'outflow_lag_2__skewness', 'outflow_lag_2__kurtosis', 'outflow_lag_2__count_above_mean', 'outflow_lag_2__count_below_mean', 'outflow_lag_2__autocorrelation__lag_1', 'outflow_lag_2__autocorrelation__lag_2', 'outflow_lag_2__autocorrelation__lag_3', 'outflow_lag_2__partial_autocorrelation__lag_1', 'outflow_lag_2__partial_autocorrelation__lag_2', 'outflow_lag_2__partial_autocorrelation__lag_3', 'outflow_lag_3__fft_coefficient__attr_\"real\"__coeff_0', 'outflow_lag_3__fft_coefficient__attr_\"real\"__coeff_1', 'outflow_lag_3__skewness', 'outflow_lag_3__kurtosis', 'outflow_lag_3__count_above_mean', 'outflow_lag_3__count_below_mean', 'outflow_lag_3__autocorrelation__lag_1', 'outflow_lag_3__autocorrelation__lag_2', 'outflow_lag_3__autocorrelation__lag_3', 'outflow_lag_3__partial_autocorrelation__lag_1', 'outflow_lag_3__partial_autocorrelation__lag_2', 'outflow_lag_3__partial_autocorrelation__lag_3', 'inflow__fft_coefficient__attr_\"real\"__coeff_0', 'inflow__fft_coefficient__attr_\"real\"__coeff_1', 'inflow__skewness', 'inflow__kurtosis', 'inflow__count_above_mean', 'inflow__count_below_mean', 'inflow__autocorrelation__lag_1', 'inflow__autocorrelation__lag_2', 'inflow__autocorrelation__lag_3', 'inflow__partial_autocorrelation__lag_1', 'inflow__partial_autocorrelation__lag_2', 'inflow__partial_autocorrelation__lag_3', 'inflow_diff1_per1__fft_coefficient__attr_\"real\"__coeff_0', 'inflow_diff1_per1__fft_coefficient__attr_\"real\"__coeff_1', 'inflow_diff1_per1__kurtosis', 'inflow_diff1_per1__count_above_mean', 'inflow_diff1_per1__count_below_mean', 'inflow_diff1_per1__autocorrelation__lag_1', 'inflow_diff1_per1__autocorrelation__lag_2', 'inflow_diff1_per1__autocorrelation__lag_3', 'inflow_diff1_per1__partial_autocorrelation__lag_1', 'inflow_diff1_per1__partial_autocorrelation__lag_2', 'inflow_diff1_per1__partial_autocorrelation__lag_3', 'inflow_diff1_per1__skewness', 'inflow_diff1_per2__fft_coefficient__attr_\"real\"__coeff_0', 'inflow_diff1_per2__fft_coefficient__attr_\"real\"__coeff_1', 'inflow_diff1_per2__skewness', 'inflow_diff1_per2__kurtosis', 'inflow_diff1_per2__count_above_mean', 'inflow_diff1_per2__count_below_mean', 'inflow_diff1_per2__autocorrelation__lag_1', 'inflow_diff1_per2__autocorrelation__lag_2', 'inflow_diff1_per2__autocorrelation__lag_3', 'inflow_diff1_per2__partial_autocorrelation__lag_1', 'inflow_diff1_per2__partial_autocorrelation__lag_2', 'inflow_diff1_per2__partial_autocorrelation__lag_3', 'inflow_diff2_per1__fft_coefficient__attr_\"real\"__coeff_1', 'inflow_diff2_per1__count_above_mean', 'inflow_diff2_per1__autocorrelation__lag_1', 'inflow_diff2_per1__autocorrelation__lag_2', 'inflow_diff2_per1__partial_autocorrelation__lag_1', 'inflow_diff2_per1__partial_autocorrelation__lag_2', 'inflow_diff2_per1__partial_autocorrelation__lag_3', 'inflow_diff2_per1__fft_coefficient__attr_\"real\"__coeff_0', 'inflow_diff2_per1__autocorrelation__lag_3', 'inflow_diff2_per1__count_below_mean', 'inflow_diff2_per1__kurtosis', 'ave_total_fair', 'wind_gust', 'wind_speed', 'rain_1h', 'temp', 'clouds_all', 'snow_3h', 'rain_3h', 'humidity', 'snow_1h']\n"
     ]
    }
   ],
   "source": [
    "numeric_cols = list(df.columns)\n",
    "numeric_cols = [e for e in numeric_cols if e not in ('time_idx', 'datetime', 'group', 'target', 'weather_description', 'weather_main')]\n",
    "print(numeric_cols)"
   ]
  },
  {
   "cell_type": "code",
   "execution_count": 9,
   "metadata": {},
   "outputs": [],
   "source": [
    "#################### add date information ts ####################\n",
    "\n",
    "# create datetime features from datetime column in raw_feat_df\n",
    "df['_hour_of_day'] = df[\"datetime\"].dt.hour.astype(str)\n",
    "df['_day_of_week'] = df[\"datetime\"].dt.dayofweek.astype(str)\n",
    "df['_day_of_month'] = df[\"datetime\"].dt.day.astype(str)\n",
    "df['_day_of_year'] = df[\"datetime\"].dt.dayofyear.astype(str)\n",
    "df['_week_of_year'] = df[\"datetime\"].dt.weekofyear.astype(str)\n",
    "df['_month_of_year'] = df[\"datetime\"].dt.month.astype(str)\n",
    "df['_year'] = df[\"datetime\"].dt.year.astype(str)\n",
    "#################### add date information ts ####################\n",
    "\n",
    "hour_of_day_nunique = df['_hour_of_day'].nunique()\n",
    "day_of_week_nunique = df['_day_of_week'].nunique()\n",
    "day_of_month_nunique = df['_day_of_month'].nunique()\n",
    "day_of_year_nunique = df['_day_of_year'].nunique()\n",
    "week_of_year_nunique = df['_week_of_year'].nunique()\n",
    "month_of_year_nunique = df['_month_of_year'].nunique()\n",
    "year_nunique = df['_year'].nunique()"
   ]
  },
  {
   "cell_type": "code",
   "execution_count": 10,
   "metadata": {},
   "outputs": [
    {
     "data": {
      "text/html": [
       "<div>\n",
       "<style scoped>\n",
       "    .dataframe tbody tr th:only-of-type {\n",
       "        vertical-align: middle;\n",
       "    }\n",
       "\n",
       "    .dataframe tbody tr th {\n",
       "        vertical-align: top;\n",
       "    }\n",
       "\n",
       "    .dataframe thead th {\n",
       "        text-align: right;\n",
       "    }\n",
       "</style>\n",
       "<table border=\"1\" class=\"dataframe\">\n",
       "  <thead>\n",
       "    <tr style=\"text-align: right;\">\n",
       "      <th></th>\n",
       "      <th>time_idx</th>\n",
       "      <th>datetime</th>\n",
       "      <th>group</th>\n",
       "      <th>target</th>\n",
       "      <th>inflow_lag_0</th>\n",
       "      <th>inflow_lag_1</th>\n",
       "      <th>inflow_lag_2</th>\n",
       "      <th>inflow_lag_3</th>\n",
       "      <th>outflow_lag_0</th>\n",
       "      <th>outflow_lag_1</th>\n",
       "      <th>...</th>\n",
       "      <th>snow_1h</th>\n",
       "      <th>weather_description</th>\n",
       "      <th>weather_main</th>\n",
       "      <th>_hour_of_day</th>\n",
       "      <th>_day_of_week</th>\n",
       "      <th>_day_of_month</th>\n",
       "      <th>_day_of_year</th>\n",
       "      <th>_week_of_year</th>\n",
       "      <th>_month_of_year</th>\n",
       "      <th>_year</th>\n",
       "    </tr>\n",
       "  </thead>\n",
       "  <tbody>\n",
       "    <tr>\n",
       "      <th>0</th>\n",
       "      <td>167</td>\n",
       "      <td>2021-01-07 23:00:00</td>\n",
       "      <td>4</td>\n",
       "      <td>0.0</td>\n",
       "      <td>10.0</td>\n",
       "      <td>8.0</td>\n",
       "      <td>1.0</td>\n",
       "      <td>1.0</td>\n",
       "      <td>5.0</td>\n",
       "      <td>3.0</td>\n",
       "      <td>...</td>\n",
       "      <td>0.00</td>\n",
       "      <td>16</td>\n",
       "      <td>0</td>\n",
       "      <td>23</td>\n",
       "      <td>3</td>\n",
       "      <td>7</td>\n",
       "      <td>7</td>\n",
       "      <td>1</td>\n",
       "      <td>1</td>\n",
       "      <td>2021</td>\n",
       "    </tr>\n",
       "    <tr>\n",
       "      <th>1</th>\n",
       "      <td>168</td>\n",
       "      <td>2021-01-08 00:00:00</td>\n",
       "      <td>4</td>\n",
       "      <td>1.0</td>\n",
       "      <td>4.0</td>\n",
       "      <td>13.0</td>\n",
       "      <td>0.0</td>\n",
       "      <td>2.0</td>\n",
       "      <td>0.0</td>\n",
       "      <td>1.0</td>\n",
       "      <td>...</td>\n",
       "      <td>0.00</td>\n",
       "      <td>16</td>\n",
       "      <td>0</td>\n",
       "      <td>0</td>\n",
       "      <td>4</td>\n",
       "      <td>8</td>\n",
       "      <td>8</td>\n",
       "      <td>1</td>\n",
       "      <td>1</td>\n",
       "      <td>2021</td>\n",
       "    </tr>\n",
       "    <tr>\n",
       "      <th>2</th>\n",
       "      <td>169</td>\n",
       "      <td>2021-01-08 01:00:00</td>\n",
       "      <td>4</td>\n",
       "      <td>2.0</td>\n",
       "      <td>1.0</td>\n",
       "      <td>9.0</td>\n",
       "      <td>0.0</td>\n",
       "      <td>0.0</td>\n",
       "      <td>1.0</td>\n",
       "      <td>2.0</td>\n",
       "      <td>...</td>\n",
       "      <td>0.00</td>\n",
       "      <td>16</td>\n",
       "      <td>0</td>\n",
       "      <td>1</td>\n",
       "      <td>4</td>\n",
       "      <td>8</td>\n",
       "      <td>8</td>\n",
       "      <td>1</td>\n",
       "      <td>1</td>\n",
       "      <td>2021</td>\n",
       "    </tr>\n",
       "    <tr>\n",
       "      <th>3</th>\n",
       "      <td>170</td>\n",
       "      <td>2021-01-08 02:00:00</td>\n",
       "      <td>4</td>\n",
       "      <td>0.0</td>\n",
       "      <td>1.0</td>\n",
       "      <td>5.0</td>\n",
       "      <td>0.0</td>\n",
       "      <td>1.0</td>\n",
       "      <td>2.0</td>\n",
       "      <td>3.0</td>\n",
       "      <td>...</td>\n",
       "      <td>0.00</td>\n",
       "      <td>16</td>\n",
       "      <td>0</td>\n",
       "      <td>2</td>\n",
       "      <td>4</td>\n",
       "      <td>8</td>\n",
       "      <td>8</td>\n",
       "      <td>1</td>\n",
       "      <td>1</td>\n",
       "      <td>2021</td>\n",
       "    </tr>\n",
       "    <tr>\n",
       "      <th>4</th>\n",
       "      <td>171</td>\n",
       "      <td>2021-01-08 03:00:00</td>\n",
       "      <td>4</td>\n",
       "      <td>0.0</td>\n",
       "      <td>3.0</td>\n",
       "      <td>2.0</td>\n",
       "      <td>1.0</td>\n",
       "      <td>1.0</td>\n",
       "      <td>0.0</td>\n",
       "      <td>0.0</td>\n",
       "      <td>...</td>\n",
       "      <td>0.00</td>\n",
       "      <td>16</td>\n",
       "      <td>0</td>\n",
       "      <td>3</td>\n",
       "      <td>4</td>\n",
       "      <td>8</td>\n",
       "      <td>8</td>\n",
       "      <td>1</td>\n",
       "      <td>1</td>\n",
       "      <td>2021</td>\n",
       "    </tr>\n",
       "    <tr>\n",
       "      <th>...</th>\n",
       "      <td>...</td>\n",
       "      <td>...</td>\n",
       "      <td>...</td>\n",
       "      <td>...</td>\n",
       "      <td>...</td>\n",
       "      <td>...</td>\n",
       "      <td>...</td>\n",
       "      <td>...</td>\n",
       "      <td>...</td>\n",
       "      <td>...</td>\n",
       "      <td>...</td>\n",
       "      <td>...</td>\n",
       "      <td>...</td>\n",
       "      <td>...</td>\n",
       "      <td>...</td>\n",
       "      <td>...</td>\n",
       "      <td>...</td>\n",
       "      <td>...</td>\n",
       "      <td>...</td>\n",
       "      <td>...</td>\n",
       "      <td>...</td>\n",
       "    </tr>\n",
       "    <tr>\n",
       "      <th>1607618</th>\n",
       "      <td>1235</td>\n",
       "      <td>2021-02-21 11:00:00</td>\n",
       "      <td>263</td>\n",
       "      <td>73.0</td>\n",
       "      <td>57.0</td>\n",
       "      <td>88.0</td>\n",
       "      <td>90.0</td>\n",
       "      <td>83.0</td>\n",
       "      <td>72.0</td>\n",
       "      <td>111.0</td>\n",
       "      <td>...</td>\n",
       "      <td>0.00</td>\n",
       "      <td>16</td>\n",
       "      <td>0</td>\n",
       "      <td>11</td>\n",
       "      <td>6</td>\n",
       "      <td>21</td>\n",
       "      <td>52</td>\n",
       "      <td>7</td>\n",
       "      <td>2</td>\n",
       "      <td>2021</td>\n",
       "    </tr>\n",
       "    <tr>\n",
       "      <th>1607619</th>\n",
       "      <td>1236</td>\n",
       "      <td>2021-02-21 12:00:00</td>\n",
       "      <td>263</td>\n",
       "      <td>102.0</td>\n",
       "      <td>60.0</td>\n",
       "      <td>96.0</td>\n",
       "      <td>121.0</td>\n",
       "      <td>81.0</td>\n",
       "      <td>73.0</td>\n",
       "      <td>113.0</td>\n",
       "      <td>...</td>\n",
       "      <td>0.00</td>\n",
       "      <td>16</td>\n",
       "      <td>0</td>\n",
       "      <td>12</td>\n",
       "      <td>6</td>\n",
       "      <td>21</td>\n",
       "      <td>52</td>\n",
       "      <td>7</td>\n",
       "      <td>2</td>\n",
       "      <td>2021</td>\n",
       "    </tr>\n",
       "    <tr>\n",
       "      <th>1607620</th>\n",
       "      <td>1237</td>\n",
       "      <td>2021-02-21 13:00:00</td>\n",
       "      <td>263</td>\n",
       "      <td>89.0</td>\n",
       "      <td>83.0</td>\n",
       "      <td>104.0</td>\n",
       "      <td>103.0</td>\n",
       "      <td>72.0</td>\n",
       "      <td>102.0</td>\n",
       "      <td>103.0</td>\n",
       "      <td>...</td>\n",
       "      <td>0.00</td>\n",
       "      <td>16</td>\n",
       "      <td>0</td>\n",
       "      <td>13</td>\n",
       "      <td>6</td>\n",
       "      <td>21</td>\n",
       "      <td>52</td>\n",
       "      <td>7</td>\n",
       "      <td>2</td>\n",
       "      <td>2021</td>\n",
       "    </tr>\n",
       "    <tr>\n",
       "      <th>1607621</th>\n",
       "      <td>1238</td>\n",
       "      <td>2021-02-21 14:00:00</td>\n",
       "      <td>263</td>\n",
       "      <td>72.0</td>\n",
       "      <td>72.0</td>\n",
       "      <td>114.0</td>\n",
       "      <td>100.0</td>\n",
       "      <td>82.0</td>\n",
       "      <td>89.0</td>\n",
       "      <td>98.0</td>\n",
       "      <td>...</td>\n",
       "      <td>0.00</td>\n",
       "      <td>16</td>\n",
       "      <td>0</td>\n",
       "      <td>14</td>\n",
       "      <td>6</td>\n",
       "      <td>21</td>\n",
       "      <td>52</td>\n",
       "      <td>7</td>\n",
       "      <td>2</td>\n",
       "      <td>2021</td>\n",
       "    </tr>\n",
       "    <tr>\n",
       "      <th>1607622</th>\n",
       "      <td>1239</td>\n",
       "      <td>2021-02-21 15:00:00</td>\n",
       "      <td>263</td>\n",
       "      <td>65.0</td>\n",
       "      <td>84.0</td>\n",
       "      <td>90.0</td>\n",
       "      <td>65.0</td>\n",
       "      <td>105.0</td>\n",
       "      <td>72.0</td>\n",
       "      <td>90.0</td>\n",
       "      <td>...</td>\n",
       "      <td>0.25</td>\n",
       "      <td>11</td>\n",
       "      <td>8</td>\n",
       "      <td>15</td>\n",
       "      <td>6</td>\n",
       "      <td>21</td>\n",
       "      <td>52</td>\n",
       "      <td>7</td>\n",
       "      <td>2</td>\n",
       "      <td>2021</td>\n",
       "    </tr>\n",
       "  </tbody>\n",
       "</table>\n",
       "<p>75378 rows × 178 columns</p>\n",
       "</div>"
      ],
      "text/plain": [
       "         time_idx            datetime  group  target  inflow_lag_0  \\\n",
       "0             167 2021-01-07 23:00:00      4     0.0          10.0   \n",
       "1             168 2021-01-08 00:00:00      4     1.0           4.0   \n",
       "2             169 2021-01-08 01:00:00      4     2.0           1.0   \n",
       "3             170 2021-01-08 02:00:00      4     0.0           1.0   \n",
       "4             171 2021-01-08 03:00:00      4     0.0           3.0   \n",
       "...           ...                 ...    ...     ...           ...   \n",
       "1607618      1235 2021-02-21 11:00:00    263    73.0          57.0   \n",
       "1607619      1236 2021-02-21 12:00:00    263   102.0          60.0   \n",
       "1607620      1237 2021-02-21 13:00:00    263    89.0          83.0   \n",
       "1607621      1238 2021-02-21 14:00:00    263    72.0          72.0   \n",
       "1607622      1239 2021-02-21 15:00:00    263    65.0          84.0   \n",
       "\n",
       "         inflow_lag_1  inflow_lag_2  inflow_lag_3  outflow_lag_0  \\\n",
       "0                 8.0           1.0           1.0            5.0   \n",
       "1                13.0           0.0           2.0            0.0   \n",
       "2                 9.0           0.0           0.0            1.0   \n",
       "3                 5.0           0.0           1.0            2.0   \n",
       "4                 2.0           1.0           1.0            0.0   \n",
       "...               ...           ...           ...            ...   \n",
       "1607618          88.0          90.0          83.0           72.0   \n",
       "1607619          96.0         121.0          81.0           73.0   \n",
       "1607620         104.0         103.0          72.0          102.0   \n",
       "1607621         114.0         100.0          82.0           89.0   \n",
       "1607622          90.0          65.0         105.0           72.0   \n",
       "\n",
       "         outflow_lag_1  ...  snow_1h  weather_description  weather_main  \\\n",
       "0                  3.0  ...     0.00                   16             0   \n",
       "1                  1.0  ...     0.00                   16             0   \n",
       "2                  2.0  ...     0.00                   16             0   \n",
       "3                  3.0  ...     0.00                   16             0   \n",
       "4                  0.0  ...     0.00                   16             0   \n",
       "...                ...  ...      ...                  ...           ...   \n",
       "1607618          111.0  ...     0.00                   16             0   \n",
       "1607619          113.0  ...     0.00                   16             0   \n",
       "1607620          103.0  ...     0.00                   16             0   \n",
       "1607621           98.0  ...     0.00                   16             0   \n",
       "1607622           90.0  ...     0.25                   11             8   \n",
       "\n",
       "         _hour_of_day  _day_of_week  _day_of_month  _day_of_year  \\\n",
       "0                  23             3              7             7   \n",
       "1                   0             4              8             8   \n",
       "2                   1             4              8             8   \n",
       "3                   2             4              8             8   \n",
       "4                   3             4              8             8   \n",
       "...               ...           ...            ...           ...   \n",
       "1607618            11             6             21            52   \n",
       "1607619            12             6             21            52   \n",
       "1607620            13             6             21            52   \n",
       "1607621            14             6             21            52   \n",
       "1607622            15             6             21            52   \n",
       "\n",
       "         _week_of_year  _month_of_year  _year  \n",
       "0                    1               1   2021  \n",
       "1                    1               1   2021  \n",
       "2                    1               1   2021  \n",
       "3                    1               1   2021  \n",
       "4                    1               1   2021  \n",
       "...                ...             ...    ...  \n",
       "1607618              7               2   2021  \n",
       "1607619              7               2   2021  \n",
       "1607620              7               2   2021  \n",
       "1607621              7               2   2021  \n",
       "1607622              7               2   2021  \n",
       "\n",
       "[75378 rows x 178 columns]"
      ]
     },
     "execution_count": 10,
     "metadata": {},
     "output_type": "execute_result"
    }
   ],
   "source": [
    "df"
   ]
  },
  {
   "cell_type": "code",
   "execution_count": 11,
   "metadata": {},
   "outputs": [
    {
     "name": "stdout",
     "output_type": "stream",
     "text": [
      "weather_description unique:  17\n"
     ]
    }
   ],
   "source": [
    "weather_description_nunique = df['weather_description'].nunique()\n",
    "print(\"weather_description unique: \", weather_description_nunique)"
   ]
  },
  {
   "cell_type": "code",
   "execution_count": 12,
   "metadata": {},
   "outputs": [
    {
     "name": "stdout",
     "output_type": "stream",
     "text": [
      "weather_main unique:  9\n"
     ]
    }
   ],
   "source": [
    "weather_main_nunique = df['weather_main'].nunique()\n",
    "print(\"weather_main unique: \", weather_main_nunique)"
   ]
  },
  {
   "cell_type": "code",
   "execution_count": 13,
   "metadata": {},
   "outputs": [
    {
     "name": "stdout",
     "output_type": "stream",
     "text": [
      "24\n",
      "7\n",
      "31\n",
      "52\n",
      "8\n",
      "2\n",
      "1\n"
     ]
    }
   ],
   "source": [
    "print(hour_of_day_nunique)\n",
    "print(day_of_week_nunique)\n",
    "print(day_of_month_nunique)\n",
    "print(day_of_year_nunique)\n",
    "print(week_of_year_nunique)\n",
    "print(month_of_year_nunique)\n",
    "print(year_nunique)"
   ]
  },
  {
   "cell_type": "code",
   "execution_count": 14,
   "metadata": {},
   "outputs": [
    {
     "name": "stdout",
     "output_type": "stream",
     "text": [
      "66 \n",
      "\n",
      "[4, 12, 13, 24, 41, 42, 43, 45, 48, 50, 68, 74, 75, 79, 87, 88, 90, 100, 107, 113, 114, 116, 120, 125, 127, 128, 137, 140, 141, 142, 143, 144, 148, 151, 152, 153, 158, 161, 162, 163, 164, 166, 170, 186, 194, 202, 209, 211, 224, 229, 230, 231, 232, 233, 234, 236, 237, 238, 239, 243, 244, 246, 249, 261, 262, 263]\n"
     ]
    }
   ],
   "source": [
    "unique_values_group_no_ts_fresh = list(df['group'].unique())\n",
    "print(len(unique_values_group_no_ts_fresh), \"\\n\")\n",
    "print(unique_values_group_no_ts_fresh)"
   ]
  },
  {
   "cell_type": "code",
   "execution_count": 15,
   "metadata": {},
   "outputs": [
    {
     "name": "stdout",
     "output_type": "stream",
     "text": [
      "Group  4  has  1073  number of rows in df_ts_fresh \n",
      "\n",
      "First idx:  167 ; Last idx:  1239 \n",
      "\n",
      "Group  12  has  1216  number of rows in df_ts_fresh \n",
      "\n",
      "First idx:  24 ; Last idx:  1239 \n",
      "\n",
      "Group  13  has  1217  number of rows in df_ts_fresh \n",
      "\n",
      "First idx:  23 ; Last idx:  1239 \n",
      "\n",
      "Group  24  has  1072  number of rows in df_ts_fresh \n",
      "\n",
      "First idx:  168 ; Last idx:  1239 \n",
      "\n",
      "Group  41  has  1072  number of rows in df_ts_fresh \n",
      "\n",
      "First idx:  168 ; Last idx:  1239 \n",
      "\n",
      "Group  42  has  1072  number of rows in df_ts_fresh \n",
      "\n",
      "First idx:  168 ; Last idx:  1239 \n",
      "\n",
      "Group  43  has  1215  number of rows in df_ts_fresh \n",
      "\n",
      "First idx:  25 ; Last idx:  1239 \n",
      "\n",
      "Group  45  has  1073  number of rows in df_ts_fresh \n",
      "\n",
      "First idx:  167 ; Last idx:  1239 \n",
      "\n",
      "Group  48  has  1215  number of rows in df_ts_fresh \n",
      "\n",
      "First idx:  25 ; Last idx:  1239 \n",
      "\n",
      "Group  50  has  1073  number of rows in df_ts_fresh \n",
      "\n",
      "First idx:  167 ; Last idx:  1239 \n",
      "\n",
      "Group  68  has  1217  number of rows in df_ts_fresh \n",
      "\n",
      "First idx:  23 ; Last idx:  1239 \n",
      "\n",
      "Group  74  has  1072  number of rows in df_ts_fresh \n",
      "\n",
      "First idx:  168 ; Last idx:  1239 \n",
      "\n",
      "Group  75  has  1217  number of rows in df_ts_fresh \n",
      "\n",
      "First idx:  23 ; Last idx:  1239 \n",
      "\n",
      "Group  79  has  1074  number of rows in df_ts_fresh \n",
      "\n",
      "First idx:  166 ; Last idx:  1239 \n",
      "\n",
      "Group  87  has  1217  number of rows in df_ts_fresh \n",
      "\n",
      "First idx:  23 ; Last idx:  1239 \n",
      "\n",
      "Group  88  has  1217  number of rows in df_ts_fresh \n",
      "\n",
      "First idx:  23 ; Last idx:  1239 \n",
      "\n",
      "Group  90  has  1215  number of rows in df_ts_fresh \n",
      "\n",
      "First idx:  25 ; Last idx:  1239 \n",
      "\n",
      "Group  100  has  1073  number of rows in df_ts_fresh \n",
      "\n",
      "First idx:  167 ; Last idx:  1239 \n",
      "\n",
      "Group  107  has  1215  number of rows in df_ts_fresh \n",
      "\n",
      "First idx:  25 ; Last idx:  1239 \n",
      "\n",
      "Group  113  has  1217  number of rows in df_ts_fresh \n",
      "\n",
      "First idx:  23 ; Last idx:  1239 \n",
      "\n",
      "Group  114  has  1073  number of rows in df_ts_fresh \n",
      "\n",
      "First idx:  167 ; Last idx:  1239 \n",
      "\n",
      "Group  116  has  1072  number of rows in df_ts_fresh \n",
      "\n",
      "First idx:  168 ; Last idx:  1239 \n",
      "\n",
      "Group  120  has  1142  number of rows in df_ts_fresh \n",
      "\n",
      "First idx:  98 ; Last idx:  1239 \n",
      "\n",
      "Group  125  has  1097  number of rows in df_ts_fresh \n",
      "\n",
      "First idx:  143 ; Last idx:  1239 \n",
      "\n",
      "Group  127  has  1072  number of rows in df_ts_fresh \n",
      "\n",
      "First idx:  168 ; Last idx:  1239 \n",
      "\n",
      "Group  128  has  1096  number of rows in df_ts_fresh \n",
      "\n",
      "First idx:  144 ; Last idx:  1239 \n",
      "\n",
      "Group  137  has  1214  number of rows in df_ts_fresh \n",
      "\n",
      "First idx:  26 ; Last idx:  1239 \n",
      "\n",
      "Group  140  has  1215  number of rows in df_ts_fresh \n",
      "\n",
      "First idx:  25 ; Last idx:  1239 \n",
      "\n",
      "Group  141  has  1217  number of rows in df_ts_fresh \n",
      "\n",
      "First idx:  23 ; Last idx:  1239 \n",
      "\n",
      "Group  142  has  1217  number of rows in df_ts_fresh \n",
      "\n",
      "First idx:  23 ; Last idx:  1239 \n",
      "\n",
      "Group  143  has  1073  number of rows in df_ts_fresh \n",
      "\n",
      "First idx:  167 ; Last idx:  1239 \n",
      "\n",
      "Group  144  has  1073  number of rows in df_ts_fresh \n",
      "\n",
      "First idx:  167 ; Last idx:  1239 \n",
      "\n",
      "Group  148  has  1074  number of rows in df_ts_fresh \n",
      "\n",
      "First idx:  166 ; Last idx:  1239 \n",
      "\n",
      "Group  151  has  1072  number of rows in df_ts_fresh \n",
      "\n",
      "First idx:  168 ; Last idx:  1239 \n",
      "\n",
      "Group  152  has  1072  number of rows in df_ts_fresh \n",
      "\n",
      "First idx:  168 ; Last idx:  1239 \n",
      "\n",
      "Group  153  has  1072  number of rows in df_ts_fresh \n",
      "\n",
      "First idx:  168 ; Last idx:  1239 \n",
      "\n",
      "Group  158  has  1073  number of rows in df_ts_fresh \n",
      "\n",
      "First idx:  167 ; Last idx:  1239 \n",
      "\n",
      "Group  161  has  1071  number of rows in df_ts_fresh \n",
      "\n",
      "First idx:  169 ; Last idx:  1239 \n",
      "\n",
      "Group  162  has  1215  number of rows in df_ts_fresh \n",
      "\n",
      "First idx:  25 ; Last idx:  1239 \n",
      "\n",
      "Group  163  has  1215  number of rows in df_ts_fresh \n",
      "\n",
      "First idx:  25 ; Last idx:  1239 \n",
      "\n",
      "Group  164  has  1217  number of rows in df_ts_fresh \n",
      "\n",
      "First idx:  23 ; Last idx:  1239 \n",
      "\n",
      "Group  166  has  1217  number of rows in df_ts_fresh \n",
      "\n",
      "First idx:  23 ; Last idx:  1239 \n",
      "\n",
      "Group  170  has  1215  number of rows in df_ts_fresh \n",
      "\n",
      "First idx:  25 ; Last idx:  1239 \n",
      "\n",
      "Group  186  has  1072  number of rows in df_ts_fresh \n",
      "\n",
      "First idx:  168 ; Last idx:  1239 \n",
      "\n",
      "Group  194  has  1216  number of rows in df_ts_fresh \n",
      "\n",
      "First idx:  24 ; Last idx:  1239 \n",
      "\n",
      "Group  202  has  1072  number of rows in df_ts_fresh \n",
      "\n",
      "First idx:  168 ; Last idx:  1239 \n",
      "\n",
      "Group  209  has  1073  number of rows in df_ts_fresh \n",
      "\n",
      "First idx:  167 ; Last idx:  1239 \n",
      "\n",
      "Group  211  has  1073  number of rows in df_ts_fresh \n",
      "\n",
      "First idx:  167 ; Last idx:  1239 \n",
      "\n",
      "Group  224  has  1072  number of rows in df_ts_fresh \n",
      "\n",
      "First idx:  168 ; Last idx:  1239 \n",
      "\n",
      "Group  229  has  1217  number of rows in df_ts_fresh \n",
      "\n",
      "First idx:  23 ; Last idx:  1239 \n",
      "\n",
      "Group  230  has  1071  number of rows in df_ts_fresh \n",
      "\n",
      "First idx:  169 ; Last idx:  1239 \n",
      "\n",
      "Group  231  has  1217  number of rows in df_ts_fresh \n",
      "\n",
      "First idx:  23 ; Last idx:  1239 \n",
      "\n",
      "Group  232  has  1073  number of rows in df_ts_fresh \n",
      "\n",
      "First idx:  167 ; Last idx:  1239 \n",
      "\n",
      "Group  233  has  1217  number of rows in df_ts_fresh \n",
      "\n",
      "First idx:  23 ; Last idx:  1239 \n",
      "\n",
      "Group  234  has  1215  number of rows in df_ts_fresh \n",
      "\n",
      "First idx:  25 ; Last idx:  1239 \n",
      "\n",
      "Group  236  has  1215  number of rows in df_ts_fresh \n",
      "\n",
      "First idx:  25 ; Last idx:  1239 \n",
      "\n",
      "Group  237  has  1215  number of rows in df_ts_fresh \n",
      "\n",
      "First idx:  25 ; Last idx:  1239 \n",
      "\n",
      "Group  238  has  1217  number of rows in df_ts_fresh \n",
      "\n",
      "First idx:  23 ; Last idx:  1239 \n",
      "\n",
      "Group  239  has  1217  number of rows in df_ts_fresh \n",
      "\n",
      "First idx:  23 ; Last idx:  1239 \n",
      "\n",
      "Group  243  has  1072  number of rows in df_ts_fresh \n",
      "\n",
      "First idx:  168 ; Last idx:  1239 \n",
      "\n",
      "Group  244  has  1072  number of rows in df_ts_fresh \n",
      "\n",
      "First idx:  168 ; Last idx:  1239 \n",
      "\n",
      "Group  246  has  1215  number of rows in df_ts_fresh \n",
      "\n",
      "First idx:  25 ; Last idx:  1239 \n",
      "\n",
      "Group  249  has  1098  number of rows in df_ts_fresh \n",
      "\n",
      "First idx:  142 ; Last idx:  1239 \n",
      "\n",
      "Group  261  has  1217  number of rows in df_ts_fresh \n",
      "\n",
      "First idx:  23 ; Last idx:  1239 \n",
      "\n",
      "Group  262  has  1073  number of rows in df_ts_fresh \n",
      "\n",
      "First idx:  167 ; Last idx:  1239 \n",
      "\n",
      "Group  263  has  1073  number of rows in df_ts_fresh \n",
      "\n",
      "First idx:  167 ; Last idx:  1239 \n",
      "\n"
     ]
    }
   ],
   "source": [
    "zones_time_idx_no_ts_fresh = {}\n",
    "for i in unique_values_group_no_ts_fresh:\n",
    "    df1 = df[df['group'] == i]\n",
    "    time_idx_list = df1['time_idx'].tolist()\n",
    "    first_idx = time_idx_list[0]\n",
    "    last_idx = time_idx_list[-1]\n",
    "    zones_time_idx_no_ts_fresh[i] = [first_idx, last_idx]\n",
    "    print(\"Group \", i, \" has \", df1.shape[0], \" number of rows in df_ts_fresh \\n\")\n",
    "    print(\"First idx: \", first_idx, \"; Last idx: \", last_idx, \"\\n\")"
   ]
  },
  {
   "cell_type": "code",
   "execution_count": 16,
   "metadata": {},
   "outputs": [
    {
     "name": "stdout",
     "output_type": "stream",
     "text": [
      "851\n",
      "843\n",
      "1216\n"
     ]
    }
   ],
   "source": [
    "encoder_len = 8 # looks back 8 hours in the past for prediction\n",
    "pred_len = 1 # 1, 6, 12 # how many timeseteps you want to predict in the future (forecasting), 1 means present (nowcasting)\n",
    "#cov_lag_len= pred_len\n",
    "\n",
    "# not using covariates yet, so put as 0\n",
    "cov_lag_len= 0 #we can use forecasted values, even for inflow\n",
    "\n",
    "####### train val test split of tsfresh dataframe #########\n",
    "\n",
    "### you want a the idx for each train, validation and test\n",
    "\n",
    "### train = 0.7 of each zone (eg. time idx 167 to roughly 20000) eg train = 0.7 * (24812-167)\n",
    "### validation = 0.2 of each zone (eg. time idx 20000 to 22000)\n",
    "### test = 0.1 of each zone (eg. time idx 22000 to 24000)\n",
    "\n",
    "Target = 'target'\n",
    "\n",
    "total_time_idx = df[df.group == 13].shape[0]\n",
    "\n",
    "first_idx = df.loc[df['group'] == 13, 'time_idx'].iloc[0]\n",
    "\n",
    "tr_stop_idx = int(0.7*total_time_idx)\n",
    "val_start_idx = tr_stop_idx - encoder_len\n",
    "val_stop_idx = total_time_idx-1\n",
    "# val_stop_idx = val_start_idx + int(0.2*total_time_idx) # use (tr_stop_idx - encoder_len) as encoder from train set for validatoin\n",
    "# tes_start_idx = val_stop_idx - encoder_len\n",
    "# tes_stop_idx = total_time_idx-1\n",
    "\n",
    "print(tr_stop_idx)\n",
    "print(val_start_idx)\n",
    "print(val_stop_idx)\n",
    "# print(tes_start_idx)\n",
    "# print(tes_stop_idx)"
   ]
  },
  {
   "cell_type": "code",
   "execution_count": 17,
   "metadata": {},
   "outputs": [
    {
     "name": "stdout",
     "output_type": "stream",
     "text": [
      "23 874\n",
      "866 1239\n"
     ]
    }
   ],
   "source": [
    "train_time_idx = [*range(first_idx, first_idx+tr_stop_idx+1, 1)]\n",
    "print(train_time_idx[0], train_time_idx[-1])\n",
    "val_time_idx = [*range(first_idx+val_start_idx, first_idx+val_stop_idx+1, 1)]\n",
    "print(val_time_idx[0], val_time_idx[-1])\n",
    "# test_time_idx = [*range(first_idx+tes_start_idx, first_idx+tes_stop_idx+1, 1)]\n",
    "# print(test_time_idx[0], test_time_idx[-1])"
   ]
  },
  {
   "cell_type": "code",
   "execution_count": 18,
   "metadata": {},
   "outputs": [],
   "source": [
    "# unique_zones = list(df['group'].unique())"
   ]
  },
  {
   "cell_type": "code",
   "execution_count": 19,
   "metadata": {},
   "outputs": [],
   "source": [
    "\"\"\"\n",
    "set inputs here\n",
    "(hyperparameters grid search)\n",
    "\n",
    "\"\"\"\n",
    "######### Network Architecture ###################\n",
    "# p = 10 # patience no. of epochs\n",
    "\n",
    "Loss=NegativeBinomialDistributionLoss() # because we assume that the demand follows a negative bionmial distribution\n",
    "\n",
    "######### Network Architecture ###################\n",
    "\n",
    "\n",
    "######### Training Routine ###################\n",
    "fdv_steps = 10 # fast_dev_run -> small set of training to see if training is happening correctly (one of the params in deepar model)\n",
    "######### Training Routine ###################\n",
    "\n",
    "\n",
    "# this is for naive forecast, getting past week's demand and predicting purely based on that\n",
    "############## Inputs for 2) Persistance model ( seasonal naive forecast ) #######################\n",
    "season_len = 168 # length of season ()\n",
    "num_past_seas = 6 # number of past seasons to use in averaging (look at 6 week's back, getting average of these 6 values)\n",
    "#seas_pred_strt_idx = 2035 # seasonal naive forecast start index, in hours use the df dataframe\n",
    "############## Inputs for 2) Persistance model ( seasonal naive forecast ) #######################\n"
   ]
  },
  {
   "cell_type": "code",
   "execution_count": 20,
   "metadata": {},
   "outputs": [
    {
     "name": "stderr",
     "output_type": "stream",
     "text": [
      "\u001b[32m[I 2024-04-02 18:12:59,089]\u001b[0m A new study created in memory with name: no-name-adcbacca-46cf-4ac4-aa1e-948f440e95a8\u001b[0m\n",
      "GPU available: True (cuda), used: True\n",
      "TPU available: False, using: 0 TPU cores\n",
      "IPU available: False, using: 0 IPUs\n",
      "HPU available: False, using: 0 HPUs\n",
      "`Trainer(limit_train_batches=1.0)` was configured so 100% of the batches per epoch will be used..\n",
      "`Trainer(limit_val_batches=1.0)` was configured so 100% of the batches will be used..\n",
      "Missing logger folder: /home/optimusprime/Desktop/Timothy_EXP_4/Round_0_logs/lightning_logs\n",
      "LOCAL_RANK: 0 - CUDA_VISIBLE_DEVICES: [0]\n",
      "\n",
      "  | Name                   | Type                             | Params\n",
      "----------------------------------------------------------------------------\n",
      "0 | loss                   | NegativeBinomialDistributionLoss | 0     \n",
      "1 | logging_metrics        | ModuleList                       | 0     \n",
      "2 | embeddings             | MultiEmbedding                   | 927   \n",
      "3 | rnn                    | LSTM                             | 12.2 K\n",
      "4 | distribution_projector | Linear                           | 22    \n",
      "----------------------------------------------------------------------------\n",
      "13.2 K    Trainable params\n",
      "0         Non-trainable params\n",
      "13.2 K    Total params\n",
      "0.053     Total estimated model params size (MB)\n"
     ]
    },
    {
     "name": "stdout",
     "output_type": "stream",
     "text": [
      "Epoch 0: 100%|██████████| 2341/2341 [00:57<00:00, 40.88it/s, loss=3.97, v_num=0, train_loss_step=3.880, val_loss=4.250]"
     ]
    },
    {
     "name": "stderr",
     "output_type": "stream",
     "text": [
      "Metric val_loss improved. New best score: 4.245\n"
     ]
    },
    {
     "name": "stdout",
     "output_type": "stream",
     "text": [
      "Epoch 1: 100%|██████████| 2341/2341 [00:58<00:00, 40.11it/s, loss=4.06, v_num=0, train_loss_step=4.350, val_loss=4.110, train_loss_epoch=7.880]"
     ]
    },
    {
     "name": "stderr",
     "output_type": "stream",
     "text": [
      "Metric val_loss improved by 0.133 >= min_delta = 0. New best score: 4.113\n"
     ]
    },
    {
     "name": "stdout",
     "output_type": "stream",
     "text": [
      "Epoch 2: 100%|██████████| 2341/2341 [00:58<00:00, 39.93it/s, loss=3.97, v_num=0, train_loss_step=3.710, val_loss=4.100, train_loss_epoch=4.030]"
     ]
    },
    {
     "name": "stderr",
     "output_type": "stream",
     "text": [
      "Metric val_loss improved by 0.017 >= min_delta = 0. New best score: 4.095\n"
     ]
    },
    {
     "name": "stdout",
     "output_type": "stream",
     "text": [
      "Epoch 3: 100%|██████████| 2341/2341 [01:04<00:00, 36.38it/s, loss=3.91, v_num=0, train_loss_step=4.220, val_loss=4.090, train_loss_epoch=3.990]"
     ]
    },
    {
     "name": "stderr",
     "output_type": "stream",
     "text": [
      "Metric val_loss improved by 0.002 >= min_delta = 0. New best score: 4.093\n"
     ]
    },
    {
     "name": "stdout",
     "output_type": "stream",
     "text": [
      "Epoch 4: 100%|██████████| 2341/2341 [01:06<00:00, 35.32it/s, loss=3.94, v_num=0, train_loss_step=4.260, val_loss=4.090, train_loss_epoch=3.980]"
     ]
    },
    {
     "name": "stderr",
     "output_type": "stream",
     "text": [
      "Metric val_loss improved by 0.001 >= min_delta = 0. New best score: 4.092\n"
     ]
    },
    {
     "name": "stdout",
     "output_type": "stream",
     "text": [
      "Epoch 5: 100%|██████████| 2341/2341 [01:09<00:00, 33.68it/s, loss=4.13, v_num=0, train_loss_step=4.380, val_loss=4.090, train_loss_epoch=3.980]"
     ]
    },
    {
     "name": "stderr",
     "output_type": "stream",
     "text": [
      "Metric val_loss improved by 0.000 >= min_delta = 0. New best score: 4.092\n"
     ]
    },
    {
     "name": "stdout",
     "output_type": "stream",
     "text": [
      "Epoch 10: 100%|██████████| 2341/2341 [01:02<00:00, 37.55it/s, loss=4.05, v_num=0, train_loss_step=4.520, val_loss=4.090, train_loss_epoch=3.980]"
     ]
    },
    {
     "name": "stderr",
     "output_type": "stream",
     "text": [
      "Metric val_loss improved by 0.000 >= min_delta = 0. New best score: 4.092\n"
     ]
    },
    {
     "name": "stdout",
     "output_type": "stream",
     "text": [
      "Epoch 12: 100%|██████████| 2341/2341 [01:04<00:00, 36.24it/s, loss=3.96, v_num=0, train_loss_step=3.700, val_loss=4.090, train_loss_epoch=3.980]"
     ]
    },
    {
     "name": "stderr",
     "output_type": "stream",
     "text": [
      "Metric val_loss improved by 0.000 >= min_delta = 0. New best score: 4.092\n"
     ]
    },
    {
     "name": "stdout",
     "output_type": "stream",
     "text": [
      "Epoch 14: 100%|██████████| 2341/2341 [01:03<00:00, 36.59it/s, loss=3.96, v_num=0, train_loss_step=4.150, val_loss=4.090, train_loss_epoch=3.980]"
     ]
    },
    {
     "name": "stderr",
     "output_type": "stream",
     "text": [
      "Metric val_loss improved by 0.000 >= min_delta = 0. New best score: 4.092\n"
     ]
    },
    {
     "name": "stdout",
     "output_type": "stream",
     "text": [
      "Epoch 16: 100%|██████████| 2341/2341 [01:03<00:00, 36.78it/s, loss=3.98, v_num=0, train_loss_step=3.910, val_loss=4.090, train_loss_epoch=3.980]"
     ]
    },
    {
     "name": "stderr",
     "output_type": "stream",
     "text": [
      "Metric val_loss improved by 0.000 >= min_delta = 0. New best score: 4.092\n"
     ]
    },
    {
     "name": "stdout",
     "output_type": "stream",
     "text": [
      "Epoch 21: 100%|██████████| 2341/2341 [01:02<00:00, 37.41it/s, loss=4.01, v_num=0, train_loss_step=3.890, val_loss=4.090, train_loss_epoch=3.980]"
     ]
    },
    {
     "name": "stderr",
     "output_type": "stream",
     "text": [
      "Monitored metric val_loss did not improve in the last 5 records. Best score: 4.092. Signaling Trainer to stop.\n"
     ]
    },
    {
     "name": "stdout",
     "output_type": "stream",
     "text": [
      "Epoch 21: 100%|██████████| 2341/2341 [01:02<00:00, 37.40it/s, loss=4.01, v_num=0, train_loss_step=3.890, val_loss=4.090, train_loss_epoch=3.980]\n"
     ]
    },
    {
     "name": "stderr",
     "output_type": "stream",
     "text": [
      "\u001b[32m[I 2024-04-02 18:36:27,961]\u001b[0m Trial 0 finished with value: 59.72244644165039 and parameters: {'neu': 10, 'lay': 5, 'bat': 32, 'lr': 0.0025243913560945887, 'dropout': 0.6000000000000001}. Best is trial 0 with value: 59.72244644165039.\u001b[0m\n",
      "GPU available: True (cuda), used: True\n",
      "TPU available: False, using: 0 TPU cores\n",
      "IPU available: False, using: 0 IPUs\n",
      "HPU available: False, using: 0 HPUs\n",
      "`Trainer(limit_train_batches=1.0)` was configured so 100% of the batches per epoch will be used..\n",
      "`Trainer(limit_val_batches=1.0)` was configured so 100% of the batches will be used..\n",
      "LOCAL_RANK: 0 - CUDA_VISIBLE_DEVICES: [0]\n",
      "\n",
      "  | Name                   | Type                             | Params\n",
      "----------------------------------------------------------------------------\n",
      "0 | loss                   | NegativeBinomialDistributionLoss | 0     \n",
      "1 | logging_metrics        | ModuleList                       | 0     \n",
      "2 | embeddings             | MultiEmbedding                   | 927   \n",
      "3 | rnn                    | LSTM                             | 335 K \n",
      "4 | distribution_projector | Linear                           | 222   \n",
      "----------------------------------------------------------------------------\n",
      "336 K     Trainable params\n",
      "0         Non-trainable params\n",
      "336 K     Total params\n",
      "1.346     Total estimated model params size (MB)\n"
     ]
    },
    {
     "name": "stdout",
     "output_type": "stream",
     "text": [
      "Epoch 0: 100%|██████████| 123/123 [00:29<00:00,  4.15it/s, loss=17.4, v_num=1, train_loss_step=13.00, val_loss=11.80]"
     ]
    },
    {
     "name": "stderr",
     "output_type": "stream",
     "text": [
      "Metric val_loss improved. New best score: 11.760\n"
     ]
    },
    {
     "name": "stdout",
     "output_type": "stream",
     "text": [
      "Epoch 1: 100%|██████████| 123/123 [00:30<00:00,  4.09it/s, loss=4.29, v_num=1, train_loss_step=4.130, val_loss=4.390, train_loss_epoch=24.20]"
     ]
    },
    {
     "name": "stderr",
     "output_type": "stream",
     "text": [
      "Metric val_loss improved by 7.368 >= min_delta = 0. New best score: 4.393\n"
     ]
    },
    {
     "name": "stdout",
     "output_type": "stream",
     "text": [
      "Epoch 2: 100%|██████████| 123/123 [00:30<00:00,  4.07it/s, loss=3.95, v_num=1, train_loss_step=3.970, val_loss=4.060, train_loss_epoch=5.820]"
     ]
    },
    {
     "name": "stderr",
     "output_type": "stream",
     "text": [
      "Metric val_loss improved by 0.333 >= min_delta = 0. New best score: 4.060\n"
     ]
    },
    {
     "name": "stdout",
     "output_type": "stream",
     "text": [
      "Epoch 3: 100%|██████████| 123/123 [00:33<00:00,  3.71it/s, loss=3.62, v_num=1, train_loss_step=3.660, val_loss=3.770, train_loss_epoch=4.080]"
     ]
    },
    {
     "name": "stderr",
     "output_type": "stream",
     "text": [
      "Metric val_loss improved by 0.290 >= min_delta = 0. New best score: 3.770\n"
     ]
    },
    {
     "name": "stdout",
     "output_type": "stream",
     "text": [
      "Epoch 4: 100%|██████████| 123/123 [00:29<00:00,  4.14it/s, loss=3.42, v_num=1, train_loss_step=3.400, val_loss=3.620, train_loss_epoch=3.720]"
     ]
    },
    {
     "name": "stderr",
     "output_type": "stream",
     "text": [
      "Metric val_loss improved by 0.148 >= min_delta = 0. New best score: 3.622\n"
     ]
    },
    {
     "name": "stdout",
     "output_type": "stream",
     "text": [
      "Epoch 5: 100%|██████████| 123/123 [00:29<00:00,  4.19it/s, loss=3.34, v_num=1, train_loss_step=3.310, val_loss=3.500, train_loss_epoch=3.500]"
     ]
    },
    {
     "name": "stderr",
     "output_type": "stream",
     "text": [
      "Metric val_loss improved by 0.119 >= min_delta = 0. New best score: 3.503\n"
     ]
    },
    {
     "name": "stdout",
     "output_type": "stream",
     "text": [
      "Epoch 6: 100%|██████████| 123/123 [00:29<00:00,  4.21it/s, loss=3.26, v_num=1, train_loss_step=3.340, val_loss=3.420, train_loss_epoch=3.360]"
     ]
    },
    {
     "name": "stderr",
     "output_type": "stream",
     "text": [
      "Metric val_loss improved by 0.085 >= min_delta = 0. New best score: 3.418\n"
     ]
    },
    {
     "name": "stdout",
     "output_type": "stream",
     "text": [
      "Epoch 7: 100%|██████████| 123/123 [00:29<00:00,  4.20it/s, loss=3.19, v_num=1, train_loss_step=3.090, val_loss=3.360, train_loss_epoch=3.250]"
     ]
    },
    {
     "name": "stderr",
     "output_type": "stream",
     "text": [
      "Metric val_loss improved by 0.057 >= min_delta = 0. New best score: 3.361\n"
     ]
    },
    {
     "name": "stdout",
     "output_type": "stream",
     "text": [
      "Epoch 8: 100%|██████████| 123/123 [00:31<00:00,  3.94it/s, loss=3.09, v_num=1, train_loss_step=3.300, val_loss=3.290, train_loss_epoch=3.180]"
     ]
    },
    {
     "name": "stderr",
     "output_type": "stream",
     "text": [
      "Metric val_loss improved by 0.066 >= min_delta = 0. New best score: 3.295\n"
     ]
    },
    {
     "name": "stdout",
     "output_type": "stream",
     "text": [
      "Epoch 9: 100%|██████████| 123/123 [00:28<00:00,  4.25it/s, loss=3.07, v_num=1, train_loss_step=3.040, val_loss=3.240, train_loss_epoch=3.110]"
     ]
    },
    {
     "name": "stderr",
     "output_type": "stream",
     "text": [
      "Metric val_loss improved by 0.052 >= min_delta = 0. New best score: 3.242\n"
     ]
    },
    {
     "name": "stdout",
     "output_type": "stream",
     "text": [
      "Epoch 10: 100%|██████████| 123/123 [00:28<00:00,  4.26it/s, loss=2.98, v_num=1, train_loss_step=2.820, val_loss=3.180, train_loss_epoch=3.060]"
     ]
    },
    {
     "name": "stderr",
     "output_type": "stream",
     "text": [
      "Metric val_loss improved by 0.058 >= min_delta = 0. New best score: 3.185\n"
     ]
    },
    {
     "name": "stdout",
     "output_type": "stream",
     "text": [
      "Epoch 11: 100%|██████████| 123/123 [00:29<00:00,  4.21it/s, loss=2.95, v_num=1, train_loss_step=2.970, val_loss=3.130, train_loss_epoch=3.000]"
     ]
    },
    {
     "name": "stderr",
     "output_type": "stream",
     "text": [
      "Metric val_loss improved by 0.060 >= min_delta = 0. New best score: 3.125\n"
     ]
    },
    {
     "name": "stdout",
     "output_type": "stream",
     "text": [
      "Epoch 12: 100%|██████████| 123/123 [00:31<00:00,  3.93it/s, loss=2.88, v_num=1, train_loss_step=2.890, val_loss=3.080, train_loss_epoch=2.950]"
     ]
    },
    {
     "name": "stderr",
     "output_type": "stream",
     "text": [
      "Metric val_loss improved by 0.049 >= min_delta = 0. New best score: 3.076\n"
     ]
    },
    {
     "name": "stdout",
     "output_type": "stream",
     "text": [
      "Epoch 13: 100%|██████████| 123/123 [00:29<00:00,  4.17it/s, loss=2.84, v_num=1, train_loss_step=2.790, val_loss=3.030, train_loss_epoch=2.900]"
     ]
    },
    {
     "name": "stderr",
     "output_type": "stream",
     "text": [
      "Metric val_loss improved by 0.041 >= min_delta = 0. New best score: 3.035\n"
     ]
    },
    {
     "name": "stdout",
     "output_type": "stream",
     "text": [
      "Epoch 14: 100%|██████████| 123/123 [00:28<00:00,  4.28it/s, loss=2.76, v_num=1, train_loss_step=2.820, val_loss=3.010, train_loss_epoch=2.850]"
     ]
    },
    {
     "name": "stderr",
     "output_type": "stream",
     "text": [
      "Metric val_loss improved by 0.021 >= min_delta = 0. New best score: 3.013\n"
     ]
    },
    {
     "name": "stdout",
     "output_type": "stream",
     "text": [
      "Epoch 15: 100%|██████████| 123/123 [00:29<00:00,  4.10it/s, loss=2.75, v_num=1, train_loss_step=2.750, val_loss=2.990, train_loss_epoch=2.810]"
     ]
    },
    {
     "name": "stderr",
     "output_type": "stream",
     "text": [
      "Metric val_loss improved by 0.028 >= min_delta = 0. New best score: 2.985\n"
     ]
    },
    {
     "name": "stdout",
     "output_type": "stream",
     "text": [
      "Epoch 16: 100%|██████████| 123/123 [00:32<00:00,  3.74it/s, loss=2.74, v_num=1, train_loss_step=2.740, val_loss=2.970, train_loss_epoch=2.780]"
     ]
    },
    {
     "name": "stderr",
     "output_type": "stream",
     "text": [
      "Metric val_loss improved by 0.018 >= min_delta = 0. New best score: 2.967\n"
     ]
    },
    {
     "name": "stdout",
     "output_type": "stream",
     "text": [
      "Epoch 17: 100%|██████████| 123/123 [00:30<00:00,  4.01it/s, loss=2.73, v_num=1, train_loss_step=2.890, val_loss=2.960, train_loss_epoch=2.750]"
     ]
    },
    {
     "name": "stderr",
     "output_type": "stream",
     "text": [
      "Metric val_loss improved by 0.012 >= min_delta = 0. New best score: 2.956\n"
     ]
    },
    {
     "name": "stdout",
     "output_type": "stream",
     "text": [
      "Epoch 18: 100%|██████████| 123/123 [00:30<00:00,  4.04it/s, loss=2.68, v_num=1, train_loss_step=2.730, val_loss=2.920, train_loss_epoch=2.720]"
     ]
    },
    {
     "name": "stderr",
     "output_type": "stream",
     "text": [
      "Metric val_loss improved by 0.041 >= min_delta = 0. New best score: 2.915\n"
     ]
    },
    {
     "name": "stdout",
     "output_type": "stream",
     "text": [
      "Epoch 19: 100%|██████████| 123/123 [00:30<00:00,  4.03it/s, loss=2.7, v_num=1, train_loss_step=2.700, val_loss=2.910, train_loss_epoch=2.690] "
     ]
    },
    {
     "name": "stderr",
     "output_type": "stream",
     "text": [
      "Metric val_loss improved by 0.001 >= min_delta = 0. New best score: 2.914\n"
     ]
    },
    {
     "name": "stdout",
     "output_type": "stream",
     "text": [
      "Epoch 20: 100%|██████████| 123/123 [00:30<00:00,  4.05it/s, loss=2.67, v_num=1, train_loss_step=2.840, val_loss=2.910, train_loss_epoch=2.680]"
     ]
    },
    {
     "name": "stderr",
     "output_type": "stream",
     "text": [
      "Metric val_loss improved by 0.006 >= min_delta = 0. New best score: 2.908\n"
     ]
    },
    {
     "name": "stdout",
     "output_type": "stream",
     "text": [
      "Epoch 23: 100%|██████████| 123/123 [00:30<00:00,  4.03it/s, loss=2.59, v_num=1, train_loss_step=2.740, val_loss=2.870, train_loss_epoch=2.620]"
     ]
    },
    {
     "name": "stderr",
     "output_type": "stream",
     "text": [
      "Metric val_loss improved by 0.036 >= min_delta = 0. New best score: 2.872\n"
     ]
    },
    {
     "name": "stdout",
     "output_type": "stream",
     "text": [
      "Epoch 24: 100%|██████████| 123/123 [00:29<00:00,  4.12it/s, loss=2.58, v_num=1, train_loss_step=2.540, val_loss=2.870, train_loss_epoch=2.600]"
     ]
    },
    {
     "name": "stderr",
     "output_type": "stream",
     "text": [
      "Metric val_loss improved by 0.006 >= min_delta = 0. New best score: 2.866\n"
     ]
    },
    {
     "name": "stdout",
     "output_type": "stream",
     "text": [
      "Epoch 25: 100%|██████████| 123/123 [00:33<00:00,  3.72it/s, loss=2.57, v_num=1, train_loss_step=2.480, val_loss=2.870, train_loss_epoch=2.590]"
     ]
    },
    {
     "name": "stderr",
     "output_type": "stream",
     "text": [
      "Metric val_loss improved by 0.000 >= min_delta = 0. New best score: 2.865\n"
     ]
    },
    {
     "name": "stdout",
     "output_type": "stream",
     "text": [
      "Epoch 28: 100%|██████████| 123/123 [00:29<00:00,  4.21it/s, loss=2.53, v_num=1, train_loss_step=2.590, val_loss=2.860, train_loss_epoch=2.540]"
     ]
    },
    {
     "name": "stderr",
     "output_type": "stream",
     "text": [
      "Metric val_loss improved by 0.006 >= min_delta = 0. New best score: 2.859\n"
     ]
    },
    {
     "name": "stdout",
     "output_type": "stream",
     "text": [
      "Epoch 29: 100%|██████████| 123/123 [00:29<00:00,  4.16it/s, loss=2.52, v_num=1, train_loss_step=2.420, val_loss=2.840, train_loss_epoch=2.530]"
     ]
    },
    {
     "name": "stderr",
     "output_type": "stream",
     "text": [
      "Metric val_loss improved by 0.022 >= min_delta = 0. New best score: 2.837\n"
     ]
    },
    {
     "name": "stdout",
     "output_type": "stream",
     "text": [
      "Epoch 29: 100%|██████████| 123/123 [00:29<00:00,  4.16it/s, loss=2.52, v_num=1, train_loss_step=2.420, val_loss=2.840, train_loss_epoch=2.520]"
     ]
    },
    {
     "name": "stderr",
     "output_type": "stream",
     "text": [
      "`Trainer.fit` stopped: `max_epochs=30` reached.\n"
     ]
    },
    {
     "name": "stdout",
     "output_type": "stream",
     "text": [
      "Epoch 29: 100%|██████████| 123/123 [00:29<00:00,  4.16it/s, loss=2.52, v_num=1, train_loss_step=2.420, val_loss=2.840, train_loss_epoch=2.520]"
     ]
    },
    {
     "name": "stderr",
     "output_type": "stream",
     "text": [
      "\u001b[32m[I 2024-04-02 18:51:46,838]\u001b[0m Trial 1 finished with value: 34.430091857910156 and parameters: {'neu': 110, 'lay': 3, 'bat': 608, 'lr': 0.002229565406613702, 'dropout': 0.6000000000000001}. Best is trial 1 with value: 34.430091857910156.\u001b[0m\n"
     ]
    },
    {
     "name": "stdout",
     "output_type": "stream",
     "text": [
      "\n"
     ]
    },
    {
     "name": "stderr",
     "output_type": "stream",
     "text": [
      "GPU available: True (cuda), used: True\n",
      "TPU available: False, using: 0 TPU cores\n",
      "IPU available: False, using: 0 IPUs\n",
      "HPU available: False, using: 0 HPUs\n",
      "`Trainer(limit_train_batches=1.0)` was configured so 100% of the batches per epoch will be used..\n",
      "`Trainer(limit_val_batches=1.0)` was configured so 100% of the batches will be used..\n",
      "LOCAL_RANK: 0 - CUDA_VISIBLE_DEVICES: [0]\n",
      "\n",
      "  | Name                   | Type                             | Params\n",
      "----------------------------------------------------------------------------\n",
      "0 | loss                   | NegativeBinomialDistributionLoss | 0     \n",
      "1 | logging_metrics        | ModuleList                       | 0     \n",
      "2 | embeddings             | MultiEmbedding                   | 927   \n",
      "3 | rnn                    | LSTM                             | 15.8 K\n",
      "4 | distribution_projector | Linear                           | 22    \n",
      "----------------------------------------------------------------------------\n",
      "16.7 K    Trainable params\n",
      "0         Non-trainable params\n",
      "16.7 K    Total params\n",
      "0.067     Total estimated model params size (MB)\n"
     ]
    },
    {
     "name": "stdout",
     "output_type": "stream",
     "text": [
      "Epoch 0: 100%|██████████| 167/167 [00:32<00:00,  5.07it/s, loss=4.33, v_num=2, train_loss_step=4.450, val_loss=4.370]"
     ]
    },
    {
     "name": "stderr",
     "output_type": "stream",
     "text": [
      "Metric val_loss improved. New best score: 4.369\n"
     ]
    },
    {
     "name": "stdout",
     "output_type": "stream",
     "text": [
      "Epoch 1: 100%|██████████| 167/167 [00:30<00:00,  5.53it/s, loss=4, v_num=2, train_loss_step=4.060, val_loss=4.110, train_loss_epoch=10.90]   "
     ]
    },
    {
     "name": "stderr",
     "output_type": "stream",
     "text": [
      "Metric val_loss improved by 0.255 >= min_delta = 0. New best score: 4.114\n"
     ]
    },
    {
     "name": "stdout",
     "output_type": "stream",
     "text": [
      "Epoch 2: 100%|██████████| 167/167 [00:29<00:00,  5.59it/s, loss=4, v_num=2, train_loss_step=3.880, val_loss=4.100, train_loss_epoch=4.060]   "
     ]
    },
    {
     "name": "stderr",
     "output_type": "stream",
     "text": [
      "Metric val_loss improved by 0.017 >= min_delta = 0. New best score: 4.097\n"
     ]
    },
    {
     "name": "stdout",
     "output_type": "stream",
     "text": [
      "Epoch 3: 100%|██████████| 167/167 [00:30<00:00,  5.52it/s, loss=3.98, v_num=2, train_loss_step=3.960, val_loss=4.090, train_loss_epoch=3.990]"
     ]
    },
    {
     "name": "stderr",
     "output_type": "stream",
     "text": [
      "Metric val_loss improved by 0.003 >= min_delta = 0. New best score: 4.094\n"
     ]
    },
    {
     "name": "stdout",
     "output_type": "stream",
     "text": [
      "Epoch 4: 100%|██████████| 167/167 [00:29<00:00,  5.62it/s, loss=3.96, v_num=2, train_loss_step=3.870, val_loss=4.090, train_loss_epoch=3.990]"
     ]
    },
    {
     "name": "stderr",
     "output_type": "stream",
     "text": [
      "Metric val_loss improved by 0.000 >= min_delta = 0. New best score: 4.093\n"
     ]
    },
    {
     "name": "stdout",
     "output_type": "stream",
     "text": [
      "Epoch 5: 100%|██████████| 167/167 [00:29<00:00,  5.64it/s, loss=4.01, v_num=2, train_loss_step=4.100, val_loss=4.090, train_loss_epoch=3.990]"
     ]
    },
    {
     "name": "stderr",
     "output_type": "stream",
     "text": [
      "Metric val_loss improved by 0.000 >= min_delta = 0. New best score: 4.093\n"
     ]
    },
    {
     "name": "stdout",
     "output_type": "stream",
     "text": [
      "Epoch 7: 100%|██████████| 167/167 [00:29<00:00,  5.64it/s, loss=3.96, v_num=2, train_loss_step=4.030, val_loss=4.090, train_loss_epoch=3.980]"
     ]
    },
    {
     "name": "stderr",
     "output_type": "stream",
     "text": [
      "Metric val_loss improved by 0.000 >= min_delta = 0. New best score: 4.093\n"
     ]
    },
    {
     "name": "stdout",
     "output_type": "stream",
     "text": [
      "Epoch 8: 100%|██████████| 167/167 [00:30<00:00,  5.50it/s, loss=3.97, v_num=2, train_loss_step=4.060, val_loss=4.090, train_loss_epoch=3.980]"
     ]
    },
    {
     "name": "stderr",
     "output_type": "stream",
     "text": [
      "Metric val_loss improved by 0.000 >= min_delta = 0. New best score: 4.093\n"
     ]
    },
    {
     "name": "stdout",
     "output_type": "stream",
     "text": [
      "Epoch 9: 100%|██████████| 167/167 [00:30<00:00,  5.41it/s, loss=3.97, v_num=2, train_loss_step=3.970, val_loss=4.090, train_loss_epoch=3.990]"
     ]
    },
    {
     "name": "stderr",
     "output_type": "stream",
     "text": [
      "Metric val_loss improved by 0.000 >= min_delta = 0. New best score: 4.092\n"
     ]
    },
    {
     "name": "stdout",
     "output_type": "stream",
     "text": [
      "Epoch 12: 100%|██████████| 167/167 [00:34<00:00,  4.91it/s, loss=4, v_num=2, train_loss_step=3.940, val_loss=4.090, train_loss_epoch=3.980]   "
     ]
    },
    {
     "name": "stderr",
     "output_type": "stream",
     "text": [
      "Metric val_loss improved by 0.000 >= min_delta = 0. New best score: 4.092\n"
     ]
    },
    {
     "name": "stdout",
     "output_type": "stream",
     "text": [
      "Epoch 17: 100%|██████████| 167/167 [00:32<00:00,  5.21it/s, loss=3.99, v_num=2, train_loss_step=3.760, val_loss=4.090, train_loss_epoch=3.990]"
     ]
    },
    {
     "name": "stderr",
     "output_type": "stream",
     "text": [
      "Monitored metric val_loss did not improve in the last 5 records. Best score: 4.092. Signaling Trainer to stop.\n"
     ]
    },
    {
     "name": "stdout",
     "output_type": "stream",
     "text": [
      "Epoch 17: 100%|██████████| 167/167 [00:32<00:00,  5.21it/s, loss=3.99, v_num=2, train_loss_step=3.760, val_loss=4.090, train_loss_epoch=3.990]"
     ]
    },
    {
     "name": "stderr",
     "output_type": "stream",
     "text": [
      "\u001b[32m[I 2024-04-02 19:01:22,663]\u001b[0m Trial 2 finished with value: 59.7247200012207 and parameters: {'neu': 10, 'lay': 9, 'bat': 448, 'lr': 0.09096094429469842, 'dropout': 0.4}. Best is trial 1 with value: 34.430091857910156.\u001b[0m\n"
     ]
    },
    {
     "name": "stdout",
     "output_type": "stream",
     "text": [
      "\n"
     ]
    },
    {
     "name": "stderr",
     "output_type": "stream",
     "text": [
      "GPU available: True (cuda), used: True\n",
      "TPU available: False, using: 0 TPU cores\n",
      "IPU available: False, using: 0 IPUs\n",
      "HPU available: False, using: 0 HPUs\n",
      "`Trainer(limit_train_batches=1.0)` was configured so 100% of the batches per epoch will be used..\n",
      "`Trainer(limit_val_batches=1.0)` was configured so 100% of the batches will be used..\n",
      "LOCAL_RANK: 0 - CUDA_VISIBLE_DEVICES: [0]\n",
      "\n",
      "  | Name                   | Type                             | Params\n",
      "----------------------------------------------------------------------------\n",
      "0 | loss                   | NegativeBinomialDistributionLoss | 0     \n",
      "1 | logging_metrics        | ModuleList                       | 0     \n",
      "2 | embeddings             | MultiEmbedding                   | 927   \n",
      "3 | rnn                    | LSTM                             | 14.0 K\n",
      "4 | distribution_projector | Linear                           | 22    \n",
      "----------------------------------------------------------------------------\n",
      "14.9 K    Trainable params\n",
      "0         Non-trainable params\n",
      "14.9 K    Total params\n",
      "0.060     Total estimated model params size (MB)\n"
     ]
    },
    {
     "name": "stdout",
     "output_type": "stream",
     "text": [
      "Epoch 0: 100%|██████████| 138/138 [00:34<00:00,  3.96it/s, loss=26.1, v_num=3, train_loss_step=29.70, val_loss=28.40]"
     ]
    },
    {
     "name": "stderr",
     "output_type": "stream",
     "text": [
      "Metric val_loss improved. New best score: 28.365\n"
     ]
    },
    {
     "name": "stdout",
     "output_type": "stream",
     "text": [
      "Epoch 1: 100%|██████████| 138/138 [00:31<00:00,  4.42it/s, loss=24, v_num=3, train_loss_step=21.90, val_loss=25.70, train_loss_epoch=26.90]  "
     ]
    },
    {
     "name": "stderr",
     "output_type": "stream",
     "text": [
      "Metric val_loss improved by 2.702 >= min_delta = 0. New best score: 25.663\n"
     ]
    },
    {
     "name": "stdout",
     "output_type": "stream",
     "text": [
      "Epoch 2: 100%|██████████| 138/138 [00:31<00:00,  4.34it/s, loss=20.2, v_num=3, train_loss_step=20.70, val_loss=21.00, train_loss_epoch=24.90]"
     ]
    },
    {
     "name": "stderr",
     "output_type": "stream",
     "text": [
      "Metric val_loss improved by 4.629 >= min_delta = 0. New best score: 21.034\n"
     ]
    },
    {
     "name": "stdout",
     "output_type": "stream",
     "text": [
      "Epoch 3: 100%|██████████| 138/138 [00:30<00:00,  4.53it/s, loss=13.1, v_num=3, train_loss_step=12.30, val_loss=13.30, train_loss_epoch=21.70]"
     ]
    },
    {
     "name": "stderr",
     "output_type": "stream",
     "text": [
      "Metric val_loss improved by 7.708 >= min_delta = 0. New best score: 13.325\n"
     ]
    },
    {
     "name": "stdout",
     "output_type": "stream",
     "text": [
      "Epoch 4: 100%|██████████| 138/138 [00:30<00:00,  4.60it/s, loss=7.96, v_num=3, train_loss_step=7.700, val_loss=8.130, train_loss_epoch=16.00]"
     ]
    },
    {
     "name": "stderr",
     "output_type": "stream",
     "text": [
      "Metric val_loss improved by 5.198 >= min_delta = 0. New best score: 8.127\n"
     ]
    },
    {
     "name": "stdout",
     "output_type": "stream",
     "text": [
      "Epoch 5: 100%|██████████| 138/138 [00:32<00:00,  4.21it/s, loss=6.33, v_num=3, train_loss_step=6.170, val_loss=6.590, train_loss_epoch=9.400]"
     ]
    },
    {
     "name": "stderr",
     "output_type": "stream",
     "text": [
      "Metric val_loss improved by 1.540 >= min_delta = 0. New best score: 6.587\n"
     ]
    },
    {
     "name": "stdout",
     "output_type": "stream",
     "text": [
      "Epoch 6: 100%|██████████| 138/138 [00:29<00:00,  4.61it/s, loss=5.5, v_num=3, train_loss_step=5.330, val_loss=5.820, train_loss_epoch=6.790] "
     ]
    },
    {
     "name": "stderr",
     "output_type": "stream",
     "text": [
      "Metric val_loss improved by 0.765 >= min_delta = 0. New best score: 5.822\n"
     ]
    },
    {
     "name": "stdout",
     "output_type": "stream",
     "text": [
      "Epoch 7: 100%|██████████| 138/138 [00:29<00:00,  4.62it/s, loss=5.18, v_num=3, train_loss_step=4.930, val_loss=5.380, train_loss_epoch=5.830]"
     ]
    },
    {
     "name": "stderr",
     "output_type": "stream",
     "text": [
      "Metric val_loss improved by 0.444 >= min_delta = 0. New best score: 5.378\n"
     ]
    },
    {
     "name": "stdout",
     "output_type": "stream",
     "text": [
      "Epoch 8: 100%|██████████| 138/138 [00:29<00:00,  4.63it/s, loss=4.75, v_num=3, train_loss_step=4.770, val_loss=5.080, train_loss_epoch=5.300]"
     ]
    },
    {
     "name": "stderr",
     "output_type": "stream",
     "text": [
      "Metric val_loss improved by 0.301 >= min_delta = 0. New best score: 5.077\n"
     ]
    },
    {
     "name": "stdout",
     "output_type": "stream",
     "text": [
      "Epoch 9: 100%|██████████| 138/138 [00:29<00:00,  4.67it/s, loss=4.73, v_num=3, train_loss_step=5.010, val_loss=4.890, train_loss_epoch=4.970]"
     ]
    },
    {
     "name": "stderr",
     "output_type": "stream",
     "text": [
      "Metric val_loss improved by 0.183 >= min_delta = 0. New best score: 4.894\n"
     ]
    },
    {
     "name": "stdout",
     "output_type": "stream",
     "text": [
      "Epoch 10: 100%|██████████| 138/138 [00:32<00:00,  4.25it/s, loss=4.58, v_num=3, train_loss_step=4.500, val_loss=4.760, train_loss_epoch=4.760]"
     ]
    },
    {
     "name": "stderr",
     "output_type": "stream",
     "text": [
      "Metric val_loss improved by 0.135 >= min_delta = 0. New best score: 4.759\n"
     ]
    },
    {
     "name": "stdout",
     "output_type": "stream",
     "text": [
      "Epoch 11: 100%|██████████| 138/138 [00:29<00:00,  4.69it/s, loss=4.47, v_num=3, train_loss_step=4.480, val_loss=4.670, train_loss_epoch=4.620]"
     ]
    },
    {
     "name": "stderr",
     "output_type": "stream",
     "text": [
      "Metric val_loss improved by 0.090 >= min_delta = 0. New best score: 4.668\n"
     ]
    },
    {
     "name": "stdout",
     "output_type": "stream",
     "text": [
      "Epoch 12: 100%|██████████| 138/138 [00:29<00:00,  4.68it/s, loss=4.41, v_num=3, train_loss_step=4.680, val_loss=4.600, train_loss_epoch=4.520]"
     ]
    },
    {
     "name": "stderr",
     "output_type": "stream",
     "text": [
      "Metric val_loss improved by 0.071 >= min_delta = 0. New best score: 4.598\n"
     ]
    },
    {
     "name": "stdout",
     "output_type": "stream",
     "text": [
      "Epoch 13: 100%|██████████| 138/138 [00:29<00:00,  4.74it/s, loss=4.35, v_num=3, train_loss_step=4.410, val_loss=4.550, train_loss_epoch=4.450]"
     ]
    },
    {
     "name": "stderr",
     "output_type": "stream",
     "text": [
      "Metric val_loss improved by 0.051 >= min_delta = 0. New best score: 4.546\n"
     ]
    },
    {
     "name": "stdout",
     "output_type": "stream",
     "text": [
      "Epoch 14: 100%|██████████| 138/138 [00:29<00:00,  4.64it/s, loss=4.35, v_num=3, train_loss_step=4.050, val_loss=4.500, train_loss_epoch=4.400]"
     ]
    },
    {
     "name": "stderr",
     "output_type": "stream",
     "text": [
      "Metric val_loss improved by 0.045 >= min_delta = 0. New best score: 4.501\n"
     ]
    },
    {
     "name": "stdout",
     "output_type": "stream",
     "text": [
      "Epoch 15: 100%|██████████| 138/138 [00:32<00:00,  4.31it/s, loss=4.29, v_num=3, train_loss_step=4.180, val_loss=4.460, train_loss_epoch=4.360]"
     ]
    },
    {
     "name": "stderr",
     "output_type": "stream",
     "text": [
      "Metric val_loss improved by 0.037 >= min_delta = 0. New best score: 4.464\n"
     ]
    },
    {
     "name": "stdout",
     "output_type": "stream",
     "text": [
      "Epoch 16: 100%|██████████| 138/138 [00:30<00:00,  4.57it/s, loss=4.28, v_num=3, train_loss_step=4.220, val_loss=4.430, train_loss_epoch=4.320]"
     ]
    },
    {
     "name": "stderr",
     "output_type": "stream",
     "text": [
      "Metric val_loss improved by 0.036 >= min_delta = 0. New best score: 4.428\n"
     ]
    },
    {
     "name": "stdout",
     "output_type": "stream",
     "text": [
      "Epoch 17: 100%|██████████| 138/138 [00:30<00:00,  4.57it/s, loss=4.26, v_num=3, train_loss_step=4.360, val_loss=4.400, train_loss_epoch=4.290]"
     ]
    },
    {
     "name": "stderr",
     "output_type": "stream",
     "text": [
      "Metric val_loss improved by 0.031 >= min_delta = 0. New best score: 4.397\n"
     ]
    },
    {
     "name": "stdout",
     "output_type": "stream",
     "text": [
      "Epoch 18: 100%|██████████| 138/138 [00:29<00:00,  4.63it/s, loss=4.21, v_num=3, train_loss_step=4.390, val_loss=4.370, train_loss_epoch=4.250]"
     ]
    },
    {
     "name": "stderr",
     "output_type": "stream",
     "text": [
      "Metric val_loss improved by 0.030 >= min_delta = 0. New best score: 4.367\n"
     ]
    },
    {
     "name": "stdout",
     "output_type": "stream",
     "text": [
      "Epoch 19: 100%|██████████| 138/138 [00:30<00:00,  4.56it/s, loss=4.17, v_num=3, train_loss_step=4.110, val_loss=4.340, train_loss_epoch=4.230]"
     ]
    },
    {
     "name": "stderr",
     "output_type": "stream",
     "text": [
      "Metric val_loss improved by 0.026 >= min_delta = 0. New best score: 4.341\n"
     ]
    },
    {
     "name": "stdout",
     "output_type": "stream",
     "text": [
      "Epoch 20: 100%|██████████| 138/138 [00:32<00:00,  4.22it/s, loss=4.21, v_num=3, train_loss_step=4.150, val_loss=4.320, train_loss_epoch=4.200]"
     ]
    },
    {
     "name": "stderr",
     "output_type": "stream",
     "text": [
      "Metric val_loss improved by 0.025 >= min_delta = 0. New best score: 4.316\n"
     ]
    },
    {
     "name": "stdout",
     "output_type": "stream",
     "text": [
      "Epoch 21: 100%|██████████| 138/138 [00:29<00:00,  4.64it/s, loss=4.15, v_num=3, train_loss_step=4.250, val_loss=4.290, train_loss_epoch=4.180]"
     ]
    },
    {
     "name": "stderr",
     "output_type": "stream",
     "text": [
      "Metric val_loss improved by 0.022 >= min_delta = 0. New best score: 4.294\n"
     ]
    },
    {
     "name": "stdout",
     "output_type": "stream",
     "text": [
      "Epoch 22: 100%|██████████| 138/138 [00:30<00:00,  4.52it/s, loss=4.11, v_num=3, train_loss_step=4.090, val_loss=4.270, train_loss_epoch=4.160]"
     ]
    },
    {
     "name": "stderr",
     "output_type": "stream",
     "text": [
      "Metric val_loss improved by 0.021 >= min_delta = 0. New best score: 4.273\n"
     ]
    },
    {
     "name": "stdout",
     "output_type": "stream",
     "text": [
      "Epoch 23: 100%|██████████| 138/138 [00:29<00:00,  4.61it/s, loss=4.13, v_num=3, train_loss_step=4.190, val_loss=4.260, train_loss_epoch=4.140]"
     ]
    },
    {
     "name": "stderr",
     "output_type": "stream",
     "text": [
      "Metric val_loss improved by 0.017 >= min_delta = 0. New best score: 4.256\n"
     ]
    },
    {
     "name": "stdout",
     "output_type": "stream",
     "text": [
      "Epoch 24: 100%|██████████| 138/138 [00:29<00:00,  4.64it/s, loss=4.09, v_num=3, train_loss_step=4.110, val_loss=4.240, train_loss_epoch=4.120]"
     ]
    },
    {
     "name": "stderr",
     "output_type": "stream",
     "text": [
      "Metric val_loss improved by 0.016 >= min_delta = 0. New best score: 4.240\n"
     ]
    },
    {
     "name": "stdout",
     "output_type": "stream",
     "text": [
      "Epoch 25: 100%|██████████| 138/138 [00:32<00:00,  4.29it/s, loss=4.08, v_num=3, train_loss_step=4.080, val_loss=4.230, train_loss_epoch=4.110]"
     ]
    },
    {
     "name": "stderr",
     "output_type": "stream",
     "text": [
      "Metric val_loss improved by 0.013 >= min_delta = 0. New best score: 4.227\n"
     ]
    },
    {
     "name": "stdout",
     "output_type": "stream",
     "text": [
      "Epoch 26: 100%|██████████| 138/138 [00:29<00:00,  4.62it/s, loss=4.05, v_num=3, train_loss_step=3.910, val_loss=4.210, train_loss_epoch=4.090]"
     ]
    },
    {
     "name": "stderr",
     "output_type": "stream",
     "text": [
      "Metric val_loss improved by 0.012 >= min_delta = 0. New best score: 4.214\n"
     ]
    },
    {
     "name": "stdout",
     "output_type": "stream",
     "text": [
      "Epoch 27: 100%|██████████| 138/138 [00:29<00:00,  4.70it/s, loss=4.08, v_num=3, train_loss_step=4.040, val_loss=4.200, train_loss_epoch=4.080]"
     ]
    },
    {
     "name": "stderr",
     "output_type": "stream",
     "text": [
      "Metric val_loss improved by 0.010 >= min_delta = 0. New best score: 4.204\n"
     ]
    },
    {
     "name": "stdout",
     "output_type": "stream",
     "text": [
      "Epoch 28: 100%|██████████| 138/138 [00:29<00:00,  4.61it/s, loss=4.04, v_num=3, train_loss_step=4.230, val_loss=4.190, train_loss_epoch=4.070]"
     ]
    },
    {
     "name": "stderr",
     "output_type": "stream",
     "text": [
      "Metric val_loss improved by 0.010 >= min_delta = 0. New best score: 4.195\n"
     ]
    },
    {
     "name": "stdout",
     "output_type": "stream",
     "text": [
      "Epoch 29: 100%|██████████| 138/138 [00:30<00:00,  4.60it/s, loss=4.06, v_num=3, train_loss_step=4.160, val_loss=4.190, train_loss_epoch=4.060]"
     ]
    },
    {
     "name": "stderr",
     "output_type": "stream",
     "text": [
      "Metric val_loss improved by 0.008 >= min_delta = 0. New best score: 4.187\n"
     ]
    },
    {
     "name": "stdout",
     "output_type": "stream",
     "text": [
      "Epoch 29: 100%|██████████| 138/138 [00:30<00:00,  4.60it/s, loss=4.06, v_num=3, train_loss_step=4.160, val_loss=4.190, train_loss_epoch=4.060]"
     ]
    },
    {
     "name": "stderr",
     "output_type": "stream",
     "text": [
      "`Trainer.fit` stopped: `max_epochs=30` reached.\n"
     ]
    },
    {
     "name": "stdout",
     "output_type": "stream",
     "text": [
      "Epoch 29: 100%|██████████| 138/138 [00:30<00:00,  4.60it/s, loss=4.06, v_num=3, train_loss_step=4.160, val_loss=4.190, train_loss_epoch=4.060]"
     ]
    },
    {
     "name": "stderr",
     "output_type": "stream",
     "text": [
      "\u001b[32m[I 2024-04-02 19:16:56,285]\u001b[0m Trial 3 finished with value: 60.3017463684082 and parameters: {'neu': 10, 'lay': 7, 'bat': 544, 'lr': 0.001245329104276617, 'dropout': 0.0}. Best is trial 1 with value: 34.430091857910156.\u001b[0m\n"
     ]
    },
    {
     "name": "stdout",
     "output_type": "stream",
     "text": [
      "\n"
     ]
    },
    {
     "name": "stderr",
     "output_type": "stream",
     "text": [
      "GPU available: True (cuda), used: True\n",
      "TPU available: False, using: 0 TPU cores\n",
      "IPU available: False, using: 0 IPUs\n",
      "HPU available: False, using: 0 HPUs\n",
      "`Trainer(limit_train_batches=1.0)` was configured so 100% of the batches per epoch will be used..\n",
      "`Trainer(limit_val_batches=1.0)` was configured so 100% of the batches will be used..\n",
      "LOCAL_RANK: 0 - CUDA_VISIBLE_DEVICES: [0]\n",
      "\n",
      "  | Name                   | Type                             | Params\n",
      "----------------------------------------------------------------------------\n",
      "0 | loss                   | NegativeBinomialDistributionLoss | 0     \n",
      "1 | logging_metrics        | ModuleList                       | 0     \n",
      "2 | embeddings             | MultiEmbedding                   | 927   \n",
      "3 | rnn                    | LSTM                             | 3.2 M \n",
      "4 | distribution_projector | Linear                           | 422   \n",
      "----------------------------------------------------------------------------\n",
      "3.2 M     Trainable params\n",
      "0         Non-trainable params\n",
      "3.2 M     Total params\n",
      "12.753    Total estimated model params size (MB)\n"
     ]
    },
    {
     "name": "stdout",
     "output_type": "stream",
     "text": [
      "Epoch 0: 100%|██████████| 138/138 [00:33<00:00,  4.12it/s, loss=28.8, v_num=4, train_loss_step=27.70, val_loss=31.80]"
     ]
    },
    {
     "name": "stderr",
     "output_type": "stream",
     "text": [
      "Metric val_loss improved. New best score: 31.836\n"
     ]
    },
    {
     "name": "stdout",
     "output_type": "stream",
     "text": [
      "Epoch 1: 100%|██████████| 138/138 [00:29<00:00,  4.60it/s, loss=29.3, v_num=4, train_loss_step=29.30, val_loss=31.50, train_loss_epoch=29.30]"
     ]
    },
    {
     "name": "stderr",
     "output_type": "stream",
     "text": [
      "Metric val_loss improved by 0.362 >= min_delta = 0. New best score: 31.475\n"
     ]
    },
    {
     "name": "stdout",
     "output_type": "stream",
     "text": [
      "Epoch 2: 100%|██████████| 138/138 [00:29<00:00,  4.62it/s, loss=28.2, v_num=4, train_loss_step=25.20, val_loss=30.90, train_loss_epoch=29.10]"
     ]
    },
    {
     "name": "stderr",
     "output_type": "stream",
     "text": [
      "Metric val_loss improved by 0.543 >= min_delta = 0. New best score: 30.931\n"
     ]
    },
    {
     "name": "stdout",
     "output_type": "stream",
     "text": [
      "Epoch 3: 100%|██████████| 138/138 [00:30<00:00,  4.51it/s, loss=28, v_num=4, train_loss_step=29.80, val_loss=30.30, train_loss_epoch=28.70]  "
     ]
    },
    {
     "name": "stderr",
     "output_type": "stream",
     "text": [
      "Metric val_loss improved by 0.679 >= min_delta = 0. New best score: 30.252\n"
     ]
    },
    {
     "name": "stdout",
     "output_type": "stream",
     "text": [
      "Epoch 4: 100%|██████████| 138/138 [00:30<00:00,  4.55it/s, loss=26.5, v_num=4, train_loss_step=27.60, val_loss=29.30, train_loss_epoch=28.10]"
     ]
    },
    {
     "name": "stderr",
     "output_type": "stream",
     "text": [
      "Metric val_loss improved by 0.991 >= min_delta = 0. New best score: 29.261\n"
     ]
    },
    {
     "name": "stdout",
     "output_type": "stream",
     "text": [
      "Epoch 5: 100%|██████████| 138/138 [00:33<00:00,  4.14it/s, loss=25.8, v_num=4, train_loss_step=25.50, val_loss=27.90, train_loss_epoch=27.40]"
     ]
    },
    {
     "name": "stderr",
     "output_type": "stream",
     "text": [
      "Metric val_loss improved by 1.351 >= min_delta = 0. New best score: 27.910\n"
     ]
    },
    {
     "name": "stdout",
     "output_type": "stream",
     "text": [
      "Epoch 6: 100%|██████████| 138/138 [00:30<00:00,  4.58it/s, loss=23.8, v_num=4, train_loss_step=21.00, val_loss=25.60, train_loss_epoch=26.30]"
     ]
    },
    {
     "name": "stderr",
     "output_type": "stream",
     "text": [
      "Metric val_loss improved by 2.266 >= min_delta = 0. New best score: 25.644\n"
     ]
    },
    {
     "name": "stdout",
     "output_type": "stream",
     "text": [
      "Epoch 7: 100%|██████████| 138/138 [00:30<00:00,  4.59it/s, loss=21, v_num=4, train_loss_step=23.10, val_loss=22.10, train_loss_epoch=24.70]  "
     ]
    },
    {
     "name": "stderr",
     "output_type": "stream",
     "text": [
      "Metric val_loss improved by 3.520 >= min_delta = 0. New best score: 22.124\n"
     ]
    },
    {
     "name": "stdout",
     "output_type": "stream",
     "text": [
      "Epoch 8: 100%|██████████| 138/138 [00:30<00:00,  4.48it/s, loss=15.9, v_num=4, train_loss_step=13.90, val_loss=16.20, train_loss_epoch=22.10]"
     ]
    },
    {
     "name": "stderr",
     "output_type": "stream",
     "text": [
      "Metric val_loss improved by 5.888 >= min_delta = 0. New best score: 16.236\n"
     ]
    },
    {
     "name": "stdout",
     "output_type": "stream",
     "text": [
      "Epoch 9: 100%|██████████| 138/138 [00:30<00:00,  4.50it/s, loss=10.1, v_num=4, train_loss_step=9.730, val_loss=10.10, train_loss_epoch=18.00]"
     ]
    },
    {
     "name": "stderr",
     "output_type": "stream",
     "text": [
      "Metric val_loss improved by 6.185 >= min_delta = 0. New best score: 10.051\n"
     ]
    },
    {
     "name": "stdout",
     "output_type": "stream",
     "text": [
      "Epoch 10: 100%|██████████| 138/138 [00:32<00:00,  4.21it/s, loss=6.38, v_num=4, train_loss_step=6.130, val_loss=6.250, train_loss_epoch=12.40]"
     ]
    },
    {
     "name": "stderr",
     "output_type": "stream",
     "text": [
      "Metric val_loss improved by 3.801 >= min_delta = 0. New best score: 6.250\n"
     ]
    },
    {
     "name": "stdout",
     "output_type": "stream",
     "text": [
      "Epoch 11: 100%|██████████| 138/138 [00:30<00:00,  4.57it/s, loss=4.94, v_num=4, train_loss_step=4.900, val_loss=5.050, train_loss_epoch=7.630]"
     ]
    },
    {
     "name": "stderr",
     "output_type": "stream",
     "text": [
      "Metric val_loss improved by 1.195 >= min_delta = 0. New best score: 5.055\n"
     ]
    },
    {
     "name": "stdout",
     "output_type": "stream",
     "text": [
      "Epoch 12: 100%|██████████| 138/138 [00:30<00:00,  4.59it/s, loss=4.57, v_num=4, train_loss_step=4.590, val_loss=4.660, train_loss_epoch=5.400]"
     ]
    },
    {
     "name": "stderr",
     "output_type": "stream",
     "text": [
      "Metric val_loss improved by 0.390 >= min_delta = 0. New best score: 4.665\n"
     ]
    },
    {
     "name": "stdout",
     "output_type": "stream",
     "text": [
      "Epoch 13: 100%|██████████| 138/138 [00:29<00:00,  4.64it/s, loss=4.39, v_num=4, train_loss_step=4.430, val_loss=4.540, train_loss_epoch=4.670]"
     ]
    },
    {
     "name": "stderr",
     "output_type": "stream",
     "text": [
      "Metric val_loss improved by 0.129 >= min_delta = 0. New best score: 4.536\n"
     ]
    },
    {
     "name": "stdout",
     "output_type": "stream",
     "text": [
      "Epoch 14: 100%|██████████| 138/138 [00:30<00:00,  4.58it/s, loss=4.32, v_num=4, train_loss_step=4.330, val_loss=4.470, train_loss_epoch=4.440]"
     ]
    },
    {
     "name": "stderr",
     "output_type": "stream",
     "text": [
      "Metric val_loss improved by 0.067 >= min_delta = 0. New best score: 4.469\n"
     ]
    },
    {
     "name": "stdout",
     "output_type": "stream",
     "text": [
      "Epoch 15: 100%|██████████| 138/138 [00:30<00:00,  4.52it/s, loss=4.29, v_num=4, train_loss_step=4.370, val_loss=4.430, train_loss_epoch=4.350]"
     ]
    },
    {
     "name": "stderr",
     "output_type": "stream",
     "text": [
      "Metric val_loss improved by 0.042 >= min_delta = 0. New best score: 4.428\n"
     ]
    },
    {
     "name": "stdout",
     "output_type": "stream",
     "text": [
      "Epoch 16: 100%|██████████| 138/138 [00:33<00:00,  4.17it/s, loss=4.24, v_num=4, train_loss_step=4.200, val_loss=4.390, train_loss_epoch=4.300]"
     ]
    },
    {
     "name": "stderr",
     "output_type": "stream",
     "text": [
      "Metric val_loss improved by 0.035 >= min_delta = 0. New best score: 4.392\n"
     ]
    },
    {
     "name": "stdout",
     "output_type": "stream",
     "text": [
      "Epoch 17: 100%|██████████| 138/138 [00:29<00:00,  4.61it/s, loss=4.18, v_num=4, train_loss_step=4.260, val_loss=4.360, train_loss_epoch=4.260]"
     ]
    },
    {
     "name": "stderr",
     "output_type": "stream",
     "text": [
      "Metric val_loss improved by 0.028 >= min_delta = 0. New best score: 4.365\n"
     ]
    },
    {
     "name": "stdout",
     "output_type": "stream",
     "text": [
      "Epoch 18: 100%|██████████| 138/138 [00:30<00:00,  4.57it/s, loss=4.18, v_num=4, train_loss_step=4.040, val_loss=4.340, train_loss_epoch=4.230]"
     ]
    },
    {
     "name": "stderr",
     "output_type": "stream",
     "text": [
      "Metric val_loss improved by 0.024 >= min_delta = 0. New best score: 4.341\n"
     ]
    },
    {
     "name": "stdout",
     "output_type": "stream",
     "text": [
      "Epoch 19: 100%|██████████| 138/138 [00:29<00:00,  4.63it/s, loss=4.17, v_num=4, train_loss_step=4.380, val_loss=4.320, train_loss_epoch=4.210]"
     ]
    },
    {
     "name": "stderr",
     "output_type": "stream",
     "text": [
      "Metric val_loss improved by 0.019 >= min_delta = 0. New best score: 4.321\n"
     ]
    },
    {
     "name": "stdout",
     "output_type": "stream",
     "text": [
      "Epoch 20: 100%|██████████| 138/138 [00:29<00:00,  4.62it/s, loss=4.16, v_num=4, train_loss_step=4.170, val_loss=4.300, train_loss_epoch=4.190]"
     ]
    },
    {
     "name": "stderr",
     "output_type": "stream",
     "text": [
      "Metric val_loss improved by 0.018 >= min_delta = 0. New best score: 4.303\n"
     ]
    },
    {
     "name": "stdout",
     "output_type": "stream",
     "text": [
      "Epoch 21: 100%|██████████| 138/138 [00:32<00:00,  4.20it/s, loss=4.12, v_num=4, train_loss_step=4.150, val_loss=4.290, train_loss_epoch=4.170]"
     ]
    },
    {
     "name": "stderr",
     "output_type": "stream",
     "text": [
      "Metric val_loss improved by 0.015 >= min_delta = 0. New best score: 4.288\n"
     ]
    },
    {
     "name": "stdout",
     "output_type": "stream",
     "text": [
      "Epoch 22: 100%|██████████| 138/138 [00:29<00:00,  4.63it/s, loss=4.11, v_num=4, train_loss_step=4.200, val_loss=4.270, train_loss_epoch=4.150]"
     ]
    },
    {
     "name": "stderr",
     "output_type": "stream",
     "text": [
      "Metric val_loss improved by 0.015 >= min_delta = 0. New best score: 4.274\n"
     ]
    },
    {
     "name": "stdout",
     "output_type": "stream",
     "text": [
      "Epoch 23: 100%|██████████| 138/138 [00:30<00:00,  4.60it/s, loss=4.1, v_num=4, train_loss_step=4.150, val_loss=4.260, train_loss_epoch=4.140] "
     ]
    },
    {
     "name": "stderr",
     "output_type": "stream",
     "text": [
      "Metric val_loss improved by 0.013 >= min_delta = 0. New best score: 4.261\n"
     ]
    },
    {
     "name": "stdout",
     "output_type": "stream",
     "text": [
      "Epoch 24: 100%|██████████| 138/138 [00:29<00:00,  4.64it/s, loss=4.11, v_num=4, train_loss_step=4.190, val_loss=4.250, train_loss_epoch=4.130]"
     ]
    },
    {
     "name": "stderr",
     "output_type": "stream",
     "text": [
      "Metric val_loss improved by 0.012 >= min_delta = 0. New best score: 4.249\n"
     ]
    },
    {
     "name": "stdout",
     "output_type": "stream",
     "text": [
      "Epoch 25: 100%|██████████| 138/138 [00:29<00:00,  4.63it/s, loss=4.11, v_num=4, train_loss_step=4.100, val_loss=4.240, train_loss_epoch=4.110]"
     ]
    },
    {
     "name": "stderr",
     "output_type": "stream",
     "text": [
      "Metric val_loss improved by 0.010 >= min_delta = 0. New best score: 4.238\n"
     ]
    },
    {
     "name": "stdout",
     "output_type": "stream",
     "text": [
      "Epoch 26: 100%|██████████| 138/138 [00:29<00:00,  4.68it/s, loss=4.11, v_num=4, train_loss_step=4.040, val_loss=4.230, train_loss_epoch=4.100]"
     ]
    },
    {
     "name": "stderr",
     "output_type": "stream",
     "text": [
      "Metric val_loss improved by 0.010 >= min_delta = 0. New best score: 4.228\n"
     ]
    },
    {
     "name": "stdout",
     "output_type": "stream",
     "text": [
      "Epoch 27: 100%|██████████| 138/138 [00:32<00:00,  4.20it/s, loss=4.09, v_num=4, train_loss_step=4.050, val_loss=4.220, train_loss_epoch=4.100]"
     ]
    },
    {
     "name": "stderr",
     "output_type": "stream",
     "text": [
      "Metric val_loss improved by 0.009 >= min_delta = 0. New best score: 4.219\n"
     ]
    },
    {
     "name": "stdout",
     "output_type": "stream",
     "text": [
      "Epoch 28: 100%|██████████| 138/138 [00:29<00:00,  4.64it/s, loss=4.08, v_num=4, train_loss_step=4.100, val_loss=4.210, train_loss_epoch=4.090]"
     ]
    },
    {
     "name": "stderr",
     "output_type": "stream",
     "text": [
      "Metric val_loss improved by 0.009 >= min_delta = 0. New best score: 4.211\n"
     ]
    },
    {
     "name": "stdout",
     "output_type": "stream",
     "text": [
      "Epoch 29: 100%|██████████| 138/138 [00:29<00:00,  4.62it/s, loss=4.06, v_num=4, train_loss_step=4.060, val_loss=4.200, train_loss_epoch=4.080]"
     ]
    },
    {
     "name": "stderr",
     "output_type": "stream",
     "text": [
      "Metric val_loss improved by 0.008 >= min_delta = 0. New best score: 4.203\n"
     ]
    },
    {
     "name": "stdout",
     "output_type": "stream",
     "text": [
      "Epoch 29: 100%|██████████| 138/138 [00:29<00:00,  4.62it/s, loss=4.06, v_num=4, train_loss_step=4.060, val_loss=4.200, train_loss_epoch=4.070]"
     ]
    },
    {
     "name": "stderr",
     "output_type": "stream",
     "text": [
      "`Trainer.fit` stopped: `max_epochs=30` reached.\n"
     ]
    },
    {
     "name": "stdout",
     "output_type": "stream",
     "text": [
      "Epoch 29: 100%|██████████| 138/138 [00:30<00:00,  4.53it/s, loss=4.06, v_num=4, train_loss_step=4.060, val_loss=4.200, train_loss_epoch=4.070]"
     ]
    },
    {
     "name": "stderr",
     "output_type": "stream",
     "text": [
      "\u001b[32m[I 2024-04-02 19:32:30,102]\u001b[0m Trial 4 finished with value: 60.435211181640625 and parameters: {'neu': 210, 'lay': 9, 'bat': 544, 'lr': 3.797394095847317e-05, 'dropout': 0.8}. Best is trial 1 with value: 34.430091857910156.\u001b[0m\n"
     ]
    },
    {
     "name": "stdout",
     "output_type": "stream",
     "text": [
      "\n"
     ]
    },
    {
     "name": "stderr",
     "output_type": "stream",
     "text": [
      "GPU available: True (cuda), used: True\n",
      "TPU available: False, using: 0 TPU cores\n",
      "IPU available: False, using: 0 IPUs\n",
      "HPU available: False, using: 0 HPUs\n",
      "`Trainer(limit_train_batches=1.0)` was configured so 100% of the batches per epoch will be used..\n",
      "`Trainer(limit_val_batches=1.0)` was configured so 100% of the batches will be used..\n",
      "LOCAL_RANK: 0 - CUDA_VISIBLE_DEVICES: [0]\n",
      "\n",
      "  | Name                   | Type                             | Params\n",
      "----------------------------------------------------------------------------\n",
      "0 | loss                   | NegativeBinomialDistributionLoss | 0     \n",
      "1 | logging_metrics        | ModuleList                       | 0     \n",
      "2 | embeddings             | MultiEmbedding                   | 927   \n",
      "3 | rnn                    | LSTM                             | 14.0 K\n",
      "4 | distribution_projector | Linear                           | 22    \n",
      "----------------------------------------------------------------------------\n",
      "14.9 K    Trainable params\n",
      "0         Non-trainable params\n",
      "14.9 K    Total params\n",
      "0.060     Total estimated model params size (MB)\n"
     ]
    },
    {
     "name": "stdout",
     "output_type": "stream",
     "text": [
      "Epoch 0: 100%|██████████| 73/73 [00:28<00:00,  2.59it/s, loss=24.7, v_num=5, train_loss_step=24.60, val_loss=26.50]"
     ]
    },
    {
     "name": "stderr",
     "output_type": "stream",
     "text": [
      "Metric val_loss improved. New best score: 26.538\n"
     ]
    },
    {
     "name": "stdout",
     "output_type": "stream",
     "text": [
      "Epoch 1: 100%|██████████| 73/73 [00:28<00:00,  2.60it/s, loss=19.2, v_num=5, train_loss_step=16.80, val_loss=17.80, train_loss_epoch=25.60]"
     ]
    },
    {
     "name": "stderr",
     "output_type": "stream",
     "text": [
      "Metric val_loss improved by 8.692 >= min_delta = 0. New best score: 17.846\n"
     ]
    },
    {
     "name": "stdout",
     "output_type": "stream",
     "text": [
      "Epoch 2: 100%|██████████| 73/73 [00:32<00:00,  2.26it/s, loss=8.01, v_num=5, train_loss_step=7.220, val_loss=7.350, train_loss_epoch=21.30]"
     ]
    },
    {
     "name": "stderr",
     "output_type": "stream",
     "text": [
      "Metric val_loss improved by 10.496 >= min_delta = 0. New best score: 7.350\n"
     ]
    },
    {
     "name": "stdout",
     "output_type": "stream",
     "text": [
      "Epoch 3: 100%|██████████| 73/73 [00:27<00:00,  2.61it/s, loss=5.36, v_num=5, train_loss_step=5.230, val_loss=5.360, train_loss_epoch=10.70]"
     ]
    },
    {
     "name": "stderr",
     "output_type": "stream",
     "text": [
      "Metric val_loss improved by 1.988 >= min_delta = 0. New best score: 5.361\n"
     ]
    },
    {
     "name": "stdout",
     "output_type": "stream",
     "text": [
      "Epoch 4: 100%|██████████| 73/73 [00:28<00:00,  2.56it/s, loss=4.7, v_num=5, train_loss_step=4.560, val_loss=4.790, train_loss_epoch=5.850] "
     ]
    },
    {
     "name": "stderr",
     "output_type": "stream",
     "text": [
      "Metric val_loss improved by 0.571 >= min_delta = 0. New best score: 4.790\n"
     ]
    },
    {
     "name": "stdout",
     "output_type": "stream",
     "text": [
      "Epoch 5: 100%|██████████| 73/73 [00:28<00:00,  2.57it/s, loss=4.43, v_num=5, train_loss_step=4.450, val_loss=4.590, train_loss_epoch=4.830]"
     ]
    },
    {
     "name": "stderr",
     "output_type": "stream",
     "text": [
      "Metric val_loss improved by 0.201 >= min_delta = 0. New best score: 4.589\n"
     ]
    },
    {
     "name": "stdout",
     "output_type": "stream",
     "text": [
      "Epoch 6: 100%|██████████| 73/73 [00:28<00:00,  2.57it/s, loss=4.33, v_num=5, train_loss_step=4.150, val_loss=4.470, train_loss_epoch=4.490]"
     ]
    },
    {
     "name": "stderr",
     "output_type": "stream",
     "text": [
      "Metric val_loss improved by 0.118 >= min_delta = 0. New best score: 4.471\n"
     ]
    },
    {
     "name": "stdout",
     "output_type": "stream",
     "text": [
      "Epoch 7: 100%|██████████| 73/73 [00:31<00:00,  2.34it/s, loss=4.25, v_num=5, train_loss_step=4.240, val_loss=4.380, train_loss_epoch=4.350]"
     ]
    },
    {
     "name": "stderr",
     "output_type": "stream",
     "text": [
      "Metric val_loss improved by 0.086 >= min_delta = 0. New best score: 4.385\n"
     ]
    },
    {
     "name": "stdout",
     "output_type": "stream",
     "text": [
      "Epoch 8: 100%|██████████| 73/73 [00:28<00:00,  2.57it/s, loss=4.17, v_num=5, train_loss_step=4.180, val_loss=4.320, train_loss_epoch=4.270]"
     ]
    },
    {
     "name": "stderr",
     "output_type": "stream",
     "text": [
      "Metric val_loss improved by 0.070 >= min_delta = 0. New best score: 4.315\n"
     ]
    },
    {
     "name": "stdout",
     "output_type": "stream",
     "text": [
      "Epoch 9: 100%|██████████| 73/73 [00:28<00:00,  2.55it/s, loss=4.13, v_num=5, train_loss_step=4.260, val_loss=4.260, train_loss_epoch=4.200]"
     ]
    },
    {
     "name": "stderr",
     "output_type": "stream",
     "text": [
      "Metric val_loss improved by 0.055 >= min_delta = 0. New best score: 4.261\n"
     ]
    },
    {
     "name": "stdout",
     "output_type": "stream",
     "text": [
      "Epoch 10: 100%|██████████| 73/73 [00:28<00:00,  2.55it/s, loss=4.08, v_num=5, train_loss_step=3.990, val_loss=4.220, train_loss_epoch=4.140]"
     ]
    },
    {
     "name": "stderr",
     "output_type": "stream",
     "text": [
      "Metric val_loss improved by 0.040 >= min_delta = 0. New best score: 4.220\n"
     ]
    },
    {
     "name": "stdout",
     "output_type": "stream",
     "text": [
      "Epoch 11: 100%|██████████| 73/73 [00:28<00:00,  2.54it/s, loss=4.05, v_num=5, train_loss_step=3.940, val_loss=4.200, train_loss_epoch=4.100]"
     ]
    },
    {
     "name": "stderr",
     "output_type": "stream",
     "text": [
      "Metric val_loss improved by 0.025 >= min_delta = 0. New best score: 4.196\n"
     ]
    },
    {
     "name": "stdout",
     "output_type": "stream",
     "text": [
      "Epoch 12: 100%|██████████| 73/73 [00:31<00:00,  2.32it/s, loss=4.03, v_num=5, train_loss_step=4.090, val_loss=4.170, train_loss_epoch=4.070]"
     ]
    },
    {
     "name": "stderr",
     "output_type": "stream",
     "text": [
      "Metric val_loss improved by 0.021 >= min_delta = 0. New best score: 4.175\n"
     ]
    },
    {
     "name": "stdout",
     "output_type": "stream",
     "text": [
      "Epoch 13: 100%|██████████| 73/73 [00:27<00:00,  2.64it/s, loss=4.07, v_num=5, train_loss_step=4.160, val_loss=4.160, train_loss_epoch=4.050]"
     ]
    },
    {
     "name": "stderr",
     "output_type": "stream",
     "text": [
      "Metric val_loss improved by 0.015 >= min_delta = 0. New best score: 4.160\n"
     ]
    },
    {
     "name": "stdout",
     "output_type": "stream",
     "text": [
      "Epoch 14: 100%|██████████| 73/73 [00:27<00:00,  2.66it/s, loss=4.02, v_num=5, train_loss_step=3.990, val_loss=4.150, train_loss_epoch=4.040]"
     ]
    },
    {
     "name": "stderr",
     "output_type": "stream",
     "text": [
      "Metric val_loss improved by 0.012 >= min_delta = 0. New best score: 4.148\n"
     ]
    },
    {
     "name": "stdout",
     "output_type": "stream",
     "text": [
      "Epoch 15: 100%|██████████| 73/73 [00:27<00:00,  2.65it/s, loss=4.02, v_num=5, train_loss_step=3.980, val_loss=4.140, train_loss_epoch=4.030]"
     ]
    },
    {
     "name": "stderr",
     "output_type": "stream",
     "text": [
      "Metric val_loss improved by 0.009 >= min_delta = 0. New best score: 4.138\n"
     ]
    },
    {
     "name": "stdout",
     "output_type": "stream",
     "text": [
      "Epoch 16: 100%|██████████| 73/73 [00:27<00:00,  2.65it/s, loss=4.02, v_num=5, train_loss_step=4.120, val_loss=4.130, train_loss_epoch=4.020]"
     ]
    },
    {
     "name": "stderr",
     "output_type": "stream",
     "text": [
      "Metric val_loss improved by 0.007 >= min_delta = 0. New best score: 4.131\n"
     ]
    },
    {
     "name": "stdout",
     "output_type": "stream",
     "text": [
      "Epoch 17: 100%|██████████| 73/73 [00:30<00:00,  2.40it/s, loss=4, v_num=5, train_loss_step=4.060, val_loss=4.130, train_loss_epoch=4.010]   "
     ]
    },
    {
     "name": "stderr",
     "output_type": "stream",
     "text": [
      "Metric val_loss improved by 0.005 >= min_delta = 0. New best score: 4.126\n"
     ]
    },
    {
     "name": "stdout",
     "output_type": "stream",
     "text": [
      "Epoch 18: 100%|██████████| 73/73 [00:27<00:00,  2.65it/s, loss=4.01, v_num=5, train_loss_step=4.010, val_loss=4.120, train_loss_epoch=4.010]"
     ]
    },
    {
     "name": "stderr",
     "output_type": "stream",
     "text": [
      "Metric val_loss improved by 0.005 >= min_delta = 0. New best score: 4.120\n"
     ]
    },
    {
     "name": "stdout",
     "output_type": "stream",
     "text": [
      "Epoch 19: 100%|██████████| 73/73 [00:27<00:00,  2.65it/s, loss=3.99, v_num=5, train_loss_step=4.060, val_loss=4.120, train_loss_epoch=4.000]"
     ]
    },
    {
     "name": "stderr",
     "output_type": "stream",
     "text": [
      "Metric val_loss improved by 0.004 >= min_delta = 0. New best score: 4.116\n"
     ]
    },
    {
     "name": "stdout",
     "output_type": "stream",
     "text": [
      "Epoch 20: 100%|██████████| 73/73 [00:27<00:00,  2.65it/s, loss=3.98, v_num=5, train_loss_step=3.930, val_loss=4.110, train_loss_epoch=4.000]"
     ]
    },
    {
     "name": "stderr",
     "output_type": "stream",
     "text": [
      "Metric val_loss improved by 0.004 >= min_delta = 0. New best score: 4.113\n"
     ]
    },
    {
     "name": "stdout",
     "output_type": "stream",
     "text": [
      "Epoch 21: 100%|██████████| 73/73 [00:27<00:00,  2.67it/s, loss=4.01, v_num=5, train_loss_step=3.910, val_loss=4.110, train_loss_epoch=4.000]"
     ]
    },
    {
     "name": "stderr",
     "output_type": "stream",
     "text": [
      "Metric val_loss improved by 0.003 >= min_delta = 0. New best score: 4.110\n"
     ]
    },
    {
     "name": "stdout",
     "output_type": "stream",
     "text": [
      "Epoch 22: 100%|██████████| 73/73 [00:30<00:00,  2.41it/s, loss=3.97, v_num=5, train_loss_step=4.020, val_loss=4.110, train_loss_epoch=3.990]"
     ]
    },
    {
     "name": "stderr",
     "output_type": "stream",
     "text": [
      "Metric val_loss improved by 0.002 >= min_delta = 0. New best score: 4.108\n"
     ]
    },
    {
     "name": "stdout",
     "output_type": "stream",
     "text": [
      "Epoch 23: 100%|██████████| 73/73 [00:27<00:00,  2.67it/s, loss=3.98, v_num=5, train_loss_step=4.060, val_loss=4.110, train_loss_epoch=3.990]"
     ]
    },
    {
     "name": "stderr",
     "output_type": "stream",
     "text": [
      "Metric val_loss improved by 0.002 >= min_delta = 0. New best score: 4.106\n"
     ]
    },
    {
     "name": "stdout",
     "output_type": "stream",
     "text": [
      "Epoch 24: 100%|██████████| 73/73 [00:27<00:00,  2.65it/s, loss=3.97, v_num=5, train_loss_step=4.000, val_loss=4.100, train_loss_epoch=3.990]"
     ]
    },
    {
     "name": "stderr",
     "output_type": "stream",
     "text": [
      "Metric val_loss improved by 0.002 >= min_delta = 0. New best score: 4.104\n"
     ]
    },
    {
     "name": "stdout",
     "output_type": "stream",
     "text": [
      "Epoch 25: 100%|██████████| 73/73 [00:27<00:00,  2.65it/s, loss=3.99, v_num=5, train_loss_step=4.030, val_loss=4.100, train_loss_epoch=3.990]"
     ]
    },
    {
     "name": "stderr",
     "output_type": "stream",
     "text": [
      "Metric val_loss improved by 0.002 >= min_delta = 0. New best score: 4.102\n"
     ]
    },
    {
     "name": "stdout",
     "output_type": "stream",
     "text": [
      "Epoch 26: 100%|██████████| 73/73 [00:27<00:00,  2.65it/s, loss=3.99, v_num=5, train_loss_step=3.970, val_loss=4.100, train_loss_epoch=3.990]"
     ]
    },
    {
     "name": "stderr",
     "output_type": "stream",
     "text": [
      "Metric val_loss improved by 0.002 >= min_delta = 0. New best score: 4.101\n"
     ]
    },
    {
     "name": "stdout",
     "output_type": "stream",
     "text": [
      "Epoch 27: 100%|██████████| 73/73 [00:30<00:00,  2.38it/s, loss=3.99, v_num=5, train_loss_step=4.110, val_loss=4.100, train_loss_epoch=3.990]"
     ]
    },
    {
     "name": "stderr",
     "output_type": "stream",
     "text": [
      "Metric val_loss improved by 0.001 >= min_delta = 0. New best score: 4.100\n"
     ]
    },
    {
     "name": "stdout",
     "output_type": "stream",
     "text": [
      "Epoch 28: 100%|██████████| 73/73 [00:27<00:00,  2.64it/s, loss=3.99, v_num=5, train_loss_step=3.910, val_loss=4.100, train_loss_epoch=3.990]"
     ]
    },
    {
     "name": "stderr",
     "output_type": "stream",
     "text": [
      "Metric val_loss improved by 0.001 >= min_delta = 0. New best score: 4.099\n"
     ]
    },
    {
     "name": "stdout",
     "output_type": "stream",
     "text": [
      "Epoch 29: 100%|██████████| 73/73 [00:27<00:00,  2.64it/s, loss=3.99, v_num=5, train_loss_step=3.940, val_loss=4.100, train_loss_epoch=3.990]"
     ]
    },
    {
     "name": "stderr",
     "output_type": "stream",
     "text": [
      "Metric val_loss improved by 0.001 >= min_delta = 0. New best score: 4.098\n"
     ]
    },
    {
     "name": "stdout",
     "output_type": "stream",
     "text": [
      "Epoch 29: 100%|██████████| 73/73 [00:27<00:00,  2.64it/s, loss=3.99, v_num=5, train_loss_step=3.940, val_loss=4.100, train_loss_epoch=3.990]"
     ]
    },
    {
     "name": "stderr",
     "output_type": "stream",
     "text": [
      "`Trainer.fit` stopped: `max_epochs=30` reached.\n"
     ]
    },
    {
     "name": "stdout",
     "output_type": "stream",
     "text": [
      "Epoch 29: 100%|██████████| 73/73 [00:27<00:00,  2.64it/s, loss=3.99, v_num=5, train_loss_step=3.940, val_loss=4.100, train_loss_epoch=3.990]"
     ]
    },
    {
     "name": "stderr",
     "output_type": "stream",
     "text": [
      "\u001b[32m[I 2024-04-02 19:46:59,950]\u001b[0m Trial 5 finished with value: 59.6988525390625 and parameters: {'neu': 10, 'lay': 7, 'bat': 1024, 'lr': 0.010159886124317234, 'dropout': 0.0}. Best is trial 1 with value: 34.430091857910156.\u001b[0m\n"
     ]
    },
    {
     "name": "stdout",
     "output_type": "stream",
     "text": [
      "\n"
     ]
    },
    {
     "name": "stderr",
     "output_type": "stream",
     "text": [
      "GPU available: True (cuda), used: True\n",
      "TPU available: False, using: 0 TPU cores\n",
      "IPU available: False, using: 0 IPUs\n",
      "HPU available: False, using: 0 HPUs\n",
      "`Trainer(limit_train_batches=1.0)` was configured so 100% of the batches per epoch will be used..\n",
      "`Trainer(limit_val_batches=1.0)` was configured so 100% of the batches will be used..\n",
      "LOCAL_RANK: 0 - CUDA_VISIBLE_DEVICES: [0]\n",
      "\n",
      "  | Name                   | Type                             | Params\n",
      "----------------------------------------------------------------------------\n",
      "0 | loss                   | NegativeBinomialDistributionLoss | 0     \n",
      "1 | logging_metrics        | ModuleList                       | 0     \n",
      "2 | embeddings             | MultiEmbedding                   | 927   \n",
      "3 | rnn                    | LSTM                             | 43.9 M\n",
      "4 | distribution_projector | Linear                           | 1.8 K \n",
      "----------------------------------------------------------------------------\n",
      "43.9 M    Trainable params\n",
      "0         Non-trainable params\n",
      "43.9 M    Total params\n",
      "175.459   Total estimated model params size (MB)\n"
     ]
    },
    {
     "name": "stdout",
     "output_type": "stream",
     "text": [
      "Epoch 0: 100%|██████████| 195/195 [00:31<00:00,  6.14it/s, loss=3.97, v_num=6, train_loss_step=3.960, val_loss=4.090]"
     ]
    },
    {
     "name": "stderr",
     "output_type": "stream",
     "text": [
      "Metric val_loss improved. New best score: 4.093\n"
     ]
    },
    {
     "name": "stdout",
     "output_type": "stream",
     "text": [
      "Epoch 3: 100%|██████████| 195/195 [00:35<00:00,  5.50it/s, loss=3.77, v_num=6, train_loss_step=3.660, val_loss=3.810, train_loss_epoch=32.80]"
     ]
    },
    {
     "name": "stderr",
     "output_type": "stream",
     "text": [
      "Metric val_loss improved by 0.279 >= min_delta = 0. New best score: 3.814\n"
     ]
    },
    {
     "name": "stdout",
     "output_type": "stream",
     "text": [
      "Epoch 4: 100%|██████████| 195/195 [00:31<00:00,  6.18it/s, loss=3.08, v_num=6, train_loss_step=2.990, val_loss=3.050, train_loss_epoch=3.970]"
     ]
    },
    {
     "name": "stderr",
     "output_type": "stream",
     "text": [
      "Metric val_loss improved by 0.759 >= min_delta = 0. New best score: 3.055\n"
     ]
    },
    {
     "name": "stdout",
     "output_type": "stream",
     "text": [
      "Epoch 5: 100%|██████████| 195/195 [00:31<00:00,  6.14it/s, loss=2.94, v_num=6, train_loss_step=2.970, val_loss=3.010, train_loss_epoch=3.330]"
     ]
    },
    {
     "name": "stderr",
     "output_type": "stream",
     "text": [
      "Metric val_loss improved by 0.042 >= min_delta = 0. New best score: 3.013\n"
     ]
    },
    {
     "name": "stdout",
     "output_type": "stream",
     "text": [
      "Epoch 6: 100%|██████████| 195/195 [00:31<00:00,  6.10it/s, loss=2.68, v_num=6, train_loss_step=2.730, val_loss=2.820, train_loss_epoch=2.930]"
     ]
    },
    {
     "name": "stderr",
     "output_type": "stream",
     "text": [
      "Metric val_loss improved by 0.189 >= min_delta = 0. New best score: 2.824\n"
     ]
    },
    {
     "name": "stdout",
     "output_type": "stream",
     "text": [
      "Epoch 7: 100%|██████████| 195/195 [00:31<00:00,  6.11it/s, loss=2.6, v_num=6, train_loss_step=2.560, val_loss=2.680, train_loss_epoch=2.800] "
     ]
    },
    {
     "name": "stderr",
     "output_type": "stream",
     "text": [
      "Metric val_loss improved by 0.140 >= min_delta = 0. New best score: 2.684\n"
     ]
    },
    {
     "name": "stdout",
     "output_type": "stream",
     "text": [
      "Epoch 8: 100%|██████████| 195/195 [00:31<00:00,  6.19it/s, loss=2.53, v_num=6, train_loss_step=2.470, val_loss=2.660, train_loss_epoch=2.660]"
     ]
    },
    {
     "name": "stderr",
     "output_type": "stream",
     "text": [
      "Metric val_loss improved by 0.027 >= min_delta = 0. New best score: 2.657\n"
     ]
    },
    {
     "name": "stdout",
     "output_type": "stream",
     "text": [
      "Epoch 11: 100%|██████████| 195/195 [00:34<00:00,  5.62it/s, loss=2.51, v_num=6, train_loss_step=2.350, val_loss=2.590, train_loss_epoch=2.510]"
     ]
    },
    {
     "name": "stderr",
     "output_type": "stream",
     "text": [
      "Metric val_loss improved by 0.063 >= min_delta = 0. New best score: 2.594\n"
     ]
    },
    {
     "name": "stdout",
     "output_type": "stream",
     "text": [
      "Epoch 15: 100%|██████████| 195/195 [00:31<00:00,  6.14it/s, loss=2.5, v_num=6, train_loss_step=2.470, val_loss=2.590, train_loss_epoch=2.460] "
     ]
    },
    {
     "name": "stderr",
     "output_type": "stream",
     "text": [
      "Metric val_loss improved by 0.005 >= min_delta = 0. New best score: 2.588\n"
     ]
    },
    {
     "name": "stdout",
     "output_type": "stream",
     "text": [
      "Epoch 19: 100%|██████████| 195/195 [00:32<00:00,  6.08it/s, loss=2.47, v_num=6, train_loss_step=2.410, val_loss=2.590, train_loss_epoch=2.410]"
     ]
    },
    {
     "name": "stderr",
     "output_type": "stream",
     "text": [
      "Metric val_loss improved by 0.002 >= min_delta = 0. New best score: 2.586\n"
     ]
    },
    {
     "name": "stdout",
     "output_type": "stream",
     "text": [
      "Epoch 24: 100%|██████████| 195/195 [00:31<00:00,  6.10it/s, loss=2.38, v_num=6, train_loss_step=2.210, val_loss=2.590, train_loss_epoch=2.380]"
     ]
    },
    {
     "name": "stderr",
     "output_type": "stream",
     "text": [
      "Monitored metric val_loss did not improve in the last 5 records. Best score: 2.586. Signaling Trainer to stop.\n"
     ]
    },
    {
     "name": "stdout",
     "output_type": "stream",
     "text": [
      "Epoch 24: 100%|██████████| 195/195 [00:35<00:00,  5.55it/s, loss=2.38, v_num=6, train_loss_step=2.210, val_loss=2.590, train_loss_epoch=2.370]\n"
     ]
    },
    {
     "name": "stderr",
     "output_type": "stream",
     "text": [
      "\u001b[32m[I 2024-04-02 20:02:11,365]\u001b[0m Trial 6 finished with value: 30.736181259155273 and parameters: {'neu': 910, 'lay': 7, 'bat': 384, 'lr': 0.01602424314294687, 'dropout': 0.0}. Best is trial 6 with value: 30.736181259155273.\u001b[0m\n",
      "GPU available: True (cuda), used: True\n",
      "TPU available: False, using: 0 TPU cores\n",
      "IPU available: False, using: 0 IPUs\n",
      "HPU available: False, using: 0 HPUs\n",
      "`Trainer(limit_train_batches=1.0)` was configured so 100% of the batches per epoch will be used..\n",
      "`Trainer(limit_val_batches=1.0)` was configured so 100% of the batches will be used..\n",
      "LOCAL_RANK: 0 - CUDA_VISIBLE_DEVICES: [0]\n",
      "\n",
      "  | Name                   | Type                             | Params\n",
      "----------------------------------------------------------------------------\n",
      "0 | loss                   | NegativeBinomialDistributionLoss | 0     \n",
      "1 | logging_metrics        | ModuleList                       | 0     \n",
      "2 | embeddings             | MultiEmbedding                   | 927   \n",
      "3 | rnn                    | LSTM                             | 25.8 M\n",
      "4 | distribution_projector | Linear                           | 1.2 K \n",
      "----------------------------------------------------------------------------\n",
      "25.9 M    Trainable params\n",
      "0         Non-trainable params\n",
      "25.9 M    Total params\n",
      "103.406   Total estimated model params size (MB)\n"
     ]
    },
    {
     "name": "stdout",
     "output_type": "stream",
     "text": [
      "Epoch 0: 100%|██████████| 138/138 [00:30<00:00,  4.54it/s, loss=3.96, v_num=7, train_loss_step=4.050, val_loss=4.110]"
     ]
    },
    {
     "name": "stderr",
     "output_type": "stream",
     "text": [
      "Metric val_loss improved. New best score: 4.109\n"
     ]
    },
    {
     "name": "stdout",
     "output_type": "stream",
     "text": [
      "Epoch 1: 100%|██████████| 138/138 [00:29<00:00,  4.63it/s, loss=3.97, v_num=7, train_loss_step=3.900, val_loss=4.100, train_loss_epoch=8.520]"
     ]
    },
    {
     "name": "stderr",
     "output_type": "stream",
     "text": [
      "Metric val_loss improved by 0.014 >= min_delta = 0. New best score: 4.096\n"
     ]
    },
    {
     "name": "stdout",
     "output_type": "stream",
     "text": [
      "Epoch 2: 100%|██████████| 138/138 [00:33<00:00,  4.07it/s, loss=3.98, v_num=7, train_loss_step=3.880, val_loss=4.090, train_loss_epoch=3.990]"
     ]
    },
    {
     "name": "stderr",
     "output_type": "stream",
     "text": [
      "Metric val_loss improved by 0.001 >= min_delta = 0. New best score: 4.095\n"
     ]
    },
    {
     "name": "stdout",
     "output_type": "stream",
     "text": [
      "Epoch 3: 100%|██████████| 138/138 [00:30<00:00,  4.57it/s, loss=3.99, v_num=7, train_loss_step=3.950, val_loss=4.090, train_loss_epoch=3.990]"
     ]
    },
    {
     "name": "stderr",
     "output_type": "stream",
     "text": [
      "Metric val_loss improved by 0.001 >= min_delta = 0. New best score: 4.093\n"
     ]
    },
    {
     "name": "stdout",
     "output_type": "stream",
     "text": [
      "Epoch 4: 100%|██████████| 138/138 [00:30<00:00,  4.60it/s, loss=4, v_num=7, train_loss_step=4.000, val_loss=4.090, train_loss_epoch=3.990]   "
     ]
    },
    {
     "name": "stderr",
     "output_type": "stream",
     "text": [
      "Metric val_loss improved by 0.000 >= min_delta = 0. New best score: 4.093\n"
     ]
    },
    {
     "name": "stdout",
     "output_type": "stream",
     "text": [
      "Epoch 5: 100%|██████████| 138/138 [00:30<00:00,  4.57it/s, loss=3.98, v_num=7, train_loss_step=3.860, val_loss=4.090, train_loss_epoch=3.990]"
     ]
    },
    {
     "name": "stderr",
     "output_type": "stream",
     "text": [
      "Metric val_loss improved by 0.001 >= min_delta = 0. New best score: 4.092\n"
     ]
    },
    {
     "name": "stdout",
     "output_type": "stream",
     "text": [
      "Epoch 7: 100%|██████████| 138/138 [00:30<00:00,  4.60it/s, loss=4.03, v_num=7, train_loss_step=4.080, val_loss=4.090, train_loss_epoch=3.990]"
     ]
    },
    {
     "name": "stderr",
     "output_type": "stream",
     "text": [
      "Metric val_loss improved by 0.001 >= min_delta = 0. New best score: 4.092\n"
     ]
    },
    {
     "name": "stdout",
     "output_type": "stream",
     "text": [
      "Epoch 12: 100%|██████████| 138/138 [00:29<00:00,  4.65it/s, loss=4.04, v_num=7, train_loss_step=4.120, val_loss=4.100, train_loss_epoch=3.990]"
     ]
    },
    {
     "name": "stderr",
     "output_type": "stream",
     "text": [
      "Monitored metric val_loss did not improve in the last 5 records. Best score: 4.092. Signaling Trainer to stop.\n"
     ]
    },
    {
     "name": "stdout",
     "output_type": "stream",
     "text": [
      "Epoch 12: 100%|██████████| 138/138 [00:30<00:00,  4.48it/s, loss=4.04, v_num=7, train_loss_step=4.120, val_loss=4.100, train_loss_epoch=4.000]"
     ]
    },
    {
     "name": "stderr",
     "output_type": "stream",
     "text": [
      "\u001b[32m[I 2024-04-02 20:09:18,578]\u001b[0m Trial 7 pruned. \u001b[0m\n"
     ]
    },
    {
     "name": "stdout",
     "output_type": "stream",
     "text": [
      "\n"
     ]
    },
    {
     "name": "stderr",
     "output_type": "stream",
     "text": [
      "GPU available: True (cuda), used: True\n",
      "TPU available: False, using: 0 TPU cores\n",
      "IPU available: False, using: 0 IPUs\n",
      "HPU available: False, using: 0 HPUs\n",
      "`Trainer(limit_train_batches=1.0)` was configured so 100% of the batches per epoch will be used..\n",
      "`Trainer(limit_val_batches=1.0)` was configured so 100% of the batches will be used..\n",
      "LOCAL_RANK: 0 - CUDA_VISIBLE_DEVICES: [0]\n",
      "\n",
      "  | Name                   | Type                             | Params\n",
      "----------------------------------------------------------------------------\n",
      "0 | loss                   | NegativeBinomialDistributionLoss | 0     \n",
      "1 | logging_metrics        | ModuleList                       | 0     \n",
      "2 | embeddings             | MultiEmbedding                   | 927   \n",
      "3 | rnn                    | LSTM                             | 25.8 M\n",
      "4 | distribution_projector | Linear                           | 1.2 K \n",
      "----------------------------------------------------------------------------\n",
      "25.9 M    Trainable params\n",
      "0         Non-trainable params\n",
      "25.9 M    Total params\n",
      "103.406   Total estimated model params size (MB)\n"
     ]
    },
    {
     "name": "stdout",
     "output_type": "stream",
     "text": [
      "Epoch 0: 100%|██████████| 260/260 [00:31<00:00,  8.37it/s, loss=4, v_num=8, train_loss_step=4.130, val_loss=4.100]"
     ]
    },
    {
     "name": "stderr",
     "output_type": "stream",
     "text": [
      "Metric val_loss improved. New best score: 4.098\n"
     ]
    },
    {
     "name": "stdout",
     "output_type": "stream",
     "text": [
      "Epoch 1: 100%|██████████| 260/260 [00:31<00:00,  8.34it/s, loss=3.99, v_num=8, train_loss_step=4.270, val_loss=4.090, train_loss_epoch=5.950]"
     ]
    },
    {
     "name": "stderr",
     "output_type": "stream",
     "text": [
      "Metric val_loss improved by 0.004 >= min_delta = 0. New best score: 4.094\n"
     ]
    },
    {
     "name": "stdout",
     "output_type": "stream",
     "text": [
      "Epoch 2: 100%|██████████| 260/260 [00:31<00:00,  8.30it/s, loss=4.04, v_num=8, train_loss_step=4.060, val_loss=4.090, train_loss_epoch=3.990]"
     ]
    },
    {
     "name": "stderr",
     "output_type": "stream",
     "text": [
      "Metric val_loss improved by 0.002 >= min_delta = 0. New best score: 4.093\n"
     ]
    },
    {
     "name": "stdout",
     "output_type": "stream",
     "text": [
      "Epoch 7: 100%|██████████| 260/260 [00:31<00:00,  8.33it/s, loss=3.98, v_num=8, train_loss_step=4.030, val_loss=4.090, train_loss_epoch=3.990]"
     ]
    },
    {
     "name": "stderr",
     "output_type": "stream",
     "text": [
      "Monitored metric val_loss did not improve in the last 5 records. Best score: 4.093. Signaling Trainer to stop.\n"
     ]
    },
    {
     "name": "stdout",
     "output_type": "stream",
     "text": [
      "Epoch 7: 100%|██████████| 260/260 [00:33<00:00,  7.77it/s, loss=3.98, v_num=8, train_loss_step=4.030, val_loss=4.090, train_loss_epoch=4.010]"
     ]
    },
    {
     "name": "stderr",
     "output_type": "stream",
     "text": [
      "\u001b[32m[I 2024-04-02 20:13:57,523]\u001b[0m Trial 8 pruned. \u001b[0m\n"
     ]
    },
    {
     "name": "stdout",
     "output_type": "stream",
     "text": [
      "\n"
     ]
    },
    {
     "name": "stderr",
     "output_type": "stream",
     "text": [
      "GPU available: True (cuda), used: True\n",
      "TPU available: False, using: 0 TPU cores\n",
      "IPU available: False, using: 0 IPUs\n",
      "HPU available: False, using: 0 HPUs\n",
      "`Trainer(limit_train_batches=1.0)` was configured so 100% of the batches per epoch will be used..\n",
      "`Trainer(limit_val_batches=1.0)` was configured so 100% of the batches will be used..\n",
      "LOCAL_RANK: 0 - CUDA_VISIBLE_DEVICES: [0]\n",
      "\n",
      "  | Name                   | Type                             | Params\n",
      "----------------------------------------------------------------------------\n",
      "0 | loss                   | NegativeBinomialDistributionLoss | 0     \n",
      "1 | logging_metrics        | ModuleList                       | 0     \n",
      "2 | embeddings             | MultiEmbedding                   | 927   \n",
      "3 | rnn                    | LSTM                             | 726 K \n",
      "4 | distribution_projector | Linear                           | 222   \n",
      "----------------------------------------------------------------------------\n",
      "727 K     Trainable params\n",
      "0         Non-trainable params\n",
      "727 K     Total params\n",
      "2.909     Total estimated model params size (MB)\n"
     ]
    },
    {
     "name": "stdout",
     "output_type": "stream",
     "text": [
      "Epoch 0: 100%|██████████| 147/147 [00:28<00:00,  5.14it/s, loss=27.2, v_num=9, train_loss_step=24.20, val_loss=29.20]"
     ]
    },
    {
     "name": "stderr",
     "output_type": "stream",
     "text": [
      "Metric val_loss improved. New best score: 29.194\n"
     ]
    },
    {
     "name": "stdout",
     "output_type": "stream",
     "text": [
      "Epoch 1: 100%|██████████| 147/147 [00:28<00:00,  5.17it/s, loss=22.1, v_num=9, train_loss_step=21.40, val_loss=23.50, train_loss_epoch=27.90]"
     ]
    },
    {
     "name": "stderr",
     "output_type": "stream",
     "text": [
      "Metric val_loss improved by 5.740 >= min_delta = 0. New best score: 23.455\n"
     ]
    },
    {
     "name": "stdout",
     "output_type": "stream",
     "text": [
      "Epoch 2: 100%|██████████| 147/147 [00:28<00:00,  5.17it/s, loss=6.75, v_num=9, train_loss_step=5.940, val_loss=6.320, train_loss_epoch=24.70]"
     ]
    },
    {
     "name": "stderr",
     "output_type": "stream",
     "text": [
      "Metric val_loss improved by 17.136 >= min_delta = 0. New best score: 6.319\n"
     ]
    },
    {
     "name": "stdout",
     "output_type": "stream",
     "text": [
      "Epoch 3: 100%|██████████| 147/147 [00:28<00:00,  5.17it/s, loss=4.39, v_num=9, train_loss_step=4.490, val_loss=4.580, train_loss_epoch=13.30]"
     ]
    },
    {
     "name": "stderr",
     "output_type": "stream",
     "text": [
      "Metric val_loss improved by 1.736 >= min_delta = 0. New best score: 4.583\n"
     ]
    },
    {
     "name": "stdout",
     "output_type": "stream",
     "text": [
      "Epoch 4: 100%|██████████| 147/147 [00:28<00:00,  5.17it/s, loss=4.31, v_num=9, train_loss_step=4.310, val_loss=4.430, train_loss_epoch=4.810]"
     ]
    },
    {
     "name": "stderr",
     "output_type": "stream",
     "text": [
      "Metric val_loss improved by 0.155 >= min_delta = 0. New best score: 4.428\n"
     ]
    },
    {
     "name": "stdout",
     "output_type": "stream",
     "text": [
      "Epoch 5: 100%|██████████| 147/147 [00:28<00:00,  5.18it/s, loss=4.18, v_num=9, train_loss_step=4.330, val_loss=4.340, train_loss_epoch=4.330]"
     ]
    },
    {
     "name": "stderr",
     "output_type": "stream",
     "text": [
      "Metric val_loss improved by 0.088 >= min_delta = 0. New best score: 4.340\n"
     ]
    },
    {
     "name": "stdout",
     "output_type": "stream",
     "text": [
      "Epoch 6: 100%|██████████| 147/147 [00:28<00:00,  5.17it/s, loss=4.14, v_num=9, train_loss_step=4.190, val_loss=4.270, train_loss_epoch=4.230]"
     ]
    },
    {
     "name": "stderr",
     "output_type": "stream",
     "text": [
      "Metric val_loss improved by 0.067 >= min_delta = 0. New best score: 4.273\n"
     ]
    },
    {
     "name": "stdout",
     "output_type": "stream",
     "text": [
      "Epoch 7: 100%|██████████| 147/147 [00:32<00:00,  4.50it/s, loss=4.07, v_num=9, train_loss_step=4.000, val_loss=4.220, train_loss_epoch=4.160]"
     ]
    },
    {
     "name": "stderr",
     "output_type": "stream",
     "text": [
      "Metric val_loss improved by 0.048 >= min_delta = 0. New best score: 4.225\n"
     ]
    },
    {
     "name": "stdout",
     "output_type": "stream",
     "text": [
      "Epoch 8: 100%|██████████| 147/147 [00:28<00:00,  5.20it/s, loss=4.04, v_num=9, train_loss_step=3.840, val_loss=4.190, train_loss_epoch=4.110]"
     ]
    },
    {
     "name": "stderr",
     "output_type": "stream",
     "text": [
      "Metric val_loss improved by 0.038 >= min_delta = 0. New best score: 4.187\n"
     ]
    },
    {
     "name": "stdout",
     "output_type": "stream",
     "text": [
      "Epoch 9: 100%|██████████| 147/147 [00:29<00:00,  5.04it/s, loss=4.03, v_num=9, train_loss_step=3.920, val_loss=4.160, train_loss_epoch=4.070]"
     ]
    },
    {
     "name": "stderr",
     "output_type": "stream",
     "text": [
      "Metric val_loss improved by 0.026 >= min_delta = 0. New best score: 4.161\n"
     ]
    },
    {
     "name": "stdout",
     "output_type": "stream",
     "text": [
      "Epoch 10: 100%|██████████| 147/147 [00:29<00:00,  5.06it/s, loss=4.02, v_num=9, train_loss_step=4.080, val_loss=4.140, train_loss_epoch=4.040]"
     ]
    },
    {
     "name": "stderr",
     "output_type": "stream",
     "text": [
      "Metric val_loss improved by 0.021 >= min_delta = 0. New best score: 4.140\n"
     ]
    },
    {
     "name": "stdout",
     "output_type": "stream",
     "text": [
      "Epoch 11: 100%|██████████| 147/147 [00:30<00:00,  4.86it/s, loss=4, v_num=9, train_loss_step=3.990, val_loss=4.130, train_loss_epoch=4.020]   "
     ]
    },
    {
     "name": "stderr",
     "output_type": "stream",
     "text": [
      "Metric val_loss improved by 0.014 >= min_delta = 0. New best score: 4.126\n"
     ]
    },
    {
     "name": "stdout",
     "output_type": "stream",
     "text": [
      "Epoch 12: 100%|██████████| 147/147 [00:29<00:00,  5.04it/s, loss=3.98, v_num=9, train_loss_step=4.100, val_loss=4.120, train_loss_epoch=4.010]"
     ]
    },
    {
     "name": "stderr",
     "output_type": "stream",
     "text": [
      "Metric val_loss improved by 0.010 >= min_delta = 0. New best score: 4.116\n"
     ]
    },
    {
     "name": "stdout",
     "output_type": "stream",
     "text": [
      "Epoch 13: 100%|██████████| 147/147 [00:28<00:00,  5.12it/s, loss=3.99, v_num=9, train_loss_step=4.240, val_loss=4.110, train_loss_epoch=4.000]"
     ]
    },
    {
     "name": "stderr",
     "output_type": "stream",
     "text": [
      "Metric val_loss improved by 0.006 >= min_delta = 0. New best score: 4.110\n"
     ]
    },
    {
     "name": "stdout",
     "output_type": "stream",
     "text": [
      "Epoch 14: 100%|██████████| 147/147 [00:28<00:00,  5.10it/s, loss=3.99, v_num=9, train_loss_step=4.040, val_loss=4.110, train_loss_epoch=4.000]"
     ]
    },
    {
     "name": "stderr",
     "output_type": "stream",
     "text": [
      "Metric val_loss improved by 0.005 >= min_delta = 0. New best score: 4.105\n"
     ]
    },
    {
     "name": "stdout",
     "output_type": "stream",
     "text": [
      "Epoch 15: 100%|██████████| 147/147 [00:28<00:00,  5.11it/s, loss=3.99, v_num=9, train_loss_step=4.090, val_loss=4.100, train_loss_epoch=3.990]"
     ]
    },
    {
     "name": "stderr",
     "output_type": "stream",
     "text": [
      "Metric val_loss improved by 0.003 >= min_delta = 0. New best score: 4.102\n"
     ]
    },
    {
     "name": "stdout",
     "output_type": "stream",
     "text": [
      "Epoch 16: 100%|██████████| 147/147 [00:32<00:00,  4.51it/s, loss=3.98, v_num=9, train_loss_step=3.980, val_loss=4.100, train_loss_epoch=3.990]"
     ]
    },
    {
     "name": "stderr",
     "output_type": "stream",
     "text": [
      "Metric val_loss improved by 0.002 >= min_delta = 0. New best score: 4.100\n"
     ]
    },
    {
     "name": "stdout",
     "output_type": "stream",
     "text": [
      "Epoch 17: 100%|██████████| 147/147 [00:28<00:00,  5.07it/s, loss=4.01, v_num=9, train_loss_step=3.920, val_loss=4.100, train_loss_epoch=3.990]"
     ]
    },
    {
     "name": "stderr",
     "output_type": "stream",
     "text": [
      "Metric val_loss improved by 0.001 >= min_delta = 0. New best score: 4.099\n"
     ]
    },
    {
     "name": "stdout",
     "output_type": "stream",
     "text": [
      "Epoch 18: 100%|██████████| 147/147 [00:28<00:00,  5.07it/s, loss=3.98, v_num=9, train_loss_step=3.850, val_loss=4.100, train_loss_epoch=3.990]"
     ]
    },
    {
     "name": "stderr",
     "output_type": "stream",
     "text": [
      "Metric val_loss improved by 0.001 >= min_delta = 0. New best score: 4.097\n"
     ]
    },
    {
     "name": "stdout",
     "output_type": "stream",
     "text": [
      "Epoch 19: 100%|██████████| 147/147 [00:29<00:00,  5.01it/s, loss=4.01, v_num=9, train_loss_step=4.100, val_loss=4.100, train_loss_epoch=3.990]"
     ]
    },
    {
     "name": "stderr",
     "output_type": "stream",
     "text": [
      "Metric val_loss improved by 0.001 >= min_delta = 0. New best score: 4.096\n"
     ]
    },
    {
     "name": "stdout",
     "output_type": "stream",
     "text": [
      "Epoch 20: 100%|██████████| 147/147 [00:28<00:00,  5.09it/s, loss=4, v_num=9, train_loss_step=4.000, val_loss=4.100, train_loss_epoch=3.990]   "
     ]
    },
    {
     "name": "stderr",
     "output_type": "stream",
     "text": [
      "Metric val_loss improved by 0.001 >= min_delta = 0. New best score: 4.095\n"
     ]
    },
    {
     "name": "stdout",
     "output_type": "stream",
     "text": [
      "Epoch 21: 100%|██████████| 147/147 [00:28<00:00,  5.09it/s, loss=3.97, v_num=9, train_loss_step=3.970, val_loss=4.090, train_loss_epoch=3.990]"
     ]
    },
    {
     "name": "stderr",
     "output_type": "stream",
     "text": [
      "Metric val_loss improved by 0.001 >= min_delta = 0. New best score: 4.094\n"
     ]
    },
    {
     "name": "stdout",
     "output_type": "stream",
     "text": [
      "Epoch 23: 100%|██████████| 147/147 [00:29<00:00,  5.00it/s, loss=3.99, v_num=9, train_loss_step=4.060, val_loss=4.090, train_loss_epoch=3.980]"
     ]
    },
    {
     "name": "stderr",
     "output_type": "stream",
     "text": [
      "Metric val_loss improved by 0.001 >= min_delta = 0. New best score: 4.094\n"
     ]
    },
    {
     "name": "stdout",
     "output_type": "stream",
     "text": [
      "Epoch 24: 100%|██████████| 147/147 [00:28<00:00,  5.10it/s, loss=3.97, v_num=9, train_loss_step=3.940, val_loss=4.090, train_loss_epoch=3.980]"
     ]
    },
    {
     "name": "stderr",
     "output_type": "stream",
     "text": [
      "Metric val_loss improved by 0.000 >= min_delta = 0. New best score: 4.094\n"
     ]
    },
    {
     "name": "stdout",
     "output_type": "stream",
     "text": [
      "Epoch 26: 100%|██████████| 147/147 [00:29<00:00,  5.04it/s, loss=3.99, v_num=9, train_loss_step=4.180, val_loss=4.090, train_loss_epoch=3.980]"
     ]
    },
    {
     "name": "stderr",
     "output_type": "stream",
     "text": [
      "Metric val_loss improved by 0.000 >= min_delta = 0. New best score: 4.093\n"
     ]
    },
    {
     "name": "stdout",
     "output_type": "stream",
     "text": [
      "Epoch 29: 100%|██████████| 147/147 [00:29<00:00,  5.05it/s, loss=3.98, v_num=9, train_loss_step=4.050, val_loss=4.090, train_loss_epoch=3.980]"
     ]
    },
    {
     "name": "stderr",
     "output_type": "stream",
     "text": [
      "Metric val_loss improved by 0.000 >= min_delta = 0. New best score: 4.093\n"
     ]
    },
    {
     "name": "stdout",
     "output_type": "stream",
     "text": [
      "Epoch 29: 100%|██████████| 147/147 [00:29<00:00,  5.05it/s, loss=3.98, v_num=9, train_loss_step=4.050, val_loss=4.090, train_loss_epoch=3.980]"
     ]
    },
    {
     "name": "stderr",
     "output_type": "stream",
     "text": [
      "`Trainer.fit` stopped: `max_epochs=30` reached.\n"
     ]
    },
    {
     "name": "stdout",
     "output_type": "stream",
     "text": [
      "Epoch 29: 100%|██████████| 147/147 [00:29<00:00,  5.04it/s, loss=3.98, v_num=9, train_loss_step=4.050, val_loss=4.090, train_loss_epoch=3.980]"
     ]
    },
    {
     "name": "stderr",
     "output_type": "stream",
     "text": [
      "\u001b[32m[I 2024-04-02 20:28:45,582]\u001b[0m Trial 9 finished with value: 59.72050857543945 and parameters: {'neu': 110, 'lay': 7, 'bat': 512, 'lr': 0.0004433526619596533, 'dropout': 0.0}. Best is trial 6 with value: 30.736181259155273.\u001b[0m\n"
     ]
    },
    {
     "name": "stdout",
     "output_type": "stream",
     "text": [
      "\n"
     ]
    },
    {
     "name": "stderr",
     "output_type": "stream",
     "text": [
      "GPU available: True (cuda), used: True\n",
      "TPU available: False, using: 0 TPU cores\n",
      "IPU available: False, using: 0 IPUs\n",
      "HPU available: False, using: 0 HPUs\n",
      "`Trainer(limit_train_batches=1.0)` was configured so 100% of the batches per epoch will be used..\n",
      "`Trainer(limit_val_batches=1.0)` was configured so 100% of the batches will be used..\n",
      "LOCAL_RANK: 0 - CUDA_VISIBLE_DEVICES: [0]\n",
      "\n",
      "  | Name                   | Type                             | Params\n",
      "----------------------------------------------------------------------------\n",
      "0 | loss                   | NegativeBinomialDistributionLoss | 0     \n",
      "1 | logging_metrics        | ModuleList                       | 0     \n",
      "2 | embeddings             | MultiEmbedding                   | 927   \n",
      "3 | rnn                    | LSTM                             | 4.1 M \n",
      "4 | distribution_projector | Linear                           | 1.8 K \n",
      "----------------------------------------------------------------------------\n",
      "4.1 M     Trainable params\n",
      "0         Non-trainable params\n",
      "4.1 M     Total params\n",
      "16.289    Total estimated model params size (MB)\n"
     ]
    },
    {
     "name": "stdout",
     "output_type": "stream",
     "text": [
      "Epoch 0: 100%|██████████| 94/94 [00:30<00:00,  3.06it/s, loss=3.52, v_num=10, train_loss_step=3.240, val_loss=3.370]"
     ]
    },
    {
     "name": "stderr",
     "output_type": "stream",
     "text": [
      "Metric val_loss improved. New best score: 3.367\n"
     ]
    },
    {
     "name": "stdout",
     "output_type": "stream",
     "text": [
      "Epoch 1: 100%|██████████| 94/94 [00:36<00:00,  2.56it/s, loss=2.71, v_num=10, train_loss_step=2.720, val_loss=2.790, train_loss_epoch=7.880]"
     ]
    },
    {
     "name": "stderr",
     "output_type": "stream",
     "text": [
      "Metric val_loss improved by 0.576 >= min_delta = 0. New best score: 2.790\n"
     ]
    },
    {
     "name": "stdout",
     "output_type": "stream",
     "text": [
      "Epoch 2: 100%|██████████| 94/94 [00:30<00:00,  3.04it/s, loss=2.6, v_num=10, train_loss_step=2.660, val_loss=2.710, train_loss_epoch=2.860] "
     ]
    },
    {
     "name": "stderr",
     "output_type": "stream",
     "text": [
      "Metric val_loss improved by 0.075 >= min_delta = 0. New best score: 2.715\n"
     ]
    },
    {
     "name": "stdout",
     "output_type": "stream",
     "text": [
      "Epoch 3: 100%|██████████| 94/94 [00:35<00:00,  2.62it/s, loss=2.52, v_num=10, train_loss_step=2.480, val_loss=2.630, train_loss_epoch=2.600]"
     ]
    },
    {
     "name": "stderr",
     "output_type": "stream",
     "text": [
      "Metric val_loss improved by 0.086 >= min_delta = 0. New best score: 2.629\n"
     ]
    },
    {
     "name": "stdout",
     "output_type": "stream",
     "text": [
      "Epoch 4: 100%|██████████| 94/94 [36:06<00:00, 23.05s/it, loss=2.46, v_num=10, train_loss_step=2.400, val_loss=2.610, train_loss_epoch=2.530]"
     ]
    },
    {
     "name": "stderr",
     "output_type": "stream",
     "text": [
      "Metric val_loss improved by 0.023 >= min_delta = 0. New best score: 2.606\n"
     ]
    },
    {
     "name": "stdout",
     "output_type": "stream",
     "text": [
      "Epoch 5: 100%|██████████| 94/94 [00:27<00:00,  3.40it/s, loss=2.43, v_num=10, train_loss_step=2.450, val_loss=2.560, train_loss_epoch=2.470]"
     ]
    },
    {
     "name": "stderr",
     "output_type": "stream",
     "text": [
      "Metric val_loss improved by 0.048 >= min_delta = 0. New best score: 2.559\n"
     ]
    },
    {
     "name": "stdout",
     "output_type": "stream",
     "text": [
      "Epoch 9: 100%|██████████| 94/94 [00:31<00:00,  2.98it/s, loss=2.34, v_num=10, train_loss_step=2.390, val_loss=2.550, train_loss_epoch=2.350]"
     ]
    },
    {
     "name": "stderr",
     "output_type": "stream",
     "text": [
      "Metric val_loss improved by 0.009 >= min_delta = 0. New best score: 2.549\n"
     ]
    },
    {
     "name": "stdout",
     "output_type": "stream",
     "text": [
      "Epoch 14: 100%|██████████| 94/94 [00:31<00:00,  2.99it/s, loss=2.23, v_num=10, train_loss_step=2.330, val_loss=2.660, train_loss_epoch=2.250]"
     ]
    },
    {
     "name": "stderr",
     "output_type": "stream",
     "text": [
      "Monitored metric val_loss did not improve in the last 5 records. Best score: 2.549. Signaling Trainer to stop.\n"
     ]
    },
    {
     "name": "stdout",
     "output_type": "stream",
     "text": [
      "Epoch 14: 100%|██████████| 94/94 [00:31<00:00,  2.99it/s, loss=2.23, v_num=10, train_loss_step=2.330, val_loss=2.660, train_loss_epoch=2.220]\n"
     ]
    },
    {
     "name": "stderr",
     "output_type": "stream",
     "text": [
      "\u001b[32m[I 2024-04-02 21:11:57,152]\u001b[0m Trial 10 finished with value: 31.3320369720459 and parameters: {'neu': 910, 'lay': 1, 'bat': 800, 'lr': 0.01186989226182896, 'dropout': 0.2}. Best is trial 6 with value: 30.736181259155273.\u001b[0m\n",
      "GPU available: True (cuda), used: True\n",
      "TPU available: False, using: 0 TPU cores\n",
      "IPU available: False, using: 0 IPUs\n",
      "HPU available: False, using: 0 HPUs\n",
      "`Trainer(limit_train_batches=1.0)` was configured so 100% of the batches per epoch will be used..\n",
      "`Trainer(limit_val_batches=1.0)` was configured so 100% of the batches will be used..\n",
      "LOCAL_RANK: 0 - CUDA_VISIBLE_DEVICES: [0]\n",
      "\n",
      "  | Name                   | Type                             | Params\n",
      "----------------------------------------------------------------------------\n",
      "0 | loss                   | NegativeBinomialDistributionLoss | 0     \n",
      "1 | logging_metrics        | ModuleList                       | 0     \n",
      "2 | embeddings             | MultiEmbedding                   | 927   \n",
      "3 | rnn                    | LSTM                             | 4.1 M \n",
      "4 | distribution_projector | Linear                           | 1.8 K \n",
      "----------------------------------------------------------------------------\n",
      "4.1 M     Trainable params\n",
      "0         Non-trainable params\n",
      "4.1 M     Total params\n",
      "16.289    Total estimated model params size (MB)\n"
     ]
    },
    {
     "name": "stdout",
     "output_type": "stream",
     "text": [
      "Epoch 0: 100%|██████████| 86/86 [00:27<00:00,  3.17it/s, loss=3.87, v_num=11, train_loss_step=3.650, val_loss=3.800]"
     ]
    },
    {
     "name": "stderr",
     "output_type": "stream",
     "text": [
      "Metric val_loss improved. New best score: 3.804\n"
     ]
    },
    {
     "name": "stdout",
     "output_type": "stream",
     "text": [
      "Epoch 1: 100%|██████████| 86/86 [00:27<00:00,  3.14it/s, loss=2.89, v_num=11, train_loss_step=2.740, val_loss=2.910, train_loss_epoch=8.990]"
     ]
    },
    {
     "name": "stderr",
     "output_type": "stream",
     "text": [
      "Metric val_loss improved by 0.898 >= min_delta = 0. New best score: 2.906\n"
     ]
    },
    {
     "name": "stdout",
     "output_type": "stream",
     "text": [
      "Epoch 2: 100%|██████████| 86/86 [00:27<00:00,  3.17it/s, loss=2.64, v_num=11, train_loss_step=2.730, val_loss=2.720, train_loss_epoch=3.120]"
     ]
    },
    {
     "name": "stderr",
     "output_type": "stream",
     "text": [
      "Metric val_loss improved by 0.182 >= min_delta = 0. New best score: 2.724\n"
     ]
    },
    {
     "name": "stdout",
     "output_type": "stream",
     "text": [
      "Epoch 3: 100%|██████████| 86/86 [00:27<00:00,  3.15it/s, loss=2.58, v_num=11, train_loss_step=2.550, val_loss=2.680, train_loss_epoch=2.680]"
     ]
    },
    {
     "name": "stderr",
     "output_type": "stream",
     "text": [
      "Metric val_loss improved by 0.046 >= min_delta = 0. New best score: 2.678\n"
     ]
    },
    {
     "name": "stdout",
     "output_type": "stream",
     "text": [
      "Epoch 4: 100%|██████████| 86/86 [00:27<00:00,  3.14it/s, loss=2.54, v_num=11, train_loss_step=2.500, val_loss=2.650, train_loss_epoch=2.580]"
     ]
    },
    {
     "name": "stderr",
     "output_type": "stream",
     "text": [
      "Metric val_loss improved by 0.032 >= min_delta = 0. New best score: 2.646\n"
     ]
    },
    {
     "name": "stdout",
     "output_type": "stream",
     "text": [
      "Epoch 5: 100%|██████████| 86/86 [00:27<00:00,  3.14it/s, loss=2.48, v_num=11, train_loss_step=2.520, val_loss=2.610, train_loss_epoch=2.530]"
     ]
    },
    {
     "name": "stderr",
     "output_type": "stream",
     "text": [
      "Metric val_loss improved by 0.039 >= min_delta = 0. New best score: 2.607\n"
     ]
    },
    {
     "name": "stdout",
     "output_type": "stream",
     "text": [
      "Epoch 7: 100%|██████████| 86/86 [00:27<00:00,  3.14it/s, loss=2.39, v_num=11, train_loss_step=2.330, val_loss=2.590, train_loss_epoch=2.450]"
     ]
    },
    {
     "name": "stderr",
     "output_type": "stream",
     "text": [
      "Metric val_loss improved by 0.015 >= min_delta = 0. New best score: 2.592\n"
     ]
    },
    {
     "name": "stdout",
     "output_type": "stream",
     "text": [
      "Epoch 8: 100%|██████████| 86/86 [00:27<00:00,  3.13it/s, loss=2.37, v_num=11, train_loss_step=2.310, val_loss=2.550, train_loss_epoch=2.410]"
     ]
    },
    {
     "name": "stderr",
     "output_type": "stream",
     "text": [
      "Metric val_loss improved by 0.044 >= min_delta = 0. New best score: 2.548\n"
     ]
    },
    {
     "name": "stdout",
     "output_type": "stream",
     "text": [
      "Epoch 13: 100%|██████████| 86/86 [00:27<00:00,  3.15it/s, loss=2.31, v_num=11, train_loss_step=2.220, val_loss=2.550, train_loss_epoch=2.310]"
     ]
    },
    {
     "name": "stderr",
     "output_type": "stream",
     "text": [
      "Monitored metric val_loss did not improve in the last 5 records. Best score: 2.548. Signaling Trainer to stop.\n"
     ]
    },
    {
     "name": "stdout",
     "output_type": "stream",
     "text": [
      "Epoch 13: 100%|██████████| 86/86 [00:27<00:00,  3.14it/s, loss=2.31, v_num=11, train_loss_step=2.220, val_loss=2.550, train_loss_epoch=2.300]"
     ]
    },
    {
     "name": "stderr",
     "output_type": "stream",
     "text": [
      "\u001b[32m[I 2024-04-02 21:18:32,546]\u001b[0m Trial 11 finished with value: 30.665996551513672 and parameters: {'neu': 910, 'lay': 1, 'bat': 864, 'lr': 0.008244525473999674, 'dropout': 0.2}. Best is trial 11 with value: 30.665996551513672.\u001b[0m\n"
     ]
    },
    {
     "name": "stdout",
     "output_type": "stream",
     "text": [
      "\n"
     ]
    },
    {
     "name": "stderr",
     "output_type": "stream",
     "text": [
      "GPU available: True (cuda), used: True\n",
      "TPU available: False, using: 0 TPU cores\n",
      "IPU available: False, using: 0 IPUs\n",
      "HPU available: False, using: 0 HPUs\n",
      "`Trainer(limit_train_batches=1.0)` was configured so 100% of the batches per epoch will be used..\n",
      "`Trainer(limit_val_batches=1.0)` was configured so 100% of the batches will be used..\n",
      "LOCAL_RANK: 0 - CUDA_VISIBLE_DEVICES: [0]\n",
      "\n",
      "  | Name                   | Type                             | Params\n",
      "----------------------------------------------------------------------------\n",
      "0 | loss                   | NegativeBinomialDistributionLoss | 0     \n",
      "1 | logging_metrics        | ModuleList                       | 0     \n",
      "2 | embeddings             | MultiEmbedding                   | 927   \n",
      "3 | rnn                    | LSTM                             | 4.1 M \n",
      "4 | distribution_projector | Linear                           | 1.8 K \n",
      "----------------------------------------------------------------------------\n",
      "4.1 M     Trainable params\n",
      "0         Non-trainable params\n",
      "4.1 M     Total params\n",
      "16.289    Total estimated model params size (MB)\n"
     ]
    },
    {
     "name": "stdout",
     "output_type": "stream",
     "text": [
      "Epoch 0: 100%|██████████| 91/91 [00:27<00:00,  3.29it/s, loss=3.89, v_num=12, train_loss_step=3.800, val_loss=3.780]"
     ]
    },
    {
     "name": "stderr",
     "output_type": "stream",
     "text": [
      "Metric val_loss improved. New best score: 3.777\n"
     ]
    },
    {
     "name": "stdout",
     "output_type": "stream",
     "text": [
      "Epoch 1: 100%|██████████| 91/91 [00:27<00:00,  3.29it/s, loss=2.86, v_num=12, train_loss_step=2.780, val_loss=2.950, train_loss_epoch=9.560]"
     ]
    },
    {
     "name": "stderr",
     "output_type": "stream",
     "text": [
      "Metric val_loss improved by 0.831 >= min_delta = 0. New best score: 2.946\n"
     ]
    },
    {
     "name": "stdout",
     "output_type": "stream",
     "text": [
      "Epoch 2: 100%|██████████| 91/91 [00:27<00:00,  3.29it/s, loss=2.63, v_num=12, train_loss_step=2.670, val_loss=2.750, train_loss_epoch=3.110]"
     ]
    },
    {
     "name": "stderr",
     "output_type": "stream",
     "text": [
      "Metric val_loss improved by 0.195 >= min_delta = 0. New best score: 2.751\n"
     ]
    },
    {
     "name": "stdout",
     "output_type": "stream",
     "text": [
      "Epoch 3: 100%|██████████| 91/91 [00:27<00:00,  3.33it/s, loss=2.55, v_num=12, train_loss_step=2.630, val_loss=2.690, train_loss_epoch=2.680]"
     ]
    },
    {
     "name": "stderr",
     "output_type": "stream",
     "text": [
      "Metric val_loss improved by 0.059 >= min_delta = 0. New best score: 2.692\n"
     ]
    },
    {
     "name": "stdout",
     "output_type": "stream",
     "text": [
      "Epoch 4: 100%|██████████| 91/91 [00:32<00:00,  2.84it/s, loss=2.51, v_num=12, train_loss_step=2.590, val_loss=2.650, train_loss_epoch=2.580]"
     ]
    },
    {
     "name": "stderr",
     "output_type": "stream",
     "text": [
      "Metric val_loss improved by 0.040 >= min_delta = 0. New best score: 2.652\n"
     ]
    },
    {
     "name": "stdout",
     "output_type": "stream",
     "text": [
      "Epoch 5: 100%|██████████| 91/91 [00:27<00:00,  3.28it/s, loss=2.47, v_num=12, train_loss_step=2.490, val_loss=2.620, train_loss_epoch=2.520]"
     ]
    },
    {
     "name": "stderr",
     "output_type": "stream",
     "text": [
      "Metric val_loss improved by 0.031 >= min_delta = 0. New best score: 2.621\n"
     ]
    },
    {
     "name": "stdout",
     "output_type": "stream",
     "text": [
      "Epoch 7: 100%|██████████| 91/91 [00:27<00:00,  3.29it/s, loss=2.38, v_num=12, train_loss_step=2.400, val_loss=2.580, train_loss_epoch=2.440]"
     ]
    },
    {
     "name": "stderr",
     "output_type": "stream",
     "text": [
      "Metric val_loss improved by 0.036 >= min_delta = 0. New best score: 2.585\n"
     ]
    },
    {
     "name": "stdout",
     "output_type": "stream",
     "text": [
      "Epoch 12: 100%|██████████| 91/91 [00:27<00:00,  3.27it/s, loss=2.3, v_num=12, train_loss_step=2.310, val_loss=2.620, train_loss_epoch=2.320] "
     ]
    },
    {
     "name": "stderr",
     "output_type": "stream",
     "text": [
      "Monitored metric val_loss did not improve in the last 5 records. Best score: 2.585. Signaling Trainer to stop.\n"
     ]
    },
    {
     "name": "stdout",
     "output_type": "stream",
     "text": [
      "Epoch 12: 100%|██████████| 91/91 [00:27<00:00,  3.26it/s, loss=2.3, v_num=12, train_loss_step=2.310, val_loss=2.620, train_loss_epoch=2.300]"
     ]
    },
    {
     "name": "stderr",
     "output_type": "stream",
     "text": [
      "\u001b[32m[I 2024-04-02 21:24:45,154]\u001b[0m Trial 12 finished with value: 31.264705657958984 and parameters: {'neu': 910, 'lay': 1, 'bat': 832, 'lr': 0.007617880050994612, 'dropout': 0.2}. Best is trial 11 with value: 30.665996551513672.\u001b[0m\n"
     ]
    },
    {
     "name": "stdout",
     "output_type": "stream",
     "text": [
      "\n"
     ]
    },
    {
     "name": "stderr",
     "output_type": "stream",
     "text": [
      "GPU available: True (cuda), used: True\n",
      "TPU available: False, using: 0 TPU cores\n",
      "IPU available: False, using: 0 IPUs\n",
      "HPU available: False, using: 0 HPUs\n",
      "`Trainer(limit_train_batches=1.0)` was configured so 100% of the batches per epoch will be used..\n",
      "`Trainer(limit_val_batches=1.0)` was configured so 100% of the batches will be used..\n",
      "LOCAL_RANK: 0 - CUDA_VISIBLE_DEVICES: [0]\n",
      "\n",
      "  | Name                   | Type                             | Params\n",
      "----------------------------------------------------------------------------\n",
      "0 | loss                   | NegativeBinomialDistributionLoss | 0     \n",
      "1 | logging_metrics        | ModuleList                       | 0     \n",
      "2 | embeddings             | MultiEmbedding                   | 927   \n",
      "3 | rnn                    | LSTM                             | 10.7 M\n",
      "4 | distribution_projector | Linear                           | 1.4 K \n",
      "----------------------------------------------------------------------------\n",
      "10.7 M    Trainable params\n",
      "0         Non-trainable params\n",
      "10.7 M    Total params\n",
      "42.746    Total estimated model params size (MB)\n"
     ]
    },
    {
     "name": "stdout",
     "output_type": "stream",
     "text": [
      "Epoch 0: 100%|██████████| 260/260 [00:30<00:00,  8.64it/s, loss=2.85, v_num=13, train_loss_step=2.860, val_loss=2.860]"
     ]
    },
    {
     "name": "stderr",
     "output_type": "stream",
     "text": [
      "Metric val_loss improved. New best score: 2.862\n"
     ]
    },
    {
     "name": "stdout",
     "output_type": "stream",
     "text": [
      "Epoch 1: 100%|██████████| 260/260 [00:29<00:00,  8.72it/s, loss=2.6, v_num=13, train_loss_step=2.640, val_loss=2.720, train_loss_epoch=4.590] "
     ]
    },
    {
     "name": "stderr",
     "output_type": "stream",
     "text": [
      "Metric val_loss improved by 0.140 >= min_delta = 0. New best score: 2.723\n"
     ]
    },
    {
     "name": "stdout",
     "output_type": "stream",
     "text": [
      "Epoch 2: 100%|██████████| 260/260 [00:29<00:00,  8.67it/s, loss=2.59, v_num=13, train_loss_step=2.580, val_loss=2.670, train_loss_epoch=2.660]"
     ]
    },
    {
     "name": "stderr",
     "output_type": "stream",
     "text": [
      "Metric val_loss improved by 0.058 >= min_delta = 0. New best score: 2.665\n"
     ]
    },
    {
     "name": "stdout",
     "output_type": "stream",
     "text": [
      "Epoch 3: 100%|██████████| 260/260 [00:29<00:00,  8.73it/s, loss=2.54, v_num=13, train_loss_step=2.350, val_loss=2.650, train_loss_epoch=2.580]"
     ]
    },
    {
     "name": "stderr",
     "output_type": "stream",
     "text": [
      "Metric val_loss improved by 0.013 >= min_delta = 0. New best score: 2.652\n"
     ]
    },
    {
     "name": "stdout",
     "output_type": "stream",
     "text": [
      "Epoch 5: 100%|██████████| 260/260 [00:29<00:00,  8.67it/s, loss=2.51, v_num=13, train_loss_step=2.500, val_loss=2.630, train_loss_epoch=2.550]"
     ]
    },
    {
     "name": "stderr",
     "output_type": "stream",
     "text": [
      "Metric val_loss improved by 0.022 >= min_delta = 0. New best score: 2.630\n"
     ]
    },
    {
     "name": "stdout",
     "output_type": "stream",
     "text": [
      "Epoch 10: 100%|██████████| 260/260 [00:34<00:00,  7.48it/s, loss=2.62, v_num=13, train_loss_step=2.610, val_loss=2.690, train_loss_epoch=2.590]"
     ]
    },
    {
     "name": "stderr",
     "output_type": "stream",
     "text": [
      "Monitored metric val_loss did not improve in the last 5 records. Best score: 2.630. Signaling Trainer to stop.\n"
     ]
    },
    {
     "name": "stdout",
     "output_type": "stream",
     "text": [
      "Epoch 10: 100%|██████████| 260/260 [00:34<00:00,  7.45it/s, loss=2.62, v_num=13, train_loss_step=2.610, val_loss=2.690, train_loss_epoch=2.620]\n"
     ]
    },
    {
     "name": "stderr",
     "output_type": "stream",
     "text": [
      "\u001b[32m[I 2024-04-02 21:30:24,989]\u001b[0m Trial 13 finished with value: 32.94093704223633 and parameters: {'neu': 710, 'lay': 3, 'bat': 288, 'lr': 0.08845278119445034, 'dropout': 0.4}. Best is trial 11 with value: 30.665996551513672.\u001b[0m\n",
      "GPU available: True (cuda), used: True\n",
      "TPU available: False, using: 0 TPU cores\n",
      "IPU available: False, using: 0 IPUs\n",
      "HPU available: False, using: 0 HPUs\n",
      "`Trainer(limit_train_batches=1.0)` was configured so 100% of the batches per epoch will be used..\n",
      "`Trainer(limit_val_batches=1.0)` was configured so 100% of the batches will be used..\n",
      "LOCAL_RANK: 0 - CUDA_VISIBLE_DEVICES: [0]\n",
      "\n",
      "  | Name                   | Type                             | Params\n",
      "----------------------------------------------------------------------------\n",
      "0 | loss                   | NegativeBinomialDistributionLoss | 0     \n",
      "1 | logging_metrics        | ModuleList                       | 0     \n",
      "2 | embeddings             | MultiEmbedding                   | 927   \n",
      "3 | rnn                    | LSTM                             | 24.3 M\n",
      "4 | distribution_projector | Linear                           | 1.6 K \n",
      "----------------------------------------------------------------------------\n",
      "24.3 M    Trainable params\n",
      "0         Non-trainable params\n",
      "24.3 M    Total params\n",
      "97.288    Total estimated model params size (MB)\n"
     ]
    },
    {
     "name": "stdout",
     "output_type": "stream",
     "text": [
      "Epoch 0: 100%|██████████| 101/101 [00:28<00:00,  3.50it/s, loss=4.38, v_num=14, train_loss_step=4.200, val_loss=4.300]"
     ]
    },
    {
     "name": "stderr",
     "output_type": "stream",
     "text": [
      "Metric val_loss improved. New best score: 4.298\n"
     ]
    },
    {
     "name": "stdout",
     "output_type": "stream",
     "text": [
      "Epoch 1: 100%|██████████| 101/101 [00:28<00:00,  3.51it/s, loss=3.64, v_num=14, train_loss_step=3.610, val_loss=3.700, train_loss_epoch=16.60]"
     ]
    },
    {
     "name": "stderr",
     "output_type": "stream",
     "text": [
      "Metric val_loss improved by 0.602 >= min_delta = 0. New best score: 3.696\n"
     ]
    },
    {
     "name": "stdout",
     "output_type": "stream",
     "text": [
      "Epoch 2: 100%|██████████| 101/101 [00:28<00:00,  3.51it/s, loss=3.07, v_num=14, train_loss_step=2.970, val_loss=3.190, train_loss_epoch=3.820]"
     ]
    },
    {
     "name": "stderr",
     "output_type": "stream",
     "text": [
      "Metric val_loss improved by 0.509 >= min_delta = 0. New best score: 3.186\n"
     ]
    },
    {
     "name": "stdout",
     "output_type": "stream",
     "text": [
      "Epoch 3: 100%|██████████| 101/101 [00:28<00:00,  3.51it/s, loss=2.86, v_num=14, train_loss_step=2.790, val_loss=3.110, train_loss_epoch=3.230]"
     ]
    },
    {
     "name": "stderr",
     "output_type": "stream",
     "text": [
      "Metric val_loss improved by 0.081 >= min_delta = 0. New best score: 3.105\n"
     ]
    },
    {
     "name": "stdout",
     "output_type": "stream",
     "text": [
      "Epoch 4: 100%|██████████| 101/101 [00:28<00:00,  3.51it/s, loss=2.77, v_num=14, train_loss_step=2.760, val_loss=2.940, train_loss_epoch=2.940]"
     ]
    },
    {
     "name": "stderr",
     "output_type": "stream",
     "text": [
      "Metric val_loss improved by 0.163 >= min_delta = 0. New best score: 2.942\n"
     ]
    },
    {
     "name": "stdout",
     "output_type": "stream",
     "text": [
      "Epoch 5: 100%|██████████| 101/101 [00:28<00:00,  3.51it/s, loss=2.68, v_num=14, train_loss_step=2.600, val_loss=2.850, train_loss_epoch=2.810]"
     ]
    },
    {
     "name": "stderr",
     "output_type": "stream",
     "text": [
      "Metric val_loss improved by 0.093 >= min_delta = 0. New best score: 2.849\n"
     ]
    },
    {
     "name": "stdout",
     "output_type": "stream",
     "text": [
      "Epoch 6: 100%|██████████| 101/101 [00:33<00:00,  3.03it/s, loss=2.63, v_num=14, train_loss_step=2.600, val_loss=2.790, train_loss_epoch=2.710]"
     ]
    },
    {
     "name": "stderr",
     "output_type": "stream",
     "text": [
      "Metric val_loss improved by 0.063 >= min_delta = 0. New best score: 2.786\n"
     ]
    },
    {
     "name": "stdout",
     "output_type": "stream",
     "text": [
      "Epoch 7: 100%|██████████| 101/101 [00:28<00:00,  3.52it/s, loss=2.61, v_num=14, train_loss_step=2.640, val_loss=2.780, train_loss_epoch=2.680]"
     ]
    },
    {
     "name": "stderr",
     "output_type": "stream",
     "text": [
      "Metric val_loss improved by 0.008 >= min_delta = 0. New best score: 2.778\n"
     ]
    },
    {
     "name": "stdout",
     "output_type": "stream",
     "text": [
      "Epoch 8: 100%|██████████| 101/101 [00:28<00:00,  3.52it/s, loss=2.56, v_num=14, train_loss_step=2.580, val_loss=2.730, train_loss_epoch=2.620]"
     ]
    },
    {
     "name": "stderr",
     "output_type": "stream",
     "text": [
      "Metric val_loss improved by 0.043 >= min_delta = 0. New best score: 2.735\n"
     ]
    },
    {
     "name": "stdout",
     "output_type": "stream",
     "text": [
      "Epoch 9: 100%|██████████| 101/101 [00:28<00:00,  3.51it/s, loss=2.54, v_num=14, train_loss_step=2.550, val_loss=2.700, train_loss_epoch=2.610]"
     ]
    },
    {
     "name": "stderr",
     "output_type": "stream",
     "text": [
      "Metric val_loss improved by 0.033 >= min_delta = 0. New best score: 2.701\n"
     ]
    },
    {
     "name": "stdout",
     "output_type": "stream",
     "text": [
      "Epoch 11: 100%|██████████| 101/101 [00:28<00:00,  3.52it/s, loss=2.53, v_num=14, train_loss_step=2.470, val_loss=2.700, train_loss_epoch=2.490]"
     ]
    },
    {
     "name": "stderr",
     "output_type": "stream",
     "text": [
      "Metric val_loss improved by 0.000 >= min_delta = 0. New best score: 2.701\n"
     ]
    },
    {
     "name": "stdout",
     "output_type": "stream",
     "text": [
      "Epoch 12: 100%|██████████| 101/101 [00:33<00:00,  3.04it/s, loss=2.41, v_num=14, train_loss_step=2.450, val_loss=2.640, train_loss_epoch=2.510]"
     ]
    },
    {
     "name": "stderr",
     "output_type": "stream",
     "text": [
      "Metric val_loss improved by 0.064 >= min_delta = 0. New best score: 2.637\n"
     ]
    },
    {
     "name": "stdout",
     "output_type": "stream",
     "text": [
      "Epoch 15: 100%|██████████| 101/101 [00:28<00:00,  3.52it/s, loss=2.41, v_num=14, train_loss_step=2.390, val_loss=2.620, train_loss_epoch=2.400]"
     ]
    },
    {
     "name": "stderr",
     "output_type": "stream",
     "text": [
      "Metric val_loss improved by 0.015 >= min_delta = 0. New best score: 2.623\n"
     ]
    },
    {
     "name": "stdout",
     "output_type": "stream",
     "text": [
      "Epoch 20: 100%|██████████| 101/101 [00:28<00:00,  3.51it/s, loss=2.35, v_num=14, train_loss_step=2.380, val_loss=2.680, train_loss_epoch=2.380]"
     ]
    },
    {
     "name": "stderr",
     "output_type": "stream",
     "text": [
      "Monitored metric val_loss did not improve in the last 5 records. Best score: 2.623. Signaling Trainer to stop.\n"
     ]
    },
    {
     "name": "stdout",
     "output_type": "stream",
     "text": [
      "Epoch 20: 100%|██████████| 101/101 [00:29<00:00,  3.46it/s, loss=2.35, v_num=14, train_loss_step=2.380, val_loss=2.680, train_loss_epoch=2.330]"
     ]
    },
    {
     "name": "stderr",
     "output_type": "stream",
     "text": [
      "\u001b[32m[I 2024-04-02 21:40:54,185]\u001b[0m Trial 14 finished with value: 31.520057678222656 and parameters: {'neu': 810, 'lay': 5, 'bat': 736, 'lr': 0.004366186493272184, 'dropout': 0.2}. Best is trial 11 with value: 30.665996551513672.\u001b[0m\n"
     ]
    },
    {
     "name": "stdout",
     "output_type": "stream",
     "text": [
      "\n"
     ]
    },
    {
     "name": "stderr",
     "output_type": "stream",
     "text": [
      "GPU available: True (cuda), used: True\n",
      "TPU available: False, using: 0 TPU cores\n",
      "IPU available: False, using: 0 IPUs\n",
      "HPU available: False, using: 0 HPUs\n",
      "`Trainer(limit_train_batches=1.0)` was configured so 100% of the batches per epoch will be used..\n",
      "`Trainer(limit_val_batches=1.0)` was configured so 100% of the batches will be used..\n",
      "LOCAL_RANK: 0 - CUDA_VISIBLE_DEVICES: [0]\n",
      "\n",
      "  | Name                   | Type                             | Params\n",
      "----------------------------------------------------------------------------\n",
      "0 | loss                   | NegativeBinomialDistributionLoss | 0     \n",
      "1 | logging_metrics        | ModuleList                       | 0     \n",
      "2 | embeddings             | MultiEmbedding                   | 927   \n",
      "3 | rnn                    | LSTM                             | 5.6 M \n",
      "4 | distribution_projector | Linear                           | 1.0 K \n",
      "----------------------------------------------------------------------------\n",
      "5.6 M     Trainable params\n",
      "0         Non-trainable params\n",
      "5.6 M     Total params\n",
      "22.546    Total estimated model params size (MB)\n"
     ]
    },
    {
     "name": "stdout",
     "output_type": "stream",
     "text": [
      "Epoch 0: 100%|██████████| 73/73 [00:27<00:00,  2.66it/s, loss=26.3, v_num=15, train_loss_step=24.80, val_loss=27.20]"
     ]
    },
    {
     "name": "stderr",
     "output_type": "stream",
     "text": [
      "Metric val_loss improved. New best score: 27.158\n"
     ]
    },
    {
     "name": "stdout",
     "output_type": "stream",
     "text": [
      "Epoch 1: 100%|██████████| 73/73 [00:27<00:00,  2.65it/s, loss=17.1, v_num=15, train_loss_step=15.10, val_loss=15.10, train_loss_epoch=27.40]"
     ]
    },
    {
     "name": "stderr",
     "output_type": "stream",
     "text": [
      "Metric val_loss improved by 12.088 >= min_delta = 0. New best score: 15.070\n"
     ]
    },
    {
     "name": "stdout",
     "output_type": "stream",
     "text": [
      "Epoch 2: 100%|██████████| 73/73 [00:27<00:00,  2.67it/s, loss=6.22, v_num=15, train_loss_step=5.320, val_loss=5.340, train_loss_epoch=20.30]"
     ]
    },
    {
     "name": "stderr",
     "output_type": "stream",
     "text": [
      "Metric val_loss improved by 9.727 >= min_delta = 0. New best score: 5.343\n"
     ]
    },
    {
     "name": "stdout",
     "output_type": "stream",
     "text": [
      "Epoch 3: 100%|██████████| 73/73 [00:27<00:00,  2.66it/s, loss=4.21, v_num=15, train_loss_step=4.190, val_loss=4.290, train_loss_epoch=8.850]"
     ]
    },
    {
     "name": "stderr",
     "output_type": "stream",
     "text": [
      "Metric val_loss improved by 1.051 >= min_delta = 0. New best score: 4.291\n"
     ]
    },
    {
     "name": "stdout",
     "output_type": "stream",
     "text": [
      "Epoch 4: 100%|██████████| 73/73 [00:32<00:00,  2.27it/s, loss=3.97, v_num=15, train_loss_step=3.690, val_loss=4.070, train_loss_epoch=4.450]"
     ]
    },
    {
     "name": "stderr",
     "output_type": "stream",
     "text": [
      "Metric val_loss improved by 0.217 >= min_delta = 0. New best score: 4.074\n"
     ]
    },
    {
     "name": "stdout",
     "output_type": "stream",
     "text": [
      "Epoch 5: 100%|██████████| 73/73 [00:27<00:00,  2.65it/s, loss=3.83, v_num=15, train_loss_step=3.830, val_loss=3.950, train_loss_epoch=4.040]"
     ]
    },
    {
     "name": "stderr",
     "output_type": "stream",
     "text": [
      "Metric val_loss improved by 0.122 >= min_delta = 0. New best score: 3.952\n"
     ]
    },
    {
     "name": "stdout",
     "output_type": "stream",
     "text": [
      "Epoch 6: 100%|██████████| 73/73 [00:27<00:00,  2.66it/s, loss=3.7, v_num=15, train_loss_step=3.670, val_loss=3.840, train_loss_epoch=3.860] "
     ]
    },
    {
     "name": "stderr",
     "output_type": "stream",
     "text": [
      "Metric val_loss improved by 0.111 >= min_delta = 0. New best score: 3.841\n"
     ]
    },
    {
     "name": "stdout",
     "output_type": "stream",
     "text": [
      "Epoch 7: 100%|██████████| 73/73 [00:27<00:00,  2.66it/s, loss=3.55, v_num=15, train_loss_step=3.620, val_loss=3.700, train_loss_epoch=3.750]"
     ]
    },
    {
     "name": "stderr",
     "output_type": "stream",
     "text": [
      "Metric val_loss improved by 0.146 >= min_delta = 0. New best score: 3.695\n"
     ]
    },
    {
     "name": "stdout",
     "output_type": "stream",
     "text": [
      "Epoch 8: 100%|██████████| 73/73 [00:27<00:00,  2.67it/s, loss=3.39, v_num=15, train_loss_step=3.420, val_loss=3.540, train_loss_epoch=3.610]"
     ]
    },
    {
     "name": "stderr",
     "output_type": "stream",
     "text": [
      "Metric val_loss improved by 0.154 >= min_delta = 0. New best score: 3.542\n"
     ]
    },
    {
     "name": "stdout",
     "output_type": "stream",
     "text": [
      "Epoch 9: 100%|██████████| 73/73 [00:27<00:00,  2.69it/s, loss=3.26, v_num=15, train_loss_step=3.330, val_loss=3.450, train_loss_epoch=3.430]"
     ]
    },
    {
     "name": "stderr",
     "output_type": "stream",
     "text": [
      "Metric val_loss improved by 0.093 >= min_delta = 0. New best score: 3.449\n"
     ]
    },
    {
     "name": "stdout",
     "output_type": "stream",
     "text": [
      "Epoch 10: 100%|██████████| 73/73 [00:27<00:00,  2.66it/s, loss=3.2, v_num=15, train_loss_step=3.250, val_loss=3.380, train_loss_epoch=3.300] "
     ]
    },
    {
     "name": "stderr",
     "output_type": "stream",
     "text": [
      "Metric val_loss improved by 0.072 >= min_delta = 0. New best score: 3.377\n"
     ]
    },
    {
     "name": "stdout",
     "output_type": "stream",
     "text": [
      "Epoch 11: 100%|██████████| 73/73 [00:32<00:00,  2.28it/s, loss=3.15, v_num=15, train_loss_step=3.150, val_loss=3.340, train_loss_epoch=3.210]"
     ]
    },
    {
     "name": "stderr",
     "output_type": "stream",
     "text": [
      "Metric val_loss improved by 0.039 >= min_delta = 0. New best score: 3.338\n"
     ]
    },
    {
     "name": "stdout",
     "output_type": "stream",
     "text": [
      "Epoch 12: 100%|██████████| 73/73 [00:27<00:00,  2.66it/s, loss=3.1, v_num=15, train_loss_step=3.060, val_loss=3.290, train_loss_epoch=3.160] "
     ]
    },
    {
     "name": "stderr",
     "output_type": "stream",
     "text": [
      "Metric val_loss improved by 0.048 >= min_delta = 0. New best score: 3.289\n"
     ]
    },
    {
     "name": "stdout",
     "output_type": "stream",
     "text": [
      "Epoch 13: 100%|██████████| 73/73 [00:27<00:00,  2.66it/s, loss=3.05, v_num=15, train_loss_step=3.110, val_loss=3.270, train_loss_epoch=3.110]"
     ]
    },
    {
     "name": "stderr",
     "output_type": "stream",
     "text": [
      "Metric val_loss improved by 0.023 >= min_delta = 0. New best score: 3.266\n"
     ]
    },
    {
     "name": "stdout",
     "output_type": "stream",
     "text": [
      "Epoch 14: 100%|██████████| 73/73 [00:27<00:00,  2.65it/s, loss=3.02, v_num=15, train_loss_step=2.970, val_loss=3.230, train_loss_epoch=3.070]"
     ]
    },
    {
     "name": "stderr",
     "output_type": "stream",
     "text": [
      "Metric val_loss improved by 0.035 >= min_delta = 0. New best score: 3.231\n"
     ]
    },
    {
     "name": "stdout",
     "output_type": "stream",
     "text": [
      "Epoch 15: 100%|██████████| 73/73 [00:27<00:00,  2.66it/s, loss=3.01, v_num=15, train_loss_step=2.970, val_loss=3.200, train_loss_epoch=3.030]"
     ]
    },
    {
     "name": "stderr",
     "output_type": "stream",
     "text": [
      "Metric val_loss improved by 0.031 >= min_delta = 0. New best score: 3.200\n"
     ]
    },
    {
     "name": "stdout",
     "output_type": "stream",
     "text": [
      "Epoch 16: 100%|██████████| 73/73 [00:27<00:00,  2.66it/s, loss=2.98, v_num=15, train_loss_step=3.090, val_loss=3.180, train_loss_epoch=3.000]"
     ]
    },
    {
     "name": "stderr",
     "output_type": "stream",
     "text": [
      "Metric val_loss improved by 0.019 >= min_delta = 0. New best score: 3.181\n"
     ]
    },
    {
     "name": "stdout",
     "output_type": "stream",
     "text": [
      "Epoch 17: 100%|██████████| 73/73 [00:27<00:00,  2.66it/s, loss=2.96, v_num=15, train_loss_step=2.920, val_loss=3.160, train_loss_epoch=2.970]"
     ]
    },
    {
     "name": "stderr",
     "output_type": "stream",
     "text": [
      "Metric val_loss improved by 0.021 >= min_delta = 0. New best score: 3.160\n"
     ]
    },
    {
     "name": "stdout",
     "output_type": "stream",
     "text": [
      "Epoch 18: 100%|██████████| 73/73 [00:31<00:00,  2.28it/s, loss=2.92, v_num=15, train_loss_step=2.880, val_loss=3.150, train_loss_epoch=2.950]"
     ]
    },
    {
     "name": "stderr",
     "output_type": "stream",
     "text": [
      "Metric val_loss improved by 0.012 >= min_delta = 0. New best score: 3.148\n"
     ]
    },
    {
     "name": "stdout",
     "output_type": "stream",
     "text": [
      "Epoch 19: 100%|██████████| 73/73 [00:27<00:00,  2.66it/s, loss=2.91, v_num=15, train_loss_step=2.910, val_loss=3.130, train_loss_epoch=2.930]"
     ]
    },
    {
     "name": "stderr",
     "output_type": "stream",
     "text": [
      "Metric val_loss improved by 0.015 >= min_delta = 0. New best score: 3.133\n"
     ]
    },
    {
     "name": "stdout",
     "output_type": "stream",
     "text": [
      "Epoch 20: 100%|██████████| 73/73 [00:27<00:00,  2.66it/s, loss=2.89, v_num=15, train_loss_step=2.900, val_loss=3.110, train_loss_epoch=2.910]"
     ]
    },
    {
     "name": "stderr",
     "output_type": "stream",
     "text": [
      "Metric val_loss improved by 0.018 >= min_delta = 0. New best score: 3.114\n"
     ]
    },
    {
     "name": "stdout",
     "output_type": "stream",
     "text": [
      "Epoch 21: 100%|██████████| 73/73 [00:27<00:00,  2.66it/s, loss=2.86, v_num=15, train_loss_step=2.930, val_loss=3.110, train_loss_epoch=2.900]"
     ]
    },
    {
     "name": "stderr",
     "output_type": "stream",
     "text": [
      "Metric val_loss improved by 0.001 >= min_delta = 0. New best score: 3.113\n"
     ]
    },
    {
     "name": "stdout",
     "output_type": "stream",
     "text": [
      "Epoch 22: 100%|██████████| 73/73 [00:27<00:00,  2.61it/s, loss=2.88, v_num=15, train_loss_step=3.030, val_loss=3.080, train_loss_epoch=2.880]"
     ]
    },
    {
     "name": "stderr",
     "output_type": "stream",
     "text": [
      "Metric val_loss improved by 0.028 >= min_delta = 0. New best score: 3.085\n"
     ]
    },
    {
     "name": "stdout",
     "output_type": "stream",
     "text": [
      "Epoch 23: 100%|██████████| 73/73 [00:27<00:00,  2.64it/s, loss=2.84, v_num=15, train_loss_step=2.880, val_loss=3.080, train_loss_epoch=2.870]"
     ]
    },
    {
     "name": "stderr",
     "output_type": "stream",
     "text": [
      "Metric val_loss improved by 0.005 >= min_delta = 0. New best score: 3.079\n"
     ]
    },
    {
     "name": "stdout",
     "output_type": "stream",
     "text": [
      "Epoch 24: 100%|██████████| 73/73 [00:27<00:00,  2.63it/s, loss=2.82, v_num=15, train_loss_step=2.830, val_loss=3.070, train_loss_epoch=2.850]"
     ]
    },
    {
     "name": "stderr",
     "output_type": "stream",
     "text": [
      "Metric val_loss improved by 0.013 >= min_delta = 0. New best score: 3.066\n"
     ]
    },
    {
     "name": "stdout",
     "output_type": "stream",
     "text": [
      "Epoch 26: 100%|██████████| 73/73 [00:27<00:00,  2.62it/s, loss=2.8, v_num=15, train_loss_step=2.880, val_loss=3.050, train_loss_epoch=2.820] "
     ]
    },
    {
     "name": "stderr",
     "output_type": "stream",
     "text": [
      "Metric val_loss improved by 0.012 >= min_delta = 0. New best score: 3.055\n"
     ]
    },
    {
     "name": "stdout",
     "output_type": "stream",
     "text": [
      "Epoch 27: 100%|██████████| 73/73 [00:27<00:00,  2.67it/s, loss=2.78, v_num=15, train_loss_step=2.810, val_loss=3.040, train_loss_epoch=2.800]"
     ]
    },
    {
     "name": "stderr",
     "output_type": "stream",
     "text": [
      "Metric val_loss improved by 0.012 >= min_delta = 0. New best score: 3.042\n"
     ]
    },
    {
     "name": "stdout",
     "output_type": "stream",
     "text": [
      "Epoch 28: 100%|██████████| 73/73 [00:27<00:00,  2.68it/s, loss=2.78, v_num=15, train_loss_step=2.740, val_loss=3.030, train_loss_epoch=2.790]"
     ]
    },
    {
     "name": "stderr",
     "output_type": "stream",
     "text": [
      "Metric val_loss improved by 0.012 >= min_delta = 0. New best score: 3.030\n"
     ]
    },
    {
     "name": "stdout",
     "output_type": "stream",
     "text": [
      "Epoch 29: 100%|██████████| 73/73 [00:27<00:00,  2.65it/s, loss=2.76, v_num=15, train_loss_step=2.810, val_loss=3.020, train_loss_epoch=2.780]"
     ]
    },
    {
     "name": "stderr",
     "output_type": "stream",
     "text": [
      "Metric val_loss improved by 0.012 >= min_delta = 0. New best score: 3.018\n"
     ]
    },
    {
     "name": "stdout",
     "output_type": "stream",
     "text": [
      "Epoch 29: 100%|██████████| 73/73 [00:27<00:00,  2.65it/s, loss=2.76, v_num=15, train_loss_step=2.810, val_loss=3.020, train_loss_epoch=2.770]"
     ]
    },
    {
     "name": "stderr",
     "output_type": "stream",
     "text": [
      "`Trainer.fit` stopped: `max_epochs=30` reached.\n"
     ]
    },
    {
     "name": "stdout",
     "output_type": "stream",
     "text": [
      "Epoch 29: 100%|██████████| 73/73 [00:27<00:00,  2.64it/s, loss=2.76, v_num=15, train_loss_step=2.810, val_loss=3.020, train_loss_epoch=2.770]"
     ]
    },
    {
     "name": "stderr",
     "output_type": "stream",
     "text": [
      "\u001b[32m[I 2024-04-02 21:55:03,714]\u001b[0m Trial 15 pruned. \u001b[0m\n"
     ]
    },
    {
     "name": "stdout",
     "output_type": "stream",
     "text": [
      "\n"
     ]
    },
    {
     "name": "stderr",
     "output_type": "stream",
     "text": [
      "GPU available: True (cuda), used: True\n",
      "TPU available: False, using: 0 TPU cores\n",
      "IPU available: False, using: 0 IPUs\n",
      "HPU available: False, using: 0 HPUs\n",
      "`Trainer(limit_train_batches=1.0)` was configured so 100% of the batches per epoch will be used..\n",
      "`Trainer(limit_val_batches=1.0)` was configured so 100% of the batches will be used..\n",
      "LOCAL_RANK: 0 - CUDA_VISIBLE_DEVICES: [0]\n",
      "\n",
      "  | Name                   | Type                             | Params\n",
      "----------------------------------------------------------------------------\n",
      "0 | loss                   | NegativeBinomialDistributionLoss | 0     \n",
      "1 | logging_metrics        | ModuleList                       | 0     \n",
      "2 | embeddings             | MultiEmbedding                   | 927   \n",
      "3 | rnn                    | LSTM                             | 3.7 M \n",
      "4 | distribution_projector | Linear                           | 622   \n",
      "----------------------------------------------------------------------------\n",
      "3.7 M     Trainable params\n",
      "0         Non-trainable params\n",
      "3.7 M     Total params\n",
      "14.916    Total estimated model params size (MB)\n"
     ]
    },
    {
     "name": "stdout",
     "output_type": "stream",
     "text": [
      "Epoch 0: 100%|██████████| 213/213 [00:28<00:00,  7.41it/s, loss=3.68, v_num=16, train_loss_step=3.620, val_loss=3.780]"
     ]
    },
    {
     "name": "stderr",
     "output_type": "stream",
     "text": [
      "Metric val_loss improved. New best score: 3.784\n"
     ]
    },
    {
     "name": "stdout",
     "output_type": "stream",
     "text": [
      "Epoch 1: 100%|██████████| 213/213 [00:28<00:00,  7.41it/s, loss=2.91, v_num=16, train_loss_step=3.020, val_loss=2.970, train_loss_epoch=7.930]"
     ]
    },
    {
     "name": "stderr",
     "output_type": "stream",
     "text": [
      "Metric val_loss improved by 0.809 >= min_delta = 0. New best score: 2.975\n"
     ]
    },
    {
     "name": "stdout",
     "output_type": "stream",
     "text": [
      "Epoch 2: 100%|██████████| 213/213 [00:33<00:00,  6.34it/s, loss=2.66, v_num=16, train_loss_step=2.680, val_loss=2.770, train_loss_epoch=3.140]"
     ]
    },
    {
     "name": "stderr",
     "output_type": "stream",
     "text": [
      "Metric val_loss improved by 0.209 >= min_delta = 0. New best score: 2.765\n"
     ]
    },
    {
     "name": "stdout",
     "output_type": "stream",
     "text": [
      "Epoch 3: 100%|██████████| 213/213 [00:29<00:00,  7.32it/s, loss=2.5, v_num=16, train_loss_step=2.700, val_loss=2.610, train_loss_epoch=2.730] "
     ]
    },
    {
     "name": "stderr",
     "output_type": "stream",
     "text": [
      "Metric val_loss improved by 0.160 >= min_delta = 0. New best score: 2.605\n"
     ]
    },
    {
     "name": "stdout",
     "output_type": "stream",
     "text": [
      "Epoch 6: 100%|██████████| 213/213 [00:28<00:00,  7.35it/s, loss=2.39, v_num=16, train_loss_step=2.410, val_loss=2.560, train_loss_epoch=2.440]"
     ]
    },
    {
     "name": "stderr",
     "output_type": "stream",
     "text": [
      "Metric val_loss improved by 0.049 >= min_delta = 0. New best score: 2.556\n"
     ]
    },
    {
     "name": "stdout",
     "output_type": "stream",
     "text": [
      "Epoch 7: 100%|██████████| 213/213 [00:29<00:00,  7.32it/s, loss=2.41, v_num=16, train_loss_step=2.460, val_loss=2.550, train_loss_epoch=2.400]"
     ]
    },
    {
     "name": "stderr",
     "output_type": "stream",
     "text": [
      "Metric val_loss improved by 0.006 >= min_delta = 0. New best score: 2.551\n"
     ]
    },
    {
     "name": "stdout",
     "output_type": "stream",
     "text": [
      "Epoch 12: 100%|██████████| 213/213 [00:33<00:00,  6.31it/s, loss=2.3, v_num=16, train_loss_step=2.380, val_loss=2.630, train_loss_epoch=2.320] "
     ]
    },
    {
     "name": "stderr",
     "output_type": "stream",
     "text": [
      "Monitored metric val_loss did not improve in the last 5 records. Best score: 2.551. Signaling Trainer to stop.\n"
     ]
    },
    {
     "name": "stdout",
     "output_type": "stream",
     "text": [
      "Epoch 12: 100%|██████████| 213/213 [00:33<00:00,  6.30it/s, loss=2.3, v_num=16, train_loss_step=2.380, val_loss=2.630, train_loss_epoch=2.310]"
     ]
    },
    {
     "name": "stderr",
     "output_type": "stream",
     "text": [
      "\u001b[32m[I 2024-04-02 22:01:33,671]\u001b[0m Trial 16 finished with value: 30.7927188873291 and parameters: {'neu': 310, 'lay': 5, 'bat': 352, 'lr': 0.017221018851994778, 'dropout': 0.0}. Best is trial 11 with value: 30.665996551513672.\u001b[0m\n"
     ]
    },
    {
     "name": "stdout",
     "output_type": "stream",
     "text": [
      "\n"
     ]
    },
    {
     "name": "stderr",
     "output_type": "stream",
     "text": [
      "GPU available: True (cuda), used: True\n",
      "TPU available: False, using: 0 TPU cores\n",
      "IPU available: False, using: 0 IPUs\n",
      "HPU available: False, using: 0 HPUs\n",
      "`Trainer(limit_train_batches=1.0)` was configured so 100% of the batches per epoch will be used..\n",
      "`Trainer(limit_val_batches=1.0)` was configured so 100% of the batches will be used..\n",
      "LOCAL_RANK: 0 - CUDA_VISIBLE_DEVICES: [0]\n",
      "\n",
      "  | Name                   | Type                             | Params\n",
      "----------------------------------------------------------------------------\n",
      "0 | loss                   | NegativeBinomialDistributionLoss | 0     \n",
      "1 | logging_metrics        | ModuleList                       | 0     \n",
      "2 | embeddings             | MultiEmbedding                   | 927   \n",
      "3 | rnn                    | LSTM                             | 3.3 M \n",
      "4 | distribution_projector | Linear                           | 1.6 K \n",
      "----------------------------------------------------------------------------\n",
      "3.3 M     Trainable params\n",
      "0         Non-trainable params\n",
      "3.3 M     Total params\n",
      "13.203    Total estimated model params size (MB)\n"
     ]
    },
    {
     "name": "stdout",
     "output_type": "stream",
     "text": [
      "Epoch 0: 100%|██████████| 585/585 [00:33<00:00, 17.42it/s, loss=2.62, v_num=17, train_loss_step=2.770, val_loss=2.700]"
     ]
    },
    {
     "name": "stderr",
     "output_type": "stream",
     "text": [
      "Metric val_loss improved. New best score: 2.698\n"
     ]
    },
    {
     "name": "stdout",
     "output_type": "stream",
     "text": [
      "Epoch 1: 100%|██████████| 585/585 [00:32<00:00, 18.28it/s, loss=2.54, v_num=17, train_loss_step=2.340, val_loss=2.580, train_loss_epoch=4.100]"
     ]
    },
    {
     "name": "stderr",
     "output_type": "stream",
     "text": [
      "Metric val_loss improved by 0.122 >= min_delta = 0. New best score: 2.575\n"
     ]
    },
    {
     "name": "stdout",
     "output_type": "stream",
     "text": [
      "Epoch 2: 100%|██████████| 585/585 [00:32<00:00, 17.81it/s, loss=2.39, v_num=17, train_loss_step=2.600, val_loss=2.530, train_loss_epoch=2.520]"
     ]
    },
    {
     "name": "stderr",
     "output_type": "stream",
     "text": [
      "Metric val_loss improved by 0.043 >= min_delta = 0. New best score: 2.533\n"
     ]
    },
    {
     "name": "stdout",
     "output_type": "stream",
     "text": [
      "Epoch 3: 100%|██████████| 585/585 [00:32<00:00, 18.07it/s, loss=2.41, v_num=17, train_loss_step=2.250, val_loss=2.520, train_loss_epoch=2.430]"
     ]
    },
    {
     "name": "stderr",
     "output_type": "stream",
     "text": [
      "Metric val_loss improved by 0.008 >= min_delta = 0. New best score: 2.525\n"
     ]
    },
    {
     "name": "stdout",
     "output_type": "stream",
     "text": [
      "Epoch 5: 100%|██████████| 585/585 [00:32<00:00, 18.01it/s, loss=2.34, v_num=17, train_loss_step=2.290, val_loss=2.520, train_loss_epoch=2.370]"
     ]
    },
    {
     "name": "stderr",
     "output_type": "stream",
     "text": [
      "Metric val_loss improved by 0.005 >= min_delta = 0. New best score: 2.519\n"
     ]
    },
    {
     "name": "stdout",
     "output_type": "stream",
     "text": [
      "Epoch 10: 100%|██████████| 585/585 [00:32<00:00, 17.79it/s, loss=2.22, v_num=17, train_loss_step=2.350, val_loss=2.590, train_loss_epoch=2.230]"
     ]
    },
    {
     "name": "stderr",
     "output_type": "stream",
     "text": [
      "Monitored metric val_loss did not improve in the last 5 records. Best score: 2.519. Signaling Trainer to stop.\n"
     ]
    },
    {
     "name": "stdout",
     "output_type": "stream",
     "text": [
      "Epoch 10: 100%|██████████| 585/585 [00:32<00:00, 17.74it/s, loss=2.22, v_num=17, train_loss_step=2.350, val_loss=2.590, train_loss_epoch=2.200]"
     ]
    },
    {
     "name": "stderr",
     "output_type": "stream",
     "text": [
      "\u001b[32m[I 2024-04-02 22:07:36,356]\u001b[0m Trial 17 finished with value: 30.672325134277344 and parameters: {'neu': 810, 'lay': 1, 'bat': 128, 'lr': 0.005424054501426429, 'dropout': 0.4}. Best is trial 11 with value: 30.665996551513672.\u001b[0m\n"
     ]
    },
    {
     "name": "stdout",
     "output_type": "stream",
     "text": [
      "\n"
     ]
    },
    {
     "name": "stderr",
     "output_type": "stream",
     "text": [
      "GPU available: True (cuda), used: True\n",
      "TPU available: False, using: 0 TPU cores\n",
      "IPU available: False, using: 0 IPUs\n",
      "HPU available: False, using: 0 HPUs\n",
      "`Trainer(limit_train_batches=1.0)` was configured so 100% of the batches per epoch will be used..\n",
      "`Trainer(limit_val_batches=1.0)` was configured so 100% of the batches will be used..\n",
      "LOCAL_RANK: 0 - CUDA_VISIBLE_DEVICES: [0]\n",
      "\n",
      "  | Name                   | Type                             | Params\n",
      "----------------------------------------------------------------------------\n",
      "0 | loss                   | NegativeBinomialDistributionLoss | 0     \n",
      "1 | logging_metrics        | ModuleList                       | 0     \n",
      "2 | embeddings             | MultiEmbedding                   | 927   \n",
      "3 | rnn                    | LSTM                             | 2.6 M \n",
      "4 | distribution_projector | Linear                           | 1.4 K \n",
      "----------------------------------------------------------------------------\n",
      "2.6 M     Trainable params\n",
      "0         Non-trainable params\n",
      "2.6 M     Total params\n",
      "10.438    Total estimated model params size (MB)\n"
     ]
    },
    {
     "name": "stdout",
     "output_type": "stream",
     "text": [
      "Epoch 0: 100%|██████████| 780/780 [00:35<00:00, 22.15it/s, loss=2.57, v_num=18, train_loss_step=2.420, val_loss=2.700]"
     ]
    },
    {
     "name": "stderr",
     "output_type": "stream",
     "text": [
      "Metric val_loss improved. New best score: 2.695\n"
     ]
    },
    {
     "name": "stdout",
     "output_type": "stream",
     "text": [
      "Epoch 1: 100%|██████████| 780/780 [00:35<00:00, 22.06it/s, loss=2.53, v_num=18, train_loss_step=2.250, val_loss=2.570, train_loss_epoch=3.910]"
     ]
    },
    {
     "name": "stderr",
     "output_type": "stream",
     "text": [
      "Metric val_loss improved by 0.122 >= min_delta = 0. New best score: 2.573\n"
     ]
    },
    {
     "name": "stdout",
     "output_type": "stream",
     "text": [
      "Epoch 2: 100%|██████████| 780/780 [00:34<00:00, 22.61it/s, loss=2.4, v_num=18, train_loss_step=2.330, val_loss=2.550, train_loss_epoch=2.490] "
     ]
    },
    {
     "name": "stderr",
     "output_type": "stream",
     "text": [
      "Metric val_loss improved by 0.022 >= min_delta = 0. New best score: 2.551\n"
     ]
    },
    {
     "name": "stdout",
     "output_type": "stream",
     "text": [
      "Epoch 3: 100%|██████████| 780/780 [00:34<00:00, 22.83it/s, loss=2.34, v_num=18, train_loss_step=2.470, val_loss=2.540, train_loss_epoch=2.420]"
     ]
    },
    {
     "name": "stderr",
     "output_type": "stream",
     "text": [
      "Metric val_loss improved by 0.012 >= min_delta = 0. New best score: 2.539\n"
     ]
    },
    {
     "name": "stdout",
     "output_type": "stream",
     "text": [
      "Epoch 8: 100%|██████████| 780/780 [00:40<00:00, 19.41it/s, loss=2.21, v_num=18, train_loss_step=2.060, val_loss=2.590, train_loss_epoch=2.270]"
     ]
    },
    {
     "name": "stderr",
     "output_type": "stream",
     "text": [
      "Monitored metric val_loss did not improve in the last 5 records. Best score: 2.539. Signaling Trainer to stop.\n"
     ]
    },
    {
     "name": "stdout",
     "output_type": "stream",
     "text": [
      "Epoch 8: 100%|██████████| 780/780 [00:40<00:00, 19.38it/s, loss=2.21, v_num=18, train_loss_step=2.060, val_loss=2.590, train_loss_epoch=2.240]\n"
     ]
    },
    {
     "name": "stderr",
     "output_type": "stream",
     "text": [
      "\u001b[32m[I 2024-04-02 22:12:58,917]\u001b[0m Trial 18 finished with value: 31.074417114257812 and parameters: {'neu': 710, 'lay': 1, 'bat': 96, 'lr': 0.004854406379555634, 'dropout': 0.4}. Best is trial 11 with value: 30.665996551513672.\u001b[0m\n",
      "GPU available: True (cuda), used: True\n",
      "TPU available: False, using: 0 TPU cores\n",
      "IPU available: False, using: 0 IPUs\n",
      "HPU available: False, using: 0 HPUs\n",
      "`Trainer(limit_train_batches=1.0)` was configured so 100% of the batches per epoch will be used..\n",
      "`Trainer(limit_val_batches=1.0)` was configured so 100% of the batches will be used..\n",
      "LOCAL_RANK: 0 - CUDA_VISIBLE_DEVICES: [0]\n",
      "\n",
      "  | Name                   | Type                             | Params\n",
      "----------------------------------------------------------------------------\n",
      "0 | loss                   | NegativeBinomialDistributionLoss | 0     \n",
      "1 | logging_metrics        | ModuleList                       | 0     \n",
      "2 | embeddings             | MultiEmbedding                   | 927   \n",
      "3 | rnn                    | LSTM                             | 1.0 M \n",
      "4 | distribution_projector | Linear                           | 822   \n",
      "----------------------------------------------------------------------------\n",
      "1.0 M     Trainable params\n",
      "0         Non-trainable params\n",
      "1.0 M     Total params\n",
      "4.061     Total estimated model params size (MB)\n"
     ]
    },
    {
     "name": "stdout",
     "output_type": "stream",
     "text": [
      "Epoch 0: 100%|██████████| 585/585 [00:33<00:00, 17.72it/s, loss=3.1, v_num=19, train_loss_step=3.140, val_loss=3.260]"
     ]
    },
    {
     "name": "stderr",
     "output_type": "stream",
     "text": [
      "Metric val_loss improved. New best score: 3.264\n"
     ]
    },
    {
     "name": "stdout",
     "output_type": "stream",
     "text": [
      "Epoch 1: 100%|██████████| 585/585 [00:33<00:00, 17.70it/s, loss=2.78, v_num=19, train_loss_step=3.070, val_loss=2.950, train_loss_epoch=6.940]"
     ]
    },
    {
     "name": "stderr",
     "output_type": "stream",
     "text": [
      "Metric val_loss improved by 0.315 >= min_delta = 0. New best score: 2.949\n"
     ]
    },
    {
     "name": "stdout",
     "output_type": "stream",
     "text": [
      "Epoch 2: 100%|██████████| 585/585 [00:32<00:00, 18.02it/s, loss=2.72, v_num=19, train_loss_step=2.910, val_loss=2.820, train_loss_epoch=2.910]"
     ]
    },
    {
     "name": "stderr",
     "output_type": "stream",
     "text": [
      "Metric val_loss improved by 0.125 >= min_delta = 0. New best score: 2.825\n"
     ]
    },
    {
     "name": "stdout",
     "output_type": "stream",
     "text": [
      "Epoch 3: 100%|██████████| 585/585 [00:31<00:00, 18.31it/s, loss=2.59, v_num=19, train_loss_step=2.830, val_loss=2.750, train_loss_epoch=2.720]"
     ]
    },
    {
     "name": "stderr",
     "output_type": "stream",
     "text": [
      "Metric val_loss improved by 0.073 >= min_delta = 0. New best score: 2.752\n"
     ]
    },
    {
     "name": "stdout",
     "output_type": "stream",
     "text": [
      "Epoch 4: 100%|██████████| 585/585 [00:32<00:00, 18.16it/s, loss=2.54, v_num=19, train_loss_step=2.560, val_loss=2.690, train_loss_epoch=2.620]"
     ]
    },
    {
     "name": "stderr",
     "output_type": "stream",
     "text": [
      "Metric val_loss improved by 0.059 >= min_delta = 0. New best score: 2.693\n"
     ]
    },
    {
     "name": "stdout",
     "output_type": "stream",
     "text": [
      "Epoch 5: 100%|██████████| 585/585 [00:32<00:00, 18.06it/s, loss=2.43, v_num=19, train_loss_step=2.100, val_loss=2.660, train_loss_epoch=2.540]"
     ]
    },
    {
     "name": "stderr",
     "output_type": "stream",
     "text": [
      "Metric val_loss improved by 0.033 >= min_delta = 0. New best score: 2.660\n"
     ]
    },
    {
     "name": "stdout",
     "output_type": "stream",
     "text": [
      "Epoch 6: 100%|██████████| 585/585 [00:33<00:00, 17.62it/s, loss=2.46, v_num=19, train_loss_step=2.670, val_loss=2.630, train_loss_epoch=2.480]"
     ]
    },
    {
     "name": "stderr",
     "output_type": "stream",
     "text": [
      "Metric val_loss improved by 0.030 >= min_delta = 0. New best score: 2.630\n"
     ]
    },
    {
     "name": "stdout",
     "output_type": "stream",
     "text": [
      "Epoch 7: 100%|██████████| 585/585 [00:32<00:00, 18.10it/s, loss=2.43, v_num=19, train_loss_step=2.450, val_loss=2.610, train_loss_epoch=2.440]"
     ]
    },
    {
     "name": "stderr",
     "output_type": "stream",
     "text": [
      "Metric val_loss improved by 0.019 >= min_delta = 0. New best score: 2.611\n"
     ]
    },
    {
     "name": "stdout",
     "output_type": "stream",
     "text": [
      "Epoch 12: 100%|██████████| 585/585 [00:32<00:00, 18.16it/s, loss=2.33, v_num=19, train_loss_step=2.370, val_loss=2.620, train_loss_epoch=2.310]"
     ]
    },
    {
     "name": "stderr",
     "output_type": "stream",
     "text": [
      "Monitored metric val_loss did not improve in the last 5 records. Best score: 2.611. Signaling Trainer to stop.\n"
     ]
    },
    {
     "name": "stdout",
     "output_type": "stream",
     "text": [
      "Epoch 12: 100%|██████████| 585/585 [00:32<00:00, 18.15it/s, loss=2.33, v_num=19, train_loss_step=2.370, val_loss=2.620, train_loss_epoch=2.290]"
     ]
    },
    {
     "name": "stderr",
     "output_type": "stream",
     "text": [
      "\u001b[32m[I 2024-04-02 22:20:04,790]\u001b[0m Trial 19 finished with value: 31.225969314575195 and parameters: {'neu': 410, 'lay': 1, 'bat': 128, 'lr': 0.0009752016912056723, 'dropout': 0.6000000000000001}. Best is trial 11 with value: 30.665996551513672.\u001b[0m\n"
     ]
    },
    {
     "name": "stdout",
     "output_type": "stream",
     "text": [
      "\n"
     ]
    },
    {
     "name": "stderr",
     "output_type": "stream",
     "text": [
      "GPU available: True (cuda), used: True\n",
      "TPU available: False, using: 0 TPU cores\n",
      "IPU available: False, using: 0 IPUs\n",
      "HPU available: False, using: 0 HPUs\n",
      "`Trainer(limit_train_batches=1.0)` was configured so 100% of the batches per epoch will be used..\n",
      "`Trainer(limit_val_batches=1.0)` was configured so 100% of the batches will be used..\n",
      "LOCAL_RANK: 0 - CUDA_VISIBLE_DEVICES: [0]\n",
      "\n",
      "  | Name                   | Type                             | Params\n",
      "----------------------------------------------------------------------------\n",
      "0 | loss                   | NegativeBinomialDistributionLoss | 0     \n",
      "1 | logging_metrics        | ModuleList                       | 0     \n",
      "2 | embeddings             | MultiEmbedding                   | 927   \n",
      "3 | rnn                    | LSTM                             | 13.8 M\n",
      "4 | distribution_projector | Linear                           | 1.6 K \n",
      "----------------------------------------------------------------------------\n",
      "13.8 M    Trainable params\n",
      "0         Non-trainable params\n",
      "13.8 M    Total params\n",
      "55.246    Total estimated model params size (MB)\n"
     ]
    },
    {
     "name": "stdout",
     "output_type": "stream",
     "text": [
      "Epoch 0: 100%|██████████| 107/107 [00:28<00:00,  3.75it/s, loss=3.36, v_num=20, train_loss_step=3.060, val_loss=3.130]"
     ]
    },
    {
     "name": "stderr",
     "output_type": "stream",
     "text": [
      "Metric val_loss improved. New best score: 3.134\n"
     ]
    },
    {
     "name": "stdout",
     "output_type": "stream",
     "text": [
      "Epoch 1: 100%|██████████| 107/107 [00:28<00:00,  3.75it/s, loss=2.67, v_num=20, train_loss_step=2.550, val_loss=2.750, train_loss_epoch=7.050]"
     ]
    },
    {
     "name": "stderr",
     "output_type": "stream",
     "text": [
      "Metric val_loss improved by 0.388 >= min_delta = 0. New best score: 2.746\n"
     ]
    },
    {
     "name": "stdout",
     "output_type": "stream",
     "text": [
      "Epoch 2: 100%|██████████| 107/107 [00:34<00:00,  3.08it/s, loss=2.55, v_num=20, train_loss_step=2.520, val_loss=2.600, train_loss_epoch=2.780]"
     ]
    },
    {
     "name": "stderr",
     "output_type": "stream",
     "text": [
      "Metric val_loss improved by 0.148 >= min_delta = 0. New best score: 2.598\n"
     ]
    },
    {
     "name": "stdout",
     "output_type": "stream",
     "text": [
      "Epoch 4: 100%|██████████| 107/107 [00:28<00:00,  3.75it/s, loss=2.44, v_num=20, train_loss_step=2.470, val_loss=2.560, train_loss_epoch=2.540]"
     ]
    },
    {
     "name": "stderr",
     "output_type": "stream",
     "text": [
      "Metric val_loss improved by 0.041 >= min_delta = 0. New best score: 2.557\n"
     ]
    },
    {
     "name": "stdout",
     "output_type": "stream",
     "text": [
      "Epoch 6: 100%|██████████| 107/107 [00:28<00:00,  3.75it/s, loss=2.48, v_num=20, train_loss_step=2.390, val_loss=2.560, train_loss_epoch=2.460]"
     ]
    },
    {
     "name": "stderr",
     "output_type": "stream",
     "text": [
      "Metric val_loss improved by 0.002 >= min_delta = 0. New best score: 2.555\n"
     ]
    },
    {
     "name": "stdout",
     "output_type": "stream",
     "text": [
      "Epoch 9: 100%|██████████| 107/107 [00:28<00:00,  3.77it/s, loss=2.41, v_num=20, train_loss_step=2.500, val_loss=2.550, train_loss_epoch=2.400]"
     ]
    },
    {
     "name": "stderr",
     "output_type": "stream",
     "text": [
      "Metric val_loss improved by 0.005 >= min_delta = 0. New best score: 2.550\n"
     ]
    },
    {
     "name": "stdout",
     "output_type": "stream",
     "text": [
      "Epoch 14: 100%|██████████| 107/107 [00:28<00:00,  3.75it/s, loss=2.38, v_num=20, train_loss_step=2.440, val_loss=2.590, train_loss_epoch=2.350]"
     ]
    },
    {
     "name": "stderr",
     "output_type": "stream",
     "text": [
      "Monitored metric val_loss did not improve in the last 5 records. Best score: 2.550. Signaling Trainer to stop.\n"
     ]
    },
    {
     "name": "stdout",
     "output_type": "stream",
     "text": [
      "Epoch 14: 100%|██████████| 107/107 [00:28<00:00,  3.72it/s, loss=2.38, v_num=20, train_loss_step=2.440, val_loss=2.590, train_loss_epoch=2.350]"
     ]
    },
    {
     "name": "stderr",
     "output_type": "stream",
     "text": [
      "\u001b[32m[I 2024-04-02 22:27:31,483]\u001b[0m Trial 20 finished with value: 30.88484001159668 and parameters: {'neu': 810, 'lay': 3, 'bat': 704, 'lr': 0.03804668189966391, 'dropout': 0.4}. Best is trial 11 with value: 30.665996551513672.\u001b[0m\n"
     ]
    },
    {
     "name": "stdout",
     "output_type": "stream",
     "text": [
      "\n"
     ]
    },
    {
     "name": "stderr",
     "output_type": "stream",
     "text": [
      "GPU available: True (cuda), used: True\n",
      "TPU available: False, using: 0 TPU cores\n",
      "IPU available: False, using: 0 IPUs\n",
      "HPU available: False, using: 0 HPUs\n",
      "`Trainer(limit_train_batches=1.0)` was configured so 100% of the batches per epoch will be used..\n",
      "`Trainer(limit_val_batches=1.0)` was configured so 100% of the batches will be used..\n",
      "LOCAL_RANK: 0 - CUDA_VISIBLE_DEVICES: [0]\n",
      "\n",
      "  | Name                   | Type                             | Params\n",
      "----------------------------------------------------------------------------\n",
      "0 | loss                   | NegativeBinomialDistributionLoss | 0     \n",
      "1 | logging_metrics        | ModuleList                       | 0     \n",
      "2 | embeddings             | MultiEmbedding                   | 927   \n",
      "3 | rnn                    | LSTM                             | 43.9 M\n",
      "4 | distribution_projector | Linear                           | 1.8 K \n",
      "----------------------------------------------------------------------------\n",
      "43.9 M    Trainable params\n",
      "0         Non-trainable params\n",
      "43.9 M    Total params\n",
      "175.459   Total estimated model params size (MB)\n"
     ]
    },
    {
     "name": "stdout",
     "output_type": "stream",
     "text": [
      "Epoch 0: 100%|██████████| 334/334 [00:32<00:00, 10.22it/s, loss=3.69, v_num=21, train_loss_step=3.500, val_loss=3.750]"
     ]
    },
    {
     "name": "stderr",
     "output_type": "stream",
     "text": [
      "Metric val_loss improved. New best score: 3.749\n"
     ]
    },
    {
     "name": "stdout",
     "output_type": "stream",
     "text": [
      "Epoch 1: 100%|██████████| 334/334 [00:32<00:00, 10.14it/s, loss=2.72, v_num=21, train_loss_step=2.610, val_loss=2.850, train_loss_epoch=6.300]"
     ]
    },
    {
     "name": "stderr",
     "output_type": "stream",
     "text": [
      "Metric val_loss improved by 0.901 >= min_delta = 0. New best score: 2.848\n"
     ]
    },
    {
     "name": "stdout",
     "output_type": "stream",
     "text": [
      "Epoch 2: 100%|██████████| 334/334 [00:32<00:00, 10.21it/s, loss=2.58, v_num=21, train_loss_step=2.590, val_loss=2.610, train_loss_epoch=3.000]"
     ]
    },
    {
     "name": "stderr",
     "output_type": "stream",
     "text": [
      "Metric val_loss improved by 0.233 >= min_delta = 0. New best score: 2.614\n"
     ]
    },
    {
     "name": "stdout",
     "output_type": "stream",
     "text": [
      "Epoch 4: 100%|██████████| 334/334 [00:33<00:00, 10.11it/s, loss=2.52, v_num=21, train_loss_step=2.700, val_loss=2.600, train_loss_epoch=2.540]"
     ]
    },
    {
     "name": "stderr",
     "output_type": "stream",
     "text": [
      "Metric val_loss improved by 0.015 >= min_delta = 0. New best score: 2.599\n"
     ]
    },
    {
     "name": "stdout",
     "output_type": "stream",
     "text": [
      "Epoch 5: 100%|██████████| 334/334 [00:32<00:00, 10.18it/s, loss=2.47, v_num=21, train_loss_step=2.410, val_loss=2.600, train_loss_epoch=2.500]"
     ]
    },
    {
     "name": "stderr",
     "output_type": "stream",
     "text": [
      "Metric val_loss improved by 0.000 >= min_delta = 0. New best score: 2.599\n"
     ]
    },
    {
     "name": "stdout",
     "output_type": "stream",
     "text": [
      "Epoch 8: 100%|██████████| 334/334 [00:32<00:00, 10.20it/s, loss=2.4, v_num=21, train_loss_step=2.480, val_loss=2.590, train_loss_epoch=2.450] "
     ]
    },
    {
     "name": "stderr",
     "output_type": "stream",
     "text": [
      "Metric val_loss improved by 0.012 >= min_delta = 0. New best score: 2.586\n"
     ]
    },
    {
     "name": "stdout",
     "output_type": "stream",
     "text": [
      "Epoch 11: 100%|██████████| 334/334 [00:32<00:00, 10.19it/s, loss=2.36, v_num=21, train_loss_step=2.250, val_loss=2.580, train_loss_epoch=2.410]"
     ]
    },
    {
     "name": "stderr",
     "output_type": "stream",
     "text": [
      "Metric val_loss improved by 0.011 >= min_delta = 0. New best score: 2.575\n"
     ]
    },
    {
     "name": "stdout",
     "output_type": "stream",
     "text": [
      "Epoch 16: 100%|██████████| 334/334 [00:32<00:00, 10.20it/s, loss=2.36, v_num=21, train_loss_step=2.450, val_loss=2.660, train_loss_epoch=2.350]"
     ]
    },
    {
     "name": "stderr",
     "output_type": "stream",
     "text": [
      "Monitored metric val_loss did not improve in the last 5 records. Best score: 2.575. Signaling Trainer to stop.\n"
     ]
    },
    {
     "name": "stdout",
     "output_type": "stream",
     "text": [
      "Epoch 16: 100%|██████████| 334/334 [00:33<00:00,  9.99it/s, loss=2.36, v_num=21, train_loss_step=2.450, val_loss=2.660, train_loss_epoch=2.340]"
     ]
    },
    {
     "name": "stderr",
     "output_type": "stream",
     "text": [
      "\u001b[32m[I 2024-04-02 22:37:03,301]\u001b[0m Trial 21 finished with value: 30.943496704101562 and parameters: {'neu': 910, 'lay': 7, 'bat': 224, 'lr': 0.012716005546325137, 'dropout': 0.2}. Best is trial 11 with value: 30.665996551513672.\u001b[0m\n"
     ]
    },
    {
     "name": "stdout",
     "output_type": "stream",
     "text": [
      "\n"
     ]
    },
    {
     "name": "stderr",
     "output_type": "stream",
     "text": [
      "GPU available: True (cuda), used: True\n",
      "TPU available: False, using: 0 TPU cores\n",
      "IPU available: False, using: 0 IPUs\n",
      "HPU available: False, using: 0 HPUs\n",
      "`Trainer(limit_train_batches=1.0)` was configured so 100% of the batches per epoch will be used..\n",
      "`Trainer(limit_val_batches=1.0)` was configured so 100% of the batches will be used..\n",
      "LOCAL_RANK: 0 - CUDA_VISIBLE_DEVICES: [0]\n",
      "\n",
      "  | Name                   | Type                             | Params\n",
      "----------------------------------------------------------------------------\n",
      "0 | loss                   | NegativeBinomialDistributionLoss | 0     \n",
      "1 | logging_metrics        | ModuleList                       | 0     \n",
      "2 | embeddings             | MultiEmbedding                   | 927   \n",
      "3 | rnn                    | LSTM                             | 3.3 M \n",
      "4 | distribution_projector | Linear                           | 1.6 K \n",
      "----------------------------------------------------------------------------\n",
      "3.3 M     Trainable params\n",
      "0         Non-trainable params\n",
      "3.3 M     Total params\n",
      "13.203    Total estimated model params size (MB)\n"
     ]
    },
    {
     "name": "stdout",
     "output_type": "stream",
     "text": [
      "Epoch 0: 100%|██████████| 195/195 [00:29<00:00,  6.69it/s, loss=2.99, v_num=22, train_loss_step=2.980, val_loss=3.090]"
     ]
    },
    {
     "name": "stderr",
     "output_type": "stream",
     "text": [
      "Metric val_loss improved. New best score: 3.092\n"
     ]
    },
    {
     "name": "stdout",
     "output_type": "stream",
     "text": [
      "Epoch 1: 100%|██████████| 195/195 [00:28<00:00,  6.80it/s, loss=2.61, v_num=22, train_loss_step=2.580, val_loss=2.730, train_loss_epoch=6.950]"
     ]
    },
    {
     "name": "stderr",
     "output_type": "stream",
     "text": [
      "Metric val_loss improved by 0.357 >= min_delta = 0. New best score: 2.735\n"
     ]
    },
    {
     "name": "stdout",
     "output_type": "stream",
     "text": [
      "Epoch 2: 100%|██████████| 195/195 [00:28<00:00,  6.77it/s, loss=2.52, v_num=22, train_loss_step=2.580, val_loss=2.650, train_loss_epoch=2.730]"
     ]
    },
    {
     "name": "stderr",
     "output_type": "stream",
     "text": [
      "Metric val_loss improved by 0.084 >= min_delta = 0. New best score: 2.651\n"
     ]
    },
    {
     "name": "stdout",
     "output_type": "stream",
     "text": [
      "Epoch 3: 100%|██████████| 195/195 [00:28<00:00,  6.78it/s, loss=2.43, v_num=22, train_loss_step=2.480, val_loss=2.600, train_loss_epoch=2.560]"
     ]
    },
    {
     "name": "stderr",
     "output_type": "stream",
     "text": [
      "Metric val_loss improved by 0.048 >= min_delta = 0. New best score: 2.602\n"
     ]
    },
    {
     "name": "stdout",
     "output_type": "stream",
     "text": [
      "Epoch 4: 100%|██████████| 195/195 [00:28<00:00,  6.79it/s, loss=2.44, v_num=22, train_loss_step=2.310, val_loss=2.560, train_loss_epoch=2.480]"
     ]
    },
    {
     "name": "stderr",
     "output_type": "stream",
     "text": [
      "Metric val_loss improved by 0.039 >= min_delta = 0. New best score: 2.563\n"
     ]
    },
    {
     "name": "stdout",
     "output_type": "stream",
     "text": [
      "Epoch 5: 100%|██████████| 195/195 [00:28<00:00,  6.75it/s, loss=2.4, v_num=22, train_loss_step=2.500, val_loss=2.560, train_loss_epoch=2.430] "
     ]
    },
    {
     "name": "stderr",
     "output_type": "stream",
     "text": [
      "Metric val_loss improved by 0.006 >= min_delta = 0. New best score: 2.557\n"
     ]
    },
    {
     "name": "stdout",
     "output_type": "stream",
     "text": [
      "Epoch 6: 100%|██████████| 195/195 [00:29<00:00,  6.71it/s, loss=2.39, v_num=22, train_loss_step=2.280, val_loss=2.530, train_loss_epoch=2.390]"
     ]
    },
    {
     "name": "stderr",
     "output_type": "stream",
     "text": [
      "Metric val_loss improved by 0.031 >= min_delta = 0. New best score: 2.527\n"
     ]
    },
    {
     "name": "stdout",
     "output_type": "stream",
     "text": [
      "Epoch 11: 100%|██████████| 195/195 [00:28<00:00,  6.77it/s, loss=2.3, v_num=22, train_loss_step=2.380, val_loss=2.590, train_loss_epoch=2.280] "
     ]
    },
    {
     "name": "stderr",
     "output_type": "stream",
     "text": [
      "Monitored metric val_loss did not improve in the last 5 records. Best score: 2.527. Signaling Trainer to stop.\n"
     ]
    },
    {
     "name": "stdout",
     "output_type": "stream",
     "text": [
      "Epoch 11: 100%|██████████| 195/195 [00:28<00:00,  6.76it/s, loss=2.3, v_num=22, train_loss_step=2.380, val_loss=2.590, train_loss_epoch=2.260]\n"
     ]
    },
    {
     "name": "stderr",
     "output_type": "stream",
     "text": [
      "\u001b[32m[I 2024-04-02 22:43:00,246]\u001b[0m Trial 22 finished with value: 30.605316162109375 and parameters: {'neu': 810, 'lay': 1, 'bat': 384, 'lr': 0.0053935887501248515, 'dropout': 0.4}. Best is trial 22 with value: 30.605316162109375.\u001b[0m\n",
      "GPU available: True (cuda), used: True\n",
      "TPU available: False, using: 0 TPU cores\n",
      "IPU available: False, using: 0 IPUs\n",
      "HPU available: False, using: 0 HPUs\n",
      "`Trainer(limit_train_batches=1.0)` was configured so 100% of the batches per epoch will be used..\n",
      "`Trainer(limit_val_batches=1.0)` was configured so 100% of the batches will be used..\n",
      "LOCAL_RANK: 0 - CUDA_VISIBLE_DEVICES: [0]\n",
      "\n",
      "  | Name                   | Type                             | Params\n",
      "----------------------------------------------------------------------------\n",
      "0 | loss                   | NegativeBinomialDistributionLoss | 0     \n",
      "1 | logging_metrics        | ModuleList                       | 0     \n",
      "2 | embeddings             | MultiEmbedding                   | 927   \n",
      "3 | rnn                    | LSTM                             | 3.3 M \n",
      "4 | distribution_projector | Linear                           | 1.6 K \n",
      "----------------------------------------------------------------------------\n",
      "3.3 M     Trainable params\n",
      "0         Non-trainable params\n",
      "3.3 M     Total params\n",
      "13.203    Total estimated model params size (MB)\n"
     ]
    },
    {
     "name": "stdout",
     "output_type": "stream",
     "text": [
      "Epoch 0: 100%|██████████| 390/390 [00:31<00:00, 12.34it/s, loss=2.73, v_num=23, train_loss_step=2.700, val_loss=2.800]"
     ]
    },
    {
     "name": "stderr",
     "output_type": "stream",
     "text": [
      "Metric val_loss improved. New best score: 2.800\n"
     ]
    },
    {
     "name": "stdout",
     "output_type": "stream",
     "text": [
      "Epoch 1: 100%|██████████| 390/390 [00:30<00:00, 12.61it/s, loss=2.52, v_num=23, train_loss_step=2.640, val_loss=2.650, train_loss_epoch=5.350]"
     ]
    },
    {
     "name": "stderr",
     "output_type": "stream",
     "text": [
      "Metric val_loss improved by 0.147 >= min_delta = 0. New best score: 2.653\n"
     ]
    },
    {
     "name": "stdout",
     "output_type": "stream",
     "text": [
      "Epoch 2: 100%|██████████| 390/390 [00:30<00:00, 12.83it/s, loss=2.48, v_num=23, train_loss_step=2.640, val_loss=2.590, train_loss_epoch=2.590]"
     ]
    },
    {
     "name": "stderr",
     "output_type": "stream",
     "text": [
      "Metric val_loss improved by 0.062 >= min_delta = 0. New best score: 2.592\n"
     ]
    },
    {
     "name": "stdout",
     "output_type": "stream",
     "text": [
      "Epoch 3: 100%|██████████| 390/390 [00:37<00:00, 10.26it/s, loss=2.41, v_num=23, train_loss_step=2.240, val_loss=2.570, train_loss_epoch=2.480]"
     ]
    },
    {
     "name": "stderr",
     "output_type": "stream",
     "text": [
      "Metric val_loss improved by 0.025 >= min_delta = 0. New best score: 2.567\n"
     ]
    },
    {
     "name": "stdout",
     "output_type": "stream",
     "text": [
      "Epoch 4: 100%|██████████| 390/390 [00:31<00:00, 12.56it/s, loss=2.38, v_num=23, train_loss_step=2.500, val_loss=2.560, train_loss_epoch=2.420]"
     ]
    },
    {
     "name": "stderr",
     "output_type": "stream",
     "text": [
      "Metric val_loss improved by 0.009 >= min_delta = 0. New best score: 2.557\n"
     ]
    },
    {
     "name": "stdout",
     "output_type": "stream",
     "text": [
      "Epoch 5: 100%|██████████| 390/390 [00:31<00:00, 12.57it/s, loss=2.38, v_num=23, train_loss_step=2.320, val_loss=2.530, train_loss_epoch=2.380]"
     ]
    },
    {
     "name": "stderr",
     "output_type": "stream",
     "text": [
      "Metric val_loss improved by 0.025 >= min_delta = 0. New best score: 2.532\n"
     ]
    },
    {
     "name": "stdout",
     "output_type": "stream",
     "text": [
      "Epoch 10: 100%|██████████| 390/390 [00:30<00:00, 12.61it/s, loss=2.26, v_num=23, train_loss_step=2.180, val_loss=2.620, train_loss_epoch=2.260]"
     ]
    },
    {
     "name": "stderr",
     "output_type": "stream",
     "text": [
      "Monitored metric val_loss did not improve in the last 5 records. Best score: 2.532. Signaling Trainer to stop.\n"
     ]
    },
    {
     "name": "stdout",
     "output_type": "stream",
     "text": [
      "Epoch 10: 100%|██████████| 390/390 [00:30<00:00, 12.59it/s, loss=2.26, v_num=23, train_loss_step=2.180, val_loss=2.620, train_loss_epoch=2.230]\n"
     ]
    },
    {
     "name": "stderr",
     "output_type": "stream",
     "text": [
      "\u001b[32m[I 2024-04-02 22:48:50,670]\u001b[0m Trial 23 finished with value: 30.861804962158203 and parameters: {'neu': 810, 'lay': 1, 'bat': 192, 'lr': 0.004514665468498058, 'dropout': 0.4}. Best is trial 22 with value: 30.605316162109375.\u001b[0m\n",
      "GPU available: True (cuda), used: True\n",
      "TPU available: False, using: 0 TPU cores\n",
      "IPU available: False, using: 0 IPUs\n",
      "HPU available: False, using: 0 HPUs\n",
      "`Trainer(limit_train_batches=1.0)` was configured so 100% of the batches per epoch will be used..\n",
      "`Trainer(limit_val_batches=1.0)` was configured so 100% of the batches will be used..\n",
      "LOCAL_RANK: 0 - CUDA_VISIBLE_DEVICES: [0]\n",
      "\n",
      "  | Name                   | Type                             | Params\n",
      "----------------------------------------------------------------------------\n",
      "0 | loss                   | NegativeBinomialDistributionLoss | 0     \n",
      "1 | logging_metrics        | ModuleList                       | 0     \n",
      "2 | embeddings             | MultiEmbedding                   | 927   \n",
      "3 | rnn                    | LSTM                             | 10.7 M\n",
      "4 | distribution_projector | Linear                           | 1.4 K \n",
      "----------------------------------------------------------------------------\n",
      "10.7 M    Trainable params\n",
      "0         Non-trainable params\n",
      "10.7 M    Total params\n",
      "42.746    Total estimated model params size (MB)\n"
     ]
    },
    {
     "name": "stdout",
     "output_type": "stream",
     "text": [
      "Epoch 0: 100%|██████████| 81/81 [00:27<00:00,  2.92it/s, loss=4.28, v_num=24, train_loss_step=4.050, val_loss=4.230]"
     ]
    },
    {
     "name": "stderr",
     "output_type": "stream",
     "text": [
      "Metric val_loss improved. New best score: 4.229\n"
     ]
    },
    {
     "name": "stdout",
     "output_type": "stream",
     "text": [
      "Epoch 1: 100%|██████████| 81/81 [00:27<00:00,  2.93it/s, loss=3.56, v_num=24, train_loss_step=3.470, val_loss=3.550, train_loss_epoch=13.30]"
     ]
    },
    {
     "name": "stderr",
     "output_type": "stream",
     "text": [
      "Metric val_loss improved by 0.678 >= min_delta = 0. New best score: 3.551\n"
     ]
    },
    {
     "name": "stdout",
     "output_type": "stream",
     "text": [
      "Epoch 2: 100%|██████████| 81/81 [00:27<00:00,  2.93it/s, loss=2.95, v_num=24, train_loss_step=2.940, val_loss=3.030, train_loss_epoch=3.740]"
     ]
    },
    {
     "name": "stderr",
     "output_type": "stream",
     "text": [
      "Metric val_loss improved by 0.519 >= min_delta = 0. New best score: 3.032\n"
     ]
    },
    {
     "name": "stdout",
     "output_type": "stream",
     "text": [
      "Epoch 3: 100%|██████████| 81/81 [00:27<00:00,  2.94it/s, loss=2.77, v_num=24, train_loss_step=2.760, val_loss=2.870, train_loss_epoch=3.070]"
     ]
    },
    {
     "name": "stderr",
     "output_type": "stream",
     "text": [
      "Metric val_loss improved by 0.162 >= min_delta = 0. New best score: 2.870\n"
     ]
    },
    {
     "name": "stdout",
     "output_type": "stream",
     "text": [
      "Epoch 4: 100%|██████████| 81/81 [00:27<00:00,  2.90it/s, loss=2.69, v_num=24, train_loss_step=2.670, val_loss=2.800, train_loss_epoch=2.810]"
     ]
    },
    {
     "name": "stderr",
     "output_type": "stream",
     "text": [
      "Metric val_loss improved by 0.067 >= min_delta = 0. New best score: 2.803\n"
     ]
    },
    {
     "name": "stdout",
     "output_type": "stream",
     "text": [
      "Epoch 5: 100%|██████████| 81/81 [00:27<00:00,  2.94it/s, loss=2.61, v_num=24, train_loss_step=2.620, val_loss=2.760, train_loss_epoch=2.710]"
     ]
    },
    {
     "name": "stderr",
     "output_type": "stream",
     "text": [
      "Metric val_loss improved by 0.047 >= min_delta = 0. New best score: 2.755\n"
     ]
    },
    {
     "name": "stdout",
     "output_type": "stream",
     "text": [
      "Epoch 6: 100%|██████████| 81/81 [00:35<00:00,  2.31it/s, loss=2.6, v_num=24, train_loss_step=2.590, val_loss=2.710, train_loss_epoch=2.660] "
     ]
    },
    {
     "name": "stderr",
     "output_type": "stream",
     "text": [
      "Metric val_loss improved by 0.046 >= min_delta = 0. New best score: 2.709\n"
     ]
    },
    {
     "name": "stdout",
     "output_type": "stream",
     "text": [
      "Epoch 7: 100%|██████████| 81/81 [00:27<00:00,  2.94it/s, loss=2.56, v_num=24, train_loss_step=2.570, val_loss=2.690, train_loss_epoch=2.610]"
     ]
    },
    {
     "name": "stderr",
     "output_type": "stream",
     "text": [
      "Metric val_loss improved by 0.016 >= min_delta = 0. New best score: 2.693\n"
     ]
    },
    {
     "name": "stdout",
     "output_type": "stream",
     "text": [
      "Epoch 8: 100%|██████████| 81/81 [00:27<00:00,  2.94it/s, loss=2.53, v_num=24, train_loss_step=2.560, val_loss=2.660, train_loss_epoch=2.580]"
     ]
    },
    {
     "name": "stderr",
     "output_type": "stream",
     "text": [
      "Metric val_loss improved by 0.030 >= min_delta = 0. New best score: 2.663\n"
     ]
    },
    {
     "name": "stdout",
     "output_type": "stream",
     "text": [
      "Epoch 9: 100%|██████████| 81/81 [00:27<00:00,  2.93it/s, loss=2.52, v_num=24, train_loss_step=2.540, val_loss=2.660, train_loss_epoch=2.540]"
     ]
    },
    {
     "name": "stderr",
     "output_type": "stream",
     "text": [
      "Metric val_loss improved by 0.005 >= min_delta = 0. New best score: 2.658\n"
     ]
    },
    {
     "name": "stdout",
     "output_type": "stream",
     "text": [
      "Epoch 10: 100%|██████████| 81/81 [00:27<00:00,  2.95it/s, loss=2.5, v_num=24, train_loss_step=2.530, val_loss=2.640, train_loss_epoch=2.520] "
     ]
    },
    {
     "name": "stderr",
     "output_type": "stream",
     "text": [
      "Metric val_loss improved by 0.022 >= min_delta = 0. New best score: 2.636\n"
     ]
    },
    {
     "name": "stdout",
     "output_type": "stream",
     "text": [
      "Epoch 11: 100%|██████████| 81/81 [00:27<00:00,  2.93it/s, loss=2.45, v_num=24, train_loss_step=2.530, val_loss=2.630, train_loss_epoch=2.500]"
     ]
    },
    {
     "name": "stderr",
     "output_type": "stream",
     "text": [
      "Metric val_loss improved by 0.005 >= min_delta = 0. New best score: 2.631\n"
     ]
    },
    {
     "name": "stdout",
     "output_type": "stream",
     "text": [
      "Epoch 12: 100%|██████████| 81/81 [00:27<00:00,  2.94it/s, loss=2.43, v_num=24, train_loss_step=2.400, val_loss=2.610, train_loss_epoch=2.470]"
     ]
    },
    {
     "name": "stderr",
     "output_type": "stream",
     "text": [
      "Metric val_loss improved by 0.020 >= min_delta = 0. New best score: 2.611\n"
     ]
    },
    {
     "name": "stdout",
     "output_type": "stream",
     "text": [
      "Epoch 14: 100%|██████████| 81/81 [00:27<00:00,  2.94it/s, loss=2.44, v_num=24, train_loss_step=2.490, val_loss=2.580, train_loss_epoch=2.440]"
     ]
    },
    {
     "name": "stderr",
     "output_type": "stream",
     "text": [
      "Metric val_loss improved by 0.035 >= min_delta = 0. New best score: 2.576\n"
     ]
    },
    {
     "name": "stdout",
     "output_type": "stream",
     "text": [
      "Epoch 19: 100%|██████████| 81/81 [00:27<00:00,  2.91it/s, loss=2.39, v_num=24, train_loss_step=2.440, val_loss=2.590, train_loss_epoch=2.360]"
     ]
    },
    {
     "name": "stderr",
     "output_type": "stream",
     "text": [
      "Monitored metric val_loss did not improve in the last 5 records. Best score: 2.576. Signaling Trainer to stop.\n"
     ]
    },
    {
     "name": "stdout",
     "output_type": "stream",
     "text": [
      "Epoch 19: 100%|██████████| 81/81 [00:27<00:00,  2.89it/s, loss=2.39, v_num=24, train_loss_step=2.440, val_loss=2.590, train_loss_epoch=2.370]\n"
     ]
    },
    {
     "name": "stderr",
     "output_type": "stream",
     "text": [
      "\u001b[32m[I 2024-04-02 22:58:25,612]\u001b[0m Trial 24 finished with value: 31.007003784179688 and parameters: {'neu': 710, 'lay': 3, 'bat': 928, 'lr': 0.005801143148386845, 'dropout': 0.6000000000000001}. Best is trial 22 with value: 30.605316162109375.\u001b[0m\n",
      "GPU available: True (cuda), used: True\n",
      "TPU available: False, using: 0 TPU cores\n",
      "IPU available: False, using: 0 IPUs\n",
      "HPU available: False, using: 0 HPUs\n",
      "`Trainer(limit_train_batches=1.0)` was configured so 100% of the batches per epoch will be used..\n",
      "`Trainer(limit_val_batches=1.0)` was configured so 100% of the batches will be used..\n",
      "LOCAL_RANK: 0 - CUDA_VISIBLE_DEVICES: [0]\n",
      "\n",
      "  | Name                   | Type                             | Params\n",
      "----------------------------------------------------------------------------\n",
      "0 | loss                   | NegativeBinomialDistributionLoss | 0     \n",
      "1 | logging_metrics        | ModuleList                       | 0     \n",
      "2 | embeddings             | MultiEmbedding                   | 927   \n",
      "3 | rnn                    | LSTM                             | 2.0 M \n",
      "4 | distribution_projector | Linear                           | 1.2 K \n",
      "----------------------------------------------------------------------------\n",
      "2.0 M     Trainable params\n",
      "0         Non-trainable params\n",
      "2.0 M     Total params\n",
      "7.992     Total estimated model params size (MB)\n"
     ]
    },
    {
     "name": "stdout",
     "output_type": "stream",
     "text": [
      "Epoch 0: 100%|██████████| 111/111 [00:27<00:00,  4.03it/s, loss=5.94, v_num=25, train_loss_step=5.090, val_loss=5.090]"
     ]
    },
    {
     "name": "stderr",
     "output_type": "stream",
     "text": [
      "Metric val_loss improved. New best score: 5.086\n"
     ]
    },
    {
     "name": "stdout",
     "output_type": "stream",
     "text": [
      "Epoch 1: 100%|██████████| 111/111 [00:27<00:00,  4.03it/s, loss=3.57, v_num=25, train_loss_step=3.470, val_loss=3.630, train_loss_epoch=16.10]"
     ]
    },
    {
     "name": "stderr",
     "output_type": "stream",
     "text": [
      "Metric val_loss improved by 1.456 >= min_delta = 0. New best score: 3.631\n"
     ]
    },
    {
     "name": "stdout",
     "output_type": "stream",
     "text": [
      "Epoch 2: 100%|██████████| 111/111 [00:27<00:00,  4.02it/s, loss=3.03, v_num=25, train_loss_step=3.050, val_loss=3.130, train_loss_epoch=3.950]"
     ]
    },
    {
     "name": "stderr",
     "output_type": "stream",
     "text": [
      "Metric val_loss improved by 0.503 >= min_delta = 0. New best score: 3.128\n"
     ]
    },
    {
     "name": "stdout",
     "output_type": "stream",
     "text": [
      "Epoch 3: 100%|██████████| 111/111 [00:27<00:00,  4.02it/s, loss=2.79, v_num=25, train_loss_step=2.640, val_loss=2.940, train_loss_epoch=3.160]"
     ]
    },
    {
     "name": "stderr",
     "output_type": "stream",
     "text": [
      "Metric val_loss improved by 0.187 >= min_delta = 0. New best score: 2.940\n"
     ]
    },
    {
     "name": "stdout",
     "output_type": "stream",
     "text": [
      "Epoch 4: 100%|██████████| 111/111 [00:27<00:00,  4.01it/s, loss=2.71, v_num=25, train_loss_step=2.720, val_loss=2.850, train_loss_epoch=2.870]"
     ]
    },
    {
     "name": "stderr",
     "output_type": "stream",
     "text": [
      "Metric val_loss improved by 0.087 >= min_delta = 0. New best score: 2.853\n"
     ]
    },
    {
     "name": "stdout",
     "output_type": "stream",
     "text": [
      "Epoch 5: 100%|██████████| 111/111 [00:35<00:00,  3.15it/s, loss=2.62, v_num=25, train_loss_step=2.690, val_loss=2.780, train_loss_epoch=2.730]"
     ]
    },
    {
     "name": "stderr",
     "output_type": "stream",
     "text": [
      "Metric val_loss improved by 0.069 >= min_delta = 0. New best score: 2.784\n"
     ]
    },
    {
     "name": "stdout",
     "output_type": "stream",
     "text": [
      "Epoch 6: 100%|██████████| 111/111 [00:27<00:00,  3.99it/s, loss=2.57, v_num=25, train_loss_step=2.700, val_loss=2.760, train_loss_epoch=2.650]"
     ]
    },
    {
     "name": "stderr",
     "output_type": "stream",
     "text": [
      "Metric val_loss improved by 0.026 >= min_delta = 0. New best score: 2.758\n"
     ]
    },
    {
     "name": "stdout",
     "output_type": "stream",
     "text": [
      "Epoch 7: 100%|██████████| 111/111 [00:27<00:00,  3.98it/s, loss=2.54, v_num=25, train_loss_step=2.460, val_loss=2.720, train_loss_epoch=2.590]"
     ]
    },
    {
     "name": "stderr",
     "output_type": "stream",
     "text": [
      "Metric val_loss improved by 0.035 >= min_delta = 0. New best score: 2.724\n"
     ]
    },
    {
     "name": "stdout",
     "output_type": "stream",
     "text": [
      "Epoch 8: 100%|██████████| 111/111 [00:27<00:00,  4.01it/s, loss=2.52, v_num=25, train_loss_step=2.490, val_loss=2.720, train_loss_epoch=2.560]"
     ]
    },
    {
     "name": "stderr",
     "output_type": "stream",
     "text": [
      "Metric val_loss improved by 0.005 >= min_delta = 0. New best score: 2.719\n"
     ]
    },
    {
     "name": "stdout",
     "output_type": "stream",
     "text": [
      "Epoch 9: 100%|██████████| 111/111 [00:27<00:00,  4.00it/s, loss=2.5, v_num=25, train_loss_step=2.480, val_loss=2.690, train_loss_epoch=2.530] "
     ]
    },
    {
     "name": "stderr",
     "output_type": "stream",
     "text": [
      "Metric val_loss improved by 0.034 >= min_delta = 0. New best score: 2.685\n"
     ]
    },
    {
     "name": "stdout",
     "output_type": "stream",
     "text": [
      "Epoch 10: 100%|██████████| 111/111 [00:27<00:00,  4.01it/s, loss=2.48, v_num=25, train_loss_step=2.440, val_loss=2.670, train_loss_epoch=2.500]"
     ]
    },
    {
     "name": "stderr",
     "output_type": "stream",
     "text": [
      "Metric val_loss improved by 0.012 >= min_delta = 0. New best score: 2.673\n"
     ]
    },
    {
     "name": "stdout",
     "output_type": "stream",
     "text": [
      "Epoch 11: 100%|██████████| 111/111 [00:27<00:00,  4.01it/s, loss=2.44, v_num=25, train_loss_step=2.450, val_loss=2.660, train_loss_epoch=2.470]"
     ]
    },
    {
     "name": "stderr",
     "output_type": "stream",
     "text": [
      "Metric val_loss improved by 0.011 >= min_delta = 0. New best score: 2.663\n"
     ]
    },
    {
     "name": "stdout",
     "output_type": "stream",
     "text": [
      "Epoch 13: 100%|██████████| 111/111 [00:27<00:00,  4.01it/s, loss=2.41, v_num=25, train_loss_step=2.380, val_loss=2.650, train_loss_epoch=2.430]"
     ]
    },
    {
     "name": "stderr",
     "output_type": "stream",
     "text": [
      "Metric val_loss improved by 0.009 >= min_delta = 0. New best score: 2.654\n"
     ]
    },
    {
     "name": "stdout",
     "output_type": "stream",
     "text": [
      "Epoch 15: 100%|██████████| 111/111 [00:27<00:00,  4.02it/s, loss=2.39, v_num=25, train_loss_step=2.310, val_loss=2.650, train_loss_epoch=2.390]"
     ]
    },
    {
     "name": "stderr",
     "output_type": "stream",
     "text": [
      "Metric val_loss improved by 0.005 >= min_delta = 0. New best score: 2.649\n"
     ]
    },
    {
     "name": "stdout",
     "output_type": "stream",
     "text": [
      "Epoch 16: 100%|██████████| 111/111 [00:27<00:00,  4.00it/s, loss=2.36, v_num=25, train_loss_step=2.320, val_loss=2.630, train_loss_epoch=2.370]"
     ]
    },
    {
     "name": "stderr",
     "output_type": "stream",
     "text": [
      "Metric val_loss improved by 0.017 >= min_delta = 0. New best score: 2.632\n"
     ]
    },
    {
     "name": "stdout",
     "output_type": "stream",
     "text": [
      "Epoch 21: 100%|██████████| 111/111 [00:27<00:00,  4.01it/s, loss=2.31, v_num=25, train_loss_step=2.250, val_loss=2.780, train_loss_epoch=2.290]"
     ]
    },
    {
     "name": "stderr",
     "output_type": "stream",
     "text": [
      "Monitored metric val_loss did not improve in the last 5 records. Best score: 2.632. Signaling Trainer to stop.\n"
     ]
    },
    {
     "name": "stdout",
     "output_type": "stream",
     "text": [
      "Epoch 21: 100%|██████████| 111/111 [00:27<00:00,  4.01it/s, loss=2.31, v_num=25, train_loss_step=2.250, val_loss=2.780, train_loss_epoch=2.270]"
     ]
    },
    {
     "name": "stderr",
     "output_type": "stream",
     "text": [
      "\u001b[32m[I 2024-04-02 23:08:54,603]\u001b[0m Trial 25 pruned. \u001b[0m\n"
     ]
    },
    {
     "name": "stdout",
     "output_type": "stream",
     "text": [
      "\n"
     ]
    },
    {
     "name": "stderr",
     "output_type": "stream",
     "text": [
      "GPU available: True (cuda), used: True\n",
      "TPU available: False, using: 0 TPU cores\n",
      "IPU available: False, using: 0 IPUs\n",
      "HPU available: False, using: 0 HPUs\n",
      "`Trainer(limit_train_batches=1.0)` was configured so 100% of the batches per epoch will be used..\n",
      "`Trainer(limit_val_batches=1.0)` was configured so 100% of the batches will be used..\n",
      "LOCAL_RANK: 0 - CUDA_VISIBLE_DEVICES: [0]\n",
      "\n",
      "  | Name                   | Type                             | Params\n",
      "----------------------------------------------------------------------------\n",
      "0 | loss                   | NegativeBinomialDistributionLoss | 0     \n",
      "1 | logging_metrics        | ModuleList                       | 0     \n",
      "2 | embeddings             | MultiEmbedding                   | 927   \n",
      "3 | rnn                    | LSTM                             | 3.3 M \n",
      "4 | distribution_projector | Linear                           | 1.6 K \n",
      "----------------------------------------------------------------------------\n",
      "3.3 M     Trainable params\n",
      "0         Non-trainable params\n",
      "3.3 M     Total params\n",
      "13.203    Total estimated model params size (MB)\n"
     ]
    },
    {
     "name": "stdout",
     "output_type": "stream",
     "text": [
      "Epoch 0: 100%|██████████| 181/181 [00:28<00:00,  6.37it/s, loss=2.61, v_num=26, train_loss_step=2.600, val_loss=2.770]"
     ]
    },
    {
     "name": "stderr",
     "output_type": "stream",
     "text": [
      "Metric val_loss improved. New best score: 2.766\n"
     ]
    },
    {
     "name": "stdout",
     "output_type": "stream",
     "text": [
      "Epoch 1: 100%|██████████| 181/181 [00:28<00:00,  6.32it/s, loss=2.48, v_num=26, train_loss_step=2.510, val_loss=2.610, train_loss_epoch=4.610]"
     ]
    },
    {
     "name": "stderr",
     "output_type": "stream",
     "text": [
      "Metric val_loss improved by 0.152 >= min_delta = 0. New best score: 2.615\n"
     ]
    },
    {
     "name": "stdout",
     "output_type": "stream",
     "text": [
      "Epoch 2: 100%|██████████| 181/181 [00:28<00:00,  6.37it/s, loss=2.42, v_num=26, train_loss_step=2.340, val_loss=2.540, train_loss_epoch=2.530]"
     ]
    },
    {
     "name": "stderr",
     "output_type": "stream",
     "text": [
      "Metric val_loss improved by 0.076 >= min_delta = 0. New best score: 2.539\n"
     ]
    },
    {
     "name": "stdout",
     "output_type": "stream",
     "text": [
      "Epoch 7: 100%|██████████| 181/181 [00:36<00:00,  5.02it/s, loss=2.32, v_num=26, train_loss_step=2.290, val_loss=2.630, train_loss_epoch=2.340]"
     ]
    },
    {
     "name": "stderr",
     "output_type": "stream",
     "text": [
      "Monitored metric val_loss did not improve in the last 5 records. Best score: 2.539. Signaling Trainer to stop.\n"
     ]
    },
    {
     "name": "stdout",
     "output_type": "stream",
     "text": [
      "Epoch 7: 100%|██████████| 181/181 [00:36<00:00,  5.01it/s, loss=2.32, v_num=26, train_loss_step=2.290, val_loss=2.630, train_loss_epoch=2.320]"
     ]
    },
    {
     "name": "stderr",
     "output_type": "stream",
     "text": [
      "\u001b[32m[I 2024-04-02 23:12:53,137]\u001b[0m Trial 26 finished with value: 31.191368103027344 and parameters: {'neu': 810, 'lay': 1, 'bat': 416, 'lr': 0.026448996886096157, 'dropout': 0.8}. Best is trial 22 with value: 30.605316162109375.\u001b[0m\n"
     ]
    },
    {
     "name": "stdout",
     "output_type": "stream",
     "text": [
      "\n"
     ]
    },
    {
     "name": "stderr",
     "output_type": "stream",
     "text": [
      "GPU available: True (cuda), used: True\n",
      "TPU available: False, using: 0 TPU cores\n",
      "IPU available: False, using: 0 IPUs\n",
      "HPU available: False, using: 0 HPUs\n",
      "`Trainer(limit_train_batches=1.0)` was configured so 100% of the batches per epoch will be used..\n",
      "`Trainer(limit_val_batches=1.0)` was configured so 100% of the batches will be used..\n",
      "LOCAL_RANK: 0 - CUDA_VISIBLE_DEVICES: [0]\n",
      "\n",
      "  | Name                   | Type                             | Params\n",
      "----------------------------------------------------------------------------\n",
      "0 | loss                   | NegativeBinomialDistributionLoss | 0     \n",
      "1 | logging_metrics        | ModuleList                       | 0     \n",
      "2 | embeddings             | MultiEmbedding                   | 927   \n",
      "3 | rnn                    | LSTM                             | 5.6 M \n",
      "4 | distribution_projector | Linear                           | 1.0 K \n",
      "----------------------------------------------------------------------------\n",
      "5.6 M     Trainable params\n",
      "0         Non-trainable params\n",
      "5.6 M     Total params\n",
      "22.546    Total estimated model params size (MB)\n"
     ]
    },
    {
     "name": "stdout",
     "output_type": "stream",
     "text": [
      "Epoch 0: 100%|██████████| 2341/2341 [00:53<00:00, 43.39it/s, loss=2.7, v_num=27, train_loss_step=2.540, val_loss=2.680]"
     ]
    },
    {
     "name": "stderr",
     "output_type": "stream",
     "text": [
      "Metric val_loss improved. New best score: 2.677\n"
     ]
    },
    {
     "name": "stdout",
     "output_type": "stream",
     "text": [
      "Epoch 2: 100%|██████████| 2341/2341 [00:55<00:00, 42.31it/s, loss=2.59, v_num=27, train_loss_step=2.510, val_loss=2.620, train_loss_epoch=2.550]"
     ]
    },
    {
     "name": "stderr",
     "output_type": "stream",
     "text": [
      "Metric val_loss improved by 0.058 >= min_delta = 0. New best score: 2.618\n"
     ]
    },
    {
     "name": "stdout",
     "output_type": "stream",
     "text": [
      "Epoch 3: 100%|██████████| 2341/2341 [00:55<00:00, 42.50it/s, loss=2.45, v_num=27, train_loss_step=2.510, val_loss=2.600, train_loss_epoch=2.500]"
     ]
    },
    {
     "name": "stderr",
     "output_type": "stream",
     "text": [
      "Metric val_loss improved by 0.017 >= min_delta = 0. New best score: 2.602\n"
     ]
    },
    {
     "name": "stdout",
     "output_type": "stream",
     "text": [
      "Epoch 5: 100%|██████████| 2341/2341 [00:54<00:00, 42.91it/s, loss=2.55, v_num=27, train_loss_step=2.490, val_loss=2.590, train_loss_epoch=2.440]"
     ]
    },
    {
     "name": "stderr",
     "output_type": "stream",
     "text": [
      "Metric val_loss improved by 0.008 >= min_delta = 0. New best score: 2.594\n"
     ]
    },
    {
     "name": "stdout",
     "output_type": "stream",
     "text": [
      "Epoch 6: 100%|██████████| 2341/2341 [00:53<00:00, 43.95it/s, loss=2.41, v_num=27, train_loss_step=2.430, val_loss=2.570, train_loss_epoch=2.430]"
     ]
    },
    {
     "name": "stderr",
     "output_type": "stream",
     "text": [
      "Metric val_loss improved by 0.020 >= min_delta = 0. New best score: 2.574\n"
     ]
    },
    {
     "name": "stdout",
     "output_type": "stream",
     "text": [
      "Epoch 11: 100%|██████████| 2341/2341 [00:52<00:00, 44.32it/s, loss=2.4, v_num=27, train_loss_step=2.560, val_loss=2.610, train_loss_epoch=2.370] "
     ]
    },
    {
     "name": "stderr",
     "output_type": "stream",
     "text": [
      "Monitored metric val_loss did not improve in the last 5 records. Best score: 2.574. Signaling Trainer to stop.\n"
     ]
    },
    {
     "name": "stdout",
     "output_type": "stream",
     "text": [
      "Epoch 11: 100%|██████████| 2341/2341 [00:53<00:00, 43.97it/s, loss=2.4, v_num=27, train_loss_step=2.560, val_loss=2.610, train_loss_epoch=2.370]"
     ]
    },
    {
     "name": "stderr",
     "output_type": "stream",
     "text": [
      "\u001b[32m[I 2024-04-02 23:23:43,879]\u001b[0m Trial 27 finished with value: 31.03023910522461 and parameters: {'neu': 510, 'lay': 3, 'bat': 32, 'lr': 0.007275057618004127, 'dropout': 0.4}. Best is trial 22 with value: 30.605316162109375.\u001b[0m\n"
     ]
    },
    {
     "name": "stdout",
     "output_type": "stream",
     "text": [
      "\n"
     ]
    },
    {
     "name": "stderr",
     "output_type": "stream",
     "text": [
      "GPU available: True (cuda), used: True\n",
      "TPU available: False, using: 0 TPU cores\n",
      "IPU available: False, using: 0 IPUs\n",
      "HPU available: False, using: 0 HPUs\n",
      "`Trainer(limit_train_batches=1.0)` was configured so 100% of the batches per epoch will be used..\n",
      "`Trainer(limit_val_batches=1.0)` was configured so 100% of the batches will be used..\n",
      "LOCAL_RANK: 0 - CUDA_VISIBLE_DEVICES: [0]\n",
      "\n",
      "  | Name                   | Type                             | Params\n",
      "----------------------------------------------------------------------------\n",
      "0 | loss                   | NegativeBinomialDistributionLoss | 0     \n",
      "1 | logging_metrics        | ModuleList                       | 0     \n",
      "2 | embeddings             | MultiEmbedding                   | 927   \n",
      "3 | rnn                    | LSTM                             | 2.6 M \n",
      "4 | distribution_projector | Linear                           | 1.4 K \n",
      "----------------------------------------------------------------------------\n",
      "2.6 M     Trainable params\n",
      "0         Non-trainable params\n",
      "2.6 M     Total params\n",
      "10.438    Total estimated model params size (MB)\n"
     ]
    },
    {
     "name": "stdout",
     "output_type": "stream",
     "text": [
      "Epoch 0: 100%|██████████| 390/390 [00:30<00:00, 12.64it/s, loss=2.72, v_num=28, train_loss_step=2.510, val_loss=2.830]"
     ]
    },
    {
     "name": "stderr",
     "output_type": "stream",
     "text": [
      "Metric val_loss improved. New best score: 2.825\n"
     ]
    },
    {
     "name": "stdout",
     "output_type": "stream",
     "text": [
      "Epoch 1: 100%|██████████| 390/390 [00:30<00:00, 12.83it/s, loss=2.49, v_num=28, train_loss_step=2.400, val_loss=2.670, train_loss_epoch=5.410]"
     ]
    },
    {
     "name": "stderr",
     "output_type": "stream",
     "text": [
      "Metric val_loss improved by 0.155 >= min_delta = 0. New best score: 2.670\n"
     ]
    },
    {
     "name": "stdout",
     "output_type": "stream",
     "text": [
      "Epoch 2: 100%|██████████| 390/390 [00:30<00:00, 12.81it/s, loss=2.5, v_num=28, train_loss_step=2.640, val_loss=2.600, train_loss_epoch=2.610] "
     ]
    },
    {
     "name": "stderr",
     "output_type": "stream",
     "text": [
      "Metric val_loss improved by 0.069 >= min_delta = 0. New best score: 2.602\n"
     ]
    },
    {
     "name": "stdout",
     "output_type": "stream",
     "text": [
      "Epoch 3: 100%|██████████| 390/390 [00:40<00:00,  9.73it/s, loss=2.34, v_num=28, train_loss_step=2.200, val_loss=2.560, train_loss_epoch=2.490]"
     ]
    },
    {
     "name": "stderr",
     "output_type": "stream",
     "text": [
      "Metric val_loss improved by 0.039 >= min_delta = 0. New best score: 2.563\n"
     ]
    },
    {
     "name": "stdout",
     "output_type": "stream",
     "text": [
      "Epoch 5: 100%|██████████| 390/390 [00:30<00:00, 12.72it/s, loss=2.31, v_num=28, train_loss_step=2.330, val_loss=2.560, train_loss_epoch=2.390]"
     ]
    },
    {
     "name": "stderr",
     "output_type": "stream",
     "text": [
      "Metric val_loss improved by 0.008 >= min_delta = 0. New best score: 2.555\n"
     ]
    },
    {
     "name": "stdout",
     "output_type": "stream",
     "text": [
      "Epoch 10: 100%|██████████| 390/390 [00:30<00:00, 12.75it/s, loss=2.25, v_num=28, train_loss_step=2.130, val_loss=2.610, train_loss_epoch=2.270]"
     ]
    },
    {
     "name": "stderr",
     "output_type": "stream",
     "text": [
      "Monitored metric val_loss did not improve in the last 5 records. Best score: 2.555. Signaling Trainer to stop.\n"
     ]
    },
    {
     "name": "stdout",
     "output_type": "stream",
     "text": [
      "Epoch 10: 100%|██████████| 390/390 [00:30<00:00, 12.72it/s, loss=2.25, v_num=28, train_loss_step=2.130, val_loss=2.610, train_loss_epoch=2.240]"
     ]
    },
    {
     "name": "stderr",
     "output_type": "stream",
     "text": [
      "\u001b[32m[I 2024-04-02 23:29:36,128]\u001b[0m Trial 28 pruned. \u001b[0m\n"
     ]
    },
    {
     "name": "stdout",
     "output_type": "stream",
     "text": [
      "\n"
     ]
    },
    {
     "name": "stderr",
     "output_type": "stream",
     "text": [
      "GPU available: True (cuda), used: True\n",
      "TPU available: False, using: 0 TPU cores\n",
      "IPU available: False, using: 0 IPUs\n",
      "HPU available: False, using: 0 HPUs\n",
      "`Trainer(limit_train_batches=1.0)` was configured so 100% of the batches per epoch will be used..\n",
      "`Trainer(limit_val_batches=1.0)` was configured so 100% of the batches will be used..\n",
      "LOCAL_RANK: 0 - CUDA_VISIBLE_DEVICES: [0]\n",
      "\n",
      "  | Name                   | Type                             | Params\n",
      "----------------------------------------------------------------------------\n",
      "0 | loss                   | NegativeBinomialDistributionLoss | 0     \n",
      "1 | logging_metrics        | ModuleList                       | 0     \n",
      "2 | embeddings             | MultiEmbedding                   | 927   \n",
      "3 | rnn                    | LSTM                             | 13.8 M\n",
      "4 | distribution_projector | Linear                           | 1.6 K \n",
      "----------------------------------------------------------------------------\n",
      "13.8 M    Trainable params\n",
      "0         Non-trainable params\n",
      "13.8 M    Total params\n",
      "55.246    Total estimated model params size (MB)\n"
     ]
    },
    {
     "name": "stdout",
     "output_type": "stream",
     "text": [
      "Epoch 0: 100%|██████████| 81/81 [00:27<00:00,  2.91it/s, loss=5.56, v_num=29, train_loss_step=4.240, val_loss=4.410]"
     ]
    },
    {
     "name": "stderr",
     "output_type": "stream",
     "text": [
      "Metric val_loss improved. New best score: 4.415\n"
     ]
    },
    {
     "name": "stdout",
     "output_type": "stream",
     "text": [
      "Epoch 1: 100%|██████████| 81/81 [00:27<00:00,  2.90it/s, loss=3.74, v_num=29, train_loss_step=3.650, val_loss=3.780, train_loss_epoch=16.10]"
     ]
    },
    {
     "name": "stderr",
     "output_type": "stream",
     "text": [
      "Metric val_loss improved by 0.633 >= min_delta = 0. New best score: 3.781\n"
     ]
    },
    {
     "name": "stdout",
     "output_type": "stream",
     "text": [
      "Epoch 2: 100%|██████████| 81/81 [00:28<00:00,  2.89it/s, loss=3.11, v_num=29, train_loss_step=3.020, val_loss=3.210, train_loss_epoch=3.910]"
     ]
    },
    {
     "name": "stderr",
     "output_type": "stream",
     "text": [
      "Metric val_loss improved by 0.568 >= min_delta = 0. New best score: 3.214\n"
     ]
    },
    {
     "name": "stdout",
     "output_type": "stream",
     "text": [
      "Epoch 3: 100%|██████████| 81/81 [00:28<00:00,  2.89it/s, loss=2.88, v_num=29, train_loss_step=2.860, val_loss=3.000, train_loss_epoch=3.340]"
     ]
    },
    {
     "name": "stderr",
     "output_type": "stream",
     "text": [
      "Metric val_loss improved by 0.215 >= min_delta = 0. New best score: 2.999\n"
     ]
    },
    {
     "name": "stdout",
     "output_type": "stream",
     "text": [
      "Epoch 4: 100%|██████████| 81/81 [00:27<00:00,  2.89it/s, loss=2.79, v_num=29, train_loss_step=2.750, val_loss=2.900, train_loss_epoch=2.940]"
     ]
    },
    {
     "name": "stderr",
     "output_type": "stream",
     "text": [
      "Metric val_loss improved by 0.096 >= min_delta = 0. New best score: 2.903\n"
     ]
    },
    {
     "name": "stdout",
     "output_type": "stream",
     "text": [
      "Epoch 5: 100%|██████████| 81/81 [00:28<00:00,  2.89it/s, loss=2.74, v_num=29, train_loss_step=2.750, val_loss=2.840, train_loss_epoch=2.810]"
     ]
    },
    {
     "name": "stderr",
     "output_type": "stream",
     "text": [
      "Metric val_loss improved by 0.058 >= min_delta = 0. New best score: 2.845\n"
     ]
    },
    {
     "name": "stdout",
     "output_type": "stream",
     "text": [
      "Epoch 6: 100%|██████████| 81/81 [00:27<00:00,  2.90it/s, loss=2.67, v_num=29, train_loss_step=2.600, val_loss=2.800, train_loss_epoch=2.730]"
     ]
    },
    {
     "name": "stderr",
     "output_type": "stream",
     "text": [
      "Metric val_loss improved by 0.049 >= min_delta = 0. New best score: 2.796\n"
     ]
    },
    {
     "name": "stdout",
     "output_type": "stream",
     "text": [
      "Epoch 7: 100%|██████████| 81/81 [00:27<00:00,  2.89it/s, loss=2.62, v_num=29, train_loss_step=2.530, val_loss=2.760, train_loss_epoch=2.680]"
     ]
    },
    {
     "name": "stderr",
     "output_type": "stream",
     "text": [
      "Metric val_loss improved by 0.039 >= min_delta = 0. New best score: 2.757\n"
     ]
    },
    {
     "name": "stdout",
     "output_type": "stream",
     "text": [
      "Epoch 8: 100%|██████████| 81/81 [00:37<00:00,  2.17it/s, loss=2.59, v_num=29, train_loss_step=2.600, val_loss=2.710, train_loss_epoch=2.630]"
     ]
    },
    {
     "name": "stderr",
     "output_type": "stream",
     "text": [
      "Metric val_loss improved by 0.043 >= min_delta = 0. New best score: 2.714\n"
     ]
    },
    {
     "name": "stdout",
     "output_type": "stream",
     "text": [
      "Epoch 9: 100%|██████████| 81/81 [00:27<00:00,  2.90it/s, loss=2.59, v_num=29, train_loss_step=2.580, val_loss=2.700, train_loss_epoch=2.590]"
     ]
    },
    {
     "name": "stderr",
     "output_type": "stream",
     "text": [
      "Metric val_loss improved by 0.013 >= min_delta = 0. New best score: 2.701\n"
     ]
    },
    {
     "name": "stdout",
     "output_type": "stream",
     "text": [
      "Epoch 10: 100%|██████████| 81/81 [00:28<00:00,  2.89it/s, loss=2.55, v_num=29, train_loss_step=2.500, val_loss=2.680, train_loss_epoch=2.570]"
     ]
    },
    {
     "name": "stderr",
     "output_type": "stream",
     "text": [
      "Metric val_loss improved by 0.020 >= min_delta = 0. New best score: 2.680\n"
     ]
    },
    {
     "name": "stdout",
     "output_type": "stream",
     "text": [
      "Epoch 11: 100%|██████████| 81/81 [00:27<00:00,  2.91it/s, loss=2.5, v_num=29, train_loss_step=2.480, val_loss=2.670, train_loss_epoch=2.530] "
     ]
    },
    {
     "name": "stderr",
     "output_type": "stream",
     "text": [
      "Metric val_loss improved by 0.015 >= min_delta = 0. New best score: 2.665\n"
     ]
    },
    {
     "name": "stdout",
     "output_type": "stream",
     "text": [
      "Epoch 12: 100%|██████████| 81/81 [00:28<00:00,  2.89it/s, loss=2.48, v_num=29, train_loss_step=2.490, val_loss=2.640, train_loss_epoch=2.520]"
     ]
    },
    {
     "name": "stderr",
     "output_type": "stream",
     "text": [
      "Metric val_loss improved by 0.021 >= min_delta = 0. New best score: 2.645\n"
     ]
    },
    {
     "name": "stdout",
     "output_type": "stream",
     "text": [
      "Epoch 14: 100%|██████████| 81/81 [00:28<00:00,  2.89it/s, loss=2.44, v_num=29, train_loss_step=2.480, val_loss=2.630, train_loss_epoch=2.470]"
     ]
    },
    {
     "name": "stderr",
     "output_type": "stream",
     "text": [
      "Metric val_loss improved by 0.013 >= min_delta = 0. New best score: 2.631\n"
     ]
    },
    {
     "name": "stdout",
     "output_type": "stream",
     "text": [
      "Epoch 15: 100%|██████████| 81/81 [00:28<00:00,  2.86it/s, loss=2.44, v_num=29, train_loss_step=2.460, val_loss=2.610, train_loss_epoch=2.450]"
     ]
    },
    {
     "name": "stderr",
     "output_type": "stream",
     "text": [
      "Metric val_loss improved by 0.022 >= min_delta = 0. New best score: 2.609\n"
     ]
    },
    {
     "name": "stdout",
     "output_type": "stream",
     "text": [
      "Epoch 17: 100%|██████████| 81/81 [00:27<00:00,  2.90it/s, loss=2.4, v_num=29, train_loss_step=2.370, val_loss=2.580, train_loss_epoch=2.410] "
     ]
    },
    {
     "name": "stderr",
     "output_type": "stream",
     "text": [
      "Metric val_loss improved by 0.024 >= min_delta = 0. New best score: 2.585\n"
     ]
    },
    {
     "name": "stdout",
     "output_type": "stream",
     "text": [
      "Epoch 22: 100%|██████████| 81/81 [00:28<00:00,  2.89it/s, loss=2.33, v_num=29, train_loss_step=2.330, val_loss=2.620, train_loss_epoch=2.340]"
     ]
    },
    {
     "name": "stderr",
     "output_type": "stream",
     "text": [
      "Monitored metric val_loss did not improve in the last 5 records. Best score: 2.585. Signaling Trainer to stop.\n"
     ]
    },
    {
     "name": "stdout",
     "output_type": "stream",
     "text": [
      "Epoch 22: 100%|██████████| 81/81 [00:28<00:00,  2.86it/s, loss=2.33, v_num=29, train_loss_step=2.330, val_loss=2.620, train_loss_epoch=2.320]"
     ]
    },
    {
     "name": "stderr",
     "output_type": "stream",
     "text": [
      "\u001b[32m[I 2024-04-02 23:40:49,509]\u001b[0m Trial 29 finished with value: 31.0564022064209 and parameters: {'neu': 810, 'lay': 3, 'bat': 928, 'lr': 0.0030715803147346897, 'dropout': 0.2}. Best is trial 22 with value: 30.605316162109375.\u001b[0m\n"
     ]
    },
    {
     "name": "stdout",
     "output_type": "stream",
     "text": [
      "\n",
      "Study statistics: \n",
      "  Number of finished trials:  30\n",
      "  Number of pruned trials:  5\n",
      "  Number of complete trials:  25\n",
      "Best trial:\n",
      "  Value:  30.605316162109375\n",
      "  Params: \n",
      "    neu: 810\n",
      "    lay: 1\n",
      "    bat: 384\n",
      "    lr: 0.0053935887501248515\n",
      "    dropout: 0.4\n"
     ]
    }
   ],
   "source": [
    "\"\"\"\n",
    "Full Training Routine\n",
    "with hyperparmeter grid search\n",
    "\n",
    "Load data into TimeSeriesDataSet object\n",
    "\n",
    "for fast development run\n",
    "uncomment fast_dev_run = fdv_steps\n",
    "\n",
    "\"\"\"\n",
    "\n",
    "# early_stop_callback = EarlyStopping(monitor=\"val_loss\", min_delta=1e-4, patience=p, verbose=False, mode=\"min\")\n",
    "lr_logger = LearningRateMonitor()\n",
    "\n",
    "# param_comb_cnt=-1\n",
    "#for neu,lay,bat,lr,enc_len,pred_len,drop,cov_pair,num_ep in product(*[x for x in hparams_grid.values()]):\n",
    "\n",
    "\n",
    "file_path = \"trial_parameters.json\"\n",
    "# Check if the file exists before attempting to delete it\n",
    "if os.path.exists(file_path):\n",
    "    # Delete the file\n",
    "    os.remove(file_path)\n",
    "\n",
    "import json\n",
    "def save_trial_parameters(study, trial):\n",
    "    trial_params = {'trial_num':trial.number ,'trial_params' :trial.params}\n",
    "    with open(\"trial_parameters.json\", \"a\") as f:\n",
    "        json.dump(trial_params, f)\n",
    "        f.write('\\n')\n",
    "\n",
    "\n",
    "def objective(trial): #optuna objective function to find best hyperparameters\n",
    "# minimize the average validation loss\n",
    "\n",
    "  # optuna tries to find best combination given this hyperparameter searchspace\n",
    "\n",
    "  # first start broad\n",
    "  neu = trial.suggest_int(name=\"neu\",low=10,high=1000,step=100,log=False) # number of neurons in lstm cell\n",
    "  lay = trial.suggest_int(name=\"lay\",low=1,high=10,step=2,log=False) # number of lstm layers\n",
    "  bat = trial.suggest_int(name=\"bat\",low=32,high=1024,step=32,log=False) # batch size\n",
    "  lr = trial.suggest_float(name=\"lr\",low=0.00001,high=0.1,log=True) #learning rate, log does not have step\n",
    "  drop = trial.suggest_float(name=\"dropout\",low=0,high=0.8,step=0.2,log=False) # dont use some of the cells to distribute learning across the cells\n",
    "\n",
    "  num_cols_list = numeric_cols\n",
    "  cat_dict = {\"_hour_of_day\": NaNLabelEncoder(add_nan=True).fit(df._hour_of_day),\n",
    "          \"_day_of_week\": NaNLabelEncoder(add_nan=True).fit(df._day_of_week), \"_day_of_month\" : NaNLabelEncoder(add_nan=True).fit(df._day_of_month), \"_day_of_year\" : NaNLabelEncoder(add_nan=True).fit(df._day_of_year),\n",
    "              \"_week_of_year\": NaNLabelEncoder(add_nan=True).fit(df._week_of_year), \"_month_of_year\": NaNLabelEncoder(add_nan=True).fit(df._month_of_year) ,\"_year\": NaNLabelEncoder(add_nan=True).fit(df._year), \"weather_description\": NaNLabelEncoder(add_nan=True).fit(df.weather_description), \"weather_main\": NaNLabelEncoder(add_nan=True).fit(df.weather_main)}\n",
    "  cat_list = [\"_hour_of_day\",\"_day_of_week\",\"_day_of_month\",\"_day_of_year\",\"_week_of_year\",\"_month_of_year\",\"_year\", \"weather_description\", \"weather_main\"]\n",
    "  embed_size_dict = {'_hour_of_day':(hour_of_day_nunique+1,5),'_day_of_week':(day_of_week_nunique+1,5),'_day_of_month':(day_of_month_nunique+1,5), '_day_of_year':(day_of_year_nunique+1,8), '_week_of_year':(week_of_year_nunique+1,3), '_month_of_year':(month_of_year_nunique+1,3),'_year':(year_nunique+1,1), 'weather_description':(weather_description_nunique+1,5), 'weather_main':(weather_main_nunique+1,5)}\n",
    "  # ^ converting hour into a 5 dimensional vector, etc etc, day of year = number of unique values in this column + 1, same for week of year, month of year and year\n",
    "\n",
    "  train_dataset = TimeSeriesDataSet(\n",
    "      df[(df['time_idx'].isin(train_time_idx))],\n",
    "      time_idx=\"time_idx\",\n",
    "      target=Target,\n",
    "      categorical_encoders=cat_dict,\n",
    "      group_ids=[\"group\"],\n",
    "      min_encoder_length=encoder_len,\n",
    "      max_encoder_length=encoder_len,\n",
    "      min_prediction_length=pred_len,\n",
    "      max_prediction_length=pred_len,\n",
    "      time_varying_unknown_reals=[Target],\n",
    "      time_varying_known_reals=num_cols_list,\n",
    "      time_varying_known_categoricals=cat_list,\n",
    "      add_relative_time_idx=False,\n",
    "      randomize_length=False,\n",
    "      scalers={},\n",
    "      target_normalizer=TorchNormalizer(method=\"identity\",center=False,transformation=None)\n",
    "    )\n",
    "\n",
    "  val_dataset = TimeSeriesDataSet.from_dataset(train_dataset,df[(df['time_idx'].isin(val_time_idx))], stop_randomization=True, predict=False)\n",
    "  # test_dataset = TimeSeriesDataSet.from_dataset(train_dataset,df[df['time_idx'].isin(test_time_idx)], stop_randomization=True)\n",
    "\n",
    "  train_dataloader = train_dataset.to_dataloader(train=True, batch_size=bat)\n",
    "  val_dataloader = val_dataset.to_dataloader(train=False, batch_size=bat)\n",
    "  # test_dataloader = test_dataset.to_dataloader(train=False, batch_size=bat)\n",
    "\n",
    "  \n",
    "  # trial.set_user_attr(\"num_ep\", num_ep)\n",
    "\n",
    "  early_stop_callback = EarlyStopping(\n",
    "    monitor='val_loss',\n",
    "    min_delta=0,\n",
    "    patience=5,\n",
    "    verbose=True,\n",
    "    mode='min'\n",
    "  )\n",
    "\n",
    "  \n",
    "  \"\"\"\n",
    "  Machine Learning predictions START\n",
    "  1) DeepAR\n",
    "\n",
    "  \"\"\"\n",
    "  trainer = pl.Trainer(\n",
    "      max_epochs=num_epochs,\n",
    "      accelerator='gpu',\n",
    "      devices=[0],\n",
    "      gradient_clip_val=0.1,\n",
    "      limit_train_batches=1.0,\n",
    "      limit_val_batches=1.0,\n",
    "      # fast_dev_run=fdv_steps,\n",
    "      logger=True,\n",
    "      callbacks=[lr_logger, early_stop_callback],    #, early_stop_callback]\n",
    "      default_root_dir=logs_directory\n",
    "  )\n",
    "\n",
    "\n",
    "  #print(f\"training routing:\\n \\n {trainer}\")\n",
    "  deepar = DeepAR.from_dataset(\n",
    "      train_dataset,\n",
    "      learning_rate=lr,\n",
    "      hidden_size=neu,\n",
    "      rnn_layers=lay,\n",
    "      dropout=drop,\n",
    "      loss=Loss,\n",
    "      log_interval=20,\n",
    "      log_val_interval=6,\n",
    "      log_gradient_flow=False,\n",
    "      embedding_sizes=embed_size_dict\n",
    "      # reduce_on_plateau_patience=3,\n",
    "  )\n",
    "\n",
    "  #print(f\"Number of parameters in network: {deepar.size()/1e3:.1f}k\")\n",
    "  # print(f\"Model :\\n \\n {deepar}\")\n",
    "  torch.set_num_threads(10)\n",
    "  trainer.fit(\n",
    "      deepar,\n",
    "      train_dataloaders=train_dataloader,\n",
    "      val_dataloaders=val_dataloader,\n",
    "  )\n",
    "\n",
    "  val_wmape = trainer.callback_metrics['val_WMAPE'].item()\n",
    "  # val_wmape = trainer.callback_metrics['val_WMAPE'].item()\n",
    "  trial.report(val_wmape, num_epochs)\n",
    "  # trial.report(val_wmape, num_ep)\n",
    "\n",
    "  # Handle pruning based on the intermediate value.\n",
    "  if trial.should_prune():\n",
    "      raise optuna.exceptions.TrialPruned()\n",
    "\n",
    "  return val_wmape #optuna is trying to minimise this <---\n",
    "\n",
    "\n",
    "######### optuna results #####################\n",
    "if __name__ == \"__main__\":\n",
    "\n",
    "  study = optuna.create_study(direction=\"minimize\")\n",
    "  study.optimize(objective, n_trials=num_trials,callbacks=[save_trial_parameters]) # can specify the number of trials to a number less than 960 for example, eg can set n_trials = 100\n",
    "\n",
    "  pruned_trials = study.get_trials(deepcopy=False, states=[TrialState.PRUNED])\n",
    "  complete_trials = study.get_trials(deepcopy=False, states=[TrialState.COMPLETE])\n",
    "\n",
    "  print(\"Study statistics: \")\n",
    "  print(\"  Number of finished trials: \", len(study.trials))\n",
    "  print(\"  Number of pruned trials: \", len(pruned_trials))\n",
    "  print(\"  Number of complete trials: \", len(complete_trials))\n",
    "\n",
    "  print(\"Best trial:\")\n",
    "  trial = study.best_trial\n",
    "  # best_num_ep = study.trials[trial.number].user_attrs['num_ep']\n",
    "\n",
    "  print(\"  Value: \", trial.value)\n",
    "\n",
    "  print(\"  Params: \")\n",
    "  for key, value in trial.params.items():\n",
    "      print(\"    {}: {}\".format(key, value))\n",
    "########## optuna results #####################"
   ]
  },
  {
   "cell_type": "code",
   "execution_count": 21,
   "metadata": {},
   "outputs": [
    {
     "name": "stdout",
     "output_type": "stream",
     "text": [
      "Study statistics: \n",
      "  Number of finished trials:  30\n",
      "  Number of pruned trials:  5\n",
      "  Number of complete trials:  25\n",
      "  Best trial: \n",
      "  Value:  30.605316162109375\n",
      "  Params: \n",
      "    neu: 810\n",
      "    lay: 1\n",
      "    bat: 384\n",
      "    lr: 0.0053935887501248515\n",
      "    dropout: 0.4\n"
     ]
    }
   ],
   "source": [
    "print(\"Study statistics: \")\n",
    "print(\"  Number of finished trials: \", len(study.trials))\n",
    "print(\"  Number of pruned trials: \", len(pruned_trials))\n",
    "print(\"  Number of complete trials: \", len(complete_trials))\n",
    "\n",
    "print(\"  Best trial: \")\n",
    "print(\"  Value: \", trial.value)\n",
    "\n",
    "print(\"  Params: \")\n",
    "for key, value in trial.params.items():\n",
    "    print(\"    {}: {}\".format(key, value))\n",
    "\n",
    "# print(\"Best number of epochs: \", best_num_ep)"
   ]
  },
  {
   "cell_type": "code",
   "execution_count": 22,
   "metadata": {},
   "outputs": [
    {
     "data": {
      "application/vnd.plotly.v1+json": {
       "config": {
        "plotlyServerURL": "https://plot.ly"
       },
       "data": [
        {
         "dimensions": [
          {
           "label": "Objective Value",
           "range": [
            30.605316162109375,
            60.435211181640625
           ],
           "values": [
            59.72244644165039,
            34.430091857910156,
            59.7247200012207,
            60.3017463684082,
            60.435211181640625,
            59.6988525390625,
            30.736181259155273,
            59.72050857543945,
            31.3320369720459,
            30.665996551513672,
            31.264705657958984,
            32.94093704223633,
            31.520057678222656,
            30.7927188873291,
            30.672325134277344,
            31.074417114257812,
            31.225969314575195,
            30.88484001159668,
            30.943496704101562,
            30.605316162109375,
            30.861804962158203,
            31.007003784179688,
            31.191368103027344,
            31.03023910522461,
            31.0564022064209
           ]
          },
          {
           "label": "bat",
           "range": [
            32,
            1024
           ],
           "values": [
            32,
            608,
            448,
            544,
            544,
            1024,
            384,
            512,
            800,
            864,
            832,
            288,
            736,
            352,
            128,
            96,
            128,
            704,
            224,
            384,
            192,
            928,
            416,
            32,
            928
           ]
          },
          {
           "label": "dropout",
           "range": [
            0,
            0.8
           ],
           "values": [
            0.6000000000000001,
            0.6000000000000001,
            0.4,
            0,
            0.8,
            0,
            0,
            0,
            0.2,
            0.2,
            0.2,
            0.4,
            0.2,
            0,
            0.4,
            0.4,
            0.6000000000000001,
            0.4,
            0.2,
            0.4,
            0.4,
            0.6000000000000001,
            0.8,
            0.4,
            0.2
           ]
          },
          {
           "label": "lay",
           "range": [
            1,
            9
           ],
           "values": [
            5,
            3,
            9,
            7,
            9,
            7,
            7,
            7,
            1,
            1,
            1,
            3,
            5,
            5,
            1,
            1,
            1,
            3,
            7,
            1,
            1,
            3,
            1,
            3,
            3
           ]
          },
          {
           "label": "lr",
           "range": [
            -4.420514329178268,
            -1.0411450397467936
           ],
           "ticktext": [
            "3.8e-05",
            "0.0001",
            "0.001",
            "0.01",
            "0.091"
           ],
           "tickvals": [
            -4.420514329178268,
            -4,
            -3,
            -2,
            -1.0411450397467936
           ],
           "values": [
            -2.5978433155860157,
            -2.651779782648417,
            -1.0411450397467936,
            -2.9047158619949425,
            -4.420514329178268,
            -1.9931111597546394,
            -1.795222473921731,
            -3.35325067961851,
            -1.9255532229414087,
            -2.0838343357688967,
            -2.1181658699004955,
            -1.0532885071475477,
            -2.3598977181758336,
            -1.7639411578353483,
            -2.2656759552859347,
            -2.313863870152595,
            -3.010905554230677,
            -1.4196832126253847,
            -1.8956492913315115,
            -2.26812217066777,
            -2.345374424878253,
            -2.236486417796071,
            -1.5775907945208296,
            -2.138163562743133,
            -2.5126381243977898
           ]
          },
          {
           "label": "neu",
           "range": [
            10,
            910
           ],
           "values": [
            10,
            110,
            10,
            10,
            210,
            10,
            910,
            110,
            910,
            910,
            910,
            710,
            810,
            310,
            810,
            710,
            410,
            810,
            910,
            810,
            810,
            710,
            810,
            510,
            810
           ]
          }
         ],
         "labelangle": 30,
         "labelside": "bottom",
         "line": {
          "color": [
           59.72244644165039,
           34.430091857910156,
           59.7247200012207,
           60.3017463684082,
           60.435211181640625,
           59.6988525390625,
           30.736181259155273,
           59.72050857543945,
           31.3320369720459,
           30.665996551513672,
           31.264705657958984,
           32.94093704223633,
           31.520057678222656,
           30.7927188873291,
           30.672325134277344,
           31.074417114257812,
           31.225969314575195,
           30.88484001159668,
           30.943496704101562,
           30.605316162109375,
           30.861804962158203,
           31.007003784179688,
           31.191368103027344,
           31.03023910522461,
           31.0564022064209
          ],
          "colorbar": {
           "title": {
            "text": "Objective Value"
           }
          },
          "colorscale": [
           [
            0,
            "rgb(247,251,255)"
           ],
           [
            0.125,
            "rgb(222,235,247)"
           ],
           [
            0.25,
            "rgb(198,219,239)"
           ],
           [
            0.375,
            "rgb(158,202,225)"
           ],
           [
            0.5,
            "rgb(107,174,214)"
           ],
           [
            0.625,
            "rgb(66,146,198)"
           ],
           [
            0.75,
            "rgb(33,113,181)"
           ],
           [
            0.875,
            "rgb(8,81,156)"
           ],
           [
            1,
            "rgb(8,48,107)"
           ]
          ],
          "reversescale": true,
          "showscale": true
         },
         "type": "parcoords"
        }
       ],
       "layout": {
        "template": {
         "data": {
          "bar": [
           {
            "error_x": {
             "color": "#2a3f5f"
            },
            "error_y": {
             "color": "#2a3f5f"
            },
            "marker": {
             "line": {
              "color": "#E5ECF6",
              "width": 0.5
             },
             "pattern": {
              "fillmode": "overlay",
              "size": 10,
              "solidity": 0.2
             }
            },
            "type": "bar"
           }
          ],
          "barpolar": [
           {
            "marker": {
             "line": {
              "color": "#E5ECF6",
              "width": 0.5
             },
             "pattern": {
              "fillmode": "overlay",
              "size": 10,
              "solidity": 0.2
             }
            },
            "type": "barpolar"
           }
          ],
          "carpet": [
           {
            "aaxis": {
             "endlinecolor": "#2a3f5f",
             "gridcolor": "white",
             "linecolor": "white",
             "minorgridcolor": "white",
             "startlinecolor": "#2a3f5f"
            },
            "baxis": {
             "endlinecolor": "#2a3f5f",
             "gridcolor": "white",
             "linecolor": "white",
             "minorgridcolor": "white",
             "startlinecolor": "#2a3f5f"
            },
            "type": "carpet"
           }
          ],
          "choropleth": [
           {
            "colorbar": {
             "outlinewidth": 0,
             "ticks": ""
            },
            "type": "choropleth"
           }
          ],
          "contour": [
           {
            "colorbar": {
             "outlinewidth": 0,
             "ticks": ""
            },
            "colorscale": [
             [
              0,
              "#0d0887"
             ],
             [
              0.1111111111111111,
              "#46039f"
             ],
             [
              0.2222222222222222,
              "#7201a8"
             ],
             [
              0.3333333333333333,
              "#9c179e"
             ],
             [
              0.4444444444444444,
              "#bd3786"
             ],
             [
              0.5555555555555556,
              "#d8576b"
             ],
             [
              0.6666666666666666,
              "#ed7953"
             ],
             [
              0.7777777777777778,
              "#fb9f3a"
             ],
             [
              0.8888888888888888,
              "#fdca26"
             ],
             [
              1,
              "#f0f921"
             ]
            ],
            "type": "contour"
           }
          ],
          "contourcarpet": [
           {
            "colorbar": {
             "outlinewidth": 0,
             "ticks": ""
            },
            "type": "contourcarpet"
           }
          ],
          "heatmap": [
           {
            "colorbar": {
             "outlinewidth": 0,
             "ticks": ""
            },
            "colorscale": [
             [
              0,
              "#0d0887"
             ],
             [
              0.1111111111111111,
              "#46039f"
             ],
             [
              0.2222222222222222,
              "#7201a8"
             ],
             [
              0.3333333333333333,
              "#9c179e"
             ],
             [
              0.4444444444444444,
              "#bd3786"
             ],
             [
              0.5555555555555556,
              "#d8576b"
             ],
             [
              0.6666666666666666,
              "#ed7953"
             ],
             [
              0.7777777777777778,
              "#fb9f3a"
             ],
             [
              0.8888888888888888,
              "#fdca26"
             ],
             [
              1,
              "#f0f921"
             ]
            ],
            "type": "heatmap"
           }
          ],
          "heatmapgl": [
           {
            "colorbar": {
             "outlinewidth": 0,
             "ticks": ""
            },
            "colorscale": [
             [
              0,
              "#0d0887"
             ],
             [
              0.1111111111111111,
              "#46039f"
             ],
             [
              0.2222222222222222,
              "#7201a8"
             ],
             [
              0.3333333333333333,
              "#9c179e"
             ],
             [
              0.4444444444444444,
              "#bd3786"
             ],
             [
              0.5555555555555556,
              "#d8576b"
             ],
             [
              0.6666666666666666,
              "#ed7953"
             ],
             [
              0.7777777777777778,
              "#fb9f3a"
             ],
             [
              0.8888888888888888,
              "#fdca26"
             ],
             [
              1,
              "#f0f921"
             ]
            ],
            "type": "heatmapgl"
           }
          ],
          "histogram": [
           {
            "marker": {
             "pattern": {
              "fillmode": "overlay",
              "size": 10,
              "solidity": 0.2
             }
            },
            "type": "histogram"
           }
          ],
          "histogram2d": [
           {
            "colorbar": {
             "outlinewidth": 0,
             "ticks": ""
            },
            "colorscale": [
             [
              0,
              "#0d0887"
             ],
             [
              0.1111111111111111,
              "#46039f"
             ],
             [
              0.2222222222222222,
              "#7201a8"
             ],
             [
              0.3333333333333333,
              "#9c179e"
             ],
             [
              0.4444444444444444,
              "#bd3786"
             ],
             [
              0.5555555555555556,
              "#d8576b"
             ],
             [
              0.6666666666666666,
              "#ed7953"
             ],
             [
              0.7777777777777778,
              "#fb9f3a"
             ],
             [
              0.8888888888888888,
              "#fdca26"
             ],
             [
              1,
              "#f0f921"
             ]
            ],
            "type": "histogram2d"
           }
          ],
          "histogram2dcontour": [
           {
            "colorbar": {
             "outlinewidth": 0,
             "ticks": ""
            },
            "colorscale": [
             [
              0,
              "#0d0887"
             ],
             [
              0.1111111111111111,
              "#46039f"
             ],
             [
              0.2222222222222222,
              "#7201a8"
             ],
             [
              0.3333333333333333,
              "#9c179e"
             ],
             [
              0.4444444444444444,
              "#bd3786"
             ],
             [
              0.5555555555555556,
              "#d8576b"
             ],
             [
              0.6666666666666666,
              "#ed7953"
             ],
             [
              0.7777777777777778,
              "#fb9f3a"
             ],
             [
              0.8888888888888888,
              "#fdca26"
             ],
             [
              1,
              "#f0f921"
             ]
            ],
            "type": "histogram2dcontour"
           }
          ],
          "mesh3d": [
           {
            "colorbar": {
             "outlinewidth": 0,
             "ticks": ""
            },
            "type": "mesh3d"
           }
          ],
          "parcoords": [
           {
            "line": {
             "colorbar": {
              "outlinewidth": 0,
              "ticks": ""
             }
            },
            "type": "parcoords"
           }
          ],
          "pie": [
           {
            "automargin": true,
            "type": "pie"
           }
          ],
          "scatter": [
           {
            "fillpattern": {
             "fillmode": "overlay",
             "size": 10,
             "solidity": 0.2
            },
            "type": "scatter"
           }
          ],
          "scatter3d": [
           {
            "line": {
             "colorbar": {
              "outlinewidth": 0,
              "ticks": ""
             }
            },
            "marker": {
             "colorbar": {
              "outlinewidth": 0,
              "ticks": ""
             }
            },
            "type": "scatter3d"
           }
          ],
          "scattercarpet": [
           {
            "marker": {
             "colorbar": {
              "outlinewidth": 0,
              "ticks": ""
             }
            },
            "type": "scattercarpet"
           }
          ],
          "scattergeo": [
           {
            "marker": {
             "colorbar": {
              "outlinewidth": 0,
              "ticks": ""
             }
            },
            "type": "scattergeo"
           }
          ],
          "scattergl": [
           {
            "marker": {
             "colorbar": {
              "outlinewidth": 0,
              "ticks": ""
             }
            },
            "type": "scattergl"
           }
          ],
          "scattermapbox": [
           {
            "marker": {
             "colorbar": {
              "outlinewidth": 0,
              "ticks": ""
             }
            },
            "type": "scattermapbox"
           }
          ],
          "scatterpolar": [
           {
            "marker": {
             "colorbar": {
              "outlinewidth": 0,
              "ticks": ""
             }
            },
            "type": "scatterpolar"
           }
          ],
          "scatterpolargl": [
           {
            "marker": {
             "colorbar": {
              "outlinewidth": 0,
              "ticks": ""
             }
            },
            "type": "scatterpolargl"
           }
          ],
          "scatterternary": [
           {
            "marker": {
             "colorbar": {
              "outlinewidth": 0,
              "ticks": ""
             }
            },
            "type": "scatterternary"
           }
          ],
          "surface": [
           {
            "colorbar": {
             "outlinewidth": 0,
             "ticks": ""
            },
            "colorscale": [
             [
              0,
              "#0d0887"
             ],
             [
              0.1111111111111111,
              "#46039f"
             ],
             [
              0.2222222222222222,
              "#7201a8"
             ],
             [
              0.3333333333333333,
              "#9c179e"
             ],
             [
              0.4444444444444444,
              "#bd3786"
             ],
             [
              0.5555555555555556,
              "#d8576b"
             ],
             [
              0.6666666666666666,
              "#ed7953"
             ],
             [
              0.7777777777777778,
              "#fb9f3a"
             ],
             [
              0.8888888888888888,
              "#fdca26"
             ],
             [
              1,
              "#f0f921"
             ]
            ],
            "type": "surface"
           }
          ],
          "table": [
           {
            "cells": {
             "fill": {
              "color": "#EBF0F8"
             },
             "line": {
              "color": "white"
             }
            },
            "header": {
             "fill": {
              "color": "#C8D4E3"
             },
             "line": {
              "color": "white"
             }
            },
            "type": "table"
           }
          ]
         },
         "layout": {
          "annotationdefaults": {
           "arrowcolor": "#2a3f5f",
           "arrowhead": 0,
           "arrowwidth": 1
          },
          "autotypenumbers": "strict",
          "coloraxis": {
           "colorbar": {
            "outlinewidth": 0,
            "ticks": ""
           }
          },
          "colorscale": {
           "diverging": [
            [
             0,
             "#8e0152"
            ],
            [
             0.1,
             "#c51b7d"
            ],
            [
             0.2,
             "#de77ae"
            ],
            [
             0.3,
             "#f1b6da"
            ],
            [
             0.4,
             "#fde0ef"
            ],
            [
             0.5,
             "#f7f7f7"
            ],
            [
             0.6,
             "#e6f5d0"
            ],
            [
             0.7,
             "#b8e186"
            ],
            [
             0.8,
             "#7fbc41"
            ],
            [
             0.9,
             "#4d9221"
            ],
            [
             1,
             "#276419"
            ]
           ],
           "sequential": [
            [
             0,
             "#0d0887"
            ],
            [
             0.1111111111111111,
             "#46039f"
            ],
            [
             0.2222222222222222,
             "#7201a8"
            ],
            [
             0.3333333333333333,
             "#9c179e"
            ],
            [
             0.4444444444444444,
             "#bd3786"
            ],
            [
             0.5555555555555556,
             "#d8576b"
            ],
            [
             0.6666666666666666,
             "#ed7953"
            ],
            [
             0.7777777777777778,
             "#fb9f3a"
            ],
            [
             0.8888888888888888,
             "#fdca26"
            ],
            [
             1,
             "#f0f921"
            ]
           ],
           "sequentialminus": [
            [
             0,
             "#0d0887"
            ],
            [
             0.1111111111111111,
             "#46039f"
            ],
            [
             0.2222222222222222,
             "#7201a8"
            ],
            [
             0.3333333333333333,
             "#9c179e"
            ],
            [
             0.4444444444444444,
             "#bd3786"
            ],
            [
             0.5555555555555556,
             "#d8576b"
            ],
            [
             0.6666666666666666,
             "#ed7953"
            ],
            [
             0.7777777777777778,
             "#fb9f3a"
            ],
            [
             0.8888888888888888,
             "#fdca26"
            ],
            [
             1,
             "#f0f921"
            ]
           ]
          },
          "colorway": [
           "#636efa",
           "#EF553B",
           "#00cc96",
           "#ab63fa",
           "#FFA15A",
           "#19d3f3",
           "#FF6692",
           "#B6E880",
           "#FF97FF",
           "#FECB52"
          ],
          "font": {
           "color": "#2a3f5f"
          },
          "geo": {
           "bgcolor": "white",
           "lakecolor": "white",
           "landcolor": "#E5ECF6",
           "showlakes": true,
           "showland": true,
           "subunitcolor": "white"
          },
          "hoverlabel": {
           "align": "left"
          },
          "hovermode": "closest",
          "mapbox": {
           "style": "light"
          },
          "paper_bgcolor": "white",
          "plot_bgcolor": "#E5ECF6",
          "polar": {
           "angularaxis": {
            "gridcolor": "white",
            "linecolor": "white",
            "ticks": ""
           },
           "bgcolor": "#E5ECF6",
           "radialaxis": {
            "gridcolor": "white",
            "linecolor": "white",
            "ticks": ""
           }
          },
          "scene": {
           "xaxis": {
            "backgroundcolor": "#E5ECF6",
            "gridcolor": "white",
            "gridwidth": 2,
            "linecolor": "white",
            "showbackground": true,
            "ticks": "",
            "zerolinecolor": "white"
           },
           "yaxis": {
            "backgroundcolor": "#E5ECF6",
            "gridcolor": "white",
            "gridwidth": 2,
            "linecolor": "white",
            "showbackground": true,
            "ticks": "",
            "zerolinecolor": "white"
           },
           "zaxis": {
            "backgroundcolor": "#E5ECF6",
            "gridcolor": "white",
            "gridwidth": 2,
            "linecolor": "white",
            "showbackground": true,
            "ticks": "",
            "zerolinecolor": "white"
           }
          },
          "shapedefaults": {
           "line": {
            "color": "#2a3f5f"
           }
          },
          "ternary": {
           "aaxis": {
            "gridcolor": "white",
            "linecolor": "white",
            "ticks": ""
           },
           "baxis": {
            "gridcolor": "white",
            "linecolor": "white",
            "ticks": ""
           },
           "bgcolor": "#E5ECF6",
           "caxis": {
            "gridcolor": "white",
            "linecolor": "white",
            "ticks": ""
           }
          },
          "title": {
           "x": 0.05
          },
          "xaxis": {
           "automargin": true,
           "gridcolor": "white",
           "linecolor": "white",
           "ticks": "",
           "title": {
            "standoff": 15
           },
           "zerolinecolor": "white",
           "zerolinewidth": 2
          },
          "yaxis": {
           "automargin": true,
           "gridcolor": "white",
           "linecolor": "white",
           "ticks": "",
           "title": {
            "standoff": 15
           },
           "zerolinecolor": "white",
           "zerolinewidth": 2
          }
         }
        },
        "title": {
         "text": "Parallel Coordinate Plot"
        }
       }
      }
     },
     "metadata": {},
     "output_type": "display_data"
    },
    {
     "data": {
      "application/vnd.plotly.v1+json": {
       "config": {
        "plotlyServerURL": "https://plot.ly"
       },
       "data": [
        {
         "mode": "markers",
         "name": "Objective Value",
         "type": "scatter",
         "x": [
          0,
          1,
          2,
          3,
          4,
          5,
          6,
          9,
          10,
          11,
          12,
          13,
          14,
          16,
          17,
          18,
          19,
          20,
          21,
          22,
          23,
          24,
          26,
          27,
          29
         ],
         "y": [
          59.72244644165039,
          34.430091857910156,
          59.7247200012207,
          60.3017463684082,
          60.435211181640625,
          59.6988525390625,
          30.736181259155273,
          59.72050857543945,
          31.3320369720459,
          30.665996551513672,
          31.264705657958984,
          32.94093704223633,
          31.520057678222656,
          30.7927188873291,
          30.672325134277344,
          31.074417114257812,
          31.225969314575195,
          30.88484001159668,
          30.943496704101562,
          30.605316162109375,
          30.861804962158203,
          31.007003784179688,
          31.191368103027344,
          31.03023910522461,
          31.0564022064209
         ]
        },
        {
         "name": "Best Value",
         "type": "scatter",
         "x": [
          0,
          1,
          2,
          3,
          4,
          5,
          6,
          9,
          10,
          11,
          12,
          13,
          14,
          16,
          17,
          18,
          19,
          20,
          21,
          22,
          23,
          24,
          26,
          27,
          29
         ],
         "y": [
          59.72244644165039,
          34.430091857910156,
          34.430091857910156,
          34.430091857910156,
          34.430091857910156,
          34.430091857910156,
          30.736181259155273,
          30.736181259155273,
          30.736181259155273,
          30.665996551513672,
          30.665996551513672,
          30.665996551513672,
          30.665996551513672,
          30.665996551513672,
          30.665996551513672,
          30.665996551513672,
          30.665996551513672,
          30.665996551513672,
          30.665996551513672,
          30.605316162109375,
          30.605316162109375,
          30.605316162109375,
          30.605316162109375,
          30.605316162109375,
          30.605316162109375
         ]
        }
       ],
       "layout": {
        "template": {
         "data": {
          "bar": [
           {
            "error_x": {
             "color": "#2a3f5f"
            },
            "error_y": {
             "color": "#2a3f5f"
            },
            "marker": {
             "line": {
              "color": "#E5ECF6",
              "width": 0.5
             },
             "pattern": {
              "fillmode": "overlay",
              "size": 10,
              "solidity": 0.2
             }
            },
            "type": "bar"
           }
          ],
          "barpolar": [
           {
            "marker": {
             "line": {
              "color": "#E5ECF6",
              "width": 0.5
             },
             "pattern": {
              "fillmode": "overlay",
              "size": 10,
              "solidity": 0.2
             }
            },
            "type": "barpolar"
           }
          ],
          "carpet": [
           {
            "aaxis": {
             "endlinecolor": "#2a3f5f",
             "gridcolor": "white",
             "linecolor": "white",
             "minorgridcolor": "white",
             "startlinecolor": "#2a3f5f"
            },
            "baxis": {
             "endlinecolor": "#2a3f5f",
             "gridcolor": "white",
             "linecolor": "white",
             "minorgridcolor": "white",
             "startlinecolor": "#2a3f5f"
            },
            "type": "carpet"
           }
          ],
          "choropleth": [
           {
            "colorbar": {
             "outlinewidth": 0,
             "ticks": ""
            },
            "type": "choropleth"
           }
          ],
          "contour": [
           {
            "colorbar": {
             "outlinewidth": 0,
             "ticks": ""
            },
            "colorscale": [
             [
              0,
              "#0d0887"
             ],
             [
              0.1111111111111111,
              "#46039f"
             ],
             [
              0.2222222222222222,
              "#7201a8"
             ],
             [
              0.3333333333333333,
              "#9c179e"
             ],
             [
              0.4444444444444444,
              "#bd3786"
             ],
             [
              0.5555555555555556,
              "#d8576b"
             ],
             [
              0.6666666666666666,
              "#ed7953"
             ],
             [
              0.7777777777777778,
              "#fb9f3a"
             ],
             [
              0.8888888888888888,
              "#fdca26"
             ],
             [
              1,
              "#f0f921"
             ]
            ],
            "type": "contour"
           }
          ],
          "contourcarpet": [
           {
            "colorbar": {
             "outlinewidth": 0,
             "ticks": ""
            },
            "type": "contourcarpet"
           }
          ],
          "heatmap": [
           {
            "colorbar": {
             "outlinewidth": 0,
             "ticks": ""
            },
            "colorscale": [
             [
              0,
              "#0d0887"
             ],
             [
              0.1111111111111111,
              "#46039f"
             ],
             [
              0.2222222222222222,
              "#7201a8"
             ],
             [
              0.3333333333333333,
              "#9c179e"
             ],
             [
              0.4444444444444444,
              "#bd3786"
             ],
             [
              0.5555555555555556,
              "#d8576b"
             ],
             [
              0.6666666666666666,
              "#ed7953"
             ],
             [
              0.7777777777777778,
              "#fb9f3a"
             ],
             [
              0.8888888888888888,
              "#fdca26"
             ],
             [
              1,
              "#f0f921"
             ]
            ],
            "type": "heatmap"
           }
          ],
          "heatmapgl": [
           {
            "colorbar": {
             "outlinewidth": 0,
             "ticks": ""
            },
            "colorscale": [
             [
              0,
              "#0d0887"
             ],
             [
              0.1111111111111111,
              "#46039f"
             ],
             [
              0.2222222222222222,
              "#7201a8"
             ],
             [
              0.3333333333333333,
              "#9c179e"
             ],
             [
              0.4444444444444444,
              "#bd3786"
             ],
             [
              0.5555555555555556,
              "#d8576b"
             ],
             [
              0.6666666666666666,
              "#ed7953"
             ],
             [
              0.7777777777777778,
              "#fb9f3a"
             ],
             [
              0.8888888888888888,
              "#fdca26"
             ],
             [
              1,
              "#f0f921"
             ]
            ],
            "type": "heatmapgl"
           }
          ],
          "histogram": [
           {
            "marker": {
             "pattern": {
              "fillmode": "overlay",
              "size": 10,
              "solidity": 0.2
             }
            },
            "type": "histogram"
           }
          ],
          "histogram2d": [
           {
            "colorbar": {
             "outlinewidth": 0,
             "ticks": ""
            },
            "colorscale": [
             [
              0,
              "#0d0887"
             ],
             [
              0.1111111111111111,
              "#46039f"
             ],
             [
              0.2222222222222222,
              "#7201a8"
             ],
             [
              0.3333333333333333,
              "#9c179e"
             ],
             [
              0.4444444444444444,
              "#bd3786"
             ],
             [
              0.5555555555555556,
              "#d8576b"
             ],
             [
              0.6666666666666666,
              "#ed7953"
             ],
             [
              0.7777777777777778,
              "#fb9f3a"
             ],
             [
              0.8888888888888888,
              "#fdca26"
             ],
             [
              1,
              "#f0f921"
             ]
            ],
            "type": "histogram2d"
           }
          ],
          "histogram2dcontour": [
           {
            "colorbar": {
             "outlinewidth": 0,
             "ticks": ""
            },
            "colorscale": [
             [
              0,
              "#0d0887"
             ],
             [
              0.1111111111111111,
              "#46039f"
             ],
             [
              0.2222222222222222,
              "#7201a8"
             ],
             [
              0.3333333333333333,
              "#9c179e"
             ],
             [
              0.4444444444444444,
              "#bd3786"
             ],
             [
              0.5555555555555556,
              "#d8576b"
             ],
             [
              0.6666666666666666,
              "#ed7953"
             ],
             [
              0.7777777777777778,
              "#fb9f3a"
             ],
             [
              0.8888888888888888,
              "#fdca26"
             ],
             [
              1,
              "#f0f921"
             ]
            ],
            "type": "histogram2dcontour"
           }
          ],
          "mesh3d": [
           {
            "colorbar": {
             "outlinewidth": 0,
             "ticks": ""
            },
            "type": "mesh3d"
           }
          ],
          "parcoords": [
           {
            "line": {
             "colorbar": {
              "outlinewidth": 0,
              "ticks": ""
             }
            },
            "type": "parcoords"
           }
          ],
          "pie": [
           {
            "automargin": true,
            "type": "pie"
           }
          ],
          "scatter": [
           {
            "fillpattern": {
             "fillmode": "overlay",
             "size": 10,
             "solidity": 0.2
            },
            "type": "scatter"
           }
          ],
          "scatter3d": [
           {
            "line": {
             "colorbar": {
              "outlinewidth": 0,
              "ticks": ""
             }
            },
            "marker": {
             "colorbar": {
              "outlinewidth": 0,
              "ticks": ""
             }
            },
            "type": "scatter3d"
           }
          ],
          "scattercarpet": [
           {
            "marker": {
             "colorbar": {
              "outlinewidth": 0,
              "ticks": ""
             }
            },
            "type": "scattercarpet"
           }
          ],
          "scattergeo": [
           {
            "marker": {
             "colorbar": {
              "outlinewidth": 0,
              "ticks": ""
             }
            },
            "type": "scattergeo"
           }
          ],
          "scattergl": [
           {
            "marker": {
             "colorbar": {
              "outlinewidth": 0,
              "ticks": ""
             }
            },
            "type": "scattergl"
           }
          ],
          "scattermapbox": [
           {
            "marker": {
             "colorbar": {
              "outlinewidth": 0,
              "ticks": ""
             }
            },
            "type": "scattermapbox"
           }
          ],
          "scatterpolar": [
           {
            "marker": {
             "colorbar": {
              "outlinewidth": 0,
              "ticks": ""
             }
            },
            "type": "scatterpolar"
           }
          ],
          "scatterpolargl": [
           {
            "marker": {
             "colorbar": {
              "outlinewidth": 0,
              "ticks": ""
             }
            },
            "type": "scatterpolargl"
           }
          ],
          "scatterternary": [
           {
            "marker": {
             "colorbar": {
              "outlinewidth": 0,
              "ticks": ""
             }
            },
            "type": "scatterternary"
           }
          ],
          "surface": [
           {
            "colorbar": {
             "outlinewidth": 0,
             "ticks": ""
            },
            "colorscale": [
             [
              0,
              "#0d0887"
             ],
             [
              0.1111111111111111,
              "#46039f"
             ],
             [
              0.2222222222222222,
              "#7201a8"
             ],
             [
              0.3333333333333333,
              "#9c179e"
             ],
             [
              0.4444444444444444,
              "#bd3786"
             ],
             [
              0.5555555555555556,
              "#d8576b"
             ],
             [
              0.6666666666666666,
              "#ed7953"
             ],
             [
              0.7777777777777778,
              "#fb9f3a"
             ],
             [
              0.8888888888888888,
              "#fdca26"
             ],
             [
              1,
              "#f0f921"
             ]
            ],
            "type": "surface"
           }
          ],
          "table": [
           {
            "cells": {
             "fill": {
              "color": "#EBF0F8"
             },
             "line": {
              "color": "white"
             }
            },
            "header": {
             "fill": {
              "color": "#C8D4E3"
             },
             "line": {
              "color": "white"
             }
            },
            "type": "table"
           }
          ]
         },
         "layout": {
          "annotationdefaults": {
           "arrowcolor": "#2a3f5f",
           "arrowhead": 0,
           "arrowwidth": 1
          },
          "autotypenumbers": "strict",
          "coloraxis": {
           "colorbar": {
            "outlinewidth": 0,
            "ticks": ""
           }
          },
          "colorscale": {
           "diverging": [
            [
             0,
             "#8e0152"
            ],
            [
             0.1,
             "#c51b7d"
            ],
            [
             0.2,
             "#de77ae"
            ],
            [
             0.3,
             "#f1b6da"
            ],
            [
             0.4,
             "#fde0ef"
            ],
            [
             0.5,
             "#f7f7f7"
            ],
            [
             0.6,
             "#e6f5d0"
            ],
            [
             0.7,
             "#b8e186"
            ],
            [
             0.8,
             "#7fbc41"
            ],
            [
             0.9,
             "#4d9221"
            ],
            [
             1,
             "#276419"
            ]
           ],
           "sequential": [
            [
             0,
             "#0d0887"
            ],
            [
             0.1111111111111111,
             "#46039f"
            ],
            [
             0.2222222222222222,
             "#7201a8"
            ],
            [
             0.3333333333333333,
             "#9c179e"
            ],
            [
             0.4444444444444444,
             "#bd3786"
            ],
            [
             0.5555555555555556,
             "#d8576b"
            ],
            [
             0.6666666666666666,
             "#ed7953"
            ],
            [
             0.7777777777777778,
             "#fb9f3a"
            ],
            [
             0.8888888888888888,
             "#fdca26"
            ],
            [
             1,
             "#f0f921"
            ]
           ],
           "sequentialminus": [
            [
             0,
             "#0d0887"
            ],
            [
             0.1111111111111111,
             "#46039f"
            ],
            [
             0.2222222222222222,
             "#7201a8"
            ],
            [
             0.3333333333333333,
             "#9c179e"
            ],
            [
             0.4444444444444444,
             "#bd3786"
            ],
            [
             0.5555555555555556,
             "#d8576b"
            ],
            [
             0.6666666666666666,
             "#ed7953"
            ],
            [
             0.7777777777777778,
             "#fb9f3a"
            ],
            [
             0.8888888888888888,
             "#fdca26"
            ],
            [
             1,
             "#f0f921"
            ]
           ]
          },
          "colorway": [
           "#636efa",
           "#EF553B",
           "#00cc96",
           "#ab63fa",
           "#FFA15A",
           "#19d3f3",
           "#FF6692",
           "#B6E880",
           "#FF97FF",
           "#FECB52"
          ],
          "font": {
           "color": "#2a3f5f"
          },
          "geo": {
           "bgcolor": "white",
           "lakecolor": "white",
           "landcolor": "#E5ECF6",
           "showlakes": true,
           "showland": true,
           "subunitcolor": "white"
          },
          "hoverlabel": {
           "align": "left"
          },
          "hovermode": "closest",
          "mapbox": {
           "style": "light"
          },
          "paper_bgcolor": "white",
          "plot_bgcolor": "#E5ECF6",
          "polar": {
           "angularaxis": {
            "gridcolor": "white",
            "linecolor": "white",
            "ticks": ""
           },
           "bgcolor": "#E5ECF6",
           "radialaxis": {
            "gridcolor": "white",
            "linecolor": "white",
            "ticks": ""
           }
          },
          "scene": {
           "xaxis": {
            "backgroundcolor": "#E5ECF6",
            "gridcolor": "white",
            "gridwidth": 2,
            "linecolor": "white",
            "showbackground": true,
            "ticks": "",
            "zerolinecolor": "white"
           },
           "yaxis": {
            "backgroundcolor": "#E5ECF6",
            "gridcolor": "white",
            "gridwidth": 2,
            "linecolor": "white",
            "showbackground": true,
            "ticks": "",
            "zerolinecolor": "white"
           },
           "zaxis": {
            "backgroundcolor": "#E5ECF6",
            "gridcolor": "white",
            "gridwidth": 2,
            "linecolor": "white",
            "showbackground": true,
            "ticks": "",
            "zerolinecolor": "white"
           }
          },
          "shapedefaults": {
           "line": {
            "color": "#2a3f5f"
           }
          },
          "ternary": {
           "aaxis": {
            "gridcolor": "white",
            "linecolor": "white",
            "ticks": ""
           },
           "baxis": {
            "gridcolor": "white",
            "linecolor": "white",
            "ticks": ""
           },
           "bgcolor": "#E5ECF6",
           "caxis": {
            "gridcolor": "white",
            "linecolor": "white",
            "ticks": ""
           }
          },
          "title": {
           "x": 0.05
          },
          "xaxis": {
           "automargin": true,
           "gridcolor": "white",
           "linecolor": "white",
           "ticks": "",
           "title": {
            "standoff": 15
           },
           "zerolinecolor": "white",
           "zerolinewidth": 2
          },
          "yaxis": {
           "automargin": true,
           "gridcolor": "white",
           "linecolor": "white",
           "ticks": "",
           "title": {
            "standoff": 15
           },
           "zerolinecolor": "white",
           "zerolinewidth": 2
          }
         }
        },
        "title": {
         "text": "Optimization History Plot"
        },
        "xaxis": {
         "title": {
          "text": "Trial"
         }
        },
        "yaxis": {
         "title": {
          "text": "Objective Value"
         }
        }
       }
      }
     },
     "metadata": {},
     "output_type": "display_data"
    },
    {
     "data": {
      "application/vnd.plotly.v1+json": {
       "config": {
        "plotlyServerURL": "https://plot.ly"
       },
       "data": [
        {
         "marker": {
          "color": [
           0,
           1,
           2,
           3,
           4,
           5,
           6,
           9,
           10,
           11,
           12,
           13,
           14,
           16,
           17,
           18,
           19,
           20,
           21,
           22,
           23,
           24,
           26,
           27,
           29
          ],
          "colorbar": {
           "title": {
            "text": "Trial"
           },
           "x": 1,
           "xpad": 40
          },
          "colorscale": [
           [
            0,
            "rgb(247,251,255)"
           ],
           [
            0.125,
            "rgb(222,235,247)"
           ],
           [
            0.25,
            "rgb(198,219,239)"
           ],
           [
            0.375,
            "rgb(158,202,225)"
           ],
           [
            0.5,
            "rgb(107,174,214)"
           ],
           [
            0.625,
            "rgb(66,146,198)"
           ],
           [
            0.75,
            "rgb(33,113,181)"
           ],
           [
            0.875,
            "rgb(8,81,156)"
           ],
           [
            1,
            "rgb(8,48,107)"
           ]
          ],
          "line": {
           "color": "Grey",
           "width": 0.5
          },
          "showscale": true
         },
         "mode": "markers",
         "showlegend": false,
         "type": "scatter",
         "x": [
          32,
          608,
          448,
          544,
          544,
          1024,
          384,
          512,
          800,
          864,
          832,
          288,
          736,
          352,
          128,
          96,
          128,
          704,
          224,
          384,
          192,
          928,
          416,
          32,
          928
         ],
         "xaxis": "x",
         "y": [
          59.72244644165039,
          34.430091857910156,
          59.7247200012207,
          60.3017463684082,
          60.435211181640625,
          59.6988525390625,
          30.736181259155273,
          59.72050857543945,
          31.3320369720459,
          30.665996551513672,
          31.264705657958984,
          32.94093704223633,
          31.520057678222656,
          30.7927188873291,
          30.672325134277344,
          31.074417114257812,
          31.225969314575195,
          30.88484001159668,
          30.943496704101562,
          30.605316162109375,
          30.861804962158203,
          31.007003784179688,
          31.191368103027344,
          31.03023910522461,
          31.0564022064209
         ],
         "yaxis": "y"
        },
        {
         "marker": {
          "color": [
           0,
           1,
           2,
           3,
           4,
           5,
           6,
           9,
           10,
           11,
           12,
           13,
           14,
           16,
           17,
           18,
           19,
           20,
           21,
           22,
           23,
           24,
           26,
           27,
           29
          ],
          "colorbar": {
           "title": {
            "text": "Trial"
           },
           "x": 1,
           "xpad": 40
          },
          "colorscale": [
           [
            0,
            "rgb(247,251,255)"
           ],
           [
            0.125,
            "rgb(222,235,247)"
           ],
           [
            0.25,
            "rgb(198,219,239)"
           ],
           [
            0.375,
            "rgb(158,202,225)"
           ],
           [
            0.5,
            "rgb(107,174,214)"
           ],
           [
            0.625,
            "rgb(66,146,198)"
           ],
           [
            0.75,
            "rgb(33,113,181)"
           ],
           [
            0.875,
            "rgb(8,81,156)"
           ],
           [
            1,
            "rgb(8,48,107)"
           ]
          ],
          "line": {
           "color": "Grey",
           "width": 0.5
          },
          "showscale": false
         },
         "mode": "markers",
         "showlegend": false,
         "type": "scatter",
         "x": [
          0.6000000000000001,
          0.6000000000000001,
          0.4,
          0,
          0.8,
          0,
          0,
          0,
          0.2,
          0.2,
          0.2,
          0.4,
          0.2,
          0,
          0.4,
          0.4,
          0.6000000000000001,
          0.4,
          0.2,
          0.4,
          0.4,
          0.6000000000000001,
          0.8,
          0.4,
          0.2
         ],
         "xaxis": "x2",
         "y": [
          59.72244644165039,
          34.430091857910156,
          59.7247200012207,
          60.3017463684082,
          60.435211181640625,
          59.6988525390625,
          30.736181259155273,
          59.72050857543945,
          31.3320369720459,
          30.665996551513672,
          31.264705657958984,
          32.94093704223633,
          31.520057678222656,
          30.7927188873291,
          30.672325134277344,
          31.074417114257812,
          31.225969314575195,
          30.88484001159668,
          30.943496704101562,
          30.605316162109375,
          30.861804962158203,
          31.007003784179688,
          31.191368103027344,
          31.03023910522461,
          31.0564022064209
         ],
         "yaxis": "y2"
        },
        {
         "marker": {
          "color": [
           0,
           1,
           2,
           3,
           4,
           5,
           6,
           9,
           10,
           11,
           12,
           13,
           14,
           16,
           17,
           18,
           19,
           20,
           21,
           22,
           23,
           24,
           26,
           27,
           29
          ],
          "colorbar": {
           "title": {
            "text": "Trial"
           },
           "x": 1,
           "xpad": 40
          },
          "colorscale": [
           [
            0,
            "rgb(247,251,255)"
           ],
           [
            0.125,
            "rgb(222,235,247)"
           ],
           [
            0.25,
            "rgb(198,219,239)"
           ],
           [
            0.375,
            "rgb(158,202,225)"
           ],
           [
            0.5,
            "rgb(107,174,214)"
           ],
           [
            0.625,
            "rgb(66,146,198)"
           ],
           [
            0.75,
            "rgb(33,113,181)"
           ],
           [
            0.875,
            "rgb(8,81,156)"
           ],
           [
            1,
            "rgb(8,48,107)"
           ]
          ],
          "line": {
           "color": "Grey",
           "width": 0.5
          },
          "showscale": false
         },
         "mode": "markers",
         "showlegend": false,
         "type": "scatter",
         "x": [
          5,
          3,
          9,
          7,
          9,
          7,
          7,
          7,
          1,
          1,
          1,
          3,
          5,
          5,
          1,
          1,
          1,
          3,
          7,
          1,
          1,
          3,
          1,
          3,
          3
         ],
         "xaxis": "x3",
         "y": [
          59.72244644165039,
          34.430091857910156,
          59.7247200012207,
          60.3017463684082,
          60.435211181640625,
          59.6988525390625,
          30.736181259155273,
          59.72050857543945,
          31.3320369720459,
          30.665996551513672,
          31.264705657958984,
          32.94093704223633,
          31.520057678222656,
          30.7927188873291,
          30.672325134277344,
          31.074417114257812,
          31.225969314575195,
          30.88484001159668,
          30.943496704101562,
          30.605316162109375,
          30.861804962158203,
          31.007003784179688,
          31.191368103027344,
          31.03023910522461,
          31.0564022064209
         ],
         "yaxis": "y3"
        },
        {
         "marker": {
          "color": [
           0,
           1,
           2,
           3,
           4,
           5,
           6,
           9,
           10,
           11,
           12,
           13,
           14,
           16,
           17,
           18,
           19,
           20,
           21,
           22,
           23,
           24,
           26,
           27,
           29
          ],
          "colorbar": {
           "title": {
            "text": "Trial"
           },
           "x": 1,
           "xpad": 40
          },
          "colorscale": [
           [
            0,
            "rgb(247,251,255)"
           ],
           [
            0.125,
            "rgb(222,235,247)"
           ],
           [
            0.25,
            "rgb(198,219,239)"
           ],
           [
            0.375,
            "rgb(158,202,225)"
           ],
           [
            0.5,
            "rgb(107,174,214)"
           ],
           [
            0.625,
            "rgb(66,146,198)"
           ],
           [
            0.75,
            "rgb(33,113,181)"
           ],
           [
            0.875,
            "rgb(8,81,156)"
           ],
           [
            1,
            "rgb(8,48,107)"
           ]
          ],
          "line": {
           "color": "Grey",
           "width": 0.5
          },
          "showscale": false
         },
         "mode": "markers",
         "showlegend": false,
         "type": "scatter",
         "x": [
          0.0025243913560945887,
          0.002229565406613702,
          0.09096094429469842,
          0.001245329104276617,
          0.00003797394095847317,
          0.010159886124317234,
          0.01602424314294687,
          0.0004433526619596533,
          0.01186989226182896,
          0.008244525473999674,
          0.007617880050994612,
          0.08845278119445034,
          0.004366186493272184,
          0.017221018851994778,
          0.005424054501426429,
          0.004854406379555634,
          0.0009752016912056723,
          0.03804668189966391,
          0.012716005546325137,
          0.0053935887501248515,
          0.004514665468498058,
          0.005801143148386845,
          0.026448996886096157,
          0.007275057618004127,
          0.0030715803147346897
         ],
         "xaxis": "x4",
         "y": [
          59.72244644165039,
          34.430091857910156,
          59.7247200012207,
          60.3017463684082,
          60.435211181640625,
          59.6988525390625,
          30.736181259155273,
          59.72050857543945,
          31.3320369720459,
          30.665996551513672,
          31.264705657958984,
          32.94093704223633,
          31.520057678222656,
          30.7927188873291,
          30.672325134277344,
          31.074417114257812,
          31.225969314575195,
          30.88484001159668,
          30.943496704101562,
          30.605316162109375,
          30.861804962158203,
          31.007003784179688,
          31.191368103027344,
          31.03023910522461,
          31.0564022064209
         ],
         "yaxis": "y4"
        },
        {
         "marker": {
          "color": [
           0,
           1,
           2,
           3,
           4,
           5,
           6,
           9,
           10,
           11,
           12,
           13,
           14,
           16,
           17,
           18,
           19,
           20,
           21,
           22,
           23,
           24,
           26,
           27,
           29
          ],
          "colorbar": {
           "title": {
            "text": "Trial"
           },
           "x": 1,
           "xpad": 40
          },
          "colorscale": [
           [
            0,
            "rgb(247,251,255)"
           ],
           [
            0.125,
            "rgb(222,235,247)"
           ],
           [
            0.25,
            "rgb(198,219,239)"
           ],
           [
            0.375,
            "rgb(158,202,225)"
           ],
           [
            0.5,
            "rgb(107,174,214)"
           ],
           [
            0.625,
            "rgb(66,146,198)"
           ],
           [
            0.75,
            "rgb(33,113,181)"
           ],
           [
            0.875,
            "rgb(8,81,156)"
           ],
           [
            1,
            "rgb(8,48,107)"
           ]
          ],
          "line": {
           "color": "Grey",
           "width": 0.5
          },
          "showscale": false
         },
         "mode": "markers",
         "showlegend": false,
         "type": "scatter",
         "x": [
          10,
          110,
          10,
          10,
          210,
          10,
          910,
          110,
          910,
          910,
          910,
          710,
          810,
          310,
          810,
          710,
          410,
          810,
          910,
          810,
          810,
          710,
          810,
          510,
          810
         ],
         "xaxis": "x5",
         "y": [
          59.72244644165039,
          34.430091857910156,
          59.7247200012207,
          60.3017463684082,
          60.435211181640625,
          59.6988525390625,
          30.736181259155273,
          59.72050857543945,
          31.3320369720459,
          30.665996551513672,
          31.264705657958984,
          32.94093704223633,
          31.520057678222656,
          30.7927188873291,
          30.672325134277344,
          31.074417114257812,
          31.225969314575195,
          30.88484001159668,
          30.943496704101562,
          30.605316162109375,
          30.861804962158203,
          31.007003784179688,
          31.191368103027344,
          31.03023910522461,
          31.0564022064209
         ],
         "yaxis": "y5"
        }
       ],
       "layout": {
        "template": {
         "data": {
          "bar": [
           {
            "error_x": {
             "color": "#2a3f5f"
            },
            "error_y": {
             "color": "#2a3f5f"
            },
            "marker": {
             "line": {
              "color": "#E5ECF6",
              "width": 0.5
             },
             "pattern": {
              "fillmode": "overlay",
              "size": 10,
              "solidity": 0.2
             }
            },
            "type": "bar"
           }
          ],
          "barpolar": [
           {
            "marker": {
             "line": {
              "color": "#E5ECF6",
              "width": 0.5
             },
             "pattern": {
              "fillmode": "overlay",
              "size": 10,
              "solidity": 0.2
             }
            },
            "type": "barpolar"
           }
          ],
          "carpet": [
           {
            "aaxis": {
             "endlinecolor": "#2a3f5f",
             "gridcolor": "white",
             "linecolor": "white",
             "minorgridcolor": "white",
             "startlinecolor": "#2a3f5f"
            },
            "baxis": {
             "endlinecolor": "#2a3f5f",
             "gridcolor": "white",
             "linecolor": "white",
             "minorgridcolor": "white",
             "startlinecolor": "#2a3f5f"
            },
            "type": "carpet"
           }
          ],
          "choropleth": [
           {
            "colorbar": {
             "outlinewidth": 0,
             "ticks": ""
            },
            "type": "choropleth"
           }
          ],
          "contour": [
           {
            "colorbar": {
             "outlinewidth": 0,
             "ticks": ""
            },
            "colorscale": [
             [
              0,
              "#0d0887"
             ],
             [
              0.1111111111111111,
              "#46039f"
             ],
             [
              0.2222222222222222,
              "#7201a8"
             ],
             [
              0.3333333333333333,
              "#9c179e"
             ],
             [
              0.4444444444444444,
              "#bd3786"
             ],
             [
              0.5555555555555556,
              "#d8576b"
             ],
             [
              0.6666666666666666,
              "#ed7953"
             ],
             [
              0.7777777777777778,
              "#fb9f3a"
             ],
             [
              0.8888888888888888,
              "#fdca26"
             ],
             [
              1,
              "#f0f921"
             ]
            ],
            "type": "contour"
           }
          ],
          "contourcarpet": [
           {
            "colorbar": {
             "outlinewidth": 0,
             "ticks": ""
            },
            "type": "contourcarpet"
           }
          ],
          "heatmap": [
           {
            "colorbar": {
             "outlinewidth": 0,
             "ticks": ""
            },
            "colorscale": [
             [
              0,
              "#0d0887"
             ],
             [
              0.1111111111111111,
              "#46039f"
             ],
             [
              0.2222222222222222,
              "#7201a8"
             ],
             [
              0.3333333333333333,
              "#9c179e"
             ],
             [
              0.4444444444444444,
              "#bd3786"
             ],
             [
              0.5555555555555556,
              "#d8576b"
             ],
             [
              0.6666666666666666,
              "#ed7953"
             ],
             [
              0.7777777777777778,
              "#fb9f3a"
             ],
             [
              0.8888888888888888,
              "#fdca26"
             ],
             [
              1,
              "#f0f921"
             ]
            ],
            "type": "heatmap"
           }
          ],
          "heatmapgl": [
           {
            "colorbar": {
             "outlinewidth": 0,
             "ticks": ""
            },
            "colorscale": [
             [
              0,
              "#0d0887"
             ],
             [
              0.1111111111111111,
              "#46039f"
             ],
             [
              0.2222222222222222,
              "#7201a8"
             ],
             [
              0.3333333333333333,
              "#9c179e"
             ],
             [
              0.4444444444444444,
              "#bd3786"
             ],
             [
              0.5555555555555556,
              "#d8576b"
             ],
             [
              0.6666666666666666,
              "#ed7953"
             ],
             [
              0.7777777777777778,
              "#fb9f3a"
             ],
             [
              0.8888888888888888,
              "#fdca26"
             ],
             [
              1,
              "#f0f921"
             ]
            ],
            "type": "heatmapgl"
           }
          ],
          "histogram": [
           {
            "marker": {
             "pattern": {
              "fillmode": "overlay",
              "size": 10,
              "solidity": 0.2
             }
            },
            "type": "histogram"
           }
          ],
          "histogram2d": [
           {
            "colorbar": {
             "outlinewidth": 0,
             "ticks": ""
            },
            "colorscale": [
             [
              0,
              "#0d0887"
             ],
             [
              0.1111111111111111,
              "#46039f"
             ],
             [
              0.2222222222222222,
              "#7201a8"
             ],
             [
              0.3333333333333333,
              "#9c179e"
             ],
             [
              0.4444444444444444,
              "#bd3786"
             ],
             [
              0.5555555555555556,
              "#d8576b"
             ],
             [
              0.6666666666666666,
              "#ed7953"
             ],
             [
              0.7777777777777778,
              "#fb9f3a"
             ],
             [
              0.8888888888888888,
              "#fdca26"
             ],
             [
              1,
              "#f0f921"
             ]
            ],
            "type": "histogram2d"
           }
          ],
          "histogram2dcontour": [
           {
            "colorbar": {
             "outlinewidth": 0,
             "ticks": ""
            },
            "colorscale": [
             [
              0,
              "#0d0887"
             ],
             [
              0.1111111111111111,
              "#46039f"
             ],
             [
              0.2222222222222222,
              "#7201a8"
             ],
             [
              0.3333333333333333,
              "#9c179e"
             ],
             [
              0.4444444444444444,
              "#bd3786"
             ],
             [
              0.5555555555555556,
              "#d8576b"
             ],
             [
              0.6666666666666666,
              "#ed7953"
             ],
             [
              0.7777777777777778,
              "#fb9f3a"
             ],
             [
              0.8888888888888888,
              "#fdca26"
             ],
             [
              1,
              "#f0f921"
             ]
            ],
            "type": "histogram2dcontour"
           }
          ],
          "mesh3d": [
           {
            "colorbar": {
             "outlinewidth": 0,
             "ticks": ""
            },
            "type": "mesh3d"
           }
          ],
          "parcoords": [
           {
            "line": {
             "colorbar": {
              "outlinewidth": 0,
              "ticks": ""
             }
            },
            "type": "parcoords"
           }
          ],
          "pie": [
           {
            "automargin": true,
            "type": "pie"
           }
          ],
          "scatter": [
           {
            "fillpattern": {
             "fillmode": "overlay",
             "size": 10,
             "solidity": 0.2
            },
            "type": "scatter"
           }
          ],
          "scatter3d": [
           {
            "line": {
             "colorbar": {
              "outlinewidth": 0,
              "ticks": ""
             }
            },
            "marker": {
             "colorbar": {
              "outlinewidth": 0,
              "ticks": ""
             }
            },
            "type": "scatter3d"
           }
          ],
          "scattercarpet": [
           {
            "marker": {
             "colorbar": {
              "outlinewidth": 0,
              "ticks": ""
             }
            },
            "type": "scattercarpet"
           }
          ],
          "scattergeo": [
           {
            "marker": {
             "colorbar": {
              "outlinewidth": 0,
              "ticks": ""
             }
            },
            "type": "scattergeo"
           }
          ],
          "scattergl": [
           {
            "marker": {
             "colorbar": {
              "outlinewidth": 0,
              "ticks": ""
             }
            },
            "type": "scattergl"
           }
          ],
          "scattermapbox": [
           {
            "marker": {
             "colorbar": {
              "outlinewidth": 0,
              "ticks": ""
             }
            },
            "type": "scattermapbox"
           }
          ],
          "scatterpolar": [
           {
            "marker": {
             "colorbar": {
              "outlinewidth": 0,
              "ticks": ""
             }
            },
            "type": "scatterpolar"
           }
          ],
          "scatterpolargl": [
           {
            "marker": {
             "colorbar": {
              "outlinewidth": 0,
              "ticks": ""
             }
            },
            "type": "scatterpolargl"
           }
          ],
          "scatterternary": [
           {
            "marker": {
             "colorbar": {
              "outlinewidth": 0,
              "ticks": ""
             }
            },
            "type": "scatterternary"
           }
          ],
          "surface": [
           {
            "colorbar": {
             "outlinewidth": 0,
             "ticks": ""
            },
            "colorscale": [
             [
              0,
              "#0d0887"
             ],
             [
              0.1111111111111111,
              "#46039f"
             ],
             [
              0.2222222222222222,
              "#7201a8"
             ],
             [
              0.3333333333333333,
              "#9c179e"
             ],
             [
              0.4444444444444444,
              "#bd3786"
             ],
             [
              0.5555555555555556,
              "#d8576b"
             ],
             [
              0.6666666666666666,
              "#ed7953"
             ],
             [
              0.7777777777777778,
              "#fb9f3a"
             ],
             [
              0.8888888888888888,
              "#fdca26"
             ],
             [
              1,
              "#f0f921"
             ]
            ],
            "type": "surface"
           }
          ],
          "table": [
           {
            "cells": {
             "fill": {
              "color": "#EBF0F8"
             },
             "line": {
              "color": "white"
             }
            },
            "header": {
             "fill": {
              "color": "#C8D4E3"
             },
             "line": {
              "color": "white"
             }
            },
            "type": "table"
           }
          ]
         },
         "layout": {
          "annotationdefaults": {
           "arrowcolor": "#2a3f5f",
           "arrowhead": 0,
           "arrowwidth": 1
          },
          "autotypenumbers": "strict",
          "coloraxis": {
           "colorbar": {
            "outlinewidth": 0,
            "ticks": ""
           }
          },
          "colorscale": {
           "diverging": [
            [
             0,
             "#8e0152"
            ],
            [
             0.1,
             "#c51b7d"
            ],
            [
             0.2,
             "#de77ae"
            ],
            [
             0.3,
             "#f1b6da"
            ],
            [
             0.4,
             "#fde0ef"
            ],
            [
             0.5,
             "#f7f7f7"
            ],
            [
             0.6,
             "#e6f5d0"
            ],
            [
             0.7,
             "#b8e186"
            ],
            [
             0.8,
             "#7fbc41"
            ],
            [
             0.9,
             "#4d9221"
            ],
            [
             1,
             "#276419"
            ]
           ],
           "sequential": [
            [
             0,
             "#0d0887"
            ],
            [
             0.1111111111111111,
             "#46039f"
            ],
            [
             0.2222222222222222,
             "#7201a8"
            ],
            [
             0.3333333333333333,
             "#9c179e"
            ],
            [
             0.4444444444444444,
             "#bd3786"
            ],
            [
             0.5555555555555556,
             "#d8576b"
            ],
            [
             0.6666666666666666,
             "#ed7953"
            ],
            [
             0.7777777777777778,
             "#fb9f3a"
            ],
            [
             0.8888888888888888,
             "#fdca26"
            ],
            [
             1,
             "#f0f921"
            ]
           ],
           "sequentialminus": [
            [
             0,
             "#0d0887"
            ],
            [
             0.1111111111111111,
             "#46039f"
            ],
            [
             0.2222222222222222,
             "#7201a8"
            ],
            [
             0.3333333333333333,
             "#9c179e"
            ],
            [
             0.4444444444444444,
             "#bd3786"
            ],
            [
             0.5555555555555556,
             "#d8576b"
            ],
            [
             0.6666666666666666,
             "#ed7953"
            ],
            [
             0.7777777777777778,
             "#fb9f3a"
            ],
            [
             0.8888888888888888,
             "#fdca26"
            ],
            [
             1,
             "#f0f921"
            ]
           ]
          },
          "colorway": [
           "#636efa",
           "#EF553B",
           "#00cc96",
           "#ab63fa",
           "#FFA15A",
           "#19d3f3",
           "#FF6692",
           "#B6E880",
           "#FF97FF",
           "#FECB52"
          ],
          "font": {
           "color": "#2a3f5f"
          },
          "geo": {
           "bgcolor": "white",
           "lakecolor": "white",
           "landcolor": "#E5ECF6",
           "showlakes": true,
           "showland": true,
           "subunitcolor": "white"
          },
          "hoverlabel": {
           "align": "left"
          },
          "hovermode": "closest",
          "mapbox": {
           "style": "light"
          },
          "paper_bgcolor": "white",
          "plot_bgcolor": "#E5ECF6",
          "polar": {
           "angularaxis": {
            "gridcolor": "white",
            "linecolor": "white",
            "ticks": ""
           },
           "bgcolor": "#E5ECF6",
           "radialaxis": {
            "gridcolor": "white",
            "linecolor": "white",
            "ticks": ""
           }
          },
          "scene": {
           "xaxis": {
            "backgroundcolor": "#E5ECF6",
            "gridcolor": "white",
            "gridwidth": 2,
            "linecolor": "white",
            "showbackground": true,
            "ticks": "",
            "zerolinecolor": "white"
           },
           "yaxis": {
            "backgroundcolor": "#E5ECF6",
            "gridcolor": "white",
            "gridwidth": 2,
            "linecolor": "white",
            "showbackground": true,
            "ticks": "",
            "zerolinecolor": "white"
           },
           "zaxis": {
            "backgroundcolor": "#E5ECF6",
            "gridcolor": "white",
            "gridwidth": 2,
            "linecolor": "white",
            "showbackground": true,
            "ticks": "",
            "zerolinecolor": "white"
           }
          },
          "shapedefaults": {
           "line": {
            "color": "#2a3f5f"
           }
          },
          "ternary": {
           "aaxis": {
            "gridcolor": "white",
            "linecolor": "white",
            "ticks": ""
           },
           "baxis": {
            "gridcolor": "white",
            "linecolor": "white",
            "ticks": ""
           },
           "bgcolor": "#E5ECF6",
           "caxis": {
            "gridcolor": "white",
            "linecolor": "white",
            "ticks": ""
           }
          },
          "title": {
           "x": 0.05
          },
          "xaxis": {
           "automargin": true,
           "gridcolor": "white",
           "linecolor": "white",
           "ticks": "",
           "title": {
            "standoff": 15
           },
           "zerolinecolor": "white",
           "zerolinewidth": 2
          },
          "yaxis": {
           "automargin": true,
           "gridcolor": "white",
           "linecolor": "white",
           "ticks": "",
           "title": {
            "standoff": 15
           },
           "zerolinecolor": "white",
           "zerolinewidth": 2
          }
         }
        },
        "title": {
         "text": "Slice Plot"
        },
        "width": 1500,
        "xaxis": {
         "anchor": "y",
         "domain": [
          0,
          0.16799999999999998
         ],
         "title": {
          "text": "bat"
         }
        },
        "xaxis2": {
         "anchor": "y2",
         "domain": [
          0.208,
          0.376
         ],
         "title": {
          "text": "dropout"
         }
        },
        "xaxis3": {
         "anchor": "y3",
         "domain": [
          0.416,
          0.584
         ],
         "title": {
          "text": "lay"
         }
        },
        "xaxis4": {
         "anchor": "y4",
         "domain": [
          0.624,
          0.792
         ],
         "title": {
          "text": "lr"
         },
         "type": "log"
        },
        "xaxis5": {
         "anchor": "y5",
         "domain": [
          0.832,
          1
         ],
         "title": {
          "text": "neu"
         }
        },
        "yaxis": {
         "anchor": "x",
         "domain": [
          0,
          1
         ],
         "title": {
          "text": "Objective Value"
         }
        },
        "yaxis2": {
         "anchor": "x2",
         "domain": [
          0,
          1
         ],
         "matches": "y",
         "showticklabels": false
        },
        "yaxis3": {
         "anchor": "x3",
         "domain": [
          0,
          1
         ],
         "matches": "y",
         "showticklabels": false
        },
        "yaxis4": {
         "anchor": "x4",
         "domain": [
          0,
          1
         ],
         "matches": "y",
         "showticklabels": false
        },
        "yaxis5": {
         "anchor": "x5",
         "domain": [
          0,
          1
         ],
         "matches": "y",
         "showticklabels": false
        }
       }
      }
     },
     "metadata": {},
     "output_type": "display_data"
    },
    {
     "data": {
      "application/vnd.plotly.v1+json": {
       "config": {
        "plotlyServerURL": "https://plot.ly"
       },
       "data": [
        {
         "cliponaxis": false,
         "hovertemplate": [
          "bat (IntDistribution): 0.011127784281649865<extra></extra>",
          "dropout (FloatDistribution): 0.015727434775568296<extra></extra>",
          "lr (FloatDistribution): 0.0608827118858612<extra></extra>",
          "lay (IntDistribution): 0.14927100221903714<extra></extra>",
          "neu (IntDistribution): 0.7629910668378836<extra></extra>"
         ],
         "marker": {
          "color": "rgb(66,146,198)"
         },
         "orientation": "h",
         "text": [
          "0.01",
          "0.02",
          "0.06",
          "0.15",
          "0.76"
         ],
         "textposition": "outside",
         "type": "bar",
         "x": [
          0.011127784281649865,
          0.015727434775568296,
          0.0608827118858612,
          0.14927100221903714,
          0.7629910668378836
         ],
         "y": [
          "bat",
          "dropout",
          "lr",
          "lay",
          "neu"
         ]
        }
       ],
       "layout": {
        "showlegend": false,
        "template": {
         "data": {
          "bar": [
           {
            "error_x": {
             "color": "#2a3f5f"
            },
            "error_y": {
             "color": "#2a3f5f"
            },
            "marker": {
             "line": {
              "color": "#E5ECF6",
              "width": 0.5
             },
             "pattern": {
              "fillmode": "overlay",
              "size": 10,
              "solidity": 0.2
             }
            },
            "type": "bar"
           }
          ],
          "barpolar": [
           {
            "marker": {
             "line": {
              "color": "#E5ECF6",
              "width": 0.5
             },
             "pattern": {
              "fillmode": "overlay",
              "size": 10,
              "solidity": 0.2
             }
            },
            "type": "barpolar"
           }
          ],
          "carpet": [
           {
            "aaxis": {
             "endlinecolor": "#2a3f5f",
             "gridcolor": "white",
             "linecolor": "white",
             "minorgridcolor": "white",
             "startlinecolor": "#2a3f5f"
            },
            "baxis": {
             "endlinecolor": "#2a3f5f",
             "gridcolor": "white",
             "linecolor": "white",
             "minorgridcolor": "white",
             "startlinecolor": "#2a3f5f"
            },
            "type": "carpet"
           }
          ],
          "choropleth": [
           {
            "colorbar": {
             "outlinewidth": 0,
             "ticks": ""
            },
            "type": "choropleth"
           }
          ],
          "contour": [
           {
            "colorbar": {
             "outlinewidth": 0,
             "ticks": ""
            },
            "colorscale": [
             [
              0,
              "#0d0887"
             ],
             [
              0.1111111111111111,
              "#46039f"
             ],
             [
              0.2222222222222222,
              "#7201a8"
             ],
             [
              0.3333333333333333,
              "#9c179e"
             ],
             [
              0.4444444444444444,
              "#bd3786"
             ],
             [
              0.5555555555555556,
              "#d8576b"
             ],
             [
              0.6666666666666666,
              "#ed7953"
             ],
             [
              0.7777777777777778,
              "#fb9f3a"
             ],
             [
              0.8888888888888888,
              "#fdca26"
             ],
             [
              1,
              "#f0f921"
             ]
            ],
            "type": "contour"
           }
          ],
          "contourcarpet": [
           {
            "colorbar": {
             "outlinewidth": 0,
             "ticks": ""
            },
            "type": "contourcarpet"
           }
          ],
          "heatmap": [
           {
            "colorbar": {
             "outlinewidth": 0,
             "ticks": ""
            },
            "colorscale": [
             [
              0,
              "#0d0887"
             ],
             [
              0.1111111111111111,
              "#46039f"
             ],
             [
              0.2222222222222222,
              "#7201a8"
             ],
             [
              0.3333333333333333,
              "#9c179e"
             ],
             [
              0.4444444444444444,
              "#bd3786"
             ],
             [
              0.5555555555555556,
              "#d8576b"
             ],
             [
              0.6666666666666666,
              "#ed7953"
             ],
             [
              0.7777777777777778,
              "#fb9f3a"
             ],
             [
              0.8888888888888888,
              "#fdca26"
             ],
             [
              1,
              "#f0f921"
             ]
            ],
            "type": "heatmap"
           }
          ],
          "heatmapgl": [
           {
            "colorbar": {
             "outlinewidth": 0,
             "ticks": ""
            },
            "colorscale": [
             [
              0,
              "#0d0887"
             ],
             [
              0.1111111111111111,
              "#46039f"
             ],
             [
              0.2222222222222222,
              "#7201a8"
             ],
             [
              0.3333333333333333,
              "#9c179e"
             ],
             [
              0.4444444444444444,
              "#bd3786"
             ],
             [
              0.5555555555555556,
              "#d8576b"
             ],
             [
              0.6666666666666666,
              "#ed7953"
             ],
             [
              0.7777777777777778,
              "#fb9f3a"
             ],
             [
              0.8888888888888888,
              "#fdca26"
             ],
             [
              1,
              "#f0f921"
             ]
            ],
            "type": "heatmapgl"
           }
          ],
          "histogram": [
           {
            "marker": {
             "pattern": {
              "fillmode": "overlay",
              "size": 10,
              "solidity": 0.2
             }
            },
            "type": "histogram"
           }
          ],
          "histogram2d": [
           {
            "colorbar": {
             "outlinewidth": 0,
             "ticks": ""
            },
            "colorscale": [
             [
              0,
              "#0d0887"
             ],
             [
              0.1111111111111111,
              "#46039f"
             ],
             [
              0.2222222222222222,
              "#7201a8"
             ],
             [
              0.3333333333333333,
              "#9c179e"
             ],
             [
              0.4444444444444444,
              "#bd3786"
             ],
             [
              0.5555555555555556,
              "#d8576b"
             ],
             [
              0.6666666666666666,
              "#ed7953"
             ],
             [
              0.7777777777777778,
              "#fb9f3a"
             ],
             [
              0.8888888888888888,
              "#fdca26"
             ],
             [
              1,
              "#f0f921"
             ]
            ],
            "type": "histogram2d"
           }
          ],
          "histogram2dcontour": [
           {
            "colorbar": {
             "outlinewidth": 0,
             "ticks": ""
            },
            "colorscale": [
             [
              0,
              "#0d0887"
             ],
             [
              0.1111111111111111,
              "#46039f"
             ],
             [
              0.2222222222222222,
              "#7201a8"
             ],
             [
              0.3333333333333333,
              "#9c179e"
             ],
             [
              0.4444444444444444,
              "#bd3786"
             ],
             [
              0.5555555555555556,
              "#d8576b"
             ],
             [
              0.6666666666666666,
              "#ed7953"
             ],
             [
              0.7777777777777778,
              "#fb9f3a"
             ],
             [
              0.8888888888888888,
              "#fdca26"
             ],
             [
              1,
              "#f0f921"
             ]
            ],
            "type": "histogram2dcontour"
           }
          ],
          "mesh3d": [
           {
            "colorbar": {
             "outlinewidth": 0,
             "ticks": ""
            },
            "type": "mesh3d"
           }
          ],
          "parcoords": [
           {
            "line": {
             "colorbar": {
              "outlinewidth": 0,
              "ticks": ""
             }
            },
            "type": "parcoords"
           }
          ],
          "pie": [
           {
            "automargin": true,
            "type": "pie"
           }
          ],
          "scatter": [
           {
            "fillpattern": {
             "fillmode": "overlay",
             "size": 10,
             "solidity": 0.2
            },
            "type": "scatter"
           }
          ],
          "scatter3d": [
           {
            "line": {
             "colorbar": {
              "outlinewidth": 0,
              "ticks": ""
             }
            },
            "marker": {
             "colorbar": {
              "outlinewidth": 0,
              "ticks": ""
             }
            },
            "type": "scatter3d"
           }
          ],
          "scattercarpet": [
           {
            "marker": {
             "colorbar": {
              "outlinewidth": 0,
              "ticks": ""
             }
            },
            "type": "scattercarpet"
           }
          ],
          "scattergeo": [
           {
            "marker": {
             "colorbar": {
              "outlinewidth": 0,
              "ticks": ""
             }
            },
            "type": "scattergeo"
           }
          ],
          "scattergl": [
           {
            "marker": {
             "colorbar": {
              "outlinewidth": 0,
              "ticks": ""
             }
            },
            "type": "scattergl"
           }
          ],
          "scattermapbox": [
           {
            "marker": {
             "colorbar": {
              "outlinewidth": 0,
              "ticks": ""
             }
            },
            "type": "scattermapbox"
           }
          ],
          "scatterpolar": [
           {
            "marker": {
             "colorbar": {
              "outlinewidth": 0,
              "ticks": ""
             }
            },
            "type": "scatterpolar"
           }
          ],
          "scatterpolargl": [
           {
            "marker": {
             "colorbar": {
              "outlinewidth": 0,
              "ticks": ""
             }
            },
            "type": "scatterpolargl"
           }
          ],
          "scatterternary": [
           {
            "marker": {
             "colorbar": {
              "outlinewidth": 0,
              "ticks": ""
             }
            },
            "type": "scatterternary"
           }
          ],
          "surface": [
           {
            "colorbar": {
             "outlinewidth": 0,
             "ticks": ""
            },
            "colorscale": [
             [
              0,
              "#0d0887"
             ],
             [
              0.1111111111111111,
              "#46039f"
             ],
             [
              0.2222222222222222,
              "#7201a8"
             ],
             [
              0.3333333333333333,
              "#9c179e"
             ],
             [
              0.4444444444444444,
              "#bd3786"
             ],
             [
              0.5555555555555556,
              "#d8576b"
             ],
             [
              0.6666666666666666,
              "#ed7953"
             ],
             [
              0.7777777777777778,
              "#fb9f3a"
             ],
             [
              0.8888888888888888,
              "#fdca26"
             ],
             [
              1,
              "#f0f921"
             ]
            ],
            "type": "surface"
           }
          ],
          "table": [
           {
            "cells": {
             "fill": {
              "color": "#EBF0F8"
             },
             "line": {
              "color": "white"
             }
            },
            "header": {
             "fill": {
              "color": "#C8D4E3"
             },
             "line": {
              "color": "white"
             }
            },
            "type": "table"
           }
          ]
         },
         "layout": {
          "annotationdefaults": {
           "arrowcolor": "#2a3f5f",
           "arrowhead": 0,
           "arrowwidth": 1
          },
          "autotypenumbers": "strict",
          "coloraxis": {
           "colorbar": {
            "outlinewidth": 0,
            "ticks": ""
           }
          },
          "colorscale": {
           "diverging": [
            [
             0,
             "#8e0152"
            ],
            [
             0.1,
             "#c51b7d"
            ],
            [
             0.2,
             "#de77ae"
            ],
            [
             0.3,
             "#f1b6da"
            ],
            [
             0.4,
             "#fde0ef"
            ],
            [
             0.5,
             "#f7f7f7"
            ],
            [
             0.6,
             "#e6f5d0"
            ],
            [
             0.7,
             "#b8e186"
            ],
            [
             0.8,
             "#7fbc41"
            ],
            [
             0.9,
             "#4d9221"
            ],
            [
             1,
             "#276419"
            ]
           ],
           "sequential": [
            [
             0,
             "#0d0887"
            ],
            [
             0.1111111111111111,
             "#46039f"
            ],
            [
             0.2222222222222222,
             "#7201a8"
            ],
            [
             0.3333333333333333,
             "#9c179e"
            ],
            [
             0.4444444444444444,
             "#bd3786"
            ],
            [
             0.5555555555555556,
             "#d8576b"
            ],
            [
             0.6666666666666666,
             "#ed7953"
            ],
            [
             0.7777777777777778,
             "#fb9f3a"
            ],
            [
             0.8888888888888888,
             "#fdca26"
            ],
            [
             1,
             "#f0f921"
            ]
           ],
           "sequentialminus": [
            [
             0,
             "#0d0887"
            ],
            [
             0.1111111111111111,
             "#46039f"
            ],
            [
             0.2222222222222222,
             "#7201a8"
            ],
            [
             0.3333333333333333,
             "#9c179e"
            ],
            [
             0.4444444444444444,
             "#bd3786"
            ],
            [
             0.5555555555555556,
             "#d8576b"
            ],
            [
             0.6666666666666666,
             "#ed7953"
            ],
            [
             0.7777777777777778,
             "#fb9f3a"
            ],
            [
             0.8888888888888888,
             "#fdca26"
            ],
            [
             1,
             "#f0f921"
            ]
           ]
          },
          "colorway": [
           "#636efa",
           "#EF553B",
           "#00cc96",
           "#ab63fa",
           "#FFA15A",
           "#19d3f3",
           "#FF6692",
           "#B6E880",
           "#FF97FF",
           "#FECB52"
          ],
          "font": {
           "color": "#2a3f5f"
          },
          "geo": {
           "bgcolor": "white",
           "lakecolor": "white",
           "landcolor": "#E5ECF6",
           "showlakes": true,
           "showland": true,
           "subunitcolor": "white"
          },
          "hoverlabel": {
           "align": "left"
          },
          "hovermode": "closest",
          "mapbox": {
           "style": "light"
          },
          "paper_bgcolor": "white",
          "plot_bgcolor": "#E5ECF6",
          "polar": {
           "angularaxis": {
            "gridcolor": "white",
            "linecolor": "white",
            "ticks": ""
           },
           "bgcolor": "#E5ECF6",
           "radialaxis": {
            "gridcolor": "white",
            "linecolor": "white",
            "ticks": ""
           }
          },
          "scene": {
           "xaxis": {
            "backgroundcolor": "#E5ECF6",
            "gridcolor": "white",
            "gridwidth": 2,
            "linecolor": "white",
            "showbackground": true,
            "ticks": "",
            "zerolinecolor": "white"
           },
           "yaxis": {
            "backgroundcolor": "#E5ECF6",
            "gridcolor": "white",
            "gridwidth": 2,
            "linecolor": "white",
            "showbackground": true,
            "ticks": "",
            "zerolinecolor": "white"
           },
           "zaxis": {
            "backgroundcolor": "#E5ECF6",
            "gridcolor": "white",
            "gridwidth": 2,
            "linecolor": "white",
            "showbackground": true,
            "ticks": "",
            "zerolinecolor": "white"
           }
          },
          "shapedefaults": {
           "line": {
            "color": "#2a3f5f"
           }
          },
          "ternary": {
           "aaxis": {
            "gridcolor": "white",
            "linecolor": "white",
            "ticks": ""
           },
           "baxis": {
            "gridcolor": "white",
            "linecolor": "white",
            "ticks": ""
           },
           "bgcolor": "#E5ECF6",
           "caxis": {
            "gridcolor": "white",
            "linecolor": "white",
            "ticks": ""
           }
          },
          "title": {
           "x": 0.05
          },
          "xaxis": {
           "automargin": true,
           "gridcolor": "white",
           "linecolor": "white",
           "ticks": "",
           "title": {
            "standoff": 15
           },
           "zerolinecolor": "white",
           "zerolinewidth": 2
          },
          "yaxis": {
           "automargin": true,
           "gridcolor": "white",
           "linecolor": "white",
           "ticks": "",
           "title": {
            "standoff": 15
           },
           "zerolinecolor": "white",
           "zerolinewidth": 2
          }
         }
        },
        "title": {
         "text": "Hyperparameter Importances"
        },
        "xaxis": {
         "title": {
          "text": "Importance for Objective Value"
         }
        },
        "yaxis": {
         "title": {
          "text": "Hyperparameter"
         }
        }
       }
      }
     },
     "metadata": {},
     "output_type": "display_data"
    }
   ],
   "source": [
    "from IPython.display import display\n",
    "fig = optuna.visualization.plot_parallel_coordinate(study)\n",
    "display(fig)\n",
    "fig = optuna.visualization.plot_optimization_history(study)\n",
    "display(fig)\n",
    "fig = optuna.visualization.plot_slice(study)\n",
    "display(fig)\n",
    "fig = optuna.visualization.plot_param_importances(study)\n",
    "display(fig)"
   ]
  },
  {
   "cell_type": "code",
   "execution_count": 23,
   "metadata": {},
   "outputs": [
    {
     "name": "stdout",
     "output_type": "stream",
     "text": [
      "  Best trial:  FrozenTrial(number=22, state=TrialState.COMPLETE, values=[30.605316162109375], datetime_start=datetime.datetime(2024, 4, 2, 22, 37, 3, 302438), datetime_complete=datetime.datetime(2024, 4, 2, 22, 43, 0, 246051), params={'neu': 810, 'lay': 1, 'bat': 384, 'lr': 0.0053935887501248515, 'dropout': 0.4}, user_attrs={}, system_attrs={}, intermediate_values={30: 30.605316162109375}, distributions={'neu': IntDistribution(high=910, log=False, low=10, step=100), 'lay': IntDistribution(high=9, log=False, low=1, step=2), 'bat': IntDistribution(high=1024, log=False, low=32, step=32), 'lr': FloatDistribution(high=0.1, log=True, low=1e-05, step=None), 'dropout': FloatDistribution(high=0.8, log=False, low=0.0, step=0.2)}, trial_id=22, value=None)\n"
     ]
    }
   ],
   "source": [
    "print(\"  Best trial: \", trial)"
   ]
  }
 ],
 "metadata": {
  "kernelspec": {
   "display_name": "deepar-gpu",
   "language": "python",
   "name": "python3"
  },
  "language_info": {
   "codemirror_mode": {
    "name": "ipython",
    "version": 3
   },
   "file_extension": ".py",
   "mimetype": "text/x-python",
   "name": "python",
   "nbconvert_exporter": "python",
   "pygments_lexer": "ipython3",
   "version": "3.10.9"
  }
 },
 "nbformat": 4,
 "nbformat_minor": 2
}

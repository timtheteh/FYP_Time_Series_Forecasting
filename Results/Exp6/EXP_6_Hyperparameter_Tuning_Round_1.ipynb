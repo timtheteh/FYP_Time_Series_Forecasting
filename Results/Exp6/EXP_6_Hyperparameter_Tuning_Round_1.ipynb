{
 "cells": [
  {
   "cell_type": "code",
   "execution_count": 1,
   "metadata": {},
   "outputs": [
    {
     "name": "stderr",
     "output_type": "stream",
     "text": [
      "2024-04-02 18:12:28.481001: I tensorflow/core/util/port.cc:113] oneDNN custom operations are on. You may see slightly different numerical results due to floating-point round-off errors from different computation orders. To turn them off, set the environment variable `TF_ENABLE_ONEDNN_OPTS=0`.\n",
      "2024-04-02 18:12:28.482154: I external/local_tsl/tsl/cuda/cudart_stub.cc:31] Could not find cuda drivers on your machine, GPU will not be used.\n",
      "2024-04-02 18:12:28.499852: E external/local_xla/xla/stream_executor/cuda/cuda_dnn.cc:9261] Unable to register cuDNN factory: Attempting to register factory for plugin cuDNN when one has already been registered\n",
      "2024-04-02 18:12:28.499874: E external/local_xla/xla/stream_executor/cuda/cuda_fft.cc:607] Unable to register cuFFT factory: Attempting to register factory for plugin cuFFT when one has already been registered\n",
      "2024-04-02 18:12:28.500347: E external/local_xla/xla/stream_executor/cuda/cuda_blas.cc:1515] Unable to register cuBLAS factory: Attempting to register factory for plugin cuBLAS when one has already been registered\n",
      "2024-04-02 18:12:28.521143: I tensorflow/core/platform/cpu_feature_guard.cc:182] This TensorFlow binary is optimized to use available CPU instructions in performance-critical operations.\n",
      "To enable the following instructions: AVX2 AVX_VNNI FMA, in other operations, rebuild TensorFlow with the appropriate compiler flags.\n",
      "2024-04-02 18:12:29.385810: W tensorflow/compiler/tf2tensorrt/utils/py_utils.cc:38] TF-TRT Warning: Could not find TensorRT\n",
      "Global seed set to 0\n"
     ]
    },
    {
     "data": {
      "text/plain": [
       "0"
      ]
     },
     "execution_count": 1,
     "metadata": {},
     "output_type": "execute_result"
    }
   ],
   "source": [
    "import os\n",
    "import sys\n",
    "\n",
    "\"\"\"Linux\"\"\"\n",
    "os.chdir(\"/home/optimusprime/Desktop/peeterson/github/DeepAR_demand_prediction/Rental_Fleet_Demand_Forecast\")\n",
    "sys.path.append(os.path.abspath(os.path.join(\"/home/optimusprime/Desktop/peeterson/github/DeepAR_demand_prediction/Rental_Fleet_Demand_Forecast\")))\n",
    "\n",
    "os.chdir(\"/home/optimusprime/Desktop/peeterson/github/DeepAR_demand_prediction/Rental_Fleet_Demand_Forecast/libs/linux-gpu\")\n",
    "\n",
    "\n",
    "#from ctypes import FormatError\n",
    "import numpy as np\n",
    "\n",
    "import warnings\n",
    "warnings.filterwarnings(\"ignore\")\n",
    "\n",
    "import os,sys\n",
    "\n",
    "import torch\n",
    "torch.use_deterministic_algorithms(True)\n",
    "import pytorch_lightning as pl\n",
    "from pytorch_forecasting.data.encoders import TorchNormalizer\n",
    "from pytorch_forecasting.metrics import SMAPE, RMSE\n",
    "from torchmetrics import R2Score, SymmetricMeanAbsolutePercentageError, MeanSquaredError\n",
    "\n",
    "import matplotlib.pyplot as plt\n",
    "import pandas as pd\n",
    "from pytorch_forecasting.data import TimeSeriesDataSet\n",
    "from pytorch_forecasting.data.encoders import NaNLabelEncoder\n",
    "from pytorch_lightning.callbacks import EarlyStopping, LearningRateMonitor\n",
    "import torch\n",
    "from pytorch_forecasting.data.encoders import TorchNormalizer\n",
    "import os,sys\n",
    "import numpy as np\n",
    "from statsmodels.tsa.stattools import adfuller\n",
    "from statsmodels.tsa.seasonal import seasonal_decompose\n",
    "from statsmodels.graphics.tsaplots import plot_acf\n",
    "from statsmodels.graphics.tsaplots import plot_pacf\n",
    "from statsmodels.tsa.stattools import acf,pacf\n",
    "from scipy.signal import find_peaks\n",
    "import operator\n",
    "import statsmodels.api as sm\n",
    "from itertools import combinations\n",
    "import pickle\n",
    "from pytorch_forecasting import Baseline\n",
    "import random\n",
    "from pytorch_forecasting import DeepAR,NegativeBinomialDistributionLoss\n",
    "from itertools import product\n",
    "from sklearn.metrics import mean_absolute_error, mean_squared_error\n",
    "import optuna\n",
    "from optuna.trial import TrialState\n",
    "import plotly\n",
    "#from deepar_RegionWise_LinuxGpu_prediction_dev import train_and_forecast\n",
    "from sklearn.metrics import classification_report\n",
    "\n",
    "\"\"\"\n",
    "Set Random seed\n",
    "\"\"\"\n",
    "\n",
    "random.seed(0)\n",
    "torch.manual_seed(0)\n",
    "np.random.seed(0)\n",
    "## additional seeding to ensure reproduciblility.\n",
    "pl.seed_everything(0)"
   ]
  },
  {
   "cell_type": "markdown",
   "metadata": {},
   "source": [
    "Now for the round 0, we reduce dataset even more from 20% to 10%. num-epochs to a fixed value of 50. number of trials to a fixed number of 40."
   ]
  },
  {
   "cell_type": "code",
   "execution_count": 2,
   "metadata": {},
   "outputs": [],
   "source": [
    "dataset_size = 0.05\n",
    "num_epochs = 30\n",
    "num_trials = 30\n",
    "logs_directory = \"/home/optimusprime/Desktop/Timothy_EXP_6/Round_1_logs\""
   ]
  },
  {
   "cell_type": "code",
   "execution_count": 3,
   "metadata": {},
   "outputs": [
    {
     "data": {
      "text/html": [
       "<div>\n",
       "<style scoped>\n",
       "    .dataframe tbody tr th:only-of-type {\n",
       "        vertical-align: middle;\n",
       "    }\n",
       "\n",
       "    .dataframe tbody tr th {\n",
       "        vertical-align: top;\n",
       "    }\n",
       "\n",
       "    .dataframe thead th {\n",
       "        text-align: right;\n",
       "    }\n",
       "</style>\n",
       "<table border=\"1\" class=\"dataframe\">\n",
       "  <thead>\n",
       "    <tr style=\"text-align: right;\">\n",
       "      <th></th>\n",
       "      <th>time_idx</th>\n",
       "      <th>datetime</th>\n",
       "      <th>group</th>\n",
       "      <th>target</th>\n",
       "      <th>inflow_lag_0</th>\n",
       "      <th>inflow_lag_1</th>\n",
       "      <th>inflow_lag_2</th>\n",
       "      <th>inflow_lag_3</th>\n",
       "      <th>inflow_lag_4</th>\n",
       "      <th>inflow_lag_5</th>\n",
       "      <th>...</th>\n",
       "      <th>inflow_diff2_per1__fft_coefficient__attr_\"real\"__coeff_1</th>\n",
       "      <th>inflow_diff2_per1__count_above_mean</th>\n",
       "      <th>inflow_diff2_per1__count_below_mean</th>\n",
       "      <th>inflow_diff2_per1__autocorrelation__lag_1</th>\n",
       "      <th>inflow_diff2_per1__autocorrelation__lag_3</th>\n",
       "      <th>inflow_diff2_per1__partial_autocorrelation__lag_1</th>\n",
       "      <th>inflow_diff2_per1__skewness</th>\n",
       "      <th>inflow_diff2_per1__autocorrelation__lag_2</th>\n",
       "      <th>inflow_diff2_per1__kurtosis</th>\n",
       "      <th>inflow_diff2_per1__partial_autocorrelation__lag_2</th>\n",
       "    </tr>\n",
       "  </thead>\n",
       "  <tbody>\n",
       "    <tr>\n",
       "      <th>0</th>\n",
       "      <td>169</td>\n",
       "      <td>2021-01-08 01:00:00</td>\n",
       "      <td>school</td>\n",
       "      <td>66.0</td>\n",
       "      <td>101.0</td>\n",
       "      <td>87.0</td>\n",
       "      <td>422.0</td>\n",
       "      <td>448.0</td>\n",
       "      <td>305.0</td>\n",
       "      <td>90.0</td>\n",
       "      <td>...</td>\n",
       "      <td>-60.456708</td>\n",
       "      <td>0.0</td>\n",
       "      <td>0.0</td>\n",
       "      <td>-0.081640</td>\n",
       "      <td>-0.027738</td>\n",
       "      <td>-0.081622</td>\n",
       "      <td>-0.496245</td>\n",
       "      <td>-0.263488</td>\n",
       "      <td>0.490017</td>\n",
       "      <td>-0.303142</td>\n",
       "    </tr>\n",
       "    <tr>\n",
       "      <th>1</th>\n",
       "      <td>170</td>\n",
       "      <td>2021-01-08 02:00:00</td>\n",
       "      <td>school</td>\n",
       "      <td>32.0</td>\n",
       "      <td>50.0</td>\n",
       "      <td>53.0</td>\n",
       "      <td>410.0</td>\n",
       "      <td>327.0</td>\n",
       "      <td>652.0</td>\n",
       "      <td>37.0</td>\n",
       "      <td>...</td>\n",
       "      <td>-14.000000</td>\n",
       "      <td>1.0</td>\n",
       "      <td>1.0</td>\n",
       "      <td>-1.000000</td>\n",
       "      <td>-0.027738</td>\n",
       "      <td>-0.081622</td>\n",
       "      <td>-0.496245</td>\n",
       "      <td>-0.263488</td>\n",
       "      <td>0.490017</td>\n",
       "      <td>-0.303142</td>\n",
       "    </tr>\n",
       "    <tr>\n",
       "      <th>2</th>\n",
       "      <td>171</td>\n",
       "      <td>2021-01-08 03:00:00</td>\n",
       "      <td>school</td>\n",
       "      <td>19.0</td>\n",
       "      <td>30.0</td>\n",
       "      <td>33.0</td>\n",
       "      <td>285.0</td>\n",
       "      <td>177.0</td>\n",
       "      <td>1094.0</td>\n",
       "      <td>24.0</td>\n",
       "      <td>...</td>\n",
       "      <td>-2.500000</td>\n",
       "      <td>1.0</td>\n",
       "      <td>2.0</td>\n",
       "      <td>-0.849256</td>\n",
       "      <td>-0.027738</td>\n",
       "      <td>-0.081622</td>\n",
       "      <td>0.633716</td>\n",
       "      <td>0.198511</td>\n",
       "      <td>0.490017</td>\n",
       "      <td>-0.303142</td>\n",
       "    </tr>\n",
       "    <tr>\n",
       "      <th>3</th>\n",
       "      <td>172</td>\n",
       "      <td>2021-01-08 04:00:00</td>\n",
       "      <td>school</td>\n",
       "      <td>25.0</td>\n",
       "      <td>19.0</td>\n",
       "      <td>25.0</td>\n",
       "      <td>143.0</td>\n",
       "      <td>101.0</td>\n",
       "      <td>1120.0</td>\n",
       "      <td>20.0</td>\n",
       "      <td>...</td>\n",
       "      <td>9.000000</td>\n",
       "      <td>2.0</td>\n",
       "      <td>2.0</td>\n",
       "      <td>-0.929158</td>\n",
       "      <td>-0.711447</td>\n",
       "      <td>-0.929158</td>\n",
       "      <td>-0.071375</td>\n",
       "      <td>0.749460</td>\n",
       "      <td>-2.711060</td>\n",
       "      <td>-0.303142</td>\n",
       "    </tr>\n",
       "    <tr>\n",
       "      <th>4</th>\n",
       "      <td>173</td>\n",
       "      <td>2021-01-08 05:00:00</td>\n",
       "      <td>school</td>\n",
       "      <td>105.0</td>\n",
       "      <td>30.0</td>\n",
       "      <td>32.0</td>\n",
       "      <td>69.0</td>\n",
       "      <td>50.0</td>\n",
       "      <td>1135.0</td>\n",
       "      <td>18.0</td>\n",
       "      <td>...</td>\n",
       "      <td>1.225425</td>\n",
       "      <td>3.0</td>\n",
       "      <td>2.0</td>\n",
       "      <td>-0.268487</td>\n",
       "      <td>-0.207884</td>\n",
       "      <td>-0.268487</td>\n",
       "      <td>-0.544485</td>\n",
       "      <td>-0.049543</td>\n",
       "      <td>-1.927011</td>\n",
       "      <td>-0.303142</td>\n",
       "    </tr>\n",
       "    <tr>\n",
       "      <th>...</th>\n",
       "      <td>...</td>\n",
       "      <td>...</td>\n",
       "      <td>...</td>\n",
       "      <td>...</td>\n",
       "      <td>...</td>\n",
       "      <td>...</td>\n",
       "      <td>...</td>\n",
       "      <td>...</td>\n",
       "      <td>...</td>\n",
       "      <td>...</td>\n",
       "      <td>...</td>\n",
       "      <td>...</td>\n",
       "      <td>...</td>\n",
       "      <td>...</td>\n",
       "      <td>...</td>\n",
       "      <td>...</td>\n",
       "      <td>...</td>\n",
       "      <td>...</td>\n",
       "      <td>...</td>\n",
       "      <td>...</td>\n",
       "      <td>...</td>\n",
       "    </tr>\n",
       "    <tr>\n",
       "      <th>246435</th>\n",
       "      <td>24808</td>\n",
       "      <td>2023-10-31 16:00:00</td>\n",
       "      <td>religious</td>\n",
       "      <td>732.0</td>\n",
       "      <td>998.0</td>\n",
       "      <td>848.0</td>\n",
       "      <td>906.0</td>\n",
       "      <td>1070.0</td>\n",
       "      <td>678.0</td>\n",
       "      <td>1169.0</td>\n",
       "      <td>...</td>\n",
       "      <td>-2348.787241</td>\n",
       "      <td>13.0</td>\n",
       "      <td>12.0</td>\n",
       "      <td>0.160769</td>\n",
       "      <td>-0.059342</td>\n",
       "      <td>0.160769</td>\n",
       "      <td>-0.004889</td>\n",
       "      <td>-0.165414</td>\n",
       "      <td>-1.039837</td>\n",
       "      <td>-0.196335</td>\n",
       "    </tr>\n",
       "    <tr>\n",
       "      <th>246436</th>\n",
       "      <td>24809</td>\n",
       "      <td>2023-10-31 17:00:00</td>\n",
       "      <td>religious</td>\n",
       "      <td>637.0</td>\n",
       "      <td>840.0</td>\n",
       "      <td>798.0</td>\n",
       "      <td>910.0</td>\n",
       "      <td>882.0</td>\n",
       "      <td>476.0</td>\n",
       "      <td>942.0</td>\n",
       "      <td>...</td>\n",
       "      <td>-1053.705532</td>\n",
       "      <td>14.0</td>\n",
       "      <td>11.0</td>\n",
       "      <td>0.129439</td>\n",
       "      <td>-0.185665</td>\n",
       "      <td>0.129439</td>\n",
       "      <td>-0.071656</td>\n",
       "      <td>-0.180286</td>\n",
       "      <td>-0.891656</td>\n",
       "      <td>-0.200398</td>\n",
       "    </tr>\n",
       "    <tr>\n",
       "      <th>246437</th>\n",
       "      <td>24810</td>\n",
       "      <td>2023-10-31 18:00:00</td>\n",
       "      <td>religious</td>\n",
       "      <td>602.0</td>\n",
       "      <td>697.0</td>\n",
       "      <td>737.0</td>\n",
       "      <td>951.0</td>\n",
       "      <td>879.0</td>\n",
       "      <td>297.0</td>\n",
       "      <td>895.0</td>\n",
       "      <td>...</td>\n",
       "      <td>-159.359368</td>\n",
       "      <td>15.0</td>\n",
       "      <td>10.0</td>\n",
       "      <td>0.142760</td>\n",
       "      <td>-0.226929</td>\n",
       "      <td>0.142760</td>\n",
       "      <td>-0.186733</td>\n",
       "      <td>-0.239184</td>\n",
       "      <td>-0.900303</td>\n",
       "      <td>-0.264965</td>\n",
       "    </tr>\n",
       "    <tr>\n",
       "      <th>246438</th>\n",
       "      <td>24811</td>\n",
       "      <td>2023-10-31 19:00:00</td>\n",
       "      <td>religious</td>\n",
       "      <td>452.0</td>\n",
       "      <td>665.0</td>\n",
       "      <td>678.0</td>\n",
       "      <td>998.0</td>\n",
       "      <td>942.0</td>\n",
       "      <td>124.0</td>\n",
       "      <td>933.0</td>\n",
       "      <td>...</td>\n",
       "      <td>-141.605817</td>\n",
       "      <td>14.0</td>\n",
       "      <td>11.0</td>\n",
       "      <td>0.139179</td>\n",
       "      <td>-0.186107</td>\n",
       "      <td>0.139179</td>\n",
       "      <td>-0.059585</td>\n",
       "      <td>-0.234582</td>\n",
       "      <td>-1.027312</td>\n",
       "      <td>-0.258970</td>\n",
       "    </tr>\n",
       "    <tr>\n",
       "      <th>246439</th>\n",
       "      <td>24812</td>\n",
       "      <td>2023-10-31 20:00:00</td>\n",
       "      <td>religious</td>\n",
       "      <td>458.0</td>\n",
       "      <td>582.0</td>\n",
       "      <td>476.0</td>\n",
       "      <td>840.0</td>\n",
       "      <td>738.0</td>\n",
       "      <td>77.0</td>\n",
       "      <td>819.0</td>\n",
       "      <td>...</td>\n",
       "      <td>582.322144</td>\n",
       "      <td>14.0</td>\n",
       "      <td>11.0</td>\n",
       "      <td>0.143353</td>\n",
       "      <td>-0.139791</td>\n",
       "      <td>0.143353</td>\n",
       "      <td>-0.023768</td>\n",
       "      <td>-0.199484</td>\n",
       "      <td>-0.981787</td>\n",
       "      <td>-0.224651</td>\n",
       "    </tr>\n",
       "  </tbody>\n",
       "</table>\n",
       "<p>246440 rows × 208 columns</p>\n",
       "</div>"
      ],
      "text/plain": [
       "        time_idx            datetime      group  target  inflow_lag_0  \\\n",
       "0            169 2021-01-08 01:00:00     school    66.0         101.0   \n",
       "1            170 2021-01-08 02:00:00     school    32.0          50.0   \n",
       "2            171 2021-01-08 03:00:00     school    19.0          30.0   \n",
       "3            172 2021-01-08 04:00:00     school    25.0          19.0   \n",
       "4            173 2021-01-08 05:00:00     school   105.0          30.0   \n",
       "...          ...                 ...        ...     ...           ...   \n",
       "246435     24808 2023-10-31 16:00:00  religious   732.0         998.0   \n",
       "246436     24809 2023-10-31 17:00:00  religious   637.0         840.0   \n",
       "246437     24810 2023-10-31 18:00:00  religious   602.0         697.0   \n",
       "246438     24811 2023-10-31 19:00:00  religious   452.0         665.0   \n",
       "246439     24812 2023-10-31 20:00:00  religious   458.0         582.0   \n",
       "\n",
       "        inflow_lag_1  inflow_lag_2  inflow_lag_3  inflow_lag_4  inflow_lag_5  \\\n",
       "0               87.0         422.0         448.0         305.0          90.0   \n",
       "1               53.0         410.0         327.0         652.0          37.0   \n",
       "2               33.0         285.0         177.0        1094.0          24.0   \n",
       "3               25.0         143.0         101.0        1120.0          20.0   \n",
       "4               32.0          69.0          50.0        1135.0          18.0   \n",
       "...              ...           ...           ...           ...           ...   \n",
       "246435         848.0         906.0        1070.0         678.0        1169.0   \n",
       "246436         798.0         910.0         882.0         476.0         942.0   \n",
       "246437         737.0         951.0         879.0         297.0         895.0   \n",
       "246438         678.0         998.0         942.0         124.0         933.0   \n",
       "246439         476.0         840.0         738.0          77.0         819.0   \n",
       "\n",
       "        ...  inflow_diff2_per1__fft_coefficient__attr_\"real\"__coeff_1  \\\n",
       "0       ...                                         -60.456708          \n",
       "1       ...                                         -14.000000          \n",
       "2       ...                                          -2.500000          \n",
       "3       ...                                           9.000000          \n",
       "4       ...                                           1.225425          \n",
       "...     ...                                                ...          \n",
       "246435  ...                                       -2348.787241          \n",
       "246436  ...                                       -1053.705532          \n",
       "246437  ...                                        -159.359368          \n",
       "246438  ...                                        -141.605817          \n",
       "246439  ...                                         582.322144          \n",
       "\n",
       "        inflow_diff2_per1__count_above_mean  \\\n",
       "0                                       0.0   \n",
       "1                                       1.0   \n",
       "2                                       1.0   \n",
       "3                                       2.0   \n",
       "4                                       3.0   \n",
       "...                                     ...   \n",
       "246435                                 13.0   \n",
       "246436                                 14.0   \n",
       "246437                                 15.0   \n",
       "246438                                 14.0   \n",
       "246439                                 14.0   \n",
       "\n",
       "        inflow_diff2_per1__count_below_mean  \\\n",
       "0                                       0.0   \n",
       "1                                       1.0   \n",
       "2                                       2.0   \n",
       "3                                       2.0   \n",
       "4                                       2.0   \n",
       "...                                     ...   \n",
       "246435                                 12.0   \n",
       "246436                                 11.0   \n",
       "246437                                 10.0   \n",
       "246438                                 11.0   \n",
       "246439                                 11.0   \n",
       "\n",
       "        inflow_diff2_per1__autocorrelation__lag_1  \\\n",
       "0                                       -0.081640   \n",
       "1                                       -1.000000   \n",
       "2                                       -0.849256   \n",
       "3                                       -0.929158   \n",
       "4                                       -0.268487   \n",
       "...                                           ...   \n",
       "246435                                   0.160769   \n",
       "246436                                   0.129439   \n",
       "246437                                   0.142760   \n",
       "246438                                   0.139179   \n",
       "246439                                   0.143353   \n",
       "\n",
       "        inflow_diff2_per1__autocorrelation__lag_3  \\\n",
       "0                                       -0.027738   \n",
       "1                                       -0.027738   \n",
       "2                                       -0.027738   \n",
       "3                                       -0.711447   \n",
       "4                                       -0.207884   \n",
       "...                                           ...   \n",
       "246435                                  -0.059342   \n",
       "246436                                  -0.185665   \n",
       "246437                                  -0.226929   \n",
       "246438                                  -0.186107   \n",
       "246439                                  -0.139791   \n",
       "\n",
       "        inflow_diff2_per1__partial_autocorrelation__lag_1  \\\n",
       "0                                               -0.081622   \n",
       "1                                               -0.081622   \n",
       "2                                               -0.081622   \n",
       "3                                               -0.929158   \n",
       "4                                               -0.268487   \n",
       "...                                                   ...   \n",
       "246435                                           0.160769   \n",
       "246436                                           0.129439   \n",
       "246437                                           0.142760   \n",
       "246438                                           0.139179   \n",
       "246439                                           0.143353   \n",
       "\n",
       "        inflow_diff2_per1__skewness  \\\n",
       "0                         -0.496245   \n",
       "1                         -0.496245   \n",
       "2                          0.633716   \n",
       "3                         -0.071375   \n",
       "4                         -0.544485   \n",
       "...                             ...   \n",
       "246435                    -0.004889   \n",
       "246436                    -0.071656   \n",
       "246437                    -0.186733   \n",
       "246438                    -0.059585   \n",
       "246439                    -0.023768   \n",
       "\n",
       "        inflow_diff2_per1__autocorrelation__lag_2  \\\n",
       "0                                       -0.263488   \n",
       "1                                       -0.263488   \n",
       "2                                        0.198511   \n",
       "3                                        0.749460   \n",
       "4                                       -0.049543   \n",
       "...                                           ...   \n",
       "246435                                  -0.165414   \n",
       "246436                                  -0.180286   \n",
       "246437                                  -0.239184   \n",
       "246438                                  -0.234582   \n",
       "246439                                  -0.199484   \n",
       "\n",
       "        inflow_diff2_per1__kurtosis  \\\n",
       "0                          0.490017   \n",
       "1                          0.490017   \n",
       "2                          0.490017   \n",
       "3                         -2.711060   \n",
       "4                         -1.927011   \n",
       "...                             ...   \n",
       "246435                    -1.039837   \n",
       "246436                    -0.891656   \n",
       "246437                    -0.900303   \n",
       "246438                    -1.027312   \n",
       "246439                    -0.981787   \n",
       "\n",
       "        inflow_diff2_per1__partial_autocorrelation__lag_2  \n",
       "0                                               -0.303142  \n",
       "1                                               -0.303142  \n",
       "2                                               -0.303142  \n",
       "3                                               -0.303142  \n",
       "4                                               -0.303142  \n",
       "...                                                   ...  \n",
       "246435                                          -0.196335  \n",
       "246436                                          -0.200398  \n",
       "246437                                          -0.264965  \n",
       "246438                                          -0.258970  \n",
       "246439                                          -0.224651  \n",
       "\n",
       "[246440 rows x 208 columns]"
      ]
     },
     "execution_count": 3,
     "metadata": {},
     "output_type": "execute_result"
    }
   ],
   "source": [
    "\"\"\"\n",
    "Import pre-processed Data (tsfresh features)\n",
    "\n",
    "response and target are the same thing\n",
    "\"\"\"\n",
    "\n",
    "### Your code\n",
    "os.chdir('/home/optimusprime/Desktop/Data_Timothy')\n",
    "############ Basically df = raw_feat_df <-------------------------\n",
    "df = pd.read_parquet('EXP_6_combined_dd_ss_raw_feat_data_poi_aggregation.parquet', engine='pyarrow')\n",
    "df"
   ]
  },
  {
   "cell_type": "code",
   "execution_count": 4,
   "metadata": {},
   "outputs": [],
   "source": [
    "working_directory = '/home/optimusprime/Desktop/Timothy_EXP_6'\n",
    "os.chdir(working_directory)"
   ]
  },
  {
   "cell_type": "code",
   "execution_count": 5,
   "metadata": {},
   "outputs": [],
   "source": [
    "first_idx = df.loc[df['group'] == 'school', 'time_idx'].iloc[0]\n",
    "total_time_idx = df[df.group == 'school'].shape[0]\n",
    "reduced_df_time_idx = [*range(first_idx, int(dataset_size*total_time_idx)+1, 1)]\n",
    "df = df[df['time_idx'].isin(reduced_df_time_idx)]"
   ]
  },
  {
   "cell_type": "code",
   "execution_count": 6,
   "metadata": {},
   "outputs": [
    {
     "name": "stdout",
     "output_type": "stream",
     "text": [
      "['inflow_lag_0', 'inflow_lag_1', 'inflow_lag_2', 'inflow_lag_3', 'inflow_lag_4', 'inflow_lag_5', 'outflow_lag_0', 'outflow_lag_1', 'outflow_lag_2', 'outflow_lag_3', 'outflow_lag_4', 'outflow_lag_5', 'inflow', 'inflow_diff1_per1', 'inflow_diff1_per2', 'inflow_diff2_per1', 'inflow_lag_0__fft_coefficient__attr_\"real\"__coeff_1', 'inflow_lag_0__skewness', 'inflow_lag_0__kurtosis', 'inflow_lag_0__count_above_mean', 'inflow_lag_0__count_below_mean', 'inflow_lag_0__autocorrelation__lag_1', 'inflow_lag_0__autocorrelation__lag_2', 'inflow_lag_0__autocorrelation__lag_3', 'inflow_lag_0__partial_autocorrelation__lag_1', 'inflow_lag_0__partial_autocorrelation__lag_2', 'inflow_lag_0__partial_autocorrelation__lag_3', 'inflow_lag_0__fft_coefficient__attr_\"real\"__coeff_0', 'inflow_lag_1__fft_coefficient__attr_\"real\"__coeff_1', 'inflow_lag_1__skewness', 'inflow_lag_1__kurtosis', 'inflow_lag_1__count_above_mean', 'inflow_lag_1__count_below_mean', 'inflow_lag_1__autocorrelation__lag_1', 'inflow_lag_1__autocorrelation__lag_2', 'inflow_lag_1__autocorrelation__lag_3', 'inflow_lag_1__partial_autocorrelation__lag_1', 'inflow_lag_1__partial_autocorrelation__lag_2', 'inflow_lag_1__partial_autocorrelation__lag_3', 'inflow_lag_1__fft_coefficient__attr_\"real\"__coeff_0', 'inflow_lag_2__fft_coefficient__attr_\"real\"__coeff_1', 'inflow_lag_2__skewness', 'inflow_lag_2__kurtosis', 'inflow_lag_2__count_above_mean', 'inflow_lag_2__count_below_mean', 'inflow_lag_2__autocorrelation__lag_1', 'inflow_lag_2__autocorrelation__lag_2', 'inflow_lag_2__autocorrelation__lag_3', 'inflow_lag_2__partial_autocorrelation__lag_1', 'inflow_lag_2__partial_autocorrelation__lag_2', 'inflow_lag_2__partial_autocorrelation__lag_3', 'inflow_lag_2__fft_coefficient__attr_\"real\"__coeff_0', 'inflow_lag_3__fft_coefficient__attr_\"real\"__coeff_1', 'inflow_lag_3__skewness', 'inflow_lag_3__kurtosis', 'inflow_lag_3__count_above_mean', 'inflow_lag_3__count_below_mean', 'inflow_lag_3__autocorrelation__lag_3', 'inflow_lag_3__autocorrelation__lag_2', 'inflow_lag_3__partial_autocorrelation__lag_1', 'inflow_lag_3__autocorrelation__lag_1', 'inflow_lag_3__partial_autocorrelation__lag_3', 'inflow_lag_3__partial_autocorrelation__lag_2', 'inflow_lag_3__fft_coefficient__attr_\"real\"__coeff_0', 'inflow_lag_4__fft_coefficient__attr_\"real\"__coeff_1', 'inflow_lag_4__skewness', 'inflow_lag_4__kurtosis', 'inflow_lag_4__count_above_mean', 'inflow_lag_4__count_below_mean', 'inflow_lag_4__autocorrelation__lag_3', 'inflow_lag_4__autocorrelation__lag_2', 'inflow_lag_4__partial_autocorrelation__lag_1', 'inflow_lag_4__autocorrelation__lag_1', 'inflow_lag_4__partial_autocorrelation__lag_2', 'inflow_lag_4__fft_coefficient__attr_\"real\"__coeff_0', 'inflow_lag_5__fft_coefficient__attr_\"real\"__coeff_1', 'inflow_lag_5__skewness', 'inflow_lag_5__kurtosis', 'inflow_lag_5__count_above_mean', 'inflow_lag_5__count_below_mean', 'inflow_lag_5__autocorrelation__lag_1', 'inflow_lag_5__autocorrelation__lag_2', 'inflow_lag_5__autocorrelation__lag_3', 'inflow_lag_5__partial_autocorrelation__lag_1', 'inflow_lag_5__partial_autocorrelation__lag_2', 'inflow_lag_5__partial_autocorrelation__lag_3', 'inflow_lag_5__fft_coefficient__attr_\"real\"__coeff_0', 'outflow_lag_0__fft_coefficient__attr_\"real\"__coeff_1', 'outflow_lag_0__skewness', 'outflow_lag_0__kurtosis', 'outflow_lag_0__count_above_mean', 'outflow_lag_0__count_below_mean', 'outflow_lag_0__autocorrelation__lag_1', 'outflow_lag_0__autocorrelation__lag_2', 'outflow_lag_0__autocorrelation__lag_3', 'outflow_lag_0__partial_autocorrelation__lag_1', 'outflow_lag_0__partial_autocorrelation__lag_2', 'outflow_lag_0__partial_autocorrelation__lag_3', 'outflow_lag_0__fft_coefficient__attr_\"real\"__coeff_0', 'outflow_lag_1__fft_coefficient__attr_\"real\"__coeff_1', 'outflow_lag_1__skewness', 'outflow_lag_1__kurtosis', 'outflow_lag_1__count_above_mean', 'outflow_lag_1__count_below_mean', 'outflow_lag_1__autocorrelation__lag_1', 'outflow_lag_1__autocorrelation__lag_2', 'outflow_lag_1__autocorrelation__lag_3', 'outflow_lag_1__partial_autocorrelation__lag_1', 'outflow_lag_1__partial_autocorrelation__lag_2', 'outflow_lag_1__partial_autocorrelation__lag_3', 'outflow_lag_1__fft_coefficient__attr_\"real\"__coeff_0', 'outflow_lag_2__fft_coefficient__attr_\"real\"__coeff_1', 'outflow_lag_2__skewness', 'outflow_lag_2__kurtosis', 'outflow_lag_2__count_above_mean', 'outflow_lag_2__count_below_mean', 'outflow_lag_2__autocorrelation__lag_1', 'outflow_lag_2__autocorrelation__lag_2', 'outflow_lag_2__autocorrelation__lag_3', 'outflow_lag_2__partial_autocorrelation__lag_1', 'outflow_lag_2__partial_autocorrelation__lag_2', 'outflow_lag_2__partial_autocorrelation__lag_3', 'outflow_lag_2__fft_coefficient__attr_\"real\"__coeff_0', 'outflow_lag_3__fft_coefficient__attr_\"real\"__coeff_1', 'outflow_lag_3__skewness', 'outflow_lag_3__kurtosis', 'outflow_lag_3__count_above_mean', 'outflow_lag_3__count_below_mean', 'outflow_lag_3__autocorrelation__lag_3', 'outflow_lag_3__autocorrelation__lag_2', 'outflow_lag_3__fft_coefficient__attr_\"real\"__coeff_0', 'outflow_lag_3__partial_autocorrelation__lag_1', 'outflow_lag_3__autocorrelation__lag_1', 'outflow_lag_3__partial_autocorrelation__lag_2', 'outflow_lag_4__fft_coefficient__attr_\"real\"__coeff_1', 'outflow_lag_4__skewness', 'outflow_lag_4__kurtosis', 'outflow_lag_4__count_above_mean', 'outflow_lag_4__count_below_mean', 'outflow_lag_4__autocorrelation__lag_2', 'outflow_lag_4__autocorrelation__lag_3', 'outflow_lag_4__partial_autocorrelation__lag_1', 'outflow_lag_4__autocorrelation__lag_1', 'outflow_lag_4__partial_autocorrelation__lag_2', 'outflow_lag_4__fft_coefficient__attr_\"real\"__coeff_0', 'outflow_lag_4__partial_autocorrelation__lag_3', 'outflow_lag_5__fft_coefficient__attr_\"real\"__coeff_1', 'outflow_lag_5__skewness', 'outflow_lag_5__kurtosis', 'outflow_lag_5__count_above_mean', 'outflow_lag_5__count_below_mean', 'outflow_lag_5__autocorrelation__lag_1', 'outflow_lag_5__autocorrelation__lag_2', 'outflow_lag_5__autocorrelation__lag_3', 'outflow_lag_5__partial_autocorrelation__lag_1', 'outflow_lag_5__partial_autocorrelation__lag_2', 'outflow_lag_5__partial_autocorrelation__lag_3', 'outflow_lag_5__fft_coefficient__attr_\"real\"__coeff_0', 'inflow__fft_coefficient__attr_\"real\"__coeff_1', 'inflow__skewness', 'inflow__kurtosis', 'inflow__count_above_mean', 'inflow__count_below_mean', 'inflow__autocorrelation__lag_1', 'inflow__autocorrelation__lag_2', 'inflow__autocorrelation__lag_3', 'inflow__partial_autocorrelation__lag_1', 'inflow__partial_autocorrelation__lag_2', 'inflow__partial_autocorrelation__lag_3', 'inflow__fft_coefficient__attr_\"real\"__coeff_0', 'inflow_diff1_per1__fft_coefficient__attr_\"real\"__coeff_0', 'inflow_diff1_per1__autocorrelation__lag_3', 'inflow_diff1_per1__partial_autocorrelation__lag_2', 'inflow_diff1_per1__count_above_mean', 'inflow_diff1_per1__count_below_mean', 'inflow_diff1_per1__skewness', 'inflow_diff1_per1__autocorrelation__lag_2', 'inflow_diff1_per1__autocorrelation__lag_1', 'inflow_diff1_per1__partial_autocorrelation__lag_1', 'inflow_diff1_per1__fft_coefficient__attr_\"real\"__coeff_1', 'inflow_diff1_per1__kurtosis', 'inflow_diff1_per1__partial_autocorrelation__lag_3', 'inflow_diff1_per2__fft_coefficient__attr_\"real\"__coeff_0', 'inflow_diff1_per2__fft_coefficient__attr_\"real\"__coeff_1', 'inflow_diff1_per2__count_above_mean', 'inflow_diff1_per2__count_below_mean', 'inflow_diff1_per2__autocorrelation__lag_3', 'inflow_diff1_per2__skewness', 'inflow_diff1_per2__partial_autocorrelation__lag_2', 'inflow_diff1_per2__autocorrelation__lag_2', 'inflow_diff1_per2__kurtosis', 'inflow_diff1_per2__partial_autocorrelation__lag_1', 'inflow_diff1_per2__autocorrelation__lag_1', 'inflow_diff2_per1__fft_coefficient__attr_\"real\"__coeff_0', 'inflow_diff2_per1__fft_coefficient__attr_\"real\"__coeff_1', 'inflow_diff2_per1__count_above_mean', 'inflow_diff2_per1__count_below_mean', 'inflow_diff2_per1__autocorrelation__lag_1', 'inflow_diff2_per1__autocorrelation__lag_3', 'inflow_diff2_per1__partial_autocorrelation__lag_1', 'inflow_diff2_per1__skewness', 'inflow_diff2_per1__autocorrelation__lag_2', 'inflow_diff2_per1__kurtosis', 'inflow_diff2_per1__partial_autocorrelation__lag_2']\n"
     ]
    }
   ],
   "source": [
    "numeric_cols = list(df.columns)\n",
    "numeric_cols = [e for e in numeric_cols if e not in ('time_idx', 'datetime', 'group', 'target')]\n",
    "print(numeric_cols)"
   ]
  },
  {
   "cell_type": "code",
   "execution_count": 7,
   "metadata": {},
   "outputs": [],
   "source": [
    "#################### add date information ts ####################\n",
    "\n",
    "# create datetime features from datetime column in raw_feat_df\n",
    "df['_hour_of_day'] = df[\"datetime\"].dt.hour.astype(str)\n",
    "df['_day_of_week'] = df[\"datetime\"].dt.dayofweek.astype(str)\n",
    "df['_day_of_month'] = df[\"datetime\"].dt.day.astype(str)\n",
    "df['_day_of_year'] = df[\"datetime\"].dt.dayofyear.astype(str)\n",
    "df['_week_of_year'] = df[\"datetime\"].dt.weekofyear.astype(str)\n",
    "df['_month_of_year'] = df[\"datetime\"].dt.month.astype(str)\n",
    "df['_year'] = df[\"datetime\"].dt.year.astype(str)\n",
    "#################### add date information ts ####################\n",
    "\n",
    "hour_of_day_nunique = df['_hour_of_day'].nunique()\n",
    "day_of_week_nunique = df['_day_of_week'].nunique()\n",
    "day_of_month_nunique = df['_day_of_month'].nunique()\n",
    "day_of_year_nunique = df['_day_of_year'].nunique()\n",
    "week_of_year_nunique = df['_week_of_year'].nunique()\n",
    "month_of_year_nunique = df['_month_of_year'].nunique()\n",
    "year_nunique = df['_year'].nunique()"
   ]
  },
  {
   "cell_type": "code",
   "execution_count": 8,
   "metadata": {},
   "outputs": [
    {
     "data": {
      "text/html": [
       "<div>\n",
       "<style scoped>\n",
       "    .dataframe tbody tr th:only-of-type {\n",
       "        vertical-align: middle;\n",
       "    }\n",
       "\n",
       "    .dataframe tbody tr th {\n",
       "        vertical-align: top;\n",
       "    }\n",
       "\n",
       "    .dataframe thead th {\n",
       "        text-align: right;\n",
       "    }\n",
       "</style>\n",
       "<table border=\"1\" class=\"dataframe\">\n",
       "  <thead>\n",
       "    <tr style=\"text-align: right;\">\n",
       "      <th></th>\n",
       "      <th>time_idx</th>\n",
       "      <th>datetime</th>\n",
       "      <th>group</th>\n",
       "      <th>target</th>\n",
       "      <th>inflow_lag_0</th>\n",
       "      <th>inflow_lag_1</th>\n",
       "      <th>inflow_lag_2</th>\n",
       "      <th>inflow_lag_3</th>\n",
       "      <th>inflow_lag_4</th>\n",
       "      <th>inflow_lag_5</th>\n",
       "      <th>...</th>\n",
       "      <th>inflow_diff2_per1__autocorrelation__lag_2</th>\n",
       "      <th>inflow_diff2_per1__kurtosis</th>\n",
       "      <th>inflow_diff2_per1__partial_autocorrelation__lag_2</th>\n",
       "      <th>_hour_of_day</th>\n",
       "      <th>_day_of_week</th>\n",
       "      <th>_day_of_month</th>\n",
       "      <th>_day_of_year</th>\n",
       "      <th>_week_of_year</th>\n",
       "      <th>_month_of_year</th>\n",
       "      <th>_year</th>\n",
       "    </tr>\n",
       "  </thead>\n",
       "  <tbody>\n",
       "    <tr>\n",
       "      <th>0</th>\n",
       "      <td>169</td>\n",
       "      <td>2021-01-08 01:00:00</td>\n",
       "      <td>school</td>\n",
       "      <td>66.0</td>\n",
       "      <td>101.0</td>\n",
       "      <td>87.0</td>\n",
       "      <td>422.0</td>\n",
       "      <td>448.0</td>\n",
       "      <td>305.0</td>\n",
       "      <td>90.0</td>\n",
       "      <td>...</td>\n",
       "      <td>-0.263488</td>\n",
       "      <td>0.490017</td>\n",
       "      <td>-0.303142</td>\n",
       "      <td>1</td>\n",
       "      <td>4</td>\n",
       "      <td>8</td>\n",
       "      <td>8</td>\n",
       "      <td>1</td>\n",
       "      <td>1</td>\n",
       "      <td>2021</td>\n",
       "    </tr>\n",
       "    <tr>\n",
       "      <th>1</th>\n",
       "      <td>170</td>\n",
       "      <td>2021-01-08 02:00:00</td>\n",
       "      <td>school</td>\n",
       "      <td>32.0</td>\n",
       "      <td>50.0</td>\n",
       "      <td>53.0</td>\n",
       "      <td>410.0</td>\n",
       "      <td>327.0</td>\n",
       "      <td>652.0</td>\n",
       "      <td>37.0</td>\n",
       "      <td>...</td>\n",
       "      <td>-0.263488</td>\n",
       "      <td>0.490017</td>\n",
       "      <td>-0.303142</td>\n",
       "      <td>2</td>\n",
       "      <td>4</td>\n",
       "      <td>8</td>\n",
       "      <td>8</td>\n",
       "      <td>1</td>\n",
       "      <td>1</td>\n",
       "      <td>2021</td>\n",
       "    </tr>\n",
       "    <tr>\n",
       "      <th>2</th>\n",
       "      <td>171</td>\n",
       "      <td>2021-01-08 03:00:00</td>\n",
       "      <td>school</td>\n",
       "      <td>19.0</td>\n",
       "      <td>30.0</td>\n",
       "      <td>33.0</td>\n",
       "      <td>285.0</td>\n",
       "      <td>177.0</td>\n",
       "      <td>1094.0</td>\n",
       "      <td>24.0</td>\n",
       "      <td>...</td>\n",
       "      <td>0.198511</td>\n",
       "      <td>0.490017</td>\n",
       "      <td>-0.303142</td>\n",
       "      <td>3</td>\n",
       "      <td>4</td>\n",
       "      <td>8</td>\n",
       "      <td>8</td>\n",
       "      <td>1</td>\n",
       "      <td>1</td>\n",
       "      <td>2021</td>\n",
       "    </tr>\n",
       "    <tr>\n",
       "      <th>3</th>\n",
       "      <td>172</td>\n",
       "      <td>2021-01-08 04:00:00</td>\n",
       "      <td>school</td>\n",
       "      <td>25.0</td>\n",
       "      <td>19.0</td>\n",
       "      <td>25.0</td>\n",
       "      <td>143.0</td>\n",
       "      <td>101.0</td>\n",
       "      <td>1120.0</td>\n",
       "      <td>20.0</td>\n",
       "      <td>...</td>\n",
       "      <td>0.749460</td>\n",
       "      <td>-2.711060</td>\n",
       "      <td>-0.303142</td>\n",
       "      <td>4</td>\n",
       "      <td>4</td>\n",
       "      <td>8</td>\n",
       "      <td>8</td>\n",
       "      <td>1</td>\n",
       "      <td>1</td>\n",
       "      <td>2021</td>\n",
       "    </tr>\n",
       "    <tr>\n",
       "      <th>4</th>\n",
       "      <td>173</td>\n",
       "      <td>2021-01-08 05:00:00</td>\n",
       "      <td>school</td>\n",
       "      <td>105.0</td>\n",
       "      <td>30.0</td>\n",
       "      <td>32.0</td>\n",
       "      <td>69.0</td>\n",
       "      <td>50.0</td>\n",
       "      <td>1135.0</td>\n",
       "      <td>18.0</td>\n",
       "      <td>...</td>\n",
       "      <td>-0.049543</td>\n",
       "      <td>-1.927011</td>\n",
       "      <td>-0.303142</td>\n",
       "      <td>5</td>\n",
       "      <td>4</td>\n",
       "      <td>8</td>\n",
       "      <td>8</td>\n",
       "      <td>1</td>\n",
       "      <td>1</td>\n",
       "      <td>2021</td>\n",
       "    </tr>\n",
       "    <tr>\n",
       "      <th>...</th>\n",
       "      <td>...</td>\n",
       "      <td>...</td>\n",
       "      <td>...</td>\n",
       "      <td>...</td>\n",
       "      <td>...</td>\n",
       "      <td>...</td>\n",
       "      <td>...</td>\n",
       "      <td>...</td>\n",
       "      <td>...</td>\n",
       "      <td>...</td>\n",
       "      <td>...</td>\n",
       "      <td>...</td>\n",
       "      <td>...</td>\n",
       "      <td>...</td>\n",
       "      <td>...</td>\n",
       "      <td>...</td>\n",
       "      <td>...</td>\n",
       "      <td>...</td>\n",
       "      <td>...</td>\n",
       "      <td>...</td>\n",
       "      <td>...</td>\n",
       "    </tr>\n",
       "    <tr>\n",
       "      <th>222855</th>\n",
       "      <td>1228</td>\n",
       "      <td>2021-02-21 04:00:00</td>\n",
       "      <td>religious</td>\n",
       "      <td>6.0</td>\n",
       "      <td>23.0</td>\n",
       "      <td>17.0</td>\n",
       "      <td>122.0</td>\n",
       "      <td>14.0</td>\n",
       "      <td>90.0</td>\n",
       "      <td>11.0</td>\n",
       "      <td>...</td>\n",
       "      <td>-0.261521</td>\n",
       "      <td>-0.836502</td>\n",
       "      <td>-0.302974</td>\n",
       "      <td>4</td>\n",
       "      <td>6</td>\n",
       "      <td>21</td>\n",
       "      <td>52</td>\n",
       "      <td>7</td>\n",
       "      <td>2</td>\n",
       "      <td>2021</td>\n",
       "    </tr>\n",
       "    <tr>\n",
       "      <th>222856</th>\n",
       "      <td>1229</td>\n",
       "      <td>2021-02-21 05:00:00</td>\n",
       "      <td>religious</td>\n",
       "      <td>9.0</td>\n",
       "      <td>9.0</td>\n",
       "      <td>7.0</td>\n",
       "      <td>80.0</td>\n",
       "      <td>8.0</td>\n",
       "      <td>111.0</td>\n",
       "      <td>1.0</td>\n",
       "      <td>...</td>\n",
       "      <td>-0.264381</td>\n",
       "      <td>-0.833437</td>\n",
       "      <td>-0.306328</td>\n",
       "      <td>5</td>\n",
       "      <td>6</td>\n",
       "      <td>21</td>\n",
       "      <td>52</td>\n",
       "      <td>7</td>\n",
       "      <td>2</td>\n",
       "      <td>2021</td>\n",
       "    </tr>\n",
       "    <tr>\n",
       "      <th>222857</th>\n",
       "      <td>1230</td>\n",
       "      <td>2021-02-21 06:00:00</td>\n",
       "      <td>religious</td>\n",
       "      <td>40.0</td>\n",
       "      <td>14.0</td>\n",
       "      <td>32.0</td>\n",
       "      <td>45.0</td>\n",
       "      <td>15.0</td>\n",
       "      <td>140.0</td>\n",
       "      <td>23.0</td>\n",
       "      <td>...</td>\n",
       "      <td>-0.236416</td>\n",
       "      <td>-0.922066</td>\n",
       "      <td>-0.279426</td>\n",
       "      <td>6</td>\n",
       "      <td>6</td>\n",
       "      <td>21</td>\n",
       "      <td>52</td>\n",
       "      <td>7</td>\n",
       "      <td>2</td>\n",
       "      <td>2021</td>\n",
       "    </tr>\n",
       "    <tr>\n",
       "      <th>222858</th>\n",
       "      <td>1231</td>\n",
       "      <td>2021-02-21 07:00:00</td>\n",
       "      <td>religious</td>\n",
       "      <td>58.0</td>\n",
       "      <td>58.0</td>\n",
       "      <td>90.0</td>\n",
       "      <td>23.0</td>\n",
       "      <td>48.0</td>\n",
       "      <td>215.0</td>\n",
       "      <td>92.0</td>\n",
       "      <td>...</td>\n",
       "      <td>-0.262657</td>\n",
       "      <td>-0.825813</td>\n",
       "      <td>-0.307965</td>\n",
       "      <td>7</td>\n",
       "      <td>6</td>\n",
       "      <td>21</td>\n",
       "      <td>52</td>\n",
       "      <td>7</td>\n",
       "      <td>2</td>\n",
       "      <td>2021</td>\n",
       "    </tr>\n",
       "    <tr>\n",
       "      <th>222859</th>\n",
       "      <td>1232</td>\n",
       "      <td>2021-02-21 08:00:00</td>\n",
       "      <td>religious</td>\n",
       "      <td>109.0</td>\n",
       "      <td>80.0</td>\n",
       "      <td>111.0</td>\n",
       "      <td>9.0</td>\n",
       "      <td>73.0</td>\n",
       "      <td>319.0</td>\n",
       "      <td>146.0</td>\n",
       "      <td>...</td>\n",
       "      <td>-0.260815</td>\n",
       "      <td>-0.811756</td>\n",
       "      <td>-0.301581</td>\n",
       "      <td>8</td>\n",
       "      <td>6</td>\n",
       "      <td>21</td>\n",
       "      <td>52</td>\n",
       "      <td>7</td>\n",
       "      <td>2</td>\n",
       "      <td>2021</td>\n",
       "    </tr>\n",
       "  </tbody>\n",
       "</table>\n",
       "<p>10640 rows × 215 columns</p>\n",
       "</div>"
      ],
      "text/plain": [
       "        time_idx            datetime      group  target  inflow_lag_0  \\\n",
       "0            169 2021-01-08 01:00:00     school    66.0         101.0   \n",
       "1            170 2021-01-08 02:00:00     school    32.0          50.0   \n",
       "2            171 2021-01-08 03:00:00     school    19.0          30.0   \n",
       "3            172 2021-01-08 04:00:00     school    25.0          19.0   \n",
       "4            173 2021-01-08 05:00:00     school   105.0          30.0   \n",
       "...          ...                 ...        ...     ...           ...   \n",
       "222855      1228 2021-02-21 04:00:00  religious     6.0          23.0   \n",
       "222856      1229 2021-02-21 05:00:00  religious     9.0           9.0   \n",
       "222857      1230 2021-02-21 06:00:00  religious    40.0          14.0   \n",
       "222858      1231 2021-02-21 07:00:00  religious    58.0          58.0   \n",
       "222859      1232 2021-02-21 08:00:00  religious   109.0          80.0   \n",
       "\n",
       "        inflow_lag_1  inflow_lag_2  inflow_lag_3  inflow_lag_4  inflow_lag_5  \\\n",
       "0               87.0         422.0         448.0         305.0          90.0   \n",
       "1               53.0         410.0         327.0         652.0          37.0   \n",
       "2               33.0         285.0         177.0        1094.0          24.0   \n",
       "3               25.0         143.0         101.0        1120.0          20.0   \n",
       "4               32.0          69.0          50.0        1135.0          18.0   \n",
       "...              ...           ...           ...           ...           ...   \n",
       "222855          17.0         122.0          14.0          90.0          11.0   \n",
       "222856           7.0          80.0           8.0         111.0           1.0   \n",
       "222857          32.0          45.0          15.0         140.0          23.0   \n",
       "222858          90.0          23.0          48.0         215.0          92.0   \n",
       "222859         111.0           9.0          73.0         319.0         146.0   \n",
       "\n",
       "        ...  inflow_diff2_per1__autocorrelation__lag_2  \\\n",
       "0       ...                                  -0.263488   \n",
       "1       ...                                  -0.263488   \n",
       "2       ...                                   0.198511   \n",
       "3       ...                                   0.749460   \n",
       "4       ...                                  -0.049543   \n",
       "...     ...                                        ...   \n",
       "222855  ...                                  -0.261521   \n",
       "222856  ...                                  -0.264381   \n",
       "222857  ...                                  -0.236416   \n",
       "222858  ...                                  -0.262657   \n",
       "222859  ...                                  -0.260815   \n",
       "\n",
       "        inflow_diff2_per1__kurtosis  \\\n",
       "0                          0.490017   \n",
       "1                          0.490017   \n",
       "2                          0.490017   \n",
       "3                         -2.711060   \n",
       "4                         -1.927011   \n",
       "...                             ...   \n",
       "222855                    -0.836502   \n",
       "222856                    -0.833437   \n",
       "222857                    -0.922066   \n",
       "222858                    -0.825813   \n",
       "222859                    -0.811756   \n",
       "\n",
       "        inflow_diff2_per1__partial_autocorrelation__lag_2  _hour_of_day  \\\n",
       "0                                               -0.303142             1   \n",
       "1                                               -0.303142             2   \n",
       "2                                               -0.303142             3   \n",
       "3                                               -0.303142             4   \n",
       "4                                               -0.303142             5   \n",
       "...                                                   ...           ...   \n",
       "222855                                          -0.302974             4   \n",
       "222856                                          -0.306328             5   \n",
       "222857                                          -0.279426             6   \n",
       "222858                                          -0.307965             7   \n",
       "222859                                          -0.301581             8   \n",
       "\n",
       "        _day_of_week  _day_of_month  _day_of_year  _week_of_year  \\\n",
       "0                  4              8             8              1   \n",
       "1                  4              8             8              1   \n",
       "2                  4              8             8              1   \n",
       "3                  4              8             8              1   \n",
       "4                  4              8             8              1   \n",
       "...              ...            ...           ...            ...   \n",
       "222855             6             21            52              7   \n",
       "222856             6             21            52              7   \n",
       "222857             6             21            52              7   \n",
       "222858             6             21            52              7   \n",
       "222859             6             21            52              7   \n",
       "\n",
       "        _month_of_year  _year  \n",
       "0                    1   2021  \n",
       "1                    1   2021  \n",
       "2                    1   2021  \n",
       "3                    1   2021  \n",
       "4                    1   2021  \n",
       "...                ...    ...  \n",
       "222855               2   2021  \n",
       "222856               2   2021  \n",
       "222857               2   2021  \n",
       "222858               2   2021  \n",
       "222859               2   2021  \n",
       "\n",
       "[10640 rows x 215 columns]"
      ]
     },
     "execution_count": 8,
     "metadata": {},
     "output_type": "execute_result"
    }
   ],
   "source": [
    "df"
   ]
  },
  {
   "cell_type": "code",
   "execution_count": 9,
   "metadata": {},
   "outputs": [
    {
     "name": "stdout",
     "output_type": "stream",
     "text": [
      "24\n",
      "7\n",
      "31\n",
      "45\n",
      "7\n",
      "2\n",
      "1\n"
     ]
    }
   ],
   "source": [
    "print(hour_of_day_nunique)\n",
    "print(day_of_week_nunique)\n",
    "print(day_of_month_nunique)\n",
    "print(day_of_year_nunique)\n",
    "print(week_of_year_nunique)\n",
    "print(month_of_year_nunique)\n",
    "print(year_nunique)"
   ]
  },
  {
   "cell_type": "code",
   "execution_count": 10,
   "metadata": {},
   "outputs": [
    {
     "name": "stdout",
     "output_type": "stream",
     "text": [
      "10 \n",
      "\n",
      "['school', 'school_uni', 'school_sec', 'school_pri', 'food', 'food_restaurant', 'food_morning', 'food_bar', 'attractions', 'religious']\n"
     ]
    }
   ],
   "source": [
    "unique_values_group_no_ts_fresh = list(df['group'].unique())\n",
    "print(len(unique_values_group_no_ts_fresh), \"\\n\")\n",
    "print(unique_values_group_no_ts_fresh)"
   ]
  },
  {
   "cell_type": "code",
   "execution_count": 11,
   "metadata": {},
   "outputs": [
    {
     "name": "stdout",
     "output_type": "stream",
     "text": [
      "Group  school  has  1064  number of rows in df_ts_fresh \n",
      "\n",
      "First idx:  169 ; Last idx:  1232 \n",
      "\n",
      "Group  school_uni  has  1064  number of rows in df_ts_fresh \n",
      "\n",
      "First idx:  169 ; Last idx:  1232 \n",
      "\n",
      "Group  school_sec  has  1064  number of rows in df_ts_fresh \n",
      "\n",
      "First idx:  169 ; Last idx:  1232 \n",
      "\n",
      "Group  school_pri  has  1064  number of rows in df_ts_fresh \n",
      "\n",
      "First idx:  169 ; Last idx:  1232 \n",
      "\n",
      "Group  food  has  1064  number of rows in df_ts_fresh \n",
      "\n",
      "First idx:  169 ; Last idx:  1232 \n",
      "\n",
      "Group  food_restaurant  has  1064  number of rows in df_ts_fresh \n",
      "\n",
      "First idx:  169 ; Last idx:  1232 \n",
      "\n",
      "Group  food_morning  has  1064  number of rows in df_ts_fresh \n",
      "\n",
      "First idx:  169 ; Last idx:  1232 \n",
      "\n",
      "Group  food_bar  has  1064  number of rows in df_ts_fresh \n",
      "\n",
      "First idx:  169 ; Last idx:  1232 \n",
      "\n",
      "Group  attractions  has  1064  number of rows in df_ts_fresh \n",
      "\n",
      "First idx:  169 ; Last idx:  1232 \n",
      "\n",
      "Group  religious  has  1064  number of rows in df_ts_fresh \n",
      "\n",
      "First idx:  169 ; Last idx:  1232 \n",
      "\n"
     ]
    }
   ],
   "source": [
    "zones_time_idx_no_ts_fresh = {}\n",
    "for i in unique_values_group_no_ts_fresh:\n",
    "    df1 = df[df['group'] == i]\n",
    "    time_idx_list = df1['time_idx'].tolist()\n",
    "    first_idx = time_idx_list[0]\n",
    "    last_idx = time_idx_list[-1]\n",
    "    zones_time_idx_no_ts_fresh[i] = [first_idx, last_idx]\n",
    "    print(\"Group \", i, \" has \", df1.shape[0], \" number of rows in df_ts_fresh \\n\")\n",
    "    print(\"First idx: \", first_idx, \"; Last idx: \", last_idx, \"\\n\")"
   ]
  },
  {
   "cell_type": "code",
   "execution_count": 12,
   "metadata": {},
   "outputs": [
    {
     "name": "stdout",
     "output_type": "stream",
     "text": [
      "744\n",
      "736\n",
      "1063\n"
     ]
    }
   ],
   "source": [
    "encoder_len = 8 # looks back 8 hours in the past for prediction\n",
    "pred_len = 1 # 1, 6, 12 # how many timeseteps you want to predict in the future (forecasting), 1 means present (nowcasting)\n",
    "#cov_lag_len= pred_len\n",
    "\n",
    "# not using covariates yet, so put as 0\n",
    "cov_lag_len= 0 #we can use forecasted values, even for inflow\n",
    "\n",
    "####### train val test split of tsfresh dataframe #########\n",
    "\n",
    "### you want a the idx for each train, validation and test\n",
    "\n",
    "### train = 0.7 of each zone (eg. time idx 167 to roughly 20000) eg train = 0.7 * (24812-167)\n",
    "### validation = 0.2 of each zone (eg. time idx 20000 to 22000)\n",
    "### test = 0.1 of each zone (eg. time idx 22000 to 24000)\n",
    "\n",
    "Target = 'target'\n",
    "\n",
    "total_time_idx = df[df.group == 'school'].shape[0]\n",
    "\n",
    "first_idx = df.loc[df['group'] == 'school', 'time_idx'].iloc[0]\n",
    "\n",
    "tr_stop_idx = int(0.7*total_time_idx)\n",
    "val_start_idx = tr_stop_idx - encoder_len\n",
    "val_stop_idx = total_time_idx-1\n",
    "# val_stop_idx = val_start_idx + int(0.2*total_time_idx) # use (tr_stop_idx - encoder_len) as encoder from train set for validatoin\n",
    "# tes_start_idx = val_stop_idx - encoder_len\n",
    "# tes_stop_idx = total_time_idx-1\n",
    "\n",
    "print(tr_stop_idx)\n",
    "print(val_start_idx)\n",
    "print(val_stop_idx)\n",
    "# print(tes_start_idx)\n",
    "# print(tes_stop_idx)"
   ]
  },
  {
   "cell_type": "code",
   "execution_count": 13,
   "metadata": {},
   "outputs": [
    {
     "name": "stdout",
     "output_type": "stream",
     "text": [
      "169 913\n",
      "905 1232\n"
     ]
    }
   ],
   "source": [
    "train_time_idx = [*range(first_idx, first_idx+tr_stop_idx+1, 1)]\n",
    "print(train_time_idx[0], train_time_idx[-1])\n",
    "val_time_idx = [*range(first_idx+val_start_idx, first_idx+val_stop_idx+1, 1)]\n",
    "print(val_time_idx[0], val_time_idx[-1])\n",
    "# test_time_idx = [*range(first_idx+tes_start_idx, first_idx+tes_stop_idx+1, 1)]\n",
    "# print(test_time_idx[0], test_time_idx[-1])"
   ]
  },
  {
   "cell_type": "code",
   "execution_count": 14,
   "metadata": {},
   "outputs": [],
   "source": [
    "# unique_zones = list(df['group'].unique())"
   ]
  },
  {
   "cell_type": "code",
   "execution_count": 15,
   "metadata": {},
   "outputs": [],
   "source": [
    "\"\"\"\n",
    "set inputs here\n",
    "(hyperparameters grid search)\n",
    "\n",
    "\"\"\"\n",
    "######### Network Architecture ###################\n",
    "# p = 10 # patience no. of epochs\n",
    "\n",
    "Loss=NegativeBinomialDistributionLoss() # because we assume that the demand follows a negative bionmial distribution\n",
    "\n",
    "######### Network Architecture ###################\n",
    "\n",
    "\n",
    "######### Training Routine ###################\n",
    "fdv_steps = 10 # fast_dev_run -> small set of training to see if training is happening correctly (one of the params in deepar model)\n",
    "######### Training Routine ###################\n",
    "\n",
    "\n",
    "# this is for naive forecast, getting past week's demand and predicting purely based on that\n",
    "############## Inputs for 2) Persistance model ( seasonal naive forecast ) #######################\n",
    "season_len = 168 # length of season ()\n",
    "num_past_seas = 6 # number of past seasons to use in averaging (look at 6 week's back, getting average of these 6 values)\n",
    "#seas_pred_strt_idx = 2035 # seasonal naive forecast start index, in hours use the df dataframe\n",
    "############## Inputs for 2) Persistance model ( seasonal naive forecast ) #######################\n"
   ]
  },
  {
   "cell_type": "code",
   "execution_count": 16,
   "metadata": {},
   "outputs": [
    {
     "name": "stderr",
     "output_type": "stream",
     "text": [
      "\u001b[32m[I 2024-04-02 18:12:36,159]\u001b[0m A new study created in memory with name: no-name-345516cd-4a49-4233-92c7-725d8389ece5\u001b[0m\n",
      "GPU available: True (cuda), used: True\n",
      "TPU available: False, using: 0 TPU cores\n",
      "IPU available: False, using: 0 IPUs\n",
      "HPU available: False, using: 0 HPUs\n",
      "`Trainer(limit_train_batches=1.0)` was configured so 100% of the batches per epoch will be used..\n",
      "`Trainer(limit_val_batches=1.0)` was configured so 100% of the batches will be used..\n",
      "Missing logger folder: /home/optimusprime/Desktop/Timothy_EXP_6/Round_1_logs/lightning_logs\n",
      "LOCAL_RANK: 0 - CUDA_VISIBLE_DEVICES: [0]\n",
      "\n",
      "  | Name                   | Type                             | Params\n",
      "----------------------------------------------------------------------------\n",
      "0 | loss                   | NegativeBinomialDistributionLoss | 0     \n",
      "1 | logging_metrics        | ModuleList                       | 0     \n",
      "2 | embeddings             | MultiEmbedding                   | 728   \n",
      "3 | rnn                    | LSTM                             | 14.0 M\n",
      "4 | distribution_projector | Linear                           | 1.0 K \n",
      "----------------------------------------------------------------------------\n",
      "14.0 M    Trainable params\n",
      "0         Non-trainable params\n",
      "14.0 M    Total params\n",
      "56.140    Total estimated model params size (MB)\n"
     ]
    },
    {
     "name": "stdout",
     "output_type": "stream",
     "text": [
      "Epoch 0: 100%|██████████| 15/15 [00:04<00:00,  3.02it/s, loss=1.02e+03, v_num=0, train_loss_step=1.07e+3, val_loss=1.16e+3]"
     ]
    },
    {
     "name": "stderr",
     "output_type": "stream",
     "text": [
      "Metric val_loss improved. New best score: 1164.864\n"
     ]
    },
    {
     "name": "stdout",
     "output_type": "stream",
     "text": [
      "Epoch 1: 100%|██████████| 15/15 [00:04<00:00,  3.13it/s, loss=1.02e+03, v_num=0, train_loss_step=1.04e+3, val_loss=1.16e+3, train_loss_epoch=1.02e+3]"
     ]
    },
    {
     "name": "stderr",
     "output_type": "stream",
     "text": [
      "Metric val_loss improved by 8.931 >= min_delta = 0. New best score: 1155.933\n"
     ]
    },
    {
     "name": "stdout",
     "output_type": "stream",
     "text": [
      "Epoch 2: 100%|██████████| 15/15 [00:04<00:00,  3.13it/s, loss=1.02e+03, v_num=0, train_loss_step=1.02e+3, val_loss=1.14e+3, train_loss_epoch=1.02e+3]"
     ]
    },
    {
     "name": "stderr",
     "output_type": "stream",
     "text": [
      "Metric val_loss improved by 11.140 >= min_delta = 0. New best score: 1144.794\n"
     ]
    },
    {
     "name": "stdout",
     "output_type": "stream",
     "text": [
      "Epoch 3: 100%|██████████| 15/15 [00:05<00:00,  2.95it/s, loss=1.01e+03, v_num=0, train_loss_step=971.0, val_loss=1.12e+3, train_loss_epoch=1.02e+3]  "
     ]
    },
    {
     "name": "stderr",
     "output_type": "stream",
     "text": [
      "Metric val_loss improved by 24.631 >= min_delta = 0. New best score: 1120.163\n"
     ]
    },
    {
     "name": "stdout",
     "output_type": "stream",
     "text": [
      "Epoch 4: 100%|██████████| 15/15 [00:04<00:00,  3.00it/s, loss=994, v_num=0, train_loss_step=976.0, val_loss=1.1e+3, train_loss_epoch=1e+3]         "
     ]
    },
    {
     "name": "stderr",
     "output_type": "stream",
     "text": [
      "Metric val_loss improved by 18.424 >= min_delta = 0. New best score: 1101.739\n"
     ]
    },
    {
     "name": "stdout",
     "output_type": "stream",
     "text": [
      "Epoch 5: 100%|██████████| 15/15 [00:05<00:00,  2.86it/s, loss=973, v_num=0, train_loss_step=975.0, val_loss=1.08e+3, train_loss_epoch=987.0]"
     ]
    },
    {
     "name": "stderr",
     "output_type": "stream",
     "text": [
      "Metric val_loss improved by 21.183 >= min_delta = 0. New best score: 1080.555\n"
     ]
    },
    {
     "name": "stdout",
     "output_type": "stream",
     "text": [
      "Epoch 6: 100%|██████████| 15/15 [00:05<00:00,  2.90it/s, loss=947, v_num=0, train_loss_step=880.0, val_loss=1.03e+3, train_loss_epoch=960.0]"
     ]
    },
    {
     "name": "stderr",
     "output_type": "stream",
     "text": [
      "Metric val_loss improved by 45.970 >= min_delta = 0. New best score: 1034.585\n"
     ]
    },
    {
     "name": "stdout",
     "output_type": "stream",
     "text": [
      "Epoch 7: 100%|██████████| 15/15 [00:05<00:00,  2.87it/s, loss=918, v_num=0, train_loss_step=813.0, val_loss=998.0, train_loss_epoch=934.0]  "
     ]
    },
    {
     "name": "stderr",
     "output_type": "stream",
     "text": [
      "Metric val_loss improved by 36.213 >= min_delta = 0. New best score: 998.372\n"
     ]
    },
    {
     "name": "stdout",
     "output_type": "stream",
     "text": [
      "Epoch 8: 100%|██████████| 15/15 [00:04<00:00,  3.01it/s, loss=877, v_num=0, train_loss_step=838.0, val_loss=953.0, train_loss_epoch=901.0]"
     ]
    },
    {
     "name": "stderr",
     "output_type": "stream",
     "text": [
      "Metric val_loss improved by 45.856 >= min_delta = 0. New best score: 952.517\n"
     ]
    },
    {
     "name": "stdout",
     "output_type": "stream",
     "text": [
      "Epoch 9: 100%|██████████| 15/15 [00:05<00:00,  2.83it/s, loss=825, v_num=0, train_loss_step=712.0, val_loss=837.0, train_loss_epoch=853.0]"
     ]
    },
    {
     "name": "stderr",
     "output_type": "stream",
     "text": [
      "Metric val_loss improved by 115.672 >= min_delta = 0. New best score: 836.844\n"
     ]
    },
    {
     "name": "stdout",
     "output_type": "stream",
     "text": [
      "Epoch 10: 100%|██████████| 15/15 [00:05<00:00,  2.98it/s, loss=749, v_num=0, train_loss_step=698.0, val_loss=732.0, train_loss_epoch=796.0]"
     ]
    },
    {
     "name": "stderr",
     "output_type": "stream",
     "text": [
      "Metric val_loss improved by 104.572 >= min_delta = 0. New best score: 732.272\n"
     ]
    },
    {
     "name": "stdout",
     "output_type": "stream",
     "text": [
      "Epoch 11: 100%|██████████| 15/15 [00:05<00:00,  2.97it/s, loss=636, v_num=0, train_loss_step=466.0, val_loss=595.0, train_loss_epoch=702.0]"
     ]
    },
    {
     "name": "stderr",
     "output_type": "stream",
     "text": [
      "Metric val_loss improved by 136.977 >= min_delta = 0. New best score: 595.295\n"
     ]
    },
    {
     "name": "stdout",
     "output_type": "stream",
     "text": [
      "Epoch 12: 100%|██████████| 15/15 [00:05<00:00,  2.90it/s, loss=491, v_num=0, train_loss_step=310.0, val_loss=313.0, train_loss_epoch=570.0]"
     ]
    },
    {
     "name": "stderr",
     "output_type": "stream",
     "text": [
      "Metric val_loss improved by 282.583 >= min_delta = 0. New best score: 312.712\n"
     ]
    },
    {
     "name": "stdout",
     "output_type": "stream",
     "text": [
      "Epoch 13: 100%|██████████| 15/15 [00:05<00:00,  2.95it/s, loss=322, v_num=0, train_loss_step=195.0, val_loss=179.0, train_loss_epoch=411.0]"
     ]
    },
    {
     "name": "stderr",
     "output_type": "stream",
     "text": [
      "Metric val_loss improved by 133.551 >= min_delta = 0. New best score: 179.161\n"
     ]
    },
    {
     "name": "stdout",
     "output_type": "stream",
     "text": [
      "Epoch 14: 100%|██████████| 15/15 [00:05<00:00,  2.96it/s, loss=175, v_num=0, train_loss_step=74.90, val_loss=102.0, train_loss_epoch=233.0]"
     ]
    },
    {
     "name": "stderr",
     "output_type": "stream",
     "text": [
      "Metric val_loss improved by 77.017 >= min_delta = 0. New best score: 102.143\n"
     ]
    },
    {
     "name": "stdout",
     "output_type": "stream",
     "text": [
      "Epoch 15: 100%|██████████| 15/15 [00:05<00:00,  2.83it/s, loss=90.9, v_num=0, train_loss_step=47.80, val_loss=46.40, train_loss_epoch=117.0]"
     ]
    },
    {
     "name": "stderr",
     "output_type": "stream",
     "text": [
      "Metric val_loss improved by 55.725 >= min_delta = 0. New best score: 46.418\n"
     ]
    },
    {
     "name": "stdout",
     "output_type": "stream",
     "text": [
      "Epoch 16: 100%|██████████| 15/15 [00:05<00:00,  2.84it/s, loss=51.5, v_num=0, train_loss_step=32.90, val_loss=32.70, train_loss_epoch=65.30]"
     ]
    },
    {
     "name": "stderr",
     "output_type": "stream",
     "text": [
      "Metric val_loss improved by 13.768 >= min_delta = 0. New best score: 32.651\n"
     ]
    },
    {
     "name": "stdout",
     "output_type": "stream",
     "text": [
      "Epoch 17: 100%|██████████| 15/15 [00:05<00:00,  2.88it/s, loss=31.6, v_num=0, train_loss_step=20.90, val_loss=24.70, train_loss_epoch=37.70]"
     ]
    },
    {
     "name": "stderr",
     "output_type": "stream",
     "text": [
      "Metric val_loss improved by 7.984 >= min_delta = 0. New best score: 24.667\n"
     ]
    },
    {
     "name": "stdout",
     "output_type": "stream",
     "text": [
      "Epoch 18: 100%|██████████| 15/15 [00:05<00:00,  2.93it/s, loss=22.5, v_num=0, train_loss_step=17.70, val_loss=17.80, train_loss_epoch=25.50]"
     ]
    },
    {
     "name": "stderr",
     "output_type": "stream",
     "text": [
      "Metric val_loss improved by 6.893 >= min_delta = 0. New best score: 17.774\n"
     ]
    },
    {
     "name": "stdout",
     "output_type": "stream",
     "text": [
      "Epoch 19: 100%|██████████| 15/15 [00:04<00:00,  3.03it/s, loss=17.8, v_num=0, train_loss_step=15.20, val_loss=15.90, train_loss_epoch=19.60]"
     ]
    },
    {
     "name": "stderr",
     "output_type": "stream",
     "text": [
      "Metric val_loss improved by 1.889 >= min_delta = 0. New best score: 15.886\n"
     ]
    },
    {
     "name": "stdout",
     "output_type": "stream",
     "text": [
      "Epoch 20: 100%|██████████| 15/15 [00:05<00:00,  2.90it/s, loss=15.2, v_num=0, train_loss_step=13.40, val_loss=14.70, train_loss_epoch=16.10]"
     ]
    },
    {
     "name": "stderr",
     "output_type": "stream",
     "text": [
      "Metric val_loss improved by 1.180 >= min_delta = 0. New best score: 14.705\n"
     ]
    },
    {
     "name": "stdout",
     "output_type": "stream",
     "text": [
      "Epoch 21: 100%|██████████| 15/15 [00:05<00:00,  2.98it/s, loss=13.8, v_num=0, train_loss_step=13.10, val_loss=13.50, train_loss_epoch=14.20]"
     ]
    },
    {
     "name": "stderr",
     "output_type": "stream",
     "text": [
      "Metric val_loss improved by 1.229 >= min_delta = 0. New best score: 13.477\n"
     ]
    },
    {
     "name": "stdout",
     "output_type": "stream",
     "text": [
      "Epoch 22: 100%|██████████| 15/15 [00:05<00:00,  2.97it/s, loss=13, v_num=0, train_loss_step=12.40, val_loss=13.00, train_loss_epoch=13.40]  "
     ]
    },
    {
     "name": "stderr",
     "output_type": "stream",
     "text": [
      "Metric val_loss improved by 0.447 >= min_delta = 0. New best score: 13.030\n"
     ]
    },
    {
     "name": "stdout",
     "output_type": "stream",
     "text": [
      "Epoch 23: 100%|██████████| 15/15 [00:05<00:00,  3.00it/s, loss=12.4, v_num=0, train_loss_step=11.90, val_loss=12.70, train_loss_epoch=12.70]"
     ]
    },
    {
     "name": "stderr",
     "output_type": "stream",
     "text": [
      "Metric val_loss improved by 0.348 >= min_delta = 0. New best score: 12.681\n"
     ]
    },
    {
     "name": "stdout",
     "output_type": "stream",
     "text": [
      "Epoch 24: 100%|██████████| 15/15 [00:05<00:00,  2.86it/s, loss=12.1, v_num=0, train_loss_step=11.70, val_loss=12.20, train_loss_epoch=12.20]"
     ]
    },
    {
     "name": "stderr",
     "output_type": "stream",
     "text": [
      "Metric val_loss improved by 0.460 >= min_delta = 0. New best score: 12.221\n"
     ]
    },
    {
     "name": "stdout",
     "output_type": "stream",
     "text": [
      "Epoch 25: 100%|██████████| 15/15 [00:04<00:00,  3.06it/s, loss=11.8, v_num=0, train_loss_step=11.50, val_loss=12.00, train_loss_epoch=11.90]"
     ]
    },
    {
     "name": "stderr",
     "output_type": "stream",
     "text": [
      "Metric val_loss improved by 0.203 >= min_delta = 0. New best score: 12.018\n"
     ]
    },
    {
     "name": "stdout",
     "output_type": "stream",
     "text": [
      "Epoch 26: 100%|██████████| 15/15 [00:05<00:00,  2.87it/s, loss=11.5, v_num=0, train_loss_step=11.60, val_loss=11.80, train_loss_epoch=11.60]"
     ]
    },
    {
     "name": "stderr",
     "output_type": "stream",
     "text": [
      "Metric val_loss improved by 0.175 >= min_delta = 0. New best score: 11.843\n"
     ]
    },
    {
     "name": "stdout",
     "output_type": "stream",
     "text": [
      "Epoch 27: 100%|██████████| 15/15 [00:04<00:00,  3.00it/s, loss=11.4, v_num=0, train_loss_step=11.40, val_loss=11.60, train_loss_epoch=11.40]"
     ]
    },
    {
     "name": "stderr",
     "output_type": "stream",
     "text": [
      "Metric val_loss improved by 0.251 >= min_delta = 0. New best score: 11.592\n"
     ]
    },
    {
     "name": "stdout",
     "output_type": "stream",
     "text": [
      "Epoch 28: 100%|██████████| 15/15 [00:05<00:00,  2.92it/s, loss=11.2, v_num=0, train_loss_step=11.20, val_loss=11.50, train_loss_epoch=11.30]"
     ]
    },
    {
     "name": "stderr",
     "output_type": "stream",
     "text": [
      "Metric val_loss improved by 0.119 >= min_delta = 0. New best score: 11.473\n"
     ]
    },
    {
     "name": "stdout",
     "output_type": "stream",
     "text": [
      "Epoch 29: 100%|██████████| 15/15 [00:04<00:00,  3.05it/s, loss=11.1, v_num=0, train_loss_step=10.90, val_loss=11.40, train_loss_epoch=11.10]"
     ]
    },
    {
     "name": "stderr",
     "output_type": "stream",
     "text": [
      "Metric val_loss improved by 0.105 >= min_delta = 0. New best score: 11.367\n"
     ]
    },
    {
     "name": "stdout",
     "output_type": "stream",
     "text": [
      "Epoch 29: 100%|██████████| 15/15 [00:04<00:00,  3.04it/s, loss=11.1, v_num=0, train_loss_step=10.90, val_loss=11.40, train_loss_epoch=11.00]"
     ]
    },
    {
     "name": "stderr",
     "output_type": "stream",
     "text": [
      "`Trainer.fit` stopped: `max_epochs=30` reached.\n"
     ]
    },
    {
     "name": "stdout",
     "output_type": "stream",
     "text": [
      "Epoch 29: 100%|██████████| 15/15 [00:05<00:00,  2.83it/s, loss=11.1, v_num=0, train_loss_step=10.90, val_loss=11.40, train_loss_epoch=11.00]"
     ]
    },
    {
     "name": "stderr",
     "output_type": "stream",
     "text": [
      "\u001b[32m[I 2024-04-02 18:15:24,456]\u001b[0m Trial 0 finished with value: 82.36552429199219 and parameters: {'neu': 510, 'lay': 7, 'bat': 672, 'lr': 0.0007468390955123261, 'dropout': 0.8}. Best is trial 0 with value: 82.36552429199219.\u001b[0m\n"
     ]
    },
    {
     "name": "stdout",
     "output_type": "stream",
     "text": [
      "\n"
     ]
    },
    {
     "name": "stderr",
     "output_type": "stream",
     "text": [
      "GPU available: True (cuda), used: True\n",
      "TPU available: False, using: 0 TPU cores\n",
      "IPU available: False, using: 0 IPUs\n",
      "HPU available: False, using: 0 HPUs\n",
      "`Trainer(limit_train_batches=1.0)` was configured so 100% of the batches per epoch will be used..\n",
      "`Trainer(limit_val_batches=1.0)` was configured so 100% of the batches will be used..\n",
      "LOCAL_RANK: 0 - CUDA_VISIBLE_DEVICES: [0]\n",
      "\n",
      "  | Name                   | Type                             | Params\n",
      "----------------------------------------------------------------------------\n",
      "0 | loss                   | NegativeBinomialDistributionLoss | 0     \n",
      "1 | logging_metrics        | ModuleList                       | 0     \n",
      "2 | embeddings             | MultiEmbedding                   | 728   \n",
      "3 | rnn                    | LSTM                             | 3.2 M \n",
      "4 | distribution_projector | Linear                           | 422   \n",
      "----------------------------------------------------------------------------\n",
      "3.2 M     Trainable params\n",
      "0         Non-trainable params\n",
      "3.2 M     Total params\n",
      "12.850    Total estimated model params size (MB)\n"
     ]
    },
    {
     "name": "stdout",
     "output_type": "stream",
     "text": [
      "Epoch 0: 100%|██████████| 30/30 [00:05<00:00,  5.40it/s, loss=1.04e+03, v_num=1, train_loss_step=1.13e+3, val_loss=1.18e+3]"
     ]
    },
    {
     "name": "stderr",
     "output_type": "stream",
     "text": [
      "Metric val_loss improved. New best score: 1180.731\n"
     ]
    },
    {
     "name": "stdout",
     "output_type": "stream",
     "text": [
      "Epoch 1: 100%|██████████| 30/30 [00:05<00:00,  5.63it/s, loss=1.04e+03, v_num=1, train_loss_step=1.04e+3, val_loss=1.18e+3, train_loss_epoch=1.04e+3]"
     ]
    },
    {
     "name": "stderr",
     "output_type": "stream",
     "text": [
      "Metric val_loss improved by 5.078 >= min_delta = 0. New best score: 1175.652\n"
     ]
    },
    {
     "name": "stdout",
     "output_type": "stream",
     "text": [
      "Epoch 2: 100%|██████████| 30/30 [00:05<00:00,  5.42it/s, loss=1.04e+03, v_num=1, train_loss_step=1.08e+3, val_loss=1.17e+3, train_loss_epoch=1.04e+3]"
     ]
    },
    {
     "name": "stderr",
     "output_type": "stream",
     "text": [
      "Metric val_loss improved by 5.199 >= min_delta = 0. New best score: 1170.454\n"
     ]
    },
    {
     "name": "stdout",
     "output_type": "stream",
     "text": [
      "Epoch 3: 100%|██████████| 30/30 [00:05<00:00,  5.57it/s, loss=1.03e+03, v_num=1, train_loss_step=1.04e+3, val_loss=1.16e+3, train_loss_epoch=1.04e+3]"
     ]
    },
    {
     "name": "stderr",
     "output_type": "stream",
     "text": [
      "Metric val_loss improved by 8.623 >= min_delta = 0. New best score: 1161.830\n"
     ]
    },
    {
     "name": "stdout",
     "output_type": "stream",
     "text": [
      "Epoch 4: 100%|██████████| 30/30 [00:05<00:00,  5.53it/s, loss=1.02e+03, v_num=1, train_loss_step=949.0, val_loss=1.15e+3, train_loss_epoch=1.03e+3]  "
     ]
    },
    {
     "name": "stderr",
     "output_type": "stream",
     "text": [
      "Metric val_loss improved by 10.275 >= min_delta = 0. New best score: 1151.555\n"
     ]
    },
    {
     "name": "stdout",
     "output_type": "stream",
     "text": [
      "Epoch 5: 100%|██████████| 30/30 [00:05<00:00,  5.32it/s, loss=1.01e+03, v_num=1, train_loss_step=1.03e+3, val_loss=1.14e+3, train_loss_epoch=1.02e+3]"
     ]
    },
    {
     "name": "stderr",
     "output_type": "stream",
     "text": [
      "Metric val_loss improved by 8.576 >= min_delta = 0. New best score: 1142.979\n"
     ]
    },
    {
     "name": "stdout",
     "output_type": "stream",
     "text": [
      "Epoch 6: 100%|██████████| 30/30 [00:05<00:00,  5.59it/s, loss=1.01e+03, v_num=1, train_loss_step=974.0, val_loss=1.13e+3, train_loss_epoch=1.01e+3]  "
     ]
    },
    {
     "name": "stderr",
     "output_type": "stream",
     "text": [
      "Metric val_loss improved by 13.205 >= min_delta = 0. New best score: 1129.774\n"
     ]
    },
    {
     "name": "stdout",
     "output_type": "stream",
     "text": [
      "Epoch 7: 100%|██████████| 30/30 [00:05<00:00,  5.53it/s, loss=989, v_num=1, train_loss_step=962.0, val_loss=1.11e+3, train_loss_epoch=1.01e+3]      "
     ]
    },
    {
     "name": "stderr",
     "output_type": "stream",
     "text": [
      "Metric val_loss improved by 15.135 >= min_delta = 0. New best score: 1114.639\n"
     ]
    },
    {
     "name": "stdout",
     "output_type": "stream",
     "text": [
      "Epoch 8: 100%|██████████| 30/30 [00:05<00:00,  5.22it/s, loss=976, v_num=1, train_loss_step=935.0, val_loss=1.1e+3, train_loss_epoch=989.0]   "
     ]
    },
    {
     "name": "stderr",
     "output_type": "stream",
     "text": [
      "Metric val_loss improved by 12.586 >= min_delta = 0. New best score: 1102.053\n"
     ]
    },
    {
     "name": "stdout",
     "output_type": "stream",
     "text": [
      "Epoch 9: 100%|██████████| 30/30 [00:05<00:00,  5.33it/s, loss=961, v_num=1, train_loss_step=976.0, val_loss=1.08e+3, train_loss_epoch=976.0] "
     ]
    },
    {
     "name": "stderr",
     "output_type": "stream",
     "text": [
      "Metric val_loss improved by 19.794 >= min_delta = 0. New best score: 1082.259\n"
     ]
    },
    {
     "name": "stdout",
     "output_type": "stream",
     "text": [
      "Epoch 10: 100%|██████████| 30/30 [00:05<00:00,  5.02it/s, loss=940, v_num=1, train_loss_step=913.0, val_loss=1.06e+3, train_loss_epoch=961.0]  "
     ]
    },
    {
     "name": "stderr",
     "output_type": "stream",
     "text": [
      "Metric val_loss improved by 23.628 >= min_delta = 0. New best score: 1058.630\n"
     ]
    },
    {
     "name": "stdout",
     "output_type": "stream",
     "text": [
      "Epoch 11: 100%|██████████| 30/30 [00:05<00:00,  5.10it/s, loss=928, v_num=1, train_loss_step=947.0, val_loss=1.04e+3, train_loss_epoch=940.0]"
     ]
    },
    {
     "name": "stderr",
     "output_type": "stream",
     "text": [
      "Metric val_loss improved by 20.585 >= min_delta = 0. New best score: 1038.045\n"
     ]
    },
    {
     "name": "stdout",
     "output_type": "stream",
     "text": [
      "Epoch 12: 100%|██████████| 30/30 [00:05<00:00,  5.24it/s, loss=898, v_num=1, train_loss_step=830.0, val_loss=1e+3, train_loss_epoch=928.0]   "
     ]
    },
    {
     "name": "stderr",
     "output_type": "stream",
     "text": [
      "Metric val_loss improved by 34.228 >= min_delta = 0. New best score: 1003.818\n"
     ]
    },
    {
     "name": "stdout",
     "output_type": "stream",
     "text": [
      "Epoch 13: 100%|██████████| 30/30 [00:05<00:00,  5.28it/s, loss=869, v_num=1, train_loss_step=904.0, val_loss=960.0, train_loss_epoch=898.0]"
     ]
    },
    {
     "name": "stderr",
     "output_type": "stream",
     "text": [
      "Metric val_loss improved by 43.839 >= min_delta = 0. New best score: 959.979\n"
     ]
    },
    {
     "name": "stdout",
     "output_type": "stream",
     "text": [
      "Epoch 14: 100%|██████████| 30/30 [00:05<00:00,  5.33it/s, loss=827, v_num=1, train_loss_step=786.0, val_loss=919.0, train_loss_epoch=869.0]"
     ]
    },
    {
     "name": "stderr",
     "output_type": "stream",
     "text": [
      "Metric val_loss improved by 40.596 >= min_delta = 0. New best score: 919.383\n"
     ]
    },
    {
     "name": "stdout",
     "output_type": "stream",
     "text": [
      "Epoch 15: 100%|██████████| 30/30 [00:05<00:00,  5.16it/s, loss=776, v_num=1, train_loss_step=753.0, val_loss=848.0, train_loss_epoch=827.0]"
     ]
    },
    {
     "name": "stderr",
     "output_type": "stream",
     "text": [
      "Metric val_loss improved by 71.142 >= min_delta = 0. New best score: 848.241\n"
     ]
    },
    {
     "name": "stdout",
     "output_type": "stream",
     "text": [
      "Epoch 16: 100%|██████████| 30/30 [00:05<00:00,  5.00it/s, loss=711, v_num=1, train_loss_step=694.0, val_loss=754.0, train_loss_epoch=776.0]"
     ]
    },
    {
     "name": "stderr",
     "output_type": "stream",
     "text": [
      "Metric val_loss improved by 94.388 >= min_delta = 0. New best score: 753.853\n"
     ]
    },
    {
     "name": "stdout",
     "output_type": "stream",
     "text": [
      "Epoch 17: 100%|██████████| 30/30 [00:05<00:00,  5.34it/s, loss=629, v_num=1, train_loss_step=563.0, val_loss=667.0, train_loss_epoch=711.0]"
     ]
    },
    {
     "name": "stderr",
     "output_type": "stream",
     "text": [
      "Metric val_loss improved by 86.425 >= min_delta = 0. New best score: 667.427\n"
     ]
    },
    {
     "name": "stdout",
     "output_type": "stream",
     "text": [
      "Epoch 18: 100%|██████████| 30/30 [00:05<00:00,  5.30it/s, loss=527, v_num=1, train_loss_step=447.0, val_loss=528.0, train_loss_epoch=629.0]"
     ]
    },
    {
     "name": "stderr",
     "output_type": "stream",
     "text": [
      "Metric val_loss improved by 139.353 >= min_delta = 0. New best score: 528.074\n"
     ]
    },
    {
     "name": "stdout",
     "output_type": "stream",
     "text": [
      "Epoch 19: 100%|██████████| 30/30 [00:05<00:00,  5.14it/s, loss=410, v_num=1, train_loss_step=363.0, val_loss=380.0, train_loss_epoch=527.0]"
     ]
    },
    {
     "name": "stderr",
     "output_type": "stream",
     "text": [
      "Metric val_loss improved by 147.870 >= min_delta = 0. New best score: 380.205\n"
     ]
    },
    {
     "name": "stdout",
     "output_type": "stream",
     "text": [
      "Epoch 20: 100%|██████████| 30/30 [00:05<00:00,  5.33it/s, loss=296, v_num=1, train_loss_step=228.0, val_loss=283.0, train_loss_epoch=410.0]"
     ]
    },
    {
     "name": "stderr",
     "output_type": "stream",
     "text": [
      "Metric val_loss improved by 97.017 >= min_delta = 0. New best score: 283.187\n"
     ]
    },
    {
     "name": "stdout",
     "output_type": "stream",
     "text": [
      "Epoch 21: 100%|██████████| 30/30 [00:05<00:00,  5.45it/s, loss=203, v_num=1, train_loss_step=172.0, val_loss=182.0, train_loss_epoch=296.0]"
     ]
    },
    {
     "name": "stderr",
     "output_type": "stream",
     "text": [
      "Metric val_loss improved by 101.231 >= min_delta = 0. New best score: 181.956\n"
     ]
    },
    {
     "name": "stdout",
     "output_type": "stream",
     "text": [
      "Epoch 22: 100%|██████████| 30/30 [00:05<00:00,  5.02it/s, loss=136, v_num=1, train_loss_step=105.0, val_loss=118.0, train_loss_epoch=203.0]"
     ]
    },
    {
     "name": "stderr",
     "output_type": "stream",
     "text": [
      "Metric val_loss improved by 63.959 >= min_delta = 0. New best score: 117.997\n"
     ]
    },
    {
     "name": "stdout",
     "output_type": "stream",
     "text": [
      "Epoch 23: 100%|██████████| 30/30 [00:05<00:00,  5.13it/s, loss=92.8, v_num=1, train_loss_step=79.00, val_loss=88.80, train_loss_epoch=136.0]"
     ]
    },
    {
     "name": "stderr",
     "output_type": "stream",
     "text": [
      "Metric val_loss improved by 29.229 >= min_delta = 0. New best score: 88.769\n"
     ]
    },
    {
     "name": "stdout",
     "output_type": "stream",
     "text": [
      "Epoch 24: 100%|██████████| 30/30 [00:05<00:00,  5.23it/s, loss=67.7, v_num=1, train_loss_step=59.40, val_loss=63.40, train_loss_epoch=92.80]"
     ]
    },
    {
     "name": "stderr",
     "output_type": "stream",
     "text": [
      "Metric val_loss improved by 25.326 >= min_delta = 0. New best score: 63.443\n"
     ]
    },
    {
     "name": "stdout",
     "output_type": "stream",
     "text": [
      "Epoch 25: 100%|██████████| 30/30 [00:05<00:00,  5.00it/s, loss=51.3, v_num=1, train_loss_step=45.00, val_loss=48.60, train_loss_epoch=67.70]"
     ]
    },
    {
     "name": "stderr",
     "output_type": "stream",
     "text": [
      "Metric val_loss improved by 14.873 >= min_delta = 0. New best score: 48.570\n"
     ]
    },
    {
     "name": "stdout",
     "output_type": "stream",
     "text": [
      "Epoch 26: 100%|██████████| 30/30 [00:05<00:00,  5.35it/s, loss=41.3, v_num=1, train_loss_step=36.30, val_loss=41.70, train_loss_epoch=51.30]"
     ]
    },
    {
     "name": "stderr",
     "output_type": "stream",
     "text": [
      "Metric val_loss improved by 6.891 >= min_delta = 0. New best score: 41.679\n"
     ]
    },
    {
     "name": "stdout",
     "output_type": "stream",
     "text": [
      "Epoch 27: 100%|██████████| 30/30 [00:05<00:00,  5.19it/s, loss=34.9, v_num=1, train_loss_step=31.90, val_loss=35.30, train_loss_epoch=41.30]"
     ]
    },
    {
     "name": "stderr",
     "output_type": "stream",
     "text": [
      "Metric val_loss improved by 6.340 >= min_delta = 0. New best score: 35.339\n"
     ]
    },
    {
     "name": "stdout",
     "output_type": "stream",
     "text": [
      "Epoch 28: 100%|██████████| 30/30 [00:06<00:00,  4.85it/s, loss=30.6, v_num=1, train_loss_step=29.60, val_loss=31.20, train_loss_epoch=34.90]"
     ]
    },
    {
     "name": "stderr",
     "output_type": "stream",
     "text": [
      "Metric val_loss improved by 4.125 >= min_delta = 0. New best score: 31.214\n"
     ]
    },
    {
     "name": "stdout",
     "output_type": "stream",
     "text": [
      "Epoch 29: 100%|██████████| 30/30 [00:05<00:00,  5.33it/s, loss=27.7, v_num=1, train_loss_step=25.90, val_loss=29.10, train_loss_epoch=30.60]"
     ]
    },
    {
     "name": "stderr",
     "output_type": "stream",
     "text": [
      "Metric val_loss improved by 2.144 >= min_delta = 0. New best score: 29.070\n"
     ]
    },
    {
     "name": "stdout",
     "output_type": "stream",
     "text": [
      "Epoch 29: 100%|██████████| 30/30 [00:05<00:00,  5.33it/s, loss=27.7, v_num=1, train_loss_step=25.90, val_loss=29.10, train_loss_epoch=27.70]"
     ]
    },
    {
     "name": "stderr",
     "output_type": "stream",
     "text": [
      "`Trainer.fit` stopped: `max_epochs=30` reached.\n"
     ]
    },
    {
     "name": "stdout",
     "output_type": "stream",
     "text": [
      "Epoch 29: 100%|██████████| 30/30 [00:05<00:00,  5.27it/s, loss=27.7, v_num=1, train_loss_step=25.90, val_loss=29.10, train_loss_epoch=27.70]"
     ]
    },
    {
     "name": "stderr",
     "output_type": "stream",
     "text": [
      "\u001b[32m[I 2024-04-02 18:18:19,084]\u001b[0m Trial 1 finished with value: 92.1451187133789 and parameters: {'neu': 210, 'lay': 9, 'bat': 352, 'lr': 0.00014264850883233764, 'dropout': 0.6000000000000001}. Best is trial 0 with value: 82.36552429199219.\u001b[0m\n"
     ]
    },
    {
     "name": "stdout",
     "output_type": "stream",
     "text": [
      "\n"
     ]
    },
    {
     "name": "stderr",
     "output_type": "stream",
     "text": [
      "GPU available: True (cuda), used: True\n",
      "TPU available: False, using: 0 TPU cores\n",
      "IPU available: False, using: 0 IPUs\n",
      "HPU available: False, using: 0 HPUs\n",
      "`Trainer(limit_train_batches=1.0)` was configured so 100% of the batches per epoch will be used..\n",
      "`Trainer(limit_val_batches=1.0)` was configured so 100% of the batches will be used..\n",
      "LOCAL_RANK: 0 - CUDA_VISIBLE_DEVICES: [0]\n",
      "\n",
      "  | Name                   | Type                             | Params\n",
      "----------------------------------------------------------------------------\n",
      "0 | loss                   | NegativeBinomialDistributionLoss | 0     \n",
      "1 | logging_metrics        | ModuleList                       | 0     \n",
      "2 | embeddings             | MultiEmbedding                   | 728   \n",
      "3 | rnn                    | LSTM                             | 375 K \n",
      "4 | distribution_projector | Linear                           | 422   \n",
      "----------------------------------------------------------------------------\n",
      "376 K     Trainable params\n",
      "0         Non-trainable params\n",
      "376 K     Total params\n",
      "1.507     Total estimated model params size (MB)\n"
     ]
    },
    {
     "name": "stdout",
     "output_type": "stream",
     "text": [
      "Epoch 0: 100%|██████████| 330/330 [00:10<00:00, 31.97it/s, loss=8.72, v_num=2, train_loss_step=8.720, val_loss=8.930]"
     ]
    },
    {
     "name": "stderr",
     "output_type": "stream",
     "text": [
      "Metric val_loss improved. New best score: 8.934\n"
     ]
    },
    {
     "name": "stdout",
     "output_type": "stream",
     "text": [
      "Epoch 1: 100%|██████████| 330/330 [00:10<00:00, 30.71it/s, loss=8.07, v_num=2, train_loss_step=8.300, val_loss=8.420, train_loss_epoch=68.50]"
     ]
    },
    {
     "name": "stderr",
     "output_type": "stream",
     "text": [
      "Metric val_loss improved by 0.516 >= min_delta = 0. New best score: 8.418\n"
     ]
    },
    {
     "name": "stdout",
     "output_type": "stream",
     "text": [
      "Epoch 2: 100%|██████████| 330/330 [00:10<00:00, 31.21it/s, loss=7.69, v_num=2, train_loss_step=7.980, val_loss=8.020, train_loss_epoch=8.350]"
     ]
    },
    {
     "name": "stderr",
     "output_type": "stream",
     "text": [
      "Metric val_loss improved by 0.393 >= min_delta = 0. New best score: 8.024\n"
     ]
    },
    {
     "name": "stdout",
     "output_type": "stream",
     "text": [
      "Epoch 3: 100%|██████████| 330/330 [00:10<00:00, 32.39it/s, loss=7.39, v_num=2, train_loss_step=7.660, val_loss=7.840, train_loss_epoch=7.920]"
     ]
    },
    {
     "name": "stderr",
     "output_type": "stream",
     "text": [
      "Metric val_loss improved by 0.189 >= min_delta = 0. New best score: 7.836\n"
     ]
    },
    {
     "name": "stdout",
     "output_type": "stream",
     "text": [
      "Epoch 4: 100%|██████████| 330/330 [00:10<00:00, 31.89it/s, loss=7.41, v_num=2, train_loss_step=7.200, val_loss=7.670, train_loss_epoch=7.630]"
     ]
    },
    {
     "name": "stderr",
     "output_type": "stream",
     "text": [
      "Metric val_loss improved by 0.166 >= min_delta = 0. New best score: 7.670\n"
     ]
    },
    {
     "name": "stdout",
     "output_type": "stream",
     "text": [
      "Epoch 5: 100%|██████████| 330/330 [00:10<00:00, 32.32it/s, loss=7.19, v_num=2, train_loss_step=7.220, val_loss=7.540, train_loss_epoch=7.420]"
     ]
    },
    {
     "name": "stderr",
     "output_type": "stream",
     "text": [
      "Metric val_loss improved by 0.134 >= min_delta = 0. New best score: 7.536\n"
     ]
    },
    {
     "name": "stdout",
     "output_type": "stream",
     "text": [
      "Epoch 7: 100%|██████████| 330/330 [00:10<00:00, 32.75it/s, loss=6.9, v_num=2, train_loss_step=7.030, val_loss=7.360, train_loss_epoch=7.200] "
     ]
    },
    {
     "name": "stderr",
     "output_type": "stream",
     "text": [
      "Metric val_loss improved by 0.181 >= min_delta = 0. New best score: 7.356\n"
     ]
    },
    {
     "name": "stdout",
     "output_type": "stream",
     "text": [
      "Epoch 8: 100%|██████████| 330/330 [00:10<00:00, 32.31it/s, loss=7.14, v_num=2, train_loss_step=6.870, val_loss=7.260, train_loss_epoch=7.130]"
     ]
    },
    {
     "name": "stderr",
     "output_type": "stream",
     "text": [
      "Metric val_loss improved by 0.094 >= min_delta = 0. New best score: 7.261\n"
     ]
    },
    {
     "name": "stdout",
     "output_type": "stream",
     "text": [
      "Epoch 9: 100%|██████████| 330/330 [00:10<00:00, 31.45it/s, loss=6.88, v_num=2, train_loss_step=6.650, val_loss=7.230, train_loss_epoch=7.030]"
     ]
    },
    {
     "name": "stderr",
     "output_type": "stream",
     "text": [
      "Metric val_loss improved by 0.035 >= min_delta = 0. New best score: 7.226\n"
     ]
    },
    {
     "name": "stdout",
     "output_type": "stream",
     "text": [
      "Epoch 11: 100%|██████████| 330/330 [00:10<00:00, 32.18it/s, loss=6.74, v_num=2, train_loss_step=6.880, val_loss=7.150, train_loss_epoch=6.930]"
     ]
    },
    {
     "name": "stderr",
     "output_type": "stream",
     "text": [
      "Metric val_loss improved by 0.079 >= min_delta = 0. New best score: 7.147\n"
     ]
    },
    {
     "name": "stdout",
     "output_type": "stream",
     "text": [
      "Epoch 14: 100%|██████████| 330/330 [00:10<00:00, 31.20it/s, loss=6.75, v_num=2, train_loss_step=6.360, val_loss=7.130, train_loss_epoch=6.790]"
     ]
    },
    {
     "name": "stderr",
     "output_type": "stream",
     "text": [
      "Metric val_loss improved by 0.018 >= min_delta = 0. New best score: 7.129\n"
     ]
    },
    {
     "name": "stdout",
     "output_type": "stream",
     "text": [
      "Epoch 15: 100%|██████████| 330/330 [00:11<00:00, 29.64it/s, loss=6.84, v_num=2, train_loss_step=7.050, val_loss=7.110, train_loss_epoch=6.750]"
     ]
    },
    {
     "name": "stderr",
     "output_type": "stream",
     "text": [
      "Metric val_loss improved by 0.024 >= min_delta = 0. New best score: 7.106\n"
     ]
    },
    {
     "name": "stdout",
     "output_type": "stream",
     "text": [
      "Epoch 17: 100%|██████████| 330/330 [00:10<00:00, 32.73it/s, loss=6.63, v_num=2, train_loss_step=6.240, val_loss=7.090, train_loss_epoch=6.740]"
     ]
    },
    {
     "name": "stderr",
     "output_type": "stream",
     "text": [
      "Metric val_loss improved by 0.016 >= min_delta = 0. New best score: 7.090\n"
     ]
    },
    {
     "name": "stdout",
     "output_type": "stream",
     "text": [
      "Epoch 21: 100%|██████████| 330/330 [00:09<00:00, 33.33it/s, loss=6.71, v_num=2, train_loss_step=6.020, val_loss=6.980, train_loss_epoch=6.590]"
     ]
    },
    {
     "name": "stderr",
     "output_type": "stream",
     "text": [
      "Metric val_loss improved by 0.107 >= min_delta = 0. New best score: 6.983\n"
     ]
    },
    {
     "name": "stdout",
     "output_type": "stream",
     "text": [
      "Epoch 26: 100%|██████████| 330/330 [00:09<00:00, 34.14it/s, loss=6.46, v_num=2, train_loss_step=6.910, val_loss=7.120, train_loss_epoch=6.500]"
     ]
    },
    {
     "name": "stderr",
     "output_type": "stream",
     "text": [
      "Monitored metric val_loss did not improve in the last 5 records. Best score: 6.983. Signaling Trainer to stop.\n"
     ]
    },
    {
     "name": "stdout",
     "output_type": "stream",
     "text": [
      "Epoch 26: 100%|██████████| 330/330 [00:09<00:00, 34.06it/s, loss=6.46, v_num=2, train_loss_step=6.910, val_loss=7.120, train_loss_epoch=6.500]"
     ]
    },
    {
     "name": "stderr",
     "output_type": "stream",
     "text": [
      "\u001b[32m[I 2024-04-02 18:22:58,131]\u001b[0m Trial 2 finished with value: 21.622835159301758 and parameters: {'neu': 210, 'lay': 1, 'bat': 32, 'lr': 0.045984777597412985, 'dropout': 0.0}. Best is trial 2 with value: 21.622835159301758.\u001b[0m\n"
     ]
    },
    {
     "name": "stdout",
     "output_type": "stream",
     "text": [
      "\n"
     ]
    },
    {
     "name": "stderr",
     "output_type": "stream",
     "text": [
      "GPU available: True (cuda), used: True\n",
      "TPU available: False, using: 0 TPU cores\n",
      "IPU available: False, using: 0 IPUs\n",
      "HPU available: False, using: 0 HPUs\n",
      "`Trainer(limit_train_batches=1.0)` was configured so 100% of the batches per epoch will be used..\n",
      "`Trainer(limit_val_batches=1.0)` was configured so 100% of the batches will be used..\n",
      "LOCAL_RANK: 0 - CUDA_VISIBLE_DEVICES: [0]\n",
      "\n",
      "  | Name                   | Type                             | Params\n",
      "----------------------------------------------------------------------------\n",
      "0 | loss                   | NegativeBinomialDistributionLoss | 0     \n",
      "1 | logging_metrics        | ModuleList                       | 0     \n",
      "2 | embeddings             | MultiEmbedding                   | 728   \n",
      "3 | rnn                    | LSTM                             | 13.4 K\n",
      "4 | distribution_projector | Linear                           | 22    \n",
      "----------------------------------------------------------------------------\n",
      "14.2 K    Trainable params\n",
      "0         Non-trainable params\n",
      "14.2 K    Total params\n",
      "0.057     Total estimated model params size (MB)\n"
     ]
    },
    {
     "name": "stdout",
     "output_type": "stream",
     "text": [
      "Epoch 0: 100%|██████████| 15/15 [00:05<00:00,  2.76it/s, loss=1.22e+03, v_num=3, train_loss_step=1.21e+3, val_loss=1.39e+3]"
     ]
    },
    {
     "name": "stderr",
     "output_type": "stream",
     "text": [
      "Metric val_loss improved. New best score: 1389.686\n"
     ]
    },
    {
     "name": "stdout",
     "output_type": "stream",
     "text": [
      "Epoch 1: 100%|██████████| 15/15 [00:05<00:00,  2.88it/s, loss=1.22e+03, v_num=3, train_loss_step=1.15e+3, val_loss=1.39e+3, train_loss_epoch=1.22e+3]"
     ]
    },
    {
     "name": "stderr",
     "output_type": "stream",
     "text": [
      "Metric val_loss improved by 0.915 >= min_delta = 0. New best score: 1388.771\n"
     ]
    },
    {
     "name": "stdout",
     "output_type": "stream",
     "text": [
      "Epoch 2: 100%|██████████| 15/15 [00:06<00:00,  2.40it/s, loss=1.22e+03, v_num=3, train_loss_step=1.2e+3, val_loss=1.39e+3, train_loss_epoch=1.22e+3] "
     ]
    },
    {
     "name": "stderr",
     "output_type": "stream",
     "text": [
      "Metric val_loss improved by 1.082 >= min_delta = 0. New best score: 1387.689\n"
     ]
    },
    {
     "name": "stdout",
     "output_type": "stream",
     "text": [
      "Epoch 3: 100%|██████████| 15/15 [00:05<00:00,  2.69it/s, loss=1.22e+03, v_num=3, train_loss_step=1.18e+3, val_loss=1.39e+3, train_loss_epoch=1.22e+3]"
     ]
    },
    {
     "name": "stderr",
     "output_type": "stream",
     "text": [
      "Metric val_loss improved by 2.271 >= min_delta = 0. New best score: 1385.418\n"
     ]
    },
    {
     "name": "stdout",
     "output_type": "stream",
     "text": [
      "Epoch 4: 100%|██████████| 15/15 [00:05<00:00,  2.63it/s, loss=1.22e+03, v_num=3, train_loss_step=1.18e+3, val_loss=1.38e+3, train_loss_epoch=1.22e+3]"
     ]
    },
    {
     "name": "stderr",
     "output_type": "stream",
     "text": [
      "Metric val_loss improved by 1.568 >= min_delta = 0. New best score: 1383.850\n"
     ]
    },
    {
     "name": "stdout",
     "output_type": "stream",
     "text": [
      "Epoch 5: 100%|██████████| 15/15 [00:05<00:00,  2.73it/s, loss=1.22e+03, v_num=3, train_loss_step=1.25e+3, val_loss=1.38e+3, train_loss_epoch=1.22e+3]"
     ]
    },
    {
     "name": "stderr",
     "output_type": "stream",
     "text": [
      "Metric val_loss improved by 1.680 >= min_delta = 0. New best score: 1382.170\n"
     ]
    },
    {
     "name": "stdout",
     "output_type": "stream",
     "text": [
      "Epoch 6: 100%|██████████| 15/15 [00:05<00:00,  2.75it/s, loss=1.22e+03, v_num=3, train_loss_step=1.2e+3, val_loss=1.38e+3, train_loss_epoch=1.22e+3] "
     ]
    },
    {
     "name": "stderr",
     "output_type": "stream",
     "text": [
      "Metric val_loss improved by 3.186 >= min_delta = 0. New best score: 1378.984\n"
     ]
    },
    {
     "name": "stdout",
     "output_type": "stream",
     "text": [
      "Epoch 7: 100%|██████████| 15/15 [00:05<00:00,  2.83it/s, loss=1.22e+03, v_num=3, train_loss_step=1.25e+3, val_loss=1.38e+3, train_loss_epoch=1.22e+3]"
     ]
    },
    {
     "name": "stderr",
     "output_type": "stream",
     "text": [
      "Metric val_loss improved by 2.010 >= min_delta = 0. New best score: 1376.974\n"
     ]
    },
    {
     "name": "stdout",
     "output_type": "stream",
     "text": [
      "Epoch 8: 100%|██████████| 15/15 [00:06<00:00,  2.37it/s, loss=1.21e+03, v_num=3, train_loss_step=1.21e+3, val_loss=1.37e+3, train_loss_epoch=1.21e+3]"
     ]
    },
    {
     "name": "stderr",
     "output_type": "stream",
     "text": [
      "Metric val_loss improved by 2.092 >= min_delta = 0. New best score: 1374.882\n"
     ]
    },
    {
     "name": "stdout",
     "output_type": "stream",
     "text": [
      "Epoch 9: 100%|██████████| 15/15 [00:05<00:00,  2.77it/s, loss=1.21e+03, v_num=3, train_loss_step=1.24e+3, val_loss=1.37e+3, train_loss_epoch=1.21e+3]"
     ]
    },
    {
     "name": "stderr",
     "output_type": "stream",
     "text": [
      "Metric val_loss improved by 3.846 >= min_delta = 0. New best score: 1371.036\n"
     ]
    },
    {
     "name": "stdout",
     "output_type": "stream",
     "text": [
      "Epoch 10: 100%|██████████| 15/15 [00:05<00:00,  2.78it/s, loss=1.21e+03, v_num=3, train_loss_step=1.24e+3, val_loss=1.37e+3, train_loss_epoch=1.21e+3]"
     ]
    },
    {
     "name": "stderr",
     "output_type": "stream",
     "text": [
      "Metric val_loss improved by 2.344 >= min_delta = 0. New best score: 1368.693\n"
     ]
    },
    {
     "name": "stdout",
     "output_type": "stream",
     "text": [
      "Epoch 11: 100%|██████████| 15/15 [00:05<00:00,  2.64it/s, loss=1.21e+03, v_num=3, train_loss_step=1.23e+3, val_loss=1.37e+3, train_loss_epoch=1.21e+3]"
     ]
    },
    {
     "name": "stderr",
     "output_type": "stream",
     "text": [
      "Metric val_loss improved by 2.407 >= min_delta = 0. New best score: 1366.286\n"
     ]
    },
    {
     "name": "stdout",
     "output_type": "stream",
     "text": [
      "Epoch 12: 100%|██████████| 15/15 [00:05<00:00,  2.81it/s, loss=1.2e+03, v_num=3, train_loss_step=1.21e+3, val_loss=1.36e+3, train_loss_epoch=1.2e+3]  "
     ]
    },
    {
     "name": "stderr",
     "output_type": "stream",
     "text": [
      "Metric val_loss improved by 4.357 >= min_delta = 0. New best score: 1361.929\n"
     ]
    },
    {
     "name": "stdout",
     "output_type": "stream",
     "text": [
      "Epoch 13: 100%|██████████| 15/15 [00:05<00:00,  2.65it/s, loss=1.2e+03, v_num=3, train_loss_step=1.2e+3, val_loss=1.36e+3, train_loss_epoch=1.2e+3] "
     ]
    },
    {
     "name": "stderr",
     "output_type": "stream",
     "text": [
      "Metric val_loss improved by 2.608 >= min_delta = 0. New best score: 1359.321\n"
     ]
    },
    {
     "name": "stdout",
     "output_type": "stream",
     "text": [
      "Epoch 14: 100%|██████████| 15/15 [00:06<00:00,  2.48it/s, loss=1.2e+03, v_num=3, train_loss_step=1.21e+3, val_loss=1.36e+3, train_loss_epoch=1.2e+3]"
     ]
    },
    {
     "name": "stderr",
     "output_type": "stream",
     "text": [
      "Metric val_loss improved by 2.663 >= min_delta = 0. New best score: 1356.658\n"
     ]
    },
    {
     "name": "stdout",
     "output_type": "stream",
     "text": [
      "Epoch 15: 100%|██████████| 15/15 [00:05<00:00,  2.81it/s, loss=1.19e+03, v_num=3, train_loss_step=1.25e+3, val_loss=1.35e+3, train_loss_epoch=1.2e+3]"
     ]
    },
    {
     "name": "stderr",
     "output_type": "stream",
     "text": [
      "Metric val_loss improved by 4.780 >= min_delta = 0. New best score: 1351.879\n"
     ]
    },
    {
     "name": "stdout",
     "output_type": "stream",
     "text": [
      "Epoch 16: 100%|██████████| 15/15 [00:05<00:00,  2.74it/s, loss=1.19e+03, v_num=3, train_loss_step=1.21e+3, val_loss=1.35e+3, train_loss_epoch=1.19e+3]"
     ]
    },
    {
     "name": "stderr",
     "output_type": "stream",
     "text": [
      "Metric val_loss improved by 2.837 >= min_delta = 0. New best score: 1349.041\n"
     ]
    },
    {
     "name": "stdout",
     "output_type": "stream",
     "text": [
      "Epoch 17: 100%|██████████| 15/15 [00:05<00:00,  2.75it/s, loss=1.19e+03, v_num=3, train_loss_step=1.18e+3, val_loss=1.35e+3, train_loss_epoch=1.19e+3]"
     ]
    },
    {
     "name": "stderr",
     "output_type": "stream",
     "text": [
      "Metric val_loss improved by 2.885 >= min_delta = 0. New best score: 1346.156\n"
     ]
    },
    {
     "name": "stdout",
     "output_type": "stream",
     "text": [
      "Epoch 18: 100%|██████████| 15/15 [00:05<00:00,  2.64it/s, loss=1.18e+03, v_num=3, train_loss_step=1.19e+3, val_loss=1.34e+3, train_loss_epoch=1.19e+3]"
     ]
    },
    {
     "name": "stderr",
     "output_type": "stream",
     "text": [
      "Metric val_loss improved by 5.161 >= min_delta = 0. New best score: 1340.995\n"
     ]
    },
    {
     "name": "stdout",
     "output_type": "stream",
     "text": [
      "Epoch 19: 100%|██████████| 15/15 [00:05<00:00,  2.78it/s, loss=1.18e+03, v_num=3, train_loss_step=1.09e+3, val_loss=1.34e+3, train_loss_epoch=1.18e+3]"
     ]
    },
    {
     "name": "stderr",
     "output_type": "stream",
     "text": [
      "Metric val_loss improved by 3.047 >= min_delta = 0. New best score: 1337.949\n"
     ]
    },
    {
     "name": "stdout",
     "output_type": "stream",
     "text": [
      "Epoch 20: 100%|██████████| 15/15 [00:05<00:00,  2.65it/s, loss=1.18e+03, v_num=3, train_loss_step=1.26e+3, val_loss=1.33e+3, train_loss_epoch=1.18e+3]"
     ]
    },
    {
     "name": "stderr",
     "output_type": "stream",
     "text": [
      "Metric val_loss improved by 3.093 >= min_delta = 0. New best score: 1334.856\n"
     ]
    },
    {
     "name": "stdout",
     "output_type": "stream",
     "text": [
      "Epoch 21: 100%|██████████| 15/15 [00:05<00:00,  2.92it/s, loss=1.18e+03, v_num=3, train_loss_step=1.16e+3, val_loss=1.33e+3, train_loss_epoch=1.18e+3]"
     ]
    },
    {
     "name": "stderr",
     "output_type": "stream",
     "text": [
      "Metric val_loss improved by 5.523 >= min_delta = 0. New best score: 1329.332\n"
     ]
    },
    {
     "name": "stdout",
     "output_type": "stream",
     "text": [
      "Epoch 22: 100%|██████████| 15/15 [00:05<00:00,  2.68it/s, loss=1.17e+03, v_num=3, train_loss_step=1.17e+3, val_loss=1.33e+3, train_loss_epoch=1.17e+3]"
     ]
    },
    {
     "name": "stderr",
     "output_type": "stream",
     "text": [
      "Metric val_loss improved by 3.251 >= min_delta = 0. New best score: 1326.081\n"
     ]
    },
    {
     "name": "stdout",
     "output_type": "stream",
     "text": [
      "Epoch 23: 100%|██████████| 15/15 [00:05<00:00,  2.69it/s, loss=1.17e+03, v_num=3, train_loss_step=1.22e+3, val_loss=1.32e+3, train_loss_epoch=1.17e+3]"
     ]
    },
    {
     "name": "stderr",
     "output_type": "stream",
     "text": [
      "Metric val_loss improved by 3.299 >= min_delta = 0. New best score: 1322.782\n"
     ]
    },
    {
     "name": "stdout",
     "output_type": "stream",
     "text": [
      "Epoch 24: 100%|██████████| 15/15 [00:05<00:00,  2.73it/s, loss=1.17e+03, v_num=3, train_loss_step=1.18e+3, val_loss=1.32e+3, train_loss_epoch=1.17e+3]"
     ]
    },
    {
     "name": "stderr",
     "output_type": "stream",
     "text": [
      "Metric val_loss improved by 5.888 >= min_delta = 0. New best score: 1316.894\n"
     ]
    },
    {
     "name": "stdout",
     "output_type": "stream",
     "text": [
      "Epoch 25: 100%|██████████| 15/15 [00:05<00:00,  2.69it/s, loss=1.16e+03, v_num=3, train_loss_step=1.15e+3, val_loss=1.31e+3, train_loss_epoch=1.16e+3]"
     ]
    },
    {
     "name": "stderr",
     "output_type": "stream",
     "text": [
      "Metric val_loss improved by 3.467 >= min_delta = 0. New best score: 1313.427\n"
     ]
    },
    {
     "name": "stdout",
     "output_type": "stream",
     "text": [
      "Epoch 26: 100%|██████████| 15/15 [00:06<00:00,  2.50it/s, loss=1.16e+03, v_num=3, train_loss_step=1.1e+3, val_loss=1.31e+3, train_loss_epoch=1.16e+3] "
     ]
    },
    {
     "name": "stderr",
     "output_type": "stream",
     "text": [
      "Metric val_loss improved by 3.521 >= min_delta = 0. New best score: 1309.905\n"
     ]
    },
    {
     "name": "stdout",
     "output_type": "stream",
     "text": [
      "Epoch 27: 100%|██████████| 15/15 [00:05<00:00,  2.68it/s, loss=1.15e+03, v_num=3, train_loss_step=1.17e+3, val_loss=1.3e+3, train_loss_epoch=1.16e+3] "
     ]
    },
    {
     "name": "stderr",
     "output_type": "stream",
     "text": [
      "Metric val_loss improved by 6.296 >= min_delta = 0. New best score: 1303.609\n"
     ]
    },
    {
     "name": "stdout",
     "output_type": "stream",
     "text": [
      "Epoch 28: 100%|██████████| 15/15 [00:05<00:00,  2.66it/s, loss=1.15e+03, v_num=3, train_loss_step=1.12e+3, val_loss=1.3e+3, train_loss_epoch=1.15e+3]"
     ]
    },
    {
     "name": "stderr",
     "output_type": "stream",
     "text": [
      "Metric val_loss improved by 3.711 >= min_delta = 0. New best score: 1299.897\n"
     ]
    },
    {
     "name": "stdout",
     "output_type": "stream",
     "text": [
      "Epoch 29: 100%|██████████| 15/15 [00:05<00:00,  2.76it/s, loss=1.15e+03, v_num=3, train_loss_step=1.14e+3, val_loss=1.3e+3, train_loss_epoch=1.15e+3]"
     ]
    },
    {
     "name": "stderr",
     "output_type": "stream",
     "text": [
      "Metric val_loss improved by 3.778 >= min_delta = 0. New best score: 1296.119\n"
     ]
    },
    {
     "name": "stdout",
     "output_type": "stream",
     "text": [
      "Epoch 29: 100%|██████████| 15/15 [00:05<00:00,  2.76it/s, loss=1.15e+03, v_num=3, train_loss_step=1.14e+3, val_loss=1.3e+3, train_loss_epoch=1.14e+3]"
     ]
    },
    {
     "name": "stderr",
     "output_type": "stream",
     "text": [
      "`Trainer.fit` stopped: `max_epochs=30` reached.\n"
     ]
    },
    {
     "name": "stdout",
     "output_type": "stream",
     "text": [
      "Epoch 29: 100%|██████████| 15/15 [00:05<00:00,  2.75it/s, loss=1.15e+03, v_num=3, train_loss_step=1.14e+3, val_loss=1.3e+3, train_loss_epoch=1.14e+3]"
     ]
    },
    {
     "name": "stderr",
     "output_type": "stream",
     "text": [
      "\u001b[32m[I 2024-04-02 18:25:47,974]\u001b[0m Trial 3 finished with value: 98.97156524658203 and parameters: {'neu': 10, 'lay': 5, 'bat': 736, 'lr': 0.00035201645447279444, 'dropout': 0.4}. Best is trial 2 with value: 21.622835159301758.\u001b[0m\n"
     ]
    },
    {
     "name": "stdout",
     "output_type": "stream",
     "text": [
      "\n"
     ]
    },
    {
     "name": "stderr",
     "output_type": "stream",
     "text": [
      "GPU available: True (cuda), used: True\n",
      "TPU available: False, using: 0 TPU cores\n",
      "IPU available: False, using: 0 IPUs\n",
      "HPU available: False, using: 0 HPUs\n",
      "`Trainer(limit_train_batches=1.0)` was configured so 100% of the batches per epoch will be used..\n",
      "`Trainer(limit_val_batches=1.0)` was configured so 100% of the batches will be used..\n",
      "LOCAL_RANK: 0 - CUDA_VISIBLE_DEVICES: [0]\n",
      "\n",
      "  | Name                   | Type                             | Params\n",
      "----------------------------------------------------------------------------\n",
      "0 | loss                   | NegativeBinomialDistributionLoss | 0     \n",
      "1 | logging_metrics        | ModuleList                       | 0     \n",
      "2 | embeddings             | MultiEmbedding                   | 728   \n",
      "3 | rnn                    | LSTM                             | 44.0 M\n",
      "4 | distribution_projector | Linear                           | 1.8 K \n",
      "----------------------------------------------------------------------------\n",
      "44.0 M    Trainable params\n",
      "0         Non-trainable params\n",
      "44.0 M    Total params\n",
      "175.880   Total estimated model params size (MB)\n"
     ]
    },
    {
     "name": "stdout",
     "output_type": "stream",
     "text": [
      "Epoch 0: 100%|██████████| 15/15 [00:05<00:00,  2.62it/s, loss=1.04e+03, v_num=4, train_loss_step=1.04e+3, val_loss=1.17e+3]"
     ]
    },
    {
     "name": "stderr",
     "output_type": "stream",
     "text": [
      "Metric val_loss improved. New best score: 1173.003\n"
     ]
    },
    {
     "name": "stdout",
     "output_type": "stream",
     "text": [
      "Epoch 1: 100%|██████████| 15/15 [00:06<00:00,  2.44it/s, loss=1.03e+03, v_num=4, train_loss_step=962.0, val_loss=1.17e+3, train_loss_epoch=1.04e+3]  "
     ]
    },
    {
     "name": "stderr",
     "output_type": "stream",
     "text": [
      "Metric val_loss improved by 4.409 >= min_delta = 0. New best score: 1168.594\n"
     ]
    },
    {
     "name": "stdout",
     "output_type": "stream",
     "text": [
      "Epoch 2: 100%|██████████| 15/15 [00:06<00:00,  2.29it/s, loss=1.03e+03, v_num=4, train_loss_step=1.04e+3, val_loss=1.16e+3, train_loss_epoch=1.03e+3]"
     ]
    },
    {
     "name": "stderr",
     "output_type": "stream",
     "text": [
      "Metric val_loss improved by 5.577 >= min_delta = 0. New best score: 1163.016\n"
     ]
    },
    {
     "name": "stdout",
     "output_type": "stream",
     "text": [
      "Epoch 3: 100%|██████████| 15/15 [00:05<00:00,  2.56it/s, loss=1.02e+03, v_num=4, train_loss_step=981.0, val_loss=1.15e+3, train_loss_epoch=1.03e+3]  "
     ]
    },
    {
     "name": "stderr",
     "output_type": "stream",
     "text": [
      "Metric val_loss improved by 12.436 >= min_delta = 0. New best score: 1150.580\n"
     ]
    },
    {
     "name": "stdout",
     "output_type": "stream",
     "text": [
      "Epoch 4: 100%|██████████| 15/15 [00:05<00:00,  2.60it/s, loss=1.01e+03, v_num=4, train_loss_step=975.0, val_loss=1.14e+3, train_loss_epoch=1.01e+3]  "
     ]
    },
    {
     "name": "stderr",
     "output_type": "stream",
     "text": [
      "Metric val_loss improved by 9.214 >= min_delta = 0. New best score: 1141.367\n"
     ]
    },
    {
     "name": "stdout",
     "output_type": "stream",
     "text": [
      "Epoch 5: 100%|██████████| 15/15 [00:05<00:00,  2.62it/s, loss=1e+03, v_num=4, train_loss_step=998.0, val_loss=1.13e+3, train_loss_epoch=1.01e+3]    "
     ]
    },
    {
     "name": "stderr",
     "output_type": "stream",
     "text": [
      "Metric val_loss improved by 10.293 >= min_delta = 0. New best score: 1131.073\n"
     ]
    },
    {
     "name": "stdout",
     "output_type": "stream",
     "text": [
      "Epoch 6: 100%|██████████| 15/15 [00:05<00:00,  2.61it/s, loss=994, v_num=4, train_loss_step=951.0, val_loss=1.11e+3, train_loss_epoch=1e+3]     "
     ]
    },
    {
     "name": "stderr",
     "output_type": "stream",
     "text": [
      "Metric val_loss improved by 20.800 >= min_delta = 0. New best score: 1110.273\n"
     ]
    },
    {
     "name": "stdout",
     "output_type": "stream",
     "text": [
      "Epoch 7: 100%|██████████| 15/15 [00:05<00:00,  2.53it/s, loss=981, v_num=4, train_loss_step=962.0, val_loss=1.1e+3, train_loss_epoch=988.0]   "
     ]
    },
    {
     "name": "stderr",
     "output_type": "stream",
     "text": [
      "Metric val_loss improved by 14.453 >= min_delta = 0. New best score: 1095.820\n"
     ]
    },
    {
     "name": "stdout",
     "output_type": "stream",
     "text": [
      "Epoch 8: 100%|██████████| 15/15 [00:05<00:00,  2.66it/s, loss=966, v_num=4, train_loss_step=913.0, val_loss=1.08e+3, train_loss_epoch=975.0]"
     ]
    },
    {
     "name": "stderr",
     "output_type": "stream",
     "text": [
      "Metric val_loss improved by 16.230 >= min_delta = 0. New best score: 1079.590\n"
     ]
    },
    {
     "name": "stdout",
     "output_type": "stream",
     "text": [
      "Epoch 9: 100%|██████████| 15/15 [00:06<00:00,  2.30it/s, loss=947, v_num=4, train_loss_step=888.0, val_loss=1.05e+3, train_loss_epoch=957.0] "
     ]
    },
    {
     "name": "stderr",
     "output_type": "stream",
     "text": [
      "Metric val_loss improved by 33.745 >= min_delta = 0. New best score: 1045.846\n"
     ]
    },
    {
     "name": "stdout",
     "output_type": "stream",
     "text": [
      "Epoch 10: 100%|██████████| 15/15 [00:05<00:00,  2.60it/s, loss=927, v_num=4, train_loss_step=889.0, val_loss=1.02e+3, train_loss_epoch=937.0]"
     ]
    },
    {
     "name": "stderr",
     "output_type": "stream",
     "text": [
      "Metric val_loss improved by 24.558 >= min_delta = 0. New best score: 1021.288\n"
     ]
    },
    {
     "name": "stdout",
     "output_type": "stream",
     "text": [
      "Epoch 11: 100%|██████████| 15/15 [00:05<00:00,  2.59it/s, loss=902, v_num=4, train_loss_step=855.0, val_loss=992.0, train_loss_epoch=917.0]  "
     ]
    },
    {
     "name": "stderr",
     "output_type": "stream",
     "text": [
      "Metric val_loss improved by 28.977 >= min_delta = 0. New best score: 992.311\n"
     ]
    },
    {
     "name": "stdout",
     "output_type": "stream",
     "text": [
      "Epoch 12: 100%|██████████| 15/15 [00:06<00:00,  2.50it/s, loss=868, v_num=4, train_loss_step=828.0, val_loss=927.0, train_loss_epoch=886.0]"
     ]
    },
    {
     "name": "stderr",
     "output_type": "stream",
     "text": [
      "Metric val_loss improved by 64.936 >= min_delta = 0. New best score: 927.375\n"
     ]
    },
    {
     "name": "stdout",
     "output_type": "stream",
     "text": [
      "Epoch 13: 100%|██████████| 15/15 [00:05<00:00,  2.56it/s, loss=827, v_num=4, train_loss_step=781.0, val_loss=876.0, train_loss_epoch=851.0]"
     ]
    },
    {
     "name": "stderr",
     "output_type": "stream",
     "text": [
      "Metric val_loss improved by 51.163 >= min_delta = 0. New best score: 876.211\n"
     ]
    },
    {
     "name": "stdout",
     "output_type": "stream",
     "text": [
      "Epoch 14: 100%|██████████| 15/15 [00:05<00:00,  2.65it/s, loss=769, v_num=4, train_loss_step=661.0, val_loss=813.0, train_loss_epoch=803.0]"
     ]
    },
    {
     "name": "stderr",
     "output_type": "stream",
     "text": [
      "Metric val_loss improved by 63.444 >= min_delta = 0. New best score: 812.767\n"
     ]
    },
    {
     "name": "stdout",
     "output_type": "stream",
     "text": [
      "Epoch 15: 100%|██████████| 15/15 [00:05<00:00,  2.53it/s, loss=696, v_num=4, train_loss_step=632.0, val_loss=665.0, train_loss_epoch=735.0]"
     ]
    },
    {
     "name": "stderr",
     "output_type": "stream",
     "text": [
      "Metric val_loss improved by 147.707 >= min_delta = 0. New best score: 665.060\n"
     ]
    },
    {
     "name": "stdout",
     "output_type": "stream",
     "text": [
      "Epoch 16: 100%|██████████| 15/15 [00:06<00:00,  2.33it/s, loss=604, v_num=4, train_loss_step=504.0, val_loss=552.0, train_loss_epoch=658.0]"
     ]
    },
    {
     "name": "stderr",
     "output_type": "stream",
     "text": [
      "Metric val_loss improved by 112.897 >= min_delta = 0. New best score: 552.164\n"
     ]
    },
    {
     "name": "stdout",
     "output_type": "stream",
     "text": [
      "Epoch 17: 100%|██████████| 15/15 [00:05<00:00,  2.69it/s, loss=483, v_num=4, train_loss_step=316.0, val_loss=427.0, train_loss_epoch=550.0]"
     ]
    },
    {
     "name": "stderr",
     "output_type": "stream",
     "text": [
      "Metric val_loss improved by 124.994 >= min_delta = 0. New best score: 427.170\n"
     ]
    },
    {
     "name": "stdout",
     "output_type": "stream",
     "text": [
      "Epoch 18: 100%|██████████| 15/15 [00:05<00:00,  2.64it/s, loss=353, v_num=4, train_loss_step=241.0, val_loss=224.0, train_loss_epoch=416.0]"
     ]
    },
    {
     "name": "stderr",
     "output_type": "stream",
     "text": [
      "Metric val_loss improved by 203.626 >= min_delta = 0. New best score: 223.544\n"
     ]
    },
    {
     "name": "stdout",
     "output_type": "stream",
     "text": [
      "Epoch 19: 100%|██████████| 15/15 [00:05<00:00,  2.52it/s, loss=231, v_num=4, train_loss_step=144.0, val_loss=140.0, train_loss_epoch=290.0]"
     ]
    },
    {
     "name": "stderr",
     "output_type": "stream",
     "text": [
      "Metric val_loss improved by 83.181 >= min_delta = 0. New best score: 140.362\n"
     ]
    },
    {
     "name": "stdout",
     "output_type": "stream",
     "text": [
      "Epoch 20: 100%|██████████| 15/15 [00:05<00:00,  2.55it/s, loss=133, v_num=4, train_loss_step=66.40, val_loss=89.00, train_loss_epoch=171.0]"
     ]
    },
    {
     "name": "stderr",
     "output_type": "stream",
     "text": [
      "Metric val_loss improved by 51.333 >= min_delta = 0. New best score: 89.030\n"
     ]
    },
    {
     "name": "stdout",
     "output_type": "stream",
     "text": [
      "Epoch 21: 100%|██████████| 15/15 [00:05<00:00,  2.62it/s, loss=76.9, v_num=4, train_loss_step=47.20, val_loss=46.40, train_loss_epoch=95.00]"
     ]
    },
    {
     "name": "stderr",
     "output_type": "stream",
     "text": [
      "Metric val_loss improved by 42.675 >= min_delta = 0. New best score: 46.354\n"
     ]
    },
    {
     "name": "stdout",
     "output_type": "stream",
     "text": [
      "Epoch 22: 100%|██████████| 15/15 [00:05<00:00,  2.66it/s, loss=48.4, v_num=4, train_loss_step=34.60, val_loss=34.80, train_loss_epoch=58.80]"
     ]
    },
    {
     "name": "stderr",
     "output_type": "stream",
     "text": [
      "Metric val_loss improved by 11.572 >= min_delta = 0. New best score: 34.783\n"
     ]
    },
    {
     "name": "stdout",
     "output_type": "stream",
     "text": [
      "Epoch 23: 100%|██████████| 15/15 [00:05<00:00,  2.53it/s, loss=32.8, v_num=4, train_loss_step=21.70, val_loss=27.40, train_loss_epoch=38.10]"
     ]
    },
    {
     "name": "stderr",
     "output_type": "stream",
     "text": [
      "Metric val_loss improved by 7.364 >= min_delta = 0. New best score: 27.419\n"
     ]
    },
    {
     "name": "stdout",
     "output_type": "stream",
     "text": [
      "Epoch 24: 100%|██████████| 15/15 [00:06<00:00,  2.24it/s, loss=24.6, v_num=4, train_loss_step=19.10, val_loss=19.80, train_loss_epoch=27.50]"
     ]
    },
    {
     "name": "stderr",
     "output_type": "stream",
     "text": [
      "Metric val_loss improved by 7.573 >= min_delta = 0. New best score: 19.846\n"
     ]
    },
    {
     "name": "stdout",
     "output_type": "stream",
     "text": [
      "Epoch 25: 100%|██████████| 15/15 [00:05<00:00,  2.56it/s, loss=19.6, v_num=4, train_loss_step=16.30, val_loss=17.30, train_loss_epoch=21.70]"
     ]
    },
    {
     "name": "stderr",
     "output_type": "stream",
     "text": [
      "Metric val_loss improved by 2.565 >= min_delta = 0. New best score: 17.281\n"
     ]
    },
    {
     "name": "stdout",
     "output_type": "stream",
     "text": [
      "Epoch 26: 100%|██████████| 15/15 [00:05<00:00,  2.60it/s, loss=16.4, v_num=4, train_loss_step=13.80, val_loss=15.50, train_loss_epoch=17.60]"
     ]
    },
    {
     "name": "stderr",
     "output_type": "stream",
     "text": [
      "Metric val_loss improved by 1.748 >= min_delta = 0. New best score: 15.532\n"
     ]
    },
    {
     "name": "stdout",
     "output_type": "stream",
     "text": [
      "Epoch 27: 100%|██████████| 15/15 [00:05<00:00,  2.58it/s, loss=14.5, v_num=4, train_loss_step=13.30, val_loss=13.70, train_loss_epoch=15.20]"
     ]
    },
    {
     "name": "stderr",
     "output_type": "stream",
     "text": [
      "Metric val_loss improved by 1.840 >= min_delta = 0. New best score: 13.692\n"
     ]
    },
    {
     "name": "stdout",
     "output_type": "stream",
     "text": [
      "Epoch 28: 100%|██████████| 15/15 [00:05<00:00,  2.56it/s, loss=13.3, v_num=4, train_loss_step=12.50, val_loss=13.10, train_loss_epoch=13.80]"
     ]
    },
    {
     "name": "stderr",
     "output_type": "stream",
     "text": [
      "Metric val_loss improved by 0.622 >= min_delta = 0. New best score: 13.070\n"
     ]
    },
    {
     "name": "stdout",
     "output_type": "stream",
     "text": [
      "Epoch 29: 100%|██████████| 15/15 [00:05<00:00,  2.64it/s, loss=12.5, v_num=4, train_loss_step=11.90, val_loss=12.60, train_loss_epoch=12.80]"
     ]
    },
    {
     "name": "stderr",
     "output_type": "stream",
     "text": [
      "Metric val_loss improved by 0.446 >= min_delta = 0. New best score: 12.624\n"
     ]
    },
    {
     "name": "stdout",
     "output_type": "stream",
     "text": [
      "Epoch 29: 100%|██████████| 15/15 [00:05<00:00,  2.64it/s, loss=12.5, v_num=4, train_loss_step=11.90, val_loss=12.60, train_loss_epoch=12.20]"
     ]
    },
    {
     "name": "stderr",
     "output_type": "stream",
     "text": [
      "`Trainer.fit` stopped: `max_epochs=30` reached.\n"
     ]
    },
    {
     "name": "stdout",
     "output_type": "stream",
     "text": [
      "Epoch 29: 100%|██████████| 15/15 [00:10<00:00,  1.50it/s, loss=12.5, v_num=4, train_loss_step=11.90, val_loss=12.60, train_loss_epoch=12.20]\n"
     ]
    },
    {
     "name": "stderr",
     "output_type": "stream",
     "text": [
      "\u001b[32m[I 2024-04-02 18:30:02,581]\u001b[0m Trial 4 finished with value: 85.41183471679688 and parameters: {'neu': 910, 'lay': 7, 'bat': 704, 'lr': 0.0002972937500309882, 'dropout': 0.6000000000000001}. Best is trial 2 with value: 21.622835159301758.\u001b[0m\n",
      "GPU available: True (cuda), used: True\n",
      "TPU available: False, using: 0 TPU cores\n",
      "IPU available: False, using: 0 IPUs\n",
      "HPU available: False, using: 0 HPUs\n",
      "`Trainer(limit_train_batches=1.0)` was configured so 100% of the batches per epoch will be used..\n",
      "`Trainer(limit_val_batches=1.0)` was configured so 100% of the batches will be used..\n",
      "LOCAL_RANK: 0 - CUDA_VISIBLE_DEVICES: [0]\n",
      "\n",
      "  | Name                   | Type                             | Params\n",
      "----------------------------------------------------------------------------\n",
      "0 | loss                   | NegativeBinomialDistributionLoss | 0     \n",
      "1 | logging_metrics        | ModuleList                       | 0     \n",
      "2 | embeddings             | MultiEmbedding                   | 728   \n",
      "3 | rnn                    | LSTM                             | 1.1 M \n",
      "4 | distribution_projector | Linear                           | 422   \n",
      "----------------------------------------------------------------------------\n",
      "1.1 M     Trainable params\n",
      "0         Non-trainable params\n",
      "1.1 M     Total params\n",
      "4.342     Total estimated model params size (MB)\n"
     ]
    },
    {
     "name": "stdout",
     "output_type": "stream",
     "text": [
      "Epoch 0: 100%|██████████| 16/16 [00:05<00:00,  3.06it/s, loss=991, v_num=5, train_loss_step=1.03e+3, val_loss=1.11e+3]"
     ]
    },
    {
     "name": "stderr",
     "output_type": "stream",
     "text": [
      "Metric val_loss improved. New best score: 1114.274\n"
     ]
    },
    {
     "name": "stdout",
     "output_type": "stream",
     "text": [
      "Epoch 1: 100%|██████████| 16/16 [00:05<00:00,  2.73it/s, loss=981, v_num=5, train_loss_step=869.0, val_loss=1.08e+3, train_loss_epoch=991.0]  "
     ]
    },
    {
     "name": "stderr",
     "output_type": "stream",
     "text": [
      "Metric val_loss improved by 34.714 >= min_delta = 0. New best score: 1079.560\n"
     ]
    },
    {
     "name": "stdout",
     "output_type": "stream",
     "text": [
      "Epoch 2: 100%|██████████| 16/16 [00:05<00:00,  3.14it/s, loss=954, v_num=5, train_loss_step=958.0, val_loss=1.03e+3, train_loss_epoch=977.0]"
     ]
    },
    {
     "name": "stderr",
     "output_type": "stream",
     "text": [
      "Metric val_loss improved by 45.187 >= min_delta = 0. New best score: 1034.372\n"
     ]
    },
    {
     "name": "stdout",
     "output_type": "stream",
     "text": [
      "Epoch 3: 100%|██████████| 16/16 [00:05<00:00,  2.98it/s, loss=913, v_num=5, train_loss_step=811.0, val_loss=977.0, train_loss_epoch=938.0]  "
     ]
    },
    {
     "name": "stderr",
     "output_type": "stream",
     "text": [
      "Metric val_loss improved by 57.809 >= min_delta = 0. New best score: 976.563\n"
     ]
    },
    {
     "name": "stdout",
     "output_type": "stream",
     "text": [
      "Epoch 4: 100%|██████████| 16/16 [00:05<00:00,  3.04it/s, loss=853, v_num=5, train_loss_step=818.0, val_loss=903.0, train_loss_epoch=893.0]"
     ]
    },
    {
     "name": "stderr",
     "output_type": "stream",
     "text": [
      "Metric val_loss improved by 73.627 >= min_delta = 0. New best score: 902.936\n"
     ]
    },
    {
     "name": "stdout",
     "output_type": "stream",
     "text": [
      "Epoch 5: 100%|██████████| 16/16 [00:05<00:00,  3.15it/s, loss=784, v_num=5, train_loss_step=664.0, val_loss=809.0, train_loss_epoch=829.0]"
     ]
    },
    {
     "name": "stderr",
     "output_type": "stream",
     "text": [
      "Metric val_loss improved by 94.055 >= min_delta = 0. New best score: 808.880\n"
     ]
    },
    {
     "name": "stdout",
     "output_type": "stream",
     "text": [
      "Epoch 6: 100%|██████████| 16/16 [00:05<00:00,  2.98it/s, loss=687, v_num=5, train_loss_step=582.0, val_loss=614.0, train_loss_epoch=750.0]"
     ]
    },
    {
     "name": "stderr",
     "output_type": "stream",
     "text": [
      "Metric val_loss improved by 194.842 >= min_delta = 0. New best score: 614.038\n"
     ]
    },
    {
     "name": "stdout",
     "output_type": "stream",
     "text": [
      "Epoch 7: 100%|██████████| 16/16 [00:05<00:00,  2.98it/s, loss=568, v_num=5, train_loss_step=434.0, val_loss=469.0, train_loss_epoch=645.0]"
     ]
    },
    {
     "name": "stderr",
     "output_type": "stream",
     "text": [
      "Metric val_loss improved by 144.785 >= min_delta = 0. New best score: 469.253\n"
     ]
    },
    {
     "name": "stdout",
     "output_type": "stream",
     "text": [
      "Epoch 8: 100%|██████████| 16/16 [00:05<00:00,  2.99it/s, loss=437, v_num=5, train_loss_step=319.0, val_loss=328.0, train_loss_epoch=519.0]"
     ]
    },
    {
     "name": "stderr",
     "output_type": "stream",
     "text": [
      "Metric val_loss improved by 141.176 >= min_delta = 0. New best score: 328.077\n"
     ]
    },
    {
     "name": "stdout",
     "output_type": "stream",
     "text": [
      "Epoch 9: 100%|██████████| 16/16 [00:06<00:00,  2.65it/s, loss=303, v_num=5, train_loss_step=209.0, val_loss=215.0, train_loss_epoch=378.0]"
     ]
    },
    {
     "name": "stderr",
     "output_type": "stream",
     "text": [
      "Metric val_loss improved by 113.154 >= min_delta = 0. New best score: 214.923\n"
     ]
    },
    {
     "name": "stdout",
     "output_type": "stream",
     "text": [
      "Epoch 10: 100%|██████████| 16/16 [00:05<00:00,  3.16it/s, loss=193, v_num=5, train_loss_step=134.0, val_loss=138.0, train_loss_epoch=248.0]"
     ]
    },
    {
     "name": "stderr",
     "output_type": "stream",
     "text": [
      "Metric val_loss improved by 76.625 >= min_delta = 0. New best score: 138.298\n"
     ]
    },
    {
     "name": "stdout",
     "output_type": "stream",
     "text": [
      "Epoch 11: 100%|██████████| 16/16 [00:05<00:00,  3.13it/s, loss=119, v_num=5, train_loss_step=75.70, val_loss=91.40, train_loss_epoch=155.0]"
     ]
    },
    {
     "name": "stderr",
     "output_type": "stream",
     "text": [
      "Metric val_loss improved by 46.896 >= min_delta = 0. New best score: 91.403\n"
     ]
    },
    {
     "name": "stdout",
     "output_type": "stream",
     "text": [
      "Epoch 12: 100%|██████████| 16/16 [00:05<00:00,  2.88it/s, loss=75.6, v_num=5, train_loss_step=50.30, val_loss=53.00, train_loss_epoch=96.30]"
     ]
    },
    {
     "name": "stderr",
     "output_type": "stream",
     "text": [
      "Metric val_loss improved by 38.381 >= min_delta = 0. New best score: 53.022\n"
     ]
    },
    {
     "name": "stdout",
     "output_type": "stream",
     "text": [
      "Epoch 13: 100%|██████████| 16/16 [00:05<00:00,  2.96it/s, loss=52.3, v_num=5, train_loss_step=39.80, val_loss=41.00, train_loss_epoch=64.30]"
     ]
    },
    {
     "name": "stderr",
     "output_type": "stream",
     "text": [
      "Metric val_loss improved by 12.029 >= min_delta = 0. New best score: 40.992\n"
     ]
    },
    {
     "name": "stdout",
     "output_type": "stream",
     "text": [
      "Epoch 14: 100%|██████████| 16/16 [00:05<00:00,  3.05it/s, loss=38.8, v_num=5, train_loss_step=31.90, val_loss=33.60, train_loss_epoch=45.30]"
     ]
    },
    {
     "name": "stderr",
     "output_type": "stream",
     "text": [
      "Metric val_loss improved by 7.371 >= min_delta = 0. New best score: 33.621\n"
     ]
    },
    {
     "name": "stdout",
     "output_type": "stream",
     "text": [
      "Epoch 15: 100%|██████████| 16/16 [00:05<00:00,  3.08it/s, loss=31.2, v_num=5, train_loss_step=27.60, val_loss=28.90, train_loss_epoch=34.80]"
     ]
    },
    {
     "name": "stderr",
     "output_type": "stream",
     "text": [
      "Metric val_loss improved by 4.731 >= min_delta = 0. New best score: 28.891\n"
     ]
    },
    {
     "name": "stdout",
     "output_type": "stream",
     "text": [
      "Epoch 16: 100%|██████████| 16/16 [00:05<00:00,  3.11it/s, loss=26.4, v_num=5, train_loss_step=22.80, val_loss=25.70, train_loss_epoch=28.60]"
     ]
    },
    {
     "name": "stderr",
     "output_type": "stream",
     "text": [
      "Metric val_loss improved by 3.202 >= min_delta = 0. New best score: 25.689\n"
     ]
    },
    {
     "name": "stdout",
     "output_type": "stream",
     "text": [
      "Epoch 17: 100%|██████████| 16/16 [00:06<00:00,  2.58it/s, loss=23.2, v_num=5, train_loss_step=20.60, val_loss=23.40, train_loss_epoch=24.80]"
     ]
    },
    {
     "name": "stderr",
     "output_type": "stream",
     "text": [
      "Metric val_loss improved by 2.288 >= min_delta = 0. New best score: 23.401\n"
     ]
    },
    {
     "name": "stdout",
     "output_type": "stream",
     "text": [
      "Epoch 18: 100%|██████████| 16/16 [00:05<00:00,  3.02it/s, loss=21.1, v_num=5, train_loss_step=18.90, val_loss=20.80, train_loss_epoch=22.10]"
     ]
    },
    {
     "name": "stderr",
     "output_type": "stream",
     "text": [
      "Metric val_loss improved by 2.566 >= min_delta = 0. New best score: 20.835\n"
     ]
    },
    {
     "name": "stdout",
     "output_type": "stream",
     "text": [
      "Epoch 19: 100%|██████████| 16/16 [00:05<00:00,  2.99it/s, loss=19.5, v_num=5, train_loss_step=18.10, val_loss=19.70, train_loss_epoch=20.40]"
     ]
    },
    {
     "name": "stderr",
     "output_type": "stream",
     "text": [
      "Metric val_loss improved by 1.173 >= min_delta = 0. New best score: 19.662\n"
     ]
    },
    {
     "name": "stdout",
     "output_type": "stream",
     "text": [
      "Epoch 20: 100%|██████████| 16/16 [00:05<00:00,  2.99it/s, loss=18.3, v_num=5, train_loss_step=16.80, val_loss=18.70, train_loss_epoch=19.00]"
     ]
    },
    {
     "name": "stderr",
     "output_type": "stream",
     "text": [
      "Metric val_loss improved by 0.961 >= min_delta = 0. New best score: 18.701\n"
     ]
    },
    {
     "name": "stdout",
     "output_type": "stream",
     "text": [
      "Epoch 21: 100%|██████████| 16/16 [00:05<00:00,  3.03it/s, loss=17.4, v_num=5, train_loss_step=16.70, val_loss=17.90, train_loss_epoch=17.90]"
     ]
    },
    {
     "name": "stderr",
     "output_type": "stream",
     "text": [
      "Metric val_loss improved by 0.808 >= min_delta = 0. New best score: 17.893\n"
     ]
    },
    {
     "name": "stdout",
     "output_type": "stream",
     "text": [
      "Epoch 22: 100%|██████████| 16/16 [00:06<00:00,  2.53it/s, loss=16.6, v_num=5, train_loss_step=16.30, val_loss=17.20, train_loss_epoch=17.00]"
     ]
    },
    {
     "name": "stderr",
     "output_type": "stream",
     "text": [
      "Metric val_loss improved by 0.692 >= min_delta = 0. New best score: 17.201\n"
     ]
    },
    {
     "name": "stdout",
     "output_type": "stream",
     "text": [
      "Epoch 23: 100%|██████████| 16/16 [00:05<00:00,  3.02it/s, loss=15.9, v_num=5, train_loss_step=15.80, val_loss=16.60, train_loss_epoch=16.30]"
     ]
    },
    {
     "name": "stderr",
     "output_type": "stream",
     "text": [
      "Metric val_loss improved by 0.601 >= min_delta = 0. New best score: 16.600\n"
     ]
    },
    {
     "name": "stdout",
     "output_type": "stream",
     "text": [
      "Epoch 24: 100%|██████████| 16/16 [00:05<00:00,  2.86it/s, loss=15.4, v_num=5, train_loss_step=14.40, val_loss=15.80, train_loss_epoch=15.70]"
     ]
    },
    {
     "name": "stderr",
     "output_type": "stream",
     "text": [
      "Metric val_loss improved by 0.817 >= min_delta = 0. New best score: 15.783\n"
     ]
    },
    {
     "name": "stdout",
     "output_type": "stream",
     "text": [
      "Epoch 25: 100%|██████████| 16/16 [00:06<00:00,  2.44it/s, loss=14.9, v_num=5, train_loss_step=15.00, val_loss=15.30, train_loss_epoch=15.20]"
     ]
    },
    {
     "name": "stderr",
     "output_type": "stream",
     "text": [
      "Metric val_loss improved by 0.438 >= min_delta = 0. New best score: 15.345\n"
     ]
    },
    {
     "name": "stdout",
     "output_type": "stream",
     "text": [
      "Epoch 26: 100%|██████████| 16/16 [00:04<00:00,  3.21it/s, loss=14.5, v_num=5, train_loss_step=14.30, val_loss=15.00, train_loss_epoch=14.70]"
     ]
    },
    {
     "name": "stderr",
     "output_type": "stream",
     "text": [
      "Metric val_loss improved by 0.393 >= min_delta = 0. New best score: 14.952\n"
     ]
    },
    {
     "name": "stdout",
     "output_type": "stream",
     "text": [
      "Epoch 27: 100%|██████████| 16/16 [00:05<00:00,  3.09it/s, loss=14.1, v_num=5, train_loss_step=13.90, val_loss=14.60, train_loss_epoch=14.30]"
     ]
    },
    {
     "name": "stderr",
     "output_type": "stream",
     "text": [
      "Metric val_loss improved by 0.354 >= min_delta = 0. New best score: 14.598\n"
     ]
    },
    {
     "name": "stdout",
     "output_type": "stream",
     "text": [
      "Epoch 28: 100%|██████████| 16/16 [00:05<00:00,  2.97it/s, loss=13.7, v_num=5, train_loss_step=13.30, val_loss=14.30, train_loss_epoch=13.90]"
     ]
    },
    {
     "name": "stderr",
     "output_type": "stream",
     "text": [
      "Metric val_loss improved by 0.321 >= min_delta = 0. New best score: 14.277\n"
     ]
    },
    {
     "name": "stdout",
     "output_type": "stream",
     "text": [
      "Epoch 29: 100%|██████████| 16/16 [00:05<00:00,  3.02it/s, loss=13.4, v_num=5, train_loss_step=13.50, val_loss=14.00, train_loss_epoch=13.60]"
     ]
    },
    {
     "name": "stderr",
     "output_type": "stream",
     "text": [
      "Metric val_loss improved by 0.291 >= min_delta = 0. New best score: 13.986\n"
     ]
    },
    {
     "name": "stdout",
     "output_type": "stream",
     "text": [
      "Epoch 29: 100%|██████████| 16/16 [00:05<00:00,  3.02it/s, loss=13.4, v_num=5, train_loss_step=13.50, val_loss=14.00, train_loss_epoch=13.30]"
     ]
    },
    {
     "name": "stderr",
     "output_type": "stream",
     "text": [
      "`Trainer.fit` stopped: `max_epochs=30` reached.\n"
     ]
    },
    {
     "name": "stdout",
     "output_type": "stream",
     "text": [
      "Epoch 29: 100%|██████████| 16/16 [00:05<00:00,  3.01it/s, loss=13.4, v_num=5, train_loss_step=13.50, val_loss=14.00, train_loss_epoch=13.30]"
     ]
    },
    {
     "name": "stderr",
     "output_type": "stream",
     "text": [
      "\u001b[32m[I 2024-04-02 18:32:49,392]\u001b[0m Trial 5 pruned. \u001b[0m\n"
     ]
    },
    {
     "name": "stdout",
     "output_type": "stream",
     "text": [
      "\n"
     ]
    },
    {
     "name": "stderr",
     "output_type": "stream",
     "text": [
      "GPU available: True (cuda), used: True\n",
      "TPU available: False, using: 0 TPU cores\n",
      "IPU available: False, using: 0 IPUs\n",
      "HPU available: False, using: 0 HPUs\n",
      "`Trainer(limit_train_batches=1.0)` was configured so 100% of the batches per epoch will be used..\n",
      "`Trainer(limit_val_batches=1.0)` was configured so 100% of the batches will be used..\n",
      "LOCAL_RANK: 0 - CUDA_VISIBLE_DEVICES: [0]\n",
      "\n",
      "  | Name                   | Type                             | Params\n",
      "----------------------------------------------------------------------------\n",
      "0 | loss                   | NegativeBinomialDistributionLoss | 0     \n",
      "1 | logging_metrics        | ModuleList                       | 0     \n",
      "2 | embeddings             | MultiEmbedding                   | 728   \n",
      "3 | rnn                    | LSTM                             | 14.0 M\n",
      "4 | distribution_projector | Linear                           | 1.0 K \n",
      "----------------------------------------------------------------------------\n",
      "14.0 M    Trainable params\n",
      "0         Non-trainable params\n",
      "14.0 M    Total params\n",
      "56.140    Total estimated model params size (MB)\n"
     ]
    },
    {
     "name": "stdout",
     "output_type": "stream",
     "text": [
      "Epoch 0: 100%|██████████| 55/55 [00:06<00:00,  8.67it/s, loss=924, v_num=6, train_loss_step=689.0, val_loss=903.0]"
     ]
    },
    {
     "name": "stderr",
     "output_type": "stream",
     "text": [
      "Metric val_loss improved. New best score: 902.657\n"
     ]
    },
    {
     "name": "stdout",
     "output_type": "stream",
     "text": [
      "Epoch 1: 100%|██████████| 55/55 [00:06<00:00,  8.61it/s, loss=67.6, v_num=6, train_loss_step=19.50, val_loss=18.90, train_loss_epoch=979.0]"
     ]
    },
    {
     "name": "stderr",
     "output_type": "stream",
     "text": [
      "Metric val_loss improved by 883.747 >= min_delta = 0. New best score: 18.909\n"
     ]
    },
    {
     "name": "stdout",
     "output_type": "stream",
     "text": [
      "Epoch 2: 100%|██████████| 55/55 [00:06<00:00,  8.79it/s, loss=11.2, v_num=6, train_loss_step=10.80, val_loss=11.20, train_loss_epoch=292.0]"
     ]
    },
    {
     "name": "stderr",
     "output_type": "stream",
     "text": [
      "Metric val_loss improved by 7.689 >= min_delta = 0. New best score: 11.220\n"
     ]
    },
    {
     "name": "stdout",
     "output_type": "stream",
     "text": [
      "Epoch 3: 100%|██████████| 55/55 [00:05<00:00,  9.17it/s, loss=10.3, v_num=6, train_loss_step=10.30, val_loss=10.50, train_loss_epoch=12.60]"
     ]
    },
    {
     "name": "stderr",
     "output_type": "stream",
     "text": [
      "Metric val_loss improved by 0.683 >= min_delta = 0. New best score: 10.537\n"
     ]
    },
    {
     "name": "stdout",
     "output_type": "stream",
     "text": [
      "Epoch 4: 100%|██████████| 55/55 [00:05<00:00,  9.76it/s, loss=10, v_num=6, train_loss_step=9.950, val_loss=10.20, train_loss_epoch=10.50]  "
     ]
    },
    {
     "name": "stderr",
     "output_type": "stream",
     "text": [
      "Metric val_loss improved by 0.314 >= min_delta = 0. New best score: 10.223\n"
     ]
    },
    {
     "name": "stdout",
     "output_type": "stream",
     "text": [
      "Epoch 5: 100%|██████████| 55/55 [00:06<00:00,  8.94it/s, loss=9.76, v_num=6, train_loss_step=9.630, val_loss=10.00, train_loss_epoch=10.10]"
     ]
    },
    {
     "name": "stderr",
     "output_type": "stream",
     "text": [
      "Metric val_loss improved by 0.204 >= min_delta = 0. New best score: 10.019\n"
     ]
    },
    {
     "name": "stdout",
     "output_type": "stream",
     "text": [
      "Epoch 6: 100%|██████████| 55/55 [00:06<00:00,  9.15it/s, loss=9.56, v_num=6, train_loss_step=9.390, val_loss=9.800, train_loss_epoch=9.840]"
     ]
    },
    {
     "name": "stderr",
     "output_type": "stream",
     "text": [
      "Metric val_loss improved by 0.217 >= min_delta = 0. New best score: 9.802\n"
     ]
    },
    {
     "name": "stdout",
     "output_type": "stream",
     "text": [
      "Epoch 7: 100%|██████████| 55/55 [00:06<00:00,  9.07it/s, loss=9.38, v_num=6, train_loss_step=9.170, val_loss=9.620, train_loss_epoch=9.620]"
     ]
    },
    {
     "name": "stderr",
     "output_type": "stream",
     "text": [
      "Metric val_loss improved by 0.177 >= min_delta = 0. New best score: 9.625\n"
     ]
    },
    {
     "name": "stdout",
     "output_type": "stream",
     "text": [
      "Epoch 8: 100%|██████████| 55/55 [00:06<00:00,  8.64it/s, loss=9.26, v_num=6, train_loss_step=9.060, val_loss=9.490, train_loss_epoch=9.430]"
     ]
    },
    {
     "name": "stderr",
     "output_type": "stream",
     "text": [
      "Metric val_loss improved by 0.130 >= min_delta = 0. New best score: 9.494\n"
     ]
    },
    {
     "name": "stdout",
     "output_type": "stream",
     "text": [
      "Epoch 9: 100%|██████████| 55/55 [00:06<00:00,  9.14it/s, loss=9.1, v_num=6, train_loss_step=9.170, val_loss=9.380, train_loss_epoch=9.280] "
     ]
    },
    {
     "name": "stderr",
     "output_type": "stream",
     "text": [
      "Metric val_loss improved by 0.116 >= min_delta = 0. New best score: 9.378\n"
     ]
    },
    {
     "name": "stdout",
     "output_type": "stream",
     "text": [
      "Epoch 10: 100%|██████████| 55/55 [00:05<00:00,  9.23it/s, loss=9.03, v_num=6, train_loss_step=8.920, val_loss=9.270, train_loss_epoch=9.150]"
     ]
    },
    {
     "name": "stderr",
     "output_type": "stream",
     "text": [
      "Metric val_loss improved by 0.112 >= min_delta = 0. New best score: 9.267\n"
     ]
    },
    {
     "name": "stdout",
     "output_type": "stream",
     "text": [
      "Epoch 11: 100%|██████████| 55/55 [00:05<00:00,  9.65it/s, loss=8.95, v_num=6, train_loss_step=9.010, val_loss=9.190, train_loss_epoch=9.050]"
     ]
    },
    {
     "name": "stderr",
     "output_type": "stream",
     "text": [
      "Metric val_loss improved by 0.072 >= min_delta = 0. New best score: 9.195\n"
     ]
    },
    {
     "name": "stdout",
     "output_type": "stream",
     "text": [
      "Epoch 12: 100%|██████████| 55/55 [00:05<00:00,  9.49it/s, loss=8.85, v_num=6, train_loss_step=8.840, val_loss=9.110, train_loss_epoch=8.960]"
     ]
    },
    {
     "name": "stderr",
     "output_type": "stream",
     "text": [
      "Metric val_loss improved by 0.082 >= min_delta = 0. New best score: 9.113\n"
     ]
    },
    {
     "name": "stdout",
     "output_type": "stream",
     "text": [
      "Epoch 13: 100%|██████████| 55/55 [00:06<00:00,  9.11it/s, loss=8.8, v_num=6, train_loss_step=8.750, val_loss=9.040, train_loss_epoch=8.880] "
     ]
    },
    {
     "name": "stderr",
     "output_type": "stream",
     "text": [
      "Metric val_loss improved by 0.072 >= min_delta = 0. New best score: 9.041\n"
     ]
    },
    {
     "name": "stdout",
     "output_type": "stream",
     "text": [
      "Epoch 14: 100%|██████████| 55/55 [00:06<00:00,  8.23it/s, loss=8.72, v_num=6, train_loss_step=8.550, val_loss=8.980, train_loss_epoch=8.800]"
     ]
    },
    {
     "name": "stderr",
     "output_type": "stream",
     "text": [
      "Metric val_loss improved by 0.058 >= min_delta = 0. New best score: 8.983\n"
     ]
    },
    {
     "name": "stdout",
     "output_type": "stream",
     "text": [
      "Epoch 15: 100%|██████████| 55/55 [00:07<00:00,  7.84it/s, loss=8.69, v_num=6, train_loss_step=8.650, val_loss=8.930, train_loss_epoch=8.740]"
     ]
    },
    {
     "name": "stderr",
     "output_type": "stream",
     "text": [
      "Metric val_loss improved by 0.048 >= min_delta = 0. New best score: 8.934\n"
     ]
    },
    {
     "name": "stdout",
     "output_type": "stream",
     "text": [
      "Epoch 16: 100%|██████████| 55/55 [00:06<00:00,  9.00it/s, loss=8.61, v_num=6, train_loss_step=8.170, val_loss=8.860, train_loss_epoch=8.680]"
     ]
    },
    {
     "name": "stderr",
     "output_type": "stream",
     "text": [
      "Metric val_loss improved by 0.075 >= min_delta = 0. New best score: 8.860\n"
     ]
    },
    {
     "name": "stdout",
     "output_type": "stream",
     "text": [
      "Epoch 17: 100%|██████████| 55/55 [00:06<00:00,  9.08it/s, loss=8.59, v_num=6, train_loss_step=8.560, val_loss=8.820, train_loss_epoch=8.630]"
     ]
    },
    {
     "name": "stderr",
     "output_type": "stream",
     "text": [
      "Metric val_loss improved by 0.035 >= min_delta = 0. New best score: 8.824\n"
     ]
    },
    {
     "name": "stdout",
     "output_type": "stream",
     "text": [
      "Epoch 18: 100%|██████████| 55/55 [00:06<00:00,  8.98it/s, loss=8.53, v_num=6, train_loss_step=8.640, val_loss=8.770, train_loss_epoch=8.580]"
     ]
    },
    {
     "name": "stderr",
     "output_type": "stream",
     "text": [
      "Metric val_loss improved by 0.052 >= min_delta = 0. New best score: 8.773\n"
     ]
    },
    {
     "name": "stdout",
     "output_type": "stream",
     "text": [
      "Epoch 19: 100%|██████████| 55/55 [00:05<00:00,  9.20it/s, loss=8.48, v_num=6, train_loss_step=8.450, val_loss=8.740, train_loss_epoch=8.540]"
     ]
    },
    {
     "name": "stderr",
     "output_type": "stream",
     "text": [
      "Metric val_loss improved by 0.035 >= min_delta = 0. New best score: 8.738\n"
     ]
    },
    {
     "name": "stdout",
     "output_type": "stream",
     "text": [
      "Epoch 20: 100%|██████████| 55/55 [00:06<00:00,  9.05it/s, loss=8.47, v_num=6, train_loss_step=8.480, val_loss=8.710, train_loss_epoch=8.490]"
     ]
    },
    {
     "name": "stderr",
     "output_type": "stream",
     "text": [
      "Metric val_loss improved by 0.027 >= min_delta = 0. New best score: 8.710\n"
     ]
    },
    {
     "name": "stdout",
     "output_type": "stream",
     "text": [
      "Epoch 21: 100%|██████████| 55/55 [00:05<00:00,  9.17it/s, loss=8.43, v_num=6, train_loss_step=8.450, val_loss=8.680, train_loss_epoch=8.460]"
     ]
    },
    {
     "name": "stderr",
     "output_type": "stream",
     "text": [
      "Metric val_loss improved by 0.032 >= min_delta = 0. New best score: 8.678\n"
     ]
    },
    {
     "name": "stdout",
     "output_type": "stream",
     "text": [
      "Epoch 22: 100%|██████████| 55/55 [00:06<00:00,  9.13it/s, loss=8.43, v_num=6, train_loss_step=8.460, val_loss=8.650, train_loss_epoch=8.430]"
     ]
    },
    {
     "name": "stderr",
     "output_type": "stream",
     "text": [
      "Metric val_loss improved by 0.027 >= min_delta = 0. New best score: 8.652\n"
     ]
    },
    {
     "name": "stdout",
     "output_type": "stream",
     "text": [
      "Epoch 23: 100%|██████████| 55/55 [00:06<00:00,  8.91it/s, loss=8.36, v_num=6, train_loss_step=8.440, val_loss=8.620, train_loss_epoch=8.400]"
     ]
    },
    {
     "name": "stderr",
     "output_type": "stream",
     "text": [
      "Metric val_loss improved by 0.035 >= min_delta = 0. New best score: 8.616\n"
     ]
    },
    {
     "name": "stdout",
     "output_type": "stream",
     "text": [
      "Epoch 24: 100%|██████████| 55/55 [00:06<00:00,  8.86it/s, loss=8.37, v_num=6, train_loss_step=8.510, val_loss=8.590, train_loss_epoch=8.370]"
     ]
    },
    {
     "name": "stderr",
     "output_type": "stream",
     "text": [
      "Metric val_loss improved by 0.027 >= min_delta = 0. New best score: 8.590\n"
     ]
    },
    {
     "name": "stdout",
     "output_type": "stream",
     "text": [
      "Epoch 25: 100%|██████████| 55/55 [00:06<00:00,  8.74it/s, loss=8.36, v_num=6, train_loss_step=8.360, val_loss=8.550, train_loss_epoch=8.340]"
     ]
    },
    {
     "name": "stderr",
     "output_type": "stream",
     "text": [
      "Metric val_loss improved by 0.035 >= min_delta = 0. New best score: 8.555\n"
     ]
    },
    {
     "name": "stdout",
     "output_type": "stream",
     "text": [
      "Epoch 26: 100%|██████████| 55/55 [00:05<00:00,  9.20it/s, loss=8.27, v_num=6, train_loss_step=8.120, val_loss=8.540, train_loss_epoch=8.310]"
     ]
    },
    {
     "name": "stderr",
     "output_type": "stream",
     "text": [
      "Metric val_loss improved by 0.012 >= min_delta = 0. New best score: 8.543\n"
     ]
    },
    {
     "name": "stdout",
     "output_type": "stream",
     "text": [
      "Epoch 27: 100%|██████████| 55/55 [00:06<00:00,  9.12it/s, loss=8.27, v_num=6, train_loss_step=8.160, val_loss=8.530, train_loss_epoch=8.290]"
     ]
    },
    {
     "name": "stderr",
     "output_type": "stream",
     "text": [
      "Metric val_loss improved by 0.017 >= min_delta = 0. New best score: 8.525\n"
     ]
    },
    {
     "name": "stdout",
     "output_type": "stream",
     "text": [
      "Epoch 28: 100%|██████████| 55/55 [00:06<00:00,  9.05it/s, loss=8.25, v_num=6, train_loss_step=8.380, val_loss=8.480, train_loss_epoch=8.270]"
     ]
    },
    {
     "name": "stderr",
     "output_type": "stream",
     "text": [
      "Metric val_loss improved by 0.049 >= min_delta = 0. New best score: 8.477\n"
     ]
    },
    {
     "name": "stdout",
     "output_type": "stream",
     "text": [
      "Epoch 29: 100%|██████████| 55/55 [00:05<00:00,  9.21it/s, loss=8.18, v_num=6, train_loss_step=8.250, val_loss=8.460, train_loss_epoch=8.250]"
     ]
    },
    {
     "name": "stderr",
     "output_type": "stream",
     "text": [
      "Metric val_loss improved by 0.019 >= min_delta = 0. New best score: 8.458\n"
     ]
    },
    {
     "name": "stdout",
     "output_type": "stream",
     "text": [
      "Epoch 29: 100%|██████████| 55/55 [00:05<00:00,  9.21it/s, loss=8.18, v_num=6, train_loss_step=8.250, val_loss=8.460, train_loss_epoch=8.230]"
     ]
    },
    {
     "name": "stderr",
     "output_type": "stream",
     "text": [
      "`Trainer.fit` stopped: `max_epochs=30` reached.\n"
     ]
    },
    {
     "name": "stdout",
     "output_type": "stream",
     "text": [
      "Epoch 29: 100%|██████████| 55/55 [00:08<00:00,  6.58it/s, loss=8.18, v_num=6, train_loss_step=8.250, val_loss=8.460, train_loss_epoch=8.230]"
     ]
    },
    {
     "name": "stderr",
     "output_type": "stream",
     "text": [
      "\u001b[32m[I 2024-04-02 18:36:22,735]\u001b[0m Trial 6 finished with value: 53.254634857177734 and parameters: {'neu': 510, 'lay': 7, 'bat': 192, 'lr': 0.004027500675328191, 'dropout': 0.0}. Best is trial 2 with value: 21.622835159301758.\u001b[0m\n"
     ]
    },
    {
     "name": "stdout",
     "output_type": "stream",
     "text": [
      "\n"
     ]
    },
    {
     "name": "stderr",
     "output_type": "stream",
     "text": [
      "GPU available: True (cuda), used: True\n",
      "TPU available: False, using: 0 TPU cores\n",
      "IPU available: False, using: 0 IPUs\n",
      "HPU available: False, using: 0 HPUs\n",
      "`Trainer(limit_train_batches=1.0)` was configured so 100% of the batches per epoch will be used..\n",
      "`Trainer(limit_val_batches=1.0)` was configured so 100% of the batches will be used..\n",
      "LOCAL_RANK: 0 - CUDA_VISIBLE_DEVICES: [0]\n",
      "\n",
      "  | Name                   | Type                             | Params\n",
      "----------------------------------------------------------------------------\n",
      "0 | loss                   | NegativeBinomialDistributionLoss | 0     \n",
      "1 | logging_metrics        | ModuleList                       | 0     \n",
      "2 | embeddings             | MultiEmbedding                   | 728   \n",
      "3 | rnn                    | LSTM                             | 1.5 M \n",
      "4 | distribution_projector | Linear                           | 1.0 K \n",
      "----------------------------------------------------------------------------\n",
      "1.5 M     Trainable params\n",
      "0         Non-trainable params\n",
      "1.5 M     Total params\n",
      "6.103     Total estimated model params size (MB)\n"
     ]
    },
    {
     "name": "stdout",
     "output_type": "stream",
     "text": [
      "Epoch 0: 100%|██████████| 28/28 [00:05<00:00,  5.12it/s, loss=898, v_num=7, train_loss_step=556.0, val_loss=558.0]"
     ]
    },
    {
     "name": "stderr",
     "output_type": "stream",
     "text": [
      "Metric val_loss improved. New best score: 557.809\n"
     ]
    },
    {
     "name": "stdout",
     "output_type": "stream",
     "text": [
      "Epoch 1: 100%|██████████| 28/28 [00:05<00:00,  5.45it/s, loss=243, v_num=7, train_loss_step=107.0, val_loss=106.0, train_loss_epoch=898.0]"
     ]
    },
    {
     "name": "stderr",
     "output_type": "stream",
     "text": [
      "Metric val_loss improved by 452.019 >= min_delta = 0. New best score: 105.790\n"
     ]
    },
    {
     "name": "stdout",
     "output_type": "stream",
     "text": [
      "Epoch 2: 100%|██████████| 28/28 [00:05<00:00,  5.46it/s, loss=56.5, v_num=7, train_loss_step=32.00, val_loss=32.30, train_loss_epoch=226.0]"
     ]
    },
    {
     "name": "stderr",
     "output_type": "stream",
     "text": [
      "Metric val_loss improved by 73.522 >= min_delta = 0. New best score: 32.267\n"
     ]
    },
    {
     "name": "stdout",
     "output_type": "stream",
     "text": [
      "Epoch 3: 100%|██████████| 28/28 [00:05<00:00,  5.45it/s, loss=22.1, v_num=7, train_loss_step=15.70, val_loss=16.30, train_loss_epoch=53.90]"
     ]
    },
    {
     "name": "stderr",
     "output_type": "stream",
     "text": [
      "Metric val_loss improved by 15.977 >= min_delta = 0. New best score: 16.291\n"
     ]
    },
    {
     "name": "stdout",
     "output_type": "stream",
     "text": [
      "Epoch 4: 100%|██████████| 28/28 [00:05<00:00,  5.56it/s, loss=13.7, v_num=7, train_loss_step=12.00, val_loss=12.20, train_loss_epoch=21.60]"
     ]
    },
    {
     "name": "stderr",
     "output_type": "stream",
     "text": [
      "Metric val_loss improved by 4.120 >= min_delta = 0. New best score: 12.171\n"
     ]
    },
    {
     "name": "stdout",
     "output_type": "stream",
     "text": [
      "Epoch 5: 100%|██████████| 28/28 [00:05<00:00,  5.32it/s, loss=11.2, v_num=7, train_loss_step=10.50, val_loss=11.10, train_loss_epoch=13.50]"
     ]
    },
    {
     "name": "stderr",
     "output_type": "stream",
     "text": [
      "Metric val_loss improved by 1.044 >= min_delta = 0. New best score: 11.126\n"
     ]
    },
    {
     "name": "stdout",
     "output_type": "stream",
     "text": [
      "Epoch 6: 100%|██████████| 28/28 [00:06<00:00,  4.62it/s, loss=10.4, v_num=7, train_loss_step=10.30, val_loss=10.40, train_loss_epoch=11.20]"
     ]
    },
    {
     "name": "stderr",
     "output_type": "stream",
     "text": [
      "Metric val_loss improved by 0.695 >= min_delta = 0. New best score: 10.431\n"
     ]
    },
    {
     "name": "stdout",
     "output_type": "stream",
     "text": [
      "Epoch 7: 100%|██████████| 28/28 [00:05<00:00,  5.51it/s, loss=9.9, v_num=7, train_loss_step=9.790, val_loss=9.920, train_loss_epoch=10.40] "
     ]
    },
    {
     "name": "stderr",
     "output_type": "stream",
     "text": [
      "Metric val_loss improved by 0.515 >= min_delta = 0. New best score: 9.917\n"
     ]
    },
    {
     "name": "stdout",
     "output_type": "stream",
     "text": [
      "Epoch 8: 100%|██████████| 28/28 [00:05<00:00,  5.39it/s, loss=9.44, v_num=7, train_loss_step=9.370, val_loss=9.520, train_loss_epoch=9.880]"
     ]
    },
    {
     "name": "stderr",
     "output_type": "stream",
     "text": [
      "Metric val_loss improved by 0.397 >= min_delta = 0. New best score: 9.520\n"
     ]
    },
    {
     "name": "stdout",
     "output_type": "stream",
     "text": [
      "Epoch 9: 100%|██████████| 28/28 [00:05<00:00,  5.33it/s, loss=9.13, v_num=7, train_loss_step=8.890, val_loss=9.260, train_loss_epoch=9.420]"
     ]
    },
    {
     "name": "stderr",
     "output_type": "stream",
     "text": [
      "Metric val_loss improved by 0.262 >= min_delta = 0. New best score: 9.258\n"
     ]
    },
    {
     "name": "stdout",
     "output_type": "stream",
     "text": [
      "Epoch 10: 100%|██████████| 28/28 [00:05<00:00,  5.43it/s, loss=8.9, v_num=7, train_loss_step=8.670, val_loss=9.080, train_loss_epoch=9.110] "
     ]
    },
    {
     "name": "stderr",
     "output_type": "stream",
     "text": [
      "Metric val_loss improved by 0.179 >= min_delta = 0. New best score: 9.079\n"
     ]
    },
    {
     "name": "stdout",
     "output_type": "stream",
     "text": [
      "Epoch 11: 100%|██████████| 28/28 [00:05<00:00,  5.44it/s, loss=8.73, v_num=7, train_loss_step=8.670, val_loss=8.970, train_loss_epoch=8.900]"
     ]
    },
    {
     "name": "stderr",
     "output_type": "stream",
     "text": [
      "Metric val_loss improved by 0.105 >= min_delta = 0. New best score: 8.974\n"
     ]
    },
    {
     "name": "stdout",
     "output_type": "stream",
     "text": [
      "Epoch 12: 100%|██████████| 28/28 [00:05<00:00,  5.42it/s, loss=8.63, v_num=7, train_loss_step=8.510, val_loss=8.880, train_loss_epoch=8.740]"
     ]
    },
    {
     "name": "stderr",
     "output_type": "stream",
     "text": [
      "Metric val_loss improved by 0.097 >= min_delta = 0. New best score: 8.877\n"
     ]
    },
    {
     "name": "stdout",
     "output_type": "stream",
     "text": [
      "Epoch 13: 100%|██████████| 28/28 [00:05<00:00,  5.44it/s, loss=8.52, v_num=7, train_loss_step=8.810, val_loss=8.770, train_loss_epoch=8.630]"
     ]
    },
    {
     "name": "stderr",
     "output_type": "stream",
     "text": [
      "Metric val_loss improved by 0.106 >= min_delta = 0. New best score: 8.772\n"
     ]
    },
    {
     "name": "stdout",
     "output_type": "stream",
     "text": [
      "Epoch 14: 100%|██████████| 28/28 [00:05<00:00,  5.33it/s, loss=8.45, v_num=7, train_loss_step=8.260, val_loss=8.690, train_loss_epoch=8.520]"
     ]
    },
    {
     "name": "stderr",
     "output_type": "stream",
     "text": [
      "Metric val_loss improved by 0.077 >= min_delta = 0. New best score: 8.694\n"
     ]
    },
    {
     "name": "stdout",
     "output_type": "stream",
     "text": [
      "Epoch 15: 100%|██████████| 28/28 [00:05<00:00,  5.33it/s, loss=8.34, v_num=7, train_loss_step=8.410, val_loss=8.640, train_loss_epoch=8.440]"
     ]
    },
    {
     "name": "stderr",
     "output_type": "stream",
     "text": [
      "Metric val_loss improved by 0.057 >= min_delta = 0. New best score: 8.638\n"
     ]
    },
    {
     "name": "stdout",
     "output_type": "stream",
     "text": [
      "Epoch 16: 100%|██████████| 28/28 [00:05<00:00,  5.43it/s, loss=8.29, v_num=7, train_loss_step=8.340, val_loss=8.580, train_loss_epoch=8.350]"
     ]
    },
    {
     "name": "stderr",
     "output_type": "stream",
     "text": [
      "Metric val_loss improved by 0.055 >= min_delta = 0. New best score: 8.582\n"
     ]
    },
    {
     "name": "stdout",
     "output_type": "stream",
     "text": [
      "Epoch 17: 100%|██████████| 28/28 [00:05<00:00,  5.49it/s, loss=8.23, v_num=7, train_loss_step=8.250, val_loss=8.530, train_loss_epoch=8.280]"
     ]
    },
    {
     "name": "stderr",
     "output_type": "stream",
     "text": [
      "Metric val_loss improved by 0.057 >= min_delta = 0. New best score: 8.525\n"
     ]
    },
    {
     "name": "stdout",
     "output_type": "stream",
     "text": [
      "Epoch 18: 100%|██████████| 28/28 [00:05<00:00,  5.31it/s, loss=8.17, v_num=7, train_loss_step=8.110, val_loss=8.500, train_loss_epoch=8.230]"
     ]
    },
    {
     "name": "stderr",
     "output_type": "stream",
     "text": [
      "Metric val_loss improved by 0.026 >= min_delta = 0. New best score: 8.499\n"
     ]
    },
    {
     "name": "stdout",
     "output_type": "stream",
     "text": [
      "Epoch 19: 100%|██████████| 28/28 [00:05<00:00,  5.42it/s, loss=8.11, v_num=7, train_loss_step=8.070, val_loss=8.450, train_loss_epoch=8.170]"
     ]
    },
    {
     "name": "stderr",
     "output_type": "stream",
     "text": [
      "Metric val_loss improved by 0.049 >= min_delta = 0. New best score: 8.450\n"
     ]
    },
    {
     "name": "stdout",
     "output_type": "stream",
     "text": [
      "Epoch 20: 100%|██████████| 28/28 [00:06<00:00,  4.65it/s, loss=8.06, v_num=7, train_loss_step=8.150, val_loss=8.410, train_loss_epoch=8.110]"
     ]
    },
    {
     "name": "stderr",
     "output_type": "stream",
     "text": [
      "Metric val_loss improved by 0.035 >= min_delta = 0. New best score: 8.415\n"
     ]
    },
    {
     "name": "stdout",
     "output_type": "stream",
     "text": [
      "Epoch 21: 100%|██████████| 28/28 [00:05<00:00,  5.55it/s, loss=8.03, v_num=7, train_loss_step=7.940, val_loss=8.370, train_loss_epoch=8.060]"
     ]
    },
    {
     "name": "stderr",
     "output_type": "stream",
     "text": [
      "Metric val_loss improved by 0.047 >= min_delta = 0. New best score: 8.368\n"
     ]
    },
    {
     "name": "stdout",
     "output_type": "stream",
     "text": [
      "Epoch 22: 100%|██████████| 28/28 [00:05<00:00,  5.46it/s, loss=7.97, v_num=7, train_loss_step=8.100, val_loss=8.330, train_loss_epoch=8.020]"
     ]
    },
    {
     "name": "stderr",
     "output_type": "stream",
     "text": [
      "Metric val_loss improved by 0.040 >= min_delta = 0. New best score: 8.327\n"
     ]
    },
    {
     "name": "stdout",
     "output_type": "stream",
     "text": [
      "Epoch 23: 100%|██████████| 28/28 [00:05<00:00,  5.27it/s, loss=7.94, v_num=7, train_loss_step=7.910, val_loss=8.300, train_loss_epoch=7.980]"
     ]
    },
    {
     "name": "stderr",
     "output_type": "stream",
     "text": [
      "Metric val_loss improved by 0.030 >= min_delta = 0. New best score: 8.297\n"
     ]
    },
    {
     "name": "stdout",
     "output_type": "stream",
     "text": [
      "Epoch 24: 100%|██████████| 28/28 [00:05<00:00,  5.50it/s, loss=7.87, v_num=7, train_loss_step=8.050, val_loss=8.280, train_loss_epoch=7.930]"
     ]
    },
    {
     "name": "stderr",
     "output_type": "stream",
     "text": [
      "Metric val_loss improved by 0.018 >= min_delta = 0. New best score: 8.280\n"
     ]
    },
    {
     "name": "stdout",
     "output_type": "stream",
     "text": [
      "Epoch 25: 100%|██████████| 28/28 [00:05<00:00,  5.49it/s, loss=7.84, v_num=7, train_loss_step=7.890, val_loss=8.250, train_loss_epoch=7.870]"
     ]
    },
    {
     "name": "stderr",
     "output_type": "stream",
     "text": [
      "Metric val_loss improved by 0.029 >= min_delta = 0. New best score: 8.250\n"
     ]
    },
    {
     "name": "stdout",
     "output_type": "stream",
     "text": [
      "Epoch 26: 100%|██████████| 28/28 [00:05<00:00,  5.41it/s, loss=7.81, v_num=7, train_loss_step=7.570, val_loss=8.230, train_loss_epoch=7.830]"
     ]
    },
    {
     "name": "stderr",
     "output_type": "stream",
     "text": [
      "Metric val_loss improved by 0.023 >= min_delta = 0. New best score: 8.227\n"
     ]
    },
    {
     "name": "stdout",
     "output_type": "stream",
     "text": [
      "Epoch 27: 100%|██████████| 28/28 [00:05<00:00,  5.54it/s, loss=7.76, v_num=7, train_loss_step=7.900, val_loss=8.160, train_loss_epoch=7.810]"
     ]
    },
    {
     "name": "stderr",
     "output_type": "stream",
     "text": [
      "Metric val_loss improved by 0.066 >= min_delta = 0. New best score: 8.161\n"
     ]
    },
    {
     "name": "stdout",
     "output_type": "stream",
     "text": [
      "Epoch 28: 100%|██████████| 28/28 [00:05<00:00,  5.47it/s, loss=7.73, v_num=7, train_loss_step=7.830, val_loss=8.120, train_loss_epoch=7.770]"
     ]
    },
    {
     "name": "stderr",
     "output_type": "stream",
     "text": [
      "Metric val_loss improved by 0.042 >= min_delta = 0. New best score: 8.119\n"
     ]
    },
    {
     "name": "stdout",
     "output_type": "stream",
     "text": [
      "Epoch 29: 100%|██████████| 28/28 [00:05<00:00,  5.56it/s, loss=7.71, v_num=7, train_loss_step=7.840, val_loss=8.120, train_loss_epoch=7.700]"
     ]
    },
    {
     "name": "stderr",
     "output_type": "stream",
     "text": [
      "`Trainer.fit` stopped: `max_epochs=30` reached.\n"
     ]
    },
    {
     "name": "stdout",
     "output_type": "stream",
     "text": [
      "Epoch 29: 100%|██████████| 28/28 [00:05<00:00,  5.53it/s, loss=7.71, v_num=7, train_loss_step=7.840, val_loss=8.120, train_loss_epoch=7.700]"
     ]
    },
    {
     "name": "stderr",
     "output_type": "stream",
     "text": [
      "\u001b[32m[I 2024-04-02 18:39:02,244]\u001b[0m Trial 7 finished with value: 50.32132339477539 and parameters: {'neu': 510, 'lay': 1, 'bat': 384, 'lr': 0.010541063263745237, 'dropout': 0.6000000000000001}. Best is trial 2 with value: 21.622835159301758.\u001b[0m\n"
     ]
    },
    {
     "name": "stdout",
     "output_type": "stream",
     "text": [
      "\n"
     ]
    },
    {
     "name": "stderr",
     "output_type": "stream",
     "text": [
      "GPU available: True (cuda), used: True\n",
      "TPU available: False, using: 0 TPU cores\n",
      "IPU available: False, using: 0 IPUs\n",
      "HPU available: False, using: 0 HPUs\n",
      "`Trainer(limit_train_batches=1.0)` was configured so 100% of the batches per epoch will be used..\n",
      "`Trainer(limit_val_batches=1.0)` was configured so 100% of the batches will be used..\n",
      "LOCAL_RANK: 0 - CUDA_VISIBLE_DEVICES: [0]\n",
      "\n",
      "  | Name                   | Type                             | Params\n",
      "----------------------------------------------------------------------------\n",
      "0 | loss                   | NegativeBinomialDistributionLoss | 0     \n",
      "1 | logging_metrics        | ModuleList                       | 0     \n",
      "2 | embeddings             | MultiEmbedding                   | 728   \n",
      "3 | rnn                    | LSTM                             | 934 K \n",
      "4 | distribution_projector | Linear                           | 222   \n",
      "----------------------------------------------------------------------------\n",
      "935 K     Trainable params\n",
      "0         Non-trainable params\n",
      "935 K     Total params\n",
      "3.740     Total estimated model params size (MB)\n"
     ]
    },
    {
     "name": "stdout",
     "output_type": "stream",
     "text": [
      "Epoch 0: 100%|██████████| 11/11 [00:04<00:00,  2.29it/s, loss=1.01e+03, v_num=8, train_loss_step=991.0, val_loss=1.14e+3]"
     ]
    },
    {
     "name": "stderr",
     "output_type": "stream",
     "text": [
      "Metric val_loss improved. New best score: 1140.474\n"
     ]
    },
    {
     "name": "stdout",
     "output_type": "stream",
     "text": [
      "Epoch 1: 100%|██████████| 11/11 [00:04<00:00,  2.30it/s, loss=1e+03, v_num=8, train_loss_step=1.04e+3, val_loss=1.14e+3, train_loss_epoch=1.01e+3] "
     ]
    },
    {
     "name": "stderr",
     "output_type": "stream",
     "text": [
      "Metric val_loss improved by 0.053 >= min_delta = 0. New best score: 1140.422\n"
     ]
    },
    {
     "name": "stdout",
     "output_type": "stream",
     "text": [
      "Epoch 2: 100%|██████████| 11/11 [00:05<00:00,  1.93it/s, loss=1.01e+03, v_num=8, train_loss_step=1.03e+3, val_loss=1.14e+3, train_loss_epoch=1e+3]"
     ]
    },
    {
     "name": "stderr",
     "output_type": "stream",
     "text": [
      "Metric val_loss improved by 0.082 >= min_delta = 0. New best score: 1140.340\n"
     ]
    },
    {
     "name": "stdout",
     "output_type": "stream",
     "text": [
      "Epoch 3: 100%|██████████| 11/11 [00:04<00:00,  2.27it/s, loss=1.01e+03, v_num=8, train_loss_step=1.06e+3, val_loss=1.14e+3, train_loss_epoch=1.01e+3]"
     ]
    },
    {
     "name": "stderr",
     "output_type": "stream",
     "text": [
      "Metric val_loss improved by 0.102 >= min_delta = 0. New best score: 1140.238\n"
     ]
    },
    {
     "name": "stdout",
     "output_type": "stream",
     "text": [
      "Epoch 4: 100%|██████████| 11/11 [00:04<00:00,  2.24it/s, loss=1.01e+03, v_num=8, train_loss_step=991.0, val_loss=1.14e+3, train_loss_epoch=1.01e+3]  "
     ]
    },
    {
     "name": "stderr",
     "output_type": "stream",
     "text": [
      "Metric val_loss improved by 0.124 >= min_delta = 0. New best score: 1140.114\n"
     ]
    },
    {
     "name": "stdout",
     "output_type": "stream",
     "text": [
      "Epoch 5: 100%|██████████| 11/11 [00:04<00:00,  2.26it/s, loss=1.01e+03, v_num=8, train_loss_step=1.01e+3, val_loss=1.14e+3, train_loss_epoch=1.01e+3]"
     ]
    },
    {
     "name": "stderr",
     "output_type": "stream",
     "text": [
      "Metric val_loss improved by 0.041 >= min_delta = 0. New best score: 1140.073\n"
     ]
    },
    {
     "name": "stdout",
     "output_type": "stream",
     "text": [
      "Epoch 6: 100%|██████████| 11/11 [00:04<00:00,  2.29it/s, loss=1.01e+03, v_num=8, train_loss_step=972.0, val_loss=1.14e+3, train_loss_epoch=1e+3]     "
     ]
    },
    {
     "name": "stderr",
     "output_type": "stream",
     "text": [
      "Metric val_loss improved by 0.149 >= min_delta = 0. New best score: 1139.924\n"
     ]
    },
    {
     "name": "stdout",
     "output_type": "stream",
     "text": [
      "Epoch 7: 100%|██████████| 11/11 [00:05<00:00,  2.14it/s, loss=1e+03, v_num=8, train_loss_step=1.03e+3, val_loss=1.14e+3, train_loss_epoch=1.01e+3] "
     ]
    },
    {
     "name": "stderr",
     "output_type": "stream",
     "text": [
      "Metric val_loss improved by 0.162 >= min_delta = 0. New best score: 1139.762\n"
     ]
    },
    {
     "name": "stdout",
     "output_type": "stream",
     "text": [
      "Epoch 8: 100%|██████████| 11/11 [00:04<00:00,  2.25it/s, loss=1e+03, v_num=8, train_loss_step=971.0, val_loss=1.14e+3, train_loss_epoch=1e+3]     "
     ]
    },
    {
     "name": "stderr",
     "output_type": "stream",
     "text": [
      "Metric val_loss improved by 0.177 >= min_delta = 0. New best score: 1139.585\n"
     ]
    },
    {
     "name": "stdout",
     "output_type": "stream",
     "text": [
      "Epoch 9: 100%|██████████| 11/11 [00:04<00:00,  2.32it/s, loss=1.01e+03, v_num=8, train_loss_step=1.03e+3, val_loss=1.14e+3, train_loss_epoch=1e+3]"
     ]
    },
    {
     "name": "stderr",
     "output_type": "stream",
     "text": [
      "Metric val_loss improved by 0.190 >= min_delta = 0. New best score: 1139.395\n"
     ]
    },
    {
     "name": "stdout",
     "output_type": "stream",
     "text": [
      "Epoch 10: 100%|██████████| 11/11 [00:05<00:00,  2.20it/s, loss=1.01e+03, v_num=8, train_loss_step=1.02e+3, val_loss=1.14e+3, train_loss_epoch=1.01e+3]"
     ]
    },
    {
     "name": "stderr",
     "output_type": "stream",
     "text": [
      "Metric val_loss improved by 0.205 >= min_delta = 0. New best score: 1139.190\n"
     ]
    },
    {
     "name": "stdout",
     "output_type": "stream",
     "text": [
      "Epoch 11: 100%|██████████| 11/11 [00:05<00:00,  1.97it/s, loss=1e+03, v_num=8, train_loss_step=1e+3, val_loss=1.14e+3, train_loss_epoch=1.01e+3]      "
     ]
    },
    {
     "name": "stderr",
     "output_type": "stream",
     "text": [
      "Metric val_loss improved by 0.059 >= min_delta = 0. New best score: 1139.131\n"
     ]
    },
    {
     "name": "stdout",
     "output_type": "stream",
     "text": [
      "Epoch 12: 100%|██████████| 11/11 [00:04<00:00,  2.33it/s, loss=1.01e+03, v_num=8, train_loss_step=996.0, val_loss=1.14e+3, train_loss_epoch=1e+3]"
     ]
    },
    {
     "name": "stderr",
     "output_type": "stream",
     "text": [
      "Metric val_loss improved by 0.223 >= min_delta = 0. New best score: 1138.908\n"
     ]
    },
    {
     "name": "stdout",
     "output_type": "stream",
     "text": [
      "Epoch 13: 100%|██████████| 11/11 [00:04<00:00,  2.34it/s, loss=1e+03, v_num=8, train_loss_step=998.0, val_loss=1.14e+3, train_loss_epoch=1e+3]   "
     ]
    },
    {
     "name": "stderr",
     "output_type": "stream",
     "text": [
      "Metric val_loss improved by 0.233 >= min_delta = 0. New best score: 1138.675\n"
     ]
    },
    {
     "name": "stdout",
     "output_type": "stream",
     "text": [
      "Epoch 14: 100%|██████████| 11/11 [00:04<00:00,  2.31it/s, loss=1e+03, v_num=8, train_loss_step=953.0, val_loss=1.14e+3, train_loss_epoch=1.01e+3]    "
     ]
    },
    {
     "name": "stderr",
     "output_type": "stream",
     "text": [
      "Metric val_loss improved by 0.245 >= min_delta = 0. New best score: 1138.430\n"
     ]
    },
    {
     "name": "stdout",
     "output_type": "stream",
     "text": [
      "Epoch 15: 100%|██████████| 11/11 [00:04<00:00,  2.32it/s, loss=1.01e+03, v_num=8, train_loss_step=1.01e+3, val_loss=1.14e+3, train_loss_epoch=1e+3]"
     ]
    },
    {
     "name": "stderr",
     "output_type": "stream",
     "text": [
      "Metric val_loss improved by 0.253 >= min_delta = 0. New best score: 1138.177\n"
     ]
    },
    {
     "name": "stdout",
     "output_type": "stream",
     "text": [
      "Epoch 16: 100%|██████████| 11/11 [00:04<00:00,  2.32it/s, loss=1e+03, v_num=8, train_loss_step=1.01e+3, val_loss=1.14e+3, train_loss_epoch=1.01e+3]   "
     ]
    },
    {
     "name": "stderr",
     "output_type": "stream",
     "text": [
      "Metric val_loss improved by 0.262 >= min_delta = 0. New best score: 1137.914\n"
     ]
    },
    {
     "name": "stdout",
     "output_type": "stream",
     "text": [
      "Epoch 17: 100%|██████████| 11/11 [00:04<00:00,  2.30it/s, loss=1e+03, v_num=8, train_loss_step=1.01e+3, val_loss=1.14e+3, train_loss_epoch=1e+3]   "
     ]
    },
    {
     "name": "stderr",
     "output_type": "stream",
     "text": [
      "Metric val_loss improved by 0.073 >= min_delta = 0. New best score: 1137.842\n"
     ]
    },
    {
     "name": "stdout",
     "output_type": "stream",
     "text": [
      "Epoch 18: 100%|██████████| 11/11 [00:04<00:00,  2.32it/s, loss=1e+03, v_num=8, train_loss_step=981.0, val_loss=1.14e+3, train_loss_epoch=1e+3]    "
     ]
    },
    {
     "name": "stderr",
     "output_type": "stream",
     "text": [
      "Metric val_loss improved by 0.279 >= min_delta = 0. New best score: 1137.562\n"
     ]
    },
    {
     "name": "stdout",
     "output_type": "stream",
     "text": [
      "Epoch 19: 100%|██████████| 11/11 [00:04<00:00,  2.32it/s, loss=1e+03, v_num=8, train_loss_step=1.04e+3, val_loss=1.14e+3, train_loss_epoch=1e+3]  "
     ]
    },
    {
     "name": "stderr",
     "output_type": "stream",
     "text": [
      "Metric val_loss improved by 0.288 >= min_delta = 0. New best score: 1137.274\n"
     ]
    },
    {
     "name": "stdout",
     "output_type": "stream",
     "text": [
      "Epoch 20: 100%|██████████| 11/11 [00:05<00:00,  1.97it/s, loss=1e+03, v_num=8, train_loss_step=992.0, val_loss=1.14e+3, train_loss_epoch=1e+3]  "
     ]
    },
    {
     "name": "stderr",
     "output_type": "stream",
     "text": [
      "Metric val_loss improved by 0.297 >= min_delta = 0. New best score: 1136.977\n"
     ]
    },
    {
     "name": "stdout",
     "output_type": "stream",
     "text": [
      "Epoch 21: 100%|██████████| 11/11 [00:04<00:00,  2.31it/s, loss=1e+03, v_num=8, train_loss_step=1.07e+3, val_loss=1.14e+3, train_loss_epoch=1e+3]"
     ]
    },
    {
     "name": "stderr",
     "output_type": "stream",
     "text": [
      "Metric val_loss improved by 0.307 >= min_delta = 0. New best score: 1136.670\n"
     ]
    },
    {
     "name": "stdout",
     "output_type": "stream",
     "text": [
      "Epoch 22: 100%|██████████| 11/11 [00:04<00:00,  2.27it/s, loss=1e+03, v_num=8, train_loss_step=1.03e+3, val_loss=1.14e+3, train_loss_epoch=1e+3]"
     ]
    },
    {
     "name": "stderr",
     "output_type": "stream",
     "text": [
      "Metric val_loss improved by 0.313 >= min_delta = 0. New best score: 1136.357\n"
     ]
    },
    {
     "name": "stdout",
     "output_type": "stream",
     "text": [
      "Epoch 23: 100%|██████████| 11/11 [00:04<00:00,  2.28it/s, loss=999, v_num=8, train_loss_step=1.03e+3, val_loss=1.14e+3, train_loss_epoch=1e+3]  "
     ]
    },
    {
     "name": "stderr",
     "output_type": "stream",
     "text": [
      "Metric val_loss improved by 0.084 >= min_delta = 0. New best score: 1136.273\n"
     ]
    },
    {
     "name": "stdout",
     "output_type": "stream",
     "text": [
      "Epoch 24: 100%|██████████| 11/11 [00:04<00:00,  2.28it/s, loss=1e+03, v_num=8, train_loss_step=1.01e+3, val_loss=1.14e+3, train_loss_epoch=998.0]"
     ]
    },
    {
     "name": "stderr",
     "output_type": "stream",
     "text": [
      "Metric val_loss improved by 0.327 >= min_delta = 0. New best score: 1135.946\n"
     ]
    },
    {
     "name": "stdout",
     "output_type": "stream",
     "text": [
      "Epoch 25: 100%|██████████| 11/11 [00:04<00:00,  2.31it/s, loss=1e+03, v_num=8, train_loss_step=1.02e+3, val_loss=1.14e+3, train_loss_epoch=1e+3] "
     ]
    },
    {
     "name": "stderr",
     "output_type": "stream",
     "text": [
      "Metric val_loss improved by 0.334 >= min_delta = 0. New best score: 1135.612\n"
     ]
    },
    {
     "name": "stdout",
     "output_type": "stream",
     "text": [
      "Epoch 26: 100%|██████████| 11/11 [00:04<00:00,  2.34it/s, loss=1e+03, v_num=8, train_loss_step=991.0, val_loss=1.14e+3, train_loss_epoch=1e+3]    "
     ]
    },
    {
     "name": "stderr",
     "output_type": "stream",
     "text": [
      "Metric val_loss improved by 0.343 >= min_delta = 0. New best score: 1135.269\n"
     ]
    },
    {
     "name": "stdout",
     "output_type": "stream",
     "text": [
      "Epoch 27: 100%|██████████| 11/11 [00:04<00:00,  2.32it/s, loss=1e+03, v_num=8, train_loss_step=1.01e+3, val_loss=1.13e+3, train_loss_epoch=997.0]"
     ]
    },
    {
     "name": "stderr",
     "output_type": "stream",
     "text": [
      "Metric val_loss improved by 0.349 >= min_delta = 0. New best score: 1134.920\n"
     ]
    },
    {
     "name": "stdout",
     "output_type": "stream",
     "text": [
      "Epoch 28: 100%|██████████| 11/11 [00:04<00:00,  2.30it/s, loss=998, v_num=8, train_loss_step=1.01e+3, val_loss=1.13e+3, train_loss_epoch=997.0]  "
     ]
    },
    {
     "name": "stderr",
     "output_type": "stream",
     "text": [
      "Metric val_loss improved by 0.358 >= min_delta = 0. New best score: 1134.563\n"
     ]
    },
    {
     "name": "stdout",
     "output_type": "stream",
     "text": [
      "Epoch 29: 100%|██████████| 11/11 [00:05<00:00,  1.96it/s, loss=998, v_num=8, train_loss_step=1.01e+3, val_loss=1.13e+3, train_loss_epoch=1e+3] "
     ]
    },
    {
     "name": "stderr",
     "output_type": "stream",
     "text": [
      "Metric val_loss improved by 0.095 >= min_delta = 0. New best score: 1134.468\n"
     ]
    },
    {
     "name": "stdout",
     "output_type": "stream",
     "text": [
      "Epoch 29: 100%|██████████| 11/11 [00:05<00:00,  1.96it/s, loss=998, v_num=8, train_loss_step=1.01e+3, val_loss=1.13e+3, train_loss_epoch=996.0]"
     ]
    },
    {
     "name": "stderr",
     "output_type": "stream",
     "text": [
      "`Trainer.fit` stopped: `max_epochs=30` reached.\n"
     ]
    },
    {
     "name": "stdout",
     "output_type": "stream",
     "text": [
      "Epoch 29: 100%|██████████| 11/11 [00:05<00:00,  1.95it/s, loss=998, v_num=8, train_loss_step=1.01e+3, val_loss=1.13e+3, train_loss_epoch=996.0]"
     ]
    },
    {
     "name": "stderr",
     "output_type": "stream",
     "text": [
      "\u001b[32m[I 2024-04-02 18:41:32,852]\u001b[0m Trial 8 pruned. \u001b[0m\n"
     ]
    },
    {
     "name": "stdout",
     "output_type": "stream",
     "text": [
      "\n"
     ]
    },
    {
     "name": "stderr",
     "output_type": "stream",
     "text": [
      "GPU available: True (cuda), used: True\n",
      "TPU available: False, using: 0 TPU cores\n",
      "IPU available: False, using: 0 IPUs\n",
      "HPU available: False, using: 0 HPUs\n",
      "`Trainer(limit_train_batches=1.0)` was configured so 100% of the batches per epoch will be used..\n",
      "`Trainer(limit_val_batches=1.0)` was configured so 100% of the batches will be used..\n",
      "LOCAL_RANK: 0 - CUDA_VISIBLE_DEVICES: [0]\n",
      "\n",
      "  | Name                   | Type                             | Params\n",
      "----------------------------------------------------------------------------\n",
      "0 | loss                   | NegativeBinomialDistributionLoss | 0     \n",
      "1 | logging_metrics        | ModuleList                       | 0     \n",
      "2 | embeddings             | MultiEmbedding                   | 728   \n",
      "3 | rnn                    | LSTM                             | 4.2 M \n",
      "4 | distribution_projector | Linear                           | 1.8 K \n",
      "----------------------------------------------------------------------------\n",
      "4.2 M     Trainable params\n",
      "0         Non-trainable params\n",
      "4.2 M     Total params\n",
      "16.711    Total estimated model params size (MB)\n"
     ]
    },
    {
     "name": "stdout",
     "output_type": "stream",
     "text": [
      "Epoch 0: 100%|██████████| 37/37 [00:05<00:00,  7.29it/s, loss=1.17e+03, v_num=9, train_loss_step=964.0, val_loss=1.05e+3]"
     ]
    },
    {
     "name": "stderr",
     "output_type": "stream",
     "text": [
      "Metric val_loss improved. New best score: 1052.837\n"
     ]
    },
    {
     "name": "stdout",
     "output_type": "stream",
     "text": [
      "Epoch 1: 100%|██████████| 37/37 [00:05<00:00,  7.34it/s, loss=519, v_num=9, train_loss_step=366.0, val_loss=365.0, train_loss_epoch=1.24e+3]       "
     ]
    },
    {
     "name": "stderr",
     "output_type": "stream",
     "text": [
      "Metric val_loss improved by 688.188 >= min_delta = 0. New best score: 364.650\n"
     ]
    },
    {
     "name": "stdout",
     "output_type": "stream",
     "text": [
      "Epoch 2: 100%|██████████| 37/37 [00:05<00:00,  7.26it/s, loss=181, v_num=9, train_loss_step=120.0, val_loss=124.0, train_loss_epoch=582.0]  "
     ]
    },
    {
     "name": "stderr",
     "output_type": "stream",
     "text": [
      "Metric val_loss improved by 240.709 >= min_delta = 0. New best score: 123.940\n"
     ]
    },
    {
     "name": "stdout",
     "output_type": "stream",
     "text": [
      "Epoch 3: 100%|██████████| 37/37 [00:05<00:00,  7.31it/s, loss=68.7, v_num=9, train_loss_step=47.40, val_loss=50.10, train_loss_epoch=201.0]"
     ]
    },
    {
     "name": "stderr",
     "output_type": "stream",
     "text": [
      "Metric val_loss improved by 73.801 >= min_delta = 0. New best score: 50.139\n"
     ]
    },
    {
     "name": "stdout",
     "output_type": "stream",
     "text": [
      "Epoch 4: 100%|██████████| 37/37 [00:05<00:00,  7.14it/s, loss=31.3, v_num=9, train_loss_step=24.30, val_loss=25.40, train_loss_epoch=75.30]"
     ]
    },
    {
     "name": "stderr",
     "output_type": "stream",
     "text": [
      "Metric val_loss improved by 24.750 >= min_delta = 0. New best score: 25.389\n"
     ]
    },
    {
     "name": "stdout",
     "output_type": "stream",
     "text": [
      "Epoch 5: 100%|██████████| 37/37 [00:05<00:00,  7.27it/s, loss=18.9, v_num=9, train_loss_step=15.70, val_loss=18.00, train_loss_epoch=33.70]"
     ]
    },
    {
     "name": "stderr",
     "output_type": "stream",
     "text": [
      "Metric val_loss improved by 7.393 >= min_delta = 0. New best score: 17.996\n"
     ]
    },
    {
     "name": "stdout",
     "output_type": "stream",
     "text": [
      "Epoch 6: 100%|██████████| 37/37 [00:05<00:00,  7.12it/s, loss=13.9, v_num=9, train_loss_step=12.60, val_loss=13.70, train_loss_epoch=19.90]"
     ]
    },
    {
     "name": "stderr",
     "output_type": "stream",
     "text": [
      "Metric val_loss improved by 4.270 >= min_delta = 0. New best score: 13.726\n"
     ]
    },
    {
     "name": "stdout",
     "output_type": "stream",
     "text": [
      "Epoch 7: 100%|██████████| 37/37 [00:05<00:00,  7.10it/s, loss=11.9, v_num=9, train_loss_step=11.60, val_loss=11.90, train_loss_epoch=14.40]"
     ]
    },
    {
     "name": "stderr",
     "output_type": "stream",
     "text": [
      "Metric val_loss improved by 1.849 >= min_delta = 0. New best score: 11.877\n"
     ]
    },
    {
     "name": "stdout",
     "output_type": "stream",
     "text": [
      "Epoch 8: 100%|██████████| 37/37 [00:05<00:00,  7.21it/s, loss=10.9, v_num=9, train_loss_step=10.50, val_loss=11.00, train_loss_epoch=12.10]"
     ]
    },
    {
     "name": "stderr",
     "output_type": "stream",
     "text": [
      "Metric val_loss improved by 0.900 >= min_delta = 0. New best score: 10.977\n"
     ]
    },
    {
     "name": "stdout",
     "output_type": "stream",
     "text": [
      "Epoch 9: 100%|██████████| 37/37 [00:05<00:00,  7.10it/s, loss=10.3, v_num=9, train_loss_step=10.10, val_loss=10.50, train_loss_epoch=11.00]"
     ]
    },
    {
     "name": "stderr",
     "output_type": "stream",
     "text": [
      "Metric val_loss improved by 0.525 >= min_delta = 0. New best score: 10.452\n"
     ]
    },
    {
     "name": "stdout",
     "output_type": "stream",
     "text": [
      "Epoch 10: 100%|██████████| 37/37 [00:05<00:00,  7.23it/s, loss=9.88, v_num=9, train_loss_step=9.640, val_loss=9.990, train_loss_epoch=10.40]"
     ]
    },
    {
     "name": "stderr",
     "output_type": "stream",
     "text": [
      "Metric val_loss improved by 0.462 >= min_delta = 0. New best score: 9.990\n"
     ]
    },
    {
     "name": "stdout",
     "output_type": "stream",
     "text": [
      "Epoch 11: 100%|██████████| 37/37 [00:05<00:00,  7.22it/s, loss=9.49, v_num=9, train_loss_step=9.330, val_loss=9.690, train_loss_epoch=9.940]"
     ]
    },
    {
     "name": "stderr",
     "output_type": "stream",
     "text": [
      "Metric val_loss improved by 0.299 >= min_delta = 0. New best score: 9.691\n"
     ]
    },
    {
     "name": "stdout",
     "output_type": "stream",
     "text": [
      "Epoch 12: 100%|██████████| 37/37 [00:04<00:00,  7.43it/s, loss=9.24, v_num=9, train_loss_step=8.950, val_loss=9.480, train_loss_epoch=9.530]"
     ]
    },
    {
     "name": "stderr",
     "output_type": "stream",
     "text": [
      "Metric val_loss improved by 0.216 >= min_delta = 0. New best score: 9.476\n"
     ]
    },
    {
     "name": "stdout",
     "output_type": "stream",
     "text": [
      "Epoch 13: 100%|██████████| 37/37 [00:04<00:00,  7.40it/s, loss=9.11, v_num=9, train_loss_step=9.200, val_loss=9.330, train_loss_epoch=9.270]"
     ]
    },
    {
     "name": "stderr",
     "output_type": "stream",
     "text": [
      "Metric val_loss improved by 0.144 >= min_delta = 0. New best score: 9.332\n"
     ]
    },
    {
     "name": "stdout",
     "output_type": "stream",
     "text": [
      "Epoch 14: 100%|██████████| 37/37 [00:05<00:00,  7.19it/s, loss=8.98, v_num=9, train_loss_step=8.910, val_loss=9.230, train_loss_epoch=9.100]"
     ]
    },
    {
     "name": "stderr",
     "output_type": "stream",
     "text": [
      "Metric val_loss improved by 0.104 >= min_delta = 0. New best score: 9.228\n"
     ]
    },
    {
     "name": "stdout",
     "output_type": "stream",
     "text": [
      "Epoch 15: 100%|██████████| 37/37 [00:05<00:00,  7.20it/s, loss=8.87, v_num=9, train_loss_step=8.890, val_loss=9.140, train_loss_epoch=8.970]"
     ]
    },
    {
     "name": "stderr",
     "output_type": "stream",
     "text": [
      "Metric val_loss improved by 0.085 >= min_delta = 0. New best score: 9.143\n"
     ]
    },
    {
     "name": "stdout",
     "output_type": "stream",
     "text": [
      "Epoch 16: 100%|██████████| 37/37 [00:05<00:00,  7.00it/s, loss=8.79, v_num=9, train_loss_step=8.640, val_loss=9.070, train_loss_epoch=8.890]"
     ]
    },
    {
     "name": "stderr",
     "output_type": "stream",
     "text": [
      "Metric val_loss improved by 0.070 >= min_delta = 0. New best score: 9.073\n"
     ]
    },
    {
     "name": "stdout",
     "output_type": "stream",
     "text": [
      "Epoch 17: 100%|██████████| 37/37 [00:05<00:00,  7.22it/s, loss=8.76, v_num=9, train_loss_step=8.660, val_loss=9.030, train_loss_epoch=8.800]"
     ]
    },
    {
     "name": "stderr",
     "output_type": "stream",
     "text": [
      "Metric val_loss improved by 0.043 >= min_delta = 0. New best score: 9.030\n"
     ]
    },
    {
     "name": "stdout",
     "output_type": "stream",
     "text": [
      "Epoch 18: 100%|██████████| 37/37 [00:05<00:00,  7.32it/s, loss=8.7, v_num=9, train_loss_step=8.650, val_loss=8.980, train_loss_epoch=8.750] "
     ]
    },
    {
     "name": "stderr",
     "output_type": "stream",
     "text": [
      "Metric val_loss improved by 0.053 >= min_delta = 0. New best score: 8.977\n"
     ]
    },
    {
     "name": "stdout",
     "output_type": "stream",
     "text": [
      "Epoch 19: 100%|██████████| 37/37 [00:05<00:00,  7.08it/s, loss=8.64, v_num=9, train_loss_step=8.730, val_loss=8.930, train_loss_epoch=8.690]"
     ]
    },
    {
     "name": "stderr",
     "output_type": "stream",
     "text": [
      "Metric val_loss improved by 0.046 >= min_delta = 0. New best score: 8.931\n"
     ]
    },
    {
     "name": "stdout",
     "output_type": "stream",
     "text": [
      "Epoch 20: 100%|██████████| 37/37 [00:05<00:00,  7.24it/s, loss=8.6, v_num=9, train_loss_step=8.860, val_loss=8.890, train_loss_epoch=8.640] "
     ]
    },
    {
     "name": "stderr",
     "output_type": "stream",
     "text": [
      "Metric val_loss improved by 0.042 >= min_delta = 0. New best score: 8.889\n"
     ]
    },
    {
     "name": "stdout",
     "output_type": "stream",
     "text": [
      "Epoch 21: 100%|██████████| 37/37 [00:05<00:00,  7.09it/s, loss=8.56, v_num=9, train_loss_step=8.690, val_loss=8.850, train_loss_epoch=8.600]"
     ]
    },
    {
     "name": "stderr",
     "output_type": "stream",
     "text": [
      "Metric val_loss improved by 0.039 >= min_delta = 0. New best score: 8.851\n"
     ]
    },
    {
     "name": "stdout",
     "output_type": "stream",
     "text": [
      "Epoch 22: 100%|██████████| 37/37 [00:05<00:00,  7.17it/s, loss=8.5, v_num=9, train_loss_step=8.650, val_loss=8.820, train_loss_epoch=8.570] "
     ]
    },
    {
     "name": "stderr",
     "output_type": "stream",
     "text": [
      "Metric val_loss improved by 0.029 >= min_delta = 0. New best score: 8.821\n"
     ]
    },
    {
     "name": "stdout",
     "output_type": "stream",
     "text": [
      "Epoch 23: 100%|██████████| 37/37 [00:05<00:00,  7.18it/s, loss=8.46, v_num=9, train_loss_step=8.570, val_loss=8.780, train_loss_epoch=8.510]"
     ]
    },
    {
     "name": "stderr",
     "output_type": "stream",
     "text": [
      "Metric val_loss improved by 0.042 >= min_delta = 0. New best score: 8.780\n"
     ]
    },
    {
     "name": "stdout",
     "output_type": "stream",
     "text": [
      "Epoch 24: 100%|██████████| 37/37 [00:05<00:00,  7.16it/s, loss=8.44, v_num=9, train_loss_step=8.330, val_loss=8.740, train_loss_epoch=8.480]"
     ]
    },
    {
     "name": "stderr",
     "output_type": "stream",
     "text": [
      "Metric val_loss improved by 0.036 >= min_delta = 0. New best score: 8.744\n"
     ]
    },
    {
     "name": "stdout",
     "output_type": "stream",
     "text": [
      "Epoch 25: 100%|██████████| 37/37 [00:05<00:00,  7.32it/s, loss=8.43, v_num=9, train_loss_step=8.410, val_loss=8.700, train_loss_epoch=8.450]"
     ]
    },
    {
     "name": "stderr",
     "output_type": "stream",
     "text": [
      "Metric val_loss improved by 0.045 >= min_delta = 0. New best score: 8.698\n"
     ]
    },
    {
     "name": "stdout",
     "output_type": "stream",
     "text": [
      "Epoch 26: 100%|██████████| 37/37 [00:06<00:00,  6.11it/s, loss=8.37, v_num=9, train_loss_step=8.220, val_loss=8.660, train_loss_epoch=8.410]"
     ]
    },
    {
     "name": "stderr",
     "output_type": "stream",
     "text": [
      "Metric val_loss improved by 0.034 >= min_delta = 0. New best score: 8.665\n"
     ]
    },
    {
     "name": "stdout",
     "output_type": "stream",
     "text": [
      "Epoch 27: 100%|██████████| 37/37 [00:05<00:00,  7.27it/s, loss=8.3, v_num=9, train_loss_step=8.490, val_loss=8.630, train_loss_epoch=8.360] "
     ]
    },
    {
     "name": "stderr",
     "output_type": "stream",
     "text": [
      "Metric val_loss improved by 0.031 >= min_delta = 0. New best score: 8.634\n"
     ]
    },
    {
     "name": "stdout",
     "output_type": "stream",
     "text": [
      "Epoch 28: 100%|██████████| 37/37 [00:05<00:00,  7.25it/s, loss=8.26, v_num=9, train_loss_step=8.180, val_loss=8.590, train_loss_epoch=8.330]"
     ]
    },
    {
     "name": "stderr",
     "output_type": "stream",
     "text": [
      "Metric val_loss improved by 0.044 >= min_delta = 0. New best score: 8.590\n"
     ]
    },
    {
     "name": "stdout",
     "output_type": "stream",
     "text": [
      "Epoch 29: 100%|██████████| 37/37 [00:05<00:00,  7.16it/s, loss=8.26, v_num=9, train_loss_step=7.810, val_loss=8.560, train_loss_epoch=8.280]"
     ]
    },
    {
     "name": "stderr",
     "output_type": "stream",
     "text": [
      "Metric val_loss improved by 0.033 >= min_delta = 0. New best score: 8.557\n"
     ]
    },
    {
     "name": "stdout",
     "output_type": "stream",
     "text": [
      "Epoch 29: 100%|██████████| 37/37 [00:05<00:00,  7.16it/s, loss=8.26, v_num=9, train_loss_step=7.810, val_loss=8.560, train_loss_epoch=8.240]"
     ]
    },
    {
     "name": "stderr",
     "output_type": "stream",
     "text": [
      "`Trainer.fit` stopped: `max_epochs=30` reached.\n"
     ]
    },
    {
     "name": "stdout",
     "output_type": "stream",
     "text": [
      "Epoch 29: 100%|██████████| 37/37 [00:05<00:00,  7.07it/s, loss=8.26, v_num=9, train_loss_step=7.810, val_loss=8.560, train_loss_epoch=8.240]"
     ]
    },
    {
     "name": "stderr",
     "output_type": "stream",
     "text": [
      "\u001b[32m[I 2024-04-02 18:44:11,295]\u001b[0m Trial 9 finished with value: 58.641788482666016 and parameters: {'neu': 910, 'lay': 1, 'bat': 288, 'lr': 0.0018237614100205862, 'dropout': 0.2}. Best is trial 2 with value: 21.622835159301758.\u001b[0m\n"
     ]
    },
    {
     "name": "stdout",
     "output_type": "stream",
     "text": [
      "\n"
     ]
    },
    {
     "name": "stderr",
     "output_type": "stream",
     "text": [
      "GPU available: True (cuda), used: True\n",
      "TPU available: False, using: 0 TPU cores\n",
      "IPU available: False, using: 0 IPUs\n",
      "HPU available: False, using: 0 HPUs\n",
      "`Trainer(limit_train_batches=1.0)` was configured so 100% of the batches per epoch will be used..\n",
      "`Trainer(limit_val_batches=1.0)` was configured so 100% of the batches will be used..\n",
      "LOCAL_RANK: 0 - CUDA_VISIBLE_DEVICES: [0]\n",
      "\n",
      "  | Name                   | Type                             | Params\n",
      "----------------------------------------------------------------------------\n",
      "0 | loss                   | NegativeBinomialDistributionLoss | 0     \n",
      "1 | logging_metrics        | ModuleList                       | 0     \n",
      "2 | embeddings             | MultiEmbedding                   | 728   \n",
      "3 | rnn                    | LSTM                             | 2.2 M \n",
      "4 | distribution_projector | Linear                           | 622   \n",
      "----------------------------------------------------------------------------\n",
      "2.2 M     Trainable params\n",
      "0         Non-trainable params\n",
      "2.2 M     Total params\n",
      "8.889     Total estimated model params size (MB)\n"
     ]
    },
    {
     "name": "stdout",
     "output_type": "stream",
     "text": [
      "Epoch 0: 100%|██████████| 330/330 [00:08<00:00, 39.07it/s, loss=8.41, v_num=10, train_loss_step=8.160, val_loss=8.480]"
     ]
    },
    {
     "name": "stderr",
     "output_type": "stream",
     "text": [
      "Metric val_loss improved. New best score: 8.485\n"
     ]
    },
    {
     "name": "stdout",
     "output_type": "stream",
     "text": [
      "Epoch 1: 100%|██████████| 330/330 [00:08<00:00, 39.16it/s, loss=8.11, v_num=10, train_loss_step=8.590, val_loss=8.200, train_loss_epoch=43.70]"
     ]
    },
    {
     "name": "stderr",
     "output_type": "stream",
     "text": [
      "Metric val_loss improved by 0.281 >= min_delta = 0. New best score: 8.204\n"
     ]
    },
    {
     "name": "stdout",
     "output_type": "stream",
     "text": [
      "Epoch 2: 100%|██████████| 330/330 [00:08<00:00, 39.36it/s, loss=8.21, v_num=10, train_loss_step=8.000, val_loss=8.180, train_loss_epoch=8.260]"
     ]
    },
    {
     "name": "stderr",
     "output_type": "stream",
     "text": [
      "Metric val_loss improved by 0.024 >= min_delta = 0. New best score: 8.180\n"
     ]
    },
    {
     "name": "stdout",
     "output_type": "stream",
     "text": [
      "Epoch 3: 100%|██████████| 330/330 [00:08<00:00, 39.15it/s, loss=7.88, v_num=10, train_loss_step=7.960, val_loss=8.110, train_loss_epoch=8.150]"
     ]
    },
    {
     "name": "stderr",
     "output_type": "stream",
     "text": [
      "Metric val_loss improved by 0.071 >= min_delta = 0. New best score: 8.109\n"
     ]
    },
    {
     "name": "stdout",
     "output_type": "stream",
     "text": [
      "Epoch 4: 100%|██████████| 330/330 [00:08<00:00, 38.74it/s, loss=7.9, v_num=10, train_loss_step=7.960, val_loss=8.100, train_loss_epoch=8.200] "
     ]
    },
    {
     "name": "stderr",
     "output_type": "stream",
     "text": [
      "Metric val_loss improved by 0.006 >= min_delta = 0. New best score: 8.103\n"
     ]
    },
    {
     "name": "stdout",
     "output_type": "stream",
     "text": [
      "Epoch 6: 100%|██████████| 330/330 [00:08<00:00, 37.40it/s, loss=7.94, v_num=10, train_loss_step=8.250, val_loss=8.060, train_loss_epoch=7.960]"
     ]
    },
    {
     "name": "stderr",
     "output_type": "stream",
     "text": [
      "Metric val_loss improved by 0.038 >= min_delta = 0. New best score: 8.065\n"
     ]
    },
    {
     "name": "stdout",
     "output_type": "stream",
     "text": [
      "Epoch 9: 100%|██████████| 330/330 [00:08<00:00, 39.77it/s, loss=8.15, v_num=10, train_loss_step=8.310, val_loss=8.050, train_loss_epoch=7.980]"
     ]
    },
    {
     "name": "stderr",
     "output_type": "stream",
     "text": [
      "Metric val_loss improved by 0.017 >= min_delta = 0. New best score: 8.048\n"
     ]
    },
    {
     "name": "stdout",
     "output_type": "stream",
     "text": [
      "Epoch 12: 100%|██████████| 330/330 [00:08<00:00, 38.36it/s, loss=8.09, v_num=10, train_loss_step=8.210, val_loss=8.030, train_loss_epoch=8.030]"
     ]
    },
    {
     "name": "stderr",
     "output_type": "stream",
     "text": [
      "Metric val_loss improved by 0.014 >= min_delta = 0. New best score: 8.034\n"
     ]
    },
    {
     "name": "stdout",
     "output_type": "stream",
     "text": [
      "Epoch 17: 100%|██████████| 330/330 [00:08<00:00, 37.99it/s, loss=8.08, v_num=10, train_loss_step=8.580, val_loss=8.060, train_loss_epoch=8.080]"
     ]
    },
    {
     "name": "stderr",
     "output_type": "stream",
     "text": [
      "Monitored metric val_loss did not improve in the last 5 records. Best score: 8.034. Signaling Trainer to stop.\n"
     ]
    },
    {
     "name": "stdout",
     "output_type": "stream",
     "text": [
      "Epoch 17: 100%|██████████| 330/330 [00:08<00:00, 37.74it/s, loss=8.08, v_num=10, train_loss_step=8.580, val_loss=8.060, train_loss_epoch=8.040]\n"
     ]
    },
    {
     "name": "stderr",
     "output_type": "stream",
     "text": [
      "\u001b[32m[I 2024-04-02 18:46:47,285]\u001b[0m Trial 10 finished with value: 44.99393081665039 and parameters: {'neu': 310, 'lay': 3, 'bat': 32, 'lr': 0.09992580497334776, 'dropout': 0.0}. Best is trial 2 with value: 21.622835159301758.\u001b[0m\n",
      "GPU available: True (cuda), used: True\n",
      "TPU available: False, using: 0 TPU cores\n",
      "IPU available: False, using: 0 IPUs\n",
      "HPU available: False, using: 0 HPUs\n",
      "`Trainer(limit_train_batches=1.0)` was configured so 100% of the batches per epoch will be used..\n",
      "`Trainer(limit_val_batches=1.0)` was configured so 100% of the batches will be used..\n",
      "LOCAL_RANK: 0 - CUDA_VISIBLE_DEVICES: [0]\n",
      "\n",
      "  | Name                   | Type                             | Params\n",
      "----------------------------------------------------------------------------\n",
      "0 | loss                   | NegativeBinomialDistributionLoss | 0     \n",
      "1 | logging_metrics        | ModuleList                       | 0     \n",
      "2 | embeddings             | MultiEmbedding                   | 728   \n",
      "3 | rnn                    | LSTM                             | 2.2 M \n",
      "4 | distribution_projector | Linear                           | 622   \n",
      "----------------------------------------------------------------------------\n",
      "2.2 M     Trainable params\n",
      "0         Non-trainable params\n",
      "2.2 M     Total params\n",
      "8.889     Total estimated model params size (MB)\n"
     ]
    },
    {
     "name": "stdout",
     "output_type": "stream",
     "text": [
      "Epoch 0: 100%|██████████| 330/330 [00:08<00:00, 39.30it/s, loss=8.44, v_num=11, train_loss_step=8.290, val_loss=8.690]"
     ]
    },
    {
     "name": "stderr",
     "output_type": "stream",
     "text": [
      "Metric val_loss improved. New best score: 8.693\n"
     ]
    },
    {
     "name": "stdout",
     "output_type": "stream",
     "text": [
      "Epoch 1: 100%|██████████| 330/330 [00:08<00:00, 38.40it/s, loss=8.05, v_num=11, train_loss_step=8.060, val_loss=8.670, train_loss_epoch=50.10]"
     ]
    },
    {
     "name": "stderr",
     "output_type": "stream",
     "text": [
      "Metric val_loss improved by 0.022 >= min_delta = 0. New best score: 8.671\n"
     ]
    },
    {
     "name": "stdout",
     "output_type": "stream",
     "text": [
      "Epoch 2: 100%|██████████| 330/330 [00:08<00:00, 39.09it/s, loss=7.92, v_num=11, train_loss_step=7.750, val_loss=8.170, train_loss_epoch=8.170]"
     ]
    },
    {
     "name": "stderr",
     "output_type": "stream",
     "text": [
      "Metric val_loss improved by 0.503 >= min_delta = 0. New best score: 8.168\n"
     ]
    },
    {
     "name": "stdout",
     "output_type": "stream",
     "text": [
      "Epoch 3: 100%|██████████| 330/330 [00:08<00:00, 38.19it/s, loss=7.83, v_num=11, train_loss_step=7.610, val_loss=8.020, train_loss_epoch=8.050]"
     ]
    },
    {
     "name": "stderr",
     "output_type": "stream",
     "text": [
      "Metric val_loss improved by 0.145 >= min_delta = 0. New best score: 8.023\n"
     ]
    },
    {
     "name": "stdout",
     "output_type": "stream",
     "text": [
      "Epoch 8: 100%|██████████| 330/330 [00:08<00:00, 38.94it/s, loss=7.94, v_num=11, train_loss_step=8.080, val_loss=8.540, train_loss_epoch=8.260]"
     ]
    },
    {
     "name": "stderr",
     "output_type": "stream",
     "text": [
      "Monitored metric val_loss did not improve in the last 5 records. Best score: 8.023. Signaling Trainer to stop.\n"
     ]
    },
    {
     "name": "stdout",
     "output_type": "stream",
     "text": [
      "Epoch 8: 100%|██████████| 330/330 [00:08<00:00, 38.70it/s, loss=7.94, v_num=11, train_loss_step=8.080, val_loss=8.540, train_loss_epoch=8.360]\n"
     ]
    },
    {
     "name": "stderr",
     "output_type": "stream",
     "text": [
      "\u001b[32m[I 2024-04-02 18:48:05,900]\u001b[0m Trial 11 finished with value: 45.18220520019531 and parameters: {'neu': 310, 'lay': 3, 'bat': 32, 'lr': 0.08414600114160813, 'dropout': 0.0}. Best is trial 2 with value: 21.622835159301758.\u001b[0m\n",
      "GPU available: True (cuda), used: True\n",
      "TPU available: False, using: 0 TPU cores\n",
      "IPU available: False, using: 0 IPUs\n",
      "HPU available: False, using: 0 HPUs\n",
      "`Trainer(limit_train_batches=1.0)` was configured so 100% of the batches per epoch will be used..\n",
      "`Trainer(limit_val_batches=1.0)` was configured so 100% of the batches will be used..\n",
      "LOCAL_RANK: 0 - CUDA_VISIBLE_DEVICES: [0]\n",
      "\n",
      "  | Name                   | Type                             | Params\n",
      "----------------------------------------------------------------------------\n",
      "0 | loss                   | NegativeBinomialDistributionLoss | 0     \n",
      "1 | logging_metrics        | ModuleList                       | 0     \n",
      "2 | embeddings             | MultiEmbedding                   | 728   \n",
      "3 | rnn                    | LSTM                             | 2.2 M \n",
      "4 | distribution_projector | Linear                           | 622   \n",
      "----------------------------------------------------------------------------\n",
      "2.2 M     Trainable params\n",
      "0         Non-trainable params\n",
      "2.2 M     Total params\n",
      "8.889     Total estimated model params size (MB)\n"
     ]
    },
    {
     "name": "stdout",
     "output_type": "stream",
     "text": [
      "Epoch 0: 100%|██████████| 330/330 [00:07<00:00, 42.01it/s, loss=8.44, v_num=12, train_loss_step=8.360, val_loss=8.870]"
     ]
    },
    {
     "name": "stderr",
     "output_type": "stream",
     "text": [
      "Metric val_loss improved. New best score: 8.872\n"
     ]
    },
    {
     "name": "stdout",
     "output_type": "stream",
     "text": [
      "Epoch 1: 100%|██████████| 330/330 [00:09<00:00, 33.60it/s, loss=8.1, v_num=12, train_loss_step=8.580, val_loss=8.240, train_loss_epoch=48.20] "
     ]
    },
    {
     "name": "stderr",
     "output_type": "stream",
     "text": [
      "Metric val_loss improved by 0.631 >= min_delta = 0. New best score: 8.242\n"
     ]
    },
    {
     "name": "stdout",
     "output_type": "stream",
     "text": [
      "Epoch 2: 100%|██████████| 330/330 [00:08<00:00, 38.70it/s, loss=7.99, v_num=12, train_loss_step=8.080, val_loss=8.120, train_loss_epoch=8.280]"
     ]
    },
    {
     "name": "stderr",
     "output_type": "stream",
     "text": [
      "Metric val_loss improved by 0.118 >= min_delta = 0. New best score: 8.124\n"
     ]
    },
    {
     "name": "stdout",
     "output_type": "stream",
     "text": [
      "Epoch 5: 100%|██████████| 330/330 [00:08<00:00, 39.44it/s, loss=8.05, v_num=12, train_loss_step=7.790, val_loss=7.980, train_loss_epoch=9.190]"
     ]
    },
    {
     "name": "stderr",
     "output_type": "stream",
     "text": [
      "Metric val_loss improved by 0.141 >= min_delta = 0. New best score: 7.983\n"
     ]
    },
    {
     "name": "stdout",
     "output_type": "stream",
     "text": [
      "Epoch 10: 100%|██████████| 330/330 [00:08<00:00, 38.93it/s, loss=7.87, v_num=12, train_loss_step=8.110, val_loss=8.040, train_loss_epoch=8.290]"
     ]
    },
    {
     "name": "stderr",
     "output_type": "stream",
     "text": [
      "Monitored metric val_loss did not improve in the last 5 records. Best score: 7.983. Signaling Trainer to stop.\n"
     ]
    },
    {
     "name": "stdout",
     "output_type": "stream",
     "text": [
      "Epoch 10: 100%|██████████| 330/330 [00:08<00:00, 38.68it/s, loss=7.87, v_num=12, train_loss_step=8.110, val_loss=8.040, train_loss_epoch=7.980]"
     ]
    },
    {
     "name": "stderr",
     "output_type": "stream",
     "text": [
      "\u001b[32m[I 2024-04-02 18:49:41,920]\u001b[0m Trial 12 finished with value: 45.09352493286133 and parameters: {'neu': 310, 'lay': 3, 'bat': 32, 'lr': 0.07462788969744684, 'dropout': 0.0}. Best is trial 2 with value: 21.622835159301758.\u001b[0m\n"
     ]
    },
    {
     "name": "stdout",
     "output_type": "stream",
     "text": [
      "\n"
     ]
    },
    {
     "name": "stderr",
     "output_type": "stream",
     "text": [
      "GPU available: True (cuda), used: True\n",
      "TPU available: False, using: 0 TPU cores\n",
      "IPU available: False, using: 0 IPUs\n",
      "HPU available: False, using: 0 HPUs\n",
      "`Trainer(limit_train_batches=1.0)` was configured so 100% of the batches per epoch will be used..\n",
      "`Trainer(limit_val_batches=1.0)` was configured so 100% of the batches will be used..\n",
      "LOCAL_RANK: 0 - CUDA_VISIBLE_DEVICES: [0]\n",
      "\n",
      "  | Name                   | Type                             | Params\n",
      "----------------------------------------------------------------------------\n",
      "0 | loss                   | NegativeBinomialDistributionLoss | 0     \n",
      "1 | logging_metrics        | ModuleList                       | 0     \n",
      "2 | embeddings             | MultiEmbedding                   | 728   \n",
      "3 | rnn                    | LSTM                             | 2.7 M \n",
      "4 | distribution_projector | Linear                           | 1.4 K \n",
      "----------------------------------------------------------------------------\n",
      "2.7 M     Trainable params\n",
      "0         Non-trainable params\n",
      "2.7 M     Total params\n",
      "10.767    Total estimated model params size (MB)\n"
     ]
    },
    {
     "name": "stdout",
     "output_type": "stream",
     "text": [
      "Epoch 0: 100%|██████████| 66/66 [00:05<00:00, 12.29it/s, loss=21, v_num=13, train_loss_step=12.20, val_loss=12.90]"
     ]
    },
    {
     "name": "stderr",
     "output_type": "stream",
     "text": [
      "Metric val_loss improved. New best score: 12.854\n"
     ]
    },
    {
     "name": "stdout",
     "output_type": "stream",
     "text": [
      "Epoch 1: 100%|██████████| 66/66 [00:05<00:00, 11.78it/s, loss=9.89, v_num=13, train_loss_step=9.570, val_loss=9.830, train_loss_epoch=253.0]"
     ]
    },
    {
     "name": "stderr",
     "output_type": "stream",
     "text": [
      "Metric val_loss improved by 3.026 >= min_delta = 0. New best score: 9.828\n"
     ]
    },
    {
     "name": "stdout",
     "output_type": "stream",
     "text": [
      "Epoch 2: 100%|██████████| 66/66 [00:05<00:00, 11.85it/s, loss=8.83, v_num=13, train_loss_step=8.870, val_loss=8.980, train_loss_epoch=10.50]"
     ]
    },
    {
     "name": "stderr",
     "output_type": "stream",
     "text": [
      "Metric val_loss improved by 0.846 >= min_delta = 0. New best score: 8.982\n"
     ]
    },
    {
     "name": "stdout",
     "output_type": "stream",
     "text": [
      "Epoch 3: 100%|██████████| 66/66 [00:05<00:00, 11.78it/s, loss=8.38, v_num=13, train_loss_step=7.940, val_loss=8.520, train_loss_epoch=9.050]"
     ]
    },
    {
     "name": "stderr",
     "output_type": "stream",
     "text": [
      "Metric val_loss improved by 0.466 >= min_delta = 0. New best score: 8.516\n"
     ]
    },
    {
     "name": "stdout",
     "output_type": "stream",
     "text": [
      "Epoch 4: 100%|██████████| 66/66 [00:05<00:00, 12.04it/s, loss=8.11, v_num=13, train_loss_step=8.330, val_loss=8.330, train_loss_epoch=8.430]"
     ]
    },
    {
     "name": "stderr",
     "output_type": "stream",
     "text": [
      "Metric val_loss improved by 0.186 >= min_delta = 0. New best score: 8.330\n"
     ]
    },
    {
     "name": "stdout",
     "output_type": "stream",
     "text": [
      "Epoch 5: 100%|██████████| 66/66 [00:05<00:00, 11.91it/s, loss=7.89, v_num=13, train_loss_step=7.510, val_loss=8.130, train_loss_epoch=8.100]"
     ]
    },
    {
     "name": "stderr",
     "output_type": "stream",
     "text": [
      "Metric val_loss improved by 0.195 >= min_delta = 0. New best score: 8.134\n"
     ]
    },
    {
     "name": "stdout",
     "output_type": "stream",
     "text": [
      "Epoch 6: 100%|██████████| 66/66 [00:05<00:00, 11.77it/s, loss=7.78, v_num=13, train_loss_step=7.920, val_loss=8.070, train_loss_epoch=7.910]"
     ]
    },
    {
     "name": "stderr",
     "output_type": "stream",
     "text": [
      "Metric val_loss improved by 0.065 >= min_delta = 0. New best score: 8.070\n"
     ]
    },
    {
     "name": "stdout",
     "output_type": "stream",
     "text": [
      "Epoch 7: 100%|██████████| 66/66 [00:05<00:00, 11.83it/s, loss=7.63, v_num=13, train_loss_step=7.690, val_loss=7.920, train_loss_epoch=7.770]"
     ]
    },
    {
     "name": "stderr",
     "output_type": "stream",
     "text": [
      "Metric val_loss improved by 0.154 >= min_delta = 0. New best score: 7.916\n"
     ]
    },
    {
     "name": "stdout",
     "output_type": "stream",
     "text": [
      "Epoch 8: 100%|██████████| 66/66 [00:05<00:00, 12.19it/s, loss=7.57, v_num=13, train_loss_step=7.480, val_loss=7.850, train_loss_epoch=7.650]"
     ]
    },
    {
     "name": "stderr",
     "output_type": "stream",
     "text": [
      "Metric val_loss improved by 0.064 >= min_delta = 0. New best score: 7.852\n"
     ]
    },
    {
     "name": "stdout",
     "output_type": "stream",
     "text": [
      "Epoch 9: 100%|██████████| 66/66 [00:05<00:00, 11.66it/s, loss=7.38, v_num=13, train_loss_step=7.310, val_loss=7.690, train_loss_epoch=7.570]"
     ]
    },
    {
     "name": "stderr",
     "output_type": "stream",
     "text": [
      "Metric val_loss improved by 0.165 >= min_delta = 0. New best score: 7.687\n"
     ]
    },
    {
     "name": "stdout",
     "output_type": "stream",
     "text": [
      "Epoch 10: 100%|██████████| 66/66 [00:05<00:00, 12.26it/s, loss=7.3, v_num=13, train_loss_step=7.240, val_loss=7.620, train_loss_epoch=7.420] "
     ]
    },
    {
     "name": "stderr",
     "output_type": "stream",
     "text": [
      "Metric val_loss improved by 0.069 >= min_delta = 0. New best score: 7.618\n"
     ]
    },
    {
     "name": "stdout",
     "output_type": "stream",
     "text": [
      "Epoch 11: 100%|██████████| 66/66 [00:05<00:00, 11.86it/s, loss=7.27, v_num=13, train_loss_step=7.340, val_loss=7.550, train_loss_epoch=7.310]"
     ]
    },
    {
     "name": "stderr",
     "output_type": "stream",
     "text": [
      "Metric val_loss improved by 0.065 >= min_delta = 0. New best score: 7.552\n"
     ]
    },
    {
     "name": "stdout",
     "output_type": "stream",
     "text": [
      "Epoch 12: 100%|██████████| 66/66 [00:05<00:00, 11.96it/s, loss=7.16, v_num=13, train_loss_step=7.380, val_loss=7.540, train_loss_epoch=7.260]"
     ]
    },
    {
     "name": "stderr",
     "output_type": "stream",
     "text": [
      "Metric val_loss improved by 0.013 >= min_delta = 0. New best score: 7.539\n"
     ]
    },
    {
     "name": "stdout",
     "output_type": "stream",
     "text": [
      "Epoch 13: 100%|██████████| 66/66 [00:05<00:00, 11.91it/s, loss=7.14, v_num=13, train_loss_step=7.280, val_loss=7.490, train_loss_epoch=7.170]"
     ]
    },
    {
     "name": "stderr",
     "output_type": "stream",
     "text": [
      "Metric val_loss improved by 0.051 >= min_delta = 0. New best score: 7.488\n"
     ]
    },
    {
     "name": "stdout",
     "output_type": "stream",
     "text": [
      "Epoch 14: 100%|██████████| 66/66 [00:05<00:00, 11.60it/s, loss=7.03, v_num=13, train_loss_step=6.860, val_loss=7.370, train_loss_epoch=7.130]"
     ]
    },
    {
     "name": "stderr",
     "output_type": "stream",
     "text": [
      "Metric val_loss improved by 0.120 >= min_delta = 0. New best score: 7.368\n"
     ]
    },
    {
     "name": "stdout",
     "output_type": "stream",
     "text": [
      "Epoch 15: 100%|██████████| 66/66 [00:05<00:00, 11.79it/s, loss=7, v_num=13, train_loss_step=6.760, val_loss=7.340, train_loss_epoch=7.050]   "
     ]
    },
    {
     "name": "stderr",
     "output_type": "stream",
     "text": [
      "Metric val_loss improved by 0.024 >= min_delta = 0. New best score: 7.344\n"
     ]
    },
    {
     "name": "stdout",
     "output_type": "stream",
     "text": [
      "Epoch 16: 100%|██████████| 66/66 [00:05<00:00, 12.02it/s, loss=6.87, v_num=13, train_loss_step=6.980, val_loss=7.300, train_loss_epoch=6.970]"
     ]
    },
    {
     "name": "stderr",
     "output_type": "stream",
     "text": [
      "Metric val_loss improved by 0.045 >= min_delta = 0. New best score: 7.299\n"
     ]
    },
    {
     "name": "stdout",
     "output_type": "stream",
     "text": [
      "Epoch 17: 100%|██████████| 66/66 [00:05<00:00, 12.01it/s, loss=6.81, v_num=13, train_loss_step=6.970, val_loss=7.210, train_loss_epoch=6.900]"
     ]
    },
    {
     "name": "stderr",
     "output_type": "stream",
     "text": [
      "Metric val_loss improved by 0.086 >= min_delta = 0. New best score: 7.213\n"
     ]
    },
    {
     "name": "stdout",
     "output_type": "stream",
     "text": [
      "Epoch 18: 100%|██████████| 66/66 [00:05<00:00, 12.14it/s, loss=6.86, v_num=13, train_loss_step=6.770, val_loss=7.180, train_loss_epoch=6.850]"
     ]
    },
    {
     "name": "stderr",
     "output_type": "stream",
     "text": [
      "Metric val_loss improved by 0.030 >= min_delta = 0. New best score: 7.183\n"
     ]
    },
    {
     "name": "stdout",
     "output_type": "stream",
     "text": [
      "Epoch 19: 100%|██████████| 66/66 [00:05<00:00, 12.10it/s, loss=6.81, v_num=13, train_loss_step=6.760, val_loss=7.170, train_loss_epoch=6.800]"
     ]
    },
    {
     "name": "stderr",
     "output_type": "stream",
     "text": [
      "Metric val_loss improved by 0.010 >= min_delta = 0. New best score: 7.173\n"
     ]
    },
    {
     "name": "stdout",
     "output_type": "stream",
     "text": [
      "Epoch 20: 100%|██████████| 66/66 [00:05<00:00, 12.10it/s, loss=6.77, v_num=13, train_loss_step=6.990, val_loss=7.120, train_loss_epoch=6.790]"
     ]
    },
    {
     "name": "stderr",
     "output_type": "stream",
     "text": [
      "Metric val_loss improved by 0.056 >= min_delta = 0. New best score: 7.117\n"
     ]
    },
    {
     "name": "stdout",
     "output_type": "stream",
     "text": [
      "Epoch 21: 100%|██████████| 66/66 [00:05<00:00, 12.13it/s, loss=6.66, v_num=13, train_loss_step=6.690, val_loss=7.110, train_loss_epoch=6.750]"
     ]
    },
    {
     "name": "stderr",
     "output_type": "stream",
     "text": [
      "Metric val_loss improved by 0.008 >= min_delta = 0. New best score: 7.108\n"
     ]
    },
    {
     "name": "stdout",
     "output_type": "stream",
     "text": [
      "Epoch 23: 100%|██████████| 66/66 [00:05<00:00, 12.41it/s, loss=6.71, v_num=13, train_loss_step=6.820, val_loss=7.070, train_loss_epoch=6.670]"
     ]
    },
    {
     "name": "stderr",
     "output_type": "stream",
     "text": [
      "Metric val_loss improved by 0.037 >= min_delta = 0. New best score: 7.071\n"
     ]
    },
    {
     "name": "stdout",
     "output_type": "stream",
     "text": [
      "Epoch 26: 100%|██████████| 66/66 [00:05<00:00, 11.93it/s, loss=6.6, v_num=13, train_loss_step=6.280, val_loss=7.010, train_loss_epoch=6.560] "
     ]
    },
    {
     "name": "stderr",
     "output_type": "stream",
     "text": [
      "Metric val_loss improved by 0.064 >= min_delta = 0. New best score: 7.007\n"
     ]
    },
    {
     "name": "stdout",
     "output_type": "stream",
     "text": [
      "Epoch 29: 100%|██████████| 66/66 [00:05<00:00, 11.62it/s, loss=6.43, v_num=13, train_loss_step=6.260, val_loss=6.950, train_loss_epoch=6.510]"
     ]
    },
    {
     "name": "stderr",
     "output_type": "stream",
     "text": [
      "Metric val_loss improved by 0.060 >= min_delta = 0. New best score: 6.947\n"
     ]
    },
    {
     "name": "stdout",
     "output_type": "stream",
     "text": [
      "Epoch 29: 100%|██████████| 66/66 [00:05<00:00, 11.61it/s, loss=6.43, v_num=13, train_loss_step=6.260, val_loss=6.950, train_loss_epoch=6.460]"
     ]
    },
    {
     "name": "stderr",
     "output_type": "stream",
     "text": [
      "`Trainer.fit` stopped: `max_epochs=30` reached.\n"
     ]
    },
    {
     "name": "stdout",
     "output_type": "stream",
     "text": [
      "Epoch 29: 100%|██████████| 66/66 [00:05<00:00, 11.51it/s, loss=6.43, v_num=13, train_loss_step=6.260, val_loss=6.950, train_loss_epoch=6.460]"
     ]
    },
    {
     "name": "stderr",
     "output_type": "stream",
     "text": [
      "\u001b[32m[I 2024-04-02 18:52:35,198]\u001b[0m Trial 13 finished with value: 25.120746612548828 and parameters: {'neu': 710, 'lay': 1, 'bat': 160, 'lr': 0.023866488879096096, 'dropout': 0.2}. Best is trial 2 with value: 21.622835159301758.\u001b[0m\n"
     ]
    },
    {
     "name": "stdout",
     "output_type": "stream",
     "text": [
      "\n"
     ]
    },
    {
     "name": "stderr",
     "output_type": "stream",
     "text": [
      "GPU available: True (cuda), used: True\n",
      "TPU available: False, using: 0 TPU cores\n",
      "IPU available: False, using: 0 IPUs\n",
      "HPU available: False, using: 0 HPUs\n",
      "`Trainer(limit_train_batches=1.0)` was configured so 100% of the batches per epoch will be used..\n",
      "`Trainer(limit_val_batches=1.0)` was configured so 100% of the batches will be used..\n",
      "LOCAL_RANK: 0 - CUDA_VISIBLE_DEVICES: [0]\n",
      "\n",
      "  | Name                   | Type                             | Params\n",
      "----------------------------------------------------------------------------\n",
      "0 | loss                   | NegativeBinomialDistributionLoss | 0     \n",
      "1 | logging_metrics        | ModuleList                       | 0     \n",
      "2 | embeddings             | MultiEmbedding                   | 728   \n",
      "3 | rnn                    | LSTM                             | 2.7 M \n",
      "4 | distribution_projector | Linear                           | 1.4 K \n",
      "----------------------------------------------------------------------------\n",
      "2.7 M     Trainable params\n",
      "0         Non-trainable params\n",
      "2.7 M     Total params\n",
      "10.767    Total estimated model params size (MB)\n"
     ]
    },
    {
     "name": "stdout",
     "output_type": "stream",
     "text": [
      "Epoch 0: 100%|██████████| 55/55 [00:05<00:00, 10.23it/s, loss=131, v_num=14, train_loss_step=55.20, val_loss=55.20]"
     ]
    },
    {
     "name": "stderr",
     "output_type": "stream",
     "text": [
      "Metric val_loss improved. New best score: 55.212\n"
     ]
    },
    {
     "name": "stdout",
     "output_type": "stream",
     "text": [
      "Epoch 1: 100%|██████████| 55/55 [00:05<00:00, 10.24it/s, loss=14.3, v_num=14, train_loss_step=12.00, val_loss=12.20, train_loss_epoch=371.0]"
     ]
    },
    {
     "name": "stderr",
     "output_type": "stream",
     "text": [
      "Metric val_loss improved by 43.037 >= min_delta = 0. New best score: 12.176\n"
     ]
    },
    {
     "name": "stdout",
     "output_type": "stream",
     "text": [
      "Epoch 2: 100%|██████████| 55/55 [00:05<00:00,  9.91it/s, loss=10.2, v_num=14, train_loss_step=9.890, val_loss=10.30, train_loss_epoch=21.50]"
     ]
    },
    {
     "name": "stderr",
     "output_type": "stream",
     "text": [
      "Metric val_loss improved by 1.883 >= min_delta = 0. New best score: 10.292\n"
     ]
    },
    {
     "name": "stdout",
     "output_type": "stream",
     "text": [
      "Epoch 3: 100%|██████████| 55/55 [00:05<00:00, 10.17it/s, loss=9.25, v_num=14, train_loss_step=9.240, val_loss=9.340, train_loss_epoch=10.60]"
     ]
    },
    {
     "name": "stderr",
     "output_type": "stream",
     "text": [
      "Metric val_loss improved by 0.949 >= min_delta = 0. New best score: 9.344\n"
     ]
    },
    {
     "name": "stdout",
     "output_type": "stream",
     "text": [
      "Epoch 4: 100%|██████████| 55/55 [00:05<00:00, 10.31it/s, loss=8.71, v_num=14, train_loss_step=8.880, val_loss=8.890, train_loss_epoch=9.470]"
     ]
    },
    {
     "name": "stderr",
     "output_type": "stream",
     "text": [
      "Metric val_loss improved by 0.458 >= min_delta = 0. New best score: 8.886\n"
     ]
    },
    {
     "name": "stdout",
     "output_type": "stream",
     "text": [
      "Epoch 5: 100%|██████████| 55/55 [00:05<00:00, 10.59it/s, loss=8.44, v_num=14, train_loss_step=8.470, val_loss=8.670, train_loss_epoch=8.820]"
     ]
    },
    {
     "name": "stderr",
     "output_type": "stream",
     "text": [
      "Metric val_loss improved by 0.212 >= min_delta = 0. New best score: 8.674\n"
     ]
    },
    {
     "name": "stdout",
     "output_type": "stream",
     "text": [
      "Epoch 6: 100%|██████████| 55/55 [00:05<00:00, 10.38it/s, loss=8.24, v_num=14, train_loss_step=7.960, val_loss=8.520, train_loss_epoch=8.490]"
     ]
    },
    {
     "name": "stderr",
     "output_type": "stream",
     "text": [
      "Metric val_loss improved by 0.158 >= min_delta = 0. New best score: 8.516\n"
     ]
    },
    {
     "name": "stdout",
     "output_type": "stream",
     "text": [
      "Epoch 7: 100%|██████████| 55/55 [00:05<00:00, 10.33it/s, loss=8.08, v_num=14, train_loss_step=8.330, val_loss=8.400, train_loss_epoch=8.280]"
     ]
    },
    {
     "name": "stderr",
     "output_type": "stream",
     "text": [
      "Metric val_loss improved by 0.114 >= min_delta = 0. New best score: 8.402\n"
     ]
    },
    {
     "name": "stdout",
     "output_type": "stream",
     "text": [
      "Epoch 8: 100%|██████████| 55/55 [00:05<00:00, 10.40it/s, loss=7.98, v_num=14, train_loss_step=7.740, val_loss=8.290, train_loss_epoch=8.140]"
     ]
    },
    {
     "name": "stderr",
     "output_type": "stream",
     "text": [
      "Metric val_loss improved by 0.108 >= min_delta = 0. New best score: 8.294\n"
     ]
    },
    {
     "name": "stdout",
     "output_type": "stream",
     "text": [
      "Epoch 9: 100%|██████████| 55/55 [00:05<00:00, 10.02it/s, loss=7.95, v_num=14, train_loss_step=7.790, val_loss=8.230, train_loss_epoch=8.040]"
     ]
    },
    {
     "name": "stderr",
     "output_type": "stream",
     "text": [
      "Metric val_loss improved by 0.066 >= min_delta = 0. New best score: 8.228\n"
     ]
    },
    {
     "name": "stdout",
     "output_type": "stream",
     "text": [
      "Epoch 10: 100%|██████████| 55/55 [00:05<00:00,  9.99it/s, loss=7.81, v_num=14, train_loss_step=7.690, val_loss=8.120, train_loss_epoch=7.930]"
     ]
    },
    {
     "name": "stderr",
     "output_type": "stream",
     "text": [
      "Metric val_loss improved by 0.105 >= min_delta = 0. New best score: 8.123\n"
     ]
    },
    {
     "name": "stdout",
     "output_type": "stream",
     "text": [
      "Epoch 11: 100%|██████████| 55/55 [00:05<00:00,  9.67it/s, loss=7.8, v_num=14, train_loss_step=8.160, val_loss=8.020, train_loss_epoch=7.830] "
     ]
    },
    {
     "name": "stderr",
     "output_type": "stream",
     "text": [
      "Metric val_loss improved by 0.101 >= min_delta = 0. New best score: 8.022\n"
     ]
    },
    {
     "name": "stdout",
     "output_type": "stream",
     "text": [
      "Epoch 12: 100%|██████████| 55/55 [00:05<00:00, 10.11it/s, loss=7.64, v_num=14, train_loss_step=7.470, val_loss=7.960, train_loss_epoch=7.730]"
     ]
    },
    {
     "name": "stderr",
     "output_type": "stream",
     "text": [
      "Metric val_loss improved by 0.058 >= min_delta = 0. New best score: 7.964\n"
     ]
    },
    {
     "name": "stdout",
     "output_type": "stream",
     "text": [
      "Epoch 13: 100%|██████████| 55/55 [00:05<00:00, 10.39it/s, loss=7.56, v_num=14, train_loss_step=7.970, val_loss=7.900, train_loss_epoch=7.650]"
     ]
    },
    {
     "name": "stderr",
     "output_type": "stream",
     "text": [
      "Metric val_loss improved by 0.059 >= min_delta = 0. New best score: 7.905\n"
     ]
    },
    {
     "name": "stdout",
     "output_type": "stream",
     "text": [
      "Epoch 14: 100%|██████████| 55/55 [00:05<00:00, 10.25it/s, loss=7.48, v_num=14, train_loss_step=7.450, val_loss=7.840, train_loss_epoch=7.580]"
     ]
    },
    {
     "name": "stderr",
     "output_type": "stream",
     "text": [
      "Metric val_loss improved by 0.063 >= min_delta = 0. New best score: 7.842\n"
     ]
    },
    {
     "name": "stdout",
     "output_type": "stream",
     "text": [
      "Epoch 16: 100%|██████████| 55/55 [00:05<00:00, 10.10it/s, loss=7.42, v_num=14, train_loss_step=7.520, val_loss=7.780, train_loss_epoch=7.440]"
     ]
    },
    {
     "name": "stderr",
     "output_type": "stream",
     "text": [
      "Metric val_loss improved by 0.061 >= min_delta = 0. New best score: 7.781\n"
     ]
    },
    {
     "name": "stdout",
     "output_type": "stream",
     "text": [
      "Epoch 17: 100%|██████████| 55/55 [00:05<00:00, 10.43it/s, loss=7.31, v_num=14, train_loss_step=7.510, val_loss=7.720, train_loss_epoch=7.390]"
     ]
    },
    {
     "name": "stderr",
     "output_type": "stream",
     "text": [
      "Metric val_loss improved by 0.062 >= min_delta = 0. New best score: 7.719\n"
     ]
    },
    {
     "name": "stdout",
     "output_type": "stream",
     "text": [
      "Epoch 18: 100%|██████████| 55/55 [00:05<00:00, 10.37it/s, loss=7.32, v_num=14, train_loss_step=6.940, val_loss=7.710, train_loss_epoch=7.340]"
     ]
    },
    {
     "name": "stderr",
     "output_type": "stream",
     "text": [
      "Metric val_loss improved by 0.012 >= min_delta = 0. New best score: 7.706\n"
     ]
    },
    {
     "name": "stdout",
     "output_type": "stream",
     "text": [
      "Epoch 20: 100%|██████████| 55/55 [00:05<00:00, 10.24it/s, loss=7.23, v_num=14, train_loss_step=7.460, val_loss=7.630, train_loss_epoch=7.270]"
     ]
    },
    {
     "name": "stderr",
     "output_type": "stream",
     "text": [
      "Metric val_loss improved by 0.081 >= min_delta = 0. New best score: 7.626\n"
     ]
    },
    {
     "name": "stdout",
     "output_type": "stream",
     "text": [
      "Epoch 23: 100%|██████████| 55/55 [00:05<00:00, 10.32it/s, loss=7.09, v_num=14, train_loss_step=7.220, val_loss=7.590, train_loss_epoch=7.140]"
     ]
    },
    {
     "name": "stderr",
     "output_type": "stream",
     "text": [
      "Metric val_loss improved by 0.036 >= min_delta = 0. New best score: 7.590\n"
     ]
    },
    {
     "name": "stdout",
     "output_type": "stream",
     "text": [
      "Epoch 24: 100%|██████████| 55/55 [00:05<00:00, 10.12it/s, loss=7.06, v_num=14, train_loss_step=7.080, val_loss=7.520, train_loss_epoch=7.100]"
     ]
    },
    {
     "name": "stderr",
     "output_type": "stream",
     "text": [
      "Metric val_loss improved by 0.065 >= min_delta = 0. New best score: 7.525\n"
     ]
    },
    {
     "name": "stdout",
     "output_type": "stream",
     "text": [
      "Epoch 27: 100%|██████████| 55/55 [00:05<00:00, 10.38it/s, loss=6.91, v_num=14, train_loss_step=6.910, val_loss=7.520, train_loss_epoch=6.980]"
     ]
    },
    {
     "name": "stderr",
     "output_type": "stream",
     "text": [
      "Metric val_loss improved by 0.001 >= min_delta = 0. New best score: 7.523\n"
     ]
    },
    {
     "name": "stdout",
     "output_type": "stream",
     "text": [
      "Epoch 28: 100%|██████████| 55/55 [00:05<00:00, 10.04it/s, loss=6.98, v_num=14, train_loss_step=6.910, val_loss=7.510, train_loss_epoch=6.920]"
     ]
    },
    {
     "name": "stderr",
     "output_type": "stream",
     "text": [
      "Metric val_loss improved by 0.017 >= min_delta = 0. New best score: 7.506\n"
     ]
    },
    {
     "name": "stdout",
     "output_type": "stream",
     "text": [
      "Epoch 29: 100%|██████████| 55/55 [00:05<00:00, 10.17it/s, loss=6.89, v_num=14, train_loss_step=6.920, val_loss=7.460, train_loss_epoch=6.930]"
     ]
    },
    {
     "name": "stderr",
     "output_type": "stream",
     "text": [
      "Metric val_loss improved by 0.050 >= min_delta = 0. New best score: 7.456\n"
     ]
    },
    {
     "name": "stdout",
     "output_type": "stream",
     "text": [
      "Epoch 29: 100%|██████████| 55/55 [00:05<00:00, 10.17it/s, loss=6.89, v_num=14, train_loss_step=6.920, val_loss=7.460, train_loss_epoch=6.900]"
     ]
    },
    {
     "name": "stderr",
     "output_type": "stream",
     "text": [
      "`Trainer.fit` stopped: `max_epochs=30` reached.\n"
     ]
    },
    {
     "name": "stdout",
     "output_type": "stream",
     "text": [
      "Epoch 29: 100%|██████████| 55/55 [00:05<00:00, 10.08it/s, loss=6.89, v_num=14, train_loss_step=6.920, val_loss=7.460, train_loss_epoch=6.900]"
     ]
    },
    {
     "name": "stderr",
     "output_type": "stream",
     "text": [
      "\u001b[32m[I 2024-04-02 18:55:20,665]\u001b[0m Trial 14 finished with value: 34.32782745361328 and parameters: {'neu': 710, 'lay': 1, 'bat': 192, 'lr': 0.011755843639116456, 'dropout': 0.2}. Best is trial 2 with value: 21.622835159301758.\u001b[0m\n"
     ]
    },
    {
     "name": "stdout",
     "output_type": "stream",
     "text": [
      "\n"
     ]
    },
    {
     "name": "stderr",
     "output_type": "stream",
     "text": [
      "GPU available: True (cuda), used: True\n",
      "TPU available: False, using: 0 TPU cores\n",
      "IPU available: False, using: 0 IPUs\n",
      "HPU available: False, using: 0 HPUs\n",
      "`Trainer(limit_train_batches=1.0)` was configured so 100% of the batches per epoch will be used..\n",
      "`Trainer(limit_val_batches=1.0)` was configured so 100% of the batches will be used..\n",
      "LOCAL_RANK: 0 - CUDA_VISIBLE_DEVICES: [0]\n",
      "\n",
      "  | Name                   | Type                             | Params\n",
      "----------------------------------------------------------------------------\n",
      "0 | loss                   | NegativeBinomialDistributionLoss | 0     \n",
      "1 | logging_metrics        | ModuleList                       | 0     \n",
      "2 | embeddings             | MultiEmbedding                   | 728   \n",
      "3 | rnn                    | LSTM                             | 2.7 M \n",
      "4 | distribution_projector | Linear                           | 1.4 K \n",
      "----------------------------------------------------------------------------\n",
      "2.7 M     Trainable params\n",
      "0         Non-trainable params\n",
      "2.7 M     Total params\n",
      "10.767    Total estimated model params size (MB)\n"
     ]
    },
    {
     "name": "stdout",
     "output_type": "stream",
     "text": [
      "Epoch 0: 100%|██████████| 22/22 [00:04<00:00,  4.56it/s, loss=682, v_num=15, train_loss_step=280.0, val_loss=242.0]"
     ]
    },
    {
     "name": "stderr",
     "output_type": "stream",
     "text": [
      "Metric val_loss improved. New best score: 242.057\n"
     ]
    },
    {
     "name": "stdout",
     "output_type": "stream",
     "text": [
      "Epoch 1: 100%|██████████| 22/22 [00:05<00:00,  4.33it/s, loss=167, v_num=15, train_loss_step=32.60, val_loss=49.80, train_loss_epoch=682.0]"
     ]
    },
    {
     "name": "stderr",
     "output_type": "stream",
     "text": [
      "Metric val_loss improved by 192.229 >= min_delta = 0. New best score: 49.828\n"
     ]
    },
    {
     "name": "stdout",
     "output_type": "stream",
     "text": [
      "Epoch 2: 100%|██████████| 22/22 [00:04<00:00,  4.44it/s, loss=29.9, v_num=15, train_loss_step=15.50, val_loss=15.30, train_loss_epoch=102.0]"
     ]
    },
    {
     "name": "stderr",
     "output_type": "stream",
     "text": [
      "Metric val_loss improved by 34.569 >= min_delta = 0. New best score: 15.259\n"
     ]
    },
    {
     "name": "stdout",
     "output_type": "stream",
     "text": [
      "Epoch 3: 100%|██████████| 22/22 [00:04<00:00,  4.47it/s, loss=13.5, v_num=15, train_loss_step=10.70, val_loss=11.80, train_loss_epoch=23.50]"
     ]
    },
    {
     "name": "stderr",
     "output_type": "stream",
     "text": [
      "Metric val_loss improved by 3.498 >= min_delta = 0. New best score: 11.761\n"
     ]
    },
    {
     "name": "stdout",
     "output_type": "stream",
     "text": [
      "Epoch 4: 100%|██████████| 22/22 [00:04<00:00,  4.54it/s, loss=10.8, v_num=15, train_loss_step=10.10, val_loss=10.50, train_loss_epoch=12.40]"
     ]
    },
    {
     "name": "stderr",
     "output_type": "stream",
     "text": [
      "Metric val_loss improved by 1.255 >= min_delta = 0. New best score: 10.506\n"
     ]
    },
    {
     "name": "stdout",
     "output_type": "stream",
     "text": [
      "Epoch 5: 100%|██████████| 22/22 [00:04<00:00,  4.44it/s, loss=10.1, v_num=15, train_loss_step=9.890, val_loss=10.10, train_loss_epoch=10.60]"
     ]
    },
    {
     "name": "stderr",
     "output_type": "stream",
     "text": [
      "Metric val_loss improved by 0.389 >= min_delta = 0. New best score: 10.117\n"
     ]
    },
    {
     "name": "stdout",
     "output_type": "stream",
     "text": [
      "Epoch 6: 100%|██████████| 22/22 [00:05<00:00,  4.36it/s, loss=9.64, v_num=15, train_loss_step=9.290, val_loss=9.580, train_loss_epoch=10.00]"
     ]
    },
    {
     "name": "stderr",
     "output_type": "stream",
     "text": [
      "Metric val_loss improved by 0.533 >= min_delta = 0. New best score: 9.583\n"
     ]
    },
    {
     "name": "stdout",
     "output_type": "stream",
     "text": [
      "Epoch 7: 100%|██████████| 22/22 [00:04<00:00,  4.41it/s, loss=9.18, v_num=15, train_loss_step=8.940, val_loss=9.240, train_loss_epoch=9.550]"
     ]
    },
    {
     "name": "stderr",
     "output_type": "stream",
     "text": [
      "Metric val_loss improved by 0.342 >= min_delta = 0. New best score: 9.241\n"
     ]
    },
    {
     "name": "stdout",
     "output_type": "stream",
     "text": [
      "Epoch 8: 100%|██████████| 22/22 [00:05<00:00,  4.39it/s, loss=8.83, v_num=15, train_loss_step=8.450, val_loss=8.920, train_loss_epoch=9.090]"
     ]
    },
    {
     "name": "stderr",
     "output_type": "stream",
     "text": [
      "Metric val_loss improved by 0.318 >= min_delta = 0. New best score: 8.923\n"
     ]
    },
    {
     "name": "stdout",
     "output_type": "stream",
     "text": [
      "Epoch 9: 100%|██████████| 22/22 [00:04<00:00,  4.56it/s, loss=8.58, v_num=15, train_loss_step=8.520, val_loss=8.770, train_loss_epoch=8.780]"
     ]
    },
    {
     "name": "stderr",
     "output_type": "stream",
     "text": [
      "Metric val_loss improved by 0.151 >= min_delta = 0. New best score: 8.772\n"
     ]
    },
    {
     "name": "stdout",
     "output_type": "stream",
     "text": [
      "Epoch 10: 100%|██████████| 22/22 [00:06<00:00,  3.31it/s, loss=8.45, v_num=15, train_loss_step=8.440, val_loss=8.640, train_loss_epoch=8.550]"
     ]
    },
    {
     "name": "stderr",
     "output_type": "stream",
     "text": [
      "Metric val_loss improved by 0.135 >= min_delta = 0. New best score: 8.637\n"
     ]
    },
    {
     "name": "stdout",
     "output_type": "stream",
     "text": [
      "Epoch 11: 100%|██████████| 22/22 [00:04<00:00,  4.52it/s, loss=8.3, v_num=15, train_loss_step=8.340, val_loss=8.550, train_loss_epoch=8.400] "
     ]
    },
    {
     "name": "stderr",
     "output_type": "stream",
     "text": [
      "Metric val_loss improved by 0.083 >= min_delta = 0. New best score: 8.554\n"
     ]
    },
    {
     "name": "stdout",
     "output_type": "stream",
     "text": [
      "Epoch 12: 100%|██████████| 22/22 [00:04<00:00,  4.46it/s, loss=8.21, v_num=15, train_loss_step=8.160, val_loss=8.450, train_loss_epoch=8.280]"
     ]
    },
    {
     "name": "stderr",
     "output_type": "stream",
     "text": [
      "Metric val_loss improved by 0.103 >= min_delta = 0. New best score: 8.451\n"
     ]
    },
    {
     "name": "stdout",
     "output_type": "stream",
     "text": [
      "Epoch 13: 100%|██████████| 22/22 [00:05<00:00,  4.27it/s, loss=8.12, v_num=15, train_loss_step=8.010, val_loss=8.390, train_loss_epoch=8.200]"
     ]
    },
    {
     "name": "stderr",
     "output_type": "stream",
     "text": [
      "Metric val_loss improved by 0.065 >= min_delta = 0. New best score: 8.386\n"
     ]
    },
    {
     "name": "stdout",
     "output_type": "stream",
     "text": [
      "Epoch 14: 100%|██████████| 22/22 [00:05<00:00,  3.93it/s, loss=8.03, v_num=15, train_loss_step=8.110, val_loss=8.320, train_loss_epoch=8.100]"
     ]
    },
    {
     "name": "stderr",
     "output_type": "stream",
     "text": [
      "Metric val_loss improved by 0.067 >= min_delta = 0. New best score: 8.319\n"
     ]
    },
    {
     "name": "stdout",
     "output_type": "stream",
     "text": [
      "Epoch 15: 100%|██████████| 22/22 [00:05<00:00,  4.16it/s, loss=7.98, v_num=15, train_loss_step=7.840, val_loss=8.220, train_loss_epoch=8.010]"
     ]
    },
    {
     "name": "stderr",
     "output_type": "stream",
     "text": [
      "Metric val_loss improved by 0.097 >= min_delta = 0. New best score: 8.222\n"
     ]
    },
    {
     "name": "stdout",
     "output_type": "stream",
     "text": [
      "Epoch 16: 100%|██████████| 22/22 [00:05<00:00,  4.35it/s, loss=7.87, v_num=15, train_loss_step=7.820, val_loss=8.180, train_loss_epoch=7.940]"
     ]
    },
    {
     "name": "stderr",
     "output_type": "stream",
     "text": [
      "Metric val_loss improved by 0.039 >= min_delta = 0. New best score: 8.183\n"
     ]
    },
    {
     "name": "stdout",
     "output_type": "stream",
     "text": [
      "Epoch 17: 100%|██████████| 22/22 [00:05<00:00,  4.10it/s, loss=7.78, v_num=15, train_loss_step=7.600, val_loss=8.110, train_loss_epoch=7.850]"
     ]
    },
    {
     "name": "stderr",
     "output_type": "stream",
     "text": [
      "Metric val_loss improved by 0.077 >= min_delta = 0. New best score: 8.106\n"
     ]
    },
    {
     "name": "stdout",
     "output_type": "stream",
     "text": [
      "Epoch 18: 100%|██████████| 22/22 [00:05<00:00,  4.29it/s, loss=7.73, v_num=15, train_loss_step=7.750, val_loss=8.090, train_loss_epoch=7.770]"
     ]
    },
    {
     "name": "stderr",
     "output_type": "stream",
     "text": [
      "Metric val_loss improved by 0.018 >= min_delta = 0. New best score: 8.088\n"
     ]
    },
    {
     "name": "stdout",
     "output_type": "stream",
     "text": [
      "Epoch 19: 100%|██████████| 22/22 [00:05<00:00,  4.32it/s, loss=7.69, v_num=15, train_loss_step=7.680, val_loss=8.020, train_loss_epoch=7.720]"
     ]
    },
    {
     "name": "stderr",
     "output_type": "stream",
     "text": [
      "Metric val_loss improved by 0.072 >= min_delta = 0. New best score: 8.016\n"
     ]
    },
    {
     "name": "stdout",
     "output_type": "stream",
     "text": [
      "Epoch 20: 100%|██████████| 22/22 [00:05<00:00,  4.29it/s, loss=7.65, v_num=15, train_loss_step=7.670, val_loss=7.980, train_loss_epoch=7.680]"
     ]
    },
    {
     "name": "stderr",
     "output_type": "stream",
     "text": [
      "Metric val_loss improved by 0.035 >= min_delta = 0. New best score: 7.980\n"
     ]
    },
    {
     "name": "stdout",
     "output_type": "stream",
     "text": [
      "Epoch 21: 100%|██████████| 22/22 [00:05<00:00,  4.29it/s, loss=7.58, v_num=15, train_loss_step=7.450, val_loss=7.960, train_loss_epoch=7.640]"
     ]
    },
    {
     "name": "stderr",
     "output_type": "stream",
     "text": [
      "Metric val_loss improved by 0.024 >= min_delta = 0. New best score: 7.956\n"
     ]
    },
    {
     "name": "stdout",
     "output_type": "stream",
     "text": [
      "Epoch 22: 100%|██████████| 22/22 [00:05<00:00,  4.32it/s, loss=7.55, v_num=15, train_loss_step=7.640, val_loss=7.930, train_loss_epoch=7.570]"
     ]
    },
    {
     "name": "stderr",
     "output_type": "stream",
     "text": [
      "Metric val_loss improved by 0.027 >= min_delta = 0. New best score: 7.930\n"
     ]
    },
    {
     "name": "stdout",
     "output_type": "stream",
     "text": [
      "Epoch 23: 100%|██████████| 22/22 [00:04<00:00,  4.44it/s, loss=7.5, v_num=15, train_loss_step=7.510, val_loss=7.910, train_loss_epoch=7.540] "
     ]
    },
    {
     "name": "stderr",
     "output_type": "stream",
     "text": [
      "Metric val_loss improved by 0.024 >= min_delta = 0. New best score: 7.906\n"
     ]
    },
    {
     "name": "stdout",
     "output_type": "stream",
     "text": [
      "Epoch 24: 100%|██████████| 22/22 [00:05<00:00,  4.09it/s, loss=7.46, v_num=15, train_loss_step=7.440, val_loss=7.860, train_loss_epoch=7.500]"
     ]
    },
    {
     "name": "stderr",
     "output_type": "stream",
     "text": [
      "Metric val_loss improved by 0.041 >= min_delta = 0. New best score: 7.865\n"
     ]
    },
    {
     "name": "stdout",
     "output_type": "stream",
     "text": [
      "Epoch 25: 100%|██████████| 22/22 [00:05<00:00,  4.25it/s, loss=7.43, v_num=15, train_loss_step=7.640, val_loss=7.830, train_loss_epoch=7.460]"
     ]
    },
    {
     "name": "stderr",
     "output_type": "stream",
     "text": [
      "Metric val_loss improved by 0.031 >= min_delta = 0. New best score: 7.834\n"
     ]
    },
    {
     "name": "stdout",
     "output_type": "stream",
     "text": [
      "Epoch 26: 100%|██████████| 22/22 [00:05<00:00,  4.21it/s, loss=7.38, v_num=15, train_loss_step=7.260, val_loss=7.800, train_loss_epoch=7.420]"
     ]
    },
    {
     "name": "stderr",
     "output_type": "stream",
     "text": [
      "Metric val_loss improved by 0.036 >= min_delta = 0. New best score: 7.798\n"
     ]
    },
    {
     "name": "stdout",
     "output_type": "stream",
     "text": [
      "Epoch 27: 100%|██████████| 22/22 [00:05<00:00,  4.25it/s, loss=7.34, v_num=15, train_loss_step=7.390, val_loss=7.790, train_loss_epoch=7.360]"
     ]
    },
    {
     "name": "stderr",
     "output_type": "stream",
     "text": [
      "Metric val_loss improved by 0.012 >= min_delta = 0. New best score: 7.786\n"
     ]
    },
    {
     "name": "stdout",
     "output_type": "stream",
     "text": [
      "Epoch 29: 100%|██████████| 22/22 [00:05<00:00,  4.38it/s, loss=7.32, v_num=15, train_loss_step=7.070, val_loss=7.720, train_loss_epoch=7.310]"
     ]
    },
    {
     "name": "stderr",
     "output_type": "stream",
     "text": [
      "Metric val_loss improved by 0.066 >= min_delta = 0. New best score: 7.720\n"
     ]
    },
    {
     "name": "stdout",
     "output_type": "stream",
     "text": [
      "Epoch 29: 100%|██████████| 22/22 [00:05<00:00,  4.37it/s, loss=7.32, v_num=15, train_loss_step=7.070, val_loss=7.720, train_loss_epoch=7.310]"
     ]
    },
    {
     "name": "stderr",
     "output_type": "stream",
     "text": [
      "`Trainer.fit` stopped: `max_epochs=30` reached.\n"
     ]
    },
    {
     "name": "stdout",
     "output_type": "stream",
     "text": [
      "Epoch 29: 100%|██████████| 22/22 [00:05<00:00,  4.33it/s, loss=7.32, v_num=15, train_loss_step=7.070, val_loss=7.720, train_loss_epoch=7.310]"
     ]
    },
    {
     "name": "stderr",
     "output_type": "stream",
     "text": [
      "\u001b[32m[I 2024-04-02 18:57:58,324]\u001b[0m Trial 15 finished with value: 41.849586486816406 and parameters: {'neu': 710, 'lay': 1, 'bat': 480, 'lr': 0.02247349511073817, 'dropout': 0.2}. Best is trial 2 with value: 21.622835159301758.\u001b[0m\n"
     ]
    },
    {
     "name": "stdout",
     "output_type": "stream",
     "text": [
      "\n"
     ]
    },
    {
     "name": "stderr",
     "output_type": "stream",
     "text": [
      "GPU available: True (cuda), used: True\n",
      "TPU available: False, using: 0 TPU cores\n",
      "IPU available: False, using: 0 IPUs\n",
      "HPU available: False, using: 0 HPUs\n",
      "`Trainer(limit_train_batches=1.0)` was configured so 100% of the batches per epoch will be used..\n",
      "`Trainer(limit_val_batches=1.0)` was configured so 100% of the batches will be used..\n",
      "LOCAL_RANK: 0 - CUDA_VISIBLE_DEVICES: [0]\n",
      "\n",
      "  | Name                   | Type                             | Params\n",
      "----------------------------------------------------------------------------\n",
      "0 | loss                   | NegativeBinomialDistributionLoss | 0     \n",
      "1 | logging_metrics        | ModuleList                       | 0     \n",
      "2 | embeddings             | MultiEmbedding                   | 728   \n",
      "3 | rnn                    | LSTM                             | 18.8 M\n",
      "4 | distribution_projector | Linear                           | 1.4 K \n",
      "----------------------------------------------------------------------------\n",
      "18.8 M    Trainable params\n",
      "0         Non-trainable params\n",
      "18.8 M    Total params\n",
      "75.382    Total estimated model params size (MB)\n"
     ]
    },
    {
     "name": "stdout",
     "output_type": "stream",
     "text": [
      "Epoch 0: 100%|██████████| 55/55 [00:05<00:00,  9.28it/s, loss=51.6, v_num=16, train_loss_step=10.80, val_loss=10.90]"
     ]
    },
    {
     "name": "stderr",
     "output_type": "stream",
     "text": [
      "Metric val_loss improved. New best score: 10.902\n"
     ]
    },
    {
     "name": "stdout",
     "output_type": "stream",
     "text": [
      "Epoch 1: 100%|██████████| 55/55 [00:05<00:00,  9.35it/s, loss=9.82, v_num=16, train_loss_step=9.250, val_loss=9.930, train_loss_epoch=431.0]"
     ]
    },
    {
     "name": "stderr",
     "output_type": "stream",
     "text": [
      "Metric val_loss improved by 0.973 >= min_delta = 0. New best score: 9.929\n"
     ]
    },
    {
     "name": "stdout",
     "output_type": "stream",
     "text": [
      "Epoch 2: 100%|██████████| 55/55 [00:05<00:00,  9.38it/s, loss=9.11, v_num=16, train_loss_step=8.990, val_loss=9.260, train_loss_epoch=10.00]"
     ]
    },
    {
     "name": "stderr",
     "output_type": "stream",
     "text": [
      "Metric val_loss improved by 0.666 >= min_delta = 0. New best score: 9.263\n"
     ]
    },
    {
     "name": "stdout",
     "output_type": "stream",
     "text": [
      "Epoch 3: 100%|██████████| 55/55 [00:05<00:00,  9.62it/s, loss=8.68, v_num=16, train_loss_step=8.960, val_loss=8.930, train_loss_epoch=9.220]"
     ]
    },
    {
     "name": "stderr",
     "output_type": "stream",
     "text": [
      "Metric val_loss improved by 0.337 >= min_delta = 0. New best score: 8.926\n"
     ]
    },
    {
     "name": "stdout",
     "output_type": "stream",
     "text": [
      "Epoch 4: 100%|██████████| 55/55 [00:05<00:00,  9.59it/s, loss=8.49, v_num=16, train_loss_step=8.380, val_loss=8.730, train_loss_epoch=8.800]"
     ]
    },
    {
     "name": "stderr",
     "output_type": "stream",
     "text": [
      "Metric val_loss improved by 0.194 >= min_delta = 0. New best score: 8.732\n"
     ]
    },
    {
     "name": "stdout",
     "output_type": "stream",
     "text": [
      "Epoch 5: 100%|██████████| 55/55 [00:05<00:00,  9.41it/s, loss=8.35, v_num=16, train_loss_step=8.260, val_loss=8.590, train_loss_epoch=8.560]"
     ]
    },
    {
     "name": "stderr",
     "output_type": "stream",
     "text": [
      "Metric val_loss improved by 0.145 >= min_delta = 0. New best score: 8.587\n"
     ]
    },
    {
     "name": "stdout",
     "output_type": "stream",
     "text": [
      "Epoch 6: 100%|██████████| 55/55 [00:05<00:00,  9.33it/s, loss=8.45, v_num=16, train_loss_step=8.530, val_loss=8.580, train_loss_epoch=8.400]"
     ]
    },
    {
     "name": "stderr",
     "output_type": "stream",
     "text": [
      "Metric val_loss improved by 0.009 >= min_delta = 0. New best score: 8.578\n"
     ]
    },
    {
     "name": "stdout",
     "output_type": "stream",
     "text": [
      "Epoch 7: 100%|██████████| 55/55 [00:05<00:00,  9.24it/s, loss=8.34, v_num=16, train_loss_step=8.020, val_loss=8.460, train_loss_epoch=8.410]"
     ]
    },
    {
     "name": "stderr",
     "output_type": "stream",
     "text": [
      "Metric val_loss improved by 0.116 >= min_delta = 0. New best score: 8.462\n"
     ]
    },
    {
     "name": "stdout",
     "output_type": "stream",
     "text": [
      "Epoch 8: 100%|██████████| 55/55 [00:05<00:00,  9.31it/s, loss=8.28, v_num=16, train_loss_step=8.240, val_loss=8.420, train_loss_epoch=8.330]"
     ]
    },
    {
     "name": "stderr",
     "output_type": "stream",
     "text": [
      "Metric val_loss improved by 0.042 >= min_delta = 0. New best score: 8.420\n"
     ]
    },
    {
     "name": "stdout",
     "output_type": "stream",
     "text": [
      "Epoch 9: 100%|██████████| 55/55 [00:05<00:00,  9.48it/s, loss=8.16, v_num=16, train_loss_step=8.390, val_loss=8.410, train_loss_epoch=8.240]"
     ]
    },
    {
     "name": "stderr",
     "output_type": "stream",
     "text": [
      "Metric val_loss improved by 0.007 >= min_delta = 0. New best score: 8.413\n"
     ]
    },
    {
     "name": "stdout",
     "output_type": "stream",
     "text": [
      "Epoch 11: 100%|██████████| 55/55 [00:05<00:00,  9.76it/s, loss=8.03, v_num=16, train_loss_step=7.830, val_loss=8.280, train_loss_epoch=8.150]"
     ]
    },
    {
     "name": "stderr",
     "output_type": "stream",
     "text": [
      "Metric val_loss improved by 0.130 >= min_delta = 0. New best score: 8.283\n"
     ]
    },
    {
     "name": "stdout",
     "output_type": "stream",
     "text": [
      "Epoch 12: 100%|██████████| 55/55 [00:06<00:00,  9.08it/s, loss=8.09, v_num=16, train_loss_step=8.040, val_loss=8.240, train_loss_epoch=8.100]"
     ]
    },
    {
     "name": "stderr",
     "output_type": "stream",
     "text": [
      "Metric val_loss improved by 0.041 >= min_delta = 0. New best score: 8.242\n"
     ]
    },
    {
     "name": "stdout",
     "output_type": "stream",
     "text": [
      "Epoch 14: 100%|██████████| 55/55 [00:05<00:00,  9.19it/s, loss=8.04, v_num=16, train_loss_step=8.040, val_loss=8.200, train_loss_epoch=8.040]"
     ]
    },
    {
     "name": "stderr",
     "output_type": "stream",
     "text": [
      "Metric val_loss improved by 0.044 >= min_delta = 0. New best score: 8.198\n"
     ]
    },
    {
     "name": "stdout",
     "output_type": "stream",
     "text": [
      "Epoch 15: 100%|██████████| 55/55 [00:05<00:00,  9.46it/s, loss=7.97, v_num=16, train_loss_step=8.130, val_loss=8.180, train_loss_epoch=8.010]"
     ]
    },
    {
     "name": "stderr",
     "output_type": "stream",
     "text": [
      "Metric val_loss improved by 0.015 >= min_delta = 0. New best score: 8.183\n"
     ]
    },
    {
     "name": "stdout",
     "output_type": "stream",
     "text": [
      "Epoch 17: 100%|██████████| 55/55 [00:05<00:00,  9.32it/s, loss=7.99, v_num=16, train_loss_step=7.850, val_loss=8.170, train_loss_epoch=8.030]"
     ]
    },
    {
     "name": "stderr",
     "output_type": "stream",
     "text": [
      "Metric val_loss improved by 0.009 >= min_delta = 0. New best score: 8.174\n"
     ]
    },
    {
     "name": "stdout",
     "output_type": "stream",
     "text": [
      "Epoch 18: 100%|██████████| 55/55 [00:07<00:00,  7.09it/s, loss=7.99, v_num=16, train_loss_step=7.900, val_loss=8.140, train_loss_epoch=7.990]"
     ]
    },
    {
     "name": "stderr",
     "output_type": "stream",
     "text": [
      "Metric val_loss improved by 0.033 >= min_delta = 0. New best score: 8.141\n"
     ]
    },
    {
     "name": "stdout",
     "output_type": "stream",
     "text": [
      "Epoch 19: 100%|██████████| 55/55 [00:05<00:00,  9.24it/s, loss=7.96, v_num=16, train_loss_step=7.960, val_loss=8.130, train_loss_epoch=8.050]"
     ]
    },
    {
     "name": "stderr",
     "output_type": "stream",
     "text": [
      "Metric val_loss improved by 0.007 >= min_delta = 0. New best score: 8.134\n"
     ]
    },
    {
     "name": "stdout",
     "output_type": "stream",
     "text": [
      "Epoch 20: 100%|██████████| 55/55 [00:05<00:00,  9.42it/s, loss=8, v_num=16, train_loss_step=8.250, val_loss=8.100, train_loss_epoch=7.940]   "
     ]
    },
    {
     "name": "stderr",
     "output_type": "stream",
     "text": [
      "Metric val_loss improved by 0.035 >= min_delta = 0. New best score: 8.099\n"
     ]
    },
    {
     "name": "stdout",
     "output_type": "stream",
     "text": [
      "Epoch 23: 100%|██████████| 55/55 [00:05<00:00,  9.30it/s, loss=7.9, v_num=16, train_loss_step=7.770, val_loss=8.070, train_loss_epoch=7.990] "
     ]
    },
    {
     "name": "stderr",
     "output_type": "stream",
     "text": [
      "Metric val_loss improved by 0.032 >= min_delta = 0. New best score: 8.067\n"
     ]
    },
    {
     "name": "stdout",
     "output_type": "stream",
     "text": [
      "Epoch 24: 100%|██████████| 55/55 [00:06<00:00,  8.90it/s, loss=7.9, v_num=16, train_loss_step=7.830, val_loss=8.050, train_loss_epoch=7.920] "
     ]
    },
    {
     "name": "stderr",
     "output_type": "stream",
     "text": [
      "Metric val_loss improved by 0.022 >= min_delta = 0. New best score: 8.046\n"
     ]
    },
    {
     "name": "stdout",
     "output_type": "stream",
     "text": [
      "Epoch 26: 100%|██████████| 55/55 [00:05<00:00,  9.50it/s, loss=7.88, v_num=16, train_loss_step=7.910, val_loss=8.040, train_loss_epoch=7.940]"
     ]
    },
    {
     "name": "stderr",
     "output_type": "stream",
     "text": [
      "Metric val_loss improved by 0.008 >= min_delta = 0. New best score: 8.038\n"
     ]
    },
    {
     "name": "stdout",
     "output_type": "stream",
     "text": [
      "Epoch 27: 100%|██████████| 55/55 [00:05<00:00,  9.32it/s, loss=7.89, v_num=16, train_loss_step=7.950, val_loss=8.030, train_loss_epoch=7.890]"
     ]
    },
    {
     "name": "stderr",
     "output_type": "stream",
     "text": [
      "Metric val_loss improved by 0.006 >= min_delta = 0. New best score: 8.032\n"
     ]
    },
    {
     "name": "stdout",
     "output_type": "stream",
     "text": [
      "Epoch 29: 100%|██████████| 55/55 [00:05<00:00,  9.27it/s, loss=7.88, v_num=16, train_loss_step=7.950, val_loss=8.030, train_loss_epoch=7.880]"
     ]
    },
    {
     "name": "stderr",
     "output_type": "stream",
     "text": [
      "Metric val_loss improved by 0.002 >= min_delta = 0. New best score: 8.030\n"
     ]
    },
    {
     "name": "stdout",
     "output_type": "stream",
     "text": [
      "Epoch 29: 100%|██████████| 55/55 [00:05<00:00,  9.27it/s, loss=7.88, v_num=16, train_loss_step=7.950, val_loss=8.030, train_loss_epoch=7.890]"
     ]
    },
    {
     "name": "stderr",
     "output_type": "stream",
     "text": [
      "`Trainer.fit` stopped: `max_epochs=30` reached.\n"
     ]
    },
    {
     "name": "stdout",
     "output_type": "stream",
     "text": [
      "Epoch 29: 100%|██████████| 55/55 [00:07<00:00,  7.84it/s, loss=7.88, v_num=16, train_loss_step=7.950, val_loss=8.030, train_loss_epoch=7.890]"
     ]
    },
    {
     "name": "stderr",
     "output_type": "stream",
     "text": [
      "\u001b[32m[I 2024-04-02 19:01:44,975]\u001b[0m Trial 16 finished with value: 46.40748596191406 and parameters: {'neu': 710, 'lay': 5, 'bat': 192, 'lr': 0.024471312957418292, 'dropout': 0.4}. Best is trial 2 with value: 21.622835159301758.\u001b[0m\n"
     ]
    },
    {
     "name": "stdout",
     "output_type": "stream",
     "text": [
      "\n"
     ]
    },
    {
     "name": "stderr",
     "output_type": "stream",
     "text": [
      "GPU available: True (cuda), used: True\n",
      "TPU available: False, using: 0 TPU cores\n",
      "IPU available: False, using: 0 IPUs\n",
      "HPU available: False, using: 0 HPUs\n",
      "`Trainer(limit_train_batches=1.0)` was configured so 100% of the batches per epoch will be used..\n",
      "`Trainer(limit_val_batches=1.0)` was configured so 100% of the batches will be used..\n",
      "LOCAL_RANK: 0 - CUDA_VISIBLE_DEVICES: [0]\n",
      "\n",
      "  | Name                   | Type                             | Params\n",
      "----------------------------------------------------------------------------\n",
      "0 | loss                   | NegativeBinomialDistributionLoss | 0     \n",
      "1 | logging_metrics        | ModuleList                       | 0     \n",
      "2 | embeddings             | MultiEmbedding                   | 728   \n",
      "3 | rnn                    | LSTM                             | 2.1 M \n",
      "4 | distribution_projector | Linear                           | 1.2 K \n",
      "----------------------------------------------------------------------------\n",
      "2.1 M     Trainable params\n",
      "0         Non-trainable params\n",
      "2.1 M     Total params\n",
      "8.275     Total estimated model params size (MB)\n"
     ]
    },
    {
     "name": "stdout",
     "output_type": "stream",
     "text": [
      "Epoch 0: 100%|██████████| 66/66 [00:05<00:00, 11.30it/s, loss=295, v_num=17, train_loss_step=170.0, val_loss=174.0]"
     ]
    },
    {
     "name": "stderr",
     "output_type": "stream",
     "text": [
      "Metric val_loss improved. New best score: 173.897\n"
     ]
    },
    {
     "name": "stdout",
     "output_type": "stream",
     "text": [
      "Epoch 1: 100%|██████████| 66/66 [00:05<00:00, 11.59it/s, loss=36.6, v_num=17, train_loss_step=27.30, val_loss=29.20, train_loss_epoch=537.0]"
     ]
    },
    {
     "name": "stderr",
     "output_type": "stream",
     "text": [
      "Metric val_loss improved by 144.657 >= min_delta = 0. New best score: 29.240\n"
     ]
    },
    {
     "name": "stdout",
     "output_type": "stream",
     "text": [
      "Epoch 2: 100%|██████████| 66/66 [00:05<00:00, 11.33it/s, loss=13.6, v_num=17, train_loss_step=12.40, val_loss=13.40, train_loss_epoch=70.90]"
     ]
    },
    {
     "name": "stderr",
     "output_type": "stream",
     "text": [
      "Metric val_loss improved by 15.837 >= min_delta = 0. New best score: 13.404\n"
     ]
    },
    {
     "name": "stdout",
     "output_type": "stream",
     "text": [
      "Epoch 3: 100%|██████████| 66/66 [00:06<00:00, 10.97it/s, loss=10.6, v_num=17, train_loss_step=9.870, val_loss=10.70, train_loss_epoch=17.20]"
     ]
    },
    {
     "name": "stderr",
     "output_type": "stream",
     "text": [
      "Metric val_loss improved by 2.735 >= min_delta = 0. New best score: 10.669\n"
     ]
    },
    {
     "name": "stdout",
     "output_type": "stream",
     "text": [
      "Epoch 4: 100%|██████████| 66/66 [00:05<00:00, 11.48it/s, loss=9.67, v_num=17, train_loss_step=9.730, val_loss=9.770, train_loss_epoch=11.20]"
     ]
    },
    {
     "name": "stderr",
     "output_type": "stream",
     "text": [
      "Metric val_loss improved by 0.899 >= min_delta = 0. New best score: 9.770\n"
     ]
    },
    {
     "name": "stdout",
     "output_type": "stream",
     "text": [
      "Epoch 5: 100%|██████████| 66/66 [00:05<00:00, 11.60it/s, loss=9.01, v_num=17, train_loss_step=9.050, val_loss=9.310, train_loss_epoch=9.910]"
     ]
    },
    {
     "name": "stderr",
     "output_type": "stream",
     "text": [
      "Metric val_loss improved by 0.462 >= min_delta = 0. New best score: 9.308\n"
     ]
    },
    {
     "name": "stdout",
     "output_type": "stream",
     "text": [
      "Epoch 6: 100%|██████████| 66/66 [00:05<00:00, 12.02it/s, loss=8.8, v_num=17, train_loss_step=8.330, val_loss=9.030, train_loss_epoch=9.210] "
     ]
    },
    {
     "name": "stderr",
     "output_type": "stream",
     "text": [
      "Metric val_loss improved by 0.278 >= min_delta = 0. New best score: 9.030\n"
     ]
    },
    {
     "name": "stdout",
     "output_type": "stream",
     "text": [
      "Epoch 7: 100%|██████████| 66/66 [00:05<00:00, 11.53it/s, loss=8.62, v_num=17, train_loss_step=8.590, val_loss=8.900, train_loss_epoch=8.860]"
     ]
    },
    {
     "name": "stderr",
     "output_type": "stream",
     "text": [
      "Metric val_loss improved by 0.127 >= min_delta = 0. New best score: 8.903\n"
     ]
    },
    {
     "name": "stdout",
     "output_type": "stream",
     "text": [
      "Epoch 8: 100%|██████████| 66/66 [00:05<00:00, 11.41it/s, loss=8.55, v_num=17, train_loss_step=8.680, val_loss=8.790, train_loss_epoch=8.660]"
     ]
    },
    {
     "name": "stderr",
     "output_type": "stream",
     "text": [
      "Metric val_loss improved by 0.113 >= min_delta = 0. New best score: 8.790\n"
     ]
    },
    {
     "name": "stdout",
     "output_type": "stream",
     "text": [
      "Epoch 9: 100%|██████████| 66/66 [00:05<00:00, 11.39it/s, loss=8.41, v_num=17, train_loss_step=8.770, val_loss=8.680, train_loss_epoch=8.530]"
     ]
    },
    {
     "name": "stderr",
     "output_type": "stream",
     "text": [
      "Metric val_loss improved by 0.111 >= min_delta = 0. New best score: 8.679\n"
     ]
    },
    {
     "name": "stdout",
     "output_type": "stream",
     "text": [
      "Epoch 10: 100%|██████████| 66/66 [00:05<00:00, 11.41it/s, loss=8.3, v_num=17, train_loss_step=8.070, val_loss=8.600, train_loss_epoch=8.420] "
     ]
    },
    {
     "name": "stderr",
     "output_type": "stream",
     "text": [
      "Metric val_loss improved by 0.074 >= min_delta = 0. New best score: 8.605\n"
     ]
    },
    {
     "name": "stdout",
     "output_type": "stream",
     "text": [
      "Epoch 11: 100%|██████████| 66/66 [00:05<00:00, 11.43it/s, loss=8.2, v_num=17, train_loss_step=8.130, val_loss=8.530, train_loss_epoch=8.320] "
     ]
    },
    {
     "name": "stderr",
     "output_type": "stream",
     "text": [
      "Metric val_loss improved by 0.080 >= min_delta = 0. New best score: 8.525\n"
     ]
    },
    {
     "name": "stdout",
     "output_type": "stream",
     "text": [
      "Epoch 12: 100%|██████████| 66/66 [00:05<00:00, 11.19it/s, loss=8.11, v_num=17, train_loss_step=8.230, val_loss=8.490, train_loss_epoch=8.230]"
     ]
    },
    {
     "name": "stderr",
     "output_type": "stream",
     "text": [
      "Metric val_loss improved by 0.039 >= min_delta = 0. New best score: 8.486\n"
     ]
    },
    {
     "name": "stdout",
     "output_type": "stream",
     "text": [
      "Epoch 13: 100%|██████████| 66/66 [00:06<00:00, 10.73it/s, loss=8.08, v_num=17, train_loss_step=8.220, val_loss=8.420, train_loss_epoch=8.150]"
     ]
    },
    {
     "name": "stderr",
     "output_type": "stream",
     "text": [
      "Metric val_loss improved by 0.064 >= min_delta = 0. New best score: 8.422\n"
     ]
    },
    {
     "name": "stdout",
     "output_type": "stream",
     "text": [
      "Epoch 14: 100%|██████████| 66/66 [00:06<00:00, 10.91it/s, loss=8.07, v_num=17, train_loss_step=7.770, val_loss=8.360, train_loss_epoch=8.090]"
     ]
    },
    {
     "name": "stderr",
     "output_type": "stream",
     "text": [
      "Metric val_loss improved by 0.061 >= min_delta = 0. New best score: 8.361\n"
     ]
    },
    {
     "name": "stdout",
     "output_type": "stream",
     "text": [
      "Epoch 15: 100%|██████████| 66/66 [00:05<00:00, 11.52it/s, loss=7.95, v_num=17, train_loss_step=8.090, val_loss=8.310, train_loss_epoch=8.020]"
     ]
    },
    {
     "name": "stderr",
     "output_type": "stream",
     "text": [
      "Metric val_loss improved by 0.047 >= min_delta = 0. New best score: 8.314\n"
     ]
    },
    {
     "name": "stdout",
     "output_type": "stream",
     "text": [
      "Epoch 16: 100%|██████████| 66/66 [00:05<00:00, 11.00it/s, loss=7.91, v_num=17, train_loss_step=7.900, val_loss=8.290, train_loss_epoch=7.970]"
     ]
    },
    {
     "name": "stderr",
     "output_type": "stream",
     "text": [
      "Metric val_loss improved by 0.027 >= min_delta = 0. New best score: 8.286\n"
     ]
    },
    {
     "name": "stdout",
     "output_type": "stream",
     "text": [
      "Epoch 17: 100%|██████████| 66/66 [00:05<00:00, 11.36it/s, loss=7.88, v_num=17, train_loss_step=7.920, val_loss=8.250, train_loss_epoch=7.920]"
     ]
    },
    {
     "name": "stderr",
     "output_type": "stream",
     "text": [
      "Metric val_loss improved by 0.032 >= min_delta = 0. New best score: 8.255\n"
     ]
    },
    {
     "name": "stdout",
     "output_type": "stream",
     "text": [
      "Epoch 18: 100%|██████████| 66/66 [00:05<00:00, 11.80it/s, loss=7.78, v_num=17, train_loss_step=7.700, val_loss=8.210, train_loss_epoch=7.870]"
     ]
    },
    {
     "name": "stderr",
     "output_type": "stream",
     "text": [
      "Metric val_loss improved by 0.043 >= min_delta = 0. New best score: 8.211\n"
     ]
    },
    {
     "name": "stdout",
     "output_type": "stream",
     "text": [
      "Epoch 19: 100%|██████████| 66/66 [00:05<00:00, 12.11it/s, loss=7.87, v_num=17, train_loss_step=7.680, val_loss=8.210, train_loss_epoch=7.820]"
     ]
    },
    {
     "name": "stderr",
     "output_type": "stream",
     "text": [
      "Metric val_loss improved by 0.005 >= min_delta = 0. New best score: 8.206\n"
     ]
    },
    {
     "name": "stdout",
     "output_type": "stream",
     "text": [
      "Epoch 20: 100%|██████████| 66/66 [00:05<00:00, 12.18it/s, loss=7.7, v_num=17, train_loss_step=8.050, val_loss=8.160, train_loss_epoch=7.790] "
     ]
    },
    {
     "name": "stderr",
     "output_type": "stream",
     "text": [
      "Metric val_loss improved by 0.049 >= min_delta = 0. New best score: 8.158\n"
     ]
    },
    {
     "name": "stdout",
     "output_type": "stream",
     "text": [
      "Epoch 21: 100%|██████████| 66/66 [00:05<00:00, 11.91it/s, loss=7.65, v_num=17, train_loss_step=7.500, val_loss=8.140, train_loss_epoch=7.750]"
     ]
    },
    {
     "name": "stderr",
     "output_type": "stream",
     "text": [
      "Metric val_loss improved by 0.020 >= min_delta = 0. New best score: 8.138\n"
     ]
    },
    {
     "name": "stdout",
     "output_type": "stream",
     "text": [
      "Epoch 22: 100%|██████████| 66/66 [00:05<00:00, 11.88it/s, loss=7.71, v_num=17, train_loss_step=8.120, val_loss=8.070, train_loss_epoch=7.690]"
     ]
    },
    {
     "name": "stderr",
     "output_type": "stream",
     "text": [
      "Metric val_loss improved by 0.067 >= min_delta = 0. New best score: 8.070\n"
     ]
    },
    {
     "name": "stdout",
     "output_type": "stream",
     "text": [
      "Epoch 23: 100%|██████████| 66/66 [00:05<00:00, 11.99it/s, loss=7.62, v_num=17, train_loss_step=8.100, val_loss=8.050, train_loss_epoch=7.650]"
     ]
    },
    {
     "name": "stderr",
     "output_type": "stream",
     "text": [
      "Metric val_loss improved by 0.025 >= min_delta = 0. New best score: 8.045\n"
     ]
    },
    {
     "name": "stdout",
     "output_type": "stream",
     "text": [
      "Epoch 24: 100%|██████████| 66/66 [00:05<00:00, 12.18it/s, loss=7.56, v_num=17, train_loss_step=7.790, val_loss=8.020, train_loss_epoch=7.610]"
     ]
    },
    {
     "name": "stderr",
     "output_type": "stream",
     "text": [
      "Metric val_loss improved by 0.029 >= min_delta = 0. New best score: 8.016\n"
     ]
    },
    {
     "name": "stdout",
     "output_type": "stream",
     "text": [
      "Epoch 25: 100%|██████████| 66/66 [00:05<00:00, 11.79it/s, loss=7.6, v_num=17, train_loss_step=7.990, val_loss=8.000, train_loss_epoch=7.560] "
     ]
    },
    {
     "name": "stderr",
     "output_type": "stream",
     "text": [
      "Metric val_loss improved by 0.012 >= min_delta = 0. New best score: 8.004\n"
     ]
    },
    {
     "name": "stdout",
     "output_type": "stream",
     "text": [
      "Epoch 26: 100%|██████████| 66/66 [00:05<00:00, 12.21it/s, loss=7.48, v_num=17, train_loss_step=7.360, val_loss=7.980, train_loss_epoch=7.530]"
     ]
    },
    {
     "name": "stderr",
     "output_type": "stream",
     "text": [
      "Metric val_loss improved by 0.024 >= min_delta = 0. New best score: 7.980\n"
     ]
    },
    {
     "name": "stdout",
     "output_type": "stream",
     "text": [
      "Epoch 27: 100%|██████████| 66/66 [00:05<00:00, 12.40it/s, loss=7.51, v_num=17, train_loss_step=7.390, val_loss=7.970, train_loss_epoch=7.490]"
     ]
    },
    {
     "name": "stderr",
     "output_type": "stream",
     "text": [
      "Metric val_loss improved by 0.015 >= min_delta = 0. New best score: 7.965\n"
     ]
    },
    {
     "name": "stdout",
     "output_type": "stream",
     "text": [
      "Epoch 29: 100%|██████████| 66/66 [00:05<00:00, 11.51it/s, loss=7.36, v_num=17, train_loss_step=7.500, val_loss=7.960, train_loss_epoch=7.420]"
     ]
    },
    {
     "name": "stderr",
     "output_type": "stream",
     "text": [
      "Metric val_loss improved by 0.005 >= min_delta = 0. New best score: 7.960\n"
     ]
    },
    {
     "name": "stdout",
     "output_type": "stream",
     "text": [
      "Epoch 29: 100%|██████████| 66/66 [00:05<00:00, 11.51it/s, loss=7.36, v_num=17, train_loss_step=7.500, val_loss=7.960, train_loss_epoch=7.390]"
     ]
    },
    {
     "name": "stderr",
     "output_type": "stream",
     "text": [
      "`Trainer.fit` stopped: `max_epochs=30` reached.\n"
     ]
    },
    {
     "name": "stdout",
     "output_type": "stream",
     "text": [
      "Epoch 29: 100%|██████████| 66/66 [00:05<00:00, 11.38it/s, loss=7.36, v_num=17, train_loss_step=7.500, val_loss=7.960, train_loss_epoch=7.390]"
     ]
    },
    {
     "name": "stderr",
     "output_type": "stream",
     "text": [
      "\u001b[32m[I 2024-04-02 19:04:39,362]\u001b[0m Trial 17 finished with value: 45.1431770324707 and parameters: {'neu': 610, 'lay': 1, 'bat': 160, 'lr': 0.004240329117975164, 'dropout': 0.2}. Best is trial 2 with value: 21.622835159301758.\u001b[0m\n"
     ]
    },
    {
     "name": "stdout",
     "output_type": "stream",
     "text": [
      "\n"
     ]
    },
    {
     "name": "stderr",
     "output_type": "stream",
     "text": [
      "GPU available: True (cuda), used: True\n",
      "TPU available: False, using: 0 TPU cores\n",
      "IPU available: False, using: 0 IPUs\n",
      "HPU available: False, using: 0 HPUs\n",
      "`Trainer(limit_train_batches=1.0)` was configured so 100% of the batches per epoch will be used..\n",
      "`Trainer(limit_val_batches=1.0)` was configured so 100% of the batches will be used..\n",
      "LOCAL_RANK: 0 - CUDA_VISIBLE_DEVICES: [0]\n",
      "\n",
      "  | Name                   | Type                             | Params\n",
      "----------------------------------------------------------------------------\n",
      "0 | loss                   | NegativeBinomialDistributionLoss | 0     \n",
      "1 | logging_metrics        | ModuleList                       | 0     \n",
      "2 | embeddings             | MultiEmbedding                   | 728   \n",
      "3 | rnn                    | LSTM                             | 13.4 K\n",
      "4 | distribution_projector | Linear                           | 22    \n",
      "----------------------------------------------------------------------------\n",
      "14.2 K    Trainable params\n",
      "0         Non-trainable params\n",
      "14.2 K    Total params\n",
      "0.057     Total estimated model params size (MB)\n"
     ]
    },
    {
     "name": "stdout",
     "output_type": "stream",
     "text": [
      "Epoch 0: 100%|██████████| 22/22 [00:04<00:00,  4.43it/s, loss=1.11e+03, v_num=18, train_loss_step=1.03e+3, val_loss=1.21e+3]"
     ]
    },
    {
     "name": "stderr",
     "output_type": "stream",
     "text": [
      "Metric val_loss improved. New best score: 1210.874\n"
     ]
    },
    {
     "name": "stdout",
     "output_type": "stream",
     "text": [
      "Epoch 1: 100%|██████████| 22/22 [00:04<00:00,  4.41it/s, loss=1.03e+03, v_num=18, train_loss_step=983.0, val_loss=1.09e+3, train_loss_epoch=1.11e+3]  "
     ]
    },
    {
     "name": "stderr",
     "output_type": "stream",
     "text": [
      "Metric val_loss improved by 117.626 >= min_delta = 0. New best score: 1093.249\n"
     ]
    },
    {
     "name": "stdout",
     "output_type": "stream",
     "text": [
      "Epoch 2: 100%|██████████| 22/22 [00:05<00:00,  4.37it/s, loss=877, v_num=18, train_loss_step=683.0, val_loss=789.0, train_loss_epoch=1.01e+3]       "
     ]
    },
    {
     "name": "stderr",
     "output_type": "stream",
     "text": [
      "Metric val_loss improved by 303.838 >= min_delta = 0. New best score: 789.411\n"
     ]
    },
    {
     "name": "stdout",
     "output_type": "stream",
     "text": [
      "Epoch 3: 100%|██████████| 22/22 [00:04<00:00,  4.41it/s, loss=615, v_num=18, train_loss_step=401.0, val_loss=526.0, train_loss_epoch=845.0]  "
     ]
    },
    {
     "name": "stderr",
     "output_type": "stream",
     "text": [
      "Metric val_loss improved by 263.109 >= min_delta = 0. New best score: 526.302\n"
     ]
    },
    {
     "name": "stdout",
     "output_type": "stream",
     "text": [
      "Epoch 4: 100%|██████████| 22/22 [00:04<00:00,  4.51it/s, loss=371, v_num=18, train_loss_step=268.0, val_loss=263.0, train_loss_epoch=571.0]"
     ]
    },
    {
     "name": "stderr",
     "output_type": "stream",
     "text": [
      "Metric val_loss improved by 263.531 >= min_delta = 0. New best score: 262.771\n"
     ]
    },
    {
     "name": "stdout",
     "output_type": "stream",
     "text": [
      "Epoch 5: 100%|██████████| 22/22 [00:04<00:00,  4.49it/s, loss=208, v_num=18, train_loss_step=136.0, val_loss=174.0, train_loss_epoch=335.0]"
     ]
    },
    {
     "name": "stderr",
     "output_type": "stream",
     "text": [
      "Metric val_loss improved by 89.153 >= min_delta = 0. New best score: 173.618\n"
     ]
    },
    {
     "name": "stdout",
     "output_type": "stream",
     "text": [
      "Epoch 6: 100%|██████████| 22/22 [00:04<00:00,  4.55it/s, loss=130, v_num=18, train_loss_step=103.0, val_loss=106.0, train_loss_epoch=188.0]"
     ]
    },
    {
     "name": "stderr",
     "output_type": "stream",
     "text": [
      "Metric val_loss improved by 68.027 >= min_delta = 0. New best score: 105.591\n"
     ]
    },
    {
     "name": "stdout",
     "output_type": "stream",
     "text": [
      "Epoch 7: 100%|██████████| 22/22 [00:04<00:00,  4.53it/s, loss=85.8, v_num=18, train_loss_step=64.90, val_loss=78.40, train_loss_epoch=120.0]"
     ]
    },
    {
     "name": "stderr",
     "output_type": "stream",
     "text": [
      "Metric val_loss improved by 27.156 >= min_delta = 0. New best score: 78.435\n"
     ]
    },
    {
     "name": "stdout",
     "output_type": "stream",
     "text": [
      "Epoch 8: 100%|██████████| 22/22 [00:04<00:00,  4.43it/s, loss=61, v_num=18, train_loss_step=49.00, val_loss=53.60, train_loss_epoch=80.30]  "
     ]
    },
    {
     "name": "stderr",
     "output_type": "stream",
     "text": [
      "Metric val_loss improved by 24.826 >= min_delta = 0. New best score: 53.608\n"
     ]
    },
    {
     "name": "stdout",
     "output_type": "stream",
     "text": [
      "Epoch 9: 100%|██████████| 22/22 [00:04<00:00,  4.42it/s, loss=45.4, v_num=18, train_loss_step=36.70, val_loss=43.70, train_loss_epoch=57.70]"
     ]
    },
    {
     "name": "stderr",
     "output_type": "stream",
     "text": [
      "Metric val_loss improved by 9.921 >= min_delta = 0. New best score: 43.687\n"
     ]
    },
    {
     "name": "stdout",
     "output_type": "stream",
     "text": [
      "Epoch 10: 100%|██████████| 22/22 [00:05<00:00,  4.31it/s, loss=35.7, v_num=18, train_loss_step=33.00, val_loss=33.90, train_loss_epoch=43.00]"
     ]
    },
    {
     "name": "stderr",
     "output_type": "stream",
     "text": [
      "Metric val_loss improved by 9.830 >= min_delta = 0. New best score: 33.857\n"
     ]
    },
    {
     "name": "stdout",
     "output_type": "stream",
     "text": [
      "Epoch 11: 100%|██████████| 22/22 [00:07<00:00,  3.10it/s, loss=29.2, v_num=18, train_loss_step=25.60, val_loss=29.30, train_loss_epoch=34.50]"
     ]
    },
    {
     "name": "stderr",
     "output_type": "stream",
     "text": [
      "Metric val_loss improved by 4.514 >= min_delta = 0. New best score: 29.343\n"
     ]
    },
    {
     "name": "stdout",
     "output_type": "stream",
     "text": [
      "Epoch 12: 100%|██████████| 22/22 [00:04<00:00,  4.51it/s, loss=24.9, v_num=18, train_loss_step=25.10, val_loss=24.50, train_loss_epoch=28.30]"
     ]
    },
    {
     "name": "stderr",
     "output_type": "stream",
     "text": [
      "Metric val_loss improved by 4.865 >= min_delta = 0. New best score: 24.478\n"
     ]
    },
    {
     "name": "stdout",
     "output_type": "stream",
     "text": [
      "Epoch 13: 100%|██████████| 22/22 [00:04<00:00,  4.52it/s, loss=21.8, v_num=18, train_loss_step=21.20, val_loss=22.10, train_loss_epoch=24.30]"
     ]
    },
    {
     "name": "stderr",
     "output_type": "stream",
     "text": [
      "Metric val_loss improved by 2.393 >= min_delta = 0. New best score: 22.084\n"
     ]
    },
    {
     "name": "stdout",
     "output_type": "stream",
     "text": [
      "Epoch 14: 100%|██████████| 22/22 [00:04<00:00,  4.42it/s, loss=19.4, v_num=18, train_loss_step=17.60, val_loss=19.20, train_loss_epoch=21.10]"
     ]
    },
    {
     "name": "stderr",
     "output_type": "stream",
     "text": [
      "Metric val_loss improved by 2.845 >= min_delta = 0. New best score: 19.239\n"
     ]
    },
    {
     "name": "stdout",
     "output_type": "stream",
     "text": [
      "Epoch 15: 100%|██████████| 22/22 [00:05<00:00,  4.37it/s, loss=17.3, v_num=18, train_loss_step=15.80, val_loss=17.70, train_loss_epoch=19.00]"
     ]
    },
    {
     "name": "stderr",
     "output_type": "stream",
     "text": [
      "Metric val_loss improved by 1.553 >= min_delta = 0. New best score: 17.686\n"
     ]
    },
    {
     "name": "stdout",
     "output_type": "stream",
     "text": [
      "Epoch 16: 100%|██████████| 22/22 [00:04<00:00,  4.50it/s, loss=15.9, v_num=18, train_loss_step=14.90, val_loss=15.90, train_loss_epoch=17.00]"
     ]
    },
    {
     "name": "stderr",
     "output_type": "stream",
     "text": [
      "Metric val_loss improved by 1.740 >= min_delta = 0. New best score: 15.947\n"
     ]
    },
    {
     "name": "stdout",
     "output_type": "stream",
     "text": [
      "Epoch 17: 100%|██████████| 22/22 [00:05<00:00,  4.30it/s, loss=14.6, v_num=18, train_loss_step=14.00, val_loss=15.10, train_loss_epoch=15.70]"
     ]
    },
    {
     "name": "stderr",
     "output_type": "stream",
     "text": [
      "Metric val_loss improved by 0.883 >= min_delta = 0. New best score: 15.063\n"
     ]
    },
    {
     "name": "stdout",
     "output_type": "stream",
     "text": [
      "Epoch 18: 100%|██████████| 22/22 [00:04<00:00,  4.42it/s, loss=13.8, v_num=18, train_loss_step=13.70, val_loss=14.00, train_loss_epoch=14.50]"
     ]
    },
    {
     "name": "stderr",
     "output_type": "stream",
     "text": [
      "Metric val_loss improved by 1.027 >= min_delta = 0. New best score: 14.037\n"
     ]
    },
    {
     "name": "stdout",
     "output_type": "stream",
     "text": [
      "Epoch 19: 100%|██████████| 22/22 [00:04<00:00,  4.47it/s, loss=13.1, v_num=18, train_loss_step=13.20, val_loss=13.50, train_loss_epoch=13.70]"
     ]
    },
    {
     "name": "stderr",
     "output_type": "stream",
     "text": [
      "Metric val_loss improved by 0.537 >= min_delta = 0. New best score: 13.500\n"
     ]
    },
    {
     "name": "stdout",
     "output_type": "stream",
     "text": [
      "Epoch 20: 100%|██████████| 22/22 [00:04<00:00,  4.43it/s, loss=12.6, v_num=18, train_loss_step=12.30, val_loss=12.90, train_loss_epoch=13.00]"
     ]
    },
    {
     "name": "stderr",
     "output_type": "stream",
     "text": [
      "Metric val_loss improved by 0.641 >= min_delta = 0. New best score: 12.859\n"
     ]
    },
    {
     "name": "stdout",
     "output_type": "stream",
     "text": [
      "Epoch 21: 100%|██████████| 22/22 [00:04<00:00,  4.41it/s, loss=12.1, v_num=18, train_loss_step=11.60, val_loss=12.50, train_loss_epoch=12.50]"
     ]
    },
    {
     "name": "stderr",
     "output_type": "stream",
     "text": [
      "Metric val_loss improved by 0.344 >= min_delta = 0. New best score: 12.515\n"
     ]
    },
    {
     "name": "stdout",
     "output_type": "stream",
     "text": [
      "Epoch 22: 100%|██████████| 22/22 [00:04<00:00,  4.54it/s, loss=11.8, v_num=18, train_loss_step=11.50, val_loss=12.10, train_loss_epoch=12.10]"
     ]
    },
    {
     "name": "stderr",
     "output_type": "stream",
     "text": [
      "Metric val_loss improved by 0.419 >= min_delta = 0. New best score: 12.095\n"
     ]
    },
    {
     "name": "stdout",
     "output_type": "stream",
     "text": [
      "Epoch 23: 100%|██████████| 22/22 [00:05<00:00,  4.32it/s, loss=11.5, v_num=18, train_loss_step=11.30, val_loss=11.90, train_loss_epoch=11.80]"
     ]
    },
    {
     "name": "stderr",
     "output_type": "stream",
     "text": [
      "Metric val_loss improved by 0.229 >= min_delta = 0. New best score: 11.866\n"
     ]
    },
    {
     "name": "stdout",
     "output_type": "stream",
     "text": [
      "Epoch 24: 100%|██████████| 22/22 [00:04<00:00,  4.52it/s, loss=11.3, v_num=18, train_loss_step=11.00, val_loss=11.60, train_loss_epoch=11.50]"
     ]
    },
    {
     "name": "stderr",
     "output_type": "stream",
     "text": [
      "Metric val_loss improved by 0.283 >= min_delta = 0. New best score: 11.583\n"
     ]
    },
    {
     "name": "stdout",
     "output_type": "stream",
     "text": [
      "Epoch 25: 100%|██████████| 22/22 [00:04<00:00,  4.52it/s, loss=11.1, v_num=18, train_loss_step=11.00, val_loss=11.40, train_loss_epoch=11.30]"
     ]
    },
    {
     "name": "stderr",
     "output_type": "stream",
     "text": [
      "Metric val_loss improved by 0.157 >= min_delta = 0. New best score: 11.426\n"
     ]
    },
    {
     "name": "stdout",
     "output_type": "stream",
     "text": [
      "Epoch 26: 100%|██████████| 22/22 [00:04<00:00,  4.50it/s, loss=10.9, v_num=18, train_loss_step=10.80, val_loss=11.20, train_loss_epoch=11.10]"
     ]
    },
    {
     "name": "stderr",
     "output_type": "stream",
     "text": [
      "Metric val_loss improved by 0.196 >= min_delta = 0. New best score: 11.231\n"
     ]
    },
    {
     "name": "stdout",
     "output_type": "stream",
     "text": [
      "Epoch 27: 100%|██████████| 22/22 [00:04<00:00,  4.41it/s, loss=10.8, v_num=18, train_loss_step=10.80, val_loss=11.10, train_loss_epoch=10.90]"
     ]
    },
    {
     "name": "stderr",
     "output_type": "stream",
     "text": [
      "Metric val_loss improved by 0.110 >= min_delta = 0. New best score: 11.121\n"
     ]
    },
    {
     "name": "stdout",
     "output_type": "stream",
     "text": [
      "Epoch 28: 100%|██████████| 22/22 [00:04<00:00,  4.44it/s, loss=10.7, v_num=18, train_loss_step=10.50, val_loss=11.00, train_loss_epoch=10.80]"
     ]
    },
    {
     "name": "stderr",
     "output_type": "stream",
     "text": [
      "Metric val_loss improved by 0.138 >= min_delta = 0. New best score: 10.983\n"
     ]
    },
    {
     "name": "stdout",
     "output_type": "stream",
     "text": [
      "Epoch 29: 100%|██████████| 22/22 [00:04<00:00,  4.43it/s, loss=10.6, v_num=18, train_loss_step=10.40, val_loss=10.90, train_loss_epoch=10.70]"
     ]
    },
    {
     "name": "stderr",
     "output_type": "stream",
     "text": [
      "Metric val_loss improved by 0.078 >= min_delta = 0. New best score: 10.905\n"
     ]
    },
    {
     "name": "stdout",
     "output_type": "stream",
     "text": [
      "Epoch 29: 100%|██████████| 22/22 [00:04<00:00,  4.43it/s, loss=10.6, v_num=18, train_loss_step=10.40, val_loss=10.90, train_loss_epoch=10.60]"
     ]
    },
    {
     "name": "stderr",
     "output_type": "stream",
     "text": [
      "`Trainer.fit` stopped: `max_epochs=30` reached.\n"
     ]
    },
    {
     "name": "stdout",
     "output_type": "stream",
     "text": [
      "Epoch 29: 100%|██████████| 22/22 [00:04<00:00,  4.42it/s, loss=10.6, v_num=18, train_loss_step=10.40, val_loss=10.90, train_loss_epoch=10.60]"
     ]
    },
    {
     "name": "stderr",
     "output_type": "stream",
     "text": [
      "\u001b[32m[I 2024-04-02 19:07:12,232]\u001b[0m Trial 18 pruned. \u001b[0m\n"
     ]
    },
    {
     "name": "stdout",
     "output_type": "stream",
     "text": [
      "\n"
     ]
    },
    {
     "name": "stderr",
     "output_type": "stream",
     "text": [
      "GPU available: True (cuda), used: True\n",
      "TPU available: False, using: 0 TPU cores\n",
      "IPU available: False, using: 0 IPUs\n",
      "HPU available: False, using: 0 HPUs\n",
      "`Trainer(limit_train_batches=1.0)` was configured so 100% of the batches per epoch will be used..\n",
      "`Trainer(limit_val_batches=1.0)` was configured so 100% of the batches will be used..\n",
      "LOCAL_RANK: 0 - CUDA_VISIBLE_DEVICES: [0]\n",
      "\n",
      "  | Name                   | Type                             | Params\n",
      "----------------------------------------------------------------------------\n",
      "0 | loss                   | NegativeBinomialDistributionLoss | 0     \n",
      "1 | logging_metrics        | ModuleList                       | 0     \n",
      "2 | embeddings             | MultiEmbedding                   | 728   \n",
      "3 | rnn                    | LSTM                             | 13.9 M\n",
      "4 | distribution_projector | Linear                           | 1.6 K \n",
      "----------------------------------------------------------------------------\n",
      "13.9 M    Trainable params\n",
      "0         Non-trainable params\n",
      "13.9 M    Total params\n",
      "55.621    Total estimated model params size (MB)\n"
     ]
    },
    {
     "name": "stdout",
     "output_type": "stream",
     "text": [
      "Epoch 0: 100%|██████████| 12/12 [00:04<00:00,  2.43it/s, loss=989, v_num=19, train_loss_step=718.0, val_loss=586.0]"
     ]
    },
    {
     "name": "stderr",
     "output_type": "stream",
     "text": [
      "Metric val_loss improved. New best score: 585.815\n"
     ]
    },
    {
     "name": "stdout",
     "output_type": "stream",
     "text": [
      "Epoch 1: 100%|██████████| 12/12 [00:04<00:00,  2.45it/s, loss=593, v_num=19, train_loss_step=31.70, val_loss=23.60, train_loss_epoch=989.0]"
     ]
    },
    {
     "name": "stderr",
     "output_type": "stream",
     "text": [
      "Metric val_loss improved by 562.228 >= min_delta = 0. New best score: 23.587\n"
     ]
    },
    {
     "name": "stdout",
     "output_type": "stream",
     "text": [
      "Epoch 2: 100%|██████████| 12/12 [00:04<00:00,  2.47it/s, loss=271, v_num=19, train_loss_step=10.70, val_loss=12.20, train_loss_epoch=197.0]"
     ]
    },
    {
     "name": "stderr",
     "output_type": "stream",
     "text": [
      "Metric val_loss improved by 11.376 >= min_delta = 0. New best score: 12.212\n"
     ]
    },
    {
     "name": "stdout",
     "output_type": "stream",
     "text": [
      "Epoch 3: 100%|██████████| 12/12 [00:05<00:00,  2.40it/s, loss=29.4, v_num=19, train_loss_step=10.40, val_loss=10.60, train_loss_epoch=15.90]"
     ]
    },
    {
     "name": "stderr",
     "output_type": "stream",
     "text": [
      "Metric val_loss improved by 1.651 >= min_delta = 0. New best score: 10.560\n"
     ]
    },
    {
     "name": "stdout",
     "output_type": "stream",
     "text": [
      "Epoch 4: 100%|██████████| 12/12 [00:05<00:00,  2.38it/s, loss=10.7, v_num=19, train_loss_step=10.10, val_loss=10.20, train_loss_epoch=10.70]"
     ]
    },
    {
     "name": "stderr",
     "output_type": "stream",
     "text": [
      "Metric val_loss improved by 0.313 >= min_delta = 0. New best score: 10.248\n"
     ]
    },
    {
     "name": "stdout",
     "output_type": "stream",
     "text": [
      "Epoch 5: 100%|██████████| 12/12 [00:04<00:00,  2.44it/s, loss=10.1, v_num=19, train_loss_step=9.790, val_loss=10.00, train_loss_epoch=10.20]"
     ]
    },
    {
     "name": "stderr",
     "output_type": "stream",
     "text": [
      "Metric val_loss improved by 0.198 >= min_delta = 0. New best score: 10.050\n"
     ]
    },
    {
     "name": "stdout",
     "output_type": "stream",
     "text": [
      "Epoch 6: 100%|██████████| 12/12 [00:06<00:00,  1.74it/s, loss=9.85, v_num=19, train_loss_step=9.420, val_loss=9.820, train_loss_epoch=9.910]"
     ]
    },
    {
     "name": "stderr",
     "output_type": "stream",
     "text": [
      "Metric val_loss improved by 0.225 >= min_delta = 0. New best score: 9.824\n"
     ]
    },
    {
     "name": "stdout",
     "output_type": "stream",
     "text": [
      "Epoch 7: 100%|██████████| 12/12 [00:05<00:00,  2.36it/s, loss=9.63, v_num=19, train_loss_step=9.340, val_loss=9.500, train_loss_epoch=9.620]"
     ]
    },
    {
     "name": "stderr",
     "output_type": "stream",
     "text": [
      "Metric val_loss improved by 0.323 >= min_delta = 0. New best score: 9.502\n"
     ]
    },
    {
     "name": "stdout",
     "output_type": "stream",
     "text": [
      "Epoch 8: 100%|██████████| 12/12 [00:05<00:00,  2.30it/s, loss=9.41, v_num=19, train_loss_step=9.060, val_loss=9.420, train_loss_epoch=9.540]"
     ]
    },
    {
     "name": "stderr",
     "output_type": "stream",
     "text": [
      "Metric val_loss improved by 0.078 >= min_delta = 0. New best score: 9.424\n"
     ]
    },
    {
     "name": "stdout",
     "output_type": "stream",
     "text": [
      "Epoch 9: 100%|██████████| 12/12 [00:04<00:00,  2.41it/s, loss=9.16, v_num=19, train_loss_step=8.980, val_loss=9.240, train_loss_epoch=9.190]"
     ]
    },
    {
     "name": "stderr",
     "output_type": "stream",
     "text": [
      "Metric val_loss improved by 0.186 >= min_delta = 0. New best score: 9.238\n"
     ]
    },
    {
     "name": "stdout",
     "output_type": "stream",
     "text": [
      "Epoch 10: 100%|██████████| 12/12 [00:04<00:00,  2.41it/s, loss=8.98, v_num=19, train_loss_step=8.830, val_loss=9.050, train_loss_epoch=9.030]"
     ]
    },
    {
     "name": "stderr",
     "output_type": "stream",
     "text": [
      "Metric val_loss improved by 0.190 >= min_delta = 0. New best score: 9.047\n"
     ]
    },
    {
     "name": "stdout",
     "output_type": "stream",
     "text": [
      "Epoch 11: 100%|██████████| 12/12 [00:04<00:00,  2.45it/s, loss=8.85, v_num=19, train_loss_step=8.690, val_loss=8.990, train_loss_epoch=8.880]"
     ]
    },
    {
     "name": "stderr",
     "output_type": "stream",
     "text": [
      "Metric val_loss improved by 0.054 >= min_delta = 0. New best score: 8.993\n"
     ]
    },
    {
     "name": "stdout",
     "output_type": "stream",
     "text": [
      "Epoch 12: 100%|██████████| 12/12 [00:04<00:00,  2.49it/s, loss=8.74, v_num=19, train_loss_step=8.560, val_loss=8.920, train_loss_epoch=8.750]"
     ]
    },
    {
     "name": "stderr",
     "output_type": "stream",
     "text": [
      "Metric val_loss improved by 0.076 >= min_delta = 0. New best score: 8.917\n"
     ]
    },
    {
     "name": "stdout",
     "output_type": "stream",
     "text": [
      "Epoch 13: 100%|██████████| 12/12 [00:05<00:00,  2.39it/s, loss=8.65, v_num=19, train_loss_step=8.620, val_loss=8.790, train_loss_epoch=8.670]"
     ]
    },
    {
     "name": "stderr",
     "output_type": "stream",
     "text": [
      "Metric val_loss improved by 0.123 >= min_delta = 0. New best score: 8.794\n"
     ]
    },
    {
     "name": "stdout",
     "output_type": "stream",
     "text": [
      "Epoch 14: 100%|██████████| 12/12 [00:05<00:00,  2.38it/s, loss=8.57, v_num=19, train_loss_step=8.410, val_loss=8.770, train_loss_epoch=8.590]"
     ]
    },
    {
     "name": "stderr",
     "output_type": "stream",
     "text": [
      "Metric val_loss improved by 0.026 >= min_delta = 0. New best score: 8.768\n"
     ]
    },
    {
     "name": "stdout",
     "output_type": "stream",
     "text": [
      "Epoch 15: 100%|██████████| 12/12 [00:04<00:00,  2.46it/s, loss=8.52, v_num=19, train_loss_step=8.440, val_loss=8.740, train_loss_epoch=8.530]"
     ]
    },
    {
     "name": "stderr",
     "output_type": "stream",
     "text": [
      "Metric val_loss improved by 0.023 >= min_delta = 0. New best score: 8.745\n"
     ]
    },
    {
     "name": "stdout",
     "output_type": "stream",
     "text": [
      "Epoch 16: 100%|██████████| 12/12 [00:04<00:00,  2.44it/s, loss=8.47, v_num=19, train_loss_step=8.460, val_loss=8.660, train_loss_epoch=8.490]"
     ]
    },
    {
     "name": "stderr",
     "output_type": "stream",
     "text": [
      "Metric val_loss improved by 0.081 >= min_delta = 0. New best score: 8.663\n"
     ]
    },
    {
     "name": "stdout",
     "output_type": "stream",
     "text": [
      "Epoch 17: 100%|██████████| 12/12 [00:04<00:00,  2.46it/s, loss=8.43, v_num=19, train_loss_step=8.400, val_loss=8.650, train_loss_epoch=8.440]"
     ]
    },
    {
     "name": "stderr",
     "output_type": "stream",
     "text": [
      "Metric val_loss improved by 0.016 >= min_delta = 0. New best score: 8.648\n"
     ]
    },
    {
     "name": "stdout",
     "output_type": "stream",
     "text": [
      "Epoch 19: 100%|██████████| 12/12 [00:04<00:00,  2.42it/s, loss=8.37, v_num=19, train_loss_step=8.410, val_loss=8.580, train_loss_epoch=8.390]"
     ]
    },
    {
     "name": "stderr",
     "output_type": "stream",
     "text": [
      "Metric val_loss improved by 0.066 >= min_delta = 0. New best score: 8.582\n"
     ]
    },
    {
     "name": "stdout",
     "output_type": "stream",
     "text": [
      "Epoch 20: 100%|██████████| 12/12 [00:04<00:00,  2.46it/s, loss=8.35, v_num=19, train_loss_step=8.340, val_loss=8.570, train_loss_epoch=8.350]"
     ]
    },
    {
     "name": "stderr",
     "output_type": "stream",
     "text": [
      "Metric val_loss improved by 0.010 >= min_delta = 0. New best score: 8.572\n"
     ]
    },
    {
     "name": "stdout",
     "output_type": "stream",
     "text": [
      "Epoch 22: 100%|██████████| 12/12 [00:04<00:00,  2.42it/s, loss=8.32, v_num=19, train_loss_step=8.250, val_loss=8.530, train_loss_epoch=8.320]"
     ]
    },
    {
     "name": "stderr",
     "output_type": "stream",
     "text": [
      "Metric val_loss improved by 0.044 >= min_delta = 0. New best score: 8.528\n"
     ]
    },
    {
     "name": "stdout",
     "output_type": "stream",
     "text": [
      "Epoch 23: 100%|██████████| 12/12 [00:04<00:00,  2.45it/s, loss=8.3, v_num=19, train_loss_step=8.330, val_loss=8.520, train_loss_epoch=8.300] "
     ]
    },
    {
     "name": "stderr",
     "output_type": "stream",
     "text": [
      "Metric val_loss improved by 0.008 >= min_delta = 0. New best score: 8.519\n"
     ]
    },
    {
     "name": "stdout",
     "output_type": "stream",
     "text": [
      "Epoch 25: 100%|██████████| 12/12 [00:04<00:00,  2.44it/s, loss=8.27, v_num=19, train_loss_step=8.220, val_loss=8.480, train_loss_epoch=8.280]"
     ]
    },
    {
     "name": "stderr",
     "output_type": "stream",
     "text": [
      "Metric val_loss improved by 0.035 >= min_delta = 0. New best score: 8.485\n"
     ]
    },
    {
     "name": "stdout",
     "output_type": "stream",
     "text": [
      "Epoch 26: 100%|██████████| 12/12 [00:06<00:00,  1.77it/s, loss=8.26, v_num=19, train_loss_step=8.260, val_loss=8.480, train_loss_epoch=8.260]"
     ]
    },
    {
     "name": "stderr",
     "output_type": "stream",
     "text": [
      "Metric val_loss improved by 0.008 >= min_delta = 0. New best score: 8.477\n"
     ]
    },
    {
     "name": "stdout",
     "output_type": "stream",
     "text": [
      "Epoch 28: 100%|██████████| 12/12 [00:05<00:00,  2.38it/s, loss=8.24, v_num=19, train_loss_step=8.200, val_loss=8.450, train_loss_epoch=8.240]"
     ]
    },
    {
     "name": "stderr",
     "output_type": "stream",
     "text": [
      "Metric val_loss improved by 0.027 >= min_delta = 0. New best score: 8.450\n"
     ]
    },
    {
     "name": "stdout",
     "output_type": "stream",
     "text": [
      "Epoch 29: 100%|██████████| 12/12 [00:04<00:00,  2.45it/s, loss=8.22, v_num=19, train_loss_step=8.220, val_loss=8.440, train_loss_epoch=8.220]"
     ]
    },
    {
     "name": "stderr",
     "output_type": "stream",
     "text": [
      "Metric val_loss improved by 0.007 >= min_delta = 0. New best score: 8.443\n"
     ]
    },
    {
     "name": "stdout",
     "output_type": "stream",
     "text": [
      "Epoch 29: 100%|██████████| 12/12 [00:04<00:00,  2.44it/s, loss=8.22, v_num=19, train_loss_step=8.220, val_loss=8.440, train_loss_epoch=8.220]"
     ]
    },
    {
     "name": "stderr",
     "output_type": "stream",
     "text": [
      "`Trainer.fit` stopped: `max_epochs=30` reached.\n"
     ]
    },
    {
     "name": "stdout",
     "output_type": "stream",
     "text": [
      "Epoch 29: 100%|██████████| 12/12 [00:06<00:00,  1.91it/s, loss=8.22, v_num=19, train_loss_step=8.220, val_loss=8.440, train_loss_epoch=8.220]"
     ]
    },
    {
     "name": "stderr",
     "output_type": "stream",
     "text": [
      "\u001b[32m[I 2024-04-02 19:10:28,543]\u001b[0m Trial 19 pruned. \u001b[0m\n"
     ]
    },
    {
     "name": "stdout",
     "output_type": "stream",
     "text": [
      "\n"
     ]
    },
    {
     "name": "stderr",
     "output_type": "stream",
     "text": [
      "GPU available: True (cuda), used: True\n",
      "TPU available: False, using: 0 TPU cores\n",
      "IPU available: False, using: 0 IPUs\n",
      "HPU available: False, using: 0 HPUs\n",
      "`Trainer(limit_train_batches=1.0)` was configured so 100% of the batches per epoch will be used..\n",
      "`Trainer(limit_val_batches=1.0)` was configured so 100% of the batches will be used..\n",
      "LOCAL_RANK: 0 - CUDA_VISIBLE_DEVICES: [0]\n",
      "\n",
      "  | Name                   | Type                             | Params\n",
      "----------------------------------------------------------------------------\n",
      "0 | loss                   | NegativeBinomialDistributionLoss | 0     \n",
      "1 | logging_metrics        | ModuleList                       | 0     \n",
      "2 | embeddings             | MultiEmbedding                   | 728   \n",
      "3 | rnn                    | LSTM                             | 1.1 M \n",
      "4 | distribution_projector | Linear                           | 822   \n",
      "----------------------------------------------------------------------------\n",
      "1.1 M     Trainable params\n",
      "0         Non-trainable params\n",
      "1.1 M     Total params\n",
      "4.251     Total estimated model params size (MB)\n"
     ]
    },
    {
     "name": "stdout",
     "output_type": "stream",
     "text": [
      "Epoch 0: 100%|██████████| 82/82 [00:05<00:00, 14.17it/s, loss=74.5, v_num=20, train_loss_step=41.10, val_loss=41.00]"
     ]
    },
    {
     "name": "stderr",
     "output_type": "stream",
     "text": [
      "Metric val_loss improved. New best score: 41.040\n"
     ]
    },
    {
     "name": "stdout",
     "output_type": "stream",
     "text": [
      "Epoch 1: 100%|██████████| 82/82 [00:05<00:00, 14.35it/s, loss=12.2, v_num=20, train_loss_step=11.40, val_loss=12.00, train_loss_epoch=325.0]"
     ]
    },
    {
     "name": "stderr",
     "output_type": "stream",
     "text": [
      "Metric val_loss improved by 29.058 >= min_delta = 0. New best score: 11.982\n"
     ]
    },
    {
     "name": "stdout",
     "output_type": "stream",
     "text": [
      "Epoch 2: 100%|██████████| 82/82 [00:05<00:00, 14.37it/s, loss=9.71, v_num=20, train_loss_step=9.420, val_loss=9.840, train_loss_epoch=18.30]"
     ]
    },
    {
     "name": "stderr",
     "output_type": "stream",
     "text": [
      "Metric val_loss improved by 2.142 >= min_delta = 0. New best score: 9.840\n"
     ]
    },
    {
     "name": "stdout",
     "output_type": "stream",
     "text": [
      "Epoch 3: 100%|██████████| 82/82 [00:05<00:00, 14.88it/s, loss=9, v_num=20, train_loss_step=8.790, val_loss=9.180, train_loss_epoch=10.30]   "
     ]
    },
    {
     "name": "stderr",
     "output_type": "stream",
     "text": [
      "Metric val_loss improved by 0.662 >= min_delta = 0. New best score: 9.178\n"
     ]
    },
    {
     "name": "stdout",
     "output_type": "stream",
     "text": [
      "Epoch 4: 100%|██████████| 82/82 [00:05<00:00, 14.46it/s, loss=8.61, v_num=20, train_loss_step=8.490, val_loss=8.880, train_loss_epoch=9.150]"
     ]
    },
    {
     "name": "stderr",
     "output_type": "stream",
     "text": [
      "Metric val_loss improved by 0.293 >= min_delta = 0. New best score: 8.885\n"
     ]
    },
    {
     "name": "stdout",
     "output_type": "stream",
     "text": [
      "Epoch 5: 100%|██████████| 82/82 [00:05<00:00, 13.97it/s, loss=8.42, v_num=20, train_loss_step=8.660, val_loss=8.720, train_loss_epoch=8.720]"
     ]
    },
    {
     "name": "stderr",
     "output_type": "stream",
     "text": [
      "Metric val_loss improved by 0.161 >= min_delta = 0. New best score: 8.724\n"
     ]
    },
    {
     "name": "stdout",
     "output_type": "stream",
     "text": [
      "Epoch 6: 100%|██████████| 82/82 [00:05<00:00, 14.30it/s, loss=8.24, v_num=20, train_loss_step=8.250, val_loss=8.640, train_loss_epoch=8.510]"
     ]
    },
    {
     "name": "stderr",
     "output_type": "stream",
     "text": [
      "Metric val_loss improved by 0.083 >= min_delta = 0. New best score: 8.641\n"
     ]
    },
    {
     "name": "stdout",
     "output_type": "stream",
     "text": [
      "Epoch 7: 100%|██████████| 82/82 [00:05<00:00, 13.92it/s, loss=8.16, v_num=20, train_loss_step=7.870, val_loss=8.480, train_loss_epoch=8.350]"
     ]
    },
    {
     "name": "stderr",
     "output_type": "stream",
     "text": [
      "Metric val_loss improved by 0.157 >= min_delta = 0. New best score: 8.484\n"
     ]
    },
    {
     "name": "stdout",
     "output_type": "stream",
     "text": [
      "Epoch 8: 100%|██████████| 82/82 [00:05<00:00, 14.54it/s, loss=8.12, v_num=20, train_loss_step=7.970, val_loss=8.400, train_loss_epoch=8.210]"
     ]
    },
    {
     "name": "stderr",
     "output_type": "stream",
     "text": [
      "Metric val_loss improved by 0.081 >= min_delta = 0. New best score: 8.403\n"
     ]
    },
    {
     "name": "stdout",
     "output_type": "stream",
     "text": [
      "Epoch 9: 100%|██████████| 82/82 [00:05<00:00, 14.60it/s, loss=7.97, v_num=20, train_loss_step=8.100, val_loss=8.320, train_loss_epoch=8.100]"
     ]
    },
    {
     "name": "stderr",
     "output_type": "stream",
     "text": [
      "Metric val_loss improved by 0.080 >= min_delta = 0. New best score: 8.323\n"
     ]
    },
    {
     "name": "stdout",
     "output_type": "stream",
     "text": [
      "Epoch 10: 100%|██████████| 82/82 [00:05<00:00, 14.70it/s, loss=7.9, v_num=20, train_loss_step=7.810, val_loss=8.250, train_loss_epoch=8.010] "
     ]
    },
    {
     "name": "stderr",
     "output_type": "stream",
     "text": [
      "Metric val_loss improved by 0.074 >= min_delta = 0. New best score: 8.250\n"
     ]
    },
    {
     "name": "stdout",
     "output_type": "stream",
     "text": [
      "Epoch 11: 100%|██████████| 82/82 [00:05<00:00, 14.42it/s, loss=7.8, v_num=20, train_loss_step=7.690, val_loss=8.220, train_loss_epoch=7.920] "
     ]
    },
    {
     "name": "stderr",
     "output_type": "stream",
     "text": [
      "Metric val_loss improved by 0.033 >= min_delta = 0. New best score: 8.217\n"
     ]
    },
    {
     "name": "stdout",
     "output_type": "stream",
     "text": [
      "Epoch 12: 100%|██████████| 82/82 [00:05<00:00, 14.09it/s, loss=7.72, v_num=20, train_loss_step=7.840, val_loss=8.160, train_loss_epoch=7.840]"
     ]
    },
    {
     "name": "stderr",
     "output_type": "stream",
     "text": [
      "Metric val_loss improved by 0.058 >= min_delta = 0. New best score: 8.159\n"
     ]
    },
    {
     "name": "stdout",
     "output_type": "stream",
     "text": [
      "Epoch 13: 100%|██████████| 82/82 [00:05<00:00, 14.49it/s, loss=7.74, v_num=20, train_loss_step=7.600, val_loss=8.110, train_loss_epoch=7.760]"
     ]
    },
    {
     "name": "stderr",
     "output_type": "stream",
     "text": [
      "Metric val_loss improved by 0.052 >= min_delta = 0. New best score: 8.107\n"
     ]
    },
    {
     "name": "stdout",
     "output_type": "stream",
     "text": [
      "Epoch 15: 100%|██████████| 82/82 [00:05<00:00, 14.31it/s, loss=7.54, v_num=20, train_loss_step=7.550, val_loss=8.060, train_loss_epoch=7.640]"
     ]
    },
    {
     "name": "stderr",
     "output_type": "stream",
     "text": [
      "Metric val_loss improved by 0.043 >= min_delta = 0. New best score: 8.065\n"
     ]
    },
    {
     "name": "stdout",
     "output_type": "stream",
     "text": [
      "Epoch 17: 100%|██████████| 82/82 [00:05<00:00, 13.98it/s, loss=7.42, v_num=20, train_loss_step=6.940, val_loss=7.970, train_loss_epoch=7.530]"
     ]
    },
    {
     "name": "stderr",
     "output_type": "stream",
     "text": [
      "Metric val_loss improved by 0.094 >= min_delta = 0. New best score: 7.971\n"
     ]
    },
    {
     "name": "stdout",
     "output_type": "stream",
     "text": [
      "Epoch 18: 100%|██████████| 82/82 [00:05<00:00, 14.36it/s, loss=7.39, v_num=20, train_loss_step=7.560, val_loss=7.970, train_loss_epoch=7.470]"
     ]
    },
    {
     "name": "stderr",
     "output_type": "stream",
     "text": [
      "Metric val_loss improved by 0.005 >= min_delta = 0. New best score: 7.966\n"
     ]
    },
    {
     "name": "stdout",
     "output_type": "stream",
     "text": [
      "Epoch 19: 100%|██████████| 82/82 [00:05<00:00, 14.29it/s, loss=7.36, v_num=20, train_loss_step=7.680, val_loss=7.910, train_loss_epoch=7.420]"
     ]
    },
    {
     "name": "stderr",
     "output_type": "stream",
     "text": [
      "Metric val_loss improved by 0.054 >= min_delta = 0. New best score: 7.911\n"
     ]
    },
    {
     "name": "stdout",
     "output_type": "stream",
     "text": [
      "Epoch 20: 100%|██████████| 82/82 [00:05<00:00, 14.15it/s, loss=7.33, v_num=20, train_loss_step=7.300, val_loss=7.880, train_loss_epoch=7.390]"
     ]
    },
    {
     "name": "stderr",
     "output_type": "stream",
     "text": [
      "Metric val_loss improved by 0.029 >= min_delta = 0. New best score: 7.882\n"
     ]
    },
    {
     "name": "stdout",
     "output_type": "stream",
     "text": [
      "Epoch 21: 100%|██████████| 82/82 [00:05<00:00, 14.44it/s, loss=7.3, v_num=20, train_loss_step=7.620, val_loss=7.870, train_loss_epoch=7.340] "
     ]
    },
    {
     "name": "stderr",
     "output_type": "stream",
     "text": [
      "Metric val_loss improved by 0.011 >= min_delta = 0. New best score: 7.871\n"
     ]
    },
    {
     "name": "stdout",
     "output_type": "stream",
     "text": [
      "Epoch 24: 100%|██████████| 82/82 [00:05<00:00, 14.11it/s, loss=7.12, v_num=20, train_loss_step=7.240, val_loss=7.850, train_loss_epoch=7.220]"
     ]
    },
    {
     "name": "stderr",
     "output_type": "stream",
     "text": [
      "Metric val_loss improved by 0.020 >= min_delta = 0. New best score: 7.851\n"
     ]
    },
    {
     "name": "stdout",
     "output_type": "stream",
     "text": [
      "Epoch 25: 100%|██████████| 82/82 [00:05<00:00, 13.71it/s, loss=7.11, v_num=20, train_loss_step=7.220, val_loss=7.770, train_loss_epoch=7.170]"
     ]
    },
    {
     "name": "stderr",
     "output_type": "stream",
     "text": [
      "Metric val_loss improved by 0.083 >= min_delta = 0. New best score: 7.769\n"
     ]
    },
    {
     "name": "stdout",
     "output_type": "stream",
     "text": [
      "Epoch 27: 100%|██████████| 82/82 [00:05<00:00, 14.51it/s, loss=7.02, v_num=20, train_loss_step=7.300, val_loss=7.750, train_loss_epoch=7.090]"
     ]
    },
    {
     "name": "stderr",
     "output_type": "stream",
     "text": [
      "Metric val_loss improved by 0.018 >= min_delta = 0. New best score: 7.751\n"
     ]
    },
    {
     "name": "stdout",
     "output_type": "stream",
     "text": [
      "Epoch 29: 100%|██████████| 82/82 [00:05<00:00, 14.25it/s, loss=7.03, v_num=20, train_loss_step=7.040, val_loss=7.660, train_loss_epoch=7.030]"
     ]
    },
    {
     "name": "stderr",
     "output_type": "stream",
     "text": [
      "Metric val_loss improved by 0.092 >= min_delta = 0. New best score: 7.658\n"
     ]
    },
    {
     "name": "stdout",
     "output_type": "stream",
     "text": [
      "Epoch 29: 100%|██████████| 82/82 [00:05<00:00, 14.24it/s, loss=7.03, v_num=20, train_loss_step=7.040, val_loss=7.660, train_loss_epoch=6.980]"
     ]
    },
    {
     "name": "stderr",
     "output_type": "stream",
     "text": [
      "`Trainer.fit` stopped: `max_epochs=30` reached.\n"
     ]
    },
    {
     "name": "stdout",
     "output_type": "stream",
     "text": [
      "Epoch 29: 100%|██████████| 82/82 [00:05<00:00, 14.17it/s, loss=7.03, v_num=20, train_loss_step=7.040, val_loss=7.660, train_loss_epoch=6.980]\n"
     ]
    },
    {
     "name": "stderr",
     "output_type": "stream",
     "text": [
      "\u001b[32m[I 2024-04-02 19:13:22,668]\u001b[0m Trial 20 finished with value: 36.98432922363281 and parameters: {'neu': 410, 'lay': 1, 'bat': 128, 'lr': 0.010810608592183708, 'dropout': 0.4}. Best is trial 2 with value: 21.622835159301758.\u001b[0m\n",
      "GPU available: True (cuda), used: True\n",
      "TPU available: False, using: 0 TPU cores\n",
      "IPU available: False, using: 0 IPUs\n",
      "HPU available: False, using: 0 HPUs\n",
      "`Trainer(limit_train_batches=1.0)` was configured so 100% of the batches per epoch will be used..\n",
      "`Trainer(limit_val_batches=1.0)` was configured so 100% of the batches will be used..\n",
      "LOCAL_RANK: 0 - CUDA_VISIBLE_DEVICES: [0]\n",
      "\n",
      "  | Name                   | Type                             | Params\n",
      "----------------------------------------------------------------------------\n",
      "0 | loss                   | NegativeBinomialDistributionLoss | 0     \n",
      "1 | logging_metrics        | ModuleList                       | 0     \n",
      "2 | embeddings             | MultiEmbedding                   | 728   \n",
      "3 | rnn                    | LSTM                             | 2.7 M \n",
      "4 | distribution_projector | Linear                           | 1.4 K \n",
      "----------------------------------------------------------------------------\n",
      "2.7 M     Trainable params\n",
      "0         Non-trainable params\n",
      "2.7 M     Total params\n",
      "10.767    Total estimated model params size (MB)\n"
     ]
    },
    {
     "name": "stdout",
     "output_type": "stream",
     "text": [
      "Epoch 0: 100%|██████████| 37/37 [00:05<00:00,  7.02it/s, loss=447, v_num=21, train_loss_step=178.0, val_loss=171.0]"
     ]
    },
    {
     "name": "stderr",
     "output_type": "stream",
     "text": [
      "Metric val_loss improved. New best score: 171.453\n"
     ]
    },
    {
     "name": "stdout",
     "output_type": "stream",
     "text": [
      "Epoch 1: 100%|██████████| 37/37 [00:05<00:00,  7.31it/s, loss=46.7, v_num=21, train_loss_step=25.60, val_loss=24.90, train_loss_epoch=551.0]"
     ]
    },
    {
     "name": "stderr",
     "output_type": "stream",
     "text": [
      "Metric val_loss improved by 146.584 >= min_delta = 0. New best score: 24.869\n"
     ]
    },
    {
     "name": "stdout",
     "output_type": "stream",
     "text": [
      "Epoch 2: 100%|██████████| 37/37 [00:05<00:00,  7.17it/s, loss=14.5, v_num=21, train_loss_step=11.90, val_loss=12.40, train_loss_epoch=58.80]"
     ]
    },
    {
     "name": "stderr",
     "output_type": "stream",
     "text": [
      "Metric val_loss improved by 12.421 >= min_delta = 0. New best score: 12.448\n"
     ]
    },
    {
     "name": "stdout",
     "output_type": "stream",
     "text": [
      "Epoch 3: 100%|██████████| 37/37 [00:05<00:00,  7.31it/s, loss=10.8, v_num=21, train_loss_step=10.10, val_loss=10.60, train_loss_epoch=15.70]"
     ]
    },
    {
     "name": "stderr",
     "output_type": "stream",
     "text": [
      "Metric val_loss improved by 1.879 >= min_delta = 0. New best score: 10.570\n"
     ]
    },
    {
     "name": "stdout",
     "output_type": "stream",
     "text": [
      "Epoch 4: 100%|██████████| 37/37 [00:04<00:00,  7.48it/s, loss=9.87, v_num=21, train_loss_step=9.620, val_loss=9.820, train_loss_epoch=11.00]"
     ]
    },
    {
     "name": "stderr",
     "output_type": "stream",
     "text": [
      "Metric val_loss improved by 0.750 >= min_delta = 0. New best score: 9.820\n"
     ]
    },
    {
     "name": "stdout",
     "output_type": "stream",
     "text": [
      "Epoch 5: 100%|██████████| 37/37 [00:05<00:00,  7.16it/s, loss=9.21, v_num=21, train_loss_step=8.830, val_loss=9.350, train_loss_epoch=9.970]"
     ]
    },
    {
     "name": "stderr",
     "output_type": "stream",
     "text": [
      "Metric val_loss improved by 0.472 >= min_delta = 0. New best score: 9.347\n"
     ]
    },
    {
     "name": "stdout",
     "output_type": "stream",
     "text": [
      "Epoch 6: 100%|██████████| 37/37 [00:05<00:00,  7.12it/s, loss=8.85, v_num=21, train_loss_step=8.600, val_loss=9.060, train_loss_epoch=9.290]"
     ]
    },
    {
     "name": "stderr",
     "output_type": "stream",
     "text": [
      "Metric val_loss improved by 0.289 >= min_delta = 0. New best score: 9.059\n"
     ]
    },
    {
     "name": "stdout",
     "output_type": "stream",
     "text": [
      "Epoch 7: 100%|██████████| 37/37 [00:05<00:00,  7.36it/s, loss=8.61, v_num=21, train_loss_step=8.460, val_loss=8.860, train_loss_epoch=8.890]"
     ]
    },
    {
     "name": "stderr",
     "output_type": "stream",
     "text": [
      "Metric val_loss improved by 0.199 >= min_delta = 0. New best score: 8.860\n"
     ]
    },
    {
     "name": "stdout",
     "output_type": "stream",
     "text": [
      "Epoch 8: 100%|██████████| 37/37 [00:05<00:00,  7.30it/s, loss=8.45, v_num=21, train_loss_step=8.420, val_loss=8.690, train_loss_epoch=8.640]"
     ]
    },
    {
     "name": "stderr",
     "output_type": "stream",
     "text": [
      "Metric val_loss improved by 0.174 >= min_delta = 0. New best score: 8.685\n"
     ]
    },
    {
     "name": "stdout",
     "output_type": "stream",
     "text": [
      "Epoch 9: 100%|██████████| 37/37 [00:05<00:00,  7.15it/s, loss=8.31, v_num=21, train_loss_step=8.500, val_loss=8.560, train_loss_epoch=8.460]"
     ]
    },
    {
     "name": "stderr",
     "output_type": "stream",
     "text": [
      "Metric val_loss improved by 0.123 >= min_delta = 0. New best score: 8.562\n"
     ]
    },
    {
     "name": "stdout",
     "output_type": "stream",
     "text": [
      "Epoch 10: 100%|██████████| 37/37 [00:05<00:00,  7.28it/s, loss=8.2, v_num=21, train_loss_step=8.160, val_loss=8.450, train_loss_epoch=8.320] "
     ]
    },
    {
     "name": "stderr",
     "output_type": "stream",
     "text": [
      "Metric val_loss improved by 0.111 >= min_delta = 0. New best score: 8.451\n"
     ]
    },
    {
     "name": "stdout",
     "output_type": "stream",
     "text": [
      "Epoch 11: 100%|██████████| 37/37 [00:05<00:00,  7.32it/s, loss=8.07, v_num=21, train_loss_step=8.230, val_loss=8.380, train_loss_epoch=8.200]"
     ]
    },
    {
     "name": "stderr",
     "output_type": "stream",
     "text": [
      "Metric val_loss improved by 0.075 >= min_delta = 0. New best score: 8.375\n"
     ]
    },
    {
     "name": "stdout",
     "output_type": "stream",
     "text": [
      "Epoch 12: 100%|██████████| 37/37 [00:05<00:00,  7.27it/s, loss=8.03, v_num=21, train_loss_step=7.790, val_loss=8.320, train_loss_epoch=8.100]"
     ]
    },
    {
     "name": "stderr",
     "output_type": "stream",
     "text": [
      "Metric val_loss improved by 0.057 >= min_delta = 0. New best score: 8.319\n"
     ]
    },
    {
     "name": "stdout",
     "output_type": "stream",
     "text": [
      "Epoch 13: 100%|██████████| 37/37 [00:05<00:00,  7.23it/s, loss=7.94, v_num=21, train_loss_step=7.830, val_loss=8.240, train_loss_epoch=8.020]"
     ]
    },
    {
     "name": "stderr",
     "output_type": "stream",
     "text": [
      "Metric val_loss improved by 0.082 >= min_delta = 0. New best score: 8.236\n"
     ]
    },
    {
     "name": "stdout",
     "output_type": "stream",
     "text": [
      "Epoch 14: 100%|██████████| 37/37 [00:05<00:00,  7.23it/s, loss=7.82, v_num=21, train_loss_step=7.670, val_loss=8.190, train_loss_epoch=7.930]"
     ]
    },
    {
     "name": "stderr",
     "output_type": "stream",
     "text": [
      "Metric val_loss improved by 0.048 >= min_delta = 0. New best score: 8.189\n"
     ]
    },
    {
     "name": "stdout",
     "output_type": "stream",
     "text": [
      "Epoch 15: 100%|██████████| 37/37 [00:05<00:00,  7.25it/s, loss=7.78, v_num=21, train_loss_step=7.870, val_loss=8.110, train_loss_epoch=7.860]"
     ]
    },
    {
     "name": "stderr",
     "output_type": "stream",
     "text": [
      "Metric val_loss improved by 0.082 >= min_delta = 0. New best score: 8.107\n"
     ]
    },
    {
     "name": "stdout",
     "output_type": "stream",
     "text": [
      "Epoch 16: 100%|██████████| 37/37 [00:05<00:00,  7.16it/s, loss=7.68, v_num=21, train_loss_step=8.120, val_loss=8.050, train_loss_epoch=7.780]"
     ]
    },
    {
     "name": "stderr",
     "output_type": "stream",
     "text": [
      "Metric val_loss improved by 0.059 >= min_delta = 0. New best score: 8.047\n"
     ]
    },
    {
     "name": "stdout",
     "output_type": "stream",
     "text": [
      "Epoch 17: 100%|██████████| 37/37 [00:05<00:00,  7.20it/s, loss=7.65, v_num=21, train_loss_step=7.690, val_loss=8.020, train_loss_epoch=7.720]"
     ]
    },
    {
     "name": "stderr",
     "output_type": "stream",
     "text": [
      "Metric val_loss improved by 0.031 >= min_delta = 0. New best score: 8.016\n"
     ]
    },
    {
     "name": "stdout",
     "output_type": "stream",
     "text": [
      "Epoch 20: 100%|██████████| 37/37 [00:05<00:00,  7.36it/s, loss=7.5, v_num=21, train_loss_step=7.300, val_loss=7.990, train_loss_epoch=7.560] "
     ]
    },
    {
     "name": "stderr",
     "output_type": "stream",
     "text": [
      "Metric val_loss improved by 0.030 >= min_delta = 0. New best score: 7.986\n"
     ]
    },
    {
     "name": "stdout",
     "output_type": "stream",
     "text": [
      "Epoch 21: 100%|██████████| 37/37 [00:05<00:00,  7.24it/s, loss=7.47, v_num=21, train_loss_step=7.610, val_loss=7.900, train_loss_epoch=7.530]"
     ]
    },
    {
     "name": "stderr",
     "output_type": "stream",
     "text": [
      "Metric val_loss improved by 0.082 >= min_delta = 0. New best score: 7.904\n"
     ]
    },
    {
     "name": "stdout",
     "output_type": "stream",
     "text": [
      "Epoch 22: 100%|██████████| 37/37 [00:07<00:00,  4.89it/s, loss=7.4, v_num=21, train_loss_step=7.310, val_loss=7.850, train_loss_epoch=7.470] "
     ]
    },
    {
     "name": "stderr",
     "output_type": "stream",
     "text": [
      "Metric val_loss improved by 0.051 >= min_delta = 0. New best score: 7.854\n"
     ]
    },
    {
     "name": "stdout",
     "output_type": "stream",
     "text": [
      "Epoch 23: 100%|██████████| 37/37 [00:05<00:00,  7.34it/s, loss=7.38, v_num=21, train_loss_step=7.500, val_loss=7.810, train_loss_epoch=7.420]"
     ]
    },
    {
     "name": "stderr",
     "output_type": "stream",
     "text": [
      "Metric val_loss improved by 0.044 >= min_delta = 0. New best score: 7.809\n"
     ]
    },
    {
     "name": "stdout",
     "output_type": "stream",
     "text": [
      "Epoch 25: 100%|██████████| 37/37 [00:05<00:00,  7.35it/s, loss=7.28, v_num=21, train_loss_step=6.900, val_loss=7.730, train_loss_epoch=7.350]"
     ]
    },
    {
     "name": "stderr",
     "output_type": "stream",
     "text": [
      "Metric val_loss improved by 0.077 >= min_delta = 0. New best score: 7.733\n"
     ]
    },
    {
     "name": "stdout",
     "output_type": "stream",
     "text": [
      "Epoch 27: 100%|██████████| 37/37 [00:05<00:00,  7.21it/s, loss=7.25, v_num=21, train_loss_step=7.130, val_loss=7.730, train_loss_epoch=7.270]"
     ]
    },
    {
     "name": "stderr",
     "output_type": "stream",
     "text": [
      "Metric val_loss improved by 0.003 >= min_delta = 0. New best score: 7.730\n"
     ]
    },
    {
     "name": "stdout",
     "output_type": "stream",
     "text": [
      "Epoch 28: 100%|██████████| 37/37 [00:05<00:00,  7.24it/s, loss=7.21, v_num=21, train_loss_step=7.430, val_loss=7.700, train_loss_epoch=7.230]"
     ]
    },
    {
     "name": "stderr",
     "output_type": "stream",
     "text": [
      "Metric val_loss improved by 0.030 >= min_delta = 0. New best score: 7.699\n"
     ]
    },
    {
     "name": "stdout",
     "output_type": "stream",
     "text": [
      "Epoch 29: 100%|██████████| 37/37 [00:05<00:00,  7.28it/s, loss=7.18, v_num=21, train_loss_step=7.310, val_loss=7.690, train_loss_epoch=7.210]"
     ]
    },
    {
     "name": "stderr",
     "output_type": "stream",
     "text": [
      "Metric val_loss improved by 0.011 >= min_delta = 0. New best score: 7.689\n"
     ]
    },
    {
     "name": "stdout",
     "output_type": "stream",
     "text": [
      "Epoch 29: 100%|██████████| 37/37 [00:05<00:00,  7.27it/s, loss=7.18, v_num=21, train_loss_step=7.310, val_loss=7.690, train_loss_epoch=7.170]"
     ]
    },
    {
     "name": "stderr",
     "output_type": "stream",
     "text": [
      "`Trainer.fit` stopped: `max_epochs=30` reached.\n"
     ]
    },
    {
     "name": "stdout",
     "output_type": "stream",
     "text": [
      "Epoch 29: 100%|██████████| 37/37 [00:05<00:00,  7.21it/s, loss=7.18, v_num=21, train_loss_step=7.310, val_loss=7.690, train_loss_epoch=7.170]"
     ]
    },
    {
     "name": "stderr",
     "output_type": "stream",
     "text": [
      "\u001b[32m[I 2024-04-02 19:16:04,826]\u001b[0m Trial 21 finished with value: 40.14570999145508 and parameters: {'neu': 710, 'lay': 1, 'bat': 288, 'lr': 0.012155281413278372, 'dropout': 0.2}. Best is trial 2 with value: 21.622835159301758.\u001b[0m\n"
     ]
    },
    {
     "name": "stdout",
     "output_type": "stream",
     "text": [
      "\n"
     ]
    },
    {
     "name": "stderr",
     "output_type": "stream",
     "text": [
      "GPU available: True (cuda), used: True\n",
      "TPU available: False, using: 0 TPU cores\n",
      "IPU available: False, using: 0 IPUs\n",
      "HPU available: False, using: 0 HPUs\n",
      "`Trainer(limit_train_batches=1.0)` was configured so 100% of the batches per epoch will be used..\n",
      "`Trainer(limit_val_batches=1.0)` was configured so 100% of the batches will be used..\n",
      "LOCAL_RANK: 0 - CUDA_VISIBLE_DEVICES: [0]\n",
      "\n",
      "  | Name                   | Type                             | Params\n",
      "----------------------------------------------------------------------------\n",
      "0 | loss                   | NegativeBinomialDistributionLoss | 0     \n",
      "1 | logging_metrics        | ModuleList                       | 0     \n",
      "2 | embeddings             | MultiEmbedding                   | 728   \n",
      "3 | rnn                    | LSTM                             | 2.1 M \n",
      "4 | distribution_projector | Linear                           | 1.2 K \n",
      "----------------------------------------------------------------------------\n",
      "2.1 M     Trainable params\n",
      "0         Non-trainable params\n",
      "2.1 M     Total params\n",
      "8.275     Total estimated model params size (MB)\n"
     ]
    },
    {
     "name": "stdout",
     "output_type": "stream",
     "text": [
      "Epoch 0: 100%|██████████| 82/82 [00:05<00:00, 14.16it/s, loss=10.8, v_num=22, train_loss_step=10.70, val_loss=10.50]"
     ]
    },
    {
     "name": "stderr",
     "output_type": "stream",
     "text": [
      "Metric val_loss improved. New best score: 10.501\n"
     ]
    },
    {
     "name": "stdout",
     "output_type": "stream",
     "text": [
      "Epoch 1: 100%|██████████| 82/82 [00:05<00:00, 14.09it/s, loss=8.88, v_num=22, train_loss_step=8.400, val_loss=8.920, train_loss_epoch=138.0]"
     ]
    },
    {
     "name": "stderr",
     "output_type": "stream",
     "text": [
      "Metric val_loss improved by 1.580 >= min_delta = 0. New best score: 8.921\n"
     ]
    },
    {
     "name": "stdout",
     "output_type": "stream",
     "text": [
      "Epoch 2: 100%|██████████| 82/82 [00:05<00:00, 14.40it/s, loss=8.12, v_num=22, train_loss_step=8.040, val_loss=8.350, train_loss_epoch=9.370]"
     ]
    },
    {
     "name": "stderr",
     "output_type": "stream",
     "text": [
      "Metric val_loss improved by 0.568 >= min_delta = 0. New best score: 8.353\n"
     ]
    },
    {
     "name": "stdout",
     "output_type": "stream",
     "text": [
      "Epoch 3: 100%|██████████| 82/82 [00:05<00:00, 14.23it/s, loss=7.87, v_num=22, train_loss_step=7.810, val_loss=8.120, train_loss_epoch=8.310]"
     ]
    },
    {
     "name": "stderr",
     "output_type": "stream",
     "text": [
      "Metric val_loss improved by 0.235 >= min_delta = 0. New best score: 8.117\n"
     ]
    },
    {
     "name": "stdout",
     "output_type": "stream",
     "text": [
      "Epoch 4: 100%|██████████| 82/82 [00:05<00:00, 14.50it/s, loss=7.67, v_num=22, train_loss_step=7.380, val_loss=7.920, train_loss_epoch=7.970]"
     ]
    },
    {
     "name": "stderr",
     "output_type": "stream",
     "text": [
      "Metric val_loss improved by 0.200 >= min_delta = 0. New best score: 7.917\n"
     ]
    },
    {
     "name": "stdout",
     "output_type": "stream",
     "text": [
      "Epoch 5: 100%|██████████| 82/82 [00:05<00:00, 14.63it/s, loss=7.56, v_num=22, train_loss_step=7.770, val_loss=7.730, train_loss_epoch=7.740]"
     ]
    },
    {
     "name": "stderr",
     "output_type": "stream",
     "text": [
      "Metric val_loss improved by 0.186 >= min_delta = 0. New best score: 7.731\n"
     ]
    },
    {
     "name": "stdout",
     "output_type": "stream",
     "text": [
      "Epoch 7: 100%|██████████| 82/82 [00:05<00:00, 14.24it/s, loss=7.14, v_num=22, train_loss_step=7.260, val_loss=7.520, train_loss_epoch=7.440]"
     ]
    },
    {
     "name": "stderr",
     "output_type": "stream",
     "text": [
      "Metric val_loss improved by 0.211 >= min_delta = 0. New best score: 7.521\n"
     ]
    },
    {
     "name": "stdout",
     "output_type": "stream",
     "text": [
      "Epoch 8: 100%|██████████| 82/82 [00:05<00:00, 14.04it/s, loss=7.11, v_num=22, train_loss_step=7.470, val_loss=7.490, train_loss_epoch=7.310]"
     ]
    },
    {
     "name": "stderr",
     "output_type": "stream",
     "text": [
      "Metric val_loss improved by 0.029 >= min_delta = 0. New best score: 7.491\n"
     ]
    },
    {
     "name": "stdout",
     "output_type": "stream",
     "text": [
      "Epoch 9: 100%|██████████| 82/82 [00:05<00:00, 13.96it/s, loss=7.1, v_num=22, train_loss_step=7.100, val_loss=7.370, train_loss_epoch=7.200] "
     ]
    },
    {
     "name": "stderr",
     "output_type": "stream",
     "text": [
      "Metric val_loss improved by 0.121 >= min_delta = 0. New best score: 7.370\n"
     ]
    },
    {
     "name": "stdout",
     "output_type": "stream",
     "text": [
      "Epoch 10: 100%|██████████| 82/82 [00:05<00:00, 14.41it/s, loss=7.09, v_num=22, train_loss_step=7.080, val_loss=7.340, train_loss_epoch=7.100]"
     ]
    },
    {
     "name": "stderr",
     "output_type": "stream",
     "text": [
      "Metric val_loss improved by 0.030 >= min_delta = 0. New best score: 7.340\n"
     ]
    },
    {
     "name": "stdout",
     "output_type": "stream",
     "text": [
      "Epoch 11: 100%|██████████| 82/82 [00:05<00:00, 14.37it/s, loss=6.99, v_num=22, train_loss_step=6.780, val_loss=7.270, train_loss_epoch=7.110]"
     ]
    },
    {
     "name": "stderr",
     "output_type": "stream",
     "text": [
      "Metric val_loss improved by 0.068 >= min_delta = 0. New best score: 7.272\n"
     ]
    },
    {
     "name": "stdout",
     "output_type": "stream",
     "text": [
      "Epoch 12: 100%|██████████| 82/82 [00:05<00:00, 14.18it/s, loss=6.81, v_num=22, train_loss_step=6.820, val_loss=7.260, train_loss_epoch=6.980]"
     ]
    },
    {
     "name": "stderr",
     "output_type": "stream",
     "text": [
      "Metric val_loss improved by 0.012 >= min_delta = 0. New best score: 7.260\n"
     ]
    },
    {
     "name": "stdout",
     "output_type": "stream",
     "text": [
      "Epoch 13: 100%|██████████| 82/82 [00:05<00:00, 14.53it/s, loss=6.87, v_num=22, train_loss_step=6.440, val_loss=7.180, train_loss_epoch=7.000]"
     ]
    },
    {
     "name": "stderr",
     "output_type": "stream",
     "text": [
      "Metric val_loss improved by 0.075 >= min_delta = 0. New best score: 7.185\n"
     ]
    },
    {
     "name": "stdout",
     "output_type": "stream",
     "text": [
      "Epoch 14: 100%|██████████| 82/82 [00:05<00:00, 14.27it/s, loss=6.87, v_num=22, train_loss_step=6.650, val_loss=7.150, train_loss_epoch=6.900]"
     ]
    },
    {
     "name": "stderr",
     "output_type": "stream",
     "text": [
      "Metric val_loss improved by 0.037 >= min_delta = 0. New best score: 7.148\n"
     ]
    },
    {
     "name": "stdout",
     "output_type": "stream",
     "text": [
      "Epoch 15: 100%|██████████| 82/82 [00:05<00:00, 14.37it/s, loss=6.78, v_num=22, train_loss_step=6.810, val_loss=7.100, train_loss_epoch=6.840]"
     ]
    },
    {
     "name": "stderr",
     "output_type": "stream",
     "text": [
      "Metric val_loss improved by 0.046 >= min_delta = 0. New best score: 7.103\n"
     ]
    },
    {
     "name": "stdout",
     "output_type": "stream",
     "text": [
      "Epoch 17: 100%|██████████| 82/82 [00:05<00:00, 14.35it/s, loss=6.75, v_num=22, train_loss_step=6.680, val_loss=7.030, train_loss_epoch=6.810]"
     ]
    },
    {
     "name": "stderr",
     "output_type": "stream",
     "text": [
      "Metric val_loss improved by 0.072 >= min_delta = 0. New best score: 7.031\n"
     ]
    },
    {
     "name": "stdout",
     "output_type": "stream",
     "text": [
      "Epoch 18: 100%|██████████| 82/82 [00:05<00:00, 14.53it/s, loss=6.62, v_num=22, train_loss_step=6.740, val_loss=7.020, train_loss_epoch=6.730]"
     ]
    },
    {
     "name": "stderr",
     "output_type": "stream",
     "text": [
      "Metric val_loss improved by 0.015 >= min_delta = 0. New best score: 7.016\n"
     ]
    },
    {
     "name": "stdout",
     "output_type": "stream",
     "text": [
      "Epoch 19: 100%|██████████| 82/82 [00:05<00:00, 14.49it/s, loss=6.73, v_num=22, train_loss_step=6.420, val_loss=6.980, train_loss_epoch=6.690]"
     ]
    },
    {
     "name": "stderr",
     "output_type": "stream",
     "text": [
      "Metric val_loss improved by 0.037 >= min_delta = 0. New best score: 6.979\n"
     ]
    },
    {
     "name": "stdout",
     "output_type": "stream",
     "text": [
      "Epoch 21: 100%|██████████| 82/82 [00:05<00:00, 14.63it/s, loss=6.54, v_num=22, train_loss_step=6.580, val_loss=6.970, train_loss_epoch=6.640]"
     ]
    },
    {
     "name": "stderr",
     "output_type": "stream",
     "text": [
      "Metric val_loss improved by 0.007 >= min_delta = 0. New best score: 6.972\n"
     ]
    },
    {
     "name": "stdout",
     "output_type": "stream",
     "text": [
      "Epoch 23: 100%|██████████| 82/82 [00:05<00:00, 14.84it/s, loss=6.7, v_num=22, train_loss_step=6.730, val_loss=6.970, train_loss_epoch=6.630] "
     ]
    },
    {
     "name": "stderr",
     "output_type": "stream",
     "text": [
      "Metric val_loss improved by 0.003 >= min_delta = 0. New best score: 6.969\n"
     ]
    },
    {
     "name": "stdout",
     "output_type": "stream",
     "text": [
      "Epoch 24: 100%|██████████| 82/82 [00:05<00:00, 14.23it/s, loss=6.6, v_num=22, train_loss_step=6.540, val_loss=6.960, train_loss_epoch=6.640] "
     ]
    },
    {
     "name": "stderr",
     "output_type": "stream",
     "text": [
      "Metric val_loss improved by 0.008 >= min_delta = 0. New best score: 6.961\n"
     ]
    },
    {
     "name": "stdout",
     "output_type": "stream",
     "text": [
      "Epoch 25: 100%|██████████| 82/82 [00:05<00:00, 14.41it/s, loss=6.63, v_num=22, train_loss_step=6.490, val_loss=6.940, train_loss_epoch=6.590]"
     ]
    },
    {
     "name": "stderr",
     "output_type": "stream",
     "text": [
      "Metric val_loss improved by 0.024 >= min_delta = 0. New best score: 6.937\n"
     ]
    },
    {
     "name": "stdout",
     "output_type": "stream",
     "text": [
      "Epoch 27: 100%|██████████| 82/82 [00:05<00:00, 14.30it/s, loss=6.55, v_num=22, train_loss_step=6.640, val_loss=6.890, train_loss_epoch=6.540]"
     ]
    },
    {
     "name": "stderr",
     "output_type": "stream",
     "text": [
      "Metric val_loss improved by 0.049 >= min_delta = 0. New best score: 6.888\n"
     ]
    },
    {
     "name": "stdout",
     "output_type": "stream",
     "text": [
      "Epoch 29: 100%|██████████| 82/82 [00:05<00:00, 14.42it/s, loss=6.43, v_num=22, train_loss_step=6.170, val_loss=6.840, train_loss_epoch=6.510]"
     ]
    },
    {
     "name": "stderr",
     "output_type": "stream",
     "text": [
      "Metric val_loss improved by 0.046 >= min_delta = 0. New best score: 6.842\n"
     ]
    },
    {
     "name": "stdout",
     "output_type": "stream",
     "text": [
      "Epoch 29: 100%|██████████| 82/82 [00:05<00:00, 14.41it/s, loss=6.43, v_num=22, train_loss_step=6.170, val_loss=6.840, train_loss_epoch=6.470]"
     ]
    },
    {
     "name": "stderr",
     "output_type": "stream",
     "text": [
      "`Trainer.fit` stopped: `max_epochs=30` reached.\n"
     ]
    },
    {
     "name": "stdout",
     "output_type": "stream",
     "text": [
      "Epoch 29: 100%|██████████| 82/82 [00:05<00:00, 14.30it/s, loss=6.43, v_num=22, train_loss_step=6.170, val_loss=6.840, train_loss_epoch=6.470]"
     ]
    },
    {
     "name": "stderr",
     "output_type": "stream",
     "text": [
      "\u001b[32m[I 2024-04-02 19:18:59,690]\u001b[0m Trial 22 finished with value: 22.91762924194336 and parameters: {'neu': 610, 'lay': 1, 'bat': 128, 'lr': 0.04930476141866277, 'dropout': 0.2}. Best is trial 2 with value: 21.622835159301758.\u001b[0m\n"
     ]
    },
    {
     "name": "stdout",
     "output_type": "stream",
     "text": [
      "\n"
     ]
    },
    {
     "name": "stderr",
     "output_type": "stream",
     "text": [
      "GPU available: True (cuda), used: True\n",
      "TPU available: False, using: 0 TPU cores\n",
      "IPU available: False, using: 0 IPUs\n",
      "HPU available: False, using: 0 HPUs\n",
      "`Trainer(limit_train_batches=1.0)` was configured so 100% of the batches per epoch will be used..\n",
      "`Trainer(limit_val_batches=1.0)` was configured so 100% of the batches will be used..\n",
      "LOCAL_RANK: 0 - CUDA_VISIBLE_DEVICES: [0]\n",
      "\n",
      "  | Name                   | Type                             | Params\n",
      "----------------------------------------------------------------------------\n",
      "0 | loss                   | NegativeBinomialDistributionLoss | 0     \n",
      "1 | logging_metrics        | ModuleList                       | 0     \n",
      "2 | embeddings             | MultiEmbedding                   | 728   \n",
      "3 | rnn                    | LSTM                             | 8.0 M \n",
      "4 | distribution_projector | Linear                           | 1.2 K \n",
      "----------------------------------------------------------------------------\n",
      "8.0 M     Trainable params\n",
      "0         Non-trainable params\n",
      "8.0 M     Total params\n",
      "32.128    Total estimated model params size (MB)\n"
     ]
    },
    {
     "name": "stdout",
     "output_type": "stream",
     "text": [
      "Epoch 0: 100%|██████████| 110/110 [00:06<00:00, 17.74it/s, loss=9.32, v_num=23, train_loss_step=9.290, val_loss=9.260]"
     ]
    },
    {
     "name": "stderr",
     "output_type": "stream",
     "text": [
      "Metric val_loss improved. New best score: 9.255\n"
     ]
    },
    {
     "name": "stdout",
     "output_type": "stream",
     "text": [
      "Epoch 2: 100%|██████████| 110/110 [00:06<00:00, 18.25it/s, loss=8.25, v_num=23, train_loss_step=8.210, val_loss=8.610, train_loss_epoch=8.640]"
     ]
    },
    {
     "name": "stderr",
     "output_type": "stream",
     "text": [
      "Metric val_loss improved by 0.643 >= min_delta = 0. New best score: 8.612\n"
     ]
    },
    {
     "name": "stdout",
     "output_type": "stream",
     "text": [
      "Epoch 3: 100%|██████████| 110/110 [00:05<00:00, 18.87it/s, loss=8.07, v_num=23, train_loss_step=8.180, val_loss=8.310, train_loss_epoch=8.340]"
     ]
    },
    {
     "name": "stderr",
     "output_type": "stream",
     "text": [
      "Metric val_loss improved by 0.307 >= min_delta = 0. New best score: 8.305\n"
     ]
    },
    {
     "name": "stdout",
     "output_type": "stream",
     "text": [
      "Epoch 4: 100%|██████████| 110/110 [00:06<00:00, 17.48it/s, loss=8.06, v_num=23, train_loss_step=7.990, val_loss=8.230, train_loss_epoch=8.200]"
     ]
    },
    {
     "name": "stderr",
     "output_type": "stream",
     "text": [
      "Metric val_loss improved by 0.073 >= min_delta = 0. New best score: 8.232\n"
     ]
    },
    {
     "name": "stdout",
     "output_type": "stream",
     "text": [
      "Epoch 5: 100%|██████████| 110/110 [00:06<00:00, 17.91it/s, loss=8.15, v_num=23, train_loss_step=8.440, val_loss=8.190, train_loss_epoch=8.140]"
     ]
    },
    {
     "name": "stderr",
     "output_type": "stream",
     "text": [
      "Metric val_loss improved by 0.046 >= min_delta = 0. New best score: 8.187\n"
     ]
    },
    {
     "name": "stdout",
     "output_type": "stream",
     "text": [
      "Epoch 7: 100%|██████████| 110/110 [00:05<00:00, 18.52it/s, loss=7.92, v_num=23, train_loss_step=7.910, val_loss=8.120, train_loss_epoch=8.180]"
     ]
    },
    {
     "name": "stderr",
     "output_type": "stream",
     "text": [
      "Metric val_loss improved by 0.064 >= min_delta = 0. New best score: 8.123\n"
     ]
    },
    {
     "name": "stdout",
     "output_type": "stream",
     "text": [
      "Epoch 9: 100%|██████████| 110/110 [00:05<00:00, 18.60it/s, loss=7.91, v_num=23, train_loss_step=7.810, val_loss=8.080, train_loss_epoch=7.940]"
     ]
    },
    {
     "name": "stderr",
     "output_type": "stream",
     "text": [
      "Metric val_loss improved by 0.045 >= min_delta = 0. New best score: 8.078\n"
     ]
    },
    {
     "name": "stdout",
     "output_type": "stream",
     "text": [
      "Epoch 12: 100%|██████████| 110/110 [00:06<00:00, 17.62it/s, loss=8, v_num=23, train_loss_step=7.980, val_loss=8.020, train_loss_epoch=8.050]   "
     ]
    },
    {
     "name": "stderr",
     "output_type": "stream",
     "text": [
      "Metric val_loss improved by 0.054 >= min_delta = 0. New best score: 8.024\n"
     ]
    },
    {
     "name": "stdout",
     "output_type": "stream",
     "text": [
      "Epoch 13: 100%|██████████| 110/110 [00:05<00:00, 18.47it/s, loss=8.12, v_num=23, train_loss_step=7.980, val_loss=8.000, train_loss_epoch=8.170]"
     ]
    },
    {
     "name": "stderr",
     "output_type": "stream",
     "text": [
      "Metric val_loss improved by 0.028 >= min_delta = 0. New best score: 7.996\n"
     ]
    },
    {
     "name": "stdout",
     "output_type": "stream",
     "text": [
      "Epoch 18: 100%|██████████| 110/110 [00:06<00:00, 17.79it/s, loss=8.43, v_num=23, train_loss_step=7.760, val_loss=7.970, train_loss_epoch=11.40]"
     ]
    },
    {
     "name": "stderr",
     "output_type": "stream",
     "text": [
      "Metric val_loss improved by 0.023 >= min_delta = 0. New best score: 7.973\n"
     ]
    },
    {
     "name": "stdout",
     "output_type": "stream",
     "text": [
      "Epoch 19: 100%|██████████| 110/110 [00:06<00:00, 17.59it/s, loss=10.5, v_num=23, train_loss_step=8.420, val_loss=7.960, train_loss_epoch=8.320]"
     ]
    },
    {
     "name": "stderr",
     "output_type": "stream",
     "text": [
      "Metric val_loss improved by 0.009 >= min_delta = 0. New best score: 7.964\n"
     ]
    },
    {
     "name": "stdout",
     "output_type": "stream",
     "text": [
      "Epoch 23: 100%|██████████| 110/110 [00:05<00:00, 18.41it/s, loss=7.85, v_num=23, train_loss_step=7.860, val_loss=7.950, train_loss_epoch=8.310]"
     ]
    },
    {
     "name": "stderr",
     "output_type": "stream",
     "text": [
      "Metric val_loss improved by 0.011 >= min_delta = 0. New best score: 7.953\n"
     ]
    },
    {
     "name": "stdout",
     "output_type": "stream",
     "text": [
      "Epoch 28: 100%|██████████| 110/110 [00:05<00:00, 18.69it/s, loss=8.41, v_num=23, train_loss_step=9.480, val_loss=8.550, train_loss_epoch=8.240]"
     ]
    },
    {
     "name": "stderr",
     "output_type": "stream",
     "text": [
      "Monitored metric val_loss did not improve in the last 5 records. Best score: 7.953. Signaling Trainer to stop.\n"
     ]
    },
    {
     "name": "stdout",
     "output_type": "stream",
     "text": [
      "Epoch 28: 100%|██████████| 110/110 [00:08<00:00, 13.27it/s, loss=8.41, v_num=23, train_loss_step=9.480, val_loss=8.550, train_loss_epoch=8.100]"
     ]
    },
    {
     "name": "stderr",
     "output_type": "stream",
     "text": [
      "\u001b[32m[I 2024-04-02 19:22:11,098]\u001b[0m Trial 23 finished with value: 45.09281921386719 and parameters: {'neu': 610, 'lay': 3, 'bat': 96, 'lr': 0.05207168294933508, 'dropout': 0.0}. Best is trial 2 with value: 21.622835159301758.\u001b[0m\n"
     ]
    },
    {
     "name": "stdout",
     "output_type": "stream",
     "text": [
      "\n"
     ]
    },
    {
     "name": "stderr",
     "output_type": "stream",
     "text": [
      "GPU available: True (cuda), used: True\n",
      "TPU available: False, using: 0 TPU cores\n",
      "IPU available: False, using: 0 IPUs\n",
      "HPU available: False, using: 0 HPUs\n",
      "`Trainer(limit_train_batches=1.0)` was configured so 100% of the batches per epoch will be used..\n",
      "`Trainer(limit_val_batches=1.0)` was configured so 100% of the batches will be used..\n",
      "LOCAL_RANK: 0 - CUDA_VISIBLE_DEVICES: [0]\n",
      "\n",
      "  | Name                   | Type                             | Params\n",
      "----------------------------------------------------------------------------\n",
      "0 | loss                   | NegativeBinomialDistributionLoss | 0     \n",
      "1 | logging_metrics        | ModuleList                       | 0     \n",
      "2 | embeddings             | MultiEmbedding                   | 728   \n",
      "3 | rnn                    | LSTM                             | 2.1 M \n",
      "4 | distribution_projector | Linear                           | 1.2 K \n",
      "----------------------------------------------------------------------------\n",
      "2.1 M     Trainable params\n",
      "0         Non-trainable params\n",
      "2.1 M     Total params\n",
      "8.275     Total estimated model params size (MB)\n"
     ]
    },
    {
     "name": "stdout",
     "output_type": "stream",
     "text": [
      "Epoch 0: 100%|██████████| 41/41 [00:05<00:00,  7.92it/s, loss=114, v_num=24, train_loss_step=23.00, val_loss=21.40]"
     ]
    },
    {
     "name": "stderr",
     "output_type": "stream",
     "text": [
      "Metric val_loss improved. New best score: 21.419\n"
     ]
    },
    {
     "name": "stdout",
     "output_type": "stream",
     "text": [
      "Epoch 1: 100%|██████████| 41/41 [00:05<00:00,  7.64it/s, loss=11.7, v_num=24, train_loss_step=10.40, val_loss=10.70, train_loss_epoch=276.0]"
     ]
    },
    {
     "name": "stderr",
     "output_type": "stream",
     "text": [
      "Metric val_loss improved by 10.718 >= min_delta = 0. New best score: 10.701\n"
     ]
    },
    {
     "name": "stdout",
     "output_type": "stream",
     "text": [
      "Epoch 2: 100%|██████████| 41/41 [00:05<00:00,  7.71it/s, loss=9.84, v_num=24, train_loss_step=9.430, val_loss=9.790, train_loss_epoch=13.40]"
     ]
    },
    {
     "name": "stderr",
     "output_type": "stream",
     "text": [
      "Metric val_loss improved by 0.916 >= min_delta = 0. New best score: 9.785\n"
     ]
    },
    {
     "name": "stdout",
     "output_type": "stream",
     "text": [
      "Epoch 3: 100%|██████████| 41/41 [00:05<00:00,  7.65it/s, loss=8.94, v_num=24, train_loss_step=8.710, val_loss=8.980, train_loss_epoch=9.940]"
     ]
    },
    {
     "name": "stderr",
     "output_type": "stream",
     "text": [
      "Metric val_loss improved by 0.807 >= min_delta = 0. New best score: 8.978\n"
     ]
    },
    {
     "name": "stdout",
     "output_type": "stream",
     "text": [
      "Epoch 4: 100%|██████████| 41/41 [00:05<00:00,  8.17it/s, loss=8.46, v_num=24, train_loss_step=8.560, val_loss=8.610, train_loss_epoch=9.070]"
     ]
    },
    {
     "name": "stderr",
     "output_type": "stream",
     "text": [
      "Metric val_loss improved by 0.373 >= min_delta = 0. New best score: 8.605\n"
     ]
    },
    {
     "name": "stdout",
     "output_type": "stream",
     "text": [
      "Epoch 5: 100%|██████████| 41/41 [00:08<00:00,  4.99it/s, loss=8.1, v_num=24, train_loss_step=8.120, val_loss=8.340, train_loss_epoch=8.510] "
     ]
    },
    {
     "name": "stderr",
     "output_type": "stream",
     "text": [
      "Metric val_loss improved by 0.267 >= min_delta = 0. New best score: 8.338\n"
     ]
    },
    {
     "name": "stdout",
     "output_type": "stream",
     "text": [
      "Epoch 6: 100%|██████████| 41/41 [00:05<00:00,  8.07it/s, loss=7.92, v_num=24, train_loss_step=8.020, val_loss=8.230, train_loss_epoch=8.160]"
     ]
    },
    {
     "name": "stderr",
     "output_type": "stream",
     "text": [
      "Metric val_loss improved by 0.110 >= min_delta = 0. New best score: 8.228\n"
     ]
    },
    {
     "name": "stdout",
     "output_type": "stream",
     "text": [
      "Epoch 7: 100%|██████████| 41/41 [00:05<00:00,  7.67it/s, loss=7.79, v_num=24, train_loss_step=7.770, val_loss=8.150, train_loss_epoch=7.960]"
     ]
    },
    {
     "name": "stderr",
     "output_type": "stream",
     "text": [
      "Metric val_loss improved by 0.078 >= min_delta = 0. New best score: 8.150\n"
     ]
    },
    {
     "name": "stdout",
     "output_type": "stream",
     "text": [
      "Epoch 8: 100%|██████████| 41/41 [00:05<00:00,  7.77it/s, loss=7.66, v_num=24, train_loss_step=7.750, val_loss=8.000, train_loss_epoch=7.820]"
     ]
    },
    {
     "name": "stderr",
     "output_type": "stream",
     "text": [
      "Metric val_loss improved by 0.153 >= min_delta = 0. New best score: 7.996\n"
     ]
    },
    {
     "name": "stdout",
     "output_type": "stream",
     "text": [
      "Epoch 9: 100%|██████████| 41/41 [00:05<00:00,  8.09it/s, loss=7.59, v_num=24, train_loss_step=7.790, val_loss=7.920, train_loss_epoch=7.730]"
     ]
    },
    {
     "name": "stderr",
     "output_type": "stream",
     "text": [
      "Metric val_loss improved by 0.078 >= min_delta = 0. New best score: 7.919\n"
     ]
    },
    {
     "name": "stdout",
     "output_type": "stream",
     "text": [
      "Epoch 10: 100%|██████████| 41/41 [00:05<00:00,  7.86it/s, loss=7.52, v_num=24, train_loss_step=7.230, val_loss=7.790, train_loss_epoch=7.620]"
     ]
    },
    {
     "name": "stderr",
     "output_type": "stream",
     "text": [
      "Metric val_loss improved by 0.126 >= min_delta = 0. New best score: 7.793\n"
     ]
    },
    {
     "name": "stdout",
     "output_type": "stream",
     "text": [
      "Epoch 11: 100%|██████████| 41/41 [00:05<00:00,  8.04it/s, loss=7.38, v_num=24, train_loss_step=7.390, val_loss=7.720, train_loss_epoch=7.520]"
     ]
    },
    {
     "name": "stderr",
     "output_type": "stream",
     "text": [
      "Metric val_loss improved by 0.077 >= min_delta = 0. New best score: 7.716\n"
     ]
    },
    {
     "name": "stdout",
     "output_type": "stream",
     "text": [
      "Epoch 13: 100%|██████████| 41/41 [00:05<00:00,  8.11it/s, loss=7.29, v_num=24, train_loss_step=7.390, val_loss=7.650, train_loss_epoch=7.390]"
     ]
    },
    {
     "name": "stderr",
     "output_type": "stream",
     "text": [
      "Metric val_loss improved by 0.065 >= min_delta = 0. New best score: 7.651\n"
     ]
    },
    {
     "name": "stdout",
     "output_type": "stream",
     "text": [
      "Epoch 14: 100%|██████████| 41/41 [00:05<00:00,  7.79it/s, loss=7.34, v_num=24, train_loss_step=7.330, val_loss=7.640, train_loss_epoch=7.300]"
     ]
    },
    {
     "name": "stderr",
     "output_type": "stream",
     "text": [
      "Metric val_loss improved by 0.014 >= min_delta = 0. New best score: 7.637\n"
     ]
    },
    {
     "name": "stdout",
     "output_type": "stream",
     "text": [
      "Epoch 15: 100%|██████████| 41/41 [00:05<00:00,  7.88it/s, loss=7.2, v_num=24, train_loss_step=7.000, val_loss=7.560, train_loss_epoch=7.320] "
     ]
    },
    {
     "name": "stderr",
     "output_type": "stream",
     "text": [
      "Metric val_loss improved by 0.075 >= min_delta = 0. New best score: 7.562\n"
     ]
    },
    {
     "name": "stdout",
     "output_type": "stream",
     "text": [
      "Epoch 17: 100%|██████████| 41/41 [00:05<00:00,  8.03it/s, loss=7.1, v_num=24, train_loss_step=6.890, val_loss=7.510, train_loss_epoch=7.160] "
     ]
    },
    {
     "name": "stderr",
     "output_type": "stream",
     "text": [
      "Metric val_loss improved by 0.051 >= min_delta = 0. New best score: 7.511\n"
     ]
    },
    {
     "name": "stdout",
     "output_type": "stream",
     "text": [
      "Epoch 18: 100%|██████████| 41/41 [00:05<00:00,  7.92it/s, loss=7.12, v_num=24, train_loss_step=6.860, val_loss=7.450, train_loss_epoch=7.120]"
     ]
    },
    {
     "name": "stderr",
     "output_type": "stream",
     "text": [
      "Metric val_loss improved by 0.056 >= min_delta = 0. New best score: 7.454\n"
     ]
    },
    {
     "name": "stdout",
     "output_type": "stream",
     "text": [
      "Epoch 19: 100%|██████████| 41/41 [00:05<00:00,  7.82it/s, loss=7.03, v_num=24, train_loss_step=6.940, val_loss=7.450, train_loss_epoch=7.170]"
     ]
    },
    {
     "name": "stderr",
     "output_type": "stream",
     "text": [
      "Metric val_loss improved by 0.002 >= min_delta = 0. New best score: 7.453\n"
     ]
    },
    {
     "name": "stdout",
     "output_type": "stream",
     "text": [
      "Epoch 20: 100%|██████████| 41/41 [00:05<00:00,  8.02it/s, loss=6.97, v_num=24, train_loss_step=7.240, val_loss=7.440, train_loss_epoch=7.010]"
     ]
    },
    {
     "name": "stderr",
     "output_type": "stream",
     "text": [
      "Metric val_loss improved by 0.012 >= min_delta = 0. New best score: 7.440\n"
     ]
    },
    {
     "name": "stdout",
     "output_type": "stream",
     "text": [
      "Epoch 22: 100%|██████████| 41/41 [00:05<00:00,  8.11it/s, loss=6.84, v_num=24, train_loss_step=6.610, val_loss=7.290, train_loss_epoch=6.920]"
     ]
    },
    {
     "name": "stderr",
     "output_type": "stream",
     "text": [
      "Metric val_loss improved by 0.152 >= min_delta = 0. New best score: 7.288\n"
     ]
    },
    {
     "name": "stdout",
     "output_type": "stream",
     "text": [
      "Epoch 25: 100%|██████████| 41/41 [00:05<00:00,  7.75it/s, loss=6.8, v_num=24, train_loss_step=6.700, val_loss=7.260, train_loss_epoch=6.810] "
     ]
    },
    {
     "name": "stderr",
     "output_type": "stream",
     "text": [
      "Metric val_loss improved by 0.026 >= min_delta = 0. New best score: 7.262\n"
     ]
    },
    {
     "name": "stdout",
     "output_type": "stream",
     "text": [
      "Epoch 27: 100%|██████████| 41/41 [00:05<00:00,  8.01it/s, loss=6.68, v_num=24, train_loss_step=6.850, val_loss=7.230, train_loss_epoch=6.750]"
     ]
    },
    {
     "name": "stderr",
     "output_type": "stream",
     "text": [
      "Metric val_loss improved by 0.028 >= min_delta = 0. New best score: 7.234\n"
     ]
    },
    {
     "name": "stdout",
     "output_type": "stream",
     "text": [
      "Epoch 29: 100%|██████████| 41/41 [00:05<00:00,  8.00it/s, loss=6.66, v_num=24, train_loss_step=6.730, val_loss=7.160, train_loss_epoch=6.660]"
     ]
    },
    {
     "name": "stderr",
     "output_type": "stream",
     "text": [
      "Metric val_loss improved by 0.077 >= min_delta = 0. New best score: 7.157\n"
     ]
    },
    {
     "name": "stdout",
     "output_type": "stream",
     "text": [
      "Epoch 29: 100%|██████████| 41/41 [00:05<00:00,  7.99it/s, loss=6.66, v_num=24, train_loss_step=6.730, val_loss=7.160, train_loss_epoch=6.630]"
     ]
    },
    {
     "name": "stderr",
     "output_type": "stream",
     "text": [
      "`Trainer.fit` stopped: `max_epochs=30` reached.\n"
     ]
    },
    {
     "name": "stdout",
     "output_type": "stream",
     "text": [
      "Epoch 29: 100%|██████████| 41/41 [00:05<00:00,  7.45it/s, loss=6.66, v_num=24, train_loss_step=6.730, val_loss=7.160, train_loss_epoch=6.630]"
     ]
    },
    {
     "name": "stderr",
     "output_type": "stream",
     "text": [
      "\u001b[32m[I 2024-04-02 19:24:53,969]\u001b[0m Trial 24 finished with value: 28.630380630493164 and parameters: {'neu': 610, 'lay': 1, 'bat': 256, 'lr': 0.04055399053905709, 'dropout': 0.2}. Best is trial 2 with value: 21.622835159301758.\u001b[0m\n"
     ]
    },
    {
     "name": "stdout",
     "output_type": "stream",
     "text": [
      "\n"
     ]
    },
    {
     "name": "stderr",
     "output_type": "stream",
     "text": [
      "GPU available: True (cuda), used: True\n",
      "TPU available: False, using: 0 TPU cores\n",
      "IPU available: False, using: 0 IPUs\n",
      "HPU available: False, using: 0 HPUs\n",
      "`Trainer(limit_train_batches=1.0)` was configured so 100% of the batches per epoch will be used..\n",
      "`Trainer(limit_val_batches=1.0)` was configured so 100% of the batches will be used..\n",
      "LOCAL_RANK: 0 - CUDA_VISIBLE_DEVICES: [0]\n",
      "\n",
      "  | Name                   | Type                             | Params\n",
      "----------------------------------------------------------------------------\n",
      "0 | loss                   | NegativeBinomialDistributionLoss | 0     \n",
      "1 | logging_metrics        | ModuleList                       | 0     \n",
      "2 | embeddings             | MultiEmbedding                   | 728   \n",
      "3 | rnn                    | LSTM                             | 3.8 M \n",
      "4 | distribution_projector | Linear                           | 822   \n",
      "----------------------------------------------------------------------------\n",
      "3.8 M     Trainable params\n",
      "0         Non-trainable params\n",
      "3.8 M     Total params\n",
      "15.035    Total estimated model params size (MB)\n"
     ]
    },
    {
     "name": "stdout",
     "output_type": "stream",
     "text": [
      "Epoch 0: 100%|██████████| 110/110 [00:06<00:00, 17.10it/s, loss=9.04, v_num=25, train_loss_step=8.840, val_loss=9.110]"
     ]
    },
    {
     "name": "stderr",
     "output_type": "stream",
     "text": [
      "Metric val_loss improved. New best score: 9.110\n"
     ]
    },
    {
     "name": "stdout",
     "output_type": "stream",
     "text": [
      "Epoch 1: 100%|██████████| 110/110 [00:06<00:00, 17.83it/s, loss=8.32, v_num=25, train_loss_step=8.820, val_loss=8.500, train_loss_epoch=116.0]"
     ]
    },
    {
     "name": "stderr",
     "output_type": "stream",
     "text": [
      "Metric val_loss improved by 0.606 >= min_delta = 0. New best score: 8.505\n"
     ]
    },
    {
     "name": "stdout",
     "output_type": "stream",
     "text": [
      "Epoch 2: 100%|██████████| 110/110 [00:06<00:00, 18.27it/s, loss=8.18, v_num=25, train_loss_step=8.060, val_loss=8.350, train_loss_epoch=8.500]"
     ]
    },
    {
     "name": "stderr",
     "output_type": "stream",
     "text": [
      "Metric val_loss improved by 0.155 >= min_delta = 0. New best score: 8.350\n"
     ]
    },
    {
     "name": "stdout",
     "output_type": "stream",
     "text": [
      "Epoch 3: 100%|██████████| 110/110 [00:05<00:00, 19.42it/s, loss=8.14, v_num=25, train_loss_step=7.840, val_loss=8.230, train_loss_epoch=10.30]"
     ]
    },
    {
     "name": "stderr",
     "output_type": "stream",
     "text": [
      "Metric val_loss improved by 0.116 >= min_delta = 0. New best score: 8.234\n"
     ]
    },
    {
     "name": "stdout",
     "output_type": "stream",
     "text": [
      "Epoch 4: 100%|██████████| 110/110 [00:06<00:00, 18.02it/s, loss=8.05, v_num=25, train_loss_step=8.130, val_loss=8.230, train_loss_epoch=8.180]"
     ]
    },
    {
     "name": "stderr",
     "output_type": "stream",
     "text": [
      "Metric val_loss improved by 0.007 >= min_delta = 0. New best score: 8.227\n"
     ]
    },
    {
     "name": "stdout",
     "output_type": "stream",
     "text": [
      "Epoch 7: 100%|██████████| 110/110 [00:05<00:00, 19.18it/s, loss=8, v_num=25, train_loss_step=7.930, val_loss=8.090, train_loss_epoch=8.570]   "
     ]
    },
    {
     "name": "stderr",
     "output_type": "stream",
     "text": [
      "Metric val_loss improved by 0.142 >= min_delta = 0. New best score: 8.085\n"
     ]
    },
    {
     "name": "stdout",
     "output_type": "stream",
     "text": [
      "Epoch 10: 100%|██████████| 110/110 [00:05<00:00, 18.42it/s, loss=8.73, v_num=25, train_loss_step=7.660, val_loss=8.060, train_loss_epoch=8.080]"
     ]
    },
    {
     "name": "stderr",
     "output_type": "stream",
     "text": [
      "Metric val_loss improved by 0.025 >= min_delta = 0. New best score: 8.060\n"
     ]
    },
    {
     "name": "stdout",
     "output_type": "stream",
     "text": [
      "Epoch 11: 100%|██████████| 110/110 [00:06<00:00, 18.23it/s, loss=7.87, v_num=25, train_loss_step=7.930, val_loss=8.030, train_loss_epoch=8.250]"
     ]
    },
    {
     "name": "stderr",
     "output_type": "stream",
     "text": [
      "Metric val_loss improved by 0.025 >= min_delta = 0. New best score: 8.035\n"
     ]
    },
    {
     "name": "stdout",
     "output_type": "stream",
     "text": [
      "Epoch 14: 100%|██████████| 110/110 [00:06<00:00, 18.32it/s, loss=7.92, v_num=25, train_loss_step=7.990, val_loss=7.980, train_loss_epoch=8.130]"
     ]
    },
    {
     "name": "stderr",
     "output_type": "stream",
     "text": [
      "Metric val_loss improved by 0.054 >= min_delta = 0. New best score: 7.981\n"
     ]
    },
    {
     "name": "stdout",
     "output_type": "stream",
     "text": [
      "Epoch 19: 100%|██████████| 110/110 [00:06<00:00, 17.84it/s, loss=8.06, v_num=25, train_loss_step=8.060, val_loss=8.080, train_loss_epoch=8.070]"
     ]
    },
    {
     "name": "stderr",
     "output_type": "stream",
     "text": [
      "Monitored metric val_loss did not improve in the last 5 records. Best score: 7.981. Signaling Trainer to stop.\n"
     ]
    },
    {
     "name": "stdout",
     "output_type": "stream",
     "text": [
      "Epoch 19: 100%|██████████| 110/110 [00:06<00:00, 17.59it/s, loss=8.06, v_num=25, train_loss_step=8.060, val_loss=8.080, train_loss_epoch=8.050]"
     ]
    },
    {
     "name": "stderr",
     "output_type": "stream",
     "text": [
      "\u001b[32m[I 2024-04-02 19:26:59,144]\u001b[0m Trial 25 pruned. \u001b[0m\n"
     ]
    },
    {
     "name": "stdout",
     "output_type": "stream",
     "text": [
      "\n"
     ]
    },
    {
     "name": "stderr",
     "output_type": "stream",
     "text": [
      "GPU available: True (cuda), used: True\n",
      "TPU available: False, using: 0 TPU cores\n",
      "IPU available: False, using: 0 IPUs\n",
      "HPU available: False, using: 0 HPUs\n",
      "`Trainer(limit_train_batches=1.0)` was configured so 100% of the batches per epoch will be used..\n",
      "`Trainer(limit_val_batches=1.0)` was configured so 100% of the batches will be used..\n",
      "LOCAL_RANK: 0 - CUDA_VISIBLE_DEVICES: [0]\n",
      "\n",
      "  | Name                   | Type                             | Params\n",
      "----------------------------------------------------------------------------\n",
      "0 | loss                   | NegativeBinomialDistributionLoss | 0     \n",
      "1 | logging_metrics        | ModuleList                       | 0     \n",
      "2 | embeddings             | MultiEmbedding                   | 728   \n",
      "3 | rnn                    | LSTM                             | 3.4 M \n",
      "4 | distribution_projector | Linear                           | 1.6 K \n",
      "----------------------------------------------------------------------------\n",
      "3.4 M     Trainable params\n",
      "0         Non-trainable params\n",
      "3.4 M     Total params\n",
      "13.579    Total estimated model params size (MB)\n"
     ]
    },
    {
     "name": "stdout",
     "output_type": "stream",
     "text": [
      "Epoch 0: 100%|██████████| 28/28 [00:05<00:00,  5.44it/s, loss=752, v_num=26, train_loss_step=196.0, val_loss=156.0]"
     ]
    },
    {
     "name": "stderr",
     "output_type": "stream",
     "text": [
      "Metric val_loss improved. New best score: 156.008\n"
     ]
    },
    {
     "name": "stdout",
     "output_type": "stream",
     "text": [
      "Epoch 1: 100%|██████████| 28/28 [00:05<00:00,  5.46it/s, loss=55.4, v_num=26, train_loss_step=20.00, val_loss=19.20, train_loss_epoch=752.0]"
     ]
    },
    {
     "name": "stderr",
     "output_type": "stream",
     "text": [
      "Metric val_loss improved by 136.758 >= min_delta = 0. New best score: 19.250\n"
     ]
    },
    {
     "name": "stdout",
     "output_type": "stream",
     "text": [
      "Epoch 2: 100%|██████████| 28/28 [00:05<00:00,  5.56it/s, loss=13.6, v_num=26, train_loss_step=11.40, val_loss=11.40, train_loss_epoch=48.00]"
     ]
    },
    {
     "name": "stderr",
     "output_type": "stream",
     "text": [
      "Metric val_loss improved by 7.862 >= min_delta = 0. New best score: 11.388\n"
     ]
    },
    {
     "name": "stdout",
     "output_type": "stream",
     "text": [
      "Epoch 3: 100%|██████████| 28/28 [00:05<00:00,  5.51it/s, loss=10.5, v_num=26, train_loss_step=10.20, val_loss=10.40, train_loss_epoch=13.30]"
     ]
    },
    {
     "name": "stderr",
     "output_type": "stream",
     "text": [
      "Metric val_loss improved by 0.997 >= min_delta = 0. New best score: 10.391\n"
     ]
    },
    {
     "name": "stdout",
     "output_type": "stream",
     "text": [
      "Epoch 4: 100%|██████████| 28/28 [00:05<00:00,  5.59it/s, loss=9.87, v_num=26, train_loss_step=9.550, val_loss=9.740, train_loss_epoch=10.50]"
     ]
    },
    {
     "name": "stderr",
     "output_type": "stream",
     "text": [
      "Metric val_loss improved by 0.654 >= min_delta = 0. New best score: 9.737\n"
     ]
    },
    {
     "name": "stdout",
     "output_type": "stream",
     "text": [
      "Epoch 5: 100%|██████████| 28/28 [00:05<00:00,  5.38it/s, loss=9.29, v_num=26, train_loss_step=9.140, val_loss=9.320, train_loss_epoch=9.860]"
     ]
    },
    {
     "name": "stderr",
     "output_type": "stream",
     "text": [
      "Metric val_loss improved by 0.422 >= min_delta = 0. New best score: 9.315\n"
     ]
    },
    {
     "name": "stdout",
     "output_type": "stream",
     "text": [
      "Epoch 6: 100%|██████████| 28/28 [00:05<00:00,  5.36it/s, loss=8.84, v_num=26, train_loss_step=8.640, val_loss=8.980, train_loss_epoch=9.270]"
     ]
    },
    {
     "name": "stderr",
     "output_type": "stream",
     "text": [
      "Metric val_loss improved by 0.337 >= min_delta = 0. New best score: 8.978\n"
     ]
    },
    {
     "name": "stdout",
     "output_type": "stream",
     "text": [
      "Epoch 7: 100%|██████████| 28/28 [00:05<00:00,  5.36it/s, loss=8.58, v_num=26, train_loss_step=8.390, val_loss=8.750, train_loss_epoch=8.820]"
     ]
    },
    {
     "name": "stderr",
     "output_type": "stream",
     "text": [
      "Metric val_loss improved by 0.233 >= min_delta = 0. New best score: 8.745\n"
     ]
    },
    {
     "name": "stdout",
     "output_type": "stream",
     "text": [
      "Epoch 8: 100%|██████████| 28/28 [00:05<00:00,  5.42it/s, loss=8.39, v_num=26, train_loss_step=8.350, val_loss=8.570, train_loss_epoch=8.580]"
     ]
    },
    {
     "name": "stderr",
     "output_type": "stream",
     "text": [
      "Metric val_loss improved by 0.171 >= min_delta = 0. New best score: 8.574\n"
     ]
    },
    {
     "name": "stdout",
     "output_type": "stream",
     "text": [
      "Epoch 9: 100%|██████████| 28/28 [00:05<00:00,  5.41it/s, loss=8.24, v_num=26, train_loss_step=8.100, val_loss=8.450, train_loss_epoch=8.390]"
     ]
    },
    {
     "name": "stderr",
     "output_type": "stream",
     "text": [
      "Metric val_loss improved by 0.121 >= min_delta = 0. New best score: 8.453\n"
     ]
    },
    {
     "name": "stdout",
     "output_type": "stream",
     "text": [
      "Epoch 10: 100%|██████████| 28/28 [00:05<00:00,  5.54it/s, loss=8.1, v_num=26, train_loss_step=7.720, val_loss=8.350, train_loss_epoch=8.230] "
     ]
    },
    {
     "name": "stderr",
     "output_type": "stream",
     "text": [
      "Metric val_loss improved by 0.101 >= min_delta = 0. New best score: 8.352\n"
     ]
    },
    {
     "name": "stdout",
     "output_type": "stream",
     "text": [
      "Epoch 11: 100%|██████████| 28/28 [00:05<00:00,  5.39it/s, loss=7.98, v_num=26, train_loss_step=7.770, val_loss=8.250, train_loss_epoch=8.100]"
     ]
    },
    {
     "name": "stderr",
     "output_type": "stream",
     "text": [
      "Metric val_loss improved by 0.104 >= min_delta = 0. New best score: 8.248\n"
     ]
    },
    {
     "name": "stdout",
     "output_type": "stream",
     "text": [
      "Epoch 12: 100%|██████████| 28/28 [00:05<00:00,  5.46it/s, loss=7.88, v_num=26, train_loss_step=7.700, val_loss=8.170, train_loss_epoch=7.990]"
     ]
    },
    {
     "name": "stderr",
     "output_type": "stream",
     "text": [
      "Metric val_loss improved by 0.079 >= min_delta = 0. New best score: 8.169\n"
     ]
    },
    {
     "name": "stdout",
     "output_type": "stream",
     "text": [
      "Epoch 13: 100%|██████████| 28/28 [00:05<00:00,  5.55it/s, loss=7.79, v_num=26, train_loss_step=7.590, val_loss=8.070, train_loss_epoch=7.890]"
     ]
    },
    {
     "name": "stderr",
     "output_type": "stream",
     "text": [
      "Metric val_loss improved by 0.097 >= min_delta = 0. New best score: 8.073\n"
     ]
    },
    {
     "name": "stdout",
     "output_type": "stream",
     "text": [
      "Epoch 15: 100%|██████████| 28/28 [00:05<00:00,  5.56it/s, loss=7.66, v_num=26, train_loss_step=7.700, val_loss=7.950, train_loss_epoch=7.740]"
     ]
    },
    {
     "name": "stderr",
     "output_type": "stream",
     "text": [
      "Metric val_loss improved by 0.126 >= min_delta = 0. New best score: 7.947\n"
     ]
    },
    {
     "name": "stdout",
     "output_type": "stream",
     "text": [
      "Epoch 16: 100%|██████████| 28/28 [00:05<00:00,  5.31it/s, loss=7.59, v_num=26, train_loss_step=7.110, val_loss=7.920, train_loss_epoch=7.650]"
     ]
    },
    {
     "name": "stderr",
     "output_type": "stream",
     "text": [
      "Metric val_loss improved by 0.027 >= min_delta = 0. New best score: 7.920\n"
     ]
    },
    {
     "name": "stdout",
     "output_type": "stream",
     "text": [
      "Epoch 17: 100%|██████████| 28/28 [00:05<00:00,  5.55it/s, loss=7.5, v_num=26, train_loss_step=7.340, val_loss=7.850, train_loss_epoch=7.580] "
     ]
    },
    {
     "name": "stderr",
     "output_type": "stream",
     "text": [
      "Metric val_loss improved by 0.075 >= min_delta = 0. New best score: 7.845\n"
     ]
    },
    {
     "name": "stdout",
     "output_type": "stream",
     "text": [
      "Epoch 18: 100%|██████████| 28/28 [00:05<00:00,  5.48it/s, loss=7.47, v_num=26, train_loss_step=7.500, val_loss=7.830, train_loss_epoch=7.520]"
     ]
    },
    {
     "name": "stderr",
     "output_type": "stream",
     "text": [
      "Metric val_loss improved by 0.011 >= min_delta = 0. New best score: 7.834\n"
     ]
    },
    {
     "name": "stdout",
     "output_type": "stream",
     "text": [
      "Epoch 19: 100%|██████████| 28/28 [00:05<00:00,  5.45it/s, loss=7.44, v_num=26, train_loss_step=7.440, val_loss=7.820, train_loss_epoch=7.480]"
     ]
    },
    {
     "name": "stderr",
     "output_type": "stream",
     "text": [
      "Metric val_loss improved by 0.017 >= min_delta = 0. New best score: 7.817\n"
     ]
    },
    {
     "name": "stdout",
     "output_type": "stream",
     "text": [
      "Epoch 20: 100%|██████████| 28/28 [00:08<00:00,  3.37it/s, loss=7.37, v_num=26, train_loss_step=7.350, val_loss=7.750, train_loss_epoch=7.440]"
     ]
    },
    {
     "name": "stderr",
     "output_type": "stream",
     "text": [
      "Metric val_loss improved by 0.064 >= min_delta = 0. New best score: 7.753\n"
     ]
    },
    {
     "name": "stdout",
     "output_type": "stream",
     "text": [
      "Epoch 22: 100%|██████████| 28/28 [00:05<00:00,  5.41it/s, loss=7.34, v_num=26, train_loss_step=7.600, val_loss=7.750, train_loss_epoch=7.360]"
     ]
    },
    {
     "name": "stderr",
     "output_type": "stream",
     "text": [
      "Metric val_loss improved by 0.002 >= min_delta = 0. New best score: 7.751\n"
     ]
    },
    {
     "name": "stdout",
     "output_type": "stream",
     "text": [
      "Epoch 23: 100%|██████████| 28/28 [00:05<00:00,  5.36it/s, loss=7.24, v_num=26, train_loss_step=7.100, val_loss=7.620, train_loss_epoch=7.320]"
     ]
    },
    {
     "name": "stderr",
     "output_type": "stream",
     "text": [
      "Metric val_loss improved by 0.132 >= min_delta = 0. New best score: 7.619\n"
     ]
    },
    {
     "name": "stdout",
     "output_type": "stream",
     "text": [
      "Epoch 24: 100%|██████████| 28/28 [00:05<00:00,  5.42it/s, loss=7.18, v_num=26, train_loss_step=7.120, val_loss=7.590, train_loss_epoch=7.220]"
     ]
    },
    {
     "name": "stderr",
     "output_type": "stream",
     "text": [
      "Metric val_loss improved by 0.030 >= min_delta = 0. New best score: 7.590\n"
     ]
    },
    {
     "name": "stdout",
     "output_type": "stream",
     "text": [
      "Epoch 25: 100%|██████████| 28/28 [00:05<00:00,  5.46it/s, loss=7.17, v_num=26, train_loss_step=7.170, val_loss=7.570, train_loss_epoch=7.190]"
     ]
    },
    {
     "name": "stderr",
     "output_type": "stream",
     "text": [
      "Metric val_loss improved by 0.024 >= min_delta = 0. New best score: 7.566\n"
     ]
    },
    {
     "name": "stdout",
     "output_type": "stream",
     "text": [
      "Epoch 26: 100%|██████████| 28/28 [00:04<00:00,  5.61it/s, loss=7.11, v_num=26, train_loss_step=7.220, val_loss=7.530, train_loss_epoch=7.170]"
     ]
    },
    {
     "name": "stderr",
     "output_type": "stream",
     "text": [
      "Metric val_loss improved by 0.032 >= min_delta = 0. New best score: 7.534\n"
     ]
    },
    {
     "name": "stdout",
     "output_type": "stream",
     "text": [
      "Epoch 29: 100%|██████████| 28/28 [00:05<00:00,  5.42it/s, loss=7.02, v_num=26, train_loss_step=6.980, val_loss=7.440, train_loss_epoch=7.100]"
     ]
    },
    {
     "name": "stderr",
     "output_type": "stream",
     "text": [
      "Metric val_loss improved by 0.092 >= min_delta = 0. New best score: 7.442\n"
     ]
    },
    {
     "name": "stdout",
     "output_type": "stream",
     "text": [
      "Epoch 29: 100%|██████████| 28/28 [00:05<00:00,  5.42it/s, loss=7.02, v_num=26, train_loss_step=6.980, val_loss=7.440, train_loss_epoch=7.020]"
     ]
    },
    {
     "name": "stderr",
     "output_type": "stream",
     "text": [
      "`Trainer.fit` stopped: `max_epochs=30` reached.\n"
     ]
    },
    {
     "name": "stdout",
     "output_type": "stream",
     "text": [
      "Epoch 29: 100%|██████████| 28/28 [00:05<00:00,  5.26it/s, loss=7.02, v_num=26, train_loss_step=6.980, val_loss=7.440, train_loss_epoch=7.020]"
     ]
    },
    {
     "name": "stderr",
     "output_type": "stream",
     "text": [
      "\u001b[32m[I 2024-04-02 19:29:44,346]\u001b[0m Trial 26 finished with value: 35.943416595458984 and parameters: {'neu': 810, 'lay': 1, 'bat': 384, 'lr': 0.02220321881429524, 'dropout': 0.2}. Best is trial 2 with value: 21.622835159301758.\u001b[0m\n"
     ]
    },
    {
     "name": "stdout",
     "output_type": "stream",
     "text": [
      "\n"
     ]
    },
    {
     "name": "stderr",
     "output_type": "stream",
     "text": [
      "GPU available: True (cuda), used: True\n",
      "TPU available: False, using: 0 TPU cores\n",
      "IPU available: False, using: 0 IPUs\n",
      "HPU available: False, using: 0 HPUs\n",
      "`Trainer(limit_train_batches=1.0)` was configured so 100% of the batches per epoch will be used..\n",
      "`Trainer(limit_val_batches=1.0)` was configured so 100% of the batches will be used..\n",
      "LOCAL_RANK: 0 - CUDA_VISIBLE_DEVICES: [0]\n",
      "\n",
      "  | Name                   | Type                             | Params\n",
      "----------------------------------------------------------------------------\n",
      "0 | loss                   | NegativeBinomialDistributionLoss | 0     \n",
      "1 | logging_metrics        | ModuleList                       | 0     \n",
      "2 | embeddings             | MultiEmbedding                   | 728   \n",
      "3 | rnn                    | LSTM                             | 13.9 M\n",
      "4 | distribution_projector | Linear                           | 1.6 K \n",
      "----------------------------------------------------------------------------\n",
      "13.9 M    Trainable params\n",
      "0         Non-trainable params\n",
      "13.9 M    Total params\n",
      "55.621    Total estimated model params size (MB)\n"
     ]
    },
    {
     "name": "stdout",
     "output_type": "stream",
     "text": [
      "Epoch 0: 100%|██████████| 18/18 [00:04<00:00,  3.70it/s, loss=754, v_num=27, train_loss_step=111.0, val_loss=216.0]"
     ]
    },
    {
     "name": "stderr",
     "output_type": "stream",
     "text": [
      "Metric val_loss improved. New best score: 216.165\n"
     ]
    },
    {
     "name": "stdout",
     "output_type": "stream",
     "text": [
      "Epoch 1: 100%|██████████| 18/18 [00:04<00:00,  3.65it/s, loss=270, v_num=27, train_loss_step=10.90, val_loss=12.10, train_loss_epoch=754.0]"
     ]
    },
    {
     "name": "stderr",
     "output_type": "stream",
     "text": [
      "Metric val_loss improved by 204.049 >= min_delta = 0. New best score: 12.116\n"
     ]
    },
    {
     "name": "stdout",
     "output_type": "stream",
     "text": [
      "Epoch 2: 100%|██████████| 18/18 [00:04<00:00,  3.69it/s, loss=12.5, v_num=27, train_loss_step=10.20, val_loss=10.50, train_loss_epoch=41.50]"
     ]
    },
    {
     "name": "stderr",
     "output_type": "stream",
     "text": [
      "Metric val_loss improved by 1.632 >= min_delta = 0. New best score: 10.484\n"
     ]
    },
    {
     "name": "stdout",
     "output_type": "stream",
     "text": [
      "Epoch 3: 100%|██████████| 18/18 [00:04<00:00,  3.70it/s, loss=10.1, v_num=27, train_loss_step=9.590, val_loss=10.10, train_loss_epoch=10.50]"
     ]
    },
    {
     "name": "stderr",
     "output_type": "stream",
     "text": [
      "Metric val_loss improved by 0.427 >= min_delta = 0. New best score: 10.057\n"
     ]
    },
    {
     "name": "stdout",
     "output_type": "stream",
     "text": [
      "Epoch 4: 100%|██████████| 18/18 [00:04<00:00,  3.73it/s, loss=9.73, v_num=27, train_loss_step=9.690, val_loss=9.720, train_loss_epoch=10.00]"
     ]
    },
    {
     "name": "stderr",
     "output_type": "stream",
     "text": [
      "Metric val_loss improved by 0.342 >= min_delta = 0. New best score: 9.716\n"
     ]
    },
    {
     "name": "stdout",
     "output_type": "stream",
     "text": [
      "Epoch 5: 100%|██████████| 18/18 [00:04<00:00,  3.76it/s, loss=9.36, v_num=27, train_loss_step=9.080, val_loss=9.410, train_loss_epoch=9.610]"
     ]
    },
    {
     "name": "stderr",
     "output_type": "stream",
     "text": [
      "Metric val_loss improved by 0.308 >= min_delta = 0. New best score: 9.407\n"
     ]
    },
    {
     "name": "stdout",
     "output_type": "stream",
     "text": [
      "Epoch 6: 100%|██████████| 18/18 [00:04<00:00,  3.78it/s, loss=9.06, v_num=27, train_loss_step=8.890, val_loss=9.170, train_loss_epoch=9.220]"
     ]
    },
    {
     "name": "stderr",
     "output_type": "stream",
     "text": [
      "Metric val_loss improved by 0.241 >= min_delta = 0. New best score: 9.166\n"
     ]
    },
    {
     "name": "stdout",
     "output_type": "stream",
     "text": [
      "Epoch 7: 100%|██████████| 18/18 [00:04<00:00,  3.79it/s, loss=8.84, v_num=27, train_loss_step=8.640, val_loss=8.980, train_loss_epoch=8.990]"
     ]
    },
    {
     "name": "stderr",
     "output_type": "stream",
     "text": [
      "Metric val_loss improved by 0.182 >= min_delta = 0. New best score: 8.984\n"
     ]
    },
    {
     "name": "stdout",
     "output_type": "stream",
     "text": [
      "Epoch 8: 100%|██████████| 18/18 [00:04<00:00,  3.72it/s, loss=8.68, v_num=27, train_loss_step=8.510, val_loss=8.850, train_loss_epoch=8.780]"
     ]
    },
    {
     "name": "stderr",
     "output_type": "stream",
     "text": [
      "Metric val_loss improved by 0.129 >= min_delta = 0. New best score: 8.855\n"
     ]
    },
    {
     "name": "stdout",
     "output_type": "stream",
     "text": [
      "Epoch 9: 100%|██████████| 18/18 [00:04<00:00,  3.71it/s, loss=8.57, v_num=27, train_loss_step=8.380, val_loss=8.760, train_loss_epoch=8.630]"
     ]
    },
    {
     "name": "stderr",
     "output_type": "stream",
     "text": [
      "Metric val_loss improved by 0.092 >= min_delta = 0. New best score: 8.763\n"
     ]
    },
    {
     "name": "stdout",
     "output_type": "stream",
     "text": [
      "Epoch 10: 100%|██████████| 18/18 [00:04<00:00,  3.63it/s, loss=8.48, v_num=27, train_loss_step=8.490, val_loss=8.690, train_loss_epoch=8.530]"
     ]
    },
    {
     "name": "stderr",
     "output_type": "stream",
     "text": [
      "Metric val_loss improved by 0.071 >= min_delta = 0. New best score: 8.692\n"
     ]
    },
    {
     "name": "stdout",
     "output_type": "stream",
     "text": [
      "Epoch 11: 100%|██████████| 18/18 [00:04<00:00,  3.74it/s, loss=8.44, v_num=27, train_loss_step=8.230, val_loss=8.640, train_loss_epoch=8.470]"
     ]
    },
    {
     "name": "stderr",
     "output_type": "stream",
     "text": [
      "Metric val_loss improved by 0.053 >= min_delta = 0. New best score: 8.639\n"
     ]
    },
    {
     "name": "stdout",
     "output_type": "stream",
     "text": [
      "Epoch 12: 100%|██████████| 18/18 [00:04<00:00,  3.71it/s, loss=8.39, v_num=27, train_loss_step=8.340, val_loss=8.600, train_loss_epoch=8.410]"
     ]
    },
    {
     "name": "stderr",
     "output_type": "stream",
     "text": [
      "Metric val_loss improved by 0.042 >= min_delta = 0. New best score: 8.597\n"
     ]
    },
    {
     "name": "stdout",
     "output_type": "stream",
     "text": [
      "Epoch 13: 100%|██████████| 18/18 [00:04<00:00,  3.71it/s, loss=8.34, v_num=27, train_loss_step=8.320, val_loss=8.560, train_loss_epoch=8.370]"
     ]
    },
    {
     "name": "stderr",
     "output_type": "stream",
     "text": [
      "Metric val_loss improved by 0.035 >= min_delta = 0. New best score: 8.563\n"
     ]
    },
    {
     "name": "stdout",
     "output_type": "stream",
     "text": [
      "Epoch 14: 100%|██████████| 18/18 [00:04<00:00,  3.72it/s, loss=8.33, v_num=27, train_loss_step=8.180, val_loss=8.530, train_loss_epoch=8.340]"
     ]
    },
    {
     "name": "stderr",
     "output_type": "stream",
     "text": [
      "Metric val_loss improved by 0.028 >= min_delta = 0. New best score: 8.534\n"
     ]
    },
    {
     "name": "stdout",
     "output_type": "stream",
     "text": [
      "Epoch 15: 100%|██████████| 18/18 [00:04<00:00,  3.76it/s, loss=8.3, v_num=27, train_loss_step=8.280, val_loss=8.510, train_loss_epoch=8.320] "
     ]
    },
    {
     "name": "stderr",
     "output_type": "stream",
     "text": [
      "Metric val_loss improved by 0.026 >= min_delta = 0. New best score: 8.508\n"
     ]
    },
    {
     "name": "stdout",
     "output_type": "stream",
     "text": [
      "Epoch 16: 100%|██████████| 18/18 [00:04<00:00,  3.75it/s, loss=8.27, v_num=27, train_loss_step=8.310, val_loss=8.490, train_loss_epoch=8.290]"
     ]
    },
    {
     "name": "stderr",
     "output_type": "stream",
     "text": [
      "Metric val_loss improved by 0.023 >= min_delta = 0. New best score: 8.485\n"
     ]
    },
    {
     "name": "stdout",
     "output_type": "stream",
     "text": [
      "Epoch 17: 100%|██████████| 18/18 [00:04<00:00,  3.76it/s, loss=8.27, v_num=27, train_loss_step=8.090, val_loss=8.470, train_loss_epoch=8.270]"
     ]
    },
    {
     "name": "stderr",
     "output_type": "stream",
     "text": [
      "Metric val_loss improved by 0.019 >= min_delta = 0. New best score: 8.467\n"
     ]
    },
    {
     "name": "stdout",
     "output_type": "stream",
     "text": [
      "Epoch 18: 100%|██████████| 18/18 [00:04<00:00,  3.64it/s, loss=8.23, v_num=27, train_loss_step=8.210, val_loss=8.450, train_loss_epoch=8.250]"
     ]
    },
    {
     "name": "stderr",
     "output_type": "stream",
     "text": [
      "Metric val_loss improved by 0.017 >= min_delta = 0. New best score: 8.450\n"
     ]
    },
    {
     "name": "stdout",
     "output_type": "stream",
     "text": [
      "Epoch 19: 100%|██████████| 18/18 [00:04<00:00,  3.63it/s, loss=8.21, v_num=27, train_loss_step=8.110, val_loss=8.430, train_loss_epoch=8.230]"
     ]
    },
    {
     "name": "stderr",
     "output_type": "stream",
     "text": [
      "Metric val_loss improved by 0.016 >= min_delta = 0. New best score: 8.434\n"
     ]
    },
    {
     "name": "stdout",
     "output_type": "stream",
     "text": [
      "Epoch 20: 100%|██████████| 18/18 [00:04<00:00,  3.68it/s, loss=8.21, v_num=27, train_loss_step=8.250, val_loss=8.420, train_loss_epoch=8.210]"
     ]
    },
    {
     "name": "stderr",
     "output_type": "stream",
     "text": [
      "Metric val_loss improved by 0.015 >= min_delta = 0. New best score: 8.420\n"
     ]
    },
    {
     "name": "stdout",
     "output_type": "stream",
     "text": [
      "Epoch 21: 100%|██████████| 18/18 [00:08<00:00,  2.24it/s, loss=8.19, v_num=27, train_loss_step=8.220, val_loss=8.400, train_loss_epoch=8.190]"
     ]
    },
    {
     "name": "stderr",
     "output_type": "stream",
     "text": [
      "Metric val_loss improved by 0.016 >= min_delta = 0. New best score: 8.404\n"
     ]
    },
    {
     "name": "stdout",
     "output_type": "stream",
     "text": [
      "Epoch 22: 100%|██████████| 18/18 [00:04<00:00,  3.71it/s, loss=8.18, v_num=27, train_loss_step=8.120, val_loss=8.390, train_loss_epoch=8.170]"
     ]
    },
    {
     "name": "stderr",
     "output_type": "stream",
     "text": [
      "Metric val_loss improved by 0.014 >= min_delta = 0. New best score: 8.390\n"
     ]
    },
    {
     "name": "stdout",
     "output_type": "stream",
     "text": [
      "Epoch 23: 100%|██████████| 18/18 [00:04<00:00,  3.74it/s, loss=8.17, v_num=27, train_loss_step=8.170, val_loss=8.380, train_loss_epoch=8.180]"
     ]
    },
    {
     "name": "stderr",
     "output_type": "stream",
     "text": [
      "Metric val_loss improved by 0.012 >= min_delta = 0. New best score: 8.378\n"
     ]
    },
    {
     "name": "stdout",
     "output_type": "stream",
     "text": [
      "Epoch 24: 100%|██████████| 18/18 [00:04<00:00,  3.70it/s, loss=8.15, v_num=27, train_loss_step=8.100, val_loss=8.370, train_loss_epoch=8.160]"
     ]
    },
    {
     "name": "stderr",
     "output_type": "stream",
     "text": [
      "Metric val_loss improved by 0.011 >= min_delta = 0. New best score: 8.367\n"
     ]
    },
    {
     "name": "stdout",
     "output_type": "stream",
     "text": [
      "Epoch 25: 100%|██████████| 18/18 [00:04<00:00,  3.73it/s, loss=8.14, v_num=27, train_loss_step=7.960, val_loss=8.360, train_loss_epoch=8.160]"
     ]
    },
    {
     "name": "stderr",
     "output_type": "stream",
     "text": [
      "Metric val_loss improved by 0.012 >= min_delta = 0. New best score: 8.355\n"
     ]
    },
    {
     "name": "stdout",
     "output_type": "stream",
     "text": [
      "Epoch 26: 100%|██████████| 18/18 [00:04<00:00,  3.71it/s, loss=8.13, v_num=27, train_loss_step=8.050, val_loss=8.340, train_loss_epoch=8.140]"
     ]
    },
    {
     "name": "stderr",
     "output_type": "stream",
     "text": [
      "Metric val_loss improved by 0.012 >= min_delta = 0. New best score: 8.343\n"
     ]
    },
    {
     "name": "stdout",
     "output_type": "stream",
     "text": [
      "Epoch 27: 100%|██████████| 18/18 [00:04<00:00,  3.75it/s, loss=8.12, v_num=27, train_loss_step=8.230, val_loss=8.330, train_loss_epoch=8.130]"
     ]
    },
    {
     "name": "stderr",
     "output_type": "stream",
     "text": [
      "Metric val_loss improved by 0.010 >= min_delta = 0. New best score: 8.333\n"
     ]
    },
    {
     "name": "stdout",
     "output_type": "stream",
     "text": [
      "Epoch 28: 100%|██████████| 18/18 [00:04<00:00,  3.68it/s, loss=8.11, v_num=27, train_loss_step=8.040, val_loss=8.320, train_loss_epoch=8.120]"
     ]
    },
    {
     "name": "stderr",
     "output_type": "stream",
     "text": [
      "Metric val_loss improved by 0.009 >= min_delta = 0. New best score: 8.324\n"
     ]
    },
    {
     "name": "stdout",
     "output_type": "stream",
     "text": [
      "Epoch 29: 100%|██████████| 18/18 [00:04<00:00,  3.72it/s, loss=8.11, v_num=27, train_loss_step=8.050, val_loss=8.320, train_loss_epoch=8.110]"
     ]
    },
    {
     "name": "stderr",
     "output_type": "stream",
     "text": [
      "Metric val_loss improved by 0.008 >= min_delta = 0. New best score: 8.316\n"
     ]
    },
    {
     "name": "stdout",
     "output_type": "stream",
     "text": [
      "Epoch 29: 100%|██████████| 18/18 [00:04<00:00,  3.71it/s, loss=8.11, v_num=27, train_loss_step=8.050, val_loss=8.320, train_loss_epoch=8.120]"
     ]
    },
    {
     "name": "stderr",
     "output_type": "stream",
     "text": [
      "`Trainer.fit` stopped: `max_epochs=30` reached.\n"
     ]
    },
    {
     "name": "stdout",
     "output_type": "stream",
     "text": [
      "Epoch 29: 100%|██████████| 18/18 [00:05<00:00,  3.25it/s, loss=8.11, v_num=27, train_loss_step=8.050, val_loss=8.320, train_loss_epoch=8.120]"
     ]
    },
    {
     "name": "stderr",
     "output_type": "stream",
     "text": [
      "\u001b[32m[I 2024-04-02 19:32:58,204]\u001b[0m Trial 27 pruned. \u001b[0m\n"
     ]
    },
    {
     "name": "stdout",
     "output_type": "stream",
     "text": [
      "\n"
     ]
    },
    {
     "name": "stderr",
     "output_type": "stream",
     "text": [
      "GPU available: True (cuda), used: True\n",
      "TPU available: False, using: 0 TPU cores\n",
      "IPU available: False, using: 0 IPUs\n",
      "HPU available: False, using: 0 HPUs\n",
      "`Trainer(limit_train_batches=1.0)` was configured so 100% of the batches per epoch will be used..\n",
      "`Trainer(limit_val_batches=1.0)` was configured so 100% of the batches will be used..\n",
      "LOCAL_RANK: 0 - CUDA_VISIBLE_DEVICES: [0]\n",
      "\n",
      "  | Name                   | Type                             | Params\n",
      "----------------------------------------------------------------------------\n",
      "0 | loss                   | NegativeBinomialDistributionLoss | 0     \n",
      "1 | logging_metrics        | ModuleList                       | 0     \n",
      "2 | embeddings             | MultiEmbedding                   | 728   \n",
      "3 | rnn                    | LSTM                             | 2.1 M \n",
      "4 | distribution_projector | Linear                           | 1.2 K \n",
      "----------------------------------------------------------------------------\n",
      "2.1 M     Trainable params\n",
      "0         Non-trainable params\n",
      "2.1 M     Total params\n",
      "8.275     Total estimated model params size (MB)\n"
     ]
    },
    {
     "name": "stdout",
     "output_type": "stream",
     "text": [
      "Epoch 0: 100%|██████████| 41/41 [00:05<00:00,  7.92it/s, loss=596, v_num=28, train_loss_step=324.0, val_loss=327.0]"
     ]
    },
    {
     "name": "stderr",
     "output_type": "stream",
     "text": [
      "Metric val_loss improved. New best score: 327.491\n"
     ]
    },
    {
     "name": "stdout",
     "output_type": "stream",
     "text": [
      "Epoch 1: 100%|██████████| 41/41 [00:05<00:00,  7.66it/s, loss=113, v_num=28, train_loss_step=60.80, val_loss=65.20, train_loss_epoch=717.0]"
     ]
    },
    {
     "name": "stderr",
     "output_type": "stream",
     "text": [
      "Metric val_loss improved by 262.277 >= min_delta = 0. New best score: 65.214\n"
     ]
    },
    {
     "name": "stdout",
     "output_type": "stream",
     "text": [
      "Epoch 2: 100%|██████████| 41/41 [00:05<00:00,  7.78it/s, loss=29.3, v_num=28, train_loss_step=20.10, val_loss=24.30, train_loss_epoch=154.0]"
     ]
    },
    {
     "name": "stderr",
     "output_type": "stream",
     "text": [
      "Metric val_loss improved by 40.905 >= min_delta = 0. New best score: 24.309\n"
     ]
    },
    {
     "name": "stdout",
     "output_type": "stream",
     "text": [
      "Epoch 3: 100%|██████████| 41/41 [00:05<00:00,  7.65it/s, loss=14.9, v_num=28, train_loss_step=12.80, val_loss=13.40, train_loss_epoch=35.10]"
     ]
    },
    {
     "name": "stderr",
     "output_type": "stream",
     "text": [
      "Metric val_loss improved by 10.916 >= min_delta = 0. New best score: 13.393\n"
     ]
    },
    {
     "name": "stdout",
     "output_type": "stream",
     "text": [
      "Epoch 4: 100%|██████████| 41/41 [00:05<00:00,  7.89it/s, loss=11.4, v_num=28, train_loss_step=10.80, val_loss=11.30, train_loss_epoch=16.10]"
     ]
    },
    {
     "name": "stderr",
     "output_type": "stream",
     "text": [
      "Metric val_loss improved by 2.140 >= min_delta = 0. New best score: 11.253\n"
     ]
    },
    {
     "name": "stdout",
     "output_type": "stream",
     "text": [
      "Epoch 5: 100%|██████████| 41/41 [00:05<00:00,  7.96it/s, loss=10.3, v_num=28, train_loss_step=10.30, val_loss=10.50, train_loss_epoch=11.70]"
     ]
    },
    {
     "name": "stderr",
     "output_type": "stream",
     "text": [
      "Metric val_loss improved by 0.790 >= min_delta = 0. New best score: 10.463\n"
     ]
    },
    {
     "name": "stdout",
     "output_type": "stream",
     "text": [
      "Epoch 6: 100%|██████████| 41/41 [00:05<00:00,  7.77it/s, loss=9.73, v_num=28, train_loss_step=9.410, val_loss=9.780, train_loss_epoch=10.40]"
     ]
    },
    {
     "name": "stderr",
     "output_type": "stream",
     "text": [
      "Metric val_loss improved by 0.680 >= min_delta = 0. New best score: 9.782\n"
     ]
    },
    {
     "name": "stdout",
     "output_type": "stream",
     "text": [
      "Epoch 7: 100%|██████████| 41/41 [00:05<00:00,  7.96it/s, loss=9.24, v_num=28, train_loss_step=9.310, val_loss=9.440, train_loss_epoch=9.820]"
     ]
    },
    {
     "name": "stderr",
     "output_type": "stream",
     "text": [
      "Metric val_loss improved by 0.346 >= min_delta = 0. New best score: 9.436\n"
     ]
    },
    {
     "name": "stdout",
     "output_type": "stream",
     "text": [
      "Epoch 8: 100%|██████████| 41/41 [00:05<00:00,  7.91it/s, loss=8.94, v_num=28, train_loss_step=8.770, val_loss=9.220, train_loss_epoch=9.300]"
     ]
    },
    {
     "name": "stderr",
     "output_type": "stream",
     "text": [
      "Metric val_loss improved by 0.221 >= min_delta = 0. New best score: 9.215\n"
     ]
    },
    {
     "name": "stdout",
     "output_type": "stream",
     "text": [
      "Epoch 9: 100%|██████████| 41/41 [00:05<00:00,  8.03it/s, loss=8.79, v_num=28, train_loss_step=8.820, val_loss=9.040, train_loss_epoch=9.010]"
     ]
    },
    {
     "name": "stderr",
     "output_type": "stream",
     "text": [
      "Metric val_loss improved by 0.171 >= min_delta = 0. New best score: 9.044\n"
     ]
    },
    {
     "name": "stdout",
     "output_type": "stream",
     "text": [
      "Epoch 10: 100%|██████████| 41/41 [00:05<00:00,  7.70it/s, loss=8.65, v_num=28, train_loss_step=8.320, val_loss=8.920, train_loss_epoch=8.820]"
     ]
    },
    {
     "name": "stderr",
     "output_type": "stream",
     "text": [
      "Metric val_loss improved by 0.123 >= min_delta = 0. New best score: 8.922\n"
     ]
    },
    {
     "name": "stdout",
     "output_type": "stream",
     "text": [
      "Epoch 11: 100%|██████████| 41/41 [00:05<00:00,  7.90it/s, loss=8.56, v_num=28, train_loss_step=8.560, val_loss=8.830, train_loss_epoch=8.680]"
     ]
    },
    {
     "name": "stderr",
     "output_type": "stream",
     "text": [
      "Metric val_loss improved by 0.095 >= min_delta = 0. New best score: 8.827\n"
     ]
    },
    {
     "name": "stdout",
     "output_type": "stream",
     "text": [
      "Epoch 12: 100%|██████████| 41/41 [00:05<00:00,  8.08it/s, loss=8.44, v_num=28, train_loss_step=8.660, val_loss=8.710, train_loss_epoch=8.560]"
     ]
    },
    {
     "name": "stderr",
     "output_type": "stream",
     "text": [
      "Metric val_loss improved by 0.112 >= min_delta = 0. New best score: 8.715\n"
     ]
    },
    {
     "name": "stdout",
     "output_type": "stream",
     "text": [
      "Epoch 13: 100%|██████████| 41/41 [00:05<00:00,  8.00it/s, loss=8.37, v_num=28, train_loss_step=8.450, val_loss=8.650, train_loss_epoch=8.460]"
     ]
    },
    {
     "name": "stderr",
     "output_type": "stream",
     "text": [
      "Metric val_loss improved by 0.068 >= min_delta = 0. New best score: 8.647\n"
     ]
    },
    {
     "name": "stdout",
     "output_type": "stream",
     "text": [
      "Epoch 14: 100%|██████████| 41/41 [00:05<00:00,  8.00it/s, loss=8.29, v_num=28, train_loss_step=8.190, val_loss=8.600, train_loss_epoch=8.370]"
     ]
    },
    {
     "name": "stderr",
     "output_type": "stream",
     "text": [
      "Metric val_loss improved by 0.046 >= min_delta = 0. New best score: 8.601\n"
     ]
    },
    {
     "name": "stdout",
     "output_type": "stream",
     "text": [
      "Epoch 15: 100%|██████████| 41/41 [00:05<00:00,  7.92it/s, loss=8.28, v_num=28, train_loss_step=8.350, val_loss=8.540, train_loss_epoch=8.300]"
     ]
    },
    {
     "name": "stderr",
     "output_type": "stream",
     "text": [
      "Metric val_loss improved by 0.059 >= min_delta = 0. New best score: 8.542\n"
     ]
    },
    {
     "name": "stdout",
     "output_type": "stream",
     "text": [
      "Epoch 16: 100%|██████████| 41/41 [00:05<00:00,  8.06it/s, loss=8.14, v_num=28, train_loss_step=8.120, val_loss=8.490, train_loss_epoch=8.240]"
     ]
    },
    {
     "name": "stderr",
     "output_type": "stream",
     "text": [
      "Metric val_loss improved by 0.051 >= min_delta = 0. New best score: 8.491\n"
     ]
    },
    {
     "name": "stdout",
     "output_type": "stream",
     "text": [
      "Epoch 17: 100%|██████████| 41/41 [00:05<00:00,  7.85it/s, loss=8.14, v_num=28, train_loss_step=8.100, val_loss=8.440, train_loss_epoch=8.170]"
     ]
    },
    {
     "name": "stderr",
     "output_type": "stream",
     "text": [
      "Metric val_loss improved by 0.047 >= min_delta = 0. New best score: 8.445\n"
     ]
    },
    {
     "name": "stdout",
     "output_type": "stream",
     "text": [
      "Epoch 18: 100%|██████████| 41/41 [00:05<00:00,  7.79it/s, loss=8.09, v_num=28, train_loss_step=8.160, val_loss=8.390, train_loss_epoch=8.130]"
     ]
    },
    {
     "name": "stderr",
     "output_type": "stream",
     "text": [
      "Metric val_loss improved by 0.055 >= min_delta = 0. New best score: 8.389\n"
     ]
    },
    {
     "name": "stdout",
     "output_type": "stream",
     "text": [
      "Epoch 19: 100%|██████████| 41/41 [00:05<00:00,  7.62it/s, loss=8, v_num=28, train_loss_step=7.990, val_loss=8.390, train_loss_epoch=8.080]   "
     ]
    },
    {
     "name": "stderr",
     "output_type": "stream",
     "text": [
      "Metric val_loss improved by 0.002 >= min_delta = 0. New best score: 8.387\n"
     ]
    },
    {
     "name": "stdout",
     "output_type": "stream",
     "text": [
      "Epoch 20: 100%|██████████| 41/41 [00:05<00:00,  7.44it/s, loss=7.97, v_num=28, train_loss_step=7.890, val_loss=8.330, train_loss_epoch=8.020]"
     ]
    },
    {
     "name": "stderr",
     "output_type": "stream",
     "text": [
      "Metric val_loss improved by 0.055 >= min_delta = 0. New best score: 8.333\n"
     ]
    },
    {
     "name": "stdout",
     "output_type": "stream",
     "text": [
      "Epoch 21: 100%|██████████| 41/41 [00:05<00:00,  7.69it/s, loss=7.95, v_num=28, train_loss_step=8.010, val_loss=8.280, train_loss_epoch=7.980]"
     ]
    },
    {
     "name": "stderr",
     "output_type": "stream",
     "text": [
      "Metric val_loss improved by 0.055 >= min_delta = 0. New best score: 8.277\n"
     ]
    },
    {
     "name": "stdout",
     "output_type": "stream",
     "text": [
      "Epoch 22: 100%|██████████| 41/41 [00:05<00:00,  8.07it/s, loss=7.87, v_num=28, train_loss_step=7.980, val_loss=8.250, train_loss_epoch=7.920]"
     ]
    },
    {
     "name": "stderr",
     "output_type": "stream",
     "text": [
      "Metric val_loss improved by 0.030 >= min_delta = 0. New best score: 8.247\n"
     ]
    },
    {
     "name": "stdout",
     "output_type": "stream",
     "text": [
      "Epoch 23: 100%|██████████| 41/41 [00:05<00:00,  8.05it/s, loss=7.84, v_num=28, train_loss_step=7.790, val_loss=8.230, train_loss_epoch=7.890]"
     ]
    },
    {
     "name": "stderr",
     "output_type": "stream",
     "text": [
      "Metric val_loss improved by 0.021 >= min_delta = 0. New best score: 8.226\n"
     ]
    },
    {
     "name": "stdout",
     "output_type": "stream",
     "text": [
      "Epoch 25: 100%|██████████| 41/41 [00:05<00:00,  8.01it/s, loss=7.81, v_num=28, train_loss_step=8.030, val_loss=8.200, train_loss_epoch=7.830]"
     ]
    },
    {
     "name": "stderr",
     "output_type": "stream",
     "text": [
      "Metric val_loss improved by 0.023 >= min_delta = 0. New best score: 8.203\n"
     ]
    },
    {
     "name": "stdout",
     "output_type": "stream",
     "text": [
      "Epoch 26: 100%|██████████| 41/41 [00:05<00:00,  7.88it/s, loss=7.76, v_num=28, train_loss_step=7.630, val_loss=8.150, train_loss_epoch=7.790]"
     ]
    },
    {
     "name": "stderr",
     "output_type": "stream",
     "text": [
      "Metric val_loss improved by 0.054 >= min_delta = 0. New best score: 8.149\n"
     ]
    },
    {
     "name": "stdout",
     "output_type": "stream",
     "text": [
      "Epoch 28: 100%|██████████| 41/41 [00:05<00:00,  7.63it/s, loss=7.69, v_num=28, train_loss_step=7.690, val_loss=8.150, train_loss_epoch=7.730]"
     ]
    },
    {
     "name": "stderr",
     "output_type": "stream",
     "text": [
      "Metric val_loss improved by 0.004 >= min_delta = 0. New best score: 8.145\n"
     ]
    },
    {
     "name": "stdout",
     "output_type": "stream",
     "text": [
      "Epoch 29: 100%|██████████| 41/41 [00:05<00:00,  7.92it/s, loss=7.7, v_num=28, train_loss_step=7.480, val_loss=8.080, train_loss_epoch=7.710] "
     ]
    },
    {
     "name": "stderr",
     "output_type": "stream",
     "text": [
      "Metric val_loss improved by 0.066 >= min_delta = 0. New best score: 8.079\n"
     ]
    },
    {
     "name": "stdout",
     "output_type": "stream",
     "text": [
      "Epoch 29: 100%|██████████| 41/41 [00:05<00:00,  7.91it/s, loss=7.7, v_num=28, train_loss_step=7.480, val_loss=8.080, train_loss_epoch=7.690]"
     ]
    },
    {
     "name": "stderr",
     "output_type": "stream",
     "text": [
      "`Trainer.fit` stopped: `max_epochs=30` reached.\n"
     ]
    },
    {
     "name": "stdout",
     "output_type": "stream",
     "text": [
      "Epoch 29: 100%|██████████| 41/41 [00:05<00:00,  7.85it/s, loss=7.7, v_num=28, train_loss_step=7.480, val_loss=8.080, train_loss_epoch=7.690]"
     ]
    },
    {
     "name": "stderr",
     "output_type": "stream",
     "text": [
      "\u001b[32m[I 2024-04-02 19:35:38,386]\u001b[0m Trial 28 pruned. \u001b[0m\n"
     ]
    },
    {
     "name": "stdout",
     "output_type": "stream",
     "text": [
      "\n"
     ]
    },
    {
     "name": "stderr",
     "output_type": "stream",
     "text": [
      "GPU available: True (cuda), used: True\n",
      "TPU available: False, using: 0 TPU cores\n",
      "IPU available: False, using: 0 IPUs\n",
      "HPU available: False, using: 0 HPUs\n",
      "`Trainer(limit_train_batches=1.0)` was configured so 100% of the batches per epoch will be used..\n",
      "`Trainer(limit_val_batches=1.0)` was configured so 100% of the batches will be used..\n",
      "LOCAL_RANK: 0 - CUDA_VISIBLE_DEVICES: [0]\n",
      "\n",
      "  | Name                   | Type                             | Params\n",
      "----------------------------------------------------------------------------\n",
      "0 | loss                   | NegativeBinomialDistributionLoss | 0     \n",
      "1 | logging_metrics        | ModuleList                       | 0     \n",
      "2 | embeddings             | MultiEmbedding                   | 728   \n",
      "3 | rnn                    | LSTM                             | 9.9 M \n",
      "4 | distribution_projector | Linear                           | 1.0 K \n",
      "----------------------------------------------------------------------------\n",
      "9.9 M     Trainable params\n",
      "0         Non-trainable params\n",
      "9.9 M     Total params\n",
      "39.461    Total estimated model params size (MB)\n"
     ]
    },
    {
     "name": "stdout",
     "output_type": "stream",
     "text": [
      "Epoch 0: 100%|██████████| 110/110 [00:06<00:00, 17.33it/s, loss=10.2, v_num=29, train_loss_step=10.50, val_loss=10.20]"
     ]
    },
    {
     "name": "stderr",
     "output_type": "stream",
     "text": [
      "Metric val_loss improved. New best score: 10.246\n"
     ]
    },
    {
     "name": "stdout",
     "output_type": "stream",
     "text": [
      "Epoch 1: 100%|██████████| 110/110 [00:06<00:00, 18.33it/s, loss=9.12, v_num=29, train_loss_step=9.000, val_loss=9.320, train_loss_epoch=250.0]"
     ]
    },
    {
     "name": "stderr",
     "output_type": "stream",
     "text": [
      "Metric val_loss improved by 0.927 >= min_delta = 0. New best score: 9.318\n"
     ]
    },
    {
     "name": "stdout",
     "output_type": "stream",
     "text": [
      "Epoch 2: 100%|██████████| 110/110 [00:06<00:00, 17.93it/s, loss=8.69, v_num=29, train_loss_step=8.720, val_loss=8.930, train_loss_epoch=9.450]"
     ]
    },
    {
     "name": "stderr",
     "output_type": "stream",
     "text": [
      "Metric val_loss improved by 0.389 >= min_delta = 0. New best score: 8.929\n"
     ]
    },
    {
     "name": "stdout",
     "output_type": "stream",
     "text": [
      "Epoch 3: 100%|██████████| 110/110 [00:06<00:00, 18.18it/s, loss=8.45, v_num=29, train_loss_step=8.300, val_loss=8.690, train_loss_epoch=8.820]"
     ]
    },
    {
     "name": "stderr",
     "output_type": "stream",
     "text": [
      "Metric val_loss improved by 0.237 >= min_delta = 0. New best score: 8.692\n"
     ]
    },
    {
     "name": "stdout",
     "output_type": "stream",
     "text": [
      "Epoch 5: 100%|██████████| 110/110 [00:06<00:00, 17.72it/s, loss=8.23, v_num=29, train_loss_step=8.290, val_loss=8.450, train_loss_epoch=8.380]"
     ]
    },
    {
     "name": "stderr",
     "output_type": "stream",
     "text": [
      "Metric val_loss improved by 0.238 >= min_delta = 0. New best score: 8.454\n"
     ]
    },
    {
     "name": "stdout",
     "output_type": "stream",
     "text": [
      "Epoch 6: 100%|██████████| 110/110 [00:06<00:00, 17.88it/s, loss=8.16, v_num=29, train_loss_step=7.770, val_loss=8.350, train_loss_epoch=8.260]"
     ]
    },
    {
     "name": "stderr",
     "output_type": "stream",
     "text": [
      "Metric val_loss improved by 0.101 >= min_delta = 0. New best score: 8.352\n"
     ]
    },
    {
     "name": "stdout",
     "output_type": "stream",
     "text": [
      "Epoch 7: 100%|██████████| 110/110 [00:05<00:00, 18.39it/s, loss=8.06, v_num=29, train_loss_step=8.040, val_loss=8.300, train_loss_epoch=8.180]"
     ]
    },
    {
     "name": "stderr",
     "output_type": "stream",
     "text": [
      "Metric val_loss improved by 0.056 >= min_delta = 0. New best score: 8.296\n"
     ]
    },
    {
     "name": "stdout",
     "output_type": "stream",
     "text": [
      "Epoch 8: 100%|██████████| 110/110 [00:06<00:00, 17.75it/s, loss=8.04, v_num=29, train_loss_step=7.810, val_loss=8.220, train_loss_epoch=8.090]"
     ]
    },
    {
     "name": "stderr",
     "output_type": "stream",
     "text": [
      "Metric val_loss improved by 0.076 >= min_delta = 0. New best score: 8.220\n"
     ]
    },
    {
     "name": "stdout",
     "output_type": "stream",
     "text": [
      "Epoch 9: 100%|██████████| 110/110 [00:06<00:00, 17.38it/s, loss=7.99, v_num=29, train_loss_step=7.840, val_loss=8.180, train_loss_epoch=8.040]"
     ]
    },
    {
     "name": "stderr",
     "output_type": "stream",
     "text": [
      "Metric val_loss improved by 0.039 >= min_delta = 0. New best score: 8.181\n"
     ]
    },
    {
     "name": "stdout",
     "output_type": "stream",
     "text": [
      "Epoch 11: 100%|██████████| 110/110 [00:05<00:00, 18.46it/s, loss=8.02, v_num=29, train_loss_step=7.810, val_loss=8.140, train_loss_epoch=7.970]"
     ]
    },
    {
     "name": "stderr",
     "output_type": "stream",
     "text": [
      "Metric val_loss improved by 0.042 >= min_delta = 0. New best score: 8.139\n"
     ]
    },
    {
     "name": "stdout",
     "output_type": "stream",
     "text": [
      "Epoch 13: 100%|██████████| 110/110 [00:06<00:00, 18.10it/s, loss=7.93, v_num=29, train_loss_step=8.150, val_loss=8.090, train_loss_epoch=7.940]"
     ]
    },
    {
     "name": "stderr",
     "output_type": "stream",
     "text": [
      "Metric val_loss improved by 0.053 >= min_delta = 0. New best score: 8.086\n"
     ]
    },
    {
     "name": "stdout",
     "output_type": "stream",
     "text": [
      "Epoch 14: 100%|██████████| 110/110 [00:06<00:00, 17.68it/s, loss=7.89, v_num=29, train_loss_step=7.950, val_loss=8.060, train_loss_epoch=7.920]"
     ]
    },
    {
     "name": "stderr",
     "output_type": "stream",
     "text": [
      "Metric val_loss improved by 0.022 >= min_delta = 0. New best score: 8.064\n"
     ]
    },
    {
     "name": "stdout",
     "output_type": "stream",
     "text": [
      "Epoch 15: 100%|██████████| 110/110 [00:06<00:00, 18.16it/s, loss=7.84, v_num=29, train_loss_step=7.950, val_loss=8.040, train_loss_epoch=7.900]"
     ]
    },
    {
     "name": "stderr",
     "output_type": "stream",
     "text": [
      "Metric val_loss improved by 0.019 >= min_delta = 0. New best score: 8.045\n"
     ]
    },
    {
     "name": "stdout",
     "output_type": "stream",
     "text": [
      "Epoch 16: 100%|██████████| 110/110 [00:06<00:00, 17.83it/s, loss=7.88, v_num=29, train_loss_step=7.940, val_loss=8.040, train_loss_epoch=7.880]"
     ]
    },
    {
     "name": "stderr",
     "output_type": "stream",
     "text": [
      "Metric val_loss improved by 0.002 >= min_delta = 0. New best score: 8.042\n"
     ]
    },
    {
     "name": "stdout",
     "output_type": "stream",
     "text": [
      "Epoch 17: 100%|██████████| 110/110 [00:06<00:00, 17.82it/s, loss=7.89, v_num=29, train_loss_step=7.970, val_loss=8.020, train_loss_epoch=8.030]"
     ]
    },
    {
     "name": "stderr",
     "output_type": "stream",
     "text": [
      "Metric val_loss improved by 0.022 >= min_delta = 0. New best score: 8.020\n"
     ]
    },
    {
     "name": "stdout",
     "output_type": "stream",
     "text": [
      "Epoch 18: 100%|██████████| 110/110 [00:06<00:00, 17.79it/s, loss=7.9, v_num=29, train_loss_step=7.710, val_loss=8.010, train_loss_epoch=7.880] "
     ]
    },
    {
     "name": "stderr",
     "output_type": "stream",
     "text": [
      "Metric val_loss improved by 0.008 >= min_delta = 0. New best score: 8.012\n"
     ]
    },
    {
     "name": "stdout",
     "output_type": "stream",
     "text": [
      "Epoch 20: 100%|██████████| 110/110 [00:05<00:00, 18.40it/s, loss=8.07, v_num=29, train_loss_step=7.930, val_loss=8.000, train_loss_epoch=7.870]"
     ]
    },
    {
     "name": "stderr",
     "output_type": "stream",
     "text": [
      "Metric val_loss improved by 0.015 >= min_delta = 0. New best score: 7.997\n"
     ]
    },
    {
     "name": "stdout",
     "output_type": "stream",
     "text": [
      "Epoch 21: 100%|██████████| 110/110 [00:06<00:00, 17.99it/s, loss=7.88, v_num=29, train_loss_step=7.860, val_loss=7.990, train_loss_epoch=8.150]"
     ]
    },
    {
     "name": "stderr",
     "output_type": "stream",
     "text": [
      "Metric val_loss improved by 0.005 >= min_delta = 0. New best score: 7.993\n"
     ]
    },
    {
     "name": "stdout",
     "output_type": "stream",
     "text": [
      "Epoch 26: 100%|██████████| 110/110 [00:06<00:00, 18.00it/s, loss=7.86, v_num=29, train_loss_step=7.540, val_loss=7.980, train_loss_epoch=7.850]"
     ]
    },
    {
     "name": "stderr",
     "output_type": "stream",
     "text": [
      "Metric val_loss improved by 0.008 >= min_delta = 0. New best score: 7.985\n"
     ]
    },
    {
     "name": "stdout",
     "output_type": "stream",
     "text": [
      "Epoch 29: 100%|██████████| 110/110 [00:06<00:00, 17.30it/s, loss=7.83, v_num=29, train_loss_step=7.990, val_loss=7.970, train_loss_epoch=7.920]"
     ]
    },
    {
     "name": "stderr",
     "output_type": "stream",
     "text": [
      "Metric val_loss improved by 0.013 >= min_delta = 0. New best score: 7.972\n"
     ]
    },
    {
     "name": "stdout",
     "output_type": "stream",
     "text": [
      "Epoch 29: 100%|██████████| 110/110 [00:06<00:00, 17.29it/s, loss=7.83, v_num=29, train_loss_step=7.990, val_loss=7.970, train_loss_epoch=7.880]"
     ]
    },
    {
     "name": "stderr",
     "output_type": "stream",
     "text": [
      "`Trainer.fit` stopped: `max_epochs=30` reached.\n"
     ]
    },
    {
     "name": "stdout",
     "output_type": "stream",
     "text": [
      "Epoch 29: 100%|██████████| 110/110 [00:06<00:00, 16.32it/s, loss=7.83, v_num=29, train_loss_step=7.990, val_loss=7.970, train_loss_epoch=7.880]"
     ]
    },
    {
     "name": "stderr",
     "output_type": "stream",
     "text": [
      "\u001b[32m[I 2024-04-02 19:38:53,581]\u001b[0m Trial 29 pruned. \u001b[0m\n"
     ]
    },
    {
     "name": "stdout",
     "output_type": "stream",
     "text": [
      "\n",
      "Study statistics: \n",
      "  Number of finished trials:  30\n",
      "  Number of pruned trials:  8\n",
      "  Number of complete trials:  22\n",
      "Best trial:\n",
      "  Value:  21.622835159301758\n",
      "  Params: \n",
      "    neu: 210\n",
      "    lay: 1\n",
      "    bat: 32\n",
      "    lr: 0.045984777597412985\n",
      "    dropout: 0.0\n"
     ]
    }
   ],
   "source": [
    "\"\"\"\n",
    "Full Training Routine\n",
    "with hyperparmeter grid search\n",
    "\n",
    "Load data into TimeSeriesDataSet object\n",
    "\n",
    "for fast development run\n",
    "uncomment fast_dev_run = fdv_steps\n",
    "\n",
    "\"\"\"\n",
    "\n",
    "# early_stop_callback = EarlyStopping(monitor=\"val_loss\", min_delta=1e-4, patience=p, verbose=False, mode=\"min\")\n",
    "lr_logger = LearningRateMonitor()\n",
    "\n",
    "# param_comb_cnt=-1\n",
    "#for neu,lay,bat,lr,enc_len,pred_len,drop,cov_pair,num_ep in product(*[x for x in hparams_grid.values()]):\n",
    "\n",
    "\n",
    "file_path = \"trial_parameters.json\"\n",
    "# Check if the file exists before attempting to delete it\n",
    "if os.path.exists(file_path):\n",
    "    # Delete the file\n",
    "    os.remove(file_path)\n",
    "\n",
    "import json\n",
    "def save_trial_parameters(study, trial):\n",
    "    trial_params = {'trial_num':trial.number ,'trial_params' :trial.params}\n",
    "    with open(\"trial_parameters.json\", \"a\") as f:\n",
    "        json.dump(trial_params, f)\n",
    "        f.write('\\n')\n",
    "\n",
    "\n",
    "def objective(trial): #optuna objective function to find best hyperparameters\n",
    "# minimize the average validation loss\n",
    "\n",
    "  # optuna tries to find best combination given this hyperparameter searchspace\n",
    "\n",
    "  # first start broad\n",
    "  neu = trial.suggest_int(name=\"neu\",low=10,high=1000,step=100,log=False) # number of neurons in lstm cell\n",
    "  lay = trial.suggest_int(name=\"lay\",low=1,high=10,step=2,log=False) # number of lstm layers\n",
    "  bat = trial.suggest_int(name=\"bat\",low=32,high=1024,step=32,log=False) # batch size\n",
    "  lr = trial.suggest_float(name=\"lr\",low=0.00001,high=0.1,log=True) #learning rate, log does not have step\n",
    "  drop = trial.suggest_float(name=\"dropout\",low=0,high=0.8,step=0.2,log=False) # dont use some of the cells to distribute learning across the cells\n",
    "\n",
    "  num_cols_list = numeric_cols\n",
    "  cat_dict = {\"_hour_of_day\": NaNLabelEncoder(add_nan=True).fit(df._hour_of_day),\n",
    "          \"_day_of_week\": NaNLabelEncoder(add_nan=True).fit(df._day_of_week), \"_day_of_month\" : NaNLabelEncoder(add_nan=True).fit(df._day_of_month), \"_day_of_year\" : NaNLabelEncoder(add_nan=True).fit(df._day_of_year),\n",
    "              \"_week_of_year\": NaNLabelEncoder(add_nan=True).fit(df._week_of_year), \"_month_of_year\": NaNLabelEncoder(add_nan=True).fit(df._month_of_year) ,\"_year\": NaNLabelEncoder(add_nan=True).fit(df._year)}\n",
    "  cat_list = [\"_hour_of_day\",\"_day_of_week\",\"_day_of_month\",\"_day_of_year\",\"_week_of_year\",\"_month_of_year\",\"_year\"]\n",
    "  embed_size_dict = {'_hour_of_day':(hour_of_day_nunique+1,5),'_day_of_week':(day_of_week_nunique+1,5),'_day_of_month':(day_of_month_nunique+1,5), '_day_of_year':(day_of_year_nunique+1,8), '_week_of_year':(week_of_year_nunique+1,3), '_month_of_year':(month_of_year_nunique+1,3),'_year':(year_nunique+1,1)}\n",
    "  # ^ converting hour into a 5 dimensional vector, etc etc, day of year = number of unique values in this column + 1, same for week of year, month of year and year\n",
    "\n",
    "  train_dataset = TimeSeriesDataSet(\n",
    "      df[(df['time_idx'].isin(train_time_idx))],\n",
    "      time_idx=\"time_idx\",\n",
    "      target=Target,\n",
    "      categorical_encoders=cat_dict,\n",
    "      group_ids=[\"group\"],\n",
    "      min_encoder_length=encoder_len,\n",
    "      max_encoder_length=encoder_len,\n",
    "      min_prediction_length=pred_len,\n",
    "      max_prediction_length=pred_len,\n",
    "      time_varying_unknown_reals=[Target],\n",
    "      time_varying_known_reals=num_cols_list,\n",
    "      time_varying_known_categoricals=cat_list,\n",
    "      add_relative_time_idx=False,\n",
    "      randomize_length=False,\n",
    "      scalers={},\n",
    "      target_normalizer=TorchNormalizer(method=\"identity\",center=False,transformation=None)\n",
    "    )\n",
    "\n",
    "  val_dataset = TimeSeriesDataSet.from_dataset(train_dataset,df[(df['time_idx'].isin(val_time_idx))], stop_randomization=True, predict=False)\n",
    "  # test_dataset = TimeSeriesDataSet.from_dataset(train_dataset,df[df['time_idx'].isin(test_time_idx)], stop_randomization=True)\n",
    "\n",
    "  train_dataloader = train_dataset.to_dataloader(train=True, batch_size=bat)\n",
    "  val_dataloader = val_dataset.to_dataloader(train=False, batch_size=bat)\n",
    "  # test_dataloader = test_dataset.to_dataloader(train=False, batch_size=bat)\n",
    "\n",
    "  \n",
    "  # trial.set_user_attr(\"num_ep\", num_ep)\n",
    "\n",
    "  early_stop_callback = EarlyStopping(\n",
    "    monitor='val_loss',\n",
    "    min_delta=0,\n",
    "    patience=5,\n",
    "    verbose=True,\n",
    "    mode='min'\n",
    "  )\n",
    "\n",
    "  \n",
    "  \"\"\"\n",
    "  Machine Learning predictions START\n",
    "  1) DeepAR\n",
    "\n",
    "  \"\"\"\n",
    "  trainer = pl.Trainer(\n",
    "      max_epochs=num_epochs,\n",
    "      accelerator='gpu',\n",
    "      devices=[0],\n",
    "      gradient_clip_val=0.1,\n",
    "      limit_train_batches=1.0,\n",
    "      limit_val_batches=1.0,\n",
    "      # fast_dev_run=fdv_steps,\n",
    "      logger=True,\n",
    "      callbacks=[lr_logger, early_stop_callback],    #, early_stop_callback]\n",
    "      default_root_dir=logs_directory\n",
    "  )\n",
    "\n",
    "\n",
    "  #print(f\"training routing:\\n \\n {trainer}\")\n",
    "  deepar = DeepAR.from_dataset(\n",
    "      train_dataset,\n",
    "      learning_rate=lr,\n",
    "      hidden_size=neu,\n",
    "      rnn_layers=lay,\n",
    "      dropout=drop,\n",
    "      loss=Loss,\n",
    "      log_interval=20,\n",
    "      log_val_interval=6,\n",
    "      log_gradient_flow=False,\n",
    "      embedding_sizes=embed_size_dict\n",
    "      # reduce_on_plateau_patience=3,\n",
    "  )\n",
    "\n",
    "  #print(f\"Number of parameters in network: {deepar.size()/1e3:.1f}k\")\n",
    "  # print(f\"Model :\\n \\n {deepar}\")\n",
    "  torch.set_num_threads(10)\n",
    "  trainer.fit(\n",
    "      deepar,\n",
    "      train_dataloaders=train_dataloader,\n",
    "      val_dataloaders=val_dataloader,\n",
    "  )\n",
    "\n",
    "  val_wmape = trainer.callback_metrics['val_WMAPE'].item()\n",
    "  # val_wmape = trainer.callback_metrics['val_WMAPE'].item()\n",
    "  trial.report(val_wmape, num_epochs)\n",
    "  # trial.report(val_wmape, num_ep)\n",
    "\n",
    "  # Handle pruning based on the intermediate value.\n",
    "  if trial.should_prune():\n",
    "      raise optuna.exceptions.TrialPruned()\n",
    "\n",
    "  return val_wmape #optuna is trying to minimise this <---\n",
    "\n",
    "\n",
    "######### optuna results #####################\n",
    "if __name__ == \"__main__\":\n",
    "\n",
    "  study = optuna.create_study(direction=\"minimize\")\n",
    "  study.optimize(objective, n_trials=num_trials,callbacks=[save_trial_parameters])  # can specify the number of trials to a number less than 960 for example, eg can set n_trials = 100\n",
    "\n",
    "  pruned_trials = study.get_trials(deepcopy=False, states=[TrialState.PRUNED])\n",
    "  complete_trials = study.get_trials(deepcopy=False, states=[TrialState.COMPLETE])\n",
    "\n",
    "  print(\"Study statistics: \")\n",
    "  print(\"  Number of finished trials: \", len(study.trials))\n",
    "  print(\"  Number of pruned trials: \", len(pruned_trials))\n",
    "  print(\"  Number of complete trials: \", len(complete_trials))\n",
    "\n",
    "  print(\"Best trial:\")\n",
    "  trial = study.best_trial\n",
    "  # best_num_ep = study.trials[trial.number].user_attrs['num_ep']\n",
    "\n",
    "  print(\"  Value: \", trial.value)\n",
    "\n",
    "  print(\"  Params: \")\n",
    "  for key, value in trial.params.items():\n",
    "      print(\"    {}: {}\".format(key, value))\n",
    "########## optuna results #####################"
   ]
  },
  {
   "cell_type": "code",
   "execution_count": 17,
   "metadata": {},
   "outputs": [
    {
     "name": "stdout",
     "output_type": "stream",
     "text": [
      "Study statistics: \n",
      "  Number of finished trials:  30\n",
      "  Number of pruned trials:  8\n",
      "  Number of complete trials:  22\n",
      "  Best trial: \n",
      "  Value:  21.622835159301758\n",
      "  Params: \n",
      "    neu: 210\n",
      "    lay: 1\n",
      "    bat: 32\n",
      "    lr: 0.045984777597412985\n",
      "    dropout: 0.0\n"
     ]
    }
   ],
   "source": [
    "print(\"Study statistics: \")\n",
    "print(\"  Number of finished trials: \", len(study.trials))\n",
    "print(\"  Number of pruned trials: \", len(pruned_trials))\n",
    "print(\"  Number of complete trials: \", len(complete_trials))\n",
    "\n",
    "print(\"  Best trial: \")\n",
    "print(\"  Value: \", trial.value)\n",
    "\n",
    "print(\"  Params: \")\n",
    "for key, value in trial.params.items():\n",
    "    print(\"    {}: {}\".format(key, value))\n",
    "\n",
    "# print(\"Best number of epochs: \", best_num_ep)"
   ]
  },
  {
   "cell_type": "code",
   "execution_count": 18,
   "metadata": {},
   "outputs": [
    {
     "data": {
      "application/vnd.plotly.v1+json": {
       "config": {
        "plotlyServerURL": "https://plot.ly"
       },
       "data": [
        {
         "dimensions": [
          {
           "label": "Objective Value",
           "range": [
            21.622835159301758,
            98.97156524658203
           ],
           "values": [
            82.36552429199219,
            92.1451187133789,
            21.622835159301758,
            98.97156524658203,
            85.41183471679688,
            53.254634857177734,
            50.32132339477539,
            58.641788482666016,
            44.99393081665039,
            45.18220520019531,
            45.09352493286133,
            25.120746612548828,
            34.32782745361328,
            41.849586486816406,
            46.40748596191406,
            45.1431770324707,
            36.98432922363281,
            40.14570999145508,
            22.91762924194336,
            45.09281921386719,
            28.630380630493164,
            35.943416595458984
           ]
          },
          {
           "label": "bat",
           "range": [
            32,
            736
           ],
           "values": [
            672,
            352,
            32,
            736,
            704,
            192,
            384,
            288,
            32,
            32,
            32,
            160,
            192,
            480,
            192,
            160,
            128,
            288,
            128,
            96,
            256,
            384
           ]
          },
          {
           "label": "dropout",
           "range": [
            0,
            0.8
           ],
           "values": [
            0.8,
            0.6000000000000001,
            0,
            0.4,
            0.6000000000000001,
            0,
            0.6000000000000001,
            0.2,
            0,
            0,
            0,
            0.2,
            0.2,
            0.2,
            0.4,
            0.2,
            0.4,
            0.2,
            0.2,
            0,
            0.2,
            0.2
           ]
          },
          {
           "label": "lay",
           "range": [
            1,
            9
           ],
           "values": [
            7,
            9,
            1,
            5,
            7,
            7,
            1,
            1,
            3,
            3,
            3,
            1,
            1,
            1,
            5,
            1,
            1,
            1,
            1,
            3,
            1,
            1
           ]
          },
          {
           "label": "lr",
           "range": [
            -3.8457327638545893,
            -1.0003223445031852
           ],
           "ticktext": [
            "0.000143",
            "0.001",
            "0.01",
            "0.0999"
           ],
           "tickvals": [
            -3.8457327638545893,
            -3,
            -2,
            -1.0003223445031852
           ],
           "values": [
            -3.126772955692355,
            -3.8457327638545893,
            -1.337385909612972,
            -3.453437035613579,
            -3.5268142208172124,
            -2.394964378086576,
            -1.9771155801777867,
            -2.739031978008168,
            -1.0003223445031852,
            -1.0749665181123866,
            -1.1270988390403578,
            -1.6222114675702608,
            -1.9297461989791893,
            -1.64832938021694,
            -1.6113427288556181,
            -2.372600433838077,
            -1.966149856390145,
            -1.9152349821255261,
            -1.3071111383698222,
            -1.2833983857620224,
            -1.3919664044905082,
            -1.6535840610469459
           ]
          },
          {
           "label": "neu",
           "range": [
            10,
            910
           ],
           "values": [
            510,
            210,
            210,
            10,
            910,
            510,
            510,
            910,
            310,
            310,
            310,
            710,
            710,
            710,
            710,
            610,
            410,
            710,
            610,
            610,
            610,
            810
           ]
          }
         ],
         "labelangle": 30,
         "labelside": "bottom",
         "line": {
          "color": [
           82.36552429199219,
           92.1451187133789,
           21.622835159301758,
           98.97156524658203,
           85.41183471679688,
           53.254634857177734,
           50.32132339477539,
           58.641788482666016,
           44.99393081665039,
           45.18220520019531,
           45.09352493286133,
           25.120746612548828,
           34.32782745361328,
           41.849586486816406,
           46.40748596191406,
           45.1431770324707,
           36.98432922363281,
           40.14570999145508,
           22.91762924194336,
           45.09281921386719,
           28.630380630493164,
           35.943416595458984
          ],
          "colorbar": {
           "title": {
            "text": "Objective Value"
           }
          },
          "colorscale": [
           [
            0,
            "rgb(247,251,255)"
           ],
           [
            0.125,
            "rgb(222,235,247)"
           ],
           [
            0.25,
            "rgb(198,219,239)"
           ],
           [
            0.375,
            "rgb(158,202,225)"
           ],
           [
            0.5,
            "rgb(107,174,214)"
           ],
           [
            0.625,
            "rgb(66,146,198)"
           ],
           [
            0.75,
            "rgb(33,113,181)"
           ],
           [
            0.875,
            "rgb(8,81,156)"
           ],
           [
            1,
            "rgb(8,48,107)"
           ]
          ],
          "reversescale": true,
          "showscale": true
         },
         "type": "parcoords"
        }
       ],
       "layout": {
        "template": {
         "data": {
          "bar": [
           {
            "error_x": {
             "color": "#2a3f5f"
            },
            "error_y": {
             "color": "#2a3f5f"
            },
            "marker": {
             "line": {
              "color": "#E5ECF6",
              "width": 0.5
             },
             "pattern": {
              "fillmode": "overlay",
              "size": 10,
              "solidity": 0.2
             }
            },
            "type": "bar"
           }
          ],
          "barpolar": [
           {
            "marker": {
             "line": {
              "color": "#E5ECF6",
              "width": 0.5
             },
             "pattern": {
              "fillmode": "overlay",
              "size": 10,
              "solidity": 0.2
             }
            },
            "type": "barpolar"
           }
          ],
          "carpet": [
           {
            "aaxis": {
             "endlinecolor": "#2a3f5f",
             "gridcolor": "white",
             "linecolor": "white",
             "minorgridcolor": "white",
             "startlinecolor": "#2a3f5f"
            },
            "baxis": {
             "endlinecolor": "#2a3f5f",
             "gridcolor": "white",
             "linecolor": "white",
             "minorgridcolor": "white",
             "startlinecolor": "#2a3f5f"
            },
            "type": "carpet"
           }
          ],
          "choropleth": [
           {
            "colorbar": {
             "outlinewidth": 0,
             "ticks": ""
            },
            "type": "choropleth"
           }
          ],
          "contour": [
           {
            "colorbar": {
             "outlinewidth": 0,
             "ticks": ""
            },
            "colorscale": [
             [
              0,
              "#0d0887"
             ],
             [
              0.1111111111111111,
              "#46039f"
             ],
             [
              0.2222222222222222,
              "#7201a8"
             ],
             [
              0.3333333333333333,
              "#9c179e"
             ],
             [
              0.4444444444444444,
              "#bd3786"
             ],
             [
              0.5555555555555556,
              "#d8576b"
             ],
             [
              0.6666666666666666,
              "#ed7953"
             ],
             [
              0.7777777777777778,
              "#fb9f3a"
             ],
             [
              0.8888888888888888,
              "#fdca26"
             ],
             [
              1,
              "#f0f921"
             ]
            ],
            "type": "contour"
           }
          ],
          "contourcarpet": [
           {
            "colorbar": {
             "outlinewidth": 0,
             "ticks": ""
            },
            "type": "contourcarpet"
           }
          ],
          "heatmap": [
           {
            "colorbar": {
             "outlinewidth": 0,
             "ticks": ""
            },
            "colorscale": [
             [
              0,
              "#0d0887"
             ],
             [
              0.1111111111111111,
              "#46039f"
             ],
             [
              0.2222222222222222,
              "#7201a8"
             ],
             [
              0.3333333333333333,
              "#9c179e"
             ],
             [
              0.4444444444444444,
              "#bd3786"
             ],
             [
              0.5555555555555556,
              "#d8576b"
             ],
             [
              0.6666666666666666,
              "#ed7953"
             ],
             [
              0.7777777777777778,
              "#fb9f3a"
             ],
             [
              0.8888888888888888,
              "#fdca26"
             ],
             [
              1,
              "#f0f921"
             ]
            ],
            "type": "heatmap"
           }
          ],
          "heatmapgl": [
           {
            "colorbar": {
             "outlinewidth": 0,
             "ticks": ""
            },
            "colorscale": [
             [
              0,
              "#0d0887"
             ],
             [
              0.1111111111111111,
              "#46039f"
             ],
             [
              0.2222222222222222,
              "#7201a8"
             ],
             [
              0.3333333333333333,
              "#9c179e"
             ],
             [
              0.4444444444444444,
              "#bd3786"
             ],
             [
              0.5555555555555556,
              "#d8576b"
             ],
             [
              0.6666666666666666,
              "#ed7953"
             ],
             [
              0.7777777777777778,
              "#fb9f3a"
             ],
             [
              0.8888888888888888,
              "#fdca26"
             ],
             [
              1,
              "#f0f921"
             ]
            ],
            "type": "heatmapgl"
           }
          ],
          "histogram": [
           {
            "marker": {
             "pattern": {
              "fillmode": "overlay",
              "size": 10,
              "solidity": 0.2
             }
            },
            "type": "histogram"
           }
          ],
          "histogram2d": [
           {
            "colorbar": {
             "outlinewidth": 0,
             "ticks": ""
            },
            "colorscale": [
             [
              0,
              "#0d0887"
             ],
             [
              0.1111111111111111,
              "#46039f"
             ],
             [
              0.2222222222222222,
              "#7201a8"
             ],
             [
              0.3333333333333333,
              "#9c179e"
             ],
             [
              0.4444444444444444,
              "#bd3786"
             ],
             [
              0.5555555555555556,
              "#d8576b"
             ],
             [
              0.6666666666666666,
              "#ed7953"
             ],
             [
              0.7777777777777778,
              "#fb9f3a"
             ],
             [
              0.8888888888888888,
              "#fdca26"
             ],
             [
              1,
              "#f0f921"
             ]
            ],
            "type": "histogram2d"
           }
          ],
          "histogram2dcontour": [
           {
            "colorbar": {
             "outlinewidth": 0,
             "ticks": ""
            },
            "colorscale": [
             [
              0,
              "#0d0887"
             ],
             [
              0.1111111111111111,
              "#46039f"
             ],
             [
              0.2222222222222222,
              "#7201a8"
             ],
             [
              0.3333333333333333,
              "#9c179e"
             ],
             [
              0.4444444444444444,
              "#bd3786"
             ],
             [
              0.5555555555555556,
              "#d8576b"
             ],
             [
              0.6666666666666666,
              "#ed7953"
             ],
             [
              0.7777777777777778,
              "#fb9f3a"
             ],
             [
              0.8888888888888888,
              "#fdca26"
             ],
             [
              1,
              "#f0f921"
             ]
            ],
            "type": "histogram2dcontour"
           }
          ],
          "mesh3d": [
           {
            "colorbar": {
             "outlinewidth": 0,
             "ticks": ""
            },
            "type": "mesh3d"
           }
          ],
          "parcoords": [
           {
            "line": {
             "colorbar": {
              "outlinewidth": 0,
              "ticks": ""
             }
            },
            "type": "parcoords"
           }
          ],
          "pie": [
           {
            "automargin": true,
            "type": "pie"
           }
          ],
          "scatter": [
           {
            "fillpattern": {
             "fillmode": "overlay",
             "size": 10,
             "solidity": 0.2
            },
            "type": "scatter"
           }
          ],
          "scatter3d": [
           {
            "line": {
             "colorbar": {
              "outlinewidth": 0,
              "ticks": ""
             }
            },
            "marker": {
             "colorbar": {
              "outlinewidth": 0,
              "ticks": ""
             }
            },
            "type": "scatter3d"
           }
          ],
          "scattercarpet": [
           {
            "marker": {
             "colorbar": {
              "outlinewidth": 0,
              "ticks": ""
             }
            },
            "type": "scattercarpet"
           }
          ],
          "scattergeo": [
           {
            "marker": {
             "colorbar": {
              "outlinewidth": 0,
              "ticks": ""
             }
            },
            "type": "scattergeo"
           }
          ],
          "scattergl": [
           {
            "marker": {
             "colorbar": {
              "outlinewidth": 0,
              "ticks": ""
             }
            },
            "type": "scattergl"
           }
          ],
          "scattermapbox": [
           {
            "marker": {
             "colorbar": {
              "outlinewidth": 0,
              "ticks": ""
             }
            },
            "type": "scattermapbox"
           }
          ],
          "scatterpolar": [
           {
            "marker": {
             "colorbar": {
              "outlinewidth": 0,
              "ticks": ""
             }
            },
            "type": "scatterpolar"
           }
          ],
          "scatterpolargl": [
           {
            "marker": {
             "colorbar": {
              "outlinewidth": 0,
              "ticks": ""
             }
            },
            "type": "scatterpolargl"
           }
          ],
          "scatterternary": [
           {
            "marker": {
             "colorbar": {
              "outlinewidth": 0,
              "ticks": ""
             }
            },
            "type": "scatterternary"
           }
          ],
          "surface": [
           {
            "colorbar": {
             "outlinewidth": 0,
             "ticks": ""
            },
            "colorscale": [
             [
              0,
              "#0d0887"
             ],
             [
              0.1111111111111111,
              "#46039f"
             ],
             [
              0.2222222222222222,
              "#7201a8"
             ],
             [
              0.3333333333333333,
              "#9c179e"
             ],
             [
              0.4444444444444444,
              "#bd3786"
             ],
             [
              0.5555555555555556,
              "#d8576b"
             ],
             [
              0.6666666666666666,
              "#ed7953"
             ],
             [
              0.7777777777777778,
              "#fb9f3a"
             ],
             [
              0.8888888888888888,
              "#fdca26"
             ],
             [
              1,
              "#f0f921"
             ]
            ],
            "type": "surface"
           }
          ],
          "table": [
           {
            "cells": {
             "fill": {
              "color": "#EBF0F8"
             },
             "line": {
              "color": "white"
             }
            },
            "header": {
             "fill": {
              "color": "#C8D4E3"
             },
             "line": {
              "color": "white"
             }
            },
            "type": "table"
           }
          ]
         },
         "layout": {
          "annotationdefaults": {
           "arrowcolor": "#2a3f5f",
           "arrowhead": 0,
           "arrowwidth": 1
          },
          "autotypenumbers": "strict",
          "coloraxis": {
           "colorbar": {
            "outlinewidth": 0,
            "ticks": ""
           }
          },
          "colorscale": {
           "diverging": [
            [
             0,
             "#8e0152"
            ],
            [
             0.1,
             "#c51b7d"
            ],
            [
             0.2,
             "#de77ae"
            ],
            [
             0.3,
             "#f1b6da"
            ],
            [
             0.4,
             "#fde0ef"
            ],
            [
             0.5,
             "#f7f7f7"
            ],
            [
             0.6,
             "#e6f5d0"
            ],
            [
             0.7,
             "#b8e186"
            ],
            [
             0.8,
             "#7fbc41"
            ],
            [
             0.9,
             "#4d9221"
            ],
            [
             1,
             "#276419"
            ]
           ],
           "sequential": [
            [
             0,
             "#0d0887"
            ],
            [
             0.1111111111111111,
             "#46039f"
            ],
            [
             0.2222222222222222,
             "#7201a8"
            ],
            [
             0.3333333333333333,
             "#9c179e"
            ],
            [
             0.4444444444444444,
             "#bd3786"
            ],
            [
             0.5555555555555556,
             "#d8576b"
            ],
            [
             0.6666666666666666,
             "#ed7953"
            ],
            [
             0.7777777777777778,
             "#fb9f3a"
            ],
            [
             0.8888888888888888,
             "#fdca26"
            ],
            [
             1,
             "#f0f921"
            ]
           ],
           "sequentialminus": [
            [
             0,
             "#0d0887"
            ],
            [
             0.1111111111111111,
             "#46039f"
            ],
            [
             0.2222222222222222,
             "#7201a8"
            ],
            [
             0.3333333333333333,
             "#9c179e"
            ],
            [
             0.4444444444444444,
             "#bd3786"
            ],
            [
             0.5555555555555556,
             "#d8576b"
            ],
            [
             0.6666666666666666,
             "#ed7953"
            ],
            [
             0.7777777777777778,
             "#fb9f3a"
            ],
            [
             0.8888888888888888,
             "#fdca26"
            ],
            [
             1,
             "#f0f921"
            ]
           ]
          },
          "colorway": [
           "#636efa",
           "#EF553B",
           "#00cc96",
           "#ab63fa",
           "#FFA15A",
           "#19d3f3",
           "#FF6692",
           "#B6E880",
           "#FF97FF",
           "#FECB52"
          ],
          "font": {
           "color": "#2a3f5f"
          },
          "geo": {
           "bgcolor": "white",
           "lakecolor": "white",
           "landcolor": "#E5ECF6",
           "showlakes": true,
           "showland": true,
           "subunitcolor": "white"
          },
          "hoverlabel": {
           "align": "left"
          },
          "hovermode": "closest",
          "mapbox": {
           "style": "light"
          },
          "paper_bgcolor": "white",
          "plot_bgcolor": "#E5ECF6",
          "polar": {
           "angularaxis": {
            "gridcolor": "white",
            "linecolor": "white",
            "ticks": ""
           },
           "bgcolor": "#E5ECF6",
           "radialaxis": {
            "gridcolor": "white",
            "linecolor": "white",
            "ticks": ""
           }
          },
          "scene": {
           "xaxis": {
            "backgroundcolor": "#E5ECF6",
            "gridcolor": "white",
            "gridwidth": 2,
            "linecolor": "white",
            "showbackground": true,
            "ticks": "",
            "zerolinecolor": "white"
           },
           "yaxis": {
            "backgroundcolor": "#E5ECF6",
            "gridcolor": "white",
            "gridwidth": 2,
            "linecolor": "white",
            "showbackground": true,
            "ticks": "",
            "zerolinecolor": "white"
           },
           "zaxis": {
            "backgroundcolor": "#E5ECF6",
            "gridcolor": "white",
            "gridwidth": 2,
            "linecolor": "white",
            "showbackground": true,
            "ticks": "",
            "zerolinecolor": "white"
           }
          },
          "shapedefaults": {
           "line": {
            "color": "#2a3f5f"
           }
          },
          "ternary": {
           "aaxis": {
            "gridcolor": "white",
            "linecolor": "white",
            "ticks": ""
           },
           "baxis": {
            "gridcolor": "white",
            "linecolor": "white",
            "ticks": ""
           },
           "bgcolor": "#E5ECF6",
           "caxis": {
            "gridcolor": "white",
            "linecolor": "white",
            "ticks": ""
           }
          },
          "title": {
           "x": 0.05
          },
          "xaxis": {
           "automargin": true,
           "gridcolor": "white",
           "linecolor": "white",
           "ticks": "",
           "title": {
            "standoff": 15
           },
           "zerolinecolor": "white",
           "zerolinewidth": 2
          },
          "yaxis": {
           "automargin": true,
           "gridcolor": "white",
           "linecolor": "white",
           "ticks": "",
           "title": {
            "standoff": 15
           },
           "zerolinecolor": "white",
           "zerolinewidth": 2
          }
         }
        },
        "title": {
         "text": "Parallel Coordinate Plot"
        }
       }
      }
     },
     "metadata": {},
     "output_type": "display_data"
    },
    {
     "data": {
      "application/vnd.plotly.v1+json": {
       "config": {
        "plotlyServerURL": "https://plot.ly"
       },
       "data": [
        {
         "mode": "markers",
         "name": "Objective Value",
         "type": "scatter",
         "x": [
          0,
          1,
          2,
          3,
          4,
          6,
          7,
          9,
          10,
          11,
          12,
          13,
          14,
          15,
          16,
          17,
          20,
          21,
          22,
          23,
          24,
          26
         ],
         "y": [
          82.36552429199219,
          92.1451187133789,
          21.622835159301758,
          98.97156524658203,
          85.41183471679688,
          53.254634857177734,
          50.32132339477539,
          58.641788482666016,
          44.99393081665039,
          45.18220520019531,
          45.09352493286133,
          25.120746612548828,
          34.32782745361328,
          41.849586486816406,
          46.40748596191406,
          45.1431770324707,
          36.98432922363281,
          40.14570999145508,
          22.91762924194336,
          45.09281921386719,
          28.630380630493164,
          35.943416595458984
         ]
        },
        {
         "name": "Best Value",
         "type": "scatter",
         "x": [
          0,
          1,
          2,
          3,
          4,
          6,
          7,
          9,
          10,
          11,
          12,
          13,
          14,
          15,
          16,
          17,
          20,
          21,
          22,
          23,
          24,
          26
         ],
         "y": [
          82.36552429199219,
          82.36552429199219,
          21.622835159301758,
          21.622835159301758,
          21.622835159301758,
          21.622835159301758,
          21.622835159301758,
          21.622835159301758,
          21.622835159301758,
          21.622835159301758,
          21.622835159301758,
          21.622835159301758,
          21.622835159301758,
          21.622835159301758,
          21.622835159301758,
          21.622835159301758,
          21.622835159301758,
          21.622835159301758,
          21.622835159301758,
          21.622835159301758,
          21.622835159301758,
          21.622835159301758
         ]
        }
       ],
       "layout": {
        "template": {
         "data": {
          "bar": [
           {
            "error_x": {
             "color": "#2a3f5f"
            },
            "error_y": {
             "color": "#2a3f5f"
            },
            "marker": {
             "line": {
              "color": "#E5ECF6",
              "width": 0.5
             },
             "pattern": {
              "fillmode": "overlay",
              "size": 10,
              "solidity": 0.2
             }
            },
            "type": "bar"
           }
          ],
          "barpolar": [
           {
            "marker": {
             "line": {
              "color": "#E5ECF6",
              "width": 0.5
             },
             "pattern": {
              "fillmode": "overlay",
              "size": 10,
              "solidity": 0.2
             }
            },
            "type": "barpolar"
           }
          ],
          "carpet": [
           {
            "aaxis": {
             "endlinecolor": "#2a3f5f",
             "gridcolor": "white",
             "linecolor": "white",
             "minorgridcolor": "white",
             "startlinecolor": "#2a3f5f"
            },
            "baxis": {
             "endlinecolor": "#2a3f5f",
             "gridcolor": "white",
             "linecolor": "white",
             "minorgridcolor": "white",
             "startlinecolor": "#2a3f5f"
            },
            "type": "carpet"
           }
          ],
          "choropleth": [
           {
            "colorbar": {
             "outlinewidth": 0,
             "ticks": ""
            },
            "type": "choropleth"
           }
          ],
          "contour": [
           {
            "colorbar": {
             "outlinewidth": 0,
             "ticks": ""
            },
            "colorscale": [
             [
              0,
              "#0d0887"
             ],
             [
              0.1111111111111111,
              "#46039f"
             ],
             [
              0.2222222222222222,
              "#7201a8"
             ],
             [
              0.3333333333333333,
              "#9c179e"
             ],
             [
              0.4444444444444444,
              "#bd3786"
             ],
             [
              0.5555555555555556,
              "#d8576b"
             ],
             [
              0.6666666666666666,
              "#ed7953"
             ],
             [
              0.7777777777777778,
              "#fb9f3a"
             ],
             [
              0.8888888888888888,
              "#fdca26"
             ],
             [
              1,
              "#f0f921"
             ]
            ],
            "type": "contour"
           }
          ],
          "contourcarpet": [
           {
            "colorbar": {
             "outlinewidth": 0,
             "ticks": ""
            },
            "type": "contourcarpet"
           }
          ],
          "heatmap": [
           {
            "colorbar": {
             "outlinewidth": 0,
             "ticks": ""
            },
            "colorscale": [
             [
              0,
              "#0d0887"
             ],
             [
              0.1111111111111111,
              "#46039f"
             ],
             [
              0.2222222222222222,
              "#7201a8"
             ],
             [
              0.3333333333333333,
              "#9c179e"
             ],
             [
              0.4444444444444444,
              "#bd3786"
             ],
             [
              0.5555555555555556,
              "#d8576b"
             ],
             [
              0.6666666666666666,
              "#ed7953"
             ],
             [
              0.7777777777777778,
              "#fb9f3a"
             ],
             [
              0.8888888888888888,
              "#fdca26"
             ],
             [
              1,
              "#f0f921"
             ]
            ],
            "type": "heatmap"
           }
          ],
          "heatmapgl": [
           {
            "colorbar": {
             "outlinewidth": 0,
             "ticks": ""
            },
            "colorscale": [
             [
              0,
              "#0d0887"
             ],
             [
              0.1111111111111111,
              "#46039f"
             ],
             [
              0.2222222222222222,
              "#7201a8"
             ],
             [
              0.3333333333333333,
              "#9c179e"
             ],
             [
              0.4444444444444444,
              "#bd3786"
             ],
             [
              0.5555555555555556,
              "#d8576b"
             ],
             [
              0.6666666666666666,
              "#ed7953"
             ],
             [
              0.7777777777777778,
              "#fb9f3a"
             ],
             [
              0.8888888888888888,
              "#fdca26"
             ],
             [
              1,
              "#f0f921"
             ]
            ],
            "type": "heatmapgl"
           }
          ],
          "histogram": [
           {
            "marker": {
             "pattern": {
              "fillmode": "overlay",
              "size": 10,
              "solidity": 0.2
             }
            },
            "type": "histogram"
           }
          ],
          "histogram2d": [
           {
            "colorbar": {
             "outlinewidth": 0,
             "ticks": ""
            },
            "colorscale": [
             [
              0,
              "#0d0887"
             ],
             [
              0.1111111111111111,
              "#46039f"
             ],
             [
              0.2222222222222222,
              "#7201a8"
             ],
             [
              0.3333333333333333,
              "#9c179e"
             ],
             [
              0.4444444444444444,
              "#bd3786"
             ],
             [
              0.5555555555555556,
              "#d8576b"
             ],
             [
              0.6666666666666666,
              "#ed7953"
             ],
             [
              0.7777777777777778,
              "#fb9f3a"
             ],
             [
              0.8888888888888888,
              "#fdca26"
             ],
             [
              1,
              "#f0f921"
             ]
            ],
            "type": "histogram2d"
           }
          ],
          "histogram2dcontour": [
           {
            "colorbar": {
             "outlinewidth": 0,
             "ticks": ""
            },
            "colorscale": [
             [
              0,
              "#0d0887"
             ],
             [
              0.1111111111111111,
              "#46039f"
             ],
             [
              0.2222222222222222,
              "#7201a8"
             ],
             [
              0.3333333333333333,
              "#9c179e"
             ],
             [
              0.4444444444444444,
              "#bd3786"
             ],
             [
              0.5555555555555556,
              "#d8576b"
             ],
             [
              0.6666666666666666,
              "#ed7953"
             ],
             [
              0.7777777777777778,
              "#fb9f3a"
             ],
             [
              0.8888888888888888,
              "#fdca26"
             ],
             [
              1,
              "#f0f921"
             ]
            ],
            "type": "histogram2dcontour"
           }
          ],
          "mesh3d": [
           {
            "colorbar": {
             "outlinewidth": 0,
             "ticks": ""
            },
            "type": "mesh3d"
           }
          ],
          "parcoords": [
           {
            "line": {
             "colorbar": {
              "outlinewidth": 0,
              "ticks": ""
             }
            },
            "type": "parcoords"
           }
          ],
          "pie": [
           {
            "automargin": true,
            "type": "pie"
           }
          ],
          "scatter": [
           {
            "fillpattern": {
             "fillmode": "overlay",
             "size": 10,
             "solidity": 0.2
            },
            "type": "scatter"
           }
          ],
          "scatter3d": [
           {
            "line": {
             "colorbar": {
              "outlinewidth": 0,
              "ticks": ""
             }
            },
            "marker": {
             "colorbar": {
              "outlinewidth": 0,
              "ticks": ""
             }
            },
            "type": "scatter3d"
           }
          ],
          "scattercarpet": [
           {
            "marker": {
             "colorbar": {
              "outlinewidth": 0,
              "ticks": ""
             }
            },
            "type": "scattercarpet"
           }
          ],
          "scattergeo": [
           {
            "marker": {
             "colorbar": {
              "outlinewidth": 0,
              "ticks": ""
             }
            },
            "type": "scattergeo"
           }
          ],
          "scattergl": [
           {
            "marker": {
             "colorbar": {
              "outlinewidth": 0,
              "ticks": ""
             }
            },
            "type": "scattergl"
           }
          ],
          "scattermapbox": [
           {
            "marker": {
             "colorbar": {
              "outlinewidth": 0,
              "ticks": ""
             }
            },
            "type": "scattermapbox"
           }
          ],
          "scatterpolar": [
           {
            "marker": {
             "colorbar": {
              "outlinewidth": 0,
              "ticks": ""
             }
            },
            "type": "scatterpolar"
           }
          ],
          "scatterpolargl": [
           {
            "marker": {
             "colorbar": {
              "outlinewidth": 0,
              "ticks": ""
             }
            },
            "type": "scatterpolargl"
           }
          ],
          "scatterternary": [
           {
            "marker": {
             "colorbar": {
              "outlinewidth": 0,
              "ticks": ""
             }
            },
            "type": "scatterternary"
           }
          ],
          "surface": [
           {
            "colorbar": {
             "outlinewidth": 0,
             "ticks": ""
            },
            "colorscale": [
             [
              0,
              "#0d0887"
             ],
             [
              0.1111111111111111,
              "#46039f"
             ],
             [
              0.2222222222222222,
              "#7201a8"
             ],
             [
              0.3333333333333333,
              "#9c179e"
             ],
             [
              0.4444444444444444,
              "#bd3786"
             ],
             [
              0.5555555555555556,
              "#d8576b"
             ],
             [
              0.6666666666666666,
              "#ed7953"
             ],
             [
              0.7777777777777778,
              "#fb9f3a"
             ],
             [
              0.8888888888888888,
              "#fdca26"
             ],
             [
              1,
              "#f0f921"
             ]
            ],
            "type": "surface"
           }
          ],
          "table": [
           {
            "cells": {
             "fill": {
              "color": "#EBF0F8"
             },
             "line": {
              "color": "white"
             }
            },
            "header": {
             "fill": {
              "color": "#C8D4E3"
             },
             "line": {
              "color": "white"
             }
            },
            "type": "table"
           }
          ]
         },
         "layout": {
          "annotationdefaults": {
           "arrowcolor": "#2a3f5f",
           "arrowhead": 0,
           "arrowwidth": 1
          },
          "autotypenumbers": "strict",
          "coloraxis": {
           "colorbar": {
            "outlinewidth": 0,
            "ticks": ""
           }
          },
          "colorscale": {
           "diverging": [
            [
             0,
             "#8e0152"
            ],
            [
             0.1,
             "#c51b7d"
            ],
            [
             0.2,
             "#de77ae"
            ],
            [
             0.3,
             "#f1b6da"
            ],
            [
             0.4,
             "#fde0ef"
            ],
            [
             0.5,
             "#f7f7f7"
            ],
            [
             0.6,
             "#e6f5d0"
            ],
            [
             0.7,
             "#b8e186"
            ],
            [
             0.8,
             "#7fbc41"
            ],
            [
             0.9,
             "#4d9221"
            ],
            [
             1,
             "#276419"
            ]
           ],
           "sequential": [
            [
             0,
             "#0d0887"
            ],
            [
             0.1111111111111111,
             "#46039f"
            ],
            [
             0.2222222222222222,
             "#7201a8"
            ],
            [
             0.3333333333333333,
             "#9c179e"
            ],
            [
             0.4444444444444444,
             "#bd3786"
            ],
            [
             0.5555555555555556,
             "#d8576b"
            ],
            [
             0.6666666666666666,
             "#ed7953"
            ],
            [
             0.7777777777777778,
             "#fb9f3a"
            ],
            [
             0.8888888888888888,
             "#fdca26"
            ],
            [
             1,
             "#f0f921"
            ]
           ],
           "sequentialminus": [
            [
             0,
             "#0d0887"
            ],
            [
             0.1111111111111111,
             "#46039f"
            ],
            [
             0.2222222222222222,
             "#7201a8"
            ],
            [
             0.3333333333333333,
             "#9c179e"
            ],
            [
             0.4444444444444444,
             "#bd3786"
            ],
            [
             0.5555555555555556,
             "#d8576b"
            ],
            [
             0.6666666666666666,
             "#ed7953"
            ],
            [
             0.7777777777777778,
             "#fb9f3a"
            ],
            [
             0.8888888888888888,
             "#fdca26"
            ],
            [
             1,
             "#f0f921"
            ]
           ]
          },
          "colorway": [
           "#636efa",
           "#EF553B",
           "#00cc96",
           "#ab63fa",
           "#FFA15A",
           "#19d3f3",
           "#FF6692",
           "#B6E880",
           "#FF97FF",
           "#FECB52"
          ],
          "font": {
           "color": "#2a3f5f"
          },
          "geo": {
           "bgcolor": "white",
           "lakecolor": "white",
           "landcolor": "#E5ECF6",
           "showlakes": true,
           "showland": true,
           "subunitcolor": "white"
          },
          "hoverlabel": {
           "align": "left"
          },
          "hovermode": "closest",
          "mapbox": {
           "style": "light"
          },
          "paper_bgcolor": "white",
          "plot_bgcolor": "#E5ECF6",
          "polar": {
           "angularaxis": {
            "gridcolor": "white",
            "linecolor": "white",
            "ticks": ""
           },
           "bgcolor": "#E5ECF6",
           "radialaxis": {
            "gridcolor": "white",
            "linecolor": "white",
            "ticks": ""
           }
          },
          "scene": {
           "xaxis": {
            "backgroundcolor": "#E5ECF6",
            "gridcolor": "white",
            "gridwidth": 2,
            "linecolor": "white",
            "showbackground": true,
            "ticks": "",
            "zerolinecolor": "white"
           },
           "yaxis": {
            "backgroundcolor": "#E5ECF6",
            "gridcolor": "white",
            "gridwidth": 2,
            "linecolor": "white",
            "showbackground": true,
            "ticks": "",
            "zerolinecolor": "white"
           },
           "zaxis": {
            "backgroundcolor": "#E5ECF6",
            "gridcolor": "white",
            "gridwidth": 2,
            "linecolor": "white",
            "showbackground": true,
            "ticks": "",
            "zerolinecolor": "white"
           }
          },
          "shapedefaults": {
           "line": {
            "color": "#2a3f5f"
           }
          },
          "ternary": {
           "aaxis": {
            "gridcolor": "white",
            "linecolor": "white",
            "ticks": ""
           },
           "baxis": {
            "gridcolor": "white",
            "linecolor": "white",
            "ticks": ""
           },
           "bgcolor": "#E5ECF6",
           "caxis": {
            "gridcolor": "white",
            "linecolor": "white",
            "ticks": ""
           }
          },
          "title": {
           "x": 0.05
          },
          "xaxis": {
           "automargin": true,
           "gridcolor": "white",
           "linecolor": "white",
           "ticks": "",
           "title": {
            "standoff": 15
           },
           "zerolinecolor": "white",
           "zerolinewidth": 2
          },
          "yaxis": {
           "automargin": true,
           "gridcolor": "white",
           "linecolor": "white",
           "ticks": "",
           "title": {
            "standoff": 15
           },
           "zerolinecolor": "white",
           "zerolinewidth": 2
          }
         }
        },
        "title": {
         "text": "Optimization History Plot"
        },
        "xaxis": {
         "title": {
          "text": "Trial"
         }
        },
        "yaxis": {
         "title": {
          "text": "Objective Value"
         }
        }
       }
      }
     },
     "metadata": {},
     "output_type": "display_data"
    },
    {
     "data": {
      "application/vnd.plotly.v1+json": {
       "config": {
        "plotlyServerURL": "https://plot.ly"
       },
       "data": [
        {
         "marker": {
          "color": [
           0,
           1,
           2,
           3,
           4,
           6,
           7,
           9,
           10,
           11,
           12,
           13,
           14,
           15,
           16,
           17,
           20,
           21,
           22,
           23,
           24,
           26
          ],
          "colorbar": {
           "title": {
            "text": "Trial"
           },
           "x": 1,
           "xpad": 40
          },
          "colorscale": [
           [
            0,
            "rgb(247,251,255)"
           ],
           [
            0.125,
            "rgb(222,235,247)"
           ],
           [
            0.25,
            "rgb(198,219,239)"
           ],
           [
            0.375,
            "rgb(158,202,225)"
           ],
           [
            0.5,
            "rgb(107,174,214)"
           ],
           [
            0.625,
            "rgb(66,146,198)"
           ],
           [
            0.75,
            "rgb(33,113,181)"
           ],
           [
            0.875,
            "rgb(8,81,156)"
           ],
           [
            1,
            "rgb(8,48,107)"
           ]
          ],
          "line": {
           "color": "Grey",
           "width": 0.5
          },
          "showscale": true
         },
         "mode": "markers",
         "showlegend": false,
         "type": "scatter",
         "x": [
          672,
          352,
          32,
          736,
          704,
          192,
          384,
          288,
          32,
          32,
          32,
          160,
          192,
          480,
          192,
          160,
          128,
          288,
          128,
          96,
          256,
          384
         ],
         "xaxis": "x",
         "y": [
          82.36552429199219,
          92.1451187133789,
          21.622835159301758,
          98.97156524658203,
          85.41183471679688,
          53.254634857177734,
          50.32132339477539,
          58.641788482666016,
          44.99393081665039,
          45.18220520019531,
          45.09352493286133,
          25.120746612548828,
          34.32782745361328,
          41.849586486816406,
          46.40748596191406,
          45.1431770324707,
          36.98432922363281,
          40.14570999145508,
          22.91762924194336,
          45.09281921386719,
          28.630380630493164,
          35.943416595458984
         ],
         "yaxis": "y"
        },
        {
         "marker": {
          "color": [
           0,
           1,
           2,
           3,
           4,
           6,
           7,
           9,
           10,
           11,
           12,
           13,
           14,
           15,
           16,
           17,
           20,
           21,
           22,
           23,
           24,
           26
          ],
          "colorbar": {
           "title": {
            "text": "Trial"
           },
           "x": 1,
           "xpad": 40
          },
          "colorscale": [
           [
            0,
            "rgb(247,251,255)"
           ],
           [
            0.125,
            "rgb(222,235,247)"
           ],
           [
            0.25,
            "rgb(198,219,239)"
           ],
           [
            0.375,
            "rgb(158,202,225)"
           ],
           [
            0.5,
            "rgb(107,174,214)"
           ],
           [
            0.625,
            "rgb(66,146,198)"
           ],
           [
            0.75,
            "rgb(33,113,181)"
           ],
           [
            0.875,
            "rgb(8,81,156)"
           ],
           [
            1,
            "rgb(8,48,107)"
           ]
          ],
          "line": {
           "color": "Grey",
           "width": 0.5
          },
          "showscale": false
         },
         "mode": "markers",
         "showlegend": false,
         "type": "scatter",
         "x": [
          0.8,
          0.6000000000000001,
          0,
          0.4,
          0.6000000000000001,
          0,
          0.6000000000000001,
          0.2,
          0,
          0,
          0,
          0.2,
          0.2,
          0.2,
          0.4,
          0.2,
          0.4,
          0.2,
          0.2,
          0,
          0.2,
          0.2
         ],
         "xaxis": "x2",
         "y": [
          82.36552429199219,
          92.1451187133789,
          21.622835159301758,
          98.97156524658203,
          85.41183471679688,
          53.254634857177734,
          50.32132339477539,
          58.641788482666016,
          44.99393081665039,
          45.18220520019531,
          45.09352493286133,
          25.120746612548828,
          34.32782745361328,
          41.849586486816406,
          46.40748596191406,
          45.1431770324707,
          36.98432922363281,
          40.14570999145508,
          22.91762924194336,
          45.09281921386719,
          28.630380630493164,
          35.943416595458984
         ],
         "yaxis": "y2"
        },
        {
         "marker": {
          "color": [
           0,
           1,
           2,
           3,
           4,
           6,
           7,
           9,
           10,
           11,
           12,
           13,
           14,
           15,
           16,
           17,
           20,
           21,
           22,
           23,
           24,
           26
          ],
          "colorbar": {
           "title": {
            "text": "Trial"
           },
           "x": 1,
           "xpad": 40
          },
          "colorscale": [
           [
            0,
            "rgb(247,251,255)"
           ],
           [
            0.125,
            "rgb(222,235,247)"
           ],
           [
            0.25,
            "rgb(198,219,239)"
           ],
           [
            0.375,
            "rgb(158,202,225)"
           ],
           [
            0.5,
            "rgb(107,174,214)"
           ],
           [
            0.625,
            "rgb(66,146,198)"
           ],
           [
            0.75,
            "rgb(33,113,181)"
           ],
           [
            0.875,
            "rgb(8,81,156)"
           ],
           [
            1,
            "rgb(8,48,107)"
           ]
          ],
          "line": {
           "color": "Grey",
           "width": 0.5
          },
          "showscale": false
         },
         "mode": "markers",
         "showlegend": false,
         "type": "scatter",
         "x": [
          7,
          9,
          1,
          5,
          7,
          7,
          1,
          1,
          3,
          3,
          3,
          1,
          1,
          1,
          5,
          1,
          1,
          1,
          1,
          3,
          1,
          1
         ],
         "xaxis": "x3",
         "y": [
          82.36552429199219,
          92.1451187133789,
          21.622835159301758,
          98.97156524658203,
          85.41183471679688,
          53.254634857177734,
          50.32132339477539,
          58.641788482666016,
          44.99393081665039,
          45.18220520019531,
          45.09352493286133,
          25.120746612548828,
          34.32782745361328,
          41.849586486816406,
          46.40748596191406,
          45.1431770324707,
          36.98432922363281,
          40.14570999145508,
          22.91762924194336,
          45.09281921386719,
          28.630380630493164,
          35.943416595458984
         ],
         "yaxis": "y3"
        },
        {
         "marker": {
          "color": [
           0,
           1,
           2,
           3,
           4,
           6,
           7,
           9,
           10,
           11,
           12,
           13,
           14,
           15,
           16,
           17,
           20,
           21,
           22,
           23,
           24,
           26
          ],
          "colorbar": {
           "title": {
            "text": "Trial"
           },
           "x": 1,
           "xpad": 40
          },
          "colorscale": [
           [
            0,
            "rgb(247,251,255)"
           ],
           [
            0.125,
            "rgb(222,235,247)"
           ],
           [
            0.25,
            "rgb(198,219,239)"
           ],
           [
            0.375,
            "rgb(158,202,225)"
           ],
           [
            0.5,
            "rgb(107,174,214)"
           ],
           [
            0.625,
            "rgb(66,146,198)"
           ],
           [
            0.75,
            "rgb(33,113,181)"
           ],
           [
            0.875,
            "rgb(8,81,156)"
           ],
           [
            1,
            "rgb(8,48,107)"
           ]
          ],
          "line": {
           "color": "Grey",
           "width": 0.5
          },
          "showscale": false
         },
         "mode": "markers",
         "showlegend": false,
         "type": "scatter",
         "x": [
          0.0007468390955123261,
          0.00014264850883233764,
          0.045984777597412985,
          0.00035201645447279444,
          0.0002972937500309882,
          0.004027500675328191,
          0.010541063263745237,
          0.0018237614100205862,
          0.09992580497334776,
          0.08414600114160813,
          0.07462788969744684,
          0.023866488879096096,
          0.011755843639116456,
          0.02247349511073817,
          0.024471312957418292,
          0.004240329117975164,
          0.010810608592183708,
          0.012155281413278372,
          0.04930476141866277,
          0.05207168294933508,
          0.04055399053905709,
          0.02220321881429524
         ],
         "xaxis": "x4",
         "y": [
          82.36552429199219,
          92.1451187133789,
          21.622835159301758,
          98.97156524658203,
          85.41183471679688,
          53.254634857177734,
          50.32132339477539,
          58.641788482666016,
          44.99393081665039,
          45.18220520019531,
          45.09352493286133,
          25.120746612548828,
          34.32782745361328,
          41.849586486816406,
          46.40748596191406,
          45.1431770324707,
          36.98432922363281,
          40.14570999145508,
          22.91762924194336,
          45.09281921386719,
          28.630380630493164,
          35.943416595458984
         ],
         "yaxis": "y4"
        },
        {
         "marker": {
          "color": [
           0,
           1,
           2,
           3,
           4,
           6,
           7,
           9,
           10,
           11,
           12,
           13,
           14,
           15,
           16,
           17,
           20,
           21,
           22,
           23,
           24,
           26
          ],
          "colorbar": {
           "title": {
            "text": "Trial"
           },
           "x": 1,
           "xpad": 40
          },
          "colorscale": [
           [
            0,
            "rgb(247,251,255)"
           ],
           [
            0.125,
            "rgb(222,235,247)"
           ],
           [
            0.25,
            "rgb(198,219,239)"
           ],
           [
            0.375,
            "rgb(158,202,225)"
           ],
           [
            0.5,
            "rgb(107,174,214)"
           ],
           [
            0.625,
            "rgb(66,146,198)"
           ],
           [
            0.75,
            "rgb(33,113,181)"
           ],
           [
            0.875,
            "rgb(8,81,156)"
           ],
           [
            1,
            "rgb(8,48,107)"
           ]
          ],
          "line": {
           "color": "Grey",
           "width": 0.5
          },
          "showscale": false
         },
         "mode": "markers",
         "showlegend": false,
         "type": "scatter",
         "x": [
          510,
          210,
          210,
          10,
          910,
          510,
          510,
          910,
          310,
          310,
          310,
          710,
          710,
          710,
          710,
          610,
          410,
          710,
          610,
          610,
          610,
          810
         ],
         "xaxis": "x5",
         "y": [
          82.36552429199219,
          92.1451187133789,
          21.622835159301758,
          98.97156524658203,
          85.41183471679688,
          53.254634857177734,
          50.32132339477539,
          58.641788482666016,
          44.99393081665039,
          45.18220520019531,
          45.09352493286133,
          25.120746612548828,
          34.32782745361328,
          41.849586486816406,
          46.40748596191406,
          45.1431770324707,
          36.98432922363281,
          40.14570999145508,
          22.91762924194336,
          45.09281921386719,
          28.630380630493164,
          35.943416595458984
         ],
         "yaxis": "y5"
        }
       ],
       "layout": {
        "template": {
         "data": {
          "bar": [
           {
            "error_x": {
             "color": "#2a3f5f"
            },
            "error_y": {
             "color": "#2a3f5f"
            },
            "marker": {
             "line": {
              "color": "#E5ECF6",
              "width": 0.5
             },
             "pattern": {
              "fillmode": "overlay",
              "size": 10,
              "solidity": 0.2
             }
            },
            "type": "bar"
           }
          ],
          "barpolar": [
           {
            "marker": {
             "line": {
              "color": "#E5ECF6",
              "width": 0.5
             },
             "pattern": {
              "fillmode": "overlay",
              "size": 10,
              "solidity": 0.2
             }
            },
            "type": "barpolar"
           }
          ],
          "carpet": [
           {
            "aaxis": {
             "endlinecolor": "#2a3f5f",
             "gridcolor": "white",
             "linecolor": "white",
             "minorgridcolor": "white",
             "startlinecolor": "#2a3f5f"
            },
            "baxis": {
             "endlinecolor": "#2a3f5f",
             "gridcolor": "white",
             "linecolor": "white",
             "minorgridcolor": "white",
             "startlinecolor": "#2a3f5f"
            },
            "type": "carpet"
           }
          ],
          "choropleth": [
           {
            "colorbar": {
             "outlinewidth": 0,
             "ticks": ""
            },
            "type": "choropleth"
           }
          ],
          "contour": [
           {
            "colorbar": {
             "outlinewidth": 0,
             "ticks": ""
            },
            "colorscale": [
             [
              0,
              "#0d0887"
             ],
             [
              0.1111111111111111,
              "#46039f"
             ],
             [
              0.2222222222222222,
              "#7201a8"
             ],
             [
              0.3333333333333333,
              "#9c179e"
             ],
             [
              0.4444444444444444,
              "#bd3786"
             ],
             [
              0.5555555555555556,
              "#d8576b"
             ],
             [
              0.6666666666666666,
              "#ed7953"
             ],
             [
              0.7777777777777778,
              "#fb9f3a"
             ],
             [
              0.8888888888888888,
              "#fdca26"
             ],
             [
              1,
              "#f0f921"
             ]
            ],
            "type": "contour"
           }
          ],
          "contourcarpet": [
           {
            "colorbar": {
             "outlinewidth": 0,
             "ticks": ""
            },
            "type": "contourcarpet"
           }
          ],
          "heatmap": [
           {
            "colorbar": {
             "outlinewidth": 0,
             "ticks": ""
            },
            "colorscale": [
             [
              0,
              "#0d0887"
             ],
             [
              0.1111111111111111,
              "#46039f"
             ],
             [
              0.2222222222222222,
              "#7201a8"
             ],
             [
              0.3333333333333333,
              "#9c179e"
             ],
             [
              0.4444444444444444,
              "#bd3786"
             ],
             [
              0.5555555555555556,
              "#d8576b"
             ],
             [
              0.6666666666666666,
              "#ed7953"
             ],
             [
              0.7777777777777778,
              "#fb9f3a"
             ],
             [
              0.8888888888888888,
              "#fdca26"
             ],
             [
              1,
              "#f0f921"
             ]
            ],
            "type": "heatmap"
           }
          ],
          "heatmapgl": [
           {
            "colorbar": {
             "outlinewidth": 0,
             "ticks": ""
            },
            "colorscale": [
             [
              0,
              "#0d0887"
             ],
             [
              0.1111111111111111,
              "#46039f"
             ],
             [
              0.2222222222222222,
              "#7201a8"
             ],
             [
              0.3333333333333333,
              "#9c179e"
             ],
             [
              0.4444444444444444,
              "#bd3786"
             ],
             [
              0.5555555555555556,
              "#d8576b"
             ],
             [
              0.6666666666666666,
              "#ed7953"
             ],
             [
              0.7777777777777778,
              "#fb9f3a"
             ],
             [
              0.8888888888888888,
              "#fdca26"
             ],
             [
              1,
              "#f0f921"
             ]
            ],
            "type": "heatmapgl"
           }
          ],
          "histogram": [
           {
            "marker": {
             "pattern": {
              "fillmode": "overlay",
              "size": 10,
              "solidity": 0.2
             }
            },
            "type": "histogram"
           }
          ],
          "histogram2d": [
           {
            "colorbar": {
             "outlinewidth": 0,
             "ticks": ""
            },
            "colorscale": [
             [
              0,
              "#0d0887"
             ],
             [
              0.1111111111111111,
              "#46039f"
             ],
             [
              0.2222222222222222,
              "#7201a8"
             ],
             [
              0.3333333333333333,
              "#9c179e"
             ],
             [
              0.4444444444444444,
              "#bd3786"
             ],
             [
              0.5555555555555556,
              "#d8576b"
             ],
             [
              0.6666666666666666,
              "#ed7953"
             ],
             [
              0.7777777777777778,
              "#fb9f3a"
             ],
             [
              0.8888888888888888,
              "#fdca26"
             ],
             [
              1,
              "#f0f921"
             ]
            ],
            "type": "histogram2d"
           }
          ],
          "histogram2dcontour": [
           {
            "colorbar": {
             "outlinewidth": 0,
             "ticks": ""
            },
            "colorscale": [
             [
              0,
              "#0d0887"
             ],
             [
              0.1111111111111111,
              "#46039f"
             ],
             [
              0.2222222222222222,
              "#7201a8"
             ],
             [
              0.3333333333333333,
              "#9c179e"
             ],
             [
              0.4444444444444444,
              "#bd3786"
             ],
             [
              0.5555555555555556,
              "#d8576b"
             ],
             [
              0.6666666666666666,
              "#ed7953"
             ],
             [
              0.7777777777777778,
              "#fb9f3a"
             ],
             [
              0.8888888888888888,
              "#fdca26"
             ],
             [
              1,
              "#f0f921"
             ]
            ],
            "type": "histogram2dcontour"
           }
          ],
          "mesh3d": [
           {
            "colorbar": {
             "outlinewidth": 0,
             "ticks": ""
            },
            "type": "mesh3d"
           }
          ],
          "parcoords": [
           {
            "line": {
             "colorbar": {
              "outlinewidth": 0,
              "ticks": ""
             }
            },
            "type": "parcoords"
           }
          ],
          "pie": [
           {
            "automargin": true,
            "type": "pie"
           }
          ],
          "scatter": [
           {
            "fillpattern": {
             "fillmode": "overlay",
             "size": 10,
             "solidity": 0.2
            },
            "type": "scatter"
           }
          ],
          "scatter3d": [
           {
            "line": {
             "colorbar": {
              "outlinewidth": 0,
              "ticks": ""
             }
            },
            "marker": {
             "colorbar": {
              "outlinewidth": 0,
              "ticks": ""
             }
            },
            "type": "scatter3d"
           }
          ],
          "scattercarpet": [
           {
            "marker": {
             "colorbar": {
              "outlinewidth": 0,
              "ticks": ""
             }
            },
            "type": "scattercarpet"
           }
          ],
          "scattergeo": [
           {
            "marker": {
             "colorbar": {
              "outlinewidth": 0,
              "ticks": ""
             }
            },
            "type": "scattergeo"
           }
          ],
          "scattergl": [
           {
            "marker": {
             "colorbar": {
              "outlinewidth": 0,
              "ticks": ""
             }
            },
            "type": "scattergl"
           }
          ],
          "scattermapbox": [
           {
            "marker": {
             "colorbar": {
              "outlinewidth": 0,
              "ticks": ""
             }
            },
            "type": "scattermapbox"
           }
          ],
          "scatterpolar": [
           {
            "marker": {
             "colorbar": {
              "outlinewidth": 0,
              "ticks": ""
             }
            },
            "type": "scatterpolar"
           }
          ],
          "scatterpolargl": [
           {
            "marker": {
             "colorbar": {
              "outlinewidth": 0,
              "ticks": ""
             }
            },
            "type": "scatterpolargl"
           }
          ],
          "scatterternary": [
           {
            "marker": {
             "colorbar": {
              "outlinewidth": 0,
              "ticks": ""
             }
            },
            "type": "scatterternary"
           }
          ],
          "surface": [
           {
            "colorbar": {
             "outlinewidth": 0,
             "ticks": ""
            },
            "colorscale": [
             [
              0,
              "#0d0887"
             ],
             [
              0.1111111111111111,
              "#46039f"
             ],
             [
              0.2222222222222222,
              "#7201a8"
             ],
             [
              0.3333333333333333,
              "#9c179e"
             ],
             [
              0.4444444444444444,
              "#bd3786"
             ],
             [
              0.5555555555555556,
              "#d8576b"
             ],
             [
              0.6666666666666666,
              "#ed7953"
             ],
             [
              0.7777777777777778,
              "#fb9f3a"
             ],
             [
              0.8888888888888888,
              "#fdca26"
             ],
             [
              1,
              "#f0f921"
             ]
            ],
            "type": "surface"
           }
          ],
          "table": [
           {
            "cells": {
             "fill": {
              "color": "#EBF0F8"
             },
             "line": {
              "color": "white"
             }
            },
            "header": {
             "fill": {
              "color": "#C8D4E3"
             },
             "line": {
              "color": "white"
             }
            },
            "type": "table"
           }
          ]
         },
         "layout": {
          "annotationdefaults": {
           "arrowcolor": "#2a3f5f",
           "arrowhead": 0,
           "arrowwidth": 1
          },
          "autotypenumbers": "strict",
          "coloraxis": {
           "colorbar": {
            "outlinewidth": 0,
            "ticks": ""
           }
          },
          "colorscale": {
           "diverging": [
            [
             0,
             "#8e0152"
            ],
            [
             0.1,
             "#c51b7d"
            ],
            [
             0.2,
             "#de77ae"
            ],
            [
             0.3,
             "#f1b6da"
            ],
            [
             0.4,
             "#fde0ef"
            ],
            [
             0.5,
             "#f7f7f7"
            ],
            [
             0.6,
             "#e6f5d0"
            ],
            [
             0.7,
             "#b8e186"
            ],
            [
             0.8,
             "#7fbc41"
            ],
            [
             0.9,
             "#4d9221"
            ],
            [
             1,
             "#276419"
            ]
           ],
           "sequential": [
            [
             0,
             "#0d0887"
            ],
            [
             0.1111111111111111,
             "#46039f"
            ],
            [
             0.2222222222222222,
             "#7201a8"
            ],
            [
             0.3333333333333333,
             "#9c179e"
            ],
            [
             0.4444444444444444,
             "#bd3786"
            ],
            [
             0.5555555555555556,
             "#d8576b"
            ],
            [
             0.6666666666666666,
             "#ed7953"
            ],
            [
             0.7777777777777778,
             "#fb9f3a"
            ],
            [
             0.8888888888888888,
             "#fdca26"
            ],
            [
             1,
             "#f0f921"
            ]
           ],
           "sequentialminus": [
            [
             0,
             "#0d0887"
            ],
            [
             0.1111111111111111,
             "#46039f"
            ],
            [
             0.2222222222222222,
             "#7201a8"
            ],
            [
             0.3333333333333333,
             "#9c179e"
            ],
            [
             0.4444444444444444,
             "#bd3786"
            ],
            [
             0.5555555555555556,
             "#d8576b"
            ],
            [
             0.6666666666666666,
             "#ed7953"
            ],
            [
             0.7777777777777778,
             "#fb9f3a"
            ],
            [
             0.8888888888888888,
             "#fdca26"
            ],
            [
             1,
             "#f0f921"
            ]
           ]
          },
          "colorway": [
           "#636efa",
           "#EF553B",
           "#00cc96",
           "#ab63fa",
           "#FFA15A",
           "#19d3f3",
           "#FF6692",
           "#B6E880",
           "#FF97FF",
           "#FECB52"
          ],
          "font": {
           "color": "#2a3f5f"
          },
          "geo": {
           "bgcolor": "white",
           "lakecolor": "white",
           "landcolor": "#E5ECF6",
           "showlakes": true,
           "showland": true,
           "subunitcolor": "white"
          },
          "hoverlabel": {
           "align": "left"
          },
          "hovermode": "closest",
          "mapbox": {
           "style": "light"
          },
          "paper_bgcolor": "white",
          "plot_bgcolor": "#E5ECF6",
          "polar": {
           "angularaxis": {
            "gridcolor": "white",
            "linecolor": "white",
            "ticks": ""
           },
           "bgcolor": "#E5ECF6",
           "radialaxis": {
            "gridcolor": "white",
            "linecolor": "white",
            "ticks": ""
           }
          },
          "scene": {
           "xaxis": {
            "backgroundcolor": "#E5ECF6",
            "gridcolor": "white",
            "gridwidth": 2,
            "linecolor": "white",
            "showbackground": true,
            "ticks": "",
            "zerolinecolor": "white"
           },
           "yaxis": {
            "backgroundcolor": "#E5ECF6",
            "gridcolor": "white",
            "gridwidth": 2,
            "linecolor": "white",
            "showbackground": true,
            "ticks": "",
            "zerolinecolor": "white"
           },
           "zaxis": {
            "backgroundcolor": "#E5ECF6",
            "gridcolor": "white",
            "gridwidth": 2,
            "linecolor": "white",
            "showbackground": true,
            "ticks": "",
            "zerolinecolor": "white"
           }
          },
          "shapedefaults": {
           "line": {
            "color": "#2a3f5f"
           }
          },
          "ternary": {
           "aaxis": {
            "gridcolor": "white",
            "linecolor": "white",
            "ticks": ""
           },
           "baxis": {
            "gridcolor": "white",
            "linecolor": "white",
            "ticks": ""
           },
           "bgcolor": "#E5ECF6",
           "caxis": {
            "gridcolor": "white",
            "linecolor": "white",
            "ticks": ""
           }
          },
          "title": {
           "x": 0.05
          },
          "xaxis": {
           "automargin": true,
           "gridcolor": "white",
           "linecolor": "white",
           "ticks": "",
           "title": {
            "standoff": 15
           },
           "zerolinecolor": "white",
           "zerolinewidth": 2
          },
          "yaxis": {
           "automargin": true,
           "gridcolor": "white",
           "linecolor": "white",
           "ticks": "",
           "title": {
            "standoff": 15
           },
           "zerolinecolor": "white",
           "zerolinewidth": 2
          }
         }
        },
        "title": {
         "text": "Slice Plot"
        },
        "width": 1500,
        "xaxis": {
         "anchor": "y",
         "domain": [
          0,
          0.16799999999999998
         ],
         "title": {
          "text": "bat"
         }
        },
        "xaxis2": {
         "anchor": "y2",
         "domain": [
          0.208,
          0.376
         ],
         "title": {
          "text": "dropout"
         }
        },
        "xaxis3": {
         "anchor": "y3",
         "domain": [
          0.416,
          0.584
         ],
         "title": {
          "text": "lay"
         }
        },
        "xaxis4": {
         "anchor": "y4",
         "domain": [
          0.624,
          0.792
         ],
         "title": {
          "text": "lr"
         },
         "type": "log"
        },
        "xaxis5": {
         "anchor": "y5",
         "domain": [
          0.832,
          1
         ],
         "title": {
          "text": "neu"
         }
        },
        "yaxis": {
         "anchor": "x",
         "domain": [
          0,
          1
         ],
         "title": {
          "text": "Objective Value"
         }
        },
        "yaxis2": {
         "anchor": "x2",
         "domain": [
          0,
          1
         ],
         "matches": "y",
         "showticklabels": false
        },
        "yaxis3": {
         "anchor": "x3",
         "domain": [
          0,
          1
         ],
         "matches": "y",
         "showticklabels": false
        },
        "yaxis4": {
         "anchor": "x4",
         "domain": [
          0,
          1
         ],
         "matches": "y",
         "showticklabels": false
        },
        "yaxis5": {
         "anchor": "x5",
         "domain": [
          0,
          1
         ],
         "matches": "y",
         "showticklabels": false
        }
       }
      }
     },
     "metadata": {},
     "output_type": "display_data"
    },
    {
     "data": {
      "application/vnd.plotly.v1+json": {
       "config": {
        "plotlyServerURL": "https://plot.ly"
       },
       "data": [
        {
         "cliponaxis": false,
         "hovertemplate": [
          "neu (IntDistribution): 0.07893176934922923<extra></extra>",
          "dropout (FloatDistribution): 0.10626447194584397<extra></extra>",
          "bat (IntDistribution): 0.1158744019105534<extra></extra>",
          "lay (IntDistribution): 0.3362056502717666<extra></extra>",
          "lr (FloatDistribution): 0.3627237065226068<extra></extra>"
         ],
         "marker": {
          "color": "rgb(66,146,198)"
         },
         "orientation": "h",
         "text": [
          "0.08",
          "0.11",
          "0.12",
          "0.34",
          "0.36"
         ],
         "textposition": "outside",
         "type": "bar",
         "x": [
          0.07893176934922923,
          0.10626447194584397,
          0.1158744019105534,
          0.3362056502717666,
          0.3627237065226068
         ],
         "y": [
          "neu",
          "dropout",
          "bat",
          "lay",
          "lr"
         ]
        }
       ],
       "layout": {
        "showlegend": false,
        "template": {
         "data": {
          "bar": [
           {
            "error_x": {
             "color": "#2a3f5f"
            },
            "error_y": {
             "color": "#2a3f5f"
            },
            "marker": {
             "line": {
              "color": "#E5ECF6",
              "width": 0.5
             },
             "pattern": {
              "fillmode": "overlay",
              "size": 10,
              "solidity": 0.2
             }
            },
            "type": "bar"
           }
          ],
          "barpolar": [
           {
            "marker": {
             "line": {
              "color": "#E5ECF6",
              "width": 0.5
             },
             "pattern": {
              "fillmode": "overlay",
              "size": 10,
              "solidity": 0.2
             }
            },
            "type": "barpolar"
           }
          ],
          "carpet": [
           {
            "aaxis": {
             "endlinecolor": "#2a3f5f",
             "gridcolor": "white",
             "linecolor": "white",
             "minorgridcolor": "white",
             "startlinecolor": "#2a3f5f"
            },
            "baxis": {
             "endlinecolor": "#2a3f5f",
             "gridcolor": "white",
             "linecolor": "white",
             "minorgridcolor": "white",
             "startlinecolor": "#2a3f5f"
            },
            "type": "carpet"
           }
          ],
          "choropleth": [
           {
            "colorbar": {
             "outlinewidth": 0,
             "ticks": ""
            },
            "type": "choropleth"
           }
          ],
          "contour": [
           {
            "colorbar": {
             "outlinewidth": 0,
             "ticks": ""
            },
            "colorscale": [
             [
              0,
              "#0d0887"
             ],
             [
              0.1111111111111111,
              "#46039f"
             ],
             [
              0.2222222222222222,
              "#7201a8"
             ],
             [
              0.3333333333333333,
              "#9c179e"
             ],
             [
              0.4444444444444444,
              "#bd3786"
             ],
             [
              0.5555555555555556,
              "#d8576b"
             ],
             [
              0.6666666666666666,
              "#ed7953"
             ],
             [
              0.7777777777777778,
              "#fb9f3a"
             ],
             [
              0.8888888888888888,
              "#fdca26"
             ],
             [
              1,
              "#f0f921"
             ]
            ],
            "type": "contour"
           }
          ],
          "contourcarpet": [
           {
            "colorbar": {
             "outlinewidth": 0,
             "ticks": ""
            },
            "type": "contourcarpet"
           }
          ],
          "heatmap": [
           {
            "colorbar": {
             "outlinewidth": 0,
             "ticks": ""
            },
            "colorscale": [
             [
              0,
              "#0d0887"
             ],
             [
              0.1111111111111111,
              "#46039f"
             ],
             [
              0.2222222222222222,
              "#7201a8"
             ],
             [
              0.3333333333333333,
              "#9c179e"
             ],
             [
              0.4444444444444444,
              "#bd3786"
             ],
             [
              0.5555555555555556,
              "#d8576b"
             ],
             [
              0.6666666666666666,
              "#ed7953"
             ],
             [
              0.7777777777777778,
              "#fb9f3a"
             ],
             [
              0.8888888888888888,
              "#fdca26"
             ],
             [
              1,
              "#f0f921"
             ]
            ],
            "type": "heatmap"
           }
          ],
          "heatmapgl": [
           {
            "colorbar": {
             "outlinewidth": 0,
             "ticks": ""
            },
            "colorscale": [
             [
              0,
              "#0d0887"
             ],
             [
              0.1111111111111111,
              "#46039f"
             ],
             [
              0.2222222222222222,
              "#7201a8"
             ],
             [
              0.3333333333333333,
              "#9c179e"
             ],
             [
              0.4444444444444444,
              "#bd3786"
             ],
             [
              0.5555555555555556,
              "#d8576b"
             ],
             [
              0.6666666666666666,
              "#ed7953"
             ],
             [
              0.7777777777777778,
              "#fb9f3a"
             ],
             [
              0.8888888888888888,
              "#fdca26"
             ],
             [
              1,
              "#f0f921"
             ]
            ],
            "type": "heatmapgl"
           }
          ],
          "histogram": [
           {
            "marker": {
             "pattern": {
              "fillmode": "overlay",
              "size": 10,
              "solidity": 0.2
             }
            },
            "type": "histogram"
           }
          ],
          "histogram2d": [
           {
            "colorbar": {
             "outlinewidth": 0,
             "ticks": ""
            },
            "colorscale": [
             [
              0,
              "#0d0887"
             ],
             [
              0.1111111111111111,
              "#46039f"
             ],
             [
              0.2222222222222222,
              "#7201a8"
             ],
             [
              0.3333333333333333,
              "#9c179e"
             ],
             [
              0.4444444444444444,
              "#bd3786"
             ],
             [
              0.5555555555555556,
              "#d8576b"
             ],
             [
              0.6666666666666666,
              "#ed7953"
             ],
             [
              0.7777777777777778,
              "#fb9f3a"
             ],
             [
              0.8888888888888888,
              "#fdca26"
             ],
             [
              1,
              "#f0f921"
             ]
            ],
            "type": "histogram2d"
           }
          ],
          "histogram2dcontour": [
           {
            "colorbar": {
             "outlinewidth": 0,
             "ticks": ""
            },
            "colorscale": [
             [
              0,
              "#0d0887"
             ],
             [
              0.1111111111111111,
              "#46039f"
             ],
             [
              0.2222222222222222,
              "#7201a8"
             ],
             [
              0.3333333333333333,
              "#9c179e"
             ],
             [
              0.4444444444444444,
              "#bd3786"
             ],
             [
              0.5555555555555556,
              "#d8576b"
             ],
             [
              0.6666666666666666,
              "#ed7953"
             ],
             [
              0.7777777777777778,
              "#fb9f3a"
             ],
             [
              0.8888888888888888,
              "#fdca26"
             ],
             [
              1,
              "#f0f921"
             ]
            ],
            "type": "histogram2dcontour"
           }
          ],
          "mesh3d": [
           {
            "colorbar": {
             "outlinewidth": 0,
             "ticks": ""
            },
            "type": "mesh3d"
           }
          ],
          "parcoords": [
           {
            "line": {
             "colorbar": {
              "outlinewidth": 0,
              "ticks": ""
             }
            },
            "type": "parcoords"
           }
          ],
          "pie": [
           {
            "automargin": true,
            "type": "pie"
           }
          ],
          "scatter": [
           {
            "fillpattern": {
             "fillmode": "overlay",
             "size": 10,
             "solidity": 0.2
            },
            "type": "scatter"
           }
          ],
          "scatter3d": [
           {
            "line": {
             "colorbar": {
              "outlinewidth": 0,
              "ticks": ""
             }
            },
            "marker": {
             "colorbar": {
              "outlinewidth": 0,
              "ticks": ""
             }
            },
            "type": "scatter3d"
           }
          ],
          "scattercarpet": [
           {
            "marker": {
             "colorbar": {
              "outlinewidth": 0,
              "ticks": ""
             }
            },
            "type": "scattercarpet"
           }
          ],
          "scattergeo": [
           {
            "marker": {
             "colorbar": {
              "outlinewidth": 0,
              "ticks": ""
             }
            },
            "type": "scattergeo"
           }
          ],
          "scattergl": [
           {
            "marker": {
             "colorbar": {
              "outlinewidth": 0,
              "ticks": ""
             }
            },
            "type": "scattergl"
           }
          ],
          "scattermapbox": [
           {
            "marker": {
             "colorbar": {
              "outlinewidth": 0,
              "ticks": ""
             }
            },
            "type": "scattermapbox"
           }
          ],
          "scatterpolar": [
           {
            "marker": {
             "colorbar": {
              "outlinewidth": 0,
              "ticks": ""
             }
            },
            "type": "scatterpolar"
           }
          ],
          "scatterpolargl": [
           {
            "marker": {
             "colorbar": {
              "outlinewidth": 0,
              "ticks": ""
             }
            },
            "type": "scatterpolargl"
           }
          ],
          "scatterternary": [
           {
            "marker": {
             "colorbar": {
              "outlinewidth": 0,
              "ticks": ""
             }
            },
            "type": "scatterternary"
           }
          ],
          "surface": [
           {
            "colorbar": {
             "outlinewidth": 0,
             "ticks": ""
            },
            "colorscale": [
             [
              0,
              "#0d0887"
             ],
             [
              0.1111111111111111,
              "#46039f"
             ],
             [
              0.2222222222222222,
              "#7201a8"
             ],
             [
              0.3333333333333333,
              "#9c179e"
             ],
             [
              0.4444444444444444,
              "#bd3786"
             ],
             [
              0.5555555555555556,
              "#d8576b"
             ],
             [
              0.6666666666666666,
              "#ed7953"
             ],
             [
              0.7777777777777778,
              "#fb9f3a"
             ],
             [
              0.8888888888888888,
              "#fdca26"
             ],
             [
              1,
              "#f0f921"
             ]
            ],
            "type": "surface"
           }
          ],
          "table": [
           {
            "cells": {
             "fill": {
              "color": "#EBF0F8"
             },
             "line": {
              "color": "white"
             }
            },
            "header": {
             "fill": {
              "color": "#C8D4E3"
             },
             "line": {
              "color": "white"
             }
            },
            "type": "table"
           }
          ]
         },
         "layout": {
          "annotationdefaults": {
           "arrowcolor": "#2a3f5f",
           "arrowhead": 0,
           "arrowwidth": 1
          },
          "autotypenumbers": "strict",
          "coloraxis": {
           "colorbar": {
            "outlinewidth": 0,
            "ticks": ""
           }
          },
          "colorscale": {
           "diverging": [
            [
             0,
             "#8e0152"
            ],
            [
             0.1,
             "#c51b7d"
            ],
            [
             0.2,
             "#de77ae"
            ],
            [
             0.3,
             "#f1b6da"
            ],
            [
             0.4,
             "#fde0ef"
            ],
            [
             0.5,
             "#f7f7f7"
            ],
            [
             0.6,
             "#e6f5d0"
            ],
            [
             0.7,
             "#b8e186"
            ],
            [
             0.8,
             "#7fbc41"
            ],
            [
             0.9,
             "#4d9221"
            ],
            [
             1,
             "#276419"
            ]
           ],
           "sequential": [
            [
             0,
             "#0d0887"
            ],
            [
             0.1111111111111111,
             "#46039f"
            ],
            [
             0.2222222222222222,
             "#7201a8"
            ],
            [
             0.3333333333333333,
             "#9c179e"
            ],
            [
             0.4444444444444444,
             "#bd3786"
            ],
            [
             0.5555555555555556,
             "#d8576b"
            ],
            [
             0.6666666666666666,
             "#ed7953"
            ],
            [
             0.7777777777777778,
             "#fb9f3a"
            ],
            [
             0.8888888888888888,
             "#fdca26"
            ],
            [
             1,
             "#f0f921"
            ]
           ],
           "sequentialminus": [
            [
             0,
             "#0d0887"
            ],
            [
             0.1111111111111111,
             "#46039f"
            ],
            [
             0.2222222222222222,
             "#7201a8"
            ],
            [
             0.3333333333333333,
             "#9c179e"
            ],
            [
             0.4444444444444444,
             "#bd3786"
            ],
            [
             0.5555555555555556,
             "#d8576b"
            ],
            [
             0.6666666666666666,
             "#ed7953"
            ],
            [
             0.7777777777777778,
             "#fb9f3a"
            ],
            [
             0.8888888888888888,
             "#fdca26"
            ],
            [
             1,
             "#f0f921"
            ]
           ]
          },
          "colorway": [
           "#636efa",
           "#EF553B",
           "#00cc96",
           "#ab63fa",
           "#FFA15A",
           "#19d3f3",
           "#FF6692",
           "#B6E880",
           "#FF97FF",
           "#FECB52"
          ],
          "font": {
           "color": "#2a3f5f"
          },
          "geo": {
           "bgcolor": "white",
           "lakecolor": "white",
           "landcolor": "#E5ECF6",
           "showlakes": true,
           "showland": true,
           "subunitcolor": "white"
          },
          "hoverlabel": {
           "align": "left"
          },
          "hovermode": "closest",
          "mapbox": {
           "style": "light"
          },
          "paper_bgcolor": "white",
          "plot_bgcolor": "#E5ECF6",
          "polar": {
           "angularaxis": {
            "gridcolor": "white",
            "linecolor": "white",
            "ticks": ""
           },
           "bgcolor": "#E5ECF6",
           "radialaxis": {
            "gridcolor": "white",
            "linecolor": "white",
            "ticks": ""
           }
          },
          "scene": {
           "xaxis": {
            "backgroundcolor": "#E5ECF6",
            "gridcolor": "white",
            "gridwidth": 2,
            "linecolor": "white",
            "showbackground": true,
            "ticks": "",
            "zerolinecolor": "white"
           },
           "yaxis": {
            "backgroundcolor": "#E5ECF6",
            "gridcolor": "white",
            "gridwidth": 2,
            "linecolor": "white",
            "showbackground": true,
            "ticks": "",
            "zerolinecolor": "white"
           },
           "zaxis": {
            "backgroundcolor": "#E5ECF6",
            "gridcolor": "white",
            "gridwidth": 2,
            "linecolor": "white",
            "showbackground": true,
            "ticks": "",
            "zerolinecolor": "white"
           }
          },
          "shapedefaults": {
           "line": {
            "color": "#2a3f5f"
           }
          },
          "ternary": {
           "aaxis": {
            "gridcolor": "white",
            "linecolor": "white",
            "ticks": ""
           },
           "baxis": {
            "gridcolor": "white",
            "linecolor": "white",
            "ticks": ""
           },
           "bgcolor": "#E5ECF6",
           "caxis": {
            "gridcolor": "white",
            "linecolor": "white",
            "ticks": ""
           }
          },
          "title": {
           "x": 0.05
          },
          "xaxis": {
           "automargin": true,
           "gridcolor": "white",
           "linecolor": "white",
           "ticks": "",
           "title": {
            "standoff": 15
           },
           "zerolinecolor": "white",
           "zerolinewidth": 2
          },
          "yaxis": {
           "automargin": true,
           "gridcolor": "white",
           "linecolor": "white",
           "ticks": "",
           "title": {
            "standoff": 15
           },
           "zerolinecolor": "white",
           "zerolinewidth": 2
          }
         }
        },
        "title": {
         "text": "Hyperparameter Importances"
        },
        "xaxis": {
         "title": {
          "text": "Importance for Objective Value"
         }
        },
        "yaxis": {
         "title": {
          "text": "Hyperparameter"
         }
        }
       }
      }
     },
     "metadata": {},
     "output_type": "display_data"
    }
   ],
   "source": [
    "from IPython.display import display\n",
    "fig = optuna.visualization.plot_parallel_coordinate(study)\n",
    "display(fig)\n",
    "fig = optuna.visualization.plot_optimization_history(study)\n",
    "display(fig)\n",
    "fig = optuna.visualization.plot_slice(study)\n",
    "display(fig)\n",
    "fig = optuna.visualization.plot_param_importances(study)\n",
    "display(fig)"
   ]
  },
  {
   "cell_type": "code",
   "execution_count": 19,
   "metadata": {},
   "outputs": [
    {
     "name": "stdout",
     "output_type": "stream",
     "text": [
      "  Best trial:  FrozenTrial(number=2, state=TrialState.COMPLETE, values=[21.622835159301758], datetime_start=datetime.datetime(2024, 4, 2, 18, 18, 19, 84847), datetime_complete=datetime.datetime(2024, 4, 2, 18, 22, 58, 131389), params={'neu': 210, 'lay': 1, 'bat': 32, 'lr': 0.045984777597412985, 'dropout': 0.0}, user_attrs={}, system_attrs={}, intermediate_values={30: 21.622835159301758}, distributions={'neu': IntDistribution(high=910, log=False, low=10, step=100), 'lay': IntDistribution(high=9, log=False, low=1, step=2), 'bat': IntDistribution(high=1024, log=False, low=32, step=32), 'lr': FloatDistribution(high=0.1, log=True, low=1e-05, step=None), 'dropout': FloatDistribution(high=0.8, log=False, low=0.0, step=0.2)}, trial_id=2, value=None)\n"
     ]
    }
   ],
   "source": [
    "print(\"  Best trial: \", trial)"
   ]
  }
 ],
 "metadata": {
  "kernelspec": {
   "display_name": "deepar-gpu",
   "language": "python",
   "name": "python3"
  },
  "language_info": {
   "codemirror_mode": {
    "name": "ipython",
    "version": 3
   },
   "file_extension": ".py",
   "mimetype": "text/x-python",
   "name": "python",
   "nbconvert_exporter": "python",
   "pygments_lexer": "ipython3",
   "version": "3.10.9"
  }
 },
 "nbformat": 4,
 "nbformat_minor": 2
}
